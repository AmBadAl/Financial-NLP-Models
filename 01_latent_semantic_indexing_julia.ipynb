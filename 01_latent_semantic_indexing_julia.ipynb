{
 "cells": [
  {
   "cell_type": "markdown",
   "metadata": {
    "slideshow": {
     "slide_type": "slide"
    }
   },
   "source": [
    "# Topic Modeling: Latent Semantic Analysis/Indexing"
   ]
  },
  {
   "cell_type": "markdown",
   "metadata": {},
   "source": [
    "Latent Semantic Analysis set out to improve the results of queries that omitted relevant documents containing synonyms of query terms. Its aimed to model the relationships between documents and terms to be able to predict that a term should be associated with a document, even though, because of variability in word use, no such association was observed.\n",
    "\n",
    "LSI uses linear algebra to find a given number k of latent topics by decomposing the DTM. More specifically, it uses the Singular Value Decomposition (SVD) to find the best lower-rank DTM approximation using k singular values & vectors. In other words, LSI is an application of the unsupervised learning techniques of dimensionality reduction we encountered in chapter 12 (with some additional detail). The authors experimented with hierarchical clustering but found it too restrictive to explicitly model the document-topic and topic-term relationships or capture associations of documents or terms with several topics."
   ]
  },
  {
   "cell_type": "markdown",
   "metadata": {
    "slideshow": {
     "slide_type": "slide"
    }
   },
   "source": [
    "## Imports & Settings"
   ]
  },
  {
   "cell_type": "code",
   "execution_count": 1,
   "metadata": {},
   "outputs": [],
   "source": [
    "using Pkg"
   ]
  },
  {
   "cell_type": "code",
   "execution_count": 2,
   "metadata": {},
   "outputs": [],
   "source": [
    "using PyCall\n",
    "using Conda"
   ]
  },
  {
   "cell_type": "code",
   "execution_count": 3,
   "metadata": {
    "scrolled": true
   },
   "outputs": [],
   "source": [
    "#Pkg.add(\"Glob\")\n",
    "#Pkg.add(\"TextAnalysis\")\n",
    "#Pkg.add(\"DataFrames\")\n",
    "#Pkg.add(\"Plots\")\n",
    "#Pkg.add(\"StatsPlots\")\n",
    "#Pkg.add(\"Random\")\n",
    "#Pkg.add(\"StringEncodings\")\n",
    "#Pkg.add(\"ScikitLearn\")"
   ]
  },
  {
   "cell_type": "code",
   "execution_count": 4,
   "metadata": {},
   "outputs": [],
   "source": [
    "using Glob\n",
    "using TextAnalysis\n",
    "using DataFrames\n",
    "using Plots\n",
    "using StatsPlots\n",
    "using Seaborn\n",
    "using StringEncodings\n",
    "using Random"
   ]
  },
  {
   "cell_type": "code",
   "execution_count": 5,
   "metadata": {},
   "outputs": [],
   "source": [
    "using ScikitLearn"
   ]
  },
  {
   "cell_type": "code",
   "execution_count": 6,
   "metadata": {},
   "outputs": [],
   "source": [
    "using ScikitLearn: @sk_import"
   ]
  },
  {
   "cell_type": "code",
   "execution_count": 7,
   "metadata": {},
   "outputs": [
    {
     "name": "stderr",
     "output_type": "stream",
     "text": [
      "┌ Warning: Module model_selection has been ported to Julia - try `import ScikitLearn: CrossValidation` instead\n",
      "└ @ ScikitLearn.Skcore C:\\Users\\Amirreza\\.julia\\packages\\ScikitLearn\\Kn82b\\src\\Skcore.jl:169\n"
     ]
    },
    {
     "data": {
      "text/plain": [
       "PyObject <function train_test_split at 0x0000000091F2BDC0>"
      ]
     },
     "execution_count": 7,
     "metadata": {},
     "output_type": "execute_result"
    }
   ],
   "source": [
    "@sk_import feature_extraction.text: TfidfVectorizer\n",
    "@sk_import decomposition: TruncatedSVD\n",
    "@sk_import decomposition: PCA\n",
    "@sk_import model_selection: train_test_split"
   ]
  },
  {
   "cell_type": "markdown",
   "metadata": {
    "slideshow": {
     "slide_type": "skip"
    }
   },
   "source": [
    "## Load BBC data"
   ]
  },
  {
   "cell_type": "markdown",
   "metadata": {},
   "source": [
    "We will illustrate the application of LSI using the BBC articles data that we introduced in the last chapter (13) because they are both small to permit quick training and allow us to compare topic assignments to category labels."
   ]
  },
  {
   "cell_type": "code",
   "execution_count": 8,
   "metadata": {
    "ExecuteTime": {
     "end_time": "2020-06-20T19:15:28.968647Z",
     "start_time": "2020-06-20T19:15:28.957333Z"
    },
    "scrolled": true
   },
   "outputs": [
    {
     "data": {
      "text/plain": [
       "2225-element Vector{String}:\n",
       " \"..\\\\data\\\\bbc\\\\bbc\\\\business\\\\001.txt\"\n",
       " \"..\\\\data\\\\bbc\\\\bbc\\\\business\\\\002.txt\"\n",
       " \"..\\\\data\\\\bbc\\\\bbc\\\\business\\\\003.txt\"\n",
       " \"..\\\\data\\\\bbc\\\\bbc\\\\business\\\\004.txt\"\n",
       " \"..\\\\data\\\\bbc\\\\bbc\\\\business\\\\005.txt\"\n",
       " \"..\\\\data\\\\bbc\\\\bbc\\\\business\\\\006.txt\"\n",
       " \"..\\\\data\\\\bbc\\\\bbc\\\\business\\\\007.txt\"\n",
       " \"..\\\\data\\\\bbc\\\\bbc\\\\business\\\\008.txt\"\n",
       " \"..\\\\data\\\\bbc\\\\bbc\\\\business\\\\009.txt\"\n",
       " \"..\\\\data\\\\bbc\\\\bbc\\\\business\\\\010.txt\"\n",
       " \"..\\\\data\\\\bbc\\\\bbc\\\\business\\\\011.txt\"\n",
       " \"..\\\\data\\\\bbc\\\\bbc\\\\business\\\\012.txt\"\n",
       " \"..\\\\data\\\\bbc\\\\bbc\\\\business\\\\013.txt\"\n",
       " ⋮\n",
       " \"..\\\\data\\\\bbc\\\\bbc\\\\tech\\\\390.txt\"\n",
       " \"..\\\\data\\\\bbc\\\\bbc\\\\tech\\\\391.txt\"\n",
       " \"..\\\\data\\\\bbc\\\\bbc\\\\tech\\\\392.txt\"\n",
       " \"..\\\\data\\\\bbc\\\\bbc\\\\tech\\\\393.txt\"\n",
       " \"..\\\\data\\\\bbc\\\\bbc\\\\tech\\\\394.txt\"\n",
       " \"..\\\\data\\\\bbc\\\\bbc\\\\tech\\\\395.txt\"\n",
       " \"..\\\\data\\\\bbc\\\\bbc\\\\tech\\\\396.txt\"\n",
       " \"..\\\\data\\\\bbc\\\\bbc\\\\tech\\\\397.txt\"\n",
       " \"..\\\\data\\\\bbc\\\\bbc\\\\tech\\\\398.txt\"\n",
       " \"..\\\\data\\\\bbc\\\\bbc\\\\tech\\\\399.txt\"\n",
       " \"..\\\\data\\\\bbc\\\\bbc\\\\tech\\\\400.txt\"\n",
       " \"..\\\\data\\\\bbc\\\\bbc\\\\tech\\\\401.txt\""
      ]
     },
     "execution_count": 8,
     "metadata": {},
     "output_type": "execute_result"
    }
   ],
   "source": [
    "files = Glob.glob(\"../data/bbc/bbc/**/*.txt\")"
   ]
  },
  {
   "cell_type": "code",
   "execution_count": 9,
   "metadata": {
    "ExecuteTime": {
     "end_time": "2020-06-20T19:15:29.047992Z",
     "start_time": "2020-06-20T19:15:28.970243Z"
    },
    "slideshow": {
     "slide_type": "skip"
    }
   },
   "outputs": [],
   "source": [
    "doc_list = Any[]\n",
    "for (i,file) in enumerate(files)\n",
    "    f = open(file,\"r\")\n",
    "    s = StringDecoder(f,\"LATIN1\", \"UTF-8\")\n",
    "    topic = split(file, \"\\\\\")[end-1]\n",
    "    lines = readlines(s)\n",
    "    heading = strip(lines[1])\n",
    "    body = strip(join([strip(line) for line in lines[2:end]]))\n",
    "    push!(doc_list, [uppercasefirst(topic), heading, body])\n",
    "    close(s)\n",
    "    close(f)\n",
    "end"
   ]
  },
  {
   "cell_type": "markdown",
   "metadata": {
    "slideshow": {
     "slide_type": "skip"
    }
   },
   "source": [
    "### Convert to DataFrame"
   ]
  },
  {
   "cell_type": "code",
   "execution_count": 10,
   "metadata": {
    "ExecuteTime": {
     "end_time": "2020-06-20T19:15:29.059387Z",
     "start_time": "2020-06-20T19:15:29.049509Z"
    },
    "scrolled": true,
    "slideshow": {
     "slide_type": "skip"
    }
   },
   "outputs": [
    {
     "data": {
      "text/html": [
       "<table class=\"data-frame\"><thead><tr><th></th><th>Category</th><th>Heading</th><th>Article</th></tr><tr><th></th><th>String</th><th>String</th><th>String</th></tr></thead><tbody><p>5 rows × 3 columns</p><tr><th>1</th><td>Business</td><td>Ad sales boost Time Warner profit</td><td>Quarterly profits at US media giant TimeWarner jumped 76% to $1.13bn (Â£600m) for the three months to December, from $639m year-earlier.The firm, which is now one of the biggest investors in Google, benefited from sales of high-speed internet connections and higher advert sales. TimeWarner said fourth quarter sales rose 2% to $11.1bn from $10.9bn. Its profits were buoyed by one-off gains which offset a profit dip at Warner Bros, and less users for AOL.Time Warner said on Friday that it now owns 8% of search-engine Google. But its own internet business, AOL, had has mixed fortunes. It lost 464,000 subscribers in the fourth quarter profits were lower than in the preceding three quarters. However, the company said AOL's underlying profit before exceptional items rose 8% on the back of stronger internet advertising revenues. It hopes to increase subscribers by offering the online service free to TimeWarner internet customers and will try to sign up AOL's existing customers for high-speed broadband. TimeWarner also has to restate 2000 and 2003 results following a probe by the US Securities Exchange Commission (SEC), which is close to concluding.Time Warner's fourth quarter profits were slightly better than analysts' expectations. But its film division saw profits slump 27% to $284m, helped by box-office flops Alexander and Catwoman, a sharp contrast to year-earlier, when the third and final film in the Lord of the Rings trilogy boosted results. For the full-year, TimeWarner posted a profit of $3.36bn, up 27% from its 2003 performance, while revenues grew 6.4% to $42.09bn. \"Our financial performance was strong, meeting or exceeding all of our full-year objectives and greatly enhancing our flexibility,\" chairman and chief executive Richard Parsons said. For 2005, TimeWarner is projecting operating earnings growth of around 5%, and also expects higher revenue and wider profit margins.TimeWarner is to restate its accounts as part of efforts to resolve an inquiry into AOL by US market regulators. It has already offered to pay $300m to settle charges, in a deal that is under review by the SEC. The company said it was unable to estimate the amount it needed to set aside for legal reserves, which it previously set at $500m. It intends to adjust the way it accounts for a deal with German music publisher Bertelsmann's purchase of a stake in AOL Europe, which it had reported as advertising revenue. It will now book the sale of its stake in AOL Europe as a loss on the value of that stake.</td></tr><tr><th>2</th><td>Business</td><td>Dollar gains on Greenspan speech</td><td>The dollar has hit its highest level against the euro in almost three months after the Federal Reserve head said the US trade deficit is set to stabilise.And Alan Greenspan highlighted the US government's willingness to curb spending and rising household savings as factors which may help to reduce it. In late trading in New York, the dollar reached $1.2871 against the euro, from $1.2974 on Thursday. Market concerns about the deficit has hit the greenback in recent months. On Friday, Federal Reserve chairman Mr Greenspan's speech in London ahead of the meeting of G7 finance ministers sent the dollar higher after it had earlier tumbled on the back of worse-than-expected US jobs data. \"I think the chairman's taking a much more sanguine view on the current account deficit than he's taken for some time,\" said Robert Sinche, head of currency strategy at Bank of America in New York. \"He's taking a longer-term view, laying out a set of conditions under which the current account deficit can improve this year and next.\"Worries about the deficit concerns about China do, however, remain. China's currency remains pegged to the dollar and the US currency's sharp falls in recent months have therefore made Chinese export prices highly competitive. But calls for a shift in Beijing's policy have fallen on deaf ears, despite recent comments in a major Chinese newspaper that the \"time is ripe\" for a loosening of the peg. The G7 meeting is thought unlikely to produce any meaningful movement in Chinese policy. In the meantime, the US Federal Reserve's decision on 2 February to boost interest rates by a quarter of a point - the sixth such move in as many months - has opened up a differential with European rates. The half-point window, some believe, could be enough to keep US assets looking more attractive, and could help prop up the dollar. The recent falls have partly been the result of big budget deficits, as well as the US's yawning current account gap, both of which need to be funded by the buying of US bonds and assets by foreign firms and governments. The White House will announce its budget on Monday, and many commentators believe the deficit will remain at close to half a trillion dollars.</td></tr><tr><th>3</th><td>Business</td><td>Yukos unit buyer faces loan claim</td><td>The owners of embattled Russian oil giant Yukos are to ask the buyer of its former production unit to pay back a $900m (Â£479m) loan.State-owned Rosneft bought the Yugansk unit for $9.3bn in a sale forced by Russia to part settle a $27.5bn tax claim against Yukos. Yukos' owner Menatep Group says it will ask Rosneft to repay a loan that Yugansk had secured on its assets. Rosneft already faces a similar $540m repayment demand from foreign banks. Legal experts said Rosneft's purchase of Yugansk would include such obligations. \"The pledged assets are with Rosneft, so it will have to pay real money to the creditors to avoid seizure of Yugansk assets,\" said Moscow-based US lawyer Jamie Firestone, who is not connected to the case. Menatep Group's managing director Tim Osborne told the Reuters news agency: \"If they default, we will fight them where the rule of law exists under the international arbitration clauses of the credit.\"Rosneft officials were unavailable for comment. But the company has said it intends to take action against Menatep to recover some of the tax claims and debts owed by Yugansk. Yukos had filed for bankruptcy protection in a US court in an attempt to prevent the forced sale of its main production arm. The sale went ahead in December and Yugansk was sold to a little-known shell company which in turn was bought by Rosneft. Yukos claims its downfall was punishment for the political ambitions of its founder Mikhail Khodorkovsky and has vowed to sue any participant in the sale.</td></tr><tr><th>4</th><td>Business</td><td>High fuel prices hit BA's profits</td><td>British Airways has blamed high fuel prices for a 40% drop in profits.Reporting its results for the three months to 31 December 2004, the airline made a pre-tax profit of Â£75m ($141m) compared with Â£125m a year earlier. Rod Eddington, BA's chief executive, said the results were \"respectable\" in a third quarter when fuel costs rose by Â£106m or 47.3%. BA's profits were still better than market expectation of Â£59m, and it expects a rise in full-year revenues.To help offset the increased price of aviation fuel, BA last year introduced a fuel surcharge for passengers.In October, it increased this from Â£6 to Â£10 one-way for all long-haul flights, while the short-haul surcharge was raised from Â£2.50 to Â£4 a leg. Yet aviation analyst Mike Powell of Dresdner Kleinwort Wasserstein says BA's estimated annual surcharge revenues - Â£160m - will still be way short of its additional fuel costs - a predicted extra Â£250m. Turnover for the quarter was up 4.3% to Â£1.97bn, further benefiting from a rise in cargo revenue. Looking ahead to its full year results to March 2005, BA warned that yields - average revenues per passenger - were expected to decline as it continues to lower prices in the face of competition from low-cost carriers. However, it said sales would be better than previously forecast. \"For the year to March 2005, the total revenue outlook is slightly better than previous guidance with a 3% to 3.5% improvement anticipated,\" BA chairman Martin Broughton said. BA had previously forecast a 2% to 3% rise in full-year revenue.It also reported on Friday that passenger numbers rose 8.1% in January. Aviation analyst Nick Van den Brul of BNP Paribas described BA's latest quarterly results as \"pretty modest\". \"It is quite good on the revenue side and it shows the impact of fuel surcharges and a positive cargo development, however, operating margins down and cost impact of fuel are very strong,\" he said. Since the 11 September 2001 attacks in the United States, BA has cut 13,000 jobs as part of a major cost-cutting drive. \"Our focus remains on reducing controllable costs and debt whilst continuing to invest in our products,\" Mr Eddington said. \"For example, we have taken delivery of six Airbus A321 aircraft and next month we will start further improvements to our Club World flat beds.\" BA's shares closed up four pence at 274.5 pence.</td></tr><tr><th>5</th><td>Business</td><td>Pernod takeover talk lifts Domecq</td><td>Shares in UK drinks and food firm Allied Domecq have risen on speculation that it could be the target of a takeover by France's Pernod Ricard.Reports in the Wall Street Journal and the Financial Times suggested that the French spirits firm is considering a bid, but has yet to contact its target. Allied Domecq shares in London rose 4% by 1200 GMT, while Pernod shares in Paris slipped 1.2%. Pernod said it was seeking acquisitions but refused to comment on specifics.Pernod's last major purchase was a third of US giant Seagram in 2000, the move which propelled it into the global top three of drinks firms. The other two-thirds of Seagram was bought by market leader Diageo. In terms of market value, Pernod - at 7.5bn euros ($9.7bn) - is about 9% smaller than Allied Domecq, which has a capitalisation of Â£5.7bn ($10.7bn; 8.2bn euros). Last year Pernod tried to buy Glenmorangie, one of Scotland's premier whisky firms, but lost out to luxury goods firm LVMH. Pernod is home to brands including Chivas Regal Scotch whisky, Havana Club rum and Jacob's Creek wine. Allied Domecq's big names include Malibu rum, Courvoisier brandy, Stolichnaya vodka and Ballantine's whisky - as well as snack food chains such as Dunkin' Donuts and Baskin-Robbins ice cream. The WSJ said that the two were ripe for consolidation, having each dealt with problematic parts of their portfolio. Pernod has reduced the debt it took on to fund the Seagram purchase to just 1.8bn euros, while Allied has improved the performance of its fast-food chains.</td></tr></tbody></table>"
      ],
      "text/latex": [
       "\\begin{tabular}{r|ccc}\n",
       "\t& Category & Heading & Article\\\\\n",
       "\t\\hline\n",
       "\t& String & String & String\\\\\n",
       "\t\\hline\n",
       "\t1 & Business & Ad sales boost Time Warner profit & Quarterly profits at US media giant TimeWarner jumped 76\\% to \\$1.13bn (Â£600m) for the three months to December, from \\$639m year-earlier.The firm, which is now one of the biggest investors in Google, benefited from sales of high-speed internet connections and higher advert sales. TimeWarner said fourth quarter sales rose 2\\% to \\$11.1bn from \\$10.9bn. Its profits were buoyed by one-off gains which offset a profit dip at Warner Bros, and less users for AOL.Time Warner said on Friday that it now owns 8\\% of search-engine Google. But its own internet business, AOL, had has mixed fortunes. It lost 464,000 subscribers in the fourth quarter profits were lower than in the preceding three quarters. However, the company said AOL's underlying profit before exceptional items rose 8\\% on the back of stronger internet advertising revenues. It hopes to increase subscribers by offering the online service free to TimeWarner internet customers and will try to sign up AOL's existing customers for high-speed broadband. TimeWarner also has to restate 2000 and 2003 results following a probe by the US Securities Exchange Commission (SEC), which is close to concluding.Time Warner's fourth quarter profits were slightly better than analysts' expectations. But its film division saw profits slump 27\\% to \\$284m, helped by box-office flops Alexander and Catwoman, a sharp contrast to year-earlier, when the third and final film in the Lord of the Rings trilogy boosted results. For the full-year, TimeWarner posted a profit of \\$3.36bn, up 27\\% from its 2003 performance, while revenues grew 6.4\\% to \\$42.09bn. \"Our financial performance was strong, meeting or exceeding all of our full-year objectives and greatly enhancing our flexibility,\" chairman and chief executive Richard Parsons said. For 2005, TimeWarner is projecting operating earnings growth of around 5\\%, and also expects higher revenue and wider profit margins.TimeWarner is to restate its accounts as part of efforts to resolve an inquiry into AOL by US market regulators. It has already offered to pay \\$300m to settle charges, in a deal that is under review by the SEC. The company said it was unable to estimate the amount it needed to set aside for legal reserves, which it previously set at \\$500m. It intends to adjust the way it accounts for a deal with German music publisher Bertelsmann's purchase of a stake in AOL Europe, which it had reported as advertising revenue. It will now book the sale of its stake in AOL Europe as a loss on the value of that stake. \\\\\n",
       "\t2 & Business & Dollar gains on Greenspan speech & The dollar has hit its highest level against the euro in almost three months after the Federal Reserve head said the US trade deficit is set to stabilise.And Alan Greenspan highlighted the US government's willingness to curb spending and rising household savings as factors which may help to reduce it. In late trading in New York, the dollar reached \\$1.2871 against the euro, from \\$1.2974 on Thursday. Market concerns about the deficit has hit the greenback in recent months. On Friday, Federal Reserve chairman Mr Greenspan's speech in London ahead of the meeting of G7 finance ministers sent the dollar higher after it had earlier tumbled on the back of worse-than-expected US jobs data. \"I think the chairman's taking a much more sanguine view on the current account deficit than he's taken for some time,\" said Robert Sinche, head of currency strategy at Bank of America in New York. \"He's taking a longer-term view, laying out a set of conditions under which the current account deficit can improve this year and next.\"Worries about the deficit concerns about China do, however, remain. China's currency remains pegged to the dollar and the US currency's sharp falls in recent months have therefore made Chinese export prices highly competitive. But calls for a shift in Beijing's policy have fallen on deaf ears, despite recent comments in a major Chinese newspaper that the \"time is ripe\" for a loosening of the peg. The G7 meeting is thought unlikely to produce any meaningful movement in Chinese policy. In the meantime, the US Federal Reserve's decision on 2 February to boost interest rates by a quarter of a point - the sixth such move in as many months - has opened up a differential with European rates. The half-point window, some believe, could be enough to keep US assets looking more attractive, and could help prop up the dollar. The recent falls have partly been the result of big budget deficits, as well as the US's yawning current account gap, both of which need to be funded by the buying of US bonds and assets by foreign firms and governments. The White House will announce its budget on Monday, and many commentators believe the deficit will remain at close to half a trillion dollars. \\\\\n",
       "\t3 & Business & Yukos unit buyer faces loan claim & The owners of embattled Russian oil giant Yukos are to ask the buyer of its former production unit to pay back a \\$900m (Â£479m) loan.State-owned Rosneft bought the Yugansk unit for \\$9.3bn in a sale forced by Russia to part settle a \\$27.5bn tax claim against Yukos. Yukos' owner Menatep Group says it will ask Rosneft to repay a loan that Yugansk had secured on its assets. Rosneft already faces a similar \\$540m repayment demand from foreign banks. Legal experts said Rosneft's purchase of Yugansk would include such obligations. \"The pledged assets are with Rosneft, so it will have to pay real money to the creditors to avoid seizure of Yugansk assets,\" said Moscow-based US lawyer Jamie Firestone, who is not connected to the case. Menatep Group's managing director Tim Osborne told the Reuters news agency: \"If they default, we will fight them where the rule of law exists under the international arbitration clauses of the credit.\"Rosneft officials were unavailable for comment. But the company has said it intends to take action against Menatep to recover some of the tax claims and debts owed by Yugansk. Yukos had filed for bankruptcy protection in a US court in an attempt to prevent the forced sale of its main production arm. The sale went ahead in December and Yugansk was sold to a little-known shell company which in turn was bought by Rosneft. Yukos claims its downfall was punishment for the political ambitions of its founder Mikhail Khodorkovsky and has vowed to sue any participant in the sale. \\\\\n",
       "\t4 & Business & High fuel prices hit BA's profits & British Airways has blamed high fuel prices for a 40\\% drop in profits.Reporting its results for the three months to 31 December 2004, the airline made a pre-tax profit of Â£75m (\\$141m) compared with Â£125m a year earlier. Rod Eddington, BA's chief executive, said the results were \"respectable\" in a third quarter when fuel costs rose by Â£106m or 47.3\\%. BA's profits were still better than market expectation of Â£59m, and it expects a rise in full-year revenues.To help offset the increased price of aviation fuel, BA last year introduced a fuel surcharge for passengers.In October, it increased this from Â£6 to Â£10 one-way for all long-haul flights, while the short-haul surcharge was raised from Â£2.50 to Â£4 a leg. Yet aviation analyst Mike Powell of Dresdner Kleinwort Wasserstein says BA's estimated annual surcharge revenues - Â£160m - will still be way short of its additional fuel costs - a predicted extra Â£250m. Turnover for the quarter was up 4.3\\% to Â£1.97bn, further benefiting from a rise in cargo revenue. Looking ahead to its full year results to March 2005, BA warned that yields - average revenues per passenger - were expected to decline as it continues to lower prices in the face of competition from low-cost carriers. However, it said sales would be better than previously forecast. \"For the year to March 2005, the total revenue outlook is slightly better than previous guidance with a 3\\% to 3.5\\% improvement anticipated,\" BA chairman Martin Broughton said. BA had previously forecast a 2\\% to 3\\% rise in full-year revenue.It also reported on Friday that passenger numbers rose 8.1\\% in January. Aviation analyst Nick Van den Brul of BNP Paribas described BA's latest quarterly results as \"pretty modest\". \"It is quite good on the revenue side and it shows the impact of fuel surcharges and a positive cargo development, however, operating margins down and cost impact of fuel are very strong,\" he said. Since the 11 September 2001 attacks in the United States, BA has cut 13,000 jobs as part of a major cost-cutting drive. \"Our focus remains on reducing controllable costs and debt whilst continuing to invest in our products,\" Mr Eddington said. \"For example, we have taken delivery of six Airbus A321 aircraft and next month we will start further improvements to our Club World flat beds.\" BA's shares closed up four pence at 274.5 pence. \\\\\n",
       "\t5 & Business & Pernod takeover talk lifts Domecq & Shares in UK drinks and food firm Allied Domecq have risen on speculation that it could be the target of a takeover by France's Pernod Ricard.Reports in the Wall Street Journal and the Financial Times suggested that the French spirits firm is considering a bid, but has yet to contact its target. Allied Domecq shares in London rose 4\\% by 1200 GMT, while Pernod shares in Paris slipped 1.2\\%. Pernod said it was seeking acquisitions but refused to comment on specifics.Pernod's last major purchase was a third of US giant Seagram in 2000, the move which propelled it into the global top three of drinks firms. The other two-thirds of Seagram was bought by market leader Diageo. In terms of market value, Pernod - at 7.5bn euros (\\$9.7bn) - is about 9\\% smaller than Allied Domecq, which has a capitalisation of Â£5.7bn (\\$10.7bn; 8.2bn euros). Last year Pernod tried to buy Glenmorangie, one of Scotland's premier whisky firms, but lost out to luxury goods firm LVMH. Pernod is home to brands including Chivas Regal Scotch whisky, Havana Club rum and Jacob's Creek wine. Allied Domecq's big names include Malibu rum, Courvoisier brandy, Stolichnaya vodka and Ballantine's whisky - as well as snack food chains such as Dunkin' Donuts and Baskin-Robbins ice cream. The WSJ said that the two were ripe for consolidation, having each dealt with problematic parts of their portfolio. Pernod has reduced the debt it took on to fund the Seagram purchase to just 1.8bn euros, while Allied has improved the performance of its fast-food chains. \\\\\n",
       "\\end{tabular}\n"
      ],
      "text/plain": [
       "5×3 DataFrame. Omitted printing of 1 columns\n",
       "│ Row │ Category │ Heading                           │\n",
       "│     │ \u001b[90mString\u001b[39m   │ \u001b[90mString\u001b[39m                            │\n",
       "├─────┼──────────┼───────────────────────────────────┤\n",
       "│ 1   │ Business │ Ad sales boost Time Warner profit │\n",
       "│ 2   │ Business │ Dollar gains on Greenspan speech  │\n",
       "│ 3   │ Business │ Yukos unit buyer faces loan claim │\n",
       "│ 4   │ Business │ High fuel prices hit BA's profits │\n",
       "│ 5   │ Business │ Pernod takeover talk lifts Domecq │"
      ]
     },
     "execution_count": 10,
     "metadata": {},
     "output_type": "execute_result"
    }
   ],
   "source": [
    "docs = DataFrame(Category = [String(x[1]) for x in doc_list], Heading = [String(x[2]) for x in doc_list], Article = [String(x[3]) for x in doc_list])\n",
    "first(docs, 5)"
   ]
  },
  {
   "cell_type": "markdown",
   "metadata": {
    "slideshow": {
     "slide_type": "slide"
    }
   },
   "source": [
    "## Create Train & Test Sets"
   ]
  },
  {
   "cell_type": "markdown",
   "metadata": {},
   "source": [
    "We begin by loading the documents and creating a train and (stratified) test set with 50 articles. Then, we vectorize the data using the TfidfVectorizer to obtain weighted DTM counts and filter out words that appear in less than 1% or more than 25% of the documents as well as generic stopwords to obtain a vocabulary of around 2,900 words:"
   ]
  },
  {
   "cell_type": "code",
   "execution_count": 11,
   "metadata": {
    "scrolled": true
   },
   "outputs": [
    {
     "name": "stderr",
     "output_type": "stream",
     "text": [
      "WARNING: using Pandas.DataFrame in module Main conflicts with an existing identifier.\n"
     ]
    }
   ],
   "source": [
    "#Pkg.add(\"Pandas\")\n",
    "using Pandas"
   ]
  },
  {
   "cell_type": "code",
   "execution_count": 12,
   "metadata": {
    "ExecuteTime": {
     "end_time": "2020-06-20T19:15:29.092627Z",
     "start_time": "2020-06-20T19:15:29.061273Z"
    },
    "scrolled": true,
    "slideshow": {
     "slide_type": "fragment"
    }
   },
   "outputs": [
    {
     "data": {
      "text/plain": [
       "2-element Vector{PyObject}:\n",
       " PyObject            Category  ...                                            Article\n",
       "568   Entertainment  ...  Sky has signed a major new deal to broadcast t...\n",
       "1970           Tech  ...  A campaign by Lycos Europe to target spam-rela...\n",
       "526   Entertainment  ...  Dame Muriel Spark is among three British autho...\n",
       "488        Business  ...  Traders at US banking giant Citigroup are faci...\n",
       "1313          Sport  ...  British hurdler Sarah Claxton is confident she...\n",
       "...             ...  ...                                                ...\n",
       "1231       Politics  ...  Tony Blair has told Labour supporters he's \"ba...\n",
       "935        Politics  ...  Jack Straw has attacked the decision by Britai...\n",
       "1783          Sport  ...  Jennifer Capriati has become the third leading...\n",
       "664   Entertainment  ...  A box set featuring 68 unreleased Nirvana trac...\n",
       "1039       Politics  ...  An MP has had more than Â£600 and his passport...\n",
       "\n",
       "[2175 rows x 3 columns]\n",
       " PyObject            Category  ...                                            Article\n",
       "574   Entertainment  ...  Oscar-winning director Hayao Miyazaki's latest...\n",
       "2046           Tech  ...  Aid workers trying to house, feed and clothe m...\n",
       "1896           Tech  ...  People using wireless high-speed net (wi-fi) a...\n",
       "121        Business  ...  Five Bank of America subsidiaries have agreed ...\n",
       "1410          Sport  ...  Manchester United winger Cristiano Ronaldo sai...\n",
       "270        Business  ...  Arsenal vice-chairman David Dein has said the ...\n",
       "102        Business  ...  Up to 2,500 jobs are to go at US insurance bro...\n",
       "1654          Sport  ...  England captain Jason Robinson will miss the r...\n",
       "71         Business  ...  South Korea looks set to sustain its revival t...\n",
       "348        Business  ...  Creditors of South Korea's top credit card fir...\n",
       "1040       Politics  ...  A prospective candidate for the UK Independenc...\n",
       "1549          Sport  ...  All four of England's Champions League represe...\n",
       "1531          Sport  ...  Hearts of Oak set up an all Ghanaian Confedera...\n",
       "1674          Sport  ...  The Wales Students rugby side has become a cas...\n",
       "832   Entertainment  ...  Mike Leigh's film Vera Drake will lead British...\n",
       "610   Entertainment  ...  International films will be given the same pro...\n",
       "777   Entertainment  ...  Black Sabbath have topped a list of the best B...\n",
       "1580          Sport  ...  Sol Campbell proved to be an unlikely match-wi...\n",
       "963        Politics  ...  MPs are preparing to debate a bill which criti...\n",
       "1480          Sport  ...  Adriano's agent Gilmar Rinaldi has insisted th...\n",
       "1625          Sport  ...  Tough-scrummaging prop Julian White is expecti...\n",
       "677   Entertainment  ...  MTV has been criticised for \"incessant sleaze\"...\n",
       "839   Entertainment  ...  Actor Michael Douglas is to co-produce and sta...\n",
       "1781          Sport  ...  Carlos Moya described Spain's Davis Cup victor...\n",
       "2087           Tech  ...  If broadband were a jumbo jet, then 2003 would...\n",
       "908        Politics  ...  Tory leader Michael Howard has gone on the off...\n",
       "1310       Politics  ...  The Conservatives have been \"a lot smarter\" in...\n",
       "2193           Tech  ...  Judges at the US Supreme Court have been heari...\n",
       "1107       Politics  ...  The Conservatives' campaign director has denie...\n",
       "920        Politics  ...  A former Home Office minister has called for a...\n",
       "2027           Tech  ...  Visitors to the British Library will be able t...\n",
       "552   Entertainment  ...  Hollywood stars including Spike Lee, Burt Reyn...\n",
       "1599          Sport  ...  France coach Bernard Laporte has made four cha...\n",
       "1832           Tech  ...  The Apple Powerbook 100 has been chosen as the...\n",
       "1864           Tech  ...  T-Mobile has launched its latest \"pocket offic...\n",
       "20         Business  ...  Leisure group Rank could unveil plans to demer...\n",
       "1446          Sport  ...  Republic of Ireland manager Brian Kerr has bee...\n",
       "688   Entertainment  ...  The debut of US television hit Desperate House...\n",
       "542   Entertainment  ...  This third Harry Potter film brought a change ...\n",
       "509        Business  ...  Luxury goods group LVMH has sold its loss-maki...\n",
       "106        Business  ...  The Liberian economy started to grow in 2004, ...\n",
       "2182           Tech  ...  The Gizmondo combined media player, phone and ...\n",
       "1195       Politics  ...  Michael Howard has denied his shadow cabinet w...\n",
       "435        Business  ...  The European Central Bank has left its key int...\n",
       "188        Business  ...  The chief executive of the Fiat conglomerate h...\n",
       "1021       Politics  ...  Tony Blair is urging European leaders to wake ...\n",
       "1289       Politics  ...  Britain's economic future will be at the heart...\n",
       "2085           Tech  ...  More and more Americans are joining the intern...\n",
       "1339          Sport  ...  Double Olympic champion Kelly Holmes has been ...\n",
       "466        Business  ...  General Motors (GM) saw its net profits fall 3...\n",
       "\n",
       "[50 rows x 3 columns]"
      ]
     },
     "execution_count": 12,
     "metadata": {},
     "output_type": "execute_result"
    }
   ],
   "source": [
    "pd_docs = Pandas.DataFrame(docs)\n",
    "pd_train_docs, pd_test_docs = train_test_split(pd_docs,\n",
    "                                         stratify=pd_docs.Category,\n",
    "                                         test_size=50,\n",
    "                                         random_state=42)"
   ]
  },
  {
   "cell_type": "code",
   "execution_count": 13,
   "metadata": {},
   "outputs": [
    {
     "data": {
      "text/html": [
       "<table class=\"data-frame\"><thead><tr><th></th><th>Category</th><th>Heading</th><th>Article</th></tr><tr><th></th><th>String</th><th>String</th><th>String</th></tr></thead><tbody><p>2,175 rows × 3 columns</p><tr><th>1</th><td>Entertainment</td><td>Sky takes over Oscar night mantle</td><td>Sky has signed a major new deal to broadcast this year's Academy Awards, taking over from three years of live Oscar coverage on the BBC.Sky said it was \"honoured to have won exclusive broadcasting rights\" and promised to cover the event \"in a way no other broadcaster could\". The BBC denied it had lost a bidding war, saying it had \"decided to pass the mantle to another broadcaster\". The ceremony, hosted by newcomer Chris Rock, takes place on 27 February 2005.Sky's coverage will launch with the nominations on 25 January and will include themed programming across Sky channels including Sky News, Sky Travel and the Biography Channel. There will also be a month-long season of Oscar-winning films on Sky Movies in the run up to the event and live uninterrupted coverage on the night. \"We are honoured to have won the live and exclusive broadcasting rights for The Academy Awards,\" said Sky Networks' Sophie Turner Laing. \"Sky is the natural place to see the biggest and most prestigious film event of the year, and will cover the event in a way that no other broadcaster could.\"Sky first scooped Oscar rights from the BBC in 1999, but the BBC won them back in 2001 when Sky was forced to pull out of a bidding war due to financial constraints. \"BBC viewers will of course be able to watch quality coverage of the 2005 Academy Awards on the BBC's bulletins and news programmes,\" a spokesman said. Among the films tipped to do well at this year's Academy Awards are Martin Scorsese's The Aviator, Jean-Pierre Jeunet's A Very Long Engagement and the Ray Charles biopic, Ray.</td></tr><tr><th>2</th><td>Tech</td><td>Freeze on anti-spam campaign</td><td>A campaign by Lycos Europe to target spam-related websites appears to have been put on hold.Earlier this week the company released a screensaver that bombarded the sites with data to try to bump up the running costs of the websites. But the site hosting the screensaver now displays a pink graphic and the words \"Stay tuned\". No one at Lycos was available for comment on latest developments in its controversial anti-spam campaign.Lycos Europe's \"Make love not spam\" campaign was intended as a way for users to fight back against the mountain of junk mail flooding inboxes. People were encouraged to download the screensaver which, when their PC was idle, would then send lots of data to sites that peddle the goods and services mentioned in spam messages. Lycos said the idea was to get the spam sites running at 95% capacity and generate big bandwidth bills for the spammers behind the sites. But the plan has proved controversial.Monitoring firm Netcraft analysed response times for some of the sites targeted by the screensaver and found that a number were completely knocked offline.The downing of the sites could dent Lycos claims that what it is doing does not amount to a distributed denial of service attack. In such attacks thousands of computers bombard sites with data in an attempt to overwhelm them. Laws in many countries do not explicitly outlaw such attacks but many nations are re-drafting computer use laws to make them specific offences. Lycos Europe now appears to have put the plan on hold. The site hosting the screensaver currently shows a holding page, with the words, \"Stay tuned\". The numerical internet address of the site has also changed. This is likely to be in response to spammers who have reportedly redirected traffic from their sites back to the Lycos screensaver site. The campaign has come under fire from some corners of the web. Many discussion groups have said that it set a dangerous precedent and could incite vigilantism. \"Attacking a spammer's website is like poking a grizzly bear sleeping in your back garden with a pointy stick,\" said Graham Cluley, senior technology consultant for Sophos. \"Not only is this screensaver similar in its approach to a potentially illegal distributed denial of service attack, but it also is in danger of turning innocent computer users into vigilantes, who may not be prepared for whatever retaliation the spammers care to dream up.\"</td></tr><tr><th>3</th><td>Entertainment</td><td>Spark heads world Booker list</td><td>Dame Muriel Spark is among three British authors who have made the shortlist for the inaugural international Booker Prize.Doris Lessing and Ian McEwan have also been nominated. McEwan and Margaret Atwood are the only nominees to have previously won the main Booker Prize. The new Â£60,000 award is open to writers of all nationalities who write in English or are widely translated. The prize commends an author for their body of work instead of one book.Gabriel Garcia Marquez, Saul Bellow, Milan Kundera and John Updike also feature on the 18-strong list of world literary figures.But other past winners of the regular Booker Prize, such as Salman Rushdie, JM Coetzee and Kazuo Ishiguro have failed to make the shortlist. The prize, which will be awarded in London in June, will be given once every two years. It will reward an author - who must be living - for \"continued creativity, development and overall contribution to fiction on the world stage\". An author can only win once. The international award was started in response to criticisms that the Booker Prize is only open to British and Commonwealth authors.Margaret Atwood (Canada) Saul Bellow (Canada) Gabriel Garcia Marquez (Colombia) Gunter Grass (Germany) Ismail Kadare (Albania) Milan Kundera (Czech Republic) Stanislaw Lem (Poland) Doris Lessing (UK) Ian McEwan (UK) Naguib Mahfouz (Egypt) Tomas Eloy Martinez (Argentina) Kenzaburo Oe (Japan) Cynthia Ozick (US) Philip Roth (US) Muriel Spark (UK) Antonio Tabucchi (Italy) John Updike (US) Abraham B Yehoshua (Israel)</td></tr><tr><th>4</th><td>Business</td><td>Criminal probe on Citigroup deals</td><td>Traders at US banking giant Citigroup are facing a criminal investigation in Germany over a controversial bond deal.The deal saw the sale of 11bn euros ($14.4bn; Â£7.6bn) of government bonds in a few minutes on 2 August, with 4bn euros-worth then bought back later. The move was widely criticised at the time, and now the German regulator has said it has found evidence of possible market manipulation. Citigroup said it would continue to co-operate fully with the authorities. \"We are disappointed that the BaFin has referred to the prosecutor the question of whether action should be brought against individuals involved,\" Citigroup said. If the traders are found guilty, they could face a five-year jail term or a fine, Reuters reported BaFin as saying. However, under German criminal law, prosecutors cannot pursue Citigroup itself.Germany's financial watchdog BaFin told BBC News it had now transferred the investigation to the public prosecutor. \"I can confirm that BaFin has passed through the case to the public prosecutor,\" a BaFin spokeswoman said. \"It is now a criminal investigation.\" \"We found clues of possible market manipulation,\" the spokeswoman said, which included signs of linked bond trading ahead of the main trades on 2 August. \"Germany's Securities Trading Act says that if BaFin finds such clues, it has to put the case in the hands of the prosecutor.\" Regulatory investigations are still going on in France, the UK and elsewhere. Some Citigroup operations elsewhere in the world came under regulatory criticism in 2004. Its private banking operation in Japan was closed down by regulators in Tokyo after an \"aggressive sales culture\" led the bank to flout anti-money laundering rules.</td></tr><tr><th>5</th><td>Sport</td><td>Claxton hunting first major medal</td><td>British hurdler Sarah Claxton is confident she can win her first major medal at next month's European Indoor Championships in Madrid.The 25-year-old has already smashed the British record over 60m hurdles twice this season, setting a new mark of 7.96 seconds to win the AAAs title. \"I am quite confident,\" said Claxton. \"But I take each race as it comes. \"As long as I keep up my training but not do too much I think there is a chance of a medal.\" Claxton has won the national 60m hurdles title for the past three years but has struggled to translate her domestic success to the international stage. Now, the Scotland-born athlete owns the equal fifth-fastest time in the world this year. And at last week's Birmingham Grand Prix, Claxton left European medal favourite Russian Irina Shevchenko trailing in sixth spot.For the first time, Claxton has only been preparing for a campaign over the hurdles - which could explain her leap in form. In previous seasons, the 25-year-old also contested the long jump but since moving from Colchester to London she has re-focused her attentions. Claxton will see if her new training regime pays dividends at the European Indoors which take place on 5-6 March.</td></tr><tr><th>6</th><td>Business</td><td>FBI agent colludes with analyst</td><td>A former FBI agent and an internet stock picker have been found guilty of using confidential US government information to manipulate stock prices.A New York court ruled that former FBI man Jeffrey Royer, 41, fed damaging information to Anthony Elgindy, 36. Mr Elgindy then drove share prices lower by spreading negative publicity via his newsletter. The Egyptian-born analyst would extort money from his targets in return for stopping the attacks, prosecutors said. \"Under the guise of protecting investors from fraud, Royer and Elgindy used the FBI's crime-fighting tools and resources actually to defraud the public,\" said US Attorney Roslynn Mauskopf.Mr Royer was convicted of racketeering, securities fraud, obstruction of justice and witness tampering. Mr Elgindy was convicted of racketeering, securities fraud and extortion.The charges carry sentences of up to 20 years. When the guilty verdict was announced by the jury foreman, Mr Elgindy dropped his face into his hands and sobbed, the Associated Press news agency reported. He was led weeping from the court room by US marshals, AP said. Defense lawyers contended that Mr Royer had been feeding information to Mr Elgindy and another trader in an attempt to expose corporate fraud. Mr Elgindy's team claimed that he also was fighting against corporate wrongdoing. \"Elgindy's conviction marks the end of his public charade as a crusader against fraud in the market,\" said Ms Mauskopf. One of the more bizarre aspects of the trial focused on the claims that Mr Elgindy may have had foreknowledge of the 11 September terrorist attacks in New York and Washington. Mr Elgindy had been trying to sell stock prior to the attack and had predicted a slump in the market. No charges were brought in relation to these allegations.</td></tr><tr><th>7</th><td>Politics</td><td>'UK will stand firm on EU rebate'</td><td>Britain's Â£3bn EU rebate is not up for renegotiation at next week's European Council summit, Jack Straw said.The foreign secretary told MPs the rebate, secured by Margaret Thatcher in 1984, was \"entirely justified\". New European commission president Jose Manuel Barroso has suggested the cash could be shared out among net contributors to the EU budget. Mr Straw acknowledged some countries in the newly enlarged 25 nation EU still had to \"see the light\" on the rebate.But the foreign secretary told the Commons foreign affairs committee: \"Our position is very clear: it is entirely justified and it is not for negotiation.\" He added that he did not think there would be a political price to pay for the UK's stance - Britain contributed more and received less than other EU states. The two-day European Council summit in Brussels begins on 16 December and is widely expected to mark the beginning of a lengthy negotiating period over the EU's budget for 2007-13. The wrangling could stretch into 2005, even 2006.The UK, France, Germany, Austria, the Netherlands and Sweden want the EU budget to be capped at 1% of member states' combined national incomes - the Commission wants it to be 1.26%. Mr Straw said the EU commission's proposal would mean a 35% hike in the budget. \"I don't know of any national government thinking of increasing its budget by that amount,\" he added. The foreign secretary said he hoped the talks next week could produce a date in 2005 for the beginning of negotiations with Turkey about possible EU membership although that there would be no prospect of a date for joining for some time.</td></tr><tr><th>8</th><td>Politics</td><td>Tories opposing 24-hour drinking</td><td>The Tories say plans to extend pub opening times should be put on hold until binge drinking is under control, despite backing a law change last year.Spokesman David Davis said ministers had failed to make his party aware of concern among senior police that plans would cause more anti-social behaviour. Notts police chief Steve Green said innocent people would suffer. But Culture Secretary Tessa Jowell said a delay would be \"disastrous\" and she accused the Tories of opportunism. The government would go ahead with the changes which would give police more power to tackle excessive drinking, she added. Earlier chief constable Green questioned how his officers would be able to practically apply powers allowing them to shut down problem premises. \"If you look at the Market Square in Nottingham, if a fight takes place which licensed premises do you go and lay the responsibilty at the door of?\" he asked on BBC Radio 4's World at One programme.He warned that if drinking establishments were allowed to open until three or four in the morning the police would have to take officers off day shifts in order to do their job effectively at night. Earlier this year the Royal College of Physicians said it opposed the plan to extend drinking hours when there was already an \"epidemic\" of binge drinking. Minister Richard Caborn said the government was tackling the causes and the symptoms of the problem by allowing more powers to close down problem premises. It is hoped that allowing pubs and clubs to stay open longer will stagger closing times and end the current situation where drinkers spill on to the streets all at once. Earlier Tony Blair defended the plans against criticism from one of his own backbenchers.\"My view of this is very clear: we should have the same flexibility that other countries have and then we should come down really hard on those who abuse that freedom and don't show the responsibility,\" he told MPs. \"The law-abiding majority who want the ability, after going to the cinema or theatre say, to have a drink at the time they want should not be inconvenienced, we shouldn't have to have restrictions that no other city in Europe has, just in order to do something for that tiny minority who abuse alcohol, who go out and fight and cause disturbances. \"To take away that ability for all the population - even the vast majority who are law abiding - is not, in my view, sensible.\" This week a judge claimed easy access to drink was breeding \"urban savages\" and turning town centres into no go areas. Judge Charles Harris QC made his remarks as he sentenced three men for assaults carried out while drunk and high on drugs after a night out.</td></tr><tr><th>9</th><td>Business</td><td>US manufacturing expands</td><td>US industrial production increased in December, according to the latest survey from the Institute for Supply Management (ISM).Its index of national manufacturing activity rose to 58.6 last month from 57.8 in November. A reading above 50 indicates a level of growth. The result for December was slightly better than analysts' expectations and the 19th consecutive expansion. The ISM said the growth was driven by a \"significant\" rise in the new orders. \"This completes a strong year for manufacturing based on the ISM data,\" said chairman of the ISM's survey committee. \"While there is continuing upward pressure on prices, the rate of increase is slowing and definitely trending in the right direction.\"The ISM's index of national manufacturing activity is compiled from monthly responses of purchasing executives at more than 400 industrial companies, ranging from textiles to chemicals to paper, and has now been above 50 since June 2003. Analysts expected December's figure to come in at 58.1. The ISM manufacturing index's main sister survey - the employment index - eased to 52.7 in December from 57.6 in November, while its \"prices paid\" index, measuring the cost to businesses of their inputs, also eased to 72.0 from 74.0. The ISM's \"new orders\" index rose to 67.4 from 61.5.</td></tr><tr><th>10</th><td>Tech</td><td>Slim PlayStation triples sales</td><td>Sony PlayStation 2's slimmer shape has proved popular with UK gamers, with 50,000 sold in its first week on sale.Sales have tripled since launch, outstripping Microsoft's Xbox, said market analysts Chart-Track. The numbers were also boosted by the release of the PS2-only game Grand Theft Auto: San Andreas. The title broke the UK sales record for video games in its first weekend of release. Latest figures suggest it has sold more than 677,000 copies.\"It is obviously very, very encouraging for Sony because Microsoft briefly outsold them last week,\" John Houlihan, editor of Computerandvideogames.com told BBC News. \"And with Halo 2 [for Xbox] out next week, it really is a head-to-head contest between them and Xbox.\"Although Xbox sales over the last week also climbed, PS2 sales were more than double that. The figures mean Sony is reaching the seven million barrier for UK sales of the console. Edinburgh-based developer, Rockstar, which is behind the GTA titles, has seen San Andreas pull in an estimated Â£24m in gross revenues over the weekend. In comparison, blockbuster films like Harry Potter and The Prisoner Of Azkaban took Â£11.5m in its first three days at the UK box office. The Lord of the Rings: The Return of the King took nearly Â£10m over its opening weekend, although games titles are four to five times more expensive than cinema tickets.Gangster-themed GTA San Andreas is the sequel to Grand Theft Auto Vice City which previously held the record for the fastest-selling video game ever. The Xbox game Halo 2, released on 11 November in the UK, is also widely tipped to be one of the best-selling games of the year. The original title won universal acclaim in 2001, and sold more than four million copies.Mr Houlihan added that Sony had done well with the PS2, but it definitely helped that the release of San Andreas coincided with the slimline PS2 hitting the shelves. The run-up to Christmas is a huge battlefield for games consoles and titles. Microsoft's Xbox had been winning the race up until last week in sales. The sales figures also suggest that it may be a largely adult audience driving demand, since GTA San Andreas has an 18 certificate. Sony and Microsoft have both reduced console prices recently and are preparing the way for the launches of their next generation consoles in 2005. \"Both have hit crucial price points at around Â£100 and that really does open up new consoles to new audience, plus the release of two really important games in terms of development are also driving those sales,\" said Mr Houlihan.</td></tr><tr><th>11</th><td>Business</td><td>Asia shares defy post-quake gloom</td><td>Thailand has become the first of the 10 southern Asian nations battered by giant waves at the weekend to cut its economic forecast.Thailand's economy is now expected to grow by 5.7% in 2005, rather than 6% as forecast before tsunamis hit six tourist provinces. The full economic costs of the disaster remain unclear. In part, this is because of its scale, and because delivering aid and recovering the dead remain priorities. But Indonesian, Indian and Hong Kong stock markets reached record highs on Wednesday, suggesting that investors do not fear a major economic impact.The highs showed the gap in outlook between investors in large firms and individuals who have lost their livelihoods.Investors seemed to feel that some of the worst-affected areas - such as Aceh in Indonesia - were so under-developed that the tragedy would little impact on Asia's listed companies, according to analysts. \"Obviously with a lot of loss of life, a lot of time is needed to clean up the mess, bury the people and find the missing. But it's not necessarily a really big thing in the economic sense,\" said ABN Amro chief Asian strategist Eddie Wong. India's Bombay Stock Exchange inched slightly above its previous record close on Wednesday. Expectations of strong corporate earnings in 2005 drove the Indonesian stock exchange in Jakarta to a record high on Wednesday. In Hong Kong, the Hang Seng index may be benefiting in part from the potential for its listed property companies to gain from rebuilding contracts in the tsunami-affected regions of South East Asia. In Sri Lanka, some economists have said that as much as 1% of annual growth may be lost. Sri Lanka's stock market has fallen about 5% since the weekend, but it is still 40% higher than at the start of 2004.Thailand may lose 30bn baht (Â£398m; $768m) in earnings from tourism over the next three months, according to tourism minister Sontaya Kunplome.In the affected provinces, he expects the loss of tourism revenue to be offset by government reconstruction spending. Thailand intends to spend a similar sum - around 30bn baht - on the rebuilding work. \"It will take until the fourth quarter of next year before tourist visitors in Phuket and five other provinces return to their normal level,\" said Naris Chaiyasoot, director general at the ministry's fiscal policy office. In the Maldives the cost of reconstruction could wipe out economic growth, according to a government spokesman. \"Our nation is in peril here,\" said Ahmed Shaheed, the chief government spokesman. He estimated the economic cost of the disaster at hundreds of millions of dollars. The Maldives has gross domestic product of $660m. \"It won't be surprising if the cost exceeds our GDP,\" he said. \"In the last few years, we made great progress in our standard of living - the United Nations recognised this. Now we see this can disappear in a few days, a few minutes.\" Shaheed noted that investment in a single tourist resort - the economic mainstay - could run to $40m. Between 10 and 12 of the 80-odd resorts have been severely damaged, and a similar number have suffered significant damage. However, many experts, including the World Bank, have pointed out that it is still difficult to assess the magnitude of the disaster and its likely economic impact.</td></tr><tr><th>12</th><td>Sport</td><td>Reds sink 10-man Magpies</td><td>Titus Bramble's own goal put Liverpool on the comeback trail as injury-hit Newcastle were well beaten at Anfield.Patrick Kluivert's close-range finish put Newcastle ahead after 31 minutes, but they were pegged back as Bramble headed in Steven Gerrard's corner. Neil Mellor gave Liverpool the lead before half-time from Milan Baros' pass before the Czech added a third after rounding Shay Given on the hour. Newcastle then had Lee Bowyer sent off for two bookable offences. Liverpool brought back Luis Garcia after a hamstring injury, while Newcastle were forced to draft in Kluivert after Craig Bellamy was a late withdrawal with a back injury sustained in the warm-up. And Garcia should have crowned his return with a goal inside the opening minute when he took a pass from Baros but shot wildly over the top from eight yards. Olivier Bernard was only inches away from giving Newcastle the lead after 20 minutes, when he fired just wide from a free-kick 25 yards out. But Souness's side did go ahead 11 minutes later in highly controversial circumstances.Kluivert looked suspiciously offside when Kieron Dyer set Bowyer free, but the Dutchman was then perfectly placed to score from six yards. The lead lasted three minutes, with Liverpool back on terms as Bramble headed Gerrard's corner into his own net under pressure from Sami Hyypia. And Liverpool were ahead after 37 minutes when Baros slid a perfect pass into Mellor's path for the youngster to slip a slide-rule finish into Given's bottom corner. Garcia's finishing was wayward, and he was wasteful again in first-half injury time, shooting tamely at Given after good work by Xabi Alonso. Any hopes of a Newcastle recovery looked to be snuffed out on the hour when a brilliant turn and pass by Harry Kewell set Baros free and he rounded Given to score. Jermaine Jenas then missed a glorious chance to throw Newcastle a lifeline, shooting over from just eight yards out from Shola Ameobi's cross. Then Bowyer, who had already been booked for a foul on Alonso, was deservedly shown the red card by referee Graham Poll for a wild challenge on Liverpool substitute Florent Sinama-Pongolle.Dudek, Finnan, Hyypia, Carragher, Riise, Luis Garcia (Nunez 73), Gerrard, Alonso, Kewell (Traore 85), Baros, Mellor (Sinama Pongolle 75).Subs not used: Hamann, Harrison.Bramble 35 og, Mellor 38, Baros 61.Given, Andrew O'Brien, Elliott, Bramble, Bernard, Bowyer, Dyer (Ambrose 80), Jenas, Milner (N'Zogbia 72), Kluivert (Robert 58), Ameobi.Subs not used: Harper.Bowyer (77).Bowyer, Elliott, Bernard.Kluivert 32.43,856.G Poll (Hertfordshire).</td></tr><tr><th>13</th><td>Politics</td><td>'Best person' for top legal job</td><td>The \"best person for the job\" should be appointed lord chancellor, and not necessarily a lawyer or MP, the courts minister has told MPs.Under reforms, the post of lord chancellor is to be stripped of its judicial functions. \"The lord chancellor...no more needs to be a lawyer than the Secretary of Health needs to be a doctor,\" said courts minister Christopher Leslie. The Constitutional Reform Bill was entering its second reading on Monday. Mr Leslie said: \"The prime minister should be able to appoint the best person for the job whether they sit in the House of Lords or the House of Commons.\" Under the reforms, the Law Lords will also be replaced as the UK's highest legal authority by a Supreme Court and judges will be appointed by an independent panel rather than ministers.In December the Lords rejected a plea by current Lord Chancellor Lord Falconer that the holder of the job should not necessarily be a lawyer or a peer. The peers voted by 229 to 206 to say in law that lord chancellors must also be peers. The debate was carried over from the last Parliamentary session, but with an impending general election time is crucial for the government to get the Bill passed. Mr Leslie said it was irrelevant whether the post was called Secretary of State for Constitutional Affairs or Lord Chancellor. He said: \"What matters most is...whether it is reformed so that the post holder no longer has those conflicting duties. \"It is no longer appropriate for a government minister to have such unfettered discretion in the appointment of judges.\"Shadow attorney general Dominic Grieve criticised the government on its plans to change what he said was an \"exceptional institution,\" providing a \"champion of the independence of the judiciary\". The government had initially proposed to take this institution and \"smash it to pieces,\" Mr Grieve said. Convention should be \"nurtured and celebrated,\" but the government distrusted and disliked it instead. He warned that unless ministers backed down over the lord chancellor remaining a member of the House of Lords, the government would have \"great difficulty\" in getting the Bill through Parliament. Former Cabinet minister Douglas Hogg, whose father and grandfather served as lord chancellor, said the Bill was \"largely unnecessary, bureaucratic and expensive\". But the Tory MP for Sleaford and North Hykeham admitted the lord chancellor's role and office \"cannot be frozen in aspic\".</td></tr><tr><th>14</th><td>Tech</td><td>Sony PSP tipped as a 'must-have'</td><td>Sony's Playstation Portable is the top gadget for 2005, according to a round-up of ultimate gizmos compiled by Stuff Magazine.It beats the iPod into second place in the Top Ten Essentials list which predicts what gadget-lovers are likely to covet this year. Owning all 10 gadgets will set the gadget lover back Â£7,455. That is Â£1,000 cheaper than last year's list due to falling manufacturing costs making gadgets more affordable.Portable gadgets dominate the list, including Sharp's 902 3G mobile phone, the Pentax Optio SV digital camera and Samsung's Yepp YH-999 video jukebox.\"What this year's Essentials shows is that gadgets are now cheaper, sexier and more indispensable than ever. We've got to the point where we can't live our lives without certain technology,\" said Adam Vaughan, editor of Stuff Essentials. The proliferation of gadgets in our homes is inexorably altering the role of the high street in our lives thinks Mr Vaughan. \"Take digital cameras, who would now pay to develop an entire film of photos? Or legitimate downloads, who would travel miles to a record shop when they could download the song in minutes for 70p?\" he asks. Next year will see a new set of technologies capturing the imaginations of gadget lovers, Stuff predicts. The Xbox 2, high-definition TV and MP3 mobiles will be among the list of must-haves that will dominate 2006, it says. The spring launch of the PSP in the UK is eagerly awaited by gaming fans.</td></tr><tr><th>15</th><td>Business</td><td>Green reports shun supply chain</td><td>Nearly 20% more UK top 250 firms produced non-financial reports on social and environment issues than last year.But of the 145 companies reporting, 76% didn't examine their supply chains, says the annual Directions survey. Green groups say putting pressure on supply chains is a major way companies can reduce their environmental impact. The survey is published by corporate social responsibility firm Context and branding firm SalterBaxter.Blake Lee-Harwood, campaigns director at Greenpeace in the UK, said: \"It's fairly meaningless to talk about your company's direction in terms of sustainability without having detailed knowledge of your supply chain. \"It's also important to get some kind of independent assessment of your reporting.\"Less than a quarter of companies (24%) get their corporate social responsibility (CSR) reports independently verified to provide assurances they are accurate and complete, says the survey. To date there are no set standards for non-financial reporting, although the Global Reporting Initiative, an independent pro-sustainability institution, is planning to establish some. The reports surveyed by Directions are published voluntarily. They are usually called corporate social responsibility (CSR) reports, sustainability reports, or social and environmental reports.Peter Knight, director of Context, says 24 UK top 250 companies reported for the first time this year and, in general, the quality of reports has improved. \"The corporate lexicon of homilies, generalities and soft assurances - fluff - is on its way out. There are less pictures of smiling children and butterflies.\" The UK government will soon require all quoted companies to report their social and environmental risks in a chapter in their annual reports, called the Operating and Financial Review. The regulation is not expected until 2005 and the first reports under this scheme will not be published before 2006. The US seems to lag Europe in producing corporate social responsibility reports. The majority of European top 50 companies (44) publish them and only 27 of the US top 50.</td></tr><tr><th>16</th><td>Tech</td><td>US hacker breaks into T-Mobile</td><td>A man is facing charges of hacking into computers at the US arm of mobile phone firm T-Mobile.The Californian man, Nicholas Lee Jacobsen, was arrested in October. Mr Jacobsen tried at least twice to hack T-Mobile's network and took names and social security numbers of 400 customers, said a company spokesman. The arrest came a year after T-Mobile uncovered the unauthorised access. The US Secret Service has been investigating the case. \"T-Mobile has stringent procedures in place where we monitor for suspicious activity so that limited his activities and we were able to take corrective action immediately,\" Peter Dobrow, a T-Mobile spokesperson said. It is thought that Mr Jacobsen's hacking campaign took place over at least seven months during which time he read e-mails and personal computer files, according to court records.Although Mr Jacobsen, 21, managed to get hold of some data, it is thought he failed to get customer credit card numbers which are stored on a separate computer system, said Mr Dobrow. T-Mobile confirmed that the US Secret Service was also looking into whether the hacker accessed photos that T-Mobile subscribers had taken with their camera phones. The Associated Press agency reported that Mr Jacobsen also read personal files on the Secret Service agent who was apparently investigating the case. A Los Angeles grand jury indicted Mr Jacobsen with intentionally accessing a computer system without authorisation and with the unauthorised impairment of a protected computer between March and October 2004. He is currently on bail. T-Mobile is a subsidiary company of Deutsche Telekom and has about 16.3 million subscribers in the US.</td></tr><tr><th>17</th><td>Business</td><td>Economy 'stronger than forecast'</td><td>The UK economy probably grew at a faster rate in the third quarter than the 0.4% reported, according to Bank of England deputy governor Rachel Lomax.Private sector business surveys suggest a stronger economy than official estimates, Ms Lomax said. Other surveys collectively show a rapid slowdown in UK house price growth, she pointed out. This means that despite a strong economic growth, base rates will probably stay on hold at 4.75%. Official data comes from the Office for National Statistics (ONS). Though reliable, ONS data takes longer to publish, so now the BoE is calling for faster delivery of data so it can make more effective policy decisions. \"Recent work by the Bank has shown that private sector surveys add value, even when preliminary ONS estimates are available,\" Ms Lomax said in a speech to the North Wales Business Club.The ONS is due to publish its second estimate of third quarter growth on Friday. \"The MPC judges that overall growth was a little higher in the third quarter than the official data currently indicate,\" Ms Lomax said. The Bank said successful monetary policy depends on having good information. Rachel Lomax cited the late 1980s as an example of a time when weak economic figures were published, but substantially revised upwards years later.\"The statistical fog surrounding the true state of the economy has proved a particularly potent breeding ground for policy errors in the past,\" she said. Improving the quality of national statistics is the single the best way of making sure the Monetary Policy Committee (MPC) makes the right decisions, she said. The Bank of England is working in tandem with the ONS to improve the quality and speed of delivery of data. Her remarks follow criticism from the House of Lords Economic Affairs Committee, which said the MPC had held interest rates too high given that inflation was way below the 2% target.A slowdown in the housing market and this year's surge in oil prices has made economic forecasting all the more tricky, leading to a more uncertain outlook. \"This year rising oil prices and a significant slowdown in the housing market have awoken bad memories of the 1970s and 1980s,\" Ms Lomax said. \"The MPC will be doing well if it can achieve the same stability over the next decade as we have enjoyed over the past 10 years.\" Decisions on interest rates are made after the MPC gathers together the range of indicators available every month. The clearest signals come when all indicators are pointing the same direction, Ms Lomax intimated. \"In economic assessment, there is safety in numbers.\"</td></tr><tr><th>18</th><td>Entertainment</td><td>Double win for Sea Inside</td><td>Spanish movie The Sea Inside has been named best picture and star Javier Bardem best actor at the Bangkok International Film Festival.Based on the true story of a paralysed man's battle to end his life, The Sea Inside was best foreign language film at the 2005 Golden Globe Awards. Annette Bening and Ana Geislerova shared the best actress award at the Bangkok festival. This year's event was scaled down following the Asian tsunami disaster.Falling Down and The Phantom of the Opera director Joel Schumacher won a lifetime achievement award while Hong Kong director Wong Kar-Wai was honoured for promoting Asian cinema. \"It's a great honour, I want to share this honour with my Thai colleagues,\" Wong said. French writer Christophe Barratie and Korean writer Park Chan-Chook shared the best screenplay award for Les Choristes and Old Boy respectively. Now in its third year, the Bangkok International Film Festival is donating profits from ticket sales to the tsunami relief fund.</td></tr><tr><th>19</th><td>Entertainment</td><td>Children vote Shrek 2 best film</td><td>Young UK film fans voted animated Hollywood hit Shrek 2 best film at the children's Bafta awards on Sunday.More than 6,000 children voted in the only category chosen by fans. Harry Potter and the Prisoner of Azkaban, runner-up in the poll, was the choice of the Bafta experts who named it best feature film. BBC One Saturday morning show Dick and Dom In Da Bungalow won two awards - best entertainment and best presenters for Richard McCourt and Dominic Wood.Former Playschool presenter Floella Benjamin was awarded the Special Award for outstanding creative contribution to children's film and television. She first appeared on Playschool 25 years ago and was made an OBE in 2001 for services to broadcasting. South American-themed cartoon Joko! Jakamoko! Toto! won the honour for pre-school animation and its writer Tony Collingwood for original writer. Debbie Isitt won the award for best adapted writer for her work with Jacqueline Wilson's The Illustrated Mum, which won the award for best schools drama.Schools' Factual (primary) - Thinking Skills: Think About It - Hiding PlacesSchools' Factual (secondary) - In Search of the Tartan TurbanPre-School Live Action - BalamoryAnimation - Brush HeadDrama - FeatherboyFactual - Serious Desert Interactive Bafta - King Arthur International category - 8 Simple Rules for Dating my Teenage Daughter</td></tr><tr><th>20</th><td>Sport</td><td>Parry relishes Anfield challenge</td><td>BBC Sport reflects on the future for Liverpool after our exclusive interview with chief executive Rick Parry.Chief executive Parry is the man at the helm as Liverpool reach the most crucial point in their recent history. Parry has to deliver a new 60,000-seat stadium in Stanley Park by 2007 amid claims of costs spiralling above Â£120m. He is also searching for an investment package of a size and stature that will restore Liverpool to their place at European football's top table. But it is a challenge that appears to sit easily with Parry, who has forged a reputation as one of football's most respected administrators since his days at the fledgling Premier League.Liverpool have not won the championship since 1990, a fact that causes deep discomfort inside Anfield as they attempt to muscle in on the top three of Chelsea, Manchester United and Arsenal. Throw in the small matter of warding off every top club in world football as they eye captain Steven Gerrard, and you can see Parry is a man with a lot on his plate. But in the comfort of a conference room deep inside Liverpool's heartbeat - The Kop end - Parry spoke to us with brutal honesty about the crucial months ahead. He only dodged one question - when asked to reveal the name of the mystery investor currently courting Liverpool, a polite smile deflected the inquiry. But to his credit, he met everything else head on in measured tones that underscore the belief that Liverpool still mean business.By business he means becoming title challengers again, and locking the pieces together that will help return the trophy to Liverpool is Parry's mission. Parry has already successfully put one of those planks in place in the form of new manager Rafael Benitez. And his enthusiasm for the Spaniard's personality and methods is an indication of his clear feeling that he has struck gold. Benitez's early work has given Parry renewed optimism about the years ahead. But it remains a massive task at a club with a unique history and expectations. This will not come as news to Parry, a lifelong Liverpool supporter, but his quiet determination suggests he is no mood to be found wanting...Captain Gerrard is central to Liverpool's plans and Parry's insistence that all offers will be refused is a firm statement of intent. As ever, the player will have the final say, and Parry acknowledges that, but he is determined to provide the framework and environment for Liverpool and Gerrard to flourish.In terms of the search for new investment, Hawkpoint were appointed as advisors to flush out interest in March 2004. Thailand Prime Minister Thaksin Shiniwatra came and went, while the most serious statement of intent came from tycoon and lifelong fan Steve Morgan. Morgan had a succession of bids rejected, having come close in the summer only for talks to break down over potential costs for the new stadium. BBC Sport understands Morgan is still ready and willing to invest in Liverpool, and Parry has kept the door ajar despite currently seeking investment elsewhere.Morgan, however, has had no formal contact with Liverpool or their advisors since last December, blaming indecision at board level as he publicly withdrew his Â£70m offer. He was also convinced his interest was being used to lure in others, so any new approach would now have to come from Liverpool. Morgan will certainly not be making another call. So speculation continues about the new benefactor, with trails leading to the Middle East and America, but all met with an understandable veil of secrecy from Anfield.Parry meanwhile sees the new ground as crucial to Liverpool's future, but is refusing to become emotionally attached to the idea. He is determined the ground will only be built on an affordable basis and will not make future Liverpool management hostages to the new stadium. Parry will pull back the moment the figures do not stack up, but there has been a vital new development in North London that has re-shaped Liverpool's thinking.Liverpool have publicly refused to entertain the idea of stadium sponsorship and potential naming rights - but the realism of Arsenal's stunning Â£100m deal for their new Emirates Stadium at Ashburton has changed the landscape. Parry labelled the deal \"an eye-opener\" and admits Liverpool would be missing a trick not to explore the possibilities. He knows some traditionalist Liverpool fans will reel at any attempt to call the new stadium anything other than just 'Anfield', but the maths of modern-day football decree that multi-millions for stadium and team could ease the pain.I would take Â£50m if we had no investment, but if we did, keep him. As for the stadium, if it gets us cash what difference does it make really?Â£50m for Gerrard? I don't care who you are, the Directors would take the money and it is the way it should be. We cannot let that sum of money go, despite Gerrard's quality.Through a cleverly worded statement, the club has effectively forced Gerrard to publicly make the decision for himself, which I think is the right thing to do.Critical time for Liverpool with regards to Gerrard. Ideally we would want to secure his future to the club for the long term. I am hoping he doesn't walk out of the club like Michael Owen did for very little cash.Â£50m realistically would allow Rafa to completely rebuild the squad, however, if we can afford to do this AND keep Gerrard we will be better for it. I would however be happy with Gerrard's transfer for any fee over Â£35m.Parry's statements are clever in that any future Gerrard transfer cannot be construed as a lack of ambition by the club to not try and keep their best players. Upping the ante is another smart move by Parry.I would keep Gerrard. No amount of money could replace his obvious love of the club and determination to succeed.The key is if Gerrard comes out and says that he is happy. Clearly, if he isn't, then we would be foolish not to sell. The worrying thing is who would you buy (or who would come) pending possible non-Champions League football.</td></tr><tr><th>21</th><td>Politics</td><td>Pre-poll clash on tax and spend</td><td>Labour and the Tories have clashed over tax and spending plans as the row over Gordon Brown's Budget turned into a full scale pre-election battle.Tony Blair claimed a Tory government would \"cut\" Â£35bn from public services hitting schools, hospitals and police. Tory chairman Liam Fox accused Labour of \"at best misrepresentation at worst a downright lie\" and said the \"smear\" tactics were a sign of desperation. The Lib Dems accused Mr Brown of ducking the issue of council tax rises.Appearing together at a Labour poster launch, the prime minister hailed his chancellor's \"brilliant\" performance. And he claimed the Tories would cut Â£35bn from public services, which was the equivalent of sacking every doctor and teacher in the UK.The Tories said they would not cut spending but agreed public spending would increase more slowly under their plans - leading to a total of Â£33.5bn less spending than that anticipated by Labour by 2011. But they say not a single doctor, teacher or nurse will be cut. Dr Fox said: \"We have said we will be spending more, year on year over and above inflation. \"And to call that a cut is at best a misrepresentation, at worst a downright lie.\"Tory shadow chancellor Oliver Letwin also predicted Mr Brown would have to raise taxes by Â£10bn or Â£11bn if Labour was re-elected because he was borrowing and spending too much. For the Lib Dems, Vince Cable said the chancellor had failed to deal with the \"looming problems\" of revaluation of council tax bands which he argued would result in \"massive increases\" for some. Mr Brown and Mr Blair staged a show of unity on Thursday morning, the day after the chancellor delivered a record-breaking ninth Budget.Mr Cable said taxation as a share of the economy would go up under all three of the main parties. The chancellor meanwhile insisted his spending plans were \"affordable\". In Wednesday's Budget, Mr Brown doubled the level at which homebuyers pay stamp duty, unveiled a rise in child tax credit and a Â£200 council tax refund for over-65s. Defending the plans, he told Today: \"I will take no risks with the stability of the economy. \"All our spending plans announced yesterday [Wednesday], including what we can do for pensioners, as well as for young families and on stamp duty and inheritance tax, all these are costed and affordable.\" In a further sign, if any were needed, that the election is approaching, the House of Commons authorities have formally told MPs their offices will be \"deep cleaned\" during the three-week poll campaign. Mr Blair has yet to name the day - but it is widely expected to be 5 May.</td></tr><tr><th>22</th><td>Politics</td><td>Escaped prisoner report ordered</td><td>First Minister Jack McConnell has ordered a report on the decision to allow a paranoid schizophrenic knife attacker to go on a visit unguarded.Michael Ferguson, 36, escaped after being allowed out of the high-security Carstairs unit. The SNP's Nicola Sturgeon has demanded to know who was responsible for signing off the leave. The Scottish Executive said ministers would be notified but it would \"not be common practice\" to sign approval. An executive spokesman said the health department and the state hospital itself would work together on preparing the report. Ministerial responsibility for Carstairs rests with Rhona Brankin, the deputy health minister. Ms Brankin said: \"The first minister has called for a review of what has happened, we need to talk to the state hospital and we need to reflect on this.\" Ms Sturgeon has written to Mr McConnell asking for clarification on the move to allow the prisoner out. She said questions must be answered about his escape, if the public is to be reassured about safety. Police are still searching for Ferguson, who failed to return after a trip to East Kilbride on Monday.The Scottish National Party's parliamentary leader argued that under the law, authorisation of Ferguson's leave of absence would have come directly from ministers. She said: \"The Scottish Executive seemed to indicate yesterday that the escape of Mr Ferguson was a matter for Carstairs. \"However, my understanding is that, under the mental health legislation, the decision to grant this patient - and any restricted patient - leave of absence, would have required direct and specific authorisation by Scottish ministers.\" She added: \"I have written to the first minister today asking for confirmation of that fact. I have also asked him to confirm which minister would routinely take decisions of this nature and what information they are based on. \"This is not an attempt to apportion blame, but to ensure a better understanding of the decision making process in such important and sensitive cases.\"Police said Ferguson posed a danger to the public. BBC Scotland political correspondent Glenn Campbell said the first minister had ordered an urgent report into the situation. He said: \"We understand from the executive that in this case no individual minister signed off the approval for Michael Ferguson to be released unescorted from Carstairs. \"The executive concedes that it is up to Scottish ministers, they have a legal responsibility for approving this sort of leave, but they say routinely it is specialised officials that make that decision and simply inform ministers that they have taken it. \"But at that stage presumably ministers can ask hard questions and can ask for reassurances that the patient is not a serious danger to the public or that any risk has been minimised.\" Scottish Conservative leader, David McLetchie, said earlier it was \"almost beyond belief that this has been allowed to happen\".The executive spokeswoman said the recommendation for leave was agreed by a psychiatric advisor \"in conjunction with officials on behalf of ministers\". She said: \"Ministers were told of that, notified of it, but it would not be common practice for them to sign it off. \"They do have statutory responsibility, but the common practice has been that people who work with the patient and have the best knowledge about risk would make that decision.\" Ferguson, who slashed a man in a doctors' surgery in Coatbridge in 1994, had been out to see his fianc&amp;#233;e Annabella Holmes, 47, whom he met when she was a patient at the high security complex in South Lanarkshire. He is described as being 5ft 9ins tall, slim, with blond hair, blue eyes and a fair complexion. Ferguson was wearing a black jacket, grey jeans, black jumper and black shoes when he was last seen. He has multiple fading tattoos on his left hand and a very faded tear tattoo under his left eye. Ms Holmes is not missing but there have been no sightings of Ferguson since Monday. Strathclyde Police asked anyone who spots Ferguson to contact Sergeant Keith McDonald on.</td></tr><tr><th>23</th><td>Politics</td><td>Blair told to double overseas aid</td><td>Tony Blair is being urged to use all his negotiating powers to end poor countries' debt and double aid.Some 45 million children will die needlessly before 2015 and aid budgets are half their 1960 levels, Oxfam says in a report, Paying the Price. The call comes as the prime minister prepares to assume the presidency of the G8 of top industrialised nations. \"As rich countries get richer, they're giving less and less. This scandal must stop,\" Oxfam's Barbara Stocking said.\"The world's poorest children are paying for rich countries' policies in aid and debt with their lives. \"2005 offers the chance for an historic breakthrough, but unless world leaders act now the year will end in shameful failure,\" the charity's director added. The report said: \"For rich countries, providing aid to help to end global poverty is an obligation and a matter of justice, not an act of charity.\" It also points out that in 1970 the G8 of top industrialised nations agreed to spend 0.7% of their incomes on aid. But 34 years later none of the organisations members have reached this target and many have not yet set a timetable, the report says.It argues that the price of not investing in poor countries' sustainable development will be felt across the world. The report said: \"Global poverty threatens our shared prosperity and security. \"Environmental crises and natural disasters, disease and drug trafficking know no national borders. Poverty heightens the likelihood of conflict and unrest. \"New threats to the peace and security of rich nations arise from poverty and gross inequalities. \"Criminal and terrorist networks are more likely to operate where state institutions are weak.\"Both the prime minister and Chancellor Gordon Brown have called for urgent action to fight world poverty. Mr Blair, who has described Africa as a \"scar\" on the world's conscience, has already said tackling world poverty would be one his G8 priorities along with climate change and the Aids epidemic. Mr Brown has also pledged to write off the debt owed to Britain by the world's poor nations. A spokeswoman for the Department for International Development said: \"The government had made a clear commitment to reaching 0.7% of gross national income for overseas development aid by 2013. \"If Britain's proposal for an International Finance Facility were adopted, the objective of 0.7% could be achieved earlier, by 2008-09. \"These additional resources will be used to increase UK bilateral aid to Africa to at least Â£1.25bn a year by 2008 and spend at least Â£1.5bn on HIV/Aids related work over the next three years.\"</td></tr><tr><th>24</th><td>Sport</td><td>O'Driscoll saves Irish blushes</td><td>Two moments of magic from Brian O'Driscoll guided Ireland to a workmanlike victory against Italy.A pair of classic outside breaks from the Ireland captain set up tries for Geordan Murphy and Peter Stringer. Italy led 9-8 early in the second half but Stringer's try gave Ireland a lead they never lost. The hosts cut the gap to 18-12 with 10 minutes left and nearly scored through Ludovico Nitoglia, but Denis Hickie's try ensured an Irish victory. Italy came flying out of the blocks and took the lead through a Luciano Orquera penalty after seven minutes.It could have been better for the hosts but the fly-half missed two kickable penalties and Ireland drew level with a Ronan O'Gara penalty midway through the first half. The Italians were driving at the heart of the Irish defence and, for the first quarter, the Irish pack struggled to secure any ball for their talented backs.When they finally did, just before the half-hour mark, O'Driscoll promptly created a sparkling try for Murphy. The Ireland captain ran a dummy scissors and made a magical outside break before drawing the full-back and putting the diving Murphy in at the corner. O'Gara missed the twice-taken conversion and the visitors found themselves trailing once again. Roland de Marigny took over the kicking duties for Italy from the hapless Orquera, and he landed a penalty either side of the break to edge Italy into a 9-8 lead.The only Ireland player offering a real threat was O'Driscoll, and it was his break that set up the second try for the visitors. Shane Horgan threw an overhead pass as he was about to be forced into touch and Stringer scooted over, with O'Gara landing the tricky conversion. A penalty apiece saw Ireland leading 18-12 as the game entered the final quarter, but they were lucky to survive when Italy launched a series of attacks. Winger Nitoglia dropped the ball as he reached for the line and Italy nearly rumbled over from a driving maul.An O'Gara penalty put Ireland more than a converted try ahead and they made the game safe when Hickie latched onto an inside pass from Murphy and crossed for a converted try. O'Driscoll limped off late on, joining centre partner Gordon D'Arcy on the sidelines, and the final word went to Italy. Prop Martin Castrogiovanni powered over for a try which was fitting reward for an Italian pack which had kept the Irish under pressure throughout.De Marigny; Mi Bergamasco, Canale, Masi, Nitoglia; Orquera, Troncon; Lo Cicero, Ongaro, Castrogiovanni; Dellape, Bortolami; Persico, Ma Bergamasco, Parisse.Perugini, Intoppa, Del Fava, Dal Maso, Griffen, Pozzebon, Robertson.Murphy, Horgan, O'Driscoll, D'Arcy, Hickie, O'Gara, Stringer, Corrigan, Byrne, Hayes, O'Kelly, O'Connell, S Easterby, Leamy, Foley.Sheahan, Horan, O'Callaghan, Miller, G Easterby, Humphreys, Dempsey.P O'Brien (New Zealand)</td></tr><tr><th>25</th><td>Tech</td><td>Broadband challenges TV viewing</td><td>The number of Europeans with broadband has exploded over the past 12 months, with the web eating into TV viewing habits, research suggests.Just over 54 million people are hooked up to the net via broadband, up from 34 million a year ago, according to market analysts Nielsen/NetRatings. The total number of people online in Europe has broken the 100 million mark. The popularity of the net has meant that many are turning away from TV, say analysts Jupiter Research. It found that a quarter of web users said they spent less time watching TV in favour of the netThe report by Nielsen/NetRatings found that the number of people with fast internet access had risen by 60% over the past year.The biggest jump was in Italy, where it rose by 120%. Britain was close behind, with broadband users almost doubling in a year. The growth has been fuelled by lower prices and a wider choice of always-on, fast-net subscription plans. \"Twelve months ago high speed internet users made up just over one third of the audience in Europe; now they are more than 50% and we expect this number to keep growing,\" said Gabrielle Prior, Nielsen/NetRatings analyst. \"As the number of high-speed surfers grows, websites will need to adapt, update and enhance their content to retain their visitors and encourage new ones.\" The total number of Europeans online rose by 12% to 100 million over the past year, the report showed, with the biggest rise in France, Italy, Britain and Germany.The ability to browse web pages at high speed, download files such as music or films and play online games is changing what people do in their spare time.A study by analysts Jupiter Research suggested that broadband was challenging television viewing habits. In homes with broadband, 40% said they were spending less time watching TV. The threat to TV was greatest in countries where broadband was on the up, in particular the UK, France and Spain, said the report. It said TV companies faced a major long-term threat over the next five years, with broadband predicted to grow from 19% to 37% of households by 2009. \"Year-on-year we are continuing to see a seismic shift in where, when and how Europe's population consume media for information and entertainment and this has big implications for TV, newspaper and radio,\" said Jupiter Research analyst Olivier Beauvillian.</td></tr><tr><th>26</th><td>Sport</td><td>Ferrero eyes return to top form</td><td>Former world number one Juan Carlos Ferrero insists he can get back to his best despite a tough start to 2005.The 2003 French Open champion has slipped to 64 in the world after a year of illness and injuries in 2004, but is confident that his form will return. \"I don't know when it is going to happen,\" Ferrero told BBC Sport. \"But I have a lot of confidence in me that I will be the same Juan Carlos as I was before, and very soon. I feel 100% again mentally.\" The 25-year-old Spaniard joins a top field for the ABN AMRO World Tennis Tournament in Rotterdam this week as he looks to add to just two wins in 2005. He opens against Rainer Schuettler and potentially faces fourth seed David Nalbandian in the second round. \"Because I'm no longer seeded it's tougher,\" Ferrero admitted. \"I had to play against Joachim Johansson in the first round last week in Marseille.\"In the past when I was a top seed I would have played a match like that in the quarters or semi-finals. \"This is the big difference but I have to do it to get higher in the rankings.\" Despite this, Ferrero insists he is feeling positive after chicken pox and a rib injury destroyed last season. \"Physically I am 100% since December of last year,\" said Ferrero. \"I was working very hard before the Davis Cup final to prepare and I've felt 100% from then until now. \"The difficult moments were when I knew that I had the chicken pox and that it would take two or three months to recover. \"I had to start from zero again physically because the virus left me at zero per cent. \"When I started to come back I had my rib broken when I fell on court and that was another two months out. Those five months were pretty difficult for me.\"Among the low points of a difficult year for Ferrero was the decision of Spain captain Jordi Arrese to drop him for the Davis Cup final against the USA. \"It was difficult because I had been playing well for the whole year and the coaches told me that I would play,\" said Ferrero. \"But then I had some problems with my hand two days before the Friday matches so they decided to choose Nadal instead. \"It was difficult for me not to be in the Friday matches but I had to understand. \"Inside me I wanted to play but this was the decision of the captain and they had to make it.\"</td></tr><tr><th>27</th><td>Tech</td><td>Europe backs digital TV lifestyle</td><td>How people receive their digital entertainment in the future could change, following the launch of an ambitious European project.In Nice last week, the European Commission announced its Networked &amp; Electronic Media (NEM) initiative. Its broad scope stretches from the way media is created, through each of the stages of its distribution, to its playback. The Commission wants people to be able to locate the content they desire and have it delivered seamlessly, when on the move, at home or at work, no matter who supplies the devices, network, content, or content protection scheme. More than 120 experts were in Nice to share the vision of interconnected future and hear pledges of support from companies such as Nokia, Intel, Philips, Alcatel, France Telecom, Thomson and Telefonica. It might initially appear to be surprising that companies in direct competition are keen to work together. But again and again, speakers stated they could not see incompatible, stand-alone solutions working. A long-term strategy for the evolution and convergence of technologies and services would be required.The European Commission is being pragmatic in its approach. They have identified that many groups have defined the forms of digital media in the areas that NEM encompasses. The NEM approach is to take a serious look at what is available and what is in the pipeline, pick out the best, bring them together and identify where the gaps are. Where it finds holes, it will develop standards to fill them. What is significant is that such a large and powerful organisation has stated its desire for digital formats to be open to all and work on any gadget. This is bound to please, if not surprise, many individuals and user organisations who feel that the wishes of the holder of rights to content are normally considered over and above those of the consumer. Many feel that the most difficult and challenging area for the Commission will be to identify a solution for different Digital Rights Management (DRM) schemes. Currently DRM solutions are incompatible, locking certain types of purchased content, making them unplayable on all platforms. With the potential of having a percentage of every media transaction that takes place globally, the prize for being the supplier of the world's dominant DRM scheme is huge. Although entertainment is an obvious first step, it will encompass the remote provisions of healthcare, energy efficiency and control of the smart home. The 10-year plan brings together the work of many currently running research projects that the EC has been funding for a number of years.Simon Perry is the editor of the Digital Lifestyles website, which covers the impact of technology on media</td></tr><tr><th>28</th><td>Sport</td><td>Liverpool pledge to keep Gerrard</td><td>Liverpool chief executive Rick Parry insists the club will never sell Steven Gerrard amid reports Chelsea will renew their bid to lure him from Anfield.Gerrard reiterated his desire to win trophies with the Reds after his superb Champions League winner on Wednesday. And Parry has moved to scotch claims that Chelsea could launch a Â£35m bid. \"There is no chance of Stevie going in January,\" said Parry. \"That just won't happen. Our intention is that we will never let him go.\" Gerrard scored a spectacular late goal to give Liverpool a 3-1 win over Olympiakos and book their place in the knockout stages. \"Of course he is ambitious but so are we,\" Parry added. \"We firmly believe that if we can satisfy his ambition he will remain a Liverpool player. \"We have an open and straightforward relationship. We both know where we stand and that played a big part in his decision to stay last summer. If he was not so committed to Liverpool he would have gone by now.\" Gerrard had said before Wednesday's game he would consider leaving if the club was knocked out of Europe, with Real Madrid also believed to be monitoring his situation.\"The main point I have made is I want to be in a Liverpool side which challenges for the Champions League and the title all the time,\" he said afterwards. \"I want to be winning things with Liverpool, not somewhere else. \"I am a fan as well and I think what I have said the supporters will agree with. \"We have to build on wins like that, not just settle for a great win and then not progress any further. \"My goal was one of the most important I have ever scored and I hope it turns out to be one of the most important for the club for a long time. \"I know I put a lot of pressure on myself because of what I said, and I felt I needed a big performance, but I am not going to go around telling lies about how I feel.\"Reds manager Rafael Benitez believes Gerrard can win everything he wants to without moving clubs. \"Steven can win all he wants with us and we need him. He has seen that we have a good team and we can do more things in the future,\" said Benitez. \"But if we want to win more games, important games, we need Steven in the team. \"We need his strength, the strong mentality he has and his quality. I think he likes and wants the responsibility of leading this team.\"</td></tr><tr><th>29</th><td>Entertainment</td><td>Bening makes awards breakthrough</td><td>Film actress Annette Bening is up for an Oscar for her starring role in the award-winning film Being Julia.Bening, who was born in Texas in 1958, has gained prominence for a string of key roles. Although an Oscar has so far eluded her, her status as one of Hollywood's favourite actresses remains solid. One of the biggest Oscars buzzes in recent years was for Bening's role as troubled Carolyn Burnham in 1999's American Beauty. But her deliciously neurotic portrayal of surburban life turning sour was overlooked in favour of Hilary Swank's leading role in Boys Don't Cry. After opening her career in the theatre - and gaining a Tony Award nomination in 1986 - Bening had a low-key spell in television. She then made her film debut as a sex-starved wife in 1988's The Great Outdoors, opposite comics Dan Akroyd and John Candy.Following a cameo in Postcards From The Edge, Bening's breakthrough role came in 1990, playing seductive con artist Myra Langtry in The Grifters - a role that won her an Oscar nomination. Despite some rave reviews, Bening did not win the best supporting actress Academy Award.However the high-profile performance enabled Bening to capture roles in a number of big budget Hollywood productions, co-starring with some of Hollywood's greatest players, including Robert De Niro and Harrison Ford. But it was her role opposite Warren Beatty in 1991 gangster flick Bugsy which had the greatest impact. Bening played Virginia Hill, another role which won her high critical acclaim, but the film only picked up two of a staggering 12 Oscar nominations.Bugsy was the start of a very significant liaison for Bening - she married Beatty, with whom she had a child as the couple promoted the film in Europe. The couple now have four children together. A pair of contrasting yet successful performances peppered Bening's career in the mid-1990s. She played Michael Douglas' opposite number in romantic comedy The American President, and as a \"fiery\" Queen Elizabeth I in a contemporary adaptation of Shakespeare's Richard III.Bening was the first choice to play the female lead in American Beauty, director Sam Mendes' film debut which was a critical and commercial success - but the actress had to be content with a Bafta award for her strong performance. But current film Being Julia has made Bening an award-winning actress rather than the perennial nominee, with success at the Golden Globes. The witty tale of revenge and love set in 1930s London sees the eponymous theatrical diva - played by Bening - grow tired of her success and fall for a young American - and could be the role which finally wins her the coveted Academy Award.</td></tr><tr><th>30</th><td>Politics</td><td>Kennedy calls for Iraq exit plans</td><td>Tony Blair should set out a proper exit strategy from Iraq in the wake of next Sunday's elections in the country, Lib Dem leader Charles Kennedy has said.In a speech focusing on issues arising from the re-election of George W Bush, Mr Kennedy said Iraq had become a \"crucible of militant terrorism\". He wants to see a phased withdrawal of UK troops \"as soon as the situation allows\", he said in London. Any exit strategy must \"augment and support\" the democratic process.\"There are some who are of the opinion that the mere presence of British and American troops in Iraq feeds the insurgency,\" he said. \"There is some truth in that, especially after the initial mistakes that were made - the heavy-handedness of operations like Fallujah, and the well-publicised instances of abuse at the hands of coalition forces.\" Mr Kennedy pointed out that the Netherlands, Portugal and the Czech Republic, which all have troops operating in the southern sector of Iraq, have announced their imminent withdrawal \"regardless of the situation on the ground\".He accused Mr Blair's government of \"being less than straightforward\" over its plans. \"Next week the prime minister should make a statement regarding the elections in Iraq,\" Mr Kennedy said during his City of London speech. \"He should set out a proper exit strategy, including the phased withdrawal of British troops, as the security situation allows.\" Mr Kennedy also argued that British troops deployed in Iraq should be replaced with forces from other countries - \"especially Islamic countries\".</td></tr><tr><th>&vellip;</th><td>&vellip;</td><td>&vellip;</td><td>&vellip;</td></tr></tbody></table>"
      ],
      "text/latex": [
       "\\begin{tabular}{r|ccc}\n",
       "\t& Category & Heading & Article\\\\\n",
       "\t\\hline\n",
       "\t& String & String & String\\\\\n",
       "\t\\hline\n",
       "\t1 & Entertainment & Sky takes over Oscar night mantle & Sky has signed a major new deal to broadcast this year's Academy Awards, taking over from three years of live Oscar coverage on the BBC.Sky said it was \"honoured to have won exclusive broadcasting rights\" and promised to cover the event \"in a way no other broadcaster could\". The BBC denied it had lost a bidding war, saying it had \"decided to pass the mantle to another broadcaster\". The ceremony, hosted by newcomer Chris Rock, takes place on 27 February 2005.Sky's coverage will launch with the nominations on 25 January and will include themed programming across Sky channels including Sky News, Sky Travel and the Biography Channel. There will also be a month-long season of Oscar-winning films on Sky Movies in the run up to the event and live uninterrupted coverage on the night. \"We are honoured to have won the live and exclusive broadcasting rights for The Academy Awards,\" said Sky Networks' Sophie Turner Laing. \"Sky is the natural place to see the biggest and most prestigious film event of the year, and will cover the event in a way that no other broadcaster could.\"Sky first scooped Oscar rights from the BBC in 1999, but the BBC won them back in 2001 when Sky was forced to pull out of a bidding war due to financial constraints. \"BBC viewers will of course be able to watch quality coverage of the 2005 Academy Awards on the BBC's bulletins and news programmes,\" a spokesman said. Among the films tipped to do well at this year's Academy Awards are Martin Scorsese's The Aviator, Jean-Pierre Jeunet's A Very Long Engagement and the Ray Charles biopic, Ray. \\\\\n",
       "\t2 & Tech & Freeze on anti-spam campaign & A campaign by Lycos Europe to target spam-related websites appears to have been put on hold.Earlier this week the company released a screensaver that bombarded the sites with data to try to bump up the running costs of the websites. But the site hosting the screensaver now displays a pink graphic and the words \"Stay tuned\". No one at Lycos was available for comment on latest developments in its controversial anti-spam campaign.Lycos Europe's \"Make love not spam\" campaign was intended as a way for users to fight back against the mountain of junk mail flooding inboxes. People were encouraged to download the screensaver which, when their PC was idle, would then send lots of data to sites that peddle the goods and services mentioned in spam messages. Lycos said the idea was to get the spam sites running at 95\\% capacity and generate big bandwidth bills for the spammers behind the sites. But the plan has proved controversial.Monitoring firm Netcraft analysed response times for some of the sites targeted by the screensaver and found that a number were completely knocked offline.The downing of the sites could dent Lycos claims that what it is doing does not amount to a distributed denial of service attack. In such attacks thousands of computers bombard sites with data in an attempt to overwhelm them. Laws in many countries do not explicitly outlaw such attacks but many nations are re-drafting computer use laws to make them specific offences. Lycos Europe now appears to have put the plan on hold. The site hosting the screensaver currently shows a holding page, with the words, \"Stay tuned\". The numerical internet address of the site has also changed. This is likely to be in response to spammers who have reportedly redirected traffic from their sites back to the Lycos screensaver site. The campaign has come under fire from some corners of the web. Many discussion groups have said that it set a dangerous precedent and could incite vigilantism. \"Attacking a spammer's website is like poking a grizzly bear sleeping in your back garden with a pointy stick,\" said Graham Cluley, senior technology consultant for Sophos. \"Not only is this screensaver similar in its approach to a potentially illegal distributed denial of service attack, but it also is in danger of turning innocent computer users into vigilantes, who may not be prepared for whatever retaliation the spammers care to dream up.\" \\\\\n",
       "\t3 & Entertainment & Spark heads world Booker list & Dame Muriel Spark is among three British authors who have made the shortlist for the inaugural international Booker Prize.Doris Lessing and Ian McEwan have also been nominated. McEwan and Margaret Atwood are the only nominees to have previously won the main Booker Prize. The new Â£60,000 award is open to writers of all nationalities who write in English or are widely translated. The prize commends an author for their body of work instead of one book.Gabriel Garcia Marquez, Saul Bellow, Milan Kundera and John Updike also feature on the 18-strong list of world literary figures.But other past winners of the regular Booker Prize, such as Salman Rushdie, JM Coetzee and Kazuo Ishiguro have failed to make the shortlist. The prize, which will be awarded in London in June, will be given once every two years. It will reward an author - who must be living - for \"continued creativity, development and overall contribution to fiction on the world stage\". An author can only win once. The international award was started in response to criticisms that the Booker Prize is only open to British and Commonwealth authors.Margaret Atwood (Canada) Saul Bellow (Canada) Gabriel Garcia Marquez (Colombia) Gunter Grass (Germany) Ismail Kadare (Albania) Milan Kundera (Czech Republic) Stanislaw Lem (Poland) Doris Lessing (UK) Ian McEwan (UK) Naguib Mahfouz (Egypt) Tomas Eloy Martinez (Argentina) Kenzaburo Oe (Japan) Cynthia Ozick (US) Philip Roth (US) Muriel Spark (UK) Antonio Tabucchi (Italy) John Updike (US) Abraham B Yehoshua (Israel) \\\\\n",
       "\t4 & Business & Criminal probe on Citigroup deals & Traders at US banking giant Citigroup are facing a criminal investigation in Germany over a controversial bond deal.The deal saw the sale of 11bn euros (\\$14.4bn; Â£7.6bn) of government bonds in a few minutes on 2 August, with 4bn euros-worth then bought back later. The move was widely criticised at the time, and now the German regulator has said it has found evidence of possible market manipulation. Citigroup said it would continue to co-operate fully with the authorities. \"We are disappointed that the BaFin has referred to the prosecutor the question of whether action should be brought against individuals involved,\" Citigroup said. If the traders are found guilty, they could face a five-year jail term or a fine, Reuters reported BaFin as saying. However, under German criminal law, prosecutors cannot pursue Citigroup itself.Germany's financial watchdog BaFin told BBC News it had now transferred the investigation to the public prosecutor. \"I can confirm that BaFin has passed through the case to the public prosecutor,\" a BaFin spokeswoman said. \"It is now a criminal investigation.\" \"We found clues of possible market manipulation,\" the spokeswoman said, which included signs of linked bond trading ahead of the main trades on 2 August. \"Germany's Securities Trading Act says that if BaFin finds such clues, it has to put the case in the hands of the prosecutor.\" Regulatory investigations are still going on in France, the UK and elsewhere. Some Citigroup operations elsewhere in the world came under regulatory criticism in 2004. Its private banking operation in Japan was closed down by regulators in Tokyo after an \"aggressive sales culture\" led the bank to flout anti-money laundering rules. \\\\\n",
       "\t5 & Sport & Claxton hunting first major medal & British hurdler Sarah Claxton is confident she can win her first major medal at next month's European Indoor Championships in Madrid.The 25-year-old has already smashed the British record over 60m hurdles twice this season, setting a new mark of 7.96 seconds to win the AAAs title. \"I am quite confident,\" said Claxton. \"But I take each race as it comes. \"As long as I keep up my training but not do too much I think there is a chance of a medal.\" Claxton has won the national 60m hurdles title for the past three years but has struggled to translate her domestic success to the international stage. Now, the Scotland-born athlete owns the equal fifth-fastest time in the world this year. And at last week's Birmingham Grand Prix, Claxton left European medal favourite Russian Irina Shevchenko trailing in sixth spot.For the first time, Claxton has only been preparing for a campaign over the hurdles - which could explain her leap in form. In previous seasons, the 25-year-old also contested the long jump but since moving from Colchester to London she has re-focused her attentions. Claxton will see if her new training regime pays dividends at the European Indoors which take place on 5-6 March. \\\\\n",
       "\t6 & Business & FBI agent colludes with analyst & A former FBI agent and an internet stock picker have been found guilty of using confidential US government information to manipulate stock prices.A New York court ruled that former FBI man Jeffrey Royer, 41, fed damaging information to Anthony Elgindy, 36. Mr Elgindy then drove share prices lower by spreading negative publicity via his newsletter. The Egyptian-born analyst would extort money from his targets in return for stopping the attacks, prosecutors said. \"Under the guise of protecting investors from fraud, Royer and Elgindy used the FBI's crime-fighting tools and resources actually to defraud the public,\" said US Attorney Roslynn Mauskopf.Mr Royer was convicted of racketeering, securities fraud, obstruction of justice and witness tampering. Mr Elgindy was convicted of racketeering, securities fraud and extortion.The charges carry sentences of up to 20 years. When the guilty verdict was announced by the jury foreman, Mr Elgindy dropped his face into his hands and sobbed, the Associated Press news agency reported. He was led weeping from the court room by US marshals, AP said. Defense lawyers contended that Mr Royer had been feeding information to Mr Elgindy and another trader in an attempt to expose corporate fraud. Mr Elgindy's team claimed that he also was fighting against corporate wrongdoing. \"Elgindy's conviction marks the end of his public charade as a crusader against fraud in the market,\" said Ms Mauskopf. One of the more bizarre aspects of the trial focused on the claims that Mr Elgindy may have had foreknowledge of the 11 September terrorist attacks in New York and Washington. Mr Elgindy had been trying to sell stock prior to the attack and had predicted a slump in the market. No charges were brought in relation to these allegations. \\\\\n",
       "\t7 & Politics & 'UK will stand firm on EU rebate' & Britain's Â£3bn EU rebate is not up for renegotiation at next week's European Council summit, Jack Straw said.The foreign secretary told MPs the rebate, secured by Margaret Thatcher in 1984, was \"entirely justified\". New European commission president Jose Manuel Barroso has suggested the cash could be shared out among net contributors to the EU budget. Mr Straw acknowledged some countries in the newly enlarged 25 nation EU still had to \"see the light\" on the rebate.But the foreign secretary told the Commons foreign affairs committee: \"Our position is very clear: it is entirely justified and it is not for negotiation.\" He added that he did not think there would be a political price to pay for the UK's stance - Britain contributed more and received less than other EU states. The two-day European Council summit in Brussels begins on 16 December and is widely expected to mark the beginning of a lengthy negotiating period over the EU's budget for 2007-13. The wrangling could stretch into 2005, even 2006.The UK, France, Germany, Austria, the Netherlands and Sweden want the EU budget to be capped at 1\\% of member states' combined national incomes - the Commission wants it to be 1.26\\%. Mr Straw said the EU commission's proposal would mean a 35\\% hike in the budget. \"I don't know of any national government thinking of increasing its budget by that amount,\" he added. The foreign secretary said he hoped the talks next week could produce a date in 2005 for the beginning of negotiations with Turkey about possible EU membership although that there would be no prospect of a date for joining for some time. \\\\\n",
       "\t8 & Politics & Tories opposing 24-hour drinking & The Tories say plans to extend pub opening times should be put on hold until binge drinking is under control, despite backing a law change last year.Spokesman David Davis said ministers had failed to make his party aware of concern among senior police that plans would cause more anti-social behaviour. Notts police chief Steve Green said innocent people would suffer. But Culture Secretary Tessa Jowell said a delay would be \"disastrous\" and she accused the Tories of opportunism. The government would go ahead with the changes which would give police more power to tackle excessive drinking, she added. Earlier chief constable Green questioned how his officers would be able to practically apply powers allowing them to shut down problem premises. \"If you look at the Market Square in Nottingham, if a fight takes place which licensed premises do you go and lay the responsibilty at the door of?\" he asked on BBC Radio 4's World at One programme.He warned that if drinking establishments were allowed to open until three or four in the morning the police would have to take officers off day shifts in order to do their job effectively at night. Earlier this year the Royal College of Physicians said it opposed the plan to extend drinking hours when there was already an \"epidemic\" of binge drinking. Minister Richard Caborn said the government was tackling the causes and the symptoms of the problem by allowing more powers to close down problem premises. It is hoped that allowing pubs and clubs to stay open longer will stagger closing times and end the current situation where drinkers spill on to the streets all at once. Earlier Tony Blair defended the plans against criticism from one of his own backbenchers.\"My view of this is very clear: we should have the same flexibility that other countries have and then we should come down really hard on those who abuse that freedom and don't show the responsibility,\" he told MPs. \"The law-abiding majority who want the ability, after going to the cinema or theatre say, to have a drink at the time they want should not be inconvenienced, we shouldn't have to have restrictions that no other city in Europe has, just in order to do something for that tiny minority who abuse alcohol, who go out and fight and cause disturbances. \"To take away that ability for all the population - even the vast majority who are law abiding - is not, in my view, sensible.\" This week a judge claimed easy access to drink was breeding \"urban savages\" and turning town centres into no go areas. Judge Charles Harris QC made his remarks as he sentenced three men for assaults carried out while drunk and high on drugs after a night out. \\\\\n",
       "\t9 & Business & US manufacturing expands & US industrial production increased in December, according to the latest survey from the Institute for Supply Management (ISM).Its index of national manufacturing activity rose to 58.6 last month from 57.8 in November. A reading above 50 indicates a level of growth. The result for December was slightly better than analysts' expectations and the 19th consecutive expansion. The ISM said the growth was driven by a \"significant\" rise in the new orders. \"This completes a strong year for manufacturing based on the ISM data,\" said chairman of the ISM's survey committee. \"While there is continuing upward pressure on prices, the rate of increase is slowing and definitely trending in the right direction.\"The ISM's index of national manufacturing activity is compiled from monthly responses of purchasing executives at more than 400 industrial companies, ranging from textiles to chemicals to paper, and has now been above 50 since June 2003. Analysts expected December's figure to come in at 58.1. The ISM manufacturing index's main sister survey - the employment index - eased to 52.7 in December from 57.6 in November, while its \"prices paid\" index, measuring the cost to businesses of their inputs, also eased to 72.0 from 74.0. The ISM's \"new orders\" index rose to 67.4 from 61.5. \\\\\n",
       "\t10 & Tech & Slim PlayStation triples sales & Sony PlayStation 2's slimmer shape has proved popular with UK gamers, with 50,000 sold in its first week on sale.Sales have tripled since launch, outstripping Microsoft's Xbox, said market analysts Chart-Track. The numbers were also boosted by the release of the PS2-only game Grand Theft Auto: San Andreas. The title broke the UK sales record for video games in its first weekend of release. Latest figures suggest it has sold more than 677,000 copies.\"It is obviously very, very encouraging for Sony because Microsoft briefly outsold them last week,\" John Houlihan, editor of Computerandvideogames.com told BBC News. \"And with Halo 2 [for Xbox] out next week, it really is a head-to-head contest between them and Xbox.\"Although Xbox sales over the last week also climbed, PS2 sales were more than double that. The figures mean Sony is reaching the seven million barrier for UK sales of the console. Edinburgh-based developer, Rockstar, which is behind the GTA titles, has seen San Andreas pull in an estimated Â£24m in gross revenues over the weekend. In comparison, blockbuster films like Harry Potter and The Prisoner Of Azkaban took Â£11.5m in its first three days at the UK box office. The Lord of the Rings: The Return of the King took nearly Â£10m over its opening weekend, although games titles are four to five times more expensive than cinema tickets.Gangster-themed GTA San Andreas is the sequel to Grand Theft Auto Vice City which previously held the record for the fastest-selling video game ever. The Xbox game Halo 2, released on 11 November in the UK, is also widely tipped to be one of the best-selling games of the year. The original title won universal acclaim in 2001, and sold more than four million copies.Mr Houlihan added that Sony had done well with the PS2, but it definitely helped that the release of San Andreas coincided with the slimline PS2 hitting the shelves. The run-up to Christmas is a huge battlefield for games consoles and titles. Microsoft's Xbox had been winning the race up until last week in sales. The sales figures also suggest that it may be a largely adult audience driving demand, since GTA San Andreas has an 18 certificate. Sony and Microsoft have both reduced console prices recently and are preparing the way for the launches of their next generation consoles in 2005. \"Both have hit crucial price points at around Â£100 and that really does open up new consoles to new audience, plus the release of two really important games in terms of development are also driving those sales,\" said Mr Houlihan. \\\\\n",
       "\t11 & Business & Asia shares defy post-quake gloom & Thailand has become the first of the 10 southern Asian nations battered by giant waves at the weekend to cut its economic forecast.Thailand's economy is now expected to grow by 5.7\\% in 2005, rather than 6\\% as forecast before tsunamis hit six tourist provinces. The full economic costs of the disaster remain unclear. In part, this is because of its scale, and because delivering aid and recovering the dead remain priorities. But Indonesian, Indian and Hong Kong stock markets reached record highs on Wednesday, suggesting that investors do not fear a major economic impact.The highs showed the gap in outlook between investors in large firms and individuals who have lost their livelihoods.Investors seemed to feel that some of the worst-affected areas - such as Aceh in Indonesia - were so under-developed that the tragedy would little impact on Asia's listed companies, according to analysts. \"Obviously with a lot of loss of life, a lot of time is needed to clean up the mess, bury the people and find the missing. But it's not necessarily a really big thing in the economic sense,\" said ABN Amro chief Asian strategist Eddie Wong. India's Bombay Stock Exchange inched slightly above its previous record close on Wednesday. Expectations of strong corporate earnings in 2005 drove the Indonesian stock exchange in Jakarta to a record high on Wednesday. In Hong Kong, the Hang Seng index may be benefiting in part from the potential for its listed property companies to gain from rebuilding contracts in the tsunami-affected regions of South East Asia. In Sri Lanka, some economists have said that as much as 1\\% of annual growth may be lost. Sri Lanka's stock market has fallen about 5\\% since the weekend, but it is still 40\\% higher than at the start of 2004.Thailand may lose 30bn baht (Â£398m; \\$768m) in earnings from tourism over the next three months, according to tourism minister Sontaya Kunplome.In the affected provinces, he expects the loss of tourism revenue to be offset by government reconstruction spending. Thailand intends to spend a similar sum - around 30bn baht - on the rebuilding work. \"It will take until the fourth quarter of next year before tourist visitors in Phuket and five other provinces return to their normal level,\" said Naris Chaiyasoot, director general at the ministry's fiscal policy office. In the Maldives the cost of reconstruction could wipe out economic growth, according to a government spokesman. \"Our nation is in peril here,\" said Ahmed Shaheed, the chief government spokesman. He estimated the economic cost of the disaster at hundreds of millions of dollars. The Maldives has gross domestic product of \\$660m. \"It won't be surprising if the cost exceeds our GDP,\" he said. \"In the last few years, we made great progress in our standard of living - the United Nations recognised this. Now we see this can disappear in a few days, a few minutes.\" Shaheed noted that investment in a single tourist resort - the economic mainstay - could run to \\$40m. Between 10 and 12 of the 80-odd resorts have been severely damaged, and a similar number have suffered significant damage. However, many experts, including the World Bank, have pointed out that it is still difficult to assess the magnitude of the disaster and its likely economic impact. \\\\\n",
       "\t12 & Sport & Reds sink 10-man Magpies & Titus Bramble's own goal put Liverpool on the comeback trail as injury-hit Newcastle were well beaten at Anfield.Patrick Kluivert's close-range finish put Newcastle ahead after 31 minutes, but they were pegged back as Bramble headed in Steven Gerrard's corner. Neil Mellor gave Liverpool the lead before half-time from Milan Baros' pass before the Czech added a third after rounding Shay Given on the hour. Newcastle then had Lee Bowyer sent off for two bookable offences. Liverpool brought back Luis Garcia after a hamstring injury, while Newcastle were forced to draft in Kluivert after Craig Bellamy was a late withdrawal with a back injury sustained in the warm-up. And Garcia should have crowned his return with a goal inside the opening minute when he took a pass from Baros but shot wildly over the top from eight yards. Olivier Bernard was only inches away from giving Newcastle the lead after 20 minutes, when he fired just wide from a free-kick 25 yards out. But Souness's side did go ahead 11 minutes later in highly controversial circumstances.Kluivert looked suspiciously offside when Kieron Dyer set Bowyer free, but the Dutchman was then perfectly placed to score from six yards. The lead lasted three minutes, with Liverpool back on terms as Bramble headed Gerrard's corner into his own net under pressure from Sami Hyypia. And Liverpool were ahead after 37 minutes when Baros slid a perfect pass into Mellor's path for the youngster to slip a slide-rule finish into Given's bottom corner. Garcia's finishing was wayward, and he was wasteful again in first-half injury time, shooting tamely at Given after good work by Xabi Alonso. Any hopes of a Newcastle recovery looked to be snuffed out on the hour when a brilliant turn and pass by Harry Kewell set Baros free and he rounded Given to score. Jermaine Jenas then missed a glorious chance to throw Newcastle a lifeline, shooting over from just eight yards out from Shola Ameobi's cross. Then Bowyer, who had already been booked for a foul on Alonso, was deservedly shown the red card by referee Graham Poll for a wild challenge on Liverpool substitute Florent Sinama-Pongolle.Dudek, Finnan, Hyypia, Carragher, Riise, Luis Garcia (Nunez 73), Gerrard, Alonso, Kewell (Traore 85), Baros, Mellor (Sinama Pongolle 75).Subs not used: Hamann, Harrison.Bramble 35 og, Mellor 38, Baros 61.Given, Andrew O'Brien, Elliott, Bramble, Bernard, Bowyer, Dyer (Ambrose 80), Jenas, Milner (N'Zogbia 72), Kluivert (Robert 58), Ameobi.Subs not used: Harper.Bowyer (77).Bowyer, Elliott, Bernard.Kluivert 32.43,856.G Poll (Hertfordshire). \\\\\n",
       "\t13 & Politics & 'Best person' for top legal job & The \"best person for the job\" should be appointed lord chancellor, and not necessarily a lawyer or MP, the courts minister has told MPs.Under reforms, the post of lord chancellor is to be stripped of its judicial functions. \"The lord chancellor...no more needs to be a lawyer than the Secretary of Health needs to be a doctor,\" said courts minister Christopher Leslie. The Constitutional Reform Bill was entering its second reading on Monday. Mr Leslie said: \"The prime minister should be able to appoint the best person for the job whether they sit in the House of Lords or the House of Commons.\" Under the reforms, the Law Lords will also be replaced as the UK's highest legal authority by a Supreme Court and judges will be appointed by an independent panel rather than ministers.In December the Lords rejected a plea by current Lord Chancellor Lord Falconer that the holder of the job should not necessarily be a lawyer or a peer. The peers voted by 229 to 206 to say in law that lord chancellors must also be peers. The debate was carried over from the last Parliamentary session, but with an impending general election time is crucial for the government to get the Bill passed. Mr Leslie said it was irrelevant whether the post was called Secretary of State for Constitutional Affairs or Lord Chancellor. He said: \"What matters most is...whether it is reformed so that the post holder no longer has those conflicting duties. \"It is no longer appropriate for a government minister to have such unfettered discretion in the appointment of judges.\"Shadow attorney general Dominic Grieve criticised the government on its plans to change what he said was an \"exceptional institution,\" providing a \"champion of the independence of the judiciary\". The government had initially proposed to take this institution and \"smash it to pieces,\" Mr Grieve said. Convention should be \"nurtured and celebrated,\" but the government distrusted and disliked it instead. He warned that unless ministers backed down over the lord chancellor remaining a member of the House of Lords, the government would have \"great difficulty\" in getting the Bill through Parliament. Former Cabinet minister Douglas Hogg, whose father and grandfather served as lord chancellor, said the Bill was \"largely unnecessary, bureaucratic and expensive\". But the Tory MP for Sleaford and North Hykeham admitted the lord chancellor's role and office \"cannot be frozen in aspic\". \\\\\n",
       "\t14 & Tech & Sony PSP tipped as a 'must-have' & Sony's Playstation Portable is the top gadget for 2005, according to a round-up of ultimate gizmos compiled by Stuff Magazine.It beats the iPod into second place in the Top Ten Essentials list which predicts what gadget-lovers are likely to covet this year. Owning all 10 gadgets will set the gadget lover back Â£7,455. That is Â£1,000 cheaper than last year's list due to falling manufacturing costs making gadgets more affordable.Portable gadgets dominate the list, including Sharp's 902 3G mobile phone, the Pentax Optio SV digital camera and Samsung's Yepp YH-999 video jukebox.\"What this year's Essentials shows is that gadgets are now cheaper, sexier and more indispensable than ever. We've got to the point where we can't live our lives without certain technology,\" said Adam Vaughan, editor of Stuff Essentials. The proliferation of gadgets in our homes is inexorably altering the role of the high street in our lives thinks Mr Vaughan. \"Take digital cameras, who would now pay to develop an entire film of photos? Or legitimate downloads, who would travel miles to a record shop when they could download the song in minutes for 70p?\" he asks. Next year will see a new set of technologies capturing the imaginations of gadget lovers, Stuff predicts. The Xbox 2, high-definition TV and MP3 mobiles will be among the list of must-haves that will dominate 2006, it says. The spring launch of the PSP in the UK is eagerly awaited by gaming fans. \\\\\n",
       "\t15 & Business & Green reports shun supply chain & Nearly 20\\% more UK top 250 firms produced non-financial reports on social and environment issues than last year.But of the 145 companies reporting, 76\\% didn't examine their supply chains, says the annual Directions survey. Green groups say putting pressure on supply chains is a major way companies can reduce their environmental impact. The survey is published by corporate social responsibility firm Context and branding firm SalterBaxter.Blake Lee-Harwood, campaigns director at Greenpeace in the UK, said: \"It's fairly meaningless to talk about your company's direction in terms of sustainability without having detailed knowledge of your supply chain. \"It's also important to get some kind of independent assessment of your reporting.\"Less than a quarter of companies (24\\%) get their corporate social responsibility (CSR) reports independently verified to provide assurances they are accurate and complete, says the survey. To date there are no set standards for non-financial reporting, although the Global Reporting Initiative, an independent pro-sustainability institution, is planning to establish some. The reports surveyed by Directions are published voluntarily. They are usually called corporate social responsibility (CSR) reports, sustainability reports, or social and environmental reports.Peter Knight, director of Context, says 24 UK top 250 companies reported for the first time this year and, in general, the quality of reports has improved. \"The corporate lexicon of homilies, generalities and soft assurances - fluff - is on its way out. There are less pictures of smiling children and butterflies.\" The UK government will soon require all quoted companies to report their social and environmental risks in a chapter in their annual reports, called the Operating and Financial Review. The regulation is not expected until 2005 and the first reports under this scheme will not be published before 2006. The US seems to lag Europe in producing corporate social responsibility reports. The majority of European top 50 companies (44) publish them and only 27 of the US top 50. \\\\\n",
       "\t16 & Tech & US hacker breaks into T-Mobile & A man is facing charges of hacking into computers at the US arm of mobile phone firm T-Mobile.The Californian man, Nicholas Lee Jacobsen, was arrested in October. Mr Jacobsen tried at least twice to hack T-Mobile's network and took names and social security numbers of 400 customers, said a company spokesman. The arrest came a year after T-Mobile uncovered the unauthorised access. The US Secret Service has been investigating the case. \"T-Mobile has stringent procedures in place where we monitor for suspicious activity so that limited his activities and we were able to take corrective action immediately,\" Peter Dobrow, a T-Mobile spokesperson said. It is thought that Mr Jacobsen's hacking campaign took place over at least seven months during which time he read e-mails and personal computer files, according to court records.Although Mr Jacobsen, 21, managed to get hold of some data, it is thought he failed to get customer credit card numbers which are stored on a separate computer system, said Mr Dobrow. T-Mobile confirmed that the US Secret Service was also looking into whether the hacker accessed photos that T-Mobile subscribers had taken with their camera phones. The Associated Press agency reported that Mr Jacobsen also read personal files on the Secret Service agent who was apparently investigating the case. A Los Angeles grand jury indicted Mr Jacobsen with intentionally accessing a computer system without authorisation and with the unauthorised impairment of a protected computer between March and October 2004. He is currently on bail. T-Mobile is a subsidiary company of Deutsche Telekom and has about 16.3 million subscribers in the US. \\\\\n",
       "\t17 & Business & Economy 'stronger than forecast' & The UK economy probably grew at a faster rate in the third quarter than the 0.4\\% reported, according to Bank of England deputy governor Rachel Lomax.Private sector business surveys suggest a stronger economy than official estimates, Ms Lomax said. Other surveys collectively show a rapid slowdown in UK house price growth, she pointed out. This means that despite a strong economic growth, base rates will probably stay on hold at 4.75\\%. Official data comes from the Office for National Statistics (ONS). Though reliable, ONS data takes longer to publish, so now the BoE is calling for faster delivery of data so it can make more effective policy decisions. \"Recent work by the Bank has shown that private sector surveys add value, even when preliminary ONS estimates are available,\" Ms Lomax said in a speech to the North Wales Business Club.The ONS is due to publish its second estimate of third quarter growth on Friday. \"The MPC judges that overall growth was a little higher in the third quarter than the official data currently indicate,\" Ms Lomax said. The Bank said successful monetary policy depends on having good information. Rachel Lomax cited the late 1980s as an example of a time when weak economic figures were published, but substantially revised upwards years later.\"The statistical fog surrounding the true state of the economy has proved a particularly potent breeding ground for policy errors in the past,\" she said. Improving the quality of national statistics is the single the best way of making sure the Monetary Policy Committee (MPC) makes the right decisions, she said. The Bank of England is working in tandem with the ONS to improve the quality and speed of delivery of data. Her remarks follow criticism from the House of Lords Economic Affairs Committee, which said the MPC had held interest rates too high given that inflation was way below the 2\\% target.A slowdown in the housing market and this year's surge in oil prices has made economic forecasting all the more tricky, leading to a more uncertain outlook. \"This year rising oil prices and a significant slowdown in the housing market have awoken bad memories of the 1970s and 1980s,\" Ms Lomax said. \"The MPC will be doing well if it can achieve the same stability over the next decade as we have enjoyed over the past 10 years.\" Decisions on interest rates are made after the MPC gathers together the range of indicators available every month. The clearest signals come when all indicators are pointing the same direction, Ms Lomax intimated. \"In economic assessment, there is safety in numbers.\" \\\\\n",
       "\t18 & Entertainment & Double win for Sea Inside & Spanish movie The Sea Inside has been named best picture and star Javier Bardem best actor at the Bangkok International Film Festival.Based on the true story of a paralysed man's battle to end his life, The Sea Inside was best foreign language film at the 2005 Golden Globe Awards. Annette Bening and Ana Geislerova shared the best actress award at the Bangkok festival. This year's event was scaled down following the Asian tsunami disaster.Falling Down and The Phantom of the Opera director Joel Schumacher won a lifetime achievement award while Hong Kong director Wong Kar-Wai was honoured for promoting Asian cinema. \"It's a great honour, I want to share this honour with my Thai colleagues,\" Wong said. French writer Christophe Barratie and Korean writer Park Chan-Chook shared the best screenplay award for Les Choristes and Old Boy respectively. Now in its third year, the Bangkok International Film Festival is donating profits from ticket sales to the tsunami relief fund. \\\\\n",
       "\t19 & Entertainment & Children vote Shrek 2 best film & Young UK film fans voted animated Hollywood hit Shrek 2 best film at the children's Bafta awards on Sunday.More than 6,000 children voted in the only category chosen by fans. Harry Potter and the Prisoner of Azkaban, runner-up in the poll, was the choice of the Bafta experts who named it best feature film. BBC One Saturday morning show Dick and Dom In Da Bungalow won two awards - best entertainment and best presenters for Richard McCourt and Dominic Wood.Former Playschool presenter Floella Benjamin was awarded the Special Award for outstanding creative contribution to children's film and television. She first appeared on Playschool 25 years ago and was made an OBE in 2001 for services to broadcasting. South American-themed cartoon Joko! Jakamoko! Toto! won the honour for pre-school animation and its writer Tony Collingwood for original writer. Debbie Isitt won the award for best adapted writer for her work with Jacqueline Wilson's The Illustrated Mum, which won the award for best schools drama.Schools' Factual (primary) - Thinking Skills: Think About It - Hiding PlacesSchools' Factual (secondary) - In Search of the Tartan TurbanPre-School Live Action - BalamoryAnimation - Brush HeadDrama - FeatherboyFactual - Serious Desert Interactive Bafta - King Arthur International category - 8 Simple Rules for Dating my Teenage Daughter \\\\\n",
       "\t20 & Sport & Parry relishes Anfield challenge & BBC Sport reflects on the future for Liverpool after our exclusive interview with chief executive Rick Parry.Chief executive Parry is the man at the helm as Liverpool reach the most crucial point in their recent history. Parry has to deliver a new 60,000-seat stadium in Stanley Park by 2007 amid claims of costs spiralling above Â£120m. He is also searching for an investment package of a size and stature that will restore Liverpool to their place at European football's top table. But it is a challenge that appears to sit easily with Parry, who has forged a reputation as one of football's most respected administrators since his days at the fledgling Premier League.Liverpool have not won the championship since 1990, a fact that causes deep discomfort inside Anfield as they attempt to muscle in on the top three of Chelsea, Manchester United and Arsenal. Throw in the small matter of warding off every top club in world football as they eye captain Steven Gerrard, and you can see Parry is a man with a lot on his plate. But in the comfort of a conference room deep inside Liverpool's heartbeat - The Kop end - Parry spoke to us with brutal honesty about the crucial months ahead. He only dodged one question - when asked to reveal the name of the mystery investor currently courting Liverpool, a polite smile deflected the inquiry. But to his credit, he met everything else head on in measured tones that underscore the belief that Liverpool still mean business.By business he means becoming title challengers again, and locking the pieces together that will help return the trophy to Liverpool is Parry's mission. Parry has already successfully put one of those planks in place in the form of new manager Rafael Benitez. And his enthusiasm for the Spaniard's personality and methods is an indication of his clear feeling that he has struck gold. Benitez's early work has given Parry renewed optimism about the years ahead. But it remains a massive task at a club with a unique history and expectations. This will not come as news to Parry, a lifelong Liverpool supporter, but his quiet determination suggests he is no mood to be found wanting...Captain Gerrard is central to Liverpool's plans and Parry's insistence that all offers will be refused is a firm statement of intent. As ever, the player will have the final say, and Parry acknowledges that, but he is determined to provide the framework and environment for Liverpool and Gerrard to flourish.In terms of the search for new investment, Hawkpoint were appointed as advisors to flush out interest in March 2004. Thailand Prime Minister Thaksin Shiniwatra came and went, while the most serious statement of intent came from tycoon and lifelong fan Steve Morgan. Morgan had a succession of bids rejected, having come close in the summer only for talks to break down over potential costs for the new stadium. BBC Sport understands Morgan is still ready and willing to invest in Liverpool, and Parry has kept the door ajar despite currently seeking investment elsewhere.Morgan, however, has had no formal contact with Liverpool or their advisors since last December, blaming indecision at board level as he publicly withdrew his Â£70m offer. He was also convinced his interest was being used to lure in others, so any new approach would now have to come from Liverpool. Morgan will certainly not be making another call. So speculation continues about the new benefactor, with trails leading to the Middle East and America, but all met with an understandable veil of secrecy from Anfield.Parry meanwhile sees the new ground as crucial to Liverpool's future, but is refusing to become emotionally attached to the idea. He is determined the ground will only be built on an affordable basis and will not make future Liverpool management hostages to the new stadium. Parry will pull back the moment the figures do not stack up, but there has been a vital new development in North London that has re-shaped Liverpool's thinking.Liverpool have publicly refused to entertain the idea of stadium sponsorship and potential naming rights - but the realism of Arsenal's stunning Â£100m deal for their new Emirates Stadium at Ashburton has changed the landscape. Parry labelled the deal \"an eye-opener\" and admits Liverpool would be missing a trick not to explore the possibilities. He knows some traditionalist Liverpool fans will reel at any attempt to call the new stadium anything other than just 'Anfield', but the maths of modern-day football decree that multi-millions for stadium and team could ease the pain.I would take Â£50m if we had no investment, but if we did, keep him. As for the stadium, if it gets us cash what difference does it make really?Â£50m for Gerrard? I don't care who you are, the Directors would take the money and it is the way it should be. We cannot let that sum of money go, despite Gerrard's quality.Through a cleverly worded statement, the club has effectively forced Gerrard to publicly make the decision for himself, which I think is the right thing to do.Critical time for Liverpool with regards to Gerrard. Ideally we would want to secure his future to the club for the long term. I am hoping he doesn't walk out of the club like Michael Owen did for very little cash.Â£50m realistically would allow Rafa to completely rebuild the squad, however, if we can afford to do this AND keep Gerrard we will be better for it. I would however be happy with Gerrard's transfer for any fee over Â£35m.Parry's statements are clever in that any future Gerrard transfer cannot be construed as a lack of ambition by the club to not try and keep their best players. Upping the ante is another smart move by Parry.I would keep Gerrard. No amount of money could replace his obvious love of the club and determination to succeed.The key is if Gerrard comes out and says that he is happy. Clearly, if he isn't, then we would be foolish not to sell. The worrying thing is who would you buy (or who would come) pending possible non-Champions League football. \\\\\n",
       "\t21 & Politics & Pre-poll clash on tax and spend & Labour and the Tories have clashed over tax and spending plans as the row over Gordon Brown's Budget turned into a full scale pre-election battle.Tony Blair claimed a Tory government would \"cut\" Â£35bn from public services hitting schools, hospitals and police. Tory chairman Liam Fox accused Labour of \"at best misrepresentation at worst a downright lie\" and said the \"smear\" tactics were a sign of desperation. The Lib Dems accused Mr Brown of ducking the issue of council tax rises.Appearing together at a Labour poster launch, the prime minister hailed his chancellor's \"brilliant\" performance. And he claimed the Tories would cut Â£35bn from public services, which was the equivalent of sacking every doctor and teacher in the UK.The Tories said they would not cut spending but agreed public spending would increase more slowly under their plans - leading to a total of Â£33.5bn less spending than that anticipated by Labour by 2011. But they say not a single doctor, teacher or nurse will be cut. Dr Fox said: \"We have said we will be spending more, year on year over and above inflation. \"And to call that a cut is at best a misrepresentation, at worst a downright lie.\"Tory shadow chancellor Oliver Letwin also predicted Mr Brown would have to raise taxes by Â£10bn or Â£11bn if Labour was re-elected because he was borrowing and spending too much. For the Lib Dems, Vince Cable said the chancellor had failed to deal with the \"looming problems\" of revaluation of council tax bands which he argued would result in \"massive increases\" for some. Mr Brown and Mr Blair staged a show of unity on Thursday morning, the day after the chancellor delivered a record-breaking ninth Budget.Mr Cable said taxation as a share of the economy would go up under all three of the main parties. The chancellor meanwhile insisted his spending plans were \"affordable\". In Wednesday's Budget, Mr Brown doubled the level at which homebuyers pay stamp duty, unveiled a rise in child tax credit and a Â£200 council tax refund for over-65s. Defending the plans, he told Today: \"I will take no risks with the stability of the economy. \"All our spending plans announced yesterday [Wednesday], including what we can do for pensioners, as well as for young families and on stamp duty and inheritance tax, all these are costed and affordable.\" In a further sign, if any were needed, that the election is approaching, the House of Commons authorities have formally told MPs their offices will be \"deep cleaned\" during the three-week poll campaign. Mr Blair has yet to name the day - but it is widely expected to be 5 May. \\\\\n",
       "\t22 & Politics & Escaped prisoner report ordered & First Minister Jack McConnell has ordered a report on the decision to allow a paranoid schizophrenic knife attacker to go on a visit unguarded.Michael Ferguson, 36, escaped after being allowed out of the high-security Carstairs unit. The SNP's Nicola Sturgeon has demanded to know who was responsible for signing off the leave. The Scottish Executive said ministers would be notified but it would \"not be common practice\" to sign approval. An executive spokesman said the health department and the state hospital itself would work together on preparing the report. Ministerial responsibility for Carstairs rests with Rhona Brankin, the deputy health minister. Ms Brankin said: \"The first minister has called for a review of what has happened, we need to talk to the state hospital and we need to reflect on this.\" Ms Sturgeon has written to Mr McConnell asking for clarification on the move to allow the prisoner out. She said questions must be answered about his escape, if the public is to be reassured about safety. Police are still searching for Ferguson, who failed to return after a trip to East Kilbride on Monday.The Scottish National Party's parliamentary leader argued that under the law, authorisation of Ferguson's leave of absence would have come directly from ministers. She said: \"The Scottish Executive seemed to indicate yesterday that the escape of Mr Ferguson was a matter for Carstairs. \"However, my understanding is that, under the mental health legislation, the decision to grant this patient - and any restricted patient - leave of absence, would have required direct and specific authorisation by Scottish ministers.\" She added: \"I have written to the first minister today asking for confirmation of that fact. I have also asked him to confirm which minister would routinely take decisions of this nature and what information they are based on. \"This is not an attempt to apportion blame, but to ensure a better understanding of the decision making process in such important and sensitive cases.\"Police said Ferguson posed a danger to the public. BBC Scotland political correspondent Glenn Campbell said the first minister had ordered an urgent report into the situation. He said: \"We understand from the executive that in this case no individual minister signed off the approval for Michael Ferguson to be released unescorted from Carstairs. \"The executive concedes that it is up to Scottish ministers, they have a legal responsibility for approving this sort of leave, but they say routinely it is specialised officials that make that decision and simply inform ministers that they have taken it. \"But at that stage presumably ministers can ask hard questions and can ask for reassurances that the patient is not a serious danger to the public or that any risk has been minimised.\" Scottish Conservative leader, David McLetchie, said earlier it was \"almost beyond belief that this has been allowed to happen\".The executive spokeswoman said the recommendation for leave was agreed by a psychiatric advisor \"in conjunction with officials on behalf of ministers\". She said: \"Ministers were told of that, notified of it, but it would not be common practice for them to sign it off. \"They do have statutory responsibility, but the common practice has been that people who work with the patient and have the best knowledge about risk would make that decision.\" Ferguson, who slashed a man in a doctors' surgery in Coatbridge in 1994, had been out to see his fianc\\&\\#233;e Annabella Holmes, 47, whom he met when she was a patient at the high security complex in South Lanarkshire. He is described as being 5ft 9ins tall, slim, with blond hair, blue eyes and a fair complexion. Ferguson was wearing a black jacket, grey jeans, black jumper and black shoes when he was last seen. He has multiple fading tattoos on his left hand and a very faded tear tattoo under his left eye. Ms Holmes is not missing but there have been no sightings of Ferguson since Monday. Strathclyde Police asked anyone who spots Ferguson to contact Sergeant Keith McDonald on. \\\\\n",
       "\t23 & Politics & Blair told to double overseas aid & Tony Blair is being urged to use all his negotiating powers to end poor countries' debt and double aid.Some 45 million children will die needlessly before 2015 and aid budgets are half their 1960 levels, Oxfam says in a report, Paying the Price. The call comes as the prime minister prepares to assume the presidency of the G8 of top industrialised nations. \"As rich countries get richer, they're giving less and less. This scandal must stop,\" Oxfam's Barbara Stocking said.\"The world's poorest children are paying for rich countries' policies in aid and debt with their lives. \"2005 offers the chance for an historic breakthrough, but unless world leaders act now the year will end in shameful failure,\" the charity's director added. The report said: \"For rich countries, providing aid to help to end global poverty is an obligation and a matter of justice, not an act of charity.\" It also points out that in 1970 the G8 of top industrialised nations agreed to spend 0.7\\% of their incomes on aid. But 34 years later none of the organisations members have reached this target and many have not yet set a timetable, the report says.It argues that the price of not investing in poor countries' sustainable development will be felt across the world. The report said: \"Global poverty threatens our shared prosperity and security. \"Environmental crises and natural disasters, disease and drug trafficking know no national borders. Poverty heightens the likelihood of conflict and unrest. \"New threats to the peace and security of rich nations arise from poverty and gross inequalities. \"Criminal and terrorist networks are more likely to operate where state institutions are weak.\"Both the prime minister and Chancellor Gordon Brown have called for urgent action to fight world poverty. Mr Blair, who has described Africa as a \"scar\" on the world's conscience, has already said tackling world poverty would be one his G8 priorities along with climate change and the Aids epidemic. Mr Brown has also pledged to write off the debt owed to Britain by the world's poor nations. A spokeswoman for the Department for International Development said: \"The government had made a clear commitment to reaching 0.7\\% of gross national income for overseas development aid by 2013. \"If Britain's proposal for an International Finance Facility were adopted, the objective of 0.7\\% could be achieved earlier, by 2008-09. \"These additional resources will be used to increase UK bilateral aid to Africa to at least Â£1.25bn a year by 2008 and spend at least Â£1.5bn on HIV/Aids related work over the next three years.\" \\\\\n",
       "\t24 & Sport & O'Driscoll saves Irish blushes & Two moments of magic from Brian O'Driscoll guided Ireland to a workmanlike victory against Italy.A pair of classic outside breaks from the Ireland captain set up tries for Geordan Murphy and Peter Stringer. Italy led 9-8 early in the second half but Stringer's try gave Ireland a lead they never lost. The hosts cut the gap to 18-12 with 10 minutes left and nearly scored through Ludovico Nitoglia, but Denis Hickie's try ensured an Irish victory. Italy came flying out of the blocks and took the lead through a Luciano Orquera penalty after seven minutes.It could have been better for the hosts but the fly-half missed two kickable penalties and Ireland drew level with a Ronan O'Gara penalty midway through the first half. The Italians were driving at the heart of the Irish defence and, for the first quarter, the Irish pack struggled to secure any ball for their talented backs.When they finally did, just before the half-hour mark, O'Driscoll promptly created a sparkling try for Murphy. The Ireland captain ran a dummy scissors and made a magical outside break before drawing the full-back and putting the diving Murphy in at the corner. O'Gara missed the twice-taken conversion and the visitors found themselves trailing once again. Roland de Marigny took over the kicking duties for Italy from the hapless Orquera, and he landed a penalty either side of the break to edge Italy into a 9-8 lead.The only Ireland player offering a real threat was O'Driscoll, and it was his break that set up the second try for the visitors. Shane Horgan threw an overhead pass as he was about to be forced into touch and Stringer scooted over, with O'Gara landing the tricky conversion. A penalty apiece saw Ireland leading 18-12 as the game entered the final quarter, but they were lucky to survive when Italy launched a series of attacks. Winger Nitoglia dropped the ball as he reached for the line and Italy nearly rumbled over from a driving maul.An O'Gara penalty put Ireland more than a converted try ahead and they made the game safe when Hickie latched onto an inside pass from Murphy and crossed for a converted try. O'Driscoll limped off late on, joining centre partner Gordon D'Arcy on the sidelines, and the final word went to Italy. Prop Martin Castrogiovanni powered over for a try which was fitting reward for an Italian pack which had kept the Irish under pressure throughout.De Marigny; Mi Bergamasco, Canale, Masi, Nitoglia; Orquera, Troncon; Lo Cicero, Ongaro, Castrogiovanni; Dellape, Bortolami; Persico, Ma Bergamasco, Parisse.Perugini, Intoppa, Del Fava, Dal Maso, Griffen, Pozzebon, Robertson.Murphy, Horgan, O'Driscoll, D'Arcy, Hickie, O'Gara, Stringer, Corrigan, Byrne, Hayes, O'Kelly, O'Connell, S Easterby, Leamy, Foley.Sheahan, Horan, O'Callaghan, Miller, G Easterby, Humphreys, Dempsey.P O'Brien (New Zealand) \\\\\n",
       "\t25 & Tech & Broadband challenges TV viewing & The number of Europeans with broadband has exploded over the past 12 months, with the web eating into TV viewing habits, research suggests.Just over 54 million people are hooked up to the net via broadband, up from 34 million a year ago, according to market analysts Nielsen/NetRatings. The total number of people online in Europe has broken the 100 million mark. The popularity of the net has meant that many are turning away from TV, say analysts Jupiter Research. It found that a quarter of web users said they spent less time watching TV in favour of the netThe report by Nielsen/NetRatings found that the number of people with fast internet access had risen by 60\\% over the past year.The biggest jump was in Italy, where it rose by 120\\%. Britain was close behind, with broadband users almost doubling in a year. The growth has been fuelled by lower prices and a wider choice of always-on, fast-net subscription plans. \"Twelve months ago high speed internet users made up just over one third of the audience in Europe; now they are more than 50\\% and we expect this number to keep growing,\" said Gabrielle Prior, Nielsen/NetRatings analyst. \"As the number of high-speed surfers grows, websites will need to adapt, update and enhance their content to retain their visitors and encourage new ones.\" The total number of Europeans online rose by 12\\% to 100 million over the past year, the report showed, with the biggest rise in France, Italy, Britain and Germany.The ability to browse web pages at high speed, download files such as music or films and play online games is changing what people do in their spare time.A study by analysts Jupiter Research suggested that broadband was challenging television viewing habits. In homes with broadband, 40\\% said they were spending less time watching TV. The threat to TV was greatest in countries where broadband was on the up, in particular the UK, France and Spain, said the report. It said TV companies faced a major long-term threat over the next five years, with broadband predicted to grow from 19\\% to 37\\% of households by 2009. \"Year-on-year we are continuing to see a seismic shift in where, when and how Europe's population consume media for information and entertainment and this has big implications for TV, newspaper and radio,\" said Jupiter Research analyst Olivier Beauvillian. \\\\\n",
       "\t26 & Sport & Ferrero eyes return to top form & Former world number one Juan Carlos Ferrero insists he can get back to his best despite a tough start to 2005.The 2003 French Open champion has slipped to 64 in the world after a year of illness and injuries in 2004, but is confident that his form will return. \"I don't know when it is going to happen,\" Ferrero told BBC Sport. \"But I have a lot of confidence in me that I will be the same Juan Carlos as I was before, and very soon. I feel 100\\% again mentally.\" The 25-year-old Spaniard joins a top field for the ABN AMRO World Tennis Tournament in Rotterdam this week as he looks to add to just two wins in 2005. He opens against Rainer Schuettler and potentially faces fourth seed David Nalbandian in the second round. \"Because I'm no longer seeded it's tougher,\" Ferrero admitted. \"I had to play against Joachim Johansson in the first round last week in Marseille.\"In the past when I was a top seed I would have played a match like that in the quarters or semi-finals. \"This is the big difference but I have to do it to get higher in the rankings.\" Despite this, Ferrero insists he is feeling positive after chicken pox and a rib injury destroyed last season. \"Physically I am 100\\% since December of last year,\" said Ferrero. \"I was working very hard before the Davis Cup final to prepare and I've felt 100\\% from then until now. \"The difficult moments were when I knew that I had the chicken pox and that it would take two or three months to recover. \"I had to start from zero again physically because the virus left me at zero per cent. \"When I started to come back I had my rib broken when I fell on court and that was another two months out. Those five months were pretty difficult for me.\"Among the low points of a difficult year for Ferrero was the decision of Spain captain Jordi Arrese to drop him for the Davis Cup final against the USA. \"It was difficult because I had been playing well for the whole year and the coaches told me that I would play,\" said Ferrero. \"But then I had some problems with my hand two days before the Friday matches so they decided to choose Nadal instead. \"It was difficult for me not to be in the Friday matches but I had to understand. \"Inside me I wanted to play but this was the decision of the captain and they had to make it.\" \\\\\n",
       "\t27 & Tech & Europe backs digital TV lifestyle & How people receive their digital entertainment in the future could change, following the launch of an ambitious European project.In Nice last week, the European Commission announced its Networked \\& Electronic Media (NEM) initiative. Its broad scope stretches from the way media is created, through each of the stages of its distribution, to its playback. The Commission wants people to be able to locate the content they desire and have it delivered seamlessly, when on the move, at home or at work, no matter who supplies the devices, network, content, or content protection scheme. More than 120 experts were in Nice to share the vision of interconnected future and hear pledges of support from companies such as Nokia, Intel, Philips, Alcatel, France Telecom, Thomson and Telefonica. It might initially appear to be surprising that companies in direct competition are keen to work together. But again and again, speakers stated they could not see incompatible, stand-alone solutions working. A long-term strategy for the evolution and convergence of technologies and services would be required.The European Commission is being pragmatic in its approach. They have identified that many groups have defined the forms of digital media in the areas that NEM encompasses. The NEM approach is to take a serious look at what is available and what is in the pipeline, pick out the best, bring them together and identify where the gaps are. Where it finds holes, it will develop standards to fill them. What is significant is that such a large and powerful organisation has stated its desire for digital formats to be open to all and work on any gadget. This is bound to please, if not surprise, many individuals and user organisations who feel that the wishes of the holder of rights to content are normally considered over and above those of the consumer. Many feel that the most difficult and challenging area for the Commission will be to identify a solution for different Digital Rights Management (DRM) schemes. Currently DRM solutions are incompatible, locking certain types of purchased content, making them unplayable on all platforms. With the potential of having a percentage of every media transaction that takes place globally, the prize for being the supplier of the world's dominant DRM scheme is huge. Although entertainment is an obvious first step, it will encompass the remote provisions of healthcare, energy efficiency and control of the smart home. The 10-year plan brings together the work of many currently running research projects that the EC has been funding for a number of years.Simon Perry is the editor of the Digital Lifestyles website, which covers the impact of technology on media \\\\\n",
       "\t28 & Sport & Liverpool pledge to keep Gerrard & Liverpool chief executive Rick Parry insists the club will never sell Steven Gerrard amid reports Chelsea will renew their bid to lure him from Anfield.Gerrard reiterated his desire to win trophies with the Reds after his superb Champions League winner on Wednesday. And Parry has moved to scotch claims that Chelsea could launch a Â£35m bid. \"There is no chance of Stevie going in January,\" said Parry. \"That just won't happen. Our intention is that we will never let him go.\" Gerrard scored a spectacular late goal to give Liverpool a 3-1 win over Olympiakos and book their place in the knockout stages. \"Of course he is ambitious but so are we,\" Parry added. \"We firmly believe that if we can satisfy his ambition he will remain a Liverpool player. \"We have an open and straightforward relationship. We both know where we stand and that played a big part in his decision to stay last summer. If he was not so committed to Liverpool he would have gone by now.\" Gerrard had said before Wednesday's game he would consider leaving if the club was knocked out of Europe, with Real Madrid also believed to be monitoring his situation.\"The main point I have made is I want to be in a Liverpool side which challenges for the Champions League and the title all the time,\" he said afterwards. \"I want to be winning things with Liverpool, not somewhere else. \"I am a fan as well and I think what I have said the supporters will agree with. \"We have to build on wins like that, not just settle for a great win and then not progress any further. \"My goal was one of the most important I have ever scored and I hope it turns out to be one of the most important for the club for a long time. \"I know I put a lot of pressure on myself because of what I said, and I felt I needed a big performance, but I am not going to go around telling lies about how I feel.\"Reds manager Rafael Benitez believes Gerrard can win everything he wants to without moving clubs. \"Steven can win all he wants with us and we need him. He has seen that we have a good team and we can do more things in the future,\" said Benitez. \"But if we want to win more games, important games, we need Steven in the team. \"We need his strength, the strong mentality he has and his quality. I think he likes and wants the responsibility of leading this team.\" \\\\\n",
       "\t29 & Entertainment & Bening makes awards breakthrough & Film actress Annette Bening is up for an Oscar for her starring role in the award-winning film Being Julia.Bening, who was born in Texas in 1958, has gained prominence for a string of key roles. Although an Oscar has so far eluded her, her status as one of Hollywood's favourite actresses remains solid. One of the biggest Oscars buzzes in recent years was for Bening's role as troubled Carolyn Burnham in 1999's American Beauty. But her deliciously neurotic portrayal of surburban life turning sour was overlooked in favour of Hilary Swank's leading role in Boys Don't Cry. After opening her career in the theatre - and gaining a Tony Award nomination in 1986 - Bening had a low-key spell in television. She then made her film debut as a sex-starved wife in 1988's The Great Outdoors, opposite comics Dan Akroyd and John Candy.Following a cameo in Postcards From The Edge, Bening's breakthrough role came in 1990, playing seductive con artist Myra Langtry in The Grifters - a role that won her an Oscar nomination. Despite some rave reviews, Bening did not win the best supporting actress Academy Award.However the high-profile performance enabled Bening to capture roles in a number of big budget Hollywood productions, co-starring with some of Hollywood's greatest players, including Robert De Niro and Harrison Ford. But it was her role opposite Warren Beatty in 1991 gangster flick Bugsy which had the greatest impact. Bening played Virginia Hill, another role which won her high critical acclaim, but the film only picked up two of a staggering 12 Oscar nominations.Bugsy was the start of a very significant liaison for Bening - she married Beatty, with whom she had a child as the couple promoted the film in Europe. The couple now have four children together. A pair of contrasting yet successful performances peppered Bening's career in the mid-1990s. She played Michael Douglas' opposite number in romantic comedy The American President, and as a \"fiery\" Queen Elizabeth I in a contemporary adaptation of Shakespeare's Richard III.Bening was the first choice to play the female lead in American Beauty, director Sam Mendes' film debut which was a critical and commercial success - but the actress had to be content with a Bafta award for her strong performance. But current film Being Julia has made Bening an award-winning actress rather than the perennial nominee, with success at the Golden Globes. The witty tale of revenge and love set in 1930s London sees the eponymous theatrical diva - played by Bening - grow tired of her success and fall for a young American - and could be the role which finally wins her the coveted Academy Award. \\\\\n",
       "\t30 & Politics & Kennedy calls for Iraq exit plans & Tony Blair should set out a proper exit strategy from Iraq in the wake of next Sunday's elections in the country, Lib Dem leader Charles Kennedy has said.In a speech focusing on issues arising from the re-election of George W Bush, Mr Kennedy said Iraq had become a \"crucible of militant terrorism\". He wants to see a phased withdrawal of UK troops \"as soon as the situation allows\", he said in London. Any exit strategy must \"augment and support\" the democratic process.\"There are some who are of the opinion that the mere presence of British and American troops in Iraq feeds the insurgency,\" he said. \"There is some truth in that, especially after the initial mistakes that were made - the heavy-handedness of operations like Fallujah, and the well-publicised instances of abuse at the hands of coalition forces.\" Mr Kennedy pointed out that the Netherlands, Portugal and the Czech Republic, which all have troops operating in the southern sector of Iraq, have announced their imminent withdrawal \"regardless of the situation on the ground\".He accused Mr Blair's government of \"being less than straightforward\" over its plans. \"Next week the prime minister should make a statement regarding the elections in Iraq,\" Mr Kennedy said during his City of London speech. \"He should set out a proper exit strategy, including the phased withdrawal of British troops, as the security situation allows.\" Mr Kennedy also argued that British troops deployed in Iraq should be replaced with forces from other countries - \"especially Islamic countries\". \\\\\n",
       "\t$\\dots$ & $\\dots$ & $\\dots$ & $\\dots$ \\\\\n",
       "\\end{tabular}\n"
      ],
      "text/plain": [
       "2175×3 DataFrame. Omitted printing of 1 columns\n",
       "│ Row  │ Category      │ Heading                           │\n",
       "│      │ \u001b[90mString\u001b[39m        │ \u001b[90mString\u001b[39m                            │\n",
       "├──────┼───────────────┼───────────────────────────────────┤\n",
       "│ 1    │ Entertainment │ Sky takes over Oscar night mantle │\n",
       "│ 2    │ Tech          │ Freeze on anti-spam campaign      │\n",
       "│ 3    │ Entertainment │ Spark heads world Booker list     │\n",
       "│ 4    │ Business      │ Criminal probe on Citigroup deals │\n",
       "│ 5    │ Sport         │ Claxton hunting first major medal │\n",
       "│ 6    │ Business      │ FBI agent colludes with analyst   │\n",
       "│ 7    │ Politics      │ 'UK will stand firm on EU rebate' │\n",
       "│ 8    │ Politics      │ Tories opposing 24-hour drinking  │\n",
       "│ 9    │ Business      │ US manufacturing expands          │\n",
       "│ 10   │ Tech          │ Slim PlayStation triples sales    │\n",
       "⋮\n",
       "│ 2165 │ Business      │ Executive trio leave Aer Lingus   │\n",
       "│ 2166 │ Sport         │ Wales coach elated with win       │\n",
       "│ 2167 │ Entertainment │ New York rockers top talent poll  │\n",
       "│ 2168 │ Business      │ Fresh hope after Argentine crisis │\n",
       "│ 2169 │ Politics      │ Straw to attend Auschwitz service │\n",
       "│ 2170 │ Politics      │ Tories unveil quango blitz plans  │\n",
       "│ 2171 │ Politics      │ Labour's core support takes stock │\n",
       "│ 2172 │ Politics      │ Lords wrong on detainees - Straw  │\n",
       "│ 2173 │ Sport         │ Capriati out of Australian Open   │\n",
       "│ 2174 │ Entertainment │ Disputed Nirvana box set on sale  │\n",
       "│ 2175 │ Politics      │ MP attacked by muggers in Kenya   │"
      ]
     },
     "execution_count": 13,
     "metadata": {},
     "output_type": "execute_result"
    }
   ],
   "source": [
    "train_docs = DataFrames.DataFrame(Category = [category for category ∈ pd_train_docs.Category], \n",
    "    Heading = [heading for heading ∈ pd_train_docs.Heading], \n",
    "    Article = [article for article ∈ pd_train_docs.Article])"
   ]
  },
  {
   "cell_type": "code",
   "execution_count": 14,
   "metadata": {},
   "outputs": [
    {
     "data": {
      "text/html": [
       "<table class=\"data-frame\"><thead><tr><th></th><th>Category</th><th>Heading</th><th>Article</th></tr><tr><th></th><th>String</th><th>String</th><th>String</th></tr></thead><tbody><p>50 rows × 3 columns</p><tr><th>1</th><td>Entertainment</td><td>Animation charms Japan box office</td><td>Oscar-winning director Hayao Miyazaki's latest film has set a new Japanese box office record, with 1.5bn yen ($14.3m) in two days, according to reports.Howl's Moving Castle is the follow-up to Miyazaki's Spirited Away, which won best animation at last year's Oscars. It is based on the children's book by English writer Diana Wynne Jones. It has registered the highest opening weekend takings of any Japanese film in the country, according to trade publication Screen Daily.The film is about an 18-year-old girl who is trapped in an old woman's body after being put under a spell by a witch. Its two-day takings represented 1.1 million cinema admissions, Screen Daily said. The film's distributor Toho expects 40 million people to see it in total - almost one third of the country's population - it added. The film won the Golden Osella for outstanding technical contribution at this year's Venice Film Festival.</td></tr><tr><th>2</th><td>Tech</td><td>Satellite mapping aids Darfur relief</td><td>Aid workers trying to house, feed and clothe millions of homeless refugees in the Sudanese region of Darfur are getting a helping hand from advanced mapping technology.A European consortium of companies and university groups known as Respond is working to provide accurate and up to date maps. The aim is to overcome some of the huge logistical challenges in getting supplies to where they are needed. Respond is using satellite imagery to produce accurate maps that can be used in the field rapidly. \"Respond has produced very detailed maps for example for the road networks, for the rivers and for the villages, to more large-scale maps useful for very general planning purposes,\" said Einar Bjorgo from Unosat, the UN satellite mapping organisation that is part of the Respond consortium.The group uses satellites from Nasa, the European Space Agency and the Disaster Monitoring Constellation. The satellite data is transmitted to ground stations. From there, the information makes its way to Respond organisations that specialise in interpreting such data. \"You have to convert the data into images, then the interpreter has to convert all this into crisis, damage, or situation maps,\" said Stefan Voigt, who works in the remote sensing department of one of those organisations, the German Aerospace Centre.This kind of detailed analysis usually takes a couple of months but Respond gets it done in about 12 hours. \"Our users are usually not so much familiar with reading satellite imagery, reading satellite maps, so it's our task to transfer the data into information that non-technical people can read and understand easily and very, very efficiently,\" said Mr Voigt. Respond supplies maps to aid groups via the web, and on compact disc. But the best map is one you can hold in your hands, especially in remote areas where internet connections and laptops are scarce. \"A map is a working document,\" explains Herbert Hansen of Respond's Belgian partner Keyobs. \"You need to use it, you need to write on it, correct, give feedback and so on, so you need paper to write on. \"We print maps, we laminate the maps, we encapsulate the maps if needed so you can take a shower with the map, it's completely protected.\"Humanitarian groups in Darfur have been making good use of Respond's maps. They have come in especially handy during Sudan's rainy season, when normally dry riverbeds, or wadis, became flooded. \"These wadis had a very small amount of flooding, generally, in terms of depth, but greatly impeded the transport capabilities and capacities of the humanitarian groups on the ground,\" says Stephen Candillon of Respond imaging partner Sertit. Respond's rapid imaging has allowed aid groups to find ways around the wadis, allowing then to mark on their maps which roads were washed out at which times. Aid groups say that combination of satellite technology and on-the-ground observation helped keep relief flowing to those who needed it.Clark Boyd is technology correspondent for The World, a BBC World Service and WGBH-Boston co-production</td></tr><tr><th>3</th><td>Tech</td><td>'Evil twin' fear for wireless net</td><td>People using wireless high-speed net (wi-fi) are being warned about fake hotspots, or access points.The latest threat, nicknamed evil twins, pose as real hotspots but are actually unauthorised base stations, say Cranfield University experts. Once logged onto an Evil Twin, sensitive data can be intercepted. Wi-fi is becoming popular as more devices come with wireless capability. London leads the global wi-fi hotspots league, with more than 1,000. The number of hotspots is expected to reach 200,000 by 2008, according to analysts. \"Users need to be wary of using their wi-fi enabled laptops or other portable devices in order to conduct financial transactions or anything that is of a sensitive or personal nature,\" said Professor Brian Collins, head of information systems at Cranfield University.\"Users can also protect themselves by ensuring that their wi-fi device has its security measures activated,\" he added. BT Openzone, which operates a vast proportion of public hotspots in the UK, told the BBC News website that it made every effort to make its wi-fi secure. \"Naturally, people may have security concerns,\" said Chris Clark, chief executive for BT's wireless broadband.\"But wi-fi networks are no more or less vulnerable than any other means of accessing the internet, like broadband or dial-up.\" He said BT Openzone, as well as others, have sophisticated encryption from the start of the login process to the service at a hotspot. \"This means that users' personal information and data, logon usernames and passwords are protected and secure,\" said Mr Clark.In the vast majority of cases, base stations straight out of the box from the manufacturers are automatically set up with the least secure mode possible, said Dr Nobles. Cybercriminals who try to glean personal information using the scam, jam connections to a legitimate base station by sending a stronger signal near to the wireless client. Anyone with the right gear can find a real hotspot and substitute it with an evil twin. \"Cybercriminals don't have to be that clever to carry out such an attack,\" said Dr Phil Nobles, a wireless net and cybercrime expert at Cranfield. \"Because wireless networks are based on radio signals they can be easily detected by unauthorised users tuning into the same frequency.\"Although wi-fi is increasing in popularity as more people want to use high-speed net on the move, there have been fears over how secure it is. Some companies have been reluctant to use them in large numbers because of fears about security. A wireless network that is not protected can provide a backdoor into a company's computer system. Public wi-fi hotspots offered by companies like BT Openzone and The Cloud, are accessible after users sign up and pay for use. But many home and company wi-fi networks are left unprotected and can be \"sniffed out\" and hi-jacked by anyone with the correct equipment. \"BT advises that customers should change all default settings, make sure that their security settings on all equipment are configured correctly,\" said Mr Clark. \"We also advocate the use of personal firewalls to ensure that only authorised users can have access and that data cannot be intercepted.\" Dr Nobles is due to speak about wireless cybercrime at the Science Museum's Dana Centre in London on Thursday.</td></tr><tr><th>4</th><td>Business</td><td>US bank in $515m SEC settlement</td><td>Five Bank of America subsidiaries have agreed to pay a total of $515m (Â£277m) to settle an investigation into fraudulent trading share practices.The US Securities and Exchange Commission announced the settlements, the latest in an industry-wide clean-up of US mutual funds. The SEC also said it had brought fraud charges against two ex-senior executives of Columbia Distributor. Columbia Distributor was part of FleetBoston, bought by BOA last year. Three other ex-Columbia executives agreed settlements with the SEC.The SEC has set itself the task of stamping out the mutual funds' use of market-timing, a form of quick-fire, short-term share trading that harms the interests of small investors, with whom mutual funds are particularly popular. In the last two years, it has imposed penalties totalling nearly $2bn on 15 funds. The SEC unveiled two separate settlements, one covering BOA's direct subsidiaries, and another for businesses that were part of FleetBoston at the time. In both cases, it said there had been secret deals to engage in market timing in mutual fund shares. The SEC agreed a deal totalling $375m with Banc of America Capital Management, BACAP Distributors and Banc of America Securities. It was made up of $250m to pay back gains from market timing, and $125m in penalties. It is to be paid to the damaged funds and their shareholders. Separately, the SEC said it had reached a $140m deal - equally split between penalties and compensation - in its probe into Columbia Management Advisors (CAM) and Columbia Funds Distributor (CFD) and three ex-Columbia executives. These businesses became part of BOA when it snapped up rival bank FleetBoston in a $47bn merger last March.The SEC filed civil fraud charges in a Boston Federal court against James Tambone, who it says headed CFD's sales operations, and his alleged second in command Robert Hussey. The SEC is pressing for the highest tier of financial penalties against the pair for \"multiple violations\", repayment of any personal gains, and an injunction to prevent future breaches, a spokeswoman for the SEC's Boston office told the BBC. There was no immediate comment from the men's' lawyers. The SEC's settlement with CAM and CFD included agreements with three other ex-managers, Peter Martin, Erik Gustafson and Joseph Palombo, who paid personal financial penalties of between $50-100,000.</td></tr><tr><th>5</th><td>Sport</td><td>Ronaldo considering new contract</td><td>Manchester United winger Cristiano Ronaldo said he is close to agreeing to a new contract at Old Trafford.The Portugal star, who joined in August 2003 on a five-year-deal, is a regular in the United first-team. \"The United board have already made an offer to renew the contract but I'm trying not to think about it,\" he told the News of the World. \"My agent has spoken with the club and it will be resolved soon. I think we'll reach a good agreement for both sides.\" Ronaldo refused to commit his long-term future to the club.\"Nobody knows what will come tomorrow. I like being here, but who knows,\" he added. \"There aren't many bigger and better clubs than this one. It's my ambition to be at a big club. I'm happy but nobody knows the future.\"</td></tr><tr><th>6</th><td>Business</td><td>Arsenal 'may seek full share listing'</td><td>Arsenal vice-chairman David Dein has said the club may consider seeking a full listing for its shares on the London Stock Exchange.Speaking at the Soccerex football business forum in Dubai, he said a full listing was \"one of the options\" for funding after the club moves to its new stadium. The club - which is currently listed on the smaller Ofex share exchange - is due to move into its new 60,000-seater Emirates Stadium at Ashburton Grove for the start of the 2006/07 season. Mr Dein also warned the current level of TV coverage of the Premiership may be reaching saturation level, with signs that match attendances have been dropping off in the first few months of this season.When Arsenal moves to its new stadium it will see its proportion of turnover from media earnings drop from 52% this season to 34% in two years' time. The club is hoping to increase matchday earnings from 29% to 40% of turnover, and has not ruled out other money-earning means, including a full share listing. \"When the new stadium opens we will go through a thorough financial review,\" Mr Dein said.\"Listing would be one option, but we are flexible and no decisions have been made on that issue yet. \"We want to be in the best financial health - maybe clubs can do it (listing), Manchester United have been a success.\"Mr Dein said that, although television money and coverage had driven the English game forward in the past 10 years, he feared there might now be too many games being shown. Since the formation of the Premier League in season 1992/93, Premiership clubs have seen their income from television soar. \"Television has been the driving force over the past 10 years... but we must constantly improve if we want to remain as the world's leading league competition. \"We must monitor the quality of the product and ensure attendances do not decline, and we must balance that with the quantity of exposure on TV too. \"I think we have practically reached saturation point... sometimes I think less is more.\"The club is funding its move to Ashburton Grove through a number of sources, including debt from banks, from money it already has and will receive in coming years from sponsors, and from the sale of surplus property, including its Highbury Stadium. It is also looking to create new revenue streams from overseas markets, including Asia. \"We have two executives travelling round Japan and China at the moment building relationships with organisations and clubs, and we know our supporters clubs are growing there too, as they are around the world. \"We have got a very good product, so it is very important we go and look at these markets, and make sure we are on the case.\"</td></tr><tr><th>7</th><td>Business</td><td>US insurer Marsh cuts 2,500 jobs</td><td>Up to 2,500 jobs are to go at US insurance broker Marsh &amp; McLennan in a shake up following bigger-than-expected losses.The insurer said the cuts were part of a cost-cutting drive, aimed at saving millions of dollars. Marsh posted a $676m (Â£352m) loss for the last three months of 2004, against a $375m (Â£195.3m) profit a year before. It blamed an $850m payout to settle a price-rigging lawsuit, brought by New York attorney general Elliot Spitzer. Under the settlement announced in January, Marsh took a pre-tax charge of $618m in the October-to-December quarter, on top of the $232m charge from the previous quarter. \"Clearly 2004 was the most difficult year in MMC's financial history,\" Marsh chief executive Michael Cherkasky said.An ongoing restructuring drive at the group also led to a $337m hit in the fourth quarter, the world's biggest insurer said.Analysts expect its latest round of cuts to focus on its brokerage unit, which employs 40,000 staff. The latest layoffs will take the total number of jobs to go at the firm to 5,500 and are expected to lead to annual savings of more than $375m. As part of its efforts to cut costs, the company said it was halving its dividend payment to 17 cents a shares from 34 cents, a move which should enable it to save $360m. Looking ahead, Mr Cherkasky forecast profitable growth for the year ahead \"with an operating margin in the upper-teens, and with the opportunity for further margin expansion\". Meanwhile, the company also announced it would spin-off its MMC Capital private equity unit, which manages the $3bn Trident Funds operation, to a group of employees. Marsh did not say when the move would take place, but said it had signed a letter of intent.The insurer hit the headlines in October last year when it faced accusations of price rigging. New York Attorney General Elliot Spitzer sued the company, accusing it of receiving illegal payments to steer clients to selected firms as well as rigging bids and fixing prices. In January, Marsh agreed to pay $850m to settle the suit - a figure in line with the placement fees it collected in 2003 - and agreed to change its business practices. In February, a former senior executive pleaded guilty to criminal charges in a wide-ranging probe of fraud and bid-rigging in the insurance industry. In January, a former senior vice president also pleaded guilty to criminal charges related to the investigation. In an effort to reform its business practises, Marsh said it has already introduced new leadership, new compliance procedures and new ways of dealing with customers. \"As a result, we are ready to put these matters behind us and move ahead in 2005 to restore the trust our clients have placed in us and to rebuild shareholder value,\" Mr Cherkasky said.</td></tr><tr><th>8</th><td>Sport</td><td>Robinson out of Six Nations</td><td>England captain Jason Robinson will miss the rest of the Six Nations because of injury.Robinson, stand-in captain in the absence of Jonny Wilkinson, had been due to lead England in their final two games against Italy and Scotland. But the Sale full-back pulled out of the squad on Wednesday because of a torn ligament in his right thumb. The 30-year-old will undergo an operation on Friday but England have yet to name a replacement skipper.Robinson said: \"This is very disappointing for me as this means I miss England's last two games in the Six Nations at Twickenham and two games for my club, Sale Sharks. \"But I'm looking to be back playing very early in April.\"Robinson picked up the injury in the 19-13 defeat to Ireland at Lansdowne Road on Saturday. And coach Andy Robinson said: \"I am hugely disappointed for Jason. \"As England captain he has been an immense figure during the autumn internationals and the Six Nations, leading by example at all times. I look forward to having him back in the England squad.\" The announcement is the latest setback for Robinson's injury-depleted squad.Among the key figures already missing are Jonny Wilkinson, Mike Tindall, Will Greenwood, Julian White and Phil Vickery - a list which leaves Robinson short on candidates for the now vacant captaincy role. Former England skipper Jeremy Guscott told BBC Radio Five Live his choice would be Matt Dawson, even though he is does not hold a regular starting place.\"The obvious choice is Dawson\" said Guscott. \"Especially given that Harry Ellis did not have his best game at scrum-half on Saturday. \"Dawson has the credentials and the experience, even though his winning record at captain is not great. \"The other option in Martin Corry, who is the standout forward at the moment. \"Unfortunately England cannot rely on leaders on the field at the moment.\" England will announce their squad for the 12 March game against Italy on Saturday.</td></tr><tr><th>9</th><td>Business</td><td>S Korean consumers spending again</td><td>South Korea looks set to sustain its revival thanks to renewed private consumption, its central bank says.The country's economy has suffered from an overhang of personal debt after its consumers' credit card spending spree. Card use fell sharply last year, but is now picking up again with a rise in spending of 14.8% year-on-year. \"The economy is now heading upward rather than downward,\" said central bank governor Park Seung. \"The worst seems to have passed.\" Mr Park's statement came as the bank decided to keep interest rates at an all-time low of 3.25%. It had cut rates in November to help revive the economy, but rising inflation - reaching 0.7% month-on-month in January - has stopped it from cutting further. Economic growth in 2004 was about 4.7%, with the central bank predicting 4% growth this year. Other indicators are also suggesting that the country is inching back towards economic health. Exports - traditionally the driver for expansion in Asian economies - grew slower in January than at any time in 17 months. But domestic demand seems to be taking up the slack. Consumer confidence has bounced back from a four-year low in January, and retail sales were up 2.1% in December. Credit card debt is falling, with only one in 13 of the 48 million cards now in default - down from one in eight at the end of 2003. One of its biggest card issuers, LG Card, was rescued from collapse in December, having almost imploded under the weight of its customers' bad debts. The government last year tightened the rules for card lending to keep the card glut under control.</td></tr><tr><th>10</th><td>Business</td><td>S Korean lender faces liquidation</td><td>Creditors of South Korea's top credit card firm have said they will put the company into liquidation if its ex-parent firm fails to back a bail-out.LG Card's creditors have given LG group until Wednesday to sign up to a $1.1bn rescue package. The firm avoided bankruptcy thanks to a $4.5bn bail-out in January 2004, which gave control to the creditors. LG Group has said any package should reflect the firm's new ownership, and it will not accept an unfair burden. At least seven million people in South Korea use LG Card's plastic for purchases.LG Card's creditors have threatened parent group LG Group with penalties if it fails to respond to their demands.\"Creditors would seek strong financial sanctions against LG Group if LG Card is liquidated,\" said Yoo Ji-chang, governor of Korean Development Bank (KDB) - one of the card firm's major creditors. LG Group has said providing further help to the credit card issuer could hurt its corporate credibility and could spark shareholder lawsuits. It says it wants \"fair and reasonable guidelines\" on splitting the financial burden with the creditors, who now own 99.3% of LG Card. The creditors have asked the government to mediate to avoid any risk to the stability of financial markets, KDB said. Analysts believe a compromise is likely. \"LG Group knows the impact on consumer demand and the national economy from a liquidation of LG Card,\" said Kim Yungmin, an equity strategist at Dongwon Investment Trust Management.LG Card almost collapsed in 2003 due to an increase in overdue credit card bills after the bursting of a credit bubble. The firm returned to profit in September 2004, but now needs a capital injection to avoid being delisted from the Korea Stock Exchange. The exchange can delist a company if its debt exceeds its assets for two years running. LG card's creditors fear that such a move would triggered massive debt redemption requests that could bankrupt the firm, which owes about $12.05bn. \"Eventually, LG Group will have to participate, but they have been stalling to try to earn better concessions,\" said Mr Kim.</td></tr><tr><th>11</th><td>Politics</td><td>Candidate resigns over BNP link</td><td>A prospective candidate for the UK Independence Party (UKIP) has resigned after admitting a \"brief attachment\" to the British National Party(BNP).Nicholas Betts-Green, who had been selected to fight the Suffolk Coastal seat, quit after reports in a newspaper that he attended a BNP meeting. The former teacher confirmed he had attended the meeting but said that was the only contact he had with the group. Mr Betts-Green resigned after being questioned by the party's leadership. A UKIP spokesman said Mr Betts-Green's resignation followed disclosures in the East Anglian Daily Times last month about his attendance at a BNP meeting. \"He did once attend a BNP meeting. He did not like what he saw and heard and will take no further part of it,\" the spokesman added. A meeting of Suffolk Coastal UKIP members is due to be held next week to discuss a replacement. Mr Betts-Green, of Woodbridge, Suffolk, has also resigned as UKIP's branch chairman.</td></tr><tr><th>12</th><td>Sport</td><td>English clubs make Euro history</td><td>All four of England's Champions League representatives have reached the knockout stages for the first time.Arsenal and Chelsea are seeded as group winners, while runners-up Manchester United and Liverpool are not. Rules stipulate that teams from the same country or group will be kept apart in the draw on 17 December. The favourites are Chelsea and Barcelona, and Real Madrid, the two Milan sides, Juventus and Bayern Munich are among the 16 still in the hat.Steven Gerrard's last-gasp wonder-strike secured qualification foragainst Olympiakos on Wednesday evening.AC Milan, Bayer Leverkusen, Internazionale, Juventus, Lyon.who had already qualified, fielded a second-string side and went down 3-0 to Fenerbahce.AC Milan, Bayer Leverkusen, Internazionale, Juventus, Monaco.On Tuesday,finished top of their group with a 5-1 win over the Rosenborg after drawing four of their first five matches.Barcelona, Bayern Munich, Porto, Real Madrid, Werder Bremen, who had already qualified lost 2-1 to Porto as Jose Mourinho made an unhappy return to his former club.Barcelona, Bayern Munich, PSV Eindhoven, Real Madrid, Werder Bremen.</td></tr><tr><th>13</th><td>Sport</td><td>Hearts of Oak 3-2 Cotonsport</td><td>Hearts of Oak set up an all Ghanaian Confederation Cup final with a 3-2 win over Cameroon's Cotonsport Garoua in Accra on Sunday.The win for Hearts means they will play Asante Kotoko in the two-leg final, after the Kumasi team qualified from Group A on Saturday. In the other Group B game Cameroon'sbeatof South Africa 3-2 in Douala, neither side could have qualified for the final. Hearts of Oak started the game needing a win to qualify for the final while Cotonsport only needed to avoid defeat to go through. Louis Agyemang scored the first two goals for Hearts either side of half time before Ben Don Bortey scored the third. Hearts looked set for a comfortable win but Cotonsport staged a late fight back scoring twice late on. First of all Boukar Makaji scored in the 89th minute and then 3 minutes into injury time at the end of the game Andre Nzame III was on target. But it was too little too late for the Cameroonians and Hearts held on to win the game and a place in the final. The first leg of the final will be played in Accra on the weekend of 27-28 November and the second leg two weeks later on the 11 December in Kumasi. In the other Group B game Cameroon's Sable Batie took the lead in the 35th minute through Kemadjou before Santos equalised on the hour mark thanks to Thokozani Xaba . Bernard Ngom put Sable ahead just five minutes later and then Ernest Nfor settled the game on 68 minutes. Ruben Cloete scored the South African sides consolation with just three minutes left on the clock.</td></tr><tr><th>14</th><td>Sport</td><td>Funding cut hits Wales Students</td><td>The Wales Students rugby side has become a casualty of the Welsh Rugby Union's reorganisation at youth level.An amalgamated Under-18 side formed from separate schools and national youth teams plays its first match on Thursday, against Italy at the Gnoll. But that move has seen the WRU decide to end its funding of representative sides such as Wales Students. As a result, traditional international fixtures against England and France in the New Year have been cancelled. The Welsh Students Rugby Football Union feels that it is unable to properly prepare for or stage the matches. The secretary of the Welsh Students Rugby Football Union, Reverend Eldon Phillips, said: \"It is a shame that fixtures cannot be maintained this year. \"The competition provided by the strong English and French teams has enabled the Welsh Students to test themselves in high quality matches. \"The increasing number of young rugby players entering Higher Education look for the biggest challenge, that is representative rugby, but this year that opportunity will be denied them. Players who have played for Wales Students before going on to win full senior representative honours include Robert Jones, Rob Howley, Jon Humphreys, Darren Morris, Martyn Williams and Ceri Sweeney.</td></tr><tr><th>15</th><td>Entertainment</td><td>Vera Drake leads UK Oscar hopes</td><td>Mike Leigh's film Vera Drake will lead British hopes at this year's Academy Awards after getting three nominations.Imelda Staunton was nominated for best actress for her role in the abortion drama, while Leigh received nods for best director and original screenplay. Kate Winslet was also nominated in the best actress category for her role in Eternal Sunshine of the Spotless Mind. And Clive Owen and Sophie Okonedo both got nominated for supporting roles in Closer and Hotel Rwanda respectively. Owen has already been made bookmakers' favourite for best supporting actor for the role in Closer that has already clinched him a Golden Globe award.And it is the first nomination for actress Okonedo, chosen for her performance in Hotel Rwanda, about the 1994 Rwandan genocide. It is also a debut nomination for Staunton, 49, who told BBC News 24 she had not thought the film would appeal to Academy voters. \"It was an extraordinary time making the film and I can't believe what has happened this morning,\" she said. \"I hope it just shows Mike up to be the extraordinary filmmaker he is. \"We are also dealing with a very difficult subject matter and it is amazing to have it accepted in this way.\" Leigh, who had previously received three Oscar nominations for Secrets and Lies and Topsy Turvy, told BBC News 24 the latest success was \"amazing\". He said: \"We hoped that Imelda Staunton would get a nomination but I never expected to get director and screenplay. It's just absolutely wonderful.\"I think people are aware that it's about life - and I hope it is the warmth and compassion that really talks to people.\" Winslet said she was \"ecstatic\" about the fourth nomination of her career. \"Being nominated means so much to me. To be nominated for a film that was released a while ago, I feel so honoured and overwhelmed,\" she said. John Woodward, chief executive of the UK Film Council, said it was \"extremely heartening\" to see British filmmaking talent recognised on the global stage. \"Britain has a hugely talented industry and these nominations show why National Lottery investment in film pays major dividends for our culture and economy.\" Among a total of 24 British nominees, composer Andrew Lloyd Webber and lyricist Charles Hart are up for best original song for Learn To Be Lonely, from The Phantom of the Opera movie.Cinematographer John Mathieson, who was nominated for Gladiator in 2001, is also up for The Phantom of the Opera. And Finding Neverland has garnered two more nominations for Brits. Gemma Jackson, who has also worked on Bridget Jones's Diary and Iris, is up for art direction while costume designer Alexandra Byrne, whose previous films have included Captain Corelli's Mandolin and Elizabeth, is in the running. The UK has two contenders in the best live action short film category. Wasp was made by ex-children's TV presenter Andrea Arnold while Little Terrorist is the work of Ashvin Kumar. This year's awards will be handed out in Hollywood on 27 February.</td></tr><tr><th>16</th><td>Entertainment</td><td>Sundance to honour foreign films</td><td>International films will be given the same prominence as US films at next year's Sundance Film Festival, with movies dominated by the theme of war.The independent film festival will feature two new international cinema competitions, during its 20-30 January season in Utah. Forty-two films will debut at Sundance, including The Liberace of Baghdad by British director Sean McAllister. The prestigious festival was founded by actor Robert Redford in 1981.\"We have always had an international component, but from next year they will enter a jury competition,\" festival director Geoffrey Gilmore said. \"We wanted to give world cinema more emphasis and have now put it on par with the American dramatic and documentary competitions.\" Twelve films competing in the new world cinema documentary category focus on countries and people under siege.The Liberace of Baghdad features an Iraqi pianist hiding in a hotel as he waits for a visa, while Finnish film The Three Rooms of Melancholia looks at the war in Chechnya. Shake Hands With The Devil: The Journey of Romeo Dallaire tells of a UN mission to Rwanda during the 1994 genocide, while French-Israeli production Wall looks at Israel's controversial security wall separating it from the Palestinian territories. The 16 films competing in the new world cinema dramatic category include works from Germany, South Korea, Angola, China, Denmark and Australia.Several Hollywood stars feature in the festival's American independent drama category, including Keanu Reeves and Benjamin Bratt. Vince Vaughn stars in quirky movie Thumbsucker while 21 Grams actress Naomi Watts plays a budding Hollywood actress in Ellie Parker. The top Grand Jury prize at this year's festival went to low budget sci-fi thriller Primer, written and directed by Shane Carruth. Morgan Spurlock earned the directing award for Super Size Me, which became an international box office hit.</td></tr><tr><th>17</th><td>Entertainment</td><td>Black Sabbath top rock album poll</td><td>Black Sabbath have topped a list of the best British rock albums of all time.The band once fronted by Ozzy Osbourne led a poll of Kerrang! magazine readers with their 1970 self-titled debut. The band have three more efforts on the list, including fifth-placed Paranoid. Osbourne appears more than any other act, with two solo records featured. The top five includes Led Zeppelin, Iron Maiden and Sex Pistols. Queen, Muse, Manic Street Preachers and The Clash complete the top 10. A mix of heavy metal, punk, glam rock and even dance music makes up the list. Motorhead, Judas Priest and Prodigy are included along with newer acts like The Darkness and Lostprophets.Kerrang! editor Ashley Bird said: \"It's amazing to see so many incredible homegrown albums in one list, and without any of the abysmal fashion bands that currently clog up the music scene. \"These are the real opinions of proper rock fans.\"Formed by four teenage friends in the West Midlands in the late 1960s, Black Sabbath are one of Britain's most successful heavy rock bands. Their debut was a UK top 10 hit in 1970 and sold more than a million copies in the US. Osbourne said the band's success in the Kerrang! poll was a triumph for British rock. He said: \"Back then you'd hear: 'If you go to San Francisco, be sure to wear a flower in your hair'. \"We lived in Aston, Birmingham. The only flowers I ever saw were on a gravestone in our local cemetery.\" Despite being disliked by many critics, Black Sabbath's subsequent albums included multi-million sellers but internal rows led to Osbourne leaving in 1979. The band continued without Osbourne, who went on to solo success but also had to battle alcoholism and legal action over his music allegedly inciting teenagers to commit suicide. He was eventually cleared of the charges. Osbourne, who bit off the head of a live bat on stage in 1982, rejoined the band to play the Live Aid charity concert in 1985. After many changes in line-up, the original four members reunited to play live dates in 1997. Black Sabbath have reunited regularly in recent years while Osbourne has gone on to wider fame with his family through MTV documentary series The Osbournes.</td></tr><tr><th>18</th><td>Sport</td><td>Campbell rescues Arsenal</td><td>Sol Campbell proved to be an unlikely match-winner to earn Arsenal a hard-fought win at Portsmouth.The England defender lashed home a 25-yard shot for his first goal in 16 months to take Arsenal back into second spot, five points behind Chelsea. But before Campbell scored the best two chances of the game fell to Pompey striker Ricardo Fuller. In the first half he blasted wide when clear, and his control let him down in the second half when well placed. Portsmouth got plenty of bodies behind the ball to deny Arsenal space in the early stages. But their marking was slack at a corner and Patrick Vieira should have done better when the ball fell to him 16 yards out. A mistake by Arjan de Zeeuw let Thierry Henry in behind the Pompey defence on 17 minutes but as he bore down on goal Linvoy Primus got in a saving tackle. With just Fuller as an out-and-out striker, Portsmouth's shape made life difficult for Arsenal. But a delightful touch by Robin van Persie gave Henry a sight of goal, although the angle was too tight for his shot to trouble Jamie Ashdown.Ashdown caused hearts to flutter on 28 minutes when he missed his punch at a corner and Kolo Toure headed just wide and, as Arsenal began to press, Van Persie blasted over a good opportunity after Henry had set him up. Henry took a quick return pass from Vieira but Ashdown was out quickly to block, and there were some anxious seconds for Pompey as the ball ran loose before Matthew Taylor cleared. After playing second fiddle, Portsmouth should have taken the lead on 34 minutes. Referee Howard Webb played a good advantage to allow Steve Stone to send Gary O'Neil away but, having shrugged off Toure, the Pompey midfielder planted his shot wide from 10 yards. As half-time approached, Henry teased a shot through a ruck of players and inches wide. At the other end, Fuller broke clear but failed to hit the target as Toure closed him down.Fuller was given the best chance of the match so far on 48 minutes when Patrik Berger's break and slipped pass played him clear. But a poor first touch lost him the opportunity and even when he checked back and went down under Vieira's challenge, referee Webb was not interested. Fuller paid the price when he gave way on 55 minutes to Aiyegbeni Yakubu, who returned after six weeks out with a knee injury. But it needed alert reflexes and safe handling from Ashdown to cling on to Van Persie's shot as Henry sniffed for scraps.Portsmouth were growing in confidence and keeper Manuel Almunia had to stand his ground to beat away a powerful shot from Berger. Arsenal were struggling to find their rhythm but took the lead through the unlikely source of Campbell. The England defender needed little invitation as Pompey backed off to stride forward and lash a ferocious shot past Ashdown. Arsenal might have stretched their lead two minutes later when Mathieu Flamini escaped his marker to flash a header wide from Henry's free-kick. Almunia went full length to grab Berger's long-range shot, while Ashdown palmed away substitute Dennis Bergkamp's shot.Ashdown, Griffin, De Zeeuw, Primus, Taylor, Stone, O'Neil, Faye (Berkovic 83), Berger, LuaLua, Fuller (Yakubu 55).Subs not used: Hislop, Quashie, Cisse.Almunia, Lauren, Toure, Campbell, Cole, Pires, Flamini, Vieira, Clichy, Van Persie (Bergkamp 68), Henry.Subs not used: Lehmann, Fabregas, Senderos, Hoyte.Cole.Campbell 75.20,170.H Webb (S Yorkshire).</td></tr><tr><th>19</th><td>Politics</td><td>MPs to debate 'euthanasia laws'</td><td>MPs are preparing to debate a bill which critics claim would legalise euthanasia \"by the back door\".The bill would give legal force to \"living wills\", where people say they want medical treatment withheld if they become severely incapacitated. The Mental Capacity Bill has broad support from charities who say it would give better safeguards over treatment. But Christian groups say it could mean doctors withholding food and fluids even if they think it inappropriate.Ministers insist the Mental Capacity Bill - for England and Wales - would not change laws on assisted suicide and contains a presumption in favour of preserving life.The bill would establish a legal presumption that everybody can make decisions about their own treatment unless proved otherwise. It would allow people to give somebody the power of attorney to make decisions on their behalf, which could be challenged by doctors. Critics fear it could allow \"killing by omission\" through withdrawing treatment. An amendment to the bill - specifically preventing decisions that would bring about death - has been tabled by former Conservative leader Iain Duncan Smith. Ninety one MPs have signed a petition backing the amendment. MPs could vote on it later on Tuesday, during the bill's report stage debate. The Bill will then go to a third reading and be debated in the Lords, before becoming law.The Christian Medical Fellowship (CMF) and Lawyers' Christian Fellowship (LCF) said the Mental Capacity Bill would allow euthanasia by the \"back door\". Peter Saunders of the CMF said it believed advance refusals should be only advisory, not legally binding. \"CMF is concerned that patients will make unwise and hasty advance decisions to refuse food and fluids without being properly informed about the diagnosis and the expected course their illness will take,\" he said.The LCF's Andrea Williams said there were \"too many loopholes that could be abused by unscrupulous doctors\". Ex-Labour minister Frank Field told BBC Two's Newsnight programme there was a danger people would feel under pressure to \"do away\" with themselves so relatives could inherit their assets.Constitutional Affairs Minister David Lammy said laws affecting 750,000 people with dementia needed updating. Mr Lammy told BBC News Labour MPs would not get a free vote as the law was being strengthened, not changed. \"We are against euthanasia, we are against assisted suicide but we are in a situation now where people can make living wills and that has the force of the common law,\" he said. \"Doctors are saying they want more clarity. Patients are saying they want more clarity.\" The Making Decisions Alliance, which includes the Alzheimer's Society, Age Concern, Mencap and the National Autistic Society, said misunderstandings over the bill had to be cleared up. \"It will not change the current law on euthanasia and will actually provide a series of better safeguards when decisions are made for people who lack capacity,\" the alliance said in a statement. The British Medical Association also backs the bill, saying it just gives incapacitated people the same rights as others. Debate on legalising euthanasia has intensified in the UK because of cases like that of motor neurone patient Diane Pretty. She died two years ago after losing a legal battle to allow her husband to help her commit suicide.</td></tr><tr><th>20</th><td>Sport</td><td>Adriano's Chelsea link rejected</td><td>Adriano's agent Gilmar Rinaldi has insisted that he has had no contact with Chelsea over the striker.Chelsea were reported to have made inquiries about Inter Milan's 22-year-old Brazilian star. Rinaldi told BBC Sport from Rio de Janeiro: \"I can assure you that Chelsea have had no dealings whatsoever with either me or Adriano. \"Parma and Real Madrid are interested but there's nothing new there. Their interest has been known for some time.\" Adriano has scored 14 goals in 20 Serie A appearances this season. And Chelsea boss Jose Mourinho had claimed that he was in Milan talking to Adriano on the day he is alleged to have held a clandestine meeting with Arsenal defender Ashley Cole. Mourinho said he was \"just practising my Portuguese with him because I don't need strikers\". Rinaldi told BBC Sport: \"I have to say that nobody from Chelsea or any other London club has contacted me. \"If they want to, that's fine. I can tell them what the situation is. \"If Chelsea are interested then they must make an offer.\" Inter are reported to have slapped a price tag in the region of Â£40m on the head of Adriano, who joined them just over a year ago from Parma. Real Madrid view him as a natural replacement for compatriot Ronaldo. But Rinaldi said: \"I cannot give you a price that Inter would accept for Adriano. That's something that would have to be negotiated between the interested clubs.\"</td></tr><tr><th>21</th><td>Sport</td><td>White prepared for battle</td><td>Tough-scrummaging prop Julian White is expecting a resurgent Wales to give him a rough ride in England's Six Nations opener in Cardiff on Saturday.The Leicester tight-head is in the form of his life, making the England number three shirt his own. But he knows Wales will put his technique under immense scrutiny. \"The Welsh scrum is a force to be reckoned with,\" he told BBC Sport. \"They have made a lot of changes for the better over the last few years.\" White is also impressed with the Welsh pack's strength in depth. \"Gethin Jenkins is starting at loose-head for them. He has played a bit at tight-head but I think his favoured position is loose-head and he is very good,\" he added. The 31-year-old has made a massive contribution to the England and Leicester cause of late and is arguably the form tight-head prop in the world.He destroyed South Africa's Os du Randt in the scrum at Twickenham last autumn to give England the platform for an impressive 32-16 victory. Leicester, who signed White from Bristol when the West Country side were relegated from the Zurich Premiership in the summer of 2003, have also been aided by White's presence this season. The Tigers are sitting pretty at the top of the Premiership table and have also booked their place in the last eight of the Heineken Cup. \"I am pleased with my form,\" he said. \"But my form is helped by the people I play with at Leicester - people like Martin Johnson and Graham Rowntree. \"It's been a good season so far and to be in the starting XV for the first game of the Six Nations is what every player wants. \"I am delighted with the way things have gone but we have to get it right this weekend.\" White is now one of the more experienced members of the England squad which takes to the field on Saturday. Injuries have taken their toll and coach Andy Robinson has been deprived of Richard Hill, Jonny Wilkinson, Martin Corry, Mike Tindall, Will Greenwood and Stuart Abbott.And with 27 caps and a World Cup winner's medal to his name, White is now in a position to offer his experience to youngsters such as centres Matthew Tait and Jamie Noon. \"I don't know how much experience a tight-head can give a centre but you are there to give them a pat on the back if things go wrong or to be there if they want to talk in any way,\" he added. \"When I first came into the squad, people like Jason Leonard and Martin Johnson were the first to come over and talk through things and help out.\"It gives you a lot of confidence when people like that speak to you. \"I was in awe of a lot of them so to sit down and speak with them and realise you are on the same wavelength is good.\" White missed the vast majority of last year's Six Nations because of a knee injury and is raring for the 2005 event to get going. And that is despite the opening game taking place amid the red-hot atmosphere in Cardiff. \"I enjoy the atmosphere. The Millennium Stadium is probably one of the best stadiums in the world,\" he said. \"To go down there and hear the shouting and the singing - it's one of my favourite places to play. \"This is probably the most even Six Nations for a long time. England, Ireland, France and Wales are all contenders. \"On form, Ireland should be favourites but you just don't know - that's the great thing about this tournament.\"</td></tr><tr><th>22</th><td>Entertainment</td><td>Campaigners attack MTV 'sleaze'</td><td>MTV has been criticised for \"incessant sleaze\" by television indecency campaigners in the US.The Parents Television Council (PTC), which monitors violence and sex on TV, said the cable music channel offered the \"cheapest form\" of programming. The group is at the forefront of a vociferous campaign to clean up American television. But a spokeswoman for MTV said it was \"unfair and inaccurate\" to single out MTV for criticism.The PTC monitored MTV's output for 171 hours from 20 March to 27 March 2004, during the channel's Spring Break coverage. In its report - MTV Smut Peddlers: Targeting Kids with Sex, Drugs and Alcohol - the PTC said it witnessed 3,056 flashes of nudity or sexual situations and 2,881 verbal references to sex. Brent Bozell, PTC president and conservative activist said: \"MTV is blatantly selling raunchy sex to kids. \"Compared to broadcast television programmes aimed at adults, MTV's programming contains substantially more sex, foul language and violence - and MTV's shows are aimed at children as young as 12. \"There's no question that TV influences the attitudes and perceptions of young viewers, and MTV is deliberately marketing its raunch to millions of innocent children.\"The watchdog decided to look at MTV's programmes after Janet Jackson's infamous \"wardrobe malfunction\" at last year's Super Bowl. The breast-baring incident generated 500,000 complaints and CBS - which is owned by the same parent company as MTV - was quick to apologise. MTV spokeswoman Jeannie Kedas said the network follows the same standards as broadcasters and reflects the culture and what its viewers are interested in. \"It's unfair and inaccurate to paint MTV with that brush of irresponsibility,\" she said. \"We think it's underestimating young people's intellect and level of sophistication.\" Ms Kedas also highlighted the fact MTV won an award in 2004 for the Fight for Your Rights series that focused on issues such as sexual health and tolerance.</td></tr><tr><th>23</th><td>Entertainment</td><td>Douglas set for Indian adventure</td><td>Actor Michael Douglas is to co-produce and star in an adventure film about a diamond robbery set in India.The new picture is expected to be similar to Douglas's action films of the 1980s, Romancing The Stone and The Jewel Of The Nile. Another Hollywood star is being lined up to co-star, while the rest of the cast will be Indian. Aishwarya Rai, star of Bride and Prejudice, is the \"preferred choice\" of the Indian studio involved in the film.On a visit to India, the 60-year-old actor said he hoped to start shooting Racing The Monsoon next year. Douglas added that it had been inspired by a Wall Street Journal article about India's 'angadias', who courier money and diamonds around India.The actor's own production company, Further Films, is working in partnership with two Indian film-making concerns to bring the picture to the screen. Shailendra Singh, the founder of India's Percept Films, said there would be \"a lot of India\" in the movie - and that an Indian train would play a big role. \"The train will be a crucial part of the film. The chase and most of the stunts will be on the train,\" said Mr Singh. Swashbuckling adventure film Romancing The Stone saw Douglas's female co-star Kathleen Turner win a Golden Globe award for her performance in 1985.</td></tr><tr><th>24</th><td>Sport</td><td>Moya emotional after Davis Cup win</td><td>Carlos Moya described Spain's Davis Cup victory as the highlight of his career after he beat Andy Roddick to end the USA's challenge in Seville.Moya made up for missing Spain's 2000 victory through injury by beating Roddick 6-2 7-6 (7-1) 7-6 (7-5) to give the hosts an unassailable 3-1 lead. \"I have woken up so many nights dreaming of this day,\" said Moya. \"All my energy has been focused on today. \"What I have lived today I do not think I will live again.\" Spain's only other Davis Cup title came two years ago in Valencia, when they beat Australia. And Moya, nicknamed Charly, admitted: \"The Davis Cup is my dream and I was a bit nervous at the outset. \"Some people have said that I am obsessed but I think that it is better this way. It helps me reach my goals if I am obsessed. \"It's really incredible - to get the winning point is really something.\" Spanish captain Jordi Arrese said: \"Charly played a great game. It was his opportunity and he hasn't let us down. \"He had lost three times to Roddick, and this was his day to beat him. \"He had been waiting years to be in this position.\" Spain's victory was also remarkable for the performance of Rafael Nadal, who beat Roddick in the opening singles.Aged 18 years and 185 days, the Mallorcan became the youngest player to win the Davis Cup. \"What a great way to finish the year,\" said Nadal afterwards. US coach Patrick McEnroe wants Roddick and the rest of his team to play more tennis on clay and hone their skills on the surface. \"I think it will help these guys even on slow hard courts to learn how to mix things up a little bit and to play a little bit smarter and tactically better.\" \"Obviously it's unrealistic to say that we're going to just start playing constantly on clay, with the schedule. \"But certainly I think we can put the work in at the appropriate time and play a couple more events and play against these guys who are the best on this stuff,\" said McEnroe. Roddick was left frustrated after losing both his singles on the slow clay of Seville's Olympic Stadium. \"It's just tough because I felt like I was in it the whole time against one of the top three clay-courters in the world,\" said the American. \"I had my chances and just didn't convert them. The bottom line is they were just better than us this weekend. \"They came out, took care of business and they beat us. It's as simple as that.\"</td></tr><tr><th>25</th><td>Tech</td><td>Broadband soars in 2004</td><td>If broadband were a jumbo jet, then 2003 would have seen it taxiing down the runway, firing up its engines and preparing for take-off. But this year has seen it soar.In the spring it literally took to the skies as Lufthansa and British Airways trialled it on flights. This perhaps said more about how indispensable people were beginning to perceive the technology, rather than how useful sky-high broadband would actually be. It was flying high and by the autumn, five million Britons had signed up for high-speed net access at home.Such enthusiasm is unlikely to dampen any time soon and experts predict that by the end of next year the numbers will have risen to more than eight million, or more than 30% of homes. The two key factors in whetting people's appetite were falling prices and a huge marketing push. When operators such as BT and Telewest offered standard 512K broadband for less than Â£20 at the beginning of the year, it was as if an invisible barrier had been breached - broadband had truly gone mass market. A feeding frenzy followed as firms vied for eyeballs in a price war reminiscent of that following the mass market take-up of dial-up. Broadband for less than Â£10 was even touted by some firms, although such a low price raised eyebrows among more established companies questioning how they are able to sustain such business models.For those who became broadbanders in 2004 there was no turning back and the days of waiting for the modem to kick in began to seem as outdated an idea as a jungle without celebrities. The rest of the world was also falling in love with the benefits of fast internet access, to the tune of 100 million connections worldwide by April, prompting research firm Point Topic to declare it one of the fastest growing technologies ever. By September, the number of broadband connections in the UK finally overtook dial-up and in December BT announced that it was making a new broadband connection every 10 seconds.Broadband was being mentioned on the 10 O'clock News and in the tabloids; the Sun even carried a cartoon joke about it. But two of the most significant pieces of news for broadband were items that did not make the headlines. In May, BT quietly announced that it was shaving 70% off the cost of allowing other operators access to its telephone exchanges, so-called local loop unbundling. The vital local loop is the crucial link between telephone exchanges and homes. At the moment BT has a stranglehold on more than 80% of these lines making it the key voice in deciding what ADSL products get into homes. With cheaper local loop unbundling, rivals to BT can offer faster services that will leave the broadband of today looking positively tortoise-like. It will mean the UK will finally catch up with countries such as France and the Netherlands, where homes are routinely enjoying speeds of up to 15Mb (megabits per second). And the major price fall means that, rather than just talk about it, companies are actually starting to get their own equipment into BT's exchanges. It may not seem that exciting but it is a remarkable transition given that just a few years ago the arguments over local loop unbundling bore more than a passing resemblance to the Northern Ireland peace talks - fraught, bitter and with no end in sight.Another big piece of news for broadband users in 2004 was the extension of BT's reach, meaning more than 95% of the population could get broadband, regardless of how far away from the exchange they lived.There was a slight caveat for those wanting to upgrade to 1Mbps broadband, they still have to live within six kilometres of a broadband-enabled exchange. For thousands frustrated by their inability to get the technology, the news meant they could finally join in. Broadband is not just about fast access over the telephone and cable operators NTL and Telewest also had a bumper year. The biggest news for them was increased speeds, introducing 2Mb and 3Mb services for users and offering a free upgrade to those on 512K. The cable operators are limited in their reach and it is perhaps testament to how big a deal local loop unbundling could become that even they are considering extending their range via this route. Broadband can seem confusing for consumers, with the huge amount of operators offering so many different products, some with capped bandwidth and different length contracts and set-up fees. It is unlikely to get any less easy to understand in 2005 but remains a plane worth catching. As it gets faster and offers extras such as cheap telephone calls online, the only real thing to remember for the coming year is to enjoy the ride.</td></tr><tr><th>26</th><td>Politics</td><td>Howard rebuts asylum criticisms</td><td>Tory leader Michael Howard has gone on the offensive in response to people questioning how a son of immigrants can propose asylum quotas.Mr Howard, whose parents fled the Nazi threat to come to the UK, says the claim would mean no-one from an immigrant family could become premier. His comments come in a BBC documentary called 'No More Mr Nasty'. TV presenter Anne Robinson said as home secretary he gave the impression he would \"like to kick your cat\". Ms Robinson, a friend of the Tory leader, also revealed that as a Cambridge student Mr Howard was \"much loved by women and he was a courteous and kind and rather dashing lover\" - although she denied having personal experience. \"I wasn't at Cambridge - and it's not personal experience - but I know people who were.\"Documentary maker Michael Cockerell was given behind-the-scenes access to Mr Howard for his film portrait. The Tory leader was asked about to respond to people who said that if there had there been a quota on immigration and asylum in the 1930s, his parents might not have been allowed into the country.He replies: \"What is the inference of that? \"That if you reach the view that you need to control immigration in the interests of the country you're not allowed to put a view forward if you happen to be descended from immigrants? \"That seems to me an absolutely extraordinary proposition? It would certainly mean no one from immigrant parents could be prime minister.\"Ms Robinson, who presents The Weakest Link tells Cockerell that she despaired at his hardline image when he was home secretary in John Major's government. \"I used to have to sit on my hands because he'd get on television and give a passable impression of someone who'd like to kick your cat or would put your baby in prison if he cried. I mean it was very, very Draconian.\" The film shows Mr Howard laughing at Rory Bremner's impression of him as Dracula, which he calls \"good fun\", apart from the serious falsehood of a comment suggesting he wants fewer black people in the UK. The film shows the private side of the Tory leader watching television at home or playing table tennis with his wife, ex-model Sandra. Asked if she enjoys a game of ping pong she confesses: \"Yeah, it would be more enjoyable if I could win occasionally too, but otherwise it's quite fun.\"Former Downing Street communications chief Alastair Campbell, now working on Labour's election campaign, says a \"touchy-feely\" image does not fit Mr Howard. He says Tony Blair was not worried by his opponents' early performance in their Commons clashes because Mr Howard lacked a \"big strategy\", including on issues like Iraq. The Tory leader brands such criticisms as \"absolutely rubbish\", arguing that he has been consistent on his support for the war but critical of Mr Blair's failure to tell the truth on intelligence. Former Tory chancellor Ken Clarke says Mr Howard has a bigger problem changing perceptions of the Tory party than his personal image. Mr Clarke says the party is improving and it is \"conceivable\" it could win the next election. But he adds: \"It has got to change itself a bit and broaden its appeal.\"- Michael Howard: No More Mr Nasty is being shown on BBC2 on Saturday 12 February at 2005 GMT.</td></tr><tr><th>27</th><td>Politics</td><td>Labour MP praises Tory campaign</td><td>The Conservatives have been \"a lot smarter\" in the way they have conducted the general election campaign, a Labour backbencher has said.Derek Wyatt said having a five month campaign \"turned off voters\" and suggested people were already \"rather bored of the thing\". He wants a greater campaigning role for Chancellor Gordon Brown. Labour said the economy was at the heart of the campaign and Mr Brown therefore had a prominent role. But Mr Wyatt argued: \"By some way, he is currently the figure in all of the polls that people trust and see that has delivered over eight years an economy unmatched anywhere in the world. \"So, it would be a tad foolish of the Labour Party if we did not use him as we have done over the past three elections.\"Labour's election chief Alan Milburn denied there was an attempt to sideline Mr Brown after facing criticism for letting the Tories set the agenda. However, Mr Wyatt predicted the campaign would get under way properly once the chancellor delivered his budget. The MP for Sittingbourne and Sheppey said Prime Minister Tony Blair had been \"trying very hard\" to improve his own standing with the electorate through a \"sort of campaign of trust\". But Mr Blair had been \"hurt\" by the Iraq controversy, he added. A Labour party spokesman played down differences with Mr Wyatt and said Mr Brown already had a prominent campaign role. \"This election is a choice between Labour taking Britain forward and the Conservatives taking us back.\"</td></tr><tr><th>28</th><td>Tech</td><td>Court mulls file-sharing future</td><td>Judges at the US Supreme Court have been hearing evidence for and against file-sharing networks.The court will decide whether producers of file-sharing software can ultimately be held responsible for copyright infringement. They questioned if opening the way for the entertainment industry to sue file-sharers could deter innovation. They also said that file-trading firms had some responsibility for inducing people to piracy.The lawsuit, brought by 28 of the world's largest entertainment firms, has raged for several years. Legal experts agree that if the Supreme Court finds in favour of the music and movie industry they would be able to sue file-trading firms into bankruptcy. But if the judge rules that Grokster and Morpheus - the file-sharers at the centre of the case - are merely providers of technology that can have legitimate as well as illegitimate uses, then the music and movie industry would be forced to abandon its pursuit of file-sharing providers. Instead, they would have to pursue individuals who use peer-to-peer networks to get their hands on free music and movies. The hi-tech and entertainment industries have been divided on the issue. Intel filed a document with the Supreme Court earlier this month in defence of Grokster and others, despite misgivings about some aspects of the file-sharing community. It summed up the attitude of many tech firms in its submission which states that its products \"are essentially tools, that like any other tools, capable of being used by consumers and businesses for unlawful purposes\".Asking firms to second-guess the uses that its technologies would be put to, and to build in ways of preventing illegitimate use, would stifle innovation, it said. The Electronic Frontier Foundation, a civil rights watchdog, is also defending StreamCast Networks, the company behind the Morpheus file-sharing software. The case raises a question of critical importance at the border between copyright and innovation, it said. It cites, as do many, the landmark ruling in 1984 which found that Sony should not be held responsible for the fact that its Betamax video recorder could be used for piracy. Defenders remain optimistic that the judges will rule in favour of the peer-to-peer networks, upholding the precedent set by the Sony Betamax case. A small band of supporters were outside the court as the lawyers entered, wearing \"Save Betamax\" t-shirts. \"The Betamax principles stand as the Magna Carta for the technology industry and are responsible for the explosion in innovation that has occurred in the US over the past 20 years,\" said Gary Shapiro, chief executive of the Consumer Electronics Association. Supreme Court Justice Stephen Breyer said that inventions from printing to Apple's iPod could be used to illegally duplicate copyrighted materials but had, on balance, been beneficial to society. He said that while file-trading software can be used to illegally trade movies and music, conceptually the technology had \"some really excellent uses\".Based on Tuesday's hearing it seems unlikely that the Betamax ruling will be overturned but file-sharing firms might still be held responsible for encouraging or inducing piracy. Grokster's lawyer argued that the company should be judged by its current behaviour rather than what it did when it first set up. But this argument was dismissed as \"ridiculous\" by Justice David Souter. CEA boss Mr Shapiro thinks the case is the most important that the Supreme Court will hear this year. \"It's about preserving America's proud history of technological innovation and protecting the ability of consumers to access and utilise technology,\" he said. The case has already been heard by two lower courts and both found in favour of the peer-to-peer networks. They ruled that despite being used to distribute millions of illegal songs, file-sharing could also be used to cheaply distribute software, government documents and promotional copies of music.</td></tr><tr><th>29</th><td>Politics</td><td>Tory expert denies defeatism</td><td>The Conservatives' campaign director has denied a report claiming he warned Michael Howard the party could not win the next general election.The Times on Monday said Australian Lynton Crosby told the party leader to focus on trying to increase the Tories' Commons presence by 25 to 30 seats. But Mr Crosby said in a statement: \"I have never had any such conversation... and I do not hold that view.\" Mr Howard later added there was not \"one iota\" of truth in the report. The strategist helped Australia's PM, John Howard, win four elections. Mr Howard appointed Mr Crosby as his elections chief last October. Mr Crosby's statement said: \"The Conservative Party has been making an impact on the issues of lower tax and controlled immigration over the past week.\" It added: \"The Labour Party will be wanting to do all they can to distract attention away from the issues that really matter to people.\"</td></tr><tr><th>30</th><td>Politics</td><td>UK 'needs true immigration data'</td><td>A former Home Office minister has called for an independent body to be set up to monitor UK immigration.Barbara Roche said an organisation should monitor and publish figures and be independent of government. She said this would counter \"so-called independent\" groups like Migration Watch, which she described as an anti-immigration body posing as independent. Migration Watch says it is not against all immigration and the government already publishes accurate figures. Sir Andrew Green, chairman of the organisation, says there is no need for an independent body because Office of National Statistics data are accurate. He says he opposes large-scale immigration \"both on the grounds of overcrowding and culture\".He said: \"For example, over the next 20 years one household in three will be due to immigration. \"We are already more overcrowded than India and we are four times more overcrowded than France.\" Ms Roche, Labour MP for Hornsey and Wood Green, believes legal migration is something we should welcome. She said her proposals mean \"we wouldn't have so-called independent experts, like Migration Watch, who come into this debate from an anti-immigration point of view.\" She went on: \"What I would like to see is there being a body which actually looked at the figures, published them, and was independent of government. \"I think that would go a long way to allaying some of the fears that are sometimes whipped up during this debate.\"</td></tr><tr><th>&vellip;</th><td>&vellip;</td><td>&vellip;</td><td>&vellip;</td></tr></tbody></table>"
      ],
      "text/latex": [
       "\\begin{tabular}{r|ccc}\n",
       "\t& Category & Heading & Article\\\\\n",
       "\t\\hline\n",
       "\t& String & String & String\\\\\n",
       "\t\\hline\n",
       "\t1 & Entertainment & Animation charms Japan box office & Oscar-winning director Hayao Miyazaki's latest film has set a new Japanese box office record, with 1.5bn yen (\\$14.3m) in two days, according to reports.Howl's Moving Castle is the follow-up to Miyazaki's Spirited Away, which won best animation at last year's Oscars. It is based on the children's book by English writer Diana Wynne Jones. It has registered the highest opening weekend takings of any Japanese film in the country, according to trade publication Screen Daily.The film is about an 18-year-old girl who is trapped in an old woman's body after being put under a spell by a witch. Its two-day takings represented 1.1 million cinema admissions, Screen Daily said. The film's distributor Toho expects 40 million people to see it in total - almost one third of the country's population - it added. The film won the Golden Osella for outstanding technical contribution at this year's Venice Film Festival. \\\\\n",
       "\t2 & Tech & Satellite mapping aids Darfur relief & Aid workers trying to house, feed and clothe millions of homeless refugees in the Sudanese region of Darfur are getting a helping hand from advanced mapping technology.A European consortium of companies and university groups known as Respond is working to provide accurate and up to date maps. The aim is to overcome some of the huge logistical challenges in getting supplies to where they are needed. Respond is using satellite imagery to produce accurate maps that can be used in the field rapidly. \"Respond has produced very detailed maps for example for the road networks, for the rivers and for the villages, to more large-scale maps useful for very general planning purposes,\" said Einar Bjorgo from Unosat, the UN satellite mapping organisation that is part of the Respond consortium.The group uses satellites from Nasa, the European Space Agency and the Disaster Monitoring Constellation. The satellite data is transmitted to ground stations. From there, the information makes its way to Respond organisations that specialise in interpreting such data. \"You have to convert the data into images, then the interpreter has to convert all this into crisis, damage, or situation maps,\" said Stefan Voigt, who works in the remote sensing department of one of those organisations, the German Aerospace Centre.This kind of detailed analysis usually takes a couple of months but Respond gets it done in about 12 hours. \"Our users are usually not so much familiar with reading satellite imagery, reading satellite maps, so it's our task to transfer the data into information that non-technical people can read and understand easily and very, very efficiently,\" said Mr Voigt. Respond supplies maps to aid groups via the web, and on compact disc. But the best map is one you can hold in your hands, especially in remote areas where internet connections and laptops are scarce. \"A map is a working document,\" explains Herbert Hansen of Respond's Belgian partner Keyobs. \"You need to use it, you need to write on it, correct, give feedback and so on, so you need paper to write on. \"We print maps, we laminate the maps, we encapsulate the maps if needed so you can take a shower with the map, it's completely protected.\"Humanitarian groups in Darfur have been making good use of Respond's maps. They have come in especially handy during Sudan's rainy season, when normally dry riverbeds, or wadis, became flooded. \"These wadis had a very small amount of flooding, generally, in terms of depth, but greatly impeded the transport capabilities and capacities of the humanitarian groups on the ground,\" says Stephen Candillon of Respond imaging partner Sertit. Respond's rapid imaging has allowed aid groups to find ways around the wadis, allowing then to mark on their maps which roads were washed out at which times. Aid groups say that combination of satellite technology and on-the-ground observation helped keep relief flowing to those who needed it.Clark Boyd is technology correspondent for The World, a BBC World Service and WGBH-Boston co-production \\\\\n",
       "\t3 & Tech & 'Evil twin' fear for wireless net & People using wireless high-speed net (wi-fi) are being warned about fake hotspots, or access points.The latest threat, nicknamed evil twins, pose as real hotspots but are actually unauthorised base stations, say Cranfield University experts. Once logged onto an Evil Twin, sensitive data can be intercepted. Wi-fi is becoming popular as more devices come with wireless capability. London leads the global wi-fi hotspots league, with more than 1,000. The number of hotspots is expected to reach 200,000 by 2008, according to analysts. \"Users need to be wary of using their wi-fi enabled laptops or other portable devices in order to conduct financial transactions or anything that is of a sensitive or personal nature,\" said Professor Brian Collins, head of information systems at Cranfield University.\"Users can also protect themselves by ensuring that their wi-fi device has its security measures activated,\" he added. BT Openzone, which operates a vast proportion of public hotspots in the UK, told the BBC News website that it made every effort to make its wi-fi secure. \"Naturally, people may have security concerns,\" said Chris Clark, chief executive for BT's wireless broadband.\"But wi-fi networks are no more or less vulnerable than any other means of accessing the internet, like broadband or dial-up.\" He said BT Openzone, as well as others, have sophisticated encryption from the start of the login process to the service at a hotspot. \"This means that users' personal information and data, logon usernames and passwords are protected and secure,\" said Mr Clark.In the vast majority of cases, base stations straight out of the box from the manufacturers are automatically set up with the least secure mode possible, said Dr Nobles. Cybercriminals who try to glean personal information using the scam, jam connections to a legitimate base station by sending a stronger signal near to the wireless client. Anyone with the right gear can find a real hotspot and substitute it with an evil twin. \"Cybercriminals don't have to be that clever to carry out such an attack,\" said Dr Phil Nobles, a wireless net and cybercrime expert at Cranfield. \"Because wireless networks are based on radio signals they can be easily detected by unauthorised users tuning into the same frequency.\"Although wi-fi is increasing in popularity as more people want to use high-speed net on the move, there have been fears over how secure it is. Some companies have been reluctant to use them in large numbers because of fears about security. A wireless network that is not protected can provide a backdoor into a company's computer system. Public wi-fi hotspots offered by companies like BT Openzone and The Cloud, are accessible after users sign up and pay for use. But many home and company wi-fi networks are left unprotected and can be \"sniffed out\" and hi-jacked by anyone with the correct equipment. \"BT advises that customers should change all default settings, make sure that their security settings on all equipment are configured correctly,\" said Mr Clark. \"We also advocate the use of personal firewalls to ensure that only authorised users can have access and that data cannot be intercepted.\" Dr Nobles is due to speak about wireless cybercrime at the Science Museum's Dana Centre in London on Thursday. \\\\\n",
       "\t4 & Business & US bank in \\$515m SEC settlement & Five Bank of America subsidiaries have agreed to pay a total of \\$515m (Â£277m) to settle an investigation into fraudulent trading share practices.The US Securities and Exchange Commission announced the settlements, the latest in an industry-wide clean-up of US mutual funds. The SEC also said it had brought fraud charges against two ex-senior executives of Columbia Distributor. Columbia Distributor was part of FleetBoston, bought by BOA last year. Three other ex-Columbia executives agreed settlements with the SEC.The SEC has set itself the task of stamping out the mutual funds' use of market-timing, a form of quick-fire, short-term share trading that harms the interests of small investors, with whom mutual funds are particularly popular. In the last two years, it has imposed penalties totalling nearly \\$2bn on 15 funds. The SEC unveiled two separate settlements, one covering BOA's direct subsidiaries, and another for businesses that were part of FleetBoston at the time. In both cases, it said there had been secret deals to engage in market timing in mutual fund shares. The SEC agreed a deal totalling \\$375m with Banc of America Capital Management, BACAP Distributors and Banc of America Securities. It was made up of \\$250m to pay back gains from market timing, and \\$125m in penalties. It is to be paid to the damaged funds and their shareholders. Separately, the SEC said it had reached a \\$140m deal - equally split between penalties and compensation - in its probe into Columbia Management Advisors (CAM) and Columbia Funds Distributor (CFD) and three ex-Columbia executives. These businesses became part of BOA when it snapped up rival bank FleetBoston in a \\$47bn merger last March.The SEC filed civil fraud charges in a Boston Federal court against James Tambone, who it says headed CFD's sales operations, and his alleged second in command Robert Hussey. The SEC is pressing for the highest tier of financial penalties against the pair for \"multiple violations\", repayment of any personal gains, and an injunction to prevent future breaches, a spokeswoman for the SEC's Boston office told the BBC. There was no immediate comment from the men's' lawyers. The SEC's settlement with CAM and CFD included agreements with three other ex-managers, Peter Martin, Erik Gustafson and Joseph Palombo, who paid personal financial penalties of between \\$50-100,000. \\\\\n",
       "\t5 & Sport & Ronaldo considering new contract & Manchester United winger Cristiano Ronaldo said he is close to agreeing to a new contract at Old Trafford.The Portugal star, who joined in August 2003 on a five-year-deal, is a regular in the United first-team. \"The United board have already made an offer to renew the contract but I'm trying not to think about it,\" he told the News of the World. \"My agent has spoken with the club and it will be resolved soon. I think we'll reach a good agreement for both sides.\" Ronaldo refused to commit his long-term future to the club.\"Nobody knows what will come tomorrow. I like being here, but who knows,\" he added. \"There aren't many bigger and better clubs than this one. It's my ambition to be at a big club. I'm happy but nobody knows the future.\" \\\\\n",
       "\t6 & Business & Arsenal 'may seek full share listing' & Arsenal vice-chairman David Dein has said the club may consider seeking a full listing for its shares on the London Stock Exchange.Speaking at the Soccerex football business forum in Dubai, he said a full listing was \"one of the options\" for funding after the club moves to its new stadium. The club - which is currently listed on the smaller Ofex share exchange - is due to move into its new 60,000-seater Emirates Stadium at Ashburton Grove for the start of the 2006/07 season. Mr Dein also warned the current level of TV coverage of the Premiership may be reaching saturation level, with signs that match attendances have been dropping off in the first few months of this season.When Arsenal moves to its new stadium it will see its proportion of turnover from media earnings drop from 52\\% this season to 34\\% in two years' time. The club is hoping to increase matchday earnings from 29\\% to 40\\% of turnover, and has not ruled out other money-earning means, including a full share listing. \"When the new stadium opens we will go through a thorough financial review,\" Mr Dein said.\"Listing would be one option, but we are flexible and no decisions have been made on that issue yet. \"We want to be in the best financial health - maybe clubs can do it (listing), Manchester United have been a success.\"Mr Dein said that, although television money and coverage had driven the English game forward in the past 10 years, he feared there might now be too many games being shown. Since the formation of the Premier League in season 1992/93, Premiership clubs have seen their income from television soar. \"Television has been the driving force over the past 10 years... but we must constantly improve if we want to remain as the world's leading league competition. \"We must monitor the quality of the product and ensure attendances do not decline, and we must balance that with the quantity of exposure on TV too. \"I think we have practically reached saturation point... sometimes I think less is more.\"The club is funding its move to Ashburton Grove through a number of sources, including debt from banks, from money it already has and will receive in coming years from sponsors, and from the sale of surplus property, including its Highbury Stadium. It is also looking to create new revenue streams from overseas markets, including Asia. \"We have two executives travelling round Japan and China at the moment building relationships with organisations and clubs, and we know our supporters clubs are growing there too, as they are around the world. \"We have got a very good product, so it is very important we go and look at these markets, and make sure we are on the case.\" \\\\\n",
       "\t7 & Business & US insurer Marsh cuts 2,500 jobs & Up to 2,500 jobs are to go at US insurance broker Marsh \\& McLennan in a shake up following bigger-than-expected losses.The insurer said the cuts were part of a cost-cutting drive, aimed at saving millions of dollars. Marsh posted a \\$676m (Â£352m) loss for the last three months of 2004, against a \\$375m (Â£195.3m) profit a year before. It blamed an \\$850m payout to settle a price-rigging lawsuit, brought by New York attorney general Elliot Spitzer. Under the settlement announced in January, Marsh took a pre-tax charge of \\$618m in the October-to-December quarter, on top of the \\$232m charge from the previous quarter. \"Clearly 2004 was the most difficult year in MMC's financial history,\" Marsh chief executive Michael Cherkasky said.An ongoing restructuring drive at the group also led to a \\$337m hit in the fourth quarter, the world's biggest insurer said.Analysts expect its latest round of cuts to focus on its brokerage unit, which employs 40,000 staff. The latest layoffs will take the total number of jobs to go at the firm to 5,500 and are expected to lead to annual savings of more than \\$375m. As part of its efforts to cut costs, the company said it was halving its dividend payment to 17 cents a shares from 34 cents, a move which should enable it to save \\$360m. Looking ahead, Mr Cherkasky forecast profitable growth for the year ahead \"with an operating margin in the upper-teens, and with the opportunity for further margin expansion\". Meanwhile, the company also announced it would spin-off its MMC Capital private equity unit, which manages the \\$3bn Trident Funds operation, to a group of employees. Marsh did not say when the move would take place, but said it had signed a letter of intent.The insurer hit the headlines in October last year when it faced accusations of price rigging. New York Attorney General Elliot Spitzer sued the company, accusing it of receiving illegal payments to steer clients to selected firms as well as rigging bids and fixing prices. In January, Marsh agreed to pay \\$850m to settle the suit - a figure in line with the placement fees it collected in 2003 - and agreed to change its business practices. In February, a former senior executive pleaded guilty to criminal charges in a wide-ranging probe of fraud and bid-rigging in the insurance industry. In January, a former senior vice president also pleaded guilty to criminal charges related to the investigation. In an effort to reform its business practises, Marsh said it has already introduced new leadership, new compliance procedures and new ways of dealing with customers. \"As a result, we are ready to put these matters behind us and move ahead in 2005 to restore the trust our clients have placed in us and to rebuild shareholder value,\" Mr Cherkasky said. \\\\\n",
       "\t8 & Sport & Robinson out of Six Nations & England captain Jason Robinson will miss the rest of the Six Nations because of injury.Robinson, stand-in captain in the absence of Jonny Wilkinson, had been due to lead England in their final two games against Italy and Scotland. But the Sale full-back pulled out of the squad on Wednesday because of a torn ligament in his right thumb. The 30-year-old will undergo an operation on Friday but England have yet to name a replacement skipper.Robinson said: \"This is very disappointing for me as this means I miss England's last two games in the Six Nations at Twickenham and two games for my club, Sale Sharks. \"But I'm looking to be back playing very early in April.\"Robinson picked up the injury in the 19-13 defeat to Ireland at Lansdowne Road on Saturday. And coach Andy Robinson said: \"I am hugely disappointed for Jason. \"As England captain he has been an immense figure during the autumn internationals and the Six Nations, leading by example at all times. I look forward to having him back in the England squad.\" The announcement is the latest setback for Robinson's injury-depleted squad.Among the key figures already missing are Jonny Wilkinson, Mike Tindall, Will Greenwood, Julian White and Phil Vickery - a list which leaves Robinson short on candidates for the now vacant captaincy role. Former England skipper Jeremy Guscott told BBC Radio Five Live his choice would be Matt Dawson, even though he is does not hold a regular starting place.\"The obvious choice is Dawson\" said Guscott. \"Especially given that Harry Ellis did not have his best game at scrum-half on Saturday. \"Dawson has the credentials and the experience, even though his winning record at captain is not great. \"The other option in Martin Corry, who is the standout forward at the moment. \"Unfortunately England cannot rely on leaders on the field at the moment.\" England will announce their squad for the 12 March game against Italy on Saturday. \\\\\n",
       "\t9 & Business & S Korean consumers spending again & South Korea looks set to sustain its revival thanks to renewed private consumption, its central bank says.The country's economy has suffered from an overhang of personal debt after its consumers' credit card spending spree. Card use fell sharply last year, but is now picking up again with a rise in spending of 14.8\\% year-on-year. \"The economy is now heading upward rather than downward,\" said central bank governor Park Seung. \"The worst seems to have passed.\" Mr Park's statement came as the bank decided to keep interest rates at an all-time low of 3.25\\%. It had cut rates in November to help revive the economy, but rising inflation - reaching 0.7\\% month-on-month in January - has stopped it from cutting further. Economic growth in 2004 was about 4.7\\%, with the central bank predicting 4\\% growth this year. Other indicators are also suggesting that the country is inching back towards economic health. Exports - traditionally the driver for expansion in Asian economies - grew slower in January than at any time in 17 months. But domestic demand seems to be taking up the slack. Consumer confidence has bounced back from a four-year low in January, and retail sales were up 2.1\\% in December. Credit card debt is falling, with only one in 13 of the 48 million cards now in default - down from one in eight at the end of 2003. One of its biggest card issuers, LG Card, was rescued from collapse in December, having almost imploded under the weight of its customers' bad debts. The government last year tightened the rules for card lending to keep the card glut under control. \\\\\n",
       "\t10 & Business & S Korean lender faces liquidation & Creditors of South Korea's top credit card firm have said they will put the company into liquidation if its ex-parent firm fails to back a bail-out.LG Card's creditors have given LG group until Wednesday to sign up to a \\$1.1bn rescue package. The firm avoided bankruptcy thanks to a \\$4.5bn bail-out in January 2004, which gave control to the creditors. LG Group has said any package should reflect the firm's new ownership, and it will not accept an unfair burden. At least seven million people in South Korea use LG Card's plastic for purchases.LG Card's creditors have threatened parent group LG Group with penalties if it fails to respond to their demands.\"Creditors would seek strong financial sanctions against LG Group if LG Card is liquidated,\" said Yoo Ji-chang, governor of Korean Development Bank (KDB) - one of the card firm's major creditors. LG Group has said providing further help to the credit card issuer could hurt its corporate credibility and could spark shareholder lawsuits. It says it wants \"fair and reasonable guidelines\" on splitting the financial burden with the creditors, who now own 99.3\\% of LG Card. The creditors have asked the government to mediate to avoid any risk to the stability of financial markets, KDB said. Analysts believe a compromise is likely. \"LG Group knows the impact on consumer demand and the national economy from a liquidation of LG Card,\" said Kim Yungmin, an equity strategist at Dongwon Investment Trust Management.LG Card almost collapsed in 2003 due to an increase in overdue credit card bills after the bursting of a credit bubble. The firm returned to profit in September 2004, but now needs a capital injection to avoid being delisted from the Korea Stock Exchange. The exchange can delist a company if its debt exceeds its assets for two years running. LG card's creditors fear that such a move would triggered massive debt redemption requests that could bankrupt the firm, which owes about \\$12.05bn. \"Eventually, LG Group will have to participate, but they have been stalling to try to earn better concessions,\" said Mr Kim. \\\\\n",
       "\t11 & Politics & Candidate resigns over BNP link & A prospective candidate for the UK Independence Party (UKIP) has resigned after admitting a \"brief attachment\" to the British National Party(BNP).Nicholas Betts-Green, who had been selected to fight the Suffolk Coastal seat, quit after reports in a newspaper that he attended a BNP meeting. The former teacher confirmed he had attended the meeting but said that was the only contact he had with the group. Mr Betts-Green resigned after being questioned by the party's leadership. A UKIP spokesman said Mr Betts-Green's resignation followed disclosures in the East Anglian Daily Times last month about his attendance at a BNP meeting. \"He did once attend a BNP meeting. He did not like what he saw and heard and will take no further part of it,\" the spokesman added. A meeting of Suffolk Coastal UKIP members is due to be held next week to discuss a replacement. Mr Betts-Green, of Woodbridge, Suffolk, has also resigned as UKIP's branch chairman. \\\\\n",
       "\t12 & Sport & English clubs make Euro history & All four of England's Champions League representatives have reached the knockout stages for the first time.Arsenal and Chelsea are seeded as group winners, while runners-up Manchester United and Liverpool are not. Rules stipulate that teams from the same country or group will be kept apart in the draw on 17 December. The favourites are Chelsea and Barcelona, and Real Madrid, the two Milan sides, Juventus and Bayern Munich are among the 16 still in the hat.Steven Gerrard's last-gasp wonder-strike secured qualification foragainst Olympiakos on Wednesday evening.AC Milan, Bayer Leverkusen, Internazionale, Juventus, Lyon.who had already qualified, fielded a second-string side and went down 3-0 to Fenerbahce.AC Milan, Bayer Leverkusen, Internazionale, Juventus, Monaco.On Tuesday,finished top of their group with a 5-1 win over the Rosenborg after drawing four of their first five matches.Barcelona, Bayern Munich, Porto, Real Madrid, Werder Bremen, who had already qualified lost 2-1 to Porto as Jose Mourinho made an unhappy return to his former club.Barcelona, Bayern Munich, PSV Eindhoven, Real Madrid, Werder Bremen. \\\\\n",
       "\t13 & Sport & Hearts of Oak 3-2 Cotonsport & Hearts of Oak set up an all Ghanaian Confederation Cup final with a 3-2 win over Cameroon's Cotonsport Garoua in Accra on Sunday.The win for Hearts means they will play Asante Kotoko in the two-leg final, after the Kumasi team qualified from Group A on Saturday. In the other Group B game Cameroon'sbeatof South Africa 3-2 in Douala, neither side could have qualified for the final. Hearts of Oak started the game needing a win to qualify for the final while Cotonsport only needed to avoid defeat to go through. Louis Agyemang scored the first two goals for Hearts either side of half time before Ben Don Bortey scored the third. Hearts looked set for a comfortable win but Cotonsport staged a late fight back scoring twice late on. First of all Boukar Makaji scored in the 89th minute and then 3 minutes into injury time at the end of the game Andre Nzame III was on target. But it was too little too late for the Cameroonians and Hearts held on to win the game and a place in the final. The first leg of the final will be played in Accra on the weekend of 27-28 November and the second leg two weeks later on the 11 December in Kumasi. In the other Group B game Cameroon's Sable Batie took the lead in the 35th minute through Kemadjou before Santos equalised on the hour mark thanks to Thokozani Xaba . Bernard Ngom put Sable ahead just five minutes later and then Ernest Nfor settled the game on 68 minutes. Ruben Cloete scored the South African sides consolation with just three minutes left on the clock. \\\\\n",
       "\t14 & Sport & Funding cut hits Wales Students & The Wales Students rugby side has become a casualty of the Welsh Rugby Union's reorganisation at youth level.An amalgamated Under-18 side formed from separate schools and national youth teams plays its first match on Thursday, against Italy at the Gnoll. But that move has seen the WRU decide to end its funding of representative sides such as Wales Students. As a result, traditional international fixtures against England and France in the New Year have been cancelled. The Welsh Students Rugby Football Union feels that it is unable to properly prepare for or stage the matches. The secretary of the Welsh Students Rugby Football Union, Reverend Eldon Phillips, said: \"It is a shame that fixtures cannot be maintained this year. \"The competition provided by the strong English and French teams has enabled the Welsh Students to test themselves in high quality matches. \"The increasing number of young rugby players entering Higher Education look for the biggest challenge, that is representative rugby, but this year that opportunity will be denied them. Players who have played for Wales Students before going on to win full senior representative honours include Robert Jones, Rob Howley, Jon Humphreys, Darren Morris, Martyn Williams and Ceri Sweeney. \\\\\n",
       "\t15 & Entertainment & Vera Drake leads UK Oscar hopes & Mike Leigh's film Vera Drake will lead British hopes at this year's Academy Awards after getting three nominations.Imelda Staunton was nominated for best actress for her role in the abortion drama, while Leigh received nods for best director and original screenplay. Kate Winslet was also nominated in the best actress category for her role in Eternal Sunshine of the Spotless Mind. And Clive Owen and Sophie Okonedo both got nominated for supporting roles in Closer and Hotel Rwanda respectively. Owen has already been made bookmakers' favourite for best supporting actor for the role in Closer that has already clinched him a Golden Globe award.And it is the first nomination for actress Okonedo, chosen for her performance in Hotel Rwanda, about the 1994 Rwandan genocide. It is also a debut nomination for Staunton, 49, who told BBC News 24 she had not thought the film would appeal to Academy voters. \"It was an extraordinary time making the film and I can't believe what has happened this morning,\" she said. \"I hope it just shows Mike up to be the extraordinary filmmaker he is. \"We are also dealing with a very difficult subject matter and it is amazing to have it accepted in this way.\" Leigh, who had previously received three Oscar nominations for Secrets and Lies and Topsy Turvy, told BBC News 24 the latest success was \"amazing\". He said: \"We hoped that Imelda Staunton would get a nomination but I never expected to get director and screenplay. It's just absolutely wonderful.\"I think people are aware that it's about life - and I hope it is the warmth and compassion that really talks to people.\" Winslet said she was \"ecstatic\" about the fourth nomination of her career. \"Being nominated means so much to me. To be nominated for a film that was released a while ago, I feel so honoured and overwhelmed,\" she said. John Woodward, chief executive of the UK Film Council, said it was \"extremely heartening\" to see British filmmaking talent recognised on the global stage. \"Britain has a hugely talented industry and these nominations show why National Lottery investment in film pays major dividends for our culture and economy.\" Among a total of 24 British nominees, composer Andrew Lloyd Webber and lyricist Charles Hart are up for best original song for Learn To Be Lonely, from The Phantom of the Opera movie.Cinematographer John Mathieson, who was nominated for Gladiator in 2001, is also up for The Phantom of the Opera. And Finding Neverland has garnered two more nominations for Brits. Gemma Jackson, who has also worked on Bridget Jones's Diary and Iris, is up for art direction while costume designer Alexandra Byrne, whose previous films have included Captain Corelli's Mandolin and Elizabeth, is in the running. The UK has two contenders in the best live action short film category. Wasp was made by ex-children's TV presenter Andrea Arnold while Little Terrorist is the work of Ashvin Kumar. This year's awards will be handed out in Hollywood on 27 February. \\\\\n",
       "\t16 & Entertainment & Sundance to honour foreign films & International films will be given the same prominence as US films at next year's Sundance Film Festival, with movies dominated by the theme of war.The independent film festival will feature two new international cinema competitions, during its 20-30 January season in Utah. Forty-two films will debut at Sundance, including The Liberace of Baghdad by British director Sean McAllister. The prestigious festival was founded by actor Robert Redford in 1981.\"We have always had an international component, but from next year they will enter a jury competition,\" festival director Geoffrey Gilmore said. \"We wanted to give world cinema more emphasis and have now put it on par with the American dramatic and documentary competitions.\" Twelve films competing in the new world cinema documentary category focus on countries and people under siege.The Liberace of Baghdad features an Iraqi pianist hiding in a hotel as he waits for a visa, while Finnish film The Three Rooms of Melancholia looks at the war in Chechnya. Shake Hands With The Devil: The Journey of Romeo Dallaire tells of a UN mission to Rwanda during the 1994 genocide, while French-Israeli production Wall looks at Israel's controversial security wall separating it from the Palestinian territories. The 16 films competing in the new world cinema dramatic category include works from Germany, South Korea, Angola, China, Denmark and Australia.Several Hollywood stars feature in the festival's American independent drama category, including Keanu Reeves and Benjamin Bratt. Vince Vaughn stars in quirky movie Thumbsucker while 21 Grams actress Naomi Watts plays a budding Hollywood actress in Ellie Parker. The top Grand Jury prize at this year's festival went to low budget sci-fi thriller Primer, written and directed by Shane Carruth. Morgan Spurlock earned the directing award for Super Size Me, which became an international box office hit. \\\\\n",
       "\t17 & Entertainment & Black Sabbath top rock album poll & Black Sabbath have topped a list of the best British rock albums of all time.The band once fronted by Ozzy Osbourne led a poll of Kerrang! magazine readers with their 1970 self-titled debut. The band have three more efforts on the list, including fifth-placed Paranoid. Osbourne appears more than any other act, with two solo records featured. The top five includes Led Zeppelin, Iron Maiden and Sex Pistols. Queen, Muse, Manic Street Preachers and The Clash complete the top 10. A mix of heavy metal, punk, glam rock and even dance music makes up the list. Motorhead, Judas Priest and Prodigy are included along with newer acts like The Darkness and Lostprophets.Kerrang! editor Ashley Bird said: \"It's amazing to see so many incredible homegrown albums in one list, and without any of the abysmal fashion bands that currently clog up the music scene. \"These are the real opinions of proper rock fans.\"Formed by four teenage friends in the West Midlands in the late 1960s, Black Sabbath are one of Britain's most successful heavy rock bands. Their debut was a UK top 10 hit in 1970 and sold more than a million copies in the US. Osbourne said the band's success in the Kerrang! poll was a triumph for British rock. He said: \"Back then you'd hear: 'If you go to San Francisco, be sure to wear a flower in your hair'. \"We lived in Aston, Birmingham. The only flowers I ever saw were on a gravestone in our local cemetery.\" Despite being disliked by many critics, Black Sabbath's subsequent albums included multi-million sellers but internal rows led to Osbourne leaving in 1979. The band continued without Osbourne, who went on to solo success but also had to battle alcoholism and legal action over his music allegedly inciting teenagers to commit suicide. He was eventually cleared of the charges. Osbourne, who bit off the head of a live bat on stage in 1982, rejoined the band to play the Live Aid charity concert in 1985. After many changes in line-up, the original four members reunited to play live dates in 1997. Black Sabbath have reunited regularly in recent years while Osbourne has gone on to wider fame with his family through MTV documentary series The Osbournes. \\\\\n",
       "\t18 & Sport & Campbell rescues Arsenal & Sol Campbell proved to be an unlikely match-winner to earn Arsenal a hard-fought win at Portsmouth.The England defender lashed home a 25-yard shot for his first goal in 16 months to take Arsenal back into second spot, five points behind Chelsea. But before Campbell scored the best two chances of the game fell to Pompey striker Ricardo Fuller. In the first half he blasted wide when clear, and his control let him down in the second half when well placed. Portsmouth got plenty of bodies behind the ball to deny Arsenal space in the early stages. But their marking was slack at a corner and Patrick Vieira should have done better when the ball fell to him 16 yards out. A mistake by Arjan de Zeeuw let Thierry Henry in behind the Pompey defence on 17 minutes but as he bore down on goal Linvoy Primus got in a saving tackle. With just Fuller as an out-and-out striker, Portsmouth's shape made life difficult for Arsenal. But a delightful touch by Robin van Persie gave Henry a sight of goal, although the angle was too tight for his shot to trouble Jamie Ashdown.Ashdown caused hearts to flutter on 28 minutes when he missed his punch at a corner and Kolo Toure headed just wide and, as Arsenal began to press, Van Persie blasted over a good opportunity after Henry had set him up. Henry took a quick return pass from Vieira but Ashdown was out quickly to block, and there were some anxious seconds for Pompey as the ball ran loose before Matthew Taylor cleared. After playing second fiddle, Portsmouth should have taken the lead on 34 minutes. Referee Howard Webb played a good advantage to allow Steve Stone to send Gary O'Neil away but, having shrugged off Toure, the Pompey midfielder planted his shot wide from 10 yards. As half-time approached, Henry teased a shot through a ruck of players and inches wide. At the other end, Fuller broke clear but failed to hit the target as Toure closed him down.Fuller was given the best chance of the match so far on 48 minutes when Patrik Berger's break and slipped pass played him clear. But a poor first touch lost him the opportunity and even when he checked back and went down under Vieira's challenge, referee Webb was not interested. Fuller paid the price when he gave way on 55 minutes to Aiyegbeni Yakubu, who returned after six weeks out with a knee injury. But it needed alert reflexes and safe handling from Ashdown to cling on to Van Persie's shot as Henry sniffed for scraps.Portsmouth were growing in confidence and keeper Manuel Almunia had to stand his ground to beat away a powerful shot from Berger. Arsenal were struggling to find their rhythm but took the lead through the unlikely source of Campbell. The England defender needed little invitation as Pompey backed off to stride forward and lash a ferocious shot past Ashdown. Arsenal might have stretched their lead two minutes later when Mathieu Flamini escaped his marker to flash a header wide from Henry's free-kick. Almunia went full length to grab Berger's long-range shot, while Ashdown palmed away substitute Dennis Bergkamp's shot.Ashdown, Griffin, De Zeeuw, Primus, Taylor, Stone, O'Neil, Faye (Berkovic 83), Berger, LuaLua, Fuller (Yakubu 55).Subs not used: Hislop, Quashie, Cisse.Almunia, Lauren, Toure, Campbell, Cole, Pires, Flamini, Vieira, Clichy, Van Persie (Bergkamp 68), Henry.Subs not used: Lehmann, Fabregas, Senderos, Hoyte.Cole.Campbell 75.20,170.H Webb (S Yorkshire). \\\\\n",
       "\t19 & Politics & MPs to debate 'euthanasia laws' & MPs are preparing to debate a bill which critics claim would legalise euthanasia \"by the back door\".The bill would give legal force to \"living wills\", where people say they want medical treatment withheld if they become severely incapacitated. The Mental Capacity Bill has broad support from charities who say it would give better safeguards over treatment. But Christian groups say it could mean doctors withholding food and fluids even if they think it inappropriate.Ministers insist the Mental Capacity Bill - for England and Wales - would not change laws on assisted suicide and contains a presumption in favour of preserving life.The bill would establish a legal presumption that everybody can make decisions about their own treatment unless proved otherwise. It would allow people to give somebody the power of attorney to make decisions on their behalf, which could be challenged by doctors. Critics fear it could allow \"killing by omission\" through withdrawing treatment. An amendment to the bill - specifically preventing decisions that would bring about death - has been tabled by former Conservative leader Iain Duncan Smith. Ninety one MPs have signed a petition backing the amendment. MPs could vote on it later on Tuesday, during the bill's report stage debate. The Bill will then go to a third reading and be debated in the Lords, before becoming law.The Christian Medical Fellowship (CMF) and Lawyers' Christian Fellowship (LCF) said the Mental Capacity Bill would allow euthanasia by the \"back door\". Peter Saunders of the CMF said it believed advance refusals should be only advisory, not legally binding. \"CMF is concerned that patients will make unwise and hasty advance decisions to refuse food and fluids without being properly informed about the diagnosis and the expected course their illness will take,\" he said.The LCF's Andrea Williams said there were \"too many loopholes that could be abused by unscrupulous doctors\". Ex-Labour minister Frank Field told BBC Two's Newsnight programme there was a danger people would feel under pressure to \"do away\" with themselves so relatives could inherit their assets.Constitutional Affairs Minister David Lammy said laws affecting 750,000 people with dementia needed updating. Mr Lammy told BBC News Labour MPs would not get a free vote as the law was being strengthened, not changed. \"We are against euthanasia, we are against assisted suicide but we are in a situation now where people can make living wills and that has the force of the common law,\" he said. \"Doctors are saying they want more clarity. Patients are saying they want more clarity.\" The Making Decisions Alliance, which includes the Alzheimer's Society, Age Concern, Mencap and the National Autistic Society, said misunderstandings over the bill had to be cleared up. \"It will not change the current law on euthanasia and will actually provide a series of better safeguards when decisions are made for people who lack capacity,\" the alliance said in a statement. The British Medical Association also backs the bill, saying it just gives incapacitated people the same rights as others. Debate on legalising euthanasia has intensified in the UK because of cases like that of motor neurone patient Diane Pretty. She died two years ago after losing a legal battle to allow her husband to help her commit suicide. \\\\\n",
       "\t20 & Sport & Adriano's Chelsea link rejected & Adriano's agent Gilmar Rinaldi has insisted that he has had no contact with Chelsea over the striker.Chelsea were reported to have made inquiries about Inter Milan's 22-year-old Brazilian star. Rinaldi told BBC Sport from Rio de Janeiro: \"I can assure you that Chelsea have had no dealings whatsoever with either me or Adriano. \"Parma and Real Madrid are interested but there's nothing new there. Their interest has been known for some time.\" Adriano has scored 14 goals in 20 Serie A appearances this season. And Chelsea boss Jose Mourinho had claimed that he was in Milan talking to Adriano on the day he is alleged to have held a clandestine meeting with Arsenal defender Ashley Cole. Mourinho said he was \"just practising my Portuguese with him because I don't need strikers\". Rinaldi told BBC Sport: \"I have to say that nobody from Chelsea or any other London club has contacted me. \"If they want to, that's fine. I can tell them what the situation is. \"If Chelsea are interested then they must make an offer.\" Inter are reported to have slapped a price tag in the region of Â£40m on the head of Adriano, who joined them just over a year ago from Parma. Real Madrid view him as a natural replacement for compatriot Ronaldo. But Rinaldi said: \"I cannot give you a price that Inter would accept for Adriano. That's something that would have to be negotiated between the interested clubs.\" \\\\\n",
       "\t21 & Sport & White prepared for battle & Tough-scrummaging prop Julian White is expecting a resurgent Wales to give him a rough ride in England's Six Nations opener in Cardiff on Saturday.The Leicester tight-head is in the form of his life, making the England number three shirt his own. But he knows Wales will put his technique under immense scrutiny. \"The Welsh scrum is a force to be reckoned with,\" he told BBC Sport. \"They have made a lot of changes for the better over the last few years.\" White is also impressed with the Welsh pack's strength in depth. \"Gethin Jenkins is starting at loose-head for them. He has played a bit at tight-head but I think his favoured position is loose-head and he is very good,\" he added. The 31-year-old has made a massive contribution to the England and Leicester cause of late and is arguably the form tight-head prop in the world.He destroyed South Africa's Os du Randt in the scrum at Twickenham last autumn to give England the platform for an impressive 32-16 victory. Leicester, who signed White from Bristol when the West Country side were relegated from the Zurich Premiership in the summer of 2003, have also been aided by White's presence this season. The Tigers are sitting pretty at the top of the Premiership table and have also booked their place in the last eight of the Heineken Cup. \"I am pleased with my form,\" he said. \"But my form is helped by the people I play with at Leicester - people like Martin Johnson and Graham Rowntree. \"It's been a good season so far and to be in the starting XV for the first game of the Six Nations is what every player wants. \"I am delighted with the way things have gone but we have to get it right this weekend.\" White is now one of the more experienced members of the England squad which takes to the field on Saturday. Injuries have taken their toll and coach Andy Robinson has been deprived of Richard Hill, Jonny Wilkinson, Martin Corry, Mike Tindall, Will Greenwood and Stuart Abbott.And with 27 caps and a World Cup winner's medal to his name, White is now in a position to offer his experience to youngsters such as centres Matthew Tait and Jamie Noon. \"I don't know how much experience a tight-head can give a centre but you are there to give them a pat on the back if things go wrong or to be there if they want to talk in any way,\" he added. \"When I first came into the squad, people like Jason Leonard and Martin Johnson were the first to come over and talk through things and help out.\"It gives you a lot of confidence when people like that speak to you. \"I was in awe of a lot of them so to sit down and speak with them and realise you are on the same wavelength is good.\" White missed the vast majority of last year's Six Nations because of a knee injury and is raring for the 2005 event to get going. And that is despite the opening game taking place amid the red-hot atmosphere in Cardiff. \"I enjoy the atmosphere. The Millennium Stadium is probably one of the best stadiums in the world,\" he said. \"To go down there and hear the shouting and the singing - it's one of my favourite places to play. \"This is probably the most even Six Nations for a long time. England, Ireland, France and Wales are all contenders. \"On form, Ireland should be favourites but you just don't know - that's the great thing about this tournament.\" \\\\\n",
       "\t22 & Entertainment & Campaigners attack MTV 'sleaze' & MTV has been criticised for \"incessant sleaze\" by television indecency campaigners in the US.The Parents Television Council (PTC), which monitors violence and sex on TV, said the cable music channel offered the \"cheapest form\" of programming. The group is at the forefront of a vociferous campaign to clean up American television. But a spokeswoman for MTV said it was \"unfair and inaccurate\" to single out MTV for criticism.The PTC monitored MTV's output for 171 hours from 20 March to 27 March 2004, during the channel's Spring Break coverage. In its report - MTV Smut Peddlers: Targeting Kids with Sex, Drugs and Alcohol - the PTC said it witnessed 3,056 flashes of nudity or sexual situations and 2,881 verbal references to sex. Brent Bozell, PTC president and conservative activist said: \"MTV is blatantly selling raunchy sex to kids. \"Compared to broadcast television programmes aimed at adults, MTV's programming contains substantially more sex, foul language and violence - and MTV's shows are aimed at children as young as 12. \"There's no question that TV influences the attitudes and perceptions of young viewers, and MTV is deliberately marketing its raunch to millions of innocent children.\"The watchdog decided to look at MTV's programmes after Janet Jackson's infamous \"wardrobe malfunction\" at last year's Super Bowl. The breast-baring incident generated 500,000 complaints and CBS - which is owned by the same parent company as MTV - was quick to apologise. MTV spokeswoman Jeannie Kedas said the network follows the same standards as broadcasters and reflects the culture and what its viewers are interested in. \"It's unfair and inaccurate to paint MTV with that brush of irresponsibility,\" she said. \"We think it's underestimating young people's intellect and level of sophistication.\" Ms Kedas also highlighted the fact MTV won an award in 2004 for the Fight for Your Rights series that focused on issues such as sexual health and tolerance. \\\\\n",
       "\t23 & Entertainment & Douglas set for Indian adventure & Actor Michael Douglas is to co-produce and star in an adventure film about a diamond robbery set in India.The new picture is expected to be similar to Douglas's action films of the 1980s, Romancing The Stone and The Jewel Of The Nile. Another Hollywood star is being lined up to co-star, while the rest of the cast will be Indian. Aishwarya Rai, star of Bride and Prejudice, is the \"preferred choice\" of the Indian studio involved in the film.On a visit to India, the 60-year-old actor said he hoped to start shooting Racing The Monsoon next year. Douglas added that it had been inspired by a Wall Street Journal article about India's 'angadias', who courier money and diamonds around India.The actor's own production company, Further Films, is working in partnership with two Indian film-making concerns to bring the picture to the screen. Shailendra Singh, the founder of India's Percept Films, said there would be \"a lot of India\" in the movie - and that an Indian train would play a big role. \"The train will be a crucial part of the film. The chase and most of the stunts will be on the train,\" said Mr Singh. Swashbuckling adventure film Romancing The Stone saw Douglas's female co-star Kathleen Turner win a Golden Globe award for her performance in 1985. \\\\\n",
       "\t24 & Sport & Moya emotional after Davis Cup win & Carlos Moya described Spain's Davis Cup victory as the highlight of his career after he beat Andy Roddick to end the USA's challenge in Seville.Moya made up for missing Spain's 2000 victory through injury by beating Roddick 6-2 7-6 (7-1) 7-6 (7-5) to give the hosts an unassailable 3-1 lead. \"I have woken up so many nights dreaming of this day,\" said Moya. \"All my energy has been focused on today. \"What I have lived today I do not think I will live again.\" Spain's only other Davis Cup title came two years ago in Valencia, when they beat Australia. And Moya, nicknamed Charly, admitted: \"The Davis Cup is my dream and I was a bit nervous at the outset. \"Some people have said that I am obsessed but I think that it is better this way. It helps me reach my goals if I am obsessed. \"It's really incredible - to get the winning point is really something.\" Spanish captain Jordi Arrese said: \"Charly played a great game. It was his opportunity and he hasn't let us down. \"He had lost three times to Roddick, and this was his day to beat him. \"He had been waiting years to be in this position.\" Spain's victory was also remarkable for the performance of Rafael Nadal, who beat Roddick in the opening singles.Aged 18 years and 185 days, the Mallorcan became the youngest player to win the Davis Cup. \"What a great way to finish the year,\" said Nadal afterwards. US coach Patrick McEnroe wants Roddick and the rest of his team to play more tennis on clay and hone their skills on the surface. \"I think it will help these guys even on slow hard courts to learn how to mix things up a little bit and to play a little bit smarter and tactically better.\" \"Obviously it's unrealistic to say that we're going to just start playing constantly on clay, with the schedule. \"But certainly I think we can put the work in at the appropriate time and play a couple more events and play against these guys who are the best on this stuff,\" said McEnroe. Roddick was left frustrated after losing both his singles on the slow clay of Seville's Olympic Stadium. \"It's just tough because I felt like I was in it the whole time against one of the top three clay-courters in the world,\" said the American. \"I had my chances and just didn't convert them. The bottom line is they were just better than us this weekend. \"They came out, took care of business and they beat us. It's as simple as that.\" \\\\\n",
       "\t25 & Tech & Broadband soars in 2004 & If broadband were a jumbo jet, then 2003 would have seen it taxiing down the runway, firing up its engines and preparing for take-off. But this year has seen it soar.In the spring it literally took to the skies as Lufthansa and British Airways trialled it on flights. This perhaps said more about how indispensable people were beginning to perceive the technology, rather than how useful sky-high broadband would actually be. It was flying high and by the autumn, five million Britons had signed up for high-speed net access at home.Such enthusiasm is unlikely to dampen any time soon and experts predict that by the end of next year the numbers will have risen to more than eight million, or more than 30\\% of homes. The two key factors in whetting people's appetite were falling prices and a huge marketing push. When operators such as BT and Telewest offered standard 512K broadband for less than Â£20 at the beginning of the year, it was as if an invisible barrier had been breached - broadband had truly gone mass market. A feeding frenzy followed as firms vied for eyeballs in a price war reminiscent of that following the mass market take-up of dial-up. Broadband for less than Â£10 was even touted by some firms, although such a low price raised eyebrows among more established companies questioning how they are able to sustain such business models.For those who became broadbanders in 2004 there was no turning back and the days of waiting for the modem to kick in began to seem as outdated an idea as a jungle without celebrities. The rest of the world was also falling in love with the benefits of fast internet access, to the tune of 100 million connections worldwide by April, prompting research firm Point Topic to declare it one of the fastest growing technologies ever. By September, the number of broadband connections in the UK finally overtook dial-up and in December BT announced that it was making a new broadband connection every 10 seconds.Broadband was being mentioned on the 10 O'clock News and in the tabloids; the Sun even carried a cartoon joke about it. But two of the most significant pieces of news for broadband were items that did not make the headlines. In May, BT quietly announced that it was shaving 70\\% off the cost of allowing other operators access to its telephone exchanges, so-called local loop unbundling. The vital local loop is the crucial link between telephone exchanges and homes. At the moment BT has a stranglehold on more than 80\\% of these lines making it the key voice in deciding what ADSL products get into homes. With cheaper local loop unbundling, rivals to BT can offer faster services that will leave the broadband of today looking positively tortoise-like. It will mean the UK will finally catch up with countries such as France and the Netherlands, where homes are routinely enjoying speeds of up to 15Mb (megabits per second). And the major price fall means that, rather than just talk about it, companies are actually starting to get their own equipment into BT's exchanges. It may not seem that exciting but it is a remarkable transition given that just a few years ago the arguments over local loop unbundling bore more than a passing resemblance to the Northern Ireland peace talks - fraught, bitter and with no end in sight.Another big piece of news for broadband users in 2004 was the extension of BT's reach, meaning more than 95\\% of the population could get broadband, regardless of how far away from the exchange they lived.There was a slight caveat for those wanting to upgrade to 1Mbps broadband, they still have to live within six kilometres of a broadband-enabled exchange. For thousands frustrated by their inability to get the technology, the news meant they could finally join in. Broadband is not just about fast access over the telephone and cable operators NTL and Telewest also had a bumper year. The biggest news for them was increased speeds, introducing 2Mb and 3Mb services for users and offering a free upgrade to those on 512K. The cable operators are limited in their reach and it is perhaps testament to how big a deal local loop unbundling could become that even they are considering extending their range via this route. Broadband can seem confusing for consumers, with the huge amount of operators offering so many different products, some with capped bandwidth and different length contracts and set-up fees. It is unlikely to get any less easy to understand in 2005 but remains a plane worth catching. As it gets faster and offers extras such as cheap telephone calls online, the only real thing to remember for the coming year is to enjoy the ride. \\\\\n",
       "\t26 & Politics & Howard rebuts asylum criticisms & Tory leader Michael Howard has gone on the offensive in response to people questioning how a son of immigrants can propose asylum quotas.Mr Howard, whose parents fled the Nazi threat to come to the UK, says the claim would mean no-one from an immigrant family could become premier. His comments come in a BBC documentary called 'No More Mr Nasty'. TV presenter Anne Robinson said as home secretary he gave the impression he would \"like to kick your cat\". Ms Robinson, a friend of the Tory leader, also revealed that as a Cambridge student Mr Howard was \"much loved by women and he was a courteous and kind and rather dashing lover\" - although she denied having personal experience. \"I wasn't at Cambridge - and it's not personal experience - but I know people who were.\"Documentary maker Michael Cockerell was given behind-the-scenes access to Mr Howard for his film portrait. The Tory leader was asked about to respond to people who said that if there had there been a quota on immigration and asylum in the 1930s, his parents might not have been allowed into the country.He replies: \"What is the inference of that? \"That if you reach the view that you need to control immigration in the interests of the country you're not allowed to put a view forward if you happen to be descended from immigrants? \"That seems to me an absolutely extraordinary proposition? It would certainly mean no one from immigrant parents could be prime minister.\"Ms Robinson, who presents The Weakest Link tells Cockerell that she despaired at his hardline image when he was home secretary in John Major's government. \"I used to have to sit on my hands because he'd get on television and give a passable impression of someone who'd like to kick your cat or would put your baby in prison if he cried. I mean it was very, very Draconian.\" The film shows Mr Howard laughing at Rory Bremner's impression of him as Dracula, which he calls \"good fun\", apart from the serious falsehood of a comment suggesting he wants fewer black people in the UK. The film shows the private side of the Tory leader watching television at home or playing table tennis with his wife, ex-model Sandra. Asked if she enjoys a game of ping pong she confesses: \"Yeah, it would be more enjoyable if I could win occasionally too, but otherwise it's quite fun.\"Former Downing Street communications chief Alastair Campbell, now working on Labour's election campaign, says a \"touchy-feely\" image does not fit Mr Howard. He says Tony Blair was not worried by his opponents' early performance in their Commons clashes because Mr Howard lacked a \"big strategy\", including on issues like Iraq. The Tory leader brands such criticisms as \"absolutely rubbish\", arguing that he has been consistent on his support for the war but critical of Mr Blair's failure to tell the truth on intelligence. Former Tory chancellor Ken Clarke says Mr Howard has a bigger problem changing perceptions of the Tory party than his personal image. Mr Clarke says the party is improving and it is \"conceivable\" it could win the next election. But he adds: \"It has got to change itself a bit and broaden its appeal.\"- Michael Howard: No More Mr Nasty is being shown on BBC2 on Saturday 12 February at 2005 GMT. \\\\\n",
       "\t27 & Politics & Labour MP praises Tory campaign & The Conservatives have been \"a lot smarter\" in the way they have conducted the general election campaign, a Labour backbencher has said.Derek Wyatt said having a five month campaign \"turned off voters\" and suggested people were already \"rather bored of the thing\". He wants a greater campaigning role for Chancellor Gordon Brown. Labour said the economy was at the heart of the campaign and Mr Brown therefore had a prominent role. But Mr Wyatt argued: \"By some way, he is currently the figure in all of the polls that people trust and see that has delivered over eight years an economy unmatched anywhere in the world. \"So, it would be a tad foolish of the Labour Party if we did not use him as we have done over the past three elections.\"Labour's election chief Alan Milburn denied there was an attempt to sideline Mr Brown after facing criticism for letting the Tories set the agenda. However, Mr Wyatt predicted the campaign would get under way properly once the chancellor delivered his budget. The MP for Sittingbourne and Sheppey said Prime Minister Tony Blair had been \"trying very hard\" to improve his own standing with the electorate through a \"sort of campaign of trust\". But Mr Blair had been \"hurt\" by the Iraq controversy, he added. A Labour party spokesman played down differences with Mr Wyatt and said Mr Brown already had a prominent campaign role. \"This election is a choice between Labour taking Britain forward and the Conservatives taking us back.\" \\\\\n",
       "\t28 & Tech & Court mulls file-sharing future & Judges at the US Supreme Court have been hearing evidence for and against file-sharing networks.The court will decide whether producers of file-sharing software can ultimately be held responsible for copyright infringement. They questioned if opening the way for the entertainment industry to sue file-sharers could deter innovation. They also said that file-trading firms had some responsibility for inducing people to piracy.The lawsuit, brought by 28 of the world's largest entertainment firms, has raged for several years. Legal experts agree that if the Supreme Court finds in favour of the music and movie industry they would be able to sue file-trading firms into bankruptcy. But if the judge rules that Grokster and Morpheus - the file-sharers at the centre of the case - are merely providers of technology that can have legitimate as well as illegitimate uses, then the music and movie industry would be forced to abandon its pursuit of file-sharing providers. Instead, they would have to pursue individuals who use peer-to-peer networks to get their hands on free music and movies. The hi-tech and entertainment industries have been divided on the issue. Intel filed a document with the Supreme Court earlier this month in defence of Grokster and others, despite misgivings about some aspects of the file-sharing community. It summed up the attitude of many tech firms in its submission which states that its products \"are essentially tools, that like any other tools, capable of being used by consumers and businesses for unlawful purposes\".Asking firms to second-guess the uses that its technologies would be put to, and to build in ways of preventing illegitimate use, would stifle innovation, it said. The Electronic Frontier Foundation, a civil rights watchdog, is also defending StreamCast Networks, the company behind the Morpheus file-sharing software. The case raises a question of critical importance at the border between copyright and innovation, it said. It cites, as do many, the landmark ruling in 1984 which found that Sony should not be held responsible for the fact that its Betamax video recorder could be used for piracy. Defenders remain optimistic that the judges will rule in favour of the peer-to-peer networks, upholding the precedent set by the Sony Betamax case. A small band of supporters were outside the court as the lawyers entered, wearing \"Save Betamax\" t-shirts. \"The Betamax principles stand as the Magna Carta for the technology industry and are responsible for the explosion in innovation that has occurred in the US over the past 20 years,\" said Gary Shapiro, chief executive of the Consumer Electronics Association. Supreme Court Justice Stephen Breyer said that inventions from printing to Apple's iPod could be used to illegally duplicate copyrighted materials but had, on balance, been beneficial to society. He said that while file-trading software can be used to illegally trade movies and music, conceptually the technology had \"some really excellent uses\".Based on Tuesday's hearing it seems unlikely that the Betamax ruling will be overturned but file-sharing firms might still be held responsible for encouraging or inducing piracy. Grokster's lawyer argued that the company should be judged by its current behaviour rather than what it did when it first set up. But this argument was dismissed as \"ridiculous\" by Justice David Souter. CEA boss Mr Shapiro thinks the case is the most important that the Supreme Court will hear this year. \"It's about preserving America's proud history of technological innovation and protecting the ability of consumers to access and utilise technology,\" he said. The case has already been heard by two lower courts and both found in favour of the peer-to-peer networks. They ruled that despite being used to distribute millions of illegal songs, file-sharing could also be used to cheaply distribute software, government documents and promotional copies of music. \\\\\n",
       "\t29 & Politics & Tory expert denies defeatism & The Conservatives' campaign director has denied a report claiming he warned Michael Howard the party could not win the next general election.The Times on Monday said Australian Lynton Crosby told the party leader to focus on trying to increase the Tories' Commons presence by 25 to 30 seats. But Mr Crosby said in a statement: \"I have never had any such conversation... and I do not hold that view.\" Mr Howard later added there was not \"one iota\" of truth in the report. The strategist helped Australia's PM, John Howard, win four elections. Mr Howard appointed Mr Crosby as his elections chief last October. Mr Crosby's statement said: \"The Conservative Party has been making an impact on the issues of lower tax and controlled immigration over the past week.\" It added: \"The Labour Party will be wanting to do all they can to distract attention away from the issues that really matter to people.\" \\\\\n",
       "\t30 & Politics & UK 'needs true immigration data' & A former Home Office minister has called for an independent body to be set up to monitor UK immigration.Barbara Roche said an organisation should monitor and publish figures and be independent of government. She said this would counter \"so-called independent\" groups like Migration Watch, which she described as an anti-immigration body posing as independent. Migration Watch says it is not against all immigration and the government already publishes accurate figures. Sir Andrew Green, chairman of the organisation, says there is no need for an independent body because Office of National Statistics data are accurate. He says he opposes large-scale immigration \"both on the grounds of overcrowding and culture\".He said: \"For example, over the next 20 years one household in three will be due to immigration. \"We are already more overcrowded than India and we are four times more overcrowded than France.\" Ms Roche, Labour MP for Hornsey and Wood Green, believes legal migration is something we should welcome. She said her proposals mean \"we wouldn't have so-called independent experts, like Migration Watch, who come into this debate from an anti-immigration point of view.\" She went on: \"What I would like to see is there being a body which actually looked at the figures, published them, and was independent of government. \"I think that would go a long way to allaying some of the fears that are sometimes whipped up during this debate.\" \\\\\n",
       "\t$\\dots$ & $\\dots$ & $\\dots$ & $\\dots$ \\\\\n",
       "\\end{tabular}\n"
      ],
      "text/plain": [
       "50×3 DataFrame. Omitted printing of 1 columns\n",
       "│ Row │ Category      │ Heading                               │\n",
       "│     │ \u001b[90mString\u001b[39m        │ \u001b[90mString\u001b[39m                                │\n",
       "├─────┼───────────────┼───────────────────────────────────────┤\n",
       "│ 1   │ Entertainment │ Animation charms Japan box office     │\n",
       "│ 2   │ Tech          │ Satellite mapping aids Darfur relief  │\n",
       "│ 3   │ Tech          │ 'Evil twin' fear for wireless net     │\n",
       "│ 4   │ Business      │ US bank in $515m SEC settlement       │\n",
       "│ 5   │ Sport         │ Ronaldo considering new contract      │\n",
       "│ 6   │ Business      │ Arsenal 'may seek full share listing' │\n",
       "│ 7   │ Business      │ US insurer Marsh cuts 2,500 jobs      │\n",
       "│ 8   │ Sport         │ Robinson out of Six Nations           │\n",
       "│ 9   │ Business      │ S Korean consumers spending again     │\n",
       "│ 10  │ Business      │ S Korean lender faces liquidation     │\n",
       "⋮\n",
       "│ 40  │ Business      │ Lacroix label bought by US firm       │\n",
       "│ 41  │ Business      │ Liberian economy starts to grow       │\n",
       "│ 42  │ Tech          │ Gizmondo gadget hits the shelves      │\n",
       "│ 43  │ Politics      │ Howard denies split over ID cards     │\n",
       "│ 44  │ Business      │ ECB holds rates amid growth fears     │\n",
       "│ 45  │ Business      │ Fiat chief takes steering wheel       │\n",
       "│ 46  │ Politics      │ End Bush 'denial' Blair tells EU      │\n",
       "│ 47  │ Politics      │ Economy focus for election battle     │\n",
       "│ 48  │ Tech          │ Broadband steams ahead in the US      │\n",
       "│ 49  │ Sport         │ Holmes feted with further honour      │\n",
       "│ 50  │ Business      │ European losses hit GM's profits      │"
      ]
     },
     "execution_count": 14,
     "metadata": {},
     "output_type": "execute_result"
    }
   ],
   "source": [
    "test_docs = DataFrames.DataFrame(Category = [category for category ∈ pd_test_docs.Category], \n",
    "    Heading = [heading for heading ∈ pd_test_docs.Heading], \n",
    "    Article = [article for article ∈ pd_test_docs.Article])"
   ]
  },
  {
   "cell_type": "code",
   "execution_count": 15,
   "metadata": {
    "ExecuteTime": {
     "end_time": "2020-06-20T19:15:29.113377Z",
     "start_time": "2020-06-20T19:15:29.094990Z"
    },
    "slideshow": {
     "slide_type": "fragment"
    }
   },
   "outputs": [
    {
     "data": {
      "text/plain": [
       "((2175, 3), (50, 3))"
      ]
     },
     "execution_count": 15,
     "metadata": {},
     "output_type": "execute_result"
    }
   ],
   "source": [
    "size(train_docs), size(test_docs)"
   ]
  },
  {
   "cell_type": "code",
   "execution_count": 16,
   "metadata": {
    "ExecuteTime": {
     "end_time": "2020-06-20T19:15:29.118968Z",
     "start_time": "2020-06-20T19:15:29.114694Z"
    },
    "slideshow": {
     "slide_type": "fragment"
    }
   },
   "outputs": [
    {
     "data": {
      "text/html": [
       "<table class=\"data-frame\"><thead><tr><th></th><th>Category</th><th>nrow</th></tr><tr><th></th><th>String</th><th>Int64</th></tr></thead><tbody><p>5 rows × 2 columns</p><tr><th>1</th><td>Sport</td><td>12</td></tr><tr><th>2</th><td>Business</td><td>11</td></tr><tr><th>3</th><td>Entertainment</td><td>9</td></tr><tr><th>4</th><td>Tech</td><td>9</td></tr><tr><th>5</th><td>Politics</td><td>9</td></tr></tbody></table>"
      ],
      "text/latex": [
       "\\begin{tabular}{r|cc}\n",
       "\t& Category & nrow\\\\\n",
       "\t\\hline\n",
       "\t& String & Int64\\\\\n",
       "\t\\hline\n",
       "\t1 & Sport & 12 \\\\\n",
       "\t2 & Business & 11 \\\\\n",
       "\t3 & Entertainment & 9 \\\\\n",
       "\t4 & Tech & 9 \\\\\n",
       "\t5 & Politics & 9 \\\\\n",
       "\\end{tabular}\n"
      ],
      "text/plain": [
       "5×2 DataFrame\n",
       "│ Row │ Category      │ nrow  │\n",
       "│     │ \u001b[90mString\u001b[39m        │ \u001b[90mInt64\u001b[39m │\n",
       "├─────┼───────────────┼───────┤\n",
       "│ 1   │ Sport         │ 12    │\n",
       "│ 2   │ Business      │ 11    │\n",
       "│ 3   │ Entertainment │ 9     │\n",
       "│ 4   │ Tech          │ 9     │\n",
       "│ 5   │ Politics      │ 9     │"
      ]
     },
     "execution_count": 16,
     "metadata": {},
     "output_type": "execute_result"
    }
   ],
   "source": [
    "value_counts(df, col) = combine(DataFrames.groupby(df, col), nrow)\n",
    "\n",
    "sort!(value_counts(test_docs, :Category), :nrow, rev=true)"
   ]
  },
  {
   "cell_type": "markdown",
   "metadata": {
    "slideshow": {
     "slide_type": "slide"
    }
   },
   "source": [
    "### Vectorize train & test sets"
   ]
  },
  {
   "cell_type": "code",
   "execution_count": 17,
   "metadata": {
    "ExecuteTime": {
     "end_time": "2020-06-20T19:15:29.641705Z",
     "start_time": "2020-06-20T19:15:29.119815Z"
    },
    "slideshow": {
     "slide_type": "fragment"
    }
   },
   "outputs": [
    {
     "data": {
      "text/plain": [
       "PyObject <2175x2916 sparse matrix of type '<class 'numpy.float64'>'\n",
       "\twith 209943 stored elements in Compressed Sparse Row format>"
      ]
     },
     "execution_count": 17,
     "metadata": {},
     "output_type": "execute_result"
    }
   ],
   "source": [
    "vectorizer = TfidfVectorizer(max_df=0.25, min_df=0.01, stop_words=\"english\", binary=false)\n",
    "\n",
    "train_dtm = vectorizer.fit_transform(train_docs.Article)\n",
    "train_dtm"
   ]
  },
  {
   "cell_type": "code",
   "execution_count": 18,
   "metadata": {
    "ExecuteTime": {
     "end_time": "2020-06-20T19:15:29.656710Z",
     "start_time": "2020-06-20T19:15:29.642673Z"
    },
    "scrolled": true,
    "slideshow": {
     "slide_type": "fragment"
    }
   },
   "outputs": [
    {
     "data": {
      "text/plain": [
       "PyObject <50x2916 sparse matrix of type '<class 'numpy.float64'>'\n",
       "\twith 4757 stored elements in Compressed Sparse Row format>"
      ]
     },
     "execution_count": 18,
     "metadata": {},
     "output_type": "execute_result"
    }
   ],
   "source": [
    "test_dtm = vectorizer.transform(test_docs.Article)\n",
    "test_dtm"
   ]
  },
  {
   "cell_type": "markdown",
   "metadata": {},
   "source": [
    "### Get token count"
   ]
  },
  {
   "cell_type": "code",
   "execution_count": 19,
   "metadata": {
    "ExecuteTime": {
     "end_time": "2020-06-20T19:15:29.673803Z",
     "start_time": "2020-06-20T19:15:29.657874Z"
    }
   },
   "outputs": [
    {
     "name": "stderr",
     "output_type": "stream",
     "text": [
      "C:\\Users\\Amirreza\\.julia\\conda\\3\\lib\\site-packages\\sklearn\\utils\\deprecation.py:87: FutureWarning: Function get_feature_names is deprecated; get_feature_names is deprecated in 1.0 and will be removed in 1.2. Please use get_feature_names_out instead.\r\n",
      "  warnings.warn(msg, category=FutureWarning)\r\n"
     ]
    },
    {
     "data": {
      "text/html": [
       "<table class=\"data-frame\"><thead><tr><th></th><th>tokens</th><th>count</th></tr><tr><th></th><th>String</th><th>Float64</th></tr></thead><tbody><p>10 rows × 2 columns</p><tr><th>1</th><td>film</td><td>41.2658</td></tr><tr><th>2</th><td>government</td><td>38.8086</td></tr><tr><th>3</th><td>game</td><td>36.3832</td></tr><tr><th>4</th><td>best</td><td>36.1329</td></tr><tr><th>5</th><td>uk</td><td>36.0871</td></tr><tr><th>6</th><td>labour</td><td>32.5012</td></tr><tr><th>7</th><td>music</td><td>30.6996</td></tr><tr><th>8</th><td>000</td><td>30.2782</td></tr><tr><th>9</th><td>company</td><td>29.5626</td></tr><tr><th>10</th><td>number</td><td>29.1746</td></tr></tbody></table>"
      ],
      "text/latex": [
       "\\begin{tabular}{r|cc}\n",
       "\t& tokens & count\\\\\n",
       "\t\\hline\n",
       "\t& String & Float64\\\\\n",
       "\t\\hline\n",
       "\t1 & film & 41.2658 \\\\\n",
       "\t2 & government & 38.8086 \\\\\n",
       "\t3 & game & 36.3832 \\\\\n",
       "\t4 & best & 36.1329 \\\\\n",
       "\t5 & uk & 36.0871 \\\\\n",
       "\t6 & labour & 32.5012 \\\\\n",
       "\t7 & music & 30.6996 \\\\\n",
       "\t8 & 000 & 30.2782 \\\\\n",
       "\t9 & company & 29.5626 \\\\\n",
       "\t10 & number & 29.1746 \\\\\n",
       "\\end{tabular}\n"
      ],
      "text/plain": [
       "10×2 DataFrame\n",
       "│ Row │ tokens     │ count   │\n",
       "│     │ \u001b[90mString\u001b[39m     │ \u001b[90mFloat64\u001b[39m │\n",
       "├─────┼────────────┼─────────┤\n",
       "│ 1   │ film       │ 41.2658 │\n",
       "│ 2   │ government │ 38.8086 │\n",
       "│ 3   │ game       │ 36.3832 │\n",
       "│ 4   │ best       │ 36.1329 │\n",
       "│ 5   │ uk         │ 36.0871 │\n",
       "│ 6   │ labour     │ 32.5012 │\n",
       "│ 7   │ music      │ 30.6996 │\n",
       "│ 8   │ 000        │ 30.2782 │\n",
       "│ 9   │ company    │ 29.5626 │\n",
       "│ 10  │ number     │ 29.1746 │"
      ]
     },
     "execution_count": 19,
     "metadata": {},
     "output_type": "execute_result"
    }
   ],
   "source": [
    "train_token_count = sum.(eachcol(train_dtm.todense()))\n",
    "tokens = vectorizer.get_feature_names()\n",
    "word_count = DataFrame(tokens = tokens, count = train_token_count)\n",
    "sort!(word_count, :count, rev = true)\n",
    "first(word_count, 10)"
   ]
  },
  {
   "cell_type": "markdown",
   "metadata": {
    "slideshow": {
     "slide_type": "slide"
    }
   },
   "source": [
    "## Latent Semantic Analysis"
   ]
  },
  {
   "cell_type": "markdown",
   "metadata": {},
   "source": [
    "We use sklearn’s TruncatedSVD class that only computes the k largest singular values to reduce the dimensionality of the document-term matrix. The deterministic arpack algorithm delivers an exact solution but the default ‘randomized’ implementation is more efficient for large matrices. \n",
    "\n",
    "We compute five topics to match the five categories, which explain only 5.4% of the total DTM variance so higher values would be reasonable."
   ]
  },
  {
   "cell_type": "code",
   "execution_count": 20,
   "metadata": {
    "ExecuteTime": {
     "end_time": "2020-06-20T19:15:29.678140Z",
     "start_time": "2020-06-20T19:15:29.674969Z"
    }
   },
   "outputs": [
    {
     "data": {
      "text/plain": [
       "5-element Vector{String}:\n",
       " \"Topic 1\"\n",
       " \"Topic 2\"\n",
       " \"Topic 3\"\n",
       " \"Topic 4\"\n",
       " \"Topic 5\""
      ]
     },
     "execution_count": 20,
     "metadata": {},
     "output_type": "execute_result"
    }
   ],
   "source": [
    "n_components = 5\n",
    "topic_labels = [\"Topic \" * string(i) for i ∈ 1:n_components]"
   ]
  },
  {
   "cell_type": "code",
   "execution_count": 21,
   "metadata": {
    "ExecuteTime": {
     "end_time": "2020-06-20T19:15:29.810584Z",
     "start_time": "2020-06-20T19:15:29.679592Z"
    },
    "slideshow": {
     "slide_type": "fragment"
    }
   },
   "outputs": [
    {
     "data": {
      "text/html": [
       "<style>#sk-container-id-3 {color: black;background-color: white;}#sk-container-id-3 pre{padding: 0;}#sk-container-id-3 div.sk-toggleable {background-color: white;}#sk-container-id-3 label.sk-toggleable__label {cursor: pointer;display: block;width: 100%;margin-bottom: 0;padding: 0.3em;box-sizing: border-box;text-align: center;}#sk-container-id-3 label.sk-toggleable__label-arrow:before {content: \"▸\";float: left;margin-right: 0.25em;color: #696969;}#sk-container-id-3 label.sk-toggleable__label-arrow:hover:before {color: black;}#sk-container-id-3 div.sk-estimator:hover label.sk-toggleable__label-arrow:before {color: black;}#sk-container-id-3 div.sk-toggleable__content {max-height: 0;max-width: 0;overflow: hidden;text-align: left;background-color: #f0f8ff;}#sk-container-id-3 div.sk-toggleable__content pre {margin: 0.2em;color: black;border-radius: 0.25em;background-color: #f0f8ff;}#sk-container-id-3 input.sk-toggleable__control:checked~div.sk-toggleable__content {max-height: 200px;max-width: 100%;overflow: auto;}#sk-container-id-3 input.sk-toggleable__control:checked~label.sk-toggleable__label-arrow:before {content: \"▾\";}#sk-container-id-3 div.sk-estimator input.sk-toggleable__control:checked~label.sk-toggleable__label {background-color: #d4ebff;}#sk-container-id-3 div.sk-label input.sk-toggleable__control:checked~label.sk-toggleable__label {background-color: #d4ebff;}#sk-container-id-3 input.sk-hidden--visually {border: 0;clip: rect(1px 1px 1px 1px);clip: rect(1px, 1px, 1px, 1px);height: 1px;margin: -1px;overflow: hidden;padding: 0;position: absolute;width: 1px;}#sk-container-id-3 div.sk-estimator {font-family: monospace;background-color: #f0f8ff;border: 1px dotted black;border-radius: 0.25em;box-sizing: border-box;margin-bottom: 0.5em;}#sk-container-id-3 div.sk-estimator:hover {background-color: #d4ebff;}#sk-container-id-3 div.sk-parallel-item::after {content: \"\";width: 100%;border-bottom: 1px solid gray;flex-grow: 1;}#sk-container-id-3 div.sk-label:hover label.sk-toggleable__label {background-color: #d4ebff;}#sk-container-id-3 div.sk-serial::before {content: \"\";position: absolute;border-left: 1px solid gray;box-sizing: border-box;top: 0;bottom: 0;left: 50%;z-index: 0;}#sk-container-id-3 div.sk-serial {display: flex;flex-direction: column;align-items: center;background-color: white;padding-right: 0.2em;padding-left: 0.2em;position: relative;}#sk-container-id-3 div.sk-item {position: relative;z-index: 1;}#sk-container-id-3 div.sk-parallel {display: flex;align-items: stretch;justify-content: center;background-color: white;position: relative;}#sk-container-id-3 div.sk-item::before, #sk-container-id-3 div.sk-parallel-item::before {content: \"\";position: absolute;border-left: 1px solid gray;box-sizing: border-box;top: 0;bottom: 0;left: 50%;z-index: -1;}#sk-container-id-3 div.sk-parallel-item {display: flex;flex-direction: column;z-index: 1;position: relative;background-color: white;}#sk-container-id-3 div.sk-parallel-item:first-child::after {align-self: flex-end;width: 50%;}#sk-container-id-3 div.sk-parallel-item:last-child::after {align-self: flex-start;width: 50%;}#sk-container-id-3 div.sk-parallel-item:only-child::after {width: 0;}#sk-container-id-3 div.sk-dashed-wrapped {border: 1px dashed gray;margin: 0 0.4em 0.5em 0.4em;box-sizing: border-box;padding-bottom: 0.4em;background-color: white;}#sk-container-id-3 div.sk-label label {font-family: monospace;font-weight: bold;display: inline-block;line-height: 1.2em;}#sk-container-id-3 div.sk-label-container {text-align: center;}#sk-container-id-3 div.sk-container {/* jupyter's `normalize.less` sets `[hidden] { display: none; }` but bootstrap.min.css set `[hidden] { display: none !important; }` so we also need the `!important` here to be able to override the default hidden behavior on the sphinx rendered scikit-learn.org. See: https://github.com/scikit-learn/scikit-learn/issues/21755 */display: inline-block !important;position: relative;}#sk-container-id-3 div.sk-text-repr-fallback {display: none;}</style><div id=\"sk-container-id-3\" class=\"sk-top-container\"><div class=\"sk-text-repr-fallback\"><pre>TruncatedSVD(n_components=5, random_state=42)</pre><b>In a Jupyter environment, please rerun this cell to show the HTML representation or trust the notebook. <br />On GitHub, the HTML representation is unable to render, please try loading this page with nbviewer.org.</b></div><div class=\"sk-container\" hidden><div class=\"sk-item\"><div class=\"sk-estimator sk-toggleable\"><input class=\"sk-toggleable__control sk-hidden--visually\" id=\"sk-estimator-id-3\" type=\"checkbox\" checked><label for=\"sk-estimator-id-3\" class=\"sk-toggleable__label sk-toggleable__label-arrow\">TruncatedSVD</label><div class=\"sk-toggleable__content\"><pre>TruncatedSVD(n_components=5, random_state=42)</pre></div></div></div></div></div>"
      ],
      "text/plain": [
       "PyObject TruncatedSVD(n_components=5, random_state=42)"
      ]
     },
     "execution_count": 21,
     "metadata": {},
     "output_type": "execute_result"
    }
   ],
   "source": [
    "svd = TruncatedSVD(n_components=n_components, n_iter=5, random_state=42)\n",
    "svd.fit(train_dtm)"
   ]
  },
  {
   "cell_type": "code",
   "execution_count": 22,
   "metadata": {
    "ExecuteTime": {
     "end_time": "2020-06-20T19:15:29.833627Z",
     "start_time": "2020-06-20T19:15:29.812908Z"
    }
   },
   "outputs": [
    {
     "data": {
      "text/plain": [
       "5-element Vector{Float64}:\n",
       " 8.910103370517142\n",
       " 5.717481211745645\n",
       " 5.381483113890275\n",
       " 5.045674842051183\n",
       " 4.713951100971166"
      ]
     },
     "execution_count": 22,
     "metadata": {},
     "output_type": "execute_result"
    }
   ],
   "source": [
    "svd.singular_values_"
   ]
  },
  {
   "cell_type": "code",
   "execution_count": 23,
   "metadata": {
    "ExecuteTime": {
     "end_time": "2020-06-20T19:15:29.845787Z",
     "start_time": "2020-06-20T19:15:29.836859Z"
    }
   },
   "outputs": [
    {
     "data": {
      "text/plain": [
       "0.053826374206534494"
      ]
     },
     "execution_count": 23,
     "metadata": {},
     "output_type": "execute_result"
    }
   ],
   "source": [
    "sum(svd.explained_variance_ratio_)"
   ]
  },
  {
   "cell_type": "markdown",
   "metadata": {
    "slideshow": {
     "slide_type": "slide"
    }
   },
   "source": [
    "### Explore Topics "
   ]
  },
  {
   "cell_type": "markdown",
   "metadata": {},
   "source": [
    "LSI identifies a new orthogonal basis for the document-term matrix that reduces the rank to the number of desired topics. \n",
    "\n",
    "The `.transform()` method of the trained svd object projects the documents into the new topic space that is the result of reducing the dimensionality of the document vectors and corresponds to the UTΣT transformation explained in the book."
   ]
  },
  {
   "cell_type": "code",
   "execution_count": 24,
   "metadata": {
    "ExecuteTime": {
     "end_time": "2020-06-20T19:15:29.857799Z",
     "start_time": "2020-06-20T19:15:29.851905Z"
    },
    "scrolled": true
   },
   "outputs": [
    {
     "data": {
      "text/plain": [
       "2175×5 Matrix{Float64}:\n",
       " 0.139513  -0.0721822  -0.0109696     0.162114    -0.018709\n",
       " 0.161377   0.0355757  -0.0994634    -0.027673     0.176324\n",
       " 0.138225  -0.0649887   0.000870189   0.0982002   -0.0455118\n",
       " 0.184587   0.0578767  -0.0782788    -0.0446741   -0.0917928\n",
       " 0.170216  -0.115413    0.0746647    -0.0341978   -0.0527525\n",
       " 0.150466   0.0511776  -0.0792929    -0.0353337   -0.0297752\n",
       " 0.178239   0.103166    0.0123117    -0.0110277   -0.0480951\n",
       " 0.232497   0.0964224   0.0714162     0.0106169    0.053207\n",
       " 0.133023   0.0623389  -0.118742     -0.0650395   -0.139382\n",
       " 0.234961  -0.0884092  -0.12585       0.00505431   0.0208205\n",
       " 0.259637   0.0902536  -0.115496     -0.0854886   -0.210216\n",
       " 0.13579   -0.106483    0.0750391    -0.0879439    0.0047777\n",
       " 0.181554   0.183622    0.135464      0.0622751    0.0156607\n",
       " ⋮                                                \n",
       " 0.182143   0.0448016  -0.153785     -0.054874     0.0835541\n",
       " 0.18558    0.0373658  -0.0075764    -0.042447    -0.0501512\n",
       " 0.222073  -0.236432    0.164452     -0.158275     0.00997929\n",
       " 0.261112  -0.08366    -0.0643212     0.140012     0.0317783\n",
       " 0.254488   0.0671756  -0.0673993    -0.0664448   -0.153314\n",
       " 0.147752   0.0573949   0.0335125     0.0366894    0.00636652\n",
       " 0.239065   0.256062    0.127873      0.0206891    0.0123873\n",
       " 0.298701   0.296302    0.339926      0.0866405    0.0967819\n",
       " 0.219934   0.132815    0.073273      0.042495     0.0409724\n",
       " 0.123649  -0.11652     0.0654437    -0.0686762   -0.0551345\n",
       " 0.155358  -0.0727027  -0.0165427     0.0683882    0.0243228\n",
       " 0.112237   0.0120497   0.0361516     0.00171028   0.0157751"
      ]
     },
     "execution_count": 24,
     "metadata": {},
     "output_type": "execute_result"
    }
   ],
   "source": [
    "train_doc_topics = svd.transform(train_dtm)"
   ]
  },
  {
   "cell_type": "code",
   "execution_count": 25,
   "metadata": {
    "ExecuteTime": {
     "end_time": "2020-06-20T19:15:29.871638Z",
     "start_time": "2020-06-20T19:15:29.858812Z"
    }
   },
   "outputs": [
    {
     "data": {
      "text/plain": [
       "(2175, 5)"
      ]
     },
     "execution_count": 25,
     "metadata": {},
     "output_type": "execute_result"
    }
   ],
   "source": [
    "size(train_doc_topics)"
   ]
  },
  {
   "cell_type": "markdown",
   "metadata": {},
   "source": [
    "#### Topic Weights for sample article"
   ]
  },
  {
   "cell_type": "markdown",
   "metadata": {},
   "source": [
    "We can sample an article to view its location in the topic space. We draw a ‘Politics’ article that is most (positively) associated with topics 1 and 2 (and 3):"
   ]
  },
  {
   "cell_type": "code",
   "execution_count": 26,
   "metadata": {
    "ExecuteTime": {
     "end_time": "2020-06-20T19:15:29.891545Z",
     "start_time": "2020-06-20T19:15:29.872642Z"
    }
   },
   "outputs": [
    {
     "data": {
      "text/html": [
       "<table class=\"data-frame\"><thead><tr><th></th><th>index</th><th>Category</th><th>Heading</th></tr><tr><th></th><th>Int64</th><th>String</th><th>String</th></tr></thead><tbody><p>1 rows × 3 columns</p><tr><th>1</th><td>688</td><td>Sport</td><td>Kenya lift Chepkemei's suspension</td></tr></tbody></table>"
      ],
      "text/latex": [
       "\\begin{tabular}{r|ccc}\n",
       "\t& index & Category & Heading\\\\\n",
       "\t\\hline\n",
       "\t& Int64 & String & String\\\\\n",
       "\t\\hline\n",
       "\t1 & 688 & Sport & Kenya lift Chepkemei's suspension \\\\\n",
       "\\end{tabular}\n"
      ],
      "text/plain": [
       "1×3 DataFrame\n",
       "│ Row │ index │ Category │ Heading                           │\n",
       "│     │ \u001b[90mInt64\u001b[39m │ \u001b[90mString\u001b[39m   │ \u001b[90mString\u001b[39m                            │\n",
       "├─────┼───────┼──────────┼───────────────────────────────────┤\n",
       "│ 1   │ 688   │ Sport    │ Kenya lift Chepkemei's suspension │"
      ]
     },
     "execution_count": 26,
     "metadata": {},
     "output_type": "execute_result"
    }
   ],
   "source": [
    "i = shuffle(1:nrow(train_docs))[1]\n",
    "sample_train_doc = DataFrame()\n",
    "sample_train_doc[!, \"index\"] = [i]\n",
    "sample_train_doc = hcat(sample_train_doc, DataFrame(train_docs[i, 1:2]))"
   ]
  },
  {
   "cell_type": "code",
   "execution_count": 27,
   "metadata": {},
   "outputs": [
    {
     "name": "stdout",
     "output_type": "stream",
     "text": [
      "1×8 DataFrame\n",
      "│ Row │ index │ Category │ Heading                           │ Topic 1  │\n",
      "│     │ \u001b[90mInt64\u001b[39m │ \u001b[90mString\u001b[39m   │ \u001b[90mString\u001b[39m                            │ \u001b[90mFloat64\u001b[39m  │\n",
      "├─────┼───────┼──────────┼───────────────────────────────────┼──────────┤\n",
      "│ 1   │ 688   │ Sport    │ Kenya lift Chepkemei's suspension │ 0.175921 │\n",
      "\n",
      "│ Row │ Topic 2    │ Topic 3   │ Topic 4    │ Topic 5   │\n",
      "│     │ \u001b[90mFloat64\u001b[39m    │ \u001b[90mFloat64\u001b[39m   │ \u001b[90mFloat64\u001b[39m    │ \u001b[90mFloat64\u001b[39m   │\n",
      "├─────┼────────────┼───────────┼────────────┼───────────┤\n",
      "│ 1   │ -0.0770898 │ 0.0614625 │ -0.0570434 │ -0.051551 │"
     ]
    }
   ],
   "source": [
    "for (j,topic_label) in enumerate(topic_labels)\n",
    "    sample_train_doc[!, topic_label] = [train_doc_topics[i, j]]\n",
    "end\n",
    "\n",
    "DataFrames.show(sample_train_doc, allcols=true)"
   ]
  },
  {
   "cell_type": "markdown",
   "metadata": {},
   "source": [
    "#### Average topic weight per category"
   ]
  },
  {
   "cell_type": "code",
   "execution_count": 28,
   "metadata": {},
   "outputs": [
    {
     "data": {
      "text/html": [
       "<table class=\"data-frame\"><thead><tr><th></th><th>Category</th><th>Topic 1</th><th>Topic 2</th><th>Topic 3</th><th>Topic 4</th><th>Topic 5</th></tr><tr><th></th><th>String</th><th>Float64</th><th>Float64</th><th>Float64</th><th>Float64</th><th>Float64</th></tr></thead><tbody><p>10 rows × 6 columns</p><tr><th>1</th><td>Entertainment</td><td>0.139513</td><td>-0.0721822</td><td>-0.0109696</td><td>0.162114</td><td>-0.018709</td></tr><tr><th>2</th><td>Tech</td><td>0.161377</td><td>0.0355757</td><td>-0.0994634</td><td>-0.027673</td><td>0.176324</td></tr><tr><th>3</th><td>Entertainment</td><td>0.138225</td><td>-0.0649887</td><td>0.000870189</td><td>0.0982002</td><td>-0.0455118</td></tr><tr><th>4</th><td>Business</td><td>0.184587</td><td>0.0578767</td><td>-0.0782788</td><td>-0.0446741</td><td>-0.0917928</td></tr><tr><th>5</th><td>Sport</td><td>0.170216</td><td>-0.115413</td><td>0.0746647</td><td>-0.0341978</td><td>-0.0527525</td></tr><tr><th>6</th><td>Business</td><td>0.150466</td><td>0.0511776</td><td>-0.0792929</td><td>-0.0353337</td><td>-0.0297752</td></tr><tr><th>7</th><td>Politics</td><td>0.178239</td><td>0.103166</td><td>0.0123117</td><td>-0.0110277</td><td>-0.0480951</td></tr><tr><th>8</th><td>Politics</td><td>0.232497</td><td>0.0964224</td><td>0.0714162</td><td>0.0106169</td><td>0.053207</td></tr><tr><th>9</th><td>Business</td><td>0.133023</td><td>0.0623389</td><td>-0.118742</td><td>-0.0650395</td><td>-0.139382</td></tr><tr><th>10</th><td>Tech</td><td>0.234961</td><td>-0.0884092</td><td>-0.12585</td><td>0.00505431</td><td>0.0208205</td></tr></tbody></table>"
      ],
      "text/latex": [
       "\\begin{tabular}{r|cccccc}\n",
       "\t& Category & Topic 1 & Topic 2 & Topic 3 & Topic 4 & Topic 5\\\\\n",
       "\t\\hline\n",
       "\t& String & Float64 & Float64 & Float64 & Float64 & Float64\\\\\n",
       "\t\\hline\n",
       "\t1 & Entertainment & 0.139513 & -0.0721822 & -0.0109696 & 0.162114 & -0.018709 \\\\\n",
       "\t2 & Tech & 0.161377 & 0.0355757 & -0.0994634 & -0.027673 & 0.176324 \\\\\n",
       "\t3 & Entertainment & 0.138225 & -0.0649887 & 0.000870189 & 0.0982002 & -0.0455118 \\\\\n",
       "\t4 & Business & 0.184587 & 0.0578767 & -0.0782788 & -0.0446741 & -0.0917928 \\\\\n",
       "\t5 & Sport & 0.170216 & -0.115413 & 0.0746647 & -0.0341978 & -0.0527525 \\\\\n",
       "\t6 & Business & 0.150466 & 0.0511776 & -0.0792929 & -0.0353337 & -0.0297752 \\\\\n",
       "\t7 & Politics & 0.178239 & 0.103166 & 0.0123117 & -0.0110277 & -0.0480951 \\\\\n",
       "\t8 & Politics & 0.232497 & 0.0964224 & 0.0714162 & 0.0106169 & 0.053207 \\\\\n",
       "\t9 & Business & 0.133023 & 0.0623389 & -0.118742 & -0.0650395 & -0.139382 \\\\\n",
       "\t10 & Tech & 0.234961 & -0.0884092 & -0.12585 & 0.00505431 & 0.0208205 \\\\\n",
       "\\end{tabular}\n"
      ],
      "text/plain": [
       "10×6 DataFrame. Omitted printing of 1 columns\n",
       "│ Row │ Category      │ Topic 1  │ Topic 2    │ Topic 3     │ Topic 4    │\n",
       "│     │ \u001b[90mString\u001b[39m        │ \u001b[90mFloat64\u001b[39m  │ \u001b[90mFloat64\u001b[39m    │ \u001b[90mFloat64\u001b[39m     │ \u001b[90mFloat64\u001b[39m    │\n",
       "├─────┼───────────────┼──────────┼────────────┼─────────────┼────────────┤\n",
       "│ 1   │ Entertainment │ 0.139513 │ -0.0721822 │ -0.0109696  │ 0.162114   │\n",
       "│ 2   │ Tech          │ 0.161377 │ 0.0355757  │ -0.0994634  │ -0.027673  │\n",
       "│ 3   │ Entertainment │ 0.138225 │ -0.0649887 │ 0.000870189 │ 0.0982002  │\n",
       "│ 4   │ Business      │ 0.184587 │ 0.0578767  │ -0.0782788  │ -0.0446741 │\n",
       "│ 5   │ Sport         │ 0.170216 │ -0.115413  │ 0.0746647   │ -0.0341978 │\n",
       "│ 6   │ Business      │ 0.150466 │ 0.0511776  │ -0.0792929  │ -0.0353337 │\n",
       "│ 7   │ Politics      │ 0.178239 │ 0.103166   │ 0.0123117   │ -0.0110277 │\n",
       "│ 8   │ Politics      │ 0.232497 │ 0.0964224  │ 0.0714162   │ 0.0106169  │\n",
       "│ 9   │ Business      │ 0.133023 │ 0.0623389  │ -0.118742   │ -0.0650395 │\n",
       "│ 10  │ Tech          │ 0.234961 │ -0.0884092 │ -0.12585    │ 0.00505431 │"
      ]
     },
     "execution_count": 28,
     "metadata": {},
     "output_type": "execute_result"
    }
   ],
   "source": [
    "train_result = DataFrame()\n",
    "train_result[!, :Category] = train_docs.Category\n",
    "train_result = hcat(train_result, rename!(DataFrame(train_doc_topics), topic_labels))\n",
    "first(train_result, 10)"
   ]
  },
  {
   "cell_type": "code",
   "execution_count": 29,
   "metadata": {},
   "outputs": [
    {
     "data": {
      "text/html": [
       "<table class=\"data-frame\"><thead><tr><th></th><th>Category</th><th>Topic 1</th><th>Topic 2</th><th>Topic 3</th><th>Topic 4</th><th>Topic 5</th></tr><tr><th></th><th>String</th><th>Float64</th><th>Float64</th><th>Float64</th><th>Float64</th><th>Float64</th></tr></thead><tbody><p>5 rows × 6 columns</p><tr><th>1</th><td>Entertainment</td><td>0.171038</td><td>-0.0878806</td><td>-0.0187621</td><td>0.16897</td><td>-0.0275086</td></tr><tr><th>2</th><td>Tech</td><td>0.190145</td><td>-0.0114773</td><td>-0.125906</td><td>-0.0123631</td><td>0.144663</td></tr><tr><th>3</th><td>Business</td><td>0.18437</td><td>0.0631171</td><td>-0.0982829</td><td>-0.052101</td><td>-0.115826</td></tr><tr><th>4</th><td>Sport</td><td>0.17722</td><td>-0.14237</td><td>0.0969731</td><td>-0.0900207</td><td>-0.010525</td></tr><tr><th>5</th><td>Politics</td><td>0.210598</td><td>0.148897</td><td>0.114249</td><td>0.0285891</td><td>0.0311417</td></tr></tbody></table>"
      ],
      "text/latex": [
       "\\begin{tabular}{r|cccccc}\n",
       "\t& Category & Topic 1 & Topic 2 & Topic 3 & Topic 4 & Topic 5\\\\\n",
       "\t\\hline\n",
       "\t& String & Float64 & Float64 & Float64 & Float64 & Float64\\\\\n",
       "\t\\hline\n",
       "\t1 & Entertainment & 0.171038 & -0.0878806 & -0.0187621 & 0.16897 & -0.0275086 \\\\\n",
       "\t2 & Tech & 0.190145 & -0.0114773 & -0.125906 & -0.0123631 & 0.144663 \\\\\n",
       "\t3 & Business & 0.18437 & 0.0631171 & -0.0982829 & -0.052101 & -0.115826 \\\\\n",
       "\t4 & Sport & 0.17722 & -0.14237 & 0.0969731 & -0.0900207 & -0.010525 \\\\\n",
       "\t5 & Politics & 0.210598 & 0.148897 & 0.114249 & 0.0285891 & 0.0311417 \\\\\n",
       "\\end{tabular}\n"
      ],
      "text/plain": [
       "5×6 DataFrame. Omitted printing of 1 columns\n",
       "│ Row │ Category      │ Topic 1  │ Topic 2    │ Topic 3    │ Topic 4    │\n",
       "│     │ \u001b[90mString\u001b[39m        │ \u001b[90mFloat64\u001b[39m  │ \u001b[90mFloat64\u001b[39m    │ \u001b[90mFloat64\u001b[39m    │ \u001b[90mFloat64\u001b[39m    │\n",
       "├─────┼───────────────┼──────────┼────────────┼────────────┼────────────┤\n",
       "│ 1   │ Entertainment │ 0.171038 │ -0.0878806 │ -0.0187621 │ 0.16897    │\n",
       "│ 2   │ Tech          │ 0.190145 │ -0.0114773 │ -0.125906  │ -0.0123631 │\n",
       "│ 3   │ Business      │ 0.18437  │ 0.0631171  │ -0.0982829 │ -0.052101  │\n",
       "│ 4   │ Sport         │ 0.17722  │ -0.14237   │ 0.0969731  │ -0.0900207 │\n",
       "│ 5   │ Politics      │ 0.210598 │ 0.148897   │ 0.114249   │ 0.0285891  │"
      ]
     },
     "execution_count": 29,
     "metadata": {},
     "output_type": "execute_result"
    }
   ],
   "source": [
    "mean_topic = by(train_result, :Category,\n",
    "                \"Topic 1\" => mean,\n",
    "                \"Topic 2\" => mean,\n",
    "                \"Topic 3\" => mean,\n",
    "                \"Topic 4\" => mean,\n",
    "                \"Topic 5\" => mean)\n",
    "rename!(mean_topic, append!([\"Category\"], topic_labels))"
   ]
  },
  {
   "cell_type": "code",
   "execution_count": 30,
   "metadata": {
    "scrolled": true
   },
   "outputs": [
    {
     "data": {
      "text/html": [
       "<table class=\"data-frame\"><thead><tr><th></th><th>Category</th><th>variable</th><th>value</th></tr><tr><th></th><th>String</th><th>Cat…</th><th>Float64</th></tr></thead><tbody><p>25 rows × 3 columns</p><tr><th>1</th><td>Entertainment</td><td>Topic 1</td><td>0.171038</td></tr><tr><th>2</th><td>Tech</td><td>Topic 1</td><td>0.190145</td></tr><tr><th>3</th><td>Business</td><td>Topic 1</td><td>0.18437</td></tr><tr><th>4</th><td>Sport</td><td>Topic 1</td><td>0.17722</td></tr><tr><th>5</th><td>Politics</td><td>Topic 1</td><td>0.210598</td></tr><tr><th>6</th><td>Entertainment</td><td>Topic 2</td><td>-0.0878806</td></tr><tr><th>7</th><td>Tech</td><td>Topic 2</td><td>-0.0114773</td></tr><tr><th>8</th><td>Business</td><td>Topic 2</td><td>0.0631171</td></tr><tr><th>9</th><td>Sport</td><td>Topic 2</td><td>-0.14237</td></tr><tr><th>10</th><td>Politics</td><td>Topic 2</td><td>0.148897</td></tr><tr><th>11</th><td>Entertainment</td><td>Topic 3</td><td>-0.0187621</td></tr><tr><th>12</th><td>Tech</td><td>Topic 3</td><td>-0.125906</td></tr><tr><th>13</th><td>Business</td><td>Topic 3</td><td>-0.0982829</td></tr><tr><th>14</th><td>Sport</td><td>Topic 3</td><td>0.0969731</td></tr><tr><th>15</th><td>Politics</td><td>Topic 3</td><td>0.114249</td></tr><tr><th>16</th><td>Entertainment</td><td>Topic 4</td><td>0.16897</td></tr><tr><th>17</th><td>Tech</td><td>Topic 4</td><td>-0.0123631</td></tr><tr><th>18</th><td>Business</td><td>Topic 4</td><td>-0.052101</td></tr><tr><th>19</th><td>Sport</td><td>Topic 4</td><td>-0.0900207</td></tr><tr><th>20</th><td>Politics</td><td>Topic 4</td><td>0.0285891</td></tr><tr><th>21</th><td>Entertainment</td><td>Topic 5</td><td>-0.0275086</td></tr><tr><th>22</th><td>Tech</td><td>Topic 5</td><td>0.144663</td></tr><tr><th>23</th><td>Business</td><td>Topic 5</td><td>-0.115826</td></tr><tr><th>24</th><td>Sport</td><td>Topic 5</td><td>-0.010525</td></tr><tr><th>25</th><td>Politics</td><td>Topic 5</td><td>0.0311417</td></tr></tbody></table>"
      ],
      "text/latex": [
       "\\begin{tabular}{r|ccc}\n",
       "\t& Category & variable & value\\\\\n",
       "\t\\hline\n",
       "\t& String & Cat… & Float64\\\\\n",
       "\t\\hline\n",
       "\t1 & Entertainment & Topic 1 & 0.171038 \\\\\n",
       "\t2 & Tech & Topic 1 & 0.190145 \\\\\n",
       "\t3 & Business & Topic 1 & 0.18437 \\\\\n",
       "\t4 & Sport & Topic 1 & 0.17722 \\\\\n",
       "\t5 & Politics & Topic 1 & 0.210598 \\\\\n",
       "\t6 & Entertainment & Topic 2 & -0.0878806 \\\\\n",
       "\t7 & Tech & Topic 2 & -0.0114773 \\\\\n",
       "\t8 & Business & Topic 2 & 0.0631171 \\\\\n",
       "\t9 & Sport & Topic 2 & -0.14237 \\\\\n",
       "\t10 & Politics & Topic 2 & 0.148897 \\\\\n",
       "\t11 & Entertainment & Topic 3 & -0.0187621 \\\\\n",
       "\t12 & Tech & Topic 3 & -0.125906 \\\\\n",
       "\t13 & Business & Topic 3 & -0.0982829 \\\\\n",
       "\t14 & Sport & Topic 3 & 0.0969731 \\\\\n",
       "\t15 & Politics & Topic 3 & 0.114249 \\\\\n",
       "\t16 & Entertainment & Topic 4 & 0.16897 \\\\\n",
       "\t17 & Tech & Topic 4 & -0.0123631 \\\\\n",
       "\t18 & Business & Topic 4 & -0.052101 \\\\\n",
       "\t19 & Sport & Topic 4 & -0.0900207 \\\\\n",
       "\t20 & Politics & Topic 4 & 0.0285891 \\\\\n",
       "\t21 & Entertainment & Topic 5 & -0.0275086 \\\\\n",
       "\t22 & Tech & Topic 5 & 0.144663 \\\\\n",
       "\t23 & Business & Topic 5 & -0.115826 \\\\\n",
       "\t24 & Sport & Topic 5 & -0.010525 \\\\\n",
       "\t25 & Politics & Topic 5 & 0.0311417 \\\\\n",
       "\\end{tabular}\n"
      ],
      "text/plain": [
       "25×3 DataFrame\n",
       "│ Row │ Category      │ variable │ value      │\n",
       "│     │ \u001b[90mString\u001b[39m        │ \u001b[90mCat…\u001b[39m     │ \u001b[90mFloat64\u001b[39m    │\n",
       "├─────┼───────────────┼──────────┼────────────┤\n",
       "│ 1   │ Entertainment │ Topic 1  │ 0.171038   │\n",
       "│ 2   │ Tech          │ Topic 1  │ 0.190145   │\n",
       "│ 3   │ Business      │ Topic 1  │ 0.18437    │\n",
       "│ 4   │ Sport         │ Topic 1  │ 0.17722    │\n",
       "│ 5   │ Politics      │ Topic 1  │ 0.210598   │\n",
       "│ 6   │ Entertainment │ Topic 2  │ -0.0878806 │\n",
       "│ 7   │ Tech          │ Topic 2  │ -0.0114773 │\n",
       "│ 8   │ Business      │ Topic 2  │ 0.0631171  │\n",
       "│ 9   │ Sport         │ Topic 2  │ -0.14237   │\n",
       "│ 10  │ Politics      │ Topic 2  │ 0.148897   │\n",
       "⋮\n",
       "│ 15  │ Politics      │ Topic 3  │ 0.114249   │\n",
       "│ 16  │ Entertainment │ Topic 4  │ 0.16897    │\n",
       "│ 17  │ Tech          │ Topic 4  │ -0.0123631 │\n",
       "│ 18  │ Business      │ Topic 4  │ -0.052101  │\n",
       "│ 19  │ Sport         │ Topic 4  │ -0.0900207 │\n",
       "│ 20  │ Politics      │ Topic 4  │ 0.0285891  │\n",
       "│ 21  │ Entertainment │ Topic 5  │ -0.0275086 │\n",
       "│ 22  │ Tech          │ Topic 5  │ 0.144663   │\n",
       "│ 23  │ Business      │ Topic 5  │ -0.115826  │\n",
       "│ 24  │ Sport         │ Topic 5  │ -0.010525  │\n",
       "│ 25  │ Politics      │ Topic 5  │ 0.0311417  │"
      ]
     },
     "execution_count": 30,
     "metadata": {},
     "output_type": "execute_result"
    }
   ],
   "source": [
    "mean_topic = DataFrames.stack(mean_topic, names(mean_topic)[2:6])"
   ]
  },
  {
   "cell_type": "code",
   "execution_count": 31,
   "metadata": {},
   "outputs": [
    {
     "data": {
      "image/svg+xml": [
       "<?xml version=\"1.0\" encoding=\"utf-8\"?>\n",
       "<svg xmlns=\"http://www.w3.org/2000/svg\" xmlns:xlink=\"http://www.w3.org/1999/xlink\" width=\"600\" height=\"400\" viewBox=\"0 0 2400 1600\">\n",
       "<defs>\n",
       "  <clipPath id=\"clip1900\">\n",
       "    <rect x=\"0\" y=\"0\" width=\"2400\" height=\"1600\"/>\n",
       "  </clipPath>\n",
       "</defs>\n",
       "<path clip-path=\"url(#clip1900)\" d=\"\n",
       "M0 1600 L2400 1600 L2400 0 L0 0  Z\n",
       "  \" fill=\"#ffffff\" fill-rule=\"evenodd\" fill-opacity=\"1\"/>\n",
       "<defs>\n",
       "  <clipPath id=\"clip1901\">\n",
       "    <rect x=\"480\" y=\"0\" width=\"1681\" height=\"1600\"/>\n",
       "  </clipPath>\n",
       "</defs>\n",
       "<path clip-path=\"url(#clip1900)\" d=\"\n",
       "M182.008 1425.62 L2352.76 1425.62 L2352.76 47.2441 L182.008 47.2441  Z\n",
       "  \" fill=\"#ffffff\" fill-rule=\"evenodd\" fill-opacity=\"1\"/>\n",
       "<defs>\n",
       "  <clipPath id=\"clip1902\">\n",
       "    <rect x=\"182\" y=\"47\" width=\"2172\" height=\"1379\"/>\n",
       "  </clipPath>\n",
       "</defs>\n",
       "<polyline clip-path=\"url(#clip1902)\" style=\"stroke:#000000; stroke-width:2; stroke-opacity:0.1; fill:none\" points=\"\n",
       "  439.69,1425.62 439.69,47.2441 \n",
       "  \"/>\n",
       "<polyline clip-path=\"url(#clip1902)\" style=\"stroke:#000000; stroke-width:2; stroke-opacity:0.1; fill:none\" points=\"\n",
       "  853.536,1425.62 853.536,47.2441 \n",
       "  \"/>\n",
       "<polyline clip-path=\"url(#clip1902)\" style=\"stroke:#000000; stroke-width:2; stroke-opacity:0.1; fill:none\" points=\"\n",
       "  1267.38,1425.62 1267.38,47.2441 \n",
       "  \"/>\n",
       "<polyline clip-path=\"url(#clip1902)\" style=\"stroke:#000000; stroke-width:2; stroke-opacity:0.1; fill:none\" points=\"\n",
       "  1681.23,1425.62 1681.23,47.2441 \n",
       "  \"/>\n",
       "<polyline clip-path=\"url(#clip1902)\" style=\"stroke:#000000; stroke-width:2; stroke-opacity:0.1; fill:none\" points=\"\n",
       "  2095.07,1425.62 2095.07,47.2441 \n",
       "  \"/>\n",
       "<polyline clip-path=\"url(#clip1902)\" style=\"stroke:#000000; stroke-width:2; stroke-opacity:0.1; fill:none\" points=\"\n",
       "  182.008,1230.52 2352.76,1230.52 \n",
       "  \"/>\n",
       "<polyline clip-path=\"url(#clip1902)\" style=\"stroke:#000000; stroke-width:2; stroke-opacity:0.1; fill:none\" points=\"\n",
       "  182.008,862.11 2352.76,862.11 \n",
       "  \"/>\n",
       "<polyline clip-path=\"url(#clip1902)\" style=\"stroke:#000000; stroke-width:2; stroke-opacity:0.1; fill:none\" points=\"\n",
       "  182.008,493.704 2352.76,493.704 \n",
       "  \"/>\n",
       "<polyline clip-path=\"url(#clip1902)\" style=\"stroke:#000000; stroke-width:2; stroke-opacity:0.1; fill:none\" points=\"\n",
       "  182.008,125.298 2352.76,125.298 \n",
       "  \"/>\n",
       "<polyline clip-path=\"url(#clip1900)\" style=\"stroke:#000000; stroke-width:4; stroke-opacity:1; fill:none\" points=\"\n",
       "  182.008,1425.62 2352.76,1425.62 \n",
       "  \"/>\n",
       "<polyline clip-path=\"url(#clip1900)\" style=\"stroke:#000000; stroke-width:4; stroke-opacity:1; fill:none\" points=\"\n",
       "  182.008,1425.62 182.008,47.2441 \n",
       "  \"/>\n",
       "<polyline clip-path=\"url(#clip1900)\" style=\"stroke:#000000; stroke-width:4; stroke-opacity:1; fill:none\" points=\"\n",
       "  439.69,1425.62 439.69,1409.08 \n",
       "  \"/>\n",
       "<polyline clip-path=\"url(#clip1900)\" style=\"stroke:#000000; stroke-width:4; stroke-opacity:1; fill:none\" points=\"\n",
       "  853.536,1425.62 853.536,1409.08 \n",
       "  \"/>\n",
       "<polyline clip-path=\"url(#clip1900)\" style=\"stroke:#000000; stroke-width:4; stroke-opacity:1; fill:none\" points=\"\n",
       "  1267.38,1425.62 1267.38,1409.08 \n",
       "  \"/>\n",
       "<polyline clip-path=\"url(#clip1900)\" style=\"stroke:#000000; stroke-width:4; stroke-opacity:1; fill:none\" points=\"\n",
       "  1681.23,1425.62 1681.23,1409.08 \n",
       "  \"/>\n",
       "<polyline clip-path=\"url(#clip1900)\" style=\"stroke:#000000; stroke-width:4; stroke-opacity:1; fill:none\" points=\"\n",
       "  2095.07,1425.62 2095.07,1409.08 \n",
       "  \"/>\n",
       "<polyline clip-path=\"url(#clip1900)\" style=\"stroke:#000000; stroke-width:4; stroke-opacity:1; fill:none\" points=\"\n",
       "  182.008,1230.52 208.057,1230.52 \n",
       "  \"/>\n",
       "<polyline clip-path=\"url(#clip1900)\" style=\"stroke:#000000; stroke-width:4; stroke-opacity:1; fill:none\" points=\"\n",
       "  182.008,862.11 208.057,862.11 \n",
       "  \"/>\n",
       "<polyline clip-path=\"url(#clip1900)\" style=\"stroke:#000000; stroke-width:4; stroke-opacity:1; fill:none\" points=\"\n",
       "  182.008,493.704 208.057,493.704 \n",
       "  \"/>\n",
       "<polyline clip-path=\"url(#clip1900)\" style=\"stroke:#000000; stroke-width:4; stroke-opacity:1; fill:none\" points=\"\n",
       "  182.008,125.298 208.057,125.298 \n",
       "  \"/>\n",
       "<g clip-path=\"url(#clip1900)\">\n",
       "<text style=\"fill:#000000; fill-opacity:1; font-family:Arial,Helvetica Neue,Helvetica,sans-serif; font-size:48px; text-anchor:middle;\" transform=\"rotate(0, 439.69, 1479.62)\" x=\"439.69\" y=\"1479.62\">Business</text>\n",
       "</g>\n",
       "<g clip-path=\"url(#clip1900)\">\n",
       "<text style=\"fill:#000000; fill-opacity:1; font-family:Arial,Helvetica Neue,Helvetica,sans-serif; font-size:48px; text-anchor:middle;\" transform=\"rotate(0, 853.536, 1479.62)\" x=\"853.536\" y=\"1479.62\">Entertainment</text>\n",
       "</g>\n",
       "<g clip-path=\"url(#clip1900)\">\n",
       "<text style=\"fill:#000000; fill-opacity:1; font-family:Arial,Helvetica Neue,Helvetica,sans-serif; font-size:48px; text-anchor:middle;\" transform=\"rotate(0, 1267.38, 1479.62)\" x=\"1267.38\" y=\"1479.62\">Politics</text>\n",
       "</g>\n",
       "<g clip-path=\"url(#clip1900)\">\n",
       "<text style=\"fill:#000000; fill-opacity:1; font-family:Arial,Helvetica Neue,Helvetica,sans-serif; font-size:48px; text-anchor:middle;\" transform=\"rotate(0, 1681.23, 1479.62)\" x=\"1681.23\" y=\"1479.62\">Sport</text>\n",
       "</g>\n",
       "<g clip-path=\"url(#clip1900)\">\n",
       "<text style=\"fill:#000000; fill-opacity:1; font-family:Arial,Helvetica Neue,Helvetica,sans-serif; font-size:48px; text-anchor:middle;\" transform=\"rotate(0, 2095.07, 1479.62)\" x=\"2095.07\" y=\"1479.62\">Tech</text>\n",
       "</g>\n",
       "<g clip-path=\"url(#clip1900)\">\n",
       "<text style=\"fill:#000000; fill-opacity:1; font-family:Arial,Helvetica Neue,Helvetica,sans-serif; font-size:48px; text-anchor:end;\" transform=\"rotate(0, 158.008, 1248.02)\" x=\"158.008\" y=\"1248.02\">-0.1</text>\n",
       "</g>\n",
       "<g clip-path=\"url(#clip1900)\">\n",
       "<text style=\"fill:#000000; fill-opacity:1; font-family:Arial,Helvetica Neue,Helvetica,sans-serif; font-size:48px; text-anchor:end;\" transform=\"rotate(0, 158.008, 879.61)\" x=\"158.008\" y=\"879.61\">0.0</text>\n",
       "</g>\n",
       "<g clip-path=\"url(#clip1900)\">\n",
       "<text style=\"fill:#000000; fill-opacity:1; font-family:Arial,Helvetica Neue,Helvetica,sans-serif; font-size:48px; text-anchor:end;\" transform=\"rotate(0, 158.008, 511.204)\" x=\"158.008\" y=\"511.204\">0.1</text>\n",
       "</g>\n",
       "<g clip-path=\"url(#clip1900)\">\n",
       "<text style=\"fill:#000000; fill-opacity:1; font-family:Arial,Helvetica Neue,Helvetica,sans-serif; font-size:48px; text-anchor:end;\" transform=\"rotate(0, 158.008, 142.798)\" x=\"158.008\" y=\"142.798\">0.2</text>\n",
       "</g>\n",
       "<polyline clip-path=\"url(#clip1902)\" style=\"stroke:#000000; stroke-width:4; stroke-opacity:1; fill:none\" points=\"\n",
       "  182.008,47.2441 2352.76,47.2441 \n",
       "  \"/>\n",
       "<polyline clip-path=\"url(#clip1902)\" style=\"stroke:#000000; stroke-width:4; stroke-opacity:1; fill:none\" points=\"\n",
       "  2352.76,1425.62 2352.76,47.2441 \n",
       "  \"/>\n",
       "<g clip-path=\"url(#clip1900)\">\n",
       "<text style=\"fill:#000000; fill-opacity:1; font-family:Arial,Helvetica Neue,Helvetica,sans-serif; font-size:66px; text-anchor:middle;\" transform=\"rotate(0, 1267.38, 1559.48)\" x=\"1267.38\" y=\"1559.48\">Category</text>\n",
       "</g>\n",
       "<path clip-path=\"url(#clip1902)\" d=\"\n",
       "M294.844 182.878 L294.844 862.11 L352.782 862.11 L352.782 182.878 L294.844 182.878 L294.844 182.878  Z\n",
       "  \" fill=\"#009af9\" fill-rule=\"evenodd\" fill-opacity=\"1\"/>\n",
       "<polyline clip-path=\"url(#clip1902)\" style=\"stroke:#000000; stroke-width:4; stroke-opacity:1; fill:none\" points=\"\n",
       "  294.844,182.878 294.844,862.11 352.782,862.11 352.782,182.878 294.844,182.878 \n",
       "  \"/>\n",
       "<path clip-path=\"url(#clip1902)\" d=\"\n",
       "M708.69 231.995 L708.69 862.11 L766.628 862.11 L766.628 231.995 L708.69 231.995 L708.69 231.995  Z\n",
       "  \" fill=\"#009af9\" fill-rule=\"evenodd\" fill-opacity=\"1\"/>\n",
       "<polyline clip-path=\"url(#clip1902)\" style=\"stroke:#000000; stroke-width:4; stroke-opacity:1; fill:none\" points=\"\n",
       "  708.69,231.995 708.69,862.11 766.628,862.11 766.628,231.995 708.69,231.995 \n",
       "  \"/>\n",
       "<path clip-path=\"url(#clip1902)\" d=\"\n",
       "M1122.54 86.2547 L1122.54 862.11 L1180.47 862.11 L1180.47 86.2547 L1122.54 86.2547 L1122.54 86.2547  Z\n",
       "  \" fill=\"#009af9\" fill-rule=\"evenodd\" fill-opacity=\"1\"/>\n",
       "<polyline clip-path=\"url(#clip1902)\" style=\"stroke:#000000; stroke-width:4; stroke-opacity:1; fill:none\" points=\"\n",
       "  1122.54,86.2547 1122.54,862.11 1180.47,862.11 1180.47,86.2547 1122.54,86.2547 \n",
       "  \"/>\n",
       "<path clip-path=\"url(#clip1902)\" d=\"\n",
       "M1536.38 209.222 L1536.38 862.11 L1594.32 862.11 L1594.32 209.222 L1536.38 209.222 L1536.38 209.222  Z\n",
       "  \" fill=\"#009af9\" fill-rule=\"evenodd\" fill-opacity=\"1\"/>\n",
       "<polyline clip-path=\"url(#clip1902)\" style=\"stroke:#000000; stroke-width:4; stroke-opacity:1; fill:none\" points=\"\n",
       "  1536.38,209.222 1536.38,862.11 1594.32,862.11 1594.32,209.222 1536.38,209.222 \n",
       "  \"/>\n",
       "<path clip-path=\"url(#clip1902)\" d=\"\n",
       "M1950.23 161.605 L1950.23 862.11 L2008.17 862.11 L2008.17 161.605 L1950.23 161.605 L1950.23 161.605  Z\n",
       "  \" fill=\"#009af9\" fill-rule=\"evenodd\" fill-opacity=\"1\"/>\n",
       "<polyline clip-path=\"url(#clip1902)\" style=\"stroke:#000000; stroke-width:4; stroke-opacity:1; fill:none\" points=\"\n",
       "  1950.23,161.605 1950.23,862.11 2008.17,862.11 2008.17,161.605 1950.23,161.605 \n",
       "  \"/>\n",
       "<path clip-path=\"url(#clip1902)\" d=\"\n",
       "M352.782 629.582 L352.782 862.11 L410.721 862.11 L410.721 629.582 L352.782 629.582 L352.782 629.582  Z\n",
       "  \" fill=\"#e26f46\" fill-rule=\"evenodd\" fill-opacity=\"1\"/>\n",
       "<polyline clip-path=\"url(#clip1902)\" style=\"stroke:#000000; stroke-width:4; stroke-opacity:1; fill:none\" points=\"\n",
       "  352.782,629.582 352.782,862.11 410.721,862.11 410.721,629.582 352.782,629.582 \n",
       "  \"/>\n",
       "<path clip-path=\"url(#clip1902)\" d=\"\n",
       "M766.628 1185.87 L766.628 862.11 L824.567 862.11 L824.567 1185.87 L766.628 1185.87 L766.628 1185.87  Z\n",
       "  \" fill=\"#e26f46\" fill-rule=\"evenodd\" fill-opacity=\"1\"/>\n",
       "<polyline clip-path=\"url(#clip1902)\" style=\"stroke:#000000; stroke-width:4; stroke-opacity:1; fill:none\" points=\"\n",
       "  766.628,1185.87 766.628,862.11 824.567,862.11 824.567,1185.87 766.628,1185.87 \n",
       "  \"/>\n",
       "<path clip-path=\"url(#clip1902)\" d=\"\n",
       "M1180.47 313.565 L1180.47 862.11 L1238.41 862.11 L1238.41 313.565 L1180.47 313.565 L1180.47 313.565  Z\n",
       "  \" fill=\"#e26f46\" fill-rule=\"evenodd\" fill-opacity=\"1\"/>\n",
       "<polyline clip-path=\"url(#clip1902)\" style=\"stroke:#000000; stroke-width:4; stroke-opacity:1; fill:none\" points=\"\n",
       "  1180.47,313.565 1180.47,862.11 1238.41,862.11 1238.41,313.565 1180.47,313.565 \n",
       "  \"/>\n",
       "<path clip-path=\"url(#clip1902)\" d=\"\n",
       "M1594.32 1386.61 L1594.32 862.11 L1652.26 862.11 L1652.26 1386.61 L1594.32 1386.61 L1594.32 1386.61  Z\n",
       "  \" fill=\"#e26f46\" fill-rule=\"evenodd\" fill-opacity=\"1\"/>\n",
       "<polyline clip-path=\"url(#clip1902)\" style=\"stroke:#000000; stroke-width:4; stroke-opacity:1; fill:none\" points=\"\n",
       "  1594.32,1386.61 1594.32,862.11 1652.26,862.11 1652.26,1386.61 1594.32,1386.61 \n",
       "  \"/>\n",
       "<path clip-path=\"url(#clip1902)\" d=\"\n",
       "M2008.17 904.393 L2008.17 862.11 L2066.1 862.11 L2066.1 904.393 L2008.17 904.393 L2008.17 904.393  Z\n",
       "  \" fill=\"#e26f46\" fill-rule=\"evenodd\" fill-opacity=\"1\"/>\n",
       "<polyline clip-path=\"url(#clip1902)\" style=\"stroke:#000000; stroke-width:4; stroke-opacity:1; fill:none\" points=\"\n",
       "  2008.17,904.393 2008.17,862.11 2066.1,862.11 2066.1,904.393 2008.17,904.393 \n",
       "  \"/>\n",
       "<path clip-path=\"url(#clip1902)\" d=\"\n",
       "M410.721 1224.19 L410.721 862.11 L468.659 862.11 L468.659 1224.19 L410.721 1224.19 L410.721 1224.19  Z\n",
       "  \" fill=\"#3da44d\" fill-rule=\"evenodd\" fill-opacity=\"1\"/>\n",
       "<polyline clip-path=\"url(#clip1902)\" style=\"stroke:#000000; stroke-width:4; stroke-opacity:1; fill:none\" points=\"\n",
       "  410.721,1224.19 410.721,862.11 468.659,862.11 468.659,1224.19 410.721,1224.19 \n",
       "  \"/>\n",
       "<path clip-path=\"url(#clip1902)\" d=\"\n",
       "M824.567 931.231 L824.567 862.11 L882.505 862.11 L882.505 931.231 L824.567 931.231 L824.567 931.231  Z\n",
       "  \" fill=\"#3da44d\" fill-rule=\"evenodd\" fill-opacity=\"1\"/>\n",
       "<polyline clip-path=\"url(#clip1902)\" style=\"stroke:#000000; stroke-width:4; stroke-opacity:1; fill:none\" points=\"\n",
       "  824.567,931.231 824.567,862.11 882.505,862.11 882.505,931.231 824.567,931.231 \n",
       "  \"/>\n",
       "<path clip-path=\"url(#clip1902)\" d=\"\n",
       "M1238.41 441.21 L1238.41 862.11 L1296.35 862.11 L1296.35 441.21 L1238.41 441.21 L1238.41 441.21  Z\n",
       "  \" fill=\"#3da44d\" fill-rule=\"evenodd\" fill-opacity=\"1\"/>\n",
       "<polyline clip-path=\"url(#clip1902)\" style=\"stroke:#000000; stroke-width:4; stroke-opacity:1; fill:none\" points=\"\n",
       "  1238.41,441.21 1238.41,862.11 1296.35,862.11 1296.35,441.21 1238.41,441.21 \n",
       "  \"/>\n",
       "<path clip-path=\"url(#clip1902)\" d=\"\n",
       "M1652.26 504.855 L1652.26 862.11 L1710.2 862.11 L1710.2 504.855 L1652.26 504.855 L1652.26 504.855  Z\n",
       "  \" fill=\"#3da44d\" fill-rule=\"evenodd\" fill-opacity=\"1\"/>\n",
       "<polyline clip-path=\"url(#clip1902)\" style=\"stroke:#000000; stroke-width:4; stroke-opacity:1; fill:none\" points=\"\n",
       "  1652.26,504.855 1652.26,862.11 1710.2,862.11 1710.2,504.855 1652.26,504.855 \n",
       "  \"/>\n",
       "<path clip-path=\"url(#clip1902)\" d=\"\n",
       "M2066.1 1325.95 L2066.1 862.11 L2124.04 862.11 L2124.04 1325.95 L2066.1 1325.95 L2066.1 1325.95  Z\n",
       "  \" fill=\"#3da44d\" fill-rule=\"evenodd\" fill-opacity=\"1\"/>\n",
       "<polyline clip-path=\"url(#clip1902)\" style=\"stroke:#000000; stroke-width:4; stroke-opacity:1; fill:none\" points=\"\n",
       "  2066.1,1325.95 2066.1,862.11 2124.04,862.11 2124.04,1325.95 2066.1,1325.95 \n",
       "  \"/>\n",
       "<path clip-path=\"url(#clip1902)\" d=\"\n",
       "M468.659 1054.05 L468.659 862.11 L526.598 862.11 L526.598 1054.05 L468.659 1054.05 L468.659 1054.05  Z\n",
       "  \" fill=\"#c271d2\" fill-rule=\"evenodd\" fill-opacity=\"1\"/>\n",
       "<polyline clip-path=\"url(#clip1902)\" style=\"stroke:#000000; stroke-width:4; stroke-opacity:1; fill:none\" points=\"\n",
       "  468.659,1054.05 468.659,862.11 526.598,862.11 526.598,1054.05 468.659,1054.05 \n",
       "  \"/>\n",
       "<path clip-path=\"url(#clip1902)\" d=\"\n",
       "M882.505 239.613 L882.505 862.11 L940.444 862.11 L940.444 239.613 L882.505 239.613 L882.505 239.613  Z\n",
       "  \" fill=\"#c271d2\" fill-rule=\"evenodd\" fill-opacity=\"1\"/>\n",
       "<polyline clip-path=\"url(#clip1902)\" style=\"stroke:#000000; stroke-width:4; stroke-opacity:1; fill:none\" points=\"\n",
       "  882.505,239.613 882.505,862.11 940.444,862.11 940.444,239.613 882.505,239.613 \n",
       "  \"/>\n",
       "<path clip-path=\"url(#clip1902)\" d=\"\n",
       "M1296.35 756.786 L1296.35 862.11 L1354.29 862.11 L1354.29 756.786 L1296.35 756.786 L1296.35 756.786  Z\n",
       "  \" fill=\"#c271d2\" fill-rule=\"evenodd\" fill-opacity=\"1\"/>\n",
       "<polyline clip-path=\"url(#clip1902)\" style=\"stroke:#000000; stroke-width:4; stroke-opacity:1; fill:none\" points=\"\n",
       "  1296.35,756.786 1296.35,862.11 1354.29,862.11 1354.29,756.786 1296.35,756.786 \n",
       "  \"/>\n",
       "<path clip-path=\"url(#clip1902)\" d=\"\n",
       "M1710.2 1193.75 L1710.2 862.11 L1768.14 862.11 L1768.14 1193.75 L1710.2 1193.75 L1710.2 1193.75  Z\n",
       "  \" fill=\"#c271d2\" fill-rule=\"evenodd\" fill-opacity=\"1\"/>\n",
       "<polyline clip-path=\"url(#clip1902)\" style=\"stroke:#000000; stroke-width:4; stroke-opacity:1; fill:none\" points=\"\n",
       "  1710.2,1193.75 1710.2,862.11 1768.14,862.11 1768.14,1193.75 1710.2,1193.75 \n",
       "  \"/>\n",
       "<path clip-path=\"url(#clip1902)\" d=\"\n",
       "M2124.04 907.656 L2124.04 862.11 L2181.98 862.11 L2181.98 907.656 L2124.04 907.656 L2124.04 907.656  Z\n",
       "  \" fill=\"#c271d2\" fill-rule=\"evenodd\" fill-opacity=\"1\"/>\n",
       "<polyline clip-path=\"url(#clip1902)\" style=\"stroke:#000000; stroke-width:4; stroke-opacity:1; fill:none\" points=\"\n",
       "  2124.04,907.656 2124.04,862.11 2181.98,862.11 2181.98,907.656 2124.04,907.656 \n",
       "  \"/>\n",
       "<path clip-path=\"url(#clip1902)\" d=\"\n",
       "M526.598 1288.82 L526.598 862.11 L584.536 862.11 L584.536 1288.82 L526.598 1288.82 L526.598 1288.82  Z\n",
       "  \" fill=\"#ac8d18\" fill-rule=\"evenodd\" fill-opacity=\"1\"/>\n",
       "<polyline clip-path=\"url(#clip1902)\" style=\"stroke:#000000; stroke-width:4; stroke-opacity:1; fill:none\" points=\"\n",
       "  526.598,1288.82 526.598,862.11 584.536,862.11 584.536,1288.82 526.598,1288.82 \n",
       "  \"/>\n",
       "<path clip-path=\"url(#clip1902)\" d=\"\n",
       "M940.444 963.453 L940.444 862.11 L998.382 862.11 L998.382 963.453 L940.444 963.453 L940.444 963.453  Z\n",
       "  \" fill=\"#ac8d18\" fill-rule=\"evenodd\" fill-opacity=\"1\"/>\n",
       "<polyline clip-path=\"url(#clip1902)\" style=\"stroke:#000000; stroke-width:4; stroke-opacity:1; fill:none\" points=\"\n",
       "  940.444,963.453 940.444,862.11 998.382,862.11 998.382,963.453 940.444,963.453 \n",
       "  \"/>\n",
       "<path clip-path=\"url(#clip1902)\" d=\"\n",
       "M1354.29 747.382 L1354.29 862.11 L1412.23 862.11 L1412.23 747.382 L1354.29 747.382 L1354.29 747.382  Z\n",
       "  \" fill=\"#ac8d18\" fill-rule=\"evenodd\" fill-opacity=\"1\"/>\n",
       "<polyline clip-path=\"url(#clip1902)\" style=\"stroke:#000000; stroke-width:4; stroke-opacity:1; fill:none\" points=\"\n",
       "  1354.29,747.382 1354.29,862.11 1412.23,862.11 1412.23,747.382 1354.29,747.382 \n",
       "  \"/>\n",
       "<path clip-path=\"url(#clip1902)\" d=\"\n",
       "M1768.14 900.885 L1768.14 862.11 L1826.07 862.11 L1826.07 900.885 L1768.14 900.885 L1768.14 900.885  Z\n",
       "  \" fill=\"#ac8d18\" fill-rule=\"evenodd\" fill-opacity=\"1\"/>\n",
       "<polyline clip-path=\"url(#clip1902)\" style=\"stroke:#000000; stroke-width:4; stroke-opacity:1; fill:none\" points=\"\n",
       "  1768.14,900.885 1768.14,862.11 1826.07,862.11 1826.07,900.885 1768.14,900.885 \n",
       "  \"/>\n",
       "<path clip-path=\"url(#clip1902)\" d=\"\n",
       "M2181.98 329.163 L2181.98 862.11 L2239.92 862.11 L2239.92 329.163 L2181.98 329.163 L2181.98 329.163  Z\n",
       "  \" fill=\"#ac8d18\" fill-rule=\"evenodd\" fill-opacity=\"1\"/>\n",
       "<polyline clip-path=\"url(#clip1902)\" style=\"stroke:#000000; stroke-width:4; stroke-opacity:1; fill:none\" points=\"\n",
       "  2181.98,329.163 2181.98,862.11 2239.92,862.11 2239.92,329.163 2181.98,329.163 \n",
       "  \"/>\n",
       "<path clip-path=\"url(#clip1900)\" d=\"\n",
       "M1882.93 493.644 L2280.76 493.644 L2280.76 130.764 L1882.93 130.764  Z\n",
       "  \" fill=\"#ffffff\" fill-rule=\"evenodd\" fill-opacity=\"1\"/>\n",
       "<polyline clip-path=\"url(#clip1900)\" style=\"stroke:#000000; stroke-width:4; stroke-opacity:1; fill:none\" points=\"\n",
       "  1882.93,493.644 2280.76,493.644 2280.76,130.764 1882.93,130.764 1882.93,493.644 \n",
       "  \"/>\n",
       "<path clip-path=\"url(#clip1900)\" d=\"\n",
       "M1906.93 215.436 L2050.93 215.436 L2050.93 167.052 L1906.93 167.052 L1906.93 215.436  Z\n",
       "  \" fill=\"#009af9\" fill-rule=\"evenodd\" fill-opacity=\"1\"/>\n",
       "<polyline clip-path=\"url(#clip1900)\" style=\"stroke:#000000; stroke-width:4; stroke-opacity:1; fill:none\" points=\"\n",
       "  1906.93,215.436 2050.93,215.436 2050.93,167.052 1906.93,167.052 1906.93,215.436 \n",
       "  \"/>\n",
       "<g clip-path=\"url(#clip1900)\">\n",
       "<text style=\"fill:#000000; fill-opacity:1; font-family:Arial,Helvetica Neue,Helvetica,sans-serif; font-size:48px; text-anchor:start;\" transform=\"rotate(0, 2074.93, 208.744)\" x=\"2074.93\" y=\"208.744\">Topic 1</text>\n",
       "</g>\n",
       "<path clip-path=\"url(#clip1900)\" d=\"\n",
       "M1906.93 275.916 L2050.93 275.916 L2050.93 227.532 L1906.93 227.532 L1906.93 275.916  Z\n",
       "  \" fill=\"#e26f46\" fill-rule=\"evenodd\" fill-opacity=\"1\"/>\n",
       "<polyline clip-path=\"url(#clip1900)\" style=\"stroke:#000000; stroke-width:4; stroke-opacity:1; fill:none\" points=\"\n",
       "  1906.93,275.916 2050.93,275.916 2050.93,227.532 1906.93,227.532 1906.93,275.916 \n",
       "  \"/>\n",
       "<g clip-path=\"url(#clip1900)\">\n",
       "<text style=\"fill:#000000; fill-opacity:1; font-family:Arial,Helvetica Neue,Helvetica,sans-serif; font-size:48px; text-anchor:start;\" transform=\"rotate(0, 2074.93, 269.224)\" x=\"2074.93\" y=\"269.224\">Topic 2</text>\n",
       "</g>\n",
       "<path clip-path=\"url(#clip1900)\" d=\"\n",
       "M1906.93 336.396 L2050.93 336.396 L2050.93 288.012 L1906.93 288.012 L1906.93 336.396  Z\n",
       "  \" fill=\"#3da44d\" fill-rule=\"evenodd\" fill-opacity=\"1\"/>\n",
       "<polyline clip-path=\"url(#clip1900)\" style=\"stroke:#000000; stroke-width:4; stroke-opacity:1; fill:none\" points=\"\n",
       "  1906.93,336.396 2050.93,336.396 2050.93,288.012 1906.93,288.012 1906.93,336.396 \n",
       "  \"/>\n",
       "<g clip-path=\"url(#clip1900)\">\n",
       "<text style=\"fill:#000000; fill-opacity:1; font-family:Arial,Helvetica Neue,Helvetica,sans-serif; font-size:48px; text-anchor:start;\" transform=\"rotate(0, 2074.93, 329.704)\" x=\"2074.93\" y=\"329.704\">Topic 3</text>\n",
       "</g>\n",
       "<path clip-path=\"url(#clip1900)\" d=\"\n",
       "M1906.93 396.876 L2050.93 396.876 L2050.93 348.492 L1906.93 348.492 L1906.93 396.876  Z\n",
       "  \" fill=\"#c271d2\" fill-rule=\"evenodd\" fill-opacity=\"1\"/>\n",
       "<polyline clip-path=\"url(#clip1900)\" style=\"stroke:#000000; stroke-width:4; stroke-opacity:1; fill:none\" points=\"\n",
       "  1906.93,396.876 2050.93,396.876 2050.93,348.492 1906.93,348.492 1906.93,396.876 \n",
       "  \"/>\n",
       "<g clip-path=\"url(#clip1900)\">\n",
       "<text style=\"fill:#000000; fill-opacity:1; font-family:Arial,Helvetica Neue,Helvetica,sans-serif; font-size:48px; text-anchor:start;\" transform=\"rotate(0, 2074.93, 390.184)\" x=\"2074.93\" y=\"390.184\">Topic 4</text>\n",
       "</g>\n",
       "<path clip-path=\"url(#clip1900)\" d=\"\n",
       "M1906.93 457.356 L2050.93 457.356 L2050.93 408.972 L1906.93 408.972 L1906.93 457.356  Z\n",
       "  \" fill=\"#ac8d18\" fill-rule=\"evenodd\" fill-opacity=\"1\"/>\n",
       "<polyline clip-path=\"url(#clip1900)\" style=\"stroke:#000000; stroke-width:4; stroke-opacity:1; fill:none\" points=\"\n",
       "  1906.93,457.356 2050.93,457.356 2050.93,408.972 1906.93,408.972 1906.93,457.356 \n",
       "  \"/>\n",
       "<g clip-path=\"url(#clip1900)\">\n",
       "<text style=\"fill:#000000; fill-opacity:1; font-family:Arial,Helvetica Neue,Helvetica,sans-serif; font-size:48px; text-anchor:start;\" transform=\"rotate(0, 2074.93, 450.664)\" x=\"2074.93\" y=\"450.664\">Topic 5</text>\n",
       "</g>\n",
       "</svg>\n"
      ]
     },
     "execution_count": 31,
     "metadata": {},
     "output_type": "execute_result"
    }
   ],
   "source": [
    "@df mean_topic groupedbar(:Category, :value, group = :variable, xlabel = \"Category\",\n",
    "        bar_width = 0.7, framestyle = :box)"
   ]
  },
  {
   "cell_type": "markdown",
   "metadata": {},
   "source": [
    "#### Topics weights of most frequent words"
   ]
  },
  {
   "cell_type": "code",
   "execution_count": 32,
   "metadata": {
    "ExecuteTime": {
     "end_time": "2020-06-20T19:15:30.185249Z",
     "start_time": "2020-06-20T19:15:30.169878Z"
    },
    "scrolled": true,
    "slideshow": {
     "slide_type": "slide"
    }
   },
   "outputs": [
    {
     "data": {
      "text/html": [
       "<table class=\"data-frame\"><thead><tr><th></th><th>tokens</th><th>Topic 1</th><th>Topic 2</th><th>Topic 3</th><th>Topic 4</th><th>Topic 5</th></tr><tr><th></th><th>String</th><th>Float64</th><th>Float64</th><th>Float64</th><th>Float64</th><th>Float64</th></tr></thead><tbody><p>2,916 rows × 6 columns</p><tr><th>1</th><td>000</td><td>0.073354</td><td>0.0301494</td><td>-0.0448263</td><td>0.00320435</td><td>-0.0135903</td></tr><tr><th>2</th><td>000m</td><td>0.00831415</td><td>-0.0142964</td><td>0.00997554</td><td>-0.00486066</td><td>-0.00707117</td></tr><tr><th>3</th><td>10</td><td>0.052787</td><td>-0.00992789</td><td>-0.0204954</td><td>-0.000303005</td><td>-0.0152851</td></tr><tr><th>4</th><td>100</td><td>0.0246822</td><td>0.00763008</td><td>-0.0116961</td><td>-0.000973355</td><td>0.00383153</td></tr><tr><th>5</th><td>100m</td><td>0.00858989</td><td>-0.00721062</td><td>0.00106946</td><td>-0.00069513</td><td>-0.00760516</td></tr><tr><th>6</th><td>11</td><td>0.0290734</td><td>-0.00960399</td><td>-0.0119689</td><td>0.0194954</td><td>-0.0234034</td></tr><tr><th>7</th><td>12</td><td>0.0330621</td><td>-0.00956552</td><td>-0.0171083</td><td>-0.00498418</td><td>-0.0179496</td></tr><tr><th>8</th><td>120</td><td>0.00519548</td><td>0.000854777</td><td>-0.00565851</td><td>-0.00152267</td><td>0.00376925</td></tr><tr><th>9</th><td>13</td><td>0.0208595</td><td>-0.0154438</td><td>-0.00277863</td><td>0.00172078</td><td>-0.0163059</td></tr><tr><th>10</th><td>14</td><td>0.0201745</td><td>-0.00315308</td><td>-0.00375542</td><td>-0.00326075</td><td>-0.00660142</td></tr><tr><th>11</th><td>15</td><td>0.0258982</td><td>-0.00461427</td><td>-0.0131108</td><td>-0.00466798</td><td>-0.0128859</td></tr><tr><th>12</th><td>150</td><td>0.00793847</td><td>0.00235657</td><td>-0.00284533</td><td>-0.00228478</td><td>-0.00175772</td></tr><tr><th>13</th><td>16</td><td>0.0209328</td><td>-0.00120575</td><td>-0.00116579</td><td>-0.00476417</td><td>-0.0124702</td></tr><tr><th>14</th><td>17</td><td>0.0224311</td><td>-0.0163999</td><td>0.00497734</td><td>-0.0120215</td><td>-0.0144412</td></tr><tr><th>15</th><td>18</td><td>0.0267502</td><td>-0.0167441</td><td>0.000749873</td><td>-0.0086831</td><td>-0.00840418</td></tr><tr><th>16</th><td>19</td><td>0.0171776</td><td>-0.0151589</td><td>-0.000254807</td><td>-0.00589868</td><td>-0.0119144</td></tr><tr><th>17</th><td>1980s</td><td>0.00833568</td><td>-0.00344916</td><td>-0.00440552</td><td>0.0104607</td><td>0.00314913</td></tr><tr><th>18</th><td>1990s</td><td>0.00828185</td><td>0.0038042</td><td>-0.0089099</td><td>0.000150566</td><td>-0.00605061</td></tr><tr><th>19</th><td>1993</td><td>0.00606498</td><td>-0.00380306</td><td>-0.00194956</td><td>0.00423655</td><td>-0.00202418</td></tr><tr><th>20</th><td>1994</td><td>0.00937945</td><td>-0.00726528</td><td>0.00161592</td><td>0.0044177</td><td>-1.34236e-5</td></tr><tr><th>21</th><td>1995</td><td>0.00486903</td><td>-0.00249167</td><td>-0.00255061</td><td>0.00191118</td><td>-0.000833179</td></tr><tr><th>22</th><td>1997</td><td>0.0139006</td><td>0.0124414</td><td>0.0164108</td><td>0.0061477</td><td>-0.000182223</td></tr><tr><th>23</th><td>1998</td><td>0.0113256</td><td>-0.0106035</td><td>0.00606944</td><td>-0.00280328</td><td>-0.00469648</td></tr><tr><th>24</th><td>1999</td><td>0.010454</td><td>-0.0036207</td><td>0.0053976</td><td>0.00656575</td><td>-0.00336555</td></tr><tr><th>25</th><td>1bn</td><td>0.0133635</td><td>0.0120521</td><td>-0.0167209</td><td>-0.00974006</td><td>-0.0241993</td></tr><tr><th>26</th><td>1m</td><td>0.0103798</td><td>-0.00173746</td><td>-0.00742681</td><td>0.00926078</td><td>-0.0108457</td></tr><tr><th>27</th><td>20</td><td>0.0327692</td><td>-0.00552539</td><td>-0.0154718</td><td>-0.000775462</td><td>-0.00809861</td></tr><tr><th>28</th><td>200</td><td>0.0138011</td><td>0.00246418</td><td>-0.0114482</td><td>0.000806536</td><td>0.0034833</td></tr><tr><th>29</th><td>2000</td><td>0.0199245</td><td>-0.00924028</td><td>-0.00109872</td><td>-0.0125423</td><td>-0.0118427</td></tr><tr><th>30</th><td>2001</td><td>0.026166</td><td>0.00706388</td><td>0.0050592</td><td>0.00669305</td><td>-0.0144033</td></tr><tr><th>&vellip;</th><td>&vellip;</td><td>&vellip;</td><td>&vellip;</td><td>&vellip;</td><td>&vellip;</td><td>&vellip;</td></tr></tbody></table>"
      ],
      "text/latex": [
       "\\begin{tabular}{r|cccccc}\n",
       "\t& tokens & Topic 1 & Topic 2 & Topic 3 & Topic 4 & Topic 5\\\\\n",
       "\t\\hline\n",
       "\t& String & Float64 & Float64 & Float64 & Float64 & Float64\\\\\n",
       "\t\\hline\n",
       "\t1 & 000 & 0.073354 & 0.0301494 & -0.0448263 & 0.00320435 & -0.0135903 \\\\\n",
       "\t2 & 000m & 0.00831415 & -0.0142964 & 0.00997554 & -0.00486066 & -0.00707117 \\\\\n",
       "\t3 & 10 & 0.052787 & -0.00992789 & -0.0204954 & -0.000303005 & -0.0152851 \\\\\n",
       "\t4 & 100 & 0.0246822 & 0.00763008 & -0.0116961 & -0.000973355 & 0.00383153 \\\\\n",
       "\t5 & 100m & 0.00858989 & -0.00721062 & 0.00106946 & -0.00069513 & -0.00760516 \\\\\n",
       "\t6 & 11 & 0.0290734 & -0.00960399 & -0.0119689 & 0.0194954 & -0.0234034 \\\\\n",
       "\t7 & 12 & 0.0330621 & -0.00956552 & -0.0171083 & -0.00498418 & -0.0179496 \\\\\n",
       "\t8 & 120 & 0.00519548 & 0.000854777 & -0.00565851 & -0.00152267 & 0.00376925 \\\\\n",
       "\t9 & 13 & 0.0208595 & -0.0154438 & -0.00277863 & 0.00172078 & -0.0163059 \\\\\n",
       "\t10 & 14 & 0.0201745 & -0.00315308 & -0.00375542 & -0.00326075 & -0.00660142 \\\\\n",
       "\t11 & 15 & 0.0258982 & -0.00461427 & -0.0131108 & -0.00466798 & -0.0128859 \\\\\n",
       "\t12 & 150 & 0.00793847 & 0.00235657 & -0.00284533 & -0.00228478 & -0.00175772 \\\\\n",
       "\t13 & 16 & 0.0209328 & -0.00120575 & -0.00116579 & -0.00476417 & -0.0124702 \\\\\n",
       "\t14 & 17 & 0.0224311 & -0.0163999 & 0.00497734 & -0.0120215 & -0.0144412 \\\\\n",
       "\t15 & 18 & 0.0267502 & -0.0167441 & 0.000749873 & -0.0086831 & -0.00840418 \\\\\n",
       "\t16 & 19 & 0.0171776 & -0.0151589 & -0.000254807 & -0.00589868 & -0.0119144 \\\\\n",
       "\t17 & 1980s & 0.00833568 & -0.00344916 & -0.00440552 & 0.0104607 & 0.00314913 \\\\\n",
       "\t18 & 1990s & 0.00828185 & 0.0038042 & -0.0089099 & 0.000150566 & -0.00605061 \\\\\n",
       "\t19 & 1993 & 0.00606498 & -0.00380306 & -0.00194956 & 0.00423655 & -0.00202418 \\\\\n",
       "\t20 & 1994 & 0.00937945 & -0.00726528 & 0.00161592 & 0.0044177 & -1.34236e-5 \\\\\n",
       "\t21 & 1995 & 0.00486903 & -0.00249167 & -0.00255061 & 0.00191118 & -0.000833179 \\\\\n",
       "\t22 & 1997 & 0.0139006 & 0.0124414 & 0.0164108 & 0.0061477 & -0.000182223 \\\\\n",
       "\t23 & 1998 & 0.0113256 & -0.0106035 & 0.00606944 & -0.00280328 & -0.00469648 \\\\\n",
       "\t24 & 1999 & 0.010454 & -0.0036207 & 0.0053976 & 0.00656575 & -0.00336555 \\\\\n",
       "\t25 & 1bn & 0.0133635 & 0.0120521 & -0.0167209 & -0.00974006 & -0.0241993 \\\\\n",
       "\t26 & 1m & 0.0103798 & -0.00173746 & -0.00742681 & 0.00926078 & -0.0108457 \\\\\n",
       "\t27 & 20 & 0.0327692 & -0.00552539 & -0.0154718 & -0.000775462 & -0.00809861 \\\\\n",
       "\t28 & 200 & 0.0138011 & 0.00246418 & -0.0114482 & 0.000806536 & 0.0034833 \\\\\n",
       "\t29 & 2000 & 0.0199245 & -0.00924028 & -0.00109872 & -0.0125423 & -0.0118427 \\\\\n",
       "\t30 & 2001 & 0.026166 & 0.00706388 & 0.0050592 & 0.00669305 & -0.0144033 \\\\\n",
       "\t$\\dots$ & $\\dots$ & $\\dots$ & $\\dots$ & $\\dots$ & $\\dots$ & $\\dots$ \\\\\n",
       "\\end{tabular}\n"
      ],
      "text/plain": [
       "2916×6 DataFrame. Omitted printing of 1 columns\n",
       "│ Row  │ tokens  │ Topic 1    │ Topic 2     │ Topic 3      │ Topic 4      │\n",
       "│      │ \u001b[90mString\u001b[39m  │ \u001b[90mFloat64\u001b[39m    │ \u001b[90mFloat64\u001b[39m     │ \u001b[90mFloat64\u001b[39m      │ \u001b[90mFloat64\u001b[39m      │\n",
       "├──────┼─────────┼────────────┼─────────────┼──────────────┼──────────────┤\n",
       "│ 1    │ 000     │ 0.073354   │ 0.0301494   │ -0.0448263   │ 0.00320435   │\n",
       "│ 2    │ 000m    │ 0.00831415 │ -0.0142964  │ 0.00997554   │ -0.00486066  │\n",
       "│ 3    │ 10      │ 0.052787   │ -0.00992789 │ -0.0204954   │ -0.000303005 │\n",
       "│ 4    │ 100     │ 0.0246822  │ 0.00763008  │ -0.0116961   │ -0.000973355 │\n",
       "│ 5    │ 100m    │ 0.00858989 │ -0.00721062 │ 0.00106946   │ -0.00069513  │\n",
       "│ 6    │ 11      │ 0.0290734  │ -0.00960399 │ -0.0119689   │ 0.0194954    │\n",
       "│ 7    │ 12      │ 0.0330621  │ -0.00956552 │ -0.0171083   │ -0.00498418  │\n",
       "│ 8    │ 120     │ 0.00519548 │ 0.000854777 │ -0.00565851  │ -0.00152267  │\n",
       "│ 9    │ 13      │ 0.0208595  │ -0.0154438  │ -0.00277863  │ 0.00172078   │\n",
       "│ 10   │ 14      │ 0.0201745  │ -0.00315308 │ -0.00375542  │ -0.00326075  │\n",
       "⋮\n",
       "│ 2906 │ written │ 0.0136276  │ 0.000621682 │ -0.000384429 │ 0.0108277    │\n",
       "│ 2907 │ wrong   │ 0.0176959  │ 0.00777167  │ 0.0150578    │ 0.000167954  │\n",
       "│ 2908 │ wrote   │ 0.00955625 │ -0.00522273 │ -0.00105144  │ 0.0164219    │\n",
       "│ 2909 │ xbox    │ 0.0133967  │ -0.011571   │ -0.0191541   │ -0.00394904  │\n",
       "│ 2910 │ yen     │ 0.0106636  │ 0.00400255  │ -0.0199202   │ -0.00119035  │\n",
       "│ 2911 │ yes     │ 0.00618424 │ 0.00171618  │ 0.00426009   │ -0.000487222 │\n",
       "│ 2912 │ york    │ 0.0227775  │ -0.00576646 │ -0.0195319   │ 0.0122899    │\n",
       "│ 2913 │ young   │ 0.0272341  │ -0.0144239  │ 0.0135716    │ 0.0202304    │\n",
       "│ 2914 │ younger │ 0.00791857 │ -0.00122124 │ 0.000800103  │ 0.00184428   │\n",
       "│ 2915 │ yukos   │ 0.0264052  │ 0.030273    │ -0.040507    │ -0.0273384   │\n",
       "│ 2916 │ zealand │ 0.0139813  │ -0.0258207  │ 0.0227356    │ -0.0233242   │"
      ]
     },
     "execution_count": 32,
     "metadata": {},
     "output_type": "execute_result"
    }
   ],
   "source": [
    "topics = DataFrame()\n",
    "topics[!, \"tokens\"] = tokens\n",
    "topics = hcat(topics, rename!(DataFrame(transpose(svd.components_)), topic_labels))"
   ]
  },
  {
   "cell_type": "code",
   "execution_count": 33,
   "metadata": {
    "scrolled": true
   },
   "outputs": [
    {
     "data": {
      "text/html": [
       "<table class=\"data-frame\"><thead><tr><th></th><th>tokens</th><th>Topic 1</th><th>Topic 2</th><th>Topic 3</th><th>Topic 4</th><th>Topic 5</th></tr><tr><th></th><th>String</th><th>Float64</th><th>Float64</th><th>Float64</th><th>Float64</th><th>Float64</th></tr></thead><tbody><p>10 rows × 6 columns</p><tr><th>1</th><td>000</td><td>0.073354</td><td>0.0301494</td><td>-0.0448263</td><td>0.00320435</td><td>-0.0135903</td></tr><tr><th>2</th><td>best</td><td>0.0881385</td><td>-0.148765</td><td>0.0187205</td><td>0.265012</td><td>-0.0919023</td></tr><tr><th>3</th><td>company</td><td>0.0676904</td><td>0.0241524</td><td>-0.102083</td><td>-0.0286386</td><td>-0.0533842</td></tr><tr><th>4</th><td>film</td><td>0.0961348</td><td>-0.157814</td><td>-0.0377612</td><td>0.456717</td><td>-0.108233</td></tr><tr><th>5</th><td>game</td><td>0.0926504</td><td>-0.166152</td><td>0.07465</td><td>-0.113137</td><td>0.0563239</td></tr><tr><th>6</th><td>government</td><td>0.105798</td><td>0.15857</td><td>0.0506916</td><td>0.000577247</td><td>-0.0319563</td></tr><tr><th>7</th><td>labour</td><td>0.100147</td><td>0.237866</td><td>0.227163</td><td>0.0719322</td><td>0.0547026</td></tr><tr><th>8</th><td>music</td><td>0.0787689</td><td>-0.0501553</td><td>-0.114408</td><td>0.0806066</td><td>0.140237</td></tr><tr><th>9</th><td>number</td><td>0.0701413</td><td>-0.0397709</td><td>-0.0194847</td><td>0.0302838</td><td>0.0035991</td></tr><tr><th>10</th><td>uk</td><td>0.0924235</td><td>0.0302605</td><td>-0.0559023</td><td>0.0413432</td><td>0.0128992</td></tr></tbody></table>"
      ],
      "text/latex": [
       "\\begin{tabular}{r|cccccc}\n",
       "\t& tokens & Topic 1 & Topic 2 & Topic 3 & Topic 4 & Topic 5\\\\\n",
       "\t\\hline\n",
       "\t& String & Float64 & Float64 & Float64 & Float64 & Float64\\\\\n",
       "\t\\hline\n",
       "\t1 & 000 & 0.073354 & 0.0301494 & -0.0448263 & 0.00320435 & -0.0135903 \\\\\n",
       "\t2 & best & 0.0881385 & -0.148765 & 0.0187205 & 0.265012 & -0.0919023 \\\\\n",
       "\t3 & company & 0.0676904 & 0.0241524 & -0.102083 & -0.0286386 & -0.0533842 \\\\\n",
       "\t4 & film & 0.0961348 & -0.157814 & -0.0377612 & 0.456717 & -0.108233 \\\\\n",
       "\t5 & game & 0.0926504 & -0.166152 & 0.07465 & -0.113137 & 0.0563239 \\\\\n",
       "\t6 & government & 0.105798 & 0.15857 & 0.0506916 & 0.000577247 & -0.0319563 \\\\\n",
       "\t7 & labour & 0.100147 & 0.237866 & 0.227163 & 0.0719322 & 0.0547026 \\\\\n",
       "\t8 & music & 0.0787689 & -0.0501553 & -0.114408 & 0.0806066 & 0.140237 \\\\\n",
       "\t9 & number & 0.0701413 & -0.0397709 & -0.0194847 & 0.0302838 & 0.0035991 \\\\\n",
       "\t10 & uk & 0.0924235 & 0.0302605 & -0.0559023 & 0.0413432 & 0.0128992 \\\\\n",
       "\\end{tabular}\n"
      ],
      "text/plain": [
       "10×6 DataFrame. Omitted printing of 1 columns\n",
       "│ Row │ tokens     │ Topic 1   │ Topic 2    │ Topic 3    │ Topic 4     │\n",
       "│     │ \u001b[90mString\u001b[39m     │ \u001b[90mFloat64\u001b[39m   │ \u001b[90mFloat64\u001b[39m    │ \u001b[90mFloat64\u001b[39m    │ \u001b[90mFloat64\u001b[39m     │\n",
       "├─────┼────────────┼───────────┼────────────┼────────────┼─────────────┤\n",
       "│ 1   │ 000        │ 0.073354  │ 0.0301494  │ -0.0448263 │ 0.00320435  │\n",
       "│ 2   │ best       │ 0.0881385 │ -0.148765  │ 0.0187205  │ 0.265012    │\n",
       "│ 3   │ company    │ 0.0676904 │ 0.0241524  │ -0.102083  │ -0.0286386  │\n",
       "│ 4   │ film       │ 0.0961348 │ -0.157814  │ -0.0377612 │ 0.456717    │\n",
       "│ 5   │ game       │ 0.0926504 │ -0.166152  │ 0.07465    │ -0.113137   │\n",
       "│ 6   │ government │ 0.105798  │ 0.15857    │ 0.0506916  │ 0.000577247 │\n",
       "│ 7   │ labour     │ 0.100147  │ 0.237866   │ 0.227163   │ 0.0719322   │\n",
       "│ 8   │ music      │ 0.0787689 │ -0.0501553 │ -0.114408  │ 0.0806066   │\n",
       "│ 9   │ number     │ 0.0701413 │ -0.0397709 │ -0.0194847 │ 0.0302838   │\n",
       "│ 10  │ uk         │ 0.0924235 │ 0.0302605  │ -0.0559023 │ 0.0413432   │"
      ]
     },
     "execution_count": 33,
     "metadata": {},
     "output_type": "execute_result"
    }
   ],
   "source": [
    "filter(row -> row.tokens ∈ first(word_count, 10).tokens, topics)"
   ]
  },
  {
   "cell_type": "markdown",
   "metadata": {},
   "source": [
    "#### Most important words by topic"
   ]
  },
  {
   "cell_type": "markdown",
   "metadata": {},
   "source": [
    "We can also display the words that are most closely associated with each topic (in absolute terms). The topics appear to capture some semantic information but are not clearly differentiated"
   ]
  },
  {
   "cell_type": "code",
   "execution_count": 34,
   "metadata": {},
   "outputs": [],
   "source": [
    "top_words = DataFrames.DataFrame()\n",
    "top_vals = DataFrames.DataFrame()\n",
    "for topic_label ∈ topic_labels\n",
    "    top = sort!(DataFrames.select(topics, [\"tokens\", topic_label]), topic_label, rev=true)[1:10, :]\n",
    "    top_words = hcat(top_words, rename!(DataFrames.select(top, :tokens), [topic_label]))\n",
    "    top_vals = hcat(top_vals, DataFrames.select(top, topic_label))\n",
    "end"
   ]
  },
  {
   "cell_type": "code",
   "execution_count": 35,
   "metadata": {},
   "outputs": [
    {
     "data": {
      "text/html": [
       "<table class=\"data-frame\"><thead><tr><th></th><th>Topic 1</th><th>Topic 2</th><th>Topic 3</th><th>Topic 4</th><th>Topic 5</th></tr><tr><th></th><th>String</th><th>String</th><th>String</th><th>String</th><th>String</th></tr></thead><tbody><p>10 rows × 5 columns</p><tr><th>1</th><td>government</td><td>labour</td><td>labour</td><td>film</td><td>mobile</td></tr><tr><th>2</th><td>labour</td><td>election</td><td>election</td><td>best</td><td>music</td></tr><tr><th>3</th><td>film</td><td>blair</td><td>blair</td><td>awards</td><td>technology</td></tr><tr><th>4</th><td>game</td><td>party</td><td>party</td><td>award</td><td>users</td></tr><tr><th>5</th><td>uk</td><td>government</td><td>brown</td><td>actor</td><td>software</td></tr><tr><th>6</th><td>best</td><td>brown</td><td>england</td><td>actress</td><td>phone</td></tr><tr><th>7</th><td>election</td><td>tax</td><td>howard</td><td>oscar</td><td>digital</td></tr><tr><th>8</th><td>blair</td><td>minister</td><td>win</td><td>festival</td><td>microsoft</td></tr><tr><th>9</th><td>music</td><td>chancellor</td><td>prime</td><td>films</td><td>phones</td></tr><tr><th>10</th><td>party</td><td>prime</td><td>minister</td><td>director</td><td>computer</td></tr></tbody></table>"
      ],
      "text/latex": [
       "\\begin{tabular}{r|ccccc}\n",
       "\t& Topic 1 & Topic 2 & Topic 3 & Topic 4 & Topic 5\\\\\n",
       "\t\\hline\n",
       "\t& String & String & String & String & String\\\\\n",
       "\t\\hline\n",
       "\t1 & government & labour & labour & film & mobile \\\\\n",
       "\t2 & labour & election & election & best & music \\\\\n",
       "\t3 & film & blair & blair & awards & technology \\\\\n",
       "\t4 & game & party & party & award & users \\\\\n",
       "\t5 & uk & government & brown & actor & software \\\\\n",
       "\t6 & best & brown & england & actress & phone \\\\\n",
       "\t7 & election & tax & howard & oscar & digital \\\\\n",
       "\t8 & blair & minister & win & festival & microsoft \\\\\n",
       "\t9 & music & chancellor & prime & films & phones \\\\\n",
       "\t10 & party & prime & minister & director & computer \\\\\n",
       "\\end{tabular}\n"
      ],
      "text/plain": [
       "10×5 DataFrame\n",
       "│ Row │ Topic 1    │ Topic 2    │ Topic 3  │ Topic 4  │ Topic 5    │\n",
       "│     │ \u001b[90mString\u001b[39m     │ \u001b[90mString\u001b[39m     │ \u001b[90mString\u001b[39m   │ \u001b[90mString\u001b[39m   │ \u001b[90mString\u001b[39m     │\n",
       "├─────┼────────────┼────────────┼──────────┼──────────┼────────────┤\n",
       "│ 1   │ government │ labour     │ labour   │ film     │ mobile     │\n",
       "│ 2   │ labour     │ election   │ election │ best     │ music      │\n",
       "│ 3   │ film       │ blair      │ blair    │ awards   │ technology │\n",
       "│ 4   │ game       │ party      │ party    │ award    │ users      │\n",
       "│ 5   │ uk         │ government │ brown    │ actor    │ software   │\n",
       "│ 6   │ best       │ brown      │ england  │ actress  │ phone      │\n",
       "│ 7   │ election   │ tax        │ howard   │ oscar    │ digital    │\n",
       "│ 8   │ blair      │ minister   │ win      │ festival │ microsoft  │\n",
       "│ 9   │ music      │ chancellor │ prime    │ films    │ phones     │\n",
       "│ 10  │ party      │ prime      │ minister │ director │ computer   │"
      ]
     },
     "execution_count": 35,
     "metadata": {},
     "output_type": "execute_result"
    }
   ],
   "source": [
    "top_words"
   ]
  },
  {
   "cell_type": "code",
   "execution_count": 36,
   "metadata": {},
   "outputs": [
    {
     "data": {
      "text/html": [
       "<table class=\"data-frame\"><thead><tr><th></th><th>Topic 1</th><th>Topic 2</th><th>Topic 3</th><th>Topic 4</th><th>Topic 5</th></tr><tr><th></th><th>Float64</th><th>Float64</th><th>Float64</th><th>Float64</th><th>Float64</th></tr></thead><tbody><p>10 rows × 5 columns</p><tr><th>1</th><td>0.105798</td><td>0.237866</td><td>0.227163</td><td>0.456717</td><td>0.179431</td></tr><tr><th>2</th><td>0.100147</td><td>0.200449</td><td>0.182054</td><td>0.265012</td><td>0.140237</td></tr><tr><th>3</th><td>0.0961348</td><td>0.176897</td><td>0.181261</td><td>0.181945</td><td>0.13774</td></tr><tr><th>4</th><td>0.0926504</td><td>0.161601</td><td>0.160321</td><td>0.165571</td><td>0.137473</td></tr><tr><th>5</th><td>0.0924235</td><td>0.15857</td><td>0.142661</td><td>0.131398</td><td>0.132005</td></tr><tr><th>6</th><td>0.0881385</td><td>0.14416</td><td>0.10848</td><td>0.120886</td><td>0.12774</td></tr><tr><th>7</th><td>0.0855905</td><td>0.121872</td><td>0.0945637</td><td>0.116099</td><td>0.120266</td></tr><tr><th>8</th><td>0.0796312</td><td>0.110401</td><td>0.091982</td><td>0.11277</td><td>0.109763</td></tr><tr><th>9</th><td>0.0787689</td><td>0.100929</td><td>0.0909098</td><td>0.111256</td><td>0.098561</td></tr><tr><th>10</th><td>0.0786458</td><td>0.0985933</td><td>0.0864182</td><td>0.0938884</td><td>0.0979591</td></tr></tbody></table>"
      ],
      "text/latex": [
       "\\begin{tabular}{r|ccccc}\n",
       "\t& Topic 1 & Topic 2 & Topic 3 & Topic 4 & Topic 5\\\\\n",
       "\t\\hline\n",
       "\t& Float64 & Float64 & Float64 & Float64 & Float64\\\\\n",
       "\t\\hline\n",
       "\t1 & 0.105798 & 0.237866 & 0.227163 & 0.456717 & 0.179431 \\\\\n",
       "\t2 & 0.100147 & 0.200449 & 0.182054 & 0.265012 & 0.140237 \\\\\n",
       "\t3 & 0.0961348 & 0.176897 & 0.181261 & 0.181945 & 0.13774 \\\\\n",
       "\t4 & 0.0926504 & 0.161601 & 0.160321 & 0.165571 & 0.137473 \\\\\n",
       "\t5 & 0.0924235 & 0.15857 & 0.142661 & 0.131398 & 0.132005 \\\\\n",
       "\t6 & 0.0881385 & 0.14416 & 0.10848 & 0.120886 & 0.12774 \\\\\n",
       "\t7 & 0.0855905 & 0.121872 & 0.0945637 & 0.116099 & 0.120266 \\\\\n",
       "\t8 & 0.0796312 & 0.110401 & 0.091982 & 0.11277 & 0.109763 \\\\\n",
       "\t9 & 0.0787689 & 0.100929 & 0.0909098 & 0.111256 & 0.098561 \\\\\n",
       "\t10 & 0.0786458 & 0.0985933 & 0.0864182 & 0.0938884 & 0.0979591 \\\\\n",
       "\\end{tabular}\n"
      ],
      "text/plain": [
       "10×5 DataFrame\n",
       "│ Row │ Topic 1   │ Topic 2   │ Topic 3   │ Topic 4   │ Topic 5   │\n",
       "│     │ \u001b[90mFloat64\u001b[39m   │ \u001b[90mFloat64\u001b[39m   │ \u001b[90mFloat64\u001b[39m   │ \u001b[90mFloat64\u001b[39m   │ \u001b[90mFloat64\u001b[39m   │\n",
       "├─────┼───────────┼───────────┼───────────┼───────────┼───────────┤\n",
       "│ 1   │ 0.105798  │ 0.237866  │ 0.227163  │ 0.456717  │ 0.179431  │\n",
       "│ 2   │ 0.100147  │ 0.200449  │ 0.182054  │ 0.265012  │ 0.140237  │\n",
       "│ 3   │ 0.0961348 │ 0.176897  │ 0.181261  │ 0.181945  │ 0.13774   │\n",
       "│ 4   │ 0.0926504 │ 0.161601  │ 0.160321  │ 0.165571  │ 0.137473  │\n",
       "│ 5   │ 0.0924235 │ 0.15857   │ 0.142661  │ 0.131398  │ 0.132005  │\n",
       "│ 6   │ 0.0881385 │ 0.14416   │ 0.10848   │ 0.120886  │ 0.12774   │\n",
       "│ 7   │ 0.0855905 │ 0.121872  │ 0.0945637 │ 0.116099  │ 0.120266  │\n",
       "│ 8   │ 0.0796312 │ 0.110401  │ 0.091982  │ 0.11277   │ 0.109763  │\n",
       "│ 9   │ 0.0787689 │ 0.100929  │ 0.0909098 │ 0.111256  │ 0.098561  │\n",
       "│ 10  │ 0.0786458 │ 0.0985933 │ 0.0864182 │ 0.0938884 │ 0.0979591 │"
      ]
     },
     "execution_count": 36,
     "metadata": {},
     "output_type": "execute_result"
    }
   ],
   "source": [
    "top_vals"
   ]
  },
  {
   "cell_type": "code",
   "execution_count": 37,
   "metadata": {},
   "outputs": [
    {
     "data": {
      "text/plain": [
       "5-element Vector{Float64}:\n",
       " 0.10579795664678837\n",
       " 0.23786627861357634\n",
       " 0.22716272755049413\n",
       " 0.45671738816074303\n",
       " 0.17943123355248877"
      ]
     },
     "execution_count": 37,
     "metadata": {},
     "output_type": "execute_result"
    }
   ],
   "source": [
    "convert(Array, top_vals[1, :])"
   ]
  },
  {
   "cell_type": "code",
   "execution_count": 38,
   "metadata": {},
   "outputs": [
    {
     "data": {
      "text/plain": [
       "10-element Vector{Vector{String}}:\n",
       " [\"government\", \"labour\", \"labour\", \"film\", \"mobile\"]\n",
       " [\"labour\", \"election\", \"election\", \"best\", \"music\"]\n",
       " [\"film\", \"blair\", \"blair\", \"awards\", \"technology\"]\n",
       " [\"game\", \"party\", \"party\", \"award\", \"users\"]\n",
       " [\"uk\", \"government\", \"brown\", \"actor\", \"software\"]\n",
       " [\"best\", \"brown\", \"england\", \"actress\", \"phone\"]\n",
       " [\"election\", \"tax\", \"howard\", \"oscar\", \"digital\"]\n",
       " [\"blair\", \"minister\", \"win\", \"festival\", \"microsoft\"]\n",
       " [\"music\", \"chancellor\", \"prime\", \"films\", \"phones\"]\n",
       " [\"party\", \"prime\", \"minister\", \"director\", \"computer\"]"
      ]
     },
     "execution_count": 38,
     "metadata": {},
     "output_type": "execute_result"
    }
   ],
   "source": [
    "top_vals_series = [convert(Array, top_vals[row, :]) for row ∈ 1:nrow(top_vals)]\n",
    "top_words_series = [convert(Array, top_words[row, :]) for row ∈ 1:nrow(top_words)]"
   ]
  },
  {
   "cell_type": "code",
   "execution_count": 39,
   "metadata": {},
   "outputs": [
    {
     "data": {
      "image/png": "[encoded data removed]",
      "text/plain": [
       "Figure(PyObject <Figure size 640x480 with 2 Axes>)"
      ]
     },
     "metadata": {},
     "output_type": "display_data"
    }
   ],
   "source": [
    "Seaborn.heatmap(top_vals_series, annot=true, cmap=\"Blues\", xticklabels=topic_labels);"
   ]
  },
  {
   "cell_type": "markdown",
   "metadata": {},
   "source": [
    "#### Topics weights for test set"
   ]
  },
  {
   "cell_type": "markdown",
   "metadata": {},
   "source": [
    "The topic assignments for this sample align with the average topic weights for each category illustrated below (Politics is the leftmost). They illustrate how LSI expresses the k topics as directions in a k-dimensional space (below you find a projection of the average topic assignments per category into two-dimensional space). \n",
    "\n",
    "Each category is clearly defined, and the test assignments match with train assignments. However, the weights are both positive and negative, making it more difficult to interpret the topics."
   ]
  },
  {
   "cell_type": "code",
   "execution_count": 40,
   "metadata": {
    "ExecuteTime": {
     "end_time": "2020-06-20T19:15:30.632057Z",
     "start_time": "2020-06-20T19:15:30.629046Z"
    }
   },
   "outputs": [
    {
     "data": {
      "text/html": [
       "<table class=\"data-frame\"><thead><tr><th></th><th>Category</th><th>Topic 1</th><th>Topic 2</th><th>Topic 3</th><th>Topic 4</th><th>Topic 5</th></tr><tr><th></th><th>String</th><th>Float64</th><th>Float64</th><th>Float64</th><th>Float64</th><th>Float64</th></tr></thead><tbody><p>10 rows × 6 columns</p><tr><th>1</th><td>Entertainment</td><td>0.193471</td><td>-0.140828</td><td>-0.0440101</td><td>0.3317</td><td>-0.103078</td></tr><tr><th>2</th><td>Tech</td><td>0.14023</td><td>0.0118663</td><td>-0.0613095</td><td>-0.01738</td><td>0.0794031</td></tr><tr><th>3</th><td>Tech</td><td>0.202408</td><td>0.0267403</td><td>-0.161138</td><td>-0.0380477</td><td>0.205189</td></tr><tr><th>4</th><td>Business</td><td>0.150049</td><td>0.0434084</td><td>-0.0847216</td><td>-0.0375455</td><td>-0.0741359</td></tr><tr><th>5</th><td>Sport</td><td>0.146961</td><td>-0.0754089</td><td>0.0525603</td><td>-0.0787822</td><td>-0.0111063</td></tr><tr><th>6</th><td>Business</td><td>0.221171</td><td>-0.0746439</td><td>-0.00221909</td><td>-0.0863323</td><td>-0.0413709</td></tr><tr><th>7</th><td>Business</td><td>0.237273</td><td>0.08034</td><td>-0.12783</td><td>-0.06925</td><td>-0.134919</td></tr><tr><th>8</th><td>Sport</td><td>0.198682</td><td>-0.218105</td><td>0.153514</td><td>-0.160702</td><td>-0.0210379</td></tr><tr><th>9</th><td>Business</td><td>0.188797</td><td>0.0930496</td><td>-0.121549</td><td>-0.0828019</td><td>-0.195047</td></tr><tr><th>10</th><td>Business</td><td>0.143512</td><td>0.0482767</td><td>-0.0970194</td><td>-0.0559628</td><td>-0.0736933</td></tr></tbody></table>"
      ],
      "text/latex": [
       "\\begin{tabular}{r|cccccc}\n",
       "\t& Category & Topic 1 & Topic 2 & Topic 3 & Topic 4 & Topic 5\\\\\n",
       "\t\\hline\n",
       "\t& String & Float64 & Float64 & Float64 & Float64 & Float64\\\\\n",
       "\t\\hline\n",
       "\t1 & Entertainment & 0.193471 & -0.140828 & -0.0440101 & 0.3317 & -0.103078 \\\\\n",
       "\t2 & Tech & 0.14023 & 0.0118663 & -0.0613095 & -0.01738 & 0.0794031 \\\\\n",
       "\t3 & Tech & 0.202408 & 0.0267403 & -0.161138 & -0.0380477 & 0.205189 \\\\\n",
       "\t4 & Business & 0.150049 & 0.0434084 & -0.0847216 & -0.0375455 & -0.0741359 \\\\\n",
       "\t5 & Sport & 0.146961 & -0.0754089 & 0.0525603 & -0.0787822 & -0.0111063 \\\\\n",
       "\t6 & Business & 0.221171 & -0.0746439 & -0.00221909 & -0.0863323 & -0.0413709 \\\\\n",
       "\t7 & Business & 0.237273 & 0.08034 & -0.12783 & -0.06925 & -0.134919 \\\\\n",
       "\t8 & Sport & 0.198682 & -0.218105 & 0.153514 & -0.160702 & -0.0210379 \\\\\n",
       "\t9 & Business & 0.188797 & 0.0930496 & -0.121549 & -0.0828019 & -0.195047 \\\\\n",
       "\t10 & Business & 0.143512 & 0.0482767 & -0.0970194 & -0.0559628 & -0.0736933 \\\\\n",
       "\\end{tabular}\n"
      ],
      "text/plain": [
       "10×6 DataFrame. Omitted printing of 1 columns\n",
       "│ Row │ Category      │ Topic 1  │ Topic 2    │ Topic 3     │ Topic 4    │\n",
       "│     │ \u001b[90mString\u001b[39m        │ \u001b[90mFloat64\u001b[39m  │ \u001b[90mFloat64\u001b[39m    │ \u001b[90mFloat64\u001b[39m     │ \u001b[90mFloat64\u001b[39m    │\n",
       "├─────┼───────────────┼──────────┼────────────┼─────────────┼────────────┤\n",
       "│ 1   │ Entertainment │ 0.193471 │ -0.140828  │ -0.0440101  │ 0.3317     │\n",
       "│ 2   │ Tech          │ 0.14023  │ 0.0118663  │ -0.0613095  │ -0.01738   │\n",
       "│ 3   │ Tech          │ 0.202408 │ 0.0267403  │ -0.161138   │ -0.0380477 │\n",
       "│ 4   │ Business      │ 0.150049 │ 0.0434084  │ -0.0847216  │ -0.0375455 │\n",
       "│ 5   │ Sport         │ 0.146961 │ -0.0754089 │ 0.0525603   │ -0.0787822 │\n",
       "│ 6   │ Business      │ 0.221171 │ -0.0746439 │ -0.00221909 │ -0.0863323 │\n",
       "│ 7   │ Business      │ 0.237273 │ 0.08034    │ -0.12783    │ -0.06925   │\n",
       "│ 8   │ Sport         │ 0.198682 │ -0.218105  │ 0.153514    │ -0.160702  │\n",
       "│ 9   │ Business      │ 0.188797 │ 0.0930496  │ -0.121549   │ -0.0828019 │\n",
       "│ 10  │ Business      │ 0.143512 │ 0.0482767  │ -0.0970194  │ -0.0559628 │"
      ]
     },
     "execution_count": 40,
     "metadata": {},
     "output_type": "execute_result"
    }
   ],
   "source": [
    "test_eval = DataFrame()\n",
    "test_eval[!, :Category] = test_docs.Category\n",
    "test_eval = hcat(test_eval, rename!(DataFrame(svd.transform(test_dtm)), topic_labels))\n",
    "first(test_eval, 10)"
   ]
  },
  {
   "cell_type": "code",
   "execution_count": 41,
   "metadata": {
    "scrolled": true
   },
   "outputs": [
    {
     "data": {
      "text/html": [
       "<table class=\"data-frame\"><thead><tr><th></th><th>Category</th><th>Data</th><th>variable</th><th>value</th></tr><tr><th></th><th>String</th><th>String</th><th>Cat…</th><th>Float64</th></tr></thead><tbody><p>11,125 rows × 4 columns</p><tr><th>1</th><td>Entertainment</td><td>Train</td><td>Topic 1</td><td>0.139513</td></tr><tr><th>2</th><td>Tech</td><td>Train</td><td>Topic 1</td><td>0.161377</td></tr><tr><th>3</th><td>Entertainment</td><td>Train</td><td>Topic 1</td><td>0.138225</td></tr><tr><th>4</th><td>Business</td><td>Train</td><td>Topic 1</td><td>0.184587</td></tr><tr><th>5</th><td>Sport</td><td>Train</td><td>Topic 1</td><td>0.170216</td></tr><tr><th>6</th><td>Business</td><td>Train</td><td>Topic 1</td><td>0.150466</td></tr><tr><th>7</th><td>Politics</td><td>Train</td><td>Topic 1</td><td>0.178239</td></tr><tr><th>8</th><td>Politics</td><td>Train</td><td>Topic 1</td><td>0.232497</td></tr><tr><th>9</th><td>Business</td><td>Train</td><td>Topic 1</td><td>0.133023</td></tr><tr><th>10</th><td>Tech</td><td>Train</td><td>Topic 1</td><td>0.234961</td></tr><tr><th>11</th><td>Business</td><td>Train</td><td>Topic 1</td><td>0.259637</td></tr><tr><th>12</th><td>Sport</td><td>Train</td><td>Topic 1</td><td>0.13579</td></tr><tr><th>13</th><td>Politics</td><td>Train</td><td>Topic 1</td><td>0.181554</td></tr><tr><th>14</th><td>Tech</td><td>Train</td><td>Topic 1</td><td>0.150722</td></tr><tr><th>15</th><td>Business</td><td>Train</td><td>Topic 1</td><td>0.15477</td></tr><tr><th>16</th><td>Tech</td><td>Train</td><td>Topic 1</td><td>0.172314</td></tr><tr><th>17</th><td>Business</td><td>Train</td><td>Topic 1</td><td>0.239043</td></tr><tr><th>18</th><td>Entertainment</td><td>Train</td><td>Topic 1</td><td>0.178449</td></tr><tr><th>19</th><td>Entertainment</td><td>Train</td><td>Topic 1</td><td>0.198021</td></tr><tr><th>20</th><td>Sport</td><td>Train</td><td>Topic 1</td><td>0.205961</td></tr><tr><th>21</th><td>Politics</td><td>Train</td><td>Topic 1</td><td>0.267275</td></tr><tr><th>22</th><td>Politics</td><td>Train</td><td>Topic 1</td><td>0.179275</td></tr><tr><th>23</th><td>Politics</td><td>Train</td><td>Topic 1</td><td>0.198632</td></tr><tr><th>24</th><td>Sport</td><td>Train</td><td>Topic 1</td><td>0.157187</td></tr><tr><th>25</th><td>Tech</td><td>Train</td><td>Topic 1</td><td>0.243209</td></tr><tr><th>26</th><td>Sport</td><td>Train</td><td>Topic 1</td><td>0.233952</td></tr><tr><th>27</th><td>Tech</td><td>Train</td><td>Topic 1</td><td>0.206297</td></tr><tr><th>28</th><td>Sport</td><td>Train</td><td>Topic 1</td><td>0.227979</td></tr><tr><th>29</th><td>Entertainment</td><td>Train</td><td>Topic 1</td><td>0.214378</td></tr><tr><th>30</th><td>Politics</td><td>Train</td><td>Topic 1</td><td>0.155393</td></tr><tr><th>&vellip;</th><td>&vellip;</td><td>&vellip;</td><td>&vellip;</td><td>&vellip;</td></tr></tbody></table>"
      ],
      "text/latex": [
       "\\begin{tabular}{r|cccc}\n",
       "\t& Category & Data & variable & value\\\\\n",
       "\t\\hline\n",
       "\t& String & String & Cat… & Float64\\\\\n",
       "\t\\hline\n",
       "\t1 & Entertainment & Train & Topic 1 & 0.139513 \\\\\n",
       "\t2 & Tech & Train & Topic 1 & 0.161377 \\\\\n",
       "\t3 & Entertainment & Train & Topic 1 & 0.138225 \\\\\n",
       "\t4 & Business & Train & Topic 1 & 0.184587 \\\\\n",
       "\t5 & Sport & Train & Topic 1 & 0.170216 \\\\\n",
       "\t6 & Business & Train & Topic 1 & 0.150466 \\\\\n",
       "\t7 & Politics & Train & Topic 1 & 0.178239 \\\\\n",
       "\t8 & Politics & Train & Topic 1 & 0.232497 \\\\\n",
       "\t9 & Business & Train & Topic 1 & 0.133023 \\\\\n",
       "\t10 & Tech & Train & Topic 1 & 0.234961 \\\\\n",
       "\t11 & Business & Train & Topic 1 & 0.259637 \\\\\n",
       "\t12 & Sport & Train & Topic 1 & 0.13579 \\\\\n",
       "\t13 & Politics & Train & Topic 1 & 0.181554 \\\\\n",
       "\t14 & Tech & Train & Topic 1 & 0.150722 \\\\\n",
       "\t15 & Business & Train & Topic 1 & 0.15477 \\\\\n",
       "\t16 & Tech & Train & Topic 1 & 0.172314 \\\\\n",
       "\t17 & Business & Train & Topic 1 & 0.239043 \\\\\n",
       "\t18 & Entertainment & Train & Topic 1 & 0.178449 \\\\\n",
       "\t19 & Entertainment & Train & Topic 1 & 0.198021 \\\\\n",
       "\t20 & Sport & Train & Topic 1 & 0.205961 \\\\\n",
       "\t21 & Politics & Train & Topic 1 & 0.267275 \\\\\n",
       "\t22 & Politics & Train & Topic 1 & 0.179275 \\\\\n",
       "\t23 & Politics & Train & Topic 1 & 0.198632 \\\\\n",
       "\t24 & Sport & Train & Topic 1 & 0.157187 \\\\\n",
       "\t25 & Tech & Train & Topic 1 & 0.243209 \\\\\n",
       "\t26 & Sport & Train & Topic 1 & 0.233952 \\\\\n",
       "\t27 & Tech & Train & Topic 1 & 0.206297 \\\\\n",
       "\t28 & Sport & Train & Topic 1 & 0.227979 \\\\\n",
       "\t29 & Entertainment & Train & Topic 1 & 0.214378 \\\\\n",
       "\t30 & Politics & Train & Topic 1 & 0.155393 \\\\\n",
       "\t$\\dots$ & $\\dots$ & $\\dots$ & $\\dots$ & $\\dots$ \\\\\n",
       "\\end{tabular}\n"
      ],
      "text/plain": [
       "11125×4 DataFrame\n",
       "│ Row   │ Category      │ Data   │ variable │ value      │\n",
       "│       │ \u001b[90mString\u001b[39m        │ \u001b[90mString\u001b[39m │ \u001b[90mCat…\u001b[39m     │ \u001b[90mFloat64\u001b[39m    │\n",
       "├───────┼───────────────┼────────┼──────────┼────────────┤\n",
       "│ 1     │ Entertainment │ Train  │ Topic 1  │ 0.139513   │\n",
       "│ 2     │ Tech          │ Train  │ Topic 1  │ 0.161377   │\n",
       "│ 3     │ Entertainment │ Train  │ Topic 1  │ 0.138225   │\n",
       "│ 4     │ Business      │ Train  │ Topic 1  │ 0.184587   │\n",
       "│ 5     │ Sport         │ Train  │ Topic 1  │ 0.170216   │\n",
       "│ 6     │ Business      │ Train  │ Topic 1  │ 0.150466   │\n",
       "│ 7     │ Politics      │ Train  │ Topic 1  │ 0.178239   │\n",
       "│ 8     │ Politics      │ Train  │ Topic 1  │ 0.232497   │\n",
       "│ 9     │ Business      │ Train  │ Topic 1  │ 0.133023   │\n",
       "│ 10    │ Tech          │ Train  │ Topic 1  │ 0.234961   │\n",
       "⋮\n",
       "│ 11115 │ Business      │ Test   │ Topic 5  │ -0.0214795 │\n",
       "│ 11116 │ Business      │ Test   │ Topic 5  │ -0.121257  │\n",
       "│ 11117 │ Tech          │ Test   │ Topic 5  │ 0.174834   │\n",
       "│ 11118 │ Politics      │ Test   │ Topic 5  │ 0.0711823  │\n",
       "│ 11119 │ Business      │ Test   │ Topic 5  │ -0.24384   │\n",
       "│ 11120 │ Business      │ Test   │ Topic 5  │ -0.126746  │\n",
       "│ 11121 │ Politics      │ Test   │ Topic 5  │ -0.0140773 │\n",
       "│ 11122 │ Politics      │ Test   │ Topic 5  │ 0.017803   │\n",
       "│ 11123 │ Tech          │ Test   │ Topic 5  │ 0.0984152  │\n",
       "│ 11124 │ Sport         │ Test   │ Topic 5  │ -0.0717357 │\n",
       "│ 11125 │ Business      │ Test   │ Topic 5  │ -0.194081  │"
      ]
     },
     "execution_count": 41,
     "metadata": {},
     "output_type": "execute_result"
    }
   ],
   "source": [
    "train_result[!, :Data] .= \"Train\"\n",
    "test_eval[!, :Data] .= \"Test\"\n",
    "result = vcat(train_result, test_eval)\n",
    "result = DataFrames.stack(result, names(result)[2:6])\n",
    "result"
   ]
  },
  {
   "cell_type": "code",
   "execution_count": 42,
   "metadata": {},
   "outputs": [
    {
     "data": {
      "image/svg+xml": [
       "<?xml version=\"1.0\" encoding=\"utf-8\"?>\n",
       "<svg xmlns=\"http://www.w3.org/2000/svg\" xmlns:xlink=\"http://www.w3.org/1999/xlink\" width=\"600\" height=\"400\" viewBox=\"0 0 2400 1600\">\n",
       "<defs>\n",
       "  <clipPath id=\"clip2300\">\n",
       "    <rect x=\"0\" y=\"0\" width=\"2400\" height=\"1600\"/>\n",
       "  </clipPath>\n",
       "</defs>\n",
       "<path clip-path=\"url(#clip2300)\" d=\"\n",
       "M0 1600 L2400 1600 L2400 0 L0 0  Z\n",
       "  \" fill=\"#ffffff\" fill-rule=\"evenodd\" fill-opacity=\"1\"/>\n",
       "<defs>\n",
       "  <clipPath id=\"clip2301\">\n",
       "    <rect x=\"480\" y=\"0\" width=\"1681\" height=\"1600\"/>\n",
       "  </clipPath>\n",
       "</defs>\n",
       "<path clip-path=\"url(#clip2300)\" d=\"\n",
       "M243.864 1425.62 L2352.76 1425.62 L2352.76 121.675 L243.864 121.675  Z\n",
       "  \" fill=\"#ffffff\" fill-rule=\"evenodd\" fill-opacity=\"1\"/>\n",
       "<defs>\n",
       "  <clipPath id=\"clip2302\">\n",
       "    <rect x=\"243\" y=\"121\" width=\"2110\" height=\"1305\"/>\n",
       "  </clipPath>\n",
       "</defs>\n",
       "<polyline clip-path=\"url(#clip2302)\" style=\"stroke:#000000; stroke-width:2; stroke-opacity:0.1; fill:none\" points=\"\n",
       "  494.203,1425.62 494.203,121.675 \n",
       "  \"/>\n",
       "<polyline clip-path=\"url(#clip2302)\" style=\"stroke:#000000; stroke-width:2; stroke-opacity:0.1; fill:none\" points=\"\n",
       "  896.257,1425.62 896.257,121.675 \n",
       "  \"/>\n",
       "<polyline clip-path=\"url(#clip2302)\" style=\"stroke:#000000; stroke-width:2; stroke-opacity:0.1; fill:none\" points=\"\n",
       "  1298.31,1425.62 1298.31,121.675 \n",
       "  \"/>\n",
       "<polyline clip-path=\"url(#clip2302)\" style=\"stroke:#000000; stroke-width:2; stroke-opacity:0.1; fill:none\" points=\"\n",
       "  1700.36,1425.62 1700.36,121.675 \n",
       "  \"/>\n",
       "<polyline clip-path=\"url(#clip2302)\" style=\"stroke:#000000; stroke-width:2; stroke-opacity:0.1; fill:none\" points=\"\n",
       "  2102.42,1425.62 2102.42,121.675 \n",
       "  \"/>\n",
       "<polyline clip-path=\"url(#clip2302)\" style=\"stroke:#000000; stroke-width:2; stroke-opacity:0.1; fill:none\" points=\"\n",
       "  243.864,1226.66 2352.76,1226.66 \n",
       "  \"/>\n",
       "<polyline clip-path=\"url(#clip2302)\" style=\"stroke:#000000; stroke-width:2; stroke-opacity:0.1; fill:none\" points=\"\n",
       "  243.864,925.357 2352.76,925.357 \n",
       "  \"/>\n",
       "<polyline clip-path=\"url(#clip2302)\" style=\"stroke:#000000; stroke-width:2; stroke-opacity:0.1; fill:none\" points=\"\n",
       "  243.864,624.055 2352.76,624.055 \n",
       "  \"/>\n",
       "<polyline clip-path=\"url(#clip2302)\" style=\"stroke:#000000; stroke-width:2; stroke-opacity:0.1; fill:none\" points=\"\n",
       "  243.864,322.753 2352.76,322.753 \n",
       "  \"/>\n",
       "<polyline clip-path=\"url(#clip2300)\" style=\"stroke:#000000; stroke-width:4; stroke-opacity:1; fill:none\" points=\"\n",
       "  243.864,1425.62 2352.76,1425.62 \n",
       "  \"/>\n",
       "<polyline clip-path=\"url(#clip2300)\" style=\"stroke:#000000; stroke-width:4; stroke-opacity:1; fill:none\" points=\"\n",
       "  243.864,1425.62 243.864,121.675 \n",
       "  \"/>\n",
       "<polyline clip-path=\"url(#clip2300)\" style=\"stroke:#000000; stroke-width:4; stroke-opacity:1; fill:none\" points=\"\n",
       "  494.203,1425.62 494.203,1409.97 \n",
       "  \"/>\n",
       "<polyline clip-path=\"url(#clip2300)\" style=\"stroke:#000000; stroke-width:4; stroke-opacity:1; fill:none\" points=\"\n",
       "  896.257,1425.62 896.257,1409.97 \n",
       "  \"/>\n",
       "<polyline clip-path=\"url(#clip2300)\" style=\"stroke:#000000; stroke-width:4; stroke-opacity:1; fill:none\" points=\"\n",
       "  1298.31,1425.62 1298.31,1409.97 \n",
       "  \"/>\n",
       "<polyline clip-path=\"url(#clip2300)\" style=\"stroke:#000000; stroke-width:4; stroke-opacity:1; fill:none\" points=\"\n",
       "  1700.36,1425.62 1700.36,1409.97 \n",
       "  \"/>\n",
       "<polyline clip-path=\"url(#clip2300)\" style=\"stroke:#000000; stroke-width:4; stroke-opacity:1; fill:none\" points=\"\n",
       "  2102.42,1425.62 2102.42,1409.97 \n",
       "  \"/>\n",
       "<polyline clip-path=\"url(#clip2300)\" style=\"stroke:#000000; stroke-width:4; stroke-opacity:1; fill:none\" points=\"\n",
       "  243.864,1226.66 269.171,1226.66 \n",
       "  \"/>\n",
       "<polyline clip-path=\"url(#clip2300)\" style=\"stroke:#000000; stroke-width:4; stroke-opacity:1; fill:none\" points=\"\n",
       "  243.864,925.357 269.171,925.357 \n",
       "  \"/>\n",
       "<polyline clip-path=\"url(#clip2300)\" style=\"stroke:#000000; stroke-width:4; stroke-opacity:1; fill:none\" points=\"\n",
       "  243.864,624.055 269.171,624.055 \n",
       "  \"/>\n",
       "<polyline clip-path=\"url(#clip2300)\" style=\"stroke:#000000; stroke-width:4; stroke-opacity:1; fill:none\" points=\"\n",
       "  243.864,322.753 269.171,322.753 \n",
       "  \"/>\n",
       "<g clip-path=\"url(#clip2300)\">\n",
       "<text style=\"fill:#000000; fill-opacity:1; font-family:Arial,Helvetica Neue,Helvetica,sans-serif; font-size:48px; text-anchor:middle;\" transform=\"rotate(0, 494.203, 1479.62)\" x=\"494.203\" y=\"1479.62\">Business</text>\n",
       "</g>\n",
       "<g clip-path=\"url(#clip2300)\">\n",
       "<text style=\"fill:#000000; fill-opacity:1; font-family:Arial,Helvetica Neue,Helvetica,sans-serif; font-size:48px; text-anchor:middle;\" transform=\"rotate(0, 896.257, 1479.62)\" x=\"896.257\" y=\"1479.62\">Entertainment</text>\n",
       "</g>\n",
       "<g clip-path=\"url(#clip2300)\">\n",
       "<text style=\"fill:#000000; fill-opacity:1; font-family:Arial,Helvetica Neue,Helvetica,sans-serif; font-size:48px; text-anchor:middle;\" transform=\"rotate(0, 1298.31, 1479.62)\" x=\"1298.31\" y=\"1479.62\">Politics</text>\n",
       "</g>\n",
       "<g clip-path=\"url(#clip2300)\">\n",
       "<text style=\"fill:#000000; fill-opacity:1; font-family:Arial,Helvetica Neue,Helvetica,sans-serif; font-size:48px; text-anchor:middle;\" transform=\"rotate(0, 1700.36, 1479.62)\" x=\"1700.36\" y=\"1479.62\">Sport</text>\n",
       "</g>\n",
       "<g clip-path=\"url(#clip2300)\">\n",
       "<text style=\"fill:#000000; fill-opacity:1; font-family:Arial,Helvetica Neue,Helvetica,sans-serif; font-size:48px; text-anchor:middle;\" transform=\"rotate(0, 2102.42, 1479.62)\" x=\"2102.42\" y=\"1479.62\">Tech</text>\n",
       "</g>\n",
       "<g clip-path=\"url(#clip2300)\">\n",
       "<text style=\"fill:#000000; fill-opacity:1; font-family:Arial,Helvetica Neue,Helvetica,sans-serif; font-size:48px; text-anchor:end;\" transform=\"rotate(0, 219.864, 1244.16)\" x=\"219.864\" y=\"1244.16\">-0.1</text>\n",
       "</g>\n",
       "<g clip-path=\"url(#clip2300)\">\n",
       "<text style=\"fill:#000000; fill-opacity:1; font-family:Arial,Helvetica Neue,Helvetica,sans-serif; font-size:48px; text-anchor:end;\" transform=\"rotate(0, 219.864, 942.857)\" x=\"219.864\" y=\"942.857\">0.0</text>\n",
       "</g>\n",
       "<g clip-path=\"url(#clip2300)\">\n",
       "<text style=\"fill:#000000; fill-opacity:1; font-family:Arial,Helvetica Neue,Helvetica,sans-serif; font-size:48px; text-anchor:end;\" transform=\"rotate(0, 219.864, 641.555)\" x=\"219.864\" y=\"641.555\">0.1</text>\n",
       "</g>\n",
       "<g clip-path=\"url(#clip2300)\">\n",
       "<text style=\"fill:#000000; fill-opacity:1; font-family:Arial,Helvetica Neue,Helvetica,sans-serif; font-size:48px; text-anchor:end;\" transform=\"rotate(0, 219.864, 340.253)\" x=\"219.864\" y=\"340.253\">0.2</text>\n",
       "</g>\n",
       "<polyline clip-path=\"url(#clip2302)\" style=\"stroke:#000000; stroke-width:4; stroke-opacity:1; fill:none\" points=\"\n",
       "  243.864,121.675 2352.76,121.675 \n",
       "  \"/>\n",
       "<polyline clip-path=\"url(#clip2302)\" style=\"stroke:#000000; stroke-width:4; stroke-opacity:1; fill:none\" points=\"\n",
       "  2352.76,1425.62 2352.76,121.675 \n",
       "  \"/>\n",
       "<g clip-path=\"url(#clip2300)\">\n",
       "<text style=\"fill:#000000; fill-opacity:1; font-family:Arial,Helvetica Neue,Helvetica,sans-serif; font-size:84px; text-anchor:middle;\" transform=\"rotate(0, 1298.31, 73.2)\" x=\"1298.31\" y=\"73.2\">Data = Train</text>\n",
       "</g>\n",
       "<g clip-path=\"url(#clip2300)\">\n",
       "<text style=\"fill:#000000; fill-opacity:1; font-family:Arial,Helvetica Neue,Helvetica,sans-serif; font-size:66px; text-anchor:middle;\" transform=\"rotate(0, 1298.31, 1559.48)\" x=\"1298.31\" y=\"1559.48\">Category</text>\n",
       "</g>\n",
       "<g clip-path=\"url(#clip2300)\">\n",
       "<text style=\"fill:#000000; fill-opacity:1; font-family:Arial,Helvetica Neue,Helvetica,sans-serif; font-size:66px; text-anchor:middle;\" transform=\"rotate(-90, 89.2861, 773.647)\" x=\"89.2861\" y=\"773.647\">Weight</text>\n",
       "</g>\n",
       "<path clip-path=\"url(#clip2302)\" d=\"\n",
       "M353.485 158.579 L353.485 925.357 L409.772 925.357 L409.772 158.579 L353.485 158.579 L353.485 158.579  Z\n",
       "  \" fill=\"#009af9\" fill-rule=\"evenodd\" fill-opacity=\"1\"/>\n",
       "<polyline clip-path=\"url(#clip2302)\" style=\"stroke:#000000; stroke-width:4; stroke-opacity:1; fill:none\" points=\"\n",
       "  353.485,158.579 353.485,925.357 409.772,925.357 409.772,158.579 353.485,158.579 \n",
       "  \"/>\n",
       "<path clip-path=\"url(#clip2302)\" d=\"\n",
       "M755.538 457.259 L755.538 925.357 L811.826 925.357 L811.826 457.259 L755.538 457.259 L755.538 457.259  Z\n",
       "  \" fill=\"#009af9\" fill-rule=\"evenodd\" fill-opacity=\"1\"/>\n",
       "<polyline clip-path=\"url(#clip2302)\" style=\"stroke:#000000; stroke-width:4; stroke-opacity:1; fill:none\" points=\"\n",
       "  755.538,457.259 755.538,925.357 811.826,925.357 811.826,457.259 755.538,457.259 \n",
       "  \"/>\n",
       "<path clip-path=\"url(#clip2302)\" d=\"\n",
       "M1157.59 587.186 L1157.59 925.357 L1213.88 925.357 L1213.88 587.186 L1157.59 587.186 L1157.59 587.186  Z\n",
       "  \" fill=\"#009af9\" fill-rule=\"evenodd\" fill-opacity=\"1\"/>\n",
       "<polyline clip-path=\"url(#clip2302)\" style=\"stroke:#000000; stroke-width:4; stroke-opacity:1; fill:none\" points=\"\n",
       "  1157.59,587.186 1157.59,925.357 1213.88,925.357 1213.88,587.186 1157.59,587.186 \n",
       "  \"/>\n",
       "<path clip-path=\"url(#clip2302)\" d=\"\n",
       "M1559.64 552.801 L1559.64 925.357 L1615.93 925.357 L1615.93 552.801 L1559.64 552.801 L1559.64 552.801  Z\n",
       "  \" fill=\"#009af9\" fill-rule=\"evenodd\" fill-opacity=\"1\"/>\n",
       "<polyline clip-path=\"url(#clip2302)\" style=\"stroke:#000000; stroke-width:4; stroke-opacity:1; fill:none\" points=\"\n",
       "  1559.64,552.801 1559.64,925.357 1615.93,925.357 1615.93,552.801 1559.64,552.801 \n",
       "  \"/>\n",
       "<path clip-path=\"url(#clip2302)\" d=\"\n",
       "M1961.7 376.558 L1961.7 925.357 L2017.99 925.357 L2017.99 376.558 L1961.7 376.558 L1961.7 376.558  Z\n",
       "  \" fill=\"#009af9\" fill-rule=\"evenodd\" fill-opacity=\"1\"/>\n",
       "<polyline clip-path=\"url(#clip2302)\" style=\"stroke:#000000; stroke-width:4; stroke-opacity:1; fill:none\" points=\"\n",
       "  1961.7,376.558 1961.7,925.357 2017.99,925.357 2017.99,376.558 1961.7,376.558 \n",
       "  \"/>\n",
       "<path clip-path=\"url(#clip2302)\" d=\"\n",
       "M409.772 722.956 L409.772 925.357 L466.06 925.357 L466.06 722.956 L409.772 722.956 L409.772 722.956  Z\n",
       "  \" fill=\"#e26f46\" fill-rule=\"evenodd\" fill-opacity=\"1\"/>\n",
       "<polyline clip-path=\"url(#clip2302)\" style=\"stroke:#000000; stroke-width:4; stroke-opacity:1; fill:none\" points=\"\n",
       "  409.772,722.956 409.772,925.357 466.06,925.357 466.06,722.956 409.772,722.956 \n",
       "  \"/>\n",
       "<path clip-path=\"url(#clip2302)\" d=\"\n",
       "M811.826 1144.41 L811.826 925.357 L868.113 925.357 L868.113 1144.41 L811.826 1144.41 L811.826 1144.41  Z\n",
       "  \" fill=\"#e26f46\" fill-rule=\"evenodd\" fill-opacity=\"1\"/>\n",
       "<polyline clip-path=\"url(#clip2302)\" style=\"stroke:#000000; stroke-width:4; stroke-opacity:1; fill:none\" points=\"\n",
       "  811.826,1144.41 811.826,925.357 868.113,925.357 868.113,1144.41 811.826,1144.41 \n",
       "  \"/>\n",
       "<path clip-path=\"url(#clip2302)\" d=\"\n",
       "M1213.88 889.051 L1213.88 925.357 L1270.17 925.357 L1270.17 889.051 L1213.88 889.051 L1213.88 889.051  Z\n",
       "  \" fill=\"#e26f46\" fill-rule=\"evenodd\" fill-opacity=\"1\"/>\n",
       "<polyline clip-path=\"url(#clip2302)\" style=\"stroke:#000000; stroke-width:4; stroke-opacity:1; fill:none\" points=\"\n",
       "  1213.88,889.051 1213.88,925.357 1270.17,925.357 1270.17,889.051 1213.88,889.051 \n",
       "  \"/>\n",
       "<path clip-path=\"url(#clip2302)\" d=\"\n",
       "M1615.93 1276.43 L1615.93 925.357 L1672.22 925.357 L1672.22 1276.43 L1615.93 1276.43 L1615.93 1276.43  Z\n",
       "  \" fill=\"#e26f46\" fill-rule=\"evenodd\" fill-opacity=\"1\"/>\n",
       "<polyline clip-path=\"url(#clip2302)\" style=\"stroke:#000000; stroke-width:4; stroke-opacity:1; fill:none\" points=\"\n",
       "  1615.93,1276.43 1615.93,925.357 1672.22,925.357 1672.22,1276.43 1615.93,1276.43 \n",
       "  \"/>\n",
       "<path clip-path=\"url(#clip2302)\" d=\"\n",
       "M2017.99 790.369 L2017.99 925.357 L2074.27 925.357 L2074.27 790.369 L2017.99 790.369 L2017.99 790.369  Z\n",
       "  \" fill=\"#e26f46\" fill-rule=\"evenodd\" fill-opacity=\"1\"/>\n",
       "<polyline clip-path=\"url(#clip2302)\" style=\"stroke:#000000; stroke-width:4; stroke-opacity:1; fill:none\" points=\"\n",
       "  2017.99,790.369 2017.99,925.357 2074.27,925.357 2074.27,790.369 2017.99,790.369 \n",
       "  \"/>\n",
       "<path clip-path=\"url(#clip2302)\" d=\"\n",
       "M466.06 1128.43 L466.06 925.357 L522.347 925.357 L522.347 1128.43 L466.06 1128.43 L466.06 1128.43  Z\n",
       "  \" fill=\"#3da44d\" fill-rule=\"evenodd\" fill-opacity=\"1\"/>\n",
       "<polyline clip-path=\"url(#clip2302)\" style=\"stroke:#000000; stroke-width:4; stroke-opacity:1; fill:none\" points=\"\n",
       "  466.06,1128.43 466.06,925.357 522.347,925.357 522.347,1128.43 466.06,1128.43 \n",
       "  \"/>\n",
       "<path clip-path=\"url(#clip2302)\" d=\"\n",
       "M868.113 975.201 L868.113 925.357 L924.4 925.357 L924.4 975.201 L868.113 975.201 L868.113 975.201  Z\n",
       "  \" fill=\"#3da44d\" fill-rule=\"evenodd\" fill-opacity=\"1\"/>\n",
       "<polyline clip-path=\"url(#clip2302)\" style=\"stroke:#000000; stroke-width:4; stroke-opacity:1; fill:none\" points=\"\n",
       "  868.113,975.201 868.113,925.357 924.4,925.357 924.4,975.201 868.113,975.201 \n",
       "  \"/>\n",
       "<path clip-path=\"url(#clip2302)\" d=\"\n",
       "M1270.17 816.432 L1270.17 925.357 L1326.45 925.357 L1326.45 816.432 L1270.17 816.432 L1270.17 816.432  Z\n",
       "  \" fill=\"#3da44d\" fill-rule=\"evenodd\" fill-opacity=\"1\"/>\n",
       "<polyline clip-path=\"url(#clip2302)\" style=\"stroke:#000000; stroke-width:4; stroke-opacity:1; fill:none\" points=\"\n",
       "  1270.17,816.432 1270.17,925.357 1326.45,925.357 1326.45,816.432 1270.17,816.432 \n",
       "  \"/>\n",
       "<path clip-path=\"url(#clip2302)\" d=\"\n",
       "M1672.22 728.174 L1672.22 925.357 L1728.51 925.357 L1728.51 728.174 L1672.22 728.174 L1672.22 728.174  Z\n",
       "  \" fill=\"#3da44d\" fill-rule=\"evenodd\" fill-opacity=\"1\"/>\n",
       "<polyline clip-path=\"url(#clip2302)\" style=\"stroke:#000000; stroke-width:4; stroke-opacity:1; fill:none\" points=\"\n",
       "  1672.22,728.174 1672.22,925.357 1728.51,925.357 1728.51,728.174 1672.22,728.174 \n",
       "  \"/>\n",
       "<path clip-path=\"url(#clip2302)\" d=\"\n",
       "M2074.27 1388.71 L2074.27 925.357 L2130.56 925.357 L2130.56 1388.71 L2074.27 1388.71 L2074.27 1388.71  Z\n",
       "  \" fill=\"#3da44d\" fill-rule=\"evenodd\" fill-opacity=\"1\"/>\n",
       "<polyline clip-path=\"url(#clip2302)\" style=\"stroke:#000000; stroke-width:4; stroke-opacity:1; fill:none\" points=\"\n",
       "  2074.27,1388.71 2074.27,925.357 2130.56,925.357 2130.56,1388.71 2074.27,1388.71 \n",
       "  \"/>\n",
       "<path clip-path=\"url(#clip2302)\" d=\"\n",
       "M522.347 1125.56 L522.347 925.357 L578.635 925.357 L578.635 1125.56 L522.347 1125.56 L522.347 1125.56  Z\n",
       "  \" fill=\"#c271d2\" fill-rule=\"evenodd\" fill-opacity=\"1\"/>\n",
       "<polyline clip-path=\"url(#clip2302)\" style=\"stroke:#000000; stroke-width:4; stroke-opacity:1; fill:none\" points=\"\n",
       "  522.347,1125.56 522.347,925.357 578.635,925.357 578.635,1125.56 522.347,1125.56 \n",
       "  \"/>\n",
       "<path clip-path=\"url(#clip2302)\" d=\"\n",
       "M924.4 719.302 L924.4 925.357 L980.688 925.357 L980.688 719.302 L924.4 719.302 L924.4 719.302  Z\n",
       "  \" fill=\"#c271d2\" fill-rule=\"evenodd\" fill-opacity=\"1\"/>\n",
       "<polyline clip-path=\"url(#clip2302)\" style=\"stroke:#000000; stroke-width:4; stroke-opacity:1; fill:none\" points=\"\n",
       "  924.4,719.302 924.4,925.357 980.688,925.357 980.688,719.302 924.4,719.302 \n",
       "  \"/>\n",
       "<path clip-path=\"url(#clip2302)\" d=\"\n",
       "M1326.45 920.204 L1326.45 925.357 L1382.74 925.357 L1382.74 920.204 L1326.45 920.204 L1326.45 920.204  Z\n",
       "  \" fill=\"#c271d2\" fill-rule=\"evenodd\" fill-opacity=\"1\"/>\n",
       "<polyline clip-path=\"url(#clip2302)\" style=\"stroke:#000000; stroke-width:4; stroke-opacity:1; fill:none\" points=\"\n",
       "  1326.45,920.204 1326.45,925.357 1382.74,925.357 1382.74,920.204 1326.45,920.204 \n",
       "  \"/>\n",
       "<path clip-path=\"url(#clip2302)\" d=\"\n",
       "M1728.51 1132.28 L1728.51 925.357 L1784.79 925.357 L1784.79 1132.28 L1728.51 1132.28 L1728.51 1132.28  Z\n",
       "  \" fill=\"#c271d2\" fill-rule=\"evenodd\" fill-opacity=\"1\"/>\n",
       "<polyline clip-path=\"url(#clip2302)\" style=\"stroke:#000000; stroke-width:4; stroke-opacity:1; fill:none\" points=\"\n",
       "  1728.51,1132.28 1728.51,925.357 1784.79,925.357 1784.79,1132.28 1728.51,1132.28 \n",
       "  \"/>\n",
       "<path clip-path=\"url(#clip2302)\" d=\"\n",
       "M2130.56 1090.69 L2130.56 925.357 L2186.85 925.357 L2186.85 1090.69 L2130.56 1090.69 L2130.56 1090.69  Z\n",
       "  \" fill=\"#c271d2\" fill-rule=\"evenodd\" fill-opacity=\"1\"/>\n",
       "<polyline clip-path=\"url(#clip2302)\" style=\"stroke:#000000; stroke-width:4; stroke-opacity:1; fill:none\" points=\"\n",
       "  2130.56,1090.69 2130.56,925.357 2186.85,925.357 2186.85,1090.69 2130.56,1090.69 \n",
       "  \"/>\n",
       "<path clip-path=\"url(#clip2302)\" d=\"\n",
       "M578.635 1387.3 L578.635 925.357 L634.922 925.357 L634.922 1387.3 L578.635 1387.3 L578.635 1387.3  Z\n",
       "  \" fill=\"#ac8d18\" fill-rule=\"evenodd\" fill-opacity=\"1\"/>\n",
       "<polyline clip-path=\"url(#clip2302)\" style=\"stroke:#000000; stroke-width:4; stroke-opacity:1; fill:none\" points=\"\n",
       "  578.635,1387.3 578.635,925.357 634.922,925.357 634.922,1387.3 578.635,1387.3 \n",
       "  \"/>\n",
       "<path clip-path=\"url(#clip2302)\" d=\"\n",
       "M980.688 852.072 L980.688 925.357 L1036.98 925.357 L1036.98 852.072 L980.688 852.072 L980.688 852.072  Z\n",
       "  \" fill=\"#ac8d18\" fill-rule=\"evenodd\" fill-opacity=\"1\"/>\n",
       "<polyline clip-path=\"url(#clip2302)\" style=\"stroke:#000000; stroke-width:4; stroke-opacity:1; fill:none\" points=\"\n",
       "  980.688,852.072 980.688,925.357 1036.98,925.357 1036.98,852.072 980.688,852.072 \n",
       "  \"/>\n",
       "<path clip-path=\"url(#clip2302)\" d=\"\n",
       "M1382.74 877.827 L1382.74 925.357 L1439.03 925.357 L1439.03 877.827 L1382.74 877.827 L1382.74 877.827  Z\n",
       "  \" fill=\"#ac8d18\" fill-rule=\"evenodd\" fill-opacity=\"1\"/>\n",
       "<polyline clip-path=\"url(#clip2302)\" style=\"stroke:#000000; stroke-width:4; stroke-opacity:1; fill:none\" points=\"\n",
       "  1382.74,877.827 1382.74,925.357 1439.03,925.357 1439.03,877.827 1382.74,877.827 \n",
       "  \"/>\n",
       "<path clip-path=\"url(#clip2302)\" d=\"\n",
       "M1784.79 1091.48 L1784.79 925.357 L1841.08 925.357 L1841.08 1091.48 L1784.79 1091.48 L1784.79 1091.48  Z\n",
       "  \" fill=\"#ac8d18\" fill-rule=\"evenodd\" fill-opacity=\"1\"/>\n",
       "<polyline clip-path=\"url(#clip2302)\" style=\"stroke:#000000; stroke-width:4; stroke-opacity:1; fill:none\" points=\"\n",
       "  1784.79,1091.48 1784.79,925.357 1841.08,925.357 1841.08,1091.48 1784.79,1091.48 \n",
       "  \"/>\n",
       "<path clip-path=\"url(#clip2302)\" d=\"\n",
       "M2186.85 673.607 L2186.85 925.357 L2243.14 925.357 L2243.14 673.607 L2186.85 673.607 L2186.85 673.607  Z\n",
       "  \" fill=\"#ac8d18\" fill-rule=\"evenodd\" fill-opacity=\"1\"/>\n",
       "<polyline clip-path=\"url(#clip2302)\" style=\"stroke:#000000; stroke-width:4; stroke-opacity:1; fill:none\" points=\"\n",
       "  2186.85,673.607 2186.85,925.357 2243.14,925.357 2243.14,673.607 2186.85,673.607 \n",
       "  \"/>\n",
       "<path clip-path=\"url(#clip2300)\" d=\"\n",
       "M1882.93 568.075 L2280.76 568.075 L2280.76 205.195 L1882.93 205.195  Z\n",
       "  \" fill=\"#ffffff\" fill-rule=\"evenodd\" fill-opacity=\"1\"/>\n",
       "<polyline clip-path=\"url(#clip2300)\" style=\"stroke:#000000; stroke-width:4; stroke-opacity:1; fill:none\" points=\"\n",
       "  1882.93,568.075 2280.76,568.075 2280.76,205.195 1882.93,205.195 1882.93,568.075 \n",
       "  \"/>\n",
       "<path clip-path=\"url(#clip2300)\" d=\"\n",
       "M1906.93 289.867 L2050.93 289.867 L2050.93 241.483 L1906.93 241.483 L1906.93 289.867  Z\n",
       "  \" fill=\"#009af9\" fill-rule=\"evenodd\" fill-opacity=\"1\"/>\n",
       "<polyline clip-path=\"url(#clip2300)\" style=\"stroke:#000000; stroke-width:4; stroke-opacity:1; fill:none\" points=\"\n",
       "  1906.93,289.867 2050.93,289.867 2050.93,241.483 1906.93,241.483 1906.93,289.867 \n",
       "  \"/>\n",
       "<g clip-path=\"url(#clip2300)\">\n",
       "<text style=\"fill:#000000; fill-opacity:1; font-family:Arial,Helvetica Neue,Helvetica,sans-serif; font-size:48px; text-anchor:start;\" transform=\"rotate(0, 2074.93, 283.175)\" x=\"2074.93\" y=\"283.175\">Topic 1</text>\n",
       "</g>\n",
       "<path clip-path=\"url(#clip2300)\" d=\"\n",
       "M1906.93 350.347 L2050.93 350.347 L2050.93 301.963 L1906.93 301.963 L1906.93 350.347  Z\n",
       "  \" fill=\"#e26f46\" fill-rule=\"evenodd\" fill-opacity=\"1\"/>\n",
       "<polyline clip-path=\"url(#clip2300)\" style=\"stroke:#000000; stroke-width:4; stroke-opacity:1; fill:none\" points=\"\n",
       "  1906.93,350.347 2050.93,350.347 2050.93,301.963 1906.93,301.963 1906.93,350.347 \n",
       "  \"/>\n",
       "<g clip-path=\"url(#clip2300)\">\n",
       "<text style=\"fill:#000000; fill-opacity:1; font-family:Arial,Helvetica Neue,Helvetica,sans-serif; font-size:48px; text-anchor:start;\" transform=\"rotate(0, 2074.93, 343.655)\" x=\"2074.93\" y=\"343.655\">Topic 2</text>\n",
       "</g>\n",
       "<path clip-path=\"url(#clip2300)\" d=\"\n",
       "M1906.93 410.827 L2050.93 410.827 L2050.93 362.443 L1906.93 362.443 L1906.93 410.827  Z\n",
       "  \" fill=\"#3da44d\" fill-rule=\"evenodd\" fill-opacity=\"1\"/>\n",
       "<polyline clip-path=\"url(#clip2300)\" style=\"stroke:#000000; stroke-width:4; stroke-opacity:1; fill:none\" points=\"\n",
       "  1906.93,410.827 2050.93,410.827 2050.93,362.443 1906.93,362.443 1906.93,410.827 \n",
       "  \"/>\n",
       "<g clip-path=\"url(#clip2300)\">\n",
       "<text style=\"fill:#000000; fill-opacity:1; font-family:Arial,Helvetica Neue,Helvetica,sans-serif; font-size:48px; text-anchor:start;\" transform=\"rotate(0, 2074.93, 404.135)\" x=\"2074.93\" y=\"404.135\">Topic 3</text>\n",
       "</g>\n",
       "<path clip-path=\"url(#clip2300)\" d=\"\n",
       "M1906.93 471.307 L2050.93 471.307 L2050.93 422.923 L1906.93 422.923 L1906.93 471.307  Z\n",
       "  \" fill=\"#c271d2\" fill-rule=\"evenodd\" fill-opacity=\"1\"/>\n",
       "<polyline clip-path=\"url(#clip2300)\" style=\"stroke:#000000; stroke-width:4; stroke-opacity:1; fill:none\" points=\"\n",
       "  1906.93,471.307 2050.93,471.307 2050.93,422.923 1906.93,422.923 1906.93,471.307 \n",
       "  \"/>\n",
       "<g clip-path=\"url(#clip2300)\">\n",
       "<text style=\"fill:#000000; fill-opacity:1; font-family:Arial,Helvetica Neue,Helvetica,sans-serif; font-size:48px; text-anchor:start;\" transform=\"rotate(0, 2074.93, 464.615)\" x=\"2074.93\" y=\"464.615\">Topic 4</text>\n",
       "</g>\n",
       "<path clip-path=\"url(#clip2300)\" d=\"\n",
       "M1906.93 531.787 L2050.93 531.787 L2050.93 483.403 L1906.93 483.403 L1906.93 531.787  Z\n",
       "  \" fill=\"#ac8d18\" fill-rule=\"evenodd\" fill-opacity=\"1\"/>\n",
       "<polyline clip-path=\"url(#clip2300)\" style=\"stroke:#000000; stroke-width:4; stroke-opacity:1; fill:none\" points=\"\n",
       "  1906.93,531.787 2050.93,531.787 2050.93,483.403 1906.93,483.403 1906.93,531.787 \n",
       "  \"/>\n",
       "<g clip-path=\"url(#clip2300)\">\n",
       "<text style=\"fill:#000000; fill-opacity:1; font-family:Arial,Helvetica Neue,Helvetica,sans-serif; font-size:48px; text-anchor:start;\" transform=\"rotate(0, 2074.93, 525.095)\" x=\"2074.93\" y=\"525.095\">Topic 5</text>\n",
       "</g>\n",
       "</svg>\n"
      ]
     },
     "execution_count": 42,
     "metadata": {},
     "output_type": "execute_result"
    }
   ],
   "source": [
    "@df result[result.Data .== \"Train\", :] groupedbar(:Category, :value, group = :variable, xlabel = \"Category\", ylabel = \"Weight\",\n",
    "        title = \"Data = Train\", bar_width = 0.7, framestyle = :box)"
   ]
  },
  {
   "cell_type": "code",
   "execution_count": 43,
   "metadata": {},
   "outputs": [
    {
     "data": {
      "image/svg+xml": [
       "<?xml version=\"1.0\" encoding=\"utf-8\"?>\n",
       "<svg xmlns=\"http://www.w3.org/2000/svg\" xmlns:xlink=\"http://www.w3.org/1999/xlink\" width=\"600\" height=\"400\" viewBox=\"0 0 2400 1600\">\n",
       "<defs>\n",
       "  <clipPath id=\"clip2700\">\n",
       "    <rect x=\"0\" y=\"0\" width=\"2400\" height=\"1600\"/>\n",
       "  </clipPath>\n",
       "</defs>\n",
       "<path clip-path=\"url(#clip2700)\" d=\"\n",
       "M0 1600 L2400 1600 L2400 0 L0 0  Z\n",
       "  \" fill=\"#ffffff\" fill-rule=\"evenodd\" fill-opacity=\"1\"/>\n",
       "<defs>\n",
       "  <clipPath id=\"clip2701\">\n",
       "    <rect x=\"480\" y=\"0\" width=\"1681\" height=\"1600\"/>\n",
       "  </clipPath>\n",
       "</defs>\n",
       "<path clip-path=\"url(#clip2700)\" d=\"\n",
       "M243.864 1425.62 L2352.76 1425.62 L2352.76 121.675 L243.864 121.675  Z\n",
       "  \" fill=\"#ffffff\" fill-rule=\"evenodd\" fill-opacity=\"1\"/>\n",
       "<defs>\n",
       "  <clipPath id=\"clip2702\">\n",
       "    <rect x=\"243\" y=\"121\" width=\"2110\" height=\"1305\"/>\n",
       "  </clipPath>\n",
       "</defs>\n",
       "<polyline clip-path=\"url(#clip2702)\" style=\"stroke:#000000; stroke-width:2; stroke-opacity:0.1; fill:none\" points=\"\n",
       "  494.203,1425.62 494.203,121.675 \n",
       "  \"/>\n",
       "<polyline clip-path=\"url(#clip2702)\" style=\"stroke:#000000; stroke-width:2; stroke-opacity:0.1; fill:none\" points=\"\n",
       "  896.257,1425.62 896.257,121.675 \n",
       "  \"/>\n",
       "<polyline clip-path=\"url(#clip2702)\" style=\"stroke:#000000; stroke-width:2; stroke-opacity:0.1; fill:none\" points=\"\n",
       "  1298.31,1425.62 1298.31,121.675 \n",
       "  \"/>\n",
       "<polyline clip-path=\"url(#clip2702)\" style=\"stroke:#000000; stroke-width:2; stroke-opacity:0.1; fill:none\" points=\"\n",
       "  1700.36,1425.62 1700.36,121.675 \n",
       "  \"/>\n",
       "<polyline clip-path=\"url(#clip2702)\" style=\"stroke:#000000; stroke-width:2; stroke-opacity:0.1; fill:none\" points=\"\n",
       "  2102.42,1425.62 2102.42,121.675 \n",
       "  \"/>\n",
       "<polyline clip-path=\"url(#clip2702)\" style=\"stroke:#000000; stroke-width:2; stroke-opacity:0.1; fill:none\" points=\"\n",
       "  243.864,1403.65 2352.76,1403.65 \n",
       "  \"/>\n",
       "<polyline clip-path=\"url(#clip2702)\" style=\"stroke:#000000; stroke-width:2; stroke-opacity:0.1; fill:none\" points=\"\n",
       "  243.864,1151.3 2352.76,1151.3 \n",
       "  \"/>\n",
       "<polyline clip-path=\"url(#clip2702)\" style=\"stroke:#000000; stroke-width:2; stroke-opacity:0.1; fill:none\" points=\"\n",
       "  243.864,898.939 2352.76,898.939 \n",
       "  \"/>\n",
       "<polyline clip-path=\"url(#clip2702)\" style=\"stroke:#000000; stroke-width:2; stroke-opacity:0.1; fill:none\" points=\"\n",
       "  243.864,646.584 2352.76,646.584 \n",
       "  \"/>\n",
       "<polyline clip-path=\"url(#clip2702)\" style=\"stroke:#000000; stroke-width:2; stroke-opacity:0.1; fill:none\" points=\"\n",
       "  243.864,394.228 2352.76,394.228 \n",
       "  \"/>\n",
       "<polyline clip-path=\"url(#clip2702)\" style=\"stroke:#000000; stroke-width:2; stroke-opacity:0.1; fill:none\" points=\"\n",
       "  243.864,141.872 2352.76,141.872 \n",
       "  \"/>\n",
       "<polyline clip-path=\"url(#clip2700)\" style=\"stroke:#000000; stroke-width:4; stroke-opacity:1; fill:none\" points=\"\n",
       "  243.864,1425.62 2352.76,1425.62 \n",
       "  \"/>\n",
       "<polyline clip-path=\"url(#clip2700)\" style=\"stroke:#000000; stroke-width:4; stroke-opacity:1; fill:none\" points=\"\n",
       "  243.864,1425.62 243.864,121.675 \n",
       "  \"/>\n",
       "<polyline clip-path=\"url(#clip2700)\" style=\"stroke:#000000; stroke-width:4; stroke-opacity:1; fill:none\" points=\"\n",
       "  494.203,1425.62 494.203,1409.97 \n",
       "  \"/>\n",
       "<polyline clip-path=\"url(#clip2700)\" style=\"stroke:#000000; stroke-width:4; stroke-opacity:1; fill:none\" points=\"\n",
       "  896.257,1425.62 896.257,1409.97 \n",
       "  \"/>\n",
       "<polyline clip-path=\"url(#clip2700)\" style=\"stroke:#000000; stroke-width:4; stroke-opacity:1; fill:none\" points=\"\n",
       "  1298.31,1425.62 1298.31,1409.97 \n",
       "  \"/>\n",
       "<polyline clip-path=\"url(#clip2700)\" style=\"stroke:#000000; stroke-width:4; stroke-opacity:1; fill:none\" points=\"\n",
       "  1700.36,1425.62 1700.36,1409.97 \n",
       "  \"/>\n",
       "<polyline clip-path=\"url(#clip2700)\" style=\"stroke:#000000; stroke-width:4; stroke-opacity:1; fill:none\" points=\"\n",
       "  2102.42,1425.62 2102.42,1409.97 \n",
       "  \"/>\n",
       "<polyline clip-path=\"url(#clip2700)\" style=\"stroke:#000000; stroke-width:4; stroke-opacity:1; fill:none\" points=\"\n",
       "  243.864,1403.65 269.171,1403.65 \n",
       "  \"/>\n",
       "<polyline clip-path=\"url(#clip2700)\" style=\"stroke:#000000; stroke-width:4; stroke-opacity:1; fill:none\" points=\"\n",
       "  243.864,1151.3 269.171,1151.3 \n",
       "  \"/>\n",
       "<polyline clip-path=\"url(#clip2700)\" style=\"stroke:#000000; stroke-width:4; stroke-opacity:1; fill:none\" points=\"\n",
       "  243.864,898.939 269.171,898.939 \n",
       "  \"/>\n",
       "<polyline clip-path=\"url(#clip2700)\" style=\"stroke:#000000; stroke-width:4; stroke-opacity:1; fill:none\" points=\"\n",
       "  243.864,646.584 269.171,646.584 \n",
       "  \"/>\n",
       "<polyline clip-path=\"url(#clip2700)\" style=\"stroke:#000000; stroke-width:4; stroke-opacity:1; fill:none\" points=\"\n",
       "  243.864,394.228 269.171,394.228 \n",
       "  \"/>\n",
       "<polyline clip-path=\"url(#clip2700)\" style=\"stroke:#000000; stroke-width:4; stroke-opacity:1; fill:none\" points=\"\n",
       "  243.864,141.872 269.171,141.872 \n",
       "  \"/>\n",
       "<g clip-path=\"url(#clip2700)\">\n",
       "<text style=\"fill:#000000; fill-opacity:1; font-family:Arial,Helvetica Neue,Helvetica,sans-serif; font-size:48px; text-anchor:middle;\" transform=\"rotate(0, 494.203, 1479.62)\" x=\"494.203\" y=\"1479.62\">Business</text>\n",
       "</g>\n",
       "<g clip-path=\"url(#clip2700)\">\n",
       "<text style=\"fill:#000000; fill-opacity:1; font-family:Arial,Helvetica Neue,Helvetica,sans-serif; font-size:48px; text-anchor:middle;\" transform=\"rotate(0, 896.257, 1479.62)\" x=\"896.257\" y=\"1479.62\">Entertainment</text>\n",
       "</g>\n",
       "<g clip-path=\"url(#clip2700)\">\n",
       "<text style=\"fill:#000000; fill-opacity:1; font-family:Arial,Helvetica Neue,Helvetica,sans-serif; font-size:48px; text-anchor:middle;\" transform=\"rotate(0, 1298.31, 1479.62)\" x=\"1298.31\" y=\"1479.62\">Politics</text>\n",
       "</g>\n",
       "<g clip-path=\"url(#clip2700)\">\n",
       "<text style=\"fill:#000000; fill-opacity:1; font-family:Arial,Helvetica Neue,Helvetica,sans-serif; font-size:48px; text-anchor:middle;\" transform=\"rotate(0, 1700.36, 1479.62)\" x=\"1700.36\" y=\"1479.62\">Sport</text>\n",
       "</g>\n",
       "<g clip-path=\"url(#clip2700)\">\n",
       "<text style=\"fill:#000000; fill-opacity:1; font-family:Arial,Helvetica Neue,Helvetica,sans-serif; font-size:48px; text-anchor:middle;\" transform=\"rotate(0, 2102.42, 1479.62)\" x=\"2102.42\" y=\"1479.62\">Tech</text>\n",
       "</g>\n",
       "<g clip-path=\"url(#clip2700)\">\n",
       "<text style=\"fill:#000000; fill-opacity:1; font-family:Arial,Helvetica Neue,Helvetica,sans-serif; font-size:48px; text-anchor:end;\" transform=\"rotate(0, 219.864, 1421.15)\" x=\"219.864\" y=\"1421.15\">-0.2</text>\n",
       "</g>\n",
       "<g clip-path=\"url(#clip2700)\">\n",
       "<text style=\"fill:#000000; fill-opacity:1; font-family:Arial,Helvetica Neue,Helvetica,sans-serif; font-size:48px; text-anchor:end;\" transform=\"rotate(0, 219.864, 1168.8)\" x=\"219.864\" y=\"1168.8\">-0.1</text>\n",
       "</g>\n",
       "<g clip-path=\"url(#clip2700)\">\n",
       "<text style=\"fill:#000000; fill-opacity:1; font-family:Arial,Helvetica Neue,Helvetica,sans-serif; font-size:48px; text-anchor:end;\" transform=\"rotate(0, 219.864, 916.439)\" x=\"219.864\" y=\"916.439\">0.0</text>\n",
       "</g>\n",
       "<g clip-path=\"url(#clip2700)\">\n",
       "<text style=\"fill:#000000; fill-opacity:1; font-family:Arial,Helvetica Neue,Helvetica,sans-serif; font-size:48px; text-anchor:end;\" transform=\"rotate(0, 219.864, 664.084)\" x=\"219.864\" y=\"664.084\">0.1</text>\n",
       "</g>\n",
       "<g clip-path=\"url(#clip2700)\">\n",
       "<text style=\"fill:#000000; fill-opacity:1; font-family:Arial,Helvetica Neue,Helvetica,sans-serif; font-size:48px; text-anchor:end;\" transform=\"rotate(0, 219.864, 411.728)\" x=\"219.864\" y=\"411.728\">0.2</text>\n",
       "</g>\n",
       "<g clip-path=\"url(#clip2700)\">\n",
       "<text style=\"fill:#000000; fill-opacity:1; font-family:Arial,Helvetica Neue,Helvetica,sans-serif; font-size:48px; text-anchor:end;\" transform=\"rotate(0, 219.864, 159.372)\" x=\"219.864\" y=\"159.372\">0.3</text>\n",
       "</g>\n",
       "<polyline clip-path=\"url(#clip2702)\" style=\"stroke:#000000; stroke-width:4; stroke-opacity:1; fill:none\" points=\"\n",
       "  243.864,121.675 2352.76,121.675 \n",
       "  \"/>\n",
       "<polyline clip-path=\"url(#clip2702)\" style=\"stroke:#000000; stroke-width:4; stroke-opacity:1; fill:none\" points=\"\n",
       "  2352.76,1425.62 2352.76,121.675 \n",
       "  \"/>\n",
       "<g clip-path=\"url(#clip2700)\">\n",
       "<text style=\"fill:#000000; fill-opacity:1; font-family:Arial,Helvetica Neue,Helvetica,sans-serif; font-size:84px; text-anchor:middle;\" transform=\"rotate(0, 1298.31, 73.2)\" x=\"1298.31\" y=\"73.2\">Data = Test</text>\n",
       "</g>\n",
       "<g clip-path=\"url(#clip2700)\">\n",
       "<text style=\"fill:#000000; fill-opacity:1; font-family:Arial,Helvetica Neue,Helvetica,sans-serif; font-size:66px; text-anchor:middle;\" transform=\"rotate(0, 1298.31, 1559.48)\" x=\"1298.31\" y=\"1559.48\">Category</text>\n",
       "</g>\n",
       "<g clip-path=\"url(#clip2700)\">\n",
       "<text style=\"fill:#000000; fill-opacity:1; font-family:Arial,Helvetica Neue,Helvetica,sans-serif; font-size:66px; text-anchor:middle;\" transform=\"rotate(-90, 89.2861, 773.647)\" x=\"89.2861\" y=\"773.647\">Weight</text>\n",
       "</g>\n",
       "<path clip-path=\"url(#clip2702)\" d=\"\n",
       "M353.485 442.234 L353.485 898.939 L409.772 898.939 L409.772 442.234 L353.485 442.234 L353.485 442.234  Z\n",
       "  \" fill=\"#009af9\" fill-rule=\"evenodd\" fill-opacity=\"1\"/>\n",
       "<polyline clip-path=\"url(#clip2702)\" style=\"stroke:#000000; stroke-width:4; stroke-opacity:1; fill:none\" points=\"\n",
       "  353.485,442.234 353.485,898.939 409.772,898.939 409.772,442.234 353.485,442.234 \n",
       "  \"/>\n",
       "<path clip-path=\"url(#clip2702)\" d=\"\n",
       "M755.538 544.186 L755.538 898.939 L811.826 898.939 L811.826 544.186 L755.538 544.186 L755.538 544.186  Z\n",
       "  \" fill=\"#009af9\" fill-rule=\"evenodd\" fill-opacity=\"1\"/>\n",
       "<polyline clip-path=\"url(#clip2702)\" style=\"stroke:#000000; stroke-width:4; stroke-opacity:1; fill:none\" points=\"\n",
       "  755.538,544.186 755.538,898.939 811.826,898.939 811.826,544.186 755.538,544.186 \n",
       "  \"/>\n",
       "<path clip-path=\"url(#clip2702)\" d=\"\n",
       "M1157.59 158.579 L1157.59 898.939 L1213.88 898.939 L1213.88 158.579 L1157.59 158.579 L1157.59 158.579  Z\n",
       "  \" fill=\"#009af9\" fill-rule=\"evenodd\" fill-opacity=\"1\"/>\n",
       "<polyline clip-path=\"url(#clip2702)\" style=\"stroke:#000000; stroke-width:4; stroke-opacity:1; fill:none\" points=\"\n",
       "  1157.59,158.579 1157.59,898.939 1213.88,898.939 1213.88,158.579 1157.59,158.579 \n",
       "  \"/>\n",
       "<path clip-path=\"url(#clip2702)\" d=\"\n",
       "M1559.64 515.762 L1559.64 898.939 L1615.93 898.939 L1615.93 515.762 L1559.64 515.762 L1559.64 515.762  Z\n",
       "  \" fill=\"#009af9\" fill-rule=\"evenodd\" fill-opacity=\"1\"/>\n",
       "<polyline clip-path=\"url(#clip2702)\" style=\"stroke:#000000; stroke-width:4; stroke-opacity:1; fill:none\" points=\"\n",
       "  1559.64,515.762 1559.64,898.939 1615.93,898.939 1615.93,515.762 1559.64,515.762 \n",
       "  \"/>\n",
       "<path clip-path=\"url(#clip2702)\" d=\"\n",
       "M1961.7 434.052 L1961.7 898.939 L2017.99 898.939 L2017.99 434.052 L1961.7 434.052 L1961.7 434.052  Z\n",
       "  \" fill=\"#009af9\" fill-rule=\"evenodd\" fill-opacity=\"1\"/>\n",
       "<polyline clip-path=\"url(#clip2702)\" style=\"stroke:#000000; stroke-width:4; stroke-opacity:1; fill:none\" points=\"\n",
       "  1961.7,434.052 1961.7,898.939 2017.99,898.939 2017.99,434.052 1961.7,434.052 \n",
       "  \"/>\n",
       "<path clip-path=\"url(#clip2702)\" d=\"\n",
       "M409.772 758.464 L409.772 898.939 L466.06 898.939 L466.06 758.464 L409.772 758.464 L409.772 758.464  Z\n",
       "  \" fill=\"#e26f46\" fill-rule=\"evenodd\" fill-opacity=\"1\"/>\n",
       "<polyline clip-path=\"url(#clip2702)\" style=\"stroke:#000000; stroke-width:4; stroke-opacity:1; fill:none\" points=\"\n",
       "  409.772,758.464 409.772,898.939 466.06,898.939 466.06,758.464 409.772,758.464 \n",
       "  \"/>\n",
       "<path clip-path=\"url(#clip2702)\" d=\"\n",
       "M811.826 1145.74 L811.826 898.939 L868.113 898.939 L868.113 1145.74 L811.826 1145.74 L811.826 1145.74  Z\n",
       "  \" fill=\"#e26f46\" fill-rule=\"evenodd\" fill-opacity=\"1\"/>\n",
       "<polyline clip-path=\"url(#clip2702)\" style=\"stroke:#000000; stroke-width:4; stroke-opacity:1; fill:none\" points=\"\n",
       "  811.826,1145.74 811.826,898.939 868.113,898.939 868.113,1145.74 811.826,1145.74 \n",
       "  \"/>\n",
       "<path clip-path=\"url(#clip2702)\" d=\"\n",
       "M1213.88 167.744 L1213.88 898.939 L1270.17 898.939 L1270.17 167.744 L1213.88 167.744 L1213.88 167.744  Z\n",
       "  \" fill=\"#e26f46\" fill-rule=\"evenodd\" fill-opacity=\"1\"/>\n",
       "<polyline clip-path=\"url(#clip2702)\" style=\"stroke:#000000; stroke-width:4; stroke-opacity:1; fill:none\" points=\"\n",
       "  1213.88,167.744 1213.88,898.939 1270.17,898.939 1270.17,167.744 1213.88,167.744 \n",
       "  \"/>\n",
       "<path clip-path=\"url(#clip2702)\" d=\"\n",
       "M1615.93 1148.95 L1615.93 898.939 L1672.22 898.939 L1672.22 1148.95 L1615.93 1148.95 L1615.93 1148.95  Z\n",
       "  \" fill=\"#e26f46\" fill-rule=\"evenodd\" fill-opacity=\"1\"/>\n",
       "<polyline clip-path=\"url(#clip2702)\" style=\"stroke:#000000; stroke-width:4; stroke-opacity:1; fill:none\" points=\"\n",
       "  1615.93,1148.95 1615.93,898.939 1672.22,898.939 1672.22,1148.95 1615.93,1148.95 \n",
       "  \"/>\n",
       "<path clip-path=\"url(#clip2702)\" d=\"\n",
       "M2017.99 823.026 L2017.99 898.939 L2074.27 898.939 L2074.27 823.026 L2017.99 823.026 L2017.99 823.026  Z\n",
       "  \" fill=\"#e26f46\" fill-rule=\"evenodd\" fill-opacity=\"1\"/>\n",
       "<polyline clip-path=\"url(#clip2702)\" style=\"stroke:#000000; stroke-width:4; stroke-opacity:1; fill:none\" points=\"\n",
       "  2017.99,823.026 2017.99,898.939 2074.27,898.939 2074.27,823.026 2017.99,823.026 \n",
       "  \"/>\n",
       "<path clip-path=\"url(#clip2702)\" d=\"\n",
       "M466.06 1278.28 L466.06 898.939 L522.347 898.939 L522.347 1278.28 L466.06 1278.28 L466.06 1278.28  Z\n",
       "  \" fill=\"#3da44d\" fill-rule=\"evenodd\" fill-opacity=\"1\"/>\n",
       "<polyline clip-path=\"url(#clip2702)\" style=\"stroke:#000000; stroke-width:4; stroke-opacity:1; fill:none\" points=\"\n",
       "  466.06,1278.28 466.06,898.939 522.347,898.939 522.347,1278.28 466.06,1278.28 \n",
       "  \"/>\n",
       "<path clip-path=\"url(#clip2702)\" d=\"\n",
       "M868.113 939.32 L868.113 898.939 L924.4 898.939 L924.4 939.32 L868.113 939.32 L868.113 939.32  Z\n",
       "  \" fill=\"#3da44d\" fill-rule=\"evenodd\" fill-opacity=\"1\"/>\n",
       "<polyline clip-path=\"url(#clip2702)\" style=\"stroke:#000000; stroke-width:4; stroke-opacity:1; fill:none\" points=\"\n",
       "  868.113,939.32 868.113,898.939 924.4,898.939 924.4,939.32 868.113,939.32 \n",
       "  \"/>\n",
       "<path clip-path=\"url(#clip2702)\" d=\"\n",
       "M1270.17 384.202 L1270.17 898.939 L1326.45 898.939 L1326.45 384.202 L1270.17 384.202 L1270.17 384.202  Z\n",
       "  \" fill=\"#3da44d\" fill-rule=\"evenodd\" fill-opacity=\"1\"/>\n",
       "<polyline clip-path=\"url(#clip2702)\" style=\"stroke:#000000; stroke-width:4; stroke-opacity:1; fill:none\" points=\"\n",
       "  1270.17,384.202 1270.17,898.939 1326.45,898.939 1326.45,384.202 1270.17,384.202 \n",
       "  \"/>\n",
       "<path clip-path=\"url(#clip2702)\" d=\"\n",
       "M1672.22 836.193 L1672.22 898.939 L1728.51 898.939 L1728.51 836.193 L1672.22 836.193 L1672.22 836.193  Z\n",
       "  \" fill=\"#3da44d\" fill-rule=\"evenodd\" fill-opacity=\"1\"/>\n",
       "<polyline clip-path=\"url(#clip2702)\" style=\"stroke:#000000; stroke-width:4; stroke-opacity:1; fill:none\" points=\"\n",
       "  1672.22,836.193 1672.22,898.939 1728.51,898.939 1728.51,836.193 1672.22,836.193 \n",
       "  \"/>\n",
       "<path clip-path=\"url(#clip2702)\" d=\"\n",
       "M2074.27 1317.86 L2074.27 898.939 L2130.56 898.939 L2130.56 1317.86 L2074.27 1317.86 L2074.27 1317.86  Z\n",
       "  \" fill=\"#3da44d\" fill-rule=\"evenodd\" fill-opacity=\"1\"/>\n",
       "<polyline clip-path=\"url(#clip2702)\" style=\"stroke:#000000; stroke-width:4; stroke-opacity:1; fill:none\" points=\"\n",
       "  2074.27,1317.86 2074.27,898.939 2130.56,898.939 2130.56,1317.86 2074.27,1317.86 \n",
       "  \"/>\n",
       "<path clip-path=\"url(#clip2702)\" d=\"\n",
       "M522.347 1061.09 L522.347 898.939 L578.635 898.939 L578.635 1061.09 L522.347 1061.09 L522.347 1061.09  Z\n",
       "  \" fill=\"#c271d2\" fill-rule=\"evenodd\" fill-opacity=\"1\"/>\n",
       "<polyline clip-path=\"url(#clip2702)\" style=\"stroke:#000000; stroke-width:4; stroke-opacity:1; fill:none\" points=\"\n",
       "  522.347,1061.09 522.347,898.939 578.635,898.939 578.635,1061.09 522.347,1061.09 \n",
       "  \"/>\n",
       "<path clip-path=\"url(#clip2702)\" d=\"\n",
       "M924.4 470.541 L924.4 898.939 L980.688 898.939 L980.688 470.541 L924.4 470.541 L924.4 470.541  Z\n",
       "  \" fill=\"#c271d2\" fill-rule=\"evenodd\" fill-opacity=\"1\"/>\n",
       "<polyline clip-path=\"url(#clip2702)\" style=\"stroke:#000000; stroke-width:4; stroke-opacity:1; fill:none\" points=\"\n",
       "  924.4,470.541 924.4,898.939 980.688,898.939 980.688,470.541 924.4,470.541 \n",
       "  \"/>\n",
       "<path clip-path=\"url(#clip2702)\" d=\"\n",
       "M1326.45 750.145 L1326.45 898.939 L1382.74 898.939 L1382.74 750.145 L1326.45 750.145 L1326.45 750.145  Z\n",
       "  \" fill=\"#c271d2\" fill-rule=\"evenodd\" fill-opacity=\"1\"/>\n",
       "<polyline clip-path=\"url(#clip2702)\" style=\"stroke:#000000; stroke-width:4; stroke-opacity:1; fill:none\" points=\"\n",
       "  1326.45,750.145 1326.45,898.939 1382.74,898.939 1382.74,750.145 1326.45,750.145 \n",
       "  \"/>\n",
       "<path clip-path=\"url(#clip2702)\" d=\"\n",
       "M1728.51 661.34 L1728.51 898.939 L1784.79 898.939 L1784.79 661.34 L1728.51 661.34 L1728.51 661.34  Z\n",
       "  \" fill=\"#c271d2\" fill-rule=\"evenodd\" fill-opacity=\"1\"/>\n",
       "<polyline clip-path=\"url(#clip2702)\" style=\"stroke:#000000; stroke-width:4; stroke-opacity:1; fill:none\" points=\"\n",
       "  1728.51,661.34 1728.51,898.939 1784.79,898.939 1784.79,661.34 1728.51,661.34 \n",
       "  \"/>\n",
       "<path clip-path=\"url(#clip2702)\" d=\"\n",
       "M2130.56 925.687 L2130.56 898.939 L2186.85 898.939 L2186.85 925.687 L2130.56 925.687 L2130.56 925.687  Z\n",
       "  \" fill=\"#c271d2\" fill-rule=\"evenodd\" fill-opacity=\"1\"/>\n",
       "<polyline clip-path=\"url(#clip2702)\" style=\"stroke:#000000; stroke-width:4; stroke-opacity:1; fill:none\" points=\"\n",
       "  2130.56,925.687 2130.56,898.939 2186.85,898.939 2186.85,925.687 2130.56,925.687 \n",
       "  \"/>\n",
       "<path clip-path=\"url(#clip2702)\" d=\"\n",
       "M578.635 1388.71 L578.635 898.939 L634.922 898.939 L634.922 1388.71 L578.635 1388.71 L578.635 1388.71  Z\n",
       "  \" fill=\"#ac8d18\" fill-rule=\"evenodd\" fill-opacity=\"1\"/>\n",
       "<polyline clip-path=\"url(#clip2702)\" style=\"stroke:#000000; stroke-width:4; stroke-opacity:1; fill:none\" points=\"\n",
       "  578.635,1388.71 578.635,898.939 634.922,898.939 634.922,1388.71 578.635,1388.71 \n",
       "  \"/>\n",
       "<path clip-path=\"url(#clip2702)\" d=\"\n",
       "M980.688 898.183 L980.688 898.939 L1036.98 898.939 L1036.98 898.183 L980.688 898.183 L980.688 898.183  Z\n",
       "  \" fill=\"#ac8d18\" fill-rule=\"evenodd\" fill-opacity=\"1\"/>\n",
       "<polyline clip-path=\"url(#clip2702)\" style=\"stroke:#000000; stroke-width:4; stroke-opacity:1; fill:none\" points=\"\n",
       "  980.688,898.183 980.688,898.939 1036.98,898.939 1036.98,898.183 980.688,898.183 \n",
       "  \"/>\n",
       "<path clip-path=\"url(#clip2702)\" d=\"\n",
       "M1382.74 854.013 L1382.74 898.939 L1439.03 898.939 L1439.03 854.013 L1382.74 854.013 L1382.74 854.013  Z\n",
       "  \" fill=\"#ac8d18\" fill-rule=\"evenodd\" fill-opacity=\"1\"/>\n",
       "<polyline clip-path=\"url(#clip2702)\" style=\"stroke:#000000; stroke-width:4; stroke-opacity:1; fill:none\" points=\"\n",
       "  1382.74,854.013 1382.74,898.939 1439.03,898.939 1439.03,854.013 1382.74,854.013 \n",
       "  \"/>\n",
       "<path clip-path=\"url(#clip2702)\" d=\"\n",
       "M1784.79 1079.97 L1784.79 898.939 L1841.08 898.939 L1841.08 1079.97 L1784.79 1079.97 L1784.79 1079.97  Z\n",
       "  \" fill=\"#ac8d18\" fill-rule=\"evenodd\" fill-opacity=\"1\"/>\n",
       "<polyline clip-path=\"url(#clip2702)\" style=\"stroke:#000000; stroke-width:4; stroke-opacity:1; fill:none\" points=\"\n",
       "  1784.79,1079.97 1784.79,898.939 1841.08,898.939 1841.08,1079.97 1784.79,1079.97 \n",
       "  \"/>\n",
       "<path clip-path=\"url(#clip2702)\" d=\"\n",
       "M2186.85 650.583 L2186.85 898.939 L2243.14 898.939 L2243.14 650.583 L2186.85 650.583 L2186.85 650.583  Z\n",
       "  \" fill=\"#ac8d18\" fill-rule=\"evenodd\" fill-opacity=\"1\"/>\n",
       "<polyline clip-path=\"url(#clip2702)\" style=\"stroke:#000000; stroke-width:4; stroke-opacity:1; fill:none\" points=\"\n",
       "  2186.85,650.583 2186.85,898.939 2243.14,898.939 2243.14,650.583 2186.85,650.583 \n",
       "  \"/>\n",
       "<path clip-path=\"url(#clip2700)\" d=\"\n",
       "M1882.93 568.075 L2280.76 568.075 L2280.76 205.195 L1882.93 205.195  Z\n",
       "  \" fill=\"#ffffff\" fill-rule=\"evenodd\" fill-opacity=\"1\"/>\n",
       "<polyline clip-path=\"url(#clip2700)\" style=\"stroke:#000000; stroke-width:4; stroke-opacity:1; fill:none\" points=\"\n",
       "  1882.93,568.075 2280.76,568.075 2280.76,205.195 1882.93,205.195 1882.93,568.075 \n",
       "  \"/>\n",
       "<path clip-path=\"url(#clip2700)\" d=\"\n",
       "M1906.93 289.867 L2050.93 289.867 L2050.93 241.483 L1906.93 241.483 L1906.93 289.867  Z\n",
       "  \" fill=\"#009af9\" fill-rule=\"evenodd\" fill-opacity=\"1\"/>\n",
       "<polyline clip-path=\"url(#clip2700)\" style=\"stroke:#000000; stroke-width:4; stroke-opacity:1; fill:none\" points=\"\n",
       "  1906.93,289.867 2050.93,289.867 2050.93,241.483 1906.93,241.483 1906.93,289.867 \n",
       "  \"/>\n",
       "<g clip-path=\"url(#clip2700)\">\n",
       "<text style=\"fill:#000000; fill-opacity:1; font-family:Arial,Helvetica Neue,Helvetica,sans-serif; font-size:48px; text-anchor:start;\" transform=\"rotate(0, 2074.93, 283.175)\" x=\"2074.93\" y=\"283.175\">Topic 1</text>\n",
       "</g>\n",
       "<path clip-path=\"url(#clip2700)\" d=\"\n",
       "M1906.93 350.347 L2050.93 350.347 L2050.93 301.963 L1906.93 301.963 L1906.93 350.347  Z\n",
       "  \" fill=\"#e26f46\" fill-rule=\"evenodd\" fill-opacity=\"1\"/>\n",
       "<polyline clip-path=\"url(#clip2700)\" style=\"stroke:#000000; stroke-width:4; stroke-opacity:1; fill:none\" points=\"\n",
       "  1906.93,350.347 2050.93,350.347 2050.93,301.963 1906.93,301.963 1906.93,350.347 \n",
       "  \"/>\n",
       "<g clip-path=\"url(#clip2700)\">\n",
       "<text style=\"fill:#000000; fill-opacity:1; font-family:Arial,Helvetica Neue,Helvetica,sans-serif; font-size:48px; text-anchor:start;\" transform=\"rotate(0, 2074.93, 343.655)\" x=\"2074.93\" y=\"343.655\">Topic 2</text>\n",
       "</g>\n",
       "<path clip-path=\"url(#clip2700)\" d=\"\n",
       "M1906.93 410.827 L2050.93 410.827 L2050.93 362.443 L1906.93 362.443 L1906.93 410.827  Z\n",
       "  \" fill=\"#3da44d\" fill-rule=\"evenodd\" fill-opacity=\"1\"/>\n",
       "<polyline clip-path=\"url(#clip2700)\" style=\"stroke:#000000; stroke-width:4; stroke-opacity:1; fill:none\" points=\"\n",
       "  1906.93,410.827 2050.93,410.827 2050.93,362.443 1906.93,362.443 1906.93,410.827 \n",
       "  \"/>\n",
       "<g clip-path=\"url(#clip2700)\">\n",
       "<text style=\"fill:#000000; fill-opacity:1; font-family:Arial,Helvetica Neue,Helvetica,sans-serif; font-size:48px; text-anchor:start;\" transform=\"rotate(0, 2074.93, 404.135)\" x=\"2074.93\" y=\"404.135\">Topic 3</text>\n",
       "</g>\n",
       "<path clip-path=\"url(#clip2700)\" d=\"\n",
       "M1906.93 471.307 L2050.93 471.307 L2050.93 422.923 L1906.93 422.923 L1906.93 471.307  Z\n",
       "  \" fill=\"#c271d2\" fill-rule=\"evenodd\" fill-opacity=\"1\"/>\n",
       "<polyline clip-path=\"url(#clip2700)\" style=\"stroke:#000000; stroke-width:4; stroke-opacity:1; fill:none\" points=\"\n",
       "  1906.93,471.307 2050.93,471.307 2050.93,422.923 1906.93,422.923 1906.93,471.307 \n",
       "  \"/>\n",
       "<g clip-path=\"url(#clip2700)\">\n",
       "<text style=\"fill:#000000; fill-opacity:1; font-family:Arial,Helvetica Neue,Helvetica,sans-serif; font-size:48px; text-anchor:start;\" transform=\"rotate(0, 2074.93, 464.615)\" x=\"2074.93\" y=\"464.615\">Topic 4</text>\n",
       "</g>\n",
       "<path clip-path=\"url(#clip2700)\" d=\"\n",
       "M1906.93 531.787 L2050.93 531.787 L2050.93 483.403 L1906.93 483.403 L1906.93 531.787  Z\n",
       "  \" fill=\"#ac8d18\" fill-rule=\"evenodd\" fill-opacity=\"1\"/>\n",
       "<polyline clip-path=\"url(#clip2700)\" style=\"stroke:#000000; stroke-width:4; stroke-opacity:1; fill:none\" points=\"\n",
       "  1906.93,531.787 2050.93,531.787 2050.93,483.403 1906.93,483.403 1906.93,531.787 \n",
       "  \"/>\n",
       "<g clip-path=\"url(#clip2700)\">\n",
       "<text style=\"fill:#000000; fill-opacity:1; font-family:Arial,Helvetica Neue,Helvetica,sans-serif; font-size:48px; text-anchor:start;\" transform=\"rotate(0, 2074.93, 525.095)\" x=\"2074.93\" y=\"525.095\">Topic 5</text>\n",
       "</g>\n",
       "</svg>\n"
      ]
     },
     "execution_count": 43,
     "metadata": {},
     "output_type": "execute_result"
    }
   ],
   "source": [
    "@df result[result.Data .== \"Test\", :] groupedbar(:Category, :value, group = :variable, xlabel = \"Category\", ylabel = \"Weight\",\n",
    "        title = \"Data = Test\", bar_width = 0.7, framestyle = :box)"
   ]
  },
  {
   "cell_type": "markdown",
   "metadata": {},
   "source": [
    "### Categories in 2D"
   ]
  },
  {
   "cell_type": "markdown",
   "metadata": {},
   "source": [
    "The below plot shows the projections of the five topics into a 2D space."
   ]
  },
  {
   "cell_type": "code",
   "execution_count": 44,
   "metadata": {
    "ExecuteTime": {
     "end_time": "2020-06-20T19:15:32.248607Z",
     "start_time": "2020-06-20T19:15:32.237232Z"
    }
   },
   "outputs": [
    {
     "data": {
      "text/html": [
       "<style>#sk-container-id-6 {color: black;background-color: white;}#sk-container-id-6 pre{padding: 0;}#sk-container-id-6 div.sk-toggleable {background-color: white;}#sk-container-id-6 label.sk-toggleable__label {cursor: pointer;display: block;width: 100%;margin-bottom: 0;padding: 0.3em;box-sizing: border-box;text-align: center;}#sk-container-id-6 label.sk-toggleable__label-arrow:before {content: \"▸\";float: left;margin-right: 0.25em;color: #696969;}#sk-container-id-6 label.sk-toggleable__label-arrow:hover:before {color: black;}#sk-container-id-6 div.sk-estimator:hover label.sk-toggleable__label-arrow:before {color: black;}#sk-container-id-6 div.sk-toggleable__content {max-height: 0;max-width: 0;overflow: hidden;text-align: left;background-color: #f0f8ff;}#sk-container-id-6 div.sk-toggleable__content pre {margin: 0.2em;color: black;border-radius: 0.25em;background-color: #f0f8ff;}#sk-container-id-6 input.sk-toggleable__control:checked~div.sk-toggleable__content {max-height: 200px;max-width: 100%;overflow: auto;}#sk-container-id-6 input.sk-toggleable__control:checked~label.sk-toggleable__label-arrow:before {content: \"▾\";}#sk-container-id-6 div.sk-estimator input.sk-toggleable__control:checked~label.sk-toggleable__label {background-color: #d4ebff;}#sk-container-id-6 div.sk-label input.sk-toggleable__control:checked~label.sk-toggleable__label {background-color: #d4ebff;}#sk-container-id-6 input.sk-hidden--visually {border: 0;clip: rect(1px 1px 1px 1px);clip: rect(1px, 1px, 1px, 1px);height: 1px;margin: -1px;overflow: hidden;padding: 0;position: absolute;width: 1px;}#sk-container-id-6 div.sk-estimator {font-family: monospace;background-color: #f0f8ff;border: 1px dotted black;border-radius: 0.25em;box-sizing: border-box;margin-bottom: 0.5em;}#sk-container-id-6 div.sk-estimator:hover {background-color: #d4ebff;}#sk-container-id-6 div.sk-parallel-item::after {content: \"\";width: 100%;border-bottom: 1px solid gray;flex-grow: 1;}#sk-container-id-6 div.sk-label:hover label.sk-toggleable__label {background-color: #d4ebff;}#sk-container-id-6 div.sk-serial::before {content: \"\";position: absolute;border-left: 1px solid gray;box-sizing: border-box;top: 0;bottom: 0;left: 50%;z-index: 0;}#sk-container-id-6 div.sk-serial {display: flex;flex-direction: column;align-items: center;background-color: white;padding-right: 0.2em;padding-left: 0.2em;position: relative;}#sk-container-id-6 div.sk-item {position: relative;z-index: 1;}#sk-container-id-6 div.sk-parallel {display: flex;align-items: stretch;justify-content: center;background-color: white;position: relative;}#sk-container-id-6 div.sk-item::before, #sk-container-id-6 div.sk-parallel-item::before {content: \"\";position: absolute;border-left: 1px solid gray;box-sizing: border-box;top: 0;bottom: 0;left: 50%;z-index: -1;}#sk-container-id-6 div.sk-parallel-item {display: flex;flex-direction: column;z-index: 1;position: relative;background-color: white;}#sk-container-id-6 div.sk-parallel-item:first-child::after {align-self: flex-end;width: 50%;}#sk-container-id-6 div.sk-parallel-item:last-child::after {align-self: flex-start;width: 50%;}#sk-container-id-6 div.sk-parallel-item:only-child::after {width: 0;}#sk-container-id-6 div.sk-dashed-wrapped {border: 1px dashed gray;margin: 0 0.4em 0.5em 0.4em;box-sizing: border-box;padding-bottom: 0.4em;background-color: white;}#sk-container-id-6 div.sk-label label {font-family: monospace;font-weight: bold;display: inline-block;line-height: 1.2em;}#sk-container-id-6 div.sk-label-container {text-align: center;}#sk-container-id-6 div.sk-container {/* jupyter's `normalize.less` sets `[hidden] { display: none; }` but bootstrap.min.css set `[hidden] { display: none !important; }` so we also need the `!important` here to be able to override the default hidden behavior on the sphinx rendered scikit-learn.org. See: https://github.com/scikit-learn/scikit-learn/issues/21755 */display: inline-block !important;position: relative;}#sk-container-id-6 div.sk-text-repr-fallback {display: none;}</style><div id=\"sk-container-id-6\" class=\"sk-top-container\"><div class=\"sk-text-repr-fallback\"><pre>PCA(n_components=2)</pre><b>In a Jupyter environment, please rerun this cell to show the HTML representation or trust the notebook. <br />On GitHub, the HTML representation is unable to render, please try loading this page with nbviewer.org.</b></div><div class=\"sk-container\" hidden><div class=\"sk-item\"><div class=\"sk-estimator sk-toggleable\"><input class=\"sk-toggleable__control sk-hidden--visually\" id=\"sk-estimator-id-6\" type=\"checkbox\" checked><label for=\"sk-estimator-id-6\" class=\"sk-toggleable__label sk-toggleable__label-arrow\">PCA</label><div class=\"sk-toggleable__content\"><pre>PCA(n_components=2)</pre></div></div></div></div></div>"
      ],
      "text/plain": [
       "PyObject PCA(n_components=2)"
      ]
     },
     "execution_count": 44,
     "metadata": {},
     "output_type": "execute_result"
    }
   ],
   "source": [
    "pca = PCA(n_components=2)"
   ]
  },
  {
   "cell_type": "code",
   "execution_count": 48,
   "metadata": {
    "scrolled": true
   },
   "outputs": [
    {
     "data": {
      "text/html": [
       "<table class=\"data-frame\"><thead><tr><th></th><th>PC1</th><th>PC2</th><th>Category</th></tr><tr><th></th><th>Float64</th><th>Float64</th><th>String</th></tr></thead><tbody><p>2,175 rows × 3 columns</p><tr><th>1</th><td>-0.0694107</td><td>-0.00682899</td><td>Business</td></tr><tr><th>2</th><td>0.0378909</td><td>-0.0969711</td><td>Business</td></tr><tr><th>3</th><td>-0.062179</td><td>0.0043799</td><td>Business</td></tr><tr><th>4</th><td>0.0619811</td><td>-0.0765149</td><td>Business</td></tr><tr><th>5</th><td>-0.106571</td><td>0.0821097</td><td>Business</td></tr><tr><th>6</th><td>0.0519312</td><td>-0.0793857</td><td>Business</td></tr><tr><th>7</th><td>0.109491</td><td>0.0117284</td><td>Business</td></tr><tr><th>8</th><td>0.111009</td><td>0.0753816</td><td>Business</td></tr><tr><th>9</th><td>0.0593415</td><td>-0.12102</td><td>Business</td></tr><tr><th>10</th><td>-0.0789962</td><td>-0.113697</td><td>Business</td></tr><tr><th>11</th><td>0.100397</td><td>-0.110153</td><td>Business</td></tr><tr><th>12</th><td>-0.10114</td><td>0.0798796</td><td>Business</td></tr><tr><th>13</th><td>0.194162</td><td>0.131837</td><td>Business</td></tr><tr><th>14</th><td>-0.0413715</td><td>-0.122582</td><td>Business</td></tr><tr><th>15</th><td>0.0549555</td><td>-0.0735107</td><td>Business</td></tr><tr><th>16</th><td>0.00838855</td><td>-0.168624</td><td>Business</td></tr><tr><th>17</th><td>0.0982705</td><td>-0.117538</td><td>Business</td></tr><tr><th>18</th><td>-0.171246</td><td>-0.0112876</td><td>Business</td></tr><tr><th>19</th><td>-0.159908</td><td>0.0192371</td><td>Business</td></tr><tr><th>20</th><td>-0.0605141</td><td>0.0703227</td><td>Business</td></tr><tr><th>21</th><td>0.379716</td><td>0.22103</td><td>Business</td></tr><tr><th>22</th><td>0.0767583</td><td>0.057983</td><td>Business</td></tr><tr><th>23</th><td>0.121308</td><td>0.0315639</td><td>Business</td></tr><tr><th>24</th><td>-0.152345</td><td>0.108309</td><td>Business</td></tr><tr><th>25</th><td>0.00939066</td><td>-0.190115</td><td>Business</td></tr><tr><th>26</th><td>-0.155711</td><td>0.0996447</td><td>Business</td></tr><tr><th>27</th><td>0.00574157</td><td>-0.102234</td><td>Business</td></tr><tr><th>28</th><td>-0.149825</td><td>0.146081</td><td>Business</td></tr><tr><th>29</th><td>-0.177744</td><td>0.0201113</td><td>Business</td></tr><tr><th>30</th><td>0.142385</td><td>0.101841</td><td>Business</td></tr><tr><th>&vellip;</th><td>&vellip;</td><td>&vellip;</td><td>&vellip;</td></tr></tbody></table>"
      ],
      "text/latex": [
       "\\begin{tabular}{r|ccc}\n",
       "\t& PC1 & PC2 & Category\\\\\n",
       "\t\\hline\n",
       "\t& Float64 & Float64 & String\\\\\n",
       "\t\\hline\n",
       "\t1 & -0.0694107 & -0.00682899 & Business \\\\\n",
       "\t2 & 0.0378909 & -0.0969711 & Business \\\\\n",
       "\t3 & -0.062179 & 0.0043799 & Business \\\\\n",
       "\t4 & 0.0619811 & -0.0765149 & Business \\\\\n",
       "\t5 & -0.106571 & 0.0821097 & Business \\\\\n",
       "\t6 & 0.0519312 & -0.0793857 & Business \\\\\n",
       "\t7 & 0.109491 & 0.0117284 & Business \\\\\n",
       "\t8 & 0.111009 & 0.0753816 & Business \\\\\n",
       "\t9 & 0.0593415 & -0.12102 & Business \\\\\n",
       "\t10 & -0.0789962 & -0.113697 & Business \\\\\n",
       "\t11 & 0.100397 & -0.110153 & Business \\\\\n",
       "\t12 & -0.10114 & 0.0798796 & Business \\\\\n",
       "\t13 & 0.194162 & 0.131837 & Business \\\\\n",
       "\t14 & -0.0413715 & -0.122582 & Business \\\\\n",
       "\t15 & 0.0549555 & -0.0735107 & Business \\\\\n",
       "\t16 & 0.00838855 & -0.168624 & Business \\\\\n",
       "\t17 & 0.0982705 & -0.117538 & Business \\\\\n",
       "\t18 & -0.171246 & -0.0112876 & Business \\\\\n",
       "\t19 & -0.159908 & 0.0192371 & Business \\\\\n",
       "\t20 & -0.0605141 & 0.0703227 & Business \\\\\n",
       "\t21 & 0.379716 & 0.22103 & Business \\\\\n",
       "\t22 & 0.0767583 & 0.057983 & Business \\\\\n",
       "\t23 & 0.121308 & 0.0315639 & Business \\\\\n",
       "\t24 & -0.152345 & 0.108309 & Business \\\\\n",
       "\t25 & 0.00939066 & -0.190115 & Business \\\\\n",
       "\t26 & -0.155711 & 0.0996447 & Business \\\\\n",
       "\t27 & 0.00574157 & -0.102234 & Business \\\\\n",
       "\t28 & -0.149825 & 0.146081 & Business \\\\\n",
       "\t29 & -0.177744 & 0.0201113 & Business \\\\\n",
       "\t30 & 0.142385 & 0.101841 & Business \\\\\n",
       "\t$\\dots$ & $\\dots$ & $\\dots$ & $\\dots$ \\\\\n",
       "\\end{tabular}\n"
      ],
      "text/plain": [
       "2175×3 DataFrame\n",
       "│ Row  │ PC1        │ PC2         │ Category │\n",
       "│      │ \u001b[90mFloat64\u001b[39m    │ \u001b[90mFloat64\u001b[39m     │ \u001b[90mString\u001b[39m   │\n",
       "├──────┼────────────┼─────────────┼──────────┤\n",
       "│ 1    │ -0.0694107 │ -0.00682899 │ Business │\n",
       "│ 2    │ 0.0378909  │ -0.0969711  │ Business │\n",
       "│ 3    │ -0.062179  │ 0.0043799   │ Business │\n",
       "│ 4    │ 0.0619811  │ -0.0765149  │ Business │\n",
       "│ 5    │ -0.106571  │ 0.0821097   │ Business │\n",
       "│ 6    │ 0.0519312  │ -0.0793857  │ Business │\n",
       "│ 7    │ 0.109491   │ 0.0117284   │ Business │\n",
       "│ 8    │ 0.111009   │ 0.0753816   │ Business │\n",
       "│ 9    │ 0.0593415  │ -0.12102    │ Business │\n",
       "│ 10   │ -0.0789962 │ -0.113697   │ Business │\n",
       "⋮\n",
       "│ 2165 │ 0.0442096  │ -0.00493132 │ Tech     │\n",
       "│ 2166 │ -0.218137  │ 0.180456    │ Tech     │\n",
       "│ 2167 │ -0.0693279 │ -0.0504909  │ Tech     │\n",
       "│ 2168 │ 0.0787602  │ -0.0613401  │ Tech     │\n",
       "│ 2169 │ 0.0617196  │ 0.0328428   │ Tech     │\n",
       "│ 2170 │ 0.27201    │ 0.125434    │ Tech     │\n",
       "│ 2171 │ 0.325742   │ 0.339943    │ Tech     │\n",
       "│ 2172 │ 0.145853   │ 0.0748134   │ Tech     │\n",
       "│ 2173 │ -0.11299   │ 0.0695503   │ Tech     │\n",
       "│ 2174 │ -0.0682777 │ -0.0110824  │ Tech     │\n",
       "│ 2175 │ 0.0129654  │ 0.0347591   │ Tech     │"
      ]
     },
     "execution_count": 48,
     "metadata": {},
     "output_type": "execute_result"
    }
   ],
   "source": [
    "pca_train_result = pca.fit_transform(Pandas.DataFrame(train_result[:, topic_labels]))\n",
    "svd2d = DataFrames.DataFrame(pca_train_result)\n",
    "rename!(svd2d, [\"PC1\", \"PC2\"])\n",
    "svd2d[!, :Category] = sort(train_docs.Category)\n",
    "svd2d"
   ]
  },
  {
   "cell_type": "code",
   "execution_count": 49,
   "metadata": {},
   "outputs": [
    {
     "data": {
      "text/html": [
       "<table class=\"data-frame\"><thead><tr><th></th><th>Category</th><th>PC1</th><th>PC2</th></tr><tr><th></th><th>String</th><th>Float64</th><th>Float64</th></tr></thead><tbody><p>5 rows × 3 columns</p><tr><th>1</th><td>Business</td><td>-0.00284272</td><td>-0.000334827</td></tr><tr><th>2</th><td>Entertainment</td><td>-0.00478242</td><td>0.00594023</td></tr><tr><th>3</th><td>Politics</td><td>-0.00271937</td><td>0.00423796</td></tr><tr><th>4</th><td>Sport</td><td>0.00524098</td><td>-0.00174167</td></tr><tr><th>5</th><td>Tech</td><td>0.00437689</td><td>-0.00748056</td></tr></tbody></table>"
      ],
      "text/latex": [
       "\\begin{tabular}{r|ccc}\n",
       "\t& Category & PC1 & PC2\\\\\n",
       "\t\\hline\n",
       "\t& String & Float64 & Float64\\\\\n",
       "\t\\hline\n",
       "\t1 & Business & -0.00284272 & -0.000334827 \\\\\n",
       "\t2 & Entertainment & -0.00478242 & 0.00594023 \\\\\n",
       "\t3 & Politics & -0.00271937 & 0.00423796 \\\\\n",
       "\t4 & Sport & 0.00524098 & -0.00174167 \\\\\n",
       "\t5 & Tech & 0.00437689 & -0.00748056 \\\\\n",
       "\\end{tabular}\n"
      ],
      "text/plain": [
       "5×3 DataFrame\n",
       "│ Row │ Category      │ PC1         │ PC2          │\n",
       "│     │ \u001b[90mString\u001b[39m        │ \u001b[90mFloat64\u001b[39m     │ \u001b[90mFloat64\u001b[39m      │\n",
       "├─────┼───────────────┼─────────────┼──────────────┤\n",
       "│ 1   │ Business      │ -0.00284272 │ -0.000334827 │\n",
       "│ 2   │ Entertainment │ -0.00478242 │ 0.00594023   │\n",
       "│ 3   │ Politics      │ -0.00271937 │ 0.00423796   │\n",
       "│ 4   │ Sport         │ 0.00524098  │ -0.00174167  │\n",
       "│ 5   │ Tech          │ 0.00437689  │ -0.00748056  │"
      ]
     },
     "execution_count": 49,
     "metadata": {},
     "output_type": "execute_result"
    }
   ],
   "source": [
    "categories_2d = by(svd2d, :Category,\n",
    "                \"PC1\" => mean,\n",
    "                \"PC2\" => mean)\n",
    "rename!(categories_2d, [\"Category\", \"PC1\", \"PC2\"])"
   ]
  },
  {
   "cell_type": "code",
   "execution_count": 50,
   "metadata": {},
   "outputs": [
    {
     "data": {
      "image/png": "[encoded data removed]",
      "text/plain": [
       "Figure(PyObject <Figure size 640x480 with 1 Axes>)"
      ]
     },
     "metadata": {},
     "output_type": "display_data"
    }
   ],
   "source": [
    "Seaborn.quiver([0 for i ∈ 1:5],\n",
    "                [0 for i ∈ 1:5],\n",
    "                values(categories_2d.PC1),\n",
    "                values(categories_2d.PC2),\n",
    "                scale=0.035);"
   ]
  },
  {
   "cell_type": "markdown",
   "metadata": {},
   "source": [
    "## Strenghts & Weaknesses"
   ]
  },
  {
   "cell_type": "markdown",
   "metadata": {},
   "source": [
    "The benefits of LSI include the removal of noise and mitigation of the curse of dimensionality, while also capturing some semantics and performing a clustering of both documents and terms.\n",
    "\n",
    "However, the results of LSI are difficult to interpret because topics are word vectors with both positive and negative entries. In addition, there is no underlying model that would permit the evaluation of fit and provide guidance when selecting the number of dimensions or topics."
   ]
  }
 ],
 "metadata": {
  "celltoolbar": "Slideshow",
  "hide_input": false,
  "kernelspec": {
   "display_name": "Julia 1.7.1",
   "language": "julia",
   "name": "julia-1.7"
  },
  "language_info": {
   "file_extension": ".jl",
   "mimetype": "application/julia",
   "name": "julia",
   "version": "1.7.1"
  },
  "name": "_merged",
  "toc": {
   "base_numbering": 1,
   "nav_menu": {},
   "number_sections": true,
   "sideBar": true,
   "skip_h1_title": true,
   "title_cell": "Table of Contents",
   "title_sidebar": "Contents",
   "toc_cell": false,
   "toc_position": {
    "height": "131.151px",
    "left": "1219px",
    "right": "1064px",
    "top": "29px",
    "width": "265px"
   },
   "toc_section_display": true,
   "toc_window_display": true
  }
 },
 "nbformat": 4,
 "nbformat_minor": 2
}
