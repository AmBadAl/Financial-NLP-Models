{
 "cells": [
  {
   "cell_type": "markdown",
   "metadata": {},
   "source": [
    "# NLP Pipeline with spaCy"
   ]
  },
  {
   "cell_type": "markdown",
   "metadata": {},
   "source": [
    "[spaCy](https://spacy.io/) is a widely used python library with a comprehensive feature set for fast text processing in multiple languages. \n",
    "\n",
    "The usage of the tokenization and annotation engines requires the installation of language models. The features we will use in this chapter only require the small models, the larger models also include word vectors that we will cover in chapter 15."
   ]
  },
  {
   "cell_type": "markdown",
   "metadata": {
    "slideshow": {
     "slide_type": "slide"
    }
   },
   "source": [
    "![spaCy](assets/spacy.jpg)"
   ]
  },
  {
   "cell_type": "markdown",
   "metadata": {
    "slideshow": {
     "slide_type": "slide"
    }
   },
   "source": [
    "## Setup"
   ]
  },
  {
   "cell_type": "markdown",
   "metadata": {
    "slideshow": {
     "slide_type": "slide"
    }
   },
   "source": [
    "### Imports"
   ]
  },
  {
   "cell_type": "code",
   "execution_count": 1,
   "metadata": {
    "ExecuteTime": {
     "end_time": "2020-06-20T17:06:24.649861Z",
     "start_time": "2020-06-20T17:06:24.648019Z"
    }
   },
   "outputs": [],
   "source": [
    "using Pkg"
   ]
  },
  {
   "cell_type": "code",
   "execution_count": 2,
   "metadata": {},
   "outputs": [],
   "source": [
    "#Pkg.add(\"Glob\")\n",
    "#Pkg.add(\"TextAnalysis\")\n",
    "#Pkg.add(\"Languages\")\n",
    "#Pkg.add(\"WordNet\")\n",
    "#Pkg.add(\"WordTokenizers\")\n",
    "#Pkg.add(\"StringEncodings\")"
   ]
  },
  {
   "cell_type": "code",
   "execution_count": 3,
   "metadata": {},
   "outputs": [],
   "source": [
    "using PyCall\n",
    "using Conda"
   ]
  },
  {
   "cell_type": "code",
   "execution_count": 4,
   "metadata": {
    "ExecuteTime": {
     "end_time": "2020-06-20T17:06:25.286434Z",
     "start_time": "2020-06-20T17:06:24.651299Z"
    },
    "slideshow": {
     "slide_type": "fragment"
    }
   },
   "outputs": [],
   "source": [
    "using Glob\n",
    "using TextAnalysis\n",
    "using Languages\n",
    "using DataFrames\n",
    "using WordNet\n",
    "using WordTokenizers\n",
    "using StringEncodings"
   ]
  },
  {
   "cell_type": "markdown",
   "metadata": {
    "slideshow": {
     "slide_type": "slide"
    }
   },
   "source": [
    "### SpaCy Language Model Installation\n",
    "\n",
    "In addition to the `spaCy` library, we need [language models](https://spacy.io/usage/models)."
   ]
  },
  {
   "cell_type": "markdown",
   "metadata": {
    "slideshow": {
     "slide_type": "fragment"
    }
   },
   "source": [
    "#### English"
   ]
  },
  {
   "cell_type": "markdown",
   "metadata": {},
   "source": [
    "Only need to run once."
   ]
  },
  {
   "cell_type": "code",
   "execution_count": 5,
   "metadata": {},
   "outputs": [],
   "source": [
    "#Conda.pip_interop(true)\n",
    "#Conda.pip(\"install\", \"https://github.com/explosion/spacy-models/releases/download/en_core_web_sm-3.3.0/en_core_web_sm-3.3.0-py3-none-any.whl\")\n",
    "#Conda.pip(\"install\", \"https://github.com/explosion/spacy-models/releases/download/en_core_web_sm-3.3.0/en_core_web_sm-3.3.0.tar.gz\")"
   ]
  },
  {
   "cell_type": "markdown",
   "metadata": {
    "slideshow": {
     "slide_type": "slide"
    }
   },
   "source": [
    "#### Spanish"
   ]
  },
  {
   "cell_type": "markdown",
   "metadata": {
    "slideshow": {
     "slide_type": "fragment"
    }
   },
   "source": [
    "[Spanish language models](https://spacy.io/models/es#es_core_news_sm) trained on [AnCora Corpus](http://clic.ub.edu/corpus/) and [WikiNER](http://schwa.org/projects/resources/wiki/Wikiner)"
   ]
  },
  {
   "cell_type": "markdown",
   "metadata": {},
   "source": [
    "Only need to run once."
   ]
  },
  {
   "cell_type": "code",
   "execution_count": 6,
   "metadata": {
    "ExecuteTime": {
     "end_time": "2020-06-20T17:06:28.725394Z",
     "start_time": "2020-06-20T17:06:27.024637Z"
    },
    "scrolled": true,
    "slideshow": {
     "slide_type": "fragment"
    }
   },
   "outputs": [],
   "source": [
    "#Conda.pip(\"install\", \"https://github.com/explosion/spacy-models/releases/download/es_core_news_sm-3.3.0/es_core_news_sm-3.3.0-py3-none-any.whl\")\n",
    "#Conda.pip(\"install\", \"https://github.com/explosion/spacy-models/releases/download/es_core_news_sm-3.3.0/es_core_news_sm-3.3.0.tar.gz\")"
   ]
  },
  {
   "cell_type": "markdown",
   "metadata": {
    "slideshow": {
     "slide_type": "slide"
    }
   },
   "source": [
    "## Get Data"
   ]
  },
  {
   "cell_type": "markdown",
   "metadata": {
    "ExecuteTime": {
     "end_time": "2018-11-22T18:22:17.894231Z",
     "start_time": "2018-11-22T18:22:17.889858Z"
    }
   },
   "source": [
    "- [BBC Articles](http://mlg.ucd.ie/datasets/bbc.html), use raw text files ([download](http://mlg.ucd.ie/files/datasets/bbc-fulltext.zip))\n",
    "    - Data already included in [data](../data) directory, just unzip before first-time use.\n",
    "- [TED2013](http://opus.nlpl.eu/TED2013.php), a parallel corpus of TED talk subtitles in 15 langugages (sample provided) in `results/TED` subfolder of this directory."
   ]
  },
  {
   "cell_type": "markdown",
   "metadata": {
    "slideshow": {
     "slide_type": "slide"
    }
   },
   "source": [
    "## SpaCy Pipeline & Architecture"
   ]
  },
  {
   "cell_type": "markdown",
   "metadata": {
    "slideshow": {
     "slide_type": "fragment"
    }
   },
   "source": [
    "### The Processing Pipeline\n",
    "\n",
    "When you call a spaCy model on a text, spaCy \n",
    "\n",
    "1) tokenizes the text to produce a `Doc` object. \n",
    "\n",
    "2) passes the `Doc` object through the processing pipeline that may be customized, and for the default models consists of\n",
    "- a tagger, \n",
    "- a parser and \n",
    "- an entity recognizer. \n",
    "\n",
    "Each pipeline component returns the processed Doc, which is then passed on to the next component.\n",
    "\n",
    "![Architecture](assets/pipeline.svg)"
   ]
  },
  {
   "cell_type": "markdown",
   "metadata": {
    "slideshow": {
     "slide_type": "slide"
    }
   },
   "source": [
    "### Key Data Structures\n",
    "\n",
    "The central data structures in spaCy are the **Doc** and the **Vocab**. Text annotations are also designed to allow a single source of truth:\n",
    "\n",
    "- The **`Doc`** object owns the sequence of tokens and all their annotations. `Span` and `Token` are views that point into it. It is constructed by the `Tokenizer`, and then modified in place by the components of the pipeline. \n",
    "- The **`Vocab`** object owns a set of look-up tables that make common information available across documents. \n",
    "- The **`Language`** object coordinates these components. It takes raw text and sends it through the pipeline, returning an annotated document. It also orchestrates training and serialization.\n",
    "\n",
    "![Architecture](assets/spaCy-architecture.svg)"
   ]
  },
  {
   "cell_type": "markdown",
   "metadata": {
    "slideshow": {
     "slide_type": "slide"
    }
   },
   "source": [
    "## SpaCy in Action"
   ]
  },
  {
   "cell_type": "markdown",
   "metadata": {
    "slideshow": {
     "slide_type": "fragment"
    }
   },
   "source": [
    "### Create & Explore the Language Object"
   ]
  },
  {
   "cell_type": "markdown",
   "metadata": {},
   "source": [
    "Once installed and linked, we can instantiate a spaCy language model and then call it on a document. As a result, spaCy produces a Doc object that tokenizes the text and processes it according to configurable pipeline components that by default consist of a tagger, a parser, and a named-entity recognizer."
   ]
  },
  {
   "cell_type": "code",
   "execution_count": 7,
   "metadata": {},
   "outputs": [],
   "source": [
    "#Conda.add(\"spacy\")\n",
    "@pyimport spacy"
   ]
  },
  {
   "cell_type": "code",
   "execution_count": 8,
   "metadata": {},
   "outputs": [
    {
     "data": {
      "text/plain": [
       "PyObject <spacy.lang.en.English object at 0x000000007C401BB0>"
      ]
     },
     "execution_count": 8,
     "metadata": {},
     "output_type": "execute_result"
    }
   ],
   "source": [
    "nlp = spacy.load(\"en_core_web_sm\")"
   ]
  },
  {
   "cell_type": "code",
   "execution_count": 9,
   "metadata": {},
   "outputs": [
    {
     "data": {
      "text/plain": [
       "\"en\""
      ]
     },
     "execution_count": 9,
     "metadata": {},
     "output_type": "execute_result"
    }
   ],
   "source": [
    "nlp.lang"
   ]
  },
  {
   "cell_type": "code",
   "execution_count": 10,
   "metadata": {},
   "outputs": [
    {
     "data": {
      "text/plain": [
       "Dict{Any, Any} with 18 entries:\n",
       "  \"requirements\"      => Any[]\n",
       "  \"pipeline\"          => [\"tok2vec\", \"tagger\", \"parser\", \"attribute_ruler\", \"le…\n",
       "  \"name\"              => \"core_web_sm\"\n",
       "  \"author\"            => \"Explosion\"\n",
       "  \"version\"           => \"3.3.0\"\n",
       "  \"description\"       => \"English pipeline optimized for CPU. Components: tok2v…\n",
       "  \"email\"             => \"contact@explosion.ai\"\n",
       "  \"spacy_git_version\" => \"849bef2de\"\n",
       "  \"components\"        => [\"tok2vec\", \"tagger\", \"parser\", \"senter\", \"attribute_r…\n",
       "  \"url\"               => \"https://explosion.ai\"\n",
       "  \"vectors\"           => Dict{Any, Any}(\"name\"=>nothing, \"keys\"=>0, \"width\"=>0,…\n",
       "  \"spacy_version\"     => \">=3.3.0.dev0,<3.4.0\"\n",
       "  \"source\"            => \"C:\\\\Users\\\\Amirreza\\\\.julia\\\\conda\\\\3\\\\lib\\\\site-pack…\n",
       "  \"labels\"            => Dict{Any, Any}(\"tagger\"=>[\"\\$\", \"''\", \",\", \"-LRB-\", \"-…\n",
       "  \"disabled\"          => [\"senter\"]\n",
       "  \"lang\"              => \"en\"\n",
       "  \"license\"           => \"MIT\"\n",
       "  \"sources\"           => Dict{Any, Any}[Dict(\"name\"=>\"OntoNotes 5\", \"author\"=>\"…"
      ]
     },
     "execution_count": 10,
     "metadata": {},
     "output_type": "execute_result"
    }
   ],
   "source": [
    "spacy.info(\"en_core_web_sm\")"
   ]
  },
  {
   "cell_type": "markdown",
   "metadata": {
    "slideshow": {
     "slide_type": "slide"
    }
   },
   "source": [
    "### Explore the Pipeline"
   ]
  },
  {
   "cell_type": "markdown",
   "metadata": {},
   "source": [
    "Let’s illustrate the pipeline using a simple sentence:"
   ]
  },
  {
   "cell_type": "code",
   "execution_count": 11,
   "metadata": {
    "ExecuteTime": {
     "end_time": "2020-06-20T17:06:30.553495Z",
     "start_time": "2020-06-20T17:06:30.533274Z"
    },
    "slideshow": {
     "slide_type": "fragment"
    }
   },
   "outputs": [
    {
     "data": {
      "text/plain": [
       "PyObject Apple is looking at buying U.K. startup for $1 billion"
      ]
     },
     "execution_count": 11,
     "metadata": {},
     "output_type": "execute_result"
    }
   ],
   "source": [
    "sample_text = \"Apple is looking at buying U.K. startup for \\$1 billion\"\n",
    "doc = nlp(sample_text)"
   ]
  },
  {
   "cell_type": "code",
   "execution_count": 12,
   "metadata": {
    "ExecuteTime": {
     "end_time": "2020-06-20T17:06:30.566161Z",
     "start_time": "2020-06-20T17:06:30.559809Z"
    },
    "slideshow": {
     "slide_type": "slide"
    }
   },
   "outputs": [
    {
     "data": {
      "text/plain": [
       "true"
      ]
     },
     "execution_count": 12,
     "metadata": {},
     "output_type": "execute_result"
    }
   ],
   "source": [
    "doc.is_parsed"
   ]
  },
  {
   "cell_type": "code",
   "execution_count": 13,
   "metadata": {
    "ExecuteTime": {
     "end_time": "2020-06-20T17:06:30.574496Z",
     "start_time": "2020-06-20T17:06:30.567134Z"
    },
    "slideshow": {
     "slide_type": "fragment"
    }
   },
   "outputs": [
    {
     "data": {
      "text/plain": [
       "true"
      ]
     },
     "execution_count": 13,
     "metadata": {},
     "output_type": "execute_result"
    }
   ],
   "source": [
    "doc.is_sentenced"
   ]
  },
  {
   "cell_type": "code",
   "execution_count": 14,
   "metadata": {
    "ExecuteTime": {
     "end_time": "2020-06-20T17:06:30.582779Z",
     "start_time": "2020-06-20T17:06:30.575463Z"
    },
    "slideshow": {
     "slide_type": "fragment"
    }
   },
   "outputs": [
    {
     "data": {
      "text/plain": [
       "true"
      ]
     },
     "execution_count": 14,
     "metadata": {},
     "output_type": "execute_result"
    }
   ],
   "source": [
    "doc.is_tagged"
   ]
  },
  {
   "cell_type": "code",
   "execution_count": 15,
   "metadata": {
    "ExecuteTime": {
     "end_time": "2020-06-20T17:06:30.594192Z",
     "start_time": "2020-06-20T17:06:30.583760Z"
    },
    "slideshow": {
     "slide_type": "fragment"
    }
   },
   "outputs": [
    {
     "data": {
      "text/plain": [
       "\"Apple is looking at buying U.K. startup for \\$1 billion\""
      ]
     },
     "execution_count": 15,
     "metadata": {},
     "output_type": "execute_result"
    }
   ],
   "source": [
    "doc.text"
   ]
  },
  {
   "cell_type": "code",
   "execution_count": 16,
   "metadata": {
    "ExecuteTime": {
     "end_time": "2020-06-20T17:06:30.617277Z",
     "start_time": "2020-06-20T17:06:30.605280Z"
    },
    "slideshow": {
     "slide_type": "fragment"
    }
   },
   "outputs": [
    {
     "data": {
      "text/plain": [
       "781"
      ]
     },
     "execution_count": 16,
     "metadata": {},
     "output_type": "execute_result"
    }
   ],
   "source": [
    "doc.vocab.length"
   ]
  },
  {
   "cell_type": "markdown",
   "metadata": {
    "slideshow": {
     "slide_type": "slide"
    }
   },
   "source": [
    "#### Explore `Token` annotations"
   ]
  },
  {
   "cell_type": "markdown",
   "metadata": {},
   "source": [
    "The parsed document content is iterable and each element has numerous attributes produced by the processing pipeline. The below sample illustrates how to access the following attributes:"
   ]
  },
  {
   "cell_type": "code",
   "execution_count": 17,
   "metadata": {
    "ExecuteTime": {
     "end_time": "2020-06-20T17:06:30.631082Z",
     "start_time": "2020-06-20T17:06:30.618677Z"
    },
    "slideshow": {
     "slide_type": "fragment"
    }
   },
   "outputs": [
    {
     "data": {
      "text/html": [
       "<div class=\"data-frame\"><p>11 rows × 1 columns</p><table class=\"data-frame\"><thead><tr><th></th><th>token</th></tr><tr><th></th><th title=\"String\">String</th></tr></thead><tbody><tr><th>1</th><td>Apple</td></tr><tr><th>2</th><td>is</td></tr><tr><th>3</th><td>looking</td></tr><tr><th>4</th><td>at</td></tr><tr><th>5</th><td>buying</td></tr><tr><th>6</th><td>U.K.</td></tr><tr><th>7</th><td>startup</td></tr><tr><th>8</th><td>for</td></tr><tr><th>9</th><td>$</td></tr><tr><th>10</th><td>1</td></tr><tr><th>11</th><td>billion</td></tr></tbody></table></div>"
      ],
      "text/latex": [
       "\\begin{tabular}{r|c}\n",
       "\t& token\\\\\n",
       "\t\\hline\n",
       "\t& String\\\\\n",
       "\t\\hline\n",
       "\t1 & Apple \\\\\n",
       "\t2 & is \\\\\n",
       "\t3 & looking \\\\\n",
       "\t4 & at \\\\\n",
       "\t5 & buying \\\\\n",
       "\t6 & U.K. \\\\\n",
       "\t7 & startup \\\\\n",
       "\t8 & for \\\\\n",
       "\t9 & \\$ \\\\\n",
       "\t10 & 1 \\\\\n",
       "\t11 & billion \\\\\n",
       "\\end{tabular}\n"
      ],
      "text/plain": [
       "\u001b[1m11×1 DataFrame\u001b[0m\n",
       "\u001b[1m Row \u001b[0m│\u001b[1m token   \u001b[0m\n",
       "\u001b[1m     \u001b[0m│\u001b[90m String  \u001b[0m\n",
       "─────┼─────────\n",
       "   1 │ Apple\n",
       "   2 │ is\n",
       "   3 │ looking\n",
       "   4 │ at\n",
       "   5 │ buying\n",
       "   6 │ U.K.\n",
       "   7 │ startup\n",
       "   8 │ for\n",
       "   9 │ $\n",
       "  10 │ 1\n",
       "  11 │ billion"
      ]
     },
     "execution_count": 17,
     "metadata": {},
     "output_type": "execute_result"
    }
   ],
   "source": [
    "DataFrame(token = [token.text for token ∈ doc])"
   ]
  },
  {
   "cell_type": "code",
   "execution_count": 18,
   "metadata": {
    "ExecuteTime": {
     "end_time": "2020-06-20T17:06:30.651336Z",
     "start_time": "2020-06-20T17:06:30.632454Z"
    },
    "slideshow": {
     "slide_type": "slide"
    }
   },
   "outputs": [
    {
     "data": {
      "text/plain": [
       "11-element Vector{Vector{Any}}:\n",
       " [\"Apple\", \"Apple\", \"PROPN\", \"NNP\", \"nsubj\", \"Xxxxx\", true, false]\n",
       " [\"is\", \"be\", \"AUX\", \"VBZ\", \"aux\", \"xx\", true, true]\n",
       " [\"looking\", \"look\", \"VERB\", \"VBG\", \"ROOT\", \"xxxx\", true, false]\n",
       " [\"at\", \"at\", \"ADP\", \"IN\", \"prep\", \"xx\", true, true]\n",
       " [\"buying\", \"buy\", \"VERB\", \"VBG\", \"pcomp\", \"xxxx\", true, false]\n",
       " [\"U.K.\", \"U.K.\", \"PROPN\", \"NNP\", \"compound\", \"X.X.\", false, false]\n",
       " [\"startup\", \"startup\", \"NOUN\", \"NN\", \"dobj\", \"xxxx\", true, false]\n",
       " [\"for\", \"for\", \"ADP\", \"IN\", \"prep\", \"xxx\", true, true]\n",
       " [\"\\$\", \"\\$\", \"SYM\", \"\\$\", \"quantmod\", \"\\$\", false, false]\n",
       " [\"1\", \"1\", \"NUM\", \"CD\", \"compound\", \"d\", false, false]\n",
       " [\"billion\", \"billion\", \"NUM\", \"CD\", \"pobj\", \"xxxx\", true, false]"
      ]
     },
     "execution_count": 18,
     "metadata": {},
     "output_type": "execute_result"
    }
   ],
   "source": [
    "sample_info = [[t.text, t.lemma_, t.pos_, t.tag_, t.dep_, t.shape_, t.is_alpha, t.is_stop] for t ∈ doc]"
   ]
  },
  {
   "cell_type": "code",
   "execution_count": 19,
   "metadata": {},
   "outputs": [
    {
     "data": {
      "text/html": [
       "<div class=\"data-frame\"><p>11 rows × 8 columns</p><table class=\"data-frame\"><thead><tr><th></th><th>text</th><th>lemma</th><th>pos</th><th>tag</th><th>dep</th><th>shape</th><th>is_alpha</th><th>is_stop</th></tr><tr><th></th><th title=\"String\">String</th><th title=\"String\">String</th><th title=\"String\">String</th><th title=\"String\">String</th><th title=\"String\">String</th><th title=\"String\">String</th><th title=\"Bool\">Bool</th><th title=\"Bool\">Bool</th></tr></thead><tbody><tr><th>1</th><td>Apple</td><td>Apple</td><td>PROPN</td><td>NNP</td><td>nsubj</td><td>Xxxxx</td><td>1</td><td>0</td></tr><tr><th>2</th><td>is</td><td>be</td><td>AUX</td><td>VBZ</td><td>aux</td><td>xx</td><td>1</td><td>1</td></tr><tr><th>3</th><td>looking</td><td>look</td><td>VERB</td><td>VBG</td><td>ROOT</td><td>xxxx</td><td>1</td><td>0</td></tr><tr><th>4</th><td>at</td><td>at</td><td>ADP</td><td>IN</td><td>prep</td><td>xx</td><td>1</td><td>1</td></tr><tr><th>5</th><td>buying</td><td>buy</td><td>VERB</td><td>VBG</td><td>pcomp</td><td>xxxx</td><td>1</td><td>0</td></tr><tr><th>6</th><td>U.K.</td><td>U.K.</td><td>PROPN</td><td>NNP</td><td>compound</td><td>X.X.</td><td>0</td><td>0</td></tr><tr><th>7</th><td>startup</td><td>startup</td><td>NOUN</td><td>NN</td><td>dobj</td><td>xxxx</td><td>1</td><td>0</td></tr><tr><th>8</th><td>for</td><td>for</td><td>ADP</td><td>IN</td><td>prep</td><td>xxx</td><td>1</td><td>1</td></tr><tr><th>9</th><td>$</td><td>$</td><td>SYM</td><td>$</td><td>quantmod</td><td>$</td><td>0</td><td>0</td></tr><tr><th>10</th><td>1</td><td>1</td><td>NUM</td><td>CD</td><td>compound</td><td>d</td><td>0</td><td>0</td></tr><tr><th>11</th><td>billion</td><td>billion</td><td>NUM</td><td>CD</td><td>pobj</td><td>xxxx</td><td>1</td><td>0</td></tr></tbody></table></div>"
      ],
      "text/latex": [
       "\\begin{tabular}{r|cccccccc}\n",
       "\t& text & lemma & pos & tag & dep & shape & is\\_alpha & is\\_stop\\\\\n",
       "\t\\hline\n",
       "\t& String & String & String & String & String & String & Bool & Bool\\\\\n",
       "\t\\hline\n",
       "\t1 & Apple & Apple & PROPN & NNP & nsubj & Xxxxx & 1 & 0 \\\\\n",
       "\t2 & is & be & AUX & VBZ & aux & xx & 1 & 1 \\\\\n",
       "\t3 & looking & look & VERB & VBG & ROOT & xxxx & 1 & 0 \\\\\n",
       "\t4 & at & at & ADP & IN & prep & xx & 1 & 1 \\\\\n",
       "\t5 & buying & buy & VERB & VBG & pcomp & xxxx & 1 & 0 \\\\\n",
       "\t6 & U.K. & U.K. & PROPN & NNP & compound & X.X. & 0 & 0 \\\\\n",
       "\t7 & startup & startup & NOUN & NN & dobj & xxxx & 1 & 0 \\\\\n",
       "\t8 & for & for & ADP & IN & prep & xxx & 1 & 1 \\\\\n",
       "\t9 & \\$ & \\$ & SYM & \\$ & quantmod & \\$ & 0 & 0 \\\\\n",
       "\t10 & 1 & 1 & NUM & CD & compound & d & 0 & 0 \\\\\n",
       "\t11 & billion & billion & NUM & CD & pobj & xxxx & 1 & 0 \\\\\n",
       "\\end{tabular}\n"
      ],
      "text/plain": [
       "\u001b[1m11×8 DataFrame\u001b[0m\n",
       "\u001b[1m Row \u001b[0m│\u001b[1m text    \u001b[0m\u001b[1m lemma   \u001b[0m\u001b[1m pos    \u001b[0m\u001b[1m tag    \u001b[0m\u001b[1m dep      \u001b[0m\u001b[1m shape  \u001b[0m\u001b[1m is_alpha \u001b[0m\u001b[1m is_stop \u001b[0m\n",
       "\u001b[1m     \u001b[0m│\u001b[90m String  \u001b[0m\u001b[90m String  \u001b[0m\u001b[90m String \u001b[0m\u001b[90m String \u001b[0m\u001b[90m String   \u001b[0m\u001b[90m String \u001b[0m\u001b[90m Bool     \u001b[0m\u001b[90m Bool    \u001b[0m\n",
       "─────┼───────────────────────────────────────────────────────────────────────\n",
       "   1 │ Apple    Apple    PROPN   NNP     nsubj     Xxxxx       true    false\n",
       "   2 │ is       be       AUX     VBZ     aux       xx          true     true\n",
       "   3 │ looking  look     VERB    VBG     ROOT      xxxx        true    false\n",
       "   4 │ at       at       ADP     IN      prep      xx          true     true\n",
       "   5 │ buying   buy      VERB    VBG     pcomp     xxxx        true    false\n",
       "   6 │ U.K.     U.K.     PROPN   NNP     compound  X.X.       false    false\n",
       "   7 │ startup  startup  NOUN    NN      dobj      xxxx        true    false\n",
       "   8 │ for      for      ADP     IN      prep      xxx         true     true\n",
       "   9 │ $        $        SYM     $       quantmod  $          false    false\n",
       "  10 │ 1        1        NUM     CD      compound  d          false    false\n",
       "  11 │ billion  billion  NUM     CD      pobj      xxxx        true    false"
      ]
     },
     "execution_count": 19,
     "metadata": {},
     "output_type": "execute_result"
    }
   ],
   "source": [
    "sample_df = DataFrame(text = getindex.(sample_info, 1),\n",
    "    lemma = getindex.(sample_info, 2),\n",
    "    pos = getindex.(sample_info, 3),\n",
    "    tag = getindex.(sample_info, 4),\n",
    "    dep = getindex.(sample_info, 5),\n",
    "    shape = getindex.(sample_info, 6),\n",
    "    is_alpha = getindex.(sample_info, 7),\n",
    "    is_stop = getindex.(sample_info, 8))"
   ]
  },
  {
   "cell_type": "markdown",
   "metadata": {
    "slideshow": {
     "slide_type": "slide"
    }
   },
   "source": [
    "#### Visualize POS Dependencies"
   ]
  },
  {
   "cell_type": "markdown",
   "metadata": {},
   "source": [
    "We can visualize the syntactic dependency in a browser or notebook"
   ]
  },
  {
   "cell_type": "code",
   "execution_count": 20,
   "metadata": {
    "ExecuteTime": {
     "end_time": "2020-06-20T17:06:30.658841Z",
     "start_time": "2020-06-20T17:06:30.652276Z"
    }
   },
   "outputs": [
    {
     "data": {
      "text/plain": [
       "Dict{String, Any} with 5 entries:\n",
       "  \"bg\"       => \"white\"\n",
       "  \"notebook\" => true\n",
       "  \"compact\"  => true\n",
       "  \"color\"    => \"black\"\n",
       "  \"font\"     => \"Source Sans Pro\""
      ]
     },
     "execution_count": 20,
     "metadata": {},
     "output_type": "execute_result"
    }
   ],
   "source": [
    "options = Dict(\"compact\" => true, \"bg\" => \"white\", \"color\" => \"black\", \"font\" => \"Source Sans Pro\", \"notebook\" => true)"
   ]
  },
  {
   "cell_type": "code",
   "execution_count": 21,
   "metadata": {
    "ExecuteTime": {
     "end_time": "2020-06-20T17:06:30.668100Z",
     "start_time": "2020-06-20T17:06:30.659993Z"
    },
    "scrolled": true,
    "slideshow": {
     "slide_type": "slide"
    }
   },
   "outputs": [
    {
     "data": {
      "text/html": [
       "<svg xmlns=\"http://www.w3.org/2000/svg\" xmlns:xlink=\"http://www.w3.org/1999/xlink\" xml:lang=\"en\" id=\"08c54f14b2ee454eb2388ff8754b6ede-0\" class=\"displacy\" width=\"1700\" height=\"362.0\" direction=\"ltr\" style=\"max-width: none; height: 362.0px; color: black; background: white; font-family: Source Sans Pro; direction: ltr\">\n",
       "<text class=\"displacy-token\" fill=\"currentColor\" text-anchor=\"middle\" y=\"272.0\">\n",
       "    <tspan class=\"displacy-word\" fill=\"currentColor\" x=\"50\">Apple</tspan>\n",
       "    <tspan class=\"displacy-tag\" dy=\"2em\" fill=\"currentColor\" x=\"50\">PROPN</tspan>\n",
       "</text>\n",
       "\n",
       "<text class=\"displacy-token\" fill=\"currentColor\" text-anchor=\"middle\" y=\"272.0\">\n",
       "    <tspan class=\"displacy-word\" fill=\"currentColor\" x=\"200\">is</tspan>\n",
       "    <tspan class=\"displacy-tag\" dy=\"2em\" fill=\"currentColor\" x=\"200\">AUX</tspan>\n",
       "</text>\n",
       "\n",
       "<text class=\"displacy-token\" fill=\"currentColor\" text-anchor=\"middle\" y=\"272.0\">\n",
       "    <tspan class=\"displacy-word\" fill=\"currentColor\" x=\"350\">looking</tspan>\n",
       "    <tspan class=\"displacy-tag\" dy=\"2em\" fill=\"currentColor\" x=\"350\">VERB</tspan>\n",
       "</text>\n",
       "\n",
       "<text class=\"displacy-token\" fill=\"currentColor\" text-anchor=\"middle\" y=\"272.0\">\n",
       "    <tspan class=\"displacy-word\" fill=\"currentColor\" x=\"500\">at</tspan>\n",
       "    <tspan class=\"displacy-tag\" dy=\"2em\" fill=\"currentColor\" x=\"500\">ADP</tspan>\n",
       "</text>\n",
       "\n",
       "<text class=\"displacy-token\" fill=\"currentColor\" text-anchor=\"middle\" y=\"272.0\">\n",
       "    <tspan class=\"displacy-word\" fill=\"currentColor\" x=\"650\">buying</tspan>\n",
       "    <tspan class=\"displacy-tag\" dy=\"2em\" fill=\"currentColor\" x=\"650\">VERB</tspan>\n",
       "</text>\n",
       "\n",
       "<text class=\"displacy-token\" fill=\"currentColor\" text-anchor=\"middle\" y=\"272.0\">\n",
       "    <tspan class=\"displacy-word\" fill=\"currentColor\" x=\"800\">U.K.</tspan>\n",
       "    <tspan class=\"displacy-tag\" dy=\"2em\" fill=\"currentColor\" x=\"800\">PROPN</tspan>\n",
       "</text>\n",
       "\n",
       "<text class=\"displacy-token\" fill=\"currentColor\" text-anchor=\"middle\" y=\"272.0\">\n",
       "    <tspan class=\"displacy-word\" fill=\"currentColor\" x=\"950\">startup</tspan>\n",
       "    <tspan class=\"displacy-tag\" dy=\"2em\" fill=\"currentColor\" x=\"950\">NOUN</tspan>\n",
       "</text>\n",
       "\n",
       "<text class=\"displacy-token\" fill=\"currentColor\" text-anchor=\"middle\" y=\"272.0\">\n",
       "    <tspan class=\"displacy-word\" fill=\"currentColor\" x=\"1100\">for</tspan>\n",
       "    <tspan class=\"displacy-tag\" dy=\"2em\" fill=\"currentColor\" x=\"1100\">ADP</tspan>\n",
       "</text>\n",
       "\n",
       "<text class=\"displacy-token\" fill=\"currentColor\" text-anchor=\"middle\" y=\"272.0\">\n",
       "    <tspan class=\"displacy-word\" fill=\"currentColor\" x=\"1250\">$</tspan>\n",
       "    <tspan class=\"displacy-tag\" dy=\"2em\" fill=\"currentColor\" x=\"1250\">SYM</tspan>\n",
       "</text>\n",
       "\n",
       "<text class=\"displacy-token\" fill=\"currentColor\" text-anchor=\"middle\" y=\"272.0\">\n",
       "    <tspan class=\"displacy-word\" fill=\"currentColor\" x=\"1400\">1</tspan>\n",
       "    <tspan class=\"displacy-tag\" dy=\"2em\" fill=\"currentColor\" x=\"1400\">NUM</tspan>\n",
       "</text>\n",
       "\n",
       "<text class=\"displacy-token\" fill=\"currentColor\" text-anchor=\"middle\" y=\"272.0\">\n",
       "    <tspan class=\"displacy-word\" fill=\"currentColor\" x=\"1550\">billion</tspan>\n",
       "    <tspan class=\"displacy-tag\" dy=\"2em\" fill=\"currentColor\" x=\"1550\">NUM</tspan>\n",
       "</text>\n",
       "\n",
       "<g class=\"displacy-arrow\">\n",
       "    <path class=\"displacy-arc\" id=\"arrow-08c54f14b2ee454eb2388ff8754b6ede-0-0\" stroke-width=\"2px\" d=\"M62,227.0 62,177.0 347.0,177.0 347.0,227.0\" fill=\"none\" stroke=\"currentColor\"/>\n",
       "    <text dy=\"1.25em\" style=\"font-size: 0.8em; letter-spacing: 1px\">\n",
       "        <textPath xlink:href=\"#arrow-08c54f14b2ee454eb2388ff8754b6ede-0-0\" class=\"displacy-label\" startOffset=\"50%\" side=\"left\" fill=\"currentColor\" text-anchor=\"middle\">nsubj</textPath>\n",
       "    </text>\n",
       "    <path class=\"displacy-arrowhead\" d=\"M62,229.0 L58,221.0 66,221.0\" fill=\"currentColor\"/>\n",
       "</g>\n",
       "\n",
       "<g class=\"displacy-arrow\">\n",
       "    <path class=\"displacy-arc\" id=\"arrow-08c54f14b2ee454eb2388ff8754b6ede-0-1\" stroke-width=\"2px\" d=\"M212,227.0 212,202.0 344.0,202.0 344.0,227.0\" fill=\"none\" stroke=\"currentColor\"/>\n",
       "    <text dy=\"1.25em\" style=\"font-size: 0.8em; letter-spacing: 1px\">\n",
       "        <textPath xlink:href=\"#arrow-08c54f14b2ee454eb2388ff8754b6ede-0-1\" class=\"displacy-label\" startOffset=\"50%\" side=\"left\" fill=\"currentColor\" text-anchor=\"middle\">aux</textPath>\n",
       "    </text>\n",
       "    <path class=\"displacy-arrowhead\" d=\"M212,229.0 L208,221.0 216,221.0\" fill=\"currentColor\"/>\n",
       "</g>\n",
       "\n",
       "<g class=\"displacy-arrow\">\n",
       "    <path class=\"displacy-arc\" id=\"arrow-08c54f14b2ee454eb2388ff8754b6ede-0-2\" stroke-width=\"2px\" d=\"M362,227.0 362,202.0 494.0,202.0 494.0,227.0\" fill=\"none\" stroke=\"currentColor\"/>\n",
       "    <text dy=\"1.25em\" style=\"font-size: 0.8em; letter-spacing: 1px\">\n",
       "        <textPath xlink:href=\"#arrow-08c54f14b2ee454eb2388ff8754b6ede-0-2\" class=\"displacy-label\" startOffset=\"50%\" side=\"left\" fill=\"currentColor\" text-anchor=\"middle\">prep</textPath>\n",
       "    </text>\n",
       "    <path class=\"displacy-arrowhead\" d=\"M494.0,229.0 L498.0,221.0 490.0,221.0\" fill=\"currentColor\"/>\n",
       "</g>\n",
       "\n",
       "<g class=\"displacy-arrow\">\n",
       "    <path class=\"displacy-arc\" id=\"arrow-08c54f14b2ee454eb2388ff8754b6ede-0-3\" stroke-width=\"2px\" d=\"M512,227.0 512,202.0 644.0,202.0 644.0,227.0\" fill=\"none\" stroke=\"currentColor\"/>\n",
       "    <text dy=\"1.25em\" style=\"font-size: 0.8em; letter-spacing: 1px\">\n",
       "        <textPath xlink:href=\"#arrow-08c54f14b2ee454eb2388ff8754b6ede-0-3\" class=\"displacy-label\" startOffset=\"50%\" side=\"left\" fill=\"currentColor\" text-anchor=\"middle\">pcomp</textPath>\n",
       "    </text>\n",
       "    <path class=\"displacy-arrowhead\" d=\"M644.0,229.0 L648.0,221.0 640.0,221.0\" fill=\"currentColor\"/>\n",
       "</g>\n",
       "\n",
       "<g class=\"displacy-arrow\">\n",
       "    <path class=\"displacy-arc\" id=\"arrow-08c54f14b2ee454eb2388ff8754b6ede-0-4\" stroke-width=\"2px\" d=\"M812,227.0 812,202.0 944.0,202.0 944.0,227.0\" fill=\"none\" stroke=\"currentColor\"/>\n",
       "    <text dy=\"1.25em\" style=\"font-size: 0.8em; letter-spacing: 1px\">\n",
       "        <textPath xlink:href=\"#arrow-08c54f14b2ee454eb2388ff8754b6ede-0-4\" class=\"displacy-label\" startOffset=\"50%\" side=\"left\" fill=\"currentColor\" text-anchor=\"middle\">compound</textPath>\n",
       "    </text>\n",
       "    <path class=\"displacy-arrowhead\" d=\"M812,229.0 L808,221.0 816,221.0\" fill=\"currentColor\"/>\n",
       "</g>\n",
       "\n",
       "<g class=\"displacy-arrow\">\n",
       "    <path class=\"displacy-arc\" id=\"arrow-08c54f14b2ee454eb2388ff8754b6ede-0-5\" stroke-width=\"2px\" d=\"M662,227.0 662,177.0 947.0,177.0 947.0,227.0\" fill=\"none\" stroke=\"currentColor\"/>\n",
       "    <text dy=\"1.25em\" style=\"font-size: 0.8em; letter-spacing: 1px\">\n",
       "        <textPath xlink:href=\"#arrow-08c54f14b2ee454eb2388ff8754b6ede-0-5\" class=\"displacy-label\" startOffset=\"50%\" side=\"left\" fill=\"currentColor\" text-anchor=\"middle\">dobj</textPath>\n",
       "    </text>\n",
       "    <path class=\"displacy-arrowhead\" d=\"M947.0,229.0 L951.0,221.0 943.0,221.0\" fill=\"currentColor\"/>\n",
       "</g>\n",
       "\n",
       "<g class=\"displacy-arrow\">\n",
       "    <path class=\"displacy-arc\" id=\"arrow-08c54f14b2ee454eb2388ff8754b6ede-0-6\" stroke-width=\"2px\" d=\"M662,227.0 662,152.0 1100.0,152.0 1100.0,227.0\" fill=\"none\" stroke=\"currentColor\"/>\n",
       "    <text dy=\"1.25em\" style=\"font-size: 0.8em; letter-spacing: 1px\">\n",
       "        <textPath xlink:href=\"#arrow-08c54f14b2ee454eb2388ff8754b6ede-0-6\" class=\"displacy-label\" startOffset=\"50%\" side=\"left\" fill=\"currentColor\" text-anchor=\"middle\">prep</textPath>\n",
       "    </text>\n",
       "    <path class=\"displacy-arrowhead\" d=\"M1100.0,229.0 L1104.0,221.0 1096.0,221.0\" fill=\"currentColor\"/>\n",
       "</g>\n",
       "\n",
       "<g class=\"displacy-arrow\">\n",
       "    <path class=\"displacy-arc\" id=\"arrow-08c54f14b2ee454eb2388ff8754b6ede-0-7\" stroke-width=\"2px\" d=\"M1262,227.0 1262,177.0 1547.0,177.0 1547.0,227.0\" fill=\"none\" stroke=\"currentColor\"/>\n",
       "    <text dy=\"1.25em\" style=\"font-size: 0.8em; letter-spacing: 1px\">\n",
       "        <textPath xlink:href=\"#arrow-08c54f14b2ee454eb2388ff8754b6ede-0-7\" class=\"displacy-label\" startOffset=\"50%\" side=\"left\" fill=\"currentColor\" text-anchor=\"middle\">quantmod</textPath>\n",
       "    </text>\n",
       "    <path class=\"displacy-arrowhead\" d=\"M1262,229.0 L1258,221.0 1266,221.0\" fill=\"currentColor\"/>\n",
       "</g>\n",
       "\n",
       "<g class=\"displacy-arrow\">\n",
       "    <path class=\"displacy-arc\" id=\"arrow-08c54f14b2ee454eb2388ff8754b6ede-0-8\" stroke-width=\"2px\" d=\"M1412,227.0 1412,202.0 1544.0,202.0 1544.0,227.0\" fill=\"none\" stroke=\"currentColor\"/>\n",
       "    <text dy=\"1.25em\" style=\"font-size: 0.8em; letter-spacing: 1px\">\n",
       "        <textPath xlink:href=\"#arrow-08c54f14b2ee454eb2388ff8754b6ede-0-8\" class=\"displacy-label\" startOffset=\"50%\" side=\"left\" fill=\"currentColor\" text-anchor=\"middle\">compound</textPath>\n",
       "    </text>\n",
       "    <path class=\"displacy-arrowhead\" d=\"M1412,229.0 L1408,221.0 1416,221.0\" fill=\"currentColor\"/>\n",
       "</g>\n",
       "\n",
       "<g class=\"displacy-arrow\">\n",
       "    <path class=\"displacy-arc\" id=\"arrow-08c54f14b2ee454eb2388ff8754b6ede-0-9\" stroke-width=\"2px\" d=\"M1112,227.0 1112,152.0 1550.0,152.0 1550.0,227.0\" fill=\"none\" stroke=\"currentColor\"/>\n",
       "    <text dy=\"1.25em\" style=\"font-size: 0.8em; letter-spacing: 1px\">\n",
       "        <textPath xlink:href=\"#arrow-08c54f14b2ee454eb2388ff8754b6ede-0-9\" class=\"displacy-label\" startOffset=\"50%\" side=\"left\" fill=\"currentColor\" text-anchor=\"middle\">pobj</textPath>\n",
       "    </text>\n",
       "    <path class=\"displacy-arrowhead\" d=\"M1550.0,229.0 L1554.0,221.0 1546.0,221.0\" fill=\"currentColor\"/>\n",
       "</g>\n",
       "</svg>"
      ],
      "text/plain": [
       "HTML{String}(\"<svg xmlns=\\\"http://www.w3.org/2000/svg\\\" xmlns:xlink=\\\"http://www.w3.org/1999/xlink\\\" xml:lang=\\\"en\\\" id=\\\"08c54f14b2ee454eb2388ff8754b6ede-0\\\" class=\\\"displacy\\\" width=\\\"1700\\\" height=\\\"362.0\\\" direction=\\\"ltr\\\" style=\\\"max-width: none; height: 362.0px; color: black; background: white; font-family: Source Sans Pro; direction: ltr\\\">\\n<text class=\\\"displacy-token\\\" fill=\\\"currentColor\\\" text-anchor=\\\"middle\\\" y=\\\"272.0\\\">\\n    <tspan class=\\\"displacy-word\\\" fill=\\\"currentColor\\\" x=\\\"50\\\">Apple</tspan>\\n    <tspan class=\\\"displacy-tag\\\" dy=\\\"2em\\\" fill=\\\"currentColor\\\" x=\\\"50\\\">PROPN</tspan>\\n</text>\\n\\n<text class=\\\"displacy-token\\\" fill=\\\"currentColor\\\" text-anchor=\\\"middle\\\" y=\\\"272.0\\\">\\n    <tspan class=\\\"displacy-word\\\" fill=\\\"currentColor\\\" x=\\\"200\\\">is</tspan>\\n    <tspan class=\\\"displacy-tag\\\" dy=\\\"2em\\\" fill=\\\"currentColor\\\" x=\\\"200\\\">AUX</tspan>\\n</text>\\n\\n<text class=\\\"displacy-token\\\" fill=\\\"currentColor\\\" text-anchor=\\\"middle\\\" y=\\\"272.0\\\">\\n    <tspan class=\\\"displacy-word\\\" fill=\\\"currentColor\\\" x=\\\"350\\\">looking</tspan>\\n    <tspan class=\\\"displacy-tag\\\" dy=\\\"2em\\\" fill=\\\"currentColor\\\" x=\\\"350\\\">VERB</tspan>\\n</text>\\n\\n<text class=\\\"displacy-token\\\" fill=\\\"currentColor\\\" text-anchor=\\\"middle\\\" y=\\\"272.0\\\">\\n    <tspan class=\\\"displacy-word\\\" fill=\\\"currentColor\\\" x=\\\"500\\\">at</tspan>\\n    <tspan class=\\\"displacy-tag\\\" dy=\\\"2em\\\" fill=\\\"currentColor\\\" x=\\\"500\\\">ADP</tspan>\\n</text>\\n\\n<text class=\\\"displacy-token\\\" fill=\\\"currentColor\\\" text-anchor=\\\"middle\\\" y=\\\"272.0\\\">\\n    <tspan class=\\\"displacy-word\\\" fill=\\\"currentColor\\\" x=\\\"650\\\">buying</tspan>\\n    <tspan class=\\\"displacy-tag\\\" dy=\\\"2em\\\" fill=\\\"currentColor\\\" x=\\\"650\\\">VERB</tspan>\\n</text>\\n\\n<text class=\\\"displacy-token\\\" fill=\\\"currentColor\\\" text-anchor=\\\"middle\\\" y=\\\"272.0\\\">\\n    <tspan class=\\\"displacy-word\\\" fill=\\\"currentColor\\\" x=\\\"800\\\">U.K.</tspan>\\n    <tspan class=\\\"displacy-tag\\\" dy=\\\"2em\\\" fill=\\\"currentColor\\\" x=\\\"800\\\">PROPN</tspan>\\n</text>\\n\\n<text class=\\\"displacy-token\\\" fill=\\\"currentColor\\\" text-anchor=\\\"middle\\\" y=\\\"272.0\\\">\\n    <tspan class=\\\"displacy-word\\\" fill=\\\"currentColor\\\" x=\\\"950\\\">startup</tspan>\\n    <tspan class=\\\"displacy-tag\\\" dy=\\\"2em\\\" fill=\\\"currentColor\\\" x=\\\"950\\\">NOUN</tspan>\\n</text>\\n\\n<text class=\\\"displacy-token\\\" fill=\\\"currentColor\\\" text-anchor=\\\"middle\\\" y=\\\"272.0\\\">\\n    <tspan class=\\\"displacy-word\\\" fill=\\\"currentColor\\\" x=\\\"1100\\\">for</tspan>\\n    <tspan class=\\\"displacy-tag\\\" dy=\\\"2em\\\" fill=\\\"currentColor\\\" x=\\\"1100\\\">ADP</tspan>\\n</text>\\n\\n<text class=\\\"displacy-token\\\" fill=\\\"currentColor\\\" text-anchor=\\\"middle\\\" y=\\\"272.0\\\">\\n    <tspan class=\\\"displacy-word\\\" fill=\\\"currentColor\\\" x=\\\"1250\\\">\\$</tspan>\\n    <tspan class=\\\"displacy-tag\\\" dy=\\\"2em\\\" fill=\\\"currentColor\\\" x=\\\"1250\\\">SYM</tspan>\\n</text>\\n\\n<text class=\\\"displacy-token\\\" fill=\\\"currentColor\\\" text-anchor=\\\"middle\\\" y=\\\"272.0\\\">\\n    <tspan class=\\\"displacy-word\\\" fill=\\\"currentColor\\\" x=\\\"1400\\\">1</tspan>\\n    <tspan class=\\\"displacy-tag\\\" dy=\\\"2em\\\" fill=\\\"currentColor\\\" x=\\\"1400\\\">NUM</tspan>\\n</text>\\n\\n<text class=\\\"displacy-token\\\" fill=\\\"currentColor\\\" text-anchor=\\\"middle\\\" y=\\\"272.0\\\">\\n    <tspan class=\\\"displacy-word\\\" fill=\\\"currentColor\\\" x=\\\"1550\\\">billion</tspan>\\n    <tspan class=\\\"displacy-tag\\\" dy=\\\"2em\\\" fill=\\\"currentColor\\\" x=\\\"1550\\\">NUM</tspan>\\n</text>\\n\\n<g class=\\\"displacy-arrow\\\">\\n    <path class=\\\"displacy-arc\\\" id=\\\"arrow-08c54f14b2ee454eb2388ff8754b6ede-0-0\\\" stroke-width=\\\"2px\\\" d=\\\"M62,227.0 62,177.0 347.0,177.0 347.0,227.0\\\" fill=\\\"none\\\" stroke=\\\"currentColor\\\"/>\\n    <text dy=\\\"1.25em\\\" style=\\\"font-size: 0.8em; letter-spacing: 1px\\\">\\n        <textPath xlink:href=\\\"#arrow-08c54f14b2ee454eb2388ff8754b6ede-0-0\\\" class=\\\"displacy-label\\\" startOffset=\\\"50%\\\" side=\\\"left\\\" fill=\\\"currentColor\\\" text-anchor=\\\"middle\\\">nsubj</textPath>\\n    </text>\\n    <path class=\\\"displacy-arrowhead\\\" d=\\\"M62,229.0 L58,221.0 66,221.0\\\" fill=\\\"currentColor\\\"/>\\n</g>\\n\\n<g class=\\\"displacy-arrow\\\">\\n    <path class=\\\"displacy-arc\\\" id=\\\"arrow-08c54f14b2ee454eb2388ff8754b6ede-0-1\\\" stroke-width=\\\"2px\\\" d=\\\"M212,227.0 212,202.0 344.0,202.0 344.0,227.0\\\" fill=\\\"none\\\" stroke=\\\"currentColor\\\"/>\\n    <text dy=\\\"1.25em\\\" style=\\\"font-size: 0.8em; letter-spacing: 1px\\\">\\n        <textPath xlink:href=\\\"#arrow-08c54f14b2ee454eb2388ff8754b6ede-0-1\\\" class=\\\"displacy-label\\\" startOffset=\\\"50%\\\" side=\\\"left\\\" fill=\\\"currentColor\\\" text-anchor=\\\"middle\\\">aux</textPath>\\n    </text>\\n    <path class=\\\"displacy-arrowhead\\\" d=\\\"M212,229.0 L208,221.0 216,221.0\\\" fill=\\\"currentColor\\\"/>\\n</g>\\n\\n<g class=\\\"displacy-arrow\\\">\\n    <path class=\\\"displacy-arc\\\" id=\\\"arrow-08c54f14b2ee454eb2388ff8754b6ede-0-2\\\" stroke-width=\\\"2px\\\" d=\\\"M362,227.0 362,202.0 494.0,202.0 494.0,227.0\\\" fill=\\\"none\\\" stroke=\\\"currentColor\\\"/>\\n    <text dy=\\\"1.25em\\\" style=\\\"font-size: 0.8em; letter-spacing: 1px\\\">\\n        <textPath xlink:href=\\\"#arrow-08c54f14b2ee454eb2388ff8754b6ede-0-2\\\" class=\\\"displacy-label\\\" startOffset=\\\"50%\\\" side=\\\"left\\\" fill=\\\"currentColor\\\" text-anchor=\\\"middle\\\">prep</textPath>\\n    </text>\\n    <path class=\\\"displacy-arrowhead\\\" d=\\\"M494.0,229.0 L498.0,221.0 490.0,221.0\\\" fill=\\\"currentColor\\\"/>\\n</g>\\n\\n<g class=\\\"displacy-arrow\\\">\\n    <path class=\\\"displacy-arc\\\" id=\\\"arrow-08c54f14b2ee454eb2388ff8754b6ede-0-3\\\" stroke-width=\\\"2px\\\" d=\\\"M512,227.0 512,202.0 644.0,202.0 644.0,227.0\\\" fill=\\\"none\\\" stroke=\\\"currentColor\\\"/>\\n    <text dy=\\\"1.25em\\\" style=\\\"font-size: 0.8em; letter-spacing: 1px\\\">\\n        <textPath xlink:href=\\\"#arrow-08c54f14b2ee454eb2388ff8754b6ede-0-3\\\" class=\\\"displacy-label\\\" startOffset=\\\"50%\\\" side=\\\"left\\\" fill=\\\"currentColor\\\" text-anchor=\\\"middle\\\">pcomp</textPath>\\n    </text>\\n    <path class=\\\"displacy-arrowhead\\\" d=\\\"M644.0,229.0 L648.0,221.0 640.0,221.0\\\" fill=\\\"currentColor\\\"/>\\n</g>\\n\\n<g class=\\\"displacy-arrow\\\">\\n    <path class=\\\"displacy-arc\\\" id=\\\"arrow-08c54f14b2ee454eb2388ff8754b6ede-0-4\\\" stroke-width=\\\"2px\\\" d=\\\"M812,227.0 812,202.0 944.0,202.0 944.0,227.0\\\" fill=\\\"none\\\" stroke=\\\"currentColor\\\"/>\\n    <text dy=\\\"1.25em\\\" style=\\\"font-size: 0.8em; letter-spacing: 1px\\\">\\n        <textPath xlink:href=\\\"#arrow-08c54f14b2ee454eb2388ff8754b6ede-0-4\\\" class=\\\"displacy-label\\\" startOffset=\\\"50%\\\" side=\\\"left\\\" fill=\\\"currentColor\\\" text-anchor=\\\"middle\\\">compound</textPath>\\n    </text>\\n    <path class=\\\"displacy-arrowhead\\\" d=\\\"M812,229.0 L808,221.0 816,221.0\\\" fill=\\\"currentColor\\\"/>\\n</g>\\n\\n<g class=\\\"displacy-arrow\\\">\\n    <path class=\\\"displacy-arc\\\" id=\\\"arrow-08c54f14b2ee454eb2388ff8754b6ede-0-5\\\" stroke-width=\\\"2px\\\" d=\\\"M662,227.0 662,177.0 947.0,177.0 947.0,227.0\\\" fill=\\\"none\\\" stroke=\\\"currentColor\\\"/>\\n    <text dy=\\\"1.25em\\\" style=\\\"font-size: 0.8em; letter-spacing: 1px\\\">\\n        <textPath xlink:href=\\\"#arrow-08c54f14b2ee454eb2388ff8754b6ede-0-5\\\" class=\\\"displacy-label\\\" startOffset=\\\"50%\\\" side=\\\"left\\\" fill=\\\"currentColor\\\" text-anchor=\\\"middle\\\">dobj</textPath>\\n    </text>\\n    <path class=\\\"displacy-arrowhead\\\" d=\\\"M947.0,229.0 L951.0,221.0 943.0,221.0\\\" fill=\\\"currentColor\\\"/>\\n</g>\\n\\n<g class=\\\"displacy-arrow\\\">\\n    <path class=\\\"displacy-arc\\\" id=\\\"arrow-08c54f14b2ee454eb2388ff8754b6ede-0-6\\\" stroke-width=\\\"2px\\\" d=\\\"M662,227.0 662,152.0 1100.0,152.0 1100.0,227.0\\\" fill=\\\"none\\\" stroke=\\\"currentColor\\\"/>\\n    <text dy=\\\"1.25em\\\" style=\\\"font-size: 0.8em; letter-spacing: 1px\\\">\\n        <textPath xlink:href=\\\"#arrow-08c54f14b2ee454eb2388ff8754b6ede-0-6\\\" class=\\\"displacy-label\\\" startOffset=\\\"50%\\\" side=\\\"left\\\" fill=\\\"currentColor\\\" text-anchor=\\\"middle\\\">prep</textPath>\\n    </text>\\n    <path class=\\\"displacy-arrowhead\\\" d=\\\"M1100.0,229.0 L1104.0,221.0 1096.0,221.0\\\" fill=\\\"currentColor\\\"/>\\n</g>\\n\\n<g class=\\\"displacy-arrow\\\">\\n    <path class=\\\"displacy-arc\\\" id=\\\"arrow-08c54f14b2ee454eb2388ff8754b6ede-0-7\\\" stroke-width=\\\"2px\\\" d=\\\"M1262,227.0 1262,177.0 1547.0,177.0 1547.0,227.0\\\" fill=\\\"none\\\" stroke=\\\"currentColor\\\"/>\\n    <text dy=\\\"1.25em\\\" style=\\\"font-size: 0.8em; letter-spacing: 1px\\\">\\n        <textPath xlink:href=\\\"#arrow-08c54f14b2ee454eb2388ff8754b6ede-0-7\\\" class=\\\"displacy-label\\\" startOffset=\\\"50%\\\" side=\\\"left\\\" fill=\\\"currentColor\\\" text-anchor=\\\"middle\\\">quantmod</textPath>\\n    </text>\\n    <path class=\\\"displacy-arrowhead\\\" d=\\\"M1262,229.0 L1258,221.0 1266,221.0\\\" fill=\\\"currentColor\\\"/>\\n</g>\\n\\n<g class=\\\"displacy-arrow\\\">\\n    <path class=\\\"displacy-arc\\\" id=\\\"arrow-08c54f14b2ee454eb2388ff8754b6ede-0-8\\\" stroke-width=\\\"2px\\\" d=\\\"M1412,227.0 1412,202.0 1544.0,202.0 1544.0,227.0\\\" fill=\\\"none\\\" stroke=\\\"currentColor\\\"/>\\n    <text dy=\\\"1.25em\\\" style=\\\"font-size: 0.8em; letter-spacing: 1px\\\">\\n        <textPath xlink:href=\\\"#arrow-08c54f14b2ee454eb2388ff8754b6ede-0-8\\\" class=\\\"displacy-label\\\" startOffset=\\\"50%\\\" side=\\\"left\\\" fill=\\\"currentColor\\\" text-anchor=\\\"middle\\\">compound</textPath>\\n    </text>\\n    <path class=\\\"displacy-arrowhead\\\" d=\\\"M1412,229.0 L1408,221.0 1416,221.0\\\" fill=\\\"currentColor\\\"/>\\n</g>\\n\\n<g class=\\\"displacy-arrow\\\">\\n    <path class=\\\"displacy-arc\\\" id=\\\"arrow-08c54f14b2ee454eb2388ff8754b6ede-0-9\\\" stroke-width=\\\"2px\\\" d=\\\"M1112,227.0 1112,152.0 1550.0,152.0 1550.0,227.0\\\" fill=\\\"none\\\" stroke=\\\"currentColor\\\"/>\\n    <text dy=\\\"1.25em\\\" style=\\\"font-size: 0.8em; letter-spacing: 1px\\\">\\n        <textPath xlink:href=\\\"#arrow-08c54f14b2ee454eb2388ff8754b6ede-0-9\\\" class=\\\"displacy-label\\\" startOffset=\\\"50%\\\" side=\\\"left\\\" fill=\\\"currentColor\\\" text-anchor=\\\"middle\\\">pobj</textPath>\\n    </text>\\n    <path class=\\\"displacy-arrowhead\\\" d=\\\"M1550.0,229.0 L1554.0,221.0 1546.0,221.0\\\" fill=\\\"currentColor\\\"/>\\n</g>\\n</svg>\")"
      ]
     },
     "metadata": {},
     "output_type": "display_data"
    }
   ],
   "source": [
    "display(HTML(spacy.displacy.render(doc, style=\"dep\", options=options)))"
   ]
  },
  {
   "cell_type": "markdown",
   "metadata": {
    "slideshow": {
     "slide_type": "slide"
    }
   },
   "source": [
    "#### Visualize Named Entities"
   ]
  },
  {
   "cell_type": "code",
   "execution_count": 22,
   "metadata": {
    "ExecuteTime": {
     "end_time": "2020-06-20T17:06:30.681359Z",
     "start_time": "2020-06-20T17:06:30.669391Z"
    },
    "slideshow": {
     "slide_type": "slide"
    }
   },
   "outputs": [
    {
     "data": {
      "text/html": [
       "<div class=\"entities\" style=\"line-height: 2.5; direction: ltr\">\n",
       "<mark class=\"entity\" style=\"background: #7aecec; padding: 0.45em 0.6em; margin: 0 0.25em; line-height: 1; border-radius: 0.35em;\">\n",
       "    Apple\n",
       "    <span style=\"font-size: 0.8em; font-weight: bold; line-height: 1; border-radius: 0.35em; vertical-align: middle; margin-left: 0.5rem\">ORG</span>\n",
       "</mark>\n",
       " is looking at buying \n",
       "<mark class=\"entity\" style=\"background: #feca74; padding: 0.45em 0.6em; margin: 0 0.25em; line-height: 1; border-radius: 0.35em;\">\n",
       "    U.K.\n",
       "    <span style=\"font-size: 0.8em; font-weight: bold; line-height: 1; border-radius: 0.35em; vertical-align: middle; margin-left: 0.5rem\">GPE</span>\n",
       "</mark>\n",
       " startup for \n",
       "<mark class=\"entity\" style=\"background: #e4e7d2; padding: 0.45em 0.6em; margin: 0 0.25em; line-height: 1; border-radius: 0.35em;\">\n",
       "    $1 billion\n",
       "    <span style=\"font-size: 0.8em; font-weight: bold; line-height: 1; border-radius: 0.35em; vertical-align: middle; margin-left: 0.5rem\">MONEY</span>\n",
       "</mark>\n",
       "</div>"
      ],
      "text/plain": [
       "HTML{String}(\"<div class=\\\"entities\\\" style=\\\"line-height: 2.5; direction: ltr\\\">\\n<mark class=\\\"entity\\\" style=\\\"background: #7aecec; padding: 0.45em 0.6em; margin: 0 0.25em; line-height: 1; border-radius: 0.35em;\\\">\\n    Apple\\n    <span style=\\\"font-size: 0.8em; font-weight: bold; line-height: 1; border-radius: 0.35em; vertical-align: middle; margin-left: 0.5rem\\\">ORG</span>\\n</mark>\\n is looking at buying \\n<mark class=\\\"entity\\\" style=\\\"background: #feca74; padding: 0.45em 0.6em; margin: 0 0.25em; line-height: 1; border-radius: 0.35em;\\\">\\n    U.K.\\n    <span style=\\\"font-size: 0.8em; font-weight: bold; line-height: 1; border-radius: 0.35em; vertical-align: middle; margin-left: 0.5rem\\\">GPE</span>\\n</mark>\\n startup for \\n<mark class=\\\"entity\\\" style=\\\"background: #e4e7d2; padding: 0.45em 0.6em; margin: 0 0.25em; line-height: 1; border-radius: 0.35em;\\\">\\n    \\$1 billion\\n    <span style=\\\"font-size: 0.8em; font-weight: bold; line-height: 1; border-radius: 0.35em; vertical-align: middle; margin-left: 0.5rem\\\">MONEY</span>\\n</mark>\\n</div>\")"
      ]
     },
     "metadata": {},
     "output_type": "display_data"
    }
   ],
   "source": [
    "display(HTML(spacy.displacy.render(doc, style=\"ent\")))"
   ]
  },
  {
   "cell_type": "markdown",
   "metadata": {
    "slideshow": {
     "slide_type": "slide"
    }
   },
   "source": [
    "### Read BBC Data"
   ]
  },
  {
   "cell_type": "markdown",
   "metadata": {},
   "source": [
    "We will now read a larger set of 2,225 BBC News articles (see GitHub for data source details) that belong to five categories and are stored in individual text files. We \n",
    "- call the .glob() method of the pathlib’s Path object, \n",
    "- iterate over the resulting list of paths, \n",
    "- read all lines of the news article excluding the heading in the first line, and \n",
    "- append the cleaned result to a list"
   ]
  },
  {
   "cell_type": "code",
   "execution_count": 23,
   "metadata": {
    "scrolled": true
   },
   "outputs": [
    {
     "data": {
      "text/plain": [
       "2225-element Vector{String}:\n",
       " \"..\\\\data\\\\bbc\\\\bbc\\\\business\\\\001.txt\"\n",
       " \"..\\\\data\\\\bbc\\\\bbc\\\\business\\\\002.txt\"\n",
       " \"..\\\\data\\\\bbc\\\\bbc\\\\business\\\\003.txt\"\n",
       " \"..\\\\data\\\\bbc\\\\bbc\\\\business\\\\004.txt\"\n",
       " \"..\\\\data\\\\bbc\\\\bbc\\\\business\\\\005.txt\"\n",
       " \"..\\\\data\\\\bbc\\\\bbc\\\\business\\\\006.txt\"\n",
       " \"..\\\\data\\\\bbc\\\\bbc\\\\business\\\\007.txt\"\n",
       " \"..\\\\data\\\\bbc\\\\bbc\\\\business\\\\008.txt\"\n",
       " \"..\\\\data\\\\bbc\\\\bbc\\\\business\\\\009.txt\"\n",
       " \"..\\\\data\\\\bbc\\\\bbc\\\\business\\\\010.txt\"\n",
       " \"..\\\\data\\\\bbc\\\\bbc\\\\business\\\\011.txt\"\n",
       " \"..\\\\data\\\\bbc\\\\bbc\\\\business\\\\012.txt\"\n",
       " \"..\\\\data\\\\bbc\\\\bbc\\\\business\\\\013.txt\"\n",
       " ⋮\n",
       " \"..\\\\data\\\\bbc\\\\bbc\\\\tech\\\\390.txt\"\n",
       " \"..\\\\data\\\\bbc\\\\bbc\\\\tech\\\\391.txt\"\n",
       " \"..\\\\data\\\\bbc\\\\bbc\\\\tech\\\\392.txt\"\n",
       " \"..\\\\data\\\\bbc\\\\bbc\\\\tech\\\\393.txt\"\n",
       " \"..\\\\data\\\\bbc\\\\bbc\\\\tech\\\\394.txt\"\n",
       " \"..\\\\data\\\\bbc\\\\bbc\\\\tech\\\\395.txt\"\n",
       " \"..\\\\data\\\\bbc\\\\bbc\\\\tech\\\\396.txt\"\n",
       " \"..\\\\data\\\\bbc\\\\bbc\\\\tech\\\\397.txt\"\n",
       " \"..\\\\data\\\\bbc\\\\bbc\\\\tech\\\\398.txt\"\n",
       " \"..\\\\data\\\\bbc\\\\bbc\\\\tech\\\\399.txt\"\n",
       " \"..\\\\data\\\\bbc\\\\bbc\\\\tech\\\\400.txt\"\n",
       " \"..\\\\data\\\\bbc\\\\bbc\\\\tech\\\\401.txt\""
      ]
     },
     "execution_count": 23,
     "metadata": {},
     "output_type": "execute_result"
    }
   ],
   "source": [
    "files = Glob.glob(\"../data/bbc/bbc/**/*.txt\")"
   ]
  },
  {
   "cell_type": "code",
   "execution_count": 24,
   "metadata": {},
   "outputs": [],
   "source": [
    "bbc_articles = Any[]\n",
    "for (i,file) in enumerate(files)\n",
    "    f = open(file, \"r\")\n",
    "    s = StringDecoder(f, \"LATIN1\", \"UTF-8\")\n",
    "    lines = readlines(s)\n",
    "    body = strip(join([strip(line) for line in lines[2:end]]))\n",
    "    push!(bbc_articles, body)\n",
    "    close(f)\n",
    "end"
   ]
  },
  {
   "cell_type": "code",
   "execution_count": 25,
   "metadata": {
    "ExecuteTime": {
     "end_time": "2020-06-20T17:06:30.753654Z",
     "start_time": "2020-06-20T17:06:30.751203Z"
    },
    "slideshow": {
     "slide_type": "fragment"
    }
   },
   "outputs": [
    {
     "data": {
      "text/plain": [
       "2225"
      ]
     },
     "execution_count": 25,
     "metadata": {},
     "output_type": "execute_result"
    }
   ],
   "source": [
    "length(bbc_articles)"
   ]
  },
  {
   "cell_type": "code",
   "execution_count": 26,
   "metadata": {
    "ExecuteTime": {
     "end_time": "2020-06-20T17:06:30.761614Z",
     "start_time": "2020-06-20T17:06:30.754578Z"
    },
    "slideshow": {
     "slide_type": "slide"
    }
   },
   "outputs": [
    {
     "data": {
      "text/plain": [
       "\"Quarterly profits at US media giant TimeWarner jumped 76% to \\$1.13bn (Â£600m) for the three months to December, from \\$639m year-earlier.The firm, which is now one of the biggest investors in Google, benefited from sales of high-speed internet connections and higher adve\" ⋯ 1976 bytes ⋯ \"00m. It intends to adjust the way it accounts for a deal with German music publisher Bertelsmann's purchase of a stake in AOL Europe, which it had reported as advertising revenue. It will now book the sale of its stake in AOL Europe as a loss on the value of that stake.\""
      ]
     },
     "execution_count": 26,
     "metadata": {},
     "output_type": "execute_result"
    }
   ],
   "source": [
    "bbc_articles[1]"
   ]
  },
  {
   "cell_type": "markdown",
   "metadata": {
    "slideshow": {
     "slide_type": "slide"
    }
   },
   "source": [
    "### Parse first article through Pipeline"
   ]
  },
  {
   "cell_type": "code",
   "execution_count": 27,
   "metadata": {
    "ExecuteTime": {
     "end_time": "2020-06-20T17:06:30.769464Z",
     "start_time": "2020-06-20T17:06:30.762431Z"
    },
    "slideshow": {
     "slide_type": "fragment"
    }
   },
   "outputs": [
    {
     "data": {
      "text/plain": [
       "6-element Vector{String}:\n",
       " \"tok2vec\"\n",
       " \"tagger\"\n",
       " \"parser\"\n",
       " \"attribute_ruler\"\n",
       " \"lemmatizer\"\n",
       " \"ner\""
      ]
     },
     "execution_count": 27,
     "metadata": {},
     "output_type": "execute_result"
    }
   ],
   "source": [
    "nlp.pipe_names"
   ]
  },
  {
   "cell_type": "code",
   "execution_count": 28,
   "metadata": {
    "ExecuteTime": {
     "end_time": "2020-06-20T17:06:30.841739Z",
     "start_time": "2020-06-20T17:06:30.770222Z"
    },
    "scrolled": true,
    "slideshow": {
     "slide_type": "fragment"
    }
   },
   "outputs": [
    {
     "data": {
      "text/plain": [
       "true"
      ]
     },
     "execution_count": 28,
     "metadata": {},
     "output_type": "execute_result"
    }
   ],
   "source": [
    "doc = nlp(bbc_articles[1])\n",
    "doc.is_parsed"
   ]
  },
  {
   "cell_type": "markdown",
   "metadata": {
    "slideshow": {
     "slide_type": "slide"
    }
   },
   "source": [
    "### Detect sentence boundary\n",
    "Sentence boundaries are calculated from the syntactic parse tree, so features such as punctuation and capitalisation play an important but non-decisive role in determining the sentence boundaries. \n",
    "\n",
    "Usually this means that the sentence boundaries will at least coincide with clause boundaries, even given poorly punctuated text."
   ]
  },
  {
   "cell_type": "markdown",
   "metadata": {},
   "source": [
    "spaCy computes sentence boundaries from the syntactic parse tree so that punctuation and capitalization play an important but not decisive role. As a result, boundaries will coincide with clause boundaries, even for poorly punctuated text.\n",
    "\n",
    "We can access the parsed sentences using the .sents attribute:"
   ]
  },
  {
   "cell_type": "code",
   "execution_count": 29,
   "metadata": {
    "ExecuteTime": {
     "end_time": "2020-06-20T17:06:30.845300Z",
     "start_time": "2020-06-20T17:06:30.842621Z"
    },
    "slideshow": {
     "slide_type": "fragment"
    }
   },
   "outputs": [
    {
     "data": {
      "text/plain": [
       "3-element Vector{PyObject}:\n",
       " PyObject Quarterly profits at US media giant TimeWarner jumped 76% to $1.13bn (Â£600m) for the three months to December, from $639m year-earlier.\n",
       " PyObject The firm, which is now one of the biggest investors in Google, benefited from sales of high-speed internet connections and higher advert sales.\n",
       " PyObject TimeWarner said fourth quarter sales rose 2% to $11.1bn from $10.9bn."
      ]
     },
     "execution_count": 29,
     "metadata": {},
     "output_type": "execute_result"
    }
   ],
   "source": [
    "sentences = [s for s ∈ doc.sents]\n",
    "sentences[1:3]"
   ]
  },
  {
   "cell_type": "code",
   "execution_count": 30,
   "metadata": {
    "ExecuteTime": {
     "end_time": "2020-06-20T17:06:30.865641Z",
     "start_time": "2020-06-20T17:06:30.854111Z"
    },
    "slideshow": {
     "slide_type": "slide"
    }
   },
   "outputs": [
    {
     "data": {
      "text/html": [
       "<div class=\"data-frame\"><p>15 rows × 3 columns</p><table class=\"data-frame\"><thead><tr><th></th><th>Token</th><th>POS_Tag</th><th>Meaning</th></tr><tr><th></th><th title=\"String\">String</th><th title=\"String\">String</th><th title=\"String\">String</th></tr></thead><tbody><tr><th>1</th><td>Quarterly</td><td>ADJ</td><td>adjective</td></tr><tr><th>2</th><td>profits</td><td>NOUN</td><td>noun</td></tr><tr><th>3</th><td>at</td><td>ADP</td><td>adposition</td></tr><tr><th>4</th><td>US</td><td>PROPN</td><td>proper noun</td></tr><tr><th>5</th><td>media</td><td>NOUN</td><td>noun</td></tr><tr><th>6</th><td>giant</td><td>NOUN</td><td>noun</td></tr><tr><th>7</th><td>TimeWarner</td><td>PROPN</td><td>proper noun</td></tr><tr><th>8</th><td>jumped</td><td>VERB</td><td>verb</td></tr><tr><th>9</th><td>76</td><td>NUM</td><td>numeral</td></tr><tr><th>10</th><td>%</td><td>NOUN</td><td>noun</td></tr><tr><th>11</th><td>to</td><td>ADP</td><td>adposition</td></tr><tr><th>12</th><td>$</td><td>SYM</td><td>symbol</td></tr><tr><th>13</th><td>1.13bn</td><td>NUM</td><td>numeral</td></tr><tr><th>14</th><td>(</td><td>PUNCT</td><td>punctuation</td></tr><tr><th>15</th><td>Â£600</td><td>ADV</td><td>adverb</td></tr></tbody></table></div>"
      ],
      "text/latex": [
       "\\begin{tabular}{r|ccc}\n",
       "\t& Token & POS\\_Tag & Meaning\\\\\n",
       "\t\\hline\n",
       "\t& String & String & String\\\\\n",
       "\t\\hline\n",
       "\t1 & Quarterly & ADJ & adjective \\\\\n",
       "\t2 & profits & NOUN & noun \\\\\n",
       "\t3 & at & ADP & adposition \\\\\n",
       "\t4 & US & PROPN & proper noun \\\\\n",
       "\t5 & media & NOUN & noun \\\\\n",
       "\t6 & giant & NOUN & noun \\\\\n",
       "\t7 & TimeWarner & PROPN & proper noun \\\\\n",
       "\t8 & jumped & VERB & verb \\\\\n",
       "\t9 & 76 & NUM & numeral \\\\\n",
       "\t10 & \\% & NOUN & noun \\\\\n",
       "\t11 & to & ADP & adposition \\\\\n",
       "\t12 & \\$ & SYM & symbol \\\\\n",
       "\t13 & 1.13bn & NUM & numeral \\\\\n",
       "\t14 & ( & PUNCT & punctuation \\\\\n",
       "\t15 & Â£600 & ADV & adverb \\\\\n",
       "\\end{tabular}\n"
      ],
      "text/plain": [
       "\u001b[1m15×3 DataFrame\u001b[0m\n",
       "\u001b[1m Row \u001b[0m│\u001b[1m Token      \u001b[0m\u001b[1m POS_Tag \u001b[0m\u001b[1m Meaning     \u001b[0m\n",
       "\u001b[1m     \u001b[0m│\u001b[90m String     \u001b[0m\u001b[90m String  \u001b[0m\u001b[90m String      \u001b[0m\n",
       "─────┼──────────────────────────────────\n",
       "   1 │ Quarterly   ADJ      adjective\n",
       "   2 │ profits     NOUN     noun\n",
       "   3 │ at          ADP      adposition\n",
       "   4 │ US          PROPN    proper noun\n",
       "   5 │ media       NOUN     noun\n",
       "   6 │ giant       NOUN     noun\n",
       "   7 │ TimeWarner  PROPN    proper noun\n",
       "   8 │ jumped      VERB     verb\n",
       "   9 │ 76          NUM      numeral\n",
       "  10 │ %           NOUN     noun\n",
       "  11 │ to          ADP      adposition\n",
       "  12 │ $           SYM      symbol\n",
       "  13 │ 1.13bn      NUM      numeral\n",
       "  14 │ (           PUNCT    punctuation\n",
       "  15 │ Â£600       ADV      adverb"
      ]
     },
     "execution_count": 30,
     "metadata": {},
     "output_type": "execute_result"
    }
   ],
   "source": [
    "first_sent_info = [[t.text, t.pos_, spacy.explain(t.pos_)] for t in sentences[1]]\n",
    "first_sent_df = DataFrame(Token = getindex.(first_sent_info, 1),\n",
    "    POS_Tag = getindex.(first_sent_info, 2),\n",
    "    Meaning = getindex.(first_sent_info, 3))\n",
    "first(first_sent_df, 15)"
   ]
  },
  {
   "cell_type": "code",
   "execution_count": 31,
   "metadata": {
    "ExecuteTime": {
     "end_time": "2020-06-20T17:06:30.875996Z",
     "start_time": "2020-06-20T17:06:30.867700Z"
    },
    "slideshow": {
     "slide_type": "slide"
    }
   },
   "outputs": [
    {
     "data": {
      "text/html": [
       "<svg xmlns=\"http://www.w3.org/2000/svg\" xmlns:xlink=\"http://www.w3.org/1999/xlink\" xml:lang=\"en\" id=\"ef6bcacb0a30484f958af62ff61b41d7-0\" class=\"displacy\" width=\"3950\" height=\"587.0\" direction=\"ltr\" style=\"max-width: none; height: 587.0px; color: white; background: #09a3d5; font-family: Source Sans Pro; direction: ltr\">\n",
       "<text class=\"displacy-token\" fill=\"currentColor\" text-anchor=\"middle\" y=\"497.0\">\n",
       "    <tspan class=\"displacy-word\" fill=\"currentColor\" x=\"50\">Quarterly</tspan>\n",
       "    <tspan class=\"displacy-tag\" dy=\"2em\" fill=\"currentColor\" x=\"50\">ADJ</tspan>\n",
       "</text>\n",
       "\n",
       "<text class=\"displacy-token\" fill=\"currentColor\" text-anchor=\"middle\" y=\"497.0\">\n",
       "    <tspan class=\"displacy-word\" fill=\"currentColor\" x=\"200\">profits</tspan>\n",
       "    <tspan class=\"displacy-tag\" dy=\"2em\" fill=\"currentColor\" x=\"200\">NOUN</tspan>\n",
       "</text>\n",
       "\n",
       "<text class=\"displacy-token\" fill=\"currentColor\" text-anchor=\"middle\" y=\"497.0\">\n",
       "    <tspan class=\"displacy-word\" fill=\"currentColor\" x=\"350\">at</tspan>\n",
       "    <tspan class=\"displacy-tag\" dy=\"2em\" fill=\"currentColor\" x=\"350\">ADP</tspan>\n",
       "</text>\n",
       "\n",
       "<text class=\"displacy-token\" fill=\"currentColor\" text-anchor=\"middle\" y=\"497.0\">\n",
       "    <tspan class=\"displacy-word\" fill=\"currentColor\" x=\"500\">US</tspan>\n",
       "    <tspan class=\"displacy-tag\" dy=\"2em\" fill=\"currentColor\" x=\"500\">PROPN</tspan>\n",
       "</text>\n",
       "\n",
       "<text class=\"displacy-token\" fill=\"currentColor\" text-anchor=\"middle\" y=\"497.0\">\n",
       "    <tspan class=\"displacy-word\" fill=\"currentColor\" x=\"650\">media</tspan>\n",
       "    <tspan class=\"displacy-tag\" dy=\"2em\" fill=\"currentColor\" x=\"650\">NOUN</tspan>\n",
       "</text>\n",
       "\n",
       "<text class=\"displacy-token\" fill=\"currentColor\" text-anchor=\"middle\" y=\"497.0\">\n",
       "    <tspan class=\"displacy-word\" fill=\"currentColor\" x=\"800\">giant</tspan>\n",
       "    <tspan class=\"displacy-tag\" dy=\"2em\" fill=\"currentColor\" x=\"800\">NOUN</tspan>\n",
       "</text>\n",
       "\n",
       "<text class=\"displacy-token\" fill=\"currentColor\" text-anchor=\"middle\" y=\"497.0\">\n",
       "    <tspan class=\"displacy-word\" fill=\"currentColor\" x=\"950\">TimeWarner</tspan>\n",
       "    <tspan class=\"displacy-tag\" dy=\"2em\" fill=\"currentColor\" x=\"950\">PROPN</tspan>\n",
       "</text>\n",
       "\n",
       "<text class=\"displacy-token\" fill=\"currentColor\" text-anchor=\"middle\" y=\"497.0\">\n",
       "    <tspan class=\"displacy-word\" fill=\"currentColor\" x=\"1100\">jumped</tspan>\n",
       "    <tspan class=\"displacy-tag\" dy=\"2em\" fill=\"currentColor\" x=\"1100\">VERB</tspan>\n",
       "</text>\n",
       "\n",
       "<text class=\"displacy-token\" fill=\"currentColor\" text-anchor=\"middle\" y=\"497.0\">\n",
       "    <tspan class=\"displacy-word\" fill=\"currentColor\" x=\"1250\">76%</tspan>\n",
       "    <tspan class=\"displacy-tag\" dy=\"2em\" fill=\"currentColor\" x=\"1250\">NOUN</tspan>\n",
       "</text>\n",
       "\n",
       "<text class=\"displacy-token\" fill=\"currentColor\" text-anchor=\"middle\" y=\"497.0\">\n",
       "    <tspan class=\"displacy-word\" fill=\"currentColor\" x=\"1400\">to</tspan>\n",
       "    <tspan class=\"displacy-tag\" dy=\"2em\" fill=\"currentColor\" x=\"1400\">ADP</tspan>\n",
       "</text>\n",
       "\n",
       "<text class=\"displacy-token\" fill=\"currentColor\" text-anchor=\"middle\" y=\"497.0\">\n",
       "    <tspan class=\"displacy-word\" fill=\"currentColor\" x=\"1550\">$</tspan>\n",
       "    <tspan class=\"displacy-tag\" dy=\"2em\" fill=\"currentColor\" x=\"1550\">SYM</tspan>\n",
       "</text>\n",
       "\n",
       "<text class=\"displacy-token\" fill=\"currentColor\" text-anchor=\"middle\" y=\"497.0\">\n",
       "    <tspan class=\"displacy-word\" fill=\"currentColor\" x=\"1700\">1.13bn (</tspan>\n",
       "    <tspan class=\"displacy-tag\" dy=\"2em\" fill=\"currentColor\" x=\"1700\">NUM</tspan>\n",
       "</text>\n",
       "\n",
       "<text class=\"displacy-token\" fill=\"currentColor\" text-anchor=\"middle\" y=\"497.0\">\n",
       "    <tspan class=\"displacy-word\" fill=\"currentColor\" x=\"1850\">Â£600</tspan>\n",
       "    <tspan class=\"displacy-tag\" dy=\"2em\" fill=\"currentColor\" x=\"1850\">ADV</tspan>\n",
       "</text>\n",
       "\n",
       "<text class=\"displacy-token\" fill=\"currentColor\" text-anchor=\"middle\" y=\"497.0\">\n",
       "    <tspan class=\"displacy-word\" fill=\"currentColor\" x=\"2000\">m)</tspan>\n",
       "    <tspan class=\"displacy-tag\" dy=\"2em\" fill=\"currentColor\" x=\"2000\">VERB</tspan>\n",
       "</text>\n",
       "\n",
       "<text class=\"displacy-token\" fill=\"currentColor\" text-anchor=\"middle\" y=\"497.0\">\n",
       "    <tspan class=\"displacy-word\" fill=\"currentColor\" x=\"2150\">for</tspan>\n",
       "    <tspan class=\"displacy-tag\" dy=\"2em\" fill=\"currentColor\" x=\"2150\">ADP</tspan>\n",
       "</text>\n",
       "\n",
       "<text class=\"displacy-token\" fill=\"currentColor\" text-anchor=\"middle\" y=\"497.0\">\n",
       "    <tspan class=\"displacy-word\" fill=\"currentColor\" x=\"2300\">the</tspan>\n",
       "    <tspan class=\"displacy-tag\" dy=\"2em\" fill=\"currentColor\" x=\"2300\">DET</tspan>\n",
       "</text>\n",
       "\n",
       "<text class=\"displacy-token\" fill=\"currentColor\" text-anchor=\"middle\" y=\"497.0\">\n",
       "    <tspan class=\"displacy-word\" fill=\"currentColor\" x=\"2450\">three</tspan>\n",
       "    <tspan class=\"displacy-tag\" dy=\"2em\" fill=\"currentColor\" x=\"2450\">NUM</tspan>\n",
       "</text>\n",
       "\n",
       "<text class=\"displacy-token\" fill=\"currentColor\" text-anchor=\"middle\" y=\"497.0\">\n",
       "    <tspan class=\"displacy-word\" fill=\"currentColor\" x=\"2600\">months</tspan>\n",
       "    <tspan class=\"displacy-tag\" dy=\"2em\" fill=\"currentColor\" x=\"2600\">NOUN</tspan>\n",
       "</text>\n",
       "\n",
       "<text class=\"displacy-token\" fill=\"currentColor\" text-anchor=\"middle\" y=\"497.0\">\n",
       "    <tspan class=\"displacy-word\" fill=\"currentColor\" x=\"2750\">to</tspan>\n",
       "    <tspan class=\"displacy-tag\" dy=\"2em\" fill=\"currentColor\" x=\"2750\">ADP</tspan>\n",
       "</text>\n",
       "\n",
       "<text class=\"displacy-token\" fill=\"currentColor\" text-anchor=\"middle\" y=\"497.0\">\n",
       "    <tspan class=\"displacy-word\" fill=\"currentColor\" x=\"2900\">December,</tspan>\n",
       "    <tspan class=\"displacy-tag\" dy=\"2em\" fill=\"currentColor\" x=\"2900\">PROPN</tspan>\n",
       "</text>\n",
       "\n",
       "<text class=\"displacy-token\" fill=\"currentColor\" text-anchor=\"middle\" y=\"497.0\">\n",
       "    <tspan class=\"displacy-word\" fill=\"currentColor\" x=\"3050\">from</tspan>\n",
       "    <tspan class=\"displacy-tag\" dy=\"2em\" fill=\"currentColor\" x=\"3050\">ADP</tspan>\n",
       "</text>\n",
       "\n",
       "<text class=\"displacy-token\" fill=\"currentColor\" text-anchor=\"middle\" y=\"497.0\">\n",
       "    <tspan class=\"displacy-word\" fill=\"currentColor\" x=\"3200\">$</tspan>\n",
       "    <tspan class=\"displacy-tag\" dy=\"2em\" fill=\"currentColor\" x=\"3200\">SYM</tspan>\n",
       "</text>\n",
       "\n",
       "<text class=\"displacy-token\" fill=\"currentColor\" text-anchor=\"middle\" y=\"497.0\">\n",
       "    <tspan class=\"displacy-word\" fill=\"currentColor\" x=\"3350\">639</tspan>\n",
       "    <tspan class=\"displacy-tag\" dy=\"2em\" fill=\"currentColor\" x=\"3350\">NUM</tspan>\n",
       "</text>\n",
       "\n",
       "<text class=\"displacy-token\" fill=\"currentColor\" text-anchor=\"middle\" y=\"497.0\">\n",
       "    <tspan class=\"displacy-word\" fill=\"currentColor\" x=\"3500\">m</tspan>\n",
       "    <tspan class=\"displacy-tag\" dy=\"2em\" fill=\"currentColor\" x=\"3500\">NOUN</tspan>\n",
       "</text>\n",
       "\n",
       "<text class=\"displacy-token\" fill=\"currentColor\" text-anchor=\"middle\" y=\"497.0\">\n",
       "    <tspan class=\"displacy-word\" fill=\"currentColor\" x=\"3650\">year-</tspan>\n",
       "    <tspan class=\"displacy-tag\" dy=\"2em\" fill=\"currentColor\" x=\"3650\">NOUN</tspan>\n",
       "</text>\n",
       "\n",
       "<text class=\"displacy-token\" fill=\"currentColor\" text-anchor=\"middle\" y=\"497.0\">\n",
       "    <tspan class=\"displacy-word\" fill=\"currentColor\" x=\"3800\">earlier.</tspan>\n",
       "    <tspan class=\"displacy-tag\" dy=\"2em\" fill=\"currentColor\" x=\"3800\">ADV</tspan>\n",
       "</text>\n",
       "\n",
       "<g class=\"displacy-arrow\">\n",
       "    <path class=\"displacy-arc\" id=\"arrow-ef6bcacb0a30484f958af62ff61b41d7-0-0\" stroke-width=\"2px\" d=\"M62,452.0 62,427.0 185.0,427.0 185.0,452.0\" fill=\"none\" stroke=\"currentColor\"/>\n",
       "    <text dy=\"1.25em\" style=\"font-size: 0.8em; letter-spacing: 1px\">\n",
       "        <textPath xlink:href=\"#arrow-ef6bcacb0a30484f958af62ff61b41d7-0-0\" class=\"displacy-label\" startOffset=\"50%\" side=\"left\" fill=\"currentColor\" text-anchor=\"middle\">amod</textPath>\n",
       "    </text>\n",
       "    <path class=\"displacy-arrowhead\" d=\"M62,454.0 L58,446.0 66,446.0\" fill=\"currentColor\"/>\n",
       "</g>\n",
       "\n",
       "<g class=\"displacy-arrow\">\n",
       "    <path class=\"displacy-arc\" id=\"arrow-ef6bcacb0a30484f958af62ff61b41d7-0-1\" stroke-width=\"2px\" d=\"M212,452.0 212,377.0 1091.0,377.0 1091.0,452.0\" fill=\"none\" stroke=\"currentColor\"/>\n",
       "    <text dy=\"1.25em\" style=\"font-size: 0.8em; letter-spacing: 1px\">\n",
       "        <textPath xlink:href=\"#arrow-ef6bcacb0a30484f958af62ff61b41d7-0-1\" class=\"displacy-label\" startOffset=\"50%\" side=\"left\" fill=\"currentColor\" text-anchor=\"middle\">nsubj</textPath>\n",
       "    </text>\n",
       "    <path class=\"displacy-arrowhead\" d=\"M212,454.0 L208,446.0 216,446.0\" fill=\"currentColor\"/>\n",
       "</g>\n",
       "\n",
       "<g class=\"displacy-arrow\">\n",
       "    <path class=\"displacy-arc\" id=\"arrow-ef6bcacb0a30484f958af62ff61b41d7-0-2\" stroke-width=\"2px\" d=\"M212,452.0 212,427.0 335.0,427.0 335.0,452.0\" fill=\"none\" stroke=\"currentColor\"/>\n",
       "    <text dy=\"1.25em\" style=\"font-size: 0.8em; letter-spacing: 1px\">\n",
       "        <textPath xlink:href=\"#arrow-ef6bcacb0a30484f958af62ff61b41d7-0-2\" class=\"displacy-label\" startOffset=\"50%\" side=\"left\" fill=\"currentColor\" text-anchor=\"middle\">prep</textPath>\n",
       "    </text>\n",
       "    <path class=\"displacy-arrowhead\" d=\"M335.0,454.0 L339.0,446.0 331.0,446.0\" fill=\"currentColor\"/>\n",
       "</g>\n",
       "\n",
       "<g class=\"displacy-arrow\">\n",
       "    <path class=\"displacy-arc\" id=\"arrow-ef6bcacb0a30484f958af62ff61b41d7-0-3\" stroke-width=\"2px\" d=\"M512,452.0 512,427.0 635.0,427.0 635.0,452.0\" fill=\"none\" stroke=\"currentColor\"/>\n",
       "    <text dy=\"1.25em\" style=\"font-size: 0.8em; letter-spacing: 1px\">\n",
       "        <textPath xlink:href=\"#arrow-ef6bcacb0a30484f958af62ff61b41d7-0-3\" class=\"displacy-label\" startOffset=\"50%\" side=\"left\" fill=\"currentColor\" text-anchor=\"middle\">compound</textPath>\n",
       "    </text>\n",
       "    <path class=\"displacy-arrowhead\" d=\"M512,454.0 L508,446.0 516,446.0\" fill=\"currentColor\"/>\n",
       "</g>\n",
       "\n",
       "<g class=\"displacy-arrow\">\n",
       "    <path class=\"displacy-arc\" id=\"arrow-ef6bcacb0a30484f958af62ff61b41d7-0-4\" stroke-width=\"2px\" d=\"M662,452.0 662,427.0 785.0,427.0 785.0,452.0\" fill=\"none\" stroke=\"currentColor\"/>\n",
       "    <text dy=\"1.25em\" style=\"font-size: 0.8em; letter-spacing: 1px\">\n",
       "        <textPath xlink:href=\"#arrow-ef6bcacb0a30484f958af62ff61b41d7-0-4\" class=\"displacy-label\" startOffset=\"50%\" side=\"left\" fill=\"currentColor\" text-anchor=\"middle\">compound</textPath>\n",
       "    </text>\n",
       "    <path class=\"displacy-arrowhead\" d=\"M662,454.0 L658,446.0 666,446.0\" fill=\"currentColor\"/>\n",
       "</g>\n",
       "\n",
       "<g class=\"displacy-arrow\">\n",
       "    <path class=\"displacy-arc\" id=\"arrow-ef6bcacb0a30484f958af62ff61b41d7-0-5\" stroke-width=\"2px\" d=\"M812,452.0 812,427.0 935.0,427.0 935.0,452.0\" fill=\"none\" stroke=\"currentColor\"/>\n",
       "    <text dy=\"1.25em\" style=\"font-size: 0.8em; letter-spacing: 1px\">\n",
       "        <textPath xlink:href=\"#arrow-ef6bcacb0a30484f958af62ff61b41d7-0-5\" class=\"displacy-label\" startOffset=\"50%\" side=\"left\" fill=\"currentColor\" text-anchor=\"middle\">compound</textPath>\n",
       "    </text>\n",
       "    <path class=\"displacy-arrowhead\" d=\"M812,454.0 L808,446.0 816,446.0\" fill=\"currentColor\"/>\n",
       "</g>\n",
       "\n",
       "<g class=\"displacy-arrow\">\n",
       "    <path class=\"displacy-arc\" id=\"arrow-ef6bcacb0a30484f958af62ff61b41d7-0-6\" stroke-width=\"2px\" d=\"M362,452.0 362,402.0 938.0,402.0 938.0,452.0\" fill=\"none\" stroke=\"currentColor\"/>\n",
       "    <text dy=\"1.25em\" style=\"font-size: 0.8em; letter-spacing: 1px\">\n",
       "        <textPath xlink:href=\"#arrow-ef6bcacb0a30484f958af62ff61b41d7-0-6\" class=\"displacy-label\" startOffset=\"50%\" side=\"left\" fill=\"currentColor\" text-anchor=\"middle\">pobj</textPath>\n",
       "    </text>\n",
       "    <path class=\"displacy-arrowhead\" d=\"M938.0,454.0 L942.0,446.0 934.0,446.0\" fill=\"currentColor\"/>\n",
       "</g>\n",
       "\n",
       "<g class=\"displacy-arrow\">\n",
       "    <path class=\"displacy-arc\" id=\"arrow-ef6bcacb0a30484f958af62ff61b41d7-0-7\" stroke-width=\"2px\" d=\"M1112,452.0 1112,427.0 1235.0,427.0 1235.0,452.0\" fill=\"none\" stroke=\"currentColor\"/>\n",
       "    <text dy=\"1.25em\" style=\"font-size: 0.8em; letter-spacing: 1px\">\n",
       "        <textPath xlink:href=\"#arrow-ef6bcacb0a30484f958af62ff61b41d7-0-7\" class=\"displacy-label\" startOffset=\"50%\" side=\"left\" fill=\"currentColor\" text-anchor=\"middle\">npadvmod</textPath>\n",
       "    </text>\n",
       "    <path class=\"displacy-arrowhead\" d=\"M1235.0,454.0 L1239.0,446.0 1231.0,446.0\" fill=\"currentColor\"/>\n",
       "</g>\n",
       "\n",
       "<g class=\"displacy-arrow\">\n",
       "    <path class=\"displacy-arc\" id=\"arrow-ef6bcacb0a30484f958af62ff61b41d7-0-8\" stroke-width=\"2px\" d=\"M1112,452.0 1112,402.0 1388.0,402.0 1388.0,452.0\" fill=\"none\" stroke=\"currentColor\"/>\n",
       "    <text dy=\"1.25em\" style=\"font-size: 0.8em; letter-spacing: 1px\">\n",
       "        <textPath xlink:href=\"#arrow-ef6bcacb0a30484f958af62ff61b41d7-0-8\" class=\"displacy-label\" startOffset=\"50%\" side=\"left\" fill=\"currentColor\" text-anchor=\"middle\">prep</textPath>\n",
       "    </text>\n",
       "    <path class=\"displacy-arrowhead\" d=\"M1388.0,454.0 L1392.0,446.0 1384.0,446.0\" fill=\"currentColor\"/>\n",
       "</g>\n",
       "\n",
       "<g class=\"displacy-arrow\">\n",
       "    <path class=\"displacy-arc\" id=\"arrow-ef6bcacb0a30484f958af62ff61b41d7-0-9\" stroke-width=\"2px\" d=\"M1562,452.0 1562,427.0 1685.0,427.0 1685.0,452.0\" fill=\"none\" stroke=\"currentColor\"/>\n",
       "    <text dy=\"1.25em\" style=\"font-size: 0.8em; letter-spacing: 1px\">\n",
       "        <textPath xlink:href=\"#arrow-ef6bcacb0a30484f958af62ff61b41d7-0-9\" class=\"displacy-label\" startOffset=\"50%\" side=\"left\" fill=\"currentColor\" text-anchor=\"middle\">nmod</textPath>\n",
       "    </text>\n",
       "    <path class=\"displacy-arrowhead\" d=\"M1562,454.0 L1558,446.0 1566,446.0\" fill=\"currentColor\"/>\n",
       "</g>\n",
       "\n",
       "<g class=\"displacy-arrow\">\n",
       "    <path class=\"displacy-arc\" id=\"arrow-ef6bcacb0a30484f958af62ff61b41d7-0-10\" stroke-width=\"2px\" d=\"M1412,452.0 1412,402.0 1688.0,402.0 1688.0,452.0\" fill=\"none\" stroke=\"currentColor\"/>\n",
       "    <text dy=\"1.25em\" style=\"font-size: 0.8em; letter-spacing: 1px\">\n",
       "        <textPath xlink:href=\"#arrow-ef6bcacb0a30484f958af62ff61b41d7-0-10\" class=\"displacy-label\" startOffset=\"50%\" side=\"left\" fill=\"currentColor\" text-anchor=\"middle\">pobj</textPath>\n",
       "    </text>\n",
       "    <path class=\"displacy-arrowhead\" d=\"M1688.0,454.0 L1692.0,446.0 1684.0,446.0\" fill=\"currentColor\"/>\n",
       "</g>\n",
       "\n",
       "<g class=\"displacy-arrow\">\n",
       "    <path class=\"displacy-arc\" id=\"arrow-ef6bcacb0a30484f958af62ff61b41d7-0-11\" stroke-width=\"2px\" d=\"M1112,452.0 1112,377.0 1841.0,377.0 1841.0,452.0\" fill=\"none\" stroke=\"currentColor\"/>\n",
       "    <text dy=\"1.25em\" style=\"font-size: 0.8em; letter-spacing: 1px\">\n",
       "        <textPath xlink:href=\"#arrow-ef6bcacb0a30484f958af62ff61b41d7-0-11\" class=\"displacy-label\" startOffset=\"50%\" side=\"left\" fill=\"currentColor\" text-anchor=\"middle\">dep</textPath>\n",
       "    </text>\n",
       "    <path class=\"displacy-arrowhead\" d=\"M1841.0,454.0 L1845.0,446.0 1837.0,446.0\" fill=\"currentColor\"/>\n",
       "</g>\n",
       "\n",
       "<g class=\"displacy-arrow\">\n",
       "    <path class=\"displacy-arc\" id=\"arrow-ef6bcacb0a30484f958af62ff61b41d7-0-12\" stroke-width=\"2px\" d=\"M1112,452.0 1112,352.0 1994.0,352.0 1994.0,452.0\" fill=\"none\" stroke=\"currentColor\"/>\n",
       "    <text dy=\"1.25em\" style=\"font-size: 0.8em; letter-spacing: 1px\">\n",
       "        <textPath xlink:href=\"#arrow-ef6bcacb0a30484f958af62ff61b41d7-0-12\" class=\"displacy-label\" startOffset=\"50%\" side=\"left\" fill=\"currentColor\" text-anchor=\"middle\">punct</textPath>\n",
       "    </text>\n",
       "    <path class=\"displacy-arrowhead\" d=\"M1994.0,454.0 L1998.0,446.0 1990.0,446.0\" fill=\"currentColor\"/>\n",
       "</g>\n",
       "\n",
       "<g class=\"displacy-arrow\">\n",
       "    <path class=\"displacy-arc\" id=\"arrow-ef6bcacb0a30484f958af62ff61b41d7-0-13\" stroke-width=\"2px\" d=\"M1112,452.0 1112,327.0 2147.0,327.0 2147.0,452.0\" fill=\"none\" stroke=\"currentColor\"/>\n",
       "    <text dy=\"1.25em\" style=\"font-size: 0.8em; letter-spacing: 1px\">\n",
       "        <textPath xlink:href=\"#arrow-ef6bcacb0a30484f958af62ff61b41d7-0-13\" class=\"displacy-label\" startOffset=\"50%\" side=\"left\" fill=\"currentColor\" text-anchor=\"middle\">prep</textPath>\n",
       "    </text>\n",
       "    <path class=\"displacy-arrowhead\" d=\"M2147.0,454.0 L2151.0,446.0 2143.0,446.0\" fill=\"currentColor\"/>\n",
       "</g>\n",
       "\n",
       "<g class=\"displacy-arrow\">\n",
       "    <path class=\"displacy-arc\" id=\"arrow-ef6bcacb0a30484f958af62ff61b41d7-0-14\" stroke-width=\"2px\" d=\"M2312,452.0 2312,402.0 2588.0,402.0 2588.0,452.0\" fill=\"none\" stroke=\"currentColor\"/>\n",
       "    <text dy=\"1.25em\" style=\"font-size: 0.8em; letter-spacing: 1px\">\n",
       "        <textPath xlink:href=\"#arrow-ef6bcacb0a30484f958af62ff61b41d7-0-14\" class=\"displacy-label\" startOffset=\"50%\" side=\"left\" fill=\"currentColor\" text-anchor=\"middle\">det</textPath>\n",
       "    </text>\n",
       "    <path class=\"displacy-arrowhead\" d=\"M2312,454.0 L2308,446.0 2316,446.0\" fill=\"currentColor\"/>\n",
       "</g>\n",
       "\n",
       "<g class=\"displacy-arrow\">\n",
       "    <path class=\"displacy-arc\" id=\"arrow-ef6bcacb0a30484f958af62ff61b41d7-0-15\" stroke-width=\"2px\" d=\"M2462,452.0 2462,427.0 2585.0,427.0 2585.0,452.0\" fill=\"none\" stroke=\"currentColor\"/>\n",
       "    <text dy=\"1.25em\" style=\"font-size: 0.8em; letter-spacing: 1px\">\n",
       "        <textPath xlink:href=\"#arrow-ef6bcacb0a30484f958af62ff61b41d7-0-15\" class=\"displacy-label\" startOffset=\"50%\" side=\"left\" fill=\"currentColor\" text-anchor=\"middle\">nummod</textPath>\n",
       "    </text>\n",
       "    <path class=\"displacy-arrowhead\" d=\"M2462,454.0 L2458,446.0 2466,446.0\" fill=\"currentColor\"/>\n",
       "</g>\n",
       "\n",
       "<g class=\"displacy-arrow\">\n",
       "    <path class=\"displacy-arc\" id=\"arrow-ef6bcacb0a30484f958af62ff61b41d7-0-16\" stroke-width=\"2px\" d=\"M2162,452.0 2162,377.0 2591.0,377.0 2591.0,452.0\" fill=\"none\" stroke=\"currentColor\"/>\n",
       "    <text dy=\"1.25em\" style=\"font-size: 0.8em; letter-spacing: 1px\">\n",
       "        <textPath xlink:href=\"#arrow-ef6bcacb0a30484f958af62ff61b41d7-0-16\" class=\"displacy-label\" startOffset=\"50%\" side=\"left\" fill=\"currentColor\" text-anchor=\"middle\">pobj</textPath>\n",
       "    </text>\n",
       "    <path class=\"displacy-arrowhead\" d=\"M2591.0,454.0 L2595.0,446.0 2587.0,446.0\" fill=\"currentColor\"/>\n",
       "</g>\n",
       "\n",
       "<g class=\"displacy-arrow\">\n",
       "    <path class=\"displacy-arc\" id=\"arrow-ef6bcacb0a30484f958af62ff61b41d7-0-17\" stroke-width=\"2px\" d=\"M2612,452.0 2612,427.0 2735.0,427.0 2735.0,452.0\" fill=\"none\" stroke=\"currentColor\"/>\n",
       "    <text dy=\"1.25em\" style=\"font-size: 0.8em; letter-spacing: 1px\">\n",
       "        <textPath xlink:href=\"#arrow-ef6bcacb0a30484f958af62ff61b41d7-0-17\" class=\"displacy-label\" startOffset=\"50%\" side=\"left\" fill=\"currentColor\" text-anchor=\"middle\">prep</textPath>\n",
       "    </text>\n",
       "    <path class=\"displacy-arrowhead\" d=\"M2735.0,454.0 L2739.0,446.0 2731.0,446.0\" fill=\"currentColor\"/>\n",
       "</g>\n",
       "\n",
       "<g class=\"displacy-arrow\">\n",
       "    <path class=\"displacy-arc\" id=\"arrow-ef6bcacb0a30484f958af62ff61b41d7-0-18\" stroke-width=\"2px\" d=\"M2762,452.0 2762,427.0 2885.0,427.0 2885.0,452.0\" fill=\"none\" stroke=\"currentColor\"/>\n",
       "    <text dy=\"1.25em\" style=\"font-size: 0.8em; letter-spacing: 1px\">\n",
       "        <textPath xlink:href=\"#arrow-ef6bcacb0a30484f958af62ff61b41d7-0-18\" class=\"displacy-label\" startOffset=\"50%\" side=\"left\" fill=\"currentColor\" text-anchor=\"middle\">pobj</textPath>\n",
       "    </text>\n",
       "    <path class=\"displacy-arrowhead\" d=\"M2885.0,454.0 L2889.0,446.0 2881.0,446.0\" fill=\"currentColor\"/>\n",
       "</g>\n",
       "\n",
       "<g class=\"displacy-arrow\">\n",
       "    <path class=\"displacy-arc\" id=\"arrow-ef6bcacb0a30484f958af62ff61b41d7-0-19\" stroke-width=\"2px\" d=\"M1112,452.0 1112,302.0 3050.0,302.0 3050.0,452.0\" fill=\"none\" stroke=\"currentColor\"/>\n",
       "    <text dy=\"1.25em\" style=\"font-size: 0.8em; letter-spacing: 1px\">\n",
       "        <textPath xlink:href=\"#arrow-ef6bcacb0a30484f958af62ff61b41d7-0-19\" class=\"displacy-label\" startOffset=\"50%\" side=\"left\" fill=\"currentColor\" text-anchor=\"middle\">prep</textPath>\n",
       "    </text>\n",
       "    <path class=\"displacy-arrowhead\" d=\"M3050.0,454.0 L3054.0,446.0 3046.0,446.0\" fill=\"currentColor\"/>\n",
       "</g>\n",
       "\n",
       "<g class=\"displacy-arrow\">\n",
       "    <path class=\"displacy-arc\" id=\"arrow-ef6bcacb0a30484f958af62ff61b41d7-0-20\" stroke-width=\"2px\" d=\"M3212,452.0 3212,427.0 3335.0,427.0 3335.0,452.0\" fill=\"none\" stroke=\"currentColor\"/>\n",
       "    <text dy=\"1.25em\" style=\"font-size: 0.8em; letter-spacing: 1px\">\n",
       "        <textPath xlink:href=\"#arrow-ef6bcacb0a30484f958af62ff61b41d7-0-20\" class=\"displacy-label\" startOffset=\"50%\" side=\"left\" fill=\"currentColor\" text-anchor=\"middle\">nmod</textPath>\n",
       "    </text>\n",
       "    <path class=\"displacy-arrowhead\" d=\"M3212,454.0 L3208,446.0 3216,446.0\" fill=\"currentColor\"/>\n",
       "</g>\n",
       "\n",
       "<g class=\"displacy-arrow\">\n",
       "    <path class=\"displacy-arc\" id=\"arrow-ef6bcacb0a30484f958af62ff61b41d7-0-21\" stroke-width=\"2px\" d=\"M3062,452.0 3062,402.0 3338.0,402.0 3338.0,452.0\" fill=\"none\" stroke=\"currentColor\"/>\n",
       "    <text dy=\"1.25em\" style=\"font-size: 0.8em; letter-spacing: 1px\">\n",
       "        <textPath xlink:href=\"#arrow-ef6bcacb0a30484f958af62ff61b41d7-0-21\" class=\"displacy-label\" startOffset=\"50%\" side=\"left\" fill=\"currentColor\" text-anchor=\"middle\">pobj</textPath>\n",
       "    </text>\n",
       "    <path class=\"displacy-arrowhead\" d=\"M3338.0,454.0 L3342.0,446.0 3334.0,446.0\" fill=\"currentColor\"/>\n",
       "</g>\n",
       "\n",
       "<g class=\"displacy-arrow\">\n",
       "    <path class=\"displacy-arc\" id=\"arrow-ef6bcacb0a30484f958af62ff61b41d7-0-22\" stroke-width=\"2px\" d=\"M3062,452.0 3062,377.0 3491.0,377.0 3491.0,452.0\" fill=\"none\" stroke=\"currentColor\"/>\n",
       "    <text dy=\"1.25em\" style=\"font-size: 0.8em; letter-spacing: 1px\">\n",
       "        <textPath xlink:href=\"#arrow-ef6bcacb0a30484f958af62ff61b41d7-0-22\" class=\"displacy-label\" startOffset=\"50%\" side=\"left\" fill=\"currentColor\" text-anchor=\"middle\">pobj</textPath>\n",
       "    </text>\n",
       "    <path class=\"displacy-arrowhead\" d=\"M3491.0,454.0 L3495.0,446.0 3487.0,446.0\" fill=\"currentColor\"/>\n",
       "</g>\n",
       "\n",
       "<g class=\"displacy-arrow\">\n",
       "    <path class=\"displacy-arc\" id=\"arrow-ef6bcacb0a30484f958af62ff61b41d7-0-23\" stroke-width=\"2px\" d=\"M3662,452.0 3662,427.0 3785.0,427.0 3785.0,452.0\" fill=\"none\" stroke=\"currentColor\"/>\n",
       "    <text dy=\"1.25em\" style=\"font-size: 0.8em; letter-spacing: 1px\">\n",
       "        <textPath xlink:href=\"#arrow-ef6bcacb0a30484f958af62ff61b41d7-0-23\" class=\"displacy-label\" startOffset=\"50%\" side=\"left\" fill=\"currentColor\" text-anchor=\"middle\">npadvmod</textPath>\n",
       "    </text>\n",
       "    <path class=\"displacy-arrowhead\" d=\"M3662,454.0 L3658,446.0 3666,446.0\" fill=\"currentColor\"/>\n",
       "</g>\n",
       "\n",
       "<g class=\"displacy-arrow\">\n",
       "    <path class=\"displacy-arc\" id=\"arrow-ef6bcacb0a30484f958af62ff61b41d7-0-24\" stroke-width=\"2px\" d=\"M3062,452.0 3062,352.0 3794.0,352.0 3794.0,452.0\" fill=\"none\" stroke=\"currentColor\"/>\n",
       "    <text dy=\"1.25em\" style=\"font-size: 0.8em; letter-spacing: 1px\">\n",
       "        <textPath xlink:href=\"#arrow-ef6bcacb0a30484f958af62ff61b41d7-0-24\" class=\"displacy-label\" startOffset=\"50%\" side=\"left\" fill=\"currentColor\" text-anchor=\"middle\">advmod</textPath>\n",
       "    </text>\n",
       "    <path class=\"displacy-arrowhead\" d=\"M3794.0,454.0 L3798.0,446.0 3790.0,446.0\" fill=\"currentColor\"/>\n",
       "</g>\n",
       "</svg>"
      ],
      "text/plain": [
       "HTML{String}(\"<svg xmlns=\\\"http://www.w3.org/2000/svg\\\" xmlns:xlink=\\\"http://www.w3.org/1999/xlink\\\" xml:lang=\\\"en\\\" id=\\\"ef6bcacb0a30484f958af62ff61b41d7-0\\\" class=\\\"displacy\\\" width=\\\"3950\\\" height=\\\"587.0\\\" direction=\\\"ltr\\\" style=\\\"max-width: none; height: 587.0px; color: white; background: #09a3d5; font-family: Source Sans Pro; direction: ltr\\\">\\n<text class=\\\"displacy-token\\\" fill=\\\"currentColor\\\" text-anchor=\\\"middle\\\" y=\\\"497.0\\\">\\n    <tspan class=\\\"displacy-word\\\" fill=\\\"currentColor\\\" x=\\\"50\\\">Quarterly</tspan>\\n    <tspan class=\\\"displacy-tag\\\" dy=\\\"2em\\\" fill=\\\"currentColor\\\" x=\\\"50\\\">ADJ</tspan>\\n</text>\\n\\n<text class=\\\"displacy-token\\\" fill=\\\"currentColor\\\" text-anchor=\\\"middle\\\" y=\\\"497.0\\\">\\n    <tspan class=\\\"displacy-word\\\" fill=\\\"currentColor\\\" x=\\\"200\\\">profits</tspan>\\n    <tspan class=\\\"displacy-tag\\\" dy=\\\"2em\\\" fill=\\\"currentColor\\\" x=\\\"200\\\">NOUN</tspan>\\n</text>\\n\\n<text class=\\\"displacy-token\\\" fill=\\\"currentColor\\\" text-anchor=\\\"middle\\\" y=\\\"497.0\\\">\\n    <tspan class=\\\"displacy-word\\\" fill=\\\"currentColor\\\" x=\\\"350\\\">at</tspan>\\n    <tspan class=\\\"displacy-tag\\\" dy=\\\"2em\\\" fill=\\\"currentColor\\\" x=\\\"350\\\">ADP</tspan>\\n</text>\\n\\n<text class=\\\"displacy-token\\\" fill=\\\"currentColor\\\" text-anchor=\\\"middle\\\" y=\\\"497.0\\\">\\n    <tspan class=\\\"displacy-word\\\" fill=\\\"currentColor\\\" x=\\\"500\\\">US</tspan>\\n    <tspan class=\\\"displacy-tag\\\" dy=\\\"2em\\\" fill=\\\"currentColor\\\" x=\\\"500\\\">PROPN</tspan>\\n</text>\\n\\n<text class=\\\"displacy-token\\\" fill=\\\"currentColor\\\" text-anchor=\\\"middle\\\" y=\\\"497.0\\\">\\n    <tspan class=\\\"displacy-word\\\" fill=\\\"currentColor\\\" x=\\\"650\\\">media</tspan>\\n    <tspan class=\\\"displacy-tag\\\" dy=\\\"2em\\\" fill=\\\"currentColor\\\" x=\\\"650\\\">NOUN</tspan>\\n</text>\\n\\n<text class=\\\"displacy-token\\\" fill=\\\"currentColor\\\" text-anchor=\\\"middle\\\" y=\\\"497.0\\\">\\n    <tspan class=\\\"displacy-word\\\" fill=\\\"currentColor\\\" x=\\\"800\\\">giant</tspan>\\n    <tspan class=\\\"displacy-tag\\\" dy=\\\"2em\\\" fill=\\\"currentColor\\\" x=\\\"800\\\">NOUN</tspan>\\n</text>\\n\\n<text class=\\\"displacy-token\\\" fill=\\\"currentColor\\\" text-anchor=\\\"middle\\\" y=\\\"497.0\\\">\\n    <tspan class=\\\"displacy-word\\\" fill=\\\"currentColor\\\" x=\\\"950\\\">TimeWarner</tspan>\\n    <tspan class=\\\"displacy-tag\\\" dy=\\\"2em\\\" fill=\\\"currentColor\\\" x=\\\"950\\\">PROPN</tspan>\\n</text>\\n\\n<text class=\\\"displacy-token\\\" fill=\\\"currentColor\\\" text-anchor=\\\"middle\\\" y=\\\"497.0\\\">\\n    <tspan class=\\\"displacy-word\\\" fill=\\\"currentColor\\\" x=\\\"1100\\\">jumped</tspan>\\n    <tspan class=\\\"displacy-tag\\\" dy=\\\"2em\\\" fill=\\\"currentColor\\\" x=\\\"1100\\\">VERB</tspan>\\n</text>\\n\\n<text class=\\\"displacy-token\\\" fill=\\\"currentColor\\\" text-anchor=\\\"middle\\\" y=\\\"497.0\\\">\\n    <tspan class=\\\"displacy-word\\\" fill=\\\"currentColor\\\" x=\\\"1250\\\">76%</tspan>\\n    <tspan class=\\\"displacy-tag\\\" dy=\\\"2em\\\" fill=\\\"currentColor\\\" x=\\\"1250\\\">NOUN</tspan>\\n</text>\\n\\n<text class=\\\"displacy-token\\\" fill=\\\"currentColor\\\" text-anchor=\\\"middle\\\" y=\\\"497.0\\\">\\n    <tspan class=\\\"displacy-word\\\" fill=\\\"currentColor\\\" x=\\\"1400\\\">to</tspan>\\n    <tspan class=\\\"displacy-tag\\\" dy=\\\"2em\\\" fill=\\\"currentColor\\\" x=\\\"1400\\\">ADP</tspan>\\n</text>\\n\\n<text class=\\\"displacy-token\\\" fill=\\\"currentColor\\\" text-anchor=\\\"middle\\\" y=\\\"497.0\\\">\\n    <tspan class=\\\"displacy-word\\\" fill=\\\"currentColor\\\" x=\\\"1550\\\">\\$</tspan>\\n    <tspan class=\\\"displacy-tag\\\" dy=\\\"2em\\\" fill=\\\"currentColor\\\" x=\\\"1550\\\">SYM</tspan>\\n</text>\\n\\n<text class=\\\"displacy-token\\\" fill=\\\"currentColor\\\" text-anchor=\\\"middle\\\" y=\\\"497.0\\\">\\n    <tspan class=\\\"displacy-word\\\" fill=\\\"currentColor\\\" x=\\\"1700\\\">1.13bn (</tspan>\\n    <tspan class=\\\"displacy-tag\\\" dy=\\\"2em\\\" fill=\\\"currentColor\\\" x=\\\"1700\\\">NUM</tspan>\\n</text>\\n\\n<text class=\\\"displacy-token\\\" fill=\\\"currentColor\\\" text-anchor=\\\"middle\\\" y=\\\"497.0\\\">\\n    <tspan class=\\\"displacy-word\\\" fill=\\\"currentColor\\\" x=\\\"1850\\\">Â£600</tspan>\\n    <tspan class=\\\"displacy-tag\\\" dy=\\\"2em\\\" fill=\\\"currentColor\\\" x=\\\"1850\\\">ADV</tspan>\\n</text>\\n\\n<text class=\\\"displacy-token\\\" fill=\\\"currentColor\\\" text-anchor=\\\"middle\\\" y=\\\"497.0\\\">\\n    <tspan class=\\\"displacy-word\\\" fill=\\\"currentColor\\\" x=\\\"2000\\\">m)</tspan>\\n    <tspan class=\\\"displacy-tag\\\" dy=\\\"2em\\\" fill=\\\"currentColor\\\" x=\\\"2000\\\">VERB</tspan>\\n</text>\\n\\n<text class=\\\"displacy-token\\\" fill=\\\"currentColor\\\" text-anchor=\\\"middle\\\" y=\\\"497.0\\\">\\n    <tspan class=\\\"displacy-word\\\" fill=\\\"currentColor\\\" x=\\\"2150\\\">for</tspan>\\n    <tspan class=\\\"displacy-tag\\\" dy=\\\"2em\\\" fill=\\\"currentColor\\\" x=\\\"2150\\\">ADP</tspan>\\n</text>\\n\\n<text class=\\\"displacy-token\\\" fill=\\\"currentColor\\\" text-anchor=\\\"middle\\\" y=\\\"497.0\\\">\\n    <tspan class=\\\"displacy-word\\\" fill=\\\"currentColor\\\" x=\\\"2300\\\">the</tspan>\\n    <tspan class=\\\"displacy-tag\\\" dy=\\\"2em\\\" fill=\\\"currentColor\\\" x=\\\"2300\\\">DET</tspan>\\n</text>\\n\\n<text class=\\\"displacy-token\\\" fill=\\\"currentColor\\\" text-anchor=\\\"middle\\\" y=\\\"497.0\\\">\\n    <tspan class=\\\"displacy-word\\\" fill=\\\"currentColor\\\" x=\\\"2450\\\">three</tspan>\\n    <tspan class=\\\"displacy-tag\\\" dy=\\\"2em\\\" fill=\\\"currentColor\\\" x=\\\"2450\\\">NUM</tspan>\\n</text>\\n\\n<text class=\\\"displacy-token\\\" fill=\\\"currentColor\\\" text-anchor=\\\"middle\\\" y=\\\"497.0\\\">\\n    <tspan class=\\\"displacy-word\\\" fill=\\\"currentColor\\\" x=\\\"2600\\\">months</tspan>\\n    <tspan class=\\\"displacy-tag\\\" dy=\\\"2em\\\" fill=\\\"currentColor\\\" x=\\\"2600\\\">NOUN</tspan>\\n</text>\\n\\n<text class=\\\"displacy-token\\\" fill=\\\"currentColor\\\" text-anchor=\\\"middle\\\" y=\\\"497.0\\\">\\n    <tspan class=\\\"displacy-word\\\" fill=\\\"currentColor\\\" x=\\\"2750\\\">to</tspan>\\n    <tspan class=\\\"displacy-tag\\\" dy=\\\"2em\\\" fill=\\\"currentColor\\\" x=\\\"2750\\\">ADP</tspan>\\n</text>\\n\\n<text class=\\\"displacy-token\\\" fill=\\\"currentColor\\\" text-anchor=\\\"middle\\\" y=\\\"497.0\\\">\\n    <tspan class=\\\"displacy-word\\\" fill=\\\"currentColor\\\" x=\\\"2900\\\">December,</tspan>\\n    <tspan class=\\\"displacy-tag\\\" dy=\\\"2em\\\" fill=\\\"currentColor\\\" x=\\\"2900\\\">PROPN</tspan>\\n</text>\\n\\n<text class=\\\"displacy-token\\\" fill=\\\"currentColor\\\" text-anchor=\\\"middle\\\" y=\\\"497.0\\\">\\n    <tspan class=\\\"displacy-word\\\" fill=\\\"currentColor\\\" x=\\\"3050\\\">from</tspan>\\n    <tspan class=\\\"displacy-tag\\\" dy=\\\"2em\\\" fill=\\\"currentColor\\\" x=\\\"3050\\\">ADP</tspan>\\n</text>\\n\\n<text class=\\\"displacy-token\\\" fill=\\\"currentColor\\\" text-anchor=\\\"middle\\\" y=\\\"497.0\\\">\\n    <tspan class=\\\"displacy-word\\\" fill=\\\"currentColor\\\" x=\\\"3200\\\">\\$</tspan>\\n    <tspan class=\\\"displacy-tag\\\" dy=\\\"2em\\\" fill=\\\"currentColor\\\" x=\\\"3200\\\">SYM</tspan>\\n</text>\\n\\n<text class=\\\"displacy-token\\\" fill=\\\"currentColor\\\" text-anchor=\\\"middle\\\" y=\\\"497.0\\\">\\n    <tspan class=\\\"displacy-word\\\" fill=\\\"currentColor\\\" x=\\\"3350\\\">639</tspan>\\n    <tspan class=\\\"displacy-tag\\\" dy=\\\"2em\\\" fill=\\\"currentColor\\\" x=\\\"3350\\\">NUM</tspan>\\n</text>\\n\\n<text class=\\\"displacy-token\\\" fill=\\\"currentColor\\\" text-anchor=\\\"middle\\\" y=\\\"497.0\\\">\\n    <tspan class=\\\"displacy-word\\\" fill=\\\"currentColor\\\" x=\\\"3500\\\">m</tspan>\\n    <tspan class=\\\"displacy-tag\\\" dy=\\\"2em\\\" fill=\\\"currentColor\\\" x=\\\"3500\\\">NOUN</tspan>\\n</text>\\n\\n<text class=\\\"displacy-token\\\" fill=\\\"currentColor\\\" text-anchor=\\\"middle\\\" y=\\\"497.0\\\">\\n    <tspan class=\\\"displacy-word\\\" fill=\\\"currentColor\\\" x=\\\"3650\\\">year-</tspan>\\n    <tspan class=\\\"displacy-tag\\\" dy=\\\"2em\\\" fill=\\\"currentColor\\\" x=\\\"3650\\\">NOUN</tspan>\\n</text>\\n\\n<text class=\\\"displacy-token\\\" fill=\\\"currentColor\\\" text-anchor=\\\"middle\\\" y=\\\"497.0\\\">\\n    <tspan class=\\\"displacy-word\\\" fill=\\\"currentColor\\\" x=\\\"3800\\\">earlier.</tspan>\\n    <tspan class=\\\"displacy-tag\\\" dy=\\\"2em\\\" fill=\\\"currentColor\\\" x=\\\"3800\\\">ADV</tspan>\\n</text>\\n\\n<g class=\\\"displacy-arrow\\\">\\n    <path class=\\\"displacy-arc\\\" id=\\\"arrow-ef6bcacb0a30484f958af62ff61b41d7-0-0\\\" stroke-width=\\\"2px\\\" d=\\\"M62,452.0 62,427.0 185.0,427.0 185.0,452.0\\\" fill=\\\"none\\\" stroke=\\\"currentColor\\\"/>\\n    <text dy=\\\"1.25em\\\" style=\\\"font-size: 0.8em; letter-spacing: 1px\\\">\\n        <textPath xlink:href=\\\"#arrow-ef6bcacb0a30484f958af62ff61b41d7-0-0\\\" class=\\\"displacy-label\\\" startOffset=\\\"50%\\\" side=\\\"left\\\" fill=\\\"currentColor\\\" text-anchor=\\\"middle\\\">amod</textPath>\\n    </text>\\n    <path class=\\\"displacy-arrowhead\\\" d=\\\"M62,454.0 L58,446.0 66,446.0\\\" fill=\\\"currentColor\\\"/>\\n</g>\\n\\n<g class=\\\"displacy-arrow\\\">\\n    <path class=\\\"displacy-arc\\\" id=\\\"arrow-ef6bcacb0a30484f958af62ff61b41d7-0-1\\\" stroke-width=\\\"2px\\\" d=\\\"M212,452.0 212,377.0 1091.0,377.0 1091.0,452.0\\\" fill=\\\"none\\\" stroke=\\\"currentColor\\\"/>\\n    <text dy=\\\"1.25em\\\" style=\\\"font-size: 0.8em; letter-spacing: 1px\\\">\\n        <textPath xlink:href=\\\"#arrow-ef6bcacb0a30484f958af62ff61b41d7-0-1\\\" class=\\\"displacy-label\\\" startOffset=\\\"50%\\\" side=\\\"left\\\" fill=\\\"currentColor\\\" text-anchor=\\\"middle\\\">nsubj</textPath>\\n    </text>\\n    <path class=\\\"displacy-arrowhead\\\" d=\\\"M212,454.0 L208,446.0 216,446.0\\\" fill=\\\"currentColor\\\"/>\\n</g>\\n\\n<g class=\\\"displacy-arrow\\\">\\n    <path class=\\\"displacy-arc\\\" id=\\\"arrow-ef6bcacb0a30484f958af62ff61b41d7-0-2\\\" stroke-width=\\\"2px\\\" d=\\\"M212,452.0 212,427.0 335.0,427.0 335.0,452.0\\\" fill=\\\"none\\\" stroke=\\\"currentColor\\\"/>\\n    <text dy=\\\"1.25em\\\" style=\\\"font-size: 0.8em; letter-spacing: 1px\\\">\\n        <textPath xlink:href=\\\"#arrow-ef6bcacb0a30484f958af62ff61b41d7-0-2\\\" class=\\\"displacy-label\\\" startOffset=\\\"50%\\\" side=\\\"left\\\" fill=\\\"currentColor\\\" text-anchor=\\\"middle\\\">prep</textPath>\\n    </text>\\n    <path class=\\\"displacy-arrowhead\\\" d=\\\"M335.0,454.0 L339.0,446.0 331.0,446.0\\\" fill=\\\"currentColor\\\"/>\\n</g>\\n\\n<g class=\\\"displacy-arrow\\\">\\n    <path class=\\\"displacy-arc\\\" id=\\\"arrow-ef6bcacb0a30484f958af62ff61b41d7-0-3\\\" stroke-width=\\\"2px\\\" d=\\\"M512,452.0 512,427.0 635.0,427.0 635.0,452.0\\\" fill=\\\"none\\\" stroke=\\\"currentColor\\\"/>\\n    <text dy=\\\"1.25em\\\" style=\\\"font-size: 0.8em; letter-spacing: 1px\\\">\\n        <textPath xlink:href=\\\"#arrow-ef6bcacb0a30484f958af62ff61b41d7-0-3\\\" class=\\\"displacy-label\\\" startOffset=\\\"50%\\\" side=\\\"left\\\" fill=\\\"currentColor\\\" text-anchor=\\\"middle\\\">compound</textPath>\\n    </text>\\n    <path class=\\\"displacy-arrowhead\\\" d=\\\"M512,454.0 L508,446.0 516,446.0\\\" fill=\\\"currentColor\\\"/>\\n</g>\\n\\n<g class=\\\"displacy-arrow\\\">\\n    <path class=\\\"displacy-arc\\\" id=\\\"arrow-ef6bcacb0a30484f958af62ff61b41d7-0-4\\\" stroke-width=\\\"2px\\\" d=\\\"M662,452.0 662,427.0 785.0,427.0 785.0,452.0\\\" fill=\\\"none\\\" stroke=\\\"currentColor\\\"/>\\n    <text dy=\\\"1.25em\\\" style=\\\"font-size: 0.8em; letter-spacing: 1px\\\">\\n        <textPath xlink:href=\\\"#arrow-ef6bcacb0a30484f958af62ff61b41d7-0-4\\\" class=\\\"displacy-label\\\" startOffset=\\\"50%\\\" side=\\\"left\\\" fill=\\\"currentColor\\\" text-anchor=\\\"middle\\\">compound</textPath>\\n    </text>\\n    <path class=\\\"displacy-arrowhead\\\" d=\\\"M662,454.0 L658,446.0 666,446.0\\\" fill=\\\"currentColor\\\"/>\\n</g>\\n\\n<g class=\\\"displacy-arrow\\\">\\n    <path class=\\\"displacy-arc\\\" id=\\\"arrow-ef6bcacb0a30484f958af62ff61b41d7-0-5\\\" stroke-width=\\\"2px\\\" d=\\\"M812,452.0 812,427.0 935.0,427.0 935.0,452.0\\\" fill=\\\"none\\\" stroke=\\\"currentColor\\\"/>\\n    <text dy=\\\"1.25em\\\" style=\\\"font-size: 0.8em; letter-spacing: 1px\\\">\\n        <textPath xlink:href=\\\"#arrow-ef6bcacb0a30484f958af62ff61b41d7-0-5\\\" class=\\\"displacy-label\\\" startOffset=\\\"50%\\\" side=\\\"left\\\" fill=\\\"currentColor\\\" text-anchor=\\\"middle\\\">compound</textPath>\\n    </text>\\n    <path class=\\\"displacy-arrowhead\\\" d=\\\"M812,454.0 L808,446.0 816,446.0\\\" fill=\\\"currentColor\\\"/>\\n</g>\\n\\n<g class=\\\"displacy-arrow\\\">\\n    <path class=\\\"displacy-arc\\\" id=\\\"arrow-ef6bcacb0a30484f958af62ff61b41d7-0-6\\\" stroke-width=\\\"2px\\\" d=\\\"M362,452.0 362,402.0 938.0,402.0 938.0,452.0\\\" fill=\\\"none\\\" stroke=\\\"currentColor\\\"/>\\n    <text dy=\\\"1.25em\\\" style=\\\"font-size: 0.8em; letter-spacing: 1px\\\">\\n        <textPath xlink:href=\\\"#arrow-ef6bcacb0a30484f958af62ff61b41d7-0-6\\\" class=\\\"displacy-label\\\" startOffset=\\\"50%\\\" side=\\\"left\\\" fill=\\\"currentColor\\\" text-anchor=\\\"middle\\\">pobj</textPath>\\n    </text>\\n    <path class=\\\"displacy-arrowhead\\\" d=\\\"M938.0,454.0 L942.0,446.0 934.0,446.0\\\" fill=\\\"currentColor\\\"/>\\n</g>\\n\\n<g class=\\\"displacy-arrow\\\">\\n    <path class=\\\"displacy-arc\\\" id=\\\"arrow-ef6bcacb0a30484f958af62ff61b41d7-0-7\\\" stroke-width=\\\"2px\\\" d=\\\"M1112,452.0 1112,427.0 1235.0,427.0 1235.0,452.0\\\" fill=\\\"none\\\" stroke=\\\"currentColor\\\"/>\\n    <text dy=\\\"1.25em\\\" style=\\\"font-size: 0.8em; letter-spacing: 1px\\\">\\n        <textPath xlink:href=\\\"#arrow-ef6bcacb0a30484f958af62ff61b41d7-0-7\\\" class=\\\"displacy-label\\\" startOffset=\\\"50%\\\" side=\\\"left\\\" fill=\\\"currentColor\\\" text-anchor=\\\"middle\\\">npadvmod</textPath>\\n    </text>\\n    <path class=\\\"displacy-arrowhead\\\" d=\\\"M1235.0,454.0 L1239.0,446.0 1231.0,446.0\\\" fill=\\\"currentColor\\\"/>\\n</g>\\n\\n<g class=\\\"displacy-arrow\\\">\\n    <path class=\\\"displacy-arc\\\" id=\\\"arrow-ef6bcacb0a30484f958af62ff61b41d7-0-8\\\" stroke-width=\\\"2px\\\" d=\\\"M1112,452.0 1112,402.0 1388.0,402.0 1388.0,452.0\\\" fill=\\\"none\\\" stroke=\\\"currentColor\\\"/>\\n    <text dy=\\\"1.25em\\\" style=\\\"font-size: 0.8em; letter-spacing: 1px\\\">\\n        <textPath xlink:href=\\\"#arrow-ef6bcacb0a30484f958af62ff61b41d7-0-8\\\" class=\\\"displacy-label\\\" startOffset=\\\"50%\\\" side=\\\"left\\\" fill=\\\"currentColor\\\" text-anchor=\\\"middle\\\">prep</textPath>\\n    </text>\\n    <path class=\\\"displacy-arrowhead\\\" d=\\\"M1388.0,454.0 L1392.0,446.0 1384.0,446.0\\\" fill=\\\"currentColor\\\"/>\\n</g>\\n\\n<g class=\\\"displacy-arrow\\\">\\n    <path class=\\\"displacy-arc\\\" id=\\\"arrow-ef6bcacb0a30484f958af62ff61b41d7-0-9\\\" stroke-width=\\\"2px\\\" d=\\\"M1562,452.0 1562,427.0 1685.0,427.0 1685.0,452.0\\\" fill=\\\"none\\\" stroke=\\\"currentColor\\\"/>\\n    <text dy=\\\"1.25em\\\" style=\\\"font-size: 0.8em; letter-spacing: 1px\\\">\\n        <textPath xlink:href=\\\"#arrow-ef6bcacb0a30484f958af62ff61b41d7-0-9\\\" class=\\\"displacy-label\\\" startOffset=\\\"50%\\\" side=\\\"left\\\" fill=\\\"currentColor\\\" text-anchor=\\\"middle\\\">nmod</textPath>\\n    </text>\\n    <path class=\\\"displacy-arrowhead\\\" d=\\\"M1562,454.0 L1558,446.0 1566,446.0\\\" fill=\\\"currentColor\\\"/>\\n</g>\\n\\n<g class=\\\"displacy-arrow\\\">\\n    <path class=\\\"displacy-arc\\\" id=\\\"arrow-ef6bcacb0a30484f958af62ff61b41d7-0-10\\\" stroke-width=\\\"2px\\\" d=\\\"M1412,452.0 1412,402.0 1688.0,402.0 1688.0,452.0\\\" fill=\\\"none\\\" stroke=\\\"currentColor\\\"/>\\n    <text dy=\\\"1.25em\\\" style=\\\"font-size: 0.8em; letter-spacing: 1px\\\">\\n        <textPath xlink:href=\\\"#arrow-ef6bcacb0a30484f958af62ff61b41d7-0-10\\\" class=\\\"displacy-label\\\" startOffset=\\\"50%\\\" side=\\\"left\\\" fill=\\\"currentColor\\\" text-anchor=\\\"middle\\\">pobj</textPath>\\n    </text>\\n    <path class=\\\"displacy-arrowhead\\\" d=\\\"M1688.0,454.0 L1692.0,446.0 1684.0,446.0\\\" fill=\\\"currentColor\\\"/>\\n</g>\\n\\n<g class=\\\"displacy-arrow\\\">\\n    <path class=\\\"displacy-arc\\\" id=\\\"arrow-ef6bcacb0a30484f958af62ff61b41d7-0-11\\\" stroke-width=\\\"2px\\\" d=\\\"M1112,452.0 1112,377.0 1841.0,377.0 1841.0,452.0\\\" fill=\\\"none\\\" stroke=\\\"currentColor\\\"/>\\n    <text dy=\\\"1.25em\\\" style=\\\"font-size: 0.8em; letter-spacing: 1px\\\">\\n        <textPath xlink:href=\\\"#arrow-ef6bcacb0a30484f958af62ff61b41d7-0-11\\\" class=\\\"displacy-label\\\" startOffset=\\\"50%\\\" side=\\\"left\\\" fill=\\\"currentColor\\\" text-anchor=\\\"middle\\\">dep</textPath>\\n    </text>\\n    <path class=\\\"displacy-arrowhead\\\" d=\\\"M1841.0,454.0 L1845.0,446.0 1837.0,446.0\\\" fill=\\\"currentColor\\\"/>\\n</g>\\n\\n<g class=\\\"displacy-arrow\\\">\\n    <path class=\\\"displacy-arc\\\" id=\\\"arrow-ef6bcacb0a30484f958af62ff61b41d7-0-12\\\" stroke-width=\\\"2px\\\" d=\\\"M1112,452.0 1112,352.0 1994.0,352.0 1994.0,452.0\\\" fill=\\\"none\\\" stroke=\\\"currentColor\\\"/>\\n    <text dy=\\\"1.25em\\\" style=\\\"font-size: 0.8em; letter-spacing: 1px\\\">\\n        <textPath xlink:href=\\\"#arrow-ef6bcacb0a30484f958af62ff61b41d7-0-12\\\" class=\\\"displacy-label\\\" startOffset=\\\"50%\\\" side=\\\"left\\\" fill=\\\"currentColor\\\" text-anchor=\\\"middle\\\">punct</textPath>\\n    </text>\\n    <path class=\\\"displacy-arrowhead\\\" d=\\\"M1994.0,454.0 L1998.0,446.0 1990.0,446.0\\\" fill=\\\"currentColor\\\"/>\\n</g>\\n\\n<g class=\\\"displacy-arrow\\\">\\n    <path class=\\\"displacy-arc\\\" id=\\\"arrow-ef6bcacb0a30484f958af62ff61b41d7-0-13\\\" stroke-width=\\\"2px\\\" d=\\\"M1112,452.0 1112,327.0 2147.0,327.0 2147.0,452.0\\\" fill=\\\"none\\\" stroke=\\\"currentColor\\\"/>\\n    <text dy=\\\"1.25em\\\" style=\\\"font-size: 0.8em; letter-spacing: 1px\\\">\\n        <textPath xlink:href=\\\"#arrow-ef6bcacb0a30484f958af62ff61b41d7-0-13\\\" class=\\\"displacy-label\\\" startOffset=\\\"50%\\\" side=\\\"left\\\" fill=\\\"currentColor\\\" text-anchor=\\\"middle\\\">prep</textPath>\\n    </text>\\n    <path class=\\\"displacy-arrowhead\\\" d=\\\"M2147.0,454.0 L2151.0,446.0 2143.0,446.0\\\" fill=\\\"currentColor\\\"/>\\n</g>\\n\\n<g class=\\\"displacy-arrow\\\">\\n    <path class=\\\"displacy-arc\\\" id=\\\"arrow-ef6bcacb0a30484f958af62ff61b41d7-0-14\\\" stroke-width=\\\"2px\\\" d=\\\"M2312,452.0 2312,402.0 2588.0,402.0 2588.0,452.0\\\" fill=\\\"none\\\" stroke=\\\"currentColor\\\"/>\\n    <text dy=\\\"1.25em\\\" style=\\\"font-size: 0.8em; letter-spacing: 1px\\\">\\n        <textPath xlink:href=\\\"#arrow-ef6bcacb0a30484f958af62ff61b41d7-0-14\\\" class=\\\"displacy-label\\\" startOffset=\\\"50%\\\" side=\\\"left\\\" fill=\\\"currentColor\\\" text-anchor=\\\"middle\\\">det</textPath>\\n    </text>\\n    <path class=\\\"displacy-arrowhead\\\" d=\\\"M2312,454.0 L2308,446.0 2316,446.0\\\" fill=\\\"currentColor\\\"/>\\n</g>\\n\\n<g class=\\\"displacy-arrow\\\">\\n    <path class=\\\"displacy-arc\\\" id=\\\"arrow-ef6bcacb0a30484f958af62ff61b41d7-0-15\\\" stroke-width=\\\"2px\\\" d=\\\"M2462,452.0 2462,427.0 2585.0,427.0 2585.0,452.0\\\" fill=\\\"none\\\" stroke=\\\"currentColor\\\"/>\\n    <text dy=\\\"1.25em\\\" style=\\\"font-size: 0.8em; letter-spacing: 1px\\\">\\n        <textPath xlink:href=\\\"#arrow-ef6bcacb0a30484f958af62ff61b41d7-0-15\\\" class=\\\"displacy-label\\\" startOffset=\\\"50%\\\" side=\\\"left\\\" fill=\\\"currentColor\\\" text-anchor=\\\"middle\\\">nummod</textPath>\\n    </text>\\n    <path class=\\\"displacy-arrowhead\\\" d=\\\"M2462,454.0 L2458,446.0 2466,446.0\\\" fill=\\\"currentColor\\\"/>\\n</g>\\n\\n<g class=\\\"displacy-arrow\\\">\\n    <path class=\\\"displacy-arc\\\" id=\\\"arrow-ef6bcacb0a30484f958af62ff61b41d7-0-16\\\" stroke-width=\\\"2px\\\" d=\\\"M2162,452.0 2162,377.0 2591.0,377.0 2591.0,452.0\\\" fill=\\\"none\\\" stroke=\\\"currentColor\\\"/>\\n    <text dy=\\\"1.25em\\\" style=\\\"font-size: 0.8em; letter-spacing: 1px\\\">\\n        <textPath xlink:href=\\\"#arrow-ef6bcacb0a30484f958af62ff61b41d7-0-16\\\" class=\\\"displacy-label\\\" startOffset=\\\"50%\\\" side=\\\"left\\\" fill=\\\"currentColor\\\" text-anchor=\\\"middle\\\">pobj</textPath>\\n    </text>\\n    <path class=\\\"displacy-arrowhead\\\" d=\\\"M2591.0,454.0 L2595.0,446.0 2587.0,446.0\\\" fill=\\\"currentColor\\\"/>\\n</g>\\n\\n<g class=\\\"displacy-arrow\\\">\\n    <path class=\\\"displacy-arc\\\" id=\\\"arrow-ef6bcacb0a30484f958af62ff61b41d7-0-17\\\" stroke-width=\\\"2px\\\" d=\\\"M2612,452.0 2612,427.0 2735.0,427.0 2735.0,452.0\\\" fill=\\\"none\\\" stroke=\\\"currentColor\\\"/>\\n    <text dy=\\\"1.25em\\\" style=\\\"font-size: 0.8em; letter-spacing: 1px\\\">\\n        <textPath xlink:href=\\\"#arrow-ef6bcacb0a30484f958af62ff61b41d7-0-17\\\" class=\\\"displacy-label\\\" startOffset=\\\"50%\\\" side=\\\"left\\\" fill=\\\"currentColor\\\" text-anchor=\\\"middle\\\">prep</textPath>\\n    </text>\\n    <path class=\\\"displacy-arrowhead\\\" d=\\\"M2735.0,454.0 L2739.0,446.0 2731.0,446.0\\\" fill=\\\"currentColor\\\"/>\\n</g>\\n\\n<g class=\\\"displacy-arrow\\\">\\n    <path class=\\\"displacy-arc\\\" id=\\\"arrow-ef6bcacb0a30484f958af62ff61b41d7-0-18\\\" stroke-width=\\\"2px\\\" d=\\\"M2762,452.0 2762,427.0 2885.0,427.0 2885.0,452.0\\\" fill=\\\"none\\\" stroke=\\\"currentColor\\\"/>\\n    <text dy=\\\"1.25em\\\" style=\\\"font-size: 0.8em; letter-spacing: 1px\\\">\\n        <textPath xlink:href=\\\"#arrow-ef6bcacb0a30484f958af62ff61b41d7-0-18\\\" class=\\\"displacy-label\\\" startOffset=\\\"50%\\\" side=\\\"left\\\" fill=\\\"currentColor\\\" text-anchor=\\\"middle\\\">pobj</textPath>\\n    </text>\\n    <path class=\\\"displacy-arrowhead\\\" d=\\\"M2885.0,454.0 L2889.0,446.0 2881.0,446.0\\\" fill=\\\"currentColor\\\"/>\\n</g>\\n\\n<g class=\\\"displacy-arrow\\\">\\n    <path class=\\\"displacy-arc\\\" id=\\\"arrow-ef6bcacb0a30484f958af62ff61b41d7-0-19\\\" stroke-width=\\\"2px\\\" d=\\\"M1112,452.0 1112,302.0 3050.0,302.0 3050.0,452.0\\\" fill=\\\"none\\\" stroke=\\\"currentColor\\\"/>\\n    <text dy=\\\"1.25em\\\" style=\\\"font-size: 0.8em; letter-spacing: 1px\\\">\\n        <textPath xlink:href=\\\"#arrow-ef6bcacb0a30484f958af62ff61b41d7-0-19\\\" class=\\\"displacy-label\\\" startOffset=\\\"50%\\\" side=\\\"left\\\" fill=\\\"currentColor\\\" text-anchor=\\\"middle\\\">prep</textPath>\\n    </text>\\n    <path class=\\\"displacy-arrowhead\\\" d=\\\"M3050.0,454.0 L3054.0,446.0 3046.0,446.0\\\" fill=\\\"currentColor\\\"/>\\n</g>\\n\\n<g class=\\\"displacy-arrow\\\">\\n    <path class=\\\"displacy-arc\\\" id=\\\"arrow-ef6bcacb0a30484f958af62ff61b41d7-0-20\\\" stroke-width=\\\"2px\\\" d=\\\"M3212,452.0 3212,427.0 3335.0,427.0 3335.0,452.0\\\" fill=\\\"none\\\" stroke=\\\"currentColor\\\"/>\\n    <text dy=\\\"1.25em\\\" style=\\\"font-size: 0.8em; letter-spacing: 1px\\\">\\n        <textPath xlink:href=\\\"#arrow-ef6bcacb0a30484f958af62ff61b41d7-0-20\\\" class=\\\"displacy-label\\\" startOffset=\\\"50%\\\" side=\\\"left\\\" fill=\\\"currentColor\\\" text-anchor=\\\"middle\\\">nmod</textPath>\\n    </text>\\n    <path class=\\\"displacy-arrowhead\\\" d=\\\"M3212,454.0 L3208,446.0 3216,446.0\\\" fill=\\\"currentColor\\\"/>\\n</g>\\n\\n<g class=\\\"displacy-arrow\\\">\\n    <path class=\\\"displacy-arc\\\" id=\\\"arrow-ef6bcacb0a30484f958af62ff61b41d7-0-21\\\" stroke-width=\\\"2px\\\" d=\\\"M3062,452.0 3062,402.0 3338.0,402.0 3338.0,452.0\\\" fill=\\\"none\\\" stroke=\\\"currentColor\\\"/>\\n    <text dy=\\\"1.25em\\\" style=\\\"font-size: 0.8em; letter-spacing: 1px\\\">\\n        <textPath xlink:href=\\\"#arrow-ef6bcacb0a30484f958af62ff61b41d7-0-21\\\" class=\\\"displacy-label\\\" startOffset=\\\"50%\\\" side=\\\"left\\\" fill=\\\"currentColor\\\" text-anchor=\\\"middle\\\">pobj</textPath>\\n    </text>\\n    <path class=\\\"displacy-arrowhead\\\" d=\\\"M3338.0,454.0 L3342.0,446.0 3334.0,446.0\\\" fill=\\\"currentColor\\\"/>\\n</g>\\n\\n<g class=\\\"displacy-arrow\\\">\\n    <path class=\\\"displacy-arc\\\" id=\\\"arrow-ef6bcacb0a30484f958af62ff61b41d7-0-22\\\" stroke-width=\\\"2px\\\" d=\\\"M3062,452.0 3062,377.0 3491.0,377.0 3491.0,452.0\\\" fill=\\\"none\\\" stroke=\\\"currentColor\\\"/>\\n    <text dy=\\\"1.25em\\\" style=\\\"font-size: 0.8em; letter-spacing: 1px\\\">\\n        <textPath xlink:href=\\\"#arrow-ef6bcacb0a30484f958af62ff61b41d7-0-22\\\" class=\\\"displacy-label\\\" startOffset=\\\"50%\\\" side=\\\"left\\\" fill=\\\"currentColor\\\" text-anchor=\\\"middle\\\">pobj</textPath>\\n    </text>\\n    <path class=\\\"displacy-arrowhead\\\" d=\\\"M3491.0,454.0 L3495.0,446.0 3487.0,446.0\\\" fill=\\\"currentColor\\\"/>\\n</g>\\n\\n<g class=\\\"displacy-arrow\\\">\\n    <path class=\\\"displacy-arc\\\" id=\\\"arrow-ef6bcacb0a30484f958af62ff61b41d7-0-23\\\" stroke-width=\\\"2px\\\" d=\\\"M3662,452.0 3662,427.0 3785.0,427.0 3785.0,452.0\\\" fill=\\\"none\\\" stroke=\\\"currentColor\\\"/>\\n    <text dy=\\\"1.25em\\\" style=\\\"font-size: 0.8em; letter-spacing: 1px\\\">\\n        <textPath xlink:href=\\\"#arrow-ef6bcacb0a30484f958af62ff61b41d7-0-23\\\" class=\\\"displacy-label\\\" startOffset=\\\"50%\\\" side=\\\"left\\\" fill=\\\"currentColor\\\" text-anchor=\\\"middle\\\">npadvmod</textPath>\\n    </text>\\n    <path class=\\\"displacy-arrowhead\\\" d=\\\"M3662,454.0 L3658,446.0 3666,446.0\\\" fill=\\\"currentColor\\\"/>\\n</g>\\n\\n<g class=\\\"displacy-arrow\\\">\\n    <path class=\\\"displacy-arc\\\" id=\\\"arrow-ef6bcacb0a30484f958af62ff61b41d7-0-24\\\" stroke-width=\\\"2px\\\" d=\\\"M3062,452.0 3062,352.0 3794.0,352.0 3794.0,452.0\\\" fill=\\\"none\\\" stroke=\\\"currentColor\\\"/>\\n    <text dy=\\\"1.25em\\\" style=\\\"font-size: 0.8em; letter-spacing: 1px\\\">\\n        <textPath xlink:href=\\\"#arrow-ef6bcacb0a30484f958af62ff61b41d7-0-24\\\" class=\\\"displacy-label\\\" startOffset=\\\"50%\\\" side=\\\"left\\\" fill=\\\"currentColor\\\" text-anchor=\\\"middle\\\">advmod</textPath>\\n    </text>\\n    <path class=\\\"displacy-arrowhead\\\" d=\\\"M3794.0,454.0 L3798.0,446.0 3790.0,446.0\\\" fill=\\\"currentColor\\\"/>\\n</g>\\n</svg>\")"
      ]
     },
     "metadata": {},
     "output_type": "display_data"
    }
   ],
   "source": [
    "options = Dict(\"compact\" => true, \"bg\" => \"#09a3d5\",\n",
    "           \"color\" => \"white\", \"font\" => \"Source Sans Pro\")\n",
    "display(HTML(spacy.displacy.render(sentences[1].as_doc(), style=\"dep\", options=options)))"
   ]
  },
  {
   "cell_type": "code",
   "execution_count": 32,
   "metadata": {
    "ExecuteTime": {
     "end_time": "2020-06-20T17:06:30.884204Z",
     "start_time": "2020-06-20T17:06:30.877280Z"
    },
    "slideshow": {
     "slide_type": "slide"
    }
   },
   "outputs": [
    {
     "name": "stdout",
     "output_type": "stream",
     "text": [
      "Quarterly | DATE | Absolute or relative dates or periods\n",
      "US | GPE | Countries, cities, states\n",
      "TimeWarner | ORG | Companies, agencies, institutions, etc.\n",
      "76 | PERCENT | Percentage, including \"%\"\n",
      "% | PERCENT | Percentage, including \"%\"\n",
      "1.13bn | MONEY | Monetary values, including unit\n",
      "the | DATE | Absolute or relative dates or periods\n",
      "three | DATE | Absolute or relative dates or periods\n",
      "months | DATE | Absolute or relative dates or periods\n",
      "to | DATE | Absolute or relative dates or periods\n",
      "December | DATE | Absolute or relative dates or periods\n",
      "639 | MONEY | Monetary values, including unit\n",
      "year | DATE | Absolute or relative dates or periods\n",
      "- | DATE | Absolute or relative dates or periods\n",
      "earlier | DATE | Absolute or relative dates or periods\n"
     ]
    },
    {
     "name": "stderr",
     "output_type": "stream",
     "text": [
      "C:\\Users\\Amirreza\\.julia\\conda\\3\\lib\\site-packages\\spacy\\glossary.py:19: UserWarning: [W118] Term '' not found in glossary. It may however be explained in documentation for the corpora used to train the language. Please check `nlp.meta[\"sources\"]` for any relevant links.\r\n",
      "  warnings.warn(Warnings.W118.format(term=term))\r\n"
     ]
    }
   ],
   "source": [
    "for t ∈ sentences[1]\n",
    "    if !(isnothing(spacy.explain(t.ent_type_)))\n",
    "        println(\"$(t.text) | $(t.ent_type_) | $(spacy.explain(t.ent_type_))\")\n",
    "    end\n",
    "end"
   ]
  },
  {
   "cell_type": "code",
   "execution_count": 33,
   "metadata": {
    "ExecuteTime": {
     "end_time": "2020-06-20T17:06:30.892187Z",
     "start_time": "2020-06-20T17:06:30.885297Z"
    },
    "slideshow": {
     "slide_type": "fragment"
    }
   },
   "outputs": [
    {
     "data": {
      "text/html": [
       "<div class=\"entities\" style=\"line-height: 2.5; direction: ltr\">\n",
       "<mark class=\"entity\" style=\"background: #bfe1d9; padding: 0.45em 0.6em; margin: 0 0.25em; line-height: 1; border-radius: 0.35em;\">\n",
       "    Quarterly\n",
       "    <span style=\"font-size: 0.8em; font-weight: bold; line-height: 1; border-radius: 0.35em; vertical-align: middle; margin-left: 0.5rem\">DATE</span>\n",
       "</mark>\n",
       " profits at \n",
       "<mark class=\"entity\" style=\"background: #feca74; padding: 0.45em 0.6em; margin: 0 0.25em; line-height: 1; border-radius: 0.35em;\">\n",
       "    US\n",
       "    <span style=\"font-size: 0.8em; font-weight: bold; line-height: 1; border-radius: 0.35em; vertical-align: middle; margin-left: 0.5rem\">GPE</span>\n",
       "</mark>\n",
       " media giant \n",
       "<mark class=\"entity\" style=\"background: #7aecec; padding: 0.45em 0.6em; margin: 0 0.25em; line-height: 1; border-radius: 0.35em;\">\n",
       "    TimeWarner\n",
       "    <span style=\"font-size: 0.8em; font-weight: bold; line-height: 1; border-radius: 0.35em; vertical-align: middle; margin-left: 0.5rem\">ORG</span>\n",
       "</mark>\n",
       " jumped \n",
       "<mark class=\"entity\" style=\"background: #e4e7d2; padding: 0.45em 0.6em; margin: 0 0.25em; line-height: 1; border-radius: 0.35em;\">\n",
       "    76%\n",
       "    <span style=\"font-size: 0.8em; font-weight: bold; line-height: 1; border-radius: 0.35em; vertical-align: middle; margin-left: 0.5rem\">PERCENT</span>\n",
       "</mark>\n",
       " to $\n",
       "<mark class=\"entity\" style=\"background: #e4e7d2; padding: 0.45em 0.6em; margin: 0 0.25em; line-height: 1; border-radius: 0.35em;\">\n",
       "    1.13bn\n",
       "    <span style=\"font-size: 0.8em; font-weight: bold; line-height: 1; border-radius: 0.35em; vertical-align: middle; margin-left: 0.5rem\">MONEY</span>\n",
       "</mark>\n",
       " (Â£600m) for \n",
       "<mark class=\"entity\" style=\"background: #bfe1d9; padding: 0.45em 0.6em; margin: 0 0.25em; line-height: 1; border-radius: 0.35em;\">\n",
       "    the three months to December\n",
       "    <span style=\"font-size: 0.8em; font-weight: bold; line-height: 1; border-radius: 0.35em; vertical-align: middle; margin-left: 0.5rem\">DATE</span>\n",
       "</mark>\n",
       ", from $\n",
       "<mark class=\"entity\" style=\"background: #e4e7d2; padding: 0.45em 0.6em; margin: 0 0.25em; line-height: 1; border-radius: 0.35em;\">\n",
       "    639\n",
       "    <span style=\"font-size: 0.8em; font-weight: bold; line-height: 1; border-radius: 0.35em; vertical-align: middle; margin-left: 0.5rem\">MONEY</span>\n",
       "</mark>\n",
       "m \n",
       "<mark class=\"entity\" style=\"background: #bfe1d9; padding: 0.45em 0.6em; margin: 0 0.25em; line-height: 1; border-radius: 0.35em;\">\n",
       "    year-earlier\n",
       "    <span style=\"font-size: 0.8em; font-weight: bold; line-height: 1; border-radius: 0.35em; vertical-align: middle; margin-left: 0.5rem\">DATE</span>\n",
       "</mark>\n",
       ".</div>"
      ],
      "text/plain": [
       "HTML{String}(\"<div class=\\\"entities\\\" style=\\\"line-height: 2.5; direction: ltr\\\">\\n<mark class=\\\"entity\\\" style=\\\"background: #bfe1d9; padding: 0.45em 0.6em; margin: 0 0.25em; line-height: 1; border-radius: 0.35em;\\\">\\n    Quarterly\\n    <span style=\\\"font-size: 0.8em; font-weight: bold; line-height: 1; border-radius: 0.35em; vertical-align: middle; margin-left: 0.5rem\\\">DATE</span>\\n</mark>\\n profits at \\n<mark class=\\\"entity\\\" style=\\\"background: #feca74; padding: 0.45em 0.6em; margin: 0 0.25em; line-height: 1; border-radius: 0.35em;\\\">\\n    US\\n    <span style=\\\"font-size: 0.8em; font-weight: bold; line-height: 1; border-radius: 0.35em; vertical-align: middle; margin-left: 0.5rem\\\">GPE</span>\\n</mark>\\n media giant \\n<mark class=\\\"entity\\\" style=\\\"background: #7aecec; padding: 0.45em 0.6em; margin: 0 0.25em; line-height: 1; border-radius: 0.35em;\\\">\\n    TimeWarner\\n    <span style=\\\"font-size: 0.8em; font-weight: bold; line-height: 1; border-radius: 0.35em; vertical-align: middle; margin-left: 0.5rem\\\">ORG</span>\\n</mark>\\n jumped \\n<mark class=\\\"entity\\\" style=\\\"background: #e4e7d2; padding: 0.45em 0.6em; margin: 0 0.25em; line-height: 1; border-radius: 0.35em;\\\">\\n    76%\\n    <span style=\\\"font-size: 0.8em; font-weight: bold; line-height: 1; border-radius: 0.35em; vertical-align: middle; margin-left: 0.5rem\\\">PERCENT</span>\\n</mark>\\n to \\$\\n<mark class=\\\"entity\\\" style=\\\"background: #e4e7d2; padding: 0.45em 0.6em; margin: 0 0.25em; line-height: 1; border-radius: 0.35em;\\\">\\n    1.13bn\\n    <span style=\\\"font-size: 0.8em; font-weight: bold; line-height: 1; border-radius: 0.35em; vertical-align: middle; margin-left: 0.5rem\\\">MONEY</span>\\n</mark>\\n (Â£600m) for \\n<mark class=\\\"entity\\\" style=\\\"background: #bfe1d9; padding: 0.45em 0.6em; margin: 0 0.25em; line-height: 1; border-radius: 0.35em;\\\">\\n    the three months to December\\n    <span style=\\\"font-size: 0.8em; font-weight: bold; line-height: 1; border-radius: 0.35em; vertical-align: middle; margin-left: 0.5rem\\\">DATE</span>\\n</mark>\\n, from \\$\\n<mark class=\\\"entity\\\" style=\\\"background: #e4e7d2; padding: 0.45em 0.6em; margin: 0 0.25em; line-height: 1; border-radius: 0.35em;\\\">\\n    639\\n    <span style=\\\"font-size: 0.8em; font-weight: bold; line-height: 1; border-radius: 0.35em; vertical-align: middle; margin-left: 0.5rem\\\">MONEY</span>\\n</mark>\\nm \\n<mark class=\\\"entity\\\" style=\\\"background: #bfe1d9; padding: 0.45em 0.6em; margin: 0 0.25em; line-height: 1; border-radius: 0.35em;\\\">\\n    year-earlier\\n    <span style=\\\"font-size: 0.8em; font-weight: bold; line-height: 1; border-radius: 0.35em; vertical-align: middle; margin-left: 0.5rem\\\">DATE</span>\\n</mark>\\n.</div>\")"
      ]
     },
     "metadata": {},
     "output_type": "display_data"
    }
   ],
   "source": [
    "display(HTML(spacy.displacy.render(sentences[1].as_doc(), style=\"ent\")))"
   ]
  },
  {
   "cell_type": "markdown",
   "metadata": {},
   "source": [
    "### Named Entity-Recognition with textacy"
   ]
  },
  {
   "cell_type": "code",
   "execution_count": 34,
   "metadata": {
    "scrolled": true
   },
   "outputs": [],
   "source": [
    "#Conda.add(\"textacy\")\n",
    "@pyimport textacy"
   ]
  },
  {
   "cell_type": "markdown",
   "metadata": {},
   "source": [
    "spaCy enables named entity recognition using the .ent_type_ attribute:"
   ]
  },
  {
   "cell_type": "markdown",
   "metadata": {},
   "source": [
    "Textacy makes access to the named entities that appear in the first article easy:"
   ]
  },
  {
   "cell_type": "code",
   "execution_count": 35,
   "metadata": {
    "ExecuteTime": {
     "end_time": "2020-06-20T17:06:30.901981Z",
     "start_time": "2020-06-20T17:06:30.893292Z"
    },
    "scrolled": true
   },
   "outputs": [
    {
     "data": {
      "text/plain": [
       "64-element Vector{String}:\n",
       " \"Quarterly\"\n",
       " \"US\"\n",
       " \"TimeWarner\"\n",
       " \"76%\"\n",
       " \"1.13bn\"\n",
       " \"three months to December\"\n",
       " \"639\"\n",
       " \"year-earlier\"\n",
       " \"Google\"\n",
       " \"TimeWarner\"\n",
       " \"fourth quarter\"\n",
       " \"2%\"\n",
       " \"11.1bn\"\n",
       " ⋮\n",
       " \"TimeWarner\"\n",
       " \"around 5%\"\n",
       " \"TimeWarner\"\n",
       " \"AOL\"\n",
       " \"US\"\n",
       " \"300\"\n",
       " \"SEC\"\n",
       " \"500\"\n",
       " \"German\"\n",
       " \"Bertelsmann\"\n",
       " \"AOL Europe\"\n",
       " \"AOL Europe\""
      ]
     },
     "execution_count": 35,
     "metadata": {},
     "output_type": "execute_result"
    }
   ],
   "source": [
    "entities = [e.text for e in textacy.extract.entities(doc)]"
   ]
  },
  {
   "cell_type": "code",
   "execution_count": 36,
   "metadata": {
    "scrolled": true
   },
   "outputs": [
    {
     "name": "stdout",
     "output_type": "stream",
     "text": [
      "\u001b[1m44×2 DataFrame\u001b[0m\n",
      "\u001b[1m Row \u001b[0m│\u001b[1m entity          \u001b[0m\u001b[1m count \u001b[0m\n",
      "\u001b[1m     \u001b[0m│\u001b[90m String          \u001b[0m\u001b[90m Int64 \u001b[0m\n",
      "─────┼────────────────────────\n",
      "   1 │ TimeWarner           7\n",
      "   2 │ AOL                  4\n",
      "   3 │ fourth quarter       3\n",
      "   4 │ US                   2\n",
      "   5 │ year-earlier         2\n",
      "   6 │ Google               2\n",
      "   7 │ 8%                   2\n",
      "   8 │ 2003                 2\n",
      "   9 │ SEC                  2\n",
      "  10 │ 27%                  2\n",
      "  11 │ full-year            2\n",
      "  ⋮  │        ⋮           ⋮\n",
      "  35 │ 3.36bn               1\n",
      "  36 │ 6.4%                 1\n",
      "  37 │ 42.09bn              1\n",
      "  38 │ Richard Parsons      1\n",
      "  39 │ 2005                 1\n",
      "  40 │ around 5%            1\n",
      "  41 │ 300                  1\n",
      "  42 │ 500                  1\n",
      "  43 │ German               1\n",
      "  44 │ Bertelsmann          1\n",
      "\u001b[36m               23 rows omitted\u001b[0m"
     ]
    }
   ],
   "source": [
    "entity_count_dict = Dict(entity => count(isequal(entity), entities) for entity ∈ unique(entities))\n",
    "count_list = [entity_count_dict[entity] for entity in unique(entities)]\n",
    "\n",
    "entity_count_df = sort(DataFrame(entity = unique(entities), count = count_list), :count, rev=true)\n",
    "DataFrames.show(entity_count_df, allcols=true)"
   ]
  },
  {
   "cell_type": "markdown",
   "metadata": {},
   "source": [
    "### N-Grams with textacy"
   ]
  },
  {
   "cell_type": "markdown",
   "metadata": {},
   "source": [
    "N-grams combine N consecutive tokens. This can be useful for the bag-of-words model because, depending on the textual context, treating, e.g, ‘data scientist’ as a single token may be more meaningful than the two distinct tokens ‘data’ and ‘scientist’.\n",
    "\n",
    "Textacy makes it easy to view the ngrams of a given length n occurring with at least min_freq times:"
   ]
  },
  {
   "cell_type": "code",
   "execution_count": 37,
   "metadata": {
    "ExecuteTime": {
     "end_time": "2020-06-20T17:06:30.913506Z",
     "start_time": "2020-06-20T17:06:30.902951Z"
    },
    "scrolled": true
   },
   "outputs": [
    {
     "data": {
      "text/plain": [
       "9-element Vector{String}:\n",
       " \"fourth quarter\"\n",
       " \"fourth quarter\"\n",
       " \"quarter profits\"\n",
       " \"company said\"\n",
       " \"fourth quarter\"\n",
       " \"quarter profits\"\n",
       " \"company said\"\n",
       " \"AOL Europe\"\n",
       " \"AOL Europe\""
      ]
     },
     "execution_count": 37,
     "metadata": {},
     "output_type": "execute_result"
    }
   ],
   "source": [
    "ngrams = [n.text for n ∈ textacy.extract.ngrams(doc, n=2, min_freq=2)]"
   ]
  },
  {
   "cell_type": "code",
   "execution_count": 38,
   "metadata": {
    "scrolled": true
   },
   "outputs": [
    {
     "name": "stdout",
     "output_type": "stream",
     "text": [
      "\u001b[1m4×2 DataFrame\u001b[0m\n",
      "\u001b[1m Row \u001b[0m│\u001b[1m ngram           \u001b[0m\u001b[1m count \u001b[0m\n",
      "\u001b[1m     \u001b[0m│\u001b[90m String          \u001b[0m\u001b[90m Int64 \u001b[0m\n",
      "─────┼────────────────────────\n",
      "   1 │ fourth quarter       3\n",
      "   2 │ quarter profits      2\n",
      "   3 │ company said         2\n",
      "   4 │ AOL Europe           2"
     ]
    }
   ],
   "source": [
    "ngram_count_dict = Dict(ngram => count(isequal(ngram), ngrams) for ngram ∈ unique(ngrams))\n",
    "count_list = [ngram_count_dict[ngram] for ngram in unique(ngrams)]\n",
    "\n",
    "ngram_count_df = sort(DataFrame(ngram = unique(ngrams), count = count_list), :count, rev=true)\n",
    "DataFrames.show(ngram_count_df, allcols=true)"
   ]
  },
  {
   "cell_type": "markdown",
   "metadata": {
    "slideshow": {
     "slide_type": "slide"
    }
   },
   "source": [
    "### Multi-language Features"
   ]
  },
  {
   "cell_type": "markdown",
   "metadata": {},
   "source": [
    "spaCy includes trained language models for English, German, Spanish, Portuguese, French, Italian and Dutch, as well as a multi-language model for named-entity recognition. Cross-language usage is straightforward since the API does not change.\n",
    "\n",
    "We will illustrate the Spanish language model using a parallel corpus of TED talk subtitles. For this purpose, we instantiate both language models"
   ]
  },
  {
   "cell_type": "markdown",
   "metadata": {
    "slideshow": {
     "slide_type": "fragment"
    }
   },
   "source": [
    "#### Create a Spanish Language Object"
   ]
  },
  {
   "cell_type": "code",
   "execution_count": 39,
   "metadata": {
    "ExecuteTime": {
     "end_time": "2020-06-20T17:07:31.594645Z",
     "start_time": "2020-06-20T17:07:30.338771Z"
    },
    "slideshow": {
     "slide_type": "fragment"
    }
   },
   "outputs": [
    {
     "data": {
      "text/plain": [
       "Dict{Any, Any} with 2 entries:\n",
       "  \"en\" => PyObject <spacy.lang.en.English object at 0x000000007F4DFAF0>\n",
       "  \"es\" => PyObject <spacy.lang.es.Spanish object at 0x000000008AADF280>"
      ]
     },
     "execution_count": 39,
     "metadata": {},
     "output_type": "execute_result"
    }
   ],
   "source": [
    "model = Dict()\n",
    "for language_model ∈ [\"en_core_web_sm\", \"es_core_news_sm\"]\n",
    "    model[language_model[1:2]] = spacy.load(language_model)\n",
    "end\n",
    "\n",
    "model"
   ]
  },
  {
   "cell_type": "markdown",
   "metadata": {
    "slideshow": {
     "slide_type": "slide"
    }
   },
   "source": [
    "#### Read bilingual TED2013 samples"
   ]
  },
  {
   "cell_type": "code",
   "execution_count": 40,
   "metadata": {
    "ExecuteTime": {
     "end_time": "2020-06-20T17:07:31.600010Z",
     "start_time": "2020-06-20T17:07:31.595637Z"
    },
    "slideshow": {
     "slide_type": "fragment"
    }
   },
   "outputs": [
    {
     "data": {
      "text/plain": [
       "Dict{Any, Any} with 2 entries:\n",
       "  \"en\" => \"There's a tight and surprising link between the ocean's health and o…\n",
       "  \"es\" => \"Existe una estrecha y sorprendente relación entre nuestra salud y la…"
      ]
     },
     "execution_count": 40,
     "metadata": {},
     "output_type": "execute_result"
    }
   ],
   "source": [
    "text = Dict()\n",
    "for language ∈ [\"en\", \"es\"]\n",
    "    file_name = \"data/TED/TED2013_sample.\" * language\n",
    "    f = open(file_name, \"r\")\n",
    "    text[language] = readlines(f)[1]\n",
    "end\n",
    "\n",
    "text"
   ]
  },
  {
   "cell_type": "markdown",
   "metadata": {
    "slideshow": {
     "slide_type": "slide"
    }
   },
   "source": [
    "#### Sentence Boundaries English vs Spanish"
   ]
  },
  {
   "cell_type": "code",
   "execution_count": 41,
   "metadata": {
    "ExecuteTime": {
     "end_time": "2020-06-20T17:07:31.708542Z",
     "start_time": "2020-06-20T17:07:31.601060Z"
    },
    "slideshow": {
     "slide_type": "fragment"
    }
   },
   "outputs": [
    {
     "name": "stdout",
     "output_type": "stream",
     "text": [
      "Sentences: en, 19\n",
      "Sentences: es, 22\n"
     ]
    }
   ],
   "source": [
    "parsed = Dict()\n",
    "sentences = Dict()\n",
    "for language ∈ [\"en\", \"es\"]\n",
    "    nlp = model[language]\n",
    "    parsed[language] = nlp(text[language])\n",
    "    sentences[language] = [sent for sent ∈ parsed[language].sents]\n",
    "    println(\"Sentences: $(language), $(length(sentences[language]))\")\n",
    "end"
   ]
  },
  {
   "cell_type": "code",
   "execution_count": 42,
   "metadata": {
    "ExecuteTime": {
     "end_time": "2020-06-20T17:07:31.713024Z",
     "start_time": "2020-06-20T17:07:31.709584Z"
    },
    "scrolled": true,
    "slideshow": {
     "slide_type": "slide"
    }
   },
   "outputs": [
    {
     "name": "stdout",
     "output_type": "stream",
     "text": [
      "\n",
      "1\n",
      "English:\t There's a tight and surprising link between the ocean's health and ours, says marine biologist Stephen Palumbi.\n",
      "Spanish:\t Existe una estrecha y sorprendente relación entre nuestra salud y la salud del océano, dice el biologo marino Stephen Palumbi.\n",
      "\n",
      "2\n",
      "English:\t He shows how toxins at the bottom of the ocean food chain find their way into our bodies, with a shocking story of toxic contamination from a Japanese fish market.\n",
      "Spanish:\t Nos muestra, através de una impactante historia acerca de la contaminación tóxica en el mercado pesquero japonés, como las toxinas de la cadena alimenticia del fondo oceánico llegan a nuestro cuerpo.\n",
      "\n",
      "3\n",
      "English:\t His work points a way forward for saving the oceans' health -- and humanity's.\n",
      "Spanish:\t fish,health,mission blue,oceans,science 899 Stephen Palumbi: Siguiendo el camino del mercurio.\n",
      "\n",
      "4\n",
      "English:\t fish,health,mission blue,oceans,science 899 Stephen Palumbi: Following the mercury trail It can be a very complicated thing, the ocean.\n",
      "Spanish:\t El océano puede ser una cosa muy complicada.\n",
      "\n",
      "5\n",
      "English:\t And it can be a very complicated thing, what human health is.\n",
      "Spanish:\t Y podria ser una cosa muy complicada lo que la salud humana es.\n",
      "\n",
      "6\n",
      "English:\t And bringing those two together might seem a very daunting task, but what I'm going to try to say is that even in that complexity, there's some simple themes that I think, if we understand, we can really move forward.\n",
      "Spanish:\t Y unirlas, podría ser una tarea desalentadora.\n"
     ]
    }
   ],
   "source": [
    "for (i,(en, es)) ∈ enumerate(zip(sentences[\"en\"], sentences[\"es\"]))\n",
    "    println(\"\\n\", i)\n",
    "    println(\"English:\\t $(string(en)[10:end])\")\n",
    "    println(\"Spanish:\\t $(string(es)[10:end])\")\n",
    "    if i > 5 \n",
    "        break\n",
    "    end\n",
    "end"
   ]
  },
  {
   "cell_type": "markdown",
   "metadata": {
    "slideshow": {
     "slide_type": "slide"
    }
   },
   "source": [
    "#### POS Tagging English vs Spanish"
   ]
  },
  {
   "cell_type": "code",
   "execution_count": 43,
   "metadata": {
    "ExecuteTime": {
     "end_time": "2020-06-20T17:07:31.728776Z",
     "start_time": "2020-06-20T17:07:31.715278Z"
    },
    "slideshow": {
     "slide_type": "fragment"
    }
   },
   "outputs": [
    {
     "data": {
      "text/plain": [
       "Dict{Any, Any} with 2 entries:\n",
       "  \"en\" => \u001b[1m21×3 DataFrame\u001b[0m…\n",
       "  \"es\" => \u001b[1m22×3 DataFrame\u001b[0m…"
      ]
     },
     "execution_count": 43,
     "metadata": {},
     "output_type": "execute_result"
    }
   ],
   "source": [
    "pos = Dict()\n",
    "for language ∈ [\"en\", \"es\"]\n",
    "    lang_sample_info = [[t.text, t.pos_, spacy.explain(t.pos_)] for t ∈ sentences[language][1]]\n",
    "    lang_sample_df = DataFrame(Token = getindex.(lang_sample_info, 1),\n",
    "                            POS_Tag = getindex.(lang_sample_info, 2),\n",
    "                            Meaning = getindex.(lang_sample_info, 3))\n",
    "    pos[language] = lang_sample_df\n",
    "end\n",
    "\n",
    "pos"
   ]
  },
  {
   "cell_type": "code",
   "execution_count": 44,
   "metadata": {
    "ExecuteTime": {
     "end_time": "2020-06-20T17:07:31.748749Z",
     "start_time": "2020-06-20T17:07:31.729789Z"
    },
    "slideshow": {
     "slide_type": "fragment"
    }
   },
   "outputs": [
    {
     "data": {
      "text/html": [
       "<div class=\"data-frame\"><p>15 rows × 6 columns</p><table class=\"data-frame\"><thead><tr><th></th><th>Token</th><th>POS_Tag</th><th>Meaning</th><th>Token_1</th><th>POS_Tag_1</th><th>Meaning_1</th></tr><tr><th></th><th title=\"String\">String</th><th title=\"String\">String</th><th title=\"String\">String</th><th title=\"String\">String</th><th title=\"String\">String</th><th title=\"String\">String</th></tr></thead><tbody><tr><th>1</th><td>There</td><td>PRON</td><td>pronoun</td><td>Existe</td><td>VERB</td><td>verb</td></tr><tr><th>2</th><td>&apos;s</td><td>VERB</td><td>verb</td><td>una</td><td>DET</td><td>determiner</td></tr><tr><th>3</th><td>a</td><td>DET</td><td>determiner</td><td>estrecha</td><td>ADJ</td><td>adjective</td></tr><tr><th>4</th><td>tight</td><td>ADJ</td><td>adjective</td><td>y</td><td>CCONJ</td><td>coordinating conjunction</td></tr><tr><th>5</th><td>and</td><td>CCONJ</td><td>coordinating conjunction</td><td>sorprendente</td><td>ADJ</td><td>adjective</td></tr><tr><th>6</th><td>surprising</td><td>ADJ</td><td>adjective</td><td>relación</td><td>NOUN</td><td>noun</td></tr><tr><th>7</th><td>link</td><td>NOUN</td><td>noun</td><td>entre</td><td>ADP</td><td>adposition</td></tr><tr><th>8</th><td>between</td><td>ADP</td><td>adposition</td><td>nuestra</td><td>DET</td><td>determiner</td></tr><tr><th>9</th><td>the</td><td>DET</td><td>determiner</td><td>salud</td><td>NOUN</td><td>noun</td></tr><tr><th>10</th><td>ocean</td><td>NOUN</td><td>noun</td><td>y</td><td>CCONJ</td><td>coordinating conjunction</td></tr><tr><th>11</th><td>&apos;s</td><td>PART</td><td>particle</td><td>la</td><td>DET</td><td>determiner</td></tr><tr><th>12</th><td>health</td><td>NOUN</td><td>noun</td><td>salud</td><td>NOUN</td><td>noun</td></tr><tr><th>13</th><td>and</td><td>CCONJ</td><td>coordinating conjunction</td><td>del</td><td>ADP</td><td>adposition</td></tr><tr><th>14</th><td>ours</td><td>PRON</td><td>pronoun</td><td>océano</td><td>NOUN</td><td>noun</td></tr><tr><th>15</th><td>,</td><td>PUNCT</td><td>punctuation</td><td>,</td><td>PUNCT</td><td>punctuation</td></tr></tbody></table></div>"
      ],
      "text/latex": [
       "\\begin{tabular}{r|cccccc}\n",
       "\t& Token & POS\\_Tag & Meaning & Token\\_1 & POS\\_Tag\\_1 & Meaning\\_1\\\\\n",
       "\t\\hline\n",
       "\t& String & String & String & String & String & String\\\\\n",
       "\t\\hline\n",
       "\t1 & There & PRON & pronoun & Existe & VERB & verb \\\\\n",
       "\t2 & 's & VERB & verb & una & DET & determiner \\\\\n",
       "\t3 & a & DET & determiner & estrecha & ADJ & adjective \\\\\n",
       "\t4 & tight & ADJ & adjective & y & CCONJ & coordinating conjunction \\\\\n",
       "\t5 & and & CCONJ & coordinating conjunction & sorprendente & ADJ & adjective \\\\\n",
       "\t6 & surprising & ADJ & adjective & relación & NOUN & noun \\\\\n",
       "\t7 & link & NOUN & noun & entre & ADP & adposition \\\\\n",
       "\t8 & between & ADP & adposition & nuestra & DET & determiner \\\\\n",
       "\t9 & the & DET & determiner & salud & NOUN & noun \\\\\n",
       "\t10 & ocean & NOUN & noun & y & CCONJ & coordinating conjunction \\\\\n",
       "\t11 & 's & PART & particle & la & DET & determiner \\\\\n",
       "\t12 & health & NOUN & noun & salud & NOUN & noun \\\\\n",
       "\t13 & and & CCONJ & coordinating conjunction & del & ADP & adposition \\\\\n",
       "\t14 & ours & PRON & pronoun & océano & NOUN & noun \\\\\n",
       "\t15 & , & PUNCT & punctuation & , & PUNCT & punctuation \\\\\n",
       "\\end{tabular}\n"
      ],
      "text/plain": [
       "\u001b[1m15×6 DataFrame\u001b[0m\n",
       "\u001b[1m Row \u001b[0m│\u001b[1m Token      \u001b[0m\u001b[1m POS_Tag \u001b[0m\u001b[1m Meaning                  \u001b[0m\u001b[1m Token_1      \u001b[0m\u001b[1m POS_Tag_1 \u001b[0m\u001b[1m\u001b[0m ⋯\n",
       "\u001b[1m     \u001b[0m│\u001b[90m String     \u001b[0m\u001b[90m String  \u001b[0m\u001b[90m String                   \u001b[0m\u001b[90m String       \u001b[0m\u001b[90m String    \u001b[0m\u001b[90m\u001b[0m ⋯\n",
       "─────┼──────────────────────────────────────────────────────────────────────────\n",
       "   1 │ There       PRON     pronoun                   Existe        VERB       ⋯\n",
       "   2 │ 's          VERB     verb                      una           DET\n",
       "   3 │ a           DET      determiner                estrecha      ADJ\n",
       "   4 │ tight       ADJ      adjective                 y             CCONJ\n",
       "   5 │ and         CCONJ    coordinating conjunction  sorprendente  ADJ        ⋯\n",
       "   6 │ surprising  ADJ      adjective                 relación      NOUN\n",
       "   7 │ link        NOUN     noun                      entre         ADP\n",
       "   8 │ between     ADP      adposition                nuestra       DET\n",
       "   9 │ the         DET      determiner                salud         NOUN       ⋯\n",
       "  10 │ ocean       NOUN     noun                      y             CCONJ\n",
       "  11 │ 's          PART     particle                  la            DET\n",
       "  12 │ health      NOUN     noun                      salud         NOUN\n",
       "  13 │ and         CCONJ    coordinating conjunction  del           ADP        ⋯\n",
       "  14 │ ours        PRON     pronoun                   océano        NOUN\n",
       "  15 │ ,           PUNCT    punctuation               ,             PUNCT\n",
       "\u001b[36m                                                                1 column omitted\u001b[0m"
      ]
     },
     "execution_count": 44,
     "metadata": {},
     "output_type": "execute_result"
    }
   ],
   "source": [
    "bilingual_parsed = hcat(pos[\"en\"][1:15, :], pos[\"es\"][1:15, :], makeunique=true)\n",
    "bilingual_parsed"
   ]
  },
  {
   "cell_type": "code",
   "execution_count": 45,
   "metadata": {
    "ExecuteTime": {
     "end_time": "2020-06-20T17:07:31.758901Z",
     "start_time": "2020-06-20T17:07:31.749990Z"
    },
    "slideshow": {
     "slide_type": "slide"
    }
   },
   "outputs": [
    {
     "data": {
      "text/html": [
       "<svg xmlns=\"http://www.w3.org/2000/svg\" xmlns:xlink=\"http://www.w3.org/1999/xlink\" xml:lang=\"es\" id=\"433f08ba0b43464d9fd05e631d6a6750-0\" class=\"displacy\" width=\"3050\" height=\"437.0\" direction=\"ltr\" style=\"max-width: none; height: 437.0px; color: white; background: #09a3d5; font-family: Source Sans Pro; direction: ltr\">\n",
       "<text class=\"displacy-token\" fill=\"currentColor\" text-anchor=\"middle\" y=\"347.0\">\n",
       "    <tspan class=\"displacy-word\" fill=\"currentColor\" x=\"50\">Existe</tspan>\n",
       "    <tspan class=\"displacy-tag\" dy=\"2em\" fill=\"currentColor\" x=\"50\">VERB</tspan>\n",
       "</text>\n",
       "\n",
       "<text class=\"displacy-token\" fill=\"currentColor\" text-anchor=\"middle\" y=\"347.0\">\n",
       "    <tspan class=\"displacy-word\" fill=\"currentColor\" x=\"200\">una</tspan>\n",
       "    <tspan class=\"displacy-tag\" dy=\"2em\" fill=\"currentColor\" x=\"200\">DET</tspan>\n",
       "</text>\n",
       "\n",
       "<text class=\"displacy-token\" fill=\"currentColor\" text-anchor=\"middle\" y=\"347.0\">\n",
       "    <tspan class=\"displacy-word\" fill=\"currentColor\" x=\"350\">estrecha</tspan>\n",
       "    <tspan class=\"displacy-tag\" dy=\"2em\" fill=\"currentColor\" x=\"350\">ADJ</tspan>\n",
       "</text>\n",
       "\n",
       "<text class=\"displacy-token\" fill=\"currentColor\" text-anchor=\"middle\" y=\"347.0\">\n",
       "    <tspan class=\"displacy-word\" fill=\"currentColor\" x=\"500\">y</tspan>\n",
       "    <tspan class=\"displacy-tag\" dy=\"2em\" fill=\"currentColor\" x=\"500\">CCONJ</tspan>\n",
       "</text>\n",
       "\n",
       "<text class=\"displacy-token\" fill=\"currentColor\" text-anchor=\"middle\" y=\"347.0\">\n",
       "    <tspan class=\"displacy-word\" fill=\"currentColor\" x=\"650\">sorprendente</tspan>\n",
       "    <tspan class=\"displacy-tag\" dy=\"2em\" fill=\"currentColor\" x=\"650\">ADJ</tspan>\n",
       "</text>\n",
       "\n",
       "<text class=\"displacy-token\" fill=\"currentColor\" text-anchor=\"middle\" y=\"347.0\">\n",
       "    <tspan class=\"displacy-word\" fill=\"currentColor\" x=\"800\">relación</tspan>\n",
       "    <tspan class=\"displacy-tag\" dy=\"2em\" fill=\"currentColor\" x=\"800\">NOUN</tspan>\n",
       "</text>\n",
       "\n",
       "<text class=\"displacy-token\" fill=\"currentColor\" text-anchor=\"middle\" y=\"347.0\">\n",
       "    <tspan class=\"displacy-word\" fill=\"currentColor\" x=\"950\">entre</tspan>\n",
       "    <tspan class=\"displacy-tag\" dy=\"2em\" fill=\"currentColor\" x=\"950\">ADP</tspan>\n",
       "</text>\n",
       "\n",
       "<text class=\"displacy-token\" fill=\"currentColor\" text-anchor=\"middle\" y=\"347.0\">\n",
       "    <tspan class=\"displacy-word\" fill=\"currentColor\" x=\"1100\">nuestra</tspan>\n",
       "    <tspan class=\"displacy-tag\" dy=\"2em\" fill=\"currentColor\" x=\"1100\">DET</tspan>\n",
       "</text>\n",
       "\n",
       "<text class=\"displacy-token\" fill=\"currentColor\" text-anchor=\"middle\" y=\"347.0\">\n",
       "    <tspan class=\"displacy-word\" fill=\"currentColor\" x=\"1250\">salud</tspan>\n",
       "    <tspan class=\"displacy-tag\" dy=\"2em\" fill=\"currentColor\" x=\"1250\">NOUN</tspan>\n",
       "</text>\n",
       "\n",
       "<text class=\"displacy-token\" fill=\"currentColor\" text-anchor=\"middle\" y=\"347.0\">\n",
       "    <tspan class=\"displacy-word\" fill=\"currentColor\" x=\"1400\">y</tspan>\n",
       "    <tspan class=\"displacy-tag\" dy=\"2em\" fill=\"currentColor\" x=\"1400\">CCONJ</tspan>\n",
       "</text>\n",
       "\n",
       "<text class=\"displacy-token\" fill=\"currentColor\" text-anchor=\"middle\" y=\"347.0\">\n",
       "    <tspan class=\"displacy-word\" fill=\"currentColor\" x=\"1550\">la</tspan>\n",
       "    <tspan class=\"displacy-tag\" dy=\"2em\" fill=\"currentColor\" x=\"1550\">DET</tspan>\n",
       "</text>\n",
       "\n",
       "<text class=\"displacy-token\" fill=\"currentColor\" text-anchor=\"middle\" y=\"347.0\">\n",
       "    <tspan class=\"displacy-word\" fill=\"currentColor\" x=\"1700\">salud</tspan>\n",
       "    <tspan class=\"displacy-tag\" dy=\"2em\" fill=\"currentColor\" x=\"1700\">NOUN</tspan>\n",
       "</text>\n",
       "\n",
       "<text class=\"displacy-token\" fill=\"currentColor\" text-anchor=\"middle\" y=\"347.0\">\n",
       "    <tspan class=\"displacy-word\" fill=\"currentColor\" x=\"1850\">del</tspan>\n",
       "    <tspan class=\"displacy-tag\" dy=\"2em\" fill=\"currentColor\" x=\"1850\">ADP</tspan>\n",
       "</text>\n",
       "\n",
       "<text class=\"displacy-token\" fill=\"currentColor\" text-anchor=\"middle\" y=\"347.0\">\n",
       "    <tspan class=\"displacy-word\" fill=\"currentColor\" x=\"2000\">océano,</tspan>\n",
       "    <tspan class=\"displacy-tag\" dy=\"2em\" fill=\"currentColor\" x=\"2000\">NOUN</tspan>\n",
       "</text>\n",
       "\n",
       "<text class=\"displacy-token\" fill=\"currentColor\" text-anchor=\"middle\" y=\"347.0\">\n",
       "    <tspan class=\"displacy-word\" fill=\"currentColor\" x=\"2150\">dice</tspan>\n",
       "    <tspan class=\"displacy-tag\" dy=\"2em\" fill=\"currentColor\" x=\"2150\">VERB</tspan>\n",
       "</text>\n",
       "\n",
       "<text class=\"displacy-token\" fill=\"currentColor\" text-anchor=\"middle\" y=\"347.0\">\n",
       "    <tspan class=\"displacy-word\" fill=\"currentColor\" x=\"2300\">el</tspan>\n",
       "    <tspan class=\"displacy-tag\" dy=\"2em\" fill=\"currentColor\" x=\"2300\">DET</tspan>\n",
       "</text>\n",
       "\n",
       "<text class=\"displacy-token\" fill=\"currentColor\" text-anchor=\"middle\" y=\"347.0\">\n",
       "    <tspan class=\"displacy-word\" fill=\"currentColor\" x=\"2450\">biologo</tspan>\n",
       "    <tspan class=\"displacy-tag\" dy=\"2em\" fill=\"currentColor\" x=\"2450\">NOUN</tspan>\n",
       "</text>\n",
       "\n",
       "<text class=\"displacy-token\" fill=\"currentColor\" text-anchor=\"middle\" y=\"347.0\">\n",
       "    <tspan class=\"displacy-word\" fill=\"currentColor\" x=\"2600\">marino</tspan>\n",
       "    <tspan class=\"displacy-tag\" dy=\"2em\" fill=\"currentColor\" x=\"2600\">ADJ</tspan>\n",
       "</text>\n",
       "\n",
       "<text class=\"displacy-token\" fill=\"currentColor\" text-anchor=\"middle\" y=\"347.0\">\n",
       "    <tspan class=\"displacy-word\" fill=\"currentColor\" x=\"2750\">Stephen</tspan>\n",
       "    <tspan class=\"displacy-tag\" dy=\"2em\" fill=\"currentColor\" x=\"2750\">PROPN</tspan>\n",
       "</text>\n",
       "\n",
       "<text class=\"displacy-token\" fill=\"currentColor\" text-anchor=\"middle\" y=\"347.0\">\n",
       "    <tspan class=\"displacy-word\" fill=\"currentColor\" x=\"2900\">Palumbi.</tspan>\n",
       "    <tspan class=\"displacy-tag\" dy=\"2em\" fill=\"currentColor\" x=\"2900\">PROPN</tspan>\n",
       "</text>\n",
       "\n",
       "<g class=\"displacy-arrow\">\n",
       "    <path class=\"displacy-arc\" id=\"arrow-433f08ba0b43464d9fd05e631d6a6750-0-0\" stroke-width=\"2px\" d=\"M62,302.0 62,202.0 2150.0,202.0 2150.0,302.0\" fill=\"none\" stroke=\"currentColor\"/>\n",
       "    <text dy=\"1.25em\" style=\"font-size: 0.8em; letter-spacing: 1px\">\n",
       "        <textPath xlink:href=\"#arrow-433f08ba0b43464d9fd05e631d6a6750-0-0\" class=\"displacy-label\" startOffset=\"50%\" side=\"left\" fill=\"currentColor\" text-anchor=\"middle\">ccomp</textPath>\n",
       "    </text>\n",
       "    <path class=\"displacy-arrowhead\" d=\"M62,304.0 L58,296.0 66,296.0\" fill=\"currentColor\"/>\n",
       "</g>\n",
       "\n",
       "<g class=\"displacy-arrow\">\n",
       "    <path class=\"displacy-arc\" id=\"arrow-433f08ba0b43464d9fd05e631d6a6750-0-1\" stroke-width=\"2px\" d=\"M212,302.0 212,277.0 341.0,277.0 341.0,302.0\" fill=\"none\" stroke=\"currentColor\"/>\n",
       "    <text dy=\"1.25em\" style=\"font-size: 0.8em; letter-spacing: 1px\">\n",
       "        <textPath xlink:href=\"#arrow-433f08ba0b43464d9fd05e631d6a6750-0-1\" class=\"displacy-label\" startOffset=\"50%\" side=\"left\" fill=\"currentColor\" text-anchor=\"middle\">det</textPath>\n",
       "    </text>\n",
       "    <path class=\"displacy-arrowhead\" d=\"M212,304.0 L208,296.0 216,296.0\" fill=\"currentColor\"/>\n",
       "</g>\n",
       "\n",
       "<g class=\"displacy-arrow\">\n",
       "    <path class=\"displacy-arc\" id=\"arrow-433f08ba0b43464d9fd05e631d6a6750-0-2\" stroke-width=\"2px\" d=\"M62,302.0 62,252.0 344.0,252.0 344.0,302.0\" fill=\"none\" stroke=\"currentColor\"/>\n",
       "    <text dy=\"1.25em\" style=\"font-size: 0.8em; letter-spacing: 1px\">\n",
       "        <textPath xlink:href=\"#arrow-433f08ba0b43464d9fd05e631d6a6750-0-2\" class=\"displacy-label\" startOffset=\"50%\" side=\"left\" fill=\"currentColor\" text-anchor=\"middle\">nsubj</textPath>\n",
       "    </text>\n",
       "    <path class=\"displacy-arrowhead\" d=\"M344.0,304.0 L348.0,296.0 340.0,296.0\" fill=\"currentColor\"/>\n",
       "</g>\n",
       "\n",
       "<g class=\"displacy-arrow\">\n",
       "    <path class=\"displacy-arc\" id=\"arrow-433f08ba0b43464d9fd05e631d6a6750-0-3\" stroke-width=\"2px\" d=\"M512,302.0 512,252.0 794.0,252.0 794.0,302.0\" fill=\"none\" stroke=\"currentColor\"/>\n",
       "    <text dy=\"1.25em\" style=\"font-size: 0.8em; letter-spacing: 1px\">\n",
       "        <textPath xlink:href=\"#arrow-433f08ba0b43464d9fd05e631d6a6750-0-3\" class=\"displacy-label\" startOffset=\"50%\" side=\"left\" fill=\"currentColor\" text-anchor=\"middle\">cc</textPath>\n",
       "    </text>\n",
       "    <path class=\"displacy-arrowhead\" d=\"M512,304.0 L508,296.0 516,296.0\" fill=\"currentColor\"/>\n",
       "</g>\n",
       "\n",
       "<g class=\"displacy-arrow\">\n",
       "    <path class=\"displacy-arc\" id=\"arrow-433f08ba0b43464d9fd05e631d6a6750-0-4\" stroke-width=\"2px\" d=\"M662,302.0 662,277.0 791.0,277.0 791.0,302.0\" fill=\"none\" stroke=\"currentColor\"/>\n",
       "    <text dy=\"1.25em\" style=\"font-size: 0.8em; letter-spacing: 1px\">\n",
       "        <textPath xlink:href=\"#arrow-433f08ba0b43464d9fd05e631d6a6750-0-4\" class=\"displacy-label\" startOffset=\"50%\" side=\"left\" fill=\"currentColor\" text-anchor=\"middle\">amod</textPath>\n",
       "    </text>\n",
       "    <path class=\"displacy-arrowhead\" d=\"M662,304.0 L658,296.0 666,296.0\" fill=\"currentColor\"/>\n",
       "</g>\n",
       "\n",
       "<g class=\"displacy-arrow\">\n",
       "    <path class=\"displacy-arc\" id=\"arrow-433f08ba0b43464d9fd05e631d6a6750-0-5\" stroke-width=\"2px\" d=\"M362,302.0 362,227.0 797.0,227.0 797.0,302.0\" fill=\"none\" stroke=\"currentColor\"/>\n",
       "    <text dy=\"1.25em\" style=\"font-size: 0.8em; letter-spacing: 1px\">\n",
       "        <textPath xlink:href=\"#arrow-433f08ba0b43464d9fd05e631d6a6750-0-5\" class=\"displacy-label\" startOffset=\"50%\" side=\"left\" fill=\"currentColor\" text-anchor=\"middle\">conj</textPath>\n",
       "    </text>\n",
       "    <path class=\"displacy-arrowhead\" d=\"M797.0,304.0 L801.0,296.0 793.0,296.0\" fill=\"currentColor\"/>\n",
       "</g>\n",
       "\n",
       "<g class=\"displacy-arrow\">\n",
       "    <path class=\"displacy-arc\" id=\"arrow-433f08ba0b43464d9fd05e631d6a6750-0-6\" stroke-width=\"2px\" d=\"M962,302.0 962,252.0 1244.0,252.0 1244.0,302.0\" fill=\"none\" stroke=\"currentColor\"/>\n",
       "    <text dy=\"1.25em\" style=\"font-size: 0.8em; letter-spacing: 1px\">\n",
       "        <textPath xlink:href=\"#arrow-433f08ba0b43464d9fd05e631d6a6750-0-6\" class=\"displacy-label\" startOffset=\"50%\" side=\"left\" fill=\"currentColor\" text-anchor=\"middle\">case</textPath>\n",
       "    </text>\n",
       "    <path class=\"displacy-arrowhead\" d=\"M962,304.0 L958,296.0 966,296.0\" fill=\"currentColor\"/>\n",
       "</g>\n",
       "\n",
       "<g class=\"displacy-arrow\">\n",
       "    <path class=\"displacy-arc\" id=\"arrow-433f08ba0b43464d9fd05e631d6a6750-0-7\" stroke-width=\"2px\" d=\"M1112,302.0 1112,277.0 1241.0,277.0 1241.0,302.0\" fill=\"none\" stroke=\"currentColor\"/>\n",
       "    <text dy=\"1.25em\" style=\"font-size: 0.8em; letter-spacing: 1px\">\n",
       "        <textPath xlink:href=\"#arrow-433f08ba0b43464d9fd05e631d6a6750-0-7\" class=\"displacy-label\" startOffset=\"50%\" side=\"left\" fill=\"currentColor\" text-anchor=\"middle\">det</textPath>\n",
       "    </text>\n",
       "    <path class=\"displacy-arrowhead\" d=\"M1112,304.0 L1108,296.0 1116,296.0\" fill=\"currentColor\"/>\n",
       "</g>\n",
       "\n",
       "<g class=\"displacy-arrow\">\n",
       "    <path class=\"displacy-arc\" id=\"arrow-433f08ba0b43464d9fd05e631d6a6750-0-8\" stroke-width=\"2px\" d=\"M812,302.0 812,227.0 1247.0,227.0 1247.0,302.0\" fill=\"none\" stroke=\"currentColor\"/>\n",
       "    <text dy=\"1.25em\" style=\"font-size: 0.8em; letter-spacing: 1px\">\n",
       "        <textPath xlink:href=\"#arrow-433f08ba0b43464d9fd05e631d6a6750-0-8\" class=\"displacy-label\" startOffset=\"50%\" side=\"left\" fill=\"currentColor\" text-anchor=\"middle\">nmod</textPath>\n",
       "    </text>\n",
       "    <path class=\"displacy-arrowhead\" d=\"M1247.0,304.0 L1251.0,296.0 1243.0,296.0\" fill=\"currentColor\"/>\n",
       "</g>\n",
       "\n",
       "<g class=\"displacy-arrow\">\n",
       "    <path class=\"displacy-arc\" id=\"arrow-433f08ba0b43464d9fd05e631d6a6750-0-9\" stroke-width=\"2px\" d=\"M1412,302.0 1412,252.0 1694.0,252.0 1694.0,302.0\" fill=\"none\" stroke=\"currentColor\"/>\n",
       "    <text dy=\"1.25em\" style=\"font-size: 0.8em; letter-spacing: 1px\">\n",
       "        <textPath xlink:href=\"#arrow-433f08ba0b43464d9fd05e631d6a6750-0-9\" class=\"displacy-label\" startOffset=\"50%\" side=\"left\" fill=\"currentColor\" text-anchor=\"middle\">cc</textPath>\n",
       "    </text>\n",
       "    <path class=\"displacy-arrowhead\" d=\"M1412,304.0 L1408,296.0 1416,296.0\" fill=\"currentColor\"/>\n",
       "</g>\n",
       "\n",
       "<g class=\"displacy-arrow\">\n",
       "    <path class=\"displacy-arc\" id=\"arrow-433f08ba0b43464d9fd05e631d6a6750-0-10\" stroke-width=\"2px\" d=\"M1562,302.0 1562,277.0 1691.0,277.0 1691.0,302.0\" fill=\"none\" stroke=\"currentColor\"/>\n",
       "    <text dy=\"1.25em\" style=\"font-size: 0.8em; letter-spacing: 1px\">\n",
       "        <textPath xlink:href=\"#arrow-433f08ba0b43464d9fd05e631d6a6750-0-10\" class=\"displacy-label\" startOffset=\"50%\" side=\"left\" fill=\"currentColor\" text-anchor=\"middle\">det</textPath>\n",
       "    </text>\n",
       "    <path class=\"displacy-arrowhead\" d=\"M1562,304.0 L1558,296.0 1566,296.0\" fill=\"currentColor\"/>\n",
       "</g>\n",
       "\n",
       "<g class=\"displacy-arrow\">\n",
       "    <path class=\"displacy-arc\" id=\"arrow-433f08ba0b43464d9fd05e631d6a6750-0-11\" stroke-width=\"2px\" d=\"M1262,302.0 1262,227.0 1697.0,227.0 1697.0,302.0\" fill=\"none\" stroke=\"currentColor\"/>\n",
       "    <text dy=\"1.25em\" style=\"font-size: 0.8em; letter-spacing: 1px\">\n",
       "        <textPath xlink:href=\"#arrow-433f08ba0b43464d9fd05e631d6a6750-0-11\" class=\"displacy-label\" startOffset=\"50%\" side=\"left\" fill=\"currentColor\" text-anchor=\"middle\">conj</textPath>\n",
       "    </text>\n",
       "    <path class=\"displacy-arrowhead\" d=\"M1697.0,304.0 L1701.0,296.0 1693.0,296.0\" fill=\"currentColor\"/>\n",
       "</g>\n",
       "\n",
       "<g class=\"displacy-arrow\">\n",
       "    <path class=\"displacy-arc\" id=\"arrow-433f08ba0b43464d9fd05e631d6a6750-0-12\" stroke-width=\"2px\" d=\"M1862,302.0 1862,277.0 1991.0,277.0 1991.0,302.0\" fill=\"none\" stroke=\"currentColor\"/>\n",
       "    <text dy=\"1.25em\" style=\"font-size: 0.8em; letter-spacing: 1px\">\n",
       "        <textPath xlink:href=\"#arrow-433f08ba0b43464d9fd05e631d6a6750-0-12\" class=\"displacy-label\" startOffset=\"50%\" side=\"left\" fill=\"currentColor\" text-anchor=\"middle\">case</textPath>\n",
       "    </text>\n",
       "    <path class=\"displacy-arrowhead\" d=\"M1862,304.0 L1858,296.0 1866,296.0\" fill=\"currentColor\"/>\n",
       "</g>\n",
       "\n",
       "<g class=\"displacy-arrow\">\n",
       "    <path class=\"displacy-arc\" id=\"arrow-433f08ba0b43464d9fd05e631d6a6750-0-13\" stroke-width=\"2px\" d=\"M1712,302.0 1712,252.0 1994.0,252.0 1994.0,302.0\" fill=\"none\" stroke=\"currentColor\"/>\n",
       "    <text dy=\"1.25em\" style=\"font-size: 0.8em; letter-spacing: 1px\">\n",
       "        <textPath xlink:href=\"#arrow-433f08ba0b43464d9fd05e631d6a6750-0-13\" class=\"displacy-label\" startOffset=\"50%\" side=\"left\" fill=\"currentColor\" text-anchor=\"middle\">nmod</textPath>\n",
       "    </text>\n",
       "    <path class=\"displacy-arrowhead\" d=\"M1994.0,304.0 L1998.0,296.0 1990.0,296.0\" fill=\"currentColor\"/>\n",
       "</g>\n",
       "\n",
       "<g class=\"displacy-arrow\">\n",
       "    <path class=\"displacy-arc\" id=\"arrow-433f08ba0b43464d9fd05e631d6a6750-0-14\" stroke-width=\"2px\" d=\"M2312,302.0 2312,277.0 2441.0,277.0 2441.0,302.0\" fill=\"none\" stroke=\"currentColor\"/>\n",
       "    <text dy=\"1.25em\" style=\"font-size: 0.8em; letter-spacing: 1px\">\n",
       "        <textPath xlink:href=\"#arrow-433f08ba0b43464d9fd05e631d6a6750-0-14\" class=\"displacy-label\" startOffset=\"50%\" side=\"left\" fill=\"currentColor\" text-anchor=\"middle\">det</textPath>\n",
       "    </text>\n",
       "    <path class=\"displacy-arrowhead\" d=\"M2312,304.0 L2308,296.0 2316,296.0\" fill=\"currentColor\"/>\n",
       "</g>\n",
       "\n",
       "<g class=\"displacy-arrow\">\n",
       "    <path class=\"displacy-arc\" id=\"arrow-433f08ba0b43464d9fd05e631d6a6750-0-15\" stroke-width=\"2px\" d=\"M2162,302.0 2162,252.0 2444.0,252.0 2444.0,302.0\" fill=\"none\" stroke=\"currentColor\"/>\n",
       "    <text dy=\"1.25em\" style=\"font-size: 0.8em; letter-spacing: 1px\">\n",
       "        <textPath xlink:href=\"#arrow-433f08ba0b43464d9fd05e631d6a6750-0-15\" class=\"displacy-label\" startOffset=\"50%\" side=\"left\" fill=\"currentColor\" text-anchor=\"middle\">nsubj</textPath>\n",
       "    </text>\n",
       "    <path class=\"displacy-arrowhead\" d=\"M2444.0,304.0 L2448.0,296.0 2440.0,296.0\" fill=\"currentColor\"/>\n",
       "</g>\n",
       "\n",
       "<g class=\"displacy-arrow\">\n",
       "    <path class=\"displacy-arc\" id=\"arrow-433f08ba0b43464d9fd05e631d6a6750-0-16\" stroke-width=\"2px\" d=\"M2462,302.0 2462,277.0 2591.0,277.0 2591.0,302.0\" fill=\"none\" stroke=\"currentColor\"/>\n",
       "    <text dy=\"1.25em\" style=\"font-size: 0.8em; letter-spacing: 1px\">\n",
       "        <textPath xlink:href=\"#arrow-433f08ba0b43464d9fd05e631d6a6750-0-16\" class=\"displacy-label\" startOffset=\"50%\" side=\"left\" fill=\"currentColor\" text-anchor=\"middle\">amod</textPath>\n",
       "    </text>\n",
       "    <path class=\"displacy-arrowhead\" d=\"M2591.0,304.0 L2595.0,296.0 2587.0,296.0\" fill=\"currentColor\"/>\n",
       "</g>\n",
       "\n",
       "<g class=\"displacy-arrow\">\n",
       "    <path class=\"displacy-arc\" id=\"arrow-433f08ba0b43464d9fd05e631d6a6750-0-17\" stroke-width=\"2px\" d=\"M2462,302.0 2462,252.0 2744.0,252.0 2744.0,302.0\" fill=\"none\" stroke=\"currentColor\"/>\n",
       "    <text dy=\"1.25em\" style=\"font-size: 0.8em; letter-spacing: 1px\">\n",
       "        <textPath xlink:href=\"#arrow-433f08ba0b43464d9fd05e631d6a6750-0-17\" class=\"displacy-label\" startOffset=\"50%\" side=\"left\" fill=\"currentColor\" text-anchor=\"middle\">appos</textPath>\n",
       "    </text>\n",
       "    <path class=\"displacy-arrowhead\" d=\"M2744.0,304.0 L2748.0,296.0 2740.0,296.0\" fill=\"currentColor\"/>\n",
       "</g>\n",
       "\n",
       "<g class=\"displacy-arrow\">\n",
       "    <path class=\"displacy-arc\" id=\"arrow-433f08ba0b43464d9fd05e631d6a6750-0-18\" stroke-width=\"2px\" d=\"M2762,302.0 2762,277.0 2891.0,277.0 2891.0,302.0\" fill=\"none\" stroke=\"currentColor\"/>\n",
       "    <text dy=\"1.25em\" style=\"font-size: 0.8em; letter-spacing: 1px\">\n",
       "        <textPath xlink:href=\"#arrow-433f08ba0b43464d9fd05e631d6a6750-0-18\" class=\"displacy-label\" startOffset=\"50%\" side=\"left\" fill=\"currentColor\" text-anchor=\"middle\">flat</textPath>\n",
       "    </text>\n",
       "    <path class=\"displacy-arrowhead\" d=\"M2891.0,304.0 L2895.0,296.0 2887.0,296.0\" fill=\"currentColor\"/>\n",
       "</g>\n",
       "</svg>"
      ],
      "text/plain": [
       "HTML{String}(\"<svg xmlns=\\\"http://www.w3.org/2000/svg\\\" xmlns:xlink=\\\"http://www.w3.org/1999/xlink\\\" xml:lang=\\\"es\\\" id=\\\"433f08ba0b43464d9fd05e631d6a6750-0\\\" class=\\\"displacy\\\" width=\\\"3050\\\" height=\\\"437.0\\\" direction=\\\"ltr\\\" style=\\\"max-width: none; height: 437.0px; color: white; background: #09a3d5; font-family: Source Sans Pro; direction: ltr\\\">\\n<text class=\\\"displacy-token\\\" fill=\\\"currentColor\\\" text-anchor=\\\"middle\\\" y=\\\"347.0\\\">\\n    <tspan class=\\\"displacy-word\\\" fill=\\\"currentColor\\\" x=\\\"50\\\">Existe</tspan>\\n    <tspan class=\\\"displacy-tag\\\" dy=\\\"2em\\\" fill=\\\"currentColor\\\" x=\\\"50\\\">VERB</tspan>\\n</text>\\n\\n<text class=\\\"displacy-token\\\" fill=\\\"currentColor\\\" text-anchor=\\\"middle\\\" y=\\\"347.0\\\">\\n    <tspan class=\\\"displacy-word\\\" fill=\\\"currentColor\\\" x=\\\"200\\\">una</tspan>\\n    <tspan class=\\\"displacy-tag\\\" dy=\\\"2em\\\" fill=\\\"currentColor\\\" x=\\\"200\\\">DET</tspan>\\n</text>\\n\\n<text class=\\\"displacy-token\\\" fill=\\\"currentColor\\\" text-anchor=\\\"middle\\\" y=\\\"347.0\\\">\\n    <tspan class=\\\"displacy-word\\\" fill=\\\"currentColor\\\" x=\\\"350\\\">estrecha</tspan>\\n    <tspan class=\\\"displacy-tag\\\" dy=\\\"2em\\\" fill=\\\"currentColor\\\" x=\\\"350\\\">ADJ</tspan>\\n</text>\\n\\n<text class=\\\"displacy-token\\\" fill=\\\"currentColor\\\" text-anchor=\\\"middle\\\" y=\\\"347.0\\\">\\n    <tspan class=\\\"displacy-word\\\" fill=\\\"currentColor\\\" x=\\\"500\\\">y</tspan>\\n    <tspan class=\\\"displacy-tag\\\" dy=\\\"2em\\\" fill=\\\"currentColor\\\" x=\\\"500\\\">CCONJ</tspan>\\n</text>\\n\\n<text class=\\\"displacy-token\\\" fill=\\\"currentColor\\\" text-anchor=\\\"middle\\\" y=\\\"347.0\\\">\\n    <tspan class=\\\"displacy-word\\\" fill=\\\"currentColor\\\" x=\\\"650\\\">sorprendente</tspan>\\n    <tspan class=\\\"displacy-tag\\\" dy=\\\"2em\\\" fill=\\\"currentColor\\\" x=\\\"650\\\">ADJ</tspan>\\n</text>\\n\\n<text class=\\\"displacy-token\\\" fill=\\\"currentColor\\\" text-anchor=\\\"middle\\\" y=\\\"347.0\\\">\\n    <tspan class=\\\"displacy-word\\\" fill=\\\"currentColor\\\" x=\\\"800\\\">relación</tspan>\\n    <tspan class=\\\"displacy-tag\\\" dy=\\\"2em\\\" fill=\\\"currentColor\\\" x=\\\"800\\\">NOUN</tspan>\\n</text>\\n\\n<text class=\\\"displacy-token\\\" fill=\\\"currentColor\\\" text-anchor=\\\"middle\\\" y=\\\"347.0\\\">\\n    <tspan class=\\\"displacy-word\\\" fill=\\\"currentColor\\\" x=\\\"950\\\">entre</tspan>\\n    <tspan class=\\\"displacy-tag\\\" dy=\\\"2em\\\" fill=\\\"currentColor\\\" x=\\\"950\\\">ADP</tspan>\\n</text>\\n\\n<text class=\\\"displacy-token\\\" fill=\\\"currentColor\\\" text-anchor=\\\"middle\\\" y=\\\"347.0\\\">\\n    <tspan class=\\\"displacy-word\\\" fill=\\\"currentColor\\\" x=\\\"1100\\\">nuestra</tspan>\\n    <tspan class=\\\"displacy-tag\\\" dy=\\\"2em\\\" fill=\\\"currentColor\\\" x=\\\"1100\\\">DET</tspan>\\n</text>\\n\\n<text class=\\\"displacy-token\\\" fill=\\\"currentColor\\\" text-anchor=\\\"middle\\\" y=\\\"347.0\\\">\\n    <tspan class=\\\"displacy-word\\\" fill=\\\"currentColor\\\" x=\\\"1250\\\">salud</tspan>\\n    <tspan class=\\\"displacy-tag\\\" dy=\\\"2em\\\" fill=\\\"currentColor\\\" x=\\\"1250\\\">NOUN</tspan>\\n</text>\\n\\n<text class=\\\"displacy-token\\\" fill=\\\"currentColor\\\" text-anchor=\\\"middle\\\" y=\\\"347.0\\\">\\n    <tspan class=\\\"displacy-word\\\" fill=\\\"currentColor\\\" x=\\\"1400\\\">y</tspan>\\n    <tspan class=\\\"displacy-tag\\\" dy=\\\"2em\\\" fill=\\\"currentColor\\\" x=\\\"1400\\\">CCONJ</tspan>\\n</text>\\n\\n<text class=\\\"displacy-token\\\" fill=\\\"currentColor\\\" text-anchor=\\\"middle\\\" y=\\\"347.0\\\">\\n    <tspan class=\\\"displacy-word\\\" fill=\\\"currentColor\\\" x=\\\"1550\\\">la</tspan>\\n    <tspan class=\\\"displacy-tag\\\" dy=\\\"2em\\\" fill=\\\"currentColor\\\" x=\\\"1550\\\">DET</tspan>\\n</text>\\n\\n<text class=\\\"displacy-token\\\" fill=\\\"currentColor\\\" text-anchor=\\\"middle\\\" y=\\\"347.0\\\">\\n    <tspan class=\\\"displacy-word\\\" fill=\\\"currentColor\\\" x=\\\"1700\\\">salud</tspan>\\n    <tspan class=\\\"displacy-tag\\\" dy=\\\"2em\\\" fill=\\\"currentColor\\\" x=\\\"1700\\\">NOUN</tspan>\\n</text>\\n\\n<text class=\\\"displacy-token\\\" fill=\\\"currentColor\\\" text-anchor=\\\"middle\\\" y=\\\"347.0\\\">\\n    <tspan class=\\\"displacy-word\\\" fill=\\\"currentColor\\\" x=\\\"1850\\\">del</tspan>\\n    <tspan class=\\\"displacy-tag\\\" dy=\\\"2em\\\" fill=\\\"currentColor\\\" x=\\\"1850\\\">ADP</tspan>\\n</text>\\n\\n<text class=\\\"displacy-token\\\" fill=\\\"currentColor\\\" text-anchor=\\\"middle\\\" y=\\\"347.0\\\">\\n    <tspan class=\\\"displacy-word\\\" fill=\\\"currentColor\\\" x=\\\"2000\\\">océano,</tspan>\\n    <tspan class=\\\"displacy-tag\\\" dy=\\\"2em\\\" fill=\\\"currentColor\\\" x=\\\"2000\\\">NOUN</tspan>\\n</text>\\n\\n<text class=\\\"displacy-token\\\" fill=\\\"currentColor\\\" text-anchor=\\\"middle\\\" y=\\\"347.0\\\">\\n    <tspan class=\\\"displacy-word\\\" fill=\\\"currentColor\\\" x=\\\"2150\\\">dice</tspan>\\n    <tspan class=\\\"displacy-tag\\\" dy=\\\"2em\\\" fill=\\\"currentColor\\\" x=\\\"2150\\\">VERB</tspan>\\n</text>\\n\\n<text class=\\\"displacy-token\\\" fill=\\\"currentColor\\\" text-anchor=\\\"middle\\\" y=\\\"347.0\\\">\\n    <tspan class=\\\"displacy-word\\\" fill=\\\"currentColor\\\" x=\\\"2300\\\">el</tspan>\\n    <tspan class=\\\"displacy-tag\\\" dy=\\\"2em\\\" fill=\\\"currentColor\\\" x=\\\"2300\\\">DET</tspan>\\n</text>\\n\\n<text class=\\\"displacy-token\\\" fill=\\\"currentColor\\\" text-anchor=\\\"middle\\\" y=\\\"347.0\\\">\\n    <tspan class=\\\"displacy-word\\\" fill=\\\"currentColor\\\" x=\\\"2450\\\">biologo</tspan>\\n    <tspan class=\\\"displacy-tag\\\" dy=\\\"2em\\\" fill=\\\"currentColor\\\" x=\\\"2450\\\">NOUN</tspan>\\n</text>\\n\\n<text class=\\\"displacy-token\\\" fill=\\\"currentColor\\\" text-anchor=\\\"middle\\\" y=\\\"347.0\\\">\\n    <tspan class=\\\"displacy-word\\\" fill=\\\"currentColor\\\" x=\\\"2600\\\">marino</tspan>\\n    <tspan class=\\\"displacy-tag\\\" dy=\\\"2em\\\" fill=\\\"currentColor\\\" x=\\\"2600\\\">ADJ</tspan>\\n</text>\\n\\n<text class=\\\"displacy-token\\\" fill=\\\"currentColor\\\" text-anchor=\\\"middle\\\" y=\\\"347.0\\\">\\n    <tspan class=\\\"displacy-word\\\" fill=\\\"currentColor\\\" x=\\\"2750\\\">Stephen</tspan>\\n    <tspan class=\\\"displacy-tag\\\" dy=\\\"2em\\\" fill=\\\"currentColor\\\" x=\\\"2750\\\">PROPN</tspan>\\n</text>\\n\\n<text class=\\\"displacy-token\\\" fill=\\\"currentColor\\\" text-anchor=\\\"middle\\\" y=\\\"347.0\\\">\\n    <tspan class=\\\"displacy-word\\\" fill=\\\"currentColor\\\" x=\\\"2900\\\">Palumbi.</tspan>\\n    <tspan class=\\\"displacy-tag\\\" dy=\\\"2em\\\" fill=\\\"currentColor\\\" x=\\\"2900\\\">PROPN</tspan>\\n</text>\\n\\n<g class=\\\"displacy-arrow\\\">\\n    <path class=\\\"displacy-arc\\\" id=\\\"arrow-433f08ba0b43464d9fd05e631d6a6750-0-0\\\" stroke-width=\\\"2px\\\" d=\\\"M62,302.0 62,202.0 2150.0,202.0 2150.0,302.0\\\" fill=\\\"none\\\" stroke=\\\"currentColor\\\"/>\\n    <text dy=\\\"1.25em\\\" style=\\\"font-size: 0.8em; letter-spacing: 1px\\\">\\n        <textPath xlink:href=\\\"#arrow-433f08ba0b43464d9fd05e631d6a6750-0-0\\\" class=\\\"displacy-label\\\" startOffset=\\\"50%\\\" side=\\\"left\\\" fill=\\\"currentColor\\\" text-anchor=\\\"middle\\\">ccomp</textPath>\\n    </text>\\n    <path class=\\\"displacy-arrowhead\\\" d=\\\"M62,304.0 L58,296.0 66,296.0\\\" fill=\\\"currentColor\\\"/>\\n</g>\\n\\n<g class=\\\"displacy-arrow\\\">\\n    <path class=\\\"displacy-arc\\\" id=\\\"arrow-433f08ba0b43464d9fd05e631d6a6750-0-1\\\" stroke-width=\\\"2px\\\" d=\\\"M212,302.0 212,277.0 341.0,277.0 341.0,302.0\\\" fill=\\\"none\\\" stroke=\\\"currentColor\\\"/>\\n    <text dy=\\\"1.25em\\\" style=\\\"font-size: 0.8em; letter-spacing: 1px\\\">\\n        <textPath xlink:href=\\\"#arrow-433f08ba0b43464d9fd05e631d6a6750-0-1\\\" class=\\\"displacy-label\\\" startOffset=\\\"50%\\\" side=\\\"left\\\" fill=\\\"currentColor\\\" text-anchor=\\\"middle\\\">det</textPath>\\n    </text>\\n    <path class=\\\"displacy-arrowhead\\\" d=\\\"M212,304.0 L208,296.0 216,296.0\\\" fill=\\\"currentColor\\\"/>\\n</g>\\n\\n<g class=\\\"displacy-arrow\\\">\\n    <path class=\\\"displacy-arc\\\" id=\\\"arrow-433f08ba0b43464d9fd05e631d6a6750-0-2\\\" stroke-width=\\\"2px\\\" d=\\\"M62,302.0 62,252.0 344.0,252.0 344.0,302.0\\\" fill=\\\"none\\\" stroke=\\\"currentColor\\\"/>\\n    <text dy=\\\"1.25em\\\" style=\\\"font-size: 0.8em; letter-spacing: 1px\\\">\\n        <textPath xlink:href=\\\"#arrow-433f08ba0b43464d9fd05e631d6a6750-0-2\\\" class=\\\"displacy-label\\\" startOffset=\\\"50%\\\" side=\\\"left\\\" fill=\\\"currentColor\\\" text-anchor=\\\"middle\\\">nsubj</textPath>\\n    </text>\\n    <path class=\\\"displacy-arrowhead\\\" d=\\\"M344.0,304.0 L348.0,296.0 340.0,296.0\\\" fill=\\\"currentColor\\\"/>\\n</g>\\n\\n<g class=\\\"displacy-arrow\\\">\\n    <path class=\\\"displacy-arc\\\" id=\\\"arrow-433f08ba0b43464d9fd05e631d6a6750-0-3\\\" stroke-width=\\\"2px\\\" d=\\\"M512,302.0 512,252.0 794.0,252.0 794.0,302.0\\\" fill=\\\"none\\\" stroke=\\\"currentColor\\\"/>\\n    <text dy=\\\"1.25em\\\" style=\\\"font-size: 0.8em; letter-spacing: 1px\\\">\\n        <textPath xlink:href=\\\"#arrow-433f08ba0b43464d9fd05e631d6a6750-0-3\\\" class=\\\"displacy-label\\\" startOffset=\\\"50%\\\" side=\\\"left\\\" fill=\\\"currentColor\\\" text-anchor=\\\"middle\\\">cc</textPath>\\n    </text>\\n    <path class=\\\"displacy-arrowhead\\\" d=\\\"M512,304.0 L508,296.0 516,296.0\\\" fill=\\\"currentColor\\\"/>\\n</g>\\n\\n<g class=\\\"displacy-arrow\\\">\\n    <path class=\\\"displacy-arc\\\" id=\\\"arrow-433f08ba0b43464d9fd05e631d6a6750-0-4\\\" stroke-width=\\\"2px\\\" d=\\\"M662,302.0 662,277.0 791.0,277.0 791.0,302.0\\\" fill=\\\"none\\\" stroke=\\\"currentColor\\\"/>\\n    <text dy=\\\"1.25em\\\" style=\\\"font-size: 0.8em; letter-spacing: 1px\\\">\\n        <textPath xlink:href=\\\"#arrow-433f08ba0b43464d9fd05e631d6a6750-0-4\\\" class=\\\"displacy-label\\\" startOffset=\\\"50%\\\" side=\\\"left\\\" fill=\\\"currentColor\\\" text-anchor=\\\"middle\\\">amod</textPath>\\n    </text>\\n    <path class=\\\"displacy-arrowhead\\\" d=\\\"M662,304.0 L658,296.0 666,296.0\\\" fill=\\\"currentColor\\\"/>\\n</g>\\n\\n<g class=\\\"displacy-arrow\\\">\\n    <path class=\\\"displacy-arc\\\" id=\\\"arrow-433f08ba0b43464d9fd05e631d6a6750-0-5\\\" stroke-width=\\\"2px\\\" d=\\\"M362,302.0 362,227.0 797.0,227.0 797.0,302.0\\\" fill=\\\"none\\\" stroke=\\\"currentColor\\\"/>\\n    <text dy=\\\"1.25em\\\" style=\\\"font-size: 0.8em; letter-spacing: 1px\\\">\\n        <textPath xlink:href=\\\"#arrow-433f08ba0b43464d9fd05e631d6a6750-0-5\\\" class=\\\"displacy-label\\\" startOffset=\\\"50%\\\" side=\\\"left\\\" fill=\\\"currentColor\\\" text-anchor=\\\"middle\\\">conj</textPath>\\n    </text>\\n    <path class=\\\"displacy-arrowhead\\\" d=\\\"M797.0,304.0 L801.0,296.0 793.0,296.0\\\" fill=\\\"currentColor\\\"/>\\n</g>\\n\\n<g class=\\\"displacy-arrow\\\">\\n    <path class=\\\"displacy-arc\\\" id=\\\"arrow-433f08ba0b43464d9fd05e631d6a6750-0-6\\\" stroke-width=\\\"2px\\\" d=\\\"M962,302.0 962,252.0 1244.0,252.0 1244.0,302.0\\\" fill=\\\"none\\\" stroke=\\\"currentColor\\\"/>\\n    <text dy=\\\"1.25em\\\" style=\\\"font-size: 0.8em; letter-spacing: 1px\\\">\\n        <textPath xlink:href=\\\"#arrow-433f08ba0b43464d9fd05e631d6a6750-0-6\\\" class=\\\"displacy-label\\\" startOffset=\\\"50%\\\" side=\\\"left\\\" fill=\\\"currentColor\\\" text-anchor=\\\"middle\\\">case</textPath>\\n    </text>\\n    <path class=\\\"displacy-arrowhead\\\" d=\\\"M962,304.0 L958,296.0 966,296.0\\\" fill=\\\"currentColor\\\"/>\\n</g>\\n\\n<g class=\\\"displacy-arrow\\\">\\n    <path class=\\\"displacy-arc\\\" id=\\\"arrow-433f08ba0b43464d9fd05e631d6a6750-0-7\\\" stroke-width=\\\"2px\\\" d=\\\"M1112,302.0 1112,277.0 1241.0,277.0 1241.0,302.0\\\" fill=\\\"none\\\" stroke=\\\"currentColor\\\"/>\\n    <text dy=\\\"1.25em\\\" style=\\\"font-size: 0.8em; letter-spacing: 1px\\\">\\n        <textPath xlink:href=\\\"#arrow-433f08ba0b43464d9fd05e631d6a6750-0-7\\\" class=\\\"displacy-label\\\" startOffset=\\\"50%\\\" side=\\\"left\\\" fill=\\\"currentColor\\\" text-anchor=\\\"middle\\\">det</textPath>\\n    </text>\\n    <path class=\\\"displacy-arrowhead\\\" d=\\\"M1112,304.0 L1108,296.0 1116,296.0\\\" fill=\\\"currentColor\\\"/>\\n</g>\\n\\n<g class=\\\"displacy-arrow\\\">\\n    <path class=\\\"displacy-arc\\\" id=\\\"arrow-433f08ba0b43464d9fd05e631d6a6750-0-8\\\" stroke-width=\\\"2px\\\" d=\\\"M812,302.0 812,227.0 1247.0,227.0 1247.0,302.0\\\" fill=\\\"none\\\" stroke=\\\"currentColor\\\"/>\\n    <text dy=\\\"1.25em\\\" style=\\\"font-size: 0.8em; letter-spacing: 1px\\\">\\n        <textPath xlink:href=\\\"#arrow-433f08ba0b43464d9fd05e631d6a6750-0-8\\\" class=\\\"displacy-label\\\" startOffset=\\\"50%\\\" side=\\\"left\\\" fill=\\\"currentColor\\\" text-anchor=\\\"middle\\\">nmod</textPath>\\n    </text>\\n    <path class=\\\"displacy-arrowhead\\\" d=\\\"M1247.0,304.0 L1251.0,296.0 1243.0,296.0\\\" fill=\\\"currentColor\\\"/>\\n</g>\\n\\n<g class=\\\"displacy-arrow\\\">\\n    <path class=\\\"displacy-arc\\\" id=\\\"arrow-433f08ba0b43464d9fd05e631d6a6750-0-9\\\" stroke-width=\\\"2px\\\" d=\\\"M1412,302.0 1412,252.0 1694.0,252.0 1694.0,302.0\\\" fill=\\\"none\\\" stroke=\\\"currentColor\\\"/>\\n    <text dy=\\\"1.25em\\\" style=\\\"font-size: 0.8em; letter-spacing: 1px\\\">\\n        <textPath xlink:href=\\\"#arrow-433f08ba0b43464d9fd05e631d6a6750-0-9\\\" class=\\\"displacy-label\\\" startOffset=\\\"50%\\\" side=\\\"left\\\" fill=\\\"currentColor\\\" text-anchor=\\\"middle\\\">cc</textPath>\\n    </text>\\n    <path class=\\\"displacy-arrowhead\\\" d=\\\"M1412,304.0 L1408,296.0 1416,296.0\\\" fill=\\\"currentColor\\\"/>\\n</g>\\n\\n<g class=\\\"displacy-arrow\\\">\\n    <path class=\\\"displacy-arc\\\" id=\\\"arrow-433f08ba0b43464d9fd05e631d6a6750-0-10\\\" stroke-width=\\\"2px\\\" d=\\\"M1562,302.0 1562,277.0 1691.0,277.0 1691.0,302.0\\\" fill=\\\"none\\\" stroke=\\\"currentColor\\\"/>\\n    <text dy=\\\"1.25em\\\" style=\\\"font-size: 0.8em; letter-spacing: 1px\\\">\\n        <textPath xlink:href=\\\"#arrow-433f08ba0b43464d9fd05e631d6a6750-0-10\\\" class=\\\"displacy-label\\\" startOffset=\\\"50%\\\" side=\\\"left\\\" fill=\\\"currentColor\\\" text-anchor=\\\"middle\\\">det</textPath>\\n    </text>\\n    <path class=\\\"displacy-arrowhead\\\" d=\\\"M1562,304.0 L1558,296.0 1566,296.0\\\" fill=\\\"currentColor\\\"/>\\n</g>\\n\\n<g class=\\\"displacy-arrow\\\">\\n    <path class=\\\"displacy-arc\\\" id=\\\"arrow-433f08ba0b43464d9fd05e631d6a6750-0-11\\\" stroke-width=\\\"2px\\\" d=\\\"M1262,302.0 1262,227.0 1697.0,227.0 1697.0,302.0\\\" fill=\\\"none\\\" stroke=\\\"currentColor\\\"/>\\n    <text dy=\\\"1.25em\\\" style=\\\"font-size: 0.8em; letter-spacing: 1px\\\">\\n        <textPath xlink:href=\\\"#arrow-433f08ba0b43464d9fd05e631d6a6750-0-11\\\" class=\\\"displacy-label\\\" startOffset=\\\"50%\\\" side=\\\"left\\\" fill=\\\"currentColor\\\" text-anchor=\\\"middle\\\">conj</textPath>\\n    </text>\\n    <path class=\\\"displacy-arrowhead\\\" d=\\\"M1697.0,304.0 L1701.0,296.0 1693.0,296.0\\\" fill=\\\"currentColor\\\"/>\\n</g>\\n\\n<g class=\\\"displacy-arrow\\\">\\n    <path class=\\\"displacy-arc\\\" id=\\\"arrow-433f08ba0b43464d9fd05e631d6a6750-0-12\\\" stroke-width=\\\"2px\\\" d=\\\"M1862,302.0 1862,277.0 1991.0,277.0 1991.0,302.0\\\" fill=\\\"none\\\" stroke=\\\"currentColor\\\"/>\\n    <text dy=\\\"1.25em\\\" style=\\\"font-size: 0.8em; letter-spacing: 1px\\\">\\n        <textPath xlink:href=\\\"#arrow-433f08ba0b43464d9fd05e631d6a6750-0-12\\\" class=\\\"displacy-label\\\" startOffset=\\\"50%\\\" side=\\\"left\\\" fill=\\\"currentColor\\\" text-anchor=\\\"middle\\\">case</textPath>\\n    </text>\\n    <path class=\\\"displacy-arrowhead\\\" d=\\\"M1862,304.0 L1858,296.0 1866,296.0\\\" fill=\\\"currentColor\\\"/>\\n</g>\\n\\n<g class=\\\"displacy-arrow\\\">\\n    <path class=\\\"displacy-arc\\\" id=\\\"arrow-433f08ba0b43464d9fd05e631d6a6750-0-13\\\" stroke-width=\\\"2px\\\" d=\\\"M1712,302.0 1712,252.0 1994.0,252.0 1994.0,302.0\\\" fill=\\\"none\\\" stroke=\\\"currentColor\\\"/>\\n    <text dy=\\\"1.25em\\\" style=\\\"font-size: 0.8em; letter-spacing: 1px\\\">\\n        <textPath xlink:href=\\\"#arrow-433f08ba0b43464d9fd05e631d6a6750-0-13\\\" class=\\\"displacy-label\\\" startOffset=\\\"50%\\\" side=\\\"left\\\" fill=\\\"currentColor\\\" text-anchor=\\\"middle\\\">nmod</textPath>\\n    </text>\\n    <path class=\\\"displacy-arrowhead\\\" d=\\\"M1994.0,304.0 L1998.0,296.0 1990.0,296.0\\\" fill=\\\"currentColor\\\"/>\\n</g>\\n\\n<g class=\\\"displacy-arrow\\\">\\n    <path class=\\\"displacy-arc\\\" id=\\\"arrow-433f08ba0b43464d9fd05e631d6a6750-0-14\\\" stroke-width=\\\"2px\\\" d=\\\"M2312,302.0 2312,277.0 2441.0,277.0 2441.0,302.0\\\" fill=\\\"none\\\" stroke=\\\"currentColor\\\"/>\\n    <text dy=\\\"1.25em\\\" style=\\\"font-size: 0.8em; letter-spacing: 1px\\\">\\n        <textPath xlink:href=\\\"#arrow-433f08ba0b43464d9fd05e631d6a6750-0-14\\\" class=\\\"displacy-label\\\" startOffset=\\\"50%\\\" side=\\\"left\\\" fill=\\\"currentColor\\\" text-anchor=\\\"middle\\\">det</textPath>\\n    </text>\\n    <path class=\\\"displacy-arrowhead\\\" d=\\\"M2312,304.0 L2308,296.0 2316,296.0\\\" fill=\\\"currentColor\\\"/>\\n</g>\\n\\n<g class=\\\"displacy-arrow\\\">\\n    <path class=\\\"displacy-arc\\\" id=\\\"arrow-433f08ba0b43464d9fd05e631d6a6750-0-15\\\" stroke-width=\\\"2px\\\" d=\\\"M2162,302.0 2162,252.0 2444.0,252.0 2444.0,302.0\\\" fill=\\\"none\\\" stroke=\\\"currentColor\\\"/>\\n    <text dy=\\\"1.25em\\\" style=\\\"font-size: 0.8em; letter-spacing: 1px\\\">\\n        <textPath xlink:href=\\\"#arrow-433f08ba0b43464d9fd05e631d6a6750-0-15\\\" class=\\\"displacy-label\\\" startOffset=\\\"50%\\\" side=\\\"left\\\" fill=\\\"currentColor\\\" text-anchor=\\\"middle\\\">nsubj</textPath>\\n    </text>\\n    <path class=\\\"displacy-arrowhead\\\" d=\\\"M2444.0,304.0 L2448.0,296.0 2440.0,296.0\\\" fill=\\\"currentColor\\\"/>\\n</g>\\n\\n<g class=\\\"displacy-arrow\\\">\\n    <path class=\\\"displacy-arc\\\" id=\\\"arrow-433f08ba0b43464d9fd05e631d6a6750-0-16\\\" stroke-width=\\\"2px\\\" d=\\\"M2462,302.0 2462,277.0 2591.0,277.0 2591.0,302.0\\\" fill=\\\"none\\\" stroke=\\\"currentColor\\\"/>\\n    <text dy=\\\"1.25em\\\" style=\\\"font-size: 0.8em; letter-spacing: 1px\\\">\\n        <textPath xlink:href=\\\"#arrow-433f08ba0b43464d9fd05e631d6a6750-0-16\\\" class=\\\"displacy-label\\\" startOffset=\\\"50%\\\" side=\\\"left\\\" fill=\\\"currentColor\\\" text-anchor=\\\"middle\\\">amod</textPath>\\n    </text>\\n    <path class=\\\"displacy-arrowhead\\\" d=\\\"M2591.0,304.0 L2595.0,296.0 2587.0,296.0\\\" fill=\\\"currentColor\\\"/>\\n</g>\\n\\n<g class=\\\"displacy-arrow\\\">\\n    <path class=\\\"displacy-arc\\\" id=\\\"arrow-433f08ba0b43464d9fd05e631d6a6750-0-17\\\" stroke-width=\\\"2px\\\" d=\\\"M2462,302.0 2462,252.0 2744.0,252.0 2744.0,302.0\\\" fill=\\\"none\\\" stroke=\\\"currentColor\\\"/>\\n    <text dy=\\\"1.25em\\\" style=\\\"font-size: 0.8em; letter-spacing: 1px\\\">\\n        <textPath xlink:href=\\\"#arrow-433f08ba0b43464d9fd05e631d6a6750-0-17\\\" class=\\\"displacy-label\\\" startOffset=\\\"50%\\\" side=\\\"left\\\" fill=\\\"currentColor\\\" text-anchor=\\\"middle\\\">appos</textPath>\\n    </text>\\n    <path class=\\\"displacy-arrowhead\\\" d=\\\"M2744.0,304.0 L2748.0,296.0 2740.0,296.0\\\" fill=\\\"currentColor\\\"/>\\n</g>\\n\\n<g class=\\\"displacy-arrow\\\">\\n    <path class=\\\"displacy-arc\\\" id=\\\"arrow-433f08ba0b43464d9fd05e631d6a6750-0-18\\\" stroke-width=\\\"2px\\\" d=\\\"M2762,302.0 2762,277.0 2891.0,277.0 2891.0,302.0\\\" fill=\\\"none\\\" stroke=\\\"currentColor\\\"/>\\n    <text dy=\\\"1.25em\\\" style=\\\"font-size: 0.8em; letter-spacing: 1px\\\">\\n        <textPath xlink:href=\\\"#arrow-433f08ba0b43464d9fd05e631d6a6750-0-18\\\" class=\\\"displacy-label\\\" startOffset=\\\"50%\\\" side=\\\"left\\\" fill=\\\"currentColor\\\" text-anchor=\\\"middle\\\">flat</textPath>\\n    </text>\\n    <path class=\\\"displacy-arrowhead\\\" d=\\\"M2891.0,304.0 L2895.0,296.0 2887.0,296.0\\\" fill=\\\"currentColor\\\"/>\\n</g>\\n</svg>\")"
      ]
     },
     "metadata": {},
     "output_type": "display_data"
    }
   ],
   "source": [
    "display(HTML(spacy.displacy.render(sentences[\"es\"][1].as_doc(), style=\"dep\", options=options)))"
   ]
  }
 ],
 "metadata": {
  "celltoolbar": "Slideshow",
  "kernelspec": {
   "display_name": "Julia 1.7.1",
   "language": "julia",
   "name": "julia-1.7"
  },
  "language_info": {
   "file_extension": ".jl",
   "mimetype": "application/julia",
   "name": "julia",
   "version": "1.7.1"
  },
  "toc": {
   "base_numbering": 1,
   "nav_menu": {},
   "number_sections": true,
   "sideBar": true,
   "skip_h1_title": true,
   "title_cell": "Table of Contents",
   "title_sidebar": "Contents",
   "toc_cell": false,
   "toc_position": {
    "height": "355px",
    "left": "1936.95px",
    "top": "146.953px",
    "width": "305px"
   },
   "toc_section_display": true,
   "toc_window_display": true
  }
 },
 "nbformat": 4,
 "nbformat_minor": 4
}
