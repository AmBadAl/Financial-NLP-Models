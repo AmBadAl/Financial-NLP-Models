{
 "cells": [
  {
   "cell_type": "markdown",
   "metadata": {},
   "source": [
    "# Classifying news articles with Naive Bayes"
   ]
  },
  {
   "cell_type": "markdown",
   "metadata": {},
   "source": [
    "Once text data has been converted into numerical features using the natural language processing techniques discussed in the previous sections, text classification works just like any other classification task."
   ]
  },
  {
   "cell_type": "markdown",
   "metadata": {},
   "source": [
    "## Imports"
   ]
  },
  {
   "cell_type": "code",
   "execution_count": 1,
   "metadata": {
    "ExecuteTime": {
     "end_time": "2020-06-20T17:19:53.091582Z",
     "start_time": "2020-06-20T17:19:52.678136Z"
    }
   },
   "outputs": [],
   "source": [
    "using Pkg"
   ]
  },
  {
   "cell_type": "code",
   "execution_count": 2,
   "metadata": {},
   "outputs": [],
   "source": [
    "using PyCall\n",
    "using Conda"
   ]
  },
  {
   "cell_type": "code",
   "execution_count": 3,
   "metadata": {},
   "outputs": [],
   "source": [
    "#Pkg.add(\"Glob\")\n",
    "#Pkg.add(\"TextAnalysis\")\n",
    "#Pkg.add(\"ScikitLearn\")\n",
    "#Pkg.add(\"StringEncodings\")"
   ]
  },
  {
   "cell_type": "code",
   "execution_count": 4,
   "metadata": {},
   "outputs": [],
   "source": [
    "using Glob\n",
    "using TextAnalysis\n",
    "using DataFrames\n",
    "using ScikitLearn\n",
    "using StringEncodings"
   ]
  },
  {
   "cell_type": "code",
   "execution_count": 5,
   "metadata": {},
   "outputs": [],
   "source": [
    "using ScikitLearn: @sk_import"
   ]
  },
  {
   "cell_type": "code",
   "execution_count": 6,
   "metadata": {},
   "outputs": [
    {
     "data": {
      "text/plain": [
       "PyObject <function confusion_matrix at 0x000000007F329430>"
      ]
     },
     "execution_count": 6,
     "metadata": {},
     "output_type": "execute_result"
    }
   ],
   "source": [
    "@sk_import feature_extraction.text: CountVectorizer\n",
    "@sk_import naive_bayes: MultinomialNB\n",
    "@sk_import metrics: accuracy_score\n",
    "@sk_import metrics: confusion_matrix"
   ]
  },
  {
   "cell_type": "markdown",
   "metadata": {},
   "source": [
    "## News article classification"
   ]
  },
  {
   "cell_type": "markdown",
   "metadata": {},
   "source": [
    "We start with an illustration of the Naive Bayes model for news article classification using the BBC articles that we read as before to obtain a DataFrame with 2,225 articles from 5 categories."
   ]
  },
  {
   "cell_type": "markdown",
   "metadata": {},
   "source": [
    "### Read BBC articles"
   ]
  },
  {
   "cell_type": "code",
   "execution_count": 7,
   "metadata": {
    "ExecuteTime": {
     "end_time": "2020-06-20T17:19:53.094355Z",
     "start_time": "2020-06-20T17:19:53.092732Z"
    },
    "scrolled": true
   },
   "outputs": [
    {
     "data": {
      "text/plain": [
       "2225-element Vector{String}:\n",
       " \"..\\\\data\\\\bbc\\\\bbc\\\\business\\\\001.txt\"\n",
       " \"..\\\\data\\\\bbc\\\\bbc\\\\business\\\\002.txt\"\n",
       " \"..\\\\data\\\\bbc\\\\bbc\\\\business\\\\003.txt\"\n",
       " \"..\\\\data\\\\bbc\\\\bbc\\\\business\\\\004.txt\"\n",
       " \"..\\\\data\\\\bbc\\\\bbc\\\\business\\\\005.txt\"\n",
       " \"..\\\\data\\\\bbc\\\\bbc\\\\business\\\\006.txt\"\n",
       " \"..\\\\data\\\\bbc\\\\bbc\\\\business\\\\007.txt\"\n",
       " \"..\\\\data\\\\bbc\\\\bbc\\\\business\\\\008.txt\"\n",
       " \"..\\\\data\\\\bbc\\\\bbc\\\\business\\\\009.txt\"\n",
       " \"..\\\\data\\\\bbc\\\\bbc\\\\business\\\\010.txt\"\n",
       " \"..\\\\data\\\\bbc\\\\bbc\\\\business\\\\011.txt\"\n",
       " \"..\\\\data\\\\bbc\\\\bbc\\\\business\\\\012.txt\"\n",
       " \"..\\\\data\\\\bbc\\\\bbc\\\\business\\\\013.txt\"\n",
       " ⋮\n",
       " \"..\\\\data\\\\bbc\\\\bbc\\\\tech\\\\390.txt\"\n",
       " \"..\\\\data\\\\bbc\\\\bbc\\\\tech\\\\391.txt\"\n",
       " \"..\\\\data\\\\bbc\\\\bbc\\\\tech\\\\392.txt\"\n",
       " \"..\\\\data\\\\bbc\\\\bbc\\\\tech\\\\393.txt\"\n",
       " \"..\\\\data\\\\bbc\\\\bbc\\\\tech\\\\394.txt\"\n",
       " \"..\\\\data\\\\bbc\\\\bbc\\\\tech\\\\395.txt\"\n",
       " \"..\\\\data\\\\bbc\\\\bbc\\\\tech\\\\396.txt\"\n",
       " \"..\\\\data\\\\bbc\\\\bbc\\\\tech\\\\397.txt\"\n",
       " \"..\\\\data\\\\bbc\\\\bbc\\\\tech\\\\398.txt\"\n",
       " \"..\\\\data\\\\bbc\\\\bbc\\\\tech\\\\399.txt\"\n",
       " \"..\\\\data\\\\bbc\\\\bbc\\\\tech\\\\400.txt\"\n",
       " \"..\\\\data\\\\bbc\\\\bbc\\\\tech\\\\401.txt\""
      ]
     },
     "execution_count": 7,
     "metadata": {},
     "output_type": "execute_result"
    }
   ],
   "source": [
    "files = Glob.glob(\"../data/bbc/bbc/**/*.txt\")"
   ]
  },
  {
   "cell_type": "code",
   "execution_count": 8,
   "metadata": {
    "ExecuteTime": {
     "end_time": "2020-06-20T17:19:53.163883Z",
     "start_time": "2020-06-20T17:19:53.095758Z"
    }
   },
   "outputs": [],
   "source": [
    "doc_list = Any[]\n",
    "for (i,file) in enumerate(files)\n",
    "    f = open(file,\"r\")\n",
    "    s = StringDecoder(f,\"LATIN1\", \"UTF-8\")\n",
    "    topic = split(file, \"\\\\\")[end-1]\n",
    "    lines = readlines(s)\n",
    "    heading = strip(lines[1])\n",
    "    body = strip(join([strip(line) for line in lines[2:end]]))\n",
    "    push!(doc_list, [topic, heading, body])\n",
    "    close(s)\n",
    "    close(f)\n",
    "end"
   ]
  },
  {
   "cell_type": "code",
   "execution_count": 9,
   "metadata": {
    "ExecuteTime": {
     "end_time": "2020-06-20T17:19:53.171001Z",
     "start_time": "2020-06-20T17:19:53.164892Z"
    }
   },
   "outputs": [
    {
     "data": {
      "text/html": [
       "<div class=\"data-frame\"><p>2,225 rows × 3 columns</p><table class=\"data-frame\"><thead><tr><th></th><th>topic</th><th>heading</th><th>body</th></tr><tr><th></th><th title=\"String\">String</th><th title=\"String\">String</th><th title=\"String\">String</th></tr></thead><tbody><tr><th>1</th><td>business</td><td>Ad sales boost Time Warner profit</td><td>Quarterly profits at US media giant TimeWarner jumped 76% to $1.13bn (Â£600m) for the three months to December, from $639m year-earlier.The firm, which is now one of the biggest investors in Google, benefited from sales of high-speed internet connections and higher advert sales. TimeWarner said fourth quarter sales rose 2% to $11.1bn from $10.9bn. Its profits were buoyed by one-off gains which offset a profit dip at Warner Bros, and less users for AOL.Time Warner said on Friday that it now owns 8% of search-engine Google. But its own internet business, AOL, had has mixed fortunes. It lost 464,000 subscribers in the fourth quarter profits were lower than in the preceding three quarters. However, the company said AOL&apos;s underlying profit before exceptional items rose 8% on the back of stronger internet advertising revenues. It hopes to increase subscribers by offering the online service free to TimeWarner internet customers and will try to sign up AOL&apos;s existing customers for high-speed broadband. TimeWarner also has to restate 2000 and 2003 results following a probe by the US Securities Exchange Commission (SEC), which is close to concluding.Time Warner&apos;s fourth quarter profits were slightly better than analysts&apos; expectations. But its film division saw profits slump 27% to $284m, helped by box-office flops Alexander and Catwoman, a sharp contrast to year-earlier, when the third and final film in the Lord of the Rings trilogy boosted results. For the full-year, TimeWarner posted a profit of $3.36bn, up 27% from its 2003 performance, while revenues grew 6.4% to $42.09bn. &quot;Our financial performance was strong, meeting or exceeding all of our full-year objectives and greatly enhancing our flexibility,&quot; chairman and chief executive Richard Parsons said. For 2005, TimeWarner is projecting operating earnings growth of around 5%, and also expects higher revenue and wider profit margins.TimeWarner is to restate its accounts as part of efforts to resolve an inquiry into AOL by US market regulators. It has already offered to pay $300m to settle charges, in a deal that is under review by the SEC. The company said it was unable to estimate the amount it needed to set aside for legal reserves, which it previously set at $500m. It intends to adjust the way it accounts for a deal with German music publisher Bertelsmann&apos;s purchase of a stake in AOL Europe, which it had reported as advertising revenue. It will now book the sale of its stake in AOL Europe as a loss on the value of that stake.</td></tr><tr><th>2</th><td>business</td><td>Dollar gains on Greenspan speech</td><td>The dollar has hit its highest level against the euro in almost three months after the Federal Reserve head said the US trade deficit is set to stabilise.And Alan Greenspan highlighted the US government&apos;s willingness to curb spending and rising household savings as factors which may help to reduce it. In late trading in New York, the dollar reached $1.2871 against the euro, from $1.2974 on Thursday. Market concerns about the deficit has hit the greenback in recent months. On Friday, Federal Reserve chairman Mr Greenspan&apos;s speech in London ahead of the meeting of G7 finance ministers sent the dollar higher after it had earlier tumbled on the back of worse-than-expected US jobs data. &quot;I think the chairman&apos;s taking a much more sanguine view on the current account deficit than he&apos;s taken for some time,&quot; said Robert Sinche, head of currency strategy at Bank of America in New York. &quot;He&apos;s taking a longer-term view, laying out a set of conditions under which the current account deficit can improve this year and next.&quot;Worries about the deficit concerns about China do, however, remain. China&apos;s currency remains pegged to the dollar and the US currency&apos;s sharp falls in recent months have therefore made Chinese export prices highly competitive. But calls for a shift in Beijing&apos;s policy have fallen on deaf ears, despite recent comments in a major Chinese newspaper that the &quot;time is ripe&quot; for a loosening of the peg. The G7 meeting is thought unlikely to produce any meaningful movement in Chinese policy. In the meantime, the US Federal Reserve&apos;s decision on 2 February to boost interest rates by a quarter of a point - the sixth such move in as many months - has opened up a differential with European rates. The half-point window, some believe, could be enough to keep US assets looking more attractive, and could help prop up the dollar. The recent falls have partly been the result of big budget deficits, as well as the US&apos;s yawning current account gap, both of which need to be funded by the buying of US bonds and assets by foreign firms and governments. The White House will announce its budget on Monday, and many commentators believe the deficit will remain at close to half a trillion dollars.</td></tr><tr><th>3</th><td>business</td><td>Yukos unit buyer faces loan claim</td><td>The owners of embattled Russian oil giant Yukos are to ask the buyer of its former production unit to pay back a $900m (Â£479m) loan.State-owned Rosneft bought the Yugansk unit for $9.3bn in a sale forced by Russia to part settle a $27.5bn tax claim against Yukos. Yukos&apos; owner Menatep Group says it will ask Rosneft to repay a loan that Yugansk had secured on its assets. Rosneft already faces a similar $540m repayment demand from foreign banks. Legal experts said Rosneft&apos;s purchase of Yugansk would include such obligations. &quot;The pledged assets are with Rosneft, so it will have to pay real money to the creditors to avoid seizure of Yugansk assets,&quot; said Moscow-based US lawyer Jamie Firestone, who is not connected to the case. Menatep Group&apos;s managing director Tim Osborne told the Reuters news agency: &quot;If they default, we will fight them where the rule of law exists under the international arbitration clauses of the credit.&quot;Rosneft officials were unavailable for comment. But the company has said it intends to take action against Menatep to recover some of the tax claims and debts owed by Yugansk. Yukos had filed for bankruptcy protection in a US court in an attempt to prevent the forced sale of its main production arm. The sale went ahead in December and Yugansk was sold to a little-known shell company which in turn was bought by Rosneft. Yukos claims its downfall was punishment for the political ambitions of its founder Mikhail Khodorkovsky and has vowed to sue any participant in the sale.</td></tr><tr><th>4</th><td>business</td><td>High fuel prices hit BA&apos;s profits</td><td>British Airways has blamed high fuel prices for a 40% drop in profits.Reporting its results for the three months to 31 December 2004, the airline made a pre-tax profit of Â£75m ($141m) compared with Â£125m a year earlier. Rod Eddington, BA&apos;s chief executive, said the results were &quot;respectable&quot; in a third quarter when fuel costs rose by Â£106m or 47.3%. BA&apos;s profits were still better than market expectation of Â£59m, and it expects a rise in full-year revenues.To help offset the increased price of aviation fuel, BA last year introduced a fuel surcharge for passengers.In October, it increased this from Â£6 to Â£10 one-way for all long-haul flights, while the short-haul surcharge was raised from Â£2.50 to Â£4 a leg. Yet aviation analyst Mike Powell of Dresdner Kleinwort Wasserstein says BA&apos;s estimated annual surcharge revenues - Â£160m - will still be way short of its additional fuel costs - a predicted extra Â£250m. Turnover for the quarter was up 4.3% to Â£1.97bn, further benefiting from a rise in cargo revenue. Looking ahead to its full year results to March 2005, BA warned that yields - average revenues per passenger - were expected to decline as it continues to lower prices in the face of competition from low-cost carriers. However, it said sales would be better than previously forecast. &quot;For the year to March 2005, the total revenue outlook is slightly better than previous guidance with a 3% to 3.5% improvement anticipated,&quot; BA chairman Martin Broughton said. BA had previously forecast a 2% to 3% rise in full-year revenue.It also reported on Friday that passenger numbers rose 8.1% in January. Aviation analyst Nick Van den Brul of BNP Paribas described BA&apos;s latest quarterly results as &quot;pretty modest&quot;. &quot;It is quite good on the revenue side and it shows the impact of fuel surcharges and a positive cargo development, however, operating margins down and cost impact of fuel are very strong,&quot; he said. Since the 11 September 2001 attacks in the United States, BA has cut 13,000 jobs as part of a major cost-cutting drive. &quot;Our focus remains on reducing controllable costs and debt whilst continuing to invest in our products,&quot; Mr Eddington said. &quot;For example, we have taken delivery of six Airbus A321 aircraft and next month we will start further improvements to our Club World flat beds.&quot; BA&apos;s shares closed up four pence at 274.5 pence.</td></tr><tr><th>5</th><td>business</td><td>Pernod takeover talk lifts Domecq</td><td>Shares in UK drinks and food firm Allied Domecq have risen on speculation that it could be the target of a takeover by France&apos;s Pernod Ricard.Reports in the Wall Street Journal and the Financial Times suggested that the French spirits firm is considering a bid, but has yet to contact its target. Allied Domecq shares in London rose 4% by 1200 GMT, while Pernod shares in Paris slipped 1.2%. Pernod said it was seeking acquisitions but refused to comment on specifics.Pernod&apos;s last major purchase was a third of US giant Seagram in 2000, the move which propelled it into the global top three of drinks firms. The other two-thirds of Seagram was bought by market leader Diageo. In terms of market value, Pernod - at 7.5bn euros ($9.7bn) - is about 9% smaller than Allied Domecq, which has a capitalisation of Â£5.7bn ($10.7bn; 8.2bn euros). Last year Pernod tried to buy Glenmorangie, one of Scotland&apos;s premier whisky firms, but lost out to luxury goods firm LVMH. Pernod is home to brands including Chivas Regal Scotch whisky, Havana Club rum and Jacob&apos;s Creek wine. Allied Domecq&apos;s big names include Malibu rum, Courvoisier brandy, Stolichnaya vodka and Ballantine&apos;s whisky - as well as snack food chains such as Dunkin&apos; Donuts and Baskin-Robbins ice cream. The WSJ said that the two were ripe for consolidation, having each dealt with problematic parts of their portfolio. Pernod has reduced the debt it took on to fund the Seagram purchase to just 1.8bn euros, while Allied has improved the performance of its fast-food chains.</td></tr><tr><th>6</th><td>business</td><td>Japan narrowly escapes recession</td><td>Japan&apos;s economy teetered on the brink of a technical recession in the three months to September, figures show.Revised figures indicated growth of just 0.1% - and a similar-sized contraction in the previous quarter. On an annual basis, the data suggests annual growth of just 0.2%, suggesting a much more hesitant recovery than had previously been thought. A common technical definition of a recession is two successive quarters of negative growth.The government was keen to play down the worrying implications of the data. &quot;I maintain the view that Japan&apos;s economy remains in a minor adjustment phase in an upward climb, and we will monitor developments carefully,&quot; said economy minister Heizo Takenaka. But in the face of the strengthening yen making exports less competitive and indications of weakening economic conditions ahead, observers were less sanguine. &quot;It&apos;s painting a picture of a recovery... much patchier than previously thought,&quot; said Paul Sheard, economist at Lehman Brothers in Tokyo. Improvements in the job market apparently have yet to feed through to domestic demand, with private consumption up just 0.2% in the third quarter.</td></tr><tr><th>7</th><td>business</td><td>Jobs growth still slow in the US</td><td>The US created fewer jobs than expected in January, but a fall in jobseekers pushed the unemployment rate to its lowest level in three years.According to Labor Department figures, US firms added only 146,000 jobs in January. The gain in non-farm payrolls was below market expectations of 190,000 new jobs. Nevertheless it was enough to push down the unemployment rate to 5.2%, its lowest level since September 2001. The job gains mean that President Bush can celebrate - albeit by a very fine margin - a net growth in jobs in the US economy in his first term in office. He presided over a net fall in jobs up to last November&apos;s Presidential election - the first President to do so since Herbert Hoover. As a result, job creation became a key issue in last year&apos;s election. However, when adding December and January&apos;s figures, the administration&apos;s first term jobs record ended in positive territory.The Labor Department also said it had revised down the jobs gains in December 2004, from 157,000 to 133,000.Analysts said the growth in new jobs was not as strong as could be expected given the favourable economic conditions. &quot;It suggests that employment is continuing to expand at a moderate pace,&quot; said Rick Egelton, deputy chief economist at BMO Financial Group. &quot;We are not getting the boost to employment that we would have got given the low value of the dollar and the still relatively low interest rate environment.&quot; &quot;The economy is producing a moderate but not a satisfying amount of job growth,&quot; said Ken Mayland, president of ClearView Economics. &quot;That means there are a limited number of new opportunities for workers.&quot;</td></tr><tr><th>8</th><td>business</td><td>India calls for fair trade rules</td><td>India, which attends the G7 meeting of seven leading industrialised nations on Friday, is unlikely to be cowed by its newcomer status.In London on Thursday ahead of the meeting, India&apos;s finance minister, lashed out at the restrictive trade policies of the G7 nations. He objected to subsidies on agriculture that make it hard for developing nations like India to compete. He also called for reform of the United Nations, the World Bank and the IMF.Palaniappan Chidambaram, India&apos;s finance minister, argued that these organisations need to take into account the changing world order, given India and China&apos;s integration into the global economy. He said the issue is not globalisation but &quot;the terms of engagement in globalisation.&quot; Mr Chidambaram is attending the G7 meeting as part of the G20 group of nations, which account for two thirds of the world&apos;s population. At a conference on developing enterprise hosted by UK finance minister Gordon Brown on Friday, he said that he was in favour of floating exchange rates because they help countries cope with economic shocks. &quot;A flexible exchange rate is one more channel for absorbing both positive and negative shocks,&quot; he told the conference. India, along with China, Brazil, South Africa and Russia, has been invited to take part in the G7 meeting taking place in London on Friday and Saturday. China is expected to face renewed pressure to abandon its fixed exchange rate, which G7 nations, in particular the US, have blamed for a surge in cheap Chinese exports. &quot;Some countries have tried to use fixed exchange rates. I do not wish to make any judgements,&quot; Mr Chidambaram said. Separately, the IMF warned on Thursday that India&apos;s budget deficit was too large and would hamper the country&apos;s economic growth, which it forecast to be around 6.5% in the year to March 2005. In the year to March 2004, the Indian economy grew by 8.5%.</td></tr><tr><th>9</th><td>business</td><td>Ethiopia&apos;s crop production up 24%</td><td>Ethiopia produced 14.27 million tonnes of crops in 2004, 24% higher than in 2003 and 21% more than the average of the past five years, a report says.In 2003, crop production totalled 11.49 million tonnes, the joint report from the Food and Agriculture Organisation and the World Food Programme said. Good rains, increased use of fertilizers and improved seeds contributed to the rise in production. Nevertheless, 2.2 million Ethiopians will still need emergency assistance.The report calculated emergency food requirements for 2005 to be 387,500 tonnes. On top of that, 89,000 tonnes of fortified blended food and vegetable oil for &quot;targeted supplementary food distributions for a survival programme for children under five and pregnant and lactating women&quot; will be needed.In eastern and southern Ethiopia, a prolonged drought has killed crops and drained wells. Last year, a total of 965,000 tonnes of food assistance was needed to help seven million Ethiopians. The Food and Agriculture Organisation (FAO) recommend that the food assistance is bought locally. &quot;Local purchase of cereals for food assistance programmes is recommended as far as possible, so as to assist domestic markets and farmers,&quot; said Henri Josserand, chief of FAO&apos;s Global Information and Early Warning System. Agriculture is the main economic activity in Ethiopia, representing 45% of gross domestic product. About 80% of Ethiopians depend directly or indirectly on agriculture.</td></tr><tr><th>10</th><td>business</td><td>Court rejects $280bn tobacco case</td><td>A US government claim accusing the country&apos;s biggest tobacco companies of covering up the effects of smoking has been thrown out by an appeal court.The demand for $280bn (Â£155bn) - filed by the Clinton administration in 1999 - was rejected in a 2-1 decision. The court in Washington found that the case could not be brought under federal anti-racketeering laws. Among the accused were Altria Group, RJ Reynolds Tobacco, Lorillard Tobacco, Liggett Group and Brown and Williamson. In its case, the government claimed tobacco firms manipulated nicotine levels to increase addiction, targeted teenagers with multi-billion dollar advertising campaigns, lied about the dangers of smoking and ignored research to the contrary.Prosecutors wanted the cigarette firms to surrender $280bn in profits accumulated over the past 50 years and impose tougher rules on marketing their products. But the Court of Appeals for the District of Columbia ruled that the US government could not sue the firms under legislation drawn up to counteract Mafia infiltration of business. The tobacco companies deny that they illegally conspired to promote smoking and defraud the public. They also say they have already met many of the government&apos;s demands in a landmark $206bn settlement reached with 46 states in 1998. Shares of tobacco companies closed higher after the ruling, with Altria rising 5% and Reynolds showing gains of 4.5%.</td></tr><tr><th>11</th><td>business</td><td>Ask Jeeves tips online ad revival</td><td>Ask Jeeves has become the third leading online search firm this week to thank a revival in internet advertising for improving fortunes.The firm&apos;s revenue nearly tripled in the fourth quarter of 2004, exceeding $86m (Â£46m). Ask Jeeves, once among the best-known names on the web, is now a relatively modest player. Its $17m profit for the quarter was dwarfed by the $204m announced by rival Google earlier in the week. During the same quarter, Yahoo earned $187m, again tipping a resurgence in online advertising.The trend has taken hold relatively quickly. Late last year, marketing company Doubleclick, one of the leading providers of online advertising, warned that some or all of its business would have to be put up for sale. But on Thursday, it announced that a sharp turnaround had brought about an unexpected increase in profits. Neither Ask Jeeves nor Doubleclick thrilled investors with their profit news, however. In both cases, their shares fell by some 4%. Analysts attributed the falls to excessive expectations in some quarters, fuelled by the dramatic outperformance of Google on Tuesday.</td></tr><tr><th>12</th><td>business</td><td>Indonesians face fuel price rise</td><td>Indonesia&apos;s government has confirmed it is considering raising fuel prices by as much as 30%.Millions of Indonesians use kerosene for basic cooking, and prices have been heavily subsidised for years. President Susilo Bambang Yudhoyono&apos;s government has said it wants to curb fuel subsidies and direct the money into aid programmes for the poor. But critics argue cutting subsidies will hurt the poorer families that his government says it wants to help. Millions of people were left homeless in Indonesia Aceh&apos;s region following the earthquake and tsunami disaster in late December.Indonesia pays subsidies to importers in order to stabilise domestic fuel prices, but higher oil prices have forced the government to spend more on holding prices down. It spent 59.2 trillion rupiah ($6.58bn; Â£3.5bn) on fuel subsidies in 2004, a sum far in excess of its original projection of 14.5 trillion rupiah. Since President Yudhoyono&apos;s government came to power in October, it has indicated its intention of raising domestic fuel prices by cutting subsidies. &quot;The (January to March) quarter of this year is the best time for us to increase fuel prices,&quot; said Sri Mulyani Indrawati, State Minister for National Development Planning. &quot;We are still considering if a 30% hike is suitable at the moment. The sooner the better for the state budget.&quot; The BBC&apos;s correspondent in Jakarta, Rachel Harvey, told World Business Report that there was likely to be a strong public reaction to any price rise. &quot;The big question is whether they go for one big, short, sharp shock and raise prices between 20% and 30% or whether they try to stagger it,&quot; she said. Indonesia&apos;s previous government, led by President Megawati Sukarnoputri, also attempted to cut subsidies in 2003, but was forced to back down in the face of public protests.</td></tr><tr><th>13</th><td>business</td><td>Peugeot deal boosts Mitsubishi</td><td>Struggling Japanese car maker Mitsubishi Motors has struck a deal to supply French car maker Peugeot with 30,000 sports utility vehicles (SUV).The two firms signed a Memorandum of Understanding, and say they expect to seal a final agreement by Spring 2005. The alliance comes as a badly-needed boost for loss-making Mitsubishi, after several profit warnings and poor sales. The SUVs will be built in Japan using Peugeot&apos;s diesel engines and sold mainly in the European market. Falling sales have left Mitsubishi Motors with underused capacity, and the production deal with Peugeot gives it a chance to utilise some of it.In January, Mitsubishi Motors issued its third profits warning in nine months, and cut its sales forecasts for the year to March 2005. Its sales have slid 41% in the past year, catalysed by the revelation that the company had systematically been hiding records of faults and then secretly repairing vehicles. As a result, the Japanese car maker has sought a series of financial bailouts. Last month it said it was looking for a further 540bn yen ($5.2bn; Â£2.77bn) in fresh financial backing, half of it from other companies in the Mitsubishi group. US-German carmaker DaimlerChrylser, a 30% shareholder in Mitsubishi Motors, decided in April 2004 not to pump in any more money. The deal with Peugeot was celebrated by Mitsubishi&apos;s newly-appointed chief executive Takashi Nishioka, who took over after three top bosses stood down last month to shoulder responsibility for the firm&apos;s troubles. Mitsubishi Motors has forecast a net loss of 472bn yen in its current financial year to March 2005. Last month, it signed a production agreement with Japanese rival Nissan Motor to supply it with 36,000 small cars for sale in Japan. It has been making cars for Nissan since 2003.</td></tr><tr><th>14</th><td>business</td><td>Telegraph newspapers axe 90 jobs</td><td>The Daily and Sunday Telegraph newspapers are axing 90 journalist jobs - 17% of their editorial staff.The Telegraph Group says the cuts are needed to fund an Â£150m investment in new printing facilities. Journalists at the firm met on Friday afternoon to discuss how to react to the surprise announcement. The cuts come against a background of fierce competition for readers and sluggish advertising revenues amid competition from online advertising. The National Union of Journalists has called on the management to recall the notice of redundancy by midday on Monday or face a strike ballot.Pearson&apos;s Financial Times said last week it was offering voluntary redundancy to about 30 reporters.The National Union of Journalists said it stood strongly behind the journalists and did not rule out a strike. &quot;Managers have torn up agreed procedures and kicked staff in the teeth by sacking people to pay for printing facilities,&quot; said Jeremy Dear, NUJ General Secretary. NUJ official Barry Fitzpatrick said the company had ignored the 90-day consultation period required for companies planning more than 10 redundancies. &quot;They have shown a complete disregard for the consultative rights of our members,&quot; said Mr Fitzpatrick, who added that the company now planned to observe the consultation procedures. The two Telegraph titles currently employ 521 journalists.Some broadsheet newspapers - especially those which have not moved to a tabloid format - have suffered circulation declines, which are hitting revenues. The Telegraph has announced no plans to go tabloid although both The Independent and The Times have seen circulation rise since shrinking in size.The Guardian is hedging its bets, planning a larger tabloid format like those popular in continental Europe. The Telegraph Group was bought by the Barclay twins - Frederick and David - last year, having previously been owned by Lord Conrad Black&apos;s Hollinger International. The brothers are currently mulling the sale of another of their businesses, retailer Littlewoods.Telegraph executive Murdoch MacLennan said the two newspapers would add eight colour pages in the coming months.&quot;Journalists are the lifeblood of any newspaper, and maintaining the quality of The Daily Telegraph and The Sunday Telegraph for our readers is vital,&quot; he said. &quot;However, action to improve our production capability and secure our titles against the competition is also vital.&quot; Many newspapers are investing in new printing machinery that enables them to print more colour pages, or in some cases, have colour on every page. They are hoping that by boosting colour it will make their publications more attractive to advertisers and readers alike. In recent months News Corp&apos;s News International unit, which publishes The Sun and the News of the World, the Guardian Media Group, Trinity Mirror and the Daily Mail &amp; General Trust have all announced substantial investments in new printing plants.</td></tr><tr><th>15</th><td>business</td><td>Air passengers win new EU rights</td><td>Air passengers who are unable to board their flights because of overbooking, cancellations or flight delays can now demand greater compensation.New EU rules set compensation at between 250 euros (Â£173) and 600 euros, depending on the length of the flight. The new rules will apply to all scheduled and charter flights, including budget airlines. Airlines have attacked the legislation saying they could be forced to push prices higher to cover the extra cost. The European Commission is facing two legal challenges - one from the European Low-fare Airlines Association (ELAA) and the other from the International Air Transport Association (IATA), which has attacked the package as a &quot;bad piece of legislation&quot;. Previously, passengers could claim between 150 euros and 300 euros if they had been stopped from boarding.However, only scheduled flight operators were obliged to offer compensation in cases of overbooking and they did not have to offer compensation for flight cancellations.The EU decided to increase passenger compensation in a bid to deter airlines from deliberately overbooking flights. Overbooking can often lead to &apos;bumping&apos; - when a passenger is moved to a later flight. When this happens against a passenger&apos;s will, airlines will now have to offer compensation. In addition, if a flight is cancelled or delayed for more than two hours through the fault of the airline, all passengers must be paid compensation.However, airlines do not have to offer compensation if flights are cancelled or delayed due to &quot;extraordinary circumstances&quot;. Airlines fear that &quot;extraordinary circumstances&quot; may not include bad weather, security alerts or strikes - events which are outside of their control. All EU-based airlines and operators of flights which take off from the EU will have to adhere to the new compensation regime which came into force on Thursday. Low-cost airlines have criticised the new compensation levels, arguing that the pay-out could be worth more than the ticket. &quot;It&apos;s a preposterous piece of legislation, we among all airlines are fighting this,&quot; Ryanair deputy chief executive Michael Cawley told Radio 4&apos;s Today programme.The European Regions Airline Association (ERAA) claims that neither airlines nor consumers were consulted over the changes. Andy Clarke, ERAA director of air transport, said that the EC advice misleads customers as it leads them to believe that airlines could be liable for payouts if flights are delayed because of bad weather.EC spokeswoman Marja Quillinan-Meiland conceded there were &quot;grey areas&quot; but said &quot;these are not as big as the airlines are making out&quot;. In cases of dispute, national enforcement bodies would decide whether the passenger had a case, she said. New technology means it is easier for airlines to take off and land in bad weather, she added. The ERAA&apos;s Mr Clarke also warned that while airlines would comply with the new rules, the extra costs would be passed onto passengers. &quot;We reckon it&apos;s going to cost European air passengers - not the airlines, the airlines have no money, it has to be paid by passengers - 1.5bn euros, that&apos;s over Â£1bn a year loaded onto European passengers,&quot; Mr Clarke said. &quot;That&apos;s basically a transfer of money from passengers whose journeys are not disrupted to passengers whose journeys are disrupted.&quot;On Wednesday, Jacques Barrot, vice president of the European Commission and also Commissioner for Transport, said that the changes were necessary. &quot;The boom in air travel needs to be accompanied by proper protection of passengers&apos; right.&quot; &quot;This is a concrete example of how the Union benefits people&apos;s daily lives,&quot; he added. The EC has launched an information campaign in airports and travel agencies to inform airline passengers of their new rights.</td></tr><tr><th>16</th><td>business</td><td>China keeps tight rein on credit</td><td>China&apos;s efforts to stop the economy from overheating by clamping down on credit will continue into 2005, state media report.The curbs were introduced earlier this year to ward off the risk that rapid expansion might lead to soaring prices. There were also fears that too much stress might be placed on the fragile banking system. Growth in China remains at a breakneck 9.1%, and corporate investment is growing at more than 25% a year. The breakneck pace of economic expansion has kept growth above 9% for more than a year. Rapid tooling-up of China&apos;s manufacturing sector means a massive demand for energy - one of the factors which has kept world oil prices sky-high for most of this year. In theory, the government has a 7% growth target, but continues to insist that the overshoot does not mean a &quot;hard landing&quot; in the shape of an overbalancing economy. A low exchange rate - China&apos;s yuan is pegged to a rate of 8.28 to the dollar, which seems to be in relentless decline - means Chinese exports are cheap on world markets. China has thus far resisted international pressure to break the link or at least to shift the level of its peg. To some extent, the credit controls do seem to be taking effect. Industrial output grew 15.7% in the year to October, down from 23% in February, and inflation slowed to 4.3% - although retail sales are still booming.</td></tr><tr><th>17</th><td>business</td><td>Parmalat boasts doubled profits</td><td>Parmalat, the Italian food group at the centre of one of Europe&apos;s most painful corporate scandals, has reported a doubling in profit.Its pre-tax earnings in the fourth quarter were 77m euros (Â£53m; $100m), up from 38m in the same period of 2003. Less welcome was the news that the firm had been fined 11m euros for having violated takeover rules five years ago. The firm sought bankruptcy protection in December 2003 after disclosing a 4bn-euro hole in its accounts. Overall, the company&apos;s debt is close to 12bn euros, and is falling only slowly. Its brands, well-known in Italy and overseas, have continued to perform strongly, however, and have barely lost revenue since the scandal broke.But a crucial factor for the company&apos;s future is the legal unwinding of its intensely complex financial position. On Tuesday, the company&apos;s administrator, turnaround expert Enrico Bondi, sued Morgan Stanley, its former banker, to return 136m euros relating to a 2003 bond deal. That brought to 49 the number of banks that Mr Bondi has sued, a mass of legal action that could bring in as much as 3bn euros. The company has also sued former auditors and financial advisors for damages. And criminal cases against the company&apos;s former management are proceeding separately.</td></tr><tr><th>18</th><td>business</td><td>India&apos;s rupee hits five-year high</td><td>India&apos;s rupee has hit a five-year high after Standard &amp; Poor&apos;s (S&amp;P) raised the country&apos;s foreign currency rating.The rupee climbed to 43.305 per US dollar on Thursday, up from a close of 43.41. The currency has gained almost 1% in the past three sessions. S&amp;P, which rates borrowers&apos; creditworthiness, lifted India&apos;s rating by one notch to &apos;BB+&apos;. With Indian assets now seen as less of a gamble, more cash is expected to flow into its markets, buoying the rupee.&quot;The upgrade is positive and basically people will use it as an excuse to come back to India,&quot; said Bhanu Baweja, a strategist at UBS. &quot;Money has moved out from India in the first two or three weeks of January into other markets like Korea and Thailand and this upgrade should lead to a reversal.&quot; India&apos;s foreign currency rating is now one notch below investment grade, which starts at &apos;BBB-&apos;. The increase has put it on the same level as Romania, Egypt and El Salvador, and one level below Russia.</td></tr><tr><th>19</th><td>business</td><td>India widens access to telecoms</td><td>India has raised the limit for foreign direct investment in telecoms companies from 49% to 74%.Communications Minister Dayanidhi Maran said that there is a need to fund the fast-growing mobile market. The government hopes to increase the number of mobile users from 95 million to between 200 and 250 million by 2007. &quot;We need at least $20bn (Â£10.6bn) in investment and part of this has to come as foreign direct investment,&quot; said Mr Maran. The decision to raise the limit for foreign investors faced considerable opposition from the communist parties, which give crucial support to the coalition headed by Prime Minister Manmohan Singh. Potential foreign investors will however need government approval before they increase their stake beyond 49%, Mr Maran said. Key positions, such as those of chief executive, chief technology officer and chief financial officer are to be held by Indians, he added.Analysts and investors have welcomed the government decision. &quot;It is a positive development for carriers and the investment community, looking to take a longer-term view of the huge growth in the Indian telecoms market,&quot; said Gartner&apos;s principal analyst Kobita Desai. &quot;The FDI relaxation coupled with rapid local market growth could really ignite interest in the Indian telecommunication industry,&quot; added Ernst and Young&apos;s Sanjay Mehta. Investment bank Morgan Stanley has forecast that India&apos;s mobile market is likely to grow by about 40% a year until 2007. The Indian mobile market is currently dominated by four companies, Bharti Televentures which has allied itself with Singapore Telecom, Essar which is linked with Hong Kong-based Hutchison Whampoa, the Sterling group and the Tata group.</td></tr><tr><th>20</th><td>business</td><td>Call centre users &apos;lose patience&apos;</td><td>Customers trying to get through to call centres are getting impatient and quicker to hang up, a survey suggests.Once past the welcome message, callers on average hang up after just 65 seconds of listening to canned music. The drop in patience comes as the number of calls to call centres is growing at a rate of 20% every year. &quot;Customers are getting used to the idea of an &apos;always available&apos; society,&quot; says Cara Diemont of IT firm Dimension Data, which commissioned the survey. However, call centres also saw a sharp increase of customers simply abandoning calls, she says, from just over 5% in 2003 to a record 13.3% during last year. When automated phone message systems are taken out of the equation, where customers have to pick their way through multiple options and messages, the number of abandoned calls is even higher - a sixth of all callers give up rather than wait. One possible reason for the lack in patience, Ms Diemont says, is the fact that more customers are calling &apos;on the move&apos; using their mobile phones.The surge in customers trying to get through to call centres is also a reflection of the centres&apos; growing range of tasks. &quot;Once a call centre may have looked after mortgages, now its agents may also be responsible for credit cards, insurance and current accounts,&quot; Ms Diemont says. Problems are occurring because increased responsibility is not going hand-in-hand with more training, the survey found.In what Dimension Data calls an &quot;alarming development&quot;, the average induction time for a call centre worker fell last year from 36 to just 21 days, leaving &quot;agents not equipped to deal with customers&quot;. This, Ms Diemont warns, is &quot;scary&quot; and not good for the bottom line either. Poor training frustrates both call centre workers and customers. As a result, call centres have a high &quot;churn rate&quot;, with nearly a quarter of workers throwing in the towel every year, which in turn forces companies to pay for training new staff. Resolution rates - the number of calls where a customer&apos;s query is resolved to mutual satisfaction - are running at just 50%. When the query is passed on to a second or third person - a specialist or manager - rates rise to about 70%, but that is still well below the industry target of an 85% resolution rate.Suggestions that &quot;outsourcing&quot; - relocating call centres to low-cost countries like India or South Africa - is to blame are wrong, Ms Diemont says.There are &quot;no big differences in wait time and call resolution&quot; between call centres based in Europe or North America and those in developing countries around the world. &quot;You can make call centres perform anywhere if you have good management and the right processes in place,&quot; she says. However, companies that decide to &quot;offshore&quot; their operations are driven not just by cost considerations. Only 42% of them say that saving money is the main consideration when closing domestic call centre operations. Half of them argue that workers in other countries offer better skills for the money. But not everybody believes that outsourcing and offshoring are the solution. Nearly two-thirds of all firms polled for the survey have no plans to offshore their call centres. They give three key reasons for not making the move:- call centre operations are part of their business &quot;core function&quot;,- they are worried about the risk of going abroad,- they fear that they will damage their brand if they join the offshoring drive. The survey was conducted by Sunovate on behalf of Dimension Data, and is based on in-depth questionnaires of 166 call centres in 24 countries and five continents. What are your experiences with call centres? Are you happy to listen to Vivaldi or Greensleeves, or do you want an immediate response? And if you work in a call centre: did your training prepare you for your job?</td></tr><tr><th>21</th><td>business</td><td>Rank &apos;set to sell off film unit&apos;</td><td>Leisure group Rank could unveil plans to demerge its film services unit and sell its media business, reports claim.Rank, formerly famous for the Carry On series, will expose the shake-up at the announcement of its results on Friday, the Sunday Telegraph reported. Advisors Goldman Sachs are understood to have valued its demerged Deluxe Film unit at Â£300m, the report added. Speculation of a possible shake-up has mounted since Rank announced a study into a possible demerger in September. Since Mike Smith&apos;s appointment as chief executive in 1999, the group has focused on fewer businesses and embarked on a major cost-cutting programme which has seen it dispose of a number of businesses, including the Odeon cinema chain and the Pinewood studios. The move left the group with three core divisions: gaming, Hard Rock and Deluxe Films, which provides technical services to Hollywood studios.Rank now aims to concentrate on its gaming, bars and hotels business, including extending its Hard Rock brand to its casinos - trials of which have been a success. It also owns Deluxe Media, which makes and distributes DVDs and videos. However, that business is seen as less successful. Last year it made profits of Â£21.5m on a turnover of Â£392.1m and experts suggest its success in moving to DVDs from VHS video could make it an attractive target for a private equity buyer. A spokesman for the firm refused to comment on the reports, but said any results from the demerger study were likely to be set out when it unveiled its results on Friday. Analysts predict the firm is likely to report a slight drop in annual pre-tax profits to Â£170m from Â£194m last year. Formed in the 1940s the firm was a leading UK film producer and cinema owner for many years. It has now diversified into a range of other leisure activities - mainly in the UK - including hotels, roadside service areas and holiday centres. It now owns 34 Grosvenor casinos, the Mecca Bingo chain and more than 100 Hard Rock Cafes in 38 countries.</td></tr><tr><th>22</th><td>business</td><td>Sluggish economy hits German jobs</td><td>The number of people out of work in Europe&apos;s largest economy has risen for the tenth straight month as growth remains stubbornly slow.German unemployment rose 7,000 in November to 4.464 million people, or 10.8% of the workforce. The seasonally adjusted rise showed a smaller rise than expected, as government measures to encourage job creation began to take effect. But officials said stagnant growth was still stifling the job market. &quot;There are clear signs of a revival in domestic demand,&quot; said Frank-Juergen Weise, head of the Federal Labour Agency, in a statement. &quot;But growth of 0.1%... in the third quarter is still insufficient to deliver positive momentum to the labour market.&quot; High oil prices and the soaring euro - which damages the competitiveness of exporters - were also having a negative effect, he said. The brunt of the unemployment is still being felt in the eastern part of Germany, where the rate is 18.8%.With unemployment stuck above 4 million for years, the government of Chancellor Gerhard Schroeder has put job creation at the top of the agenda. A controversial package of measures to shake up incentives to get back to work, paid for by cutting some cherished benefits, has sparked anger among some German workers. Strikes in a number of industries, notably among the country&apos;s iconic carmakers, have demonstrated the displeasure - as well as fears about further job losses as outsourcing takes hold. Among the new initiatives are the so-called &quot;one-euro jobs&quot; which top up unemployment benefit. The scheme&apos;s formal launch is January, but hirings for these positions are already taking place and affecting the unemployment statistics, economists said. &quot;The deterioration of the labour market does not come as a surprise,&quot; said Isabelle Kronawitter at Hypovereinsbank. &quot;Job creation measures probably prevented a stronger increase in the seasonally adjusted numbers.&quot;</td></tr><tr><th>23</th><td>business</td><td>Mixed signals from French economy</td><td>The French economy picked up speed at the end of 2004, official figures show - but still looks set to have fallen short of the government&apos;s hopes.According to state statistics body INSEE, growth for the three months to December was a seasonally-adjusted 0.7-0.8%, ahead of the 0.6% forecast. If confirmed, that would be the best quarterly showing since early 2002. It leaves GDP up 2.3% for the full year, but short of the 2.5% which the French government had predicted.Despite the apparent shortfall in annual economic growth, the good quarterly figures - a so-called &quot;flash estimate&quot; - mark a continuing trend of improving indicators for the health of the French economy. The government is reiterating a 2.5% target for 2005, while the European Central Bank is making positive noises for the 12-nation eurozone as a whole. Also on Friday, France&apos;s industrial output for December was released, showing 0.7% growth. &quot;The numbers are good,&quot; said David Naude, economist at Deutsche Bank. &quot;They send a positive signal of a rebound in output... and open the way for a continuation in that trend into the New Year.&quot; Service sector activity improved in January, hitting a seven-month high. But unemployment remains high at about 10%.</td></tr><tr><th>24</th><td>business</td><td>US trade gap hits record in 2004</td><td>The gap between US exports and imports hit an all-time high of $671.7bn (Â£484bn) in 2004, latest figures show.The Commerce Department said the trade deficit for all of last year was 24.4% above the previous record - 2003&apos;s imbalance of $496.5bn. The deficit with China, up 30.5% at $162bn, was the largest ever recorded with a single country. However, on a monthly basis the US trade gap narrowed by 4.9% in December to Â£56.4bn. The US consumer&apos;s appetite for all things from oil to imported cars, and even wine and cheese, reached record levels last year and the figures are likely to spark fresh criticism of President Bush&apos;s economic policies.Democrats claim the administration has not done enough to clamp down on unfair foreign trade practices. For example, they believe China&apos;s currency policy - which US manufacturers claim has undervalued the yuan by as much as 40% - has given China&apos;s rapidly expanding economy an unfair advantage against US competitors.Meanwhile, the Bush administration argues that the US deficit reflects the fact the America is growing at faster rate than the rest of the world, spurring on more demand for imported goods. Some economists say this may allow an upward revision of US economic growth in the fourth quarter. But others point out that the deficit has reached such astronomical proportions that foreigners many choose not to hold as many dollar-denominated assets, which may in turn harm growth. For all of 2004, US exports rose 12.3% to $1.15 trillion, but imports rose even faster by 16.3% to a new record of $1.76 trillion. Foreign oil exports surged by 35.7% to a record $180.7bn, reflecting the rally in global oil prices and increasing domestic demand. Imports were not affected by the dollar&apos;s weakness last year. &quot;We expect the deficit to continue to widen in 2005 even if the dollar gets back to its downward trend,&quot; said economist Marie-Pierre Ripert at IXIS.</td></tr><tr><th>25</th><td>business</td><td>Yukos loses US bankruptcy battle</td><td>A judge has dismissed an attempt by Russian oil giant Yukos to gain bankruptcy protection in the US.Yukos filed for Chapter 11 protection in Houston in an unsuccessful attempt to halt the auction of its Yugansk division by the Russian authorities. The court ruling is a blow to efforts to get damages for the sale of Yugansk, which Yukos claims was illegally sold. Separately, former Yukos boss Mikhail Khodorkovsky began testimony on Friday in his trial for fraud and tax evasion.Mr Khodorkovsky - who has been in jail for more than a year - pleaded not guilty to the charges brought against him and denied involvement in any criminal activities. &quot;I pride myself on heading for 15 years a number of successful companies and helping other enterprises rise from their knees,&quot; he told a Russian court.Yugansk was auctioned to help pay off $27.5bn (Â£14.5bn) in unpaid taxes. It was bought for $9.4bn by a previously-unknown group, which was in turn bought up almost immediately by state-controlled oil company Rosneft.Texas Judge Letitia Clark said Yukos did not have enough of a US presence to establish US jurisdiction. &quot;The vast majority of the business and financial activities of Yukos continue to occur in Russia,&quot; Judge Clark said in her ruling. &quot;Such activities require the continued participation of the Russian government.&quot; Yukos had argued that a US court was entitled to declare it bankrupt before its Yugansk unit was sold, since it has local bank accounts and its chief finance officer Bruce Misamore lives in Houston. Yukos claimed it sought help in the US because other forums - Russian courts and the European Court of Human Rights - were either unfriendly or offered less protection. Russia had indicated it would in any case not abide by the rulings of the US courts.In her ruling, the judge acknowledged that &quot;it appears likely that agencies of the Russian government have acted in a manner that would be considered confiscatory under United States law&quot;. But she said her role was simply to decide on jurisdiction. The US court&apos;s jurisdiction had been challenged by Deutsche Bank and Gazpromneft, a former unit of Russian gas monopoly Gazprom which is due to merge with Rosneft. Analysts said the ability of Gazprom and Rosneft to trade freely overseas had been stifled while the ownership of Yugansk remained unclear.Yukos said it would consider its options in light of the ruling. However, it claimed that the court had backed its argument in four out of five key issues. &quot;We believe the merits of our case are strong and simple,&quot; said chief executive Steven Theede. &quot;Our assets were illegally seized. We want them back or damages paid.&quot;</td></tr><tr><th>26</th><td>business</td><td>Safety alert as GM recalls cars</td><td>The world&apos;s biggest carmaker General Motors (GM) is recalling nearly 200,000 vehicles in the US on safety grounds, according to federal regulators.The National Highway Traffic Safety Administration (NHTSA) said the largest recall involves 155,465 pickups, vans and sports utility vehicles (SUVs). This is because of possible malfunctions with the braking systems. The affected vehicles in the product recall are from the 2004 and 2005 model years, GM said. Those vehicles with potential faults are the Chevrolet Avalanche, Express, Kodiak, Silverade and Suburban; the GMC Savana, Sierra and Yukon.The NHTSA said a pressure accumulator in the braking system could crack during normal driving and fragments could injure people if the hood was open. This could allow hydraulic fluid to leak, which could make it harder to brake or steer and could cause a crash, it warned. GM is also recalling 19,924 Cadillac XLR coupes, SRX SUVs and Pontiac Grand Prix sedans from the 2004 model year. This is because the accelerator pedal may not work properly in extremely cold temperatures, requiring more braking. In addition, the car giant is calling back 17,815 Buick Raniers, Chevrolet Trailblazers, GMC Envoys and Isuzu Ascenders from the 2005 model years because the windshield is not properly fitted and could fall out in a crash. However, GM stressed that it did not know of any injuries related to the problems. News of the recall follows an announcement last month that GM expects earnings this year be lower than in 2004. The world&apos;s biggest car maker is grappling with losses in its European business, weak US sales and now a product recall. In January, GM said higher healthcare costs in North America, and lower profits at its financial services subsidiary would hurt its performance in 2005.</td></tr><tr><th>27</th><td>business</td><td>Steel firm &apos;to cut&apos; 45,000 jobs</td><td>Mittal Steel, one of the world&apos;s largest steel producers, could cut up to 45,000 jobs over the next five years, its chief executive has said.The Netherlands-based company is due to complete its $4.5bn acquisition of US firm ISG next month, making it one of the largest global firms of its kind. However, Lakshmi Mittal has told investors the combined company will have to shed thousands of jobs. The Indian-born magnate did not say where the job losses would fall.Mr Mittal told US investors that once the acquisition of International Steel Group was completed, the company would aim to reduce its workforce by between 7,000 and 8,000 annually. This could see its workforce trimmed from 155,000 to 110,000 staff by 2010. &quot;We are investing in modernisation so employees will go down,&quot; Mr Mittal told the conference in Chicago.Mittal Steel was formed last year when Mr Mittal&apos;s LNM Holdings merged with Dutch firm Ispat. A combination of Mittal Steel and ISG would have annual sales of $32bn (Â£16.7bn; 24.1bn euros) and a production capacity of 70 million tonnes.A Mittal Steel spokeman said that no decisions on job cuts have been made yet. &quot;We are trying to create a sustainable steel industry and if we want to do that, we have to invest in new technology,&quot; a spokesman said. Mittal Steel has operations in 14 countries. Many of its businesses - particularly those in eastern Europe - were previously state owned and have huge workforces. It employs 50,000 staff in Kazakhstan alone, and has large operations in Romania, the Czech Republic, South Africa and the United States.</td></tr><tr><th>28</th><td>business</td><td>Strong demand triggers oil rally</td><td>Crude oil prices surged back above the $47 a barrel mark on Thursday after an energy market watchdog raised its forecasts for global demand.The International Energy Agency (IEA) warned demand for Opec&apos;s crude in the first quarter would outstrip supply. The IEA raised its estimate of 2005 oil demand growth by 80,000 barrels a day to 84 million barrels a day. US light crude rose $1.64 to $47.10, while Brent crude in London gained $1.32 to $44.45.The Paris-based IEA watchdog, which advises industrialized nations on energy policy, said the upward revision was due to stronger demand from China and other Asian countries. The fresh rally in crude prices followed gains on Wednesday which were triggered by large falls in US crude supplies following a cold spell in North America in January. The US Department of Energy reported that crude stockpiles had fallen 1m barrels to 294.3m. On top of that, ongoing problems for beleaguered Russian oil giant Yukos have also prompted the IEA to revise its output estimates from Russia - a major non-Opec supplier. &quot;I think that prices are now beginning to set a new range and it looks like the $40 to $50 level,&quot; said energy analyst Orin Middleton of Barclays Capital.</td></tr><tr><th>29</th><td>business</td><td>UK firm faces Venezuelan land row</td><td>Venezuelan authorities have said they will seize land owned by a British company as part of President Chavez&apos;s agrarian reform programme.Officials in Cojedes state said on Friday that farmland owned by a subsidiary of the Vestey Group would be taken and used to settle poor farmers. The government is cracking down on so-called latifundios, or large rural estates, which it says are lying idle. The Vestey Group said it had not been informed of any planned seizure.The firm, whose Agroflora subsidiary operates 13 farms in Venezuela, insisted that it had complied fully with Venezuelan law. Prosecutors in the south of the country have targeted Hato El Charcote, a beef cattle ranch owned by Agroflora. According to Reuters, they plan to seize 12,900 acres (5,200 hectares) from the 32,000 acre (13,000 hectare) farm.Officials claim that Agroflora does not possess valid documents proving its ownership of the land in question. They also allege that areas of the ranch are not being used for any form of active production. &quot;The legal boundaries did not match up with the actual boundaries and there is surplus,&quot; state prosecutor Alexis Ortiz told Reuters. &quot;As a consequence the government has taken action.&quot;Controversial reforms passed in 2001 give the government the right to take control of private property if it is declared idle or ownership cannot be traced back to the 19th Century.Critics say the powers - which President Chavez argues are needed to help the country&apos;s poorest citizens and develop the Venezuelan economy - trample all over private property rights. The Vestey Group said it had owned the land since 1920 and would co-operate fully with the authorities. But a spokesman added: &quot;Agroflora is absolutely confident that what it has submitted will demonstrate the legality of its title to the land.&quot; The company pointed out that the farm, which employs 300 workers, provides meat solely for the Venezuelan market.Last month, the government said it had identified more than 500 idle farms and had yet to consider the status of a further 40,000. The authorities said landowners whose titles were in order and whose farms were productive had &quot;nothing to fear&quot;. Under President Chavez, the Venezuelan government has steadily expanded the state&apos;s involvement in the country&apos;s economy. It recently said all mining contracts involving foreign firms would be examined to ensure they provided sufficient economic benefits to the state.</td></tr><tr><th>30</th><td>business</td><td>Soaring oil &apos;hits world economy&apos;</td><td>The soaring cost of oil has hit global economic growth, although world&apos;s major economies should weather the storm of price rises, according to the OECD.In its latest bi-annual report, the OECD cut its growth predictions for the world&apos;s main industrialised regions. US growth would reach 4.4% in 2004, but fall to 3.3% next year from a previous estimate of 3.7%, the OECD said. However, the Paris-based economics think tank said it believed the global economy could still regain momentum.Forecasts for Japanese growth were also scaled back to 4.0% from 4.4% this year and 2.1% from 2.8% in 2005. But the outlook was worst for the 12-member eurozone bloc, with already sluggish growth forecasts slipping to 1.8% from 2.0% this year and 1.9% from 2.4% in 2005, the OECD said. Overall, the report forecast total growth of 3.6% in 2004 for the 30 member countries of the OECD, slipping to 2.9% next year before recovering to 3.1% in 2006. &quot;There are nonetheless good reasons to believe that despite recent oil price turbulence the world economy will regain momentum in a not-too-distant future,&quot; said Jean-Philippe Cotis, the OECD&apos;s chief economist. The price of crude is about 50% higher than it was at the start of 2004, but down on the record high of $55.67 set in late October.A dip in oil prices and improving jobs prospects would improve consumer confidence and spending, the OECD said. &quot;The oil shock is not enormous by historical standards - we have seen worse in the seventies. If the oil price does not rise any further, then we think the shock can be absorbed within the next few quarters,&quot; Vincent Koen, a senior economist with the OECD, told the BBC&apos;s World Business Report. &quot;The recovery that was underway, and has been interrupted a bit by the oil shock this year, would then regain momentum in the course of 2005.&quot; China&apos;s booming economy and a &quot;spectacular comeback&quot; in Japan - albeit one that has faltered in recent months - would help world economic recovery, the OECD said. &quot;Supported by strong balance sheets and high profits, the recovery of business investment should continue in North America and start in earnest in Europe,&quot; it added. However, the report warned: &quot;It remains to be seen whether continental Europe will play a strong supportive role through a marked upswing of final domestic demand.&quot; The OECD highlighted current depressed household expenditure in Germany and the eurozone&apos;s over-reliance on export-led growth.</td></tr><tr><th>&vellip;</th><td>&vellip;</td><td>&vellip;</td><td>&vellip;</td></tr></tbody></table></div>"
      ],
      "text/latex": [
       "\\begin{tabular}{r|ccc}\n",
       "\t& topic & heading & body\\\\\n",
       "\t\\hline\n",
       "\t& String & String & String\\\\\n",
       "\t\\hline\n",
       "\t1 & business & Ad sales boost Time Warner profit & Quarterly profits at US media giant TimeWarner jumped 76\\% to \\$1.13bn (Â£600m) for the three months to December, from \\$639m year-earlier.The firm, which is now one of the biggest investors in Google, benefited from sales of high-speed internet connections and higher advert sales. TimeWarner said fourth quarter sales rose 2\\% to \\$11.1bn from \\$10.9bn. Its profits were buoyed by one-off gains which offset a profit dip at Warner Bros, and less users for AOL.Time Warner said on Friday that it now owns 8\\% of search-engine Google. But its own internet business, AOL, had has mixed fortunes. It lost 464,000 subscribers in the fourth quarter profits were lower than in the preceding three quarters. However, the company said AOL's underlying profit before exceptional items rose 8\\% on the back of stronger internet advertising revenues. It hopes to increase subscribers by offering the online service free to TimeWarner internet customers and will try to sign up AOL's existing customers for high-speed broadband. TimeWarner also has to restate 2000 and 2003 results following a probe by the US Securities Exchange Commission (SEC), which is close to concluding.Time Warner's fourth quarter profits were slightly better than analysts' expectations. But its film division saw profits slump 27\\% to \\$284m, helped by box-office flops Alexander and Catwoman, a sharp contrast to year-earlier, when the third and final film in the Lord of the Rings trilogy boosted results. For the full-year, TimeWarner posted a profit of \\$3.36bn, up 27\\% from its 2003 performance, while revenues grew 6.4\\% to \\$42.09bn. \"Our financial performance was strong, meeting or exceeding all of our full-year objectives and greatly enhancing our flexibility,\" chairman and chief executive Richard Parsons said. For 2005, TimeWarner is projecting operating earnings growth of around 5\\%, and also expects higher revenue and wider profit margins.TimeWarner is to restate its accounts as part of efforts to resolve an inquiry into AOL by US market regulators. It has already offered to pay \\$300m to settle charges, in a deal that is under review by the SEC. The company said it was unable to estimate the amount it needed to set aside for legal reserves, which it previously set at \\$500m. It intends to adjust the way it accounts for a deal with German music publisher Bertelsmann's purchase of a stake in AOL Europe, which it had reported as advertising revenue. It will now book the sale of its stake in AOL Europe as a loss on the value of that stake. \\\\\n",
       "\t2 & business & Dollar gains on Greenspan speech & The dollar has hit its highest level against the euro in almost three months after the Federal Reserve head said the US trade deficit is set to stabilise.And Alan Greenspan highlighted the US government's willingness to curb spending and rising household savings as factors which may help to reduce it. In late trading in New York, the dollar reached \\$1.2871 against the euro, from \\$1.2974 on Thursday. Market concerns about the deficit has hit the greenback in recent months. On Friday, Federal Reserve chairman Mr Greenspan's speech in London ahead of the meeting of G7 finance ministers sent the dollar higher after it had earlier tumbled on the back of worse-than-expected US jobs data. \"I think the chairman's taking a much more sanguine view on the current account deficit than he's taken for some time,\" said Robert Sinche, head of currency strategy at Bank of America in New York. \"He's taking a longer-term view, laying out a set of conditions under which the current account deficit can improve this year and next.\"Worries about the deficit concerns about China do, however, remain. China's currency remains pegged to the dollar and the US currency's sharp falls in recent months have therefore made Chinese export prices highly competitive. But calls for a shift in Beijing's policy have fallen on deaf ears, despite recent comments in a major Chinese newspaper that the \"time is ripe\" for a loosening of the peg. The G7 meeting is thought unlikely to produce any meaningful movement in Chinese policy. In the meantime, the US Federal Reserve's decision on 2 February to boost interest rates by a quarter of a point - the sixth such move in as many months - has opened up a differential with European rates. The half-point window, some believe, could be enough to keep US assets looking more attractive, and could help prop up the dollar. The recent falls have partly been the result of big budget deficits, as well as the US's yawning current account gap, both of which need to be funded by the buying of US bonds and assets by foreign firms and governments. The White House will announce its budget on Monday, and many commentators believe the deficit will remain at close to half a trillion dollars. \\\\\n",
       "\t3 & business & Yukos unit buyer faces loan claim & The owners of embattled Russian oil giant Yukos are to ask the buyer of its former production unit to pay back a \\$900m (Â£479m) loan.State-owned Rosneft bought the Yugansk unit for \\$9.3bn in a sale forced by Russia to part settle a \\$27.5bn tax claim against Yukos. Yukos' owner Menatep Group says it will ask Rosneft to repay a loan that Yugansk had secured on its assets. Rosneft already faces a similar \\$540m repayment demand from foreign banks. Legal experts said Rosneft's purchase of Yugansk would include such obligations. \"The pledged assets are with Rosneft, so it will have to pay real money to the creditors to avoid seizure of Yugansk assets,\" said Moscow-based US lawyer Jamie Firestone, who is not connected to the case. Menatep Group's managing director Tim Osborne told the Reuters news agency: \"If they default, we will fight them where the rule of law exists under the international arbitration clauses of the credit.\"Rosneft officials were unavailable for comment. But the company has said it intends to take action against Menatep to recover some of the tax claims and debts owed by Yugansk. Yukos had filed for bankruptcy protection in a US court in an attempt to prevent the forced sale of its main production arm. The sale went ahead in December and Yugansk was sold to a little-known shell company which in turn was bought by Rosneft. Yukos claims its downfall was punishment for the political ambitions of its founder Mikhail Khodorkovsky and has vowed to sue any participant in the sale. \\\\\n",
       "\t4 & business & High fuel prices hit BA's profits & British Airways has blamed high fuel prices for a 40\\% drop in profits.Reporting its results for the three months to 31 December 2004, the airline made a pre-tax profit of Â£75m (\\$141m) compared with Â£125m a year earlier. Rod Eddington, BA's chief executive, said the results were \"respectable\" in a third quarter when fuel costs rose by Â£106m or 47.3\\%. BA's profits were still better than market expectation of Â£59m, and it expects a rise in full-year revenues.To help offset the increased price of aviation fuel, BA last year introduced a fuel surcharge for passengers.In October, it increased this from Â£6 to Â£10 one-way for all long-haul flights, while the short-haul surcharge was raised from Â£2.50 to Â£4 a leg. Yet aviation analyst Mike Powell of Dresdner Kleinwort Wasserstein says BA's estimated annual surcharge revenues - Â£160m - will still be way short of its additional fuel costs - a predicted extra Â£250m. Turnover for the quarter was up 4.3\\% to Â£1.97bn, further benefiting from a rise in cargo revenue. Looking ahead to its full year results to March 2005, BA warned that yields - average revenues per passenger - were expected to decline as it continues to lower prices in the face of competition from low-cost carriers. However, it said sales would be better than previously forecast. \"For the year to March 2005, the total revenue outlook is slightly better than previous guidance with a 3\\% to 3.5\\% improvement anticipated,\" BA chairman Martin Broughton said. BA had previously forecast a 2\\% to 3\\% rise in full-year revenue.It also reported on Friday that passenger numbers rose 8.1\\% in January. Aviation analyst Nick Van den Brul of BNP Paribas described BA's latest quarterly results as \"pretty modest\". \"It is quite good on the revenue side and it shows the impact of fuel surcharges and a positive cargo development, however, operating margins down and cost impact of fuel are very strong,\" he said. Since the 11 September 2001 attacks in the United States, BA has cut 13,000 jobs as part of a major cost-cutting drive. \"Our focus remains on reducing controllable costs and debt whilst continuing to invest in our products,\" Mr Eddington said. \"For example, we have taken delivery of six Airbus A321 aircraft and next month we will start further improvements to our Club World flat beds.\" BA's shares closed up four pence at 274.5 pence. \\\\\n",
       "\t5 & business & Pernod takeover talk lifts Domecq & Shares in UK drinks and food firm Allied Domecq have risen on speculation that it could be the target of a takeover by France's Pernod Ricard.Reports in the Wall Street Journal and the Financial Times suggested that the French spirits firm is considering a bid, but has yet to contact its target. Allied Domecq shares in London rose 4\\% by 1200 GMT, while Pernod shares in Paris slipped 1.2\\%. Pernod said it was seeking acquisitions but refused to comment on specifics.Pernod's last major purchase was a third of US giant Seagram in 2000, the move which propelled it into the global top three of drinks firms. The other two-thirds of Seagram was bought by market leader Diageo. In terms of market value, Pernod - at 7.5bn euros (\\$9.7bn) - is about 9\\% smaller than Allied Domecq, which has a capitalisation of Â£5.7bn (\\$10.7bn; 8.2bn euros). Last year Pernod tried to buy Glenmorangie, one of Scotland's premier whisky firms, but lost out to luxury goods firm LVMH. Pernod is home to brands including Chivas Regal Scotch whisky, Havana Club rum and Jacob's Creek wine. Allied Domecq's big names include Malibu rum, Courvoisier brandy, Stolichnaya vodka and Ballantine's whisky - as well as snack food chains such as Dunkin' Donuts and Baskin-Robbins ice cream. The WSJ said that the two were ripe for consolidation, having each dealt with problematic parts of their portfolio. Pernod has reduced the debt it took on to fund the Seagram purchase to just 1.8bn euros, while Allied has improved the performance of its fast-food chains. \\\\\n",
       "\t6 & business & Japan narrowly escapes recession & Japan's economy teetered on the brink of a technical recession in the three months to September, figures show.Revised figures indicated growth of just 0.1\\% - and a similar-sized contraction in the previous quarter. On an annual basis, the data suggests annual growth of just 0.2\\%, suggesting a much more hesitant recovery than had previously been thought. A common technical definition of a recession is two successive quarters of negative growth.The government was keen to play down the worrying implications of the data. \"I maintain the view that Japan's economy remains in a minor adjustment phase in an upward climb, and we will monitor developments carefully,\" said economy minister Heizo Takenaka. But in the face of the strengthening yen making exports less competitive and indications of weakening economic conditions ahead, observers were less sanguine. \"It's painting a picture of a recovery... much patchier than previously thought,\" said Paul Sheard, economist at Lehman Brothers in Tokyo. Improvements in the job market apparently have yet to feed through to domestic demand, with private consumption up just 0.2\\% in the third quarter. \\\\\n",
       "\t7 & business & Jobs growth still slow in the US & The US created fewer jobs than expected in January, but a fall in jobseekers pushed the unemployment rate to its lowest level in three years.According to Labor Department figures, US firms added only 146,000 jobs in January. The gain in non-farm payrolls was below market expectations of 190,000 new jobs. Nevertheless it was enough to push down the unemployment rate to 5.2\\%, its lowest level since September 2001. The job gains mean that President Bush can celebrate - albeit by a very fine margin - a net growth in jobs in the US economy in his first term in office. He presided over a net fall in jobs up to last November's Presidential election - the first President to do so since Herbert Hoover. As a result, job creation became a key issue in last year's election. However, when adding December and January's figures, the administration's first term jobs record ended in positive territory.The Labor Department also said it had revised down the jobs gains in December 2004, from 157,000 to 133,000.Analysts said the growth in new jobs was not as strong as could be expected given the favourable economic conditions. \"It suggests that employment is continuing to expand at a moderate pace,\" said Rick Egelton, deputy chief economist at BMO Financial Group. \"We are not getting the boost to employment that we would have got given the low value of the dollar and the still relatively low interest rate environment.\" \"The economy is producing a moderate but not a satisfying amount of job growth,\" said Ken Mayland, president of ClearView Economics. \"That means there are a limited number of new opportunities for workers.\" \\\\\n",
       "\t8 & business & India calls for fair trade rules & India, which attends the G7 meeting of seven leading industrialised nations on Friday, is unlikely to be cowed by its newcomer status.In London on Thursday ahead of the meeting, India's finance minister, lashed out at the restrictive trade policies of the G7 nations. He objected to subsidies on agriculture that make it hard for developing nations like India to compete. He also called for reform of the United Nations, the World Bank and the IMF.Palaniappan Chidambaram, India's finance minister, argued that these organisations need to take into account the changing world order, given India and China's integration into the global economy. He said the issue is not globalisation but \"the terms of engagement in globalisation.\" Mr Chidambaram is attending the G7 meeting as part of the G20 group of nations, which account for two thirds of the world's population. At a conference on developing enterprise hosted by UK finance minister Gordon Brown on Friday, he said that he was in favour of floating exchange rates because they help countries cope with economic shocks. \"A flexible exchange rate is one more channel for absorbing both positive and negative shocks,\" he told the conference. India, along with China, Brazil, South Africa and Russia, has been invited to take part in the G7 meeting taking place in London on Friday and Saturday. China is expected to face renewed pressure to abandon its fixed exchange rate, which G7 nations, in particular the US, have blamed for a surge in cheap Chinese exports. \"Some countries have tried to use fixed exchange rates. I do not wish to make any judgements,\" Mr Chidambaram said. Separately, the IMF warned on Thursday that India's budget deficit was too large and would hamper the country's economic growth, which it forecast to be around 6.5\\% in the year to March 2005. In the year to March 2004, the Indian economy grew by 8.5\\%. \\\\\n",
       "\t9 & business & Ethiopia's crop production up 24\\% & Ethiopia produced 14.27 million tonnes of crops in 2004, 24\\% higher than in 2003 and 21\\% more than the average of the past five years, a report says.In 2003, crop production totalled 11.49 million tonnes, the joint report from the Food and Agriculture Organisation and the World Food Programme said. Good rains, increased use of fertilizers and improved seeds contributed to the rise in production. Nevertheless, 2.2 million Ethiopians will still need emergency assistance.The report calculated emergency food requirements for 2005 to be 387,500 tonnes. On top of that, 89,000 tonnes of fortified blended food and vegetable oil for \"targeted supplementary food distributions for a survival programme for children under five and pregnant and lactating women\" will be needed.In eastern and southern Ethiopia, a prolonged drought has killed crops and drained wells. Last year, a total of 965,000 tonnes of food assistance was needed to help seven million Ethiopians. The Food and Agriculture Organisation (FAO) recommend that the food assistance is bought locally. \"Local purchase of cereals for food assistance programmes is recommended as far as possible, so as to assist domestic markets and farmers,\" said Henri Josserand, chief of FAO's Global Information and Early Warning System. Agriculture is the main economic activity in Ethiopia, representing 45\\% of gross domestic product. About 80\\% of Ethiopians depend directly or indirectly on agriculture. \\\\\n",
       "\t10 & business & Court rejects \\$280bn tobacco case & A US government claim accusing the country's biggest tobacco companies of covering up the effects of smoking has been thrown out by an appeal court.The demand for \\$280bn (Â£155bn) - filed by the Clinton administration in 1999 - was rejected in a 2-1 decision. The court in Washington found that the case could not be brought under federal anti-racketeering laws. Among the accused were Altria Group, RJ Reynolds Tobacco, Lorillard Tobacco, Liggett Group and Brown and Williamson. In its case, the government claimed tobacco firms manipulated nicotine levels to increase addiction, targeted teenagers with multi-billion dollar advertising campaigns, lied about the dangers of smoking and ignored research to the contrary.Prosecutors wanted the cigarette firms to surrender \\$280bn in profits accumulated over the past 50 years and impose tougher rules on marketing their products. But the Court of Appeals for the District of Columbia ruled that the US government could not sue the firms under legislation drawn up to counteract Mafia infiltration of business. The tobacco companies deny that they illegally conspired to promote smoking and defraud the public. They also say they have already met many of the government's demands in a landmark \\$206bn settlement reached with 46 states in 1998. Shares of tobacco companies closed higher after the ruling, with Altria rising 5\\% and Reynolds showing gains of 4.5\\%. \\\\\n",
       "\t11 & business & Ask Jeeves tips online ad revival & Ask Jeeves has become the third leading online search firm this week to thank a revival in internet advertising for improving fortunes.The firm's revenue nearly tripled in the fourth quarter of 2004, exceeding \\$86m (Â£46m). Ask Jeeves, once among the best-known names on the web, is now a relatively modest player. Its \\$17m profit for the quarter was dwarfed by the \\$204m announced by rival Google earlier in the week. During the same quarter, Yahoo earned \\$187m, again tipping a resurgence in online advertising.The trend has taken hold relatively quickly. Late last year, marketing company Doubleclick, one of the leading providers of online advertising, warned that some or all of its business would have to be put up for sale. But on Thursday, it announced that a sharp turnaround had brought about an unexpected increase in profits. Neither Ask Jeeves nor Doubleclick thrilled investors with their profit news, however. In both cases, their shares fell by some 4\\%. Analysts attributed the falls to excessive expectations in some quarters, fuelled by the dramatic outperformance of Google on Tuesday. \\\\\n",
       "\t12 & business & Indonesians face fuel price rise & Indonesia's government has confirmed it is considering raising fuel prices by as much as 30\\%.Millions of Indonesians use kerosene for basic cooking, and prices have been heavily subsidised for years. President Susilo Bambang Yudhoyono's government has said it wants to curb fuel subsidies and direct the money into aid programmes for the poor. But critics argue cutting subsidies will hurt the poorer families that his government says it wants to help. Millions of people were left homeless in Indonesia Aceh's region following the earthquake and tsunami disaster in late December.Indonesia pays subsidies to importers in order to stabilise domestic fuel prices, but higher oil prices have forced the government to spend more on holding prices down. It spent 59.2 trillion rupiah (\\$6.58bn; Â£3.5bn) on fuel subsidies in 2004, a sum far in excess of its original projection of 14.5 trillion rupiah. Since President Yudhoyono's government came to power in October, it has indicated its intention of raising domestic fuel prices by cutting subsidies. \"The (January to March) quarter of this year is the best time for us to increase fuel prices,\" said Sri Mulyani Indrawati, State Minister for National Development Planning. \"We are still considering if a 30\\% hike is suitable at the moment. The sooner the better for the state budget.\" The BBC's correspondent in Jakarta, Rachel Harvey, told World Business Report that there was likely to be a strong public reaction to any price rise. \"The big question is whether they go for one big, short, sharp shock and raise prices between 20\\% and 30\\% or whether they try to stagger it,\" she said. Indonesia's previous government, led by President Megawati Sukarnoputri, also attempted to cut subsidies in 2003, but was forced to back down in the face of public protests. \\\\\n",
       "\t13 & business & Peugeot deal boosts Mitsubishi & Struggling Japanese car maker Mitsubishi Motors has struck a deal to supply French car maker Peugeot with 30,000 sports utility vehicles (SUV).The two firms signed a Memorandum of Understanding, and say they expect to seal a final agreement by Spring 2005. The alliance comes as a badly-needed boost for loss-making Mitsubishi, after several profit warnings and poor sales. The SUVs will be built in Japan using Peugeot's diesel engines and sold mainly in the European market. Falling sales have left Mitsubishi Motors with underused capacity, and the production deal with Peugeot gives it a chance to utilise some of it.In January, Mitsubishi Motors issued its third profits warning in nine months, and cut its sales forecasts for the year to March 2005. Its sales have slid 41\\% in the past year, catalysed by the revelation that the company had systematically been hiding records of faults and then secretly repairing vehicles. As a result, the Japanese car maker has sought a series of financial bailouts. Last month it said it was looking for a further 540bn yen (\\$5.2bn; Â£2.77bn) in fresh financial backing, half of it from other companies in the Mitsubishi group. US-German carmaker DaimlerChrylser, a 30\\% shareholder in Mitsubishi Motors, decided in April 2004 not to pump in any more money. The deal with Peugeot was celebrated by Mitsubishi's newly-appointed chief executive Takashi Nishioka, who took over after three top bosses stood down last month to shoulder responsibility for the firm's troubles. Mitsubishi Motors has forecast a net loss of 472bn yen in its current financial year to March 2005. Last month, it signed a production agreement with Japanese rival Nissan Motor to supply it with 36,000 small cars for sale in Japan. It has been making cars for Nissan since 2003. \\\\\n",
       "\t14 & business & Telegraph newspapers axe 90 jobs & The Daily and Sunday Telegraph newspapers are axing 90 journalist jobs - 17\\% of their editorial staff.The Telegraph Group says the cuts are needed to fund an Â£150m investment in new printing facilities. Journalists at the firm met on Friday afternoon to discuss how to react to the surprise announcement. The cuts come against a background of fierce competition for readers and sluggish advertising revenues amid competition from online advertising. The National Union of Journalists has called on the management to recall the notice of redundancy by midday on Monday or face a strike ballot.Pearson's Financial Times said last week it was offering voluntary redundancy to about 30 reporters.The National Union of Journalists said it stood strongly behind the journalists and did not rule out a strike. \"Managers have torn up agreed procedures and kicked staff in the teeth by sacking people to pay for printing facilities,\" said Jeremy Dear, NUJ General Secretary. NUJ official Barry Fitzpatrick said the company had ignored the 90-day consultation period required for companies planning more than 10 redundancies. \"They have shown a complete disregard for the consultative rights of our members,\" said Mr Fitzpatrick, who added that the company now planned to observe the consultation procedures. The two Telegraph titles currently employ 521 journalists.Some broadsheet newspapers - especially those which have not moved to a tabloid format - have suffered circulation declines, which are hitting revenues. The Telegraph has announced no plans to go tabloid although both The Independent and The Times have seen circulation rise since shrinking in size.The Guardian is hedging its bets, planning a larger tabloid format like those popular in continental Europe. The Telegraph Group was bought by the Barclay twins - Frederick and David - last year, having previously been owned by Lord Conrad Black's Hollinger International. The brothers are currently mulling the sale of another of their businesses, retailer Littlewoods.Telegraph executive Murdoch MacLennan said the two newspapers would add eight colour pages in the coming months.\"Journalists are the lifeblood of any newspaper, and maintaining the quality of The Daily Telegraph and The Sunday Telegraph for our readers is vital,\" he said. \"However, action to improve our production capability and secure our titles against the competition is also vital.\" Many newspapers are investing in new printing machinery that enables them to print more colour pages, or in some cases, have colour on every page. They are hoping that by boosting colour it will make their publications more attractive to advertisers and readers alike. In recent months News Corp's News International unit, which publishes The Sun and the News of the World, the Guardian Media Group, Trinity Mirror and the Daily Mail \\& General Trust have all announced substantial investments in new printing plants. \\\\\n",
       "\t15 & business & Air passengers win new EU rights & Air passengers who are unable to board their flights because of overbooking, cancellations or flight delays can now demand greater compensation.New EU rules set compensation at between 250 euros (Â£173) and 600 euros, depending on the length of the flight. The new rules will apply to all scheduled and charter flights, including budget airlines. Airlines have attacked the legislation saying they could be forced to push prices higher to cover the extra cost. The European Commission is facing two legal challenges - one from the European Low-fare Airlines Association (ELAA) and the other from the International Air Transport Association (IATA), which has attacked the package as a \"bad piece of legislation\". Previously, passengers could claim between 150 euros and 300 euros if they had been stopped from boarding.However, only scheduled flight operators were obliged to offer compensation in cases of overbooking and they did not have to offer compensation for flight cancellations.The EU decided to increase passenger compensation in a bid to deter airlines from deliberately overbooking flights. Overbooking can often lead to 'bumping' - when a passenger is moved to a later flight. When this happens against a passenger's will, airlines will now have to offer compensation. In addition, if a flight is cancelled or delayed for more than two hours through the fault of the airline, all passengers must be paid compensation.However, airlines do not have to offer compensation if flights are cancelled or delayed due to \"extraordinary circumstances\". Airlines fear that \"extraordinary circumstances\" may not include bad weather, security alerts or strikes - events which are outside of their control. All EU-based airlines and operators of flights which take off from the EU will have to adhere to the new compensation regime which came into force on Thursday. Low-cost airlines have criticised the new compensation levels, arguing that the pay-out could be worth more than the ticket. \"It's a preposterous piece of legislation, we among all airlines are fighting this,\" Ryanair deputy chief executive Michael Cawley told Radio 4's Today programme.The European Regions Airline Association (ERAA) claims that neither airlines nor consumers were consulted over the changes. Andy Clarke, ERAA director of air transport, said that the EC advice misleads customers as it leads them to believe that airlines could be liable for payouts if flights are delayed because of bad weather.EC spokeswoman Marja Quillinan-Meiland conceded there were \"grey areas\" but said \"these are not as big as the airlines are making out\". In cases of dispute, national enforcement bodies would decide whether the passenger had a case, she said. New technology means it is easier for airlines to take off and land in bad weather, she added. The ERAA's Mr Clarke also warned that while airlines would comply with the new rules, the extra costs would be passed onto passengers. \"We reckon it's going to cost European air passengers - not the airlines, the airlines have no money, it has to be paid by passengers - 1.5bn euros, that's over Â£1bn a year loaded onto European passengers,\" Mr Clarke said. \"That's basically a transfer of money from passengers whose journeys are not disrupted to passengers whose journeys are disrupted.\"On Wednesday, Jacques Barrot, vice president of the European Commission and also Commissioner for Transport, said that the changes were necessary. \"The boom in air travel needs to be accompanied by proper protection of passengers' right.\" \"This is a concrete example of how the Union benefits people's daily lives,\" he added. The EC has launched an information campaign in airports and travel agencies to inform airline passengers of their new rights. \\\\\n",
       "\t16 & business & China keeps tight rein on credit & China's efforts to stop the economy from overheating by clamping down on credit will continue into 2005, state media report.The curbs were introduced earlier this year to ward off the risk that rapid expansion might lead to soaring prices. There were also fears that too much stress might be placed on the fragile banking system. Growth in China remains at a breakneck 9.1\\%, and corporate investment is growing at more than 25\\% a year. The breakneck pace of economic expansion has kept growth above 9\\% for more than a year. Rapid tooling-up of China's manufacturing sector means a massive demand for energy - one of the factors which has kept world oil prices sky-high for most of this year. In theory, the government has a 7\\% growth target, but continues to insist that the overshoot does not mean a \"hard landing\" in the shape of an overbalancing economy. A low exchange rate - China's yuan is pegged to a rate of 8.28 to the dollar, which seems to be in relentless decline - means Chinese exports are cheap on world markets. China has thus far resisted international pressure to break the link or at least to shift the level of its peg. To some extent, the credit controls do seem to be taking effect. Industrial output grew 15.7\\% in the year to October, down from 23\\% in February, and inflation slowed to 4.3\\% - although retail sales are still booming. \\\\\n",
       "\t17 & business & Parmalat boasts doubled profits & Parmalat, the Italian food group at the centre of one of Europe's most painful corporate scandals, has reported a doubling in profit.Its pre-tax earnings in the fourth quarter were 77m euros (Â£53m; \\$100m), up from 38m in the same period of 2003. Less welcome was the news that the firm had been fined 11m euros for having violated takeover rules five years ago. The firm sought bankruptcy protection in December 2003 after disclosing a 4bn-euro hole in its accounts. Overall, the company's debt is close to 12bn euros, and is falling only slowly. Its brands, well-known in Italy and overseas, have continued to perform strongly, however, and have barely lost revenue since the scandal broke.But a crucial factor for the company's future is the legal unwinding of its intensely complex financial position. On Tuesday, the company's administrator, turnaround expert Enrico Bondi, sued Morgan Stanley, its former banker, to return 136m euros relating to a 2003 bond deal. That brought to 49 the number of banks that Mr Bondi has sued, a mass of legal action that could bring in as much as 3bn euros. The company has also sued former auditors and financial advisors for damages. And criminal cases against the company's former management are proceeding separately. \\\\\n",
       "\t18 & business & India's rupee hits five-year high & India's rupee has hit a five-year high after Standard \\& Poor's (S\\&P) raised the country's foreign currency rating.The rupee climbed to 43.305 per US dollar on Thursday, up from a close of 43.41. The currency has gained almost 1\\% in the past three sessions. S\\&P, which rates borrowers' creditworthiness, lifted India's rating by one notch to 'BB+'. With Indian assets now seen as less of a gamble, more cash is expected to flow into its markets, buoying the rupee.\"The upgrade is positive and basically people will use it as an excuse to come back to India,\" said Bhanu Baweja, a strategist at UBS. \"Money has moved out from India in the first two or three weeks of January into other markets like Korea and Thailand and this upgrade should lead to a reversal.\" India's foreign currency rating is now one notch below investment grade, which starts at 'BBB-'. The increase has put it on the same level as Romania, Egypt and El Salvador, and one level below Russia. \\\\\n",
       "\t19 & business & India widens access to telecoms & India has raised the limit for foreign direct investment in telecoms companies from 49\\% to 74\\%.Communications Minister Dayanidhi Maran said that there is a need to fund the fast-growing mobile market. The government hopes to increase the number of mobile users from 95 million to between 200 and 250 million by 2007. \"We need at least \\$20bn (Â£10.6bn) in investment and part of this has to come as foreign direct investment,\" said Mr Maran. The decision to raise the limit for foreign investors faced considerable opposition from the communist parties, which give crucial support to the coalition headed by Prime Minister Manmohan Singh. Potential foreign investors will however need government approval before they increase their stake beyond 49\\%, Mr Maran said. Key positions, such as those of chief executive, chief technology officer and chief financial officer are to be held by Indians, he added.Analysts and investors have welcomed the government decision. \"It is a positive development for carriers and the investment community, looking to take a longer-term view of the huge growth in the Indian telecoms market,\" said Gartner's principal analyst Kobita Desai. \"The FDI relaxation coupled with rapid local market growth could really ignite interest in the Indian telecommunication industry,\" added Ernst and Young's Sanjay Mehta. Investment bank Morgan Stanley has forecast that India's mobile market is likely to grow by about 40\\% a year until 2007. The Indian mobile market is currently dominated by four companies, Bharti Televentures which has allied itself with Singapore Telecom, Essar which is linked with Hong Kong-based Hutchison Whampoa, the Sterling group and the Tata group. \\\\\n",
       "\t20 & business & Call centre users 'lose patience' & Customers trying to get through to call centres are getting impatient and quicker to hang up, a survey suggests.Once past the welcome message, callers on average hang up after just 65 seconds of listening to canned music. The drop in patience comes as the number of calls to call centres is growing at a rate of 20\\% every year. \"Customers are getting used to the idea of an 'always available' society,\" says Cara Diemont of IT firm Dimension Data, which commissioned the survey. However, call centres also saw a sharp increase of customers simply abandoning calls, she says, from just over 5\\% in 2003 to a record 13.3\\% during last year. When automated phone message systems are taken out of the equation, where customers have to pick their way through multiple options and messages, the number of abandoned calls is even higher - a sixth of all callers give up rather than wait. One possible reason for the lack in patience, Ms Diemont says, is the fact that more customers are calling 'on the move' using their mobile phones.The surge in customers trying to get through to call centres is also a reflection of the centres' growing range of tasks. \"Once a call centre may have looked after mortgages, now its agents may also be responsible for credit cards, insurance and current accounts,\" Ms Diemont says. Problems are occurring because increased responsibility is not going hand-in-hand with more training, the survey found.In what Dimension Data calls an \"alarming development\", the average induction time for a call centre worker fell last year from 36 to just 21 days, leaving \"agents not equipped to deal with customers\". This, Ms Diemont warns, is \"scary\" and not good for the bottom line either. Poor training frustrates both call centre workers and customers. As a result, call centres have a high \"churn rate\", with nearly a quarter of workers throwing in the towel every year, which in turn forces companies to pay for training new staff. Resolution rates - the number of calls where a customer's query is resolved to mutual satisfaction - are running at just 50\\%. When the query is passed on to a second or third person - a specialist or manager - rates rise to about 70\\%, but that is still well below the industry target of an 85\\% resolution rate.Suggestions that \"outsourcing\" - relocating call centres to low-cost countries like India or South Africa - is to blame are wrong, Ms Diemont says.There are \"no big differences in wait time and call resolution\" between call centres based in Europe or North America and those in developing countries around the world. \"You can make call centres perform anywhere if you have good management and the right processes in place,\" she says. However, companies that decide to \"offshore\" their operations are driven not just by cost considerations. Only 42\\% of them say that saving money is the main consideration when closing domestic call centre operations. Half of them argue that workers in other countries offer better skills for the money. But not everybody believes that outsourcing and offshoring are the solution. Nearly two-thirds of all firms polled for the survey have no plans to offshore their call centres. They give three key reasons for not making the move:- call centre operations are part of their business \"core function\",- they are worried about the risk of going abroad,- they fear that they will damage their brand if they join the offshoring drive. The survey was conducted by Sunovate on behalf of Dimension Data, and is based on in-depth questionnaires of 166 call centres in 24 countries and five continents. What are your experiences with call centres? Are you happy to listen to Vivaldi or Greensleeves, or do you want an immediate response? And if you work in a call centre: did your training prepare you for your job? \\\\\n",
       "\t21 & business & Rank 'set to sell off film unit' & Leisure group Rank could unveil plans to demerge its film services unit and sell its media business, reports claim.Rank, formerly famous for the Carry On series, will expose the shake-up at the announcement of its results on Friday, the Sunday Telegraph reported. Advisors Goldman Sachs are understood to have valued its demerged Deluxe Film unit at Â£300m, the report added. Speculation of a possible shake-up has mounted since Rank announced a study into a possible demerger in September. Since Mike Smith's appointment as chief executive in 1999, the group has focused on fewer businesses and embarked on a major cost-cutting programme which has seen it dispose of a number of businesses, including the Odeon cinema chain and the Pinewood studios. The move left the group with three core divisions: gaming, Hard Rock and Deluxe Films, which provides technical services to Hollywood studios.Rank now aims to concentrate on its gaming, bars and hotels business, including extending its Hard Rock brand to its casinos - trials of which have been a success. It also owns Deluxe Media, which makes and distributes DVDs and videos. However, that business is seen as less successful. Last year it made profits of Â£21.5m on a turnover of Â£392.1m and experts suggest its success in moving to DVDs from VHS video could make it an attractive target for a private equity buyer. A spokesman for the firm refused to comment on the reports, but said any results from the demerger study were likely to be set out when it unveiled its results on Friday. Analysts predict the firm is likely to report a slight drop in annual pre-tax profits to Â£170m from Â£194m last year. Formed in the 1940s the firm was a leading UK film producer and cinema owner for many years. It has now diversified into a range of other leisure activities - mainly in the UK - including hotels, roadside service areas and holiday centres. It now owns 34 Grosvenor casinos, the Mecca Bingo chain and more than 100 Hard Rock Cafes in 38 countries. \\\\\n",
       "\t22 & business & Sluggish economy hits German jobs & The number of people out of work in Europe's largest economy has risen for the tenth straight month as growth remains stubbornly slow.German unemployment rose 7,000 in November to 4.464 million people, or 10.8\\% of the workforce. The seasonally adjusted rise showed a smaller rise than expected, as government measures to encourage job creation began to take effect. But officials said stagnant growth was still stifling the job market. \"There are clear signs of a revival in domestic demand,\" said Frank-Juergen Weise, head of the Federal Labour Agency, in a statement. \"But growth of 0.1\\%... in the third quarter is still insufficient to deliver positive momentum to the labour market.\" High oil prices and the soaring euro - which damages the competitiveness of exporters - were also having a negative effect, he said. The brunt of the unemployment is still being felt in the eastern part of Germany, where the rate is 18.8\\%.With unemployment stuck above 4 million for years, the government of Chancellor Gerhard Schroeder has put job creation at the top of the agenda. A controversial package of measures to shake up incentives to get back to work, paid for by cutting some cherished benefits, has sparked anger among some German workers. Strikes in a number of industries, notably among the country's iconic carmakers, have demonstrated the displeasure - as well as fears about further job losses as outsourcing takes hold. Among the new initiatives are the so-called \"one-euro jobs\" which top up unemployment benefit. The scheme's formal launch is January, but hirings for these positions are already taking place and affecting the unemployment statistics, economists said. \"The deterioration of the labour market does not come as a surprise,\" said Isabelle Kronawitter at Hypovereinsbank. \"Job creation measures probably prevented a stronger increase in the seasonally adjusted numbers.\" \\\\\n",
       "\t23 & business & Mixed signals from French economy & The French economy picked up speed at the end of 2004, official figures show - but still looks set to have fallen short of the government's hopes.According to state statistics body INSEE, growth for the three months to December was a seasonally-adjusted 0.7-0.8\\%, ahead of the 0.6\\% forecast. If confirmed, that would be the best quarterly showing since early 2002. It leaves GDP up 2.3\\% for the full year, but short of the 2.5\\% which the French government had predicted.Despite the apparent shortfall in annual economic growth, the good quarterly figures - a so-called \"flash estimate\" - mark a continuing trend of improving indicators for the health of the French economy. The government is reiterating a 2.5\\% target for 2005, while the European Central Bank is making positive noises for the 12-nation eurozone as a whole. Also on Friday, France's industrial output for December was released, showing 0.7\\% growth. \"The numbers are good,\" said David Naude, economist at Deutsche Bank. \"They send a positive signal of a rebound in output... and open the way for a continuation in that trend into the New Year.\" Service sector activity improved in January, hitting a seven-month high. But unemployment remains high at about 10\\%. \\\\\n",
       "\t24 & business & US trade gap hits record in 2004 & The gap between US exports and imports hit an all-time high of \\$671.7bn (Â£484bn) in 2004, latest figures show.The Commerce Department said the trade deficit for all of last year was 24.4\\% above the previous record - 2003's imbalance of \\$496.5bn. The deficit with China, up 30.5\\% at \\$162bn, was the largest ever recorded with a single country. However, on a monthly basis the US trade gap narrowed by 4.9\\% in December to Â£56.4bn. The US consumer's appetite for all things from oil to imported cars, and even wine and cheese, reached record levels last year and the figures are likely to spark fresh criticism of President Bush's economic policies.Democrats claim the administration has not done enough to clamp down on unfair foreign trade practices. For example, they believe China's currency policy - which US manufacturers claim has undervalued the yuan by as much as 40\\% - has given China's rapidly expanding economy an unfair advantage against US competitors.Meanwhile, the Bush administration argues that the US deficit reflects the fact the America is growing at faster rate than the rest of the world, spurring on more demand for imported goods. Some economists say this may allow an upward revision of US economic growth in the fourth quarter. But others point out that the deficit has reached such astronomical proportions that foreigners many choose not to hold as many dollar-denominated assets, which may in turn harm growth. For all of 2004, US exports rose 12.3\\% to \\$1.15 trillion, but imports rose even faster by 16.3\\% to a new record of \\$1.76 trillion. Foreign oil exports surged by 35.7\\% to a record \\$180.7bn, reflecting the rally in global oil prices and increasing domestic demand. Imports were not affected by the dollar's weakness last year. \"We expect the deficit to continue to widen in 2005 even if the dollar gets back to its downward trend,\" said economist Marie-Pierre Ripert at IXIS. \\\\\n",
       "\t25 & business & Yukos loses US bankruptcy battle & A judge has dismissed an attempt by Russian oil giant Yukos to gain bankruptcy protection in the US.Yukos filed for Chapter 11 protection in Houston in an unsuccessful attempt to halt the auction of its Yugansk division by the Russian authorities. The court ruling is a blow to efforts to get damages for the sale of Yugansk, which Yukos claims was illegally sold. Separately, former Yukos boss Mikhail Khodorkovsky began testimony on Friday in his trial for fraud and tax evasion.Mr Khodorkovsky - who has been in jail for more than a year - pleaded not guilty to the charges brought against him and denied involvement in any criminal activities. \"I pride myself on heading for 15 years a number of successful companies and helping other enterprises rise from their knees,\" he told a Russian court.Yugansk was auctioned to help pay off \\$27.5bn (Â£14.5bn) in unpaid taxes. It was bought for \\$9.4bn by a previously-unknown group, which was in turn bought up almost immediately by state-controlled oil company Rosneft.Texas Judge Letitia Clark said Yukos did not have enough of a US presence to establish US jurisdiction. \"The vast majority of the business and financial activities of Yukos continue to occur in Russia,\" Judge Clark said in her ruling. \"Such activities require the continued participation of the Russian government.\" Yukos had argued that a US court was entitled to declare it bankrupt before its Yugansk unit was sold, since it has local bank accounts and its chief finance officer Bruce Misamore lives in Houston. Yukos claimed it sought help in the US because other forums - Russian courts and the European Court of Human Rights - were either unfriendly or offered less protection. Russia had indicated it would in any case not abide by the rulings of the US courts.In her ruling, the judge acknowledged that \"it appears likely that agencies of the Russian government have acted in a manner that would be considered confiscatory under United States law\". But she said her role was simply to decide on jurisdiction. The US court's jurisdiction had been challenged by Deutsche Bank and Gazpromneft, a former unit of Russian gas monopoly Gazprom which is due to merge with Rosneft. Analysts said the ability of Gazprom and Rosneft to trade freely overseas had been stifled while the ownership of Yugansk remained unclear.Yukos said it would consider its options in light of the ruling. However, it claimed that the court had backed its argument in four out of five key issues. \"We believe the merits of our case are strong and simple,\" said chief executive Steven Theede. \"Our assets were illegally seized. We want them back or damages paid.\" \\\\\n",
       "\t26 & business & Safety alert as GM recalls cars & The world's biggest carmaker General Motors (GM) is recalling nearly 200,000 vehicles in the US on safety grounds, according to federal regulators.The National Highway Traffic Safety Administration (NHTSA) said the largest recall involves 155,465 pickups, vans and sports utility vehicles (SUVs). This is because of possible malfunctions with the braking systems. The affected vehicles in the product recall are from the 2004 and 2005 model years, GM said. Those vehicles with potential faults are the Chevrolet Avalanche, Express, Kodiak, Silverade and Suburban; the GMC Savana, Sierra and Yukon.The NHTSA said a pressure accumulator in the braking system could crack during normal driving and fragments could injure people if the hood was open. This could allow hydraulic fluid to leak, which could make it harder to brake or steer and could cause a crash, it warned. GM is also recalling 19,924 Cadillac XLR coupes, SRX SUVs and Pontiac Grand Prix sedans from the 2004 model year. This is because the accelerator pedal may not work properly in extremely cold temperatures, requiring more braking. In addition, the car giant is calling back 17,815 Buick Raniers, Chevrolet Trailblazers, GMC Envoys and Isuzu Ascenders from the 2005 model years because the windshield is not properly fitted and could fall out in a crash. However, GM stressed that it did not know of any injuries related to the problems. News of the recall follows an announcement last month that GM expects earnings this year be lower than in 2004. The world's biggest car maker is grappling with losses in its European business, weak US sales and now a product recall. In January, GM said higher healthcare costs in North America, and lower profits at its financial services subsidiary would hurt its performance in 2005. \\\\\n",
       "\t27 & business & Steel firm 'to cut' 45,000 jobs & Mittal Steel, one of the world's largest steel producers, could cut up to 45,000 jobs over the next five years, its chief executive has said.The Netherlands-based company is due to complete its \\$4.5bn acquisition of US firm ISG next month, making it one of the largest global firms of its kind. However, Lakshmi Mittal has told investors the combined company will have to shed thousands of jobs. The Indian-born magnate did not say where the job losses would fall.Mr Mittal told US investors that once the acquisition of International Steel Group was completed, the company would aim to reduce its workforce by between 7,000 and 8,000 annually. This could see its workforce trimmed from 155,000 to 110,000 staff by 2010. \"We are investing in modernisation so employees will go down,\" Mr Mittal told the conference in Chicago.Mittal Steel was formed last year when Mr Mittal's LNM Holdings merged with Dutch firm Ispat. A combination of Mittal Steel and ISG would have annual sales of \\$32bn (Â£16.7bn; 24.1bn euros) and a production capacity of 70 million tonnes.A Mittal Steel spokeman said that no decisions on job cuts have been made yet. \"We are trying to create a sustainable steel industry and if we want to do that, we have to invest in new technology,\" a spokesman said. Mittal Steel has operations in 14 countries. Many of its businesses - particularly those in eastern Europe - were previously state owned and have huge workforces. It employs 50,000 staff in Kazakhstan alone, and has large operations in Romania, the Czech Republic, South Africa and the United States. \\\\\n",
       "\t28 & business & Strong demand triggers oil rally & Crude oil prices surged back above the \\$47 a barrel mark on Thursday after an energy market watchdog raised its forecasts for global demand.The International Energy Agency (IEA) warned demand for Opec's crude in the first quarter would outstrip supply. The IEA raised its estimate of 2005 oil demand growth by 80,000 barrels a day to 84 million barrels a day. US light crude rose \\$1.64 to \\$47.10, while Brent crude in London gained \\$1.32 to \\$44.45.The Paris-based IEA watchdog, which advises industrialized nations on energy policy, said the upward revision was due to stronger demand from China and other Asian countries. The fresh rally in crude prices followed gains on Wednesday which were triggered by large falls in US crude supplies following a cold spell in North America in January. The US Department of Energy reported that crude stockpiles had fallen 1m barrels to 294.3m. On top of that, ongoing problems for beleaguered Russian oil giant Yukos have also prompted the IEA to revise its output estimates from Russia - a major non-Opec supplier. \"I think that prices are now beginning to set a new range and it looks like the \\$40 to \\$50 level,\" said energy analyst Orin Middleton of Barclays Capital. \\\\\n",
       "\t29 & business & UK firm faces Venezuelan land row & Venezuelan authorities have said they will seize land owned by a British company as part of President Chavez's agrarian reform programme.Officials in Cojedes state said on Friday that farmland owned by a subsidiary of the Vestey Group would be taken and used to settle poor farmers. The government is cracking down on so-called latifundios, or large rural estates, which it says are lying idle. The Vestey Group said it had not been informed of any planned seizure.The firm, whose Agroflora subsidiary operates 13 farms in Venezuela, insisted that it had complied fully with Venezuelan law. Prosecutors in the south of the country have targeted Hato El Charcote, a beef cattle ranch owned by Agroflora. According to Reuters, they plan to seize 12,900 acres (5,200 hectares) from the 32,000 acre (13,000 hectare) farm.Officials claim that Agroflora does not possess valid documents proving its ownership of the land in question. They also allege that areas of the ranch are not being used for any form of active production. \"The legal boundaries did not match up with the actual boundaries and there is surplus,\" state prosecutor Alexis Ortiz told Reuters. \"As a consequence the government has taken action.\"Controversial reforms passed in 2001 give the government the right to take control of private property if it is declared idle or ownership cannot be traced back to the 19th Century.Critics say the powers - which President Chavez argues are needed to help the country's poorest citizens and develop the Venezuelan economy - trample all over private property rights. The Vestey Group said it had owned the land since 1920 and would co-operate fully with the authorities. But a spokesman added: \"Agroflora is absolutely confident that what it has submitted will demonstrate the legality of its title to the land.\" The company pointed out that the farm, which employs 300 workers, provides meat solely for the Venezuelan market.Last month, the government said it had identified more than 500 idle farms and had yet to consider the status of a further 40,000. The authorities said landowners whose titles were in order and whose farms were productive had \"nothing to fear\". Under President Chavez, the Venezuelan government has steadily expanded the state's involvement in the country's economy. It recently said all mining contracts involving foreign firms would be examined to ensure they provided sufficient economic benefits to the state. \\\\\n",
       "\t30 & business & Soaring oil 'hits world economy' & The soaring cost of oil has hit global economic growth, although world's major economies should weather the storm of price rises, according to the OECD.In its latest bi-annual report, the OECD cut its growth predictions for the world's main industrialised regions. US growth would reach 4.4\\% in 2004, but fall to 3.3\\% next year from a previous estimate of 3.7\\%, the OECD said. However, the Paris-based economics think tank said it believed the global economy could still regain momentum.Forecasts for Japanese growth were also scaled back to 4.0\\% from 4.4\\% this year and 2.1\\% from 2.8\\% in 2005. But the outlook was worst for the 12-member eurozone bloc, with already sluggish growth forecasts slipping to 1.8\\% from 2.0\\% this year and 1.9\\% from 2.4\\% in 2005, the OECD said. Overall, the report forecast total growth of 3.6\\% in 2004 for the 30 member countries of the OECD, slipping to 2.9\\% next year before recovering to 3.1\\% in 2006. \"There are nonetheless good reasons to believe that despite recent oil price turbulence the world economy will regain momentum in a not-too-distant future,\" said Jean-Philippe Cotis, the OECD's chief economist. The price of crude is about 50\\% higher than it was at the start of 2004, but down on the record high of \\$55.67 set in late October.A dip in oil prices and improving jobs prospects would improve consumer confidence and spending, the OECD said. \"The oil shock is not enormous by historical standards - we have seen worse in the seventies. If the oil price does not rise any further, then we think the shock can be absorbed within the next few quarters,\" Vincent Koen, a senior economist with the OECD, told the BBC's World Business Report. \"The recovery that was underway, and has been interrupted a bit by the oil shock this year, would then regain momentum in the course of 2005.\" China's booming economy and a \"spectacular comeback\" in Japan - albeit one that has faltered in recent months - would help world economic recovery, the OECD said. \"Supported by strong balance sheets and high profits, the recovery of business investment should continue in North America and start in earnest in Europe,\" it added. However, the report warned: \"It remains to be seen whether continental Europe will play a strong supportive role through a marked upswing of final domestic demand.\" The OECD highlighted current depressed household expenditure in Germany and the eurozone's over-reliance on export-led growth. \\\\\n",
       "\t$\\dots$ & $\\dots$ & $\\dots$ & $\\dots$ \\\\\n",
       "\\end{tabular}\n"
      ],
      "text/plain": [
       "\u001b[1m2225×3 DataFrame\u001b[0m\n",
       "\u001b[1m  Row \u001b[0m│\u001b[1m topic    \u001b[0m\u001b[1m heading                           \u001b[0m\u001b[1m body                     \u001b[0m ⋯\n",
       "\u001b[1m      \u001b[0m│\u001b[90m String   \u001b[0m\u001b[90m String                            \u001b[0m\u001b[90m String                   \u001b[0m ⋯\n",
       "──────┼─────────────────────────────────────────────────────────────────────────\n",
       "    1 │ business  Ad sales boost Time Warner profit  Quarterly profits at US m ⋯\n",
       "    2 │ business  Dollar gains on Greenspan speech   The dollar has hit its hi\n",
       "    3 │ business  Yukos unit buyer faces loan claim  The owners of embattled R\n",
       "    4 │ business  High fuel prices hit BA's profits  British Airways has blame\n",
       "    5 │ business  Pernod takeover talk lifts Domecq  Shares in UK drinks and f ⋯\n",
       "    6 │ business  Japan narrowly escapes recession   Japan's economy teetered\n",
       "    7 │ business  Jobs growth still slow in the US   The US created fewer jobs\n",
       "    8 │ business  India calls for fair trade rules   India, which attends the\n",
       "    9 │ business  Ethiopia's crop production up 24%  Ethiopia produced 14.27 m ⋯\n",
       "   10 │ business  Court rejects $280bn tobacco case  A US government claim acc\n",
       "   11 │ business  Ask Jeeves tips online ad revival  Ask Jeeves has become the\n",
       "  ⋮   │    ⋮                      ⋮                                  ⋮         ⋱\n",
       " 2216 │ tech      Broadband fuels online expression  Fast web access is encour\n",
       " 2217 │ tech      Savvy searchers fail to spot ads   Internet search engine us ⋯\n",
       " 2218 │ tech      TV's future down the phone line    Internet TV has been talk\n",
       " 2219 │ tech      Cebit fever takes over Hanover     Thousands of products and\n",
       " 2220 │ tech      New consoles promise big problems  Making games for future c\n",
       " 2221 │ tech      BT program to beat dialler scams   BT is introducing two ini ⋯\n",
       " 2222 │ tech      Spam e-mails tempt net shoppers    Computer users across the\n",
       " 2223 │ tech      Be careful how you code            A new European directive\n",
       " 2224 │ tech      US cyber security chief resigns    The man making sure US co\n",
       " 2225 │ tech      Losing yourself in online gaming   Online role playing games ⋯\n",
       "\u001b[36m                                                  1 column and 2204 rows omitted\u001b[0m"
      ]
     },
     "execution_count": 9,
     "metadata": {},
     "output_type": "execute_result"
    }
   ],
   "source": [
    "docs = DataFrame(topic = [String(x[1]) for x in doc_list], heading = [String(x[2]) for x in doc_list], body = [String(x[3]) for x in doc_list])"
   ]
  },
  {
   "cell_type": "markdown",
   "metadata": {},
   "source": [
    "### Create stratified train-test split"
   ]
  },
  {
   "cell_type": "markdown",
   "metadata": {},
   "source": [
    "We split the data into the default 75:25 train-test sets, ensuring that the test set classes closely mirror the train set:"
   ]
  },
  {
   "cell_type": "code",
   "execution_count": 10,
   "metadata": {},
   "outputs": [
    {
     "data": {
      "text/plain": [
       "partitionTrainTest (generic function with 2 methods)"
      ]
     },
     "execution_count": 10,
     "metadata": {},
     "output_type": "execute_result"
    }
   ],
   "source": [
    "using Random\n",
    "\n",
    "function partitionTrainTest(data, at = 0.75)\n",
    "    n = nrow(data)\n",
    "    idx = shuffle(1:n)\n",
    "    train_idx = view(idx, 1:floor(Int, at*n))\n",
    "    test_idx = view(idx, (floor(Int, at*n)+1):n)\n",
    "    data[train_idx,:], data[test_idx,:]\n",
    "end"
   ]
  },
  {
   "cell_type": "code",
   "execution_count": 11,
   "metadata": {
    "ExecuteTime": {
     "end_time": "2020-06-20T17:19:53.190446Z",
     "start_time": "2020-06-20T17:19:53.171864Z"
    },
    "scrolled": true
   },
   "outputs": [
    {
     "data": {
      "text/plain": [
       "get_factorized_topic (generic function with 1 method)"
      ]
     },
     "execution_count": 11,
     "metadata": {},
     "output_type": "execute_result"
    }
   ],
   "source": [
    "function get_factorized_topic(topic)\n",
    "    if topic == \"business\"\n",
    "        return 0\n",
    "    elseif topic == \"entertainment\"\n",
    "        return 1\n",
    "    elseif topic == \"politics\"\n",
    "        return 2\n",
    "    elseif topic == \"sport\"\n",
    "        return 3\n",
    "    elseif topic == \"tech\"\n",
    "        return 4\n",
    "    end\n",
    "end"
   ]
  },
  {
   "cell_type": "code",
   "execution_count": 12,
   "metadata": {
    "scrolled": true
   },
   "outputs": [
    {
     "data": {
      "text/plain": [
       "557-element Vector{Int64}:\n",
       " 3\n",
       " 3\n",
       " 1\n",
       " 3\n",
       " 2\n",
       " 2\n",
       " 3\n",
       " 1\n",
       " 4\n",
       " 4\n",
       " 3\n",
       " 1\n",
       " 1\n",
       " ⋮\n",
       " 0\n",
       " 2\n",
       " 2\n",
       " 0\n",
       " 0\n",
       " 2\n",
       " 1\n",
       " 4\n",
       " 3\n",
       " 2\n",
       " 3\n",
       " 3"
      ]
     },
     "execution_count": 12,
     "metadata": {},
     "output_type": "execute_result"
    }
   ],
   "source": [
    "train, test = partitionTrainTest(docs, 0.75)\n",
    "\n",
    "X_train = [String(substr_text) for substr_text in train.body]\n",
    "X_test = [String(substr_text) for substr_text in test.body]\n",
    "\n",
    "y_train = [get_factorized_topic(topic) for topic in train.topic]\n",
    "y_test = [get_factorized_topic(topic) for topic in test.topic]"
   ]
  },
  {
   "cell_type": "markdown",
   "metadata": {},
   "source": [
    "### Vectorize text data"
   ]
  },
  {
   "cell_type": "markdown",
   "metadata": {},
   "source": [
    "We proceed to learn the vocabulary from the training set and transforming both dataset using the CountVectorizer with default settings to obtain almost 26,000 features:"
   ]
  },
  {
   "cell_type": "code",
   "execution_count": 13,
   "metadata": {
    "ExecuteTime": {
     "end_time": "2020-06-20T17:19:53.635972Z",
     "start_time": "2020-06-20T17:19:53.191386Z"
    },
    "scrolled": true
   },
   "outputs": [
    {
     "data": {
      "text/plain": [
       "PyObject <557x25917 sparse matrix of type '<class 'numpy.int64'>'\n",
       "\twith 109520 stored elements in Compressed Sparse Row format>"
      ]
     },
     "execution_count": 13,
     "metadata": {},
     "output_type": "execute_result"
    }
   ],
   "source": [
    "vectorizer = CountVectorizer()\n",
    "X_train_dtm = vectorizer.fit_transform(X_train)\n",
    "X_test_dtm = vectorizer.transform(X_test)"
   ]
  },
  {
   "cell_type": "code",
   "execution_count": 14,
   "metadata": {
    "ExecuteTime": {
     "end_time": "2020-06-20T17:19:53.640210Z",
     "start_time": "2020-06-20T17:19:53.637190Z"
    }
   },
   "outputs": [
    {
     "data": {
      "text/plain": [
       "((1668, 25917), (557, 25917))"
      ]
     },
     "execution_count": 14,
     "metadata": {},
     "output_type": "execute_result"
    }
   ],
   "source": [
    "X_train_dtm.shape, X_test_dtm.shape"
   ]
  },
  {
   "cell_type": "markdown",
   "metadata": {},
   "source": [
    "### Train Multi-class Naive Bayes model"
   ]
  },
  {
   "cell_type": "code",
   "execution_count": 15,
   "metadata": {},
   "outputs": [
    {
     "data": {
      "text/plain": [
       "NaiveBayesClassifier{Int64}(String[], [3, 2, 0, 1, 4], Matrix{Int64}(undef, 0, 5))"
      ]
     },
     "execution_count": 15,
     "metadata": {},
     "output_type": "execute_result"
    }
   ],
   "source": [
    "classes = unique(y_train)\n",
    "nbc = NaiveBayesClassifier(classes)"
   ]
  },
  {
   "cell_type": "code",
   "execution_count": 16,
   "metadata": {
    "scrolled": true
   },
   "outputs": [],
   "source": [
    "for (text, class) in zip(X_train, y_train)\n",
    "    TextAnalysis.fit!(nbc, text, class)\n",
    "end"
   ]
  },
  {
   "cell_type": "code",
   "execution_count": 17,
   "metadata": {
    "ExecuteTime": {
     "end_time": "2020-06-20T17:19:53.661506Z",
     "start_time": "2020-06-20T17:19:53.641173Z"
    },
    "scrolled": true
   },
   "outputs": [
    {
     "data": {
      "text/plain": [
       "557-element Vector{Int64}:\n",
       " 3\n",
       " 3\n",
       " 1\n",
       " 3\n",
       " 2\n",
       " 2\n",
       " 3\n",
       " 1\n",
       " 4\n",
       " 4\n",
       " 3\n",
       " 1\n",
       " 1\n",
       " ⋮\n",
       " 0\n",
       " 2\n",
       " 2\n",
       " 0\n",
       " 0\n",
       " 2\n",
       " 1\n",
       " 4\n",
       " 3\n",
       " 2\n",
       " 3\n",
       " 3"
      ]
     },
     "execution_count": 17,
     "metadata": {},
     "output_type": "execute_result"
    }
   ],
   "source": [
    "nb = MultinomialNB()\n",
    "nb.fit(X_train_dtm, y_train)\n",
    "y_pred_class = nb.predict(X_test_dtm)"
   ]
  },
  {
   "cell_type": "markdown",
   "metadata": {},
   "source": [
    "### Evaluate Results"
   ]
  },
  {
   "cell_type": "markdown",
   "metadata": {},
   "source": [
    "We evaluate the multiclass predictions using accuracy to find the default classifier achieved almost 98%:"
   ]
  },
  {
   "cell_type": "markdown",
   "metadata": {},
   "source": [
    "#### Accuracy"
   ]
  },
  {
   "cell_type": "code",
   "execution_count": 18,
   "metadata": {
    "ExecuteTime": {
     "end_time": "2020-06-20T17:19:53.669207Z",
     "start_time": "2020-06-20T17:19:53.662345Z"
    }
   },
   "outputs": [
    {
     "data": {
      "text/plain": [
       "0.9766606822262118"
      ]
     },
     "execution_count": 18,
     "metadata": {},
     "output_type": "execute_result"
    }
   ],
   "source": [
    "accuracy_score(y_test, y_pred_class)"
   ]
  },
  {
   "cell_type": "markdown",
   "metadata": {},
   "source": [
    "#### Confusion matrix"
   ]
  },
  {
   "cell_type": "code",
   "execution_count": 19,
   "metadata": {
    "ExecuteTime": {
     "end_time": "2020-06-20T17:19:53.690578Z",
     "start_time": "2020-06-20T17:19:53.670001Z"
    }
   },
   "outputs": [
    {
     "data": {
      "text/html": [
       "<div class=\"data-frame\"><p>5 rows × 5 columns</p><table class=\"data-frame\"><thead><tr><th></th><th>x1</th><th>x2</th><th>x3</th><th>x4</th><th>x5</th></tr><tr><th></th><th title=\"Int64\">Int64</th><th title=\"Int64\">Int64</th><th title=\"Int64\">Int64</th><th title=\"Int64\">Int64</th><th title=\"Int64\">Int64</th></tr></thead><tbody><tr><th>1</th><td>141</td><td>0</td><td>4</td><td>0</td><td>4</td></tr><tr><th>2</th><td>1</td><td>97</td><td>1</td><td>0</td><td>1</td></tr><tr><th>3</th><td>0</td><td>0</td><td>89</td><td>0</td><td>0</td></tr><tr><th>4</th><td>1</td><td>1</td><td>0</td><td>131</td><td>0</td></tr><tr><th>5</th><td>0</td><td>0</td><td>0</td><td>0</td><td>86</td></tr></tbody></table></div>"
      ],
      "text/latex": [
       "\\begin{tabular}{r|ccccc}\n",
       "\t& x1 & x2 & x3 & x4 & x5\\\\\n",
       "\t\\hline\n",
       "\t& Int64 & Int64 & Int64 & Int64 & Int64\\\\\n",
       "\t\\hline\n",
       "\t1 & 141 & 0 & 4 & 0 & 4 \\\\\n",
       "\t2 & 1 & 97 & 1 & 0 & 1 \\\\\n",
       "\t3 & 0 & 0 & 89 & 0 & 0 \\\\\n",
       "\t4 & 1 & 1 & 0 & 131 & 0 \\\\\n",
       "\t5 & 0 & 0 & 0 & 0 & 86 \\\\\n",
       "\\end{tabular}\n"
      ],
      "text/plain": [
       "\u001b[1m5×5 DataFrame\u001b[0m\n",
       "\u001b[1m Row \u001b[0m│\u001b[1m x1    \u001b[0m\u001b[1m x2    \u001b[0m\u001b[1m x3    \u001b[0m\u001b[1m x4    \u001b[0m\u001b[1m x5    \u001b[0m\n",
       "\u001b[1m     \u001b[0m│\u001b[90m Int64 \u001b[0m\u001b[90m Int64 \u001b[0m\u001b[90m Int64 \u001b[0m\u001b[90m Int64 \u001b[0m\u001b[90m Int64 \u001b[0m\n",
       "─────┼───────────────────────────────────\n",
       "   1 │   141      0      4      0      4\n",
       "   2 │     1     97      1      0      1\n",
       "   3 │     0      0     89      0      0\n",
       "   4 │     1      1      0    131      0\n",
       "   5 │     0      0      0      0     86"
      ]
     },
     "execution_count": 19,
     "metadata": {},
     "output_type": "execute_result"
    }
   ],
   "source": [
    "DataFrame(confusion_matrix(y_true=y_test, y_pred=y_pred_class), :auto)"
   ]
  }
 ],
 "metadata": {
  "celltoolbar": "Slideshow",
  "kernelspec": {
   "display_name": "Julia 1.7.1",
   "language": "julia",
   "name": "julia-1.7"
  },
  "language_info": {
   "file_extension": ".jl",
   "mimetype": "application/julia",
   "name": "julia",
   "version": "1.7.1"
  },
  "toc": {
   "base_numbering": 1,
   "nav_menu": {},
   "number_sections": true,
   "sideBar": true,
   "skip_h1_title": true,
   "title_cell": "Table of Contents",
   "title_sidebar": "Contents",
   "toc_cell": false,
   "toc_position": {
    "height": "calc(100% - 180px)",
    "left": "10px",
    "top": "150px",
    "width": "316px"
   },
   "toc_section_display": true,
   "toc_window_display": true
  }
 },
 "nbformat": 4,
 "nbformat_minor": 2
}
