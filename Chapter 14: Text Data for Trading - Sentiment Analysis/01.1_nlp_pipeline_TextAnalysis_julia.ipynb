{
 "cells": [
  {
   "cell_type": "markdown",
   "id": "fa62e75f",
   "metadata": {},
   "source": [
    "## Imports and Settings"
   ]
  },
  {
   "cell_type": "code",
   "execution_count": 1,
   "id": "75def46d",
   "metadata": {},
   "outputs": [],
   "source": [
    "using Pkg"
   ]
  },
  {
   "cell_type": "code",
   "execution_count": 2,
   "id": "952e8d21",
   "metadata": {
    "scrolled": true
   },
   "outputs": [],
   "source": [
    "#Pkg.add(\"Glob\")\n",
    "#Pkg.add(\"TextAnalysis\")\n",
    "#Pkg.add(\"Languages\")\n",
    "#Pkg.add(\"WordNet\")\n",
    "#Pkg.add(\"WordTokenizers\")"
   ]
  },
  {
   "cell_type": "code",
   "execution_count": 3,
   "id": "98a154aa",
   "metadata": {},
   "outputs": [],
   "source": [
    "using PyCall\n",
    "using Conda"
   ]
  },
  {
   "cell_type": "code",
   "execution_count": 4,
   "id": "a2fc3dcc",
   "metadata": {},
   "outputs": [],
   "source": [
    "using Glob\n",
    "using TextAnalysis\n",
    "using Languages\n",
    "using DataFrames\n",
    "using WordNet\n",
    "using WordTokenizers"
   ]
  },
  {
   "cell_type": "markdown",
   "id": "8a0f6350",
   "metadata": {},
   "source": [
    "## Exploring Pipeline"
   ]
  },
  {
   "cell_type": "markdown",
   "id": "bed4180c",
   "metadata": {},
   "source": [
    "### TextAnalysis"
   ]
  },
  {
   "cell_type": "code",
   "execution_count": 5,
   "id": "0439b2c9",
   "metadata": {},
   "outputs": [
    {
     "data": {
      "text/plain": [
       "A StringDocument{String}\n",
       " * Language: Languages.English()\n",
       " * Title: Untitled Document\n",
       " * Author: Unknown Author\n",
       " * Timestamp: Unknown Time\n",
       " * Snippet: Apple is looking at buying U.K. startup for $1 bil"
      ]
     },
     "execution_count": 5,
     "metadata": {},
     "output_type": "execute_result"
    }
   ],
   "source": [
    "sample_text = \"Apple is looking at buying U.K. startup for \\$1 billion\"\n",
    "doc = StringDocument(sample_text)"
   ]
  },
  {
   "cell_type": "code",
   "execution_count": 6,
   "id": "c4781a6e",
   "metadata": {},
   "outputs": [
    {
     "data": {
      "text/plain": [
       "\"Apple is looking at buying U.K. startup for \\$1 billion\""
      ]
     },
     "execution_count": 6,
     "metadata": {},
     "output_type": "execute_result"
    }
   ],
   "source": [
    "text(doc)"
   ]
  },
  {
   "cell_type": "code",
   "execution_count": 7,
   "id": "3314d51c",
   "metadata": {
    "scrolled": true
   },
   "outputs": [
    {
     "data": {
      "text/plain": [
       "11-element Vector{String}:\n",
       " \"Apple\"\n",
       " \"is\"\n",
       " \"looking\"\n",
       " \"at\"\n",
       " \"buying\"\n",
       " \"U.K.\"\n",
       " \"startup\"\n",
       " \"for\"\n",
       " \"\\$\"\n",
       " \"1\"\n",
       " \"billion\""
      ]
     },
     "execution_count": 7,
     "metadata": {},
     "output_type": "execute_result"
    }
   ],
   "source": [
    "tokens(doc)"
   ]
  },
  {
   "cell_type": "code",
   "execution_count": 8,
   "id": "7dd0f603",
   "metadata": {},
   "outputs": [
    {
     "name": "stdout",
     "output_type": "stream",
     "text": [
      "Apple is looking at buying U.K. startup for $1 billion\n"
     ]
    }
   ],
   "source": [
    "stemmed_doc = StringDocument(sample_text)\n",
    "stem!(stemmed_doc)\n",
    "println(text(doc))"
   ]
  },
  {
   "cell_type": "markdown",
   "id": "cd46dc86",
   "metadata": {},
   "source": [
    "## Read BBC Data"
   ]
  },
  {
   "cell_type": "code",
   "execution_count": 9,
   "id": "fc9022c2",
   "metadata": {},
   "outputs": [
    {
     "data": {
      "text/plain": [
       "2225-element Vector{String}:\n",
       " \"..\\\\data\\\\bbc\\\\bbc\\\\business\\\\001.txt\"\n",
       " \"..\\\\data\\\\bbc\\\\bbc\\\\business\\\\002.txt\"\n",
       " \"..\\\\data\\\\bbc\\\\bbc\\\\business\\\\003.txt\"\n",
       " \"..\\\\data\\\\bbc\\\\bbc\\\\business\\\\004.txt\"\n",
       " \"..\\\\data\\\\bbc\\\\bbc\\\\business\\\\005.txt\"\n",
       " \"..\\\\data\\\\bbc\\\\bbc\\\\business\\\\006.txt\"\n",
       " \"..\\\\data\\\\bbc\\\\bbc\\\\business\\\\007.txt\"\n",
       " \"..\\\\data\\\\bbc\\\\bbc\\\\business\\\\008.txt\"\n",
       " \"..\\\\data\\\\bbc\\\\bbc\\\\business\\\\009.txt\"\n",
       " \"..\\\\data\\\\bbc\\\\bbc\\\\business\\\\010.txt\"\n",
       " \"..\\\\data\\\\bbc\\\\bbc\\\\business\\\\011.txt\"\n",
       " \"..\\\\data\\\\bbc\\\\bbc\\\\business\\\\012.txt\"\n",
       " \"..\\\\data\\\\bbc\\\\bbc\\\\business\\\\013.txt\"\n",
       " ⋮\n",
       " \"..\\\\data\\\\bbc\\\\bbc\\\\tech\\\\390.txt\"\n",
       " \"..\\\\data\\\\bbc\\\\bbc\\\\tech\\\\391.txt\"\n",
       " \"..\\\\data\\\\bbc\\\\bbc\\\\tech\\\\392.txt\"\n",
       " \"..\\\\data\\\\bbc\\\\bbc\\\\tech\\\\393.txt\"\n",
       " \"..\\\\data\\\\bbc\\\\bbc\\\\tech\\\\394.txt\"\n",
       " \"..\\\\data\\\\bbc\\\\bbc\\\\tech\\\\395.txt\"\n",
       " \"..\\\\data\\\\bbc\\\\bbc\\\\tech\\\\396.txt\"\n",
       " \"..\\\\data\\\\bbc\\\\bbc\\\\tech\\\\397.txt\"\n",
       " \"..\\\\data\\\\bbc\\\\bbc\\\\tech\\\\398.txt\"\n",
       " \"..\\\\data\\\\bbc\\\\bbc\\\\tech\\\\399.txt\"\n",
       " \"..\\\\data\\\\bbc\\\\bbc\\\\tech\\\\400.txt\"\n",
       " \"..\\\\data\\\\bbc\\\\bbc\\\\tech\\\\401.txt\""
      ]
     },
     "execution_count": 9,
     "metadata": {},
     "output_type": "execute_result"
    }
   ],
   "source": [
    "files = Glob.glob(\"../data/bbc/bbc/**/*.txt\")"
   ]
  },
  {
   "cell_type": "code",
   "execution_count": 10,
   "id": "1afd3617",
   "metadata": {},
   "outputs": [],
   "source": [
    "bbc_articles = Any[]\n",
    "for (i,file) in enumerate(files)\n",
    "    f = open(file, \"r\")\n",
    "    lines = readlines(f)\n",
    "    body = strip(join([strip(line) for line in lines[2:end]]))\n",
    "    push!(bbc_articles, body)\n",
    "    close(f)\n",
    "end"
   ]
  },
  {
   "cell_type": "code",
   "execution_count": 11,
   "id": "081f4fc9",
   "metadata": {},
   "outputs": [
    {
     "data": {
      "text/plain": [
       "2225"
      ]
     },
     "execution_count": 11,
     "metadata": {},
     "output_type": "execute_result"
    }
   ],
   "source": [
    "length(bbc_articles)"
   ]
  },
  {
   "cell_type": "code",
   "execution_count": 12,
   "id": "3a452df2",
   "metadata": {},
   "outputs": [
    {
     "data": {
      "text/plain": [
       "\"Quarterly profits at US media giant TimeWarner jumped 76% to \\$1.13bn (£600m) for the three months to December, from \\$639m year-earlier.The firm, which is now one of the biggest investors in Google, benefited from sales of high-speed internet connections and higher adver\" ⋯ 1975 bytes ⋯ \"00m. It intends to adjust the way it accounts for a deal with German music publisher Bertelsmann's purchase of a stake in AOL Europe, which it had reported as advertising revenue. It will now book the sale of its stake in AOL Europe as a loss on the value of that stake.\""
      ]
     },
     "execution_count": 12,
     "metadata": {},
     "output_type": "execute_result"
    }
   ],
   "source": [
    "bbc_articles[1]"
   ]
  },
  {
   "cell_type": "code",
   "execution_count": 13,
   "id": "6f828703",
   "metadata": {},
   "outputs": [
    {
     "data": {
      "text/plain": [
       "StringDocument{SubString{String}}"
      ]
     },
     "execution_count": 13,
     "metadata": {},
     "output_type": "execute_result"
    }
   ],
   "source": [
    "doc = StringDocument(bbc_articles[1])\n",
    "typeof(doc)"
   ]
  },
  {
   "cell_type": "code",
   "execution_count": 14,
   "id": "1218728a",
   "metadata": {},
   "outputs": [
    {
     "name": "stdout",
     "output_type": "stream",
     "text": [
      "Quarterly profits at US media giant TimeWarner jumped 76% to $1.13bn (£600m) for the three months to December, from $639m year-earlier.The firm, which is now one of the biggest investors in Google, benefited from sales of high-speed internet connections and higher advert sales.\n",
      "\n",
      "TimeWarner said fourth quarter sales rose 2% to $11.1bn from $10.9bn.\n",
      "\n",
      "Its profits were buoyed by one-off gains which offset a profit dip at Warner Bros, and less users for AOL.Time Warner said on Friday that it now owns 8% of search-engine Google.\n",
      "\n"
     ]
    }
   ],
   "source": [
    "sentences = TextAnalysis.sentence_tokenize(Languages.English(), bbc_articles[1])\n",
    "for sent in sentences[1:3]\n",
    "    println(sent, \"\\n\")\n",
    "end"
   ]
  },
  {
   "cell_type": "code",
   "execution_count": 15,
   "id": "22a29919",
   "metadata": {},
   "outputs": [
    {
     "data": {
      "text/plain": [
       "Dict{AbstractString, Int64} with 437 entries:\n",
       "  \"quarters. However\"     => 1\n",
       "  \"\\$ 3.36\"               => 1\n",
       "  \"US media\"              => 1\n",
       "  \"has to\"                => 1\n",
       "  \"music publisher\"       => 1\n",
       "  \"search-engine Google.\" => 1\n",
       "  \"from \\$\"               => 2\n",
       "  \"TimeWarner said\"       => 1\n",
       "  \"film division\"         => 1\n",
       "  \"Parsons said.\"         => 1\n",
       "  \"dip at\"                => 1\n",
       "  \"has mixed\"             => 1\n",
       "  \"than in\"               => 1\n",
       "  \"were slightly\"         => 1\n",
       "  \"back of\"               => 1\n",
       "  \"preceding three\"       => 1\n",
       "  \"stake .\"               => 1\n",
       "  \"free to\"               => 1\n",
       "  \"\\$ 300\"                => 1\n",
       "  \"unable to\"             => 1\n",
       "  \"SEC. The\"              => 1\n",
       "  \"TimeWarner is\"         => 1\n",
       "  \"hopes to\"              => 1\n",
       "  \"and will\"              => 1\n",
       "  \"already offered\"       => 1\n",
       "  ⋮                       => ⋮"
      ]
     },
     "execution_count": 15,
     "metadata": {},
     "output_type": "execute_result"
    }
   ],
   "source": [
    "ngrams(doc, 2)"
   ]
  },
  {
   "cell_type": "markdown",
   "id": "70abf280",
   "metadata": {},
   "source": [
    "## NLTK"
   ]
  },
  {
   "cell_type": "code",
   "execution_count": 16,
   "id": "eb6f006d",
   "metadata": {
    "scrolled": true
   },
   "outputs": [],
   "source": [
    "#Conda.add(\"nltk\")"
   ]
  },
  {
   "cell_type": "code",
   "execution_count": 17,
   "id": "532e1d4c",
   "metadata": {},
   "outputs": [],
   "source": [
    "@pyimport nltk"
   ]
  },
  {
   "cell_type": "code",
   "execution_count": 18,
   "id": "54188458",
   "metadata": {},
   "outputs": [
    {
     "name": "stderr",
     "output_type": "stream",
     "text": [
      "[nltk_data] Downloading package punkt to\r\n",
      "[nltk_data]     C:\\Users\\Amirreza\\AppData\\Roaming\\nltk_data...\r\n",
      "[nltk_data]   Package punkt is already up-to-date!\r\n",
      "[nltk_data] Downloading package omw-1.4 to\r\n",
      "[nltk_data]     C:\\Users\\Amirreza\\AppData\\Roaming\\nltk_data...\r\n",
      "[nltk_data]   Package omw-1.4 is already up-to-date!\r\n"
     ]
    },
    {
     "data": {
      "text/plain": [
       "true"
      ]
     },
     "execution_count": 18,
     "metadata": {},
     "output_type": "execute_result"
    }
   ],
   "source": [
    "nltk.download(\"punkt\")\n",
    "nltk.download(\"omw-1.4\")"
   ]
  },
  {
   "cell_type": "code",
   "execution_count": 24,
   "id": "4bd85a94",
   "metadata": {
    "scrolled": true
   },
   "outputs": [
    {
     "data": {
      "text/html": [
       "<div class=\"data-frame\"><p>56 rows × 2 columns</p><table class=\"data-frame\"><thead><tr><th></th><th>Token</th><th>POS Tag</th></tr><tr><th></th><th title=\"String\">String</th><th title=\"String\">String</th></tr></thead><tbody><tr><th>1</th><td>Quarterly</td><td>JJ</td></tr><tr><th>2</th><td>profits</td><td>NNS</td></tr><tr><th>3</th><td>at</td><td>IN</td></tr><tr><th>4</th><td>US</td><td>NNP</td></tr><tr><th>5</th><td>media</td><td>NNS</td></tr><tr><th>6</th><td>giant</td><td>JJ</td></tr><tr><th>7</th><td>TimeWarner</td><td>NNP</td></tr><tr><th>8</th><td>jumped</td><td>VBD</td></tr><tr><th>9</th><td>76</td><td>CD</td></tr><tr><th>10</th><td>%</td><td>NN</td></tr><tr><th>11</th><td>to</td><td>TO</td></tr><tr><th>12</th><td>$</td><td>$</td></tr><tr><th>13</th><td>1.13</td><td>CD</td></tr><tr><th>14</th><td>bn</td><td>NN</td></tr><tr><th>15</th><td>(</td><td>(</td></tr><tr><th>16</th><td>£</td><td>JJ</td></tr><tr><th>17</th><td>600</td><td>CD</td></tr><tr><th>18</th><td>m</td><td>NN</td></tr><tr><th>19</th><td>)</td><td>)</td></tr><tr><th>20</th><td>for</td><td>IN</td></tr><tr><th>21</th><td>the</td><td>DT</td></tr><tr><th>22</th><td>three</td><td>CD</td></tr><tr><th>23</th><td>months</td><td>NNS</td></tr><tr><th>24</th><td>to</td><td>TO</td></tr><tr><th>25</th><td>December</td><td>NNP</td></tr><tr><th>26</th><td>,</td><td>,</td></tr><tr><th>27</th><td>from</td><td>IN</td></tr><tr><th>28</th><td>$</td><td>$</td></tr><tr><th>29</th><td>639</td><td>CD</td></tr><tr><th>30</th><td>m</td><td>JJ</td></tr><tr><th>&vellip;</th><td>&vellip;</td><td>&vellip;</td></tr></tbody></table></div>"
      ],
      "text/latex": [
       "\\begin{tabular}{r|cc}\n",
       "\t& Token & POS Tag\\\\\n",
       "\t\\hline\n",
       "\t& String & String\\\\\n",
       "\t\\hline\n",
       "\t1 & Quarterly & JJ \\\\\n",
       "\t2 & profits & NNS \\\\\n",
       "\t3 & at & IN \\\\\n",
       "\t4 & US & NNP \\\\\n",
       "\t5 & media & NNS \\\\\n",
       "\t6 & giant & JJ \\\\\n",
       "\t7 & TimeWarner & NNP \\\\\n",
       "\t8 & jumped & VBD \\\\\n",
       "\t9 & 76 & CD \\\\\n",
       "\t10 & \\% & NN \\\\\n",
       "\t11 & to & TO \\\\\n",
       "\t12 & \\$ & \\$ \\\\\n",
       "\t13 & 1.13 & CD \\\\\n",
       "\t14 & bn & NN \\\\\n",
       "\t15 & ( & ( \\\\\n",
       "\t16 & £ & JJ \\\\\n",
       "\t17 & 600 & CD \\\\\n",
       "\t18 & m & NN \\\\\n",
       "\t19 & ) & ) \\\\\n",
       "\t20 & for & IN \\\\\n",
       "\t21 & the & DT \\\\\n",
       "\t22 & three & CD \\\\\n",
       "\t23 & months & NNS \\\\\n",
       "\t24 & to & TO \\\\\n",
       "\t25 & December & NNP \\\\\n",
       "\t26 & , & , \\\\\n",
       "\t27 & from & IN \\\\\n",
       "\t28 & \\$ & \\$ \\\\\n",
       "\t29 & 639 & CD \\\\\n",
       "\t30 & m & JJ \\\\\n",
       "\t$\\dots$ & $\\dots$ & $\\dots$ \\\\\n",
       "\\end{tabular}\n"
      ],
      "text/plain": [
       "\u001b[1m56×2 DataFrame\u001b[0m\n",
       "\u001b[1m Row \u001b[0m│\u001b[1m Token       \u001b[0m\u001b[1m POS Tag \u001b[0m\n",
       "\u001b[1m     \u001b[0m│\u001b[90m String      \u001b[0m\u001b[90m String  \u001b[0m\n",
       "─────┼──────────────────────\n",
       "   1 │ Quarterly    JJ\n",
       "   2 │ profits      NNS\n",
       "   3 │ at           IN\n",
       "   4 │ US           NNP\n",
       "   5 │ media        NNS\n",
       "   6 │ giant        JJ\n",
       "   7 │ TimeWarner   NNP\n",
       "   8 │ jumped       VBD\n",
       "   9 │ 76           CD\n",
       "  10 │ %            NN\n",
       "  11 │ to           TO\n",
       "  ⋮  │      ⋮          ⋮\n",
       "  47 │ sales        NNS\n",
       "  48 │ of           IN\n",
       "  49 │ high-speed   JJ\n",
       "  50 │ internet     NN\n",
       "  51 │ connections  NNS\n",
       "  52 │ and          CC\n",
       "  53 │ higher       JJR\n",
       "  54 │ advert       NN\n",
       "  55 │ sales        NNS\n",
       "  56 │ .            .\n",
       "\u001b[36m             35 rows omitted\u001b[0m"
      ]
     },
     "execution_count": 24,
     "metadata": {},
     "output_type": "execute_result"
    }
   ],
   "source": [
    "sent_tokens = tokens(StringDocument(sentences[1]))\n",
    "sent_tags = nltk.pos_tag(sent_tokens)\n",
    "df = DataFrame(Token = [x[1] for x in sent_tags], POS_Tag = [x[2] for x in sent_tags])\n",
    "rename!(df, Symbol.([\"Token\", \"POS Tag\"]))"
   ]
  },
  {
   "cell_type": "code",
   "execution_count": 20,
   "id": "31eb5a9b",
   "metadata": {},
   "outputs": [
    {
     "data": {
      "text/plain": [
       "PyObject <WordNetLemmatizer>"
      ]
     },
     "execution_count": 20,
     "metadata": {},
     "output_type": "execute_result"
    }
   ],
   "source": [
    "lemmatizer = nltk.stem.WordNetLemmatizer()"
   ]
  },
  {
   "cell_type": "code",
   "execution_count": 21,
   "id": "26d1a624",
   "metadata": {},
   "outputs": [
    {
     "name": "stdout",
     "output_type": "stream",
     "text": [
      "rock\n",
      "corpus\n"
     ]
    }
   ],
   "source": [
    "println(lemmatizer.lemmatize(\"rocks\"))\n",
    "println(lemmatizer.lemmatize(\"corpora\"))"
   ]
  },
  {
   "cell_type": "code",
   "execution_count": 22,
   "id": "11b4e8d2",
   "metadata": {
    "scrolled": true
   },
   "outputs": [
    {
     "data": {
      "text/plain": [
       "476-element Vector{Tuple{String, String}}:\n",
       " (\"Quarterly\", \"JJ\")\n",
       " (\"profits\", \"NNS\")\n",
       " (\"at\", \"IN\")\n",
       " (\"US\", \"NNP\")\n",
       " (\"media\", \"NNS\")\n",
       " (\"giant\", \"JJ\")\n",
       " (\"TimeWarner\", \"NNP\")\n",
       " (\"jumped\", \"VBD\")\n",
       " (\"76\", \"CD\")\n",
       " (\"%\", \"NN\")\n",
       " (\"to\", \"TO\")\n",
       " (\"\\$\", \"\\$\")\n",
       " (\"1.13\", \"CD\")\n",
       " ⋮\n",
       " (\"AOL\", \"NNP\")\n",
       " (\"Europe\", \"NNP\")\n",
       " (\"as\", \"IN\")\n",
       " (\"a\", \"DT\")\n",
       " (\"loss\", \"NN\")\n",
       " (\"on\", \"IN\")\n",
       " (\"the\", \"DT\")\n",
       " (\"value\", \"NN\")\n",
       " (\"of\", \"IN\")\n",
       " (\"that\", \"DT\")\n",
       " (\"stake\", \"NN\")\n",
       " (\".\", \".\")"
      ]
     },
     "execution_count": 22,
     "metadata": {},
     "output_type": "execute_result"
    }
   ],
   "source": [
    "pos_tags = nltk.pos_tag(tokens(doc))"
   ]
  },
  {
   "cell_type": "code",
   "execution_count": 23,
   "id": "931a32bd",
   "metadata": {
    "scrolled": true
   },
   "outputs": [
    {
     "name": "stdout",
     "output_type": "stream",
     "text": [
      "[\"Quarterly\", \"profit\", \"at\", \"US\", \"medium\", \"giant\", \"TimeWarner\", \"jumped\", \"76\", \"%\", \"to\", \"\\$\", \"1.13\", \"bn\", \"(\", \"£\", \"600\", \"m\", \")\", \"for\", \"the\", \"three\", \"month\", \"to\", \"December\", \",\", \"from\", \"\\$\", \"639\", \"m\", \"year-earlier.The\", \"firm\", \",\", \"which\", \"is\", \"now\", \"one\", \"of\", \"the\", \"biggest\", \"investor\", \"in\", \"Google\", \",\", \"benefited\", \"from\", \"sale\", \"of\", \"high-speed\", \"internet\", \"connection\", \"and\", \"higher\", \"advert\", \"sales.\", \"TimeWarner\", \"said\", \"fourth\", \"quarter\", \"sale\", \"rose\", \"2\", \"%\", \"to\", \"\\$\", \"11.1\", \"bn\", \"from\", \"\\$\", \"10.9\", \"bn.\", \"Its\", \"profit\", \"were\", \"buoyed\", \"by\", \"one-off\", \"gain\", \"which\", \"offset\", \"a\", \"profit\", \"dip\", \"at\", \"Warner\", \"Bros\", \",\", \"and\", \"le\", \"user\", \"for\", \"AOL.Time\", \"Warner\", \"said\", \"on\", \"Friday\", \"that\", \"it\", \"now\", \"owns\", \"8\", \"%\", \"of\", \"search-engine\", \"Google.\", \"But\", \"it\", \"own\", \"internet\", \"business\", \",\", \"AOL\", \",\", \"had\", \"ha\", \"mixed\", \"fortunes.\", \"It\", \"lost\", \"464,000\", \"subscriber\", \"in\", \"the\", \"fourth\", \"quarter\", \"profit\", \"were\", \"lower\", \"than\", \"in\", \"the\", \"preceding\", \"three\", \"quarters.\", \"However\", \",\", \"the\", \"company\", \"said\", \"AOL\", \"'\", \"s\", \"underlying\", \"profit\", \"before\", \"exceptional\", \"item\", \"rose\", \"8\", \"%\", \"on\", \"the\", \"back\", \"of\", \"stronger\", \"internet\", \"advertising\", \"revenues.\", \"It\", \"hope\", \"to\", \"increase\", \"subscriber\", \"by\", \"offering\", \"the\", \"online\", \"service\", \"free\", \"to\", \"TimeWarner\", \"internet\", \"customer\", \"and\", \"will\", \"try\", \"to\", \"sign\", \"up\", \"AOL\", \"'\", \"s\", \"existing\", \"customer\", \"for\", \"high-speed\", \"broadband.\", \"TimeWarner\", \"also\", \"ha\", \"to\", \"restate\", \"2000\", \"and\", \"2003\", \"result\", \"following\", \"a\", \"probe\", \"by\", \"the\", \"US\", \"Securities\", \"Exchange\", \"Commission\", \"(\", \"SEC\", \")\", \",\", \"which\", \"is\", \"close\", \"to\", \"concluding.Time\", \"Warner\", \"'\", \"s\", \"fourth\", \"quarter\", \"profit\", \"were\", \"slightly\", \"better\", \"than\", \"analyst\", \"'\", \"expectations.\", \"But\", \"it\", \"film\", \"division\", \"saw\", \"profit\", \"slump\", \"27\", \"%\", \"to\", \"\\$\", \"284\", \"m\", \",\", \"helped\", \"by\", \"box-office\", \"flop\", \"Alexander\", \"and\", \"Catwoman\", \",\", \"a\", \"sharp\", \"contrast\", \"to\", \"year-earlier\", \",\", \"when\", \"the\", \"third\", \"and\", \"final\", \"film\", \"in\", \"the\", \"Lord\", \"of\", \"the\", \"Rings\", \"trilogy\", \"boosted\", \"results.\", \"For\", \"the\", \"full-year\", \",\", \"TimeWarner\", \"posted\", \"a\", \"profit\", \"of\", \"\\$\", \"3.36\", \"bn\", \",\", \"up\", \"27\", \"%\", \"from\", \"it\", \"2003\", \"performance\", \",\", \"while\", \"revenue\", \"grew\", \"6.4\", \"%\", \"to\", \"\\$\", \"42.09\", \"bn.\", \"\\\"\", \"Our\", \"financial\", \"performance\", \"wa\", \"strong\", \",\", \"meeting\", \"or\", \"exceeding\", \"all\", \"of\", \"our\", \"full-year\", \"objective\", \"and\", \"greatly\", \"enhancing\", \"our\", \"flexibility\", \",\", \"\\\"\", \"chairman\", \"and\", \"chief\", \"executive\", \"Richard\", \"Parsons\", \"said.\", \"For\", \"2005\", \",\", \"TimeWarner\", \"is\", \"projecting\", \"operating\", \"earnings\", \"growth\", \"of\", \"around\", \"5\", \"%\", \",\", \"and\", \"also\", \"expects\", \"higher\", \"revenue\", \"and\", \"wider\", \"profit\", \"margins.TimeWarner\", \"is\", \"to\", \"restate\", \"it\", \"account\", \"a\", \"part\", \"of\", \"effort\", \"to\", \"resolve\", \"an\", \"inquiry\", \"into\", \"AOL\", \"by\", \"US\", \"market\", \"regulators.\", \"It\", \"ha\", \"already\", \"offered\", \"to\", \"pay\", \"\\$\", \"300\", \"m\", \"to\", \"settle\", \"charge\", \",\", \"in\", \"a\", \"deal\", \"that\", \"is\", \"under\", \"review\", \"by\", \"the\", \"SEC.\", \"The\", \"company\", \"said\", \"it\", \"wa\", \"unable\", \"to\", \"estimate\", \"the\", \"amount\", \"it\", \"needed\", \"to\", \"set\", \"aside\", \"for\", \"legal\", \"reserve\", \",\", \"which\", \"it\", \"previously\", \"set\", \"at\", \"\\$\", \"500\", \"m.\", \"It\", \"intends\", \"to\", \"adjust\", \"the\", \"way\", \"it\", \"account\", \"for\", \"a\", \"deal\", \"with\", \"German\", \"music\", \"publisher\", \"Bertelsmann\", \"'\", \"s\", \"purchase\", \"of\", \"a\", \"stake\", \"in\", \"AOL\", \"Europe\", \",\", \"which\", \"it\", \"had\", \"reported\", \"a\", \"advertising\", \"revenue.\", \"It\", \"will\", \"now\", \"book\", \"the\", \"sale\", \"of\", \"it\", \"stake\", \"in\", \"AOL\", \"Europe\", \"a\", \"a\", \"loss\", \"on\", \"the\", \"value\", \"of\", \"that\", \"stake\", \".\"]\n"
     ]
    }
   ],
   "source": [
    "println([lemmatizer.lemmatize(token) for token in tokens(doc)])"
   ]
  }
 ],
 "metadata": {
  "kernelspec": {
   "display_name": "Julia 1.7.1",
   "language": "julia",
   "name": "julia-1.7"
  },
  "language_info": {
   "file_extension": ".jl",
   "mimetype": "application/julia",
   "name": "julia",
   "version": "1.7.1"
  }
 },
 "nbformat": 4,
 "nbformat_minor": 5
}
