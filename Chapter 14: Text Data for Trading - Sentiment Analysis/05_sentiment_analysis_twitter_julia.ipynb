{
 "cells": [
  {
   "cell_type": "markdown",
   "metadata": {},
   "source": [
    "# Text classification and sentiment analysis: Twitter"
   ]
  },
  {
   "cell_type": "markdown",
   "metadata": {},
   "source": [
    "Once text data has been converted into numerical features using the natural language processing techniques discussed in the previous sections, text classification works just like any other classification task.\n",
    "\n",
    "In this notebook, we will apply these preprocessing technique to news articles, product reviews, and Twitter data and teach various classifiers to predict discrete news categories, review scores, and sentiment polarity."
   ]
  },
  {
   "cell_type": "markdown",
   "metadata": {},
   "source": [
    "## Imports"
   ]
  },
  {
   "cell_type": "code",
   "execution_count": 1,
   "metadata": {
    "ExecuteTime": {
     "end_time": "2020-06-21T00:42:48.348039Z",
     "start_time": "2020-06-21T00:42:48.344849Z"
    }
   },
   "outputs": [],
   "source": [
    "using Pkg"
   ]
  },
  {
   "cell_type": "code",
   "execution_count": 2,
   "metadata": {},
   "outputs": [],
   "source": [
    "using PyCall\n",
    "using Conda"
   ]
  },
  {
   "cell_type": "code",
   "execution_count": 3,
   "metadata": {
    "scrolled": true
   },
   "outputs": [],
   "source": [
    "#Pkg.add(\"TextAnalysis\")\n",
    "#Pkg.add(\"CSV\")\n",
    "#Pkg.add(\"DataFrames\")\n",
    "#Pkg.add(\"StatsPlots\")\n",
    "#Pkg.add(\"Dates\")\n",
    "#Pkg.add(\"MLJ\")\n",
    "#Pkg.add(\"MLJText\")\n",
    "#Pkg.add(\"StringEncodings\")\n",
    "#Pkg.add(\"ScikitLearn\")"
   ]
  },
  {
   "cell_type": "code",
   "execution_count": 4,
   "metadata": {},
   "outputs": [],
   "source": [
    "using TextAnalysis\n",
    "using CSV\n",
    "using DataFrames\n",
    "using StatsPlots\n",
    "using Dates\n",
    "using MLJ\n",
    "using MLJText\n",
    "using StringEncodings"
   ]
  },
  {
   "cell_type": "code",
   "execution_count": 5,
   "metadata": {},
   "outputs": [],
   "source": [
    "using ScikitLearn"
   ]
  },
  {
   "cell_type": "code",
   "execution_count": 6,
   "metadata": {},
   "outputs": [],
   "source": [
    "using ScikitLearn: @sk_import"
   ]
  },
  {
   "cell_type": "code",
   "execution_count": 7,
   "metadata": {},
   "outputs": [
    {
     "data": {
      "text/plain": [
       "PyObject <function accuracy_score at 0x000000007FDB93A0>"
      ]
     },
     "execution_count": 7,
     "metadata": {},
     "output_type": "execute_result"
    }
   ],
   "source": [
    "@sk_import feature_extraction.text: CountVectorizer\n",
    "@sk_import feature_extraction.text: TfidfVectorizer\n",
    "@sk_import naive_bayes: MultinomialNB\n",
    "@sk_import metrics: roc_auc_score\n",
    "@sk_import metrics: roc_curve\n",
    "@sk_import metrics: accuracy_score"
   ]
  },
  {
   "cell_type": "markdown",
   "metadata": {},
   "source": [
    "## Twitter Sentiment"
   ]
  },
  {
   "cell_type": "markdown",
   "metadata": {},
   "source": [
    "### Download the data"
   ]
  },
  {
   "cell_type": "markdown",
   "metadata": {},
   "source": [
    "We use a dataset that contains 1.6 million training and 350 test tweets from 2009 with algorithmically assigned binary positive and negative sentiment scores that are fairly evenly split."
   ]
  },
  {
   "cell_type": "markdown",
   "metadata": {},
   "source": [
    "Follow the [instructions](../data/twitter_sentiment.ipynb) to create the dataset."
   ]
  },
  {
   "cell_type": "markdown",
   "metadata": {},
   "source": [
    "- 0 - the polarity of the tweet (0 = negative, 2 = neutral, 4 = positive); training data has no neutral tweets\n",
    "- 1 - the id of the tweet (2087)\n",
    "- 2 - the date of the tweet (Sat May 16 23:58:44 UTC 2009)\n",
    "- 3 - the query (lyx). If there is no query, then this value is NO_QUERY. (only test data uses query)\n",
    "- 4 - the user that tweeted (robotickilldozr)\n",
    "- 5 - the text of the tweet (Lyx is cool)"
   ]
  },
  {
   "cell_type": "markdown",
   "metadata": {},
   "source": [
    "### Read and preprocess train/test data"
   ]
  },
  {
   "cell_type": "markdown",
   "metadata": {},
   "source": [
    "Take a few preprocessing steps:\n",
    "- remove tweets above the legal (at the time) length of 140 characters,\n",
    "- binarize polarity, and \n",
    "- move the data to the faster parquet format."
   ]
  },
  {
   "cell_type": "code",
   "execution_count": 8,
   "metadata": {},
   "outputs": [
    {
     "data": {
      "text/plain": [
       "load_train_data (generic function with 1 method)"
      ]
     },
     "execution_count": 8,
     "metadata": {},
     "output_type": "execute_result"
    }
   ],
   "source": [
    "function load_train_data()\n",
    "    names = [\"polarity\", \"id\", \"date\", \"query\", \"user\", \"text\"]\n",
    "    f = open(\"../data/sentiment140/train.csv\",\"r\")\n",
    "    s = StringDecoder(f,\"LATIN1\", \"UTF-8\")\n",
    "    train_df = CSV.read(s, DataFrame; header = names)\n",
    "    close(s)\n",
    "    close(f)\n",
    "    return train_df\n",
    "end"
   ]
  },
  {
   "cell_type": "code",
   "execution_count": 9,
   "metadata": {},
   "outputs": [
    {
     "data": {
      "text/plain": [
       "clean_train_df (generic function with 1 method)"
      ]
     },
     "execution_count": 9,
     "metadata": {},
     "output_type": "execute_result"
    }
   ],
   "source": [
    "function clean_train_df(train_df)\n",
    "    train_df.date = replace.(train_df.date, \" PDT\"=>\"\")\n",
    "    train_df.date = DateTime.(train_df.date, \"e u d HH:MM:SS y\")\n",
    "    \n",
    "    #Delete id, query columns\n",
    "    select!(train_df, Not(:id))\n",
    "    select!(train_df, Not(:query))\n",
    "    \n",
    "    #Delete polarity,text duplicates\n",
    "    non_unique_indices = findall(nonunique(select(train_df, [:polarity, :text])))\n",
    "    train_df = train_df[Not(non_unique_indices), :]\n",
    "    \n",
    "    #Delete rows with len(text) >= 140\n",
    "    filter(row -> length(row.text) <= 140, train_df)\n",
    "    \n",
    "    #Binarize polarity\n",
    "    replace!(train_df.polarity, 2=>1)\n",
    "    replace!(train_df.polarity, 4=>1)\n",
    "    \n",
    "    return train_df\n",
    "end"
   ]
  },
  {
   "cell_type": "code",
   "execution_count": 10,
   "metadata": {
    "scrolled": true
   },
   "outputs": [
    {
     "data": {
      "text/html": [
       "<div class=\"data-frame\"><p>1,583,691 rows × 4 columns</p><table class=\"data-frame\"><thead><tr><th></th><th>polarity</th><th>date</th><th>user</th><th>text</th></tr><tr><th></th><th title=\"Int64\">Int64</th><th title=\"DateTime\">DateTime</th><th title=\"String\">String</th><th title=\"String\">String</th></tr></thead><tbody><tr><th>1</th><td>0</td><td>2009-04-06T22:19:45</td><td>_TheSpecialOne_</td><td>@switchfoot http://twitpic.com/2y1zl - Awww, that&apos;s a bummer.  You shoulda got David Carr of Third Day to do it. ;D</td></tr><tr><th>2</th><td>0</td><td>2009-04-06T22:19:49</td><td>scotthamilton</td><td>is upset that he can&apos;t update his Facebook by texting it... and might cry as a result  School today also. Blah!</td></tr><tr><th>3</th><td>0</td><td>2009-04-06T22:19:53</td><td>mattycus</td><td>@Kenichan I dived many times for the ball. Managed to save 50%  The rest go out of bounds</td></tr><tr><th>4</th><td>0</td><td>2009-04-06T22:19:57</td><td>ElleCTF</td><td>my whole body feels itchy and like its on fire </td></tr><tr><th>5</th><td>0</td><td>2009-04-06T22:19:57</td><td>Karoli</td><td>@nationwideclass no, it&apos;s not behaving at all. i&apos;m mad. why am i here? because I can&apos;t see you all over there. </td></tr><tr><th>6</th><td>0</td><td>2009-04-06T22:20:00</td><td>joy_wolf</td><td>@Kwesidei not the whole crew </td></tr><tr><th>7</th><td>0</td><td>2009-04-06T22:20:03</td><td>mybirch</td><td>Need a hug </td></tr><tr><th>8</th><td>0</td><td>2009-04-06T22:20:03</td><td>coZZ</td><td>@LOLTrish hey  long time no see! Yes.. Rains a bit ,only a bit  LOL , I&apos;m fine thanks , how&apos;s you ?</td></tr><tr><th>9</th><td>0</td><td>2009-04-06T22:20:05</td><td>2Hood4Hollywood</td><td>@Tatiana_K nope they didn&apos;t have it </td></tr><tr><th>10</th><td>0</td><td>2009-04-06T22:20:09</td><td>mimismo</td><td>@twittera que me muera ? </td></tr><tr><th>11</th><td>0</td><td>2009-04-06T22:20:16</td><td>erinx3leannexo</td><td>spring break in plain city... it&apos;s snowing </td></tr><tr><th>12</th><td>0</td><td>2009-04-06T22:20:17</td><td>pardonlauren</td><td>I just re-pierced my ears </td></tr><tr><th>13</th><td>0</td><td>2009-04-06T22:20:19</td><td>TLeC</td><td>@caregiving I couldn&apos;t bear to watch it.  And I thought the UA loss was embarrassing . . . . .</td></tr><tr><th>14</th><td>0</td><td>2009-04-06T22:20:19</td><td>robrobbierobert</td><td>@octolinz16 It it counts, idk why I did either. you never talk to me anymore </td></tr><tr><th>15</th><td>0</td><td>2009-04-06T22:20:20</td><td>bayofwolves</td><td>@smarrison i would&apos;ve been the first, but i didn&apos;t have a gun.    not really though, zac snyder&apos;s just a doucheclown.</td></tr><tr><th>16</th><td>0</td><td>2009-04-06T22:20:20</td><td>HairByJess</td><td>@iamjazzyfizzle I wish I got to watch it with you!! I miss you and @iamlilnicki  how was the premiere?!</td></tr><tr><th>17</th><td>0</td><td>2009-04-06T22:20:22</td><td>lovesongwriter</td><td>Hollis&apos; death scene will hurt me severely to watch on film  wry is directors cut not out now?</td></tr><tr><th>18</th><td>0</td><td>2009-04-06T22:20:25</td><td>armotley</td><td>about to file taxes </td></tr><tr><th>19</th><td>0</td><td>2009-04-06T22:20:31</td><td>starkissed</td><td>@LettyA ahh ive always wanted to see rent  love the soundtrack!!</td></tr><tr><th>20</th><td>0</td><td>2009-04-06T22:20:34</td><td>gi_gi_bee</td><td>@FakerPattyPattz Oh dear. Were you drinking out of the forgotten table drinks? </td></tr><tr><th>21</th><td>0</td><td>2009-04-06T22:20:37</td><td>quanvu</td><td>@alydesigns i was out most of the day so didn&apos;t get much done </td></tr><tr><th>22</th><td>0</td><td>2009-04-06T22:20:38</td><td>swinspeedx</td><td>one of my friend called me, and asked to meet with her at Mid Valley today...but i&apos;ve no time *sigh* </td></tr><tr><th>23</th><td>0</td><td>2009-04-06T22:20:40</td><td>cooliodoc</td><td>@angry_barista I baked you a cake but I ated it </td></tr><tr><th>24</th><td>0</td><td>2009-04-06T22:20:40</td><td>viJILLante</td><td>this week is not going as i had hoped </td></tr><tr><th>25</th><td>0</td><td>2009-04-06T22:20:41</td><td>Ljelli3166</td><td>blagh class at 8 tomorrow </td></tr><tr><th>26</th><td>0</td><td>2009-04-06T22:20:44</td><td>ChicagoCubbie</td><td>I hate when I have to call and wake people up </td></tr><tr><th>27</th><td>0</td><td>2009-04-06T22:20:50</td><td>KatieAngell</td><td>Just going to cry myself to sleep after watching Marley and Me.  </td></tr><tr><th>28</th><td>0</td><td>2009-04-06T22:20:52</td><td>gagoo</td><td>im sad now  Miss.Lilly</td></tr><tr><th>29</th><td>0</td><td>2009-04-06T22:20:56</td><td>abel209</td><td>ooooh.... LOL  that leslie.... and ok I won&apos;t do it again so leslie won&apos;t  get mad again </td></tr><tr><th>30</th><td>0</td><td>2009-04-06T22:21:04</td><td>BaptisteTheFool</td><td>Meh... Almost Lover is the exception... this track gets me depressed every time. </td></tr><tr><th>&vellip;</th><td>&vellip;</td><td>&vellip;</td><td>&vellip;</td><td>&vellip;</td></tr></tbody></table></div>"
      ],
      "text/latex": [
       "\\begin{tabular}{r|cccc}\n",
       "\t& polarity & date & user & text\\\\\n",
       "\t\\hline\n",
       "\t& Int64 & DateTime & String & String\\\\\n",
       "\t\\hline\n",
       "\t1 & 0 & 2009-04-06T22:19:45 & \\_TheSpecialOne\\_ & @switchfoot http://twitpic.com/2y1zl - Awww, that's a bummer.  You shoulda got David Carr of Third Day to do it. ;D \\\\\n",
       "\t2 & 0 & 2009-04-06T22:19:49 & scotthamilton & is upset that he can't update his Facebook by texting it... and might cry as a result  School today also. Blah! \\\\\n",
       "\t3 & 0 & 2009-04-06T22:19:53 & mattycus & @Kenichan I dived many times for the ball. Managed to save 50\\%  The rest go out of bounds \\\\\n",
       "\t4 & 0 & 2009-04-06T22:19:57 & ElleCTF & my whole body feels itchy and like its on fire  \\\\\n",
       "\t5 & 0 & 2009-04-06T22:19:57 & Karoli & @nationwideclass no, it's not behaving at all. i'm mad. why am i here? because I can't see you all over there.  \\\\\n",
       "\t6 & 0 & 2009-04-06T22:20:00 & joy\\_wolf & @Kwesidei not the whole crew  \\\\\n",
       "\t7 & 0 & 2009-04-06T22:20:03 & mybirch & Need a hug  \\\\\n",
       "\t8 & 0 & 2009-04-06T22:20:03 & coZZ & @LOLTrish hey  long time no see! Yes.. Rains a bit ,only a bit  LOL , I'm fine thanks , how's you ? \\\\\n",
       "\t9 & 0 & 2009-04-06T22:20:05 & 2Hood4Hollywood & @Tatiana\\_K nope they didn't have it  \\\\\n",
       "\t10 & 0 & 2009-04-06T22:20:09 & mimismo & @twittera que me muera ?  \\\\\n",
       "\t11 & 0 & 2009-04-06T22:20:16 & erinx3leannexo & spring break in plain city... it's snowing  \\\\\n",
       "\t12 & 0 & 2009-04-06T22:20:17 & pardonlauren & I just re-pierced my ears  \\\\\n",
       "\t13 & 0 & 2009-04-06T22:20:19 & TLeC & @caregiving I couldn't bear to watch it.  And I thought the UA loss was embarrassing . . . . . \\\\\n",
       "\t14 & 0 & 2009-04-06T22:20:19 & robrobbierobert & @octolinz16 It it counts, idk why I did either. you never talk to me anymore  \\\\\n",
       "\t15 & 0 & 2009-04-06T22:20:20 & bayofwolves & @smarrison i would've been the first, but i didn't have a gun.    not really though, zac snyder's just a doucheclown. \\\\\n",
       "\t16 & 0 & 2009-04-06T22:20:20 & HairByJess & @iamjazzyfizzle I wish I got to watch it with you!! I miss you and @iamlilnicki  how was the premiere?! \\\\\n",
       "\t17 & 0 & 2009-04-06T22:20:22 & lovesongwriter & Hollis' death scene will hurt me severely to watch on film  wry is directors cut not out now? \\\\\n",
       "\t18 & 0 & 2009-04-06T22:20:25 & armotley & about to file taxes  \\\\\n",
       "\t19 & 0 & 2009-04-06T22:20:31 & starkissed & @LettyA ahh ive always wanted to see rent  love the soundtrack!! \\\\\n",
       "\t20 & 0 & 2009-04-06T22:20:34 & gi\\_gi\\_bee & @FakerPattyPattz Oh dear. Were you drinking out of the forgotten table drinks?  \\\\\n",
       "\t21 & 0 & 2009-04-06T22:20:37 & quanvu & @alydesigns i was out most of the day so didn't get much done  \\\\\n",
       "\t22 & 0 & 2009-04-06T22:20:38 & swinspeedx & one of my friend called me, and asked to meet with her at Mid Valley today...but i've no time *sigh*  \\\\\n",
       "\t23 & 0 & 2009-04-06T22:20:40 & cooliodoc & @angry\\_barista I baked you a cake but I ated it  \\\\\n",
       "\t24 & 0 & 2009-04-06T22:20:40 & viJILLante & this week is not going as i had hoped  \\\\\n",
       "\t25 & 0 & 2009-04-06T22:20:41 & Ljelli3166 & blagh class at 8 tomorrow  \\\\\n",
       "\t26 & 0 & 2009-04-06T22:20:44 & ChicagoCubbie & I hate when I have to call and wake people up  \\\\\n",
       "\t27 & 0 & 2009-04-06T22:20:50 & KatieAngell & Just going to cry myself to sleep after watching Marley and Me.   \\\\\n",
       "\t28 & 0 & 2009-04-06T22:20:52 & gagoo & im sad now  Miss.Lilly \\\\\n",
       "\t29 & 0 & 2009-04-06T22:20:56 & abel209 & ooooh.... LOL  that leslie.... and ok I won't do it again so leslie won't  get mad again  \\\\\n",
       "\t30 & 0 & 2009-04-06T22:21:04 & BaptisteTheFool & Meh... Almost Lover is the exception... this track gets me depressed every time.  \\\\\n",
       "\t$\\dots$ & $\\dots$ & $\\dots$ & $\\dots$ & $\\dots$ \\\\\n",
       "\\end{tabular}\n"
      ],
      "text/plain": [
       "\u001b[1m1583691×4 DataFrame\u001b[0m\n",
       "\u001b[1m     Row \u001b[0m│\u001b[1m polarity \u001b[0m\u001b[1m date                \u001b[0m\u001b[1m user            \u001b[0m\u001b[1m text               \u001b[0m ⋯\n",
       "\u001b[1m         \u001b[0m│\u001b[90m Int64    \u001b[0m\u001b[90m DateTime            \u001b[0m\u001b[90m String          \u001b[0m\u001b[90m String             \u001b[0m ⋯\n",
       "─────────┼──────────────────────────────────────────────────────────────────────\n",
       "       1 │        0  2009-04-06T22:19:45  _TheSpecialOne_  @switchfoot http:// ⋯\n",
       "       2 │        0  2009-04-06T22:19:49  scotthamilton    is upset that he ca\n",
       "       3 │        0  2009-04-06T22:19:53  mattycus         @Kenichan I dived m\n",
       "       4 │        0  2009-04-06T22:19:57  ElleCTF          my whole body feels\n",
       "       5 │        0  2009-04-06T22:19:57  Karoli           @nationwideclass no ⋯\n",
       "       6 │        0  2009-04-06T22:20:00  joy_wolf         @Kwesidei not the w\n",
       "       7 │        0  2009-04-06T22:20:03  mybirch          Need a hug\n",
       "       8 │        0  2009-04-06T22:20:03  coZZ             @LOLTrish hey  long\n",
       "       9 │        0  2009-04-06T22:20:05  2Hood4Hollywood  @Tatiana_K nope the ⋯\n",
       "      10 │        0  2009-04-06T22:20:09  mimismo          @twittera que me mu\n",
       "      11 │        0  2009-04-06T22:20:16  erinx3leannexo   spring break in pla\n",
       "    ⋮    │    ⋮               ⋮                  ⋮                         ⋮   ⋱\n",
       " 1583682 │        1  2009-06-16T08:38:59  razzberry5594    WOOOOO! Xbox is bac\n",
       " 1583683 │        1  2009-06-16T08:38:59  AgustinaP        @rmedina @LaTati Mm ⋯\n",
       " 1583684 │        1  2009-06-16T08:39:00  sdancingsteph    ReCoVeRiNg FrOm ThE\n",
       " 1583685 │        1  2009-06-16T08:39:00  ChloeAmisha      @SCOOBY_GRITBOYS\n",
       " 1583686 │        1  2009-06-16T08:39:00  EvolveTom        @Cliff_Forster Yeah\n",
       " 1583687 │        1  2009-06-16T08:40:49  AmandaMarie1028  Just woke up. Havin ⋯\n",
       " 1583688 │        1  2009-06-16T08:40:49  TheWDBoards      TheWDB.com - Very c\n",
       " 1583689 │        1  2009-06-16T08:40:49  bpbabe           Are you ready for y\n",
       " 1583690 │        1  2009-06-16T08:40:49  tinydiamondz     Happy 38th Birthday\n",
       " 1583691 │        1  2009-06-16T08:40:50  RyanTrevMorris   happy #charitytuesd ⋯\n",
       "\u001b[36m                                               1 column and 1583670 rows omitted\u001b[0m"
      ]
     },
     "execution_count": 10,
     "metadata": {},
     "output_type": "execute_result"
    }
   ],
   "source": [
    "train_df = load_train_data()\n",
    "train_df = clean_train_df(train_df)"
   ]
  },
  {
   "cell_type": "code",
   "execution_count": 11,
   "metadata": {},
   "outputs": [
    {
     "name": "stdout",
     "output_type": "stream",
     "text": [
      "Summary Stats:\n",
      "Length:         1583691\n",
      "Missing Count:  0\n",
      "Mean:           0.501048\n",
      "Minimum:        0.000000\n",
      "1st Quartile:   0.000000\n",
      "Median:         1.000000\n",
      "3rd Quartile:   1.000000\n",
      "Maximum:        1.000000\n",
      "Type:           Int64\n"
     ]
    }
   ],
   "source": [
    "describe(train_df.polarity)"
   ]
  },
  {
   "cell_type": "code",
   "execution_count": 12,
   "metadata": {
    "ExecuteTime": {
     "end_time": "2020-06-21T00:42:50.931373Z",
     "start_time": "2020-06-21T00:42:50.927606Z"
    }
   },
   "outputs": [
    {
     "data": {
      "text/plain": [
       "load_test_data (generic function with 1 method)"
      ]
     },
     "execution_count": 12,
     "metadata": {},
     "output_type": "execute_result"
    }
   ],
   "source": [
    "function load_test_data()\n",
    "    names = [\"polarity\", \"id\", \"date\", \"query\", \"user\", \"text\"]\n",
    "    f = open(\"../data/sentiment140/test.csv\",\"r\")\n",
    "    s = StringDecoder(f,\"LATIN1\", \"UTF-8\")\n",
    "    test_df = CSV.read(s, DataFrame; header = names)\n",
    "    close(s)\n",
    "    close(f)\n",
    "    return test_df\n",
    "end"
   ]
  },
  {
   "cell_type": "code",
   "execution_count": 13,
   "metadata": {},
   "outputs": [
    {
     "data": {
      "text/plain": [
       "clean_test_df (generic function with 1 method)"
      ]
     },
     "execution_count": 13,
     "metadata": {},
     "output_type": "execute_result"
    }
   ],
   "source": [
    "function clean_test_df(test_df)\n",
    "    test_df.date = replace.(test_df.date, \" UTC\" => \"\")\n",
    "    test_df.date = DateTime.(test_df.date, \"e u d HH:MM:SS y\")\n",
    "    \n",
    "    #Delete id, query columns\n",
    "    select!(test_df, Not(:id))\n",
    "    select!(test_df, Not(:query))\n",
    "    \n",
    "    #Delete polarity,text duplicates\n",
    "    non_unique_indices = findall(nonunique(select(test_df, [:polarity, :text])))\n",
    "    test_df = test_df[Not(non_unique_indices), :]\n",
    "    \n",
    "    #Delete rows with len(text) >= 140\n",
    "    filter(row -> (length(row.text) <= 140 & row.polarity in 0:4), test_df)\n",
    "    \n",
    "    #Binarize polarity\n",
    "    replace!(test_df.polarity, 2=>1)\n",
    "    replace!(test_df.polarity, 4=>1)\n",
    "        \n",
    "    return test_df\n",
    "end"
   ]
  },
  {
   "cell_type": "code",
   "execution_count": 14,
   "metadata": {
    "ExecuteTime": {
     "end_time": "2020-06-21T00:42:51.013369Z",
     "start_time": "2020-06-21T00:42:50.932868Z"
    },
    "scrolled": true
   },
   "outputs": [
    {
     "data": {
      "text/html": [
       "<div class=\"data-frame\"><p>498 rows × 4 columns</p><table class=\"data-frame\"><thead><tr><th></th><th>polarity</th><th>date</th><th>user</th><th>text</th></tr><tr><th></th><th title=\"Int64\">Int64</th><th title=\"DateTime\">DateTime</th><th title=\"String\">String</th><th title=\"String\">String</th></tr></thead><tbody><tr><th>1</th><td>1</td><td>2009-05-11T03:17:40</td><td>tpryan</td><td>@stellargirl I loooooooovvvvvveee my Kindle2. Not that the DX is cool, but the 2 is fantastic in its own right.</td></tr><tr><th>2</th><td>1</td><td>2009-05-11T03:18:03</td><td>vcu451</td><td>Reading my kindle2...  Love it... Lee childs is good read.</td></tr><tr><th>3</th><td>1</td><td>2009-05-11T03:18:54</td><td>chadfu</td><td>Ok, first assesment of the #kindle2 ...it fucking rocks!!!</td></tr><tr><th>4</th><td>1</td><td>2009-05-11T03:19:04</td><td>SIX15</td><td>@kenburbary You&apos;ll love your Kindle2. I&apos;ve had mine for a few months and never looked back. The new big one is huge! No need for remorse! :)</td></tr><tr><th>5</th><td>1</td><td>2009-05-11T03:21:41</td><td>yamarama</td><td>@mikefish  Fair enough. But i have the Kindle2 and I think it&apos;s perfect  :)</td></tr><tr><th>6</th><td>1</td><td>2009-05-11T03:22:00</td><td>GeorgeVHulme</td><td>@richardebaker no. it is too big. I&apos;m quite happy with the Kindle2.</td></tr><tr><th>7</th><td>0</td><td>2009-05-11T03:22:30</td><td>Seth937</td><td>Fuck this economy. I hate aig and their non loan given asses.</td></tr><tr><th>8</th><td>1</td><td>2009-05-11T03:26:10</td><td>dcostalis</td><td>Jquery is my new best friend.</td></tr><tr><th>9</th><td>1</td><td>2009-05-11T03:27:15</td><td>PJ_King</td><td>Loves twitter</td></tr><tr><th>10</th><td>1</td><td>2009-05-11T03:29:20</td><td>mandanicole</td><td>how can you not love Obama? he makes jokes about himself.</td></tr><tr><th>11</th><td>1</td><td>2009-05-11T03:32:42</td><td>jpeb</td><td>Check this video out -- President Obama at the White House Correspondents&apos; Dinner http://bit.ly/IMXUM</td></tr><tr><th>12</th><td>0</td><td>2009-05-11T03:32:48</td><td>kylesellers</td><td>@Karoli I firmly believe that Obama/Pelosi have ZERO desire to be civil.  It&apos;s a charade and a slogan, but they want to destroy conservatism</td></tr><tr><th>13</th><td>1</td><td>2009-05-11T03:33:38</td><td>theviewfans</td><td>House Correspondents dinner was last night whoopi, barbara &amp;amp; sherri went, Obama got a standing ovation</td></tr><tr><th>14</th><td>1</td><td>2009-05-11T05:05:58</td><td>MumsFP</td><td>Watchin Espn..Jus seen this new Nike Commerical with a Puppet Lebron..sh*t was hilarious...LMAO!!!</td></tr><tr><th>15</th><td>0</td><td>2009-05-11T05:06:22</td><td>vincentx24x</td><td>dear nike, stop with the flywire. that shit is a waste of science. and ugly. love, @vincentx24x</td></tr><tr><th>16</th><td>1</td><td>2009-05-11T05:20:15</td><td>cameronwylie</td><td>#lebron best athlete of our generation, if not all time (basketball related) I don&apos;t want to get into inter-sport debates about   __1/2</td></tr><tr><th>17</th><td>0</td><td>2009-05-11T05:20:28</td><td>luv8242</td><td>I was talking to this guy last night and he was telling me that he is a die hard Spurs fan.  He also told me that he hates LeBron James.</td></tr><tr><th>18</th><td>1</td><td>2009-05-11T05:21:04</td><td>mtgillikin</td><td>i love lebron. http://bit.ly/PdHur</td></tr><tr><th>19</th><td>0</td><td>2009-05-11T05:21:37</td><td>ursecretdezire</td><td>@ludajuice Lebron is a Beast, but I&apos;m still cheering 4 the A..til the end.</td></tr><tr><th>20</th><td>1</td><td>2009-05-11T05:21:45</td><td>Native_01</td><td>@Pmillzz lebron IS THE BOSS</td></tr><tr><th>21</th><td>1</td><td>2009-05-11T05:22:03</td><td>princezzcutz</td><td>@sketchbug Lebron is a hometown hero to me, lol I love the Lakers but let&apos;s go Cavs, lol</td></tr><tr><th>22</th><td>1</td><td>2009-05-11T05:22:12</td><td>peterlikewhat</td><td>lebron and zydrunas are such an awesome duo</td></tr><tr><th>23</th><td>1</td><td>2009-05-11T05:22:37</td><td>emceet</td><td>@wordwhizkid Lebron is a beast... nobody in the NBA comes even close.</td></tr><tr><th>24</th><td>1</td><td>2009-05-11T06:02:24</td><td>CocoSavanna</td><td>downloading apps for my iphone! So much fun :-) There literally is an app for just about anything.</td></tr><tr><th>25</th><td>1</td><td>2009-05-11T19:47:29</td><td>DreambigRadio</td><td>good news, just had a call from the Visa office, saying everything is fine.....what a relief! I am sick of scams out there! Stealing!</td></tr><tr><th>26</th><td>1</td><td>2009-05-11T19:49:21</td><td>andrewwatson</td><td>http://twurl.nl/epkr4b - awesome come back from @biz (via @fredwilson)</td></tr><tr><th>27</th><td>1</td><td>2009-05-11T19:50:07</td><td>fredwilson</td><td>In montreal for a long weekend of R&amp;amp;R. Much needed.</td></tr><tr><th>28</th><td>1</td><td>2009-05-14T02:58:07</td><td>JoeSchueller</td><td>Booz Allen Hamilton has a bad ass homegrown social collaboration platform. Way cool!  #ttiv</td></tr><tr><th>29</th><td>1</td><td>2009-05-14T02:58:23</td><td>scottabel</td><td>[#MLUC09] Customer Innovation Award Winner: Booz Allen Hamilton -- http://ping.fm/c2hPP</td></tr><tr><th>30</th><td>1</td><td>2009-05-14T05:24:50</td><td>JustMe_D</td><td>@SoChi2 I current use the Nikon D90 and love it, but not as much as the Canon 40D/50D. I chose the D90 for the  video feature. My mistake.</td></tr><tr><th>&vellip;</th><td>&vellip;</td><td>&vellip;</td><td>&vellip;</td><td>&vellip;</td></tr></tbody></table></div>"
      ],
      "text/latex": [
       "\\begin{tabular}{r|cccc}\n",
       "\t& polarity & date & user & text\\\\\n",
       "\t\\hline\n",
       "\t& Int64 & DateTime & String & String\\\\\n",
       "\t\\hline\n",
       "\t1 & 1 & 2009-05-11T03:17:40 & tpryan & @stellargirl I loooooooovvvvvveee my Kindle2. Not that the DX is cool, but the 2 is fantastic in its own right. \\\\\n",
       "\t2 & 1 & 2009-05-11T03:18:03 & vcu451 & Reading my kindle2...  Love it... Lee childs is good read. \\\\\n",
       "\t3 & 1 & 2009-05-11T03:18:54 & chadfu & Ok, first assesment of the \\#kindle2 ...it fucking rocks!!! \\\\\n",
       "\t4 & 1 & 2009-05-11T03:19:04 & SIX15 & @kenburbary You'll love your Kindle2. I've had mine for a few months and never looked back. The new big one is huge! No need for remorse! :) \\\\\n",
       "\t5 & 1 & 2009-05-11T03:21:41 & yamarama & @mikefish  Fair enough. But i have the Kindle2 and I think it's perfect  :) \\\\\n",
       "\t6 & 1 & 2009-05-11T03:22:00 & GeorgeVHulme & @richardebaker no. it is too big. I'm quite happy with the Kindle2. \\\\\n",
       "\t7 & 0 & 2009-05-11T03:22:30 & Seth937 & Fuck this economy. I hate aig and their non loan given asses. \\\\\n",
       "\t8 & 1 & 2009-05-11T03:26:10 & dcostalis & Jquery is my new best friend. \\\\\n",
       "\t9 & 1 & 2009-05-11T03:27:15 & PJ\\_King & Loves twitter \\\\\n",
       "\t10 & 1 & 2009-05-11T03:29:20 & mandanicole & how can you not love Obama? he makes jokes about himself. \\\\\n",
       "\t11 & 1 & 2009-05-11T03:32:42 & jpeb & Check this video out -- President Obama at the White House Correspondents' Dinner http://bit.ly/IMXUM \\\\\n",
       "\t12 & 0 & 2009-05-11T03:32:48 & kylesellers & @Karoli I firmly believe that Obama/Pelosi have ZERO desire to be civil.  It's a charade and a slogan, but they want to destroy conservatism \\\\\n",
       "\t13 & 1 & 2009-05-11T03:33:38 & theviewfans & House Correspondents dinner was last night whoopi, barbara \\&amp; sherri went, Obama got a standing ovation \\\\\n",
       "\t14 & 1 & 2009-05-11T05:05:58 & MumsFP & Watchin Espn..Jus seen this new Nike Commerical with a Puppet Lebron..sh*t was hilarious...LMAO!!! \\\\\n",
       "\t15 & 0 & 2009-05-11T05:06:22 & vincentx24x & dear nike, stop with the flywire. that shit is a waste of science. and ugly. love, @vincentx24x \\\\\n",
       "\t16 & 1 & 2009-05-11T05:20:15 & cameronwylie & \\#lebron best athlete of our generation, if not all time (basketball related) I don't want to get into inter-sport debates about   \\_\\_1/2 \\\\\n",
       "\t17 & 0 & 2009-05-11T05:20:28 & luv8242 & I was talking to this guy last night and he was telling me that he is a die hard Spurs fan.  He also told me that he hates LeBron James. \\\\\n",
       "\t18 & 1 & 2009-05-11T05:21:04 & mtgillikin & i love lebron. http://bit.ly/PdHur \\\\\n",
       "\t19 & 0 & 2009-05-11T05:21:37 & ursecretdezire & @ludajuice Lebron is a Beast, but I'm still cheering 4 the A..til the end. \\\\\n",
       "\t20 & 1 & 2009-05-11T05:21:45 & Native\\_01 & @Pmillzz lebron IS THE BOSS \\\\\n",
       "\t21 & 1 & 2009-05-11T05:22:03 & princezzcutz & @sketchbug Lebron is a hometown hero to me, lol I love the Lakers but let's go Cavs, lol \\\\\n",
       "\t22 & 1 & 2009-05-11T05:22:12 & peterlikewhat & lebron and zydrunas are such an awesome duo \\\\\n",
       "\t23 & 1 & 2009-05-11T05:22:37 & emceet & @wordwhizkid Lebron is a beast... nobody in the NBA comes even close. \\\\\n",
       "\t24 & 1 & 2009-05-11T06:02:24 & CocoSavanna & downloading apps for my iphone! So much fun :-) There literally is an app for just about anything. \\\\\n",
       "\t25 & 1 & 2009-05-11T19:47:29 & DreambigRadio & good news, just had a call from the Visa office, saying everything is fine.....what a relief! I am sick of scams out there! Stealing! \\\\\n",
       "\t26 & 1 & 2009-05-11T19:49:21 & andrewwatson & http://twurl.nl/epkr4b - awesome come back from @biz (via @fredwilson) \\\\\n",
       "\t27 & 1 & 2009-05-11T19:50:07 & fredwilson & In montreal for a long weekend of R\\&amp;R. Much needed. \\\\\n",
       "\t28 & 1 & 2009-05-14T02:58:07 & JoeSchueller & Booz Allen Hamilton has a bad ass homegrown social collaboration platform. Way cool!  \\#ttiv \\\\\n",
       "\t29 & 1 & 2009-05-14T02:58:23 & scottabel & [\\#MLUC09] Customer Innovation Award Winner: Booz Allen Hamilton -- http://ping.fm/c2hPP \\\\\n",
       "\t30 & 1 & 2009-05-14T05:24:50 & JustMe\\_D & @SoChi2 I current use the Nikon D90 and love it, but not as much as the Canon 40D/50D. I chose the D90 for the  video feature. My mistake. \\\\\n",
       "\t$\\dots$ & $\\dots$ & $\\dots$ & $\\dots$ & $\\dots$ \\\\\n",
       "\\end{tabular}\n"
      ],
      "text/plain": [
       "\u001b[1m498×4 DataFrame\u001b[0m\n",
       "\u001b[1m Row \u001b[0m│\u001b[1m polarity \u001b[0m\u001b[1m date                \u001b[0m\u001b[1m user            \u001b[0m\u001b[1m text                   \u001b[0m ⋯\n",
       "\u001b[1m     \u001b[0m│\u001b[90m Int64    \u001b[0m\u001b[90m DateTime            \u001b[0m\u001b[90m String          \u001b[0m\u001b[90m String                 \u001b[0m ⋯\n",
       "─────┼──────────────────────────────────────────────────────────────────────────\n",
       "   1 │        1  2009-05-11T03:17:40  tpryan           @stellargirl I looooooo ⋯\n",
       "   2 │        1  2009-05-11T03:18:03  vcu451           Reading my kindle2...\n",
       "   3 │        1  2009-05-11T03:18:54  chadfu           Ok, first assesment of\n",
       "   4 │        1  2009-05-11T03:19:04  SIX15            @kenburbary You'll love\n",
       "   5 │        1  2009-05-11T03:21:41  yamarama         @mikefish  Fair enough. ⋯\n",
       "   6 │        1  2009-05-11T03:22:00  GeorgeVHulme     @richardebaker no. it i\n",
       "   7 │        0  2009-05-11T03:22:30  Seth937          Fuck this economy. I ha\n",
       "   8 │        1  2009-05-11T03:26:10  dcostalis        Jquery is my new best f\n",
       "   9 │        1  2009-05-11T03:27:15  PJ_King          Loves twitter           ⋯\n",
       "  10 │        1  2009-05-11T03:29:20  mandanicole      how can you not love Ob\n",
       "  11 │        1  2009-05-11T03:32:42  jpeb             Check this video out --\n",
       "  ⋮  │    ⋮               ⋮                  ⋮                         ⋮       ⋱\n",
       " 489 │        1  2009-06-13T16:24:03  wetfishdesigns   @johncmayer is Bobby Fl\n",
       " 490 │        1  2009-06-13T16:24:15  A_TALL_BLONDE    i lam so in love with B ⋯\n",
       " 491 │        0  2009-06-14T04:31:12  rooney_tunes     I just created my first\n",
       " 492 │        1  2009-06-14T04:31:23  roguemovement    using Linux and loving\n",
       " 493 │        1  2009-06-14T04:31:28  yomcat           After using LaTeX a lot\n",
       " 494 │        1  2009-06-14T04:31:43  proggit          Ask Programming: LaTeX  ⋯\n",
       " 495 │        0  2009-06-14T04:32:17  sam33r           On that note, I hate Wo\n",
       " 496 │        1  2009-06-14T04:36:34  iamtheonlyjosie  Ahhh... back in a *real\n",
       " 497 │        0  2009-06-14T21:36:07  plutopup7        Trouble in Iran, I see.\n",
       " 498 │        0  2009-06-14T21:36:17  captain_pete     Reading the tweets comi ⋯\n",
       "\u001b[36m                                                   1 column and 477 rows omitted\u001b[0m"
      ]
     },
     "execution_count": 14,
     "metadata": {},
     "output_type": "execute_result"
    }
   ],
   "source": [
    "test_df = load_test_data()\n",
    "test_df = clean_test_df(test_df)"
   ]
  },
  {
   "cell_type": "markdown",
   "metadata": {},
   "source": [
    "### Explore data"
   ]
  },
  {
   "cell_type": "code",
   "execution_count": 15,
   "metadata": {
    "ExecuteTime": {
     "end_time": "2020-06-21T00:42:51.031897Z",
     "start_time": "2020-06-21T00:42:51.015643Z"
    }
   },
   "outputs": [
    {
     "data": {
      "text/html": [
       "<div class=\"data-frame\"><p>5 rows × 4 columns</p><table class=\"data-frame\"><thead><tr><th></th><th>polarity</th><th>date</th><th>user</th><th>text</th></tr><tr><th></th><th title=\"Int64\">Int64</th><th title=\"DateTime\">DateTime</th><th title=\"String\">String</th><th title=\"String\">String</th></tr></thead><tbody><tr><th>1</th><td>0</td><td>2009-04-06T22:19:45</td><td>_TheSpecialOne_</td><td>@switchfoot http://twitpic.com/2y1zl - Awww, that&apos;s a bummer.  You shoulda got David Carr of Third Day to do it. ;D</td></tr><tr><th>2</th><td>0</td><td>2009-04-06T22:19:49</td><td>scotthamilton</td><td>is upset that he can&apos;t update his Facebook by texting it... and might cry as a result  School today also. Blah!</td></tr><tr><th>3</th><td>0</td><td>2009-04-06T22:19:53</td><td>mattycus</td><td>@Kenichan I dived many times for the ball. Managed to save 50%  The rest go out of bounds</td></tr><tr><th>4</th><td>0</td><td>2009-04-06T22:19:57</td><td>ElleCTF</td><td>my whole body feels itchy and like its on fire </td></tr><tr><th>5</th><td>0</td><td>2009-04-06T22:19:57</td><td>Karoli</td><td>@nationwideclass no, it&apos;s not behaving at all. i&apos;m mad. why am i here? because I can&apos;t see you all over there. </td></tr></tbody></table></div>"
      ],
      "text/latex": [
       "\\begin{tabular}{r|cccc}\n",
       "\t& polarity & date & user & text\\\\\n",
       "\t\\hline\n",
       "\t& Int64 & DateTime & String & String\\\\\n",
       "\t\\hline\n",
       "\t1 & 0 & 2009-04-06T22:19:45 & \\_TheSpecialOne\\_ & @switchfoot http://twitpic.com/2y1zl - Awww, that's a bummer.  You shoulda got David Carr of Third Day to do it. ;D \\\\\n",
       "\t2 & 0 & 2009-04-06T22:19:49 & scotthamilton & is upset that he can't update his Facebook by texting it... and might cry as a result  School today also. Blah! \\\\\n",
       "\t3 & 0 & 2009-04-06T22:19:53 & mattycus & @Kenichan I dived many times for the ball. Managed to save 50\\%  The rest go out of bounds \\\\\n",
       "\t4 & 0 & 2009-04-06T22:19:57 & ElleCTF & my whole body feels itchy and like its on fire  \\\\\n",
       "\t5 & 0 & 2009-04-06T22:19:57 & Karoli & @nationwideclass no, it's not behaving at all. i'm mad. why am i here? because I can't see you all over there.  \\\\\n",
       "\\end{tabular}\n"
      ],
      "text/plain": [
       "\u001b[1m5×4 DataFrame\u001b[0m\n",
       "\u001b[1m Row \u001b[0m│\u001b[1m polarity \u001b[0m\u001b[1m date                \u001b[0m\u001b[1m user            \u001b[0m\u001b[1m text                   \u001b[0m ⋯\n",
       "\u001b[1m     \u001b[0m│\u001b[90m Int64    \u001b[0m\u001b[90m DateTime            \u001b[0m\u001b[90m String          \u001b[0m\u001b[90m String                 \u001b[0m ⋯\n",
       "─────┼──────────────────────────────────────────────────────────────────────────\n",
       "   1 │        0  2009-04-06T22:19:45  _TheSpecialOne_  @switchfoot http://twit ⋯\n",
       "   2 │        0  2009-04-06T22:19:49  scotthamilton    is upset that he can't\n",
       "   3 │        0  2009-04-06T22:19:53  mattycus         @Kenichan I dived many\n",
       "   4 │        0  2009-04-06T22:19:57  ElleCTF          my whole body feels itc\n",
       "   5 │        0  2009-04-06T22:19:57  Karoli           @nationwideclass no, it ⋯\n",
       "\u001b[36m                                                                1 column omitted\u001b[0m"
      ]
     },
     "execution_count": 15,
     "metadata": {},
     "output_type": "execute_result"
    }
   ],
   "source": [
    "first(train_df, 5)"
   ]
  },
  {
   "cell_type": "code",
   "execution_count": 16,
   "metadata": {
    "ExecuteTime": {
     "end_time": "2020-06-21T00:42:51.097846Z",
     "start_time": "2020-06-21T00:42:51.033755Z"
    }
   },
   "outputs": [
    {
     "data": {
      "text/html": [
       "<div class=\"data-frame\"><p>2 rows × 2 columns</p><table class=\"data-frame\"><thead><tr><th></th><th>polarity</th><th>nrow</th></tr><tr><th></th><th title=\"Int64\">Int64</th><th title=\"Int64\">Int64</th></tr></thead><tbody><tr><th>1</th><td>0</td><td>790185</td></tr><tr><th>2</th><td>1</td><td>793506</td></tr></tbody></table></div>"
      ],
      "text/latex": [
       "\\begin{tabular}{r|cc}\n",
       "\t& polarity & nrow\\\\\n",
       "\t\\hline\n",
       "\t& Int64 & Int64\\\\\n",
       "\t\\hline\n",
       "\t1 & 0 & 790185 \\\\\n",
       "\t2 & 1 & 793506 \\\\\n",
       "\\end{tabular}\n"
      ],
      "text/plain": [
       "\u001b[1m2×2 DataFrame\u001b[0m\n",
       "\u001b[1m Row \u001b[0m│\u001b[1m polarity \u001b[0m\u001b[1m nrow   \u001b[0m\n",
       "\u001b[1m     \u001b[0m│\u001b[90m Int64    \u001b[0m\u001b[90m Int64  \u001b[0m\n",
       "─────┼──────────────────\n",
       "   1 │        0  790185\n",
       "   2 │        1  793506"
      ]
     },
     "execution_count": 16,
     "metadata": {},
     "output_type": "execute_result"
    }
   ],
   "source": [
    "value_counts(df, col) = combine(groupby(df, col), nrow)\n",
    "\n",
    "value_counts(train_df, :polarity)"
   ]
  },
  {
   "cell_type": "code",
   "execution_count": 17,
   "metadata": {},
   "outputs": [
    {
     "data": {
      "text/html": [
       "<div class=\"data-frame\"><p>2 rows × 2 columns</p><table class=\"data-frame\"><thead><tr><th></th><th>polarity</th><th>nrow</th></tr><tr><th></th><th title=\"Int64\">Int64</th><th title=\"Int64\">Int64</th></tr></thead><tbody><tr><th>1</th><td>0</td><td>177</td></tr><tr><th>2</th><td>1</td><td>321</td></tr></tbody></table></div>"
      ],
      "text/latex": [
       "\\begin{tabular}{r|cc}\n",
       "\t& polarity & nrow\\\\\n",
       "\t\\hline\n",
       "\t& Int64 & Int64\\\\\n",
       "\t\\hline\n",
       "\t1 & 0 & 177 \\\\\n",
       "\t2 & 1 & 321 \\\\\n",
       "\\end{tabular}\n"
      ],
      "text/plain": [
       "\u001b[1m2×2 DataFrame\u001b[0m\n",
       "\u001b[1m Row \u001b[0m│\u001b[1m polarity \u001b[0m\u001b[1m nrow  \u001b[0m\n",
       "\u001b[1m     \u001b[0m│\u001b[90m Int64    \u001b[0m\u001b[90m Int64 \u001b[0m\n",
       "─────┼─────────────────\n",
       "   1 │        0    177\n",
       "   2 │        1    321"
      ]
     },
     "execution_count": 17,
     "metadata": {},
     "output_type": "execute_result"
    }
   ],
   "source": [
    "value_counts(test_df, :polarity)"
   ]
  },
  {
   "cell_type": "code",
   "execution_count": 18,
   "metadata": {
    "scrolled": true
   },
   "outputs": [
    {
     "data": {
      "image/svg+xml": [
       "<?xml version=\"1.0\" encoding=\"utf-8\"?>\n",
       "<svg xmlns=\"http://www.w3.org/2000/svg\" xmlns:xlink=\"http://www.w3.org/1999/xlink\" width=\"600\" height=\"400\" viewBox=\"0 0 2400 1600\">\n",
       "<defs>\n",
       "  <clipPath id=\"clip0800\">\n",
       "    <rect x=\"0\" y=\"0\" width=\"2400\" height=\"1600\"/>\n",
       "  </clipPath>\n",
       "</defs>\n",
       "<path clip-path=\"url(#clip0800)\" d=\"\n",
       "M0 1600 L2400 1600 L2400 0 L0 0  Z\n",
       "  \" fill=\"#ffffff\" fill-rule=\"evenodd\" fill-opacity=\"1\"/>\n",
       "<defs>\n",
       "  <clipPath id=\"clip0801\">\n",
       "    <rect x=\"480\" y=\"0\" width=\"1681\" height=\"1600\"/>\n",
       "  </clipPath>\n",
       "</defs>\n",
       "<path clip-path=\"url(#clip0800)\" d=\"\n",
       "M247.807 1425.62 L2352.76 1425.62 L2352.76 47.2441 L247.807 47.2441  Z\n",
       "  \" fill=\"#ffffff\" fill-rule=\"evenodd\" fill-opacity=\"1\"/>\n",
       "<defs>\n",
       "  <clipPath id=\"clip0802\">\n",
       "    <rect x=\"247\" y=\"47\" width=\"2106\" height=\"1379\"/>\n",
       "  </clipPath>\n",
       "</defs>\n",
       "<polyline clip-path=\"url(#clip0802)\" style=\"stroke:#000000; stroke-width:2; stroke-opacity:0.1; fill:none\" points=\"\n",
       "  247.807,1425.62 247.807,47.2441 \n",
       "  \"/>\n",
       "<polyline clip-path=\"url(#clip0802)\" style=\"stroke:#000000; stroke-width:2; stroke-opacity:0.1; fill:none\" points=\"\n",
       "  810.627,1425.62 810.627,47.2441 \n",
       "  \"/>\n",
       "<polyline clip-path=\"url(#clip0802)\" style=\"stroke:#000000; stroke-width:2; stroke-opacity:0.1; fill:none\" points=\"\n",
       "  1373.45,1425.62 1373.45,47.2441 \n",
       "  \"/>\n",
       "<polyline clip-path=\"url(#clip0802)\" style=\"stroke:#000000; stroke-width:2; stroke-opacity:0.1; fill:none\" points=\"\n",
       "  1936.27,1425.62 1936.27,47.2441 \n",
       "  \"/>\n",
       "<polyline clip-path=\"url(#clip0802)\" style=\"stroke:#000000; stroke-width:2; stroke-opacity:0.1; fill:none\" points=\"\n",
       "  247.807,1386.61 2352.76,1386.61 \n",
       "  \"/>\n",
       "<polyline clip-path=\"url(#clip0802)\" style=\"stroke:#000000; stroke-width:2; stroke-opacity:0.1; fill:none\" points=\"\n",
       "  247.807,948.528 2352.76,948.528 \n",
       "  \"/>\n",
       "<polyline clip-path=\"url(#clip0802)\" style=\"stroke:#000000; stroke-width:2; stroke-opacity:0.1; fill:none\" points=\"\n",
       "  247.807,510.448 2352.76,510.448 \n",
       "  \"/>\n",
       "<polyline clip-path=\"url(#clip0802)\" style=\"stroke:#000000; stroke-width:2; stroke-opacity:0.1; fill:none\" points=\"\n",
       "  247.807,72.3676 2352.76,72.3676 \n",
       "  \"/>\n",
       "<polyline clip-path=\"url(#clip0800)\" style=\"stroke:#000000; stroke-width:4; stroke-opacity:1; fill:none\" points=\"\n",
       "  247.807,1425.62 2352.76,1425.62 \n",
       "  \"/>\n",
       "<polyline clip-path=\"url(#clip0800)\" style=\"stroke:#000000; stroke-width:4; stroke-opacity:1; fill:none\" points=\"\n",
       "  247.807,1425.62 247.807,47.2441 \n",
       "  \"/>\n",
       "<polyline clip-path=\"url(#clip0800)\" style=\"stroke:#000000; stroke-width:4; stroke-opacity:1; fill:none\" points=\"\n",
       "  247.807,1425.62 247.807,1409.08 \n",
       "  \"/>\n",
       "<polyline clip-path=\"url(#clip0800)\" style=\"stroke:#000000; stroke-width:4; stroke-opacity:1; fill:none\" points=\"\n",
       "  810.627,1425.62 810.627,1409.08 \n",
       "  \"/>\n",
       "<polyline clip-path=\"url(#clip0800)\" style=\"stroke:#000000; stroke-width:4; stroke-opacity:1; fill:none\" points=\"\n",
       "  1373.45,1425.62 1373.45,1409.08 \n",
       "  \"/>\n",
       "<polyline clip-path=\"url(#clip0800)\" style=\"stroke:#000000; stroke-width:4; stroke-opacity:1; fill:none\" points=\"\n",
       "  1936.27,1425.62 1936.27,1409.08 \n",
       "  \"/>\n",
       "<polyline clip-path=\"url(#clip0800)\" style=\"stroke:#000000; stroke-width:4; stroke-opacity:1; fill:none\" points=\"\n",
       "  247.807,1386.61 273.066,1386.61 \n",
       "  \"/>\n",
       "<polyline clip-path=\"url(#clip0800)\" style=\"stroke:#000000; stroke-width:4; stroke-opacity:1; fill:none\" points=\"\n",
       "  247.807,948.528 273.066,948.528 \n",
       "  \"/>\n",
       "<polyline clip-path=\"url(#clip0800)\" style=\"stroke:#000000; stroke-width:4; stroke-opacity:1; fill:none\" points=\"\n",
       "  247.807,510.448 273.066,510.448 \n",
       "  \"/>\n",
       "<polyline clip-path=\"url(#clip0800)\" style=\"stroke:#000000; stroke-width:4; stroke-opacity:1; fill:none\" points=\"\n",
       "  247.807,72.3676 273.066,72.3676 \n",
       "  \"/>\n",
       "<g clip-path=\"url(#clip0800)\">\n",
       "<text style=\"fill:#000000; fill-opacity:1; font-family:Arial,Helvetica Neue,Helvetica,sans-serif; font-size:48px; text-anchor:middle;\" transform=\"rotate(0, 247.807, 1479.62)\" x=\"247.807\" y=\"1479.62\">0</text>\n",
       "</g>\n",
       "<g clip-path=\"url(#clip0800)\">\n",
       "<text style=\"fill:#000000; fill-opacity:1; font-family:Arial,Helvetica Neue,Helvetica,sans-serif; font-size:48px; text-anchor:middle;\" transform=\"rotate(0, 810.627, 1479.62)\" x=\"810.627\" y=\"1479.62\">100</text>\n",
       "</g>\n",
       "<g clip-path=\"url(#clip0800)\">\n",
       "<text style=\"fill:#000000; fill-opacity:1; font-family:Arial,Helvetica Neue,Helvetica,sans-serif; font-size:48px; text-anchor:middle;\" transform=\"rotate(0, 1373.45, 1479.62)\" x=\"1373.45\" y=\"1479.62\">200</text>\n",
       "</g>\n",
       "<g clip-path=\"url(#clip0800)\">\n",
       "<text style=\"fill:#000000; fill-opacity:1; font-family:Arial,Helvetica Neue,Helvetica,sans-serif; font-size:48px; text-anchor:middle;\" transform=\"rotate(0, 1936.27, 1479.62)\" x=\"1936.27\" y=\"1479.62\">300</text>\n",
       "</g>\n",
       "<g clip-path=\"url(#clip0800)\">\n",
       "<text style=\"fill:#000000; fill-opacity:1; font-family:Arial,Helvetica Neue,Helvetica,sans-serif; font-size:48px; text-anchor:end;\" transform=\"rotate(0, 223.807, 1404.11)\" x=\"223.807\" y=\"1404.11\">0</text>\n",
       "</g>\n",
       "<g clip-path=\"url(#clip0800)\">\n",
       "<text style=\"fill:#000000; fill-opacity:1; font-family:Arial,Helvetica Neue,Helvetica,sans-serif; font-size:48px; text-anchor:start;\" transform=\"rotate(0, 93.6653, 972.255)\" x=\"93.6653\" y=\"972.255\">1×10</text>\n",
       "</g>\n",
       "<g clip-path=\"url(#clip0800)\">\n",
       "<text style=\"fill:#000000; fill-opacity:1; font-family:Arial,Helvetica Neue,Helvetica,sans-serif; font-size:38px; text-anchor:start;\" transform=\"rotate(0, 202.062, 944.845)\" x=\"202.062\" y=\"944.845\">4</text>\n",
       "</g>\n",
       "<g clip-path=\"url(#clip0800)\">\n",
       "<text style=\"fill:#000000; fill-opacity:1; font-family:Arial,Helvetica Neue,Helvetica,sans-serif; font-size:48px; text-anchor:start;\" transform=\"rotate(0, 93.6653, 534.175)\" x=\"93.6653\" y=\"534.175\">2×10</text>\n",
       "</g>\n",
       "<g clip-path=\"url(#clip0800)\">\n",
       "<text style=\"fill:#000000; fill-opacity:1; font-family:Arial,Helvetica Neue,Helvetica,sans-serif; font-size:38px; text-anchor:start;\" transform=\"rotate(0, 202.062, 506.765)\" x=\"202.062\" y=\"506.765\">4</text>\n",
       "</g>\n",
       "<g clip-path=\"url(#clip0800)\">\n",
       "<text style=\"fill:#000000; fill-opacity:1; font-family:Arial,Helvetica Neue,Helvetica,sans-serif; font-size:48px; text-anchor:start;\" transform=\"rotate(0, 93.6653, 96.0952)\" x=\"93.6653\" y=\"96.0952\">3×10</text>\n",
       "</g>\n",
       "<g clip-path=\"url(#clip0800)\">\n",
       "<text style=\"fill:#000000; fill-opacity:1; font-family:Arial,Helvetica Neue,Helvetica,sans-serif; font-size:38px; text-anchor:start;\" transform=\"rotate(0, 202.062, 68.6848)\" x=\"202.062\" y=\"68.6848\">4</text>\n",
       "</g>\n",
       "<g clip-path=\"url(#clip0800)\">\n",
       "<text style=\"fill:#000000; fill-opacity:1; font-family:Arial,Helvetica Neue,Helvetica,sans-serif; font-size:66px; text-anchor:middle;\" transform=\"rotate(0, 1300.28, 1559.48)\" x=\"1300.28\" y=\"1559.48\">text</text>\n",
       "</g>\n",
       "<polyline clip-path=\"url(#clip0802)\" style=\"stroke:#009af9; stroke-width:4; stroke-opacity:1; fill:none\" points=\"\n",
       "  281.576,1386.61 281.576,1386.35 287.204,1386.35 287.204,1383.98 292.832,1383.98 292.832,1356.64 298.461,1356.64 298.461,1342.54 304.089,1342.54 304.089,1326.94 \n",
       "  309.717,1326.94 309.717,1304.6 315.345,1304.6 315.345,1277.26 320.974,1277.26 320.974,1243.62 326.602,1243.62 326.602,1209.49 332.23,1209.49 332.23,1176.15 \n",
       "  337.858,1176.15 337.858,1139.49 343.486,1139.49 343.486,1096.91 349.115,1096.91 349.115,1068.69 354.743,1068.69 354.743,1029.7 360.371,1029.7 360.371,990.058 \n",
       "  365.999,990.058 365.999,946.907 371.627,946.907 371.627,921.235 377.256,921.235 377.256,895.389 382.884,895.389 382.884,869.411 388.512,869.411 388.512,850.091 \n",
       "  394.14,850.091 394.14,826.391 399.768,826.391 399.768,810.182 405.397,810.182 405.397,792.747 411.025,792.747 411.025,775.661 416.653,775.661 416.653,763.833 \n",
       "  422.281,763.833 422.281,760.372 427.909,760.372 427.909,738.644 433.538,738.644 433.538,720.726 439.166,720.726 439.166,712.885 444.794,712.885 444.794,715.294 \n",
       "  450.422,715.294 450.422,711.746 456.05,711.746 456.05,697.289 461.679,697.289 461.679,687.432 467.307,687.432 467.307,680.204 472.935,680.204 472.935,684.146 \n",
       "  478.563,684.146 478.563,666.711 484.191,666.711 484.191,672.581 489.82,672.581 489.82,668.025 495.448,668.025 495.448,665.747 501.076,665.747 501.076,666.755 \n",
       "  506.704,666.755 506.704,659.658 512.333,659.658 512.333,673.501 517.961,673.501 517.961,658.431 523.589,658.431 523.589,670.391 529.217,670.391 529.217,672.844 \n",
       "  534.845,672.844 534.845,666.536 540.474,666.536 540.474,680.905 546.102,680.905 546.102,665.265 551.73,665.265 551.73,685.066 557.358,685.066 557.358,677.619 \n",
       "  562.986,677.619 562.986,684.103 568.615,684.103 568.615,690.411 574.243,690.411 574.243,702.239 579.871,702.239 579.871,698.296 585.499,698.296 585.499,710.256 \n",
       "  591.127,710.256 591.127,719.587 596.756,719.587 596.756,717.572 602.384,717.572 602.384,731.284 608.012,731.284 608.012,736.804 613.64,736.804 613.64,745.04 \n",
       "  619.268,745.04 619.268,744.558 624.897,744.558 624.897,759.891 630.525,759.891 630.525,752.312 636.153,752.312 636.153,761.774 641.781,761.774 641.781,770.361 \n",
       "  647.409,770.361 647.409,783.065 653.038,783.065 658.666,783.065 658.666,797.478 664.294,797.478 664.294,807.203 669.922,807.203 669.922,809.394 \n",
       "  675.55,809.394 675.55,815.79 681.179,815.79 681.179,821.791 686.807,821.791 686.807,828.275 692.435,828.275 692.435,839.095 698.063,839.095 698.063,848.47 \n",
       "  703.692,848.47 703.692,850.748 709.32,850.748 709.32,865.512 714.948,865.512 714.948,861.306 720.576,861.306 720.576,873.134 726.204,873.134 726.204,872.521 \n",
       "  731.833,872.521 731.833,880.187 737.461,880.187 737.461,887.459 743.089,887.459 743.089,903.055 748.717,903.055 748.717,903.23 754.345,903.23 754.345,905.64 \n",
       "  759.974,905.64 759.974,922.112 765.602,922.112 765.602,911.203 771.23,911.203 771.23,920.447 776.858,920.447 776.858,926.098 782.486,926.098 782.486,929.559 \n",
       "  788.115,929.559 788.115,939.591 793.743,939.591 793.743,936.218 799.371,936.218 799.371,947.126 804.999,947.126 804.999,962.021 810.627,962.021 810.627,952.69 \n",
       "  816.256,952.69 816.256,961.626 821.884,961.626 821.884,960.663 827.512,960.663 827.512,966.621 833.14,966.621 833.14,969.687 838.768,969.687 838.768,973.893 \n",
       "  844.397,973.893 844.397,981.647 850.025,981.647 850.025,983.268 855.653,983.268 855.653,987.605 861.281,987.605 861.281,990.584 866.91,990.584 866.91,993.65 \n",
       "  872.538,993.65 872.538,993.256 878.166,993.256 878.166,996.629 883.794,996.629 883.794,1007.45 889.422,1007.45 889.422,997.374 895.051,997.374 895.051,1003.2 \n",
       "  900.679,1003.2 900.679,1001.05 906.307,1001.05 906.307,999.082 911.935,999.082 911.935,1002.5 917.563,1002.5 917.563,1000.35 923.192,1000.35 923.192,1003.77 \n",
       "  928.82,1003.77 928.82,1003.11 934.448,1003.11 934.448,1002.02 940.076,1002.02 940.076,1005.13 945.704,1005.13 945.704,992.248 951.333,992.248 951.333,995.928 \n",
       "  956.961,995.928 956.961,993.475 962.589,993.475 962.589,984.407 968.217,984.407 968.217,970.695 973.845,970.695 973.845,961.232 979.474,961.232 979.474,938.277 \n",
       "  985.102,938.277 985.102,913.7 990.73,913.7 990.73,887.679 996.358,887.679 996.358,850.223 1001.99,850.223 1001.99,785.431 1007.61,785.431 1007.61,722.347 \n",
       "  1013.24,722.347 1013.24,567.004 1018.87,567.004 1018.87,421.868 1024.5,421.868 1024.5,86.2547 1030.13,86.2547 1030.13,1285.67 1035.76,1285.67 1035.76,1267.84 \n",
       "  1041.38,1267.84 1041.38,1230.04 1047.01,1230.04 1047.01,1223.12 1052.64,1223.12 1052.64,1344.38 1058.27,1344.38 1058.27,1334.7 1063.9,1334.7 1063.9,1332.29 \n",
       "  1069.52,1332.29 1069.52,1322.17 1075.15,1322.17 1075.15,1334.39 1080.78,1334.39 1080.78,1320.55 1086.41,1320.55 1086.41,1377.98 1092.04,1377.98 1092.04,1374.47 \n",
       "  1097.67,1374.47 1097.67,1376.97 1103.29,1376.97 1103.29,1376.58 1108.92,1376.58 1108.92,1382.31 1114.55,1382.31 1114.55,1382.23 1120.18,1382.23 1120.18,1382.36 \n",
       "  1125.81,1382.36 1125.81,1380.83 1131.44,1380.83 1131.44,1381.66 1137.06,1381.66 1137.06,1379.86 1142.69,1379.86 1142.69,1385.25 1148.32,1385.25 1148.32,1385.16 \n",
       "  1153.95,1385.16 1153.95,1385.07 1159.58,1385.07 1159.58,1384.99 1165.2,1384.99 1165.2,1385.95 1170.83,1385.95 1170.83,1386.04 1176.46,1386.04 1176.46,1385.86 \n",
       "  1182.09,1385.86 1182.09,1385.29 1187.72,1385.29 1187.72,1385.6 1193.35,1385.6 1193.35,1385.99 1198.97,1385.99 1198.97,1386.13 1204.6,1386.13 1204.6,1386.04 \n",
       "  1210.23,1386.04 1210.23,1386.21 1215.86,1386.21 1215.86,1386.17 1221.49,1386.17 1221.49,1386.35 1227.11,1386.35 1227.11,1386.48 1232.74,1386.48 1232.74,1386.39 \n",
       "  1238.37,1386.39 1238.37,1386.3 1244,1386.3 1244,1386.43 1249.63,1386.43 1249.63,1386.35 1255.26,1386.35 1255.26,1386.48 1260.88,1386.48 1260.88,1386.26 \n",
       "  1266.51,1386.26 1266.51,1386.13 1272.14,1386.13 1272.14,1386.39 1277.77,1386.39 1277.77,1386.26 1283.4,1386.26 1283.4,1386.43 1289.02,1386.43 1289.02,1386.39 \n",
       "  1294.65,1386.39 1294.65,1386.43 1300.28,1386.43 1305.91,1386.43 1305.91,1386.39 1311.54,1386.39 1311.54,1386.56 1317.17,1386.56 \n",
       "  1322.79,1386.56 1322.79,1386.48 1328.42,1386.48 1328.42,1386.39 1334.05,1386.39 1334.05,1386.52 1339.68,1386.52 1345.31,1386.52 1345.31,1386.48 \n",
       "  1350.94,1386.48 1350.94,1386.26 1356.56,1386.26 1356.56,1386.43 1362.19,1386.43 1362.19,1386.56 1367.82,1386.56 1367.82,1386.43 1373.45,1386.43 1373.45,1386.56 \n",
       "  1379.08,1386.56 1379.08,1386.43 1384.7,1386.43 1390.33,1386.43 1390.33,1386.61 1395.96,1386.61 1395.96,1386.52 1401.59,1386.52 1401.59,1386.43 \n",
       "  1407.22,1386.43 1407.22,1386.52 1412.85,1386.52 1418.47,1386.52 1418.47,1386.43 1424.1,1386.43 1424.1,1386.52 1429.73,1386.52 \n",
       "  1435.36,1386.52 1435.36,1386.48 1440.99,1386.48 1440.99,1386.52 1446.61,1386.52 1446.61,1386.39 1452.24,1386.39 1452.24,1386.56 1457.87,1386.56 1457.87,1386.52 \n",
       "  1463.5,1386.52 1463.5,1386.48 1469.13,1386.48 1469.13,1386.56 1474.76,1386.56 1474.76,1386.48 1480.38,1386.48 1486.01,1386.48 1486.01,1386.43 \n",
       "  1491.64,1386.43 1491.64,1386.52 1497.27,1386.52 1497.27,1386.48 1502.9,1386.48 1502.9,1386.56 1508.52,1386.56 1508.52,1386.61 1514.15,1386.61 1514.15,1386.56 \n",
       "  1519.78,1386.56 1519.78,1386.43 1525.41,1386.43 1525.41,1386.52 1531.04,1386.52 1531.04,1386.61 1536.67,1386.61 1536.67,1386.52 1542.29,1386.52 1542.29,1386.56 \n",
       "  1547.92,1386.56 1547.92,1386.52 1553.55,1386.52 1553.55,1386.39 1559.18,1386.39 1559.18,1386.43 1564.81,1386.43 1564.81,1386.61 1570.44,1386.61 1570.44,1386.43 \n",
       "  1576.06,1386.43 1576.06,1386.48 1581.69,1386.48 1581.69,1386.56 1587.32,1386.56 1587.32,1386.61 1592.95,1386.61 1592.95,1386.52 1598.58,1386.52 1598.58,1386.61 \n",
       "  1604.2,1386.61 1604.2,1386.48 1609.83,1386.48 1609.83,1386.52 1615.46,1386.52 1615.46,1386.56 1621.09,1386.56 1626.72,1386.56 1626.72,1386.52 \n",
       "  1632.35,1386.52 1632.35,1386.61 1637.97,1386.61 1643.6,1386.61 1643.6,1386.56 1649.23,1386.56 1649.23,1386.61 1654.86,1386.61 \n",
       "  1660.49,1386.61 1666.11,1386.61 1666.11,1386.56 1671.74,1386.56 1671.74,1386.61 1677.37,1386.61 1683,1386.61 1683,1386.56 \n",
       "  1688.63,1386.56 1688.63,1386.61 1694.26,1386.61 1699.88,1386.61 1705.51,1386.61 1711.14,1386.61 \n",
       "  1716.77,1386.61 1722.4,1386.61 1728.03,1386.61 1733.65,1386.61 1733.65,1386.56 1739.28,1386.56 1739.28,1386.61 \n",
       "  1744.91,1386.61 1750.54,1386.61 1756.17,1386.61 1761.79,1386.61 1767.42,1386.61 1767.42,1386.56 \n",
       "  1773.05,1386.56 1778.68,1386.56 1778.68,1386.61 1784.31,1386.61 1789.94,1386.61 1789.94,1386.56 1795.56,1386.56 1795.56,1386.61 \n",
       "  1801.19,1386.61 1806.82,1386.61 1812.45,1386.61 1812.45,1386.52 1818.08,1386.52 1818.08,1386.61 1823.7,1386.61 \n",
       "  1829.33,1386.61 1834.96,1386.61 1834.96,1386.52 1840.59,1386.52 1840.59,1386.61 1846.22,1386.61 1851.85,1386.61 \n",
       "  1857.47,1386.61 1863.1,1386.61 1868.73,1386.61 1874.36,1386.61 1879.99,1386.61 \n",
       "  1885.61,1386.61 1891.24,1386.61 1896.87,1386.61 1902.5,1386.61 1902.5,1386.56 1908.13,1386.56 1908.13,1386.61 \n",
       "  1913.76,1386.61 1913.76,1386.52 1919.38,1386.52 1919.38,1386.61 1925.01,1386.61 1930.64,1386.61 1930.64,1386.56 1936.27,1386.56 \n",
       "  1941.9,1386.56 1941.9,1386.61 1947.53,1386.61 1953.15,1386.61 1958.78,1386.61 1964.41,1386.61 \n",
       "  1970.04,1386.61 1975.67,1386.61 1981.29,1386.61 1986.92,1386.61 1992.55,1386.61 \n",
       "  1998.18,1386.61 2003.81,1386.61 2003.81,1386.56 2009.44,1386.56 2015.06,1386.56 2020.69,1386.56 2020.69,1386.61 \n",
       "  2026.32,1386.61 2031.95,1386.61 2037.58,1386.61 2043.2,1386.61 2048.83,1386.61 \n",
       "  2054.46,1386.61 2060.09,1386.61 2065.72,1386.61 2065.72,1386.56 2071.35,1386.56 2071.35,1386.61 2076.97,1386.61 \n",
       "  2082.6,1386.61 2082.6,1386.56 2088.23,1386.56 2088.23,1386.61 2093.86,1386.61 2093.86,1386.56 2099.49,1386.56 2099.49,1386.61 2105.11,1386.61 \n",
       "  2110.74,1386.61 2116.37,1386.61 2122,1386.61 2127.63,1386.61 2133.26,1386.61 \n",
       "  2138.88,1386.61 2144.51,1386.61 2150.14,1386.61 2155.77,1386.61 2161.4,1386.61 \n",
       "  2167.03,1386.61 2172.65,1386.61 2178.28,1386.61 2183.91,1386.61 2189.54,1386.61 \n",
       "  2195.17,1386.61 2200.79,1386.61 2206.42,1386.61 2206.42,1386.56 2212.05,1386.56 2212.05,1386.61 2217.68,1386.61 \n",
       "  2223.31,1386.61 2228.94,1386.61 2234.56,1386.61 2240.19,1386.61 2245.82,1386.61 \n",
       "  2251.45,1386.61 2257.08,1386.61 2262.7,1386.61 2268.33,1386.61 2268.33,1386.52 2273.96,1386.52 2273.96,1386.61 \n",
       "  2279.59,1386.61 2285.22,1386.61 2290.85,1386.61 2296.47,1386.61 2302.1,1386.61 \n",
       "  2307.73,1386.61 2313.36,1386.61 2318.99,1386.61 2324.61,1386.61 2324.61,1386.56 2330.24,1386.56 2330.24,1386.61 \n",
       "  2335.87,1386.61 2341.5,1386.61 2347.13,1386.61 2352.76,1386.61 2352.76,1386.56 2358.38,1386.56 2358.38,1386.61 \n",
       "  \n",
       "  \"/>\n",
       "<path clip-path=\"url(#clip0800)\" d=\"\n",
       "M1989.93 251.724 L2280.76 251.724 L2280.76 130.764 L1989.93 130.764  Z\n",
       "  \" fill=\"#ffffff\" fill-rule=\"evenodd\" fill-opacity=\"1\"/>\n",
       "<polyline clip-path=\"url(#clip0800)\" style=\"stroke:#000000; stroke-width:4; stroke-opacity:1; fill:none\" points=\"\n",
       "  1989.93,251.724 2280.76,251.724 2280.76,130.764 1989.93,130.764 1989.93,251.724 \n",
       "  \"/>\n",
       "<polyline clip-path=\"url(#clip0800)\" style=\"stroke:#009af9; stroke-width:4; stroke-opacity:1; fill:none\" points=\"\n",
       "  2013.93,191.244 2157.93,191.244 \n",
       "  \"/>\n",
       "<g clip-path=\"url(#clip0800)\">\n",
       "<text style=\"fill:#000000; fill-opacity:1; font-family:Arial,Helvetica Neue,Helvetica,sans-serif; font-size:48px; text-anchor:start;\" transform=\"rotate(0, 2181.93, 208.744)\" x=\"2181.93\" y=\"208.744\">y1</text>\n",
       "</g>\n",
       "</svg>\n"
      ]
     },
     "execution_count": 18,
     "metadata": {},
     "output_type": "execute_result"
    }
   ],
   "source": [
    "len_array = [length(sent) for sent in train_df.text]\n",
    "plot1 = StatsPlots.histogram(len_array, xlim=(0, maximum(len_array)), xlabel=\"text\")"
   ]
  },
  {
   "cell_type": "code",
   "execution_count": 19,
   "metadata": {
    "ExecuteTime": {
     "end_time": "2020-06-21T00:42:52.367559Z",
     "start_time": "2020-06-21T00:42:52.175614Z"
    }
   },
   "outputs": [
    {
     "name": "stdout",
     "output_type": "stream",
     "text": [
      "Summary Stats:\n",
      "Length:         1583691\n",
      "Type:           DateTime\n",
      "Number Unique:  769709\n"
     ]
    }
   ],
   "source": [
    "describe(train_df.date)"
   ]
  },
  {
   "cell_type": "code",
   "execution_count": 20,
   "metadata": {
    "scrolled": true
   },
   "outputs": [
    {
     "data": {
      "text/plain": [
       "929345"
      ]
     },
     "execution_count": 20,
     "metadata": {},
     "output_type": "execute_result"
    }
   ],
   "source": [
    "sum(nonunique(select(train_df, :user)))"
   ]
  },
  {
   "cell_type": "code",
   "execution_count": 21,
   "metadata": {},
   "outputs": [
    {
     "data": {
      "text/html": [
       "<div class=\"data-frame\"><p>10 rows × 2 columns</p><table class=\"data-frame\"><thead><tr><th></th><th>user</th><th>nrow</th></tr><tr><th></th><th title=\"String\">String</th><th title=\"Int64\">Int64</th></tr></thead><tbody><tr><th>1</th><td>lost_dog</td><td>549</td></tr><tr><th>2</th><td>webwoke</td><td>341</td></tr><tr><th>3</th><td>SallytheShizzle</td><td>281</td></tr><tr><th>4</th><td>VioletsCRUK</td><td>279</td></tr><tr><th>5</th><td>mcraddictal</td><td>274</td></tr><tr><th>6</th><td>tsarnick</td><td>248</td></tr><tr><th>7</th><td>what_bugs_u</td><td>246</td></tr><tr><th>8</th><td>Karen230683</td><td>237</td></tr><tr><th>9</th><td>DarkPiano</td><td>234</td></tr><tr><th>10</th><td>SongoftheOss</td><td>227</td></tr></tbody></table></div>"
      ],
      "text/latex": [
       "\\begin{tabular}{r|cc}\n",
       "\t& user & nrow\\\\\n",
       "\t\\hline\n",
       "\t& String & Int64\\\\\n",
       "\t\\hline\n",
       "\t1 & lost\\_dog & 549 \\\\\n",
       "\t2 & webwoke & 341 \\\\\n",
       "\t3 & SallytheShizzle & 281 \\\\\n",
       "\t4 & VioletsCRUK & 279 \\\\\n",
       "\t5 & mcraddictal & 274 \\\\\n",
       "\t6 & tsarnick & 248 \\\\\n",
       "\t7 & what\\_bugs\\_u & 246 \\\\\n",
       "\t8 & Karen230683 & 237 \\\\\n",
       "\t9 & DarkPiano & 234 \\\\\n",
       "\t10 & SongoftheOss & 227 \\\\\n",
       "\\end{tabular}\n"
      ],
      "text/plain": [
       "\u001b[1m10×2 DataFrame\u001b[0m\n",
       "\u001b[1m Row \u001b[0m│\u001b[1m user            \u001b[0m\u001b[1m nrow  \u001b[0m\n",
       "\u001b[1m     \u001b[0m│\u001b[90m String          \u001b[0m\u001b[90m Int64 \u001b[0m\n",
       "─────┼────────────────────────\n",
       "   1 │ lost_dog           549\n",
       "   2 │ webwoke            341\n",
       "   3 │ SallytheShizzle    281\n",
       "   4 │ VioletsCRUK        279\n",
       "   5 │ mcraddictal        274\n",
       "   6 │ tsarnick           248\n",
       "   7 │ what_bugs_u        246\n",
       "   8 │ Karen230683        237\n",
       "   9 │ DarkPiano          234\n",
       "  10 │ SongoftheOss       227"
      ]
     },
     "execution_count": 21,
     "metadata": {},
     "output_type": "execute_result"
    }
   ],
   "source": [
    "first(sort(value_counts(train_df, :user), :nrow, rev=true), 10)"
   ]
  },
  {
   "cell_type": "markdown",
   "metadata": {},
   "source": [
    "### Create text vectorizer"
   ]
  },
  {
   "cell_type": "markdown",
   "metadata": {},
   "source": [
    "We create a document-term matrix with 934 tokens as follows:"
   ]
  },
  {
   "cell_type": "code",
   "execution_count": 22,
   "metadata": {
    "scrolled": true
   },
   "outputs": [
    {
     "data": {
      "text/html": [
       "<div class=\"data-frame\"><p>10,000 rows × 4 columns</p><table class=\"data-frame\"><thead><tr><th></th><th>polarity</th><th>date</th><th>user</th><th>text</th></tr><tr><th></th><th title=\"Int64\">Int64</th><th title=\"DateTime\">DateTime</th><th title=\"String\">String</th><th title=\"String\">String</th></tr></thead><tbody><tr><th>1</th><td>1</td><td>2009-06-15T17:21:32</td><td>SAPvideoz</td><td>i watching marley and me </td></tr><tr><th>2</th><td>1</td><td>2009-05-17T09:56:53</td><td>attilafarkas1</td><td>@klaudialorincz I said that song is incredible, didnt I ??!!! ha </td></tr><tr><th>3</th><td>0</td><td>2009-06-07T19:33:15</td><td>MissVictoriaLj</td><td>Just got done playin putt putt!! Wish I could get good at this!!! </td></tr><tr><th>4</th><td>1</td><td>2009-06-05T10:45:32</td><td>ASchreiber</td><td>@sdgross do you smell? if not you probly arent a shitty friend, if so, that could be why </td></tr><tr><th>5</th><td>0</td><td>2009-05-31T23:37:50</td><td>Avi_Cado</td><td>@VonQuale they&apos;re assessin her mental health. guess she had a nervous breakdown. they didn&apos;t strap her to a gurney, though. poor subo. </td></tr><tr><th>6</th><td>1</td><td>2009-06-15T14:53:46</td><td>Aggiecowgirl15</td><td>@NickkkJonasss Any way to win free tickets to your arlinton concert?   it&apos;s the only one I can make... Unfortunately... No $ :/</td></tr><tr><th>7</th><td>0</td><td>2009-06-05T10:13:49</td><td>moondreams87</td><td>@NathanFillion Awww  Bad timing, it&apos;s been warm lately. Hopefully it will pick up, or maybe we&apos;ll bring along some whisky to warm you up!</td></tr><tr><th>8</th><td>1</td><td>2009-06-06T01:56:19</td><td>pluincee</td><td>i dreamt i stole a bus to get the bags on it back to @dearoldhouse..ended up in less than desireable situation, still fun though </td></tr><tr><th>9</th><td>0</td><td>2009-06-07T09:53:06</td><td>mustBeButta</td><td>I did sneak and drive my car and got yelled at </td></tr><tr><th>10</th><td>0</td><td>2009-05-26T21:25:38</td><td>nadorina</td><td>@bubbler63 yea I know I&apos;ll realize it. life is so easy right now but I can&apos;t help that I&apos;m not enjoying it as much as I know I should </td></tr><tr><th>11</th><td>0</td><td>2009-05-22T07:37:46</td><td>thisgoodlife</td><td>@blondechicken Who&apos;d you get your HSA with? That makes so much more sense to me than insurance, &amp;amp; we are WAY overpaying right now. </td></tr><tr><th>12</th><td>0</td><td>2009-06-24T21:52:14</td><td>acidicice</td><td>Not sure if my cat was really chasing something under the bed. After the spider incident I&apos;m considering a move to the couch </td></tr><tr><th>13</th><td>1</td><td>2009-06-07T04:46:37</td><td>darnell</td><td>What to eat? Hmmm...corn muffins, English muffins, pancakes or a big juicy steak?  #breakfastofchampions</td></tr><tr><th>14</th><td>1</td><td>2009-05-30T15:35:45</td><td>LunaJune</td><td>@Emmortal Richard Bach..4th time I&apos;ve seen his name this week I guess I need to reread Illusions </td></tr><tr><th>15</th><td>0</td><td>2009-05-03T04:05:40</td><td>bswain</td><td>@springlamb lol....i&apos;m sure he was, he never even missed me! </td></tr><tr><th>16</th><td>1</td><td>2009-05-29T11:17:26</td><td>RedFieldWines</td><td>Going home to enjoy a nice chilled bottle of Australian sparkiling chardonnay and a merlot from Chile </td></tr><tr><th>17</th><td>1</td><td>2009-06-06T17:05:18</td><td>fadedcolour</td><td>@Sunts no it&apos;s fine the kids are here </td></tr><tr><th>18</th><td>1</td><td>2009-06-07T08:22:31</td><td>cheers01</td><td>@_CrC_ wait what&apos;s your roll on that plane? I don&apos;t understand your shorthand... </td></tr><tr><th>19</th><td>0</td><td>2009-06-25T09:39:13</td><td>B0NiTAAPPLEBUM</td><td>@h0neyluv baby how come u n cici didn&apos;t come to my party last nite   I need ur number beezie</td></tr><tr><th>20</th><td>0</td><td>2009-04-18T07:30:53</td><td>VeronicaAlzalde</td><td>I wish I could make it the Farmer&apos;s Market today. </td></tr><tr><th>21</th><td>1</td><td>2009-05-31T15:21:31</td><td>lornamckenzie</td><td>@Emmax33 you can tell me all about it </td></tr><tr><th>22</th><td>0</td><td>2009-06-05T18:02:10</td><td>ljdomo</td><td>dang i cant get tickets to the jo broz concert   !!!!!!!!!!!!!</td></tr><tr><th>23</th><td>1</td><td>2009-05-17T09:59:42</td><td>theresa_ashante</td><td>only got 3 hours of sleep....but it was worth it  .....going back to bed until furthur notice.</td></tr><tr><th>24</th><td>1</td><td>2009-05-17T05:21:43</td><td>peace_luv_hope2</td><td>@mileycyrus good mornin miley.i luv u.ur such an inspiration ! </td></tr><tr><th>25</th><td>0</td><td>2009-05-17T20:13:20</td><td>swanies</td><td>Crap...supposed to be 107 tomorrow.  Not the day to try the serve ice cream to the entire school outside. </td></tr><tr><th>26</th><td>1</td><td>2009-05-30T12:38:43</td><td>IanRobinson</td><td>Setting up work demo MacBook Air to lend to @eggyyoung as he is the only one of 7 strong team I&apos;m who doesn&apos;t have a Mac yet </td></tr><tr><th>27</th><td>1</td><td>2009-05-22T05:42:39</td><td>RoshiKK</td><td>@maryxk ohhh nice    did u go darker as well? or is it the lighting?</td></tr><tr><th>28</th><td>0</td><td>2009-04-06T22:37:44</td><td>iggyp</td><td>I just saw that they found that Tracy girl in a piece of luggage... How fucking terrible </td></tr><tr><th>29</th><td>1</td><td>2009-05-30T01:36:40</td><td>sabaqamar</td><td>@soulboykirk thanks </td></tr><tr><th>30</th><td>1</td><td>2009-06-06T06:10:48</td><td>charlotte3108</td><td>miles to go was AWESOME!!! probably one of the best books i have ever read!      loved it!   </td></tr><tr><th>&vellip;</th><td>&vellip;</td><td>&vellip;</td><td>&vellip;</td><td>&vellip;</td></tr></tbody></table></div>"
      ],
      "text/latex": [
       "\\begin{tabular}{r|cccc}\n",
       "\t& polarity & date & user & text\\\\\n",
       "\t\\hline\n",
       "\t& Int64 & DateTime & String & String\\\\\n",
       "\t\\hline\n",
       "\t1 & 1 & 2009-06-15T17:21:32 & SAPvideoz & i watching marley and me  \\\\\n",
       "\t2 & 1 & 2009-05-17T09:56:53 & attilafarkas1 & @klaudialorincz I said that song is incredible, didnt I ??!!! ha  \\\\\n",
       "\t3 & 0 & 2009-06-07T19:33:15 & MissVictoriaLj & Just got done playin putt putt!! Wish I could get good at this!!!  \\\\\n",
       "\t4 & 1 & 2009-06-05T10:45:32 & ASchreiber & @sdgross do you smell? if not you probly arent a shitty friend, if so, that could be why  \\\\\n",
       "\t5 & 0 & 2009-05-31T23:37:50 & Avi\\_Cado & @VonQuale they're assessin her mental health. guess she had a nervous breakdown. they didn't strap her to a gurney, though. poor subo.  \\\\\n",
       "\t6 & 1 & 2009-06-15T14:53:46 & Aggiecowgirl15 & @NickkkJonasss Any way to win free tickets to your arlinton concert?   it's the only one I can make... Unfortunately... No \\$ :/ \\\\\n",
       "\t7 & 0 & 2009-06-05T10:13:49 & moondreams87 & @NathanFillion Awww  Bad timing, it's been warm lately. Hopefully it will pick up, or maybe we'll bring along some whisky to warm you up! \\\\\n",
       "\t8 & 1 & 2009-06-06T01:56:19 & pluincee & i dreamt i stole a bus to get the bags on it back to @dearoldhouse..ended up in less than desireable situation, still fun though  \\\\\n",
       "\t9 & 0 & 2009-06-07T09:53:06 & mustBeButta & I did sneak and drive my car and got yelled at  \\\\\n",
       "\t10 & 0 & 2009-05-26T21:25:38 & nadorina & @bubbler63 yea I know I'll realize it. life is so easy right now but I can't help that I'm not enjoying it as much as I know I should  \\\\\n",
       "\t11 & 0 & 2009-05-22T07:37:46 & thisgoodlife & @blondechicken Who'd you get your HSA with? That makes so much more sense to me than insurance, \\&amp; we are WAY overpaying right now.  \\\\\n",
       "\t12 & 0 & 2009-06-24T21:52:14 & acidicice & Not sure if my cat was really chasing something under the bed. After the spider incident I'm considering a move to the couch  \\\\\n",
       "\t13 & 1 & 2009-06-07T04:46:37 & darnell & What to eat? Hmmm...corn muffins, English muffins, pancakes or a big juicy steak?  \\#breakfastofchampions \\\\\n",
       "\t14 & 1 & 2009-05-30T15:35:45 & LunaJune & @Emmortal Richard Bach..4th time I've seen his name this week I guess I need to reread Illusions  \\\\\n",
       "\t15 & 0 & 2009-05-03T04:05:40 & bswain & @springlamb lol....i'm sure he was, he never even missed me!  \\\\\n",
       "\t16 & 1 & 2009-05-29T11:17:26 & RedFieldWines & Going home to enjoy a nice chilled bottle of Australian sparkiling chardonnay and a merlot from Chile  \\\\\n",
       "\t17 & 1 & 2009-06-06T17:05:18 & fadedcolour & @Sunts no it's fine the kids are here  \\\\\n",
       "\t18 & 1 & 2009-06-07T08:22:31 & cheers01 & @\\_CrC\\_ wait what's your roll on that plane? I don't understand your shorthand...  \\\\\n",
       "\t19 & 0 & 2009-06-25T09:39:13 & B0NiTAAPPLEBUM & @h0neyluv baby how come u n cici didn't come to my party last nite   I need ur number beezie \\\\\n",
       "\t20 & 0 & 2009-04-18T07:30:53 & VeronicaAlzalde & I wish I could make it the Farmer's Market today.  \\\\\n",
       "\t21 & 1 & 2009-05-31T15:21:31 & lornamckenzie & @Emmax33 you can tell me all about it  \\\\\n",
       "\t22 & 0 & 2009-06-05T18:02:10 & ljdomo & dang i cant get tickets to the jo broz concert   !!!!!!!!!!!!! \\\\\n",
       "\t23 & 1 & 2009-05-17T09:59:42 & theresa\\_ashante & only got 3 hours of sleep....but it was worth it  .....going back to bed until furthur notice. \\\\\n",
       "\t24 & 1 & 2009-05-17T05:21:43 & peace\\_luv\\_hope2 & @mileycyrus good mornin miley.i luv u.ur such an inspiration !  \\\\\n",
       "\t25 & 0 & 2009-05-17T20:13:20 & swanies & Crap...supposed to be 107 tomorrow.  Not the day to try the serve ice cream to the entire school outside.  \\\\\n",
       "\t26 & 1 & 2009-05-30T12:38:43 & IanRobinson & Setting up work demo MacBook Air to lend to @eggyyoung as he is the only one of 7 strong team I'm who doesn't have a Mac yet  \\\\\n",
       "\t27 & 1 & 2009-05-22T05:42:39 & RoshiKK & @maryxk ohhh nice    did u go darker as well? or is it the lighting? \\\\\n",
       "\t28 & 0 & 2009-04-06T22:37:44 & iggyp & I just saw that they found that Tracy girl in a piece of luggage... How fucking terrible  \\\\\n",
       "\t29 & 1 & 2009-05-30T01:36:40 & sabaqamar & @soulboykirk thanks  \\\\\n",
       "\t30 & 1 & 2009-06-06T06:10:48 & charlotte3108 & miles to go was AWESOME!!! probably one of the best books i have ever read!      loved it!    \\\\\n",
       "\t$\\dots$ & $\\dots$ & $\\dots$ & $\\dots$ & $\\dots$ \\\\\n",
       "\\end{tabular}\n"
      ],
      "text/plain": [
       "\u001b[1m10000×4 DataFrame\u001b[0m\n",
       "\u001b[1m   Row \u001b[0m│\u001b[1m polarity \u001b[0m\u001b[1m date                \u001b[0m\u001b[1m user            \u001b[0m\u001b[1m text                 \u001b[0m ⋯\n",
       "\u001b[1m       \u001b[0m│\u001b[90m Int64    \u001b[0m\u001b[90m DateTime            \u001b[0m\u001b[90m String          \u001b[0m\u001b[90m String               \u001b[0m ⋯\n",
       "───────┼────────────────────────────────────────────────────────────────────────\n",
       "     1 │        1  2009-06-15T17:21:32  SAPvideoz        i watching marley and ⋯\n",
       "     2 │        1  2009-05-17T09:56:53  attilafarkas1    @klaudialorincz I sai\n",
       "     3 │        0  2009-06-07T19:33:15  MissVictoriaLj   Just got done playin\n",
       "     4 │        1  2009-06-05T10:45:32  ASchreiber       @sdgross do you smell\n",
       "     5 │        0  2009-05-31T23:37:50  Avi_Cado         @VonQuale they're ass ⋯\n",
       "     6 │        1  2009-06-15T14:53:46  Aggiecowgirl15   @NickkkJonasss Any wa\n",
       "     7 │        0  2009-06-05T10:13:49  moondreams87     @NathanFillion Awww\n",
       "     8 │        1  2009-06-06T01:56:19  pluincee         i dreamt i stole a bu\n",
       "     9 │        0  2009-06-07T09:53:06  mustBeButta      I did sneak and drive ⋯\n",
       "    10 │        0  2009-05-26T21:25:38  nadorina         @bubbler63 yea I know\n",
       "    11 │        0  2009-05-22T07:37:46  thisgoodlife     @blondechicken Who'd\n",
       "   ⋮   │    ⋮               ⋮                  ⋮                         ⋮     ⋱\n",
       "  9991 │        1  2009-05-28T23:37:10  MrKeithCampbell  @JenniferBolin good n\n",
       "  9992 │        1  2009-05-29T19:08:04  prizerebelscape  @larryliuming http:// ⋯\n",
       "  9993 │        0  2009-06-18T07:43:33  Gamerx2595       Trying to force mysel\n",
       "  9994 │        1  2009-04-18T22:42:28  eclecticerin     @KATaylor007 looks li\n",
       "  9995 │        0  2009-06-23T08:30:27  Perignonic       is going to dreamland\n",
       "  9996 │        1  2009-06-05T11:35:57  emteepea         Getting Sonya a weddi ⋯\n",
       "  9997 │        0  2009-06-03T06:37:52  MeganK84         @HungryGirl scrambled\n",
       "  9998 │        0  2009-04-20T01:30:05  fafs             Ugh do not feel well\n",
       "  9999 │        1  2009-06-15T02:43:39  RACHomg          Chatting with Lauraaa\n",
       " 10000 │        0  2009-06-17T03:39:41  RAZE502          @vieirasboots I'm not ⋯\n",
       "\u001b[36m                                                  1 column and 9979 rows omitted\u001b[0m"
      ]
     },
     "execution_count": 22,
     "metadata": {},
     "output_type": "execute_result"
    }
   ],
   "source": [
    "small_train_size = 10000\n",
    "small_train_df = train_df[shuffle(1:nrow(train_df))[1:small_train_size], :]"
   ]
  },
  {
   "cell_type": "code",
   "execution_count": 23,
   "metadata": {},
   "outputs": [
    {
     "name": "stderr",
     "output_type": "stream",
     "text": [
      "┌ Info: Training Machine{CountTransformer,…}.\n",
      "└ @ MLJBase C:\\Users\\Amirreza\\.julia\\packages\\MLJBase\\QXObv\\src\\machines.jl:403\n"
     ]
    },
    {
     "data": {
      "text/plain": [
       "Machine{CountTransformer,…} trained 1 time; caches data\n",
       "  args: \n",
       "    1:\tSource @821 ⏎ `AbstractVector{AbstractVector{Textual}}`\n"
      ]
     },
     "execution_count": 23,
     "metadata": {},
     "output_type": "execute_result"
    }
   ],
   "source": [
    "count_transformer = CountTransformer()\n",
    "mach = machine(count_transformer, tokenize.(small_train_df.text))\n",
    "MLJ.fit!(mach)"
   ]
  },
  {
   "cell_type": "code",
   "execution_count": 24,
   "metadata": {
    "scrolled": true
   },
   "outputs": [
    {
     "data": {
      "text/plain": [
       "10000×24380 adjoint(::SparseArrays.SparseMatrixCSC{Int64, Int64}) with eltype Int64:\n",
       " 0  0  0  0  0  0  0  0  0  0  0  0  0  …  0  0  0  0  0  0  0  0  0  0  0  0\n",
       " 3  0  0  0  0  0  0  0  0  0  0  0  0     0  0  0  0  0  0  0  0  0  0  0  0\n",
       " 5  0  0  0  0  0  0  0  0  0  0  0  0     0  0  0  0  0  0  0  0  0  0  0  0\n",
       " 0  0  0  0  0  0  0  0  0  0  0  0  0     0  0  0  0  0  0  0  0  0  0  0  0\n",
       " 0  0  0  0  0  0  0  0  2  0  0  0  0     0  0  0  0  0  0  0  0  0  0  0  0\n",
       " 0  0  1  0  0  0  0  0  1  0  0  0  0  …  0  0  0  0  0  0  0  0  0  0  0  0\n",
       " 1  0  0  0  0  0  0  0  2  0  0  0  0     0  0  0  0  0  0  0  0  0  0  0  0\n",
       " 0  0  0  0  0  0  0  0  0  0  0  0  0     0  0  0  0  0  0  0  0  0  0  0  0\n",
       " 0  0  0  0  0  0  0  0  0  0  0  0  0     0  0  0  0  0  0  0  0  0  0  0  0\n",
       " 0  0  0  0  0  0  0  0  3  0  0  0  0     0  0  0  0  0  0  0  0  0  0  0  0\n",
       " 0  0  0  0  0  0  0  1  1  0  0  0  0  …  0  0  0  0  0  0  0  0  0  0  0  0\n",
       " 0  0  0  0  0  0  0  0  1  0  0  0  0     0  0  0  0  0  0  0  0  0  0  0  0\n",
       " 0  1  0  0  0  0  0  0  0  0  0  0  0     0  0  0  0  0  0  0  0  0  0  0  0\n",
       " ⋮              ⋮              ⋮        ⋱        ⋮              ⋮           \n",
       " 0  2  0  0  0  0  0  0  1  0  0  0  0     0  0  0  0  0  0  0  0  0  0  0  0\n",
       " 0  0  0  0  0  0  0  0  0  0  0  0  2     0  0  0  0  0  0  0  0  0  0  0  0\n",
       " 0  0  0  0  0  0  0  0  1  0  0  0  0  …  0  0  0  0  0  0  0  0  0  0  0  0\n",
       " 0  0  0  0  0  0  0  0  0  0  0  0  0     0  0  0  0  0  0  0  0  0  0  0  0\n",
       " 0  0  0  0  0  0  0  0  0  0  0  0  0     0  0  0  0  0  0  0  0  0  0  0  0\n",
       " 1  0  0  0  0  0  0  0  1  0  0  0  0     0  0  0  0  0  0  0  0  0  0  0  0\n",
       " 0  0  0  0  0  0  0  0  0  0  0  0  0     0  0  0  0  0  0  0  0  0  0  0  0\n",
       " 0  0  0  0  0  0  0  0  0  0  0  0  0  …  0  0  0  0  0  0  0  0  0  0  0  0\n",
       " 1  0  0  0  0  0  1  0  0  1  1  0  0     0  0  0  0  0  0  0  0  0  0  0  0\n",
       " 0  0  0  0  0  0  0  0  0  0  0  0  0     0  0  0  0  0  0  0  0  0  0  0  0\n",
       " 0  0  0  0  0  0  0  0  0  0  0  0  0     0  0  0  0  0  0  0  0  0  0  0  0\n",
       " 0  0  0  0  0  0  0  2  1  0  0  0  0     0  0  0  0  0  0  0  0  0  0  0  0"
      ]
     },
     "execution_count": 24,
     "metadata": {},
     "output_type": "execute_result"
    }
   ],
   "source": [
    "small_train_dtm = MLJ.transform(mach, tokenize.(small_train_df.text))"
   ]
  },
  {
   "cell_type": "code",
   "execution_count": 25,
   "metadata": {
    "ExecuteTime": {
     "end_time": "2020-06-21T00:43:11.669425Z",
     "start_time": "2020-06-21T00:43:11.656403Z"
    },
    "scrolled": true
   },
   "outputs": [
    {
     "data": {
      "text/plain": [
       "498×24380 adjoint(::SparseArrays.SparseMatrixCSC{Int64, Int64}) with eltype Int64:\n",
       " 0  0  0  0  0  0  0  0  0  0  0  0  0  …  0  0  0  0  0  0  0  0  0  0  0  0\n",
       " 0  0  0  0  0  0  0  0  0  0  0  0  0     0  0  0  0  0  0  0  0  0  0  0  0\n",
       " 3  1  0  0  0  0  0  0  0  0  0  0  0     0  0  0  0  0  0  0  0  0  0  0  0\n",
       " 2  0  0  0  0  0  0  0  2  0  1  0  0     0  0  0  0  0  0  0  0  0  0  0  0\n",
       " 0  0  0  0  0  0  0  0  1  0  1  0  0     0  0  0  0  0  0  0  0  0  0  0  0\n",
       " 0  0  0  0  0  0  0  0  1  0  0  0  0  …  0  0  0  0  0  0  0  0  0  0  0  0\n",
       " 0  0  0  0  0  0  0  0  0  0  0  0  0     0  0  0  0  0  0  0  0  0  0  0  0\n",
       " 0  0  0  0  0  0  0  0  0  0  0  0  0     0  0  0  0  0  0  0  0  0  0  0  0\n",
       " 0  0  0  0  0  0  0  0  0  0  0  0  0     0  0  0  0  0  0  0  0  0  0  0  0\n",
       " 0  0  0  0  0  0  0  0  0  0  0  0  0     0  0  0  0  0  0  0  0  0  0  0  0\n",
       " 0  0  0  0  0  0  0  0  1  0  0  0  0  …  0  0  0  0  0  0  0  0  0  0  0  0\n",
       " 0  0  0  0  0  0  0  0  1  0  0  0  0     0  0  0  0  0  0  0  0  0  0  0  0\n",
       " 0  0  0  0  0  0  0  1  0  0  0  0  0     0  0  0  0  0  0  0  0  0  0  0  0\n",
       " ⋮              ⋮              ⋮        ⋱        ⋮              ⋮           \n",
       " 0  0  0  0  0  0  0  0  0  1  1  0  0     0  0  0  0  0  0  0  0  0  0  0  0\n",
       " 0  0  0  0  0  0  0  0  0  0  0  0  0     0  0  0  0  0  0  0  0  0  0  0  0\n",
       " 0  0  0  0  0  0  0  0  0  0  0  0  0     0  0  0  0  0  0  0  0  0  0  0  0\n",
       " 1  0  0  0  0  0  0  0  0  0  0  0  0     0  0  0  0  0  0  0  0  0  0  0  0\n",
       " 0  0  0  0  0  0  0  0  2  1  1  0  0  …  0  0  0  0  0  0  0  0  0  0  0  0\n",
       " 1  0  0  0  0  0  0  0  0  0  0  0  0     0  0  0  0  0  0  0  0  0  0  0  0\n",
       " 0  0  0  0  0  0  0  0  0  0  0  0  0     0  0  0  0  0  0  0  0  0  0  0  0\n",
       " 0  0  0  0  0  0  0  0  0  0  0  0  0     0  0  0  0  0  0  0  0  0  0  0  0\n",
       " 0  0  0  0  0  0  0  0  0  0  0  0  0     0  0  0  0  0  0  0  0  0  0  0  0\n",
       " 0  0  0  0  0  0  0  1  0  0  0  2  0  …  0  0  0  0  0  0  0  0  0  0  0  0\n",
       " 0  1  0  0  0  0  0  0  0  0  0  0  0     0  0  0  0  0  0  0  0  0  0  0  0\n",
       " 0  0  0  0  0  0  0  0  0  0  0  0  0     0  0  0  0  0  0  0  0  0  0  0  0"
      ]
     },
     "execution_count": 25,
     "metadata": {},
     "output_type": "execute_result"
    }
   ],
   "source": [
    "test_dtm = MLJ.transform(mach, tokenize.(test_df.text))"
   ]
  },
  {
   "cell_type": "markdown",
   "metadata": {},
   "source": [
    "### Naive Bayes Classifier using TextAnalysis"
   ]
  },
  {
   "cell_type": "code",
   "execution_count": 26,
   "metadata": {},
   "outputs": [
    {
     "data": {
      "text/plain": [
       "NaiveBayesClassifier{Int64}(String[], [1, 0], Matrix{Int64}(undef, 0, 2))"
      ]
     },
     "execution_count": 26,
     "metadata": {},
     "output_type": "execute_result"
    }
   ],
   "source": [
    "classes = unique(small_train_df.polarity)\n",
    "nbc = NaiveBayesClassifier(classes)"
   ]
  },
  {
   "cell_type": "code",
   "execution_count": 27,
   "metadata": {},
   "outputs": [],
   "source": [
    "for (text, polarity) in zip(small_train_df.text, small_train_df.polarity)\n",
    "    TextAnalysis.fit!(nbc, text, polarity)\n",
    "end"
   ]
  },
  {
   "cell_type": "code",
   "execution_count": 28,
   "metadata": {},
   "outputs": [
    {
     "data": {
      "text/plain": [
       "NaiveBayesClassifier{Int64}([\"watching\", \"me\", \"marley\", \"and\", \"i\", \"!\", \"is\", \"incredible\", \",\", \"song\"  …  \"whites\", \"kraft\", \"HungryGirl\", \"Lauraaa\", \"Chatting\", \"Alishaaa\", \"modern\", \"vieirasboots\", \"sapiens\", \"evolution\"], [1, 0], [66 57; 400 523; … ; 1 2; 1 2])"
      ]
     },
     "execution_count": 28,
     "metadata": {},
     "output_type": "execute_result"
    }
   ],
   "source": [
    "nbc"
   ]
  },
  {
   "cell_type": "code",
   "execution_count": 29,
   "metadata": {
    "scrolled": true
   },
   "outputs": [
    {
     "name": "stdout",
     "output_type": "stream",
     "text": [
      "\u001b[1m498×5 DataFrame\u001b[0m\n",
      "\u001b[1m Row \u001b[0m│\u001b[1m polarity \u001b[0m\u001b[1m date                \u001b[0m\u001b[1m user            \u001b[0m\u001b[1m text                              \u001b[0m\u001b[1m predictions \u001b[0m\n",
      "\u001b[1m     \u001b[0m│\u001b[90m Int64    \u001b[0m\u001b[90m DateTime            \u001b[0m\u001b[90m String          \u001b[0m\u001b[90m String                            \u001b[0m\u001b[90m Int64       \u001b[0m\n",
      "─────┼────────────────────────────────────────────────────────────────────────────────────────────────\n",
      "   1 │        1  2009-05-11T03:17:40  tpryan           @stellargirl I loooooooovvvvvvee…            0\n",
      "   2 │        1  2009-05-11T03:18:03  vcu451           Reading my kindle2...  Love it..…            1\n",
      "   3 │        1  2009-05-11T03:18:54  chadfu           Ok, first assesment of the #kind…            0\n",
      "   4 │        1  2009-05-11T03:19:04  SIX15            @kenburbary You'll love your Kin…            1\n",
      "   5 │        1  2009-05-11T03:21:41  yamarama         @mikefish  Fair enough. But i ha…            0\n",
      "   6 │        1  2009-05-11T03:22:00  GeorgeVHulme     @richardebaker no. it is too big…            0\n",
      "   7 │        0  2009-05-11T03:22:30  Seth937          Fuck this economy. I hate aig an…            0\n",
      "   8 │        1  2009-05-11T03:26:10  dcostalis        Jquery is my new best friend.                1\n",
      "   9 │        1  2009-05-11T03:27:15  PJ_King          Loves twitter                                1\n",
      "  10 │        1  2009-05-11T03:29:20  mandanicole      how can you not love Obama? he m…            0\n",
      "  11 │        1  2009-05-11T03:32:42  jpeb             Check this video out -- Presiden…            0\n",
      "  ⋮  │    ⋮               ⋮                  ⋮                         ⋮                       ⋮\n",
      " 489 │        1  2009-06-13T16:24:03  wetfishdesigns   @johncmayer is Bobby Flay joinin…            1\n",
      " 490 │        1  2009-06-13T16:24:15  A_TALL_BLONDE    i lam so in love with Bobby Flay…            1\n",
      " 491 │        0  2009-06-14T04:31:12  rooney_tunes     I just created my first LaTeX fi…            0\n",
      " 492 │        1  2009-06-14T04:31:23  roguemovement    using Linux and loving it - so m…            1\n",
      " 493 │        1  2009-06-14T04:31:28  yomcat           After using LaTeX a lot, any oth…            1\n",
      " 494 │        1  2009-06-14T04:31:43  proggit          Ask Programming: LaTeX or InDesi…            1\n",
      " 495 │        0  2009-06-14T04:32:17  sam33r           On that note, I hate Word. I hat…            0\n",
      " 496 │        1  2009-06-14T04:36:34  iamtheonlyjosie  Ahhh... back in a *real* text ed…            0\n",
      " 497 │        0  2009-06-14T21:36:07  plutopup7        Trouble in Iran, I see. Hmm. Ira…            0\n",
      " 498 │        0  2009-06-14T21:36:17  captain_pete     Reading the tweets coming out of…            0\n",
      "\u001b[36m                                                                                      477 rows omitted\u001b[0m"
     ]
    }
   ],
   "source": [
    "function get_prediction(probability_dict)\n",
    "    if (probability_dict[0] > probability_dict[1])\n",
    "        return 0\n",
    "    else\n",
    "        return 1\n",
    "    end\n",
    "end\n",
    "\n",
    "test_df[:, :predictions] = [get_prediction(TextAnalysis.predict(nbc, text)) for text in test_df.text]\n",
    "DataFrames.show(test_df, allcols=true)"
   ]
  },
  {
   "cell_type": "markdown",
   "metadata": {},
   "source": [
    "### Naive Bayes using sklearn"
   ]
  },
  {
   "cell_type": "code",
   "execution_count": 30,
   "metadata": {
    "scrolled": true
   },
   "outputs": [
    {
     "data": {
      "text/plain": [
       "PyObject <1583691x941 sparse matrix of type '<class 'numpy.int64'>'\n",
       "\twith 6472189 stored elements in Compressed Sparse Row format>"
      ]
     },
     "execution_count": 30,
     "metadata": {},
     "output_type": "execute_result"
    }
   ],
   "source": [
    "vectorizer = CountVectorizer(min_df=0.001, max_df=0.8, stop_words=\"english\")\n",
    "train_dtm = vectorizer.fit_transform(train_df.text)"
   ]
  },
  {
   "cell_type": "code",
   "execution_count": 31,
   "metadata": {},
   "outputs": [
    {
     "data": {
      "text/plain": [
       "PyObject <1583691x941 sparse matrix of type '<class 'numpy.int64'>'\n",
       "\twith 6472189 stored elements in Compressed Sparse Row format>"
      ]
     },
     "execution_count": 31,
     "metadata": {},
     "output_type": "execute_result"
    }
   ],
   "source": [
    "train_dtm"
   ]
  },
  {
   "cell_type": "code",
   "execution_count": 32,
   "metadata": {},
   "outputs": [
    {
     "data": {
      "text/plain": [
       "PyObject <498x941 sparse matrix of type '<class 'numpy.int64'>'\n",
       "\twith 2042 stored elements in Compressed Sparse Row format>"
      ]
     },
     "execution_count": 32,
     "metadata": {},
     "output_type": "execute_result"
    }
   ],
   "source": [
    "test_dtm = vectorizer.transform(test_df.text)"
   ]
  },
  {
   "cell_type": "code",
   "execution_count": 33,
   "metadata": {
    "ExecuteTime": {
     "end_time": "2020-06-21T00:43:11.897040Z",
     "start_time": "2020-06-21T00:43:11.671003Z"
    }
   },
   "outputs": [
    {
     "data": {
      "text/html": [
       "<style>#sk-container-id-3 {color: black;background-color: white;}#sk-container-id-3 pre{padding: 0;}#sk-container-id-3 div.sk-toggleable {background-color: white;}#sk-container-id-3 label.sk-toggleable__label {cursor: pointer;display: block;width: 100%;margin-bottom: 0;padding: 0.3em;box-sizing: border-box;text-align: center;}#sk-container-id-3 label.sk-toggleable__label-arrow:before {content: \"▸\";float: left;margin-right: 0.25em;color: #696969;}#sk-container-id-3 label.sk-toggleable__label-arrow:hover:before {color: black;}#sk-container-id-3 div.sk-estimator:hover label.sk-toggleable__label-arrow:before {color: black;}#sk-container-id-3 div.sk-toggleable__content {max-height: 0;max-width: 0;overflow: hidden;text-align: left;background-color: #f0f8ff;}#sk-container-id-3 div.sk-toggleable__content pre {margin: 0.2em;color: black;border-radius: 0.25em;background-color: #f0f8ff;}#sk-container-id-3 input.sk-toggleable__control:checked~div.sk-toggleable__content {max-height: 200px;max-width: 100%;overflow: auto;}#sk-container-id-3 input.sk-toggleable__control:checked~label.sk-toggleable__label-arrow:before {content: \"▾\";}#sk-container-id-3 div.sk-estimator input.sk-toggleable__control:checked~label.sk-toggleable__label {background-color: #d4ebff;}#sk-container-id-3 div.sk-label input.sk-toggleable__control:checked~label.sk-toggleable__label {background-color: #d4ebff;}#sk-container-id-3 input.sk-hidden--visually {border: 0;clip: rect(1px 1px 1px 1px);clip: rect(1px, 1px, 1px, 1px);height: 1px;margin: -1px;overflow: hidden;padding: 0;position: absolute;width: 1px;}#sk-container-id-3 div.sk-estimator {font-family: monospace;background-color: #f0f8ff;border: 1px dotted black;border-radius: 0.25em;box-sizing: border-box;margin-bottom: 0.5em;}#sk-container-id-3 div.sk-estimator:hover {background-color: #d4ebff;}#sk-container-id-3 div.sk-parallel-item::after {content: \"\";width: 100%;border-bottom: 1px solid gray;flex-grow: 1;}#sk-container-id-3 div.sk-label:hover label.sk-toggleable__label {background-color: #d4ebff;}#sk-container-id-3 div.sk-serial::before {content: \"\";position: absolute;border-left: 1px solid gray;box-sizing: border-box;top: 0;bottom: 0;left: 50%;z-index: 0;}#sk-container-id-3 div.sk-serial {display: flex;flex-direction: column;align-items: center;background-color: white;padding-right: 0.2em;padding-left: 0.2em;position: relative;}#sk-container-id-3 div.sk-item {position: relative;z-index: 1;}#sk-container-id-3 div.sk-parallel {display: flex;align-items: stretch;justify-content: center;background-color: white;position: relative;}#sk-container-id-3 div.sk-item::before, #sk-container-id-3 div.sk-parallel-item::before {content: \"\";position: absolute;border-left: 1px solid gray;box-sizing: border-box;top: 0;bottom: 0;left: 50%;z-index: -1;}#sk-container-id-3 div.sk-parallel-item {display: flex;flex-direction: column;z-index: 1;position: relative;background-color: white;}#sk-container-id-3 div.sk-parallel-item:first-child::after {align-self: flex-end;width: 50%;}#sk-container-id-3 div.sk-parallel-item:last-child::after {align-self: flex-start;width: 50%;}#sk-container-id-3 div.sk-parallel-item:only-child::after {width: 0;}#sk-container-id-3 div.sk-dashed-wrapped {border: 1px dashed gray;margin: 0 0.4em 0.5em 0.4em;box-sizing: border-box;padding-bottom: 0.4em;background-color: white;}#sk-container-id-3 div.sk-label label {font-family: monospace;font-weight: bold;display: inline-block;line-height: 1.2em;}#sk-container-id-3 div.sk-label-container {text-align: center;}#sk-container-id-3 div.sk-container {/* jupyter's `normalize.less` sets `[hidden] { display: none; }` but bootstrap.min.css set `[hidden] { display: none !important; }` so we also need the `!important` here to be able to override the default hidden behavior on the sphinx rendered scikit-learn.org. See: https://github.com/scikit-learn/scikit-learn/issues/21755 */display: inline-block !important;position: relative;}#sk-container-id-3 div.sk-text-repr-fallback {display: none;}</style><div id=\"sk-container-id-3\" class=\"sk-top-container\"><div class=\"sk-text-repr-fallback\"><pre>MultinomialNB()</pre><b>In a Jupyter environment, please rerun this cell to show the HTML representation or trust the notebook. <br />On GitHub, the HTML representation is unable to render, please try loading this page with nbviewer.org.</b></div><div class=\"sk-container\" hidden><div class=\"sk-item\"><div class=\"sk-estimator sk-toggleable\"><input class=\"sk-toggleable__control sk-hidden--visually\" id=\"sk-estimator-id-3\" type=\"checkbox\" checked><label for=\"sk-estimator-id-3\" class=\"sk-toggleable__label sk-toggleable__label-arrow\">MultinomialNB</label><div class=\"sk-toggleable__content\"><pre>MultinomialNB()</pre></div></div></div></div></div>"
      ],
      "text/plain": [
       "PyObject MultinomialNB()"
      ]
     },
     "execution_count": 33,
     "metadata": {},
     "output_type": "execute_result"
    }
   ],
   "source": [
    "nb = MultinomialNB()\n",
    "nb.fit(train_dtm, train_df.polarity)\n",
    "#nb.fit(small_train_dtm, small_train_df.polarity)"
   ]
  },
  {
   "cell_type": "markdown",
   "metadata": {},
   "source": [
    "### Predict Test Polarity"
   ]
  },
  {
   "cell_type": "code",
   "execution_count": 34,
   "metadata": {
    "ExecuteTime": {
     "end_time": "2020-06-21T00:43:11.910282Z",
     "start_time": "2020-06-21T00:43:11.898724Z"
    },
    "scrolled": true
   },
   "outputs": [
    {
     "data": {
      "text/plain": [
       "498-element Vector{Int64}:\n",
       " 1\n",
       " 1\n",
       " 0\n",
       " 1\n",
       " 1\n",
       " 1\n",
       " 0\n",
       " 1\n",
       " 1\n",
       " 1\n",
       " 1\n",
       " 0\n",
       " 1\n",
       " ⋮\n",
       " 1\n",
       " 1\n",
       " 1\n",
       " 1\n",
       " 0\n",
       " 1\n",
       " 1\n",
       " 1\n",
       " 0\n",
       " 1\n",
       " 0\n",
       " 0"
      ]
     },
     "execution_count": 34,
     "metadata": {},
     "output_type": "execute_result"
    }
   ],
   "source": [
    "predicted_polarity = nb.predict(test_dtm)"
   ]
  },
  {
   "cell_type": "markdown",
   "metadata": {},
   "source": [
    "### Evaluate Results"
   ]
  },
  {
   "cell_type": "code",
   "execution_count": 35,
   "metadata": {
    "ExecuteTime": {
     "end_time": "2020-06-21T00:43:11.928292Z",
     "start_time": "2020-06-21T00:43:11.912307Z"
    }
   },
   "outputs": [
    {
     "data": {
      "text/plain": [
       "0.7911646586345381"
      ]
     },
     "execution_count": 35,
     "metadata": {},
     "output_type": "execute_result"
    }
   ],
   "source": [
    "accuracy_score(test_df.polarity, predicted_polarity)"
   ]
  },
  {
   "cell_type": "markdown",
   "metadata": {},
   "source": [
    "### TextBlob for Sentiment Analysis"
   ]
  },
  {
   "cell_type": "code",
   "execution_count": 36,
   "metadata": {},
   "outputs": [],
   "source": [
    "#Conda.add(\"textblob\")"
   ]
  },
  {
   "cell_type": "code",
   "execution_count": 37,
   "metadata": {},
   "outputs": [],
   "source": [
    "@pyimport textblob"
   ]
  },
  {
   "cell_type": "code",
   "execution_count": 38,
   "metadata": {},
   "outputs": [
    {
     "name": "stdout",
     "output_type": "stream",
     "text": [
      "rocked english and german; only economics left! Enjoying this  \n",
      "1\n"
     ]
    }
   ],
   "source": [
    "sample_positive = train_df[1500000, :text]\n",
    "sample_polarity = train_df[1500000, :polarity]\n",
    "println(sample_positive)\n",
    "println(sample_polarity)"
   ]
  },
  {
   "cell_type": "code",
   "execution_count": 39,
   "metadata": {
    "ExecuteTime": {
     "end_time": "2020-06-21T00:43:11.978158Z",
     "start_time": "2020-06-21T00:43:11.929636Z"
    }
   },
   "outputs": [
    {
     "data": {
      "text/plain": [
       "0.1"
      ]
     },
     "execution_count": 39,
     "metadata": {},
     "output_type": "execute_result"
    }
   ],
   "source": [
    "parsed_positive = textblob.TextBlob(sample_positive)\n",
    "parsed_positive.polarity"
   ]
  },
  {
   "cell_type": "code",
   "execution_count": 40,
   "metadata": {},
   "outputs": [
    {
     "name": "stdout",
     "output_type": "stream",
     "text": [
      "@moonfrye Up here in CANADA ... you would have your butt kicked for that!  How awful.  \n",
      "0\n"
     ]
    }
   ],
   "source": [
    "sample_negative = train_df[250000, :text]\n",
    "sample_polarity = train_df[250000, :polarity]\n",
    "println(sample_negative)\n",
    "println(sample_polarity)"
   ]
  },
  {
   "cell_type": "code",
   "execution_count": 41,
   "metadata": {
    "ExecuteTime": {
     "end_time": "2020-06-21T00:43:11.987157Z",
     "start_time": "2020-06-21T00:43:11.980272Z"
    }
   },
   "outputs": [
    {
     "data": {
      "text/plain": [
       "-1.0"
      ]
     },
     "execution_count": 41,
     "metadata": {},
     "output_type": "execute_result"
    }
   ],
   "source": [
    "parsed_negative = textblob.TextBlob(sample_negative)\n",
    "parsed_negative.polarity"
   ]
  },
  {
   "cell_type": "code",
   "execution_count": 42,
   "metadata": {
    "ExecuteTime": {
     "end_time": "2020-06-21T00:43:12.000962Z",
     "start_time": "2020-06-21T00:43:11.998282Z"
    }
   },
   "outputs": [
    {
     "data": {
      "text/plain": [
       "estimate_polarity (generic function with 1 method)"
      ]
     },
     "execution_count": 42,
     "metadata": {},
     "output_type": "execute_result"
    }
   ],
   "source": [
    "function estimate_polarity(text)\n",
    "    return textblob.TextBlob(text).sentiment[1]\n",
    "end"
   ]
  },
  {
   "cell_type": "code",
   "execution_count": 43,
   "metadata": {
    "scrolled": false
   },
   "outputs": [
    {
     "name": "stdout",
     "output_type": "stream",
     "text": [
      "\u001b[1m10×3 DataFrame\u001b[0m\n",
      "\u001b[1m Row \u001b[0m│\u001b[1m polarity \u001b[0m\u001b[1m text                              \u001b[0m\u001b[1m sentiment \u001b[0m\n",
      "\u001b[1m     \u001b[0m│\u001b[90m Int64    \u001b[0m\u001b[90m String                            \u001b[0m\u001b[90m Float64   \u001b[0m\n",
      "─────┼────────────────────────────────────────────────────────\n",
      "   1 │        1  just had breakfast @ toast with …   0.85\n",
      "   2 │        1  @JustinJohnJacob Awesomeee, now …   0.5\n",
      "   3 │        0  @FrakFraco It wont let me DM you…   0.266667\n",
      "   4 │        1  @ShrimpSalad Thanks and it proba…   0.2125\n",
      "   5 │        1  Waiting for a new T.V               0.136364\n",
      "   6 │        0  the forums were gone..  oh well.…   0.0\n",
      "   7 │        1  Send me a pic of your charter  b…   0.0\n",
      "   8 │        1  @emilyjane_elrod you should go t…   0.0\n",
      "   9 │        0  I need help? What do you say to …   0.0\n",
      "  10 │        0  Just got shots at the doctor!  T…  -0.875"
     ]
    }
   ],
   "source": [
    "sample_train = select(train_df[shuffle(1:nrow(train_df))[1:10], :], [:polarity, :text])\n",
    "sample_train[!, :sentiment] = estimate_polarity.(sample_train.text)\n",
    "sort!(sample_train, :sentiment, rev=true)\n",
    "DataFrames.show(sample_train, allcols=true)"
   ]
  },
  {
   "cell_type": "markdown",
   "metadata": {},
   "source": [
    "### Compare with TextBlob Polarity Score"
   ]
  },
  {
   "cell_type": "markdown",
   "metadata": {},
   "source": [
    "We also obtain TextBlob sentiment scores for the tweets and note (see left panel in below figure) that positive test tweets receive a significantly higher sentiment estimate. We then use the MultinomialNB ‘s model .predict_proba() method to compute predicted probabilities and compare both models using the respective Area Under the Curve (see right panel below)."
   ]
  },
  {
   "cell_type": "code",
   "execution_count": 44,
   "metadata": {
    "ExecuteTime": {
     "end_time": "2020-06-21T00:43:12.346372Z",
     "start_time": "2020-06-21T00:43:12.123460Z"
    },
    "scrolled": true
   },
   "outputs": [
    {
     "name": "stdout",
     "output_type": "stream",
     "text": [
      "\u001b[1m5×6 DataFrame\u001b[0m\n",
      "\u001b[1m Row \u001b[0m│\u001b[1m polarity \u001b[0m\u001b[1m date                \u001b[0m\u001b[1m user     \u001b[0m\u001b[1m text                              \u001b[0m\u001b[1m predictions \u001b[0m\u001b[1m sentiment  \u001b[0m\n",
      "\u001b[1m     \u001b[0m│\u001b[90m Int64    \u001b[0m\u001b[90m DateTime            \u001b[0m\u001b[90m String   \u001b[0m\u001b[90m String                            \u001b[0m\u001b[90m Int64       \u001b[0m\u001b[90m Float64    \u001b[0m\n",
      "─────┼─────────────────────────────────────────────────────────────────────────────────────────────────────\n",
      "   1 │        1  2009-05-11T03:17:40  tpryan    @stellargirl I loooooooovvvvvvee…            0   0.408929\n",
      "   2 │        1  2009-05-11T03:18:03  vcu451    Reading my kindle2...  Love it..…            1   0.6\n",
      "   3 │        1  2009-05-11T03:18:54  chadfu    Ok, first assesment of the #kind…            0  -0.0833333\n",
      "   4 │        1  2009-05-11T03:19:04  SIX15     @kenburbary You'll love your Kin…            1   0.223052\n",
      "   5 │        1  2009-05-11T03:21:41  yamarama  @mikefish  Fair enough. But i ha…            0   0.55"
     ]
    }
   ],
   "source": [
    "test_df[:, :sentiment] = [estimate_polarity(text) for text in test_df.text]\n",
    "DataFrames.show(first(test_df, 5), allcols=true)"
   ]
  },
  {
   "cell_type": "code",
   "execution_count": 45,
   "metadata": {
    "ExecuteTime": {
     "end_time": "2020-06-21T00:43:12.355982Z",
     "start_time": "2020-06-21T00:43:12.348343Z"
    },
    "scrolled": true
   },
   "outputs": [
    {
     "data": {
      "text/plain": [
       "498-element Vector{Int64}:\n",
       " 1\n",
       " 1\n",
       " 0\n",
       " 1\n",
       " 1\n",
       " 1\n",
       " 0\n",
       " 1\n",
       " 0\n",
       " 0\n",
       " 0\n",
       " 0\n",
       " 0\n",
       " ⋮\n",
       " 0\n",
       " 1\n",
       " 0\n",
       " 1\n",
       " 1\n",
       " 1\n",
       " 0\n",
       " 0\n",
       " 0\n",
       " 1\n",
       " 0\n",
       " 0"
      ]
     },
     "execution_count": 45,
     "metadata": {},
     "output_type": "execute_result"
    }
   ],
   "source": [
    "function polarity_from_sentiment(sentiment)\n",
    "    if (sentiment > 0)\n",
    "        return 1\n",
    "    else\n",
    "        return 0\n",
    "    end\n",
    "end\n",
    "\n",
    "predicted_polarity = [polarity_from_sentiment(sentiment) for sentiment in test_df.sentiment]"
   ]
  },
  {
   "cell_type": "code",
   "execution_count": 46,
   "metadata": {},
   "outputs": [
    {
     "data": {
      "text/plain": [
       "0.6104417670682731"
      ]
     },
     "execution_count": 46,
     "metadata": {},
     "output_type": "execute_result"
    }
   ],
   "source": [
    "accuracy_score(test_df.polarity, predicted_polarity)"
   ]
  },
  {
   "cell_type": "markdown",
   "metadata": {},
   "source": [
    "#### ROC AUC Scores"
   ]
  },
  {
   "cell_type": "code",
   "execution_count": 47,
   "metadata": {
    "ExecuteTime": {
     "end_time": "2020-06-21T00:43:12.372365Z",
     "start_time": "2020-06-21T00:43:12.357859Z"
    }
   },
   "outputs": [
    {
     "data": {
      "text/plain": [
       "0.7424802435890666"
      ]
     },
     "execution_count": 47,
     "metadata": {},
     "output_type": "execute_result"
    }
   ],
   "source": [
    "roc_auc_score(y_true = test_df.polarity, y_score = test_df.sentiment)"
   ]
  },
  {
   "cell_type": "code",
   "execution_count": 48,
   "metadata": {
    "ExecuteTime": {
     "end_time": "2020-06-21T00:43:12.378394Z",
     "start_time": "2020-06-21T00:43:12.373345Z"
    }
   },
   "outputs": [
    {
     "data": {
      "text/plain": [
       "0.15176795677350088"
      ]
     },
     "execution_count": 48,
     "metadata": {},
     "output_type": "execute_result"
    }
   ],
   "source": [
    "roc_auc_score(y_true = test_df.polarity, y_score = nb.predict_proba(test_dtm)[:, 1])"
   ]
  },
  {
   "cell_type": "code",
   "execution_count": 49,
   "metadata": {
    "ExecuteTime": {
     "end_time": "2020-06-21T00:43:12.400769Z",
     "start_time": "2020-06-21T00:43:12.388229Z"
    },
    "scrolled": true
   },
   "outputs": [
    {
     "data": {
      "text/html": [
       "<div class=\"data-frame\"><p>114 rows × 2 columns</p><table class=\"data-frame\"><thead><tr><th></th><th>index</th><th>tpr_tb</th></tr><tr><th></th><th title=\"Float64\">Float64</th><th title=\"Float64\">Float64</th></tr></thead><tbody><tr><th>1</th><td>0.0</td><td>0.0</td></tr><tr><th>2</th><td>0.0112994</td><td>0.0404984</td></tr><tr><th>3</th><td>0.0112994</td><td>0.0560748</td></tr><tr><th>4</th><td>0.0225989</td><td>0.0685358</td></tr><tr><th>5</th><td>0.0225989</td><td>0.0809969</td></tr><tr><th>6</th><td>0.0282486</td><td>0.0809969</td></tr><tr><th>7</th><td>0.0282486</td><td>0.0872274</td></tr><tr><th>8</th><td>0.039548</td><td>0.11838</td></tr><tr><th>9</th><td>0.039548</td><td>0.121495</td></tr><tr><th>10</th><td>0.039548</td><td>0.130841</td></tr><tr><th>11</th><td>0.039548</td><td>0.140187</td></tr><tr><th>12</th><td>0.0451977</td><td>0.149533</td></tr><tr><th>13</th><td>0.0451977</td><td>0.152648</td></tr><tr><th>14</th><td>0.0451977</td><td>0.165109</td></tr><tr><th>15</th><td>0.0451977</td><td>0.183801</td></tr><tr><th>16</th><td>0.0451977</td><td>0.190031</td></tr><tr><th>17</th><td>0.0451977</td><td>0.193146</td></tr><tr><th>18</th><td>0.0508475</td><td>0.202492</td></tr><tr><th>19</th><td>0.0508475</td><td>0.211838</td></tr><tr><th>20</th><td>0.079096</td><td>0.264798</td></tr><tr><th>21</th><td>0.079096</td><td>0.286604</td></tr><tr><th>22</th><td>0.079096</td><td>0.292835</td></tr><tr><th>23</th><td>0.079096</td><td>0.302181</td></tr><tr><th>24</th><td>0.0847458</td><td>0.308411</td></tr><tr><th>25</th><td>0.0847458</td><td>0.311526</td></tr><tr><th>26</th><td>0.101695</td><td>0.327103</td></tr><tr><th>27</th><td>0.101695</td><td>0.333333</td></tr><tr><th>28</th><td>0.101695</td><td>0.342679</td></tr><tr><th>29</th><td>0.112994</td><td>0.352025</td></tr><tr><th>30</th><td>0.112994</td><td>0.358255</td></tr><tr><th>&vellip;</th><td>&vellip;</td><td>&vellip;</td></tr></tbody></table></div>"
      ],
      "text/latex": [
       "\\begin{tabular}{r|cc}\n",
       "\t& index & tpr\\_tb\\\\\n",
       "\t\\hline\n",
       "\t& Float64 & Float64\\\\\n",
       "\t\\hline\n",
       "\t1 & 0.0 & 0.0 \\\\\n",
       "\t2 & 0.0112994 & 0.0404984 \\\\\n",
       "\t3 & 0.0112994 & 0.0560748 \\\\\n",
       "\t4 & 0.0225989 & 0.0685358 \\\\\n",
       "\t5 & 0.0225989 & 0.0809969 \\\\\n",
       "\t6 & 0.0282486 & 0.0809969 \\\\\n",
       "\t7 & 0.0282486 & 0.0872274 \\\\\n",
       "\t8 & 0.039548 & 0.11838 \\\\\n",
       "\t9 & 0.039548 & 0.121495 \\\\\n",
       "\t10 & 0.039548 & 0.130841 \\\\\n",
       "\t11 & 0.039548 & 0.140187 \\\\\n",
       "\t12 & 0.0451977 & 0.149533 \\\\\n",
       "\t13 & 0.0451977 & 0.152648 \\\\\n",
       "\t14 & 0.0451977 & 0.165109 \\\\\n",
       "\t15 & 0.0451977 & 0.183801 \\\\\n",
       "\t16 & 0.0451977 & 0.190031 \\\\\n",
       "\t17 & 0.0451977 & 0.193146 \\\\\n",
       "\t18 & 0.0508475 & 0.202492 \\\\\n",
       "\t19 & 0.0508475 & 0.211838 \\\\\n",
       "\t20 & 0.079096 & 0.264798 \\\\\n",
       "\t21 & 0.079096 & 0.286604 \\\\\n",
       "\t22 & 0.079096 & 0.292835 \\\\\n",
       "\t23 & 0.079096 & 0.302181 \\\\\n",
       "\t24 & 0.0847458 & 0.308411 \\\\\n",
       "\t25 & 0.0847458 & 0.311526 \\\\\n",
       "\t26 & 0.101695 & 0.327103 \\\\\n",
       "\t27 & 0.101695 & 0.333333 \\\\\n",
       "\t28 & 0.101695 & 0.342679 \\\\\n",
       "\t29 & 0.112994 & 0.352025 \\\\\n",
       "\t30 & 0.112994 & 0.358255 \\\\\n",
       "\t$\\dots$ & $\\dots$ & $\\dots$ \\\\\n",
       "\\end{tabular}\n"
      ],
      "text/plain": [
       "\u001b[1m114×2 DataFrame\u001b[0m\n",
       "\u001b[1m Row \u001b[0m│\u001b[1m index     \u001b[0m\u001b[1m tpr_tb    \u001b[0m\n",
       "\u001b[1m     \u001b[0m│\u001b[90m Float64   \u001b[0m\u001b[90m Float64   \u001b[0m\n",
       "─────┼──────────────────────\n",
       "   1 │ 0.0        0.0\n",
       "   2 │ 0.0112994  0.0404984\n",
       "   3 │ 0.0112994  0.0560748\n",
       "   4 │ 0.0225989  0.0685358\n",
       "   5 │ 0.0225989  0.0809969\n",
       "   6 │ 0.0282486  0.0809969\n",
       "   7 │ 0.0282486  0.0872274\n",
       "   8 │ 0.039548   0.11838\n",
       "   9 │ 0.039548   0.121495\n",
       "  10 │ 0.039548   0.130841\n",
       "  11 │ 0.039548   0.140187\n",
       "  ⋮  │     ⋮          ⋮\n",
       " 105 │ 0.898305   0.993769\n",
       " 106 │ 0.903955   0.993769\n",
       " 107 │ 0.903955   0.996885\n",
       " 108 │ 0.909605   0.996885\n",
       " 109 │ 0.932203   0.996885\n",
       " 110 │ 0.937853   0.996885\n",
       " 111 │ 0.977401   0.996885\n",
       " 112 │ 0.983051   0.996885\n",
       " 113 │ 0.983051   1.0\n",
       " 114 │ 1.0        1.0\n",
       "\u001b[36m             93 rows omitted\u001b[0m"
      ]
     },
     "execution_count": 49,
     "metadata": {},
     "output_type": "execute_result"
    }
   ],
   "source": [
    "fpr_tb, tpr_tb, _ = roc_curve(y_true = test_df.polarity, y_score = test_df.sentiment)\n",
    "roc_tb = DataFrame(index = fpr_tb, tpr_tb = tpr_tb)"
   ]
  },
  {
   "cell_type": "code",
   "execution_count": 50,
   "metadata": {
    "scrolled": true
   },
   "outputs": [
    {
     "data": {
      "text/html": [
       "<div class=\"data-frame\"><p>160 rows × 2 columns</p><table class=\"data-frame\"><thead><tr><th></th><th>index</th><th>tpr_nb</th></tr><tr><th></th><th title=\"Float64\">Float64</th><th title=\"Float64\">Float64</th></tr></thead><tbody><tr><th>1</th><td>0.0</td><td>0.0</td></tr><tr><th>2</th><td>0.0</td><td>0.00311526</td></tr><tr><th>3</th><td>0.0</td><td>0.0342679</td></tr><tr><th>4</th><td>0.00564972</td><td>0.0342679</td></tr><tr><th>5</th><td>0.00564972</td><td>0.0498442</td></tr><tr><th>6</th><td>0.00564972</td><td>0.0560748</td></tr><tr><th>7</th><td>0.00564972</td><td>0.0716511</td></tr><tr><th>8</th><td>0.0112994</td><td>0.0716511</td></tr><tr><th>9</th><td>0.0112994</td><td>0.130841</td></tr><tr><th>10</th><td>0.0169492</td><td>0.130841</td></tr><tr><th>11</th><td>0.0169492</td><td>0.17757</td></tr><tr><th>12</th><td>0.0225989</td><td>0.17757</td></tr><tr><th>13</th><td>0.0225989</td><td>0.183801</td></tr><tr><th>14</th><td>0.0282486</td><td>0.183801</td></tr><tr><th>15</th><td>0.0282486</td><td>0.239875</td></tr><tr><th>16</th><td>0.0338983</td><td>0.239875</td></tr><tr><th>17</th><td>0.0338983</td><td>0.274143</td></tr><tr><th>18</th><td>0.0338983</td><td>0.280374</td></tr><tr><th>19</th><td>0.039548</td><td>0.280374</td></tr><tr><th>20</th><td>0.039548</td><td>0.28972</td></tr><tr><th>21</th><td>0.039548</td><td>0.302181</td></tr><tr><th>22</th><td>0.039548</td><td>0.314642</td></tr><tr><th>23</th><td>0.0508475</td><td>0.339564</td></tr><tr><th>24</th><td>0.0508475</td><td>0.417445</td></tr><tr><th>25</th><td>0.0564972</td><td>0.417445</td></tr><tr><th>26</th><td>0.0564972</td><td>0.433022</td></tr><tr><th>27</th><td>0.0621469</td><td>0.433022</td></tr><tr><th>28</th><td>0.0621469</td><td>0.464174</td></tr><tr><th>29</th><td>0.0621469</td><td>0.470405</td></tr><tr><th>30</th><td>0.0677966</td><td>0.470405</td></tr><tr><th>&vellip;</th><td>&vellip;</td><td>&vellip;</td></tr></tbody></table></div>"
      ],
      "text/latex": [
       "\\begin{tabular}{r|cc}\n",
       "\t& index & tpr\\_nb\\\\\n",
       "\t\\hline\n",
       "\t& Float64 & Float64\\\\\n",
       "\t\\hline\n",
       "\t1 & 0.0 & 0.0 \\\\\n",
       "\t2 & 0.0 & 0.00311526 \\\\\n",
       "\t3 & 0.0 & 0.0342679 \\\\\n",
       "\t4 & 0.00564972 & 0.0342679 \\\\\n",
       "\t5 & 0.00564972 & 0.0498442 \\\\\n",
       "\t6 & 0.00564972 & 0.0560748 \\\\\n",
       "\t7 & 0.00564972 & 0.0716511 \\\\\n",
       "\t8 & 0.0112994 & 0.0716511 \\\\\n",
       "\t9 & 0.0112994 & 0.130841 \\\\\n",
       "\t10 & 0.0169492 & 0.130841 \\\\\n",
       "\t11 & 0.0169492 & 0.17757 \\\\\n",
       "\t12 & 0.0225989 & 0.17757 \\\\\n",
       "\t13 & 0.0225989 & 0.183801 \\\\\n",
       "\t14 & 0.0282486 & 0.183801 \\\\\n",
       "\t15 & 0.0282486 & 0.239875 \\\\\n",
       "\t16 & 0.0338983 & 0.239875 \\\\\n",
       "\t17 & 0.0338983 & 0.274143 \\\\\n",
       "\t18 & 0.0338983 & 0.280374 \\\\\n",
       "\t19 & 0.039548 & 0.280374 \\\\\n",
       "\t20 & 0.039548 & 0.28972 \\\\\n",
       "\t21 & 0.039548 & 0.302181 \\\\\n",
       "\t22 & 0.039548 & 0.314642 \\\\\n",
       "\t23 & 0.0508475 & 0.339564 \\\\\n",
       "\t24 & 0.0508475 & 0.417445 \\\\\n",
       "\t25 & 0.0564972 & 0.417445 \\\\\n",
       "\t26 & 0.0564972 & 0.433022 \\\\\n",
       "\t27 & 0.0621469 & 0.433022 \\\\\n",
       "\t28 & 0.0621469 & 0.464174 \\\\\n",
       "\t29 & 0.0621469 & 0.470405 \\\\\n",
       "\t30 & 0.0677966 & 0.470405 \\\\\n",
       "\t$\\dots$ & $\\dots$ & $\\dots$ \\\\\n",
       "\\end{tabular}\n"
      ],
      "text/plain": [
       "\u001b[1m160×2 DataFrame\u001b[0m\n",
       "\u001b[1m Row \u001b[0m│\u001b[1m index      \u001b[0m\u001b[1m tpr_nb     \u001b[0m\n",
       "\u001b[1m     \u001b[0m│\u001b[90m Float64    \u001b[0m\u001b[90m Float64    \u001b[0m\n",
       "─────┼────────────────────────\n",
       "   1 │ 0.0         0.0\n",
       "   2 │ 0.0         0.00311526\n",
       "   3 │ 0.0         0.0342679\n",
       "   4 │ 0.00564972  0.0342679\n",
       "   5 │ 0.00564972  0.0498442\n",
       "   6 │ 0.00564972  0.0560748\n",
       "   7 │ 0.00564972  0.0716511\n",
       "   8 │ 0.0112994   0.0716511\n",
       "   9 │ 0.0112994   0.130841\n",
       "  10 │ 0.0169492   0.130841\n",
       "  11 │ 0.0169492   0.17757\n",
       "  ⋮  │     ⋮           ⋮\n",
       " 151 │ 0.723164    0.975078\n",
       " 152 │ 0.723164    0.978193\n",
       " 153 │ 0.728814    0.978193\n",
       " 154 │ 0.728814    0.990654\n",
       " 155 │ 0.745763    0.990654\n",
       " 156 │ 0.785311    0.990654\n",
       " 157 │ 0.785311    0.996885\n",
       " 158 │ 0.977401    0.996885\n",
       " 159 │ 0.977401    1.0\n",
       " 160 │ 1.0         1.0\n",
       "\u001b[36m              139 rows omitted\u001b[0m"
      ]
     },
     "execution_count": 50,
     "metadata": {},
     "output_type": "execute_result"
    }
   ],
   "source": [
    "fpr_nb, tpr_nb, _ = roc_curve(y_true = test_df.polarity, y_score = nb.predict_proba(test_dtm)[:, 2])\n",
    "roc_nb = DataFrame(index = fpr_nb, tpr_nb = tpr_nb)"
   ]
  },
  {
   "cell_type": "markdown",
   "metadata": {},
   "source": [
    "The Naive Bayes model outperforms TextBlob in this case."
   ]
  },
  {
   "cell_type": "code",
   "execution_count": 51,
   "metadata": {},
   "outputs": [
    {
     "data": {
      "image/svg+xml": [
       "<?xml version=\"1.0\" encoding=\"utf-8\"?>\n",
       "<svg xmlns=\"http://www.w3.org/2000/svg\" xmlns:xlink=\"http://www.w3.org/1999/xlink\" width=\"600\" height=\"400\" viewBox=\"0 0 2400 1600\">\n",
       "<defs>\n",
       "  <clipPath id=\"clip1200\">\n",
       "    <rect x=\"0\" y=\"0\" width=\"2400\" height=\"1600\"/>\n",
       "  </clipPath>\n",
       "</defs>\n",
       "<path clip-path=\"url(#clip1200)\" d=\"\n",
       "M0 1600 L2400 1600 L2400 0 L0 0  Z\n",
       "  \" fill=\"#ffffff\" fill-rule=\"evenodd\" fill-opacity=\"1\"/>\n",
       "<defs>\n",
       "  <clipPath id=\"clip1201\">\n",
       "    <rect x=\"480\" y=\"0\" width=\"1681\" height=\"1600\"/>\n",
       "  </clipPath>\n",
       "</defs>\n",
       "<path clip-path=\"url(#clip1200)\" d=\"\n",
       "M243.864 1425.62 L2352.76 1425.62 L2352.76 121.675 L243.864 121.675  Z\n",
       "  \" fill=\"#ffffff\" fill-rule=\"evenodd\" fill-opacity=\"1\"/>\n",
       "<defs>\n",
       "  <clipPath id=\"clip1202\">\n",
       "    <rect x=\"243\" y=\"121\" width=\"2110\" height=\"1305\"/>\n",
       "  </clipPath>\n",
       "</defs>\n",
       "<polyline clip-path=\"url(#clip1202)\" style=\"stroke:#000000; stroke-width:2; stroke-opacity:0.1; fill:none\" points=\"\n",
       "  469.343,1425.62 469.343,121.675 \n",
       "  \"/>\n",
       "<polyline clip-path=\"url(#clip1202)\" style=\"stroke:#000000; stroke-width:2; stroke-opacity:0.1; fill:none\" points=\"\n",
       "  745.665,1425.62 745.665,121.675 \n",
       "  \"/>\n",
       "<polyline clip-path=\"url(#clip1202)\" style=\"stroke:#000000; stroke-width:2; stroke-opacity:0.1; fill:none\" points=\"\n",
       "  1021.99,1425.62 1021.99,121.675 \n",
       "  \"/>\n",
       "<polyline clip-path=\"url(#clip1202)\" style=\"stroke:#000000; stroke-width:2; stroke-opacity:0.1; fill:none\" points=\"\n",
       "  1298.31,1425.62 1298.31,121.675 \n",
       "  \"/>\n",
       "<polyline clip-path=\"url(#clip1202)\" style=\"stroke:#000000; stroke-width:2; stroke-opacity:0.1; fill:none\" points=\"\n",
       "  1574.63,1425.62 1574.63,121.675 \n",
       "  \"/>\n",
       "<polyline clip-path=\"url(#clip1202)\" style=\"stroke:#000000; stroke-width:2; stroke-opacity:0.1; fill:none\" points=\"\n",
       "  1850.95,1425.62 1850.95,121.675 \n",
       "  \"/>\n",
       "<polyline clip-path=\"url(#clip1202)\" style=\"stroke:#000000; stroke-width:2; stroke-opacity:0.1; fill:none\" points=\"\n",
       "  2127.28,1425.62 2127.28,121.675 \n",
       "  \"/>\n",
       "<polyline clip-path=\"url(#clip1202)\" style=\"stroke:#000000; stroke-width:2; stroke-opacity:0.1; fill:none\" points=\"\n",
       "  243.864,1388.71 2352.76,1388.71 \n",
       "  \"/>\n",
       "<polyline clip-path=\"url(#clip1202)\" style=\"stroke:#000000; stroke-width:2; stroke-opacity:0.1; fill:none\" points=\"\n",
       "  243.864,1081.18 2352.76,1081.18 \n",
       "  \"/>\n",
       "<polyline clip-path=\"url(#clip1202)\" style=\"stroke:#000000; stroke-width:2; stroke-opacity:0.1; fill:none\" points=\"\n",
       "  243.864,773.647 2352.76,773.647 \n",
       "  \"/>\n",
       "<polyline clip-path=\"url(#clip1202)\" style=\"stroke:#000000; stroke-width:2; stroke-opacity:0.1; fill:none\" points=\"\n",
       "  243.864,466.113 2352.76,466.113 \n",
       "  \"/>\n",
       "<polyline clip-path=\"url(#clip1202)\" style=\"stroke:#000000; stroke-width:2; stroke-opacity:0.1; fill:none\" points=\"\n",
       "  243.864,158.579 2352.76,158.579 \n",
       "  \"/>\n",
       "<polyline clip-path=\"url(#clip1200)\" style=\"stroke:#000000; stroke-width:4; stroke-opacity:1; fill:none\" points=\"\n",
       "  243.864,1425.62 2352.76,1425.62 \n",
       "  \"/>\n",
       "<polyline clip-path=\"url(#clip1200)\" style=\"stroke:#000000; stroke-width:4; stroke-opacity:1; fill:none\" points=\"\n",
       "  243.864,1425.62 243.864,121.675 \n",
       "  \"/>\n",
       "<polyline clip-path=\"url(#clip1200)\" style=\"stroke:#000000; stroke-width:4; stroke-opacity:1; fill:none\" points=\"\n",
       "  469.343,1425.62 469.343,1409.97 \n",
       "  \"/>\n",
       "<polyline clip-path=\"url(#clip1200)\" style=\"stroke:#000000; stroke-width:4; stroke-opacity:1; fill:none\" points=\"\n",
       "  745.665,1425.62 745.665,1409.97 \n",
       "  \"/>\n",
       "<polyline clip-path=\"url(#clip1200)\" style=\"stroke:#000000; stroke-width:4; stroke-opacity:1; fill:none\" points=\"\n",
       "  1021.99,1425.62 1021.99,1409.97 \n",
       "  \"/>\n",
       "<polyline clip-path=\"url(#clip1200)\" style=\"stroke:#000000; stroke-width:4; stroke-opacity:1; fill:none\" points=\"\n",
       "  1298.31,1425.62 1298.31,1409.97 \n",
       "  \"/>\n",
       "<polyline clip-path=\"url(#clip1200)\" style=\"stroke:#000000; stroke-width:4; stroke-opacity:1; fill:none\" points=\"\n",
       "  1574.63,1425.62 1574.63,1409.97 \n",
       "  \"/>\n",
       "<polyline clip-path=\"url(#clip1200)\" style=\"stroke:#000000; stroke-width:4; stroke-opacity:1; fill:none\" points=\"\n",
       "  1850.95,1425.62 1850.95,1409.97 \n",
       "  \"/>\n",
       "<polyline clip-path=\"url(#clip1200)\" style=\"stroke:#000000; stroke-width:4; stroke-opacity:1; fill:none\" points=\"\n",
       "  2127.28,1425.62 2127.28,1409.97 \n",
       "  \"/>\n",
       "<polyline clip-path=\"url(#clip1200)\" style=\"stroke:#000000; stroke-width:4; stroke-opacity:1; fill:none\" points=\"\n",
       "  243.864,1388.71 269.171,1388.71 \n",
       "  \"/>\n",
       "<polyline clip-path=\"url(#clip1200)\" style=\"stroke:#000000; stroke-width:4; stroke-opacity:1; fill:none\" points=\"\n",
       "  243.864,1081.18 269.171,1081.18 \n",
       "  \"/>\n",
       "<polyline clip-path=\"url(#clip1200)\" style=\"stroke:#000000; stroke-width:4; stroke-opacity:1; fill:none\" points=\"\n",
       "  243.864,773.647 269.171,773.647 \n",
       "  \"/>\n",
       "<polyline clip-path=\"url(#clip1200)\" style=\"stroke:#000000; stroke-width:4; stroke-opacity:1; fill:none\" points=\"\n",
       "  243.864,466.113 269.171,466.113 \n",
       "  \"/>\n",
       "<polyline clip-path=\"url(#clip1200)\" style=\"stroke:#000000; stroke-width:4; stroke-opacity:1; fill:none\" points=\"\n",
       "  243.864,158.579 269.171,158.579 \n",
       "  \"/>\n",
       "<g clip-path=\"url(#clip1200)\">\n",
       "<text style=\"fill:#000000; fill-opacity:1; font-family:Arial,Helvetica Neue,Helvetica,sans-serif; font-size:48px; text-anchor:middle;\" transform=\"rotate(0, 469.343, 1479.62)\" x=\"469.343\" y=\"1479.62\">-0.25</text>\n",
       "</g>\n",
       "<g clip-path=\"url(#clip1200)\">\n",
       "<text style=\"fill:#000000; fill-opacity:1; font-family:Arial,Helvetica Neue,Helvetica,sans-serif; font-size:48px; text-anchor:middle;\" transform=\"rotate(0, 745.665, 1479.62)\" x=\"745.665\" y=\"1479.62\">0.00</text>\n",
       "</g>\n",
       "<g clip-path=\"url(#clip1200)\">\n",
       "<text style=\"fill:#000000; fill-opacity:1; font-family:Arial,Helvetica Neue,Helvetica,sans-serif; font-size:48px; text-anchor:middle;\" transform=\"rotate(0, 1021.99, 1479.62)\" x=\"1021.99\" y=\"1479.62\">0.25</text>\n",
       "</g>\n",
       "<g clip-path=\"url(#clip1200)\">\n",
       "<text style=\"fill:#000000; fill-opacity:1; font-family:Arial,Helvetica Neue,Helvetica,sans-serif; font-size:48px; text-anchor:middle;\" transform=\"rotate(0, 1298.31, 1479.62)\" x=\"1298.31\" y=\"1479.62\">0.50</text>\n",
       "</g>\n",
       "<g clip-path=\"url(#clip1200)\">\n",
       "<text style=\"fill:#000000; fill-opacity:1; font-family:Arial,Helvetica Neue,Helvetica,sans-serif; font-size:48px; text-anchor:middle;\" transform=\"rotate(0, 1574.63, 1479.62)\" x=\"1574.63\" y=\"1479.62\">0.75</text>\n",
       "</g>\n",
       "<g clip-path=\"url(#clip1200)\">\n",
       "<text style=\"fill:#000000; fill-opacity:1; font-family:Arial,Helvetica Neue,Helvetica,sans-serif; font-size:48px; text-anchor:middle;\" transform=\"rotate(0, 1850.95, 1479.62)\" x=\"1850.95\" y=\"1479.62\">1.00</text>\n",
       "</g>\n",
       "<g clip-path=\"url(#clip1200)\">\n",
       "<text style=\"fill:#000000; fill-opacity:1; font-family:Arial,Helvetica Neue,Helvetica,sans-serif; font-size:48px; text-anchor:middle;\" transform=\"rotate(0, 2127.28, 1479.62)\" x=\"2127.28\" y=\"1479.62\">1.25</text>\n",
       "</g>\n",
       "<g clip-path=\"url(#clip1200)\">\n",
       "<text style=\"fill:#000000; fill-opacity:1; font-family:Arial,Helvetica Neue,Helvetica,sans-serif; font-size:48px; text-anchor:end;\" transform=\"rotate(0, 219.864, 1406.21)\" x=\"219.864\" y=\"1406.21\">-1.0</text>\n",
       "</g>\n",
       "<g clip-path=\"url(#clip1200)\">\n",
       "<text style=\"fill:#000000; fill-opacity:1; font-family:Arial,Helvetica Neue,Helvetica,sans-serif; font-size:48px; text-anchor:end;\" transform=\"rotate(0, 219.864, 1098.68)\" x=\"219.864\" y=\"1098.68\">-0.5</text>\n",
       "</g>\n",
       "<g clip-path=\"url(#clip1200)\">\n",
       "<text style=\"fill:#000000; fill-opacity:1; font-family:Arial,Helvetica Neue,Helvetica,sans-serif; font-size:48px; text-anchor:end;\" transform=\"rotate(0, 219.864, 791.147)\" x=\"219.864\" y=\"791.147\">0.0</text>\n",
       "</g>\n",
       "<g clip-path=\"url(#clip1200)\">\n",
       "<text style=\"fill:#000000; fill-opacity:1; font-family:Arial,Helvetica Neue,Helvetica,sans-serif; font-size:48px; text-anchor:end;\" transform=\"rotate(0, 219.864, 483.613)\" x=\"219.864\" y=\"483.613\">0.5</text>\n",
       "</g>\n",
       "<g clip-path=\"url(#clip1200)\">\n",
       "<text style=\"fill:#000000; fill-opacity:1; font-family:Arial,Helvetica Neue,Helvetica,sans-serif; font-size:48px; text-anchor:end;\" transform=\"rotate(0, 219.864, 176.079)\" x=\"219.864\" y=\"176.079\">1.0</text>\n",
       "</g>\n",
       "<g clip-path=\"url(#clip1200)\">\n",
       "<text style=\"fill:#000000; fill-opacity:1; font-family:Arial,Helvetica Neue,Helvetica,sans-serif; font-size:84px; text-anchor:middle;\" transform=\"rotate(0, 1298.31, 73.2)\" x=\"1298.31\" y=\"73.2\">TextBlob Sentiment Scores</text>\n",
       "</g>\n",
       "<g clip-path=\"url(#clip1200)\">\n",
       "<text style=\"fill:#000000; fill-opacity:1; font-family:Arial,Helvetica Neue,Helvetica,sans-serif; font-size:66px; text-anchor:middle;\" transform=\"rotate(0, 1298.31, 1559.48)\" x=\"1298.31\" y=\"1559.48\">Polarity</text>\n",
       "</g>\n",
       "<g clip-path=\"url(#clip1200)\">\n",
       "<text style=\"fill:#000000; fill-opacity:1; font-family:Arial,Helvetica Neue,Helvetica,sans-serif; font-size:66px; text-anchor:middle;\" transform=\"rotate(-90, 89.2861, 773.647)\" x=\"89.2861\" y=\"773.647\">Sentiment</text>\n",
       "</g>\n",
       "<circle clip-path=\"url(#clip1202)\" style=\"fill:#000000; stroke:none; fill-opacity:1\" cx=\"745.665\" cy=\"158.579\" r=\"18\"/>\n",
       "<circle clip-path=\"url(#clip1202)\" style=\"fill:#009af9; stroke:none; fill-opacity:1\" cx=\"745.665\" cy=\"158.579\" r=\"14\"/>\n",
       "<circle clip-path=\"url(#clip1202)\" style=\"fill:#000000; stroke:none; fill-opacity:1\" cx=\"745.665\" cy=\"158.579\" r=\"18\"/>\n",
       "<circle clip-path=\"url(#clip1202)\" style=\"fill:#009af9; stroke:none; fill-opacity:1\" cx=\"745.665\" cy=\"158.579\" r=\"14\"/>\n",
       "<circle clip-path=\"url(#clip1202)\" style=\"fill:#000000; stroke:none; fill-opacity:1\" cx=\"1850.95\" cy=\"1307.99\" r=\"18\"/>\n",
       "<circle clip-path=\"url(#clip1202)\" style=\"fill:#009af9; stroke:none; fill-opacity:1\" cx=\"1850.95\" cy=\"1307.99\" r=\"14\"/>\n",
       "<path clip-path=\"url(#clip1202)\" d=\"\n",
       "M745.665 1388.71 L303.55 1388.71 L1187.78 1388.71 L745.665 1388.71 L745.665 988.921 L745.665 1388.71  Z\n",
       "  \" fill=\"#009af9\" fill-rule=\"evenodd\" fill-opacity=\"1\"/>\n",
       "<polyline clip-path=\"url(#clip1202)\" style=\"stroke:#000000; stroke-width:4; stroke-opacity:1; fill:none\" points=\"\n",
       "  745.665,1388.71 303.55,1388.71 1187.78,1388.71 745.665,1388.71 745.665,988.921 745.665,1388.71 \n",
       "  \"/>\n",
       "<path clip-path=\"url(#clip1202)\" d=\"\n",
       "M303.55 988.921 L303.55 773.647 L1187.78 773.647 L1187.78 988.921 L303.55 988.921 L303.55 988.921  Z\n",
       "  \" fill=\"#009af9\" fill-rule=\"evenodd\" fill-opacity=\"1\"/>\n",
       "<polyline clip-path=\"url(#clip1202)\" style=\"stroke:#000000; stroke-width:4; stroke-opacity:1; fill:none\" points=\"\n",
       "  303.55,988.921 303.55,773.647 1187.78,773.647 1187.78,988.921 303.55,988.921 \n",
       "  \"/>\n",
       "<path clip-path=\"url(#clip1202)\" d=\"\n",
       "M303.55 691.638 L303.55 773.647 L1187.78 773.647 L1187.78 691.638 L303.55 691.638 L303.55 691.638  Z\n",
       "  \" fill=\"#009af9\" fill-rule=\"evenodd\" fill-opacity=\"1\"/>\n",
       "<polyline clip-path=\"url(#clip1202)\" style=\"stroke:#000000; stroke-width:4; stroke-opacity:1; fill:none\" points=\"\n",
       "  303.55,691.638 303.55,773.647 1187.78,773.647 1187.78,691.638 303.55,691.638 \n",
       "  \"/>\n",
       "<path clip-path=\"url(#clip1202)\" d=\"\n",
       "M745.665 281.593 L303.55 281.593 L1187.78 281.593 L745.665 281.593 L745.665 691.638 L745.665 281.593  Z\n",
       "  \" fill=\"#009af9\" fill-rule=\"evenodd\" fill-opacity=\"1\"/>\n",
       "<polyline clip-path=\"url(#clip1202)\" style=\"stroke:#000000; stroke-width:4; stroke-opacity:1; fill:none\" points=\"\n",
       "  745.665,281.593 303.55,281.593 1187.78,281.593 745.665,281.593 745.665,691.638 745.665,281.593 \n",
       "  \"/>\n",
       "<path clip-path=\"url(#clip1202)\" d=\"\n",
       "M1850.95 1212.98 L1408.84 1212.98 L2293.07 1212.98 L1850.95 1212.98 L1850.95 773.647 L1850.95 1212.98  Z\n",
       "  \" fill=\"#009af9\" fill-rule=\"evenodd\" fill-opacity=\"1\"/>\n",
       "<polyline clip-path=\"url(#clip1202)\" style=\"stroke:#000000; stroke-width:4; stroke-opacity:1; fill:none\" points=\"\n",
       "  1850.95,1212.98 1408.84,1212.98 2293.07,1212.98 1850.95,1212.98 1850.95,773.647 1850.95,1212.98 \n",
       "  \"/>\n",
       "<path clip-path=\"url(#clip1202)\" d=\"\n",
       "M1408.84 773.647 L1408.84 689.774 L2293.07 689.774 L2293.07 773.647 L1408.84 773.647 L1408.84 773.647  Z\n",
       "  \" fill=\"#009af9\" fill-rule=\"evenodd\" fill-opacity=\"1\"/>\n",
       "<polyline clip-path=\"url(#clip1202)\" style=\"stroke:#000000; stroke-width:4; stroke-opacity:1; fill:none\" points=\"\n",
       "  1408.84,773.647 1408.84,689.774 2293.07,689.774 2293.07,773.647 1408.84,773.647 \n",
       "  \"/>\n",
       "<path clip-path=\"url(#clip1202)\" d=\"\n",
       "M1408.84 466.113 L1408.84 689.774 L2293.07 689.774 L2293.07 466.113 L1408.84 466.113 L1408.84 466.113  Z\n",
       "  \" fill=\"#009af9\" fill-rule=\"evenodd\" fill-opacity=\"1\"/>\n",
       "<polyline clip-path=\"url(#clip1202)\" style=\"stroke:#000000; stroke-width:4; stroke-opacity:1; fill:none\" points=\"\n",
       "  1408.84,466.113 1408.84,689.774 2293.07,689.774 2293.07,466.113 1408.84,466.113 \n",
       "  \"/>\n",
       "<path clip-path=\"url(#clip1202)\" d=\"\n",
       "M1850.95 158.579 L1408.84 158.579 L2293.07 158.579 L1850.95 158.579 L1850.95 466.113 L1850.95 158.579  Z\n",
       "  \" fill=\"#009af9\" fill-rule=\"evenodd\" fill-opacity=\"1\"/>\n",
       "<polyline clip-path=\"url(#clip1202)\" style=\"stroke:#000000; stroke-width:4; stroke-opacity:1; fill:none\" points=\"\n",
       "  1850.95,158.579 1408.84,158.579 2293.07,158.579 1850.95,158.579 1850.95,466.113 1850.95,158.579 \n",
       "  \"/>\n",
       "<path clip-path=\"url(#clip1200)\" d=\"\n",
       "M1989.93 326.155 L2280.76 326.155 L2280.76 205.195 L1989.93 205.195  Z\n",
       "  \" fill=\"#ffffff\" fill-rule=\"evenodd\" fill-opacity=\"1\"/>\n",
       "<polyline clip-path=\"url(#clip1200)\" style=\"stroke:#000000; stroke-width:4; stroke-opacity:1; fill:none\" points=\"\n",
       "  1989.93,326.155 2280.76,326.155 2280.76,205.195 1989.93,205.195 1989.93,326.155 \n",
       "  \"/>\n",
       "<circle clip-path=\"url(#clip1200)\" style=\"fill:#000000; stroke:none; fill-opacity:1\" cx=\"2097.93\" cy=\"265.675\" r=\"25\"/>\n",
       "<circle clip-path=\"url(#clip1200)\" style=\"fill:#009af9; stroke:none; fill-opacity:1\" cx=\"2097.93\" cy=\"265.675\" r=\"21\"/>\n",
       "<g clip-path=\"url(#clip1200)\">\n",
       "<text style=\"fill:#000000; fill-opacity:1; font-family:Arial,Helvetica Neue,Helvetica,sans-serif; font-size:48px; text-anchor:start;\" transform=\"rotate(0, 2181.93, 283.175)\" x=\"2181.93\" y=\"283.175\">y1</text>\n",
       "</g>\n",
       "</svg>\n"
      ]
     },
     "execution_count": 51,
     "metadata": {},
     "output_type": "execute_result"
    }
   ],
   "source": [
    "plot1 = StatsPlots.boxplot(test_df.polarity, test_df.sentiment)\n",
    "xlabel!(\"Polarity\")\n",
    "ylabel!(\"Sentiment\")\n",
    "StatsPlots.title!(\"TextBlob Sentiment Scores\")"
   ]
  },
  {
   "cell_type": "code",
   "execution_count": 52,
   "metadata": {},
   "outputs": [
    {
     "data": {
      "image/svg+xml": [
       "<?xml version=\"1.0\" encoding=\"utf-8\"?>\n",
       "<svg xmlns=\"http://www.w3.org/2000/svg\" xmlns:xlink=\"http://www.w3.org/1999/xlink\" width=\"600\" height=\"400\" viewBox=\"0 0 2400 1600\">\n",
       "<defs>\n",
       "  <clipPath id=\"clip1600\">\n",
       "    <rect x=\"0\" y=\"0\" width=\"2400\" height=\"1600\"/>\n",
       "  </clipPath>\n",
       "</defs>\n",
       "<path clip-path=\"url(#clip1600)\" d=\"\n",
       "M0 1600 L2400 1600 L2400 0 L0 0  Z\n",
       "  \" fill=\"#ffffff\" fill-rule=\"evenodd\" fill-opacity=\"1\"/>\n",
       "<defs>\n",
       "  <clipPath id=\"clip1601\">\n",
       "    <rect x=\"480\" y=\"0\" width=\"1681\" height=\"1600\"/>\n",
       "  </clipPath>\n",
       "</defs>\n",
       "<path clip-path=\"url(#clip1600)\" d=\"\n",
       "M180.66 1487.47 L1152.76 1487.47 L1152.76 121.675 L180.66 121.675  Z\n",
       "  \" fill=\"#ffffff\" fill-rule=\"evenodd\" fill-opacity=\"1\"/>\n",
       "<defs>\n",
       "  <clipPath id=\"clip1602\">\n",
       "    <rect x=\"180\" y=\"121\" width=\"973\" height=\"1367\"/>\n",
       "  </clipPath>\n",
       "</defs>\n",
       "<polyline clip-path=\"url(#clip1602)\" style=\"stroke:#000000; stroke-width:2; stroke-opacity:0.1; fill:none\" points=\"\n",
       "  208.172,1487.47 208.172,121.675 \n",
       "  \"/>\n",
       "<polyline clip-path=\"url(#clip1602)\" style=\"stroke:#000000; stroke-width:2; stroke-opacity:0.1; fill:none\" points=\"\n",
       "  437.44,1487.47 437.44,121.675 \n",
       "  \"/>\n",
       "<polyline clip-path=\"url(#clip1602)\" style=\"stroke:#000000; stroke-width:2; stroke-opacity:0.1; fill:none\" points=\"\n",
       "  666.708,1487.47 666.708,121.675 \n",
       "  \"/>\n",
       "<polyline clip-path=\"url(#clip1602)\" style=\"stroke:#000000; stroke-width:2; stroke-opacity:0.1; fill:none\" points=\"\n",
       "  895.976,1487.47 895.976,121.675 \n",
       "  \"/>\n",
       "<polyline clip-path=\"url(#clip1602)\" style=\"stroke:#000000; stroke-width:2; stroke-opacity:0.1; fill:none\" points=\"\n",
       "  1125.24,1487.47 1125.24,121.675 \n",
       "  \"/>\n",
       "<polyline clip-path=\"url(#clip1602)\" style=\"stroke:#000000; stroke-width:2; stroke-opacity:0.1; fill:none\" points=\"\n",
       "  180.66,1448.82 1152.76,1448.82 \n",
       "  \"/>\n",
       "<polyline clip-path=\"url(#clip1602)\" style=\"stroke:#000000; stroke-width:2; stroke-opacity:0.1; fill:none\" points=\"\n",
       "  180.66,1126.7 1152.76,1126.7 \n",
       "  \"/>\n",
       "<polyline clip-path=\"url(#clip1602)\" style=\"stroke:#000000; stroke-width:2; stroke-opacity:0.1; fill:none\" points=\"\n",
       "  180.66,804.575 1152.76,804.575 \n",
       "  \"/>\n",
       "<polyline clip-path=\"url(#clip1602)\" style=\"stroke:#000000; stroke-width:2; stroke-opacity:0.1; fill:none\" points=\"\n",
       "  180.66,482.452 1152.76,482.452 \n",
       "  \"/>\n",
       "<polyline clip-path=\"url(#clip1602)\" style=\"stroke:#000000; stroke-width:2; stroke-opacity:0.1; fill:none\" points=\"\n",
       "  180.66,160.33 1152.76,160.33 \n",
       "  \"/>\n",
       "<polyline clip-path=\"url(#clip1600)\" style=\"stroke:#000000; stroke-width:4; stroke-opacity:1; fill:none\" points=\"\n",
       "  180.66,1487.47 1152.76,1487.47 \n",
       "  \"/>\n",
       "<polyline clip-path=\"url(#clip1600)\" style=\"stroke:#000000; stroke-width:4; stroke-opacity:1; fill:none\" points=\"\n",
       "  180.66,1487.47 180.66,121.675 \n",
       "  \"/>\n",
       "<polyline clip-path=\"url(#clip1600)\" style=\"stroke:#000000; stroke-width:4; stroke-opacity:1; fill:none\" points=\"\n",
       "  208.172,1487.47 208.172,1471.09 \n",
       "  \"/>\n",
       "<polyline clip-path=\"url(#clip1600)\" style=\"stroke:#000000; stroke-width:4; stroke-opacity:1; fill:none\" points=\"\n",
       "  437.44,1487.47 437.44,1471.09 \n",
       "  \"/>\n",
       "<polyline clip-path=\"url(#clip1600)\" style=\"stroke:#000000; stroke-width:4; stroke-opacity:1; fill:none\" points=\"\n",
       "  666.708,1487.47 666.708,1471.09 \n",
       "  \"/>\n",
       "<polyline clip-path=\"url(#clip1600)\" style=\"stroke:#000000; stroke-width:4; stroke-opacity:1; fill:none\" points=\"\n",
       "  895.976,1487.47 895.976,1471.09 \n",
       "  \"/>\n",
       "<polyline clip-path=\"url(#clip1600)\" style=\"stroke:#000000; stroke-width:4; stroke-opacity:1; fill:none\" points=\"\n",
       "  1125.24,1487.47 1125.24,1471.09 \n",
       "  \"/>\n",
       "<polyline clip-path=\"url(#clip1600)\" style=\"stroke:#000000; stroke-width:4; stroke-opacity:1; fill:none\" points=\"\n",
       "  180.66,1448.82 192.325,1448.82 \n",
       "  \"/>\n",
       "<polyline clip-path=\"url(#clip1600)\" style=\"stroke:#000000; stroke-width:4; stroke-opacity:1; fill:none\" points=\"\n",
       "  180.66,1126.7 192.325,1126.7 \n",
       "  \"/>\n",
       "<polyline clip-path=\"url(#clip1600)\" style=\"stroke:#000000; stroke-width:4; stroke-opacity:1; fill:none\" points=\"\n",
       "  180.66,804.575 192.325,804.575 \n",
       "  \"/>\n",
       "<polyline clip-path=\"url(#clip1600)\" style=\"stroke:#000000; stroke-width:4; stroke-opacity:1; fill:none\" points=\"\n",
       "  180.66,482.452 192.325,482.452 \n",
       "  \"/>\n",
       "<polyline clip-path=\"url(#clip1600)\" style=\"stroke:#000000; stroke-width:4; stroke-opacity:1; fill:none\" points=\"\n",
       "  180.66,160.33 192.325,160.33 \n",
       "  \"/>\n",
       "<g clip-path=\"url(#clip1600)\">\n",
       "<text style=\"fill:#000000; fill-opacity:1; font-family:Arial,Helvetica Neue,Helvetica,sans-serif; font-size:48px; text-anchor:middle;\" transform=\"rotate(0, 208.172, 1541.47)\" x=\"208.172\" y=\"1541.47\">0.00</text>\n",
       "</g>\n",
       "<g clip-path=\"url(#clip1600)\">\n",
       "<text style=\"fill:#000000; fill-opacity:1; font-family:Arial,Helvetica Neue,Helvetica,sans-serif; font-size:48px; text-anchor:middle;\" transform=\"rotate(0, 437.44, 1541.47)\" x=\"437.44\" y=\"1541.47\">0.25</text>\n",
       "</g>\n",
       "<g clip-path=\"url(#clip1600)\">\n",
       "<text style=\"fill:#000000; fill-opacity:1; font-family:Arial,Helvetica Neue,Helvetica,sans-serif; font-size:48px; text-anchor:middle;\" transform=\"rotate(0, 666.708, 1541.47)\" x=\"666.708\" y=\"1541.47\">0.50</text>\n",
       "</g>\n",
       "<g clip-path=\"url(#clip1600)\">\n",
       "<text style=\"fill:#000000; fill-opacity:1; font-family:Arial,Helvetica Neue,Helvetica,sans-serif; font-size:48px; text-anchor:middle;\" transform=\"rotate(0, 895.976, 1541.47)\" x=\"895.976\" y=\"1541.47\">0.75</text>\n",
       "</g>\n",
       "<g clip-path=\"url(#clip1600)\">\n",
       "<text style=\"fill:#000000; fill-opacity:1; font-family:Arial,Helvetica Neue,Helvetica,sans-serif; font-size:48px; text-anchor:middle;\" transform=\"rotate(0, 1125.24, 1541.47)\" x=\"1125.24\" y=\"1541.47\">1.00</text>\n",
       "</g>\n",
       "<g clip-path=\"url(#clip1600)\">\n",
       "<text style=\"fill:#000000; fill-opacity:1; font-family:Arial,Helvetica Neue,Helvetica,sans-serif; font-size:48px; text-anchor:end;\" transform=\"rotate(0, 156.66, 1466.32)\" x=\"156.66\" y=\"1466.32\">0.00</text>\n",
       "</g>\n",
       "<g clip-path=\"url(#clip1600)\">\n",
       "<text style=\"fill:#000000; fill-opacity:1; font-family:Arial,Helvetica Neue,Helvetica,sans-serif; font-size:48px; text-anchor:end;\" transform=\"rotate(0, 156.66, 1144.2)\" x=\"156.66\" y=\"1144.2\">0.25</text>\n",
       "</g>\n",
       "<g clip-path=\"url(#clip1600)\">\n",
       "<text style=\"fill:#000000; fill-opacity:1; font-family:Arial,Helvetica Neue,Helvetica,sans-serif; font-size:48px; text-anchor:end;\" transform=\"rotate(0, 156.66, 822.075)\" x=\"156.66\" y=\"822.075\">0.50</text>\n",
       "</g>\n",
       "<g clip-path=\"url(#clip1600)\">\n",
       "<text style=\"fill:#000000; fill-opacity:1; font-family:Arial,Helvetica Neue,Helvetica,sans-serif; font-size:48px; text-anchor:end;\" transform=\"rotate(0, 156.66, 499.952)\" x=\"156.66\" y=\"499.952\">0.75</text>\n",
       "</g>\n",
       "<g clip-path=\"url(#clip1600)\">\n",
       "<text style=\"fill:#000000; fill-opacity:1; font-family:Arial,Helvetica Neue,Helvetica,sans-serif; font-size:48px; text-anchor:end;\" transform=\"rotate(0, 156.66, 177.83)\" x=\"156.66\" y=\"177.83\">1.00</text>\n",
       "</g>\n",
       "<g clip-path=\"url(#clip1600)\">\n",
       "<text style=\"fill:#000000; fill-opacity:1; font-family:Arial,Helvetica Neue,Helvetica,sans-serif; font-size:84px; text-anchor:middle;\" transform=\"rotate(0, 666.708, 73.2)\" x=\"666.708\" y=\"73.2\">ROC Curves</text>\n",
       "</g>\n",
       "<polyline clip-path=\"url(#clip1602)\" style=\"stroke:#009af9; stroke-width:4; stroke-opacity:1; fill:none\" points=\"\n",
       "  208.172,1448.82 218.535,1396.64 218.535,1376.57 228.897,1360.51 228.897,1344.46 234.078,1344.46 234.078,1336.43 244.441,1296.29 244.441,1292.27 244.441,1280.23 \n",
       "  244.441,1268.19 249.622,1256.15 249.622,1252.13 249.622,1236.08 249.622,1211.99 249.622,1203.97 249.622,1199.95 254.803,1187.91 254.803,1175.87 280.709,1107.63 \n",
       "  280.709,1079.53 280.709,1071.51 280.709,1059.46 285.89,1051.44 285.89,1047.42 301.434,1027.35 301.434,1019.32 301.434,1007.28 311.796,995.239 311.796,987.211 \n",
       "  311.796,983.197 322.159,975.169 322.159,967.141 322.159,959.113 337.702,959.113 348.065,959.113 348.065,951.085 348.065,922.988 363.608,890.876 368.789,890.876 \n",
       "  368.789,886.862 373.971,886.862 373.971,882.848 379.152,882.848 379.152,878.834 379.152,870.806 379.152,866.792 384.333,866.792 384.333,862.778 415.42,850.736 \n",
       "  420.601,850.736 420.601,842.708 425.783,842.708 430.964,834.68 430.964,826.652 430.964,818.624 436.145,818.624 436.145,794.54 436.145,790.526 441.326,790.526 \n",
       "  451.689,782.498 451.689,774.47 456.87,754.4 467.232,754.4 467.232,746.372 467.232,726.302 477.595,726.302 477.595,722.288 487.957,722.288 679.661,248.638 \n",
       "  679.661,244.624 684.842,240.61 695.205,240.61 700.386,240.61 700.386,228.568 705.567,228.568 705.567,224.554 710.748,224.554 721.111,216.526 731.473,216.526 \n",
       "  741.835,208.498 747.017,208.498 767.741,208.498 783.285,208.498 814.372,200.47 824.735,200.47 824.735,196.456 829.916,196.456 835.097,188.428 845.459,188.428 \n",
       "  861.003,188.428 866.184,188.428 871.365,184.414 876.546,184.414 881.728,180.4 892.09,180.4 912.815,180.4 923.177,180.4 943.902,180.4 969.808,180.4 \n",
       "  1006.08,176.386 1016.44,176.386 1026.8,172.372 1031.98,172.372 1031.98,168.358 1037.16,168.358 1037.16,164.344 1042.34,164.344 1063.07,164.344 1068.25,164.344 \n",
       "  1104.52,164.344 1109.7,164.344 1109.7,160.33 1125.24,160.33 \n",
       "  \"/>\n",
       "<path clip-path=\"url(#clip1600)\" d=\"\n",
       "M650.82 326.155 L1080.76 326.155 L1080.76 205.195 L650.82 205.195  Z\n",
       "  \" fill=\"#ffffff\" fill-rule=\"evenodd\" fill-opacity=\"1\"/>\n",
       "<polyline clip-path=\"url(#clip1600)\" style=\"stroke:#000000; stroke-width:4; stroke-opacity:1; fill:none\" points=\"\n",
       "  650.82,326.155 1080.76,326.155 1080.76,205.195 650.82,205.195 650.82,326.155 \n",
       "  \"/>\n",
       "<polyline clip-path=\"url(#clip1600)\" style=\"stroke:#009af9; stroke-width:4; stroke-opacity:1; fill:none\" points=\"\n",
       "  674.82,265.675 818.82,265.675 \n",
       "  \"/>\n",
       "<g clip-path=\"url(#clip1600)\">\n",
       "<text style=\"fill:#000000; fill-opacity:1; font-family:Arial,Helvetica Neue,Helvetica,sans-serif; font-size:48px; text-anchor:start;\" transform=\"rotate(0, 842.82, 283.175)\" x=\"842.82\" y=\"283.175\">TextBlob</text>\n",
       "</g>\n",
       "<path clip-path=\"url(#clip1600)\" d=\"\n",
       "M1380.66 1487.47 L2352.76 1487.47 L2352.76 121.675 L1380.66 121.675  Z\n",
       "  \" fill=\"#ffffff\" fill-rule=\"evenodd\" fill-opacity=\"1\"/>\n",
       "<defs>\n",
       "  <clipPath id=\"clip1603\">\n",
       "    <rect x=\"1380\" y=\"121\" width=\"973\" height=\"1367\"/>\n",
       "  </clipPath>\n",
       "</defs>\n",
       "<polyline clip-path=\"url(#clip1603)\" style=\"stroke:#000000; stroke-width:2; stroke-opacity:0.1; fill:none\" points=\"\n",
       "  1408.17,1487.47 1408.17,121.675 \n",
       "  \"/>\n",
       "<polyline clip-path=\"url(#clip1603)\" style=\"stroke:#000000; stroke-width:2; stroke-opacity:0.1; fill:none\" points=\"\n",
       "  1637.44,1487.47 1637.44,121.675 \n",
       "  \"/>\n",
       "<polyline clip-path=\"url(#clip1603)\" style=\"stroke:#000000; stroke-width:2; stroke-opacity:0.1; fill:none\" points=\"\n",
       "  1866.71,1487.47 1866.71,121.675 \n",
       "  \"/>\n",
       "<polyline clip-path=\"url(#clip1603)\" style=\"stroke:#000000; stroke-width:2; stroke-opacity:0.1; fill:none\" points=\"\n",
       "  2095.98,1487.47 2095.98,121.675 \n",
       "  \"/>\n",
       "<polyline clip-path=\"url(#clip1603)\" style=\"stroke:#000000; stroke-width:2; stroke-opacity:0.1; fill:none\" points=\"\n",
       "  2325.24,1487.47 2325.24,121.675 \n",
       "  \"/>\n",
       "<polyline clip-path=\"url(#clip1603)\" style=\"stroke:#000000; stroke-width:2; stroke-opacity:0.1; fill:none\" points=\"\n",
       "  1380.66,1448.82 2352.76,1448.82 \n",
       "  \"/>\n",
       "<polyline clip-path=\"url(#clip1603)\" style=\"stroke:#000000; stroke-width:2; stroke-opacity:0.1; fill:none\" points=\"\n",
       "  1380.66,1126.7 2352.76,1126.7 \n",
       "  \"/>\n",
       "<polyline clip-path=\"url(#clip1603)\" style=\"stroke:#000000; stroke-width:2; stroke-opacity:0.1; fill:none\" points=\"\n",
       "  1380.66,804.575 2352.76,804.575 \n",
       "  \"/>\n",
       "<polyline clip-path=\"url(#clip1603)\" style=\"stroke:#000000; stroke-width:2; stroke-opacity:0.1; fill:none\" points=\"\n",
       "  1380.66,482.452 2352.76,482.452 \n",
       "  \"/>\n",
       "<polyline clip-path=\"url(#clip1603)\" style=\"stroke:#000000; stroke-width:2; stroke-opacity:0.1; fill:none\" points=\"\n",
       "  1380.66,160.33 2352.76,160.33 \n",
       "  \"/>\n",
       "<polyline clip-path=\"url(#clip1600)\" style=\"stroke:#000000; stroke-width:4; stroke-opacity:1; fill:none\" points=\"\n",
       "  1380.66,1487.47 2352.76,1487.47 \n",
       "  \"/>\n",
       "<polyline clip-path=\"url(#clip1600)\" style=\"stroke:#000000; stroke-width:4; stroke-opacity:1; fill:none\" points=\"\n",
       "  1380.66,1487.47 1380.66,121.675 \n",
       "  \"/>\n",
       "<polyline clip-path=\"url(#clip1600)\" style=\"stroke:#000000; stroke-width:4; stroke-opacity:1; fill:none\" points=\"\n",
       "  1408.17,1487.47 1408.17,1471.09 \n",
       "  \"/>\n",
       "<polyline clip-path=\"url(#clip1600)\" style=\"stroke:#000000; stroke-width:4; stroke-opacity:1; fill:none\" points=\"\n",
       "  1637.44,1487.47 1637.44,1471.09 \n",
       "  \"/>\n",
       "<polyline clip-path=\"url(#clip1600)\" style=\"stroke:#000000; stroke-width:4; stroke-opacity:1; fill:none\" points=\"\n",
       "  1866.71,1487.47 1866.71,1471.09 \n",
       "  \"/>\n",
       "<polyline clip-path=\"url(#clip1600)\" style=\"stroke:#000000; stroke-width:4; stroke-opacity:1; fill:none\" points=\"\n",
       "  2095.98,1487.47 2095.98,1471.09 \n",
       "  \"/>\n",
       "<polyline clip-path=\"url(#clip1600)\" style=\"stroke:#000000; stroke-width:4; stroke-opacity:1; fill:none\" points=\"\n",
       "  2325.24,1487.47 2325.24,1471.09 \n",
       "  \"/>\n",
       "<polyline clip-path=\"url(#clip1600)\" style=\"stroke:#000000; stroke-width:4; stroke-opacity:1; fill:none\" points=\"\n",
       "  1380.66,1448.82 1392.33,1448.82 \n",
       "  \"/>\n",
       "<polyline clip-path=\"url(#clip1600)\" style=\"stroke:#000000; stroke-width:4; stroke-opacity:1; fill:none\" points=\"\n",
       "  1380.66,1126.7 1392.33,1126.7 \n",
       "  \"/>\n",
       "<polyline clip-path=\"url(#clip1600)\" style=\"stroke:#000000; stroke-width:4; stroke-opacity:1; fill:none\" points=\"\n",
       "  1380.66,804.575 1392.33,804.575 \n",
       "  \"/>\n",
       "<polyline clip-path=\"url(#clip1600)\" style=\"stroke:#000000; stroke-width:4; stroke-opacity:1; fill:none\" points=\"\n",
       "  1380.66,482.452 1392.33,482.452 \n",
       "  \"/>\n",
       "<polyline clip-path=\"url(#clip1600)\" style=\"stroke:#000000; stroke-width:4; stroke-opacity:1; fill:none\" points=\"\n",
       "  1380.66,160.33 1392.33,160.33 \n",
       "  \"/>\n",
       "<g clip-path=\"url(#clip1600)\">\n",
       "<text style=\"fill:#000000; fill-opacity:1; font-family:Arial,Helvetica Neue,Helvetica,sans-serif; font-size:48px; text-anchor:middle;\" transform=\"rotate(0, 1408.17, 1541.47)\" x=\"1408.17\" y=\"1541.47\">0.00</text>\n",
       "</g>\n",
       "<g clip-path=\"url(#clip1600)\">\n",
       "<text style=\"fill:#000000; fill-opacity:1; font-family:Arial,Helvetica Neue,Helvetica,sans-serif; font-size:48px; text-anchor:middle;\" transform=\"rotate(0, 1637.44, 1541.47)\" x=\"1637.44\" y=\"1541.47\">0.25</text>\n",
       "</g>\n",
       "<g clip-path=\"url(#clip1600)\">\n",
       "<text style=\"fill:#000000; fill-opacity:1; font-family:Arial,Helvetica Neue,Helvetica,sans-serif; font-size:48px; text-anchor:middle;\" transform=\"rotate(0, 1866.71, 1541.47)\" x=\"1866.71\" y=\"1541.47\">0.50</text>\n",
       "</g>\n",
       "<g clip-path=\"url(#clip1600)\">\n",
       "<text style=\"fill:#000000; fill-opacity:1; font-family:Arial,Helvetica Neue,Helvetica,sans-serif; font-size:48px; text-anchor:middle;\" transform=\"rotate(0, 2095.98, 1541.47)\" x=\"2095.98\" y=\"1541.47\">0.75</text>\n",
       "</g>\n",
       "<g clip-path=\"url(#clip1600)\">\n",
       "<text style=\"fill:#000000; fill-opacity:1; font-family:Arial,Helvetica Neue,Helvetica,sans-serif; font-size:48px; text-anchor:middle;\" transform=\"rotate(0, 2325.24, 1541.47)\" x=\"2325.24\" y=\"1541.47\">1.00</text>\n",
       "</g>\n",
       "<g clip-path=\"url(#clip1600)\">\n",
       "<text style=\"fill:#000000; fill-opacity:1; font-family:Arial,Helvetica Neue,Helvetica,sans-serif; font-size:48px; text-anchor:end;\" transform=\"rotate(0, 1356.66, 1466.32)\" x=\"1356.66\" y=\"1466.32\">0.00</text>\n",
       "</g>\n",
       "<g clip-path=\"url(#clip1600)\">\n",
       "<text style=\"fill:#000000; fill-opacity:1; font-family:Arial,Helvetica Neue,Helvetica,sans-serif; font-size:48px; text-anchor:end;\" transform=\"rotate(0, 1356.66, 1144.2)\" x=\"1356.66\" y=\"1144.2\">0.25</text>\n",
       "</g>\n",
       "<g clip-path=\"url(#clip1600)\">\n",
       "<text style=\"fill:#000000; fill-opacity:1; font-family:Arial,Helvetica Neue,Helvetica,sans-serif; font-size:48px; text-anchor:end;\" transform=\"rotate(0, 1356.66, 822.075)\" x=\"1356.66\" y=\"822.075\">0.50</text>\n",
       "</g>\n",
       "<g clip-path=\"url(#clip1600)\">\n",
       "<text style=\"fill:#000000; fill-opacity:1; font-family:Arial,Helvetica Neue,Helvetica,sans-serif; font-size:48px; text-anchor:end;\" transform=\"rotate(0, 1356.66, 499.952)\" x=\"1356.66\" y=\"499.952\">0.75</text>\n",
       "</g>\n",
       "<g clip-path=\"url(#clip1600)\">\n",
       "<text style=\"fill:#000000; fill-opacity:1; font-family:Arial,Helvetica Neue,Helvetica,sans-serif; font-size:48px; text-anchor:end;\" transform=\"rotate(0, 1356.66, 177.83)\" x=\"1356.66\" y=\"177.83\">1.00</text>\n",
       "</g>\n",
       "<g clip-path=\"url(#clip1600)\">\n",
       "<text style=\"fill:#000000; fill-opacity:1; font-family:Arial,Helvetica Neue,Helvetica,sans-serif; font-size:84px; text-anchor:middle;\" transform=\"rotate(0, 1866.71, 73.2)\" x=\"1866.71\" y=\"73.2\">ROC Curves</text>\n",
       "</g>\n",
       "<polyline clip-path=\"url(#clip1603)\" style=\"stroke:#009af9; stroke-width:4; stroke-opacity:1; fill:none\" points=\"\n",
       "  1408.17,1448.82 1408.17,1444.81 1408.17,1404.67 1413.35,1404.67 1413.35,1384.6 1413.35,1376.57 1413.35,1356.5 1418.53,1356.5 1418.53,1280.23 1423.72,1280.23 \n",
       "  1423.72,1220.02 1428.9,1220.02 1428.9,1211.99 1434.08,1211.99 1434.08,1139.74 1439.26,1139.74 1439.26,1095.59 1439.26,1087.56 1444.44,1087.56 1444.44,1075.52 \n",
       "  1444.44,1059.46 1444.44,1043.41 1454.8,1011.3 1454.8,910.946 1459.98,910.946 1459.98,890.876 1465.17,890.876 1465.17,850.736 1465.17,842.708 1470.35,842.708 \n",
       "  1470.35,834.68 1475.53,834.68 1475.53,826.652 1480.71,826.652 1480.71,806.582 1485.89,806.582 1485.89,786.512 1485.89,778.484 1491.07,778.484 1491.07,774.47 \n",
       "  1496.25,774.47 1496.25,766.442 1501.43,766.442 1501.43,750.386 1506.62,750.386 1506.62,734.33 1511.8,734.33 1511.8,726.302 1516.98,726.302 1516.98,710.246 \n",
       "  1522.16,710.246 1522.16,658.064 1527.34,658.064 1527.34,654.05 1532.52,654.05 1532.52,642.008 1537.7,642.008 1537.7,637.994 1548.06,637.994 1548.06,629.966 \n",
       "  1548.06,621.938 1548.06,609.897 1548.06,605.883 1553.25,605.883 1553.25,593.841 1558.43,593.841 1558.43,589.827 1563.61,589.827 1563.61,581.799 1568.79,581.799 \n",
       "  1568.79,569.757 1573.97,569.757 1573.97,565.743 1579.15,565.743 1579.15,561.729 1584.33,561.729 1584.33,545.673 1594.7,545.673 1594.7,537.645 1605.06,529.617 \n",
       "  1605.06,517.575 1610.24,517.575 1610.24,513.561 1615.42,513.561 1615.42,509.547 1620.6,509.547 1620.6,493.491 1625.78,493.491 1625.78,481.449 1630.96,481.449 \n",
       "  1630.96,453.351 1636.14,453.351 1636.14,437.295 1641.33,437.295 1641.33,429.267 1646.51,429.267 1646.51,425.253 1651.69,425.253 1651.69,421.239 1651.69,413.211 \n",
       "  1672.41,373.071 1672.41,340.959 1682.78,340.959 1682.78,332.931 1687.96,332.931 1687.96,320.889 1698.32,320.889 1698.32,316.875 1703.5,316.875 1703.5,312.861 \n",
       "  1739.77,312.861 1739.77,308.847 1744.95,308.847 1744.95,300.819 1750.13,300.819 1750.13,292.791 1755.31,292.791 1755.31,284.763 1760.49,284.763 1760.49,272.722 \n",
       "  1765.67,272.722 1765.67,268.708 1770.86,268.708 1770.86,256.666 1781.22,256.666 1781.22,252.652 1791.58,252.652 1791.58,248.638 1796.76,248.638 1796.76,236.596 \n",
       "  1817.49,236.596 1817.49,232.582 1843.39,232.582 1843.39,228.568 1874.48,228.568 1874.48,224.554 1879.66,224.554 1879.66,220.54 1910.75,220.54 1910.75,216.526 \n",
       "  1936.65,216.526 1936.65,208.498 1962.56,208.498 1962.56,204.484 1972.92,204.484 1972.92,200.47 1978.1,200.47 1978.1,196.456 2061,196.456 2061,192.442 \n",
       "  2071.37,192.442 2071.37,188.428 2076.55,188.428 2076.55,172.372 2092.09,172.372 2128.36,172.372 2128.36,164.344 2304.52,164.344 2304.52,160.33 2325.24,160.33 \n",
       "  \n",
       "  \"/>\n",
       "<path clip-path=\"url(#clip1600)\" d=\"\n",
       "M1770.58 326.155 L2280.76 326.155 L2280.76 205.195 L1770.58 205.195  Z\n",
       "  \" fill=\"#ffffff\" fill-rule=\"evenodd\" fill-opacity=\"1\"/>\n",
       "<polyline clip-path=\"url(#clip1600)\" style=\"stroke:#000000; stroke-width:4; stroke-opacity:1; fill:none\" points=\"\n",
       "  1770.58,326.155 2280.76,326.155 2280.76,205.195 1770.58,205.195 1770.58,326.155 \n",
       "  \"/>\n",
       "<polyline clip-path=\"url(#clip1600)\" style=\"stroke:#009af9; stroke-width:4; stroke-opacity:1; fill:none\" points=\"\n",
       "  1794.58,265.675 1938.58,265.675 \n",
       "  \"/>\n",
       "<g clip-path=\"url(#clip1600)\">\n",
       "<text style=\"fill:#000000; fill-opacity:1; font-family:Arial,Helvetica Neue,Helvetica,sans-serif; font-size:48px; text-anchor:start;\" transform=\"rotate(0, 1962.58, 283.175)\" x=\"1962.58\" y=\"283.175\">Naive Bayes</text>\n",
       "</g>\n",
       "</svg>\n"
      ]
     },
     "execution_count": 52,
     "metadata": {},
     "output_type": "execute_result"
    }
   ],
   "source": [
    "plot1 = StatsPlots.plot(roc_tb.index, roc_tb.tpr_tb, label=\"TextBlob\")\n",
    "plot2 = StatsPlots.plot(roc_nb.index, roc_nb.tpr_nb, label=\"Naive Bayes\")\n",
    "StatsPlots.plot(plot1, plot2, title=\"ROC Curves\")"
   ]
  }
 ],
 "metadata": {
  "celltoolbar": "Slideshow",
  "interpreter": {
   "hash": "bb36a6910ddd54afed1c7fd8bdda18f8d409d5a3c7210f75b351b413fc7fc265"
  },
  "kernelspec": {
   "display_name": "Julia 1.7.1",
   "language": "julia",
   "name": "julia-1.7"
  },
  "language_info": {
   "file_extension": ".jl",
   "mimetype": "application/julia",
   "name": "julia",
   "version": "1.7.1"
  },
  "toc": {
   "base_numbering": 1,
   "nav_menu": {},
   "number_sections": true,
   "sideBar": true,
   "skip_h1_title": true,
   "title_cell": "Table of Contents",
   "title_sidebar": "Contents",
   "toc_cell": false,
   "toc_position": {
    "height": "calc(100% - 180px)",
    "left": "10px",
    "top": "150px",
    "width": "316px"
   },
   "toc_section_display": true,
   "toc_window_display": true
  }
 },
 "nbformat": 4,
 "nbformat_minor": 2
}
