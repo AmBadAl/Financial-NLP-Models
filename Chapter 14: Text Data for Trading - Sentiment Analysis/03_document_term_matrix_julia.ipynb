{
 "cells": [
  {
   "cell_type": "markdown",
   "metadata": {
    "slideshow": {
     "slide_type": "slide"
    }
   },
   "source": [
    "# From tokens to numbers: the document-term matrix"
   ]
  },
  {
   "cell_type": "markdown",
   "metadata": {},
   "source": [
    "The bag of words model represents a document based on the frequency of the terms or tokens it contains. Each document becomes a vector with one entry for each token in the vocabulary that reflects the token’s relevance to the document.\n",
    "\n",
    "The document-term matrix is straightforward to compute given the vocabulary. However, it is also a crude simplification because it abstracts from word order and grammatical relationships. Nonetheless, it often achieves good results in text classification quickly and, thus, a very useful starting point.\n",
    "\n",
    "There are several ways to weigh a token’s vector entry to capture its relevance to the document. We will illustrate below how to use sklearn to use binary flags that indicate presence or absence, counts, and weighted counts that account for differences in term frequencies across all documents, i.e., in the corpus. "
   ]
  },
  {
   "cell_type": "markdown",
   "metadata": {},
   "source": [
    "## Imports & Settings"
   ]
  },
  {
   "cell_type": "code",
   "execution_count": 1,
   "metadata": {
    "ExecuteTime": {
     "end_time": "2020-06-20T17:16:29.575699Z",
     "start_time": "2020-06-20T17:16:29.574102Z"
    }
   },
   "outputs": [],
   "source": [
    "using Pkg"
   ]
  },
  {
   "cell_type": "code",
   "execution_count": 2,
   "metadata": {
    "ExecuteTime": {
     "end_time": "2020-06-20T17:16:30.204824Z",
     "start_time": "2020-06-20T17:16:29.576888Z"
    },
    "scrolled": true,
    "slideshow": {
     "slide_type": "fragment"
    }
   },
   "outputs": [],
   "source": [
    "#Pkg.add(\"Glob\")\n",
    "#Pkg.add(\"DataFrames\")\n",
    "#Pkg.add(\"StringEncodings\")\n",
    "#Pkg.add(\"TextAnalysis\")\n",
    "#Pkg.add(\"Plots\")\n",
    "#Pkg.add(\"SciPy\")\n",
    "#Pkg.add(\"Wordnet\")\n",
    "#Pkg.add(\"Seaborn\")\n",
    "#Pkg.add(\"DataStructures\")"
   ]
  },
  {
   "cell_type": "code",
   "execution_count": 3,
   "metadata": {},
   "outputs": [],
   "source": [
    "using PyCall\n",
    "using Conda"
   ]
  },
  {
   "cell_type": "code",
   "execution_count": 4,
   "metadata": {},
   "outputs": [],
   "source": [
    "using ScikitLearn"
   ]
  },
  {
   "cell_type": "code",
   "execution_count": 5,
   "metadata": {},
   "outputs": [],
   "source": [
    "using ScikitLearn: @sk_import"
   ]
  },
  {
   "cell_type": "code",
   "execution_count": 6,
   "metadata": {
    "scrolled": true
   },
   "outputs": [
    {
     "name": "stderr",
     "output_type": "stream",
     "text": [
      "┌ Warning: Module model_selection has been ported to Julia - try `import ScikitLearn: CrossValidation` instead\n",
      "└ @ ScikitLearn.Skcore C:\\Users\\Amirreza\\.julia\\packages\\ScikitLearn\\Kn82b\\src\\Skcore.jl:169\n"
     ]
    },
    {
     "data": {
      "text/plain": [
       "PyObject <function train_test_split at 0x000000007F094430>"
      ]
     },
     "execution_count": 6,
     "metadata": {},
     "output_type": "execute_result"
    }
   ],
   "source": [
    "@sk_import feature_extraction.text: CountVectorizer\n",
    "@sk_import feature_extraction.text: TfidfVectorizer\n",
    "@sk_import feature_extraction.text: TfidfTransformer\n",
    "@sk_import model_selection: train_test_split"
   ]
  },
  {
   "cell_type": "code",
   "execution_count": 7,
   "metadata": {},
   "outputs": [],
   "source": [
    "using Glob\n",
    "using DataFrames\n",
    "using TextAnalysis\n",
    "using StringEncodings\n",
    "using Plots\n",
    "using SciPy\n",
    "using WordNet\n",
    "using Seaborn\n",
    "using DataStructures\n",
    "using StatsBase"
   ]
  },
  {
   "cell_type": "code",
   "execution_count": 8,
   "metadata": {},
   "outputs": [
    {
     "name": "stderr",
     "output_type": "stream",
     "text": [
      "WARNING: using MLJText.TfidfTransformer in module Main conflicts with an existing identifier.\n"
     ]
    }
   ],
   "source": [
    "using MLJ\n",
    "using MLJText"
   ]
  },
  {
   "cell_type": "markdown",
   "metadata": {
    "slideshow": {
     "slide_type": "skip"
    }
   },
   "source": [
    "## Load BBC data"
   ]
  },
  {
   "cell_type": "code",
   "execution_count": 9,
   "metadata": {
    "scrolled": true
   },
   "outputs": [
    {
     "data": {
      "text/plain": [
       "2225-element Vector{String}:\n",
       " \"..\\\\data\\\\bbc\\\\bbc\\\\business\\\\001.txt\"\n",
       " \"..\\\\data\\\\bbc\\\\bbc\\\\business\\\\002.txt\"\n",
       " \"..\\\\data\\\\bbc\\\\bbc\\\\business\\\\003.txt\"\n",
       " \"..\\\\data\\\\bbc\\\\bbc\\\\business\\\\004.txt\"\n",
       " \"..\\\\data\\\\bbc\\\\bbc\\\\business\\\\005.txt\"\n",
       " \"..\\\\data\\\\bbc\\\\bbc\\\\business\\\\006.txt\"\n",
       " \"..\\\\data\\\\bbc\\\\bbc\\\\business\\\\007.txt\"\n",
       " \"..\\\\data\\\\bbc\\\\bbc\\\\business\\\\008.txt\"\n",
       " \"..\\\\data\\\\bbc\\\\bbc\\\\business\\\\009.txt\"\n",
       " \"..\\\\data\\\\bbc\\\\bbc\\\\business\\\\010.txt\"\n",
       " \"..\\\\data\\\\bbc\\\\bbc\\\\business\\\\011.txt\"\n",
       " \"..\\\\data\\\\bbc\\\\bbc\\\\business\\\\012.txt\"\n",
       " \"..\\\\data\\\\bbc\\\\bbc\\\\business\\\\013.txt\"\n",
       " ⋮\n",
       " \"..\\\\data\\\\bbc\\\\bbc\\\\tech\\\\390.txt\"\n",
       " \"..\\\\data\\\\bbc\\\\bbc\\\\tech\\\\391.txt\"\n",
       " \"..\\\\data\\\\bbc\\\\bbc\\\\tech\\\\392.txt\"\n",
       " \"..\\\\data\\\\bbc\\\\bbc\\\\tech\\\\393.txt\"\n",
       " \"..\\\\data\\\\bbc\\\\bbc\\\\tech\\\\394.txt\"\n",
       " \"..\\\\data\\\\bbc\\\\bbc\\\\tech\\\\395.txt\"\n",
       " \"..\\\\data\\\\bbc\\\\bbc\\\\tech\\\\396.txt\"\n",
       " \"..\\\\data\\\\bbc\\\\bbc\\\\tech\\\\397.txt\"\n",
       " \"..\\\\data\\\\bbc\\\\bbc\\\\tech\\\\398.txt\"\n",
       " \"..\\\\data\\\\bbc\\\\bbc\\\\tech\\\\399.txt\"\n",
       " \"..\\\\data\\\\bbc\\\\bbc\\\\tech\\\\400.txt\"\n",
       " \"..\\\\data\\\\bbc\\\\bbc\\\\tech\\\\401.txt\""
      ]
     },
     "execution_count": 9,
     "metadata": {},
     "output_type": "execute_result"
    }
   ],
   "source": [
    "files = Glob.glob(\"../data/bbc/bbc/**/*.txt\")"
   ]
  },
  {
   "cell_type": "code",
   "execution_count": 10,
   "metadata": {},
   "outputs": [],
   "source": [
    "doc_list = Any[]\n",
    "for (i,file) in enumerate(files)\n",
    "    f = open(file,\"r\")\n",
    "    s = StringDecoder(f,\"LATIN1\", \"UTF-8\")\n",
    "    topic = split(file, \"\\\\\")[end-1]\n",
    "    lines = readlines(s)\n",
    "    heading = strip(lines[1])\n",
    "    body = strip(join([strip(line) for line in lines[2:end]]))\n",
    "    push!(doc_list, [topic, heading, body])\n",
    "    close(s)\n",
    "    close(f)\n",
    "end"
   ]
  },
  {
   "cell_type": "markdown",
   "metadata": {
    "slideshow": {
     "slide_type": "skip"
    }
   },
   "source": [
    "### Convert to DataFrame"
   ]
  },
  {
   "cell_type": "code",
   "execution_count": 11,
   "metadata": {
    "ExecuteTime": {
     "end_time": "2020-06-20T17:16:30.290352Z",
     "start_time": "2020-06-20T17:16:30.284343Z"
    },
    "slideshow": {
     "slide_type": "skip"
    }
   },
   "outputs": [
    {
     "data": {
      "text/html": [
       "<div class=\"data-frame\"><p>2,225 rows × 3 columns</p><table class=\"data-frame\"><thead><tr><th></th><th>topic</th><th>heading</th><th>body</th></tr><tr><th></th><th title=\"String\">String</th><th title=\"String\">String</th><th title=\"String\">String</th></tr></thead><tbody><tr><th>1</th><td>business</td><td>Ad sales boost Time Warner profit</td><td>Quarterly profits at US media giant TimeWarner jumped 76% to $1.13bn (Â£600m) for the three months to December, from $639m year-earlier.The firm, which is now one of the biggest investors in Google, benefited from sales of high-speed internet connections and higher advert sales. TimeWarner said fourth quarter sales rose 2% to $11.1bn from $10.9bn. Its profits were buoyed by one-off gains which offset a profit dip at Warner Bros, and less users for AOL.Time Warner said on Friday that it now owns 8% of search-engine Google. But its own internet business, AOL, had has mixed fortunes. It lost 464,000 subscribers in the fourth quarter profits were lower than in the preceding three quarters. However, the company said AOL&apos;s underlying profit before exceptional items rose 8% on the back of stronger internet advertising revenues. It hopes to increase subscribers by offering the online service free to TimeWarner internet customers and will try to sign up AOL&apos;s existing customers for high-speed broadband. TimeWarner also has to restate 2000 and 2003 results following a probe by the US Securities Exchange Commission (SEC), which is close to concluding.Time Warner&apos;s fourth quarter profits were slightly better than analysts&apos; expectations. But its film division saw profits slump 27% to $284m, helped by box-office flops Alexander and Catwoman, a sharp contrast to year-earlier, when the third and final film in the Lord of the Rings trilogy boosted results. For the full-year, TimeWarner posted a profit of $3.36bn, up 27% from its 2003 performance, while revenues grew 6.4% to $42.09bn. &quot;Our financial performance was strong, meeting or exceeding all of our full-year objectives and greatly enhancing our flexibility,&quot; chairman and chief executive Richard Parsons said. For 2005, TimeWarner is projecting operating earnings growth of around 5%, and also expects higher revenue and wider profit margins.TimeWarner is to restate its accounts as part of efforts to resolve an inquiry into AOL by US market regulators. It has already offered to pay $300m to settle charges, in a deal that is under review by the SEC. The company said it was unable to estimate the amount it needed to set aside for legal reserves, which it previously set at $500m. It intends to adjust the way it accounts for a deal with German music publisher Bertelsmann&apos;s purchase of a stake in AOL Europe, which it had reported as advertising revenue. It will now book the sale of its stake in AOL Europe as a loss on the value of that stake.</td></tr><tr><th>2</th><td>business</td><td>Dollar gains on Greenspan speech</td><td>The dollar has hit its highest level against the euro in almost three months after the Federal Reserve head said the US trade deficit is set to stabilise.And Alan Greenspan highlighted the US government&apos;s willingness to curb spending and rising household savings as factors which may help to reduce it. In late trading in New York, the dollar reached $1.2871 against the euro, from $1.2974 on Thursday. Market concerns about the deficit has hit the greenback in recent months. On Friday, Federal Reserve chairman Mr Greenspan&apos;s speech in London ahead of the meeting of G7 finance ministers sent the dollar higher after it had earlier tumbled on the back of worse-than-expected US jobs data. &quot;I think the chairman&apos;s taking a much more sanguine view on the current account deficit than he&apos;s taken for some time,&quot; said Robert Sinche, head of currency strategy at Bank of America in New York. &quot;He&apos;s taking a longer-term view, laying out a set of conditions under which the current account deficit can improve this year and next.&quot;Worries about the deficit concerns about China do, however, remain. China&apos;s currency remains pegged to the dollar and the US currency&apos;s sharp falls in recent months have therefore made Chinese export prices highly competitive. But calls for a shift in Beijing&apos;s policy have fallen on deaf ears, despite recent comments in a major Chinese newspaper that the &quot;time is ripe&quot; for a loosening of the peg. The G7 meeting is thought unlikely to produce any meaningful movement in Chinese policy. In the meantime, the US Federal Reserve&apos;s decision on 2 February to boost interest rates by a quarter of a point - the sixth such move in as many months - has opened up a differential with European rates. The half-point window, some believe, could be enough to keep US assets looking more attractive, and could help prop up the dollar. The recent falls have partly been the result of big budget deficits, as well as the US&apos;s yawning current account gap, both of which need to be funded by the buying of US bonds and assets by foreign firms and governments. The White House will announce its budget on Monday, and many commentators believe the deficit will remain at close to half a trillion dollars.</td></tr><tr><th>3</th><td>business</td><td>Yukos unit buyer faces loan claim</td><td>The owners of embattled Russian oil giant Yukos are to ask the buyer of its former production unit to pay back a $900m (Â£479m) loan.State-owned Rosneft bought the Yugansk unit for $9.3bn in a sale forced by Russia to part settle a $27.5bn tax claim against Yukos. Yukos&apos; owner Menatep Group says it will ask Rosneft to repay a loan that Yugansk had secured on its assets. Rosneft already faces a similar $540m repayment demand from foreign banks. Legal experts said Rosneft&apos;s purchase of Yugansk would include such obligations. &quot;The pledged assets are with Rosneft, so it will have to pay real money to the creditors to avoid seizure of Yugansk assets,&quot; said Moscow-based US lawyer Jamie Firestone, who is not connected to the case. Menatep Group&apos;s managing director Tim Osborne told the Reuters news agency: &quot;If they default, we will fight them where the rule of law exists under the international arbitration clauses of the credit.&quot;Rosneft officials were unavailable for comment. But the company has said it intends to take action against Menatep to recover some of the tax claims and debts owed by Yugansk. Yukos had filed for bankruptcy protection in a US court in an attempt to prevent the forced sale of its main production arm. The sale went ahead in December and Yugansk was sold to a little-known shell company which in turn was bought by Rosneft. Yukos claims its downfall was punishment for the political ambitions of its founder Mikhail Khodorkovsky and has vowed to sue any participant in the sale.</td></tr><tr><th>4</th><td>business</td><td>High fuel prices hit BA&apos;s profits</td><td>British Airways has blamed high fuel prices for a 40% drop in profits.Reporting its results for the three months to 31 December 2004, the airline made a pre-tax profit of Â£75m ($141m) compared with Â£125m a year earlier. Rod Eddington, BA&apos;s chief executive, said the results were &quot;respectable&quot; in a third quarter when fuel costs rose by Â£106m or 47.3%. BA&apos;s profits were still better than market expectation of Â£59m, and it expects a rise in full-year revenues.To help offset the increased price of aviation fuel, BA last year introduced a fuel surcharge for passengers.In October, it increased this from Â£6 to Â£10 one-way for all long-haul flights, while the short-haul surcharge was raised from Â£2.50 to Â£4 a leg. Yet aviation analyst Mike Powell of Dresdner Kleinwort Wasserstein says BA&apos;s estimated annual surcharge revenues - Â£160m - will still be way short of its additional fuel costs - a predicted extra Â£250m. Turnover for the quarter was up 4.3% to Â£1.97bn, further benefiting from a rise in cargo revenue. Looking ahead to its full year results to March 2005, BA warned that yields - average revenues per passenger - were expected to decline as it continues to lower prices in the face of competition from low-cost carriers. However, it said sales would be better than previously forecast. &quot;For the year to March 2005, the total revenue outlook is slightly better than previous guidance with a 3% to 3.5% improvement anticipated,&quot; BA chairman Martin Broughton said. BA had previously forecast a 2% to 3% rise in full-year revenue.It also reported on Friday that passenger numbers rose 8.1% in January. Aviation analyst Nick Van den Brul of BNP Paribas described BA&apos;s latest quarterly results as &quot;pretty modest&quot;. &quot;It is quite good on the revenue side and it shows the impact of fuel surcharges and a positive cargo development, however, operating margins down and cost impact of fuel are very strong,&quot; he said. Since the 11 September 2001 attacks in the United States, BA has cut 13,000 jobs as part of a major cost-cutting drive. &quot;Our focus remains on reducing controllable costs and debt whilst continuing to invest in our products,&quot; Mr Eddington said. &quot;For example, we have taken delivery of six Airbus A321 aircraft and next month we will start further improvements to our Club World flat beds.&quot; BA&apos;s shares closed up four pence at 274.5 pence.</td></tr><tr><th>5</th><td>business</td><td>Pernod takeover talk lifts Domecq</td><td>Shares in UK drinks and food firm Allied Domecq have risen on speculation that it could be the target of a takeover by France&apos;s Pernod Ricard.Reports in the Wall Street Journal and the Financial Times suggested that the French spirits firm is considering a bid, but has yet to contact its target. Allied Domecq shares in London rose 4% by 1200 GMT, while Pernod shares in Paris slipped 1.2%. Pernod said it was seeking acquisitions but refused to comment on specifics.Pernod&apos;s last major purchase was a third of US giant Seagram in 2000, the move which propelled it into the global top three of drinks firms. The other two-thirds of Seagram was bought by market leader Diageo. In terms of market value, Pernod - at 7.5bn euros ($9.7bn) - is about 9% smaller than Allied Domecq, which has a capitalisation of Â£5.7bn ($10.7bn; 8.2bn euros). Last year Pernod tried to buy Glenmorangie, one of Scotland&apos;s premier whisky firms, but lost out to luxury goods firm LVMH. Pernod is home to brands including Chivas Regal Scotch whisky, Havana Club rum and Jacob&apos;s Creek wine. Allied Domecq&apos;s big names include Malibu rum, Courvoisier brandy, Stolichnaya vodka and Ballantine&apos;s whisky - as well as snack food chains such as Dunkin&apos; Donuts and Baskin-Robbins ice cream. The WSJ said that the two were ripe for consolidation, having each dealt with problematic parts of their portfolio. Pernod has reduced the debt it took on to fund the Seagram purchase to just 1.8bn euros, while Allied has improved the performance of its fast-food chains.</td></tr><tr><th>6</th><td>business</td><td>Japan narrowly escapes recession</td><td>Japan&apos;s economy teetered on the brink of a technical recession in the three months to September, figures show.Revised figures indicated growth of just 0.1% - and a similar-sized contraction in the previous quarter. On an annual basis, the data suggests annual growth of just 0.2%, suggesting a much more hesitant recovery than had previously been thought. A common technical definition of a recession is two successive quarters of negative growth.The government was keen to play down the worrying implications of the data. &quot;I maintain the view that Japan&apos;s economy remains in a minor adjustment phase in an upward climb, and we will monitor developments carefully,&quot; said economy minister Heizo Takenaka. But in the face of the strengthening yen making exports less competitive and indications of weakening economic conditions ahead, observers were less sanguine. &quot;It&apos;s painting a picture of a recovery... much patchier than previously thought,&quot; said Paul Sheard, economist at Lehman Brothers in Tokyo. Improvements in the job market apparently have yet to feed through to domestic demand, with private consumption up just 0.2% in the third quarter.</td></tr><tr><th>7</th><td>business</td><td>Jobs growth still slow in the US</td><td>The US created fewer jobs than expected in January, but a fall in jobseekers pushed the unemployment rate to its lowest level in three years.According to Labor Department figures, US firms added only 146,000 jobs in January. The gain in non-farm payrolls was below market expectations of 190,000 new jobs. Nevertheless it was enough to push down the unemployment rate to 5.2%, its lowest level since September 2001. The job gains mean that President Bush can celebrate - albeit by a very fine margin - a net growth in jobs in the US economy in his first term in office. He presided over a net fall in jobs up to last November&apos;s Presidential election - the first President to do so since Herbert Hoover. As a result, job creation became a key issue in last year&apos;s election. However, when adding December and January&apos;s figures, the administration&apos;s first term jobs record ended in positive territory.The Labor Department also said it had revised down the jobs gains in December 2004, from 157,000 to 133,000.Analysts said the growth in new jobs was not as strong as could be expected given the favourable economic conditions. &quot;It suggests that employment is continuing to expand at a moderate pace,&quot; said Rick Egelton, deputy chief economist at BMO Financial Group. &quot;We are not getting the boost to employment that we would have got given the low value of the dollar and the still relatively low interest rate environment.&quot; &quot;The economy is producing a moderate but not a satisfying amount of job growth,&quot; said Ken Mayland, president of ClearView Economics. &quot;That means there are a limited number of new opportunities for workers.&quot;</td></tr><tr><th>8</th><td>business</td><td>India calls for fair trade rules</td><td>India, which attends the G7 meeting of seven leading industrialised nations on Friday, is unlikely to be cowed by its newcomer status.In London on Thursday ahead of the meeting, India&apos;s finance minister, lashed out at the restrictive trade policies of the G7 nations. He objected to subsidies on agriculture that make it hard for developing nations like India to compete. He also called for reform of the United Nations, the World Bank and the IMF.Palaniappan Chidambaram, India&apos;s finance minister, argued that these organisations need to take into account the changing world order, given India and China&apos;s integration into the global economy. He said the issue is not globalisation but &quot;the terms of engagement in globalisation.&quot; Mr Chidambaram is attending the G7 meeting as part of the G20 group of nations, which account for two thirds of the world&apos;s population. At a conference on developing enterprise hosted by UK finance minister Gordon Brown on Friday, he said that he was in favour of floating exchange rates because they help countries cope with economic shocks. &quot;A flexible exchange rate is one more channel for absorbing both positive and negative shocks,&quot; he told the conference. India, along with China, Brazil, South Africa and Russia, has been invited to take part in the G7 meeting taking place in London on Friday and Saturday. China is expected to face renewed pressure to abandon its fixed exchange rate, which G7 nations, in particular the US, have blamed for a surge in cheap Chinese exports. &quot;Some countries have tried to use fixed exchange rates. I do not wish to make any judgements,&quot; Mr Chidambaram said. Separately, the IMF warned on Thursday that India&apos;s budget deficit was too large and would hamper the country&apos;s economic growth, which it forecast to be around 6.5% in the year to March 2005. In the year to March 2004, the Indian economy grew by 8.5%.</td></tr><tr><th>9</th><td>business</td><td>Ethiopia&apos;s crop production up 24%</td><td>Ethiopia produced 14.27 million tonnes of crops in 2004, 24% higher than in 2003 and 21% more than the average of the past five years, a report says.In 2003, crop production totalled 11.49 million tonnes, the joint report from the Food and Agriculture Organisation and the World Food Programme said. Good rains, increased use of fertilizers and improved seeds contributed to the rise in production. Nevertheless, 2.2 million Ethiopians will still need emergency assistance.The report calculated emergency food requirements for 2005 to be 387,500 tonnes. On top of that, 89,000 tonnes of fortified blended food and vegetable oil for &quot;targeted supplementary food distributions for a survival programme for children under five and pregnant and lactating women&quot; will be needed.In eastern and southern Ethiopia, a prolonged drought has killed crops and drained wells. Last year, a total of 965,000 tonnes of food assistance was needed to help seven million Ethiopians. The Food and Agriculture Organisation (FAO) recommend that the food assistance is bought locally. &quot;Local purchase of cereals for food assistance programmes is recommended as far as possible, so as to assist domestic markets and farmers,&quot; said Henri Josserand, chief of FAO&apos;s Global Information and Early Warning System. Agriculture is the main economic activity in Ethiopia, representing 45% of gross domestic product. About 80% of Ethiopians depend directly or indirectly on agriculture.</td></tr><tr><th>10</th><td>business</td><td>Court rejects $280bn tobacco case</td><td>A US government claim accusing the country&apos;s biggest tobacco companies of covering up the effects of smoking has been thrown out by an appeal court.The demand for $280bn (Â£155bn) - filed by the Clinton administration in 1999 - was rejected in a 2-1 decision. The court in Washington found that the case could not be brought under federal anti-racketeering laws. Among the accused were Altria Group, RJ Reynolds Tobacco, Lorillard Tobacco, Liggett Group and Brown and Williamson. In its case, the government claimed tobacco firms manipulated nicotine levels to increase addiction, targeted teenagers with multi-billion dollar advertising campaigns, lied about the dangers of smoking and ignored research to the contrary.Prosecutors wanted the cigarette firms to surrender $280bn in profits accumulated over the past 50 years and impose tougher rules on marketing their products. But the Court of Appeals for the District of Columbia ruled that the US government could not sue the firms under legislation drawn up to counteract Mafia infiltration of business. The tobacco companies deny that they illegally conspired to promote smoking and defraud the public. They also say they have already met many of the government&apos;s demands in a landmark $206bn settlement reached with 46 states in 1998. Shares of tobacco companies closed higher after the ruling, with Altria rising 5% and Reynolds showing gains of 4.5%.</td></tr><tr><th>11</th><td>business</td><td>Ask Jeeves tips online ad revival</td><td>Ask Jeeves has become the third leading online search firm this week to thank a revival in internet advertising for improving fortunes.The firm&apos;s revenue nearly tripled in the fourth quarter of 2004, exceeding $86m (Â£46m). Ask Jeeves, once among the best-known names on the web, is now a relatively modest player. Its $17m profit for the quarter was dwarfed by the $204m announced by rival Google earlier in the week. During the same quarter, Yahoo earned $187m, again tipping a resurgence in online advertising.The trend has taken hold relatively quickly. Late last year, marketing company Doubleclick, one of the leading providers of online advertising, warned that some or all of its business would have to be put up for sale. But on Thursday, it announced that a sharp turnaround had brought about an unexpected increase in profits. Neither Ask Jeeves nor Doubleclick thrilled investors with their profit news, however. In both cases, their shares fell by some 4%. Analysts attributed the falls to excessive expectations in some quarters, fuelled by the dramatic outperformance of Google on Tuesday.</td></tr><tr><th>12</th><td>business</td><td>Indonesians face fuel price rise</td><td>Indonesia&apos;s government has confirmed it is considering raising fuel prices by as much as 30%.Millions of Indonesians use kerosene for basic cooking, and prices have been heavily subsidised for years. President Susilo Bambang Yudhoyono&apos;s government has said it wants to curb fuel subsidies and direct the money into aid programmes for the poor. But critics argue cutting subsidies will hurt the poorer families that his government says it wants to help. Millions of people were left homeless in Indonesia Aceh&apos;s region following the earthquake and tsunami disaster in late December.Indonesia pays subsidies to importers in order to stabilise domestic fuel prices, but higher oil prices have forced the government to spend more on holding prices down. It spent 59.2 trillion rupiah ($6.58bn; Â£3.5bn) on fuel subsidies in 2004, a sum far in excess of its original projection of 14.5 trillion rupiah. Since President Yudhoyono&apos;s government came to power in October, it has indicated its intention of raising domestic fuel prices by cutting subsidies. &quot;The (January to March) quarter of this year is the best time for us to increase fuel prices,&quot; said Sri Mulyani Indrawati, State Minister for National Development Planning. &quot;We are still considering if a 30% hike is suitable at the moment. The sooner the better for the state budget.&quot; The BBC&apos;s correspondent in Jakarta, Rachel Harvey, told World Business Report that there was likely to be a strong public reaction to any price rise. &quot;The big question is whether they go for one big, short, sharp shock and raise prices between 20% and 30% or whether they try to stagger it,&quot; she said. Indonesia&apos;s previous government, led by President Megawati Sukarnoputri, also attempted to cut subsidies in 2003, but was forced to back down in the face of public protests.</td></tr><tr><th>13</th><td>business</td><td>Peugeot deal boosts Mitsubishi</td><td>Struggling Japanese car maker Mitsubishi Motors has struck a deal to supply French car maker Peugeot with 30,000 sports utility vehicles (SUV).The two firms signed a Memorandum of Understanding, and say they expect to seal a final agreement by Spring 2005. The alliance comes as a badly-needed boost for loss-making Mitsubishi, after several profit warnings and poor sales. The SUVs will be built in Japan using Peugeot&apos;s diesel engines and sold mainly in the European market. Falling sales have left Mitsubishi Motors with underused capacity, and the production deal with Peugeot gives it a chance to utilise some of it.In January, Mitsubishi Motors issued its third profits warning in nine months, and cut its sales forecasts for the year to March 2005. Its sales have slid 41% in the past year, catalysed by the revelation that the company had systematically been hiding records of faults and then secretly repairing vehicles. As a result, the Japanese car maker has sought a series of financial bailouts. Last month it said it was looking for a further 540bn yen ($5.2bn; Â£2.77bn) in fresh financial backing, half of it from other companies in the Mitsubishi group. US-German carmaker DaimlerChrylser, a 30% shareholder in Mitsubishi Motors, decided in April 2004 not to pump in any more money. The deal with Peugeot was celebrated by Mitsubishi&apos;s newly-appointed chief executive Takashi Nishioka, who took over after three top bosses stood down last month to shoulder responsibility for the firm&apos;s troubles. Mitsubishi Motors has forecast a net loss of 472bn yen in its current financial year to March 2005. Last month, it signed a production agreement with Japanese rival Nissan Motor to supply it with 36,000 small cars for sale in Japan. It has been making cars for Nissan since 2003.</td></tr><tr><th>14</th><td>business</td><td>Telegraph newspapers axe 90 jobs</td><td>The Daily and Sunday Telegraph newspapers are axing 90 journalist jobs - 17% of their editorial staff.The Telegraph Group says the cuts are needed to fund an Â£150m investment in new printing facilities. Journalists at the firm met on Friday afternoon to discuss how to react to the surprise announcement. The cuts come against a background of fierce competition for readers and sluggish advertising revenues amid competition from online advertising. The National Union of Journalists has called on the management to recall the notice of redundancy by midday on Monday or face a strike ballot.Pearson&apos;s Financial Times said last week it was offering voluntary redundancy to about 30 reporters.The National Union of Journalists said it stood strongly behind the journalists and did not rule out a strike. &quot;Managers have torn up agreed procedures and kicked staff in the teeth by sacking people to pay for printing facilities,&quot; said Jeremy Dear, NUJ General Secretary. NUJ official Barry Fitzpatrick said the company had ignored the 90-day consultation period required for companies planning more than 10 redundancies. &quot;They have shown a complete disregard for the consultative rights of our members,&quot; said Mr Fitzpatrick, who added that the company now planned to observe the consultation procedures. The two Telegraph titles currently employ 521 journalists.Some broadsheet newspapers - especially those which have not moved to a tabloid format - have suffered circulation declines, which are hitting revenues. The Telegraph has announced no plans to go tabloid although both The Independent and The Times have seen circulation rise since shrinking in size.The Guardian is hedging its bets, planning a larger tabloid format like those popular in continental Europe. The Telegraph Group was bought by the Barclay twins - Frederick and David - last year, having previously been owned by Lord Conrad Black&apos;s Hollinger International. The brothers are currently mulling the sale of another of their businesses, retailer Littlewoods.Telegraph executive Murdoch MacLennan said the two newspapers would add eight colour pages in the coming months.&quot;Journalists are the lifeblood of any newspaper, and maintaining the quality of The Daily Telegraph and The Sunday Telegraph for our readers is vital,&quot; he said. &quot;However, action to improve our production capability and secure our titles against the competition is also vital.&quot; Many newspapers are investing in new printing machinery that enables them to print more colour pages, or in some cases, have colour on every page. They are hoping that by boosting colour it will make their publications more attractive to advertisers and readers alike. In recent months News Corp&apos;s News International unit, which publishes The Sun and the News of the World, the Guardian Media Group, Trinity Mirror and the Daily Mail &amp; General Trust have all announced substantial investments in new printing plants.</td></tr><tr><th>15</th><td>business</td><td>Air passengers win new EU rights</td><td>Air passengers who are unable to board their flights because of overbooking, cancellations or flight delays can now demand greater compensation.New EU rules set compensation at between 250 euros (Â£173) and 600 euros, depending on the length of the flight. The new rules will apply to all scheduled and charter flights, including budget airlines. Airlines have attacked the legislation saying they could be forced to push prices higher to cover the extra cost. The European Commission is facing two legal challenges - one from the European Low-fare Airlines Association (ELAA) and the other from the International Air Transport Association (IATA), which has attacked the package as a &quot;bad piece of legislation&quot;. Previously, passengers could claim between 150 euros and 300 euros if they had been stopped from boarding.However, only scheduled flight operators were obliged to offer compensation in cases of overbooking and they did not have to offer compensation for flight cancellations.The EU decided to increase passenger compensation in a bid to deter airlines from deliberately overbooking flights. Overbooking can often lead to &apos;bumping&apos; - when a passenger is moved to a later flight. When this happens against a passenger&apos;s will, airlines will now have to offer compensation. In addition, if a flight is cancelled or delayed for more than two hours through the fault of the airline, all passengers must be paid compensation.However, airlines do not have to offer compensation if flights are cancelled or delayed due to &quot;extraordinary circumstances&quot;. Airlines fear that &quot;extraordinary circumstances&quot; may not include bad weather, security alerts or strikes - events which are outside of their control. All EU-based airlines and operators of flights which take off from the EU will have to adhere to the new compensation regime which came into force on Thursday. Low-cost airlines have criticised the new compensation levels, arguing that the pay-out could be worth more than the ticket. &quot;It&apos;s a preposterous piece of legislation, we among all airlines are fighting this,&quot; Ryanair deputy chief executive Michael Cawley told Radio 4&apos;s Today programme.The European Regions Airline Association (ERAA) claims that neither airlines nor consumers were consulted over the changes. Andy Clarke, ERAA director of air transport, said that the EC advice misleads customers as it leads them to believe that airlines could be liable for payouts if flights are delayed because of bad weather.EC spokeswoman Marja Quillinan-Meiland conceded there were &quot;grey areas&quot; but said &quot;these are not as big as the airlines are making out&quot;. In cases of dispute, national enforcement bodies would decide whether the passenger had a case, she said. New technology means it is easier for airlines to take off and land in bad weather, she added. The ERAA&apos;s Mr Clarke also warned that while airlines would comply with the new rules, the extra costs would be passed onto passengers. &quot;We reckon it&apos;s going to cost European air passengers - not the airlines, the airlines have no money, it has to be paid by passengers - 1.5bn euros, that&apos;s over Â£1bn a year loaded onto European passengers,&quot; Mr Clarke said. &quot;That&apos;s basically a transfer of money from passengers whose journeys are not disrupted to passengers whose journeys are disrupted.&quot;On Wednesday, Jacques Barrot, vice president of the European Commission and also Commissioner for Transport, said that the changes were necessary. &quot;The boom in air travel needs to be accompanied by proper protection of passengers&apos; right.&quot; &quot;This is a concrete example of how the Union benefits people&apos;s daily lives,&quot; he added. The EC has launched an information campaign in airports and travel agencies to inform airline passengers of their new rights.</td></tr><tr><th>16</th><td>business</td><td>China keeps tight rein on credit</td><td>China&apos;s efforts to stop the economy from overheating by clamping down on credit will continue into 2005, state media report.The curbs were introduced earlier this year to ward off the risk that rapid expansion might lead to soaring prices. There were also fears that too much stress might be placed on the fragile banking system. Growth in China remains at a breakneck 9.1%, and corporate investment is growing at more than 25% a year. The breakneck pace of economic expansion has kept growth above 9% for more than a year. Rapid tooling-up of China&apos;s manufacturing sector means a massive demand for energy - one of the factors which has kept world oil prices sky-high for most of this year. In theory, the government has a 7% growth target, but continues to insist that the overshoot does not mean a &quot;hard landing&quot; in the shape of an overbalancing economy. A low exchange rate - China&apos;s yuan is pegged to a rate of 8.28 to the dollar, which seems to be in relentless decline - means Chinese exports are cheap on world markets. China has thus far resisted international pressure to break the link or at least to shift the level of its peg. To some extent, the credit controls do seem to be taking effect. Industrial output grew 15.7% in the year to October, down from 23% in February, and inflation slowed to 4.3% - although retail sales are still booming.</td></tr><tr><th>17</th><td>business</td><td>Parmalat boasts doubled profits</td><td>Parmalat, the Italian food group at the centre of one of Europe&apos;s most painful corporate scandals, has reported a doubling in profit.Its pre-tax earnings in the fourth quarter were 77m euros (Â£53m; $100m), up from 38m in the same period of 2003. Less welcome was the news that the firm had been fined 11m euros for having violated takeover rules five years ago. The firm sought bankruptcy protection in December 2003 after disclosing a 4bn-euro hole in its accounts. Overall, the company&apos;s debt is close to 12bn euros, and is falling only slowly. Its brands, well-known in Italy and overseas, have continued to perform strongly, however, and have barely lost revenue since the scandal broke.But a crucial factor for the company&apos;s future is the legal unwinding of its intensely complex financial position. On Tuesday, the company&apos;s administrator, turnaround expert Enrico Bondi, sued Morgan Stanley, its former banker, to return 136m euros relating to a 2003 bond deal. That brought to 49 the number of banks that Mr Bondi has sued, a mass of legal action that could bring in as much as 3bn euros. The company has also sued former auditors and financial advisors for damages. And criminal cases against the company&apos;s former management are proceeding separately.</td></tr><tr><th>18</th><td>business</td><td>India&apos;s rupee hits five-year high</td><td>India&apos;s rupee has hit a five-year high after Standard &amp; Poor&apos;s (S&amp;P) raised the country&apos;s foreign currency rating.The rupee climbed to 43.305 per US dollar on Thursday, up from a close of 43.41. The currency has gained almost 1% in the past three sessions. S&amp;P, which rates borrowers&apos; creditworthiness, lifted India&apos;s rating by one notch to &apos;BB+&apos;. With Indian assets now seen as less of a gamble, more cash is expected to flow into its markets, buoying the rupee.&quot;The upgrade is positive and basically people will use it as an excuse to come back to India,&quot; said Bhanu Baweja, a strategist at UBS. &quot;Money has moved out from India in the first two or three weeks of January into other markets like Korea and Thailand and this upgrade should lead to a reversal.&quot; India&apos;s foreign currency rating is now one notch below investment grade, which starts at &apos;BBB-&apos;. The increase has put it on the same level as Romania, Egypt and El Salvador, and one level below Russia.</td></tr><tr><th>19</th><td>business</td><td>India widens access to telecoms</td><td>India has raised the limit for foreign direct investment in telecoms companies from 49% to 74%.Communications Minister Dayanidhi Maran said that there is a need to fund the fast-growing mobile market. The government hopes to increase the number of mobile users from 95 million to between 200 and 250 million by 2007. &quot;We need at least $20bn (Â£10.6bn) in investment and part of this has to come as foreign direct investment,&quot; said Mr Maran. The decision to raise the limit for foreign investors faced considerable opposition from the communist parties, which give crucial support to the coalition headed by Prime Minister Manmohan Singh. Potential foreign investors will however need government approval before they increase their stake beyond 49%, Mr Maran said. Key positions, such as those of chief executive, chief technology officer and chief financial officer are to be held by Indians, he added.Analysts and investors have welcomed the government decision. &quot;It is a positive development for carriers and the investment community, looking to take a longer-term view of the huge growth in the Indian telecoms market,&quot; said Gartner&apos;s principal analyst Kobita Desai. &quot;The FDI relaxation coupled with rapid local market growth could really ignite interest in the Indian telecommunication industry,&quot; added Ernst and Young&apos;s Sanjay Mehta. Investment bank Morgan Stanley has forecast that India&apos;s mobile market is likely to grow by about 40% a year until 2007. The Indian mobile market is currently dominated by four companies, Bharti Televentures which has allied itself with Singapore Telecom, Essar which is linked with Hong Kong-based Hutchison Whampoa, the Sterling group and the Tata group.</td></tr><tr><th>20</th><td>business</td><td>Call centre users &apos;lose patience&apos;</td><td>Customers trying to get through to call centres are getting impatient and quicker to hang up, a survey suggests.Once past the welcome message, callers on average hang up after just 65 seconds of listening to canned music. The drop in patience comes as the number of calls to call centres is growing at a rate of 20% every year. &quot;Customers are getting used to the idea of an &apos;always available&apos; society,&quot; says Cara Diemont of IT firm Dimension Data, which commissioned the survey. However, call centres also saw a sharp increase of customers simply abandoning calls, she says, from just over 5% in 2003 to a record 13.3% during last year. When automated phone message systems are taken out of the equation, where customers have to pick their way through multiple options and messages, the number of abandoned calls is even higher - a sixth of all callers give up rather than wait. One possible reason for the lack in patience, Ms Diemont says, is the fact that more customers are calling &apos;on the move&apos; using their mobile phones.The surge in customers trying to get through to call centres is also a reflection of the centres&apos; growing range of tasks. &quot;Once a call centre may have looked after mortgages, now its agents may also be responsible for credit cards, insurance and current accounts,&quot; Ms Diemont says. Problems are occurring because increased responsibility is not going hand-in-hand with more training, the survey found.In what Dimension Data calls an &quot;alarming development&quot;, the average induction time for a call centre worker fell last year from 36 to just 21 days, leaving &quot;agents not equipped to deal with customers&quot;. This, Ms Diemont warns, is &quot;scary&quot; and not good for the bottom line either. Poor training frustrates both call centre workers and customers. As a result, call centres have a high &quot;churn rate&quot;, with nearly a quarter of workers throwing in the towel every year, which in turn forces companies to pay for training new staff. Resolution rates - the number of calls where a customer&apos;s query is resolved to mutual satisfaction - are running at just 50%. When the query is passed on to a second or third person - a specialist or manager - rates rise to about 70%, but that is still well below the industry target of an 85% resolution rate.Suggestions that &quot;outsourcing&quot; - relocating call centres to low-cost countries like India or South Africa - is to blame are wrong, Ms Diemont says.There are &quot;no big differences in wait time and call resolution&quot; between call centres based in Europe or North America and those in developing countries around the world. &quot;You can make call centres perform anywhere if you have good management and the right processes in place,&quot; she says. However, companies that decide to &quot;offshore&quot; their operations are driven not just by cost considerations. Only 42% of them say that saving money is the main consideration when closing domestic call centre operations. Half of them argue that workers in other countries offer better skills for the money. But not everybody believes that outsourcing and offshoring are the solution. Nearly two-thirds of all firms polled for the survey have no plans to offshore their call centres. They give three key reasons for not making the move:- call centre operations are part of their business &quot;core function&quot;,- they are worried about the risk of going abroad,- they fear that they will damage their brand if they join the offshoring drive. The survey was conducted by Sunovate on behalf of Dimension Data, and is based on in-depth questionnaires of 166 call centres in 24 countries and five continents. What are your experiences with call centres? Are you happy to listen to Vivaldi or Greensleeves, or do you want an immediate response? And if you work in a call centre: did your training prepare you for your job?</td></tr><tr><th>21</th><td>business</td><td>Rank &apos;set to sell off film unit&apos;</td><td>Leisure group Rank could unveil plans to demerge its film services unit and sell its media business, reports claim.Rank, formerly famous for the Carry On series, will expose the shake-up at the announcement of its results on Friday, the Sunday Telegraph reported. Advisors Goldman Sachs are understood to have valued its demerged Deluxe Film unit at Â£300m, the report added. Speculation of a possible shake-up has mounted since Rank announced a study into a possible demerger in September. Since Mike Smith&apos;s appointment as chief executive in 1999, the group has focused on fewer businesses and embarked on a major cost-cutting programme which has seen it dispose of a number of businesses, including the Odeon cinema chain and the Pinewood studios. The move left the group with three core divisions: gaming, Hard Rock and Deluxe Films, which provides technical services to Hollywood studios.Rank now aims to concentrate on its gaming, bars and hotels business, including extending its Hard Rock brand to its casinos - trials of which have been a success. It also owns Deluxe Media, which makes and distributes DVDs and videos. However, that business is seen as less successful. Last year it made profits of Â£21.5m on a turnover of Â£392.1m and experts suggest its success in moving to DVDs from VHS video could make it an attractive target for a private equity buyer. A spokesman for the firm refused to comment on the reports, but said any results from the demerger study were likely to be set out when it unveiled its results on Friday. Analysts predict the firm is likely to report a slight drop in annual pre-tax profits to Â£170m from Â£194m last year. Formed in the 1940s the firm was a leading UK film producer and cinema owner for many years. It has now diversified into a range of other leisure activities - mainly in the UK - including hotels, roadside service areas and holiday centres. It now owns 34 Grosvenor casinos, the Mecca Bingo chain and more than 100 Hard Rock Cafes in 38 countries.</td></tr><tr><th>22</th><td>business</td><td>Sluggish economy hits German jobs</td><td>The number of people out of work in Europe&apos;s largest economy has risen for the tenth straight month as growth remains stubbornly slow.German unemployment rose 7,000 in November to 4.464 million people, or 10.8% of the workforce. The seasonally adjusted rise showed a smaller rise than expected, as government measures to encourage job creation began to take effect. But officials said stagnant growth was still stifling the job market. &quot;There are clear signs of a revival in domestic demand,&quot; said Frank-Juergen Weise, head of the Federal Labour Agency, in a statement. &quot;But growth of 0.1%... in the third quarter is still insufficient to deliver positive momentum to the labour market.&quot; High oil prices and the soaring euro - which damages the competitiveness of exporters - were also having a negative effect, he said. The brunt of the unemployment is still being felt in the eastern part of Germany, where the rate is 18.8%.With unemployment stuck above 4 million for years, the government of Chancellor Gerhard Schroeder has put job creation at the top of the agenda. A controversial package of measures to shake up incentives to get back to work, paid for by cutting some cherished benefits, has sparked anger among some German workers. Strikes in a number of industries, notably among the country&apos;s iconic carmakers, have demonstrated the displeasure - as well as fears about further job losses as outsourcing takes hold. Among the new initiatives are the so-called &quot;one-euro jobs&quot; which top up unemployment benefit. The scheme&apos;s formal launch is January, but hirings for these positions are already taking place and affecting the unemployment statistics, economists said. &quot;The deterioration of the labour market does not come as a surprise,&quot; said Isabelle Kronawitter at Hypovereinsbank. &quot;Job creation measures probably prevented a stronger increase in the seasonally adjusted numbers.&quot;</td></tr><tr><th>23</th><td>business</td><td>Mixed signals from French economy</td><td>The French economy picked up speed at the end of 2004, official figures show - but still looks set to have fallen short of the government&apos;s hopes.According to state statistics body INSEE, growth for the three months to December was a seasonally-adjusted 0.7-0.8%, ahead of the 0.6% forecast. If confirmed, that would be the best quarterly showing since early 2002. It leaves GDP up 2.3% for the full year, but short of the 2.5% which the French government had predicted.Despite the apparent shortfall in annual economic growth, the good quarterly figures - a so-called &quot;flash estimate&quot; - mark a continuing trend of improving indicators for the health of the French economy. The government is reiterating a 2.5% target for 2005, while the European Central Bank is making positive noises for the 12-nation eurozone as a whole. Also on Friday, France&apos;s industrial output for December was released, showing 0.7% growth. &quot;The numbers are good,&quot; said David Naude, economist at Deutsche Bank. &quot;They send a positive signal of a rebound in output... and open the way for a continuation in that trend into the New Year.&quot; Service sector activity improved in January, hitting a seven-month high. But unemployment remains high at about 10%.</td></tr><tr><th>24</th><td>business</td><td>US trade gap hits record in 2004</td><td>The gap between US exports and imports hit an all-time high of $671.7bn (Â£484bn) in 2004, latest figures show.The Commerce Department said the trade deficit for all of last year was 24.4% above the previous record - 2003&apos;s imbalance of $496.5bn. The deficit with China, up 30.5% at $162bn, was the largest ever recorded with a single country. However, on a monthly basis the US trade gap narrowed by 4.9% in December to Â£56.4bn. The US consumer&apos;s appetite for all things from oil to imported cars, and even wine and cheese, reached record levels last year and the figures are likely to spark fresh criticism of President Bush&apos;s economic policies.Democrats claim the administration has not done enough to clamp down on unfair foreign trade practices. For example, they believe China&apos;s currency policy - which US manufacturers claim has undervalued the yuan by as much as 40% - has given China&apos;s rapidly expanding economy an unfair advantage against US competitors.Meanwhile, the Bush administration argues that the US deficit reflects the fact the America is growing at faster rate than the rest of the world, spurring on more demand for imported goods. Some economists say this may allow an upward revision of US economic growth in the fourth quarter. But others point out that the deficit has reached such astronomical proportions that foreigners many choose not to hold as many dollar-denominated assets, which may in turn harm growth. For all of 2004, US exports rose 12.3% to $1.15 trillion, but imports rose even faster by 16.3% to a new record of $1.76 trillion. Foreign oil exports surged by 35.7% to a record $180.7bn, reflecting the rally in global oil prices and increasing domestic demand. Imports were not affected by the dollar&apos;s weakness last year. &quot;We expect the deficit to continue to widen in 2005 even if the dollar gets back to its downward trend,&quot; said economist Marie-Pierre Ripert at IXIS.</td></tr><tr><th>25</th><td>business</td><td>Yukos loses US bankruptcy battle</td><td>A judge has dismissed an attempt by Russian oil giant Yukos to gain bankruptcy protection in the US.Yukos filed for Chapter 11 protection in Houston in an unsuccessful attempt to halt the auction of its Yugansk division by the Russian authorities. The court ruling is a blow to efforts to get damages for the sale of Yugansk, which Yukos claims was illegally sold. Separately, former Yukos boss Mikhail Khodorkovsky began testimony on Friday in his trial for fraud and tax evasion.Mr Khodorkovsky - who has been in jail for more than a year - pleaded not guilty to the charges brought against him and denied involvement in any criminal activities. &quot;I pride myself on heading for 15 years a number of successful companies and helping other enterprises rise from their knees,&quot; he told a Russian court.Yugansk was auctioned to help pay off $27.5bn (Â£14.5bn) in unpaid taxes. It was bought for $9.4bn by a previously-unknown group, which was in turn bought up almost immediately by state-controlled oil company Rosneft.Texas Judge Letitia Clark said Yukos did not have enough of a US presence to establish US jurisdiction. &quot;The vast majority of the business and financial activities of Yukos continue to occur in Russia,&quot; Judge Clark said in her ruling. &quot;Such activities require the continued participation of the Russian government.&quot; Yukos had argued that a US court was entitled to declare it bankrupt before its Yugansk unit was sold, since it has local bank accounts and its chief finance officer Bruce Misamore lives in Houston. Yukos claimed it sought help in the US because other forums - Russian courts and the European Court of Human Rights - were either unfriendly or offered less protection. Russia had indicated it would in any case not abide by the rulings of the US courts.In her ruling, the judge acknowledged that &quot;it appears likely that agencies of the Russian government have acted in a manner that would be considered confiscatory under United States law&quot;. But she said her role was simply to decide on jurisdiction. The US court&apos;s jurisdiction had been challenged by Deutsche Bank and Gazpromneft, a former unit of Russian gas monopoly Gazprom which is due to merge with Rosneft. Analysts said the ability of Gazprom and Rosneft to trade freely overseas had been stifled while the ownership of Yugansk remained unclear.Yukos said it would consider its options in light of the ruling. However, it claimed that the court had backed its argument in four out of five key issues. &quot;We believe the merits of our case are strong and simple,&quot; said chief executive Steven Theede. &quot;Our assets were illegally seized. We want them back or damages paid.&quot;</td></tr><tr><th>26</th><td>business</td><td>Safety alert as GM recalls cars</td><td>The world&apos;s biggest carmaker General Motors (GM) is recalling nearly 200,000 vehicles in the US on safety grounds, according to federal regulators.The National Highway Traffic Safety Administration (NHTSA) said the largest recall involves 155,465 pickups, vans and sports utility vehicles (SUVs). This is because of possible malfunctions with the braking systems. The affected vehicles in the product recall are from the 2004 and 2005 model years, GM said. Those vehicles with potential faults are the Chevrolet Avalanche, Express, Kodiak, Silverade and Suburban; the GMC Savana, Sierra and Yukon.The NHTSA said a pressure accumulator in the braking system could crack during normal driving and fragments could injure people if the hood was open. This could allow hydraulic fluid to leak, which could make it harder to brake or steer and could cause a crash, it warned. GM is also recalling 19,924 Cadillac XLR coupes, SRX SUVs and Pontiac Grand Prix sedans from the 2004 model year. This is because the accelerator pedal may not work properly in extremely cold temperatures, requiring more braking. In addition, the car giant is calling back 17,815 Buick Raniers, Chevrolet Trailblazers, GMC Envoys and Isuzu Ascenders from the 2005 model years because the windshield is not properly fitted and could fall out in a crash. However, GM stressed that it did not know of any injuries related to the problems. News of the recall follows an announcement last month that GM expects earnings this year be lower than in 2004. The world&apos;s biggest car maker is grappling with losses in its European business, weak US sales and now a product recall. In January, GM said higher healthcare costs in North America, and lower profits at its financial services subsidiary would hurt its performance in 2005.</td></tr><tr><th>27</th><td>business</td><td>Steel firm &apos;to cut&apos; 45,000 jobs</td><td>Mittal Steel, one of the world&apos;s largest steel producers, could cut up to 45,000 jobs over the next five years, its chief executive has said.The Netherlands-based company is due to complete its $4.5bn acquisition of US firm ISG next month, making it one of the largest global firms of its kind. However, Lakshmi Mittal has told investors the combined company will have to shed thousands of jobs. The Indian-born magnate did not say where the job losses would fall.Mr Mittal told US investors that once the acquisition of International Steel Group was completed, the company would aim to reduce its workforce by between 7,000 and 8,000 annually. This could see its workforce trimmed from 155,000 to 110,000 staff by 2010. &quot;We are investing in modernisation so employees will go down,&quot; Mr Mittal told the conference in Chicago.Mittal Steel was formed last year when Mr Mittal&apos;s LNM Holdings merged with Dutch firm Ispat. A combination of Mittal Steel and ISG would have annual sales of $32bn (Â£16.7bn; 24.1bn euros) and a production capacity of 70 million tonnes.A Mittal Steel spokeman said that no decisions on job cuts have been made yet. &quot;We are trying to create a sustainable steel industry and if we want to do that, we have to invest in new technology,&quot; a spokesman said. Mittal Steel has operations in 14 countries. Many of its businesses - particularly those in eastern Europe - were previously state owned and have huge workforces. It employs 50,000 staff in Kazakhstan alone, and has large operations in Romania, the Czech Republic, South Africa and the United States.</td></tr><tr><th>28</th><td>business</td><td>Strong demand triggers oil rally</td><td>Crude oil prices surged back above the $47 a barrel mark on Thursday after an energy market watchdog raised its forecasts for global demand.The International Energy Agency (IEA) warned demand for Opec&apos;s crude in the first quarter would outstrip supply. The IEA raised its estimate of 2005 oil demand growth by 80,000 barrels a day to 84 million barrels a day. US light crude rose $1.64 to $47.10, while Brent crude in London gained $1.32 to $44.45.The Paris-based IEA watchdog, which advises industrialized nations on energy policy, said the upward revision was due to stronger demand from China and other Asian countries. The fresh rally in crude prices followed gains on Wednesday which were triggered by large falls in US crude supplies following a cold spell in North America in January. The US Department of Energy reported that crude stockpiles had fallen 1m barrels to 294.3m. On top of that, ongoing problems for beleaguered Russian oil giant Yukos have also prompted the IEA to revise its output estimates from Russia - a major non-Opec supplier. &quot;I think that prices are now beginning to set a new range and it looks like the $40 to $50 level,&quot; said energy analyst Orin Middleton of Barclays Capital.</td></tr><tr><th>29</th><td>business</td><td>UK firm faces Venezuelan land row</td><td>Venezuelan authorities have said they will seize land owned by a British company as part of President Chavez&apos;s agrarian reform programme.Officials in Cojedes state said on Friday that farmland owned by a subsidiary of the Vestey Group would be taken and used to settle poor farmers. The government is cracking down on so-called latifundios, or large rural estates, which it says are lying idle. The Vestey Group said it had not been informed of any planned seizure.The firm, whose Agroflora subsidiary operates 13 farms in Venezuela, insisted that it had complied fully with Venezuelan law. Prosecutors in the south of the country have targeted Hato El Charcote, a beef cattle ranch owned by Agroflora. According to Reuters, they plan to seize 12,900 acres (5,200 hectares) from the 32,000 acre (13,000 hectare) farm.Officials claim that Agroflora does not possess valid documents proving its ownership of the land in question. They also allege that areas of the ranch are not being used for any form of active production. &quot;The legal boundaries did not match up with the actual boundaries and there is surplus,&quot; state prosecutor Alexis Ortiz told Reuters. &quot;As a consequence the government has taken action.&quot;Controversial reforms passed in 2001 give the government the right to take control of private property if it is declared idle or ownership cannot be traced back to the 19th Century.Critics say the powers - which President Chavez argues are needed to help the country&apos;s poorest citizens and develop the Venezuelan economy - trample all over private property rights. The Vestey Group said it had owned the land since 1920 and would co-operate fully with the authorities. But a spokesman added: &quot;Agroflora is absolutely confident that what it has submitted will demonstrate the legality of its title to the land.&quot; The company pointed out that the farm, which employs 300 workers, provides meat solely for the Venezuelan market.Last month, the government said it had identified more than 500 idle farms and had yet to consider the status of a further 40,000. The authorities said landowners whose titles were in order and whose farms were productive had &quot;nothing to fear&quot;. Under President Chavez, the Venezuelan government has steadily expanded the state&apos;s involvement in the country&apos;s economy. It recently said all mining contracts involving foreign firms would be examined to ensure they provided sufficient economic benefits to the state.</td></tr><tr><th>30</th><td>business</td><td>Soaring oil &apos;hits world economy&apos;</td><td>The soaring cost of oil has hit global economic growth, although world&apos;s major economies should weather the storm of price rises, according to the OECD.In its latest bi-annual report, the OECD cut its growth predictions for the world&apos;s main industrialised regions. US growth would reach 4.4% in 2004, but fall to 3.3% next year from a previous estimate of 3.7%, the OECD said. However, the Paris-based economics think tank said it believed the global economy could still regain momentum.Forecasts for Japanese growth were also scaled back to 4.0% from 4.4% this year and 2.1% from 2.8% in 2005. But the outlook was worst for the 12-member eurozone bloc, with already sluggish growth forecasts slipping to 1.8% from 2.0% this year and 1.9% from 2.4% in 2005, the OECD said. Overall, the report forecast total growth of 3.6% in 2004 for the 30 member countries of the OECD, slipping to 2.9% next year before recovering to 3.1% in 2006. &quot;There are nonetheless good reasons to believe that despite recent oil price turbulence the world economy will regain momentum in a not-too-distant future,&quot; said Jean-Philippe Cotis, the OECD&apos;s chief economist. The price of crude is about 50% higher than it was at the start of 2004, but down on the record high of $55.67 set in late October.A dip in oil prices and improving jobs prospects would improve consumer confidence and spending, the OECD said. &quot;The oil shock is not enormous by historical standards - we have seen worse in the seventies. If the oil price does not rise any further, then we think the shock can be absorbed within the next few quarters,&quot; Vincent Koen, a senior economist with the OECD, told the BBC&apos;s World Business Report. &quot;The recovery that was underway, and has been interrupted a bit by the oil shock this year, would then regain momentum in the course of 2005.&quot; China&apos;s booming economy and a &quot;spectacular comeback&quot; in Japan - albeit one that has faltered in recent months - would help world economic recovery, the OECD said. &quot;Supported by strong balance sheets and high profits, the recovery of business investment should continue in North America and start in earnest in Europe,&quot; it added. However, the report warned: &quot;It remains to be seen whether continental Europe will play a strong supportive role through a marked upswing of final domestic demand.&quot; The OECD highlighted current depressed household expenditure in Germany and the eurozone&apos;s over-reliance on export-led growth.</td></tr><tr><th>&vellip;</th><td>&vellip;</td><td>&vellip;</td><td>&vellip;</td></tr></tbody></table></div>"
      ],
      "text/latex": [
       "\\begin{tabular}{r|ccc}\n",
       "\t& topic & heading & body\\\\\n",
       "\t\\hline\n",
       "\t& String & String & String\\\\\n",
       "\t\\hline\n",
       "\t1 & business & Ad sales boost Time Warner profit & Quarterly profits at US media giant TimeWarner jumped 76\\% to \\$1.13bn (Â£600m) for the three months to December, from \\$639m year-earlier.The firm, which is now one of the biggest investors in Google, benefited from sales of high-speed internet connections and higher advert sales. TimeWarner said fourth quarter sales rose 2\\% to \\$11.1bn from \\$10.9bn. Its profits were buoyed by one-off gains which offset a profit dip at Warner Bros, and less users for AOL.Time Warner said on Friday that it now owns 8\\% of search-engine Google. But its own internet business, AOL, had has mixed fortunes. It lost 464,000 subscribers in the fourth quarter profits were lower than in the preceding three quarters. However, the company said AOL's underlying profit before exceptional items rose 8\\% on the back of stronger internet advertising revenues. It hopes to increase subscribers by offering the online service free to TimeWarner internet customers and will try to sign up AOL's existing customers for high-speed broadband. TimeWarner also has to restate 2000 and 2003 results following a probe by the US Securities Exchange Commission (SEC), which is close to concluding.Time Warner's fourth quarter profits were slightly better than analysts' expectations. But its film division saw profits slump 27\\% to \\$284m, helped by box-office flops Alexander and Catwoman, a sharp contrast to year-earlier, when the third and final film in the Lord of the Rings trilogy boosted results. For the full-year, TimeWarner posted a profit of \\$3.36bn, up 27\\% from its 2003 performance, while revenues grew 6.4\\% to \\$42.09bn. \"Our financial performance was strong, meeting or exceeding all of our full-year objectives and greatly enhancing our flexibility,\" chairman and chief executive Richard Parsons said. For 2005, TimeWarner is projecting operating earnings growth of around 5\\%, and also expects higher revenue and wider profit margins.TimeWarner is to restate its accounts as part of efforts to resolve an inquiry into AOL by US market regulators. It has already offered to pay \\$300m to settle charges, in a deal that is under review by the SEC. The company said it was unable to estimate the amount it needed to set aside for legal reserves, which it previously set at \\$500m. It intends to adjust the way it accounts for a deal with German music publisher Bertelsmann's purchase of a stake in AOL Europe, which it had reported as advertising revenue. It will now book the sale of its stake in AOL Europe as a loss on the value of that stake. \\\\\n",
       "\t2 & business & Dollar gains on Greenspan speech & The dollar has hit its highest level against the euro in almost three months after the Federal Reserve head said the US trade deficit is set to stabilise.And Alan Greenspan highlighted the US government's willingness to curb spending and rising household savings as factors which may help to reduce it. In late trading in New York, the dollar reached \\$1.2871 against the euro, from \\$1.2974 on Thursday. Market concerns about the deficit has hit the greenback in recent months. On Friday, Federal Reserve chairman Mr Greenspan's speech in London ahead of the meeting of G7 finance ministers sent the dollar higher after it had earlier tumbled on the back of worse-than-expected US jobs data. \"I think the chairman's taking a much more sanguine view on the current account deficit than he's taken for some time,\" said Robert Sinche, head of currency strategy at Bank of America in New York. \"He's taking a longer-term view, laying out a set of conditions under which the current account deficit can improve this year and next.\"Worries about the deficit concerns about China do, however, remain. China's currency remains pegged to the dollar and the US currency's sharp falls in recent months have therefore made Chinese export prices highly competitive. But calls for a shift in Beijing's policy have fallen on deaf ears, despite recent comments in a major Chinese newspaper that the \"time is ripe\" for a loosening of the peg. The G7 meeting is thought unlikely to produce any meaningful movement in Chinese policy. In the meantime, the US Federal Reserve's decision on 2 February to boost interest rates by a quarter of a point - the sixth such move in as many months - has opened up a differential with European rates. The half-point window, some believe, could be enough to keep US assets looking more attractive, and could help prop up the dollar. The recent falls have partly been the result of big budget deficits, as well as the US's yawning current account gap, both of which need to be funded by the buying of US bonds and assets by foreign firms and governments. The White House will announce its budget on Monday, and many commentators believe the deficit will remain at close to half a trillion dollars. \\\\\n",
       "\t3 & business & Yukos unit buyer faces loan claim & The owners of embattled Russian oil giant Yukos are to ask the buyer of its former production unit to pay back a \\$900m (Â£479m) loan.State-owned Rosneft bought the Yugansk unit for \\$9.3bn in a sale forced by Russia to part settle a \\$27.5bn tax claim against Yukos. Yukos' owner Menatep Group says it will ask Rosneft to repay a loan that Yugansk had secured on its assets. Rosneft already faces a similar \\$540m repayment demand from foreign banks. Legal experts said Rosneft's purchase of Yugansk would include such obligations. \"The pledged assets are with Rosneft, so it will have to pay real money to the creditors to avoid seizure of Yugansk assets,\" said Moscow-based US lawyer Jamie Firestone, who is not connected to the case. Menatep Group's managing director Tim Osborne told the Reuters news agency: \"If they default, we will fight them where the rule of law exists under the international arbitration clauses of the credit.\"Rosneft officials were unavailable for comment. But the company has said it intends to take action against Menatep to recover some of the tax claims and debts owed by Yugansk. Yukos had filed for bankruptcy protection in a US court in an attempt to prevent the forced sale of its main production arm. The sale went ahead in December and Yugansk was sold to a little-known shell company which in turn was bought by Rosneft. Yukos claims its downfall was punishment for the political ambitions of its founder Mikhail Khodorkovsky and has vowed to sue any participant in the sale. \\\\\n",
       "\t4 & business & High fuel prices hit BA's profits & British Airways has blamed high fuel prices for a 40\\% drop in profits.Reporting its results for the three months to 31 December 2004, the airline made a pre-tax profit of Â£75m (\\$141m) compared with Â£125m a year earlier. Rod Eddington, BA's chief executive, said the results were \"respectable\" in a third quarter when fuel costs rose by Â£106m or 47.3\\%. BA's profits were still better than market expectation of Â£59m, and it expects a rise in full-year revenues.To help offset the increased price of aviation fuel, BA last year introduced a fuel surcharge for passengers.In October, it increased this from Â£6 to Â£10 one-way for all long-haul flights, while the short-haul surcharge was raised from Â£2.50 to Â£4 a leg. Yet aviation analyst Mike Powell of Dresdner Kleinwort Wasserstein says BA's estimated annual surcharge revenues - Â£160m - will still be way short of its additional fuel costs - a predicted extra Â£250m. Turnover for the quarter was up 4.3\\% to Â£1.97bn, further benefiting from a rise in cargo revenue. Looking ahead to its full year results to March 2005, BA warned that yields - average revenues per passenger - were expected to decline as it continues to lower prices in the face of competition from low-cost carriers. However, it said sales would be better than previously forecast. \"For the year to March 2005, the total revenue outlook is slightly better than previous guidance with a 3\\% to 3.5\\% improvement anticipated,\" BA chairman Martin Broughton said. BA had previously forecast a 2\\% to 3\\% rise in full-year revenue.It also reported on Friday that passenger numbers rose 8.1\\% in January. Aviation analyst Nick Van den Brul of BNP Paribas described BA's latest quarterly results as \"pretty modest\". \"It is quite good on the revenue side and it shows the impact of fuel surcharges and a positive cargo development, however, operating margins down and cost impact of fuel are very strong,\" he said. Since the 11 September 2001 attacks in the United States, BA has cut 13,000 jobs as part of a major cost-cutting drive. \"Our focus remains on reducing controllable costs and debt whilst continuing to invest in our products,\" Mr Eddington said. \"For example, we have taken delivery of six Airbus A321 aircraft and next month we will start further improvements to our Club World flat beds.\" BA's shares closed up four pence at 274.5 pence. \\\\\n",
       "\t5 & business & Pernod takeover talk lifts Domecq & Shares in UK drinks and food firm Allied Domecq have risen on speculation that it could be the target of a takeover by France's Pernod Ricard.Reports in the Wall Street Journal and the Financial Times suggested that the French spirits firm is considering a bid, but has yet to contact its target. Allied Domecq shares in London rose 4\\% by 1200 GMT, while Pernod shares in Paris slipped 1.2\\%. Pernod said it was seeking acquisitions but refused to comment on specifics.Pernod's last major purchase was a third of US giant Seagram in 2000, the move which propelled it into the global top three of drinks firms. The other two-thirds of Seagram was bought by market leader Diageo. In terms of market value, Pernod - at 7.5bn euros (\\$9.7bn) - is about 9\\% smaller than Allied Domecq, which has a capitalisation of Â£5.7bn (\\$10.7bn; 8.2bn euros). Last year Pernod tried to buy Glenmorangie, one of Scotland's premier whisky firms, but lost out to luxury goods firm LVMH. Pernod is home to brands including Chivas Regal Scotch whisky, Havana Club rum and Jacob's Creek wine. Allied Domecq's big names include Malibu rum, Courvoisier brandy, Stolichnaya vodka and Ballantine's whisky - as well as snack food chains such as Dunkin' Donuts and Baskin-Robbins ice cream. The WSJ said that the two were ripe for consolidation, having each dealt with problematic parts of their portfolio. Pernod has reduced the debt it took on to fund the Seagram purchase to just 1.8bn euros, while Allied has improved the performance of its fast-food chains. \\\\\n",
       "\t6 & business & Japan narrowly escapes recession & Japan's economy teetered on the brink of a technical recession in the three months to September, figures show.Revised figures indicated growth of just 0.1\\% - and a similar-sized contraction in the previous quarter. On an annual basis, the data suggests annual growth of just 0.2\\%, suggesting a much more hesitant recovery than had previously been thought. A common technical definition of a recession is two successive quarters of negative growth.The government was keen to play down the worrying implications of the data. \"I maintain the view that Japan's economy remains in a minor adjustment phase in an upward climb, and we will monitor developments carefully,\" said economy minister Heizo Takenaka. But in the face of the strengthening yen making exports less competitive and indications of weakening economic conditions ahead, observers were less sanguine. \"It's painting a picture of a recovery... much patchier than previously thought,\" said Paul Sheard, economist at Lehman Brothers in Tokyo. Improvements in the job market apparently have yet to feed through to domestic demand, with private consumption up just 0.2\\% in the third quarter. \\\\\n",
       "\t7 & business & Jobs growth still slow in the US & The US created fewer jobs than expected in January, but a fall in jobseekers pushed the unemployment rate to its lowest level in three years.According to Labor Department figures, US firms added only 146,000 jobs in January. The gain in non-farm payrolls was below market expectations of 190,000 new jobs. Nevertheless it was enough to push down the unemployment rate to 5.2\\%, its lowest level since September 2001. The job gains mean that President Bush can celebrate - albeit by a very fine margin - a net growth in jobs in the US economy in his first term in office. He presided over a net fall in jobs up to last November's Presidential election - the first President to do so since Herbert Hoover. As a result, job creation became a key issue in last year's election. However, when adding December and January's figures, the administration's first term jobs record ended in positive territory.The Labor Department also said it had revised down the jobs gains in December 2004, from 157,000 to 133,000.Analysts said the growth in new jobs was not as strong as could be expected given the favourable economic conditions. \"It suggests that employment is continuing to expand at a moderate pace,\" said Rick Egelton, deputy chief economist at BMO Financial Group. \"We are not getting the boost to employment that we would have got given the low value of the dollar and the still relatively low interest rate environment.\" \"The economy is producing a moderate but not a satisfying amount of job growth,\" said Ken Mayland, president of ClearView Economics. \"That means there are a limited number of new opportunities for workers.\" \\\\\n",
       "\t8 & business & India calls for fair trade rules & India, which attends the G7 meeting of seven leading industrialised nations on Friday, is unlikely to be cowed by its newcomer status.In London on Thursday ahead of the meeting, India's finance minister, lashed out at the restrictive trade policies of the G7 nations. He objected to subsidies on agriculture that make it hard for developing nations like India to compete. He also called for reform of the United Nations, the World Bank and the IMF.Palaniappan Chidambaram, India's finance minister, argued that these organisations need to take into account the changing world order, given India and China's integration into the global economy. He said the issue is not globalisation but \"the terms of engagement in globalisation.\" Mr Chidambaram is attending the G7 meeting as part of the G20 group of nations, which account for two thirds of the world's population. At a conference on developing enterprise hosted by UK finance minister Gordon Brown on Friday, he said that he was in favour of floating exchange rates because they help countries cope with economic shocks. \"A flexible exchange rate is one more channel for absorbing both positive and negative shocks,\" he told the conference. India, along with China, Brazil, South Africa and Russia, has been invited to take part in the G7 meeting taking place in London on Friday and Saturday. China is expected to face renewed pressure to abandon its fixed exchange rate, which G7 nations, in particular the US, have blamed for a surge in cheap Chinese exports. \"Some countries have tried to use fixed exchange rates. I do not wish to make any judgements,\" Mr Chidambaram said. Separately, the IMF warned on Thursday that India's budget deficit was too large and would hamper the country's economic growth, which it forecast to be around 6.5\\% in the year to March 2005. In the year to March 2004, the Indian economy grew by 8.5\\%. \\\\\n",
       "\t9 & business & Ethiopia's crop production up 24\\% & Ethiopia produced 14.27 million tonnes of crops in 2004, 24\\% higher than in 2003 and 21\\% more than the average of the past five years, a report says.In 2003, crop production totalled 11.49 million tonnes, the joint report from the Food and Agriculture Organisation and the World Food Programme said. Good rains, increased use of fertilizers and improved seeds contributed to the rise in production. Nevertheless, 2.2 million Ethiopians will still need emergency assistance.The report calculated emergency food requirements for 2005 to be 387,500 tonnes. On top of that, 89,000 tonnes of fortified blended food and vegetable oil for \"targeted supplementary food distributions for a survival programme for children under five and pregnant and lactating women\" will be needed.In eastern and southern Ethiopia, a prolonged drought has killed crops and drained wells. Last year, a total of 965,000 tonnes of food assistance was needed to help seven million Ethiopians. The Food and Agriculture Organisation (FAO) recommend that the food assistance is bought locally. \"Local purchase of cereals for food assistance programmes is recommended as far as possible, so as to assist domestic markets and farmers,\" said Henri Josserand, chief of FAO's Global Information and Early Warning System. Agriculture is the main economic activity in Ethiopia, representing 45\\% of gross domestic product. About 80\\% of Ethiopians depend directly or indirectly on agriculture. \\\\\n",
       "\t10 & business & Court rejects \\$280bn tobacco case & A US government claim accusing the country's biggest tobacco companies of covering up the effects of smoking has been thrown out by an appeal court.The demand for \\$280bn (Â£155bn) - filed by the Clinton administration in 1999 - was rejected in a 2-1 decision. The court in Washington found that the case could not be brought under federal anti-racketeering laws. Among the accused were Altria Group, RJ Reynolds Tobacco, Lorillard Tobacco, Liggett Group and Brown and Williamson. In its case, the government claimed tobacco firms manipulated nicotine levels to increase addiction, targeted teenagers with multi-billion dollar advertising campaigns, lied about the dangers of smoking and ignored research to the contrary.Prosecutors wanted the cigarette firms to surrender \\$280bn in profits accumulated over the past 50 years and impose tougher rules on marketing their products. But the Court of Appeals for the District of Columbia ruled that the US government could not sue the firms under legislation drawn up to counteract Mafia infiltration of business. The tobacco companies deny that they illegally conspired to promote smoking and defraud the public. They also say they have already met many of the government's demands in a landmark \\$206bn settlement reached with 46 states in 1998. Shares of tobacco companies closed higher after the ruling, with Altria rising 5\\% and Reynolds showing gains of 4.5\\%. \\\\\n",
       "\t11 & business & Ask Jeeves tips online ad revival & Ask Jeeves has become the third leading online search firm this week to thank a revival in internet advertising for improving fortunes.The firm's revenue nearly tripled in the fourth quarter of 2004, exceeding \\$86m (Â£46m). Ask Jeeves, once among the best-known names on the web, is now a relatively modest player. Its \\$17m profit for the quarter was dwarfed by the \\$204m announced by rival Google earlier in the week. During the same quarter, Yahoo earned \\$187m, again tipping a resurgence in online advertising.The trend has taken hold relatively quickly. Late last year, marketing company Doubleclick, one of the leading providers of online advertising, warned that some or all of its business would have to be put up for sale. But on Thursday, it announced that a sharp turnaround had brought about an unexpected increase in profits. Neither Ask Jeeves nor Doubleclick thrilled investors with their profit news, however. In both cases, their shares fell by some 4\\%. Analysts attributed the falls to excessive expectations in some quarters, fuelled by the dramatic outperformance of Google on Tuesday. \\\\\n",
       "\t12 & business & Indonesians face fuel price rise & Indonesia's government has confirmed it is considering raising fuel prices by as much as 30\\%.Millions of Indonesians use kerosene for basic cooking, and prices have been heavily subsidised for years. President Susilo Bambang Yudhoyono's government has said it wants to curb fuel subsidies and direct the money into aid programmes for the poor. But critics argue cutting subsidies will hurt the poorer families that his government says it wants to help. Millions of people were left homeless in Indonesia Aceh's region following the earthquake and tsunami disaster in late December.Indonesia pays subsidies to importers in order to stabilise domestic fuel prices, but higher oil prices have forced the government to spend more on holding prices down. It spent 59.2 trillion rupiah (\\$6.58bn; Â£3.5bn) on fuel subsidies in 2004, a sum far in excess of its original projection of 14.5 trillion rupiah. Since President Yudhoyono's government came to power in October, it has indicated its intention of raising domestic fuel prices by cutting subsidies. \"The (January to March) quarter of this year is the best time for us to increase fuel prices,\" said Sri Mulyani Indrawati, State Minister for National Development Planning. \"We are still considering if a 30\\% hike is suitable at the moment. The sooner the better for the state budget.\" The BBC's correspondent in Jakarta, Rachel Harvey, told World Business Report that there was likely to be a strong public reaction to any price rise. \"The big question is whether they go for one big, short, sharp shock and raise prices between 20\\% and 30\\% or whether they try to stagger it,\" she said. Indonesia's previous government, led by President Megawati Sukarnoputri, also attempted to cut subsidies in 2003, but was forced to back down in the face of public protests. \\\\\n",
       "\t13 & business & Peugeot deal boosts Mitsubishi & Struggling Japanese car maker Mitsubishi Motors has struck a deal to supply French car maker Peugeot with 30,000 sports utility vehicles (SUV).The two firms signed a Memorandum of Understanding, and say they expect to seal a final agreement by Spring 2005. The alliance comes as a badly-needed boost for loss-making Mitsubishi, after several profit warnings and poor sales. The SUVs will be built in Japan using Peugeot's diesel engines and sold mainly in the European market. Falling sales have left Mitsubishi Motors with underused capacity, and the production deal with Peugeot gives it a chance to utilise some of it.In January, Mitsubishi Motors issued its third profits warning in nine months, and cut its sales forecasts for the year to March 2005. Its sales have slid 41\\% in the past year, catalysed by the revelation that the company had systematically been hiding records of faults and then secretly repairing vehicles. As a result, the Japanese car maker has sought a series of financial bailouts. Last month it said it was looking for a further 540bn yen (\\$5.2bn; Â£2.77bn) in fresh financial backing, half of it from other companies in the Mitsubishi group. US-German carmaker DaimlerChrylser, a 30\\% shareholder in Mitsubishi Motors, decided in April 2004 not to pump in any more money. The deal with Peugeot was celebrated by Mitsubishi's newly-appointed chief executive Takashi Nishioka, who took over after three top bosses stood down last month to shoulder responsibility for the firm's troubles. Mitsubishi Motors has forecast a net loss of 472bn yen in its current financial year to March 2005. Last month, it signed a production agreement with Japanese rival Nissan Motor to supply it with 36,000 small cars for sale in Japan. It has been making cars for Nissan since 2003. \\\\\n",
       "\t14 & business & Telegraph newspapers axe 90 jobs & The Daily and Sunday Telegraph newspapers are axing 90 journalist jobs - 17\\% of their editorial staff.The Telegraph Group says the cuts are needed to fund an Â£150m investment in new printing facilities. Journalists at the firm met on Friday afternoon to discuss how to react to the surprise announcement. The cuts come against a background of fierce competition for readers and sluggish advertising revenues amid competition from online advertising. The National Union of Journalists has called on the management to recall the notice of redundancy by midday on Monday or face a strike ballot.Pearson's Financial Times said last week it was offering voluntary redundancy to about 30 reporters.The National Union of Journalists said it stood strongly behind the journalists and did not rule out a strike. \"Managers have torn up agreed procedures and kicked staff in the teeth by sacking people to pay for printing facilities,\" said Jeremy Dear, NUJ General Secretary. NUJ official Barry Fitzpatrick said the company had ignored the 90-day consultation period required for companies planning more than 10 redundancies. \"They have shown a complete disregard for the consultative rights of our members,\" said Mr Fitzpatrick, who added that the company now planned to observe the consultation procedures. The two Telegraph titles currently employ 521 journalists.Some broadsheet newspapers - especially those which have not moved to a tabloid format - have suffered circulation declines, which are hitting revenues. The Telegraph has announced no plans to go tabloid although both The Independent and The Times have seen circulation rise since shrinking in size.The Guardian is hedging its bets, planning a larger tabloid format like those popular in continental Europe. The Telegraph Group was bought by the Barclay twins - Frederick and David - last year, having previously been owned by Lord Conrad Black's Hollinger International. The brothers are currently mulling the sale of another of their businesses, retailer Littlewoods.Telegraph executive Murdoch MacLennan said the two newspapers would add eight colour pages in the coming months.\"Journalists are the lifeblood of any newspaper, and maintaining the quality of The Daily Telegraph and The Sunday Telegraph for our readers is vital,\" he said. \"However, action to improve our production capability and secure our titles against the competition is also vital.\" Many newspapers are investing in new printing machinery that enables them to print more colour pages, or in some cases, have colour on every page. They are hoping that by boosting colour it will make their publications more attractive to advertisers and readers alike. In recent months News Corp's News International unit, which publishes The Sun and the News of the World, the Guardian Media Group, Trinity Mirror and the Daily Mail \\& General Trust have all announced substantial investments in new printing plants. \\\\\n",
       "\t15 & business & Air passengers win new EU rights & Air passengers who are unable to board their flights because of overbooking, cancellations or flight delays can now demand greater compensation.New EU rules set compensation at between 250 euros (Â£173) and 600 euros, depending on the length of the flight. The new rules will apply to all scheduled and charter flights, including budget airlines. Airlines have attacked the legislation saying they could be forced to push prices higher to cover the extra cost. The European Commission is facing two legal challenges - one from the European Low-fare Airlines Association (ELAA) and the other from the International Air Transport Association (IATA), which has attacked the package as a \"bad piece of legislation\". Previously, passengers could claim between 150 euros and 300 euros if they had been stopped from boarding.However, only scheduled flight operators were obliged to offer compensation in cases of overbooking and they did not have to offer compensation for flight cancellations.The EU decided to increase passenger compensation in a bid to deter airlines from deliberately overbooking flights. Overbooking can often lead to 'bumping' - when a passenger is moved to a later flight. When this happens against a passenger's will, airlines will now have to offer compensation. In addition, if a flight is cancelled or delayed for more than two hours through the fault of the airline, all passengers must be paid compensation.However, airlines do not have to offer compensation if flights are cancelled or delayed due to \"extraordinary circumstances\". Airlines fear that \"extraordinary circumstances\" may not include bad weather, security alerts or strikes - events which are outside of their control. All EU-based airlines and operators of flights which take off from the EU will have to adhere to the new compensation regime which came into force on Thursday. Low-cost airlines have criticised the new compensation levels, arguing that the pay-out could be worth more than the ticket. \"It's a preposterous piece of legislation, we among all airlines are fighting this,\" Ryanair deputy chief executive Michael Cawley told Radio 4's Today programme.The European Regions Airline Association (ERAA) claims that neither airlines nor consumers were consulted over the changes. Andy Clarke, ERAA director of air transport, said that the EC advice misleads customers as it leads them to believe that airlines could be liable for payouts if flights are delayed because of bad weather.EC spokeswoman Marja Quillinan-Meiland conceded there were \"grey areas\" but said \"these are not as big as the airlines are making out\". In cases of dispute, national enforcement bodies would decide whether the passenger had a case, she said. New technology means it is easier for airlines to take off and land in bad weather, she added. The ERAA's Mr Clarke also warned that while airlines would comply with the new rules, the extra costs would be passed onto passengers. \"We reckon it's going to cost European air passengers - not the airlines, the airlines have no money, it has to be paid by passengers - 1.5bn euros, that's over Â£1bn a year loaded onto European passengers,\" Mr Clarke said. \"That's basically a transfer of money from passengers whose journeys are not disrupted to passengers whose journeys are disrupted.\"On Wednesday, Jacques Barrot, vice president of the European Commission and also Commissioner for Transport, said that the changes were necessary. \"The boom in air travel needs to be accompanied by proper protection of passengers' right.\" \"This is a concrete example of how the Union benefits people's daily lives,\" he added. The EC has launched an information campaign in airports and travel agencies to inform airline passengers of their new rights. \\\\\n",
       "\t16 & business & China keeps tight rein on credit & China's efforts to stop the economy from overheating by clamping down on credit will continue into 2005, state media report.The curbs were introduced earlier this year to ward off the risk that rapid expansion might lead to soaring prices. There were also fears that too much stress might be placed on the fragile banking system. Growth in China remains at a breakneck 9.1\\%, and corporate investment is growing at more than 25\\% a year. The breakneck pace of economic expansion has kept growth above 9\\% for more than a year. Rapid tooling-up of China's manufacturing sector means a massive demand for energy - one of the factors which has kept world oil prices sky-high for most of this year. In theory, the government has a 7\\% growth target, but continues to insist that the overshoot does not mean a \"hard landing\" in the shape of an overbalancing economy. A low exchange rate - China's yuan is pegged to a rate of 8.28 to the dollar, which seems to be in relentless decline - means Chinese exports are cheap on world markets. China has thus far resisted international pressure to break the link or at least to shift the level of its peg. To some extent, the credit controls do seem to be taking effect. Industrial output grew 15.7\\% in the year to October, down from 23\\% in February, and inflation slowed to 4.3\\% - although retail sales are still booming. \\\\\n",
       "\t17 & business & Parmalat boasts doubled profits & Parmalat, the Italian food group at the centre of one of Europe's most painful corporate scandals, has reported a doubling in profit.Its pre-tax earnings in the fourth quarter were 77m euros (Â£53m; \\$100m), up from 38m in the same period of 2003. Less welcome was the news that the firm had been fined 11m euros for having violated takeover rules five years ago. The firm sought bankruptcy protection in December 2003 after disclosing a 4bn-euro hole in its accounts. Overall, the company's debt is close to 12bn euros, and is falling only slowly. Its brands, well-known in Italy and overseas, have continued to perform strongly, however, and have barely lost revenue since the scandal broke.But a crucial factor for the company's future is the legal unwinding of its intensely complex financial position. On Tuesday, the company's administrator, turnaround expert Enrico Bondi, sued Morgan Stanley, its former banker, to return 136m euros relating to a 2003 bond deal. That brought to 49 the number of banks that Mr Bondi has sued, a mass of legal action that could bring in as much as 3bn euros. The company has also sued former auditors and financial advisors for damages. And criminal cases against the company's former management are proceeding separately. \\\\\n",
       "\t18 & business & India's rupee hits five-year high & India's rupee has hit a five-year high after Standard \\& Poor's (S\\&P) raised the country's foreign currency rating.The rupee climbed to 43.305 per US dollar on Thursday, up from a close of 43.41. The currency has gained almost 1\\% in the past three sessions. S\\&P, which rates borrowers' creditworthiness, lifted India's rating by one notch to 'BB+'. With Indian assets now seen as less of a gamble, more cash is expected to flow into its markets, buoying the rupee.\"The upgrade is positive and basically people will use it as an excuse to come back to India,\" said Bhanu Baweja, a strategist at UBS. \"Money has moved out from India in the first two or three weeks of January into other markets like Korea and Thailand and this upgrade should lead to a reversal.\" India's foreign currency rating is now one notch below investment grade, which starts at 'BBB-'. The increase has put it on the same level as Romania, Egypt and El Salvador, and one level below Russia. \\\\\n",
       "\t19 & business & India widens access to telecoms & India has raised the limit for foreign direct investment in telecoms companies from 49\\% to 74\\%.Communications Minister Dayanidhi Maran said that there is a need to fund the fast-growing mobile market. The government hopes to increase the number of mobile users from 95 million to between 200 and 250 million by 2007. \"We need at least \\$20bn (Â£10.6bn) in investment and part of this has to come as foreign direct investment,\" said Mr Maran. The decision to raise the limit for foreign investors faced considerable opposition from the communist parties, which give crucial support to the coalition headed by Prime Minister Manmohan Singh. Potential foreign investors will however need government approval before they increase their stake beyond 49\\%, Mr Maran said. Key positions, such as those of chief executive, chief technology officer and chief financial officer are to be held by Indians, he added.Analysts and investors have welcomed the government decision. \"It is a positive development for carriers and the investment community, looking to take a longer-term view of the huge growth in the Indian telecoms market,\" said Gartner's principal analyst Kobita Desai. \"The FDI relaxation coupled with rapid local market growth could really ignite interest in the Indian telecommunication industry,\" added Ernst and Young's Sanjay Mehta. Investment bank Morgan Stanley has forecast that India's mobile market is likely to grow by about 40\\% a year until 2007. The Indian mobile market is currently dominated by four companies, Bharti Televentures which has allied itself with Singapore Telecom, Essar which is linked with Hong Kong-based Hutchison Whampoa, the Sterling group and the Tata group. \\\\\n",
       "\t20 & business & Call centre users 'lose patience' & Customers trying to get through to call centres are getting impatient and quicker to hang up, a survey suggests.Once past the welcome message, callers on average hang up after just 65 seconds of listening to canned music. The drop in patience comes as the number of calls to call centres is growing at a rate of 20\\% every year. \"Customers are getting used to the idea of an 'always available' society,\" says Cara Diemont of IT firm Dimension Data, which commissioned the survey. However, call centres also saw a sharp increase of customers simply abandoning calls, she says, from just over 5\\% in 2003 to a record 13.3\\% during last year. When automated phone message systems are taken out of the equation, where customers have to pick their way through multiple options and messages, the number of abandoned calls is even higher - a sixth of all callers give up rather than wait. One possible reason for the lack in patience, Ms Diemont says, is the fact that more customers are calling 'on the move' using their mobile phones.The surge in customers trying to get through to call centres is also a reflection of the centres' growing range of tasks. \"Once a call centre may have looked after mortgages, now its agents may also be responsible for credit cards, insurance and current accounts,\" Ms Diemont says. Problems are occurring because increased responsibility is not going hand-in-hand with more training, the survey found.In what Dimension Data calls an \"alarming development\", the average induction time for a call centre worker fell last year from 36 to just 21 days, leaving \"agents not equipped to deal with customers\". This, Ms Diemont warns, is \"scary\" and not good for the bottom line either. Poor training frustrates both call centre workers and customers. As a result, call centres have a high \"churn rate\", with nearly a quarter of workers throwing in the towel every year, which in turn forces companies to pay for training new staff. Resolution rates - the number of calls where a customer's query is resolved to mutual satisfaction - are running at just 50\\%. When the query is passed on to a second or third person - a specialist or manager - rates rise to about 70\\%, but that is still well below the industry target of an 85\\% resolution rate.Suggestions that \"outsourcing\" - relocating call centres to low-cost countries like India or South Africa - is to blame are wrong, Ms Diemont says.There are \"no big differences in wait time and call resolution\" between call centres based in Europe or North America and those in developing countries around the world. \"You can make call centres perform anywhere if you have good management and the right processes in place,\" she says. However, companies that decide to \"offshore\" their operations are driven not just by cost considerations. Only 42\\% of them say that saving money is the main consideration when closing domestic call centre operations. Half of them argue that workers in other countries offer better skills for the money. But not everybody believes that outsourcing and offshoring are the solution. Nearly two-thirds of all firms polled for the survey have no plans to offshore their call centres. They give three key reasons for not making the move:- call centre operations are part of their business \"core function\",- they are worried about the risk of going abroad,- they fear that they will damage their brand if they join the offshoring drive. The survey was conducted by Sunovate on behalf of Dimension Data, and is based on in-depth questionnaires of 166 call centres in 24 countries and five continents. What are your experiences with call centres? Are you happy to listen to Vivaldi or Greensleeves, or do you want an immediate response? And if you work in a call centre: did your training prepare you for your job? \\\\\n",
       "\t21 & business & Rank 'set to sell off film unit' & Leisure group Rank could unveil plans to demerge its film services unit and sell its media business, reports claim.Rank, formerly famous for the Carry On series, will expose the shake-up at the announcement of its results on Friday, the Sunday Telegraph reported. Advisors Goldman Sachs are understood to have valued its demerged Deluxe Film unit at Â£300m, the report added. Speculation of a possible shake-up has mounted since Rank announced a study into a possible demerger in September. Since Mike Smith's appointment as chief executive in 1999, the group has focused on fewer businesses and embarked on a major cost-cutting programme which has seen it dispose of a number of businesses, including the Odeon cinema chain and the Pinewood studios. The move left the group with three core divisions: gaming, Hard Rock and Deluxe Films, which provides technical services to Hollywood studios.Rank now aims to concentrate on its gaming, bars and hotels business, including extending its Hard Rock brand to its casinos - trials of which have been a success. It also owns Deluxe Media, which makes and distributes DVDs and videos. However, that business is seen as less successful. Last year it made profits of Â£21.5m on a turnover of Â£392.1m and experts suggest its success in moving to DVDs from VHS video could make it an attractive target for a private equity buyer. A spokesman for the firm refused to comment on the reports, but said any results from the demerger study were likely to be set out when it unveiled its results on Friday. Analysts predict the firm is likely to report a slight drop in annual pre-tax profits to Â£170m from Â£194m last year. Formed in the 1940s the firm was a leading UK film producer and cinema owner for many years. It has now diversified into a range of other leisure activities - mainly in the UK - including hotels, roadside service areas and holiday centres. It now owns 34 Grosvenor casinos, the Mecca Bingo chain and more than 100 Hard Rock Cafes in 38 countries. \\\\\n",
       "\t22 & business & Sluggish economy hits German jobs & The number of people out of work in Europe's largest economy has risen for the tenth straight month as growth remains stubbornly slow.German unemployment rose 7,000 in November to 4.464 million people, or 10.8\\% of the workforce. The seasonally adjusted rise showed a smaller rise than expected, as government measures to encourage job creation began to take effect. But officials said stagnant growth was still stifling the job market. \"There are clear signs of a revival in domestic demand,\" said Frank-Juergen Weise, head of the Federal Labour Agency, in a statement. \"But growth of 0.1\\%... in the third quarter is still insufficient to deliver positive momentum to the labour market.\" High oil prices and the soaring euro - which damages the competitiveness of exporters - were also having a negative effect, he said. The brunt of the unemployment is still being felt in the eastern part of Germany, where the rate is 18.8\\%.With unemployment stuck above 4 million for years, the government of Chancellor Gerhard Schroeder has put job creation at the top of the agenda. A controversial package of measures to shake up incentives to get back to work, paid for by cutting some cherished benefits, has sparked anger among some German workers. Strikes in a number of industries, notably among the country's iconic carmakers, have demonstrated the displeasure - as well as fears about further job losses as outsourcing takes hold. Among the new initiatives are the so-called \"one-euro jobs\" which top up unemployment benefit. The scheme's formal launch is January, but hirings for these positions are already taking place and affecting the unemployment statistics, economists said. \"The deterioration of the labour market does not come as a surprise,\" said Isabelle Kronawitter at Hypovereinsbank. \"Job creation measures probably prevented a stronger increase in the seasonally adjusted numbers.\" \\\\\n",
       "\t23 & business & Mixed signals from French economy & The French economy picked up speed at the end of 2004, official figures show - but still looks set to have fallen short of the government's hopes.According to state statistics body INSEE, growth for the three months to December was a seasonally-adjusted 0.7-0.8\\%, ahead of the 0.6\\% forecast. If confirmed, that would be the best quarterly showing since early 2002. It leaves GDP up 2.3\\% for the full year, but short of the 2.5\\% which the French government had predicted.Despite the apparent shortfall in annual economic growth, the good quarterly figures - a so-called \"flash estimate\" - mark a continuing trend of improving indicators for the health of the French economy. The government is reiterating a 2.5\\% target for 2005, while the European Central Bank is making positive noises for the 12-nation eurozone as a whole. Also on Friday, France's industrial output for December was released, showing 0.7\\% growth. \"The numbers are good,\" said David Naude, economist at Deutsche Bank. \"They send a positive signal of a rebound in output... and open the way for a continuation in that trend into the New Year.\" Service sector activity improved in January, hitting a seven-month high. But unemployment remains high at about 10\\%. \\\\\n",
       "\t24 & business & US trade gap hits record in 2004 & The gap between US exports and imports hit an all-time high of \\$671.7bn (Â£484bn) in 2004, latest figures show.The Commerce Department said the trade deficit for all of last year was 24.4\\% above the previous record - 2003's imbalance of \\$496.5bn. The deficit with China, up 30.5\\% at \\$162bn, was the largest ever recorded with a single country. However, on a monthly basis the US trade gap narrowed by 4.9\\% in December to Â£56.4bn. The US consumer's appetite for all things from oil to imported cars, and even wine and cheese, reached record levels last year and the figures are likely to spark fresh criticism of President Bush's economic policies.Democrats claim the administration has not done enough to clamp down on unfair foreign trade practices. For example, they believe China's currency policy - which US manufacturers claim has undervalued the yuan by as much as 40\\% - has given China's rapidly expanding economy an unfair advantage against US competitors.Meanwhile, the Bush administration argues that the US deficit reflects the fact the America is growing at faster rate than the rest of the world, spurring on more demand for imported goods. Some economists say this may allow an upward revision of US economic growth in the fourth quarter. But others point out that the deficit has reached such astronomical proportions that foreigners many choose not to hold as many dollar-denominated assets, which may in turn harm growth. For all of 2004, US exports rose 12.3\\% to \\$1.15 trillion, but imports rose even faster by 16.3\\% to a new record of \\$1.76 trillion. Foreign oil exports surged by 35.7\\% to a record \\$180.7bn, reflecting the rally in global oil prices and increasing domestic demand. Imports were not affected by the dollar's weakness last year. \"We expect the deficit to continue to widen in 2005 even if the dollar gets back to its downward trend,\" said economist Marie-Pierre Ripert at IXIS. \\\\\n",
       "\t25 & business & Yukos loses US bankruptcy battle & A judge has dismissed an attempt by Russian oil giant Yukos to gain bankruptcy protection in the US.Yukos filed for Chapter 11 protection in Houston in an unsuccessful attempt to halt the auction of its Yugansk division by the Russian authorities. The court ruling is a blow to efforts to get damages for the sale of Yugansk, which Yukos claims was illegally sold. Separately, former Yukos boss Mikhail Khodorkovsky began testimony on Friday in his trial for fraud and tax evasion.Mr Khodorkovsky - who has been in jail for more than a year - pleaded not guilty to the charges brought against him and denied involvement in any criminal activities. \"I pride myself on heading for 15 years a number of successful companies and helping other enterprises rise from their knees,\" he told a Russian court.Yugansk was auctioned to help pay off \\$27.5bn (Â£14.5bn) in unpaid taxes. It was bought for \\$9.4bn by a previously-unknown group, which was in turn bought up almost immediately by state-controlled oil company Rosneft.Texas Judge Letitia Clark said Yukos did not have enough of a US presence to establish US jurisdiction. \"The vast majority of the business and financial activities of Yukos continue to occur in Russia,\" Judge Clark said in her ruling. \"Such activities require the continued participation of the Russian government.\" Yukos had argued that a US court was entitled to declare it bankrupt before its Yugansk unit was sold, since it has local bank accounts and its chief finance officer Bruce Misamore lives in Houston. Yukos claimed it sought help in the US because other forums - Russian courts and the European Court of Human Rights - were either unfriendly or offered less protection. Russia had indicated it would in any case not abide by the rulings of the US courts.In her ruling, the judge acknowledged that \"it appears likely that agencies of the Russian government have acted in a manner that would be considered confiscatory under United States law\". But she said her role was simply to decide on jurisdiction. The US court's jurisdiction had been challenged by Deutsche Bank and Gazpromneft, a former unit of Russian gas monopoly Gazprom which is due to merge with Rosneft. Analysts said the ability of Gazprom and Rosneft to trade freely overseas had been stifled while the ownership of Yugansk remained unclear.Yukos said it would consider its options in light of the ruling. However, it claimed that the court had backed its argument in four out of five key issues. \"We believe the merits of our case are strong and simple,\" said chief executive Steven Theede. \"Our assets were illegally seized. We want them back or damages paid.\" \\\\\n",
       "\t26 & business & Safety alert as GM recalls cars & The world's biggest carmaker General Motors (GM) is recalling nearly 200,000 vehicles in the US on safety grounds, according to federal regulators.The National Highway Traffic Safety Administration (NHTSA) said the largest recall involves 155,465 pickups, vans and sports utility vehicles (SUVs). This is because of possible malfunctions with the braking systems. The affected vehicles in the product recall are from the 2004 and 2005 model years, GM said. Those vehicles with potential faults are the Chevrolet Avalanche, Express, Kodiak, Silverade and Suburban; the GMC Savana, Sierra and Yukon.The NHTSA said a pressure accumulator in the braking system could crack during normal driving and fragments could injure people if the hood was open. This could allow hydraulic fluid to leak, which could make it harder to brake or steer and could cause a crash, it warned. GM is also recalling 19,924 Cadillac XLR coupes, SRX SUVs and Pontiac Grand Prix sedans from the 2004 model year. This is because the accelerator pedal may not work properly in extremely cold temperatures, requiring more braking. In addition, the car giant is calling back 17,815 Buick Raniers, Chevrolet Trailblazers, GMC Envoys and Isuzu Ascenders from the 2005 model years because the windshield is not properly fitted and could fall out in a crash. However, GM stressed that it did not know of any injuries related to the problems. News of the recall follows an announcement last month that GM expects earnings this year be lower than in 2004. The world's biggest car maker is grappling with losses in its European business, weak US sales and now a product recall. In January, GM said higher healthcare costs in North America, and lower profits at its financial services subsidiary would hurt its performance in 2005. \\\\\n",
       "\t27 & business & Steel firm 'to cut' 45,000 jobs & Mittal Steel, one of the world's largest steel producers, could cut up to 45,000 jobs over the next five years, its chief executive has said.The Netherlands-based company is due to complete its \\$4.5bn acquisition of US firm ISG next month, making it one of the largest global firms of its kind. However, Lakshmi Mittal has told investors the combined company will have to shed thousands of jobs. The Indian-born magnate did not say where the job losses would fall.Mr Mittal told US investors that once the acquisition of International Steel Group was completed, the company would aim to reduce its workforce by between 7,000 and 8,000 annually. This could see its workforce trimmed from 155,000 to 110,000 staff by 2010. \"We are investing in modernisation so employees will go down,\" Mr Mittal told the conference in Chicago.Mittal Steel was formed last year when Mr Mittal's LNM Holdings merged with Dutch firm Ispat. A combination of Mittal Steel and ISG would have annual sales of \\$32bn (Â£16.7bn; 24.1bn euros) and a production capacity of 70 million tonnes.A Mittal Steel spokeman said that no decisions on job cuts have been made yet. \"We are trying to create a sustainable steel industry and if we want to do that, we have to invest in new technology,\" a spokesman said. Mittal Steel has operations in 14 countries. Many of its businesses - particularly those in eastern Europe - were previously state owned and have huge workforces. It employs 50,000 staff in Kazakhstan alone, and has large operations in Romania, the Czech Republic, South Africa and the United States. \\\\\n",
       "\t28 & business & Strong demand triggers oil rally & Crude oil prices surged back above the \\$47 a barrel mark on Thursday after an energy market watchdog raised its forecasts for global demand.The International Energy Agency (IEA) warned demand for Opec's crude in the first quarter would outstrip supply. The IEA raised its estimate of 2005 oil demand growth by 80,000 barrels a day to 84 million barrels a day. US light crude rose \\$1.64 to \\$47.10, while Brent crude in London gained \\$1.32 to \\$44.45.The Paris-based IEA watchdog, which advises industrialized nations on energy policy, said the upward revision was due to stronger demand from China and other Asian countries. The fresh rally in crude prices followed gains on Wednesday which were triggered by large falls in US crude supplies following a cold spell in North America in January. The US Department of Energy reported that crude stockpiles had fallen 1m barrels to 294.3m. On top of that, ongoing problems for beleaguered Russian oil giant Yukos have also prompted the IEA to revise its output estimates from Russia - a major non-Opec supplier. \"I think that prices are now beginning to set a new range and it looks like the \\$40 to \\$50 level,\" said energy analyst Orin Middleton of Barclays Capital. \\\\\n",
       "\t29 & business & UK firm faces Venezuelan land row & Venezuelan authorities have said they will seize land owned by a British company as part of President Chavez's agrarian reform programme.Officials in Cojedes state said on Friday that farmland owned by a subsidiary of the Vestey Group would be taken and used to settle poor farmers. The government is cracking down on so-called latifundios, or large rural estates, which it says are lying idle. The Vestey Group said it had not been informed of any planned seizure.The firm, whose Agroflora subsidiary operates 13 farms in Venezuela, insisted that it had complied fully with Venezuelan law. Prosecutors in the south of the country have targeted Hato El Charcote, a beef cattle ranch owned by Agroflora. According to Reuters, they plan to seize 12,900 acres (5,200 hectares) from the 32,000 acre (13,000 hectare) farm.Officials claim that Agroflora does not possess valid documents proving its ownership of the land in question. They also allege that areas of the ranch are not being used for any form of active production. \"The legal boundaries did not match up with the actual boundaries and there is surplus,\" state prosecutor Alexis Ortiz told Reuters. \"As a consequence the government has taken action.\"Controversial reforms passed in 2001 give the government the right to take control of private property if it is declared idle or ownership cannot be traced back to the 19th Century.Critics say the powers - which President Chavez argues are needed to help the country's poorest citizens and develop the Venezuelan economy - trample all over private property rights. The Vestey Group said it had owned the land since 1920 and would co-operate fully with the authorities. But a spokesman added: \"Agroflora is absolutely confident that what it has submitted will demonstrate the legality of its title to the land.\" The company pointed out that the farm, which employs 300 workers, provides meat solely for the Venezuelan market.Last month, the government said it had identified more than 500 idle farms and had yet to consider the status of a further 40,000. The authorities said landowners whose titles were in order and whose farms were productive had \"nothing to fear\". Under President Chavez, the Venezuelan government has steadily expanded the state's involvement in the country's economy. It recently said all mining contracts involving foreign firms would be examined to ensure they provided sufficient economic benefits to the state. \\\\\n",
       "\t30 & business & Soaring oil 'hits world economy' & The soaring cost of oil has hit global economic growth, although world's major economies should weather the storm of price rises, according to the OECD.In its latest bi-annual report, the OECD cut its growth predictions for the world's main industrialised regions. US growth would reach 4.4\\% in 2004, but fall to 3.3\\% next year from a previous estimate of 3.7\\%, the OECD said. However, the Paris-based economics think tank said it believed the global economy could still regain momentum.Forecasts for Japanese growth were also scaled back to 4.0\\% from 4.4\\% this year and 2.1\\% from 2.8\\% in 2005. But the outlook was worst for the 12-member eurozone bloc, with already sluggish growth forecasts slipping to 1.8\\% from 2.0\\% this year and 1.9\\% from 2.4\\% in 2005, the OECD said. Overall, the report forecast total growth of 3.6\\% in 2004 for the 30 member countries of the OECD, slipping to 2.9\\% next year before recovering to 3.1\\% in 2006. \"There are nonetheless good reasons to believe that despite recent oil price turbulence the world economy will regain momentum in a not-too-distant future,\" said Jean-Philippe Cotis, the OECD's chief economist. The price of crude is about 50\\% higher than it was at the start of 2004, but down on the record high of \\$55.67 set in late October.A dip in oil prices and improving jobs prospects would improve consumer confidence and spending, the OECD said. \"The oil shock is not enormous by historical standards - we have seen worse in the seventies. If the oil price does not rise any further, then we think the shock can be absorbed within the next few quarters,\" Vincent Koen, a senior economist with the OECD, told the BBC's World Business Report. \"The recovery that was underway, and has been interrupted a bit by the oil shock this year, would then regain momentum in the course of 2005.\" China's booming economy and a \"spectacular comeback\" in Japan - albeit one that has faltered in recent months - would help world economic recovery, the OECD said. \"Supported by strong balance sheets and high profits, the recovery of business investment should continue in North America and start in earnest in Europe,\" it added. However, the report warned: \"It remains to be seen whether continental Europe will play a strong supportive role through a marked upswing of final domestic demand.\" The OECD highlighted current depressed household expenditure in Germany and the eurozone's over-reliance on export-led growth. \\\\\n",
       "\t$\\dots$ & $\\dots$ & $\\dots$ & $\\dots$ \\\\\n",
       "\\end{tabular}\n"
      ],
      "text/plain": [
       "\u001b[1m2225×3 DataFrame\u001b[0m\n",
       "\u001b[1m  Row \u001b[0m│\u001b[1m topic    \u001b[0m\u001b[1m heading                           \u001b[0m\u001b[1m body                     \u001b[0m ⋯\n",
       "\u001b[1m      \u001b[0m│\u001b[90m String   \u001b[0m\u001b[90m String                            \u001b[0m\u001b[90m String                   \u001b[0m ⋯\n",
       "──────┼─────────────────────────────────────────────────────────────────────────\n",
       "    1 │ business  Ad sales boost Time Warner profit  Quarterly profits at US m ⋯\n",
       "    2 │ business  Dollar gains on Greenspan speech   The dollar has hit its hi\n",
       "    3 │ business  Yukos unit buyer faces loan claim  The owners of embattled R\n",
       "    4 │ business  High fuel prices hit BA's profits  British Airways has blame\n",
       "    5 │ business  Pernod takeover talk lifts Domecq  Shares in UK drinks and f ⋯\n",
       "    6 │ business  Japan narrowly escapes recession   Japan's economy teetered\n",
       "    7 │ business  Jobs growth still slow in the US   The US created fewer jobs\n",
       "    8 │ business  India calls for fair trade rules   India, which attends the\n",
       "    9 │ business  Ethiopia's crop production up 24%  Ethiopia produced 14.27 m ⋯\n",
       "   10 │ business  Court rejects $280bn tobacco case  A US government claim acc\n",
       "   11 │ business  Ask Jeeves tips online ad revival  Ask Jeeves has become the\n",
       "  ⋮   │    ⋮                      ⋮                                  ⋮         ⋱\n",
       " 2216 │ tech      Broadband fuels online expression  Fast web access is encour\n",
       " 2217 │ tech      Savvy searchers fail to spot ads   Internet search engine us ⋯\n",
       " 2218 │ tech      TV's future down the phone line    Internet TV has been talk\n",
       " 2219 │ tech      Cebit fever takes over Hanover     Thousands of products and\n",
       " 2220 │ tech      New consoles promise big problems  Making games for future c\n",
       " 2221 │ tech      BT program to beat dialler scams   BT is introducing two ini ⋯\n",
       " 2222 │ tech      Spam e-mails tempt net shoppers    Computer users across the\n",
       " 2223 │ tech      Be careful how you code            A new European directive\n",
       " 2224 │ tech      US cyber security chief resigns    The man making sure US co\n",
       " 2225 │ tech      Losing yourself in online gaming   Online role playing games ⋯\n",
       "\u001b[36m                                                  1 column and 2204 rows omitted\u001b[0m"
      ]
     },
     "execution_count": 11,
     "metadata": {},
     "output_type": "execute_result"
    }
   ],
   "source": [
    "docs = DataFrame(topic = [String(x[1]) for x in doc_list], heading = [String(x[2]) for x in doc_list], body = [String(x[3]) for x in doc_list])"
   ]
  },
  {
   "cell_type": "markdown",
   "metadata": {
    "slideshow": {
     "slide_type": "slide"
    }
   },
   "source": [
    "### Inspect results"
   ]
  },
  {
   "cell_type": "code",
   "execution_count": 12,
   "metadata": {
    "ExecuteTime": {
     "end_time": "2020-06-20T17:16:30.306729Z",
     "start_time": "2020-06-20T17:16:30.291413Z"
    },
    "scrolled": true,
    "slideshow": {
     "slide_type": "fragment"
    }
   },
   "outputs": [
    {
     "data": {
      "text/html": [
       "<div class=\"data-frame\"><p>5 rows × 3 columns</p><table class=\"data-frame\"><thead><tr><th></th><th>topic</th><th>heading</th><th>body</th></tr><tr><th></th><th title=\"String\">String</th><th title=\"String\">String</th><th title=\"String\">String</th></tr></thead><tbody><tr><th>1</th><td>sport</td><td>O&apos;Connor aims to grab opportunity</td><td>Johnny O&apos;Connor is determined to make a big impression when he makes his RBS Six Nations debut for Ireland against Scotland on Saturday.The Wasps flanker replaces Denis Leamy but O&apos;Connor knows that the Munster man will be pushing hard for a recall for the following game against England. &quot;It&apos;s a &apos;horses for courses&apos; selection really,&quot; said O&apos;Connor. &quot;There&apos;s a lot of competition here and I can&apos;t just drag my heels around if I don&apos;t get picked.&quot; It looks a definite head-to-head battle between himself and 23-year-old Leamy - three stone heavier than O&apos;Connor - for the number seven role against the world champions. Nonetheless, all O&apos;Connor is currently concerned about is making an impression while winning his third cap.&quot;Missing the Italian game was disappointing certainly, but you can&apos;t dwell on these things - it&apos;s part and parcel of rugby. &quot;Denis has been playing really well and deserved his opportunity. &quot;It&apos;s a good situation to be in if there are good players around you, pushing for a place in the side.&quot; O&apos;Connor, who celebrated his 25th birthday on Wednesday, was touted by Wasps director of rugby Warren Gatland as a possible 2005 Lions Test openside as far back as last September. And his reputation as a breakdown scavenger and heavy hitter has seen him come to the forefront of O&apos;Sullivan&apos;s mind for the Scottish tussle. O&apos;Connor added: &quot;It will be interesting to see how situations on the deck is reffed, with the new laws having come in.&quot;Obviously the breakdown a big part of what I do on the pitch so I&apos;m hoping to hold some influence there against what is a very solid Scottish pack.&quot; O&apos;Connor will be winning his third cap after making his debut in the victory over South Africa last November.</td></tr><tr><th>2</th><td>business</td><td>GM in crunch talks on Fiat future</td><td>Fiat will meet car giant General Motors (GM) on Tuesday in an attempt to reach agreement over the future of the Italian firm&apos;s loss-making auto group.Fiat claims that GM is legally obliged to buy the 90% of the car unit it does not already own; GM says the contract, signed in 2000, is no longer valid. Press reports have speculated that Fiat may be willing to accept a cash payment in return for dropping its claim. Both companies want to cut costs as the car industry adjusts to waning demand.The meeting between Fiat boss Sergio Marchionne and GM&apos;s Rick Wagoner is due to take place at 1330 GMT in Zurich, according to the Reuters news agency.Mr Marchionne is confident of his firm&apos;s legal position, saying in an interview with the Financial Times that GM&apos;s argument &quot;has no legs&quot;. The agreement in question dates back to GM&apos;s decision to buy 20% of Fiat&apos;s auto division in 2000. At the time, it gave the Italian firm the right, via a &apos;put option&apos;, to sell the remaining stake to GM. In recent weeks, Fiat has reiterated its claims that this &apos;put&apos; is still valid and legally binding. However, GM argues that a Fiat share sale made last year, which cut GM&apos;s holding to 10%, together with asset sales made by Fiat have terminated the agreement.Selling the Fiat&apos;s car-making unit may not prove so simple, analysts say, especially as it is a company that is so closely linked to Italy&apos;s industrial heritage. Political and public pressure may well push the two firms to reach a compromise. &quot;We are not expecting Fiat to exercise its put of the auto business against an unwilling GM at this point,&quot; brokerage Merrill Lynch said in a note to investors, adding that any legal battle would be protracted and damaging to the business. &quot;As far as we are aware, the Agnelli family, which indirectly controls at least 30% of Fiat, has not given a firm public indication that it wants to sell the auto business. &quot;Fiat may be willing to cancel the &apos;put&apos; in exchange for money.&quot;</td></tr><tr><th>3</th><td>tech</td><td>IBM puts cash behind Linux push</td><td>IBM is spending $100m (Â£52m) over the next three years beefing up its commitment to Linux software.The cash injection will be used to help its customers use Linux on every type of device from handheld computers and phones right up to powerful servers. IBM said the money will fund a variety of technical, research and marketing initiatives to boost Linux use. IBM said it had taken the step in response to greater customer demand for the open source software.In 2004 IBM said it had seen double digit growth in the number of customers using Linux to help staff work together more closely. The money will be used to help this push towards greater collaboration and will add Linux-based elements to IBM&apos;s Workplace software. Workplace is a suite of programs and tools that allow workers to get at core business applications no matter what device they use to connect to corporate networks. One of the main focuses of the initiative will be to make it easier to use Linux-based desktop computers and mobile devices with Workplace. Even before IBM announced this latest spending boost it was one of the biggest advocates of the open source way of working. In 2001 it put $300m into a three-year Linux program and has produced Linux versions of many of its programs. Linux and the open source software movement are based on the premise that developers should be free to tinker with the core components of software programs. They reason that more open scrutiny of software produces better programs and fuels innovation.</td></tr><tr><th>4</th><td>business</td><td>Yukos owner sues Russia for $28bn</td><td>The majority owner of embattled Russian oil firm Yukos has sued the Russian government for $28.3bn (Â£15.2bn).The Kremlin last year seized and sold Yukos&apos; main production arm, Yugansk, to state-run oil group Rosneft for $9.3bn to offset a massive back tax bill. Group Menatep, the Gibraltar-based holding company which controls 51% of Yukos, says this was illegal. Menatep has already asked Rosneft to repay a $900m loan that Yugansk had secured on its assets.The Russian government&apos;s argument for selling Yuganskneftegaz - the unit&apos;s full name - was that Yukos owed more than $27bn in back taxes for the years from 2000 onwards. It accused the firm of using a web of offshore firms to avoid its tax liabilities, and the courts sent in bailiffs to freeze Yukos accounts and seize Yugansk.But critics say the sell-off, and the assault on Yukos&apos; finances, are part of an attempt to bring the energy industry back under state control. According to Menatep, the government&apos;s actions were contrary to the 1994 Energy Charter Treaty, which was designed to regulate disagreements over energy investments. &quot;We have warned the Russian government about their continuing attacks against Yukos, its personnel and its shareholders and we have warned any buyer of Yuganskneftegaz that they would face a lifetime of litigation,&quot; said Tim Osborne, a director of Group Menatep. &quot;The time for warning is over and actions to recover the value of our losses begin in earnest today.&quot;Menatep said the value of its Yukos shareholding had gone from $17.8bn to &quot;virtually nothing&quot; since 2003 as a result of the Russian government&apos;s action, as its shares have fallen 97%. According to its Paris lawyer, Emmanuel Gaillard of Shearman and Sterling, the overall claim is based on that figure, with a 60% addition for the share gains that could have accrued since then. Arbitration of the lawsuit could take place in Stockholm or The Hague, Mr Gaillard said. While Russia has signed the Charter, it has never ratified it - which some experts say could make it difficult for Menatep to press its case. But Mr Gaillard told BBC News that the Charter came into effect on signature, not ratification. &quot;Russia has said in the past that it is bound by it, so as to attract foreign investors,&quot; he said.Yukos is still waiting to see what will happen to its filing in a US court for bankruptcy protection. It took the action to try to prevent the forced sale of Yugansk - first to a little-known shell company, which in turn was bought by Rosneft. Yukos claims its downfall was punishment for the political ambitions of its founder Mikhail Khodorkovsky. Mr Khodorkovsky, currently facing fraud and tax evasion charges of his own, was one of the founders of Menatep. He has since signed over his shareholding to one of his fellow investors.</td></tr><tr><th>5</th><td>sport</td><td>Bristol City 2-1 Milton Keynes</td><td>Leroy Lita took his goal tally to 13 for the season as his double earned City an LDV Vans Trophy win.The striker finished off Scott Murray cross from close range just seconds before half-time. Lita then made it 2-0 on 52 minutes, but Dons&apos; substitute Serge Makofo then netted a great volley to make it 2-1. The visitors almost took the tie to extra time with a late 30-yard bullet from Richard Johnson which was well held by Steve Phillips.Phillips, Amankwaah, Coles, Hill, Fortune, Murray (Anyinsah 59), Doherty (Harley 45), Dinning, Bell, Lita (Cotterill 72), Gillespie. Subs Not Used: Orr, Brown.Hill.Lita 45, 52.Bevan, Oyedele, Ntimban-Zeh, Crooks, Puncheon, Kamara (Makofo 64), Chorley, Herve (McKoy 45), Tapp (Johnson 45), Mackie, Pacquette. Subs Not Used: Martin, Palmer.Pacquette, Chorley, Johnson, McKoy.Makofo 66.3,367J Ross (Essex).</td></tr></tbody></table></div>"
      ],
      "text/latex": [
       "\\begin{tabular}{r|ccc}\n",
       "\t& topic & heading & body\\\\\n",
       "\t\\hline\n",
       "\t& String & String & String\\\\\n",
       "\t\\hline\n",
       "\t1 & sport & O'Connor aims to grab opportunity & Johnny O'Connor is determined to make a big impression when he makes his RBS Six Nations debut for Ireland against Scotland on Saturday.The Wasps flanker replaces Denis Leamy but O'Connor knows that the Munster man will be pushing hard for a recall for the following game against England. \"It's a 'horses for courses' selection really,\" said O'Connor. \"There's a lot of competition here and I can't just drag my heels around if I don't get picked.\" It looks a definite head-to-head battle between himself and 23-year-old Leamy - three stone heavier than O'Connor - for the number seven role against the world champions. Nonetheless, all O'Connor is currently concerned about is making an impression while winning his third cap.\"Missing the Italian game was disappointing certainly, but you can't dwell on these things - it's part and parcel of rugby. \"Denis has been playing really well and deserved his opportunity. \"It's a good situation to be in if there are good players around you, pushing for a place in the side.\" O'Connor, who celebrated his 25th birthday on Wednesday, was touted by Wasps director of rugby Warren Gatland as a possible 2005 Lions Test openside as far back as last September. And his reputation as a breakdown scavenger and heavy hitter has seen him come to the forefront of O'Sullivan's mind for the Scottish tussle. O'Connor added: \"It will be interesting to see how situations on the deck is reffed, with the new laws having come in.\"Obviously the breakdown a big part of what I do on the pitch so I'm hoping to hold some influence there against what is a very solid Scottish pack.\" O'Connor will be winning his third cap after making his debut in the victory over South Africa last November. \\\\\n",
       "\t2 & business & GM in crunch talks on Fiat future & Fiat will meet car giant General Motors (GM) on Tuesday in an attempt to reach agreement over the future of the Italian firm's loss-making auto group.Fiat claims that GM is legally obliged to buy the 90\\% of the car unit it does not already own; GM says the contract, signed in 2000, is no longer valid. Press reports have speculated that Fiat may be willing to accept a cash payment in return for dropping its claim. Both companies want to cut costs as the car industry adjusts to waning demand.The meeting between Fiat boss Sergio Marchionne and GM's Rick Wagoner is due to take place at 1330 GMT in Zurich, according to the Reuters news agency.Mr Marchionne is confident of his firm's legal position, saying in an interview with the Financial Times that GM's argument \"has no legs\". The agreement in question dates back to GM's decision to buy 20\\% of Fiat's auto division in 2000. At the time, it gave the Italian firm the right, via a 'put option', to sell the remaining stake to GM. In recent weeks, Fiat has reiterated its claims that this 'put' is still valid and legally binding. However, GM argues that a Fiat share sale made last year, which cut GM's holding to 10\\%, together with asset sales made by Fiat have terminated the agreement.Selling the Fiat's car-making unit may not prove so simple, analysts say, especially as it is a company that is so closely linked to Italy's industrial heritage. Political and public pressure may well push the two firms to reach a compromise. \"We are not expecting Fiat to exercise its put of the auto business against an unwilling GM at this point,\" brokerage Merrill Lynch said in a note to investors, adding that any legal battle would be protracted and damaging to the business. \"As far as we are aware, the Agnelli family, which indirectly controls at least 30\\% of Fiat, has not given a firm public indication that it wants to sell the auto business. \"Fiat may be willing to cancel the 'put' in exchange for money.\" \\\\\n",
       "\t3 & tech & IBM puts cash behind Linux push & IBM is spending \\$100m (Â£52m) over the next three years beefing up its commitment to Linux software.The cash injection will be used to help its customers use Linux on every type of device from handheld computers and phones right up to powerful servers. IBM said the money will fund a variety of technical, research and marketing initiatives to boost Linux use. IBM said it had taken the step in response to greater customer demand for the open source software.In 2004 IBM said it had seen double digit growth in the number of customers using Linux to help staff work together more closely. The money will be used to help this push towards greater collaboration and will add Linux-based elements to IBM's Workplace software. Workplace is a suite of programs and tools that allow workers to get at core business applications no matter what device they use to connect to corporate networks. One of the main focuses of the initiative will be to make it easier to use Linux-based desktop computers and mobile devices with Workplace. Even before IBM announced this latest spending boost it was one of the biggest advocates of the open source way of working. In 2001 it put \\$300m into a three-year Linux program and has produced Linux versions of many of its programs. Linux and the open source software movement are based on the premise that developers should be free to tinker with the core components of software programs. They reason that more open scrutiny of software produces better programs and fuels innovation. \\\\\n",
       "\t4 & business & Yukos owner sues Russia for \\$28bn & The majority owner of embattled Russian oil firm Yukos has sued the Russian government for \\$28.3bn (Â£15.2bn).The Kremlin last year seized and sold Yukos' main production arm, Yugansk, to state-run oil group Rosneft for \\$9.3bn to offset a massive back tax bill. Group Menatep, the Gibraltar-based holding company which controls 51\\% of Yukos, says this was illegal. Menatep has already asked Rosneft to repay a \\$900m loan that Yugansk had secured on its assets.The Russian government's argument for selling Yuganskneftegaz - the unit's full name - was that Yukos owed more than \\$27bn in back taxes for the years from 2000 onwards. It accused the firm of using a web of offshore firms to avoid its tax liabilities, and the courts sent in bailiffs to freeze Yukos accounts and seize Yugansk.But critics say the sell-off, and the assault on Yukos' finances, are part of an attempt to bring the energy industry back under state control. According to Menatep, the government's actions were contrary to the 1994 Energy Charter Treaty, which was designed to regulate disagreements over energy investments. \"We have warned the Russian government about their continuing attacks against Yukos, its personnel and its shareholders and we have warned any buyer of Yuganskneftegaz that they would face a lifetime of litigation,\" said Tim Osborne, a director of Group Menatep. \"The time for warning is over and actions to recover the value of our losses begin in earnest today.\"Menatep said the value of its Yukos shareholding had gone from \\$17.8bn to \"virtually nothing\" since 2003 as a result of the Russian government's action, as its shares have fallen 97\\%. According to its Paris lawyer, Emmanuel Gaillard of Shearman and Sterling, the overall claim is based on that figure, with a 60\\% addition for the share gains that could have accrued since then. Arbitration of the lawsuit could take place in Stockholm or The Hague, Mr Gaillard said. While Russia has signed the Charter, it has never ratified it - which some experts say could make it difficult for Menatep to press its case. But Mr Gaillard told BBC News that the Charter came into effect on signature, not ratification. \"Russia has said in the past that it is bound by it, so as to attract foreign investors,\" he said.Yukos is still waiting to see what will happen to its filing in a US court for bankruptcy protection. It took the action to try to prevent the forced sale of Yugansk - first to a little-known shell company, which in turn was bought by Rosneft. Yukos claims its downfall was punishment for the political ambitions of its founder Mikhail Khodorkovsky. Mr Khodorkovsky, currently facing fraud and tax evasion charges of his own, was one of the founders of Menatep. He has since signed over his shareholding to one of his fellow investors. \\\\\n",
       "\t5 & sport & Bristol City 2-1 Milton Keynes & Leroy Lita took his goal tally to 13 for the season as his double earned City an LDV Vans Trophy win.The striker finished off Scott Murray cross from close range just seconds before half-time. Lita then made it 2-0 on 52 minutes, but Dons' substitute Serge Makofo then netted a great volley to make it 2-1. The visitors almost took the tie to extra time with a late 30-yard bullet from Richard Johnson which was well held by Steve Phillips.Phillips, Amankwaah, Coles, Hill, Fortune, Murray (Anyinsah 59), Doherty (Harley 45), Dinning, Bell, Lita (Cotterill 72), Gillespie. Subs Not Used: Orr, Brown.Hill.Lita 45, 52.Bevan, Oyedele, Ntimban-Zeh, Crooks, Puncheon, Kamara (Makofo 64), Chorley, Herve (McKoy 45), Tapp (Johnson 45), Mackie, Pacquette. Subs Not Used: Martin, Palmer.Pacquette, Chorley, Johnson, McKoy.Makofo 66.3,367J Ross (Essex). \\\\\n",
       "\\end{tabular}\n"
      ],
      "text/plain": [
       "\u001b[1m5×3 DataFrame\u001b[0m\n",
       "\u001b[1m Row \u001b[0m│\u001b[1m topic    \u001b[0m\u001b[1m heading                           \u001b[0m\u001b[1m body                      \u001b[0m ⋯\n",
       "\u001b[1m     \u001b[0m│\u001b[90m String   \u001b[0m\u001b[90m String                            \u001b[0m\u001b[90m String                    \u001b[0m ⋯\n",
       "─────┼──────────────────────────────────────────────────────────────────────────\n",
       "   1 │ sport     O'Connor aims to grab opportunity  Johnny O'Connor is determi ⋯\n",
       "   2 │ business  GM in crunch talks on Fiat future  Fiat will meet car giant G\n",
       "   3 │ tech      IBM puts cash behind Linux push    IBM is spending $100m (Â£5\n",
       "   4 │ business  Yukos owner sues Russia for $28bn  The majority owner of emba\n",
       "   5 │ sport     Bristol City 2-1 Milton Keynes     Leroy Lita took his goal t ⋯\n",
       "\u001b[36m                                                                1 column omitted\u001b[0m"
      ]
     },
     "execution_count": 12,
     "metadata": {},
     "output_type": "execute_result"
    }
   ],
   "source": [
    "using Random\n",
    "\n",
    "article = docs[shuffle(1:nrow(docs))[1:5], :]"
   ]
  },
  {
   "cell_type": "markdown",
   "metadata": {
    "slideshow": {
     "slide_type": "slide"
    }
   },
   "source": [
    "### Data drawn from 5 different categories"
   ]
  },
  {
   "cell_type": "code",
   "execution_count": 13,
   "metadata": {
    "ExecuteTime": {
     "end_time": "2020-06-20T17:16:30.361820Z",
     "start_time": "2020-06-20T17:16:30.307628Z"
    },
    "slideshow": {
     "slide_type": "fragment"
    }
   },
   "outputs": [
    {
     "data": {
      "text/html": [
       "<div class=\"data-frame\"><p>5 rows × 3 columns</p><table class=\"data-frame\"><thead><tr><th></th><th>topic</th><th>count</th><th>count_percentage</th></tr><tr><th></th><th title=\"String\">String</th><th title=\"Int64\">Int64</th><th title=\"Float64\">Float64</th></tr></thead><tbody><tr><th>1</th><td>business</td><td>510</td><td>22.9213</td></tr><tr><th>2</th><td>entertainment</td><td>386</td><td>17.3483</td></tr><tr><th>3</th><td>politics</td><td>417</td><td>18.7416</td></tr><tr><th>4</th><td>sport</td><td>511</td><td>22.9663</td></tr><tr><th>5</th><td>tech</td><td>401</td><td>18.0225</td></tr></tbody></table></div>"
      ],
      "text/latex": [
       "\\begin{tabular}{r|ccc}\n",
       "\t& topic & count & count\\_percentage\\\\\n",
       "\t\\hline\n",
       "\t& String & Int64 & Float64\\\\\n",
       "\t\\hline\n",
       "\t1 & business & 510 & 22.9213 \\\\\n",
       "\t2 & entertainment & 386 & 17.3483 \\\\\n",
       "\t3 & politics & 417 & 18.7416 \\\\\n",
       "\t4 & sport & 511 & 22.9663 \\\\\n",
       "\t5 & tech & 401 & 18.0225 \\\\\n",
       "\\end{tabular}\n"
      ],
      "text/plain": [
       "\u001b[1m5×3 DataFrame\u001b[0m\n",
       "\u001b[1m Row \u001b[0m│\u001b[1m topic         \u001b[0m\u001b[1m count \u001b[0m\u001b[1m count_percentage \u001b[0m\n",
       "\u001b[1m     \u001b[0m│\u001b[90m String        \u001b[0m\u001b[90m Int64 \u001b[0m\u001b[90m Float64          \u001b[0m\n",
       "─────┼────────────────────────────────────────\n",
       "   1 │ business         510           22.9213\n",
       "   2 │ entertainment    386           17.3483\n",
       "   3 │ politics         417           18.7416\n",
       "   4 │ sport            511           22.9663\n",
       "   5 │ tech             401           18.0225"
      ]
     },
     "execution_count": 13,
     "metadata": {},
     "output_type": "execute_result"
    }
   ],
   "source": [
    "docs_count = combine(groupby(docs, [:topic]), nrow => :count)\n",
    "docs_count[:, :count_percentage] = docs_count.count/sum(docs_count.count)*100\n",
    "docs_count"
   ]
  },
  {
   "cell_type": "markdown",
   "metadata": {},
   "source": [
    "## Explore Corpus"
   ]
  },
  {
   "cell_type": "markdown",
   "metadata": {},
   "source": [
    "### Token Count via Counter()"
   ]
  },
  {
   "cell_type": "code",
   "execution_count": 14,
   "metadata": {
    "ExecuteTime": {
     "end_time": "2020-06-20T17:16:30.417187Z",
     "start_time": "2020-06-20T17:16:30.362799Z"
    },
    "slideshow": {
     "slide_type": "fragment"
    }
   },
   "outputs": [
    {
     "name": "stdout",
     "output_type": "stream",
     "text": [
      "Total word count: 832276 | per article: 374"
     ]
    }
   ],
   "source": [
    "word_count = length(split(join(string.(docs.body))))\n",
    "word_per_article = word_count/nrow(docs)\n",
    "\n",
    "using Printf \n",
    "@printf(\"Total word count: %.0f | per article: %.0f\", word_count, word_per_article)"
   ]
  },
  {
   "cell_type": "code",
   "execution_count": 15,
   "metadata": {
    "scrolled": true
   },
   "outputs": [
    {
     "data": {
      "text/plain": [
       "832276-element Vector{SubString{String}}:\n",
       " \"Quarterly\"\n",
       " \"profits\"\n",
       " \"at\"\n",
       " \"US\"\n",
       " \"media\"\n",
       " \"giant\"\n",
       " \"TimeWarner\"\n",
       " \"jumped\"\n",
       " \"76%\"\n",
       " \"to\"\n",
       " \"\\$1.13bn\"\n",
       " \"(Â£600m)\"\n",
       " \"for\"\n",
       " ⋮\n",
       " \"Ultima\"\n",
       " \"Online\"\n",
       " \"was\"\n",
       " \"the\"\n",
       " \"game,\"\n",
       " \"ahhhh\"\n",
       " \"them\"\n",
       " \"was\"\n",
       " \"the\"\n",
       " \"days\"\n",
       " \"!\"\n",
       " \"LOL\""
      ]
     },
     "execution_count": 15,
     "metadata": {},
     "output_type": "execute_result"
    }
   ],
   "source": [
    "word_list = split(join(string.(docs.body)))\n",
    "word_list = strip.(word_list)\n",
    "filter!(!isempty, word_list)"
   ]
  },
  {
   "cell_type": "code",
   "execution_count": 16,
   "metadata": {
    "scrolled": true
   },
   "outputs": [
    {
     "data": {
      "text/plain": [
       "Dict{SubString{String}, Int64} with 71227 entries:\n",
       "  \"neighbours.\"      => 1\n",
       "  \"screen.\\\"I\"       => 1\n",
       "  \"backlogs,\"        => 1\n",
       "  \"bid.The\"          => 3\n",
       "  \"common\\\".\"        => 1\n",
       "  \"show.But\"         => 1\n",
       "  \"do\\\",\"            => 1\n",
       "  \"Claassens,\"       => 1\n",
       "  \"valuation.\"       => 1\n",
       "  \"worthwhile.Hugo\"  => 2\n",
       "  \"does;\"            => 1\n",
       "  \"side.\\\"I'm\"       => 1\n",
       "  \"3-2.\"             => 2\n",
       "  \"gathered\"         => 38\n",
       "  \"one-two\"          => 2\n",
       "  \"machine.It\"       => 2\n",
       "  \"Blunkett\"         => 65\n",
       "  \"Mendelsohn,\"      => 1\n",
       "  \"little,\"          => 4\n",
       "  \"3,248\"            => 1\n",
       "  \"underground\"      => 12\n",
       "  \"over-reacted\"     => 3\n",
       "  \"\\\"pioneers\\\"\"     => 2\n",
       "  \"quarter.Speaking\" => 1\n",
       "  \"ADVANCE\"          => 1\n",
       "  ⋮                  => ⋮"
      ]
     },
     "execution_count": 16,
     "metadata": {},
     "output_type": "execute_result"
    }
   ],
   "source": [
    "word_count_dict = Dict(word => count(isequal(word), word_list) for word in unique(word_list))"
   ]
  },
  {
   "cell_type": "code",
   "execution_count": 17,
   "metadata": {
    "scrolled": true
   },
   "outputs": [
    {
     "data": {
      "text/plain": [
       "71227-element Vector{Int64}:\n",
       "     2\n",
       "   118\n",
       "  4329\n",
       "  1176\n",
       "   216\n",
       "   142\n",
       "     6\n",
       "    32\n",
       "     2\n",
       " 24460\n",
       "     2\n",
       "     1\n",
       "  8423\n",
       "     ⋮\n",
       "     1\n",
       "     1\n",
       "     1\n",
       "     1\n",
       "     1\n",
       "     1\n",
       "     1\n",
       "     1\n",
       "     1\n",
       "     1\n",
       "     1\n",
       "     1"
      ]
     },
     "execution_count": 17,
     "metadata": {},
     "output_type": "execute_result"
    }
   ],
   "source": [
    "count_list = [word_count_dict[word] for word in unique(word_list)]"
   ]
  },
  {
   "cell_type": "code",
   "execution_count": 18,
   "metadata": {
    "scrolled": true
   },
   "outputs": [
    {
     "data": {
      "text/html": [
       "<div class=\"data-frame\"><p>71,227 rows × 2 columns</p><table class=\"data-frame\"><thead><tr><th></th><th>tokens</th><th>count</th></tr><tr><th></th><th title=\"SubString{String}\">SubStrin…</th><th title=\"Int64\">Int64</th></tr></thead><tbody><tr><th>1</th><td>the</td><td>44431</td></tr><tr><th>2</th><td>to</td><td>24460</td></tr><tr><th>3</th><td>of</td><td>19754</td></tr><tr><th>4</th><td>and</td><td>17865</td></tr><tr><th>5</th><td>a</td><td>17115</td></tr><tr><th>6</th><td>in</td><td>16313</td></tr><tr><th>7</th><td>is</td><td>8426</td></tr><tr><th>8</th><td>for</td><td>8423</td></tr><tr><th>9</th><td>that</td><td>7528</td></tr><tr><th>10</th><td>on</td><td>7018</td></tr><tr><th>11</th><td>was</td><td>5983</td></tr><tr><th>12</th><td>be</td><td>5718</td></tr><tr><th>13</th><td>The</td><td>5111</td></tr><tr><th>14</th><td>with</td><td>5071</td></tr><tr><th>15</th><td>has</td><td>4931</td></tr><tr><th>16</th><td>said</td><td>4899</td></tr><tr><th>17</th><td>it</td><td>4857</td></tr><tr><th>18</th><td>have</td><td>4715</td></tr><tr><th>19</th><td>as</td><td>4624</td></tr><tr><th>20</th><td>will</td><td>4385</td></tr><tr><th>21</th><td>at</td><td>4329</td></tr><tr><th>22</th><td>are</td><td>4327</td></tr><tr><th>23</th><td>by</td><td>4320</td></tr><tr><th>24</th><td>he</td><td>4217</td></tr><tr><th>25</th><td>from</td><td>3456</td></tr><tr><th>26</th><td>not</td><td>3316</td></tr><tr><th>27</th><td>-</td><td>3030</td></tr><tr><th>28</th><td>his</td><td>2821</td></tr><tr><th>29</th><td>Mr</td><td>2712</td></tr><tr><th>30</th><td>an</td><td>2659</td></tr><tr><th>&vellip;</th><td>&vellip;</td><td>&vellip;</td></tr></tbody></table></div>"
      ],
      "text/latex": [
       "\\begin{tabular}{r|cc}\n",
       "\t& tokens & count\\\\\n",
       "\t\\hline\n",
       "\t& SubStrin… & Int64\\\\\n",
       "\t\\hline\n",
       "\t1 & the & 44431 \\\\\n",
       "\t2 & to & 24460 \\\\\n",
       "\t3 & of & 19754 \\\\\n",
       "\t4 & and & 17865 \\\\\n",
       "\t5 & a & 17115 \\\\\n",
       "\t6 & in & 16313 \\\\\n",
       "\t7 & is & 8426 \\\\\n",
       "\t8 & for & 8423 \\\\\n",
       "\t9 & that & 7528 \\\\\n",
       "\t10 & on & 7018 \\\\\n",
       "\t11 & was & 5983 \\\\\n",
       "\t12 & be & 5718 \\\\\n",
       "\t13 & The & 5111 \\\\\n",
       "\t14 & with & 5071 \\\\\n",
       "\t15 & has & 4931 \\\\\n",
       "\t16 & said & 4899 \\\\\n",
       "\t17 & it & 4857 \\\\\n",
       "\t18 & have & 4715 \\\\\n",
       "\t19 & as & 4624 \\\\\n",
       "\t20 & will & 4385 \\\\\n",
       "\t21 & at & 4329 \\\\\n",
       "\t22 & are & 4327 \\\\\n",
       "\t23 & by & 4320 \\\\\n",
       "\t24 & he & 4217 \\\\\n",
       "\t25 & from & 3456 \\\\\n",
       "\t26 & not & 3316 \\\\\n",
       "\t27 & - & 3030 \\\\\n",
       "\t28 & his & 2821 \\\\\n",
       "\t29 & Mr & 2712 \\\\\n",
       "\t30 & an & 2659 \\\\\n",
       "\t$\\dots$ & $\\dots$ & $\\dots$ \\\\\n",
       "\\end{tabular}\n"
      ],
      "text/plain": [
       "\u001b[1m71227×2 DataFrame\u001b[0m\n",
       "\u001b[1m   Row \u001b[0m│\u001b[1m tokens               \u001b[0m\u001b[1m count \u001b[0m\n",
       "\u001b[1m       \u001b[0m│\u001b[90m SubStrin…            \u001b[0m\u001b[90m Int64 \u001b[0m\n",
       "───────┼─────────────────────────────\n",
       "     1 │ the                   44431\n",
       "     2 │ to                    24460\n",
       "     3 │ of                    19754\n",
       "     4 │ and                   17865\n",
       "     5 │ a                     17115\n",
       "     6 │ in                    16313\n",
       "     7 │ is                     8426\n",
       "     8 │ for                    8423\n",
       "     9 │ that                   7528\n",
       "    10 │ on                     7018\n",
       "    11 │ was                    5983\n",
       "   ⋮   │          ⋮              ⋮\n",
       " 71218 │ into.Unless               1\n",
       " 71219 │ person&#191;s             1\n",
       " 71220 │ worse.These               1\n",
       " 71221 │ trifling                  1\n",
       " 71222 │ \"online                   1\n",
       " 71223 │ universe\"                 1\n",
       " 71224 │ meaningless.24hours,      1\n",
       " 71225 │ ahhhh                     1\n",
       " 71226 │ !                         1\n",
       " 71227 │ LOL                       1\n",
       "\u001b[36m                   71206 rows omitted\u001b[0m"
      ]
     },
     "execution_count": 18,
     "metadata": {},
     "output_type": "execute_result"
    }
   ],
   "source": [
    "word_count_df = sort(DataFrame(tokens = unique(word_list), count = count_list), :count, rev=true)"
   ]
  },
  {
   "cell_type": "code",
   "execution_count": 19,
   "metadata": {},
   "outputs": [
    {
     "data": {
      "image/svg+xml": [
       "<?xml version=\"1.0\" encoding=\"utf-8\"?>\n",
       "<svg xmlns=\"http://www.w3.org/2000/svg\" xmlns:xlink=\"http://www.w3.org/1999/xlink\" width=\"600\" height=\"400\" viewBox=\"0 0 2400 1600\">\n",
       "<defs>\n",
       "  <clipPath id=\"clip0600\">\n",
       "    <rect x=\"0\" y=\"0\" width=\"2400\" height=\"1600\"/>\n",
       "  </clipPath>\n",
       "</defs>\n",
       "<path clip-path=\"url(#clip0600)\" d=\"\n",
       "M0 1600 L2400 1600 L2400 0 L0 0  Z\n",
       "  \" fill=\"#ffffff\" fill-rule=\"evenodd\" fill-opacity=\"1\"/>\n",
       "<defs>\n",
       "  <clipPath id=\"clip0601\">\n",
       "    <rect x=\"480\" y=\"0\" width=\"1681\" height=\"1600\"/>\n",
       "  </clipPath>\n",
       "</defs>\n",
       "<path clip-path=\"url(#clip0600)\" d=\"\n",
       "M309.663 1425.62 L2352.76 1425.62 L2352.76 121.675 L309.663 121.675  Z\n",
       "  \" fill=\"#ffffff\" fill-rule=\"evenodd\" fill-opacity=\"1\"/>\n",
       "<defs>\n",
       "  <clipPath id=\"clip0602\">\n",
       "    <rect x=\"309\" y=\"121\" width=\"2044\" height=\"1305\"/>\n",
       "  </clipPath>\n",
       "</defs>\n",
       "<polyline clip-path=\"url(#clip0602)\" style=\"stroke:#000000; stroke-width:2; stroke-opacity:0.1; fill:none\" points=\"\n",
       "  436.642,1425.62 436.642,121.675 \n",
       "  \"/>\n",
       "<polyline clip-path=\"url(#clip0602)\" style=\"stroke:#000000; stroke-width:2; stroke-opacity:0.1; fill:none\" points=\"\n",
       "  546.181,1425.62 546.181,121.675 \n",
       "  \"/>\n",
       "<polyline clip-path=\"url(#clip0602)\" style=\"stroke:#000000; stroke-width:2; stroke-opacity:0.1; fill:none\" points=\"\n",
       "  692.233,1425.62 692.233,121.675 \n",
       "  \"/>\n",
       "<polyline clip-path=\"url(#clip0602)\" style=\"stroke:#000000; stroke-width:2; stroke-opacity:0.1; fill:none\" points=\"\n",
       "  838.284,1425.62 838.284,121.675 \n",
       "  \"/>\n",
       "<polyline clip-path=\"url(#clip0602)\" style=\"stroke:#000000; stroke-width:2; stroke-opacity:0.1; fill:none\" points=\"\n",
       "  947.823,1425.62 947.823,121.675 \n",
       "  \"/>\n",
       "<polyline clip-path=\"url(#clip0602)\" style=\"stroke:#000000; stroke-width:2; stroke-opacity:0.1; fill:none\" points=\"\n",
       "  1057.36,1425.62 1057.36,121.675 \n",
       "  \"/>\n",
       "<polyline clip-path=\"url(#clip0602)\" style=\"stroke:#000000; stroke-width:2; stroke-opacity:0.1; fill:none\" points=\"\n",
       "  1203.41,1425.62 1203.41,121.675 \n",
       "  \"/>\n",
       "<polyline clip-path=\"url(#clip0602)\" style=\"stroke:#000000; stroke-width:2; stroke-opacity:0.1; fill:none\" points=\"\n",
       "  1349.47,1425.62 1349.47,121.675 \n",
       "  \"/>\n",
       "<polyline clip-path=\"url(#clip0602)\" style=\"stroke:#000000; stroke-width:2; stroke-opacity:0.1; fill:none\" points=\"\n",
       "  1459,1425.62 1459,121.675 \n",
       "  \"/>\n",
       "<polyline clip-path=\"url(#clip0602)\" style=\"stroke:#000000; stroke-width:2; stroke-opacity:0.1; fill:none\" points=\"\n",
       "  1568.54,1425.62 1568.54,121.675 \n",
       "  \"/>\n",
       "<polyline clip-path=\"url(#clip0602)\" style=\"stroke:#000000; stroke-width:2; stroke-opacity:0.1; fill:none\" points=\"\n",
       "  1714.6,1425.62 1714.6,121.675 \n",
       "  \"/>\n",
       "<polyline clip-path=\"url(#clip0602)\" style=\"stroke:#000000; stroke-width:2; stroke-opacity:0.1; fill:none\" points=\"\n",
       "  1860.65,1425.62 1860.65,121.675 \n",
       "  \"/>\n",
       "<polyline clip-path=\"url(#clip0602)\" style=\"stroke:#000000; stroke-width:2; stroke-opacity:0.1; fill:none\" points=\"\n",
       "  1970.19,1425.62 1970.19,121.675 \n",
       "  \"/>\n",
       "<polyline clip-path=\"url(#clip0602)\" style=\"stroke:#000000; stroke-width:2; stroke-opacity:0.1; fill:none\" points=\"\n",
       "  2079.73,1425.62 2079.73,121.675 \n",
       "  \"/>\n",
       "<polyline clip-path=\"url(#clip0602)\" style=\"stroke:#000000; stroke-width:2; stroke-opacity:0.1; fill:none\" points=\"\n",
       "  2225.78,1425.62 2225.78,121.675 \n",
       "  \"/>\n",
       "<polyline clip-path=\"url(#clip0602)\" style=\"stroke:#000000; stroke-width:2; stroke-opacity:0.1; fill:none\" points=\"\n",
       "  309.663,1388.71 2352.76,1388.71 \n",
       "  \"/>\n",
       "<polyline clip-path=\"url(#clip0602)\" style=\"stroke:#000000; stroke-width:2; stroke-opacity:0.1; fill:none\" points=\"\n",
       "  309.663,1111.85 2352.76,1111.85 \n",
       "  \"/>\n",
       "<polyline clip-path=\"url(#clip0602)\" style=\"stroke:#000000; stroke-width:2; stroke-opacity:0.1; fill:none\" points=\"\n",
       "  309.663,834.986 2352.76,834.986 \n",
       "  \"/>\n",
       "<polyline clip-path=\"url(#clip0602)\" style=\"stroke:#000000; stroke-width:2; stroke-opacity:0.1; fill:none\" points=\"\n",
       "  309.663,558.122 2352.76,558.122 \n",
       "  \"/>\n",
       "<polyline clip-path=\"url(#clip0602)\" style=\"stroke:#000000; stroke-width:2; stroke-opacity:0.1; fill:none\" points=\"\n",
       "  309.663,281.258 2352.76,281.258 \n",
       "  \"/>\n",
       "<polyline clip-path=\"url(#clip0600)\" style=\"stroke:#000000; stroke-width:4; stroke-opacity:1; fill:none\" points=\"\n",
       "  309.663,1425.62 2352.76,1425.62 \n",
       "  \"/>\n",
       "<polyline clip-path=\"url(#clip0600)\" style=\"stroke:#000000; stroke-width:4; stroke-opacity:1; fill:none\" points=\"\n",
       "  309.663,1425.62 309.663,121.675 \n",
       "  \"/>\n",
       "<polyline clip-path=\"url(#clip0600)\" style=\"stroke:#000000; stroke-width:4; stroke-opacity:1; fill:none\" points=\"\n",
       "  436.642,1425.62 436.642,1409.97 \n",
       "  \"/>\n",
       "<polyline clip-path=\"url(#clip0600)\" style=\"stroke:#000000; stroke-width:4; stroke-opacity:1; fill:none\" points=\"\n",
       "  546.181,1425.62 546.181,1409.97 \n",
       "  \"/>\n",
       "<polyline clip-path=\"url(#clip0600)\" style=\"stroke:#000000; stroke-width:4; stroke-opacity:1; fill:none\" points=\"\n",
       "  692.233,1425.62 692.233,1409.97 \n",
       "  \"/>\n",
       "<polyline clip-path=\"url(#clip0600)\" style=\"stroke:#000000; stroke-width:4; stroke-opacity:1; fill:none\" points=\"\n",
       "  838.284,1425.62 838.284,1409.97 \n",
       "  \"/>\n",
       "<polyline clip-path=\"url(#clip0600)\" style=\"stroke:#000000; stroke-width:4; stroke-opacity:1; fill:none\" points=\"\n",
       "  947.823,1425.62 947.823,1409.97 \n",
       "  \"/>\n",
       "<polyline clip-path=\"url(#clip0600)\" style=\"stroke:#000000; stroke-width:4; stroke-opacity:1; fill:none\" points=\"\n",
       "  1057.36,1425.62 1057.36,1409.97 \n",
       "  \"/>\n",
       "<polyline clip-path=\"url(#clip0600)\" style=\"stroke:#000000; stroke-width:4; stroke-opacity:1; fill:none\" points=\"\n",
       "  1203.41,1425.62 1203.41,1409.97 \n",
       "  \"/>\n",
       "<polyline clip-path=\"url(#clip0600)\" style=\"stroke:#000000; stroke-width:4; stroke-opacity:1; fill:none\" points=\"\n",
       "  1349.47,1425.62 1349.47,1409.97 \n",
       "  \"/>\n",
       "<polyline clip-path=\"url(#clip0600)\" style=\"stroke:#000000; stroke-width:4; stroke-opacity:1; fill:none\" points=\"\n",
       "  1459,1425.62 1459,1409.97 \n",
       "  \"/>\n",
       "<polyline clip-path=\"url(#clip0600)\" style=\"stroke:#000000; stroke-width:4; stroke-opacity:1; fill:none\" points=\"\n",
       "  1568.54,1425.62 1568.54,1409.97 \n",
       "  \"/>\n",
       "<polyline clip-path=\"url(#clip0600)\" style=\"stroke:#000000; stroke-width:4; stroke-opacity:1; fill:none\" points=\"\n",
       "  1714.6,1425.62 1714.6,1409.97 \n",
       "  \"/>\n",
       "<polyline clip-path=\"url(#clip0600)\" style=\"stroke:#000000; stroke-width:4; stroke-opacity:1; fill:none\" points=\"\n",
       "  1860.65,1425.62 1860.65,1409.97 \n",
       "  \"/>\n",
       "<polyline clip-path=\"url(#clip0600)\" style=\"stroke:#000000; stroke-width:4; stroke-opacity:1; fill:none\" points=\"\n",
       "  1970.19,1425.62 1970.19,1409.97 \n",
       "  \"/>\n",
       "<polyline clip-path=\"url(#clip0600)\" style=\"stroke:#000000; stroke-width:4; stroke-opacity:1; fill:none\" points=\"\n",
       "  2079.73,1425.62 2079.73,1409.97 \n",
       "  \"/>\n",
       "<polyline clip-path=\"url(#clip0600)\" style=\"stroke:#000000; stroke-width:4; stroke-opacity:1; fill:none\" points=\"\n",
       "  2225.78,1425.62 2225.78,1409.97 \n",
       "  \"/>\n",
       "<polyline clip-path=\"url(#clip0600)\" style=\"stroke:#000000; stroke-width:4; stroke-opacity:1; fill:none\" points=\"\n",
       "  309.663,1388.71 334.18,1388.71 \n",
       "  \"/>\n",
       "<polyline clip-path=\"url(#clip0600)\" style=\"stroke:#000000; stroke-width:4; stroke-opacity:1; fill:none\" points=\"\n",
       "  309.663,1111.85 334.18,1111.85 \n",
       "  \"/>\n",
       "<polyline clip-path=\"url(#clip0600)\" style=\"stroke:#000000; stroke-width:4; stroke-opacity:1; fill:none\" points=\"\n",
       "  309.663,834.986 334.18,834.986 \n",
       "  \"/>\n",
       "<polyline clip-path=\"url(#clip0600)\" style=\"stroke:#000000; stroke-width:4; stroke-opacity:1; fill:none\" points=\"\n",
       "  309.663,558.122 334.18,558.122 \n",
       "  \"/>\n",
       "<polyline clip-path=\"url(#clip0600)\" style=\"stroke:#000000; stroke-width:4; stroke-opacity:1; fill:none\" points=\"\n",
       "  309.663,281.258 334.18,281.258 \n",
       "  \"/>\n",
       "<g clip-path=\"url(#clip0600)\">\n",
       "<text style=\"fill:#000000; fill-opacity:1; font-family:Arial,Helvetica Neue,Helvetica,sans-serif; font-size:48px; text-anchor:middle;\" transform=\"rotate(0, 436.642, 1479.62)\" x=\"436.642\" y=\"1479.62\">the</text>\n",
       "</g>\n",
       "<g clip-path=\"url(#clip0600)\">\n",
       "<text style=\"fill:#000000; fill-opacity:1; font-family:Arial,Helvetica Neue,Helvetica,sans-serif; font-size:48px; text-anchor:middle;\" transform=\"rotate(0, 546.181, 1479.62)\" x=\"546.181\" y=\"1479.62\">and</text>\n",
       "</g>\n",
       "<g clip-path=\"url(#clip0600)\">\n",
       "<text style=\"fill:#000000; fill-opacity:1; font-family:Arial,Helvetica Neue,Helvetica,sans-serif; font-size:48px; text-anchor:middle;\" transform=\"rotate(0, 692.233, 1479.62)\" x=\"692.233\" y=\"1479.62\">for</text>\n",
       "</g>\n",
       "<g clip-path=\"url(#clip0600)\">\n",
       "<text style=\"fill:#000000; fill-opacity:1; font-family:Arial,Helvetica Neue,Helvetica,sans-serif; font-size:48px; text-anchor:middle;\" transform=\"rotate(0, 838.284, 1479.62)\" x=\"838.284\" y=\"1479.62\">be</text>\n",
       "</g>\n",
       "<g clip-path=\"url(#clip0600)\">\n",
       "<text style=\"fill:#000000; fill-opacity:1; font-family:Arial,Helvetica Neue,Helvetica,sans-serif; font-size:48px; text-anchor:middle;\" transform=\"rotate(0, 947.823, 1479.62)\" x=\"947.823\" y=\"1479.62\">has</text>\n",
       "</g>\n",
       "<g clip-path=\"url(#clip0600)\">\n",
       "<text style=\"fill:#000000; fill-opacity:1; font-family:Arial,Helvetica Neue,Helvetica,sans-serif; font-size:48px; text-anchor:middle;\" transform=\"rotate(0, 1057.36, 1479.62)\" x=\"1057.36\" y=\"1479.62\">have</text>\n",
       "</g>\n",
       "<g clip-path=\"url(#clip0600)\">\n",
       "<text style=\"fill:#000000; fill-opacity:1; font-family:Arial,Helvetica Neue,Helvetica,sans-serif; font-size:48px; text-anchor:middle;\" transform=\"rotate(0, 1203.41, 1479.62)\" x=\"1203.41\" y=\"1479.62\">are</text>\n",
       "</g>\n",
       "<g clip-path=\"url(#clip0600)\">\n",
       "<text style=\"fill:#000000; fill-opacity:1; font-family:Arial,Helvetica Neue,Helvetica,sans-serif; font-size:48px; text-anchor:middle;\" transform=\"rotate(0, 1349.47, 1479.62)\" x=\"1349.47\" y=\"1479.62\">not</text>\n",
       "</g>\n",
       "<g clip-path=\"url(#clip0600)\">\n",
       "<text style=\"fill:#000000; fill-opacity:1; font-family:Arial,Helvetica Neue,Helvetica,sans-serif; font-size:48px; text-anchor:middle;\" transform=\"rotate(0, 1459, 1479.62)\" x=\"1459\" y=\"1479.62\">Mr</text>\n",
       "</g>\n",
       "<g clip-path=\"url(#clip0600)\">\n",
       "<text style=\"fill:#000000; fill-opacity:1; font-family:Arial,Helvetica Neue,Helvetica,sans-serif; font-size:48px; text-anchor:middle;\" transform=\"rotate(0, 1568.54, 1479.62)\" x=\"1568.54\" y=\"1479.62\">would</text>\n",
       "</g>\n",
       "<g clip-path=\"url(#clip0600)\">\n",
       "<text style=\"fill:#000000; fill-opacity:1; font-family:Arial,Helvetica Neue,Helvetica,sans-serif; font-size:48px; text-anchor:middle;\" transform=\"rotate(0, 1714.6, 1479.62)\" x=\"1714.6\" y=\"1479.62\">they</text>\n",
       "</g>\n",
       "<g clip-path=\"url(#clip0600)\">\n",
       "<text style=\"fill:#000000; fill-opacity:1; font-family:Arial,Helvetica Neue,Helvetica,sans-serif; font-size:48px; text-anchor:middle;\" transform=\"rotate(0, 1860.65, 1479.62)\" x=\"1860.65\" y=\"1479.62\">I</text>\n",
       "</g>\n",
       "<g clip-path=\"url(#clip0600)\">\n",
       "<text style=\"fill:#000000; fill-opacity:1; font-family:Arial,Helvetica Neue,Helvetica,sans-serif; font-size:48px; text-anchor:middle;\" transform=\"rotate(0, 1970.19, 1479.62)\" x=\"1970.19\" y=\"1479.62\">also</text>\n",
       "</g>\n",
       "<g clip-path=\"url(#clip0600)\">\n",
       "<text style=\"fill:#000000; fill-opacity:1; font-family:Arial,Helvetica Neue,Helvetica,sans-serif; font-size:48px; text-anchor:middle;\" transform=\"rotate(0, 2079.73, 1479.62)\" x=\"2079.73\" y=\"1479.62\">about</text>\n",
       "</g>\n",
       "<g clip-path=\"url(#clip0600)\">\n",
       "<text style=\"fill:#000000; fill-opacity:1; font-family:Arial,Helvetica Neue,Helvetica,sans-serif; font-size:48px; text-anchor:middle;\" transform=\"rotate(0, 2225.78, 1479.62)\" x=\"2225.78\" y=\"1479.62\">or</text>\n",
       "</g>\n",
       "<g clip-path=\"url(#clip0600)\">\n",
       "<text style=\"fill:#000000; fill-opacity:1; font-family:Arial,Helvetica Neue,Helvetica,sans-serif; font-size:48px; text-anchor:end;\" transform=\"rotate(0, 285.663, 1406.21)\" x=\"285.663\" y=\"1406.21\">0</text>\n",
       "</g>\n",
       "<g clip-path=\"url(#clip0600)\">\n",
       "<text style=\"fill:#000000; fill-opacity:1; font-family:Arial,Helvetica Neue,Helvetica,sans-serif; font-size:48px; text-anchor:start;\" transform=\"rotate(0, 155.521, 1135.58)\" x=\"155.521\" y=\"1135.58\">1×10</text>\n",
       "</g>\n",
       "<g clip-path=\"url(#clip0600)\">\n",
       "<text style=\"fill:#000000; fill-opacity:1; font-family:Arial,Helvetica Neue,Helvetica,sans-serif; font-size:38px; text-anchor:start;\" transform=\"rotate(0, 263.919, 1108.17)\" x=\"263.919\" y=\"1108.17\">4</text>\n",
       "</g>\n",
       "<g clip-path=\"url(#clip0600)\">\n",
       "<text style=\"fill:#000000; fill-opacity:1; font-family:Arial,Helvetica Neue,Helvetica,sans-serif; font-size:48px; text-anchor:start;\" transform=\"rotate(0, 155.521, 858.714)\" x=\"155.521\" y=\"858.714\">2×10</text>\n",
       "</g>\n",
       "<g clip-path=\"url(#clip0600)\">\n",
       "<text style=\"fill:#000000; fill-opacity:1; font-family:Arial,Helvetica Neue,Helvetica,sans-serif; font-size:38px; text-anchor:start;\" transform=\"rotate(0, 263.919, 831.303)\" x=\"263.919\" y=\"831.303\">4</text>\n",
       "</g>\n",
       "<g clip-path=\"url(#clip0600)\">\n",
       "<text style=\"fill:#000000; fill-opacity:1; font-family:Arial,Helvetica Neue,Helvetica,sans-serif; font-size:48px; text-anchor:start;\" transform=\"rotate(0, 155.521, 581.85)\" x=\"155.521\" y=\"581.85\">3×10</text>\n",
       "</g>\n",
       "<g clip-path=\"url(#clip0600)\">\n",
       "<text style=\"fill:#000000; fill-opacity:1; font-family:Arial,Helvetica Neue,Helvetica,sans-serif; font-size:38px; text-anchor:start;\" transform=\"rotate(0, 263.919, 554.439)\" x=\"263.919\" y=\"554.439\">4</text>\n",
       "</g>\n",
       "<g clip-path=\"url(#clip0600)\">\n",
       "<text style=\"fill:#000000; fill-opacity:1; font-family:Arial,Helvetica Neue,Helvetica,sans-serif; font-size:48px; text-anchor:start;\" transform=\"rotate(0, 155.521, 304.985)\" x=\"155.521\" y=\"304.985\">4×10</text>\n",
       "</g>\n",
       "<g clip-path=\"url(#clip0600)\">\n",
       "<text style=\"fill:#000000; fill-opacity:1; font-family:Arial,Helvetica Neue,Helvetica,sans-serif; font-size:38px; text-anchor:start;\" transform=\"rotate(0, 263.919, 277.575)\" x=\"263.919\" y=\"277.575\">4</text>\n",
       "</g>\n",
       "<g clip-path=\"url(#clip0600)\">\n",
       "<text style=\"fill:#000000; fill-opacity:1; font-family:Arial,Helvetica Neue,Helvetica,sans-serif; font-size:84px; text-anchor:middle;\" transform=\"rotate(0, 1331.21, 73.2)\" x=\"1331.21\" y=\"73.2\">Most frequent 50 tokens</text>\n",
       "</g>\n",
       "<g clip-path=\"url(#clip0600)\">\n",
       "<text style=\"fill:#000000; fill-opacity:1; font-family:Arial,Helvetica Neue,Helvetica,sans-serif; font-size:66px; text-anchor:middle;\" transform=\"rotate(0, 1331.21, 1559.48)\" x=\"1331.21\" y=\"1559.48\">token</text>\n",
       "</g>\n",
       "<g clip-path=\"url(#clip0600)\">\n",
       "<text style=\"fill:#000000; fill-opacity:1; font-family:Arial,Helvetica Neue,Helvetica,sans-serif; font-size:66px; text-anchor:middle;\" transform=\"rotate(-90, 89.2861, 773.647)\" x=\"89.2861\" y=\"773.647\">Count</text>\n",
       "</g>\n",
       "<path clip-path=\"url(#clip0602)\" d=\"\n",
       "M422.037 158.579 L422.037 1388.71 L451.247 1388.71 L451.247 158.579 L422.037 158.579 L422.037 158.579  Z\n",
       "  \" fill=\"#009af9\" fill-rule=\"evenodd\" fill-opacity=\"1\"/>\n",
       "<polyline clip-path=\"url(#clip0602)\" style=\"stroke:#000000; stroke-width:4; stroke-opacity:1; fill:none\" points=\"\n",
       "  422.037,158.579 422.037,1388.71 451.247,1388.71 451.247,158.579 422.037,158.579 \n",
       "  \"/>\n",
       "<path clip-path=\"url(#clip0602)\" d=\"\n",
       "M458.55 711.505 L458.55 1388.71 L487.76 1388.71 L487.76 711.505 L458.55 711.505 L458.55 711.505  Z\n",
       "  \" fill=\"#009af9\" fill-rule=\"evenodd\" fill-opacity=\"1\"/>\n",
       "<polyline clip-path=\"url(#clip0602)\" style=\"stroke:#000000; stroke-width:4; stroke-opacity:1; fill:none\" points=\"\n",
       "  458.55,711.505 458.55,1388.71 487.76,1388.71 487.76,711.505 458.55,711.505 \n",
       "  \"/>\n",
       "<path clip-path=\"url(#clip0602)\" d=\"\n",
       "M495.063 841.797 L495.063 1388.71 L524.273 1388.71 L524.273 841.797 L495.063 841.797 L495.063 841.797  Z\n",
       "  \" fill=\"#009af9\" fill-rule=\"evenodd\" fill-opacity=\"1\"/>\n",
       "<polyline clip-path=\"url(#clip0602)\" style=\"stroke:#000000; stroke-width:4; stroke-opacity:1; fill:none\" points=\"\n",
       "  495.063,841.797 495.063,1388.71 524.273,1388.71 524.273,841.797 495.063,841.797 \n",
       "  \"/>\n",
       "<path clip-path=\"url(#clip0602)\" d=\"\n",
       "M531.576 894.097 L531.576 1388.71 L560.786 1388.71 L560.786 894.097 L531.576 894.097 L531.576 894.097  Z\n",
       "  \" fill=\"#009af9\" fill-rule=\"evenodd\" fill-opacity=\"1\"/>\n",
       "<polyline clip-path=\"url(#clip0602)\" style=\"stroke:#000000; stroke-width:4; stroke-opacity:1; fill:none\" points=\"\n",
       "  531.576,894.097 531.576,1388.71 560.786,1388.71 560.786,894.097 531.576,894.097 \n",
       "  \"/>\n",
       "<path clip-path=\"url(#clip0602)\" d=\"\n",
       "M568.089 914.861 L568.089 1388.71 L597.299 1388.71 L597.299 914.861 L568.089 914.861 L568.089 914.861  Z\n",
       "  \" fill=\"#009af9\" fill-rule=\"evenodd\" fill-opacity=\"1\"/>\n",
       "<polyline clip-path=\"url(#clip0602)\" style=\"stroke:#000000; stroke-width:4; stroke-opacity:1; fill:none\" points=\"\n",
       "  568.089,914.861 568.089,1388.71 597.299,1388.71 597.299,914.861 568.089,914.861 \n",
       "  \"/>\n",
       "<path clip-path=\"url(#clip0602)\" d=\"\n",
       "M604.601 937.066 L604.601 1388.71 L633.812 1388.71 L633.812 937.066 L604.601 937.066 L604.601 937.066  Z\n",
       "  \" fill=\"#009af9\" fill-rule=\"evenodd\" fill-opacity=\"1\"/>\n",
       "<polyline clip-path=\"url(#clip0602)\" style=\"stroke:#000000; stroke-width:4; stroke-opacity:1; fill:none\" points=\"\n",
       "  604.601,937.066 604.601,1388.71 633.812,1388.71 633.812,937.066 604.601,937.066 \n",
       "  \"/>\n",
       "<path clip-path=\"url(#clip0602)\" d=\"\n",
       "M641.114 1155.43 L641.114 1388.71 L670.325 1388.71 L670.325 1155.43 L641.114 1155.43 L641.114 1155.43  Z\n",
       "  \" fill=\"#009af9\" fill-rule=\"evenodd\" fill-opacity=\"1\"/>\n",
       "<polyline clip-path=\"url(#clip0602)\" style=\"stroke:#000000; stroke-width:4; stroke-opacity:1; fill:none\" points=\"\n",
       "  641.114,1155.43 641.114,1388.71 670.325,1388.71 670.325,1155.43 641.114,1155.43 \n",
       "  \"/>\n",
       "<path clip-path=\"url(#clip0602)\" d=\"\n",
       "M677.627 1155.51 L677.627 1388.71 L706.838 1388.71 L706.838 1155.51 L677.627 1155.51 L677.627 1155.51  Z\n",
       "  \" fill=\"#009af9\" fill-rule=\"evenodd\" fill-opacity=\"1\"/>\n",
       "<polyline clip-path=\"url(#clip0602)\" style=\"stroke:#000000; stroke-width:4; stroke-opacity:1; fill:none\" points=\"\n",
       "  677.627,1155.51 677.627,1388.71 706.838,1388.71 706.838,1155.51 677.627,1155.51 \n",
       "  \"/>\n",
       "<path clip-path=\"url(#clip0602)\" d=\"\n",
       "M714.14 1180.29 L714.14 1388.71 L743.351 1388.71 L743.351 1180.29 L714.14 1180.29 L714.14 1180.29  Z\n",
       "  \" fill=\"#009af9\" fill-rule=\"evenodd\" fill-opacity=\"1\"/>\n",
       "<polyline clip-path=\"url(#clip0602)\" style=\"stroke:#000000; stroke-width:4; stroke-opacity:1; fill:none\" points=\"\n",
       "  714.14,1180.29 714.14,1388.71 743.351,1388.71 743.351,1180.29 714.14,1180.29 \n",
       "  \"/>\n",
       "<path clip-path=\"url(#clip0602)\" d=\"\n",
       "M750.653 1194.41 L750.653 1388.71 L779.864 1388.71 L779.864 1194.41 L750.653 1194.41 L750.653 1194.41  Z\n",
       "  \" fill=\"#009af9\" fill-rule=\"evenodd\" fill-opacity=\"1\"/>\n",
       "<polyline clip-path=\"url(#clip0602)\" style=\"stroke:#000000; stroke-width:4; stroke-opacity:1; fill:none\" points=\"\n",
       "  750.653,1194.41 750.653,1388.71 779.864,1388.71 779.864,1194.41 750.653,1194.41 \n",
       "  \"/>\n",
       "<path clip-path=\"url(#clip0602)\" d=\"\n",
       "M787.166 1223.07 L787.166 1388.71 L816.377 1388.71 L816.377 1223.07 L787.166 1223.07 L787.166 1223.07  Z\n",
       "  \" fill=\"#009af9\" fill-rule=\"evenodd\" fill-opacity=\"1\"/>\n",
       "<polyline clip-path=\"url(#clip0602)\" style=\"stroke:#000000; stroke-width:4; stroke-opacity:1; fill:none\" points=\"\n",
       "  787.166,1223.07 787.166,1388.71 816.377,1388.71 816.377,1223.07 787.166,1223.07 \n",
       "  \"/>\n",
       "<path clip-path=\"url(#clip0602)\" d=\"\n",
       "M823.679 1230.4 L823.679 1388.71 L852.89 1388.71 L852.89 1230.4 L823.679 1230.4 L823.679 1230.4  Z\n",
       "  \" fill=\"#009af9\" fill-rule=\"evenodd\" fill-opacity=\"1\"/>\n",
       "<polyline clip-path=\"url(#clip0602)\" style=\"stroke:#000000; stroke-width:4; stroke-opacity:1; fill:none\" points=\"\n",
       "  823.679,1230.4 823.679,1388.71 852.89,1388.71 852.89,1230.4 823.679,1230.4 \n",
       "  \"/>\n",
       "<path clip-path=\"url(#clip0602)\" d=\"\n",
       "M860.192 1247.21 L860.192 1388.71 L889.403 1388.71 L889.403 1247.21 L860.192 1247.21 L860.192 1247.21  Z\n",
       "  \" fill=\"#009af9\" fill-rule=\"evenodd\" fill-opacity=\"1\"/>\n",
       "<polyline clip-path=\"url(#clip0602)\" style=\"stroke:#000000; stroke-width:4; stroke-opacity:1; fill:none\" points=\"\n",
       "  860.192,1247.21 860.192,1388.71 889.403,1388.71 889.403,1247.21 860.192,1247.21 \n",
       "  \"/>\n",
       "<path clip-path=\"url(#clip0602)\" d=\"\n",
       "M896.705 1248.32 L896.705 1388.71 L925.916 1388.71 L925.916 1248.32 L896.705 1248.32 L896.705 1248.32  Z\n",
       "  \" fill=\"#009af9\" fill-rule=\"evenodd\" fill-opacity=\"1\"/>\n",
       "<polyline clip-path=\"url(#clip0602)\" style=\"stroke:#000000; stroke-width:4; stroke-opacity:1; fill:none\" points=\"\n",
       "  896.705,1248.32 896.705,1388.71 925.916,1388.71 925.916,1248.32 896.705,1248.32 \n",
       "  \"/>\n",
       "<path clip-path=\"url(#clip0602)\" d=\"\n",
       "M933.218 1252.19 L933.218 1388.71 L962.429 1388.71 L962.429 1252.19 L933.218 1252.19 L933.218 1252.19  Z\n",
       "  \" fill=\"#009af9\" fill-rule=\"evenodd\" fill-opacity=\"1\"/>\n",
       "<polyline clip-path=\"url(#clip0602)\" style=\"stroke:#000000; stroke-width:4; stroke-opacity:1; fill:none\" points=\"\n",
       "  933.218,1252.19 933.218,1388.71 962.429,1388.71 962.429,1252.19 933.218,1252.19 \n",
       "  \"/>\n",
       "<path clip-path=\"url(#clip0602)\" d=\"\n",
       "M969.731 1253.08 L969.731 1388.71 L998.941 1388.71 L998.941 1253.08 L969.731 1253.08 L969.731 1253.08  Z\n",
       "  \" fill=\"#009af9\" fill-rule=\"evenodd\" fill-opacity=\"1\"/>\n",
       "<polyline clip-path=\"url(#clip0602)\" style=\"stroke:#000000; stroke-width:4; stroke-opacity:1; fill:none\" points=\"\n",
       "  969.731,1253.08 969.731,1388.71 998.941,1388.71 998.941,1253.08 969.731,1253.08 \n",
       "  \"/>\n",
       "<path clip-path=\"url(#clip0602)\" d=\"\n",
       "M1006.24 1254.24 L1006.24 1388.71 L1035.45 1388.71 L1035.45 1254.24 L1006.24 1254.24 L1006.24 1254.24  Z\n",
       "  \" fill=\"#009af9\" fill-rule=\"evenodd\" fill-opacity=\"1\"/>\n",
       "<polyline clip-path=\"url(#clip0602)\" style=\"stroke:#000000; stroke-width:4; stroke-opacity:1; fill:none\" points=\"\n",
       "  1006.24,1254.24 1006.24,1388.71 1035.45,1388.71 1035.45,1254.24 1006.24,1254.24 \n",
       "  \"/>\n",
       "<path clip-path=\"url(#clip0602)\" d=\"\n",
       "M1042.76 1258.17 L1042.76 1388.71 L1071.97 1388.71 L1071.97 1258.17 L1042.76 1258.17 L1042.76 1258.17  Z\n",
       "  \" fill=\"#009af9\" fill-rule=\"evenodd\" fill-opacity=\"1\"/>\n",
       "<polyline clip-path=\"url(#clip0602)\" style=\"stroke:#000000; stroke-width:4; stroke-opacity:1; fill:none\" points=\"\n",
       "  1042.76,1258.17 1042.76,1388.71 1071.97,1388.71 1071.97,1258.17 1042.76,1258.17 \n",
       "  \"/>\n",
       "<path clip-path=\"url(#clip0602)\" d=\"\n",
       "M1079.27 1260.69 L1079.27 1388.71 L1108.48 1388.71 L1108.48 1260.69 L1079.27 1260.69 L1079.27 1260.69  Z\n",
       "  \" fill=\"#009af9\" fill-rule=\"evenodd\" fill-opacity=\"1\"/>\n",
       "<polyline clip-path=\"url(#clip0602)\" style=\"stroke:#000000; stroke-width:4; stroke-opacity:1; fill:none\" points=\"\n",
       "  1079.27,1260.69 1079.27,1388.71 1108.48,1388.71 1108.48,1260.69 1079.27,1260.69 \n",
       "  \"/>\n",
       "<path clip-path=\"url(#clip0602)\" d=\"\n",
       "M1115.78 1267.31 L1115.78 1388.71 L1144.99 1388.71 L1144.99 1267.31 L1115.78 1267.31 L1115.78 1267.31  Z\n",
       "  \" fill=\"#009af9\" fill-rule=\"evenodd\" fill-opacity=\"1\"/>\n",
       "<polyline clip-path=\"url(#clip0602)\" style=\"stroke:#000000; stroke-width:4; stroke-opacity:1; fill:none\" points=\"\n",
       "  1115.78,1267.31 1115.78,1388.71 1144.99,1388.71 1144.99,1267.31 1115.78,1267.31 \n",
       "  \"/>\n",
       "<path clip-path=\"url(#clip0602)\" d=\"\n",
       "M1152.3 1268.86 L1152.3 1388.71 L1181.51 1388.71 L1181.51 1268.86 L1152.3 1268.86 L1152.3 1268.86  Z\n",
       "  \" fill=\"#009af9\" fill-rule=\"evenodd\" fill-opacity=\"1\"/>\n",
       "<polyline clip-path=\"url(#clip0602)\" style=\"stroke:#000000; stroke-width:4; stroke-opacity:1; fill:none\" points=\"\n",
       "  1152.3,1268.86 1152.3,1388.71 1181.51,1388.71 1181.51,1268.86 1152.3,1268.86 \n",
       "  \"/>\n",
       "<path clip-path=\"url(#clip0602)\" d=\"\n",
       "M1188.81 1268.92 L1188.81 1388.71 L1218.02 1388.71 L1218.02 1268.92 L1188.81 1268.92 L1188.81 1268.92  Z\n",
       "  \" fill=\"#009af9\" fill-rule=\"evenodd\" fill-opacity=\"1\"/>\n",
       "<polyline clip-path=\"url(#clip0602)\" style=\"stroke:#000000; stroke-width:4; stroke-opacity:1; fill:none\" points=\"\n",
       "  1188.81,1268.92 1188.81,1388.71 1218.02,1388.71 1218.02,1268.92 1188.81,1268.92 \n",
       "  \"/>\n",
       "<path clip-path=\"url(#clip0602)\" d=\"\n",
       "M1225.32 1269.11 L1225.32 1388.71 L1254.53 1388.71 L1254.53 1269.11 L1225.32 1269.11 L1225.32 1269.11  Z\n",
       "  \" fill=\"#009af9\" fill-rule=\"evenodd\" fill-opacity=\"1\"/>\n",
       "<polyline clip-path=\"url(#clip0602)\" style=\"stroke:#000000; stroke-width:4; stroke-opacity:1; fill:none\" points=\"\n",
       "  1225.32,1269.11 1225.32,1388.71 1254.53,1388.71 1254.53,1269.11 1225.32,1269.11 \n",
       "  \"/>\n",
       "<path clip-path=\"url(#clip0602)\" d=\"\n",
       "M1261.83 1271.96 L1261.83 1388.71 L1291.05 1388.71 L1291.05 1271.96 L1261.83 1271.96 L1261.83 1271.96  Z\n",
       "  \" fill=\"#009af9\" fill-rule=\"evenodd\" fill-opacity=\"1\"/>\n",
       "<polyline clip-path=\"url(#clip0602)\" style=\"stroke:#000000; stroke-width:4; stroke-opacity:1; fill:none\" points=\"\n",
       "  1261.83,1271.96 1261.83,1388.71 1291.05,1388.71 1291.05,1271.96 1261.83,1271.96 \n",
       "  \"/>\n",
       "<path clip-path=\"url(#clip0602)\" d=\"\n",
       "M1298.35 1293.03 L1298.35 1388.71 L1327.56 1388.71 L1327.56 1293.03 L1298.35 1293.03 L1298.35 1293.03  Z\n",
       "  \" fill=\"#009af9\" fill-rule=\"evenodd\" fill-opacity=\"1\"/>\n",
       "<polyline clip-path=\"url(#clip0602)\" style=\"stroke:#000000; stroke-width:4; stroke-opacity:1; fill:none\" points=\"\n",
       "  1298.35,1293.03 1298.35,1388.71 1327.56,1388.71 1327.56,1293.03 1298.35,1293.03 \n",
       "  \"/>\n",
       "<path clip-path=\"url(#clip0602)\" d=\"\n",
       "M1334.86 1296.91 L1334.86 1388.71 L1364.07 1388.71 L1364.07 1296.91 L1334.86 1296.91 L1334.86 1296.91  Z\n",
       "  \" fill=\"#009af9\" fill-rule=\"evenodd\" fill-opacity=\"1\"/>\n",
       "<polyline clip-path=\"url(#clip0602)\" style=\"stroke:#000000; stroke-width:4; stroke-opacity:1; fill:none\" points=\"\n",
       "  1334.86,1296.91 1334.86,1388.71 1364.07,1388.71 1364.07,1296.91 1334.86,1296.91 \n",
       "  \"/>\n",
       "<path clip-path=\"url(#clip0602)\" d=\"\n",
       "M1371.37 1304.82 L1371.37 1388.71 L1400.58 1388.71 L1400.58 1304.82 L1371.37 1304.82 L1371.37 1304.82  Z\n",
       "  \" fill=\"#009af9\" fill-rule=\"evenodd\" fill-opacity=\"1\"/>\n",
       "<polyline clip-path=\"url(#clip0602)\" style=\"stroke:#000000; stroke-width:4; stroke-opacity:1; fill:none\" points=\"\n",
       "  1371.37,1304.82 1371.37,1388.71 1400.58,1388.71 1400.58,1304.82 1371.37,1304.82 \n",
       "  \"/>\n",
       "<path clip-path=\"url(#clip0602)\" d=\"\n",
       "M1407.89 1310.61 L1407.89 1388.71 L1437.1 1388.71 L1437.1 1310.61 L1407.89 1310.61 L1407.89 1310.61  Z\n",
       "  \" fill=\"#009af9\" fill-rule=\"evenodd\" fill-opacity=\"1\"/>\n",
       "<polyline clip-path=\"url(#clip0602)\" style=\"stroke:#000000; stroke-width:4; stroke-opacity:1; fill:none\" points=\"\n",
       "  1407.89,1310.61 1407.89,1388.71 1437.1,1388.71 1437.1,1310.61 1407.89,1310.61 \n",
       "  \"/>\n",
       "<path clip-path=\"url(#clip0602)\" d=\"\n",
       "M1444.4 1313.63 L1444.4 1388.71 L1473.61 1388.71 L1473.61 1313.63 L1444.4 1313.63 L1444.4 1313.63  Z\n",
       "  \" fill=\"#009af9\" fill-rule=\"evenodd\" fill-opacity=\"1\"/>\n",
       "<polyline clip-path=\"url(#clip0602)\" style=\"stroke:#000000; stroke-width:4; stroke-opacity:1; fill:none\" points=\"\n",
       "  1444.4,1313.63 1444.4,1388.71 1473.61,1388.71 1473.61,1313.63 1444.4,1313.63 \n",
       "  \"/>\n",
       "<path clip-path=\"url(#clip0602)\" d=\"\n",
       "M1480.91 1315.1 L1480.91 1388.71 L1510.12 1388.71 L1510.12 1315.1 L1480.91 1315.1 L1480.91 1315.1  Z\n",
       "  \" fill=\"#009af9\" fill-rule=\"evenodd\" fill-opacity=\"1\"/>\n",
       "<polyline clip-path=\"url(#clip0602)\" style=\"stroke:#000000; stroke-width:4; stroke-opacity:1; fill:none\" points=\"\n",
       "  1480.91,1315.1 1480.91,1388.71 1510.12,1388.71 1510.12,1315.1 1480.91,1315.1 \n",
       "  \"/>\n",
       "<path clip-path=\"url(#clip0602)\" d=\"\n",
       "M1517.43 1316.48 L1517.43 1388.71 L1546.64 1388.71 L1546.64 1316.48 L1517.43 1316.48 L1517.43 1316.48  Z\n",
       "  \" fill=\"#009af9\" fill-rule=\"evenodd\" fill-opacity=\"1\"/>\n",
       "<polyline clip-path=\"url(#clip0602)\" style=\"stroke:#000000; stroke-width:4; stroke-opacity:1; fill:none\" points=\"\n",
       "  1517.43,1316.48 1517.43,1388.71 1546.64,1388.71 1546.64,1316.48 1517.43,1316.48 \n",
       "  \"/>\n",
       "<path clip-path=\"url(#clip0602)\" d=\"\n",
       "M1553.94 1318 L1553.94 1388.71 L1583.15 1388.71 L1583.15 1318 L1553.94 1318 L1553.94 1318  Z\n",
       "  \" fill=\"#009af9\" fill-rule=\"evenodd\" fill-opacity=\"1\"/>\n",
       "<polyline clip-path=\"url(#clip0602)\" style=\"stroke:#000000; stroke-width:4; stroke-opacity:1; fill:none\" points=\"\n",
       "  1553.94,1318 1553.94,1388.71 1583.15,1388.71 1583.15,1318 1553.94,1318 \n",
       "  \"/>\n",
       "<path clip-path=\"url(#clip0602)\" d=\"\n",
       "M1590.45 1318.09 L1590.45 1388.71 L1619.66 1388.71 L1619.66 1318.09 L1590.45 1318.09 L1590.45 1318.09  Z\n",
       "  \" fill=\"#009af9\" fill-rule=\"evenodd\" fill-opacity=\"1\"/>\n",
       "<polyline clip-path=\"url(#clip0602)\" style=\"stroke:#000000; stroke-width:4; stroke-opacity:1; fill:none\" points=\"\n",
       "  1590.45,1318.09 1590.45,1388.71 1619.66,1388.71 1619.66,1318.09 1590.45,1318.09 \n",
       "  \"/>\n",
       "<path clip-path=\"url(#clip0602)\" d=\"\n",
       "M1626.96 1318.09 L1626.96 1388.71 L1656.17 1388.71 L1656.17 1318.09 L1626.96 1318.09 L1626.96 1318.09  Z\n",
       "  \" fill=\"#009af9\" fill-rule=\"evenodd\" fill-opacity=\"1\"/>\n",
       "<polyline clip-path=\"url(#clip0602)\" style=\"stroke:#000000; stroke-width:4; stroke-opacity:1; fill:none\" points=\"\n",
       "  1626.96,1318.09 1626.96,1388.71 1656.17,1388.71 1656.17,1318.09 1626.96,1318.09 \n",
       "  \"/>\n",
       "<path clip-path=\"url(#clip0602)\" d=\"\n",
       "M1663.48 1320.5 L1663.48 1388.71 L1692.69 1388.71 L1692.69 1320.5 L1663.48 1320.5 L1663.48 1320.5  Z\n",
       "  \" fill=\"#009af9\" fill-rule=\"evenodd\" fill-opacity=\"1\"/>\n",
       "<polyline clip-path=\"url(#clip0602)\" style=\"stroke:#000000; stroke-width:4; stroke-opacity:1; fill:none\" points=\"\n",
       "  1663.48,1320.5 1663.48,1388.71 1692.69,1388.71 1692.69,1320.5 1663.48,1320.5 \n",
       "  \"/>\n",
       "<path clip-path=\"url(#clip0602)\" d=\"\n",
       "M1699.99 1321.38 L1699.99 1388.71 L1729.2 1388.71 L1729.2 1321.38 L1699.99 1321.38 L1699.99 1321.38  Z\n",
       "  \" fill=\"#009af9\" fill-rule=\"evenodd\" fill-opacity=\"1\"/>\n",
       "<polyline clip-path=\"url(#clip0602)\" style=\"stroke:#000000; stroke-width:4; stroke-opacity:1; fill:none\" points=\"\n",
       "  1699.99,1321.38 1699.99,1388.71 1729.2,1388.71 1729.2,1321.38 1699.99,1321.38 \n",
       "  \"/>\n",
       "<path clip-path=\"url(#clip0602)\" d=\"\n",
       "M1736.5 1323.79 L1736.5 1388.71 L1765.71 1388.71 L1765.71 1323.79 L1736.5 1323.79 L1736.5 1323.79  Z\n",
       "  \" fill=\"#009af9\" fill-rule=\"evenodd\" fill-opacity=\"1\"/>\n",
       "<polyline clip-path=\"url(#clip0602)\" style=\"stroke:#000000; stroke-width:4; stroke-opacity:1; fill:none\" points=\"\n",
       "  1736.5,1323.79 1736.5,1388.71 1765.71,1388.71 1765.71,1323.79 1736.5,1323.79 \n",
       "  \"/>\n",
       "<path clip-path=\"url(#clip0602)\" d=\"\n",
       "M1773.02 1328.39 L1773.02 1388.71 L1802.23 1388.71 L1802.23 1328.39 L1773.02 1328.39 L1773.02 1328.39  Z\n",
       "  \" fill=\"#009af9\" fill-rule=\"evenodd\" fill-opacity=\"1\"/>\n",
       "<polyline clip-path=\"url(#clip0602)\" style=\"stroke:#000000; stroke-width:4; stroke-opacity:1; fill:none\" points=\"\n",
       "  1773.02,1328.39 1773.02,1388.71 1802.23,1388.71 1802.23,1328.39 1773.02,1328.39 \n",
       "  \"/>\n",
       "<path clip-path=\"url(#clip0602)\" d=\"\n",
       "M1809.53 1328.47 L1809.53 1388.71 L1838.74 1388.71 L1838.74 1328.47 L1809.53 1328.47 L1809.53 1328.47  Z\n",
       "  \" fill=\"#009af9\" fill-rule=\"evenodd\" fill-opacity=\"1\"/>\n",
       "<polyline clip-path=\"url(#clip0602)\" style=\"stroke:#000000; stroke-width:4; stroke-opacity:1; fill:none\" points=\"\n",
       "  1809.53,1328.47 1809.53,1388.71 1838.74,1388.71 1838.74,1328.47 1809.53,1328.47 \n",
       "  \"/>\n",
       "<path clip-path=\"url(#clip0602)\" d=\"\n",
       "M1846.04 1329.3 L1846.04 1388.71 L1875.25 1388.71 L1875.25 1329.3 L1846.04 1329.3 L1846.04 1329.3  Z\n",
       "  \" fill=\"#009af9\" fill-rule=\"evenodd\" fill-opacity=\"1\"/>\n",
       "<polyline clip-path=\"url(#clip0602)\" style=\"stroke:#000000; stroke-width:4; stroke-opacity:1; fill:none\" points=\"\n",
       "  1846.04,1329.3 1846.04,1388.71 1875.25,1388.71 1875.25,1329.3 1846.04,1329.3 \n",
       "  \"/>\n",
       "<path clip-path=\"url(#clip0602)\" d=\"\n",
       "M1882.56 1329.77 L1882.56 1388.71 L1911.77 1388.71 L1911.77 1329.77 L1882.56 1329.77 L1882.56 1329.77  Z\n",
       "  \" fill=\"#009af9\" fill-rule=\"evenodd\" fill-opacity=\"1\"/>\n",
       "<polyline clip-path=\"url(#clip0602)\" style=\"stroke:#000000; stroke-width:4; stroke-opacity:1; fill:none\" points=\"\n",
       "  1882.56,1329.77 1882.56,1388.71 1911.77,1388.71 1911.77,1329.77 1882.56,1329.77 \n",
       "  \"/>\n",
       "<path clip-path=\"url(#clip0602)\" d=\"\n",
       "M1919.07 1329.85 L1919.07 1388.71 L1948.28 1388.71 L1948.28 1329.85 L1919.07 1329.85 L1919.07 1329.85  Z\n",
       "  \" fill=\"#009af9\" fill-rule=\"evenodd\" fill-opacity=\"1\"/>\n",
       "<polyline clip-path=\"url(#clip0602)\" style=\"stroke:#000000; stroke-width:4; stroke-opacity:1; fill:none\" points=\"\n",
       "  1919.07,1329.85 1919.07,1388.71 1948.28,1388.71 1948.28,1329.85 1919.07,1329.85 \n",
       "  \"/>\n",
       "<path clip-path=\"url(#clip0602)\" d=\"\n",
       "M1955.58 1330.71 L1955.58 1388.71 L1984.79 1388.71 L1984.79 1330.71 L1955.58 1330.71 L1955.58 1330.71  Z\n",
       "  \" fill=\"#009af9\" fill-rule=\"evenodd\" fill-opacity=\"1\"/>\n",
       "<polyline clip-path=\"url(#clip0602)\" style=\"stroke:#000000; stroke-width:4; stroke-opacity:1; fill:none\" points=\"\n",
       "  1955.58,1330.71 1955.58,1388.71 1984.79,1388.71 1984.79,1330.71 1955.58,1330.71 \n",
       "  \"/>\n",
       "<path clip-path=\"url(#clip0602)\" d=\"\n",
       "M1992.09 1332.87 L1992.09 1388.71 L2021.3 1388.71 L2021.3 1332.87 L1992.09 1332.87 L1992.09 1332.87  Z\n",
       "  \" fill=\"#009af9\" fill-rule=\"evenodd\" fill-opacity=\"1\"/>\n",
       "<polyline clip-path=\"url(#clip0602)\" style=\"stroke:#000000; stroke-width:4; stroke-opacity:1; fill:none\" points=\"\n",
       "  1992.09,1332.87 1992.09,1388.71 2021.3,1388.71 2021.3,1332.87 1992.09,1332.87 \n",
       "  \"/>\n",
       "<path clip-path=\"url(#clip0602)\" d=\"\n",
       "M2028.61 1339.21 L2028.61 1388.71 L2057.82 1388.71 L2057.82 1339.21 L2028.61 1339.21 L2028.61 1339.21  Z\n",
       "  \" fill=\"#009af9\" fill-rule=\"evenodd\" fill-opacity=\"1\"/>\n",
       "<polyline clip-path=\"url(#clip0602)\" style=\"stroke:#000000; stroke-width:4; stroke-opacity:1; fill:none\" points=\"\n",
       "  2028.61,1339.21 2028.61,1388.71 2057.82,1388.71 2057.82,1339.21 2028.61,1339.21 \n",
       "  \"/>\n",
       "<path clip-path=\"url(#clip0602)\" d=\"\n",
       "M2065.12 1341.12 L2065.12 1388.71 L2094.33 1388.71 L2094.33 1341.12 L2065.12 1341.12 L2065.12 1341.12  Z\n",
       "  \" fill=\"#009af9\" fill-rule=\"evenodd\" fill-opacity=\"1\"/>\n",
       "<polyline clip-path=\"url(#clip0602)\" style=\"stroke:#000000; stroke-width:4; stroke-opacity:1; fill:none\" points=\"\n",
       "  2065.12,1341.12 2065.12,1388.71 2094.33,1388.71 2094.33,1341.12 2065.12,1341.12 \n",
       "  \"/>\n",
       "<path clip-path=\"url(#clip0602)\" d=\"\n",
       "M2101.63 1341.43 L2101.63 1388.71 L2130.84 1388.71 L2130.84 1341.43 L2101.63 1341.43 L2101.63 1341.43  Z\n",
       "  \" fill=\"#009af9\" fill-rule=\"evenodd\" fill-opacity=\"1\"/>\n",
       "<polyline clip-path=\"url(#clip0602)\" style=\"stroke:#000000; stroke-width:4; stroke-opacity:1; fill:none\" points=\"\n",
       "  2101.63,1341.43 2101.63,1388.71 2130.84,1388.71 2130.84,1341.43 2101.63,1341.43 \n",
       "  \"/>\n",
       "<path clip-path=\"url(#clip0602)\" d=\"\n",
       "M2138.15 1341.87 L2138.15 1388.71 L2167.36 1388.71 L2167.36 1341.87 L2138.15 1341.87 L2138.15 1341.87  Z\n",
       "  \" fill=\"#009af9\" fill-rule=\"evenodd\" fill-opacity=\"1\"/>\n",
       "<polyline clip-path=\"url(#clip0602)\" style=\"stroke:#000000; stroke-width:4; stroke-opacity:1; fill:none\" points=\"\n",
       "  2138.15,1341.87 2138.15,1388.71 2167.36,1388.71 2167.36,1341.87 2138.15,1341.87 \n",
       "  \"/>\n",
       "<path clip-path=\"url(#clip0602)\" d=\"\n",
       "M2174.66 1344.5 L2174.66 1388.71 L2203.87 1388.71 L2203.87 1344.5 L2174.66 1344.5 L2174.66 1344.5  Z\n",
       "  \" fill=\"#009af9\" fill-rule=\"evenodd\" fill-opacity=\"1\"/>\n",
       "<polyline clip-path=\"url(#clip0602)\" style=\"stroke:#000000; stroke-width:4; stroke-opacity:1; fill:none\" points=\"\n",
       "  2174.66,1344.5 2174.66,1388.71 2203.87,1388.71 2203.87,1344.5 2174.66,1344.5 \n",
       "  \"/>\n",
       "<path clip-path=\"url(#clip0602)\" d=\"\n",
       "M2211.17 1344.55 L2211.17 1388.71 L2240.38 1388.71 L2240.38 1344.55 L2211.17 1344.55 L2211.17 1344.55  Z\n",
       "  \" fill=\"#009af9\" fill-rule=\"evenodd\" fill-opacity=\"1\"/>\n",
       "<polyline clip-path=\"url(#clip0602)\" style=\"stroke:#000000; stroke-width:4; stroke-opacity:1; fill:none\" points=\"\n",
       "  2211.17,1344.55 2211.17,1388.71 2240.38,1388.71 2240.38,1344.55 2211.17,1344.55 \n",
       "  \"/>\n",
       "<path clip-path=\"url(#clip0600)\" d=\"\n",
       "M1989.93 326.155 L2280.76 326.155 L2280.76 205.195 L1989.93 205.195  Z\n",
       "  \" fill=\"#ffffff\" fill-rule=\"evenodd\" fill-opacity=\"1\"/>\n",
       "<polyline clip-path=\"url(#clip0600)\" style=\"stroke:#000000; stroke-width:4; stroke-opacity:1; fill:none\" points=\"\n",
       "  1989.93,326.155 2280.76,326.155 2280.76,205.195 1989.93,205.195 1989.93,326.155 \n",
       "  \"/>\n",
       "<path clip-path=\"url(#clip0600)\" d=\"\n",
       "M2013.93 289.867 L2157.93 289.867 L2157.93 241.483 L2013.93 241.483 L2013.93 289.867  Z\n",
       "  \" fill=\"#009af9\" fill-rule=\"evenodd\" fill-opacity=\"1\"/>\n",
       "<polyline clip-path=\"url(#clip0600)\" style=\"stroke:#000000; stroke-width:4; stroke-opacity:1; fill:none\" points=\"\n",
       "  2013.93,289.867 2157.93,289.867 2157.93,241.483 2013.93,241.483 2013.93,289.867 \n",
       "  \"/>\n",
       "<g clip-path=\"url(#clip0600)\">\n",
       "<text style=\"fill:#000000; fill-opacity:1; font-family:Arial,Helvetica Neue,Helvetica,sans-serif; font-size:48px; text-anchor:start;\" transform=\"rotate(0, 2181.93, 283.175)\" x=\"2181.93\" y=\"283.175\">y1</text>\n",
       "</g>\n",
       "</svg>\n"
      ]
     },
     "execution_count": 19,
     "metadata": {},
     "output_type": "execute_result"
    }
   ],
   "source": [
    "Plots.bar(word_count_df.tokens[1:50], word_count_df.count[1:50])\n",
    "Plots.ylabel!(\"Count\")\n",
    "Plots.xlabel!(\"token\")\n",
    "Plots.title!(\"Most frequent 50 tokens\")"
   ]
  },
  {
   "cell_type": "markdown",
   "metadata": {
    "slideshow": {
     "slide_type": "slide"
    }
   },
   "source": [
    "## Document-Term Matrix with `CountVectorizer`"
   ]
  },
  {
   "cell_type": "markdown",
   "metadata": {},
   "source": [
    "The scikit-learn preprocessing module offers two tools to create a document-term matrix. The [CountVectorizer](http://scikit-learn.org/stable/modules/generated/sklearn.feature_extraction.text.CountVectorizer.html) uses binary or absolute counts to measure the term frequency tf(d, t) for each document d and token t.\n",
    "\n",
    "The [TfIDFVectorizer](https://scikit-learn.org/stable/modules/generated/sklearn.feature_extraction.text.TfidfVectorizer.html), in contrast, weighs the (absolute) term frequency by the inverse document frequency (idf). As a result, a term that appears in more documents will receive a lower weight than a token with the same frequency for a given document but lower frequency across all documents. \n",
    "\n",
    "The resulting tf-idf vectors for each document are normalized with respect to their absolute or squared totals (see the sklearn documentation for details). The tf-idf measure was originally used in information retrieval to rank search engine results and has subsequently proven useful for text classification or clustering."
   ]
  },
  {
   "cell_type": "markdown",
   "metadata": {},
   "source": [
    "Both tools use the same interface and perform tokenization and further optional preprocessing of a list of documents before vectorizing the text by generating token counts to populate the document-term matrix.\n",
    "\n",
    "Key parameters that affect the size of the vocabulary include:\n",
    "\n",
    "- `stop_words`: use a built-in or provide a list of (frequent) words to exclude\n",
    "- `ngram_range`: include n-grams in a range for n defined by a tuple of (nmin, nmax)\n",
    "- `lowercase`: convert characters accordingly (default is True)\n",
    "- `min_df `/ max_df: ignore words that appear in less / more (int) or a smaller / larger share of documents (if float [0.0,1.0])\n",
    "- `max_features`: limit number of tokens in vocabulary accordingly\n",
    "- `binary`: set non-zero counts to 1 True"
   ]
  },
  {
   "cell_type": "markdown",
   "metadata": {},
   "source": [
    "### Key parameters"
   ]
  },
  {
   "cell_type": "code",
   "execution_count": 20,
   "metadata": {
    "ExecuteTime": {
     "end_time": "2020-06-20T17:16:31.267603Z",
     "start_time": "2020-06-20T17:16:31.265326Z"
    },
    "scrolled": true,
    "slideshow": {
     "slide_type": "fragment"
    }
   },
   "outputs": [
    {
     "name": "stdout",
     "output_type": "stream",
     "text": [
      "search: \u001b[0m\u001b[1mD\u001b[22m\u001b[0m\u001b[1mo\u001b[22m\u001b[0m\u001b[1mc\u001b[22m\u001b[0m\u001b[1mu\u001b[22m\u001b[0m\u001b[1mm\u001b[22m\u001b[0m\u001b[1me\u001b[22m\u001b[0m\u001b[1mn\u001b[22m\u001b[0m\u001b[1mt\u001b[22m\u001b[0m\u001b[1mT\u001b[22m\u001b[0m\u001b[1me\u001b[22m\u001b[0m\u001b[1mr\u001b[22m\u001b[0m\u001b[1mm\u001b[22m\u001b[0m\u001b[1mM\u001b[22m\u001b[0m\u001b[1ma\u001b[22m\u001b[0m\u001b[1mt\u001b[22m\u001b[0m\u001b[1mr\u001b[22m\u001b[0m\u001b[1mi\u001b[22m\u001b[0m\u001b[1mx\u001b[22m\n",
      "\n"
     ]
    },
    {
     "data": {
      "text/latex": [
       "\\begin{verbatim}\n",
       "DocumentTermMatrix(crps::Corpus)\n",
       "DocumentTermMatrix(crps::Corpus, terms::Vector{String})\n",
       "DocumentTermMatrix(crps::Corpus, lex::AbstractDict)\n",
       "DocumentTermMatrix(dtm::SparseMatrixCSC{Int, Int},terms::Vector{String})\n",
       "\\end{verbatim}\n",
       "Represent documents as a matrix of word counts.\n",
       "\n",
       "Allow us to apply linear algebra operations and statistical techniques. Need to update lexicon before use.\n",
       "\n",
       "\\section{Examples}\n",
       "\\begin{verbatim}\n",
       "julia> crps = Corpus([StringDocument(\"To be or not to be\"),\n",
       "                      StringDocument(\"To become or not to become\")])\n",
       "\n",
       "julia> update_lexicon!(crps)\n",
       "\n",
       "julia> m = DocumentTermMatrix(crps)\n",
       "A 2 X 6 DocumentTermMatrix\n",
       "\n",
       "julia> m.dtm\n",
       "2×6 SparseArrays.SparseMatrixCSC{Int64,Int64} with 10 stored entries:\n",
       "  [1, 1]  =  1\n",
       "  [2, 1]  =  1\n",
       "  [1, 2]  =  2\n",
       "  [2, 3]  =  2\n",
       "  [1, 4]  =  1\n",
       "  [2, 4]  =  1\n",
       "  [1, 5]  =  1\n",
       "  [2, 5]  =  1\n",
       "  [1, 6]  =  1\n",
       "  [2, 6]  =  1\n",
       "\\end{verbatim}\n"
      ],
      "text/markdown": [
       "```\n",
       "DocumentTermMatrix(crps::Corpus)\n",
       "DocumentTermMatrix(crps::Corpus, terms::Vector{String})\n",
       "DocumentTermMatrix(crps::Corpus, lex::AbstractDict)\n",
       "DocumentTermMatrix(dtm::SparseMatrixCSC{Int, Int},terms::Vector{String})\n",
       "```\n",
       "\n",
       "Represent documents as a matrix of word counts.\n",
       "\n",
       "Allow us to apply linear algebra operations and statistical techniques. Need to update lexicon before use.\n",
       "\n",
       "# Examples\n",
       "\n",
       "```julia-repl\n",
       "julia> crps = Corpus([StringDocument(\"To be or not to be\"),\n",
       "                      StringDocument(\"To become or not to become\")])\n",
       "\n",
       "julia> update_lexicon!(crps)\n",
       "\n",
       "julia> m = DocumentTermMatrix(crps)\n",
       "A 2 X 6 DocumentTermMatrix\n",
       "\n",
       "julia> m.dtm\n",
       "2×6 SparseArrays.SparseMatrixCSC{Int64,Int64} with 10 stored entries:\n",
       "  [1, 1]  =  1\n",
       "  [2, 1]  =  1\n",
       "  [1, 2]  =  2\n",
       "  [2, 3]  =  2\n",
       "  [1, 4]  =  1\n",
       "  [2, 4]  =  1\n",
       "  [1, 5]  =  1\n",
       "  [2, 5]  =  1\n",
       "  [1, 6]  =  1\n",
       "  [2, 6]  =  1\n",
       "```\n"
      ],
      "text/plain": [
       "\u001b[36m  DocumentTermMatrix(crps::Corpus)\u001b[39m\n",
       "\u001b[36m  DocumentTermMatrix(crps::Corpus, terms::Vector{String})\u001b[39m\n",
       "\u001b[36m  DocumentTermMatrix(crps::Corpus, lex::AbstractDict)\u001b[39m\n",
       "\u001b[36m  DocumentTermMatrix(dtm::SparseMatrixCSC{Int, Int},terms::Vector{String})\u001b[39m\n",
       "\n",
       "  Represent documents as a matrix of word counts.\n",
       "\n",
       "  Allow us to apply linear algebra operations and statistical techniques. Need\n",
       "  to update lexicon before use.\n",
       "\n",
       "\u001b[1m  Examples\u001b[22m\n",
       "\u001b[1m  ≡≡≡≡≡≡≡≡≡≡\u001b[22m\n",
       "\n",
       "\u001b[36m  julia> crps = Corpus([StringDocument(\"To be or not to be\"),\u001b[39m\n",
       "\u001b[36m                        StringDocument(\"To become or not to become\")])\u001b[39m\n",
       "\u001b[36m  \u001b[39m\n",
       "\u001b[36m  julia> update_lexicon!(crps)\u001b[39m\n",
       "\u001b[36m  \u001b[39m\n",
       "\u001b[36m  julia> m = DocumentTermMatrix(crps)\u001b[39m\n",
       "\u001b[36m  A 2 X 6 DocumentTermMatrix\u001b[39m\n",
       "\u001b[36m  \u001b[39m\n",
       "\u001b[36m  julia> m.dtm\u001b[39m\n",
       "\u001b[36m  2×6 SparseArrays.SparseMatrixCSC{Int64,Int64} with 10 stored entries:\u001b[39m\n",
       "\u001b[36m    [1, 1]  =  1\u001b[39m\n",
       "\u001b[36m    [2, 1]  =  1\u001b[39m\n",
       "\u001b[36m    [1, 2]  =  2\u001b[39m\n",
       "\u001b[36m    [2, 3]  =  2\u001b[39m\n",
       "\u001b[36m    [1, 4]  =  1\u001b[39m\n",
       "\u001b[36m    [2, 4]  =  1\u001b[39m\n",
       "\u001b[36m    [1, 5]  =  1\u001b[39m\n",
       "\u001b[36m    [2, 5]  =  1\u001b[39m\n",
       "\u001b[36m    [1, 6]  =  1\u001b[39m\n",
       "\u001b[36m    [2, 6]  =  1\u001b[39m"
      ]
     },
     "execution_count": 20,
     "metadata": {},
     "output_type": "execute_result"
    }
   ],
   "source": [
    "?DocumentTermMatrix"
   ]
  },
  {
   "cell_type": "code",
   "execution_count": 21,
   "metadata": {},
   "outputs": [
    {
     "name": "stdout",
     "output_type": "stream",
     "text": [
      "Convert a collection of text documents to a matrix of token counts.\n",
      "\n",
      "    This implementation produces a sparse representation of the counts using\n",
      "    scipy.sparse.csr_matrix.\n",
      "\n",
      "    If you do not provide an a-priori dictionary and you do not use an analyzer\n",
      "    that does some kind of feature selection then the number of features will\n",
      "    be equal to the vocabulary size found by analyzing the data.\n",
      "\n",
      "    Read more in the :ref:`User Guide <text_feature_extraction>`.\n",
      "\n",
      "    Parameters\n",
      "    ----------\n",
      "    input : {'filename', 'file', 'content'}, default='content'\n",
      "        - If `'filename'`, the sequence passed as an argument to fit is\n",
      "          expected to be a list of filenames that need reading to fetch\n",
      "          the raw content to analyze.\n",
      "\n",
      "        - If `'file'`, the sequence items must have a 'read' method (file-like\n",
      "          object) that is called to fetch the bytes in memory.\n",
      "\n",
      "        - If `'content'`, the input is expected to be a sequence of items that\n",
      "          can be of type string or byte.\n",
      "\n",
      "    encoding : str, default='utf-8'\n",
      "        If bytes or files are given to analyze, this encoding is used to\n",
      "        decode.\n",
      "\n",
      "    decode_error : {'strict', 'ignore', 'replace'}, default='strict'\n",
      "        Instruction on what to do if a byte sequence is given to analyze that\n",
      "        contains characters not of the given `encoding`. By default, it is\n",
      "        'strict', meaning that a UnicodeDecodeError will be raised. Other\n",
      "        values are 'ignore' and 'replace'.\n",
      "\n",
      "    strip_accents : {'ascii', 'unicode'}, default=None\n",
      "        Remove accents and perform other character normalization\n",
      "        during the preprocessing step.\n",
      "        'ascii' is a fast method that only works on characters that have\n",
      "        an direct ASCII mapping.\n",
      "        'unicode' is a slightly slower method that works on any characters.\n",
      "        None (default) does nothing.\n",
      "\n",
      "        Both 'ascii' and 'unicode' use NFKD normalization from\n",
      "        :func:`unicodedata.normalize`.\n",
      "\n",
      "    lowercase : bool, default=True\n",
      "        Convert all characters to lowercase before tokenizing.\n",
      "\n",
      "    preprocessor : callable, default=None\n",
      "        Override the preprocessing (strip_accents and lowercase) stage while\n",
      "        preserving the tokenizing and n-grams generation steps.\n",
      "        Only applies if ``analyzer`` is not callable.\n",
      "\n",
      "    tokenizer : callable, default=None\n",
      "        Override the string tokenization step while preserving the\n",
      "        preprocessing and n-grams generation steps.\n",
      "        Only applies if ``analyzer == 'word'``.\n",
      "\n",
      "    stop_words : {'english'}, list, default=None\n",
      "        If 'english', a built-in stop word list for English is used.\n",
      "        There are several known issues with 'english' and you should\n",
      "        consider an alternative (see :ref:`stop_words`).\n",
      "\n",
      "        If a list, that list is assumed to contain stop words, all of which\n",
      "        will be removed from the resulting tokens.\n",
      "        Only applies if ``analyzer == 'word'``.\n",
      "\n",
      "        If None, no stop words will be used. max_df can be set to a value\n",
      "        in the range [0.7, 1.0) to automatically detect and filter stop\n",
      "        words based on intra corpus document frequency of terms.\n",
      "\n",
      "    token_pattern : str, default=r\"(?u)\\\\b\\\\w\\\\w+\\\\b\"\n",
      "        Regular expression denoting what constitutes a \"token\", only used\n",
      "        if ``analyzer == 'word'``. The default regexp select tokens of 2\n",
      "        or more alphanumeric characters (punctuation is completely ignored\n",
      "        and always treated as a token separator).\n",
      "\n",
      "        If there is a capturing group in token_pattern then the\n",
      "        captured group content, not the entire match, becomes the token.\n",
      "        At most one capturing group is permitted.\n",
      "\n",
      "    ngram_range : tuple (min_n, max_n), default=(1, 1)\n",
      "        The lower and upper boundary of the range of n-values for different\n",
      "        word n-grams or char n-grams to be extracted. All values of n such\n",
      "        such that min_n <= n <= max_n will be used. For example an\n",
      "        ``ngram_range`` of ``(1, 1)`` means only unigrams, ``(1, 2)`` means\n",
      "        unigrams and bigrams, and ``(2, 2)`` means only bigrams.\n",
      "        Only applies if ``analyzer`` is not callable.\n",
      "\n",
      "    analyzer : {'word', 'char', 'char_wb'} or callable, default='word'\n",
      "        Whether the feature should be made of word n-gram or character\n",
      "        n-grams.\n",
      "        Option 'char_wb' creates character n-grams only from text inside\n",
      "        word boundaries; n-grams at the edges of words are padded with space.\n",
      "\n",
      "        If a callable is passed it is used to extract the sequence of features\n",
      "        out of the raw, unprocessed input.\n",
      "\n",
      "        .. versionchanged:: 0.21\n",
      "\n",
      "        Since v0.21, if ``input`` is ``filename`` or ``file``, the data is\n",
      "        first read from the file and then passed to the given callable\n",
      "        analyzer.\n",
      "\n",
      "    max_df : float in range [0.0, 1.0] or int, default=1.0\n",
      "        When building the vocabulary ignore terms that have a document\n",
      "        frequency strictly higher than the given threshold (corpus-specific\n",
      "        stop words).\n",
      "        If float, the parameter represents a proportion of documents, integer\n",
      "        absolute counts.\n",
      "        This parameter is ignored if vocabulary is not None.\n",
      "\n",
      "    min_df : float in range [0.0, 1.0] or int, default=1\n",
      "        When building the vocabulary ignore terms that have a document\n",
      "        frequency strictly lower than the given threshold. This value is also\n",
      "        called cut-off in the literature.\n",
      "        If float, the parameter represents a proportion of documents, integer\n",
      "        absolute counts.\n",
      "        This parameter is ignored if vocabulary is not None.\n",
      "\n",
      "    max_features : int, default=None\n",
      "        If not None, build a vocabulary that only consider the top\n",
      "        max_features ordered by term frequency across the corpus.\n",
      "\n",
      "        This parameter is ignored if vocabulary is not None.\n",
      "\n",
      "    vocabulary : Mapping or iterable, default=None\n",
      "        Either a Mapping (e.g., a dict) where keys are terms and values are\n",
      "        indices in the feature matrix, or an iterable over terms. If not\n",
      "        given, a vocabulary is determined from the input documents. Indices\n",
      "        in the mapping should not be repeated and should not have any gap\n",
      "        between 0 and the largest index.\n",
      "\n",
      "    binary : bool, default=False\n",
      "        If True, all non zero counts are set to 1. This is useful for discrete\n",
      "        probabilistic models that model binary events rather than integer\n",
      "        counts.\n",
      "\n",
      "    dtype : type, default=np.int64\n",
      "        Type of the matrix returned by fit_transform() or transform().\n",
      "\n",
      "    Attributes\n",
      "    ----------\n",
      "    vocabulary_ : dict\n",
      "        A mapping of terms to feature indices.\n",
      "\n",
      "    fixed_vocabulary_ : bool\n",
      "        True if a fixed vocabulary of term to indices mapping\n",
      "        is provided by the user.\n",
      "\n",
      "    stop_words_ : set\n",
      "        Terms that were ignored because they either:\n",
      "\n",
      "          - occurred in too many documents (`max_df`)\n",
      "          - occurred in too few documents (`min_df`)\n",
      "          - were cut off by feature selection (`max_features`).\n",
      "\n",
      "        This is only available if no vocabulary was given.\n",
      "\n",
      "    See Also\n",
      "    --------\n",
      "    HashingVectorizer : Convert a collection of text documents to a\n",
      "        matrix of token counts.\n",
      "\n",
      "    TfidfVectorizer : Convert a collection of raw documents to a matrix\n",
      "        of TF-IDF features.\n",
      "\n",
      "    Notes\n",
      "    -----\n",
      "    The ``stop_words_`` attribute can get large and increase the model size\n",
      "    when pickling. This attribute is provided only for introspection and can\n",
      "    be safely removed using delattr or set to None before pickling.\n",
      "\n",
      "    Examples\n",
      "    --------\n",
      "    >>> from sklearn.feature_extraction.text import CountVectorizer\n",
      "    >>> corpus = [\n",
      "    ...     'This is the first document.',\n",
      "    ...     'This document is the second document.',\n",
      "    ...     'And this is the third one.',\n",
      "    ...     'Is this the first document?',\n",
      "    ... ]\n",
      "    >>> vectorizer = CountVectorizer()\n",
      "    >>> X = vectorizer.fit_transform(corpus)\n",
      "    >>> vectorizer.get_feature_names_out()\n",
      "    array(['and', 'document', 'first', 'is', 'one', 'second', 'the', 'third',\n",
      "           'this'], ...)\n",
      "    >>> print(X.toarray())\n",
      "    [[0 1 1 1 0 0 1 0 1]\n",
      "     [0 2 0 1 0 1 1 0 1]\n",
      "     [1 0 0 1 1 0 1 1 1]\n",
      "     [0 1 1 1 0 0 1 0 1]]\n",
      "    >>> vectorizer2 = CountVectorizer(analyzer='word', ngram_range=(2, 2))\n",
      "    >>> X2 = vectorizer2.fit_transform(corpus)\n",
      "    >>> vectorizer2.get_feature_names_out()\n",
      "    array(['and this', 'document is', 'first document', 'is the', 'is this',\n",
      "           'second document', 'the first', 'the second', 'the third', 'third one',\n",
      "           'this document', 'this is', 'this the'], ...)\n",
      "     >>> print(X2.toarray())\n",
      "     [[0 0 1 1 0 0 1 0 0 0 0 1 0]\n",
      "     [0 1 0 1 0 1 0 1 0 0 1 0 0]\n",
      "     [1 0 0 1 0 0 0 0 1 1 0 1 0]\n",
      "     [0 0 1 0 1 0 1 0 0 0 0 0 1]]\n",
      "    \n"
     ]
    }
   ],
   "source": [
    "println(CountVectorizer().__doc__)"
   ]
  },
  {
   "cell_type": "markdown",
   "metadata": {},
   "source": [
    "### Document Frequency Distribution"
   ]
  },
  {
   "cell_type": "code",
   "execution_count": 22,
   "metadata": {
    "ExecuteTime": {
     "end_time": "2020-06-20T17:16:31.688693Z",
     "start_time": "2020-06-20T17:16:31.269315Z"
    }
   },
   "outputs": [
    {
     "data": {
      "text/plain": [
       "A Corpus with 2225 documents:\n",
       " * 2225 StringDocument's\n",
       " * 0 FileDocument's\n",
       " * 0 TokenDocument's\n",
       " * 0 NGramDocument's\n",
       "\n",
       "Corpus's lexicon contains 0 tokens\n",
       "Corpus's index contains 0 tokens"
      ]
     },
     "execution_count": 22,
     "metadata": {},
     "output_type": "execute_result"
    }
   ],
   "source": [
    "body_text = [StringDocument(x) for x in docs.body]\n",
    "crps = Corpus(body_text)"
   ]
  },
  {
   "cell_type": "code",
   "execution_count": 23,
   "metadata": {
    "ExecuteTime": {
     "end_time": "2020-06-20T17:16:31.692350Z",
     "start_time": "2020-06-20T17:16:31.689957Z"
    }
   },
   "outputs": [
    {
     "data": {
      "text/plain": [
       "A StringDocument{String}\n",
       " * Language: Languages.English()\n",
       " * Title: Untitled Document\n",
       " * Author: Unknown Author\n",
       " * Timestamp: Unknown Time\n",
       " * Snippet: Quarterly profits at US media giant TimeWarner jum"
      ]
     },
     "execution_count": 23,
     "metadata": {},
     "output_type": "execute_result"
    }
   ],
   "source": [
    "documents = crps.documents\n",
    "documents[1]"
   ]
  },
  {
   "cell_type": "code",
   "execution_count": 24,
   "metadata": {
    "ExecuteTime": {
     "end_time": "2020-06-20T17:16:31.701870Z",
     "start_time": "2020-06-20T17:16:31.693172Z"
    }
   },
   "outputs": [],
   "source": [
    "update_lexicon!(crps)"
   ]
  },
  {
   "cell_type": "code",
   "execution_count": 25,
   "metadata": {},
   "outputs": [
    {
     "data": {
      "text/plain": [
       "1×48231 Matrix{Int64}:\n",
       " 0  2  0  9  0  8  0  5  2  2  0  0  …  0  0  0  0  0  0  0  0  0  0  1  1"
      ]
     },
     "execution_count": 25,
     "metadata": {},
     "output_type": "execute_result"
    }
   ],
   "source": [
    "dtv(crps[1], lexicon(crps))"
   ]
  },
  {
   "cell_type": "code",
   "execution_count": 26,
   "metadata": {
    "ExecuteTime": {
     "end_time": "2020-06-20T17:16:31.720141Z",
     "start_time": "2020-06-20T17:16:31.702751Z"
    }
   },
   "outputs": [
    {
     "data": {
      "text/plain": [
       "2225×48231 SparseArrays.SparseMatrixCSC{Int64, Int64} with 497056 stored entries:\n",
       "⠿⠿⠿⠿⠿⠿⠿⠿⠿⠿⠿⠿⠿⠿⠿⠿⠿⠿⠿⠿⠿⠿⠿⠿⠿⠿⠿⠿⠿⠿⠿⠿⠿⠿⠿⠿⠿⠿⠿⠿"
      ]
     },
     "execution_count": 26,
     "metadata": {},
     "output_type": "execute_result"
    }
   ],
   "source": [
    "doc_term_matrix = DocumentTermMatrix(crps)\n",
    "doc_term_matrix = dtm(doc_term_matrix)"
   ]
  },
  {
   "cell_type": "code",
   "execution_count": 27,
   "metadata": {},
   "outputs": [
    {
     "data": {
      "text/plain": [
       "(2225, 48231)"
      ]
     },
     "execution_count": 27,
     "metadata": {},
     "output_type": "execute_result"
    }
   ],
   "source": [
    "size(doc_term_matrix)"
   ]
  },
  {
   "cell_type": "markdown",
   "metadata": {},
   "source": [
    "### CountVectorizer"
   ]
  },
  {
   "cell_type": "code",
   "execution_count": 28,
   "metadata": {},
   "outputs": [
    {
     "data": {
      "text/plain": [
       "PyObject <2225x29447 sparse matrix of type '<class 'numpy.int64'>'\n",
       "\twith 445887 stored elements in Compressed Sparse Row format>"
      ]
     },
     "execution_count": 28,
     "metadata": {},
     "output_type": "execute_result"
    }
   ],
   "source": [
    "binary_vectorizer = CountVectorizer(max_df=1.0,\n",
    "                                    min_df=1,\n",
    "                                    binary=true)\n",
    "\n",
    "binary_dtm = binary_vectorizer.fit_transform(docs.body)"
   ]
  },
  {
   "cell_type": "code",
   "execution_count": 29,
   "metadata": {},
   "outputs": [
    {
     "data": {
      "text/plain": [
       "PyObject <2225x29447 sparse matrix of type '<class 'numpy.int64'>'\n",
       "\twith 445887 stored elements in Compressed Sparse Row format>"
      ]
     },
     "execution_count": 29,
     "metadata": {},
     "output_type": "execute_result"
    }
   ],
   "source": [
    "binary_dtm"
   ]
  },
  {
   "cell_type": "code",
   "execution_count": 30,
   "metadata": {},
   "outputs": [
    {
     "data": {
      "text/plain": [
       "(2225, 29447)"
      ]
     },
     "execution_count": 30,
     "metadata": {},
     "output_type": "execute_result"
    }
   ],
   "source": [
    "n_docs, n_tokens = binary_dtm.shape"
   ]
  },
  {
   "cell_type": "code",
   "execution_count": 31,
   "metadata": {
    "scrolled": true
   },
   "outputs": [
    {
     "name": "stderr",
     "output_type": "stream",
     "text": [
      "C:\\Users\\Amirreza\\.julia\\conda\\3\\lib\\site-packages\\sklearn\\utils\\deprecation.py:87: FutureWarning: Function get_feature_names is deprecated; get_feature_names is deprecated in 1.0 and will be removed in 1.2. Please use get_feature_names_out instead.\r\n",
      "  warnings.warn(msg, category=FutureWarning)\r\n"
     ]
    },
    {
     "data": {
      "text/plain": [
       "29447-element Vector{String}:\n",
       " \"00\"\n",
       " \"000\"\n",
       " \"0001\"\n",
       " \"000bn\"\n",
       " \"000m\"\n",
       " \"000s\"\n",
       " \"000th\"\n",
       " \"001\"\n",
       " \"001and\"\n",
       " \"001st\"\n",
       " \"004\"\n",
       " \"0051\"\n",
       " \"007\"\n",
       " ⋮\n",
       " \"zones\"\n",
       " \"zoom\"\n",
       " \"zooms\"\n",
       " \"zooropa\"\n",
       " \"zornotza\"\n",
       " \"zorro\"\n",
       " \"zubair\"\n",
       " \"zuluaga\"\n",
       " \"zurich\"\n",
       " \"zutons\"\n",
       " \"zvonareva\"\n",
       " \"zvyagintsev\""
      ]
     },
     "execution_count": 31,
     "metadata": {},
     "output_type": "execute_result"
    }
   ],
   "source": [
    "tokens_dtm = binary_vectorizer.get_feature_names()"
   ]
  },
  {
   "cell_type": "code",
   "execution_count": 32,
   "metadata": {
    "ExecuteTime": {
     "end_time": "2020-06-20T17:16:31.812806Z",
     "start_time": "2020-06-20T17:16:31.808310Z"
    },
    "scrolled": true
   },
   "outputs": [
    {
     "data": {
      "text/plain": [
       "29447-element Vector{Float64}:\n",
       " 0.002696629213483146\n",
       " 0.21797752808988763\n",
       " 0.00044943820224719103\n",
       " 0.00044943820224719103\n",
       " 0.009887640449438202\n",
       " 0.0008988764044943821\n",
       " 0.0017977528089887641\n",
       " 0.00044943820224719103\n",
       " 0.00044943820224719103\n",
       " 0.00044943820224719103\n",
       " 0.00044943820224719103\n",
       " 0.00044943820224719103\n",
       " 0.0017977528089887641\n",
       " ⋮\n",
       " 0.001348314606741573\n",
       " 0.001348314606741573\n",
       " 0.0008988764044943821\n",
       " 0.00044943820224719103\n",
       " 0.00044943820224719103\n",
       " 0.00044943820224719103\n",
       " 0.00044943820224719103\n",
       " 0.00044943820224719103\n",
       " 0.006292134831460674\n",
       " 0.00044943820224719103\n",
       " 0.0008988764044943821\n",
       " 0.0008988764044943821"
      ]
     },
     "execution_count": 32,
     "metadata": {},
     "output_type": "execute_result"
    }
   ],
   "source": [
    "doc_freq = sum.(eachcol(binary_dtm.todense())) ./ n_docs"
   ]
  },
  {
   "cell_type": "code",
   "execution_count": 33,
   "metadata": {},
   "outputs": [
    {
     "data": {
      "text/plain": [
       "1261"
      ]
     },
     "execution_count": 33,
     "metadata": {},
     "output_type": "execute_result"
    }
   ],
   "source": [
    "max_unique_tokens = maximum(sum.(eachrow(binary_dtm.todense())))"
   ]
  },
  {
   "cell_type": "markdown",
   "metadata": {},
   "source": [
    "### Most similar documents"
   ]
  },
  {
   "cell_type": "markdown",
   "metadata": {},
   "source": [
    "The CountVectorizer result lets us find the most similar documents using the `pdist()` function for pairwise distances provided by the `scipy.spatial.distance` module. \n",
    "\n",
    "It returns a  condensed distance matrix with entries corresponding to the upper triangle of a square matrix. \n",
    "\n",
    "We use `np.triu_indices()` to translate the index that minimizes the distance to the row and column indices that in turn correspond to the closest token vectors. "
   ]
  },
  {
   "cell_type": "code",
   "execution_count": 34,
   "metadata": {},
   "outputs": [
    {
     "data": {
      "text/plain": [
       "PyObject <function pdist at 0x000000007D4FAF70>"
      ]
     },
     "execution_count": 34,
     "metadata": {},
     "output_type": "execute_result"
    }
   ],
   "source": [
    "pdist = SciPy.spatial.distance.pdist"
   ]
  },
  {
   "cell_type": "code",
   "execution_count": 35,
   "metadata": {
    "ExecuteTime": {
     "end_time": "2020-06-20T17:17:12.679717Z",
     "start_time": "2020-06-20T17:16:32.564306Z"
    },
    "scrolled": true
   },
   "outputs": [
    {
     "data": {
      "text/plain": [
       "2474200-element Vector{Float64}:\n",
       " 0.8048726527834398\n",
       " 0.7989052032382685\n",
       " 0.6936359299518536\n",
       " 0.7889879728948767\n",
       " 0.820115038256859\n",
       " 0.7942632735725048\n",
       " 0.8291095677838901\n",
       " 0.839101715901273\n",
       " 0.8425872906594042\n",
       " 0.7085282994656439\n",
       " 0.8044516960456964\n",
       " 0.791439729252712\n",
       " 0.7996588513350966\n",
       " ⋮\n",
       " 0.7820215150914179\n",
       " 0.7473032439418401\n",
       " 0.7454630988355493\n",
       " 0.7471897085198846\n",
       " 0.7703848608472288\n",
       " 0.7911961834246675\n",
       " 0.8013799660200569\n",
       " 0.755591436809276\n",
       " 0.8268739397685796\n",
       " 0.788074822869593\n",
       " 0.7215743666015406\n",
       " 0.811376174971397"
      ]
     },
     "execution_count": 35,
     "metadata": {},
     "output_type": "execute_result"
    }
   ],
   "source": [
    "m = binary_dtm.todense()\n",
    "pairwise_distances = pdist(m, metric=\"cosine\")"
   ]
  },
  {
   "cell_type": "code",
   "execution_count": 36,
   "metadata": {
    "ExecuteTime": {
     "end_time": "2020-06-20T17:17:12.684227Z",
     "start_time": "2020-06-20T17:17:12.680626Z"
    },
    "scrolled": true
   },
   "outputs": [
    {
     "data": {
      "text/plain": [
       "13575"
      ]
     },
     "execution_count": 36,
     "metadata": {},
     "output_type": "execute_result"
    }
   ],
   "source": [
    "closest = argmin(pairwise_distances)"
   ]
  },
  {
   "cell_type": "code",
   "execution_count": 37,
   "metadata": {},
   "outputs": [],
   "source": [
    "@pyimport numpy"
   ]
  },
  {
   "cell_type": "code",
   "execution_count": 38,
   "metadata": {
    "ExecuteTime": {
     "end_time": "2020-06-20T17:17:12.714815Z",
     "start_time": "2020-06-20T17:17:12.685219Z"
    }
   },
   "outputs": [
    {
     "data": {
      "text/plain": [
       "(6, 245)"
      ]
     },
     "execution_count": 38,
     "metadata": {},
     "output_type": "execute_result"
    }
   ],
   "source": [
    "rows, cols = numpy.triu_indices(n_docs)\n",
    "rows[closest], cols[closest]"
   ]
  },
  {
   "cell_type": "code",
   "execution_count": 39,
   "metadata": {
    "ExecuteTime": {
     "end_time": "2020-06-20T17:17:12.732487Z",
     "start_time": "2020-06-20T17:17:12.720618Z"
    },
    "scrolled": true
   },
   "outputs": [
    {
     "data": {
      "text/html": [
       "<p>DataFrameRow (3 columns)</p><div class=\"data-frame\"><table class=\"data-frame\"><thead><tr><th></th><th>topic</th><th>heading</th><th>body</th></tr><tr><th></th><th title=\"String\">String</th><th title=\"String\">String</th><th title=\"String\">String</th></tr></thead><tbody><tr><th>7</th><td>business</td><td>Jobs growth still slow in the US</td><td>The US created fewer jobs than expected in January, but a fall in jobseekers pushed the unemployment rate to its lowest level in three years.According to Labor Department figures, US firms added only 146,000 jobs in January. The gain in non-farm payrolls was below market expectations of 190,000 new jobs. Nevertheless it was enough to push down the unemployment rate to 5.2%, its lowest level since September 2001. The job gains mean that President Bush can celebrate - albeit by a very fine margin - a net growth in jobs in the US economy in his first term in office. He presided over a net fall in jobs up to last November&apos;s Presidential election - the first President to do so since Herbert Hoover. As a result, job creation became a key issue in last year&apos;s election. However, when adding December and January&apos;s figures, the administration&apos;s first term jobs record ended in positive territory.The Labor Department also said it had revised down the jobs gains in December 2004, from 157,000 to 133,000.Analysts said the growth in new jobs was not as strong as could be expected given the favourable economic conditions. &quot;It suggests that employment is continuing to expand at a moderate pace,&quot; said Rick Egelton, deputy chief economist at BMO Financial Group. &quot;We are not getting the boost to employment that we would have got given the low value of the dollar and the still relatively low interest rate environment.&quot; &quot;The economy is producing a moderate but not a satisfying amount of job growth,&quot; said Ken Mayland, president of ClearView Economics. &quot;That means there are a limited number of new opportunities for workers.&quot;</td></tr></tbody></table></div>"
      ],
      "text/latex": [
       "\\begin{tabular}{r|ccc}\n",
       "\t& topic & heading & body\\\\\n",
       "\t\\hline\n",
       "\t& String & String & String\\\\\n",
       "\t\\hline\n",
       "\t7 & business & Jobs growth still slow in the US & The US created fewer jobs than expected in January, but a fall in jobseekers pushed the unemployment rate to its lowest level in three years.According to Labor Department figures, US firms added only 146,000 jobs in January. The gain in non-farm payrolls was below market expectations of 190,000 new jobs. Nevertheless it was enough to push down the unemployment rate to 5.2\\%, its lowest level since September 2001. The job gains mean that President Bush can celebrate - albeit by a very fine margin - a net growth in jobs in the US economy in his first term in office. He presided over a net fall in jobs up to last November's Presidential election - the first President to do so since Herbert Hoover. As a result, job creation became a key issue in last year's election. However, when adding December and January's figures, the administration's first term jobs record ended in positive territory.The Labor Department also said it had revised down the jobs gains in December 2004, from 157,000 to 133,000.Analysts said the growth in new jobs was not as strong as could be expected given the favourable economic conditions. \"It suggests that employment is continuing to expand at a moderate pace,\" said Rick Egelton, deputy chief economist at BMO Financial Group. \"We are not getting the boost to employment that we would have got given the low value of the dollar and the still relatively low interest rate environment.\" \"The economy is producing a moderate but not a satisfying amount of job growth,\" said Ken Mayland, president of ClearView Economics. \"That means there are a limited number of new opportunities for workers.\" \\\\\n",
       "\\end{tabular}\n"
      ],
      "text/plain": [
       "\u001b[1mDataFrameRow\u001b[0m\n",
       "\u001b[1m Row \u001b[0m│\u001b[1m topic    \u001b[0m\u001b[1m heading                          \u001b[0m\u001b[1m body                       \u001b[0m ⋯\n",
       "\u001b[1m     \u001b[0m│\u001b[90m String   \u001b[0m\u001b[90m String                           \u001b[0m\u001b[90m String                     \u001b[0m ⋯\n",
       "─────┼──────────────────────────────────────────────────────────────────────────\n",
       "   7 │ business  Jobs growth still slow in the US  The US created fewer jobs t ⋯\n",
       "\u001b[36m                                                                1 column omitted\u001b[0m"
      ]
     },
     "execution_count": 39,
     "metadata": {},
     "output_type": "execute_result"
    }
   ],
   "source": [
    "docs[7, :]"
   ]
  },
  {
   "cell_type": "code",
   "execution_count": 40,
   "metadata": {
    "scrolled": true
   },
   "outputs": [
    {
     "data": {
      "text/plain": [
       "2225×29447 Matrix{Int64}:\n",
       " 0  1  0  0  0  0  0  0  0  0  0  0  0  …  0  0  0  0  0  0  0  0  0  0  0  0\n",
       " 0  0  0  0  0  0  0  0  0  0  0  0  0     0  0  0  0  0  0  0  0  0  0  0  0\n",
       " 0  0  0  0  0  0  0  0  0  0  0  0  0     0  0  0  0  0  0  0  0  0  0  0  0\n",
       " 0  1  0  0  0  0  0  0  0  0  0  0  0     0  0  0  0  0  0  0  0  0  0  0  0\n",
       " 0  0  0  0  0  0  0  0  0  0  0  0  0     0  0  0  0  0  0  0  0  0  0  0  0\n",
       " 0  0  0  0  0  0  0  0  0  0  0  0  0  …  0  0  0  0  0  0  0  0  0  0  0  0\n",
       " 0  1  0  0  0  0  0  0  0  0  0  0  0     0  0  0  0  0  0  0  0  0  0  0  0\n",
       " 0  0  0  0  0  0  0  0  0  0  0  0  0     0  0  0  0  0  0  0  0  0  0  0  0\n",
       " 0  1  0  0  0  0  0  0  0  0  0  0  0     0  0  0  0  0  0  0  0  0  0  0  0\n",
       " 0  0  0  0  0  0  0  0  0  0  0  0  0     0  0  0  0  0  0  0  0  0  0  0  0\n",
       " 0  0  0  0  0  0  0  0  0  0  0  0  0  …  0  0  0  0  0  0  0  0  0  0  0  0\n",
       " 0  0  0  0  0  0  0  0  0  0  0  0  0     0  0  0  0  0  0  0  0  0  0  0  0\n",
       " 0  1  0  0  0  0  0  0  0  0  0  0  0     0  0  0  0  0  0  0  0  0  0  0  0\n",
       " ⋮              ⋮              ⋮        ⋱  ⋮              ⋮              ⋮  \n",
       " 0  0  0  0  0  0  0  0  0  0  0  0  0     0  0  0  0  0  0  0  0  0  0  0  0\n",
       " 0  0  0  0  0  0  0  0  0  0  0  0  0     0  0  0  0  0  0  0  0  0  0  0  0\n",
       " 0  0  0  0  0  0  0  0  0  0  0  0  0  …  0  0  0  0  0  0  0  0  0  0  0  0\n",
       " 0  0  0  0  0  0  0  0  0  0  0  0  0     0  0  0  0  0  0  0  0  0  0  0  0\n",
       " 0  0  0  0  0  0  0  0  0  0  0  0  0     0  0  0  0  0  0  0  0  0  0  0  0\n",
       " 0  1  0  0  0  0  0  0  0  0  0  0  0     0  0  0  0  0  0  0  0  0  0  0  0\n",
       " 0  1  0  0  0  0  0  0  0  0  0  0  0     0  0  0  0  0  0  0  0  0  0  0  0\n",
       " 0  1  0  0  0  0  0  0  0  0  0  0  0  …  0  0  0  0  0  0  0  0  0  0  0  0\n",
       " 0  1  0  0  0  0  0  0  0  0  0  0  0     0  0  0  0  0  0  0  0  0  0  0  0\n",
       " 0  0  0  0  0  0  0  0  0  0  0  0  0     0  0  0  0  0  0  0  0  0  0  0  0\n",
       " 0  0  0  0  0  0  0  0  0  0  0  0  0     0  0  0  0  0  0  0  0  0  0  0  0\n",
       " 0  1  0  0  0  0  0  0  0  0  0  0  0     0  0  0  0  0  0  0  0  0  0  0  0"
      ]
     },
     "execution_count": 40,
     "metadata": {},
     "output_type": "execute_result"
    }
   ],
   "source": [
    "m = binary_dtm.todense()"
   ]
  },
  {
   "cell_type": "code",
   "execution_count": 41,
   "metadata": {
    "scrolled": true
   },
   "outputs": [
    {
     "data": {
      "text/plain": [
       "29447-element Vector{Int64}:\n",
       " 0\n",
       " 1\n",
       " 0\n",
       " 0\n",
       " 0\n",
       " 0\n",
       " 0\n",
       " 0\n",
       " 0\n",
       " 0\n",
       " 0\n",
       " 0\n",
       " 0\n",
       " ⋮\n",
       " 0\n",
       " 0\n",
       " 0\n",
       " 0\n",
       " 0\n",
       " 0\n",
       " 0\n",
       " 0\n",
       " 0\n",
       " 0\n",
       " 0\n",
       " 0"
      ]
     },
     "execution_count": 41,
     "metadata": {},
     "output_type": "execute_result"
    }
   ],
   "source": [
    "sum_col_closest = sum.(eachcol(DataFrame(m[[7, 246], :], :auto)))"
   ]
  },
  {
   "cell_type": "code",
   "execution_count": 42,
   "metadata": {},
   "outputs": [
    {
     "data": {
      "text/plain": [
       "OrderedDict{Int64, Int64} with 3 entries:\n",
       "  0 => 29144\n",
       "  1 => 265\n",
       "  2 => 38"
      ]
     },
     "execution_count": 42,
     "metadata": {},
     "output_type": "execute_result"
    }
   ],
   "source": [
    "sort!(OrderedDict(countmap(sum_col_closest)))"
   ]
  },
  {
   "cell_type": "markdown",
   "metadata": {
    "slideshow": {
     "slide_type": "slide"
    }
   },
   "source": [
    "### Baseline document-term matrix"
   ]
  },
  {
   "cell_type": "code",
   "execution_count": 43,
   "metadata": {
    "scrolled": false
   },
   "outputs": [
    {
     "data": {
      "text/plain": [
       "A Corpus with 2225 documents:\n",
       " * 2225 StringDocument's\n",
       " * 0 FileDocument's\n",
       " * 0 TokenDocument's\n",
       " * 0 NGramDocument's\n",
       "\n",
       "Corpus's lexicon contains 0 tokens\n",
       "Corpus's index contains 0 tokens"
      ]
     },
     "execution_count": 43,
     "metadata": {},
     "output_type": "execute_result"
    }
   ],
   "source": [
    "body_text = [StringDocument(x) for x in docs.body]\n",
    "crps = Corpus(body_text)"
   ]
  },
  {
   "cell_type": "code",
   "execution_count": 44,
   "metadata": {},
   "outputs": [
    {
     "data": {
      "text/plain": [
       "A StringDocument{String}\n",
       " * Language: Languages.English()\n",
       " * Title: Untitled Document\n",
       " * Author: Unknown Author\n",
       " * Timestamp: Unknown Time\n",
       " * Snippet: Quarterly profits at US media giant TimeWarner jum"
      ]
     },
     "execution_count": 44,
     "metadata": {},
     "output_type": "execute_result"
    }
   ],
   "source": [
    "documents = crps.documents\n",
    "documents[1]"
   ]
  },
  {
   "cell_type": "code",
   "execution_count": 45,
   "metadata": {},
   "outputs": [],
   "source": [
    "update_lexicon!(crps)"
   ]
  },
  {
   "cell_type": "code",
   "execution_count": 46,
   "metadata": {
    "scrolled": true
   },
   "outputs": [
    {
     "data": {
      "text/plain": [
       "2225×48231 SparseArrays.SparseMatrixCSC{Int64, Int64} with 497056 stored entries:\n",
       "⠿⠿⠿⠿⠿⠿⠿⠿⠿⠿⠿⠿⠿⠿⠿⠿⠿⠿⠿⠿⠿⠿⠿⠿⠿⠿⠿⠿⠿⠿⠿⠿⠿⠿⠿⠿⠿⠿⠿⠿"
      ]
     },
     "execution_count": 46,
     "metadata": {},
     "output_type": "execute_result"
    }
   ],
   "source": [
    "doc_term_matrix = DocumentTermMatrix(crps)\n",
    "doc_term_matrix = dtm(doc_term_matrix)"
   ]
  },
  {
   "cell_type": "code",
   "execution_count": 47,
   "metadata": {
    "scrolled": true
   },
   "outputs": [
    {
     "data": {
      "text/plain": [
       "(2225, 48231)"
      ]
     },
     "execution_count": 47,
     "metadata": {},
     "output_type": "execute_result"
    }
   ],
   "source": [
    "size(doc_term_matrix)"
   ]
  },
  {
   "cell_type": "markdown",
   "metadata": {},
   "source": [
    "### Baseline document-term matrix (CountVectorizer())"
   ]
  },
  {
   "cell_type": "code",
   "execution_count": 48,
   "metadata": {},
   "outputs": [
    {
     "data": {
      "text/plain": [
       "PyObject <2225x29447 sparse matrix of type '<class 'numpy.int64'>'\n",
       "\twith 445887 stored elements in Compressed Sparse Row format>"
      ]
     },
     "execution_count": 48,
     "metadata": {},
     "output_type": "execute_result"
    }
   ],
   "source": [
    "vectorizer = CountVectorizer()\n",
    "doc_term_matrix = vectorizer.fit_transform(docs.body)\n",
    "doc_term_matrix"
   ]
  },
  {
   "cell_type": "code",
   "execution_count": 49,
   "metadata": {},
   "outputs": [
    {
     "data": {
      "text/plain": [
       "(2225, 29447)"
      ]
     },
     "execution_count": 49,
     "metadata": {},
     "output_type": "execute_result"
    }
   ],
   "source": [
    "doc_term_matrix.shape"
   ]
  },
  {
   "cell_type": "markdown",
   "metadata": {
    "slideshow": {
     "slide_type": "slide"
    }
   },
   "source": [
    "### Inspect tokens"
   ]
  },
  {
   "cell_type": "code",
   "execution_count": 50,
   "metadata": {
    "ExecuteTime": {
     "end_time": "2020-06-20T17:17:13.188543Z",
     "start_time": "2020-06-20T17:17:13.153164Z"
    },
    "slideshow": {
     "slide_type": "fragment"
    }
   },
   "outputs": [
    {
     "data": {
      "text/plain": [
       "10-element Vector{String}:\n",
       " \"00\"\n",
       " \"000\"\n",
       " \"0001\"\n",
       " \"000bn\"\n",
       " \"000m\"\n",
       " \"000s\"\n",
       " \"000th\"\n",
       " \"001\"\n",
       " \"001and\"\n",
       " \"001st\""
      ]
     },
     "execution_count": 50,
     "metadata": {},
     "output_type": "execute_result"
    }
   ],
   "source": [
    "# vectorizer keeps words\n",
    "words_list = vectorizer.get_feature_names()\n",
    "words_list[1:10]"
   ]
  },
  {
   "cell_type": "markdown",
   "metadata": {
    "slideshow": {
     "slide_type": "slide"
    }
   },
   "source": [
    "### Inspect doc-term matrix"
   ]
  },
  {
   "cell_type": "code",
   "execution_count": 51,
   "metadata": {
    "ExecuteTime": {
     "end_time": "2020-06-20T17:17:21.795737Z",
     "start_time": "2020-06-20T17:17:13.191151Z"
    },
    "slideshow": {
     "slide_type": "fragment"
    }
   },
   "outputs": [
    {
     "data": {
      "text/html": [
       "<div class=\"data-frame\"><p>5 rows × 29,447 columns (omitted printing of 29435 columns)</p><table class=\"data-frame\"><thead><tr><th></th><th>00</th><th>000</th><th>0001</th><th>000bn</th><th>000m</th><th>000s</th><th>000th</th><th>001</th><th>001and</th><th>001st</th><th>004</th><th>0051</th></tr><tr><th></th><th title=\"Int64\">Int64</th><th title=\"Int64\">Int64</th><th title=\"Int64\">Int64</th><th title=\"Int64\">Int64</th><th title=\"Int64\">Int64</th><th title=\"Int64\">Int64</th><th title=\"Int64\">Int64</th><th title=\"Int64\">Int64</th><th title=\"Int64\">Int64</th><th title=\"Int64\">Int64</th><th title=\"Int64\">Int64</th><th title=\"Int64\">Int64</th></tr></thead><tbody><tr><th>1</th><td>0</td><td>1</td><td>0</td><td>0</td><td>0</td><td>0</td><td>0</td><td>0</td><td>0</td><td>0</td><td>0</td><td>0</td></tr><tr><th>2</th><td>0</td><td>0</td><td>0</td><td>0</td><td>0</td><td>0</td><td>0</td><td>0</td><td>0</td><td>0</td><td>0</td><td>0</td></tr><tr><th>3</th><td>0</td><td>0</td><td>0</td><td>0</td><td>0</td><td>0</td><td>0</td><td>0</td><td>0</td><td>0</td><td>0</td><td>0</td></tr><tr><th>4</th><td>0</td><td>1</td><td>0</td><td>0</td><td>0</td><td>0</td><td>0</td><td>0</td><td>0</td><td>0</td><td>0</td><td>0</td></tr><tr><th>5</th><td>0</td><td>0</td><td>0</td><td>0</td><td>0</td><td>0</td><td>0</td><td>0</td><td>0</td><td>0</td><td>0</td><td>0</td></tr></tbody></table></div>"
      ],
      "text/latex": [
       "\\begin{tabular}{r|ccccccccccccc}\n",
       "\t& 00 & 000 & 0001 & 000bn & 000m & 000s & 000th & 001 & 001and & 001st & 004 & 0051 & \\\\\n",
       "\t\\hline\n",
       "\t& Int64 & Int64 & Int64 & Int64 & Int64 & Int64 & Int64 & Int64 & Int64 & Int64 & Int64 & Int64 & \\\\\n",
       "\t\\hline\n",
       "\t1 & 0 & 1 & 0 & 0 & 0 & 0 & 0 & 0 & 0 & 0 & 0 & 0 & $\\dots$ \\\\\n",
       "\t2 & 0 & 0 & 0 & 0 & 0 & 0 & 0 & 0 & 0 & 0 & 0 & 0 & $\\dots$ \\\\\n",
       "\t3 & 0 & 0 & 0 & 0 & 0 & 0 & 0 & 0 & 0 & 0 & 0 & 0 & $\\dots$ \\\\\n",
       "\t4 & 0 & 1 & 0 & 0 & 0 & 0 & 0 & 0 & 0 & 0 & 0 & 0 & $\\dots$ \\\\\n",
       "\t5 & 0 & 0 & 0 & 0 & 0 & 0 & 0 & 0 & 0 & 0 & 0 & 0 & $\\dots$ \\\\\n",
       "\\end{tabular}\n"
      ],
      "text/plain": [
       "\u001b[1m5×29447 DataFrame\u001b[0m\n",
       "\u001b[1m Row \u001b[0m│\u001b[1m 00    \u001b[0m\u001b[1m 000   \u001b[0m\u001b[1m 0001  \u001b[0m\u001b[1m 000bn \u001b[0m\u001b[1m 000m  \u001b[0m\u001b[1m 000s  \u001b[0m\u001b[1m 000th \u001b[0m\u001b[1m 001   \u001b[0m\u001b[1m 001and \u001b[0m\u001b[1m 001st \u001b[0m\u001b[1m \u001b[0m ⋯\n",
       "\u001b[1m     \u001b[0m│\u001b[90m Int64 \u001b[0m\u001b[90m Int64 \u001b[0m\u001b[90m Int64 \u001b[0m\u001b[90m Int64 \u001b[0m\u001b[90m Int64 \u001b[0m\u001b[90m Int64 \u001b[0m\u001b[90m Int64 \u001b[0m\u001b[90m Int64 \u001b[0m\u001b[90m Int64  \u001b[0m\u001b[90m Int64 \u001b[0m\u001b[90m \u001b[0m ⋯\n",
       "─────┼──────────────────────────────────────────────────────────────────────────\n",
       "   1 │     0      1      0      0      0      0      0      0       0      0   ⋯\n",
       "   2 │     0      0      0      0      0      0      0      0       0      0\n",
       "   3 │     0      0      0      0      0      0      0      0       0      0\n",
       "   4 │     0      1      0      0      0      0      0      0       0      0\n",
       "   5 │     0      0      0      0      0      0      0      0       0      0   ⋯\n",
       "\u001b[36m                                                           29437 columns omitted\u001b[0m"
      ]
     },
     "execution_count": 51,
     "metadata": {},
     "output_type": "execute_result"
    }
   ],
   "source": [
    "doc_term_matrix_df = DataFrame(doc_term_matrix.todense(), :auto, copycols=false)\n",
    "rename!(doc_term_matrix_df, words_list)\n",
    "first(doc_term_matrix_df, 5)"
   ]
  },
  {
   "cell_type": "markdown",
   "metadata": {
    "slideshow": {
     "slide_type": "slide"
    }
   },
   "source": [
    "### Most frequent terms"
   ]
  },
  {
   "cell_type": "code",
   "execution_count": 52,
   "metadata": {
    "ExecuteTime": {
     "end_time": "2020-06-20T17:17:22.314567Z",
     "start_time": "2020-06-20T17:17:21.796620Z"
    },
    "scrolled": true,
    "slideshow": {
     "slide_type": "fragment"
    }
   },
   "outputs": [
    {
     "data": {
      "text/html": [
       "<div class=\"data-frame\"><p>29,447 rows × 2 columns</p><table class=\"data-frame\"><thead><tr><th></th><th>words</th><th>count</th></tr><tr><th></th><th title=\"String\">String</th><th title=\"Int64\">Int64</th></tr></thead><tbody><tr><th>1</th><td>00</td><td>6</td></tr><tr><th>2</th><td>000</td><td>799</td></tr><tr><th>3</th><td>0001</td><td>1</td></tr><tr><th>4</th><td>000bn</td><td>1</td></tr><tr><th>5</th><td>000m</td><td>40</td></tr><tr><th>6</th><td>000s</td><td>2</td></tr><tr><th>7</th><td>000th</td><td>5</td></tr><tr><th>8</th><td>001</td><td>2</td></tr><tr><th>9</th><td>001and</td><td>1</td></tr><tr><th>10</th><td>001st</td><td>1</td></tr><tr><th>11</th><td>004</td><td>1</td></tr><tr><th>12</th><td>0051</td><td>1</td></tr><tr><th>13</th><td>007</td><td>5</td></tr><tr><th>14</th><td>01</td><td>7</td></tr><tr><th>15</th><td>0100</td><td>2</td></tr><tr><th>16</th><td>011</td><td>2</td></tr><tr><th>17</th><td>0130</td><td>2</td></tr><tr><th>18</th><td>02</td><td>2</td></tr><tr><th>19</th><td>0200</td><td>1</td></tr><tr><th>20</th><td>0227</td><td>1</td></tr><tr><th>21</th><td>028</td><td>3</td></tr><tr><th>22</th><td>03</td><td>6</td></tr><tr><th>23</th><td>0300</td><td>1</td></tr><tr><th>24</th><td>033</td><td>1</td></tr><tr><th>25</th><td>037</td><td>1</td></tr><tr><th>26</th><td>03bn</td><td>1</td></tr><tr><th>27</th><td>04</td><td>6</td></tr><tr><th>28</th><td>0400</td><td>2</td></tr><tr><th>29</th><td>041</td><td>1</td></tr><tr><th>30</th><td>04bn</td><td>2</td></tr><tr><th>&vellip;</th><td>&vellip;</td><td>&vellip;</td></tr></tbody></table></div>"
      ],
      "text/latex": [
       "\\begin{tabular}{r|cc}\n",
       "\t& words & count\\\\\n",
       "\t\\hline\n",
       "\t& String & Int64\\\\\n",
       "\t\\hline\n",
       "\t1 & 00 & 6 \\\\\n",
       "\t2 & 000 & 799 \\\\\n",
       "\t3 & 0001 & 1 \\\\\n",
       "\t4 & 000bn & 1 \\\\\n",
       "\t5 & 000m & 40 \\\\\n",
       "\t6 & 000s & 2 \\\\\n",
       "\t7 & 000th & 5 \\\\\n",
       "\t8 & 001 & 2 \\\\\n",
       "\t9 & 001and & 1 \\\\\n",
       "\t10 & 001st & 1 \\\\\n",
       "\t11 & 004 & 1 \\\\\n",
       "\t12 & 0051 & 1 \\\\\n",
       "\t13 & 007 & 5 \\\\\n",
       "\t14 & 01 & 7 \\\\\n",
       "\t15 & 0100 & 2 \\\\\n",
       "\t16 & 011 & 2 \\\\\n",
       "\t17 & 0130 & 2 \\\\\n",
       "\t18 & 02 & 2 \\\\\n",
       "\t19 & 0200 & 1 \\\\\n",
       "\t20 & 0227 & 1 \\\\\n",
       "\t21 & 028 & 3 \\\\\n",
       "\t22 & 03 & 6 \\\\\n",
       "\t23 & 0300 & 1 \\\\\n",
       "\t24 & 033 & 1 \\\\\n",
       "\t25 & 037 & 1 \\\\\n",
       "\t26 & 03bn & 1 \\\\\n",
       "\t27 & 04 & 6 \\\\\n",
       "\t28 & 0400 & 2 \\\\\n",
       "\t29 & 041 & 1 \\\\\n",
       "\t30 & 04bn & 2 \\\\\n",
       "\t$\\dots$ & $\\dots$ & $\\dots$ \\\\\n",
       "\\end{tabular}\n"
      ],
      "text/plain": [
       "\u001b[1m29447×2 DataFrame\u001b[0m\n",
       "\u001b[1m   Row \u001b[0m│\u001b[1m words       \u001b[0m\u001b[1m count \u001b[0m\n",
       "\u001b[1m       \u001b[0m│\u001b[90m String      \u001b[0m\u001b[90m Int64 \u001b[0m\n",
       "───────┼────────────────────\n",
       "     1 │ 00               6\n",
       "     2 │ 000            799\n",
       "     3 │ 0001             1\n",
       "     4 │ 000bn            1\n",
       "     5 │ 000m            40\n",
       "     6 │ 000s             2\n",
       "     7 │ 000th            5\n",
       "     8 │ 001              2\n",
       "     9 │ 001and           1\n",
       "    10 │ 001st            1\n",
       "    11 │ 004              1\n",
       "   ⋮   │      ⋮         ⋮\n",
       " 29438 │ zooms            2\n",
       " 29439 │ zooropa          1\n",
       " 29440 │ zornotza         1\n",
       " 29441 │ zorro            2\n",
       " 29442 │ zubair           1\n",
       " 29443 │ zuluaga          1\n",
       " 29444 │ zurich          14\n",
       " 29445 │ zutons           1\n",
       " 29446 │ zvonareva        4\n",
       " 29447 │ zvyagintsev      2\n",
       "\u001b[36m          29426 rows omitted\u001b[0m"
      ]
     },
     "execution_count": 52,
     "metadata": {},
     "output_type": "execute_result"
    }
   ],
   "source": [
    "word_freq = DataFrame()\n",
    "word_freq[!, \"words\"] = names(doc_term_matrix_df)\n",
    "word_freq[!, \"count\"] = sum.(eachcol(doc_term_matrix_df))\n",
    "word_freq"
   ]
  },
  {
   "cell_type": "code",
   "execution_count": 53,
   "metadata": {},
   "outputs": [
    {
     "data": {
      "text/html": [
       "<div class=\"data-frame\"><p>5 rows × 2 columns</p><table class=\"data-frame\"><thead><tr><th></th><th>words</th><th>count</th></tr><tr><th></th><th title=\"String\">String</th><th title=\"Int64\">Int64</th></tr></thead><tbody><tr><th>1</th><td>the</td><td>52562</td></tr><tr><th>2</th><td>to</td><td>24767</td></tr><tr><th>3</th><td>of</td><td>19928</td></tr><tr><th>4</th><td>and</td><td>18570</td></tr><tr><th>5</th><td>in</td><td>17548</td></tr></tbody></table></div>"
      ],
      "text/latex": [
       "\\begin{tabular}{r|cc}\n",
       "\t& words & count\\\\\n",
       "\t\\hline\n",
       "\t& String & Int64\\\\\n",
       "\t\\hline\n",
       "\t1 & the & 52562 \\\\\n",
       "\t2 & to & 24767 \\\\\n",
       "\t3 & of & 19928 \\\\\n",
       "\t4 & and & 18570 \\\\\n",
       "\t5 & in & 17548 \\\\\n",
       "\\end{tabular}\n"
      ],
      "text/plain": [
       "\u001b[1m5×2 DataFrame\u001b[0m\n",
       "\u001b[1m Row \u001b[0m│\u001b[1m words  \u001b[0m\u001b[1m count \u001b[0m\n",
       "\u001b[1m     \u001b[0m│\u001b[90m String \u001b[0m\u001b[90m Int64 \u001b[0m\n",
       "─────┼───────────────\n",
       "   1 │ the     52562\n",
       "   2 │ to      24767\n",
       "   3 │ of      19928\n",
       "   4 │ and     18570\n",
       "   5 │ in      17548"
      ]
     },
     "execution_count": 53,
     "metadata": {},
     "output_type": "execute_result"
    }
   ],
   "source": [
    "sort!(word_freq, :count, rev=true)\n",
    "first(word_freq, 5)"
   ]
  },
  {
   "cell_type": "markdown",
   "metadata": {
    "slideshow": {
     "slide_type": "slide"
    }
   },
   "source": [
    "### Compute relative term frequency"
   ]
  },
  {
   "cell_type": "code",
   "execution_count": 54,
   "metadata": {
    "ExecuteTime": {
     "end_time": "2020-06-20T17:17:22.724293Z",
     "start_time": "2020-06-20T17:17:22.315343Z"
    },
    "slideshow": {
     "slide_type": "fragment"
    }
   },
   "outputs": [
    {
     "data": {
      "text/plain": [
       "(2225, 29447)"
      ]
     },
     "execution_count": 54,
     "metadata": {},
     "output_type": "execute_result"
    }
   ],
   "source": [
    "vectorizer = CountVectorizer(binary=true)\n",
    "doc_term_matrix = vectorizer.fit_transform(docs.body)\n",
    "doc_term_matrix.shape"
   ]
  },
  {
   "cell_type": "code",
   "execution_count": 55,
   "metadata": {
    "ExecuteTime": {
     "end_time": "2020-06-20T17:17:22.750166Z",
     "start_time": "2020-06-20T17:17:22.725438Z"
    },
    "scrolled": true,
    "slideshow": {
     "slide_type": "slide"
    }
   },
   "outputs": [
    {
     "data": {
      "text/html": [
       "<div class=\"data-frame\"><p>29,447 rows × 2 columns</p><table class=\"data-frame\"><thead><tr><th></th><th>words</th><th>count</th></tr><tr><th></th><th title=\"String\">String</th><th title=\"Int64\">Int64</th></tr></thead><tbody><tr><th>1</th><td>00</td><td>6</td></tr><tr><th>2</th><td>000</td><td>485</td></tr><tr><th>3</th><td>0001</td><td>1</td></tr><tr><th>4</th><td>000bn</td><td>1</td></tr><tr><th>5</th><td>000m</td><td>22</td></tr><tr><th>6</th><td>000s</td><td>2</td></tr><tr><th>7</th><td>000th</td><td>4</td></tr><tr><th>8</th><td>001</td><td>1</td></tr><tr><th>9</th><td>001and</td><td>1</td></tr><tr><th>10</th><td>001st</td><td>1</td></tr><tr><th>11</th><td>004</td><td>1</td></tr><tr><th>12</th><td>0051</td><td>1</td></tr><tr><th>13</th><td>007</td><td>4</td></tr><tr><th>14</th><td>01</td><td>7</td></tr><tr><th>15</th><td>0100</td><td>2</td></tr><tr><th>16</th><td>011</td><td>2</td></tr><tr><th>17</th><td>0130</td><td>2</td></tr><tr><th>18</th><td>02</td><td>2</td></tr><tr><th>19</th><td>0200</td><td>1</td></tr><tr><th>20</th><td>0227</td><td>1</td></tr><tr><th>21</th><td>028</td><td>3</td></tr><tr><th>22</th><td>03</td><td>6</td></tr><tr><th>23</th><td>0300</td><td>1</td></tr><tr><th>24</th><td>033</td><td>1</td></tr><tr><th>25</th><td>037</td><td>1</td></tr><tr><th>26</th><td>03bn</td><td>1</td></tr><tr><th>27</th><td>04</td><td>6</td></tr><tr><th>28</th><td>0400</td><td>2</td></tr><tr><th>29</th><td>041</td><td>1</td></tr><tr><th>30</th><td>04bn</td><td>2</td></tr><tr><th>&vellip;</th><td>&vellip;</td><td>&vellip;</td></tr></tbody></table></div>"
      ],
      "text/latex": [
       "\\begin{tabular}{r|cc}\n",
       "\t& words & count\\\\\n",
       "\t\\hline\n",
       "\t& String & Int64\\\\\n",
       "\t\\hline\n",
       "\t1 & 00 & 6 \\\\\n",
       "\t2 & 000 & 485 \\\\\n",
       "\t3 & 0001 & 1 \\\\\n",
       "\t4 & 000bn & 1 \\\\\n",
       "\t5 & 000m & 22 \\\\\n",
       "\t6 & 000s & 2 \\\\\n",
       "\t7 & 000th & 4 \\\\\n",
       "\t8 & 001 & 1 \\\\\n",
       "\t9 & 001and & 1 \\\\\n",
       "\t10 & 001st & 1 \\\\\n",
       "\t11 & 004 & 1 \\\\\n",
       "\t12 & 0051 & 1 \\\\\n",
       "\t13 & 007 & 4 \\\\\n",
       "\t14 & 01 & 7 \\\\\n",
       "\t15 & 0100 & 2 \\\\\n",
       "\t16 & 011 & 2 \\\\\n",
       "\t17 & 0130 & 2 \\\\\n",
       "\t18 & 02 & 2 \\\\\n",
       "\t19 & 0200 & 1 \\\\\n",
       "\t20 & 0227 & 1 \\\\\n",
       "\t21 & 028 & 3 \\\\\n",
       "\t22 & 03 & 6 \\\\\n",
       "\t23 & 0300 & 1 \\\\\n",
       "\t24 & 033 & 1 \\\\\n",
       "\t25 & 037 & 1 \\\\\n",
       "\t26 & 03bn & 1 \\\\\n",
       "\t27 & 04 & 6 \\\\\n",
       "\t28 & 0400 & 2 \\\\\n",
       "\t29 & 041 & 1 \\\\\n",
       "\t30 & 04bn & 2 \\\\\n",
       "\t$\\dots$ & $\\dots$ & $\\dots$ \\\\\n",
       "\\end{tabular}\n"
      ],
      "text/plain": [
       "\u001b[1m29447×2 DataFrame\u001b[0m\n",
       "\u001b[1m   Row \u001b[0m│\u001b[1m words       \u001b[0m\u001b[1m count \u001b[0m\n",
       "\u001b[1m       \u001b[0m│\u001b[90m String      \u001b[0m\u001b[90m Int64 \u001b[0m\n",
       "───────┼────────────────────\n",
       "     1 │ 00               6\n",
       "     2 │ 000            485\n",
       "     3 │ 0001             1\n",
       "     4 │ 000bn            1\n",
       "     5 │ 000m            22\n",
       "     6 │ 000s             2\n",
       "     7 │ 000th            4\n",
       "     8 │ 001              1\n",
       "     9 │ 001and           1\n",
       "    10 │ 001st            1\n",
       "    11 │ 004              1\n",
       "   ⋮   │      ⋮         ⋮\n",
       " 29438 │ zooms            2\n",
       " 29439 │ zooropa          1\n",
       " 29440 │ zornotza         1\n",
       " 29441 │ zorro            1\n",
       " 29442 │ zubair           1\n",
       " 29443 │ zuluaga          1\n",
       " 29444 │ zurich          14\n",
       " 29445 │ zutons           1\n",
       " 29446 │ zvonareva        2\n",
       " 29447 │ zvyagintsev      2\n",
       "\u001b[36m          29426 rows omitted\u001b[0m"
      ]
     },
     "execution_count": 55,
     "metadata": {},
     "output_type": "execute_result"
    }
   ],
   "source": [
    "words_list = vectorizer.get_feature_names()\n",
    "word_freq = DataFrame()\n",
    "word_freq[!, \"words\"] = words_list\n",
    "word_freq[!, \"count\"] = sum.(eachcol(doc_term_matrix.todense()))\n",
    "word_freq"
   ]
  },
  {
   "cell_type": "code",
   "execution_count": 56,
   "metadata": {
    "scrolled": true
   },
   "outputs": [
    {
     "data": {
      "text/html": [
       "<div class=\"data-frame\"><p>10 rows × 3 columns</p><table class=\"data-frame\"><thead><tr><th></th><th>words</th><th>count</th><th>normalized_count</th></tr><tr><th></th><th title=\"String\">String</th><th title=\"Int64\">Int64</th><th title=\"Float64\">Float64</th></tr></thead><tbody><tr><th>1</th><td>the</td><td>2225</td><td>1.0</td></tr><tr><th>2</th><td>to</td><td>2214</td><td>0.995056</td></tr><tr><th>3</th><td>of</td><td>2206</td><td>0.991461</td></tr><tr><th>4</th><td>and</td><td>2205</td><td>0.991011</td></tr><tr><th>5</th><td>in</td><td>2204</td><td>0.990562</td></tr><tr><th>6</th><td>for</td><td>2070</td><td>0.930337</td></tr><tr><th>7</th><td>on</td><td>2017</td><td>0.906517</td></tr><tr><th>8</th><td>is</td><td>1918</td><td>0.862022</td></tr><tr><th>9</th><td>it</td><td>1910</td><td>0.858427</td></tr><tr><th>10</th><td>said</td><td>1888</td><td>0.848539</td></tr></tbody></table></div>"
      ],
      "text/latex": [
       "\\begin{tabular}{r|ccc}\n",
       "\t& words & count & normalized\\_count\\\\\n",
       "\t\\hline\n",
       "\t& String & Int64 & Float64\\\\\n",
       "\t\\hline\n",
       "\t1 & the & 2225 & 1.0 \\\\\n",
       "\t2 & to & 2214 & 0.995056 \\\\\n",
       "\t3 & of & 2206 & 0.991461 \\\\\n",
       "\t4 & and & 2205 & 0.991011 \\\\\n",
       "\t5 & in & 2204 & 0.990562 \\\\\n",
       "\t6 & for & 2070 & 0.930337 \\\\\n",
       "\t7 & on & 2017 & 0.906517 \\\\\n",
       "\t8 & is & 1918 & 0.862022 \\\\\n",
       "\t9 & it & 1910 & 0.858427 \\\\\n",
       "\t10 & said & 1888 & 0.848539 \\\\\n",
       "\\end{tabular}\n"
      ],
      "text/plain": [
       "\u001b[1m10×3 DataFrame\u001b[0m\n",
       "\u001b[1m Row \u001b[0m│\u001b[1m words  \u001b[0m\u001b[1m count \u001b[0m\u001b[1m normalized_count \u001b[0m\n",
       "\u001b[1m     \u001b[0m│\u001b[90m String \u001b[0m\u001b[90m Int64 \u001b[0m\u001b[90m Float64          \u001b[0m\n",
       "─────┼─────────────────────────────────\n",
       "   1 │ the      2225          1.0\n",
       "   2 │ to       2214          0.995056\n",
       "   3 │ of       2206          0.991461\n",
       "   4 │ and      2205          0.991011\n",
       "   5 │ in       2204          0.990562\n",
       "   6 │ for      2070          0.930337\n",
       "   7 │ on       2017          0.906517\n",
       "   8 │ is       1918          0.862022\n",
       "   9 │ it       1910          0.858427\n",
       "  10 │ said     1888          0.848539"
      ]
     },
     "execution_count": 56,
     "metadata": {},
     "output_type": "execute_result"
    }
   ],
   "source": [
    "word_freq[!, :normalized_count] = word_freq[:, :count]./(doc_term_matrix.shape[1])\n",
    "sort!(word_freq, :normalized_count, rev=true)\n",
    "first(word_freq, 10)"
   ]
  },
  {
   "cell_type": "markdown",
   "metadata": {
    "slideshow": {
     "slide_type": "slide"
    }
   },
   "source": [
    "### Using thresholds to reduce the number of tokens "
   ]
  },
  {
   "cell_type": "code",
   "execution_count": 57,
   "metadata": {
    "ExecuteTime": {
     "end_time": "2020-06-20T17:17:59.276213Z",
     "start_time": "2020-06-20T17:17:58.857526Z"
    },
    "slideshow": {
     "slide_type": "fragment"
    }
   },
   "outputs": [
    {
     "data": {
      "text/plain": [
       "(2225, 12777)"
      ]
     },
     "execution_count": 57,
     "metadata": {},
     "output_type": "execute_result"
    }
   ],
   "source": [
    "vectorizer = CountVectorizer(max_df = 0.2, min_df = 3, stop_words=\"english\")\n",
    "doc_term_matrix = vectorizer.fit_transform(docs.body)\n",
    "doc_term_matrix.shape"
   ]
  },
  {
   "cell_type": "markdown",
   "metadata": {
    "slideshow": {
     "slide_type": "slide"
    }
   },
   "source": [
    "### Use CountVectorizer with Lemmatization"
   ]
  },
  {
   "cell_type": "markdown",
   "metadata": {
    "slideshow": {
     "slide_type": "fragment"
    }
   },
   "source": [
    "#### Building a custom `tokenizer` for Lemmatization with `spacy`"
   ]
  },
  {
   "cell_type": "code",
   "execution_count": 58,
   "metadata": {},
   "outputs": [],
   "source": [
    "using Unicode\n",
    "using Languages"
   ]
  },
  {
   "cell_type": "code",
   "execution_count": 59,
   "metadata": {},
   "outputs": [],
   "source": [
    "@pyimport nltk"
   ]
  },
  {
   "cell_type": "code",
   "execution_count": 60,
   "metadata": {},
   "outputs": [
    {
     "name": "stderr",
     "output_type": "stream",
     "text": [
      "[nltk_data] Downloading package punkt to\r\n",
      "[nltk_data]     C:\\Users\\Amirreza\\AppData\\Roaming\\nltk_data...\r\n",
      "[nltk_data]   Package punkt is already up-to-date!\r\n",
      "[nltk_data] Downloading package omw-1.4 to\r\n",
      "[nltk_data]     C:\\Users\\Amirreza\\AppData\\Roaming\\nltk_data...\r\n",
      "[nltk_data]   Package omw-1.4 is already up-to-date!\r\n",
      "[nltk_data] Downloading package wordnet to\r\n",
      "[nltk_data]     C:\\Users\\Amirreza\\AppData\\Roaming\\nltk_data...\r\n",
      "[nltk_data]   Package wordnet is already up-to-date!\r\n"
     ]
    },
    {
     "data": {
      "text/plain": [
       "true"
      ]
     },
     "execution_count": 60,
     "metadata": {},
     "output_type": "execute_result"
    }
   ],
   "source": [
    "nltk.download(\"punkt\")\n",
    "nltk.download(\"omw-1.4\")\n",
    "nltk.download(\"wordnet\")"
   ]
  },
  {
   "cell_type": "code",
   "execution_count": 61,
   "metadata": {},
   "outputs": [
    {
     "data": {
      "text/plain": [
       "PyObject <WordNetLemmatizer>"
      ]
     },
     "execution_count": 61,
     "metadata": {},
     "output_type": "execute_result"
    }
   ],
   "source": [
    "lemmatizer = nltk.stem.WordNetLemmatizer()"
   ]
  },
  {
   "cell_type": "code",
   "execution_count": 62,
   "metadata": {},
   "outputs": [
    {
     "data": {
      "text/plain": [
       "tokenizer (generic function with 1 method)"
      ]
     },
     "execution_count": 62,
     "metadata": {},
     "output_type": "execute_result"
    }
   ],
   "source": [
    "function tokenizer(doc)\n",
    "    tokens_list = tokenize(doc)\n",
    "    \n",
    "    #Remove punctuation and stopwords\n",
    "    filter!(w -> w ∈ Languages.stopwords(Languages.English()), tokens_list)\n",
    "    tokens_list = filter.(!ispunct, tokens_list)\n",
    "    \n",
    "    #Lemmatize words\n",
    "    tokens_list = [lemmatizer.lemmatize(w) for w in tokens_list]\n",
    "    return tokens_list\n",
    "end"
   ]
  },
  {
   "cell_type": "code",
   "execution_count": 63,
   "metadata": {},
   "outputs": [
    {
     "data": {
      "text/plain": [
       "2-element Vector{String}:\n",
       " \"m\"\n",
       " \"good\""
      ]
     },
     "execution_count": 63,
     "metadata": {},
     "output_type": "execute_result"
    }
   ],
   "source": [
    "tokenizer(\"I'm good\")"
   ]
  },
  {
   "cell_type": "code",
   "execution_count": 64,
   "metadata": {
    "ExecuteTime": {
     "end_time": "2020-06-20T17:19:13.455322Z",
     "start_time": "2020-06-20T17:17:59.723193Z"
    },
    "run_control": {
     "marked": false
    },
    "scrolled": true,
    "slideshow": {
     "slide_type": "slide"
    }
   },
   "outputs": [
    {
     "data": {
      "text/plain": [
       "(2225, 382)"
      ]
     },
     "execution_count": 64,
     "metadata": {},
     "output_type": "execute_result"
    }
   ],
   "source": [
    "vectorizer = CountVectorizer(tokenizer=tokenizer, binary=true)\n",
    "doc_term_matrix = vectorizer.fit_transform(docs.body)\n",
    "doc_term_matrix.shape"
   ]
  },
  {
   "cell_type": "code",
   "execution_count": 65,
   "metadata": {
    "ExecuteTime": {
     "end_time": "2020-06-20T17:19:13.473754Z",
     "start_time": "2020-06-20T17:19:13.456267Z"
    },
    "scrolled": true,
    "slideshow": {
     "slide_type": "fragment"
    }
   },
   "outputs": [
    {
     "data": {
      "text/html": [
       "<div class=\"data-frame\"><p>382 rows × 2 columns</p><table class=\"data-frame\"><thead><tr><th></th><th>words</th><th>count</th></tr><tr><th></th><th title=\"String\">String</th><th title=\"Int64\">Int64</th></tr></thead><tbody><tr><th>1</th><td>a</td><td>2216</td></tr><tr><th>2</th><td>about</td><td>976</td></tr><tr><th>3</th><td>above</td><td>72</td></tr><tr><th>4</th><td>across</td><td>193</td></tr><tr><th>5</th><td>after</td><td>999</td></tr><tr><th>6</th><td>again</td><td>186</td></tr><tr><th>7</th><td>against</td><td>591</td></tr><tr><th>8</th><td>all</td><td>880</td></tr><tr><th>9</th><td>almost</td><td>203</td></tr><tr><th>10</th><td>alone</td><td>45</td></tr><tr><th>11</th><td>along</td><td>91</td></tr><tr><th>12</th><td>already</td><td>369</td></tr><tr><th>13</th><td>also</td><td>1262</td></tr><tr><th>14</th><td>although</td><td>254</td></tr><tr><th>15</th><td>always</td><td>202</td></tr><tr><th>16</th><td>am</td><td>183</td></tr><tr><th>17</th><td>among</td><td>209</td></tr><tr><th>18</th><td>an</td><td>1417</td></tr><tr><th>19</th><td>and</td><td>2205</td></tr><tr><th>20</th><td>another</td><td>308</td></tr><tr><th>21</th><td>any</td><td>518</td></tr><tr><th>22</th><td>anybody</td><td>23</td></tr><tr><th>23</th><td>anyone</td><td>90</td></tr><tr><th>24</th><td>anything</td><td>113</td></tr><tr><th>25</th><td>anywhere</td><td>30</td></tr><tr><th>26</th><td>are</td><td>1455</td></tr><tr><th>27</th><td>area</td><td>165</td></tr><tr><th>28</th><td>around</td><td>298</td></tr><tr><th>29</th><td>ask</td><td>68</td></tr><tr><th>30</th><td>asked</td><td>163</td></tr><tr><th>&vellip;</th><td>&vellip;</td><td>&vellip;</td></tr></tbody></table></div>"
      ],
      "text/latex": [
       "\\begin{tabular}{r|cc}\n",
       "\t& words & count\\\\\n",
       "\t\\hline\n",
       "\t& String & Int64\\\\\n",
       "\t\\hline\n",
       "\t1 & a & 2216 \\\\\n",
       "\t2 & about & 976 \\\\\n",
       "\t3 & above & 72 \\\\\n",
       "\t4 & across & 193 \\\\\n",
       "\t5 & after & 999 \\\\\n",
       "\t6 & again & 186 \\\\\n",
       "\t7 & against & 591 \\\\\n",
       "\t8 & all & 880 \\\\\n",
       "\t9 & almost & 203 \\\\\n",
       "\t10 & alone & 45 \\\\\n",
       "\t11 & along & 91 \\\\\n",
       "\t12 & already & 369 \\\\\n",
       "\t13 & also & 1262 \\\\\n",
       "\t14 & although & 254 \\\\\n",
       "\t15 & always & 202 \\\\\n",
       "\t16 & am & 183 \\\\\n",
       "\t17 & among & 209 \\\\\n",
       "\t18 & an & 1417 \\\\\n",
       "\t19 & and & 2205 \\\\\n",
       "\t20 & another & 308 \\\\\n",
       "\t21 & any & 518 \\\\\n",
       "\t22 & anybody & 23 \\\\\n",
       "\t23 & anyone & 90 \\\\\n",
       "\t24 & anything & 113 \\\\\n",
       "\t25 & anywhere & 30 \\\\\n",
       "\t26 & are & 1455 \\\\\n",
       "\t27 & area & 165 \\\\\n",
       "\t28 & around & 298 \\\\\n",
       "\t29 & ask & 68 \\\\\n",
       "\t30 & asked & 163 \\\\\n",
       "\t$\\dots$ & $\\dots$ & $\\dots$ \\\\\n",
       "\\end{tabular}\n"
      ],
      "text/plain": [
       "\u001b[1m382×2 DataFrame\u001b[0m\n",
       "\u001b[1m Row \u001b[0m│\u001b[1m words      \u001b[0m\u001b[1m count \u001b[0m\n",
       "\u001b[1m     \u001b[0m│\u001b[90m String     \u001b[0m\u001b[90m Int64 \u001b[0m\n",
       "─────┼───────────────────\n",
       "   1 │ a            2216\n",
       "   2 │ about         976\n",
       "   3 │ above          72\n",
       "   4 │ across        193\n",
       "   5 │ after         999\n",
       "   6 │ again         186\n",
       "   7 │ against       591\n",
       "   8 │ all           880\n",
       "   9 │ almost        203\n",
       "  10 │ alone          45\n",
       "  11 │ along          91\n",
       "  ⋮  │     ⋮         ⋮\n",
       " 373 │ yes            24\n",
       " 374 │ yet           204\n",
       " 375 │ you           497\n",
       " 376 │ young         147\n",
       " 377 │ younger        43\n",
       " 378 │ youngest       11\n",
       " 379 │ your          167\n",
       " 380 │ yours           2\n",
       " 381 │ yourself       13\n",
       " 382 │ yourselves      1\n",
       "\u001b[36m         361 rows omitted\u001b[0m"
      ]
     },
     "execution_count": 65,
     "metadata": {},
     "output_type": "execute_result"
    }
   ],
   "source": [
    "lemmatized_words = vectorizer.get_feature_names()\n",
    "word_freq = DataFrame()\n",
    "word_freq[!, \"words\"] = lemmatized_words\n",
    "word_freq[!, \"count\"] = sum.(eachcol(doc_term_matrix.todense()))\n",
    "word_freq"
   ]
  },
  {
   "cell_type": "code",
   "execution_count": 66,
   "metadata": {
    "scrolled": true
   },
   "outputs": [
    {
     "data": {
      "text/html": [
       "<div class=\"data-frame\"><p>20 rows × 3 columns</p><table class=\"data-frame\"><thead><tr><th></th><th>words</th><th>count</th><th>normalized_count</th></tr><tr><th></th><th title=\"String\">String</th><th title=\"Int64\">Int64</th><th title=\"Float64\">Float64</th></tr></thead><tbody><tr><th>1</th><td>have</td><td>1661</td><td>0.746517</td></tr><tr><th>2</th><td>by</td><td>1703</td><td>0.765393</td></tr><tr><th>3</th><td>be</td><td>1727</td><td>0.77618</td></tr><tr><th>4</th><td>wa</td><td>1750</td><td>0.786517</td></tr><tr><th>5</th><td>at</td><td>1765</td><td>0.793258</td></tr><tr><th>6</th><td>said</td><td>1788</td><td>0.803596</td></tr><tr><th>7</th><td>ha</td><td>1829</td><td>0.822022</td></tr><tr><th>8</th><td>with</td><td>1831</td><td>0.822921</td></tr><tr><th>9</th><td>that</td><td>1844</td><td>0.828764</td></tr><tr><th>10</th><td>is</td><td>1918</td><td>0.862022</td></tr><tr><th>11</th><td>it</td><td>1970</td><td>0.885393</td></tr><tr><th>12</th><td>on</td><td>2002</td><td>0.899775</td></tr><tr><th>13</th><td>for</td><td>2070</td><td>0.930337</td></tr><tr><th>14</th><td>s</td><td>2071</td><td>0.930787</td></tr><tr><th>15</th><td>of</td><td>2202</td><td>0.989663</td></tr><tr><th>16</th><td>in</td><td>2203</td><td>0.990112</td></tr><tr><th>17</th><td>and</td><td>2205</td><td>0.991011</td></tr><tr><th>18</th><td>to</td><td>2213</td><td>0.994607</td></tr><tr><th>19</th><td>a</td><td>2216</td><td>0.995955</td></tr><tr><th>20</th><td>the</td><td>2225</td><td>1.0</td></tr></tbody></table></div>"
      ],
      "text/latex": [
       "\\begin{tabular}{r|ccc}\n",
       "\t& words & count & normalized\\_count\\\\\n",
       "\t\\hline\n",
       "\t& String & Int64 & Float64\\\\\n",
       "\t\\hline\n",
       "\t1 & have & 1661 & 0.746517 \\\\\n",
       "\t2 & by & 1703 & 0.765393 \\\\\n",
       "\t3 & be & 1727 & 0.77618 \\\\\n",
       "\t4 & wa & 1750 & 0.786517 \\\\\n",
       "\t5 & at & 1765 & 0.793258 \\\\\n",
       "\t6 & said & 1788 & 0.803596 \\\\\n",
       "\t7 & ha & 1829 & 0.822022 \\\\\n",
       "\t8 & with & 1831 & 0.822921 \\\\\n",
       "\t9 & that & 1844 & 0.828764 \\\\\n",
       "\t10 & is & 1918 & 0.862022 \\\\\n",
       "\t11 & it & 1970 & 0.885393 \\\\\n",
       "\t12 & on & 2002 & 0.899775 \\\\\n",
       "\t13 & for & 2070 & 0.930337 \\\\\n",
       "\t14 & s & 2071 & 0.930787 \\\\\n",
       "\t15 & of & 2202 & 0.989663 \\\\\n",
       "\t16 & in & 2203 & 0.990112 \\\\\n",
       "\t17 & and & 2205 & 0.991011 \\\\\n",
       "\t18 & to & 2213 & 0.994607 \\\\\n",
       "\t19 & a & 2216 & 0.995955 \\\\\n",
       "\t20 & the & 2225 & 1.0 \\\\\n",
       "\\end{tabular}\n"
      ],
      "text/plain": [
       "\u001b[1m20×3 DataFrame\u001b[0m\n",
       "\u001b[1m Row \u001b[0m│\u001b[1m words  \u001b[0m\u001b[1m count \u001b[0m\u001b[1m normalized_count \u001b[0m\n",
       "\u001b[1m     \u001b[0m│\u001b[90m String \u001b[0m\u001b[90m Int64 \u001b[0m\u001b[90m Float64          \u001b[0m\n",
       "─────┼─────────────────────────────────\n",
       "   1 │ have     1661          0.746517\n",
       "   2 │ by       1703          0.765393\n",
       "   3 │ be       1727          0.77618\n",
       "   4 │ wa       1750          0.786517\n",
       "   5 │ at       1765          0.793258\n",
       "   6 │ said     1788          0.803596\n",
       "   7 │ ha       1829          0.822022\n",
       "   8 │ with     1831          0.822921\n",
       "   9 │ that     1844          0.828764\n",
       "  10 │ is       1918          0.862022\n",
       "  11 │ it       1970          0.885393\n",
       "  12 │ on       2002          0.899775\n",
       "  13 │ for      2070          0.930337\n",
       "  14 │ s        2071          0.930787\n",
       "  15 │ of       2202          0.989663\n",
       "  16 │ in       2203          0.990112\n",
       "  17 │ and      2205          0.991011\n",
       "  18 │ to       2213          0.994607\n",
       "  19 │ a        2216          0.995955\n",
       "  20 │ the      2225          1.0"
      ]
     },
     "execution_count": 66,
     "metadata": {},
     "output_type": "execute_result"
    }
   ],
   "source": [
    "word_freq[!, :normalized_count] = word_freq[:, :count]./(doc_term_matrix.shape[1])\n",
    "sort!(word_freq, :normalized_count)\n",
    "last(word_freq, 20)"
   ]
  },
  {
   "cell_type": "markdown",
   "metadata": {
    "slideshow": {
     "slide_type": "fragment"
    }
   },
   "source": [
    "Unlike verbs and common nouns, there's no clear base form of a personal pronoun. Should the lemma of \"me\" be \"I\", or should we normalize person as well, giving \"it\" — or maybe \"he\"? spaCy's solution is to introduce a novel symbol, -PRON-, which is used as the lemma for all personal pronouns."
   ]
  },
  {
   "cell_type": "markdown",
   "metadata": {
    "slideshow": {
     "slide_type": "slide"
    }
   },
   "source": [
    "## Document-Term Matrix with `TfIDFVectorizer`"
   ]
  },
  {
   "cell_type": "markdown",
   "metadata": {},
   "source": [
    "The TfIDFTransfomer computes the tf-idf weights from a document-term matrix of token counts like the one produced by the CountVectorizer. \n",
    "\n",
    "The TfIDFVectorizer performs both computations in a single step. It adds a few parameters to the CountVectorizer API that controls the smoothing behavior."
   ]
  },
  {
   "cell_type": "markdown",
   "metadata": {},
   "source": [
    "### Key Parameters"
   ]
  },
  {
   "cell_type": "markdown",
   "metadata": {},
   "source": [
    "The `TfIDFTransformer` builds on the `CountVectorizer` output; the `TfIDFVectorizer` integrates both"
   ]
  },
  {
   "cell_type": "code",
   "execution_count": 67,
   "metadata": {
    "ExecuteTime": {
     "end_time": "2020-06-20T17:19:13.479142Z",
     "start_time": "2020-06-20T17:19:13.474488Z"
    },
    "slideshow": {
     "slide_type": "fragment"
    }
   },
   "outputs": [
    {
     "name": "stdout",
     "output_type": "stream",
     "text": [
      "Transform a count matrix to a normalized tf or tf-idf representation.\n",
      "\n",
      "    Tf means term-frequency while tf-idf means term-frequency times inverse\n",
      "    document-frequency. This is a common term weighting scheme in information\n",
      "    retrieval, that has also found good use in document classification.\n",
      "\n",
      "    The goal of using tf-idf instead of the raw frequencies of occurrence of a\n",
      "    token in a given document is to scale down the impact of tokens that occur\n",
      "    very frequently in a given corpus and that are hence empirically less\n",
      "    informative than features that occur in a small fraction of the training\n",
      "    corpus.\n",
      "\n",
      "    The formula that is used to compute the tf-idf for a term t of a document d\n",
      "    in a document set is tf-idf(t, d) = tf(t, d) * idf(t), and the idf is\n",
      "    computed as idf(t) = log [ n / df(t) ] + 1 (if ``smooth_idf=False``), where\n",
      "    n is the total number of documents in the document set and df(t) is the\n",
      "    document frequency of t; the document frequency is the number of documents\n",
      "    in the document set that contain the term t. The effect of adding \"1\" to\n",
      "    the idf in the equation above is that terms with zero idf, i.e., terms\n",
      "    that occur in all documents in a training set, will not be entirely\n",
      "    ignored.\n",
      "    (Note that the idf formula above differs from the standard textbook\n",
      "    notation that defines the idf as\n",
      "    idf(t) = log [ n / (df(t) + 1) ]).\n",
      "\n",
      "    If ``smooth_idf=True`` (the default), the constant \"1\" is added to the\n",
      "    numerator and denominator of the idf as if an extra document was seen\n",
      "    containing every term in the collection exactly once, which prevents\n",
      "    zero divisions: idf(t) = log [ (1 + n) / (1 + df(t)) ] + 1.\n",
      "\n",
      "    Furthermore, the formulas used to compute tf and idf depend\n",
      "    on parameter settings that correspond to the SMART notation used in IR\n",
      "    as follows:\n",
      "\n",
      "    Tf is \"n\" (natural) by default, \"l\" (logarithmic) when\n",
      "    ``sublinear_tf=True``.\n",
      "    Idf is \"t\" when use_idf is given, \"n\" (none) otherwise.\n",
      "    Normalization is \"c\" (cosine) when ``norm='l2'``, \"n\" (none)\n",
      "    when ``norm=None``.\n",
      "\n",
      "    Read more in the :ref:`User Guide <text_feature_extraction>`.\n",
      "\n",
      "    Parameters\n",
      "    ----------\n",
      "    norm : {'l1', 'l2'}, default='l2'\n",
      "        Each output row will have unit norm, either:\n",
      "\n",
      "        - 'l2': Sum of squares of vector elements is 1. The cosine\n",
      "          similarity between two vectors is their dot product when l2 norm has\n",
      "          been applied.\n",
      "        - 'l1': Sum of absolute values of vector elements is 1.\n",
      "          See :func:`preprocessing.normalize`.\n",
      "\n",
      "    use_idf : bool, default=True\n",
      "        Enable inverse-document-frequency reweighting. If False, idf(t) = 1.\n",
      "\n",
      "    smooth_idf : bool, default=True\n",
      "        Smooth idf weights by adding one to document frequencies, as if an\n",
      "        extra document was seen containing every term in the collection\n",
      "        exactly once. Prevents zero divisions.\n",
      "\n",
      "    sublinear_tf : bool, default=False\n",
      "        Apply sublinear tf scaling, i.e. replace tf with 1 + log(tf).\n",
      "\n",
      "    Attributes\n",
      "    ----------\n",
      "    idf_ : array of shape (n_features)\n",
      "        The inverse document frequency (IDF) vector; only defined\n",
      "        if  ``use_idf`` is True.\n",
      "\n",
      "        .. versionadded:: 0.20\n",
      "\n",
      "    n_features_in_ : int\n",
      "        Number of features seen during :term:`fit`.\n",
      "\n",
      "        .. versionadded:: 1.0\n",
      "\n",
      "    feature_names_in_ : ndarray of shape (`n_features_in_`,)\n",
      "        Names of features seen during :term:`fit`. Defined only when `X`\n",
      "        has feature names that are all strings.\n",
      "\n",
      "        .. versionadded:: 1.0\n",
      "\n",
      "    See Also\n",
      "    --------\n",
      "    CountVectorizer : Transforms text into a sparse matrix of n-gram counts.\n",
      "\n",
      "    TfidfVectorizer : Convert a collection of raw documents to a matrix of\n",
      "        TF-IDF features.\n",
      "\n",
      "    HashingVectorizer : Convert a collection of text documents to a matrix\n",
      "        of token occurrences.\n",
      "\n",
      "    References\n",
      "    ----------\n",
      "    .. [Yates2011] R. Baeza-Yates and B. Ribeiro-Neto (2011). Modern\n",
      "                   Information Retrieval. Addison Wesley, pp. 68-74.\n",
      "\n",
      "    .. [MRS2008] C.D. Manning, P. Raghavan and H. Schütze  (2008).\n",
      "                   Introduction to Information Retrieval. Cambridge University\n",
      "                   Press, pp. 118-120.\n",
      "\n",
      "    Examples\n",
      "    --------\n",
      "    >>> from sklearn.feature_extraction.text import TfidfTransformer\n",
      "    >>> from sklearn.feature_extraction.text import CountVectorizer\n",
      "    >>> from sklearn.pipeline import Pipeline\n",
      "    >>> corpus = ['this is the first document',\n",
      "    ...           'this document is the second document',\n",
      "    ...           'and this is the third one',\n",
      "    ...           'is this the first document']\n",
      "    >>> vocabulary = ['this', 'document', 'first', 'is', 'second', 'the',\n",
      "    ...               'and', 'one']\n",
      "    >>> pipe = Pipeline([('count', CountVectorizer(vocabulary=vocabulary)),\n",
      "    ...                  ('tfid', TfidfTransformer())]).fit(corpus)\n",
      "    >>> pipe['count'].transform(corpus).toarray()\n",
      "    array([[1, 1, 1, 1, 0, 1, 0, 0],\n",
      "           [1, 2, 0, 1, 1, 1, 0, 0],\n",
      "           [1, 0, 0, 1, 0, 1, 1, 1],\n",
      "           [1, 1, 1, 1, 0, 1, 0, 0]])\n",
      "    >>> pipe['tfid'].idf_\n",
      "    array([1.        , 1.22314355, 1.51082562, 1.        , 1.91629073,\n",
      "           1.        , 1.91629073, 1.91629073])\n",
      "    >>> pipe.transform(corpus).shape\n",
      "    (4, 8)\n",
      "    \n"
     ]
    }
   ],
   "source": [
    "println(TfidfTransformer().__doc__)"
   ]
  },
  {
   "cell_type": "markdown",
   "metadata": {},
   "source": [
    "### How Term Frequency - Inverse Document Frequency works"
   ]
  },
  {
   "cell_type": "markdown",
   "metadata": {},
   "source": [
    "The TFIDF computation works as follows for a small text sample"
   ]
  },
  {
   "cell_type": "code",
   "execution_count": 68,
   "metadata": {
    "ExecuteTime": {
     "end_time": "2020-06-20T17:19:13.487159Z",
     "start_time": "2020-06-20T17:19:13.480078Z"
    }
   },
   "outputs": [
    {
     "data": {
      "text/plain": [
       "3-element Vector{String}:\n",
       " \"call you tomorrow\"\n",
       " \"Call me a taxi\"\n",
       " \"please call me... PLEASE!\""
      ]
     },
     "execution_count": 68,
     "metadata": {},
     "output_type": "execute_result"
    }
   ],
   "source": [
    "sample_docs = [\"call you tomorrow\", \n",
    "                \"Call me a taxi\", \n",
    "                \"please call me... PLEASE!\"]"
   ]
  },
  {
   "cell_type": "markdown",
   "metadata": {
    "ExecuteTime": {
     "end_time": "2018-11-21T14:05:08.089371Z",
     "start_time": "2018-11-21T14:05:08.069616Z"
    }
   },
   "source": [
    "#### Compute term frequency"
   ]
  },
  {
   "cell_type": "code",
   "execution_count": 69,
   "metadata": {
    "ExecuteTime": {
     "end_time": "2020-06-20T17:19:13.496815Z",
     "start_time": "2020-06-20T17:19:13.488043Z"
    }
   },
   "outputs": [
    {
     "data": {
      "text/plain": [
       "6-element Vector{String}:\n",
       " \"call\"\n",
       " \"me\"\n",
       " \"please\"\n",
       " \"taxi\"\n",
       " \"tomorrow\"\n",
       " \"you\""
      ]
     },
     "execution_count": 69,
     "metadata": {},
     "output_type": "execute_result"
    }
   ],
   "source": [
    "vectorizer = CountVectorizer()\n",
    "tf_dtm = vectorizer.fit_transform(sample_docs).todense()\n",
    "tokens_list = vectorizer.get_feature_names()"
   ]
  },
  {
   "cell_type": "code",
   "execution_count": 70,
   "metadata": {
    "ExecuteTime": {
     "end_time": "2020-06-20T17:19:13.511965Z",
     "start_time": "2020-06-20T17:19:13.498347Z"
    }
   },
   "outputs": [
    {
     "name": "stdout",
     "output_type": "stream",
     "text": [
      "\u001b[1m3×6 DataFrame\u001b[0m\n",
      "\u001b[1m Row \u001b[0m│\u001b[1m call  \u001b[0m\u001b[1m me    \u001b[0m\u001b[1m please \u001b[0m\u001b[1m taxi  \u001b[0m\u001b[1m tomorrow \u001b[0m\u001b[1m you   \u001b[0m\n",
      "\u001b[1m     \u001b[0m│\u001b[90m Int64 \u001b[0m\u001b[90m Int64 \u001b[0m\u001b[90m Int64  \u001b[0m\u001b[90m Int64 \u001b[0m\u001b[90m Int64    \u001b[0m\u001b[90m Int64 \u001b[0m\n",
      "─────┼──────────────────────────────────────────────\n",
      "   1 │     1      0       0      0         1      1\n",
      "   2 │     1      1       0      1         0      0\n",
      "   3 │     1      1       2      0         0      0"
     ]
    }
   ],
   "source": [
    "term_frequency = DataFrame(tf_dtm, :auto)\n",
    "rename!(term_frequency, tokens_list)\n",
    "print(term_frequency)"
   ]
  },
  {
   "cell_type": "markdown",
   "metadata": {},
   "source": [
    "#### Compute document frequency"
   ]
  },
  {
   "cell_type": "code",
   "execution_count": 71,
   "metadata": {
    "ExecuteTime": {
     "end_time": "2020-06-20T17:19:13.523789Z",
     "start_time": "2020-06-20T17:19:13.512824Z"
    }
   },
   "outputs": [
    {
     "data": {
      "text/plain": [
       "1×6 Matrix{Int64}:\n",
       " 3  2  1  1  1  1"
      ]
     },
     "execution_count": 71,
     "metadata": {},
     "output_type": "execute_result"
    }
   ],
   "source": [
    "vectorizer = CountVectorizer(binary=true)\n",
    "df_dtm = sum(vectorizer.fit_transform(sample_docs).todense(), dims=1)"
   ]
  },
  {
   "cell_type": "code",
   "execution_count": 72,
   "metadata": {
    "ExecuteTime": {
     "end_time": "2020-06-20T17:19:13.538418Z",
     "start_time": "2020-06-20T17:19:13.524699Z"
    }
   },
   "outputs": [
    {
     "name": "stdout",
     "output_type": "stream",
     "text": [
      "\u001b[1m1×6 DataFrame\u001b[0m\n",
      "\u001b[1m Row \u001b[0m│\u001b[1m call  \u001b[0m\u001b[1m me    \u001b[0m\u001b[1m please \u001b[0m\u001b[1m taxi  \u001b[0m\u001b[1m tomorrow \u001b[0m\u001b[1m you   \u001b[0m\n",
      "\u001b[1m     \u001b[0m│\u001b[90m Int64 \u001b[0m\u001b[90m Int64 \u001b[0m\u001b[90m Int64  \u001b[0m\u001b[90m Int64 \u001b[0m\u001b[90m Int64    \u001b[0m\u001b[90m Int64 \u001b[0m\n",
      "─────┼──────────────────────────────────────────────\n",
      "   1 │     3      2       1      1         1      1"
     ]
    }
   ],
   "source": [
    "document_frequency = DataFrame(df_dtm, :auto)\n",
    "rename!(document_frequency, tokens_list)\n",
    "print(document_frequency)"
   ]
  },
  {
   "cell_type": "markdown",
   "metadata": {},
   "source": [
    "#### Compute TfIDF"
   ]
  },
  {
   "cell_type": "code",
   "execution_count": 73,
   "metadata": {
    "ExecuteTime": {
     "end_time": "2020-06-20T17:19:13.552926Z",
     "start_time": "2020-06-20T17:19:13.540654Z"
    }
   },
   "outputs": [
    {
     "name": "stdout",
     "output_type": "stream",
     "text": [
      "\u001b[1m3×6 DataFrame\u001b[0m\n",
      "\u001b[1m Row \u001b[0m│\u001b[1m call     \u001b[0m\u001b[1m me      \u001b[0m\u001b[1m please  \u001b[0m\u001b[1m taxi    \u001b[0m\u001b[1m tomorrow \u001b[0m\u001b[1m you     \u001b[0m\n",
      "\u001b[1m     \u001b[0m│\u001b[90m Float64  \u001b[0m\u001b[90m Float64 \u001b[0m\u001b[90m Float64 \u001b[0m\u001b[90m Float64 \u001b[0m\u001b[90m Float64  \u001b[0m\u001b[90m Float64 \u001b[0m\n",
      "─────┼────────────────────────────────────────────────────────\n",
      "   1 │ 0.333333      0.0      0.0      0.0       1.0      1.0\n",
      "   2 │ 0.333333      0.5      0.0      1.0       0.0      0.0\n",
      "   3 │ 0.333333      0.5      2.0      0.0       0.0      0.0"
     ]
    }
   ],
   "source": [
    "tfidf = DataFrame(tf_dtm./df_dtm, :auto)\n",
    "rename!(tfidf, tokens_list)\n",
    "print(tfidf)"
   ]
  },
  {
   "cell_type": "markdown",
   "metadata": {},
   "source": [
    "#### The effect of smoothing"
   ]
  },
  {
   "cell_type": "markdown",
   "metadata": {
    "ExecuteTime": {
     "end_time": "2018-11-21T14:07:22.382406Z",
     "start_time": "2018-11-21T14:07:22.373832Z"
    }
   },
   "source": [
    "The TfidfVectorizer uses smoothing for document and term frequencies:\n",
    "- `smooth_idf`: add one to document frequency, as if an extra document contained every token in the vocabulary\n",
    "     once to prevents zero divisions\n",
    "- `sublinear_tf`: scale term Apply sublinear tf scaling, i.e. replace tf with 1 + log(tf)"
   ]
  },
  {
   "cell_type": "code",
   "execution_count": 74,
   "metadata": {
    "ExecuteTime": {
     "end_time": "2020-06-20T17:19:13.568104Z",
     "start_time": "2020-06-20T17:19:13.555181Z"
    }
   },
   "outputs": [
    {
     "data": {
      "text/html": [
       "<div class=\"data-frame\"><p>3 rows × 6 columns</p><table class=\"data-frame\"><thead><tr><th></th><th>call</th><th>me</th><th>please</th><th>taxi</th><th>tomorrow</th><th>you</th></tr><tr><th></th><th title=\"Float64\">Float64</th><th title=\"Float64\">Float64</th><th title=\"Float64\">Float64</th><th title=\"Float64\">Float64</th><th title=\"Float64\">Float64</th><th title=\"Float64\">Float64</th></tr></thead><tbody><tr><th>1</th><td>0.385372</td><td>0.0</td><td>0.0</td><td>0.0</td><td>0.652491</td><td>0.652491</td></tr><tr><th>2</th><td>0.425441</td><td>0.547832</td><td>0.0</td><td>0.720333</td><td>0.0</td><td>0.0</td></tr><tr><th>3</th><td>0.266075</td><td>0.34262</td><td>0.901008</td><td>0.0</td><td>0.0</td><td>0.0</td></tr></tbody></table></div>"
      ],
      "text/latex": [
       "\\begin{tabular}{r|cccccc}\n",
       "\t& call & me & please & taxi & tomorrow & you\\\\\n",
       "\t\\hline\n",
       "\t& Float64 & Float64 & Float64 & Float64 & Float64 & Float64\\\\\n",
       "\t\\hline\n",
       "\t1 & 0.385372 & 0.0 & 0.0 & 0.0 & 0.652491 & 0.652491 \\\\\n",
       "\t2 & 0.425441 & 0.547832 & 0.0 & 0.720333 & 0.0 & 0.0 \\\\\n",
       "\t3 & 0.266075 & 0.34262 & 0.901008 & 0.0 & 0.0 & 0.0 \\\\\n",
       "\\end{tabular}\n"
      ],
      "text/plain": [
       "\u001b[1m3×6 DataFrame\u001b[0m\n",
       "\u001b[1m Row \u001b[0m│\u001b[1m call     \u001b[0m\u001b[1m me       \u001b[0m\u001b[1m please   \u001b[0m\u001b[1m taxi     \u001b[0m\u001b[1m tomorrow \u001b[0m\u001b[1m you      \u001b[0m\n",
       "\u001b[1m     \u001b[0m│\u001b[90m Float64  \u001b[0m\u001b[90m Float64  \u001b[0m\u001b[90m Float64  \u001b[0m\u001b[90m Float64  \u001b[0m\u001b[90m Float64  \u001b[0m\u001b[90m Float64  \u001b[0m\n",
       "─────┼────────────────────────────────────────────────────────────\n",
       "   1 │ 0.385372  0.0       0.0       0.0       0.652491  0.652491\n",
       "   2 │ 0.425441  0.547832  0.0       0.720333  0.0       0.0\n",
       "   3 │ 0.266075  0.34262   0.901008  0.0       0.0       0.0"
      ]
     },
     "execution_count": 74,
     "metadata": {},
     "output_type": "execute_result"
    }
   ],
   "source": [
    "vect = TfidfVectorizer(smooth_idf = true, norm = \"l2\", sublinear_tf = false, binary = false)\n",
    "sample_df = DataFrame(vect.fit_transform(sample_docs).todense(), :auto)\n",
    "rename!(sample_df, vect.get_feature_names())"
   ]
  },
  {
   "cell_type": "markdown",
   "metadata": {
    "ExecuteTime": {
     "end_time": "2018-11-21T14:10:41.311223Z",
     "start_time": "2018-11-21T14:10:41.298041Z"
    }
   },
   "source": [
    "### TfIDF with new articles"
   ]
  },
  {
   "cell_type": "markdown",
   "metadata": {},
   "source": [
    "Due to their ability to assign meaningful token weights, TFIDF vectors are also used to summarize text data. E.g., reddit's autotldr function is based on a similar algorithm."
   ]
  },
  {
   "cell_type": "code",
   "execution_count": 75,
   "metadata": {
    "ExecuteTime": {
     "end_time": "2020-06-20T17:19:13.971058Z",
     "start_time": "2020-06-20T17:19:13.569533Z"
    },
    "slideshow": {
     "slide_type": "slide"
    }
   },
   "outputs": [
    {
     "data": {
      "text/plain": [
       "(2225, 29152)"
      ]
     },
     "execution_count": 75,
     "metadata": {},
     "output_type": "execute_result"
    }
   ],
   "source": [
    "tfidf = TfidfVectorizer(stop_words = \"english\")\n",
    "dtm_tfidf = tfidf.fit_transform(docs.body)\n",
    "tokens_list = tfidf.get_feature_names()\n",
    "dtm_tfidf.shape"
   ]
  },
  {
   "cell_type": "code",
   "execution_count": 76,
   "metadata": {
    "ExecuteTime": {
     "end_time": "2020-06-20T17:19:13.979715Z",
     "start_time": "2020-06-20T17:19:13.971962Z"
    },
    "scrolled": true,
    "slideshow": {
     "slide_type": "fragment"
    }
   },
   "outputs": [
    {
     "data": {
      "text/html": [
       "<div class=\"data-frame\"><p>29,152 rows × 2 columns</p><table class=\"data-frame\"><thead><tr><th></th><th>token</th><th>tfidf</th></tr><tr><th></th><th title=\"String\">String</th><th title=\"Float64\">Float64</th></tr></thead><tbody><tr><th>1</th><td>said</td><td>87.2516</td></tr><tr><th>2</th><td>mr</td><td>58.2179</td></tr><tr><th>3</th><td>year</td><td>41.9826</td></tr><tr><th>4</th><td>people</td><td>37.3023</td></tr><tr><th>5</th><td>new</td><td>34.2035</td></tr><tr><th>6</th><td>film</td><td>29.7342</td></tr><tr><th>7</th><td>government</td><td>28.7922</td></tr><tr><th>8</th><td>world</td><td>27.0303</td></tr><tr><th>9</th><td>time</td><td>26.3575</td></tr><tr><th>10</th><td>best</td><td>26.32</td></tr><tr><th>11</th><td>labour</td><td>25.8014</td></tr><tr><th>12</th><td>uk</td><td>25.7519</td></tr><tr><th>13</th><td>game</td><td>25.3137</td></tr><tr><th>14</th><td>election</td><td>22.3712</td></tr><tr><th>15</th><td>music</td><td>22.2328</td></tr><tr><th>16</th><td>years</td><td>21.8246</td></tr><tr><th>17</th><td>told</td><td>21.2035</td></tr><tr><th>18</th><td>england</td><td>21.0246</td></tr><tr><th>19</th><td>000</td><td>21.0013</td></tr><tr><th>20</th><td>number</td><td>20.8528</td></tr><tr><th>21</th><td>just</td><td>20.7569</td></tr><tr><th>22</th><td>party</td><td>20.4989</td></tr><tr><th>23</th><td>blair</td><td>20.2693</td></tr><tr><th>24</th><td>make</td><td>20.2317</td></tr><tr><th>25</th><td>like</td><td>19.5116</td></tr><tr><th>26</th><td>market</td><td>19.2564</td></tr><tr><th>27</th><td>company</td><td>19.1258</td></tr><tr><th>28</th><td>2004</td><td>19.0387</td></tr><tr><th>29</th><td>bbc</td><td>19.013</td></tr><tr><th>30</th><td>win</td><td>18.8538</td></tr><tr><th>&vellip;</th><td>&vellip;</td><td>&vellip;</td></tr></tbody></table></div>"
      ],
      "text/latex": [
       "\\begin{tabular}{r|cc}\n",
       "\t& token & tfidf\\\\\n",
       "\t\\hline\n",
       "\t& String & Float64\\\\\n",
       "\t\\hline\n",
       "\t1 & said & 87.2516 \\\\\n",
       "\t2 & mr & 58.2179 \\\\\n",
       "\t3 & year & 41.9826 \\\\\n",
       "\t4 & people & 37.3023 \\\\\n",
       "\t5 & new & 34.2035 \\\\\n",
       "\t6 & film & 29.7342 \\\\\n",
       "\t7 & government & 28.7922 \\\\\n",
       "\t8 & world & 27.0303 \\\\\n",
       "\t9 & time & 26.3575 \\\\\n",
       "\t10 & best & 26.32 \\\\\n",
       "\t11 & labour & 25.8014 \\\\\n",
       "\t12 & uk & 25.7519 \\\\\n",
       "\t13 & game & 25.3137 \\\\\n",
       "\t14 & election & 22.3712 \\\\\n",
       "\t15 & music & 22.2328 \\\\\n",
       "\t16 & years & 21.8246 \\\\\n",
       "\t17 & told & 21.2035 \\\\\n",
       "\t18 & england & 21.0246 \\\\\n",
       "\t19 & 000 & 21.0013 \\\\\n",
       "\t20 & number & 20.8528 \\\\\n",
       "\t21 & just & 20.7569 \\\\\n",
       "\t22 & party & 20.4989 \\\\\n",
       "\t23 & blair & 20.2693 \\\\\n",
       "\t24 & make & 20.2317 \\\\\n",
       "\t25 & like & 19.5116 \\\\\n",
       "\t26 & market & 19.2564 \\\\\n",
       "\t27 & company & 19.1258 \\\\\n",
       "\t28 & 2004 & 19.0387 \\\\\n",
       "\t29 & bbc & 19.013 \\\\\n",
       "\t30 & win & 18.8538 \\\\\n",
       "\t$\\dots$ & $\\dots$ & $\\dots$ \\\\\n",
       "\\end{tabular}\n"
      ],
      "text/plain": [
       "\u001b[1m29152×2 DataFrame\u001b[0m\n",
       "\u001b[1m   Row \u001b[0m│\u001b[1m token      \u001b[0m\u001b[1m tfidf      \u001b[0m\n",
       "\u001b[1m       \u001b[0m│\u001b[90m String     \u001b[0m\u001b[90m Float64    \u001b[0m\n",
       "───────┼────────────────────────\n",
       "     1 │ said        87.2516\n",
       "     2 │ mr          58.2179\n",
       "     3 │ year        41.9826\n",
       "     4 │ people      37.3023\n",
       "     5 │ new         34.2035\n",
       "     6 │ film        29.7342\n",
       "     7 │ government  28.7922\n",
       "     8 │ world       27.0303\n",
       "     9 │ time        26.3575\n",
       "    10 │ best        26.32\n",
       "    11 │ labour      25.8014\n",
       "   ⋮   │     ⋮           ⋮\n",
       " 29143 │ sioux        0.0142637\n",
       " 29144 │ siouxsie     0.0142637\n",
       " 29145 │ sisterhood   0.0142637\n",
       " 29146 │ slushy       0.0142637\n",
       " 29147 │ snobby       0.0142637\n",
       " 29148 │ soppy        0.0142637\n",
       " 29149 │ sops         0.0142637\n",
       " 29150 │ speechless   0.0142637\n",
       " 29151 │ suede        0.0142637\n",
       " 29152 │ wuthering    0.0142637\n",
       "\u001b[36m              29131 rows omitted\u001b[0m"
      ]
     },
     "execution_count": 76,
     "metadata": {},
     "output_type": "execute_result"
    }
   ],
   "source": [
    "token_freq = sort(DataFrame(token = tokens_list, tfidf = sum.(eachcol(dtm_tfidf.todense()))), :tfidf, rev = true)"
   ]
  },
  {
   "cell_type": "code",
   "execution_count": 77,
   "metadata": {
    "ExecuteTime": {
     "end_time": "2020-06-20T17:19:13.987241Z",
     "start_time": "2020-06-20T17:19:13.980597Z"
    },
    "scrolled": true
   },
   "outputs": [
    {
     "data": {
      "text/html": [
       "<div class=\"data-frame\"><p>10 rows × 2 columns</p><table class=\"data-frame\"><thead><tr><th></th><th>token</th><th>tfidf</th></tr><tr><th></th><th title=\"String\">String</th><th title=\"Float64\">Float64</th></tr></thead><tbody><tr><th>1</th><td>said</td><td>87.2516</td></tr><tr><th>2</th><td>mr</td><td>58.2179</td></tr><tr><th>3</th><td>year</td><td>41.9826</td></tr><tr><th>4</th><td>people</td><td>37.3023</td></tr><tr><th>5</th><td>new</td><td>34.2035</td></tr><tr><th>6</th><td>film</td><td>29.7342</td></tr><tr><th>7</th><td>government</td><td>28.7922</td></tr><tr><th>8</th><td>world</td><td>27.0303</td></tr><tr><th>9</th><td>time</td><td>26.3575</td></tr><tr><th>10</th><td>best</td><td>26.32</td></tr></tbody></table></div>"
      ],
      "text/latex": [
       "\\begin{tabular}{r|cc}\n",
       "\t& token & tfidf\\\\\n",
       "\t\\hline\n",
       "\t& String & Float64\\\\\n",
       "\t\\hline\n",
       "\t1 & said & 87.2516 \\\\\n",
       "\t2 & mr & 58.2179 \\\\\n",
       "\t3 & year & 41.9826 \\\\\n",
       "\t4 & people & 37.3023 \\\\\n",
       "\t5 & new & 34.2035 \\\\\n",
       "\t6 & film & 29.7342 \\\\\n",
       "\t7 & government & 28.7922 \\\\\n",
       "\t8 & world & 27.0303 \\\\\n",
       "\t9 & time & 26.3575 \\\\\n",
       "\t10 & best & 26.32 \\\\\n",
       "\\end{tabular}\n"
      ],
      "text/plain": [
       "\u001b[1m10×2 DataFrame\u001b[0m\n",
       "\u001b[1m Row \u001b[0m│\u001b[1m token      \u001b[0m\u001b[1m tfidf   \u001b[0m\n",
       "\u001b[1m     \u001b[0m│\u001b[90m String     \u001b[0m\u001b[90m Float64 \u001b[0m\n",
       "─────┼─────────────────────\n",
       "   1 │ said        87.2516\n",
       "   2 │ mr          58.2179\n",
       "   3 │ year        41.9826\n",
       "   4 │ people      37.3023\n",
       "   5 │ new         34.2035\n",
       "   6 │ film        29.7342\n",
       "   7 │ government  28.7922\n",
       "   8 │ world       27.0303\n",
       "   9 │ time        26.3575\n",
       "  10 │ best        26.32"
      ]
     },
     "execution_count": 77,
     "metadata": {},
     "output_type": "execute_result"
    }
   ],
   "source": [
    "first(token_freq, 10)"
   ]
  },
  {
   "cell_type": "code",
   "execution_count": 78,
   "metadata": {},
   "outputs": [
    {
     "data": {
      "text/html": [
       "<div class=\"data-frame\"><p>10 rows × 2 columns</p><table class=\"data-frame\"><thead><tr><th></th><th>token</th><th>tfidf</th></tr><tr><th></th><th title=\"String\">String</th><th title=\"Float64\">Float64</th></tr></thead><tbody><tr><th>1</th><td>sioux</td><td>0.0142637</td></tr><tr><th>2</th><td>siouxsie</td><td>0.0142637</td></tr><tr><th>3</th><td>sisterhood</td><td>0.0142637</td></tr><tr><th>4</th><td>slushy</td><td>0.0142637</td></tr><tr><th>5</th><td>snobby</td><td>0.0142637</td></tr><tr><th>6</th><td>soppy</td><td>0.0142637</td></tr><tr><th>7</th><td>sops</td><td>0.0142637</td></tr><tr><th>8</th><td>speechless</td><td>0.0142637</td></tr><tr><th>9</th><td>suede</td><td>0.0142637</td></tr><tr><th>10</th><td>wuthering</td><td>0.0142637</td></tr></tbody></table></div>"
      ],
      "text/latex": [
       "\\begin{tabular}{r|cc}\n",
       "\t& token & tfidf\\\\\n",
       "\t\\hline\n",
       "\t& String & Float64\\\\\n",
       "\t\\hline\n",
       "\t1 & sioux & 0.0142637 \\\\\n",
       "\t2 & siouxsie & 0.0142637 \\\\\n",
       "\t3 & sisterhood & 0.0142637 \\\\\n",
       "\t4 & slushy & 0.0142637 \\\\\n",
       "\t5 & snobby & 0.0142637 \\\\\n",
       "\t6 & soppy & 0.0142637 \\\\\n",
       "\t7 & sops & 0.0142637 \\\\\n",
       "\t8 & speechless & 0.0142637 \\\\\n",
       "\t9 & suede & 0.0142637 \\\\\n",
       "\t10 & wuthering & 0.0142637 \\\\\n",
       "\\end{tabular}\n"
      ],
      "text/plain": [
       "\u001b[1m10×2 DataFrame\u001b[0m\n",
       "\u001b[1m Row \u001b[0m│\u001b[1m token      \u001b[0m\u001b[1m tfidf     \u001b[0m\n",
       "\u001b[1m     \u001b[0m│\u001b[90m String     \u001b[0m\u001b[90m Float64   \u001b[0m\n",
       "─────┼───────────────────────\n",
       "   1 │ sioux       0.0142637\n",
       "   2 │ siouxsie    0.0142637\n",
       "   3 │ sisterhood  0.0142637\n",
       "   4 │ slushy      0.0142637\n",
       "   5 │ snobby      0.0142637\n",
       "   6 │ soppy       0.0142637\n",
       "   7 │ sops        0.0142637\n",
       "   8 │ speechless  0.0142637\n",
       "   9 │ suede       0.0142637\n",
       "  10 │ wuthering   0.0142637"
      ]
     },
     "execution_count": 78,
     "metadata": {},
     "output_type": "execute_result"
    }
   ],
   "source": [
    "last(token_freq, 10)"
   ]
  },
  {
   "cell_type": "markdown",
   "metadata": {},
   "source": [
    "### Summarizing news articles using TfIDF weights"
   ]
  },
  {
   "cell_type": "markdown",
   "metadata": {},
   "source": [
    "#### Select random article"
   ]
  },
  {
   "cell_type": "code",
   "execution_count": 79,
   "metadata": {
    "ExecuteTime": {
     "end_time": "2020-06-20T17:19:13.995022Z",
     "start_time": "2020-06-20T17:19:13.988041Z"
    },
    "scrolled": true
   },
   "outputs": [
    {
     "data": {
      "text/html": [
       "<p>DataFrameRow (3 columns)</p><div class=\"data-frame\"><table class=\"data-frame\"><thead><tr><th></th><th>topic</th><th>heading</th><th>body</th></tr><tr><th></th><th title=\"String\">String</th><th title=\"String\">String</th><th title=\"String\">String</th></tr></thead><tbody><tr><th>1616</th><td>sport</td><td>Jones happy with Henson heroics</td><td>Wales fly-half Stephen Jones admitted he was happy to hand Gavin Henson responsibility for taking the match-winning kick against England.Jones had missed three earlier shots at goal when Wales, 9-8 down, were awarded a long-range penalty with four minutes left in Cardiff. &quot;I knew the percentages of Gavin reaching it were far higher than me,&quot; Jones said. &quot;When he said he wanted it, there were no problems.&quot; Jones had seen a long-range effort fall a whisker under the crossbar on the hour, before Charlie Hodgson put England in front with 10 minutes left. &quot;I looked at where it was and I knew I was going to struggle to make it,&quot; Jones added. &quot;I said to Gareth (Thomas, the Wales captain) &apos;This is touch and go.&apos; It was out of my range and obviously Gavin is phenomenal when it comes to distance. He was confident and fancied it. &quot;There were no questions that he&apos;d miss it the way he was playing. He had a superb game.&quot; Jones was happy to hail Henson&apos;s heroic contribution to Wales&apos; first win over England in Cardiff since 1993. &quot;Physically he&apos;s a specimen: he&apos;s a balanced player, he glides when he runs and obviously he&apos;s got a great kicking game as well,&quot; Jones said.&quot;His defence was superb, he made some great hits and he had a great game. &quot;I&apos;m glad he&apos;s Welsh.&quot; Victory over England for the first time since 1999 will no doubt fuel expectations of what Wales might achieve in this year&apos;s Six Nations. But they now face three away fixtures in Italy, France and Scotland before completing their campaign against Ireland in Cardiff. &quot;People all over the world want to see Wales back at the top table of world rugby,&quot; said a proud coach Mike Ruddock. &quot;But we are not there yet. The next step is finding the consistency to get further wins. &quot;We have to travel this week and we can&apos;t afford to get too giddy about this result. &quot;We have got to be professional and keep focused on facing Italy.&quot;None more so than Henson, who can now expect to have the same sort of spotlight thrust upon him as the likes of Jonny Wilkinson and Brian O&apos;Driscoll. The confident 23-year-old is undaunted by the prospect of dealing with such weighty expectations however. &quot;I&apos;m the sort of player who likes pressure on me,&quot; he said. &quot;It makes me more concentrated and I think I perform better under more pressure. &quot;I set a high standard against England and I&apos;ve got to back it up next week. &quot;Two years ago when we played Italy I wasn&apos;t involved and we lost, so we&apos;ve got to put that right next week.&quot;</td></tr></tbody></table></div>"
      ],
      "text/latex": [
       "\\begin{tabular}{r|ccc}\n",
       "\t& topic & heading & body\\\\\n",
       "\t\\hline\n",
       "\t& String & String & String\\\\\n",
       "\t\\hline\n",
       "\t1616 & sport & Jones happy with Henson heroics & Wales fly-half Stephen Jones admitted he was happy to hand Gavin Henson responsibility for taking the match-winning kick against England.Jones had missed three earlier shots at goal when Wales, 9-8 down, were awarded a long-range penalty with four minutes left in Cardiff. \"I knew the percentages of Gavin reaching it were far higher than me,\" Jones said. \"When he said he wanted it, there were no problems.\" Jones had seen a long-range effort fall a whisker under the crossbar on the hour, before Charlie Hodgson put England in front with 10 minutes left. \"I looked at where it was and I knew I was going to struggle to make it,\" Jones added. \"I said to Gareth (Thomas, the Wales captain) 'This is touch and go.' It was out of my range and obviously Gavin is phenomenal when it comes to distance. He was confident and fancied it. \"There were no questions that he'd miss it the way he was playing. He had a superb game.\" Jones was happy to hail Henson's heroic contribution to Wales' first win over England in Cardiff since 1993. \"Physically he's a specimen: he's a balanced player, he glides when he runs and obviously he's got a great kicking game as well,\" Jones said.\"His defence was superb, he made some great hits and he had a great game. \"I'm glad he's Welsh.\" Victory over England for the first time since 1999 will no doubt fuel expectations of what Wales might achieve in this year's Six Nations. But they now face three away fixtures in Italy, France and Scotland before completing their campaign against Ireland in Cardiff. \"People all over the world want to see Wales back at the top table of world rugby,\" said a proud coach Mike Ruddock. \"But we are not there yet. The next step is finding the consistency to get further wins. \"We have to travel this week and we can't afford to get too giddy about this result. \"We have got to be professional and keep focused on facing Italy.\"None more so than Henson, who can now expect to have the same sort of spotlight thrust upon him as the likes of Jonny Wilkinson and Brian O'Driscoll. The confident 23-year-old is undaunted by the prospect of dealing with such weighty expectations however. \"I'm the sort of player who likes pressure on me,\" he said. \"It makes me more concentrated and I think I perform better under more pressure. \"I set a high standard against England and I've got to back it up next week. \"Two years ago when we played Italy I wasn't involved and we lost, so we've got to put that right next week.\" \\\\\n",
       "\\end{tabular}\n"
      ],
      "text/plain": [
       "\u001b[1mDataFrameRow\u001b[0m\n",
       "\u001b[1m  Row \u001b[0m│\u001b[1m topic  \u001b[0m\u001b[1m heading                         \u001b[0m\u001b[1m body                         \u001b[0m ⋯\n",
       "\u001b[1m      \u001b[0m│\u001b[90m String \u001b[0m\u001b[90m String                          \u001b[0m\u001b[90m String                       \u001b[0m ⋯\n",
       "──────┼─────────────────────────────────────────────────────────────────────────\n",
       " 1616 │ sport   Jones happy with Henson heroics  Wales fly-half Stephen Jones  ⋯\n",
       "\u001b[36m                                                                1 column omitted\u001b[0m"
      ]
     },
     "execution_count": 79,
     "metadata": {},
     "output_type": "execute_result"
    }
   ],
   "source": [
    "article_id = shuffle(1:nrow(docs))[1]\n",
    "article = docs[article_id, :]"
   ]
  },
  {
   "cell_type": "code",
   "execution_count": 80,
   "metadata": {
    "ExecuteTime": {
     "end_time": "2020-06-20T17:19:14.003298Z",
     "start_time": "2020-06-20T17:19:13.995869Z"
    },
    "scrolled": true
   },
   "outputs": [
    {
     "name": "stdout",
     "output_type": "stream",
     "text": [
      "Topic:\tSport\n",
      "\n",
      "Jones happy with Henson heroics\n",
      "\n",
      "Wales fly-half Stephen Jones admitted he was happy to hand Gavin Henson responsibility for taking the match-winning kick against England.Jones had missed three earlier shots at goal when Wales, 9-8 down, were awarded a long-range penalty with four minutes left in Cardiff. \"I knew the percentages of Gavin reaching it were far higher than me,\" Jones said. \"When he said he wanted it, there were no problems.\" Jones had seen a long-range effort fall a whisker under the crossbar on the hour, before Charlie Hodgson put England in front with 10 minutes left. \"I looked at where it was and I knew I was going to struggle to make it,\" Jones added. \"I said to Gareth (Thomas, the Wales captain) 'This is touch and go.' It was out of my range and obviously Gavin is phenomenal when it comes to distance. He was confident and fancied it. \"There were no questions that he'd miss it the way he was playing. He had a superb game.\" Jones was happy to hail Henson's heroic contribution to Wales' first win over England in Cardiff since 1993. \"Physically he's a specimen: he's a balanced player, he glides when he runs and obviously he's got a great kicking game as well,\" Jones said.\"His defence was superb, he made some great hits and he had a great game. \"I'm glad he's Welsh.\" Victory over England for the first time since 1999 will no doubt fuel expectations of what Wales might achieve in this year's Six Nations. But they now face three away fixtures in Italy, France and Scotland before completing their campaign against Ireland in Cardiff. \"People all over the world want to see Wales back at the top table of world rugby,\" said a proud coach Mike Ruddock. \"But we are not there yet. The next step is finding the consistency to get further wins. \"We have to travel this week and we can't afford to get too giddy about this result. \"We have got to be professional and keep focused on facing Italy.\"None more so than Henson, who can now expect to have the same sort of spotlight thrust upon him as the likes of Jonny Wilkinson and Brian O'Driscoll. The confident 23-year-old is undaunted by the prospect of dealing with such weighty expectations however. \"I'm the sort of player who likes pressure on me,\" he said. \"It makes me more concentrated and I think I perform better under more pressure. \"I set a high standard against England and I've got to back it up next week. \"Two years ago when we played Italy I wasn't involved and we lost, so we've got to put that right next week.\"\n"
     ]
    }
   ],
   "source": [
    "topic = uppercasefirst(article.topic)\n",
    "heading = article.heading\n",
    "\n",
    "println(\"Topic:\\t$topic\\n\\n$heading\\n\")\n",
    "println(strip(article.body))"
   ]
  },
  {
   "cell_type": "markdown",
   "metadata": {},
   "source": [
    "#### Select most relevant tokens by tfidf value"
   ]
  },
  {
   "cell_type": "code",
   "execution_count": 81,
   "metadata": {
    "scrolled": true
   },
   "outputs": [
    {
     "data": {
      "text/plain": [
       "29152-element Vector{Float64}:\n",
       " 0.0\n",
       " 0.0\n",
       " 0.0\n",
       " 0.0\n",
       " 0.0\n",
       " 0.0\n",
       " 0.0\n",
       " 0.0\n",
       " 0.0\n",
       " 0.0\n",
       " 0.0\n",
       " 0.0\n",
       " 0.0\n",
       " ⋮\n",
       " 0.0\n",
       " 0.0\n",
       " 0.0\n",
       " 0.0\n",
       " 0.0\n",
       " 0.0\n",
       " 0.0\n",
       " 0.0\n",
       " 0.0\n",
       " 0.0\n",
       " 0.0\n",
       " 0.0"
      ]
     },
     "execution_count": 81,
     "metadata": {},
     "output_type": "execute_result"
    }
   ],
   "source": [
    "article_tfidf = (dtm_tfidf.todense())[article_id, :]"
   ]
  },
  {
   "cell_type": "code",
   "execution_count": 82,
   "metadata": {
    "ExecuteTime": {
     "end_time": "2020-06-20T17:19:14.017696Z",
     "start_time": "2020-06-20T17:19:14.004071Z"
    }
   },
   "outputs": [
    {
     "data": {
      "text/html": [
       "<div class=\"data-frame\"><p>10 rows × 2 columns</p><table class=\"data-frame\"><thead><tr><th></th><th>tokens</th><th>tf_idf</th></tr><tr><th></th><th title=\"String\">String</th><th title=\"Float64\">Float64</th></tr></thead><tbody><tr><th>1</th><td>jones</td><td>0.356551</td></tr><tr><th>2</th><td>wales</td><td>0.267866</td></tr><tr><th>3</th><td>henson</td><td>0.210263</td></tr><tr><th>4</th><td>gavin</td><td>0.198981</td></tr><tr><th>5</th><td>england</td><td>0.18909</td></tr><tr><th>6</th><td>cardiff</td><td>0.17962</td></tr><tr><th>7</th><td>italy</td><td>0.151519</td></tr><tr><th>8</th><td>got</td><td>0.146701</td></tr><tr><th>9</th><td>range</td><td>0.137438</td></tr><tr><th>10</th><td>superb</td><td>0.126959</td></tr></tbody></table></div>"
      ],
      "text/latex": [
       "\\begin{tabular}{r|cc}\n",
       "\t& tokens & tf\\_idf\\\\\n",
       "\t\\hline\n",
       "\t& String & Float64\\\\\n",
       "\t\\hline\n",
       "\t1 & jones & 0.356551 \\\\\n",
       "\t2 & wales & 0.267866 \\\\\n",
       "\t3 & henson & 0.210263 \\\\\n",
       "\t4 & gavin & 0.198981 \\\\\n",
       "\t5 & england & 0.18909 \\\\\n",
       "\t6 & cardiff & 0.17962 \\\\\n",
       "\t7 & italy & 0.151519 \\\\\n",
       "\t8 & got & 0.146701 \\\\\n",
       "\t9 & range & 0.137438 \\\\\n",
       "\t10 & superb & 0.126959 \\\\\n",
       "\\end{tabular}\n"
      ],
      "text/plain": [
       "\u001b[1m10×2 DataFrame\u001b[0m\n",
       "\u001b[1m Row \u001b[0m│\u001b[1m tokens  \u001b[0m\u001b[1m tf_idf   \u001b[0m\n",
       "\u001b[1m     \u001b[0m│\u001b[90m String  \u001b[0m\u001b[90m Float64  \u001b[0m\n",
       "─────┼───────────────────\n",
       "   1 │ jones    0.356551\n",
       "   2 │ wales    0.267866\n",
       "   3 │ henson   0.210263\n",
       "   4 │ gavin    0.198981\n",
       "   5 │ england  0.18909\n",
       "   6 │ cardiff  0.17962\n",
       "   7 │ italy    0.151519\n",
       "   8 │ got      0.146701\n",
       "   9 │ range    0.137438\n",
       "  10 │ superb   0.126959"
      ]
     },
     "execution_count": 82,
     "metadata": {},
     "output_type": "execute_result"
    }
   ],
   "source": [
    "article_tokens = DataFrame(tokens = tokens_list, tf_idf = article_tfidf)\n",
    "sort!(article_tokens, :tf_idf, rev = true)\n",
    "first(article_tokens, 10)"
   ]
  },
  {
   "cell_type": "markdown",
   "metadata": {},
   "source": [
    "#### Compare to random selection"
   ]
  },
  {
   "cell_type": "code",
   "execution_count": 83,
   "metadata": {
    "ExecuteTime": {
     "end_time": "2020-06-20T17:19:14.024287Z",
     "start_time": "2020-06-20T17:19:14.018468Z"
    }
   },
   "outputs": [
    {
     "data": {
      "text/plain": [
       "10-element Vector{SubString{String}}:\n",
       " \"we\"\n",
       " \"for\"\n",
       " \"the\"\n",
       " \"go.'\"\n",
       " \"Scotland\"\n",
       " \"Jones\"\n",
       " \"Gavin\"\n",
       " \"The\"\n",
       " \"crossbar\"\n",
       " \"to\""
      ]
     },
     "execution_count": 83,
     "metadata": {},
     "output_type": "execute_result"
    }
   ],
   "source": [
    "article_body_split = split(article.body)\n",
    "article_body_indices = shuffle(1:length(article_body_split))[1:10]\n",
    "article_body_samples = [article_body_split[i] for i in article_body_indices]"
   ]
  },
  {
   "cell_type": "markdown",
   "metadata": {
    "slideshow": {
     "slide_type": "slide"
    }
   },
   "source": [
    "## Create Train & Test Sets"
   ]
  },
  {
   "cell_type": "markdown",
   "metadata": {},
   "source": [
    "### Stratified `train_test_split`"
   ]
  },
  {
   "cell_type": "code",
   "execution_count": 84,
   "metadata": {},
   "outputs": [
    {
     "data": {
      "text/plain": [
       "partitionTrainTest (generic function with 2 methods)"
      ]
     },
     "execution_count": 84,
     "metadata": {},
     "output_type": "execute_result"
    }
   ],
   "source": [
    "using Random\n",
    "\n",
    "function partitionTrainTest(data, at = 0.75)\n",
    "    n = nrow(data)\n",
    "    idx = shuffle(1:n)\n",
    "    train_idx = view(idx, 1:floor(Int, at*n))\n",
    "    test_idx = view(idx, (floor(Int, at*n)+1):n)\n",
    "    data[train_idx,:], data[test_idx,:]\n",
    "end"
   ]
  },
  {
   "cell_type": "code",
   "execution_count": 85,
   "metadata": {},
   "outputs": [
    {
     "name": "stderr",
     "output_type": "stream",
     "text": [
      "WARNING: using Pandas.DataFrame in module Main conflicts with an existing identifier.\n",
      "WARNING: using Pandas.groupby in module Main conflicts with an existing identifier.\n"
     ]
    }
   ],
   "source": [
    "#Pkg.add(\"Pandas\")\n",
    "using Pandas"
   ]
  },
  {
   "cell_type": "code",
   "execution_count": 86,
   "metadata": {
    "ExecuteTime": {
     "end_time": "2020-06-20T17:19:14.034638Z",
     "start_time": "2020-06-20T17:19:14.025176Z"
    },
    "scrolled": true,
    "slideshow": {
     "slide_type": "fragment"
    }
   },
   "outputs": [
    {
     "data": {
      "text/plain": [
       "2-element Vector{PyObject}:\n",
       " PyObject               topic  ...                                               body\n",
       "568   entertainment  ...  Sky has signed a major new deal to broadcast t...\n",
       "1970           tech  ...  A campaign by Lycos Europe to target spam-rela...\n",
       "526   entertainment  ...  Dame Muriel Spark is among three British autho...\n",
       "488        business  ...  Traders at US banking giant Citigroup are faci...\n",
       "1313          sport  ...  British hurdler Sarah Claxton is confident she...\n",
       "...             ...  ...                                                ...\n",
       "1231       politics  ...  Tony Blair has told Labour supporters he's \"ba...\n",
       "935        politics  ...  Jack Straw has attacked the decision by Britai...\n",
       "1783          sport  ...  Jennifer Capriati has become the third leading...\n",
       "664   entertainment  ...  A box set featuring 68 unreleased Nirvana trac...\n",
       "1039       politics  ...  An MP has had more than Â£600 and his passport...\n",
       "\n",
       "[2175 rows x 3 columns]\n",
       " PyObject               topic  ...                                               body\n",
       "574   entertainment  ...  Oscar-winning director Hayao Miyazaki's latest...\n",
       "2046           tech  ...  Aid workers trying to house, feed and clothe m...\n",
       "1896           tech  ...  People using wireless high-speed net (wi-fi) a...\n",
       "121        business  ...  Five Bank of America subsidiaries have agreed ...\n",
       "1410          sport  ...  Manchester United winger Cristiano Ronaldo sai...\n",
       "270        business  ...  Arsenal vice-chairman David Dein has said the ...\n",
       "102        business  ...  Up to 2,500 jobs are to go at US insurance bro...\n",
       "1654          sport  ...  England captain Jason Robinson will miss the r...\n",
       "71         business  ...  South Korea looks set to sustain its revival t...\n",
       "348        business  ...  Creditors of South Korea's top credit card fir...\n",
       "1040       politics  ...  A prospective candidate for the UK Independenc...\n",
       "1549          sport  ...  All four of England's Champions League represe...\n",
       "1531          sport  ...  Hearts of Oak set up an all Ghanaian Confedera...\n",
       "1674          sport  ...  The Wales Students rugby side has become a cas...\n",
       "832   entertainment  ...  Mike Leigh's film Vera Drake will lead British...\n",
       "610   entertainment  ...  International films will be given the same pro...\n",
       "777   entertainment  ...  Black Sabbath have topped a list of the best B...\n",
       "1580          sport  ...  Sol Campbell proved to be an unlikely match-wi...\n",
       "963        politics  ...  MPs are preparing to debate a bill which criti...\n",
       "1480          sport  ...  Adriano's agent Gilmar Rinaldi has insisted th...\n",
       "1625          sport  ...  Tough-scrummaging prop Julian White is expecti...\n",
       "677   entertainment  ...  MTV has been criticised for \"incessant sleaze\"...\n",
       "839   entertainment  ...  Actor Michael Douglas is to co-produce and sta...\n",
       "1781          sport  ...  Carlos Moya described Spain's Davis Cup victor...\n",
       "2087           tech  ...  If broadband were a jumbo jet, then 2003 would...\n",
       "908        politics  ...  Tory leader Michael Howard has gone on the off...\n",
       "1310       politics  ...  The Conservatives have been \"a lot smarter\" in...\n",
       "2193           tech  ...  Judges at the US Supreme Court have been heari...\n",
       "1107       politics  ...  The Conservatives' campaign director has denie...\n",
       "920        politics  ...  A former Home Office minister has called for a...\n",
       "2027           tech  ...  Visitors to the British Library will be able t...\n",
       "552   entertainment  ...  Hollywood stars including Spike Lee, Burt Reyn...\n",
       "1599          sport  ...  France coach Bernard Laporte has made four cha...\n",
       "1832           tech  ...  The Apple Powerbook 100 has been chosen as the...\n",
       "1864           tech  ...  T-Mobile has launched its latest \"pocket offic...\n",
       "20         business  ...  Leisure group Rank could unveil plans to demer...\n",
       "1446          sport  ...  Republic of Ireland manager Brian Kerr has bee...\n",
       "688   entertainment  ...  The debut of US television hit Desperate House...\n",
       "542   entertainment  ...  This third Harry Potter film brought a change ...\n",
       "509        business  ...  Luxury goods group LVMH has sold its loss-maki...\n",
       "106        business  ...  The Liberian economy started to grow in 2004, ...\n",
       "2182           tech  ...  The Gizmondo combined media player, phone and ...\n",
       "1195       politics  ...  Michael Howard has denied his shadow cabinet w...\n",
       "435        business  ...  The European Central Bank has left its key int...\n",
       "188        business  ...  The chief executive of the Fiat conglomerate h...\n",
       "1021       politics  ...  Tony Blair is urging European leaders to wake ...\n",
       "1289       politics  ...  Britain's economic future will be at the heart...\n",
       "2085           tech  ...  More and more Americans are joining the intern...\n",
       "1339          sport  ...  Double Olympic champion Kelly Holmes has been ...\n",
       "466        business  ...  General Motors (GM) saw its net profits fall 3...\n",
       "\n",
       "[50 rows x 3 columns]"
      ]
     },
     "execution_count": 86,
     "metadata": {},
     "output_type": "execute_result"
    }
   ],
   "source": [
    "pd_docs = Pandas.DataFrame(docs)\n",
    "pd_train_docs, pd_test_docs = train_test_split(pd_docs, \n",
    "                                         stratify= pd_docs.topic, \n",
    "                                         test_size=50, \n",
    "                                         random_state=42)"
   ]
  },
  {
   "cell_type": "code",
   "execution_count": 87,
   "metadata": {},
   "outputs": [
    {
     "data": {
      "text/html": [
       "<div class=\"data-frame\"><p>2,175 rows × 3 columns</p><table class=\"data-frame\"><thead><tr><th></th><th>topic</th><th>heading</th><th>body</th></tr><tr><th></th><th title=\"String\">String</th><th title=\"String\">String</th><th title=\"String\">String</th></tr></thead><tbody><tr><th>1</th><td>entertainment</td><td>Sky takes over Oscar night mantle</td><td>Sky has signed a major new deal to broadcast this year&apos;s Academy Awards, taking over from three years of live Oscar coverage on the BBC.Sky said it was &quot;honoured to have won exclusive broadcasting rights&quot; and promised to cover the event &quot;in a way no other broadcaster could&quot;. The BBC denied it had lost a bidding war, saying it had &quot;decided to pass the mantle to another broadcaster&quot;. The ceremony, hosted by newcomer Chris Rock, takes place on 27 February 2005.Sky&apos;s coverage will launch with the nominations on 25 January and will include themed programming across Sky channels including Sky News, Sky Travel and the Biography Channel. There will also be a month-long season of Oscar-winning films on Sky Movies in the run up to the event and live uninterrupted coverage on the night. &quot;We are honoured to have won the live and exclusive broadcasting rights for The Academy Awards,&quot; said Sky Networks&apos; Sophie Turner Laing. &quot;Sky is the natural place to see the biggest and most prestigious film event of the year, and will cover the event in a way that no other broadcaster could.&quot;Sky first scooped Oscar rights from the BBC in 1999, but the BBC won them back in 2001 when Sky was forced to pull out of a bidding war due to financial constraints. &quot;BBC viewers will of course be able to watch quality coverage of the 2005 Academy Awards on the BBC&apos;s bulletins and news programmes,&quot; a spokesman said. Among the films tipped to do well at this year&apos;s Academy Awards are Martin Scorsese&apos;s The Aviator, Jean-Pierre Jeunet&apos;s A Very Long Engagement and the Ray Charles biopic, Ray.</td></tr><tr><th>2</th><td>tech</td><td>Freeze on anti-spam campaign</td><td>A campaign by Lycos Europe to target spam-related websites appears to have been put on hold.Earlier this week the company released a screensaver that bombarded the sites with data to try to bump up the running costs of the websites. But the site hosting the screensaver now displays a pink graphic and the words &quot;Stay tuned&quot;. No one at Lycos was available for comment on latest developments in its controversial anti-spam campaign.Lycos Europe&apos;s &quot;Make love not spam&quot; campaign was intended as a way for users to fight back against the mountain of junk mail flooding inboxes. People were encouraged to download the screensaver which, when their PC was idle, would then send lots of data to sites that peddle the goods and services mentioned in spam messages. Lycos said the idea was to get the spam sites running at 95% capacity and generate big bandwidth bills for the spammers behind the sites. But the plan has proved controversial.Monitoring firm Netcraft analysed response times for some of the sites targeted by the screensaver and found that a number were completely knocked offline.The downing of the sites could dent Lycos claims that what it is doing does not amount to a distributed denial of service attack. In such attacks thousands of computers bombard sites with data in an attempt to overwhelm them. Laws in many countries do not explicitly outlaw such attacks but many nations are re-drafting computer use laws to make them specific offences. Lycos Europe now appears to have put the plan on hold. The site hosting the screensaver currently shows a holding page, with the words, &quot;Stay tuned&quot;. The numerical internet address of the site has also changed. This is likely to be in response to spammers who have reportedly redirected traffic from their sites back to the Lycos screensaver site. The campaign has come under fire from some corners of the web. Many discussion groups have said that it set a dangerous precedent and could incite vigilantism. &quot;Attacking a spammer&apos;s website is like poking a grizzly bear sleeping in your back garden with a pointy stick,&quot; said Graham Cluley, senior technology consultant for Sophos. &quot;Not only is this screensaver similar in its approach to a potentially illegal distributed denial of service attack, but it also is in danger of turning innocent computer users into vigilantes, who may not be prepared for whatever retaliation the spammers care to dream up.&quot;</td></tr><tr><th>3</th><td>entertainment</td><td>Spark heads world Booker list</td><td>Dame Muriel Spark is among three British authors who have made the shortlist for the inaugural international Booker Prize.Doris Lessing and Ian McEwan have also been nominated. McEwan and Margaret Atwood are the only nominees to have previously won the main Booker Prize. The new Â£60,000 award is open to writers of all nationalities who write in English or are widely translated. The prize commends an author for their body of work instead of one book.Gabriel Garcia Marquez, Saul Bellow, Milan Kundera and John Updike also feature on the 18-strong list of world literary figures.But other past winners of the regular Booker Prize, such as Salman Rushdie, JM Coetzee and Kazuo Ishiguro have failed to make the shortlist. The prize, which will be awarded in London in June, will be given once every two years. It will reward an author - who must be living - for &quot;continued creativity, development and overall contribution to fiction on the world stage&quot;. An author can only win once. The international award was started in response to criticisms that the Booker Prize is only open to British and Commonwealth authors.Margaret Atwood (Canada) Saul Bellow (Canada) Gabriel Garcia Marquez (Colombia) Gunter Grass (Germany) Ismail Kadare (Albania) Milan Kundera (Czech Republic) Stanislaw Lem (Poland) Doris Lessing (UK) Ian McEwan (UK) Naguib Mahfouz (Egypt) Tomas Eloy Martinez (Argentina) Kenzaburo Oe (Japan) Cynthia Ozick (US) Philip Roth (US) Muriel Spark (UK) Antonio Tabucchi (Italy) John Updike (US) Abraham B Yehoshua (Israel)</td></tr><tr><th>4</th><td>business</td><td>Criminal probe on Citigroup deals</td><td>Traders at US banking giant Citigroup are facing a criminal investigation in Germany over a controversial bond deal.The deal saw the sale of 11bn euros ($14.4bn; Â£7.6bn) of government bonds in a few minutes on 2 August, with 4bn euros-worth then bought back later. The move was widely criticised at the time, and now the German regulator has said it has found evidence of possible market manipulation. Citigroup said it would continue to co-operate fully with the authorities. &quot;We are disappointed that the BaFin has referred to the prosecutor the question of whether action should be brought against individuals involved,&quot; Citigroup said. If the traders are found guilty, they could face a five-year jail term or a fine, Reuters reported BaFin as saying. However, under German criminal law, prosecutors cannot pursue Citigroup itself.Germany&apos;s financial watchdog BaFin told BBC News it had now transferred the investigation to the public prosecutor. &quot;I can confirm that BaFin has passed through the case to the public prosecutor,&quot; a BaFin spokeswoman said. &quot;It is now a criminal investigation.&quot; &quot;We found clues of possible market manipulation,&quot; the spokeswoman said, which included signs of linked bond trading ahead of the main trades on 2 August. &quot;Germany&apos;s Securities Trading Act says that if BaFin finds such clues, it has to put the case in the hands of the prosecutor.&quot; Regulatory investigations are still going on in France, the UK and elsewhere. Some Citigroup operations elsewhere in the world came under regulatory criticism in 2004. Its private banking operation in Japan was closed down by regulators in Tokyo after an &quot;aggressive sales culture&quot; led the bank to flout anti-money laundering rules.</td></tr><tr><th>5</th><td>sport</td><td>Claxton hunting first major medal</td><td>British hurdler Sarah Claxton is confident she can win her first major medal at next month&apos;s European Indoor Championships in Madrid.The 25-year-old has already smashed the British record over 60m hurdles twice this season, setting a new mark of 7.96 seconds to win the AAAs title. &quot;I am quite confident,&quot; said Claxton. &quot;But I take each race as it comes. &quot;As long as I keep up my training but not do too much I think there is a chance of a medal.&quot; Claxton has won the national 60m hurdles title for the past three years but has struggled to translate her domestic success to the international stage. Now, the Scotland-born athlete owns the equal fifth-fastest time in the world this year. And at last week&apos;s Birmingham Grand Prix, Claxton left European medal favourite Russian Irina Shevchenko trailing in sixth spot.For the first time, Claxton has only been preparing for a campaign over the hurdles - which could explain her leap in form. In previous seasons, the 25-year-old also contested the long jump but since moving from Colchester to London she has re-focused her attentions. Claxton will see if her new training regime pays dividends at the European Indoors which take place on 5-6 March.</td></tr><tr><th>6</th><td>business</td><td>FBI agent colludes with analyst</td><td>A former FBI agent and an internet stock picker have been found guilty of using confidential US government information to manipulate stock prices.A New York court ruled that former FBI man Jeffrey Royer, 41, fed damaging information to Anthony Elgindy, 36. Mr Elgindy then drove share prices lower by spreading negative publicity via his newsletter. The Egyptian-born analyst would extort money from his targets in return for stopping the attacks, prosecutors said. &quot;Under the guise of protecting investors from fraud, Royer and Elgindy used the FBI&apos;s crime-fighting tools and resources actually to defraud the public,&quot; said US Attorney Roslynn Mauskopf.Mr Royer was convicted of racketeering, securities fraud, obstruction of justice and witness tampering. Mr Elgindy was convicted of racketeering, securities fraud and extortion.The charges carry sentences of up to 20 years. When the guilty verdict was announced by the jury foreman, Mr Elgindy dropped his face into his hands and sobbed, the Associated Press news agency reported. He was led weeping from the court room by US marshals, AP said. Defense lawyers contended that Mr Royer had been feeding information to Mr Elgindy and another trader in an attempt to expose corporate fraud. Mr Elgindy&apos;s team claimed that he also was fighting against corporate wrongdoing. &quot;Elgindy&apos;s conviction marks the end of his public charade as a crusader against fraud in the market,&quot; said Ms Mauskopf. One of the more bizarre aspects of the trial focused on the claims that Mr Elgindy may have had foreknowledge of the 11 September terrorist attacks in New York and Washington. Mr Elgindy had been trying to sell stock prior to the attack and had predicted a slump in the market. No charges were brought in relation to these allegations.</td></tr><tr><th>7</th><td>politics</td><td>&apos;UK will stand firm on EU rebate&apos;</td><td>Britain&apos;s Â£3bn EU rebate is not up for renegotiation at next week&apos;s European Council summit, Jack Straw said.The foreign secretary told MPs the rebate, secured by Margaret Thatcher in 1984, was &quot;entirely justified&quot;. New European commission president Jose Manuel Barroso has suggested the cash could be shared out among net contributors to the EU budget. Mr Straw acknowledged some countries in the newly enlarged 25 nation EU still had to &quot;see the light&quot; on the rebate.But the foreign secretary told the Commons foreign affairs committee: &quot;Our position is very clear: it is entirely justified and it is not for negotiation.&quot; He added that he did not think there would be a political price to pay for the UK&apos;s stance - Britain contributed more and received less than other EU states. The two-day European Council summit in Brussels begins on 16 December and is widely expected to mark the beginning of a lengthy negotiating period over the EU&apos;s budget for 2007-13. The wrangling could stretch into 2005, even 2006.The UK, France, Germany, Austria, the Netherlands and Sweden want the EU budget to be capped at 1% of member states&apos; combined national incomes - the Commission wants it to be 1.26%. Mr Straw said the EU commission&apos;s proposal would mean a 35% hike in the budget. &quot;I don&apos;t know of any national government thinking of increasing its budget by that amount,&quot; he added. The foreign secretary said he hoped the talks next week could produce a date in 2005 for the beginning of negotiations with Turkey about possible EU membership although that there would be no prospect of a date for joining for some time.</td></tr><tr><th>8</th><td>politics</td><td>Tories opposing 24-hour drinking</td><td>The Tories say plans to extend pub opening times should be put on hold until binge drinking is under control, despite backing a law change last year.Spokesman David Davis said ministers had failed to make his party aware of concern among senior police that plans would cause more anti-social behaviour. Notts police chief Steve Green said innocent people would suffer. But Culture Secretary Tessa Jowell said a delay would be &quot;disastrous&quot; and she accused the Tories of opportunism. The government would go ahead with the changes which would give police more power to tackle excessive drinking, she added. Earlier chief constable Green questioned how his officers would be able to practically apply powers allowing them to shut down problem premises. &quot;If you look at the Market Square in Nottingham, if a fight takes place which licensed premises do you go and lay the responsibilty at the door of?&quot; he asked on BBC Radio 4&apos;s World at One programme.He warned that if drinking establishments were allowed to open until three or four in the morning the police would have to take officers off day shifts in order to do their job effectively at night. Earlier this year the Royal College of Physicians said it opposed the plan to extend drinking hours when there was already an &quot;epidemic&quot; of binge drinking. Minister Richard Caborn said the government was tackling the causes and the symptoms of the problem by allowing more powers to close down problem premises. It is hoped that allowing pubs and clubs to stay open longer will stagger closing times and end the current situation where drinkers spill on to the streets all at once. Earlier Tony Blair defended the plans against criticism from one of his own backbenchers.&quot;My view of this is very clear: we should have the same flexibility that other countries have and then we should come down really hard on those who abuse that freedom and don&apos;t show the responsibility,&quot; he told MPs. &quot;The law-abiding majority who want the ability, after going to the cinema or theatre say, to have a drink at the time they want should not be inconvenienced, we shouldn&apos;t have to have restrictions that no other city in Europe has, just in order to do something for that tiny minority who abuse alcohol, who go out and fight and cause disturbances. &quot;To take away that ability for all the population - even the vast majority who are law abiding - is not, in my view, sensible.&quot; This week a judge claimed easy access to drink was breeding &quot;urban savages&quot; and turning town centres into no go areas. Judge Charles Harris QC made his remarks as he sentenced three men for assaults carried out while drunk and high on drugs after a night out.</td></tr><tr><th>9</th><td>business</td><td>US manufacturing expands</td><td>US industrial production increased in December, according to the latest survey from the Institute for Supply Management (ISM).Its index of national manufacturing activity rose to 58.6 last month from 57.8 in November. A reading above 50 indicates a level of growth. The result for December was slightly better than analysts&apos; expectations and the 19th consecutive expansion. The ISM said the growth was driven by a &quot;significant&quot; rise in the new orders. &quot;This completes a strong year for manufacturing based on the ISM data,&quot; said chairman of the ISM&apos;s survey committee. &quot;While there is continuing upward pressure on prices, the rate of increase is slowing and definitely trending in the right direction.&quot;The ISM&apos;s index of national manufacturing activity is compiled from monthly responses of purchasing executives at more than 400 industrial companies, ranging from textiles to chemicals to paper, and has now been above 50 since June 2003. Analysts expected December&apos;s figure to come in at 58.1. The ISM manufacturing index&apos;s main sister survey - the employment index - eased to 52.7 in December from 57.6 in November, while its &quot;prices paid&quot; index, measuring the cost to businesses of their inputs, also eased to 72.0 from 74.0. The ISM&apos;s &quot;new orders&quot; index rose to 67.4 from 61.5.</td></tr><tr><th>10</th><td>tech</td><td>Slim PlayStation triples sales</td><td>Sony PlayStation 2&apos;s slimmer shape has proved popular with UK gamers, with 50,000 sold in its first week on sale.Sales have tripled since launch, outstripping Microsoft&apos;s Xbox, said market analysts Chart-Track. The numbers were also boosted by the release of the PS2-only game Grand Theft Auto: San Andreas. The title broke the UK sales record for video games in its first weekend of release. Latest figures suggest it has sold more than 677,000 copies.&quot;It is obviously very, very encouraging for Sony because Microsoft briefly outsold them last week,&quot; John Houlihan, editor of Computerandvideogames.com told BBC News. &quot;And with Halo 2 [for Xbox] out next week, it really is a head-to-head contest between them and Xbox.&quot;Although Xbox sales over the last week also climbed, PS2 sales were more than double that. The figures mean Sony is reaching the seven million barrier for UK sales of the console. Edinburgh-based developer, Rockstar, which is behind the GTA titles, has seen San Andreas pull in an estimated Â£24m in gross revenues over the weekend. In comparison, blockbuster films like Harry Potter and The Prisoner Of Azkaban took Â£11.5m in its first three days at the UK box office. The Lord of the Rings: The Return of the King took nearly Â£10m over its opening weekend, although games titles are four to five times more expensive than cinema tickets.Gangster-themed GTA San Andreas is the sequel to Grand Theft Auto Vice City which previously held the record for the fastest-selling video game ever. The Xbox game Halo 2, released on 11 November in the UK, is also widely tipped to be one of the best-selling games of the year. The original title won universal acclaim in 2001, and sold more than four million copies.Mr Houlihan added that Sony had done well with the PS2, but it definitely helped that the release of San Andreas coincided with the slimline PS2 hitting the shelves. The run-up to Christmas is a huge battlefield for games consoles and titles. Microsoft&apos;s Xbox had been winning the race up until last week in sales. The sales figures also suggest that it may be a largely adult audience driving demand, since GTA San Andreas has an 18 certificate. Sony and Microsoft have both reduced console prices recently and are preparing the way for the launches of their next generation consoles in 2005. &quot;Both have hit crucial price points at around Â£100 and that really does open up new consoles to new audience, plus the release of two really important games in terms of development are also driving those sales,&quot; said Mr Houlihan.</td></tr><tr><th>11</th><td>business</td><td>Asia shares defy post-quake gloom</td><td>Thailand has become the first of the 10 southern Asian nations battered by giant waves at the weekend to cut its economic forecast.Thailand&apos;s economy is now expected to grow by 5.7% in 2005, rather than 6% as forecast before tsunamis hit six tourist provinces. The full economic costs of the disaster remain unclear. In part, this is because of its scale, and because delivering aid and recovering the dead remain priorities. But Indonesian, Indian and Hong Kong stock markets reached record highs on Wednesday, suggesting that investors do not fear a major economic impact.The highs showed the gap in outlook between investors in large firms and individuals who have lost their livelihoods.Investors seemed to feel that some of the worst-affected areas - such as Aceh in Indonesia - were so under-developed that the tragedy would little impact on Asia&apos;s listed companies, according to analysts. &quot;Obviously with a lot of loss of life, a lot of time is needed to clean up the mess, bury the people and find the missing. But it&apos;s not necessarily a really big thing in the economic sense,&quot; said ABN Amro chief Asian strategist Eddie Wong. India&apos;s Bombay Stock Exchange inched slightly above its previous record close on Wednesday. Expectations of strong corporate earnings in 2005 drove the Indonesian stock exchange in Jakarta to a record high on Wednesday. In Hong Kong, the Hang Seng index may be benefiting in part from the potential for its listed property companies to gain from rebuilding contracts in the tsunami-affected regions of South East Asia. In Sri Lanka, some economists have said that as much as 1% of annual growth may be lost. Sri Lanka&apos;s stock market has fallen about 5% since the weekend, but it is still 40% higher than at the start of 2004.Thailand may lose 30bn baht (Â£398m; $768m) in earnings from tourism over the next three months, according to tourism minister Sontaya Kunplome.In the affected provinces, he expects the loss of tourism revenue to be offset by government reconstruction spending. Thailand intends to spend a similar sum - around 30bn baht - on the rebuilding work. &quot;It will take until the fourth quarter of next year before tourist visitors in Phuket and five other provinces return to their normal level,&quot; said Naris Chaiyasoot, director general at the ministry&apos;s fiscal policy office. In the Maldives the cost of reconstruction could wipe out economic growth, according to a government spokesman. &quot;Our nation is in peril here,&quot; said Ahmed Shaheed, the chief government spokesman. He estimated the economic cost of the disaster at hundreds of millions of dollars. The Maldives has gross domestic product of $660m. &quot;It won&apos;t be surprising if the cost exceeds our GDP,&quot; he said. &quot;In the last few years, we made great progress in our standard of living - the United Nations recognised this. Now we see this can disappear in a few days, a few minutes.&quot; Shaheed noted that investment in a single tourist resort - the economic mainstay - could run to $40m. Between 10 and 12 of the 80-odd resorts have been severely damaged, and a similar number have suffered significant damage. However, many experts, including the World Bank, have pointed out that it is still difficult to assess the magnitude of the disaster and its likely economic impact.</td></tr><tr><th>12</th><td>sport</td><td>Reds sink 10-man Magpies</td><td>Titus Bramble&apos;s own goal put Liverpool on the comeback trail as injury-hit Newcastle were well beaten at Anfield.Patrick Kluivert&apos;s close-range finish put Newcastle ahead after 31 minutes, but they were pegged back as Bramble headed in Steven Gerrard&apos;s corner. Neil Mellor gave Liverpool the lead before half-time from Milan Baros&apos; pass before the Czech added a third after rounding Shay Given on the hour. Newcastle then had Lee Bowyer sent off for two bookable offences. Liverpool brought back Luis Garcia after a hamstring injury, while Newcastle were forced to draft in Kluivert after Craig Bellamy was a late withdrawal with a back injury sustained in the warm-up. And Garcia should have crowned his return with a goal inside the opening minute when he took a pass from Baros but shot wildly over the top from eight yards. Olivier Bernard was only inches away from giving Newcastle the lead after 20 minutes, when he fired just wide from a free-kick 25 yards out. But Souness&apos;s side did go ahead 11 minutes later in highly controversial circumstances.Kluivert looked suspiciously offside when Kieron Dyer set Bowyer free, but the Dutchman was then perfectly placed to score from six yards. The lead lasted three minutes, with Liverpool back on terms as Bramble headed Gerrard&apos;s corner into his own net under pressure from Sami Hyypia. And Liverpool were ahead after 37 minutes when Baros slid a perfect pass into Mellor&apos;s path for the youngster to slip a slide-rule finish into Given&apos;s bottom corner. Garcia&apos;s finishing was wayward, and he was wasteful again in first-half injury time, shooting tamely at Given after good work by Xabi Alonso. Any hopes of a Newcastle recovery looked to be snuffed out on the hour when a brilliant turn and pass by Harry Kewell set Baros free and he rounded Given to score. Jermaine Jenas then missed a glorious chance to throw Newcastle a lifeline, shooting over from just eight yards out from Shola Ameobi&apos;s cross. Then Bowyer, who had already been booked for a foul on Alonso, was deservedly shown the red card by referee Graham Poll for a wild challenge on Liverpool substitute Florent Sinama-Pongolle.Dudek, Finnan, Hyypia, Carragher, Riise, Luis Garcia (Nunez 73), Gerrard, Alonso, Kewell (Traore 85), Baros, Mellor (Sinama Pongolle 75).Subs not used: Hamann, Harrison.Bramble 35 og, Mellor 38, Baros 61.Given, Andrew O&apos;Brien, Elliott, Bramble, Bernard, Bowyer, Dyer (Ambrose 80), Jenas, Milner (N&apos;Zogbia 72), Kluivert (Robert 58), Ameobi.Subs not used: Harper.Bowyer (77).Bowyer, Elliott, Bernard.Kluivert 32.43,856.G Poll (Hertfordshire).</td></tr><tr><th>13</th><td>politics</td><td>&apos;Best person&apos; for top legal job</td><td>The &quot;best person for the job&quot; should be appointed lord chancellor, and not necessarily a lawyer or MP, the courts minister has told MPs.Under reforms, the post of lord chancellor is to be stripped of its judicial functions. &quot;The lord chancellor...no more needs to be a lawyer than the Secretary of Health needs to be a doctor,&quot; said courts minister Christopher Leslie. The Constitutional Reform Bill was entering its second reading on Monday. Mr Leslie said: &quot;The prime minister should be able to appoint the best person for the job whether they sit in the House of Lords or the House of Commons.&quot; Under the reforms, the Law Lords will also be replaced as the UK&apos;s highest legal authority by a Supreme Court and judges will be appointed by an independent panel rather than ministers.In December the Lords rejected a plea by current Lord Chancellor Lord Falconer that the holder of the job should not necessarily be a lawyer or a peer. The peers voted by 229 to 206 to say in law that lord chancellors must also be peers. The debate was carried over from the last Parliamentary session, but with an impending general election time is crucial for the government to get the Bill passed. Mr Leslie said it was irrelevant whether the post was called Secretary of State for Constitutional Affairs or Lord Chancellor. He said: &quot;What matters most is...whether it is reformed so that the post holder no longer has those conflicting duties. &quot;It is no longer appropriate for a government minister to have such unfettered discretion in the appointment of judges.&quot;Shadow attorney general Dominic Grieve criticised the government on its plans to change what he said was an &quot;exceptional institution,&quot; providing a &quot;champion of the independence of the judiciary&quot;. The government had initially proposed to take this institution and &quot;smash it to pieces,&quot; Mr Grieve said. Convention should be &quot;nurtured and celebrated,&quot; but the government distrusted and disliked it instead. He warned that unless ministers backed down over the lord chancellor remaining a member of the House of Lords, the government would have &quot;great difficulty&quot; in getting the Bill through Parliament. Former Cabinet minister Douglas Hogg, whose father and grandfather served as lord chancellor, said the Bill was &quot;largely unnecessary, bureaucratic and expensive&quot;. But the Tory MP for Sleaford and North Hykeham admitted the lord chancellor&apos;s role and office &quot;cannot be frozen in aspic&quot;.</td></tr><tr><th>14</th><td>tech</td><td>Sony PSP tipped as a &apos;must-have&apos;</td><td>Sony&apos;s Playstation Portable is the top gadget for 2005, according to a round-up of ultimate gizmos compiled by Stuff Magazine.It beats the iPod into second place in the Top Ten Essentials list which predicts what gadget-lovers are likely to covet this year. Owning all 10 gadgets will set the gadget lover back Â£7,455. That is Â£1,000 cheaper than last year&apos;s list due to falling manufacturing costs making gadgets more affordable.Portable gadgets dominate the list, including Sharp&apos;s 902 3G mobile phone, the Pentax Optio SV digital camera and Samsung&apos;s Yepp YH-999 video jukebox.&quot;What this year&apos;s Essentials shows is that gadgets are now cheaper, sexier and more indispensable than ever. We&apos;ve got to the point where we can&apos;t live our lives without certain technology,&quot; said Adam Vaughan, editor of Stuff Essentials. The proliferation of gadgets in our homes is inexorably altering the role of the high street in our lives thinks Mr Vaughan. &quot;Take digital cameras, who would now pay to develop an entire film of photos? Or legitimate downloads, who would travel miles to a record shop when they could download the song in minutes for 70p?&quot; he asks. Next year will see a new set of technologies capturing the imaginations of gadget lovers, Stuff predicts. The Xbox 2, high-definition TV and MP3 mobiles will be among the list of must-haves that will dominate 2006, it says. The spring launch of the PSP in the UK is eagerly awaited by gaming fans.</td></tr><tr><th>15</th><td>business</td><td>Green reports shun supply chain</td><td>Nearly 20% more UK top 250 firms produced non-financial reports on social and environment issues than last year.But of the 145 companies reporting, 76% didn&apos;t examine their supply chains, says the annual Directions survey. Green groups say putting pressure on supply chains is a major way companies can reduce their environmental impact. The survey is published by corporate social responsibility firm Context and branding firm SalterBaxter.Blake Lee-Harwood, campaigns director at Greenpeace in the UK, said: &quot;It&apos;s fairly meaningless to talk about your company&apos;s direction in terms of sustainability without having detailed knowledge of your supply chain. &quot;It&apos;s also important to get some kind of independent assessment of your reporting.&quot;Less than a quarter of companies (24%) get their corporate social responsibility (CSR) reports independently verified to provide assurances they are accurate and complete, says the survey. To date there are no set standards for non-financial reporting, although the Global Reporting Initiative, an independent pro-sustainability institution, is planning to establish some. The reports surveyed by Directions are published voluntarily. They are usually called corporate social responsibility (CSR) reports, sustainability reports, or social and environmental reports.Peter Knight, director of Context, says 24 UK top 250 companies reported for the first time this year and, in general, the quality of reports has improved. &quot;The corporate lexicon of homilies, generalities and soft assurances - fluff - is on its way out. There are less pictures of smiling children and butterflies.&quot; The UK government will soon require all quoted companies to report their social and environmental risks in a chapter in their annual reports, called the Operating and Financial Review. The regulation is not expected until 2005 and the first reports under this scheme will not be published before 2006. The US seems to lag Europe in producing corporate social responsibility reports. The majority of European top 50 companies (44) publish them and only 27 of the US top 50.</td></tr><tr><th>16</th><td>tech</td><td>US hacker breaks into T-Mobile</td><td>A man is facing charges of hacking into computers at the US arm of mobile phone firm T-Mobile.The Californian man, Nicholas Lee Jacobsen, was arrested in October. Mr Jacobsen tried at least twice to hack T-Mobile&apos;s network and took names and social security numbers of 400 customers, said a company spokesman. The arrest came a year after T-Mobile uncovered the unauthorised access. The US Secret Service has been investigating the case. &quot;T-Mobile has stringent procedures in place where we monitor for suspicious activity so that limited his activities and we were able to take corrective action immediately,&quot; Peter Dobrow, a T-Mobile spokesperson said. It is thought that Mr Jacobsen&apos;s hacking campaign took place over at least seven months during which time he read e-mails and personal computer files, according to court records.Although Mr Jacobsen, 21, managed to get hold of some data, it is thought he failed to get customer credit card numbers which are stored on a separate computer system, said Mr Dobrow. T-Mobile confirmed that the US Secret Service was also looking into whether the hacker accessed photos that T-Mobile subscribers had taken with their camera phones. The Associated Press agency reported that Mr Jacobsen also read personal files on the Secret Service agent who was apparently investigating the case. A Los Angeles grand jury indicted Mr Jacobsen with intentionally accessing a computer system without authorisation and with the unauthorised impairment of a protected computer between March and October 2004. He is currently on bail. T-Mobile is a subsidiary company of Deutsche Telekom and has about 16.3 million subscribers in the US.</td></tr><tr><th>17</th><td>business</td><td>Economy &apos;stronger than forecast&apos;</td><td>The UK economy probably grew at a faster rate in the third quarter than the 0.4% reported, according to Bank of England deputy governor Rachel Lomax.Private sector business surveys suggest a stronger economy than official estimates, Ms Lomax said. Other surveys collectively show a rapid slowdown in UK house price growth, she pointed out. This means that despite a strong economic growth, base rates will probably stay on hold at 4.75%. Official data comes from the Office for National Statistics (ONS). Though reliable, ONS data takes longer to publish, so now the BoE is calling for faster delivery of data so it can make more effective policy decisions. &quot;Recent work by the Bank has shown that private sector surveys add value, even when preliminary ONS estimates are available,&quot; Ms Lomax said in a speech to the North Wales Business Club.The ONS is due to publish its second estimate of third quarter growth on Friday. &quot;The MPC judges that overall growth was a little higher in the third quarter than the official data currently indicate,&quot; Ms Lomax said. The Bank said successful monetary policy depends on having good information. Rachel Lomax cited the late 1980s as an example of a time when weak economic figures were published, but substantially revised upwards years later.&quot;The statistical fog surrounding the true state of the economy has proved a particularly potent breeding ground for policy errors in the past,&quot; she said. Improving the quality of national statistics is the single the best way of making sure the Monetary Policy Committee (MPC) makes the right decisions, she said. The Bank of England is working in tandem with the ONS to improve the quality and speed of delivery of data. Her remarks follow criticism from the House of Lords Economic Affairs Committee, which said the MPC had held interest rates too high given that inflation was way below the 2% target.A slowdown in the housing market and this year&apos;s surge in oil prices has made economic forecasting all the more tricky, leading to a more uncertain outlook. &quot;This year rising oil prices and a significant slowdown in the housing market have awoken bad memories of the 1970s and 1980s,&quot; Ms Lomax said. &quot;The MPC will be doing well if it can achieve the same stability over the next decade as we have enjoyed over the past 10 years.&quot; Decisions on interest rates are made after the MPC gathers together the range of indicators available every month. The clearest signals come when all indicators are pointing the same direction, Ms Lomax intimated. &quot;In economic assessment, there is safety in numbers.&quot;</td></tr><tr><th>18</th><td>entertainment</td><td>Double win for Sea Inside</td><td>Spanish movie The Sea Inside has been named best picture and star Javier Bardem best actor at the Bangkok International Film Festival.Based on the true story of a paralysed man&apos;s battle to end his life, The Sea Inside was best foreign language film at the 2005 Golden Globe Awards. Annette Bening and Ana Geislerova shared the best actress award at the Bangkok festival. This year&apos;s event was scaled down following the Asian tsunami disaster.Falling Down and The Phantom of the Opera director Joel Schumacher won a lifetime achievement award while Hong Kong director Wong Kar-Wai was honoured for promoting Asian cinema. &quot;It&apos;s a great honour, I want to share this honour with my Thai colleagues,&quot; Wong said. French writer Christophe Barratie and Korean writer Park Chan-Chook shared the best screenplay award for Les Choristes and Old Boy respectively. Now in its third year, the Bangkok International Film Festival is donating profits from ticket sales to the tsunami relief fund.</td></tr><tr><th>19</th><td>entertainment</td><td>Children vote Shrek 2 best film</td><td>Young UK film fans voted animated Hollywood hit Shrek 2 best film at the children&apos;s Bafta awards on Sunday.More than 6,000 children voted in the only category chosen by fans. Harry Potter and the Prisoner of Azkaban, runner-up in the poll, was the choice of the Bafta experts who named it best feature film. BBC One Saturday morning show Dick and Dom In Da Bungalow won two awards - best entertainment and best presenters for Richard McCourt and Dominic Wood.Former Playschool presenter Floella Benjamin was awarded the Special Award for outstanding creative contribution to children&apos;s film and television. She first appeared on Playschool 25 years ago and was made an OBE in 2001 for services to broadcasting. South American-themed cartoon Joko! Jakamoko! Toto! won the honour for pre-school animation and its writer Tony Collingwood for original writer. Debbie Isitt won the award for best adapted writer for her work with Jacqueline Wilson&apos;s The Illustrated Mum, which won the award for best schools drama.Schools&apos; Factual (primary) - Thinking Skills: Think About It - Hiding PlacesSchools&apos; Factual (secondary) - In Search of the Tartan TurbanPre-School Live Action - BalamoryAnimation - Brush HeadDrama - FeatherboyFactual - Serious Desert Interactive Bafta - King Arthur International category - 8 Simple Rules for Dating my Teenage Daughter</td></tr><tr><th>20</th><td>sport</td><td>Parry relishes Anfield challenge</td><td>BBC Sport reflects on the future for Liverpool after our exclusive interview with chief executive Rick Parry.Chief executive Parry is the man at the helm as Liverpool reach the most crucial point in their recent history. Parry has to deliver a new 60,000-seat stadium in Stanley Park by 2007 amid claims of costs spiralling above Â£120m. He is also searching for an investment package of a size and stature that will restore Liverpool to their place at European football&apos;s top table. But it is a challenge that appears to sit easily with Parry, who has forged a reputation as one of football&apos;s most respected administrators since his days at the fledgling Premier League.Liverpool have not won the championship since 1990, a fact that causes deep discomfort inside Anfield as they attempt to muscle in on the top three of Chelsea, Manchester United and Arsenal. Throw in the small matter of warding off every top club in world football as they eye captain Steven Gerrard, and you can see Parry is a man with a lot on his plate. But in the comfort of a conference room deep inside Liverpool&apos;s heartbeat - The Kop end - Parry spoke to us with brutal honesty about the crucial months ahead. He only dodged one question - when asked to reveal the name of the mystery investor currently courting Liverpool, a polite smile deflected the inquiry. But to his credit, he met everything else head on in measured tones that underscore the belief that Liverpool still mean business.By business he means becoming title challengers again, and locking the pieces together that will help return the trophy to Liverpool is Parry&apos;s mission. Parry has already successfully put one of those planks in place in the form of new manager Rafael Benitez. And his enthusiasm for the Spaniard&apos;s personality and methods is an indication of his clear feeling that he has struck gold. Benitez&apos;s early work has given Parry renewed optimism about the years ahead. But it remains a massive task at a club with a unique history and expectations. This will not come as news to Parry, a lifelong Liverpool supporter, but his quiet determination suggests he is no mood to be found wanting...Captain Gerrard is central to Liverpool&apos;s plans and Parry&apos;s insistence that all offers will be refused is a firm statement of intent. As ever, the player will have the final say, and Parry acknowledges that, but he is determined to provide the framework and environment for Liverpool and Gerrard to flourish.In terms of the search for new investment, Hawkpoint were appointed as advisors to flush out interest in March 2004. Thailand Prime Minister Thaksin Shiniwatra came and went, while the most serious statement of intent came from tycoon and lifelong fan Steve Morgan. Morgan had a succession of bids rejected, having come close in the summer only for talks to break down over potential costs for the new stadium. BBC Sport understands Morgan is still ready and willing to invest in Liverpool, and Parry has kept the door ajar despite currently seeking investment elsewhere.Morgan, however, has had no formal contact with Liverpool or their advisors since last December, blaming indecision at board level as he publicly withdrew his Â£70m offer. He was also convinced his interest was being used to lure in others, so any new approach would now have to come from Liverpool. Morgan will certainly not be making another call. So speculation continues about the new benefactor, with trails leading to the Middle East and America, but all met with an understandable veil of secrecy from Anfield.Parry meanwhile sees the new ground as crucial to Liverpool&apos;s future, but is refusing to become emotionally attached to the idea. He is determined the ground will only be built on an affordable basis and will not make future Liverpool management hostages to the new stadium. Parry will pull back the moment the figures do not stack up, but there has been a vital new development in North London that has re-shaped Liverpool&apos;s thinking.Liverpool have publicly refused to entertain the idea of stadium sponsorship and potential naming rights - but the realism of Arsenal&apos;s stunning Â£100m deal for their new Emirates Stadium at Ashburton has changed the landscape. Parry labelled the deal &quot;an eye-opener&quot; and admits Liverpool would be missing a trick not to explore the possibilities. He knows some traditionalist Liverpool fans will reel at any attempt to call the new stadium anything other than just &apos;Anfield&apos;, but the maths of modern-day football decree that multi-millions for stadium and team could ease the pain.I would take Â£50m if we had no investment, but if we did, keep him. As for the stadium, if it gets us cash what difference does it make really?Â£50m for Gerrard? I don&apos;t care who you are, the Directors would take the money and it is the way it should be. We cannot let that sum of money go, despite Gerrard&apos;s quality.Through a cleverly worded statement, the club has effectively forced Gerrard to publicly make the decision for himself, which I think is the right thing to do.Critical time for Liverpool with regards to Gerrard. Ideally we would want to secure his future to the club for the long term. I am hoping he doesn&apos;t walk out of the club like Michael Owen did for very little cash.Â£50m realistically would allow Rafa to completely rebuild the squad, however, if we can afford to do this AND keep Gerrard we will be better for it. I would however be happy with Gerrard&apos;s transfer for any fee over Â£35m.Parry&apos;s statements are clever in that any future Gerrard transfer cannot be construed as a lack of ambition by the club to not try and keep their best players. Upping the ante is another smart move by Parry.I would keep Gerrard. No amount of money could replace his obvious love of the club and determination to succeed.The key is if Gerrard comes out and says that he is happy. Clearly, if he isn&apos;t, then we would be foolish not to sell. The worrying thing is who would you buy (or who would come) pending possible non-Champions League football.</td></tr><tr><th>21</th><td>politics</td><td>Pre-poll clash on tax and spend</td><td>Labour and the Tories have clashed over tax and spending plans as the row over Gordon Brown&apos;s Budget turned into a full scale pre-election battle.Tony Blair claimed a Tory government would &quot;cut&quot; Â£35bn from public services hitting schools, hospitals and police. Tory chairman Liam Fox accused Labour of &quot;at best misrepresentation at worst a downright lie&quot; and said the &quot;smear&quot; tactics were a sign of desperation. The Lib Dems accused Mr Brown of ducking the issue of council tax rises.Appearing together at a Labour poster launch, the prime minister hailed his chancellor&apos;s &quot;brilliant&quot; performance. And he claimed the Tories would cut Â£35bn from public services, which was the equivalent of sacking every doctor and teacher in the UK.The Tories said they would not cut spending but agreed public spending would increase more slowly under their plans - leading to a total of Â£33.5bn less spending than that anticipated by Labour by 2011. But they say not a single doctor, teacher or nurse will be cut. Dr Fox said: &quot;We have said we will be spending more, year on year over and above inflation. &quot;And to call that a cut is at best a misrepresentation, at worst a downright lie.&quot;Tory shadow chancellor Oliver Letwin also predicted Mr Brown would have to raise taxes by Â£10bn or Â£11bn if Labour was re-elected because he was borrowing and spending too much. For the Lib Dems, Vince Cable said the chancellor had failed to deal with the &quot;looming problems&quot; of revaluation of council tax bands which he argued would result in &quot;massive increases&quot; for some. Mr Brown and Mr Blair staged a show of unity on Thursday morning, the day after the chancellor delivered a record-breaking ninth Budget.Mr Cable said taxation as a share of the economy would go up under all three of the main parties. The chancellor meanwhile insisted his spending plans were &quot;affordable&quot;. In Wednesday&apos;s Budget, Mr Brown doubled the level at which homebuyers pay stamp duty, unveiled a rise in child tax credit and a Â£200 council tax refund for over-65s. Defending the plans, he told Today: &quot;I will take no risks with the stability of the economy. &quot;All our spending plans announced yesterday [Wednesday], including what we can do for pensioners, as well as for young families and on stamp duty and inheritance tax, all these are costed and affordable.&quot; In a further sign, if any were needed, that the election is approaching, the House of Commons authorities have formally told MPs their offices will be &quot;deep cleaned&quot; during the three-week poll campaign. Mr Blair has yet to name the day - but it is widely expected to be 5 May.</td></tr><tr><th>22</th><td>politics</td><td>Escaped prisoner report ordered</td><td>First Minister Jack McConnell has ordered a report on the decision to allow a paranoid schizophrenic knife attacker to go on a visit unguarded.Michael Ferguson, 36, escaped after being allowed out of the high-security Carstairs unit. The SNP&apos;s Nicola Sturgeon has demanded to know who was responsible for signing off the leave. The Scottish Executive said ministers would be notified but it would &quot;not be common practice&quot; to sign approval. An executive spokesman said the health department and the state hospital itself would work together on preparing the report. Ministerial responsibility for Carstairs rests with Rhona Brankin, the deputy health minister. Ms Brankin said: &quot;The first minister has called for a review of what has happened, we need to talk to the state hospital and we need to reflect on this.&quot; Ms Sturgeon has written to Mr McConnell asking for clarification on the move to allow the prisoner out. She said questions must be answered about his escape, if the public is to be reassured about safety. Police are still searching for Ferguson, who failed to return after a trip to East Kilbride on Monday.The Scottish National Party&apos;s parliamentary leader argued that under the law, authorisation of Ferguson&apos;s leave of absence would have come directly from ministers. She said: &quot;The Scottish Executive seemed to indicate yesterday that the escape of Mr Ferguson was a matter for Carstairs. &quot;However, my understanding is that, under the mental health legislation, the decision to grant this patient - and any restricted patient - leave of absence, would have required direct and specific authorisation by Scottish ministers.&quot; She added: &quot;I have written to the first minister today asking for confirmation of that fact. I have also asked him to confirm which minister would routinely take decisions of this nature and what information they are based on. &quot;This is not an attempt to apportion blame, but to ensure a better understanding of the decision making process in such important and sensitive cases.&quot;Police said Ferguson posed a danger to the public. BBC Scotland political correspondent Glenn Campbell said the first minister had ordered an urgent report into the situation. He said: &quot;We understand from the executive that in this case no individual minister signed off the approval for Michael Ferguson to be released unescorted from Carstairs. &quot;The executive concedes that it is up to Scottish ministers, they have a legal responsibility for approving this sort of leave, but they say routinely it is specialised officials that make that decision and simply inform ministers that they have taken it. &quot;But at that stage presumably ministers can ask hard questions and can ask for reassurances that the patient is not a serious danger to the public or that any risk has been minimised.&quot; Scottish Conservative leader, David McLetchie, said earlier it was &quot;almost beyond belief that this has been allowed to happen&quot;.The executive spokeswoman said the recommendation for leave was agreed by a psychiatric advisor &quot;in conjunction with officials on behalf of ministers&quot;. She said: &quot;Ministers were told of that, notified of it, but it would not be common practice for them to sign it off. &quot;They do have statutory responsibility, but the common practice has been that people who work with the patient and have the best knowledge about risk would make that decision.&quot; Ferguson, who slashed a man in a doctors&apos; surgery in Coatbridge in 1994, had been out to see his fianc&amp;#233;e Annabella Holmes, 47, whom he met when she was a patient at the high security complex in South Lanarkshire. He is described as being 5ft 9ins tall, slim, with blond hair, blue eyes and a fair complexion. Ferguson was wearing a black jacket, grey jeans, black jumper and black shoes when he was last seen. He has multiple fading tattoos on his left hand and a very faded tear tattoo under his left eye. Ms Holmes is not missing but there have been no sightings of Ferguson since Monday. Strathclyde Police asked anyone who spots Ferguson to contact Sergeant Keith McDonald on.</td></tr><tr><th>23</th><td>politics</td><td>Blair told to double overseas aid</td><td>Tony Blair is being urged to use all his negotiating powers to end poor countries&apos; debt and double aid.Some 45 million children will die needlessly before 2015 and aid budgets are half their 1960 levels, Oxfam says in a report, Paying the Price. The call comes as the prime minister prepares to assume the presidency of the G8 of top industrialised nations. &quot;As rich countries get richer, they&apos;re giving less and less. This scandal must stop,&quot; Oxfam&apos;s Barbara Stocking said.&quot;The world&apos;s poorest children are paying for rich countries&apos; policies in aid and debt with their lives. &quot;2005 offers the chance for an historic breakthrough, but unless world leaders act now the year will end in shameful failure,&quot; the charity&apos;s director added. The report said: &quot;For rich countries, providing aid to help to end global poverty is an obligation and a matter of justice, not an act of charity.&quot; It also points out that in 1970 the G8 of top industrialised nations agreed to spend 0.7% of their incomes on aid. But 34 years later none of the organisations members have reached this target and many have not yet set a timetable, the report says.It argues that the price of not investing in poor countries&apos; sustainable development will be felt across the world. The report said: &quot;Global poverty threatens our shared prosperity and security. &quot;Environmental crises and natural disasters, disease and drug trafficking know no national borders. Poverty heightens the likelihood of conflict and unrest. &quot;New threats to the peace and security of rich nations arise from poverty and gross inequalities. &quot;Criminal and terrorist networks are more likely to operate where state institutions are weak.&quot;Both the prime minister and Chancellor Gordon Brown have called for urgent action to fight world poverty. Mr Blair, who has described Africa as a &quot;scar&quot; on the world&apos;s conscience, has already said tackling world poverty would be one his G8 priorities along with climate change and the Aids epidemic. Mr Brown has also pledged to write off the debt owed to Britain by the world&apos;s poor nations. A spokeswoman for the Department for International Development said: &quot;The government had made a clear commitment to reaching 0.7% of gross national income for overseas development aid by 2013. &quot;If Britain&apos;s proposal for an International Finance Facility were adopted, the objective of 0.7% could be achieved earlier, by 2008-09. &quot;These additional resources will be used to increase UK bilateral aid to Africa to at least Â£1.25bn a year by 2008 and spend at least Â£1.5bn on HIV/Aids related work over the next three years.&quot;</td></tr><tr><th>24</th><td>sport</td><td>O&apos;Driscoll saves Irish blushes</td><td>Two moments of magic from Brian O&apos;Driscoll guided Ireland to a workmanlike victory against Italy.A pair of classic outside breaks from the Ireland captain set up tries for Geordan Murphy and Peter Stringer. Italy led 9-8 early in the second half but Stringer&apos;s try gave Ireland a lead they never lost. The hosts cut the gap to 18-12 with 10 minutes left and nearly scored through Ludovico Nitoglia, but Denis Hickie&apos;s try ensured an Irish victory. Italy came flying out of the blocks and took the lead through a Luciano Orquera penalty after seven minutes.It could have been better for the hosts but the fly-half missed two kickable penalties and Ireland drew level with a Ronan O&apos;Gara penalty midway through the first half. The Italians were driving at the heart of the Irish defence and, for the first quarter, the Irish pack struggled to secure any ball for their talented backs.When they finally did, just before the half-hour mark, O&apos;Driscoll promptly created a sparkling try for Murphy. The Ireland captain ran a dummy scissors and made a magical outside break before drawing the full-back and putting the diving Murphy in at the corner. O&apos;Gara missed the twice-taken conversion and the visitors found themselves trailing once again. Roland de Marigny took over the kicking duties for Italy from the hapless Orquera, and he landed a penalty either side of the break to edge Italy into a 9-8 lead.The only Ireland player offering a real threat was O&apos;Driscoll, and it was his break that set up the second try for the visitors. Shane Horgan threw an overhead pass as he was about to be forced into touch and Stringer scooted over, with O&apos;Gara landing the tricky conversion. A penalty apiece saw Ireland leading 18-12 as the game entered the final quarter, but they were lucky to survive when Italy launched a series of attacks. Winger Nitoglia dropped the ball as he reached for the line and Italy nearly rumbled over from a driving maul.An O&apos;Gara penalty put Ireland more than a converted try ahead and they made the game safe when Hickie latched onto an inside pass from Murphy and crossed for a converted try. O&apos;Driscoll limped off late on, joining centre partner Gordon D&apos;Arcy on the sidelines, and the final word went to Italy. Prop Martin Castrogiovanni powered over for a try which was fitting reward for an Italian pack which had kept the Irish under pressure throughout.De Marigny; Mi Bergamasco, Canale, Masi, Nitoglia; Orquera, Troncon; Lo Cicero, Ongaro, Castrogiovanni; Dellape, Bortolami; Persico, Ma Bergamasco, Parisse.Perugini, Intoppa, Del Fava, Dal Maso, Griffen, Pozzebon, Robertson.Murphy, Horgan, O&apos;Driscoll, D&apos;Arcy, Hickie, O&apos;Gara, Stringer, Corrigan, Byrne, Hayes, O&apos;Kelly, O&apos;Connell, S Easterby, Leamy, Foley.Sheahan, Horan, O&apos;Callaghan, Miller, G Easterby, Humphreys, Dempsey.P O&apos;Brien (New Zealand)</td></tr><tr><th>25</th><td>tech</td><td>Broadband challenges TV viewing</td><td>The number of Europeans with broadband has exploded over the past 12 months, with the web eating into TV viewing habits, research suggests.Just over 54 million people are hooked up to the net via broadband, up from 34 million a year ago, according to market analysts Nielsen/NetRatings. The total number of people online in Europe has broken the 100 million mark. The popularity of the net has meant that many are turning away from TV, say analysts Jupiter Research. It found that a quarter of web users said they spent less time watching TV in favour of the netThe report by Nielsen/NetRatings found that the number of people with fast internet access had risen by 60% over the past year.The biggest jump was in Italy, where it rose by 120%. Britain was close behind, with broadband users almost doubling in a year. The growth has been fuelled by lower prices and a wider choice of always-on, fast-net subscription plans. &quot;Twelve months ago high speed internet users made up just over one third of the audience in Europe; now they are more than 50% and we expect this number to keep growing,&quot; said Gabrielle Prior, Nielsen/NetRatings analyst. &quot;As the number of high-speed surfers grows, websites will need to adapt, update and enhance their content to retain their visitors and encourage new ones.&quot; The total number of Europeans online rose by 12% to 100 million over the past year, the report showed, with the biggest rise in France, Italy, Britain and Germany.The ability to browse web pages at high speed, download files such as music or films and play online games is changing what people do in their spare time.A study by analysts Jupiter Research suggested that broadband was challenging television viewing habits. In homes with broadband, 40% said they were spending less time watching TV. The threat to TV was greatest in countries where broadband was on the up, in particular the UK, France and Spain, said the report. It said TV companies faced a major long-term threat over the next five years, with broadband predicted to grow from 19% to 37% of households by 2009. &quot;Year-on-year we are continuing to see a seismic shift in where, when and how Europe&apos;s population consume media for information and entertainment and this has big implications for TV, newspaper and radio,&quot; said Jupiter Research analyst Olivier Beauvillian.</td></tr><tr><th>26</th><td>sport</td><td>Ferrero eyes return to top form</td><td>Former world number one Juan Carlos Ferrero insists he can get back to his best despite a tough start to 2005.The 2003 French Open champion has slipped to 64 in the world after a year of illness and injuries in 2004, but is confident that his form will return. &quot;I don&apos;t know when it is going to happen,&quot; Ferrero told BBC Sport. &quot;But I have a lot of confidence in me that I will be the same Juan Carlos as I was before, and very soon. I feel 100% again mentally.&quot; The 25-year-old Spaniard joins a top field for the ABN AMRO World Tennis Tournament in Rotterdam this week as he looks to add to just two wins in 2005. He opens against Rainer Schuettler and potentially faces fourth seed David Nalbandian in the second round. &quot;Because I&apos;m no longer seeded it&apos;s tougher,&quot; Ferrero admitted. &quot;I had to play against Joachim Johansson in the first round last week in Marseille.&quot;In the past when I was a top seed I would have played a match like that in the quarters or semi-finals. &quot;This is the big difference but I have to do it to get higher in the rankings.&quot; Despite this, Ferrero insists he is feeling positive after chicken pox and a rib injury destroyed last season. &quot;Physically I am 100% since December of last year,&quot; said Ferrero. &quot;I was working very hard before the Davis Cup final to prepare and I&apos;ve felt 100% from then until now. &quot;The difficult moments were when I knew that I had the chicken pox and that it would take two or three months to recover. &quot;I had to start from zero again physically because the virus left me at zero per cent. &quot;When I started to come back I had my rib broken when I fell on court and that was another two months out. Those five months were pretty difficult for me.&quot;Among the low points of a difficult year for Ferrero was the decision of Spain captain Jordi Arrese to drop him for the Davis Cup final against the USA. &quot;It was difficult because I had been playing well for the whole year and the coaches told me that I would play,&quot; said Ferrero. &quot;But then I had some problems with my hand two days before the Friday matches so they decided to choose Nadal instead. &quot;It was difficult for me not to be in the Friday matches but I had to understand. &quot;Inside me I wanted to play but this was the decision of the captain and they had to make it.&quot;</td></tr><tr><th>27</th><td>tech</td><td>Europe backs digital TV lifestyle</td><td>How people receive their digital entertainment in the future could change, following the launch of an ambitious European project.In Nice last week, the European Commission announced its Networked &amp; Electronic Media (NEM) initiative. Its broad scope stretches from the way media is created, through each of the stages of its distribution, to its playback. The Commission wants people to be able to locate the content they desire and have it delivered seamlessly, when on the move, at home or at work, no matter who supplies the devices, network, content, or content protection scheme. More than 120 experts were in Nice to share the vision of interconnected future and hear pledges of support from companies such as Nokia, Intel, Philips, Alcatel, France Telecom, Thomson and Telefonica. It might initially appear to be surprising that companies in direct competition are keen to work together. But again and again, speakers stated they could not see incompatible, stand-alone solutions working. A long-term strategy for the evolution and convergence of technologies and services would be required.The European Commission is being pragmatic in its approach. They have identified that many groups have defined the forms of digital media in the areas that NEM encompasses. The NEM approach is to take a serious look at what is available and what is in the pipeline, pick out the best, bring them together and identify where the gaps are. Where it finds holes, it will develop standards to fill them. What is significant is that such a large and powerful organisation has stated its desire for digital formats to be open to all and work on any gadget. This is bound to please, if not surprise, many individuals and user organisations who feel that the wishes of the holder of rights to content are normally considered over and above those of the consumer. Many feel that the most difficult and challenging area for the Commission will be to identify a solution for different Digital Rights Management (DRM) schemes. Currently DRM solutions are incompatible, locking certain types of purchased content, making them unplayable on all platforms. With the potential of having a percentage of every media transaction that takes place globally, the prize for being the supplier of the world&apos;s dominant DRM scheme is huge. Although entertainment is an obvious first step, it will encompass the remote provisions of healthcare, energy efficiency and control of the smart home. The 10-year plan brings together the work of many currently running research projects that the EC has been funding for a number of years.Simon Perry is the editor of the Digital Lifestyles website, which covers the impact of technology on media</td></tr><tr><th>28</th><td>sport</td><td>Liverpool pledge to keep Gerrard</td><td>Liverpool chief executive Rick Parry insists the club will never sell Steven Gerrard amid reports Chelsea will renew their bid to lure him from Anfield.Gerrard reiterated his desire to win trophies with the Reds after his superb Champions League winner on Wednesday. And Parry has moved to scotch claims that Chelsea could launch a Â£35m bid. &quot;There is no chance of Stevie going in January,&quot; said Parry. &quot;That just won&apos;t happen. Our intention is that we will never let him go.&quot; Gerrard scored a spectacular late goal to give Liverpool a 3-1 win over Olympiakos and book their place in the knockout stages. &quot;Of course he is ambitious but so are we,&quot; Parry added. &quot;We firmly believe that if we can satisfy his ambition he will remain a Liverpool player. &quot;We have an open and straightforward relationship. We both know where we stand and that played a big part in his decision to stay last summer. If he was not so committed to Liverpool he would have gone by now.&quot; Gerrard had said before Wednesday&apos;s game he would consider leaving if the club was knocked out of Europe, with Real Madrid also believed to be monitoring his situation.&quot;The main point I have made is I want to be in a Liverpool side which challenges for the Champions League and the title all the time,&quot; he said afterwards. &quot;I want to be winning things with Liverpool, not somewhere else. &quot;I am a fan as well and I think what I have said the supporters will agree with. &quot;We have to build on wins like that, not just settle for a great win and then not progress any further. &quot;My goal was one of the most important I have ever scored and I hope it turns out to be one of the most important for the club for a long time. &quot;I know I put a lot of pressure on myself because of what I said, and I felt I needed a big performance, but I am not going to go around telling lies about how I feel.&quot;Reds manager Rafael Benitez believes Gerrard can win everything he wants to without moving clubs. &quot;Steven can win all he wants with us and we need him. He has seen that we have a good team and we can do more things in the future,&quot; said Benitez. &quot;But if we want to win more games, important games, we need Steven in the team. &quot;We need his strength, the strong mentality he has and his quality. I think he likes and wants the responsibility of leading this team.&quot;</td></tr><tr><th>29</th><td>entertainment</td><td>Bening makes awards breakthrough</td><td>Film actress Annette Bening is up for an Oscar for her starring role in the award-winning film Being Julia.Bening, who was born in Texas in 1958, has gained prominence for a string of key roles. Although an Oscar has so far eluded her, her status as one of Hollywood&apos;s favourite actresses remains solid. One of the biggest Oscars buzzes in recent years was for Bening&apos;s role as troubled Carolyn Burnham in 1999&apos;s American Beauty. But her deliciously neurotic portrayal of surburban life turning sour was overlooked in favour of Hilary Swank&apos;s leading role in Boys Don&apos;t Cry. After opening her career in the theatre - and gaining a Tony Award nomination in 1986 - Bening had a low-key spell in television. She then made her film debut as a sex-starved wife in 1988&apos;s The Great Outdoors, opposite comics Dan Akroyd and John Candy.Following a cameo in Postcards From The Edge, Bening&apos;s breakthrough role came in 1990, playing seductive con artist Myra Langtry in The Grifters - a role that won her an Oscar nomination. Despite some rave reviews, Bening did not win the best supporting actress Academy Award.However the high-profile performance enabled Bening to capture roles in a number of big budget Hollywood productions, co-starring with some of Hollywood&apos;s greatest players, including Robert De Niro and Harrison Ford. But it was her role opposite Warren Beatty in 1991 gangster flick Bugsy which had the greatest impact. Bening played Virginia Hill, another role which won her high critical acclaim, but the film only picked up two of a staggering 12 Oscar nominations.Bugsy was the start of a very significant liaison for Bening - she married Beatty, with whom she had a child as the couple promoted the film in Europe. The couple now have four children together. A pair of contrasting yet successful performances peppered Bening&apos;s career in the mid-1990s. She played Michael Douglas&apos; opposite number in romantic comedy The American President, and as a &quot;fiery&quot; Queen Elizabeth I in a contemporary adaptation of Shakespeare&apos;s Richard III.Bening was the first choice to play the female lead in American Beauty, director Sam Mendes&apos; film debut which was a critical and commercial success - but the actress had to be content with a Bafta award for her strong performance. But current film Being Julia has made Bening an award-winning actress rather than the perennial nominee, with success at the Golden Globes. The witty tale of revenge and love set in 1930s London sees the eponymous theatrical diva - played by Bening - grow tired of her success and fall for a young American - and could be the role which finally wins her the coveted Academy Award.</td></tr><tr><th>30</th><td>politics</td><td>Kennedy calls for Iraq exit plans</td><td>Tony Blair should set out a proper exit strategy from Iraq in the wake of next Sunday&apos;s elections in the country, Lib Dem leader Charles Kennedy has said.In a speech focusing on issues arising from the re-election of George W Bush, Mr Kennedy said Iraq had become a &quot;crucible of militant terrorism&quot;. He wants to see a phased withdrawal of UK troops &quot;as soon as the situation allows&quot;, he said in London. Any exit strategy must &quot;augment and support&quot; the democratic process.&quot;There are some who are of the opinion that the mere presence of British and American troops in Iraq feeds the insurgency,&quot; he said. &quot;There is some truth in that, especially after the initial mistakes that were made - the heavy-handedness of operations like Fallujah, and the well-publicised instances of abuse at the hands of coalition forces.&quot; Mr Kennedy pointed out that the Netherlands, Portugal and the Czech Republic, which all have troops operating in the southern sector of Iraq, have announced their imminent withdrawal &quot;regardless of the situation on the ground&quot;.He accused Mr Blair&apos;s government of &quot;being less than straightforward&quot; over its plans. &quot;Next week the prime minister should make a statement regarding the elections in Iraq,&quot; Mr Kennedy said during his City of London speech. &quot;He should set out a proper exit strategy, including the phased withdrawal of British troops, as the security situation allows.&quot; Mr Kennedy also argued that British troops deployed in Iraq should be replaced with forces from other countries - &quot;especially Islamic countries&quot;.</td></tr><tr><th>&vellip;</th><td>&vellip;</td><td>&vellip;</td><td>&vellip;</td></tr></tbody></table></div>"
      ],
      "text/latex": [
       "\\begin{tabular}{r|ccc}\n",
       "\t& topic & heading & body\\\\\n",
       "\t\\hline\n",
       "\t& String & String & String\\\\\n",
       "\t\\hline\n",
       "\t1 & entertainment & Sky takes over Oscar night mantle & Sky has signed a major new deal to broadcast this year's Academy Awards, taking over from three years of live Oscar coverage on the BBC.Sky said it was \"honoured to have won exclusive broadcasting rights\" and promised to cover the event \"in a way no other broadcaster could\". The BBC denied it had lost a bidding war, saying it had \"decided to pass the mantle to another broadcaster\". The ceremony, hosted by newcomer Chris Rock, takes place on 27 February 2005.Sky's coverage will launch with the nominations on 25 January and will include themed programming across Sky channels including Sky News, Sky Travel and the Biography Channel. There will also be a month-long season of Oscar-winning films on Sky Movies in the run up to the event and live uninterrupted coverage on the night. \"We are honoured to have won the live and exclusive broadcasting rights for The Academy Awards,\" said Sky Networks' Sophie Turner Laing. \"Sky is the natural place to see the biggest and most prestigious film event of the year, and will cover the event in a way that no other broadcaster could.\"Sky first scooped Oscar rights from the BBC in 1999, but the BBC won them back in 2001 when Sky was forced to pull out of a bidding war due to financial constraints. \"BBC viewers will of course be able to watch quality coverage of the 2005 Academy Awards on the BBC's bulletins and news programmes,\" a spokesman said. Among the films tipped to do well at this year's Academy Awards are Martin Scorsese's The Aviator, Jean-Pierre Jeunet's A Very Long Engagement and the Ray Charles biopic, Ray. \\\\\n",
       "\t2 & tech & Freeze on anti-spam campaign & A campaign by Lycos Europe to target spam-related websites appears to have been put on hold.Earlier this week the company released a screensaver that bombarded the sites with data to try to bump up the running costs of the websites. But the site hosting the screensaver now displays a pink graphic and the words \"Stay tuned\". No one at Lycos was available for comment on latest developments in its controversial anti-spam campaign.Lycos Europe's \"Make love not spam\" campaign was intended as a way for users to fight back against the mountain of junk mail flooding inboxes. People were encouraged to download the screensaver which, when their PC was idle, would then send lots of data to sites that peddle the goods and services mentioned in spam messages. Lycos said the idea was to get the spam sites running at 95\\% capacity and generate big bandwidth bills for the spammers behind the sites. But the plan has proved controversial.Monitoring firm Netcraft analysed response times for some of the sites targeted by the screensaver and found that a number were completely knocked offline.The downing of the sites could dent Lycos claims that what it is doing does not amount to a distributed denial of service attack. In such attacks thousands of computers bombard sites with data in an attempt to overwhelm them. Laws in many countries do not explicitly outlaw such attacks but many nations are re-drafting computer use laws to make them specific offences. Lycos Europe now appears to have put the plan on hold. The site hosting the screensaver currently shows a holding page, with the words, \"Stay tuned\". The numerical internet address of the site has also changed. This is likely to be in response to spammers who have reportedly redirected traffic from their sites back to the Lycos screensaver site. The campaign has come under fire from some corners of the web. Many discussion groups have said that it set a dangerous precedent and could incite vigilantism. \"Attacking a spammer's website is like poking a grizzly bear sleeping in your back garden with a pointy stick,\" said Graham Cluley, senior technology consultant for Sophos. \"Not only is this screensaver similar in its approach to a potentially illegal distributed denial of service attack, but it also is in danger of turning innocent computer users into vigilantes, who may not be prepared for whatever retaliation the spammers care to dream up.\" \\\\\n",
       "\t3 & entertainment & Spark heads world Booker list & Dame Muriel Spark is among three British authors who have made the shortlist for the inaugural international Booker Prize.Doris Lessing and Ian McEwan have also been nominated. McEwan and Margaret Atwood are the only nominees to have previously won the main Booker Prize. The new Â£60,000 award is open to writers of all nationalities who write in English or are widely translated. The prize commends an author for their body of work instead of one book.Gabriel Garcia Marquez, Saul Bellow, Milan Kundera and John Updike also feature on the 18-strong list of world literary figures.But other past winners of the regular Booker Prize, such as Salman Rushdie, JM Coetzee and Kazuo Ishiguro have failed to make the shortlist. The prize, which will be awarded in London in June, will be given once every two years. It will reward an author - who must be living - for \"continued creativity, development and overall contribution to fiction on the world stage\". An author can only win once. The international award was started in response to criticisms that the Booker Prize is only open to British and Commonwealth authors.Margaret Atwood (Canada) Saul Bellow (Canada) Gabriel Garcia Marquez (Colombia) Gunter Grass (Germany) Ismail Kadare (Albania) Milan Kundera (Czech Republic) Stanislaw Lem (Poland) Doris Lessing (UK) Ian McEwan (UK) Naguib Mahfouz (Egypt) Tomas Eloy Martinez (Argentina) Kenzaburo Oe (Japan) Cynthia Ozick (US) Philip Roth (US) Muriel Spark (UK) Antonio Tabucchi (Italy) John Updike (US) Abraham B Yehoshua (Israel) \\\\\n",
       "\t4 & business & Criminal probe on Citigroup deals & Traders at US banking giant Citigroup are facing a criminal investigation in Germany over a controversial bond deal.The deal saw the sale of 11bn euros (\\$14.4bn; Â£7.6bn) of government bonds in a few minutes on 2 August, with 4bn euros-worth then bought back later. The move was widely criticised at the time, and now the German regulator has said it has found evidence of possible market manipulation. Citigroup said it would continue to co-operate fully with the authorities. \"We are disappointed that the BaFin has referred to the prosecutor the question of whether action should be brought against individuals involved,\" Citigroup said. If the traders are found guilty, they could face a five-year jail term or a fine, Reuters reported BaFin as saying. However, under German criminal law, prosecutors cannot pursue Citigroup itself.Germany's financial watchdog BaFin told BBC News it had now transferred the investigation to the public prosecutor. \"I can confirm that BaFin has passed through the case to the public prosecutor,\" a BaFin spokeswoman said. \"It is now a criminal investigation.\" \"We found clues of possible market manipulation,\" the spokeswoman said, which included signs of linked bond trading ahead of the main trades on 2 August. \"Germany's Securities Trading Act says that if BaFin finds such clues, it has to put the case in the hands of the prosecutor.\" Regulatory investigations are still going on in France, the UK and elsewhere. Some Citigroup operations elsewhere in the world came under regulatory criticism in 2004. Its private banking operation in Japan was closed down by regulators in Tokyo after an \"aggressive sales culture\" led the bank to flout anti-money laundering rules. \\\\\n",
       "\t5 & sport & Claxton hunting first major medal & British hurdler Sarah Claxton is confident she can win her first major medal at next month's European Indoor Championships in Madrid.The 25-year-old has already smashed the British record over 60m hurdles twice this season, setting a new mark of 7.96 seconds to win the AAAs title. \"I am quite confident,\" said Claxton. \"But I take each race as it comes. \"As long as I keep up my training but not do too much I think there is a chance of a medal.\" Claxton has won the national 60m hurdles title for the past three years but has struggled to translate her domestic success to the international stage. Now, the Scotland-born athlete owns the equal fifth-fastest time in the world this year. And at last week's Birmingham Grand Prix, Claxton left European medal favourite Russian Irina Shevchenko trailing in sixth spot.For the first time, Claxton has only been preparing for a campaign over the hurdles - which could explain her leap in form. In previous seasons, the 25-year-old also contested the long jump but since moving from Colchester to London she has re-focused her attentions. Claxton will see if her new training regime pays dividends at the European Indoors which take place on 5-6 March. \\\\\n",
       "\t6 & business & FBI agent colludes with analyst & A former FBI agent and an internet stock picker have been found guilty of using confidential US government information to manipulate stock prices.A New York court ruled that former FBI man Jeffrey Royer, 41, fed damaging information to Anthony Elgindy, 36. Mr Elgindy then drove share prices lower by spreading negative publicity via his newsletter. The Egyptian-born analyst would extort money from his targets in return for stopping the attacks, prosecutors said. \"Under the guise of protecting investors from fraud, Royer and Elgindy used the FBI's crime-fighting tools and resources actually to defraud the public,\" said US Attorney Roslynn Mauskopf.Mr Royer was convicted of racketeering, securities fraud, obstruction of justice and witness tampering. Mr Elgindy was convicted of racketeering, securities fraud and extortion.The charges carry sentences of up to 20 years. When the guilty verdict was announced by the jury foreman, Mr Elgindy dropped his face into his hands and sobbed, the Associated Press news agency reported. He was led weeping from the court room by US marshals, AP said. Defense lawyers contended that Mr Royer had been feeding information to Mr Elgindy and another trader in an attempt to expose corporate fraud. Mr Elgindy's team claimed that he also was fighting against corporate wrongdoing. \"Elgindy's conviction marks the end of his public charade as a crusader against fraud in the market,\" said Ms Mauskopf. One of the more bizarre aspects of the trial focused on the claims that Mr Elgindy may have had foreknowledge of the 11 September terrorist attacks in New York and Washington. Mr Elgindy had been trying to sell stock prior to the attack and had predicted a slump in the market. No charges were brought in relation to these allegations. \\\\\n",
       "\t7 & politics & 'UK will stand firm on EU rebate' & Britain's Â£3bn EU rebate is not up for renegotiation at next week's European Council summit, Jack Straw said.The foreign secretary told MPs the rebate, secured by Margaret Thatcher in 1984, was \"entirely justified\". New European commission president Jose Manuel Barroso has suggested the cash could be shared out among net contributors to the EU budget. Mr Straw acknowledged some countries in the newly enlarged 25 nation EU still had to \"see the light\" on the rebate.But the foreign secretary told the Commons foreign affairs committee: \"Our position is very clear: it is entirely justified and it is not for negotiation.\" He added that he did not think there would be a political price to pay for the UK's stance - Britain contributed more and received less than other EU states. The two-day European Council summit in Brussels begins on 16 December and is widely expected to mark the beginning of a lengthy negotiating period over the EU's budget for 2007-13. The wrangling could stretch into 2005, even 2006.The UK, France, Germany, Austria, the Netherlands and Sweden want the EU budget to be capped at 1\\% of member states' combined national incomes - the Commission wants it to be 1.26\\%. Mr Straw said the EU commission's proposal would mean a 35\\% hike in the budget. \"I don't know of any national government thinking of increasing its budget by that amount,\" he added. The foreign secretary said he hoped the talks next week could produce a date in 2005 for the beginning of negotiations with Turkey about possible EU membership although that there would be no prospect of a date for joining for some time. \\\\\n",
       "\t8 & politics & Tories opposing 24-hour drinking & The Tories say plans to extend pub opening times should be put on hold until binge drinking is under control, despite backing a law change last year.Spokesman David Davis said ministers had failed to make his party aware of concern among senior police that plans would cause more anti-social behaviour. Notts police chief Steve Green said innocent people would suffer. But Culture Secretary Tessa Jowell said a delay would be \"disastrous\" and she accused the Tories of opportunism. The government would go ahead with the changes which would give police more power to tackle excessive drinking, she added. Earlier chief constable Green questioned how his officers would be able to practically apply powers allowing them to shut down problem premises. \"If you look at the Market Square in Nottingham, if a fight takes place which licensed premises do you go and lay the responsibilty at the door of?\" he asked on BBC Radio 4's World at One programme.He warned that if drinking establishments were allowed to open until three or four in the morning the police would have to take officers off day shifts in order to do their job effectively at night. Earlier this year the Royal College of Physicians said it opposed the plan to extend drinking hours when there was already an \"epidemic\" of binge drinking. Minister Richard Caborn said the government was tackling the causes and the symptoms of the problem by allowing more powers to close down problem premises. It is hoped that allowing pubs and clubs to stay open longer will stagger closing times and end the current situation where drinkers spill on to the streets all at once. Earlier Tony Blair defended the plans against criticism from one of his own backbenchers.\"My view of this is very clear: we should have the same flexibility that other countries have and then we should come down really hard on those who abuse that freedom and don't show the responsibility,\" he told MPs. \"The law-abiding majority who want the ability, after going to the cinema or theatre say, to have a drink at the time they want should not be inconvenienced, we shouldn't have to have restrictions that no other city in Europe has, just in order to do something for that tiny minority who abuse alcohol, who go out and fight and cause disturbances. \"To take away that ability for all the population - even the vast majority who are law abiding - is not, in my view, sensible.\" This week a judge claimed easy access to drink was breeding \"urban savages\" and turning town centres into no go areas. Judge Charles Harris QC made his remarks as he sentenced three men for assaults carried out while drunk and high on drugs after a night out. \\\\\n",
       "\t9 & business & US manufacturing expands & US industrial production increased in December, according to the latest survey from the Institute for Supply Management (ISM).Its index of national manufacturing activity rose to 58.6 last month from 57.8 in November. A reading above 50 indicates a level of growth. The result for December was slightly better than analysts' expectations and the 19th consecutive expansion. The ISM said the growth was driven by a \"significant\" rise in the new orders. \"This completes a strong year for manufacturing based on the ISM data,\" said chairman of the ISM's survey committee. \"While there is continuing upward pressure on prices, the rate of increase is slowing and definitely trending in the right direction.\"The ISM's index of national manufacturing activity is compiled from monthly responses of purchasing executives at more than 400 industrial companies, ranging from textiles to chemicals to paper, and has now been above 50 since June 2003. Analysts expected December's figure to come in at 58.1. The ISM manufacturing index's main sister survey - the employment index - eased to 52.7 in December from 57.6 in November, while its \"prices paid\" index, measuring the cost to businesses of their inputs, also eased to 72.0 from 74.0. The ISM's \"new orders\" index rose to 67.4 from 61.5. \\\\\n",
       "\t10 & tech & Slim PlayStation triples sales & Sony PlayStation 2's slimmer shape has proved popular with UK gamers, with 50,000 sold in its first week on sale.Sales have tripled since launch, outstripping Microsoft's Xbox, said market analysts Chart-Track. The numbers were also boosted by the release of the PS2-only game Grand Theft Auto: San Andreas. The title broke the UK sales record for video games in its first weekend of release. Latest figures suggest it has sold more than 677,000 copies.\"It is obviously very, very encouraging for Sony because Microsoft briefly outsold them last week,\" John Houlihan, editor of Computerandvideogames.com told BBC News. \"And with Halo 2 [for Xbox] out next week, it really is a head-to-head contest between them and Xbox.\"Although Xbox sales over the last week also climbed, PS2 sales were more than double that. The figures mean Sony is reaching the seven million barrier for UK sales of the console. Edinburgh-based developer, Rockstar, which is behind the GTA titles, has seen San Andreas pull in an estimated Â£24m in gross revenues over the weekend. In comparison, blockbuster films like Harry Potter and The Prisoner Of Azkaban took Â£11.5m in its first three days at the UK box office. The Lord of the Rings: The Return of the King took nearly Â£10m over its opening weekend, although games titles are four to five times more expensive than cinema tickets.Gangster-themed GTA San Andreas is the sequel to Grand Theft Auto Vice City which previously held the record for the fastest-selling video game ever. The Xbox game Halo 2, released on 11 November in the UK, is also widely tipped to be one of the best-selling games of the year. The original title won universal acclaim in 2001, and sold more than four million copies.Mr Houlihan added that Sony had done well with the PS2, but it definitely helped that the release of San Andreas coincided with the slimline PS2 hitting the shelves. The run-up to Christmas is a huge battlefield for games consoles and titles. Microsoft's Xbox had been winning the race up until last week in sales. The sales figures also suggest that it may be a largely adult audience driving demand, since GTA San Andreas has an 18 certificate. Sony and Microsoft have both reduced console prices recently and are preparing the way for the launches of their next generation consoles in 2005. \"Both have hit crucial price points at around Â£100 and that really does open up new consoles to new audience, plus the release of two really important games in terms of development are also driving those sales,\" said Mr Houlihan. \\\\\n",
       "\t11 & business & Asia shares defy post-quake gloom & Thailand has become the first of the 10 southern Asian nations battered by giant waves at the weekend to cut its economic forecast.Thailand's economy is now expected to grow by 5.7\\% in 2005, rather than 6\\% as forecast before tsunamis hit six tourist provinces. The full economic costs of the disaster remain unclear. In part, this is because of its scale, and because delivering aid and recovering the dead remain priorities. But Indonesian, Indian and Hong Kong stock markets reached record highs on Wednesday, suggesting that investors do not fear a major economic impact.The highs showed the gap in outlook between investors in large firms and individuals who have lost their livelihoods.Investors seemed to feel that some of the worst-affected areas - such as Aceh in Indonesia - were so under-developed that the tragedy would little impact on Asia's listed companies, according to analysts. \"Obviously with a lot of loss of life, a lot of time is needed to clean up the mess, bury the people and find the missing. But it's not necessarily a really big thing in the economic sense,\" said ABN Amro chief Asian strategist Eddie Wong. India's Bombay Stock Exchange inched slightly above its previous record close on Wednesday. Expectations of strong corporate earnings in 2005 drove the Indonesian stock exchange in Jakarta to a record high on Wednesday. In Hong Kong, the Hang Seng index may be benefiting in part from the potential for its listed property companies to gain from rebuilding contracts in the tsunami-affected regions of South East Asia. In Sri Lanka, some economists have said that as much as 1\\% of annual growth may be lost. Sri Lanka's stock market has fallen about 5\\% since the weekend, but it is still 40\\% higher than at the start of 2004.Thailand may lose 30bn baht (Â£398m; \\$768m) in earnings from tourism over the next three months, according to tourism minister Sontaya Kunplome.In the affected provinces, he expects the loss of tourism revenue to be offset by government reconstruction spending. Thailand intends to spend a similar sum - around 30bn baht - on the rebuilding work. \"It will take until the fourth quarter of next year before tourist visitors in Phuket and five other provinces return to their normal level,\" said Naris Chaiyasoot, director general at the ministry's fiscal policy office. In the Maldives the cost of reconstruction could wipe out economic growth, according to a government spokesman. \"Our nation is in peril here,\" said Ahmed Shaheed, the chief government spokesman. He estimated the economic cost of the disaster at hundreds of millions of dollars. The Maldives has gross domestic product of \\$660m. \"It won't be surprising if the cost exceeds our GDP,\" he said. \"In the last few years, we made great progress in our standard of living - the United Nations recognised this. Now we see this can disappear in a few days, a few minutes.\" Shaheed noted that investment in a single tourist resort - the economic mainstay - could run to \\$40m. Between 10 and 12 of the 80-odd resorts have been severely damaged, and a similar number have suffered significant damage. However, many experts, including the World Bank, have pointed out that it is still difficult to assess the magnitude of the disaster and its likely economic impact. \\\\\n",
       "\t12 & sport & Reds sink 10-man Magpies & Titus Bramble's own goal put Liverpool on the comeback trail as injury-hit Newcastle were well beaten at Anfield.Patrick Kluivert's close-range finish put Newcastle ahead after 31 minutes, but they were pegged back as Bramble headed in Steven Gerrard's corner. Neil Mellor gave Liverpool the lead before half-time from Milan Baros' pass before the Czech added a third after rounding Shay Given on the hour. Newcastle then had Lee Bowyer sent off for two bookable offences. Liverpool brought back Luis Garcia after a hamstring injury, while Newcastle were forced to draft in Kluivert after Craig Bellamy was a late withdrawal with a back injury sustained in the warm-up. And Garcia should have crowned his return with a goal inside the opening minute when he took a pass from Baros but shot wildly over the top from eight yards. Olivier Bernard was only inches away from giving Newcastle the lead after 20 minutes, when he fired just wide from a free-kick 25 yards out. But Souness's side did go ahead 11 minutes later in highly controversial circumstances.Kluivert looked suspiciously offside when Kieron Dyer set Bowyer free, but the Dutchman was then perfectly placed to score from six yards. The lead lasted three minutes, with Liverpool back on terms as Bramble headed Gerrard's corner into his own net under pressure from Sami Hyypia. And Liverpool were ahead after 37 minutes when Baros slid a perfect pass into Mellor's path for the youngster to slip a slide-rule finish into Given's bottom corner. Garcia's finishing was wayward, and he was wasteful again in first-half injury time, shooting tamely at Given after good work by Xabi Alonso. Any hopes of a Newcastle recovery looked to be snuffed out on the hour when a brilliant turn and pass by Harry Kewell set Baros free and he rounded Given to score. Jermaine Jenas then missed a glorious chance to throw Newcastle a lifeline, shooting over from just eight yards out from Shola Ameobi's cross. Then Bowyer, who had already been booked for a foul on Alonso, was deservedly shown the red card by referee Graham Poll for a wild challenge on Liverpool substitute Florent Sinama-Pongolle.Dudek, Finnan, Hyypia, Carragher, Riise, Luis Garcia (Nunez 73), Gerrard, Alonso, Kewell (Traore 85), Baros, Mellor (Sinama Pongolle 75).Subs not used: Hamann, Harrison.Bramble 35 og, Mellor 38, Baros 61.Given, Andrew O'Brien, Elliott, Bramble, Bernard, Bowyer, Dyer (Ambrose 80), Jenas, Milner (N'Zogbia 72), Kluivert (Robert 58), Ameobi.Subs not used: Harper.Bowyer (77).Bowyer, Elliott, Bernard.Kluivert 32.43,856.G Poll (Hertfordshire). \\\\\n",
       "\t13 & politics & 'Best person' for top legal job & The \"best person for the job\" should be appointed lord chancellor, and not necessarily a lawyer or MP, the courts minister has told MPs.Under reforms, the post of lord chancellor is to be stripped of its judicial functions. \"The lord chancellor...no more needs to be a lawyer than the Secretary of Health needs to be a doctor,\" said courts minister Christopher Leslie. The Constitutional Reform Bill was entering its second reading on Monday. Mr Leslie said: \"The prime minister should be able to appoint the best person for the job whether they sit in the House of Lords or the House of Commons.\" Under the reforms, the Law Lords will also be replaced as the UK's highest legal authority by a Supreme Court and judges will be appointed by an independent panel rather than ministers.In December the Lords rejected a plea by current Lord Chancellor Lord Falconer that the holder of the job should not necessarily be a lawyer or a peer. The peers voted by 229 to 206 to say in law that lord chancellors must also be peers. The debate was carried over from the last Parliamentary session, but with an impending general election time is crucial for the government to get the Bill passed. Mr Leslie said it was irrelevant whether the post was called Secretary of State for Constitutional Affairs or Lord Chancellor. He said: \"What matters most is...whether it is reformed so that the post holder no longer has those conflicting duties. \"It is no longer appropriate for a government minister to have such unfettered discretion in the appointment of judges.\"Shadow attorney general Dominic Grieve criticised the government on its plans to change what he said was an \"exceptional institution,\" providing a \"champion of the independence of the judiciary\". The government had initially proposed to take this institution and \"smash it to pieces,\" Mr Grieve said. Convention should be \"nurtured and celebrated,\" but the government distrusted and disliked it instead. He warned that unless ministers backed down over the lord chancellor remaining a member of the House of Lords, the government would have \"great difficulty\" in getting the Bill through Parliament. Former Cabinet minister Douglas Hogg, whose father and grandfather served as lord chancellor, said the Bill was \"largely unnecessary, bureaucratic and expensive\". But the Tory MP for Sleaford and North Hykeham admitted the lord chancellor's role and office \"cannot be frozen in aspic\". \\\\\n",
       "\t14 & tech & Sony PSP tipped as a 'must-have' & Sony's Playstation Portable is the top gadget for 2005, according to a round-up of ultimate gizmos compiled by Stuff Magazine.It beats the iPod into second place in the Top Ten Essentials list which predicts what gadget-lovers are likely to covet this year. Owning all 10 gadgets will set the gadget lover back Â£7,455. That is Â£1,000 cheaper than last year's list due to falling manufacturing costs making gadgets more affordable.Portable gadgets dominate the list, including Sharp's 902 3G mobile phone, the Pentax Optio SV digital camera and Samsung's Yepp YH-999 video jukebox.\"What this year's Essentials shows is that gadgets are now cheaper, sexier and more indispensable than ever. We've got to the point where we can't live our lives without certain technology,\" said Adam Vaughan, editor of Stuff Essentials. The proliferation of gadgets in our homes is inexorably altering the role of the high street in our lives thinks Mr Vaughan. \"Take digital cameras, who would now pay to develop an entire film of photos? Or legitimate downloads, who would travel miles to a record shop when they could download the song in minutes for 70p?\" he asks. Next year will see a new set of technologies capturing the imaginations of gadget lovers, Stuff predicts. The Xbox 2, high-definition TV and MP3 mobiles will be among the list of must-haves that will dominate 2006, it says. The spring launch of the PSP in the UK is eagerly awaited by gaming fans. \\\\\n",
       "\t15 & business & Green reports shun supply chain & Nearly 20\\% more UK top 250 firms produced non-financial reports on social and environment issues than last year.But of the 145 companies reporting, 76\\% didn't examine their supply chains, says the annual Directions survey. Green groups say putting pressure on supply chains is a major way companies can reduce their environmental impact. The survey is published by corporate social responsibility firm Context and branding firm SalterBaxter.Blake Lee-Harwood, campaigns director at Greenpeace in the UK, said: \"It's fairly meaningless to talk about your company's direction in terms of sustainability without having detailed knowledge of your supply chain. \"It's also important to get some kind of independent assessment of your reporting.\"Less than a quarter of companies (24\\%) get their corporate social responsibility (CSR) reports independently verified to provide assurances they are accurate and complete, says the survey. To date there are no set standards for non-financial reporting, although the Global Reporting Initiative, an independent pro-sustainability institution, is planning to establish some. The reports surveyed by Directions are published voluntarily. They are usually called corporate social responsibility (CSR) reports, sustainability reports, or social and environmental reports.Peter Knight, director of Context, says 24 UK top 250 companies reported for the first time this year and, in general, the quality of reports has improved. \"The corporate lexicon of homilies, generalities and soft assurances - fluff - is on its way out. There are less pictures of smiling children and butterflies.\" The UK government will soon require all quoted companies to report their social and environmental risks in a chapter in their annual reports, called the Operating and Financial Review. The regulation is not expected until 2005 and the first reports under this scheme will not be published before 2006. The US seems to lag Europe in producing corporate social responsibility reports. The majority of European top 50 companies (44) publish them and only 27 of the US top 50. \\\\\n",
       "\t16 & tech & US hacker breaks into T-Mobile & A man is facing charges of hacking into computers at the US arm of mobile phone firm T-Mobile.The Californian man, Nicholas Lee Jacobsen, was arrested in October. Mr Jacobsen tried at least twice to hack T-Mobile's network and took names and social security numbers of 400 customers, said a company spokesman. The arrest came a year after T-Mobile uncovered the unauthorised access. The US Secret Service has been investigating the case. \"T-Mobile has stringent procedures in place where we monitor for suspicious activity so that limited his activities and we were able to take corrective action immediately,\" Peter Dobrow, a T-Mobile spokesperson said. It is thought that Mr Jacobsen's hacking campaign took place over at least seven months during which time he read e-mails and personal computer files, according to court records.Although Mr Jacobsen, 21, managed to get hold of some data, it is thought he failed to get customer credit card numbers which are stored on a separate computer system, said Mr Dobrow. T-Mobile confirmed that the US Secret Service was also looking into whether the hacker accessed photos that T-Mobile subscribers had taken with their camera phones. The Associated Press agency reported that Mr Jacobsen also read personal files on the Secret Service agent who was apparently investigating the case. A Los Angeles grand jury indicted Mr Jacobsen with intentionally accessing a computer system without authorisation and with the unauthorised impairment of a protected computer between March and October 2004. He is currently on bail. T-Mobile is a subsidiary company of Deutsche Telekom and has about 16.3 million subscribers in the US. \\\\\n",
       "\t17 & business & Economy 'stronger than forecast' & The UK economy probably grew at a faster rate in the third quarter than the 0.4\\% reported, according to Bank of England deputy governor Rachel Lomax.Private sector business surveys suggest a stronger economy than official estimates, Ms Lomax said. Other surveys collectively show a rapid slowdown in UK house price growth, she pointed out. This means that despite a strong economic growth, base rates will probably stay on hold at 4.75\\%. Official data comes from the Office for National Statistics (ONS). Though reliable, ONS data takes longer to publish, so now the BoE is calling for faster delivery of data so it can make more effective policy decisions. \"Recent work by the Bank has shown that private sector surveys add value, even when preliminary ONS estimates are available,\" Ms Lomax said in a speech to the North Wales Business Club.The ONS is due to publish its second estimate of third quarter growth on Friday. \"The MPC judges that overall growth was a little higher in the third quarter than the official data currently indicate,\" Ms Lomax said. The Bank said successful monetary policy depends on having good information. Rachel Lomax cited the late 1980s as an example of a time when weak economic figures were published, but substantially revised upwards years later.\"The statistical fog surrounding the true state of the economy has proved a particularly potent breeding ground for policy errors in the past,\" she said. Improving the quality of national statistics is the single the best way of making sure the Monetary Policy Committee (MPC) makes the right decisions, she said. The Bank of England is working in tandem with the ONS to improve the quality and speed of delivery of data. Her remarks follow criticism from the House of Lords Economic Affairs Committee, which said the MPC had held interest rates too high given that inflation was way below the 2\\% target.A slowdown in the housing market and this year's surge in oil prices has made economic forecasting all the more tricky, leading to a more uncertain outlook. \"This year rising oil prices and a significant slowdown in the housing market have awoken bad memories of the 1970s and 1980s,\" Ms Lomax said. \"The MPC will be doing well if it can achieve the same stability over the next decade as we have enjoyed over the past 10 years.\" Decisions on interest rates are made after the MPC gathers together the range of indicators available every month. The clearest signals come when all indicators are pointing the same direction, Ms Lomax intimated. \"In economic assessment, there is safety in numbers.\" \\\\\n",
       "\t18 & entertainment & Double win for Sea Inside & Spanish movie The Sea Inside has been named best picture and star Javier Bardem best actor at the Bangkok International Film Festival.Based on the true story of a paralysed man's battle to end his life, The Sea Inside was best foreign language film at the 2005 Golden Globe Awards. Annette Bening and Ana Geislerova shared the best actress award at the Bangkok festival. This year's event was scaled down following the Asian tsunami disaster.Falling Down and The Phantom of the Opera director Joel Schumacher won a lifetime achievement award while Hong Kong director Wong Kar-Wai was honoured for promoting Asian cinema. \"It's a great honour, I want to share this honour with my Thai colleagues,\" Wong said. French writer Christophe Barratie and Korean writer Park Chan-Chook shared the best screenplay award for Les Choristes and Old Boy respectively. Now in its third year, the Bangkok International Film Festival is donating profits from ticket sales to the tsunami relief fund. \\\\\n",
       "\t19 & entertainment & Children vote Shrek 2 best film & Young UK film fans voted animated Hollywood hit Shrek 2 best film at the children's Bafta awards on Sunday.More than 6,000 children voted in the only category chosen by fans. Harry Potter and the Prisoner of Azkaban, runner-up in the poll, was the choice of the Bafta experts who named it best feature film. BBC One Saturday morning show Dick and Dom In Da Bungalow won two awards - best entertainment and best presenters for Richard McCourt and Dominic Wood.Former Playschool presenter Floella Benjamin was awarded the Special Award for outstanding creative contribution to children's film and television. She first appeared on Playschool 25 years ago and was made an OBE in 2001 for services to broadcasting. South American-themed cartoon Joko! Jakamoko! Toto! won the honour for pre-school animation and its writer Tony Collingwood for original writer. Debbie Isitt won the award for best adapted writer for her work with Jacqueline Wilson's The Illustrated Mum, which won the award for best schools drama.Schools' Factual (primary) - Thinking Skills: Think About It - Hiding PlacesSchools' Factual (secondary) - In Search of the Tartan TurbanPre-School Live Action - BalamoryAnimation - Brush HeadDrama - FeatherboyFactual - Serious Desert Interactive Bafta - King Arthur International category - 8 Simple Rules for Dating my Teenage Daughter \\\\\n",
       "\t20 & sport & Parry relishes Anfield challenge & BBC Sport reflects on the future for Liverpool after our exclusive interview with chief executive Rick Parry.Chief executive Parry is the man at the helm as Liverpool reach the most crucial point in their recent history. Parry has to deliver a new 60,000-seat stadium in Stanley Park by 2007 amid claims of costs spiralling above Â£120m. He is also searching for an investment package of a size and stature that will restore Liverpool to their place at European football's top table. But it is a challenge that appears to sit easily with Parry, who has forged a reputation as one of football's most respected administrators since his days at the fledgling Premier League.Liverpool have not won the championship since 1990, a fact that causes deep discomfort inside Anfield as they attempt to muscle in on the top three of Chelsea, Manchester United and Arsenal. Throw in the small matter of warding off every top club in world football as they eye captain Steven Gerrard, and you can see Parry is a man with a lot on his plate. But in the comfort of a conference room deep inside Liverpool's heartbeat - The Kop end - Parry spoke to us with brutal honesty about the crucial months ahead. He only dodged one question - when asked to reveal the name of the mystery investor currently courting Liverpool, a polite smile deflected the inquiry. But to his credit, he met everything else head on in measured tones that underscore the belief that Liverpool still mean business.By business he means becoming title challengers again, and locking the pieces together that will help return the trophy to Liverpool is Parry's mission. Parry has already successfully put one of those planks in place in the form of new manager Rafael Benitez. And his enthusiasm for the Spaniard's personality and methods is an indication of his clear feeling that he has struck gold. Benitez's early work has given Parry renewed optimism about the years ahead. But it remains a massive task at a club with a unique history and expectations. This will not come as news to Parry, a lifelong Liverpool supporter, but his quiet determination suggests he is no mood to be found wanting...Captain Gerrard is central to Liverpool's plans and Parry's insistence that all offers will be refused is a firm statement of intent. As ever, the player will have the final say, and Parry acknowledges that, but he is determined to provide the framework and environment for Liverpool and Gerrard to flourish.In terms of the search for new investment, Hawkpoint were appointed as advisors to flush out interest in March 2004. Thailand Prime Minister Thaksin Shiniwatra came and went, while the most serious statement of intent came from tycoon and lifelong fan Steve Morgan. Morgan had a succession of bids rejected, having come close in the summer only for talks to break down over potential costs for the new stadium. BBC Sport understands Morgan is still ready and willing to invest in Liverpool, and Parry has kept the door ajar despite currently seeking investment elsewhere.Morgan, however, has had no formal contact with Liverpool or their advisors since last December, blaming indecision at board level as he publicly withdrew his Â£70m offer. He was also convinced his interest was being used to lure in others, so any new approach would now have to come from Liverpool. Morgan will certainly not be making another call. So speculation continues about the new benefactor, with trails leading to the Middle East and America, but all met with an understandable veil of secrecy from Anfield.Parry meanwhile sees the new ground as crucial to Liverpool's future, but is refusing to become emotionally attached to the idea. He is determined the ground will only be built on an affordable basis and will not make future Liverpool management hostages to the new stadium. Parry will pull back the moment the figures do not stack up, but there has been a vital new development in North London that has re-shaped Liverpool's thinking.Liverpool have publicly refused to entertain the idea of stadium sponsorship and potential naming rights - but the realism of Arsenal's stunning Â£100m deal for their new Emirates Stadium at Ashburton has changed the landscape. Parry labelled the deal \"an eye-opener\" and admits Liverpool would be missing a trick not to explore the possibilities. He knows some traditionalist Liverpool fans will reel at any attempt to call the new stadium anything other than just 'Anfield', but the maths of modern-day football decree that multi-millions for stadium and team could ease the pain.I would take Â£50m if we had no investment, but if we did, keep him. As for the stadium, if it gets us cash what difference does it make really?Â£50m for Gerrard? I don't care who you are, the Directors would take the money and it is the way it should be. We cannot let that sum of money go, despite Gerrard's quality.Through a cleverly worded statement, the club has effectively forced Gerrard to publicly make the decision for himself, which I think is the right thing to do.Critical time for Liverpool with regards to Gerrard. Ideally we would want to secure his future to the club for the long term. I am hoping he doesn't walk out of the club like Michael Owen did for very little cash.Â£50m realistically would allow Rafa to completely rebuild the squad, however, if we can afford to do this AND keep Gerrard we will be better for it. I would however be happy with Gerrard's transfer for any fee over Â£35m.Parry's statements are clever in that any future Gerrard transfer cannot be construed as a lack of ambition by the club to not try and keep their best players. Upping the ante is another smart move by Parry.I would keep Gerrard. No amount of money could replace his obvious love of the club and determination to succeed.The key is if Gerrard comes out and says that he is happy. Clearly, if he isn't, then we would be foolish not to sell. The worrying thing is who would you buy (or who would come) pending possible non-Champions League football. \\\\\n",
       "\t21 & politics & Pre-poll clash on tax and spend & Labour and the Tories have clashed over tax and spending plans as the row over Gordon Brown's Budget turned into a full scale pre-election battle.Tony Blair claimed a Tory government would \"cut\" Â£35bn from public services hitting schools, hospitals and police. Tory chairman Liam Fox accused Labour of \"at best misrepresentation at worst a downright lie\" and said the \"smear\" tactics were a sign of desperation. The Lib Dems accused Mr Brown of ducking the issue of council tax rises.Appearing together at a Labour poster launch, the prime minister hailed his chancellor's \"brilliant\" performance. And he claimed the Tories would cut Â£35bn from public services, which was the equivalent of sacking every doctor and teacher in the UK.The Tories said they would not cut spending but agreed public spending would increase more slowly under their plans - leading to a total of Â£33.5bn less spending than that anticipated by Labour by 2011. But they say not a single doctor, teacher or nurse will be cut. Dr Fox said: \"We have said we will be spending more, year on year over and above inflation. \"And to call that a cut is at best a misrepresentation, at worst a downright lie.\"Tory shadow chancellor Oliver Letwin also predicted Mr Brown would have to raise taxes by Â£10bn or Â£11bn if Labour was re-elected because he was borrowing and spending too much. For the Lib Dems, Vince Cable said the chancellor had failed to deal with the \"looming problems\" of revaluation of council tax bands which he argued would result in \"massive increases\" for some. Mr Brown and Mr Blair staged a show of unity on Thursday morning, the day after the chancellor delivered a record-breaking ninth Budget.Mr Cable said taxation as a share of the economy would go up under all three of the main parties. The chancellor meanwhile insisted his spending plans were \"affordable\". In Wednesday's Budget, Mr Brown doubled the level at which homebuyers pay stamp duty, unveiled a rise in child tax credit and a Â£200 council tax refund for over-65s. Defending the plans, he told Today: \"I will take no risks with the stability of the economy. \"All our spending plans announced yesterday [Wednesday], including what we can do for pensioners, as well as for young families and on stamp duty and inheritance tax, all these are costed and affordable.\" In a further sign, if any were needed, that the election is approaching, the House of Commons authorities have formally told MPs their offices will be \"deep cleaned\" during the three-week poll campaign. Mr Blair has yet to name the day - but it is widely expected to be 5 May. \\\\\n",
       "\t22 & politics & Escaped prisoner report ordered & First Minister Jack McConnell has ordered a report on the decision to allow a paranoid schizophrenic knife attacker to go on a visit unguarded.Michael Ferguson, 36, escaped after being allowed out of the high-security Carstairs unit. The SNP's Nicola Sturgeon has demanded to know who was responsible for signing off the leave. The Scottish Executive said ministers would be notified but it would \"not be common practice\" to sign approval. An executive spokesman said the health department and the state hospital itself would work together on preparing the report. Ministerial responsibility for Carstairs rests with Rhona Brankin, the deputy health minister. Ms Brankin said: \"The first minister has called for a review of what has happened, we need to talk to the state hospital and we need to reflect on this.\" Ms Sturgeon has written to Mr McConnell asking for clarification on the move to allow the prisoner out. She said questions must be answered about his escape, if the public is to be reassured about safety. Police are still searching for Ferguson, who failed to return after a trip to East Kilbride on Monday.The Scottish National Party's parliamentary leader argued that under the law, authorisation of Ferguson's leave of absence would have come directly from ministers. She said: \"The Scottish Executive seemed to indicate yesterday that the escape of Mr Ferguson was a matter for Carstairs. \"However, my understanding is that, under the mental health legislation, the decision to grant this patient - and any restricted patient - leave of absence, would have required direct and specific authorisation by Scottish ministers.\" She added: \"I have written to the first minister today asking for confirmation of that fact. I have also asked him to confirm which minister would routinely take decisions of this nature and what information they are based on. \"This is not an attempt to apportion blame, but to ensure a better understanding of the decision making process in such important and sensitive cases.\"Police said Ferguson posed a danger to the public. BBC Scotland political correspondent Glenn Campbell said the first minister had ordered an urgent report into the situation. He said: \"We understand from the executive that in this case no individual minister signed off the approval for Michael Ferguson to be released unescorted from Carstairs. \"The executive concedes that it is up to Scottish ministers, they have a legal responsibility for approving this sort of leave, but they say routinely it is specialised officials that make that decision and simply inform ministers that they have taken it. \"But at that stage presumably ministers can ask hard questions and can ask for reassurances that the patient is not a serious danger to the public or that any risk has been minimised.\" Scottish Conservative leader, David McLetchie, said earlier it was \"almost beyond belief that this has been allowed to happen\".The executive spokeswoman said the recommendation for leave was agreed by a psychiatric advisor \"in conjunction with officials on behalf of ministers\". She said: \"Ministers were told of that, notified of it, but it would not be common practice for them to sign it off. \"They do have statutory responsibility, but the common practice has been that people who work with the patient and have the best knowledge about risk would make that decision.\" Ferguson, who slashed a man in a doctors' surgery in Coatbridge in 1994, had been out to see his fianc\\&\\#233;e Annabella Holmes, 47, whom he met when she was a patient at the high security complex in South Lanarkshire. He is described as being 5ft 9ins tall, slim, with blond hair, blue eyes and a fair complexion. Ferguson was wearing a black jacket, grey jeans, black jumper and black shoes when he was last seen. He has multiple fading tattoos on his left hand and a very faded tear tattoo under his left eye. Ms Holmes is not missing but there have been no sightings of Ferguson since Monday. Strathclyde Police asked anyone who spots Ferguson to contact Sergeant Keith McDonald on. \\\\\n",
       "\t23 & politics & Blair told to double overseas aid & Tony Blair is being urged to use all his negotiating powers to end poor countries' debt and double aid.Some 45 million children will die needlessly before 2015 and aid budgets are half their 1960 levels, Oxfam says in a report, Paying the Price. The call comes as the prime minister prepares to assume the presidency of the G8 of top industrialised nations. \"As rich countries get richer, they're giving less and less. This scandal must stop,\" Oxfam's Barbara Stocking said.\"The world's poorest children are paying for rich countries' policies in aid and debt with their lives. \"2005 offers the chance for an historic breakthrough, but unless world leaders act now the year will end in shameful failure,\" the charity's director added. The report said: \"For rich countries, providing aid to help to end global poverty is an obligation and a matter of justice, not an act of charity.\" It also points out that in 1970 the G8 of top industrialised nations agreed to spend 0.7\\% of their incomes on aid. But 34 years later none of the organisations members have reached this target and many have not yet set a timetable, the report says.It argues that the price of not investing in poor countries' sustainable development will be felt across the world. The report said: \"Global poverty threatens our shared prosperity and security. \"Environmental crises and natural disasters, disease and drug trafficking know no national borders. Poverty heightens the likelihood of conflict and unrest. \"New threats to the peace and security of rich nations arise from poverty and gross inequalities. \"Criminal and terrorist networks are more likely to operate where state institutions are weak.\"Both the prime minister and Chancellor Gordon Brown have called for urgent action to fight world poverty. Mr Blair, who has described Africa as a \"scar\" on the world's conscience, has already said tackling world poverty would be one his G8 priorities along with climate change and the Aids epidemic. Mr Brown has also pledged to write off the debt owed to Britain by the world's poor nations. A spokeswoman for the Department for International Development said: \"The government had made a clear commitment to reaching 0.7\\% of gross national income for overseas development aid by 2013. \"If Britain's proposal for an International Finance Facility were adopted, the objective of 0.7\\% could be achieved earlier, by 2008-09. \"These additional resources will be used to increase UK bilateral aid to Africa to at least Â£1.25bn a year by 2008 and spend at least Â£1.5bn on HIV/Aids related work over the next three years.\" \\\\\n",
       "\t24 & sport & O'Driscoll saves Irish blushes & Two moments of magic from Brian O'Driscoll guided Ireland to a workmanlike victory against Italy.A pair of classic outside breaks from the Ireland captain set up tries for Geordan Murphy and Peter Stringer. Italy led 9-8 early in the second half but Stringer's try gave Ireland a lead they never lost. The hosts cut the gap to 18-12 with 10 minutes left and nearly scored through Ludovico Nitoglia, but Denis Hickie's try ensured an Irish victory. Italy came flying out of the blocks and took the lead through a Luciano Orquera penalty after seven minutes.It could have been better for the hosts but the fly-half missed two kickable penalties and Ireland drew level with a Ronan O'Gara penalty midway through the first half. The Italians were driving at the heart of the Irish defence and, for the first quarter, the Irish pack struggled to secure any ball for their talented backs.When they finally did, just before the half-hour mark, O'Driscoll promptly created a sparkling try for Murphy. The Ireland captain ran a dummy scissors and made a magical outside break before drawing the full-back and putting the diving Murphy in at the corner. O'Gara missed the twice-taken conversion and the visitors found themselves trailing once again. Roland de Marigny took over the kicking duties for Italy from the hapless Orquera, and he landed a penalty either side of the break to edge Italy into a 9-8 lead.The only Ireland player offering a real threat was O'Driscoll, and it was his break that set up the second try for the visitors. Shane Horgan threw an overhead pass as he was about to be forced into touch and Stringer scooted over, with O'Gara landing the tricky conversion. A penalty apiece saw Ireland leading 18-12 as the game entered the final quarter, but they were lucky to survive when Italy launched a series of attacks. Winger Nitoglia dropped the ball as he reached for the line and Italy nearly rumbled over from a driving maul.An O'Gara penalty put Ireland more than a converted try ahead and they made the game safe when Hickie latched onto an inside pass from Murphy and crossed for a converted try. O'Driscoll limped off late on, joining centre partner Gordon D'Arcy on the sidelines, and the final word went to Italy. Prop Martin Castrogiovanni powered over for a try which was fitting reward for an Italian pack which had kept the Irish under pressure throughout.De Marigny; Mi Bergamasco, Canale, Masi, Nitoglia; Orquera, Troncon; Lo Cicero, Ongaro, Castrogiovanni; Dellape, Bortolami; Persico, Ma Bergamasco, Parisse.Perugini, Intoppa, Del Fava, Dal Maso, Griffen, Pozzebon, Robertson.Murphy, Horgan, O'Driscoll, D'Arcy, Hickie, O'Gara, Stringer, Corrigan, Byrne, Hayes, O'Kelly, O'Connell, S Easterby, Leamy, Foley.Sheahan, Horan, O'Callaghan, Miller, G Easterby, Humphreys, Dempsey.P O'Brien (New Zealand) \\\\\n",
       "\t25 & tech & Broadband challenges TV viewing & The number of Europeans with broadband has exploded over the past 12 months, with the web eating into TV viewing habits, research suggests.Just over 54 million people are hooked up to the net via broadband, up from 34 million a year ago, according to market analysts Nielsen/NetRatings. The total number of people online in Europe has broken the 100 million mark. The popularity of the net has meant that many are turning away from TV, say analysts Jupiter Research. It found that a quarter of web users said they spent less time watching TV in favour of the netThe report by Nielsen/NetRatings found that the number of people with fast internet access had risen by 60\\% over the past year.The biggest jump was in Italy, where it rose by 120\\%. Britain was close behind, with broadband users almost doubling in a year. The growth has been fuelled by lower prices and a wider choice of always-on, fast-net subscription plans. \"Twelve months ago high speed internet users made up just over one third of the audience in Europe; now they are more than 50\\% and we expect this number to keep growing,\" said Gabrielle Prior, Nielsen/NetRatings analyst. \"As the number of high-speed surfers grows, websites will need to adapt, update and enhance their content to retain their visitors and encourage new ones.\" The total number of Europeans online rose by 12\\% to 100 million over the past year, the report showed, with the biggest rise in France, Italy, Britain and Germany.The ability to browse web pages at high speed, download files such as music or films and play online games is changing what people do in their spare time.A study by analysts Jupiter Research suggested that broadband was challenging television viewing habits. In homes with broadband, 40\\% said they were spending less time watching TV. The threat to TV was greatest in countries where broadband was on the up, in particular the UK, France and Spain, said the report. It said TV companies faced a major long-term threat over the next five years, with broadband predicted to grow from 19\\% to 37\\% of households by 2009. \"Year-on-year we are continuing to see a seismic shift in where, when and how Europe's population consume media for information and entertainment and this has big implications for TV, newspaper and radio,\" said Jupiter Research analyst Olivier Beauvillian. \\\\\n",
       "\t26 & sport & Ferrero eyes return to top form & Former world number one Juan Carlos Ferrero insists he can get back to his best despite a tough start to 2005.The 2003 French Open champion has slipped to 64 in the world after a year of illness and injuries in 2004, but is confident that his form will return. \"I don't know when it is going to happen,\" Ferrero told BBC Sport. \"But I have a lot of confidence in me that I will be the same Juan Carlos as I was before, and very soon. I feel 100\\% again mentally.\" The 25-year-old Spaniard joins a top field for the ABN AMRO World Tennis Tournament in Rotterdam this week as he looks to add to just two wins in 2005. He opens against Rainer Schuettler and potentially faces fourth seed David Nalbandian in the second round. \"Because I'm no longer seeded it's tougher,\" Ferrero admitted. \"I had to play against Joachim Johansson in the first round last week in Marseille.\"In the past when I was a top seed I would have played a match like that in the quarters or semi-finals. \"This is the big difference but I have to do it to get higher in the rankings.\" Despite this, Ferrero insists he is feeling positive after chicken pox and a rib injury destroyed last season. \"Physically I am 100\\% since December of last year,\" said Ferrero. \"I was working very hard before the Davis Cup final to prepare and I've felt 100\\% from then until now. \"The difficult moments were when I knew that I had the chicken pox and that it would take two or three months to recover. \"I had to start from zero again physically because the virus left me at zero per cent. \"When I started to come back I had my rib broken when I fell on court and that was another two months out. Those five months were pretty difficult for me.\"Among the low points of a difficult year for Ferrero was the decision of Spain captain Jordi Arrese to drop him for the Davis Cup final against the USA. \"It was difficult because I had been playing well for the whole year and the coaches told me that I would play,\" said Ferrero. \"But then I had some problems with my hand two days before the Friday matches so they decided to choose Nadal instead. \"It was difficult for me not to be in the Friday matches but I had to understand. \"Inside me I wanted to play but this was the decision of the captain and they had to make it.\" \\\\\n",
       "\t27 & tech & Europe backs digital TV lifestyle & How people receive their digital entertainment in the future could change, following the launch of an ambitious European project.In Nice last week, the European Commission announced its Networked \\& Electronic Media (NEM) initiative. Its broad scope stretches from the way media is created, through each of the stages of its distribution, to its playback. The Commission wants people to be able to locate the content they desire and have it delivered seamlessly, when on the move, at home or at work, no matter who supplies the devices, network, content, or content protection scheme. More than 120 experts were in Nice to share the vision of interconnected future and hear pledges of support from companies such as Nokia, Intel, Philips, Alcatel, France Telecom, Thomson and Telefonica. It might initially appear to be surprising that companies in direct competition are keen to work together. But again and again, speakers stated they could not see incompatible, stand-alone solutions working. A long-term strategy for the evolution and convergence of technologies and services would be required.The European Commission is being pragmatic in its approach. They have identified that many groups have defined the forms of digital media in the areas that NEM encompasses. The NEM approach is to take a serious look at what is available and what is in the pipeline, pick out the best, bring them together and identify where the gaps are. Where it finds holes, it will develop standards to fill them. What is significant is that such a large and powerful organisation has stated its desire for digital formats to be open to all and work on any gadget. This is bound to please, if not surprise, many individuals and user organisations who feel that the wishes of the holder of rights to content are normally considered over and above those of the consumer. Many feel that the most difficult and challenging area for the Commission will be to identify a solution for different Digital Rights Management (DRM) schemes. Currently DRM solutions are incompatible, locking certain types of purchased content, making them unplayable on all platforms. With the potential of having a percentage of every media transaction that takes place globally, the prize for being the supplier of the world's dominant DRM scheme is huge. Although entertainment is an obvious first step, it will encompass the remote provisions of healthcare, energy efficiency and control of the smart home. The 10-year plan brings together the work of many currently running research projects that the EC has been funding for a number of years.Simon Perry is the editor of the Digital Lifestyles website, which covers the impact of technology on media \\\\\n",
       "\t28 & sport & Liverpool pledge to keep Gerrard & Liverpool chief executive Rick Parry insists the club will never sell Steven Gerrard amid reports Chelsea will renew their bid to lure him from Anfield.Gerrard reiterated his desire to win trophies with the Reds after his superb Champions League winner on Wednesday. And Parry has moved to scotch claims that Chelsea could launch a Â£35m bid. \"There is no chance of Stevie going in January,\" said Parry. \"That just won't happen. Our intention is that we will never let him go.\" Gerrard scored a spectacular late goal to give Liverpool a 3-1 win over Olympiakos and book their place in the knockout stages. \"Of course he is ambitious but so are we,\" Parry added. \"We firmly believe that if we can satisfy his ambition he will remain a Liverpool player. \"We have an open and straightforward relationship. We both know where we stand and that played a big part in his decision to stay last summer. If he was not so committed to Liverpool he would have gone by now.\" Gerrard had said before Wednesday's game he would consider leaving if the club was knocked out of Europe, with Real Madrid also believed to be monitoring his situation.\"The main point I have made is I want to be in a Liverpool side which challenges for the Champions League and the title all the time,\" he said afterwards. \"I want to be winning things with Liverpool, not somewhere else. \"I am a fan as well and I think what I have said the supporters will agree with. \"We have to build on wins like that, not just settle for a great win and then not progress any further. \"My goal was one of the most important I have ever scored and I hope it turns out to be one of the most important for the club for a long time. \"I know I put a lot of pressure on myself because of what I said, and I felt I needed a big performance, but I am not going to go around telling lies about how I feel.\"Reds manager Rafael Benitez believes Gerrard can win everything he wants to without moving clubs. \"Steven can win all he wants with us and we need him. He has seen that we have a good team and we can do more things in the future,\" said Benitez. \"But if we want to win more games, important games, we need Steven in the team. \"We need his strength, the strong mentality he has and his quality. I think he likes and wants the responsibility of leading this team.\" \\\\\n",
       "\t29 & entertainment & Bening makes awards breakthrough & Film actress Annette Bening is up for an Oscar for her starring role in the award-winning film Being Julia.Bening, who was born in Texas in 1958, has gained prominence for a string of key roles. Although an Oscar has so far eluded her, her status as one of Hollywood's favourite actresses remains solid. One of the biggest Oscars buzzes in recent years was for Bening's role as troubled Carolyn Burnham in 1999's American Beauty. But her deliciously neurotic portrayal of surburban life turning sour was overlooked in favour of Hilary Swank's leading role in Boys Don't Cry. After opening her career in the theatre - and gaining a Tony Award nomination in 1986 - Bening had a low-key spell in television. She then made her film debut as a sex-starved wife in 1988's The Great Outdoors, opposite comics Dan Akroyd and John Candy.Following a cameo in Postcards From The Edge, Bening's breakthrough role came in 1990, playing seductive con artist Myra Langtry in The Grifters - a role that won her an Oscar nomination. Despite some rave reviews, Bening did not win the best supporting actress Academy Award.However the high-profile performance enabled Bening to capture roles in a number of big budget Hollywood productions, co-starring with some of Hollywood's greatest players, including Robert De Niro and Harrison Ford. But it was her role opposite Warren Beatty in 1991 gangster flick Bugsy which had the greatest impact. Bening played Virginia Hill, another role which won her high critical acclaim, but the film only picked up two of a staggering 12 Oscar nominations.Bugsy was the start of a very significant liaison for Bening - she married Beatty, with whom she had a child as the couple promoted the film in Europe. The couple now have four children together. A pair of contrasting yet successful performances peppered Bening's career in the mid-1990s. She played Michael Douglas' opposite number in romantic comedy The American President, and as a \"fiery\" Queen Elizabeth I in a contemporary adaptation of Shakespeare's Richard III.Bening was the first choice to play the female lead in American Beauty, director Sam Mendes' film debut which was a critical and commercial success - but the actress had to be content with a Bafta award for her strong performance. But current film Being Julia has made Bening an award-winning actress rather than the perennial nominee, with success at the Golden Globes. The witty tale of revenge and love set in 1930s London sees the eponymous theatrical diva - played by Bening - grow tired of her success and fall for a young American - and could be the role which finally wins her the coveted Academy Award. \\\\\n",
       "\t30 & politics & Kennedy calls for Iraq exit plans & Tony Blair should set out a proper exit strategy from Iraq in the wake of next Sunday's elections in the country, Lib Dem leader Charles Kennedy has said.In a speech focusing on issues arising from the re-election of George W Bush, Mr Kennedy said Iraq had become a \"crucible of militant terrorism\". He wants to see a phased withdrawal of UK troops \"as soon as the situation allows\", he said in London. Any exit strategy must \"augment and support\" the democratic process.\"There are some who are of the opinion that the mere presence of British and American troops in Iraq feeds the insurgency,\" he said. \"There is some truth in that, especially after the initial mistakes that were made - the heavy-handedness of operations like Fallujah, and the well-publicised instances of abuse at the hands of coalition forces.\" Mr Kennedy pointed out that the Netherlands, Portugal and the Czech Republic, which all have troops operating in the southern sector of Iraq, have announced their imminent withdrawal \"regardless of the situation on the ground\".He accused Mr Blair's government of \"being less than straightforward\" over its plans. \"Next week the prime minister should make a statement regarding the elections in Iraq,\" Mr Kennedy said during his City of London speech. \"He should set out a proper exit strategy, including the phased withdrawal of British troops, as the security situation allows.\" Mr Kennedy also argued that British troops deployed in Iraq should be replaced with forces from other countries - \"especially Islamic countries\". \\\\\n",
       "\t$\\dots$ & $\\dots$ & $\\dots$ & $\\dots$ \\\\\n",
       "\\end{tabular}\n"
      ],
      "text/plain": [
       "\u001b[1m2175×3 DataFrame\u001b[0m\n",
       "\u001b[1m  Row \u001b[0m│\u001b[1m topic         \u001b[0m\u001b[1m heading                           \u001b[0m\u001b[1m body                \u001b[0m ⋯\n",
       "\u001b[1m      \u001b[0m│\u001b[90m String        \u001b[0m\u001b[90m String                            \u001b[0m\u001b[90m String              \u001b[0m ⋯\n",
       "──────┼─────────────────────────────────────────────────────────────────────────\n",
       "    1 │ entertainment  Sky takes over Oscar night mantle  Sky has signed a maj ⋯\n",
       "    2 │ tech           Freeze on anti-spam campaign       A campaign by Lycos\n",
       "    3 │ entertainment  Spark heads world Booker list      Dame Muriel Spark is\n",
       "    4 │ business       Criminal probe on Citigroup deals  Traders at US bankin\n",
       "    5 │ sport          Claxton hunting first major medal  British hurdler Sara ⋯\n",
       "    6 │ business       FBI agent colludes with analyst    A former FBI agent a\n",
       "    7 │ politics       'UK will stand firm on EU rebate'  Britain's Â£3bn EU r\n",
       "    8 │ politics       Tories opposing 24-hour drinking   The Tories say plans\n",
       "    9 │ business       US manufacturing expands           US industrial produc ⋯\n",
       "   10 │ tech           Slim PlayStation triples sales     Sony PlayStation 2's\n",
       "   11 │ business       Asia shares defy post-quake gloom  Thailand has become\n",
       "  ⋮   │       ⋮                        ⋮                                  ⋮    ⋱\n",
       " 2166 │ sport          Wales coach elated with win        Mike Ruddock paid tr\n",
       " 2167 │ entertainment  New York rockers top talent poll   New York electro-roc ⋯\n",
       " 2168 │ business       Fresh hope after Argentine crisis  Three years after Ar\n",
       " 2169 │ politics       Straw to attend Auschwitz service  Foreign Secretary Ja\n",
       " 2170 │ politics       Tories unveil quango blitz plans   Plans to abolish 162\n",
       " 2171 │ politics       Labour's core support takes stock  Tony Blair has told  ⋯\n",
       " 2172 │ politics       Lords wrong on detainees - Straw   Jack Straw has attac\n",
       " 2173 │ sport          Capriati out of Australian Open    Jennifer Capriati ha\n",
       " 2174 │ entertainment  Disputed Nirvana box set on sale   A box set featuring\n",
       " 2175 │ politics       MP attacked by muggers in Kenya    An MP has had more t ⋯\n",
       "\u001b[36m                                                  1 column and 2154 rows omitted\u001b[0m"
      ]
     },
     "execution_count": 87,
     "metadata": {},
     "output_type": "execute_result"
    }
   ],
   "source": [
    "train_docs = DataFrames.DataFrame(topic = [topic for topic ∈ pd_train_docs.topic], \n",
    "    heading = [heading for heading ∈ pd_train_docs.heading], \n",
    "    body = [body for body ∈ pd_train_docs.body])"
   ]
  },
  {
   "cell_type": "code",
   "execution_count": 88,
   "metadata": {},
   "outputs": [
    {
     "data": {
      "text/html": [
       "<div class=\"data-frame\"><p>50 rows × 3 columns</p><table class=\"data-frame\"><thead><tr><th></th><th>topic</th><th>heading</th><th>body</th></tr><tr><th></th><th title=\"String\">String</th><th title=\"String\">String</th><th title=\"String\">String</th></tr></thead><tbody><tr><th>1</th><td>entertainment</td><td>Animation charms Japan box office</td><td>Oscar-winning director Hayao Miyazaki&apos;s latest film has set a new Japanese box office record, with 1.5bn yen ($14.3m) in two days, according to reports.Howl&apos;s Moving Castle is the follow-up to Miyazaki&apos;s Spirited Away, which won best animation at last year&apos;s Oscars. It is based on the children&apos;s book by English writer Diana Wynne Jones. It has registered the highest opening weekend takings of any Japanese film in the country, according to trade publication Screen Daily.The film is about an 18-year-old girl who is trapped in an old woman&apos;s body after being put under a spell by a witch. Its two-day takings represented 1.1 million cinema admissions, Screen Daily said. The film&apos;s distributor Toho expects 40 million people to see it in total - almost one third of the country&apos;s population - it added. The film won the Golden Osella for outstanding technical contribution at this year&apos;s Venice Film Festival.</td></tr><tr><th>2</th><td>tech</td><td>Satellite mapping aids Darfur relief</td><td>Aid workers trying to house, feed and clothe millions of homeless refugees in the Sudanese region of Darfur are getting a helping hand from advanced mapping technology.A European consortium of companies and university groups known as Respond is working to provide accurate and up to date maps. The aim is to overcome some of the huge logistical challenges in getting supplies to where they are needed. Respond is using satellite imagery to produce accurate maps that can be used in the field rapidly. &quot;Respond has produced very detailed maps for example for the road networks, for the rivers and for the villages, to more large-scale maps useful for very general planning purposes,&quot; said Einar Bjorgo from Unosat, the UN satellite mapping organisation that is part of the Respond consortium.The group uses satellites from Nasa, the European Space Agency and the Disaster Monitoring Constellation. The satellite data is transmitted to ground stations. From there, the information makes its way to Respond organisations that specialise in interpreting such data. &quot;You have to convert the data into images, then the interpreter has to convert all this into crisis, damage, or situation maps,&quot; said Stefan Voigt, who works in the remote sensing department of one of those organisations, the German Aerospace Centre.This kind of detailed analysis usually takes a couple of months but Respond gets it done in about 12 hours. &quot;Our users are usually not so much familiar with reading satellite imagery, reading satellite maps, so it&apos;s our task to transfer the data into information that non-technical people can read and understand easily and very, very efficiently,&quot; said Mr Voigt. Respond supplies maps to aid groups via the web, and on compact disc. But the best map is one you can hold in your hands, especially in remote areas where internet connections and laptops are scarce. &quot;A map is a working document,&quot; explains Herbert Hansen of Respond&apos;s Belgian partner Keyobs. &quot;You need to use it, you need to write on it, correct, give feedback and so on, so you need paper to write on. &quot;We print maps, we laminate the maps, we encapsulate the maps if needed so you can take a shower with the map, it&apos;s completely protected.&quot;Humanitarian groups in Darfur have been making good use of Respond&apos;s maps. They have come in especially handy during Sudan&apos;s rainy season, when normally dry riverbeds, or wadis, became flooded. &quot;These wadis had a very small amount of flooding, generally, in terms of depth, but greatly impeded the transport capabilities and capacities of the humanitarian groups on the ground,&quot; says Stephen Candillon of Respond imaging partner Sertit. Respond&apos;s rapid imaging has allowed aid groups to find ways around the wadis, allowing then to mark on their maps which roads were washed out at which times. Aid groups say that combination of satellite technology and on-the-ground observation helped keep relief flowing to those who needed it.Clark Boyd is technology correspondent for The World, a BBC World Service and WGBH-Boston co-production</td></tr><tr><th>3</th><td>tech</td><td>&apos;Evil twin&apos; fear for wireless net</td><td>People using wireless high-speed net (wi-fi) are being warned about fake hotspots, or access points.The latest threat, nicknamed evil twins, pose as real hotspots but are actually unauthorised base stations, say Cranfield University experts. Once logged onto an Evil Twin, sensitive data can be intercepted. Wi-fi is becoming popular as more devices come with wireless capability. London leads the global wi-fi hotspots league, with more than 1,000. The number of hotspots is expected to reach 200,000 by 2008, according to analysts. &quot;Users need to be wary of using their wi-fi enabled laptops or other portable devices in order to conduct financial transactions or anything that is of a sensitive or personal nature,&quot; said Professor Brian Collins, head of information systems at Cranfield University.&quot;Users can also protect themselves by ensuring that their wi-fi device has its security measures activated,&quot; he added. BT Openzone, which operates a vast proportion of public hotspots in the UK, told the BBC News website that it made every effort to make its wi-fi secure. &quot;Naturally, people may have security concerns,&quot; said Chris Clark, chief executive for BT&apos;s wireless broadband.&quot;But wi-fi networks are no more or less vulnerable than any other means of accessing the internet, like broadband or dial-up.&quot; He said BT Openzone, as well as others, have sophisticated encryption from the start of the login process to the service at a hotspot. &quot;This means that users&apos; personal information and data, logon usernames and passwords are protected and secure,&quot; said Mr Clark.In the vast majority of cases, base stations straight out of the box from the manufacturers are automatically set up with the least secure mode possible, said Dr Nobles. Cybercriminals who try to glean personal information using the scam, jam connections to a legitimate base station by sending a stronger signal near to the wireless client. Anyone with the right gear can find a real hotspot and substitute it with an evil twin. &quot;Cybercriminals don&apos;t have to be that clever to carry out such an attack,&quot; said Dr Phil Nobles, a wireless net and cybercrime expert at Cranfield. &quot;Because wireless networks are based on radio signals they can be easily detected by unauthorised users tuning into the same frequency.&quot;Although wi-fi is increasing in popularity as more people want to use high-speed net on the move, there have been fears over how secure it is. Some companies have been reluctant to use them in large numbers because of fears about security. A wireless network that is not protected can provide a backdoor into a company&apos;s computer system. Public wi-fi hotspots offered by companies like BT Openzone and The Cloud, are accessible after users sign up and pay for use. But many home and company wi-fi networks are left unprotected and can be &quot;sniffed out&quot; and hi-jacked by anyone with the correct equipment. &quot;BT advises that customers should change all default settings, make sure that their security settings on all equipment are configured correctly,&quot; said Mr Clark. &quot;We also advocate the use of personal firewalls to ensure that only authorised users can have access and that data cannot be intercepted.&quot; Dr Nobles is due to speak about wireless cybercrime at the Science Museum&apos;s Dana Centre in London on Thursday.</td></tr><tr><th>4</th><td>business</td><td>US bank in $515m SEC settlement</td><td>Five Bank of America subsidiaries have agreed to pay a total of $515m (Â£277m) to settle an investigation into fraudulent trading share practices.The US Securities and Exchange Commission announced the settlements, the latest in an industry-wide clean-up of US mutual funds. The SEC also said it had brought fraud charges against two ex-senior executives of Columbia Distributor. Columbia Distributor was part of FleetBoston, bought by BOA last year. Three other ex-Columbia executives agreed settlements with the SEC.The SEC has set itself the task of stamping out the mutual funds&apos; use of market-timing, a form of quick-fire, short-term share trading that harms the interests of small investors, with whom mutual funds are particularly popular. In the last two years, it has imposed penalties totalling nearly $2bn on 15 funds. The SEC unveiled two separate settlements, one covering BOA&apos;s direct subsidiaries, and another for businesses that were part of FleetBoston at the time. In both cases, it said there had been secret deals to engage in market timing in mutual fund shares. The SEC agreed a deal totalling $375m with Banc of America Capital Management, BACAP Distributors and Banc of America Securities. It was made up of $250m to pay back gains from market timing, and $125m in penalties. It is to be paid to the damaged funds and their shareholders. Separately, the SEC said it had reached a $140m deal - equally split between penalties and compensation - in its probe into Columbia Management Advisors (CAM) and Columbia Funds Distributor (CFD) and three ex-Columbia executives. These businesses became part of BOA when it snapped up rival bank FleetBoston in a $47bn merger last March.The SEC filed civil fraud charges in a Boston Federal court against James Tambone, who it says headed CFD&apos;s sales operations, and his alleged second in command Robert Hussey. The SEC is pressing for the highest tier of financial penalties against the pair for &quot;multiple violations&quot;, repayment of any personal gains, and an injunction to prevent future breaches, a spokeswoman for the SEC&apos;s Boston office told the BBC. There was no immediate comment from the men&apos;s&apos; lawyers. The SEC&apos;s settlement with CAM and CFD included agreements with three other ex-managers, Peter Martin, Erik Gustafson and Joseph Palombo, who paid personal financial penalties of between $50-100,000.</td></tr><tr><th>5</th><td>sport</td><td>Ronaldo considering new contract</td><td>Manchester United winger Cristiano Ronaldo said he is close to agreeing to a new contract at Old Trafford.The Portugal star, who joined in August 2003 on a five-year-deal, is a regular in the United first-team. &quot;The United board have already made an offer to renew the contract but I&apos;m trying not to think about it,&quot; he told the News of the World. &quot;My agent has spoken with the club and it will be resolved soon. I think we&apos;ll reach a good agreement for both sides.&quot; Ronaldo refused to commit his long-term future to the club.&quot;Nobody knows what will come tomorrow. I like being here, but who knows,&quot; he added. &quot;There aren&apos;t many bigger and better clubs than this one. It&apos;s my ambition to be at a big club. I&apos;m happy but nobody knows the future.&quot;</td></tr><tr><th>6</th><td>business</td><td>Arsenal &apos;may seek full share listing&apos;</td><td>Arsenal vice-chairman David Dein has said the club may consider seeking a full listing for its shares on the London Stock Exchange.Speaking at the Soccerex football business forum in Dubai, he said a full listing was &quot;one of the options&quot; for funding after the club moves to its new stadium. The club - which is currently listed on the smaller Ofex share exchange - is due to move into its new 60,000-seater Emirates Stadium at Ashburton Grove for the start of the 2006/07 season. Mr Dein also warned the current level of TV coverage of the Premiership may be reaching saturation level, with signs that match attendances have been dropping off in the first few months of this season.When Arsenal moves to its new stadium it will see its proportion of turnover from media earnings drop from 52% this season to 34% in two years&apos; time. The club is hoping to increase matchday earnings from 29% to 40% of turnover, and has not ruled out other money-earning means, including a full share listing. &quot;When the new stadium opens we will go through a thorough financial review,&quot; Mr Dein said.&quot;Listing would be one option, but we are flexible and no decisions have been made on that issue yet. &quot;We want to be in the best financial health - maybe clubs can do it (listing), Manchester United have been a success.&quot;Mr Dein said that, although television money and coverage had driven the English game forward in the past 10 years, he feared there might now be too many games being shown. Since the formation of the Premier League in season 1992/93, Premiership clubs have seen their income from television soar. &quot;Television has been the driving force over the past 10 years... but we must constantly improve if we want to remain as the world&apos;s leading league competition. &quot;We must monitor the quality of the product and ensure attendances do not decline, and we must balance that with the quantity of exposure on TV too. &quot;I think we have practically reached saturation point... sometimes I think less is more.&quot;The club is funding its move to Ashburton Grove through a number of sources, including debt from banks, from money it already has and will receive in coming years from sponsors, and from the sale of surplus property, including its Highbury Stadium. It is also looking to create new revenue streams from overseas markets, including Asia. &quot;We have two executives travelling round Japan and China at the moment building relationships with organisations and clubs, and we know our supporters clubs are growing there too, as they are around the world. &quot;We have got a very good product, so it is very important we go and look at these markets, and make sure we are on the case.&quot;</td></tr><tr><th>7</th><td>business</td><td>US insurer Marsh cuts 2,500 jobs</td><td>Up to 2,500 jobs are to go at US insurance broker Marsh &amp; McLennan in a shake up following bigger-than-expected losses.The insurer said the cuts were part of a cost-cutting drive, aimed at saving millions of dollars. Marsh posted a $676m (Â£352m) loss for the last three months of 2004, against a $375m (Â£195.3m) profit a year before. It blamed an $850m payout to settle a price-rigging lawsuit, brought by New York attorney general Elliot Spitzer. Under the settlement announced in January, Marsh took a pre-tax charge of $618m in the October-to-December quarter, on top of the $232m charge from the previous quarter. &quot;Clearly 2004 was the most difficult year in MMC&apos;s financial history,&quot; Marsh chief executive Michael Cherkasky said.An ongoing restructuring drive at the group also led to a $337m hit in the fourth quarter, the world&apos;s biggest insurer said.Analysts expect its latest round of cuts to focus on its brokerage unit, which employs 40,000 staff. The latest layoffs will take the total number of jobs to go at the firm to 5,500 and are expected to lead to annual savings of more than $375m. As part of its efforts to cut costs, the company said it was halving its dividend payment to 17 cents a shares from 34 cents, a move which should enable it to save $360m. Looking ahead, Mr Cherkasky forecast profitable growth for the year ahead &quot;with an operating margin in the upper-teens, and with the opportunity for further margin expansion&quot;. Meanwhile, the company also announced it would spin-off its MMC Capital private equity unit, which manages the $3bn Trident Funds operation, to a group of employees. Marsh did not say when the move would take place, but said it had signed a letter of intent.The insurer hit the headlines in October last year when it faced accusations of price rigging. New York Attorney General Elliot Spitzer sued the company, accusing it of receiving illegal payments to steer clients to selected firms as well as rigging bids and fixing prices. In January, Marsh agreed to pay $850m to settle the suit - a figure in line with the placement fees it collected in 2003 - and agreed to change its business practices. In February, a former senior executive pleaded guilty to criminal charges in a wide-ranging probe of fraud and bid-rigging in the insurance industry. In January, a former senior vice president also pleaded guilty to criminal charges related to the investigation. In an effort to reform its business practises, Marsh said it has already introduced new leadership, new compliance procedures and new ways of dealing with customers. &quot;As a result, we are ready to put these matters behind us and move ahead in 2005 to restore the trust our clients have placed in us and to rebuild shareholder value,&quot; Mr Cherkasky said.</td></tr><tr><th>8</th><td>sport</td><td>Robinson out of Six Nations</td><td>England captain Jason Robinson will miss the rest of the Six Nations because of injury.Robinson, stand-in captain in the absence of Jonny Wilkinson, had been due to lead England in their final two games against Italy and Scotland. But the Sale full-back pulled out of the squad on Wednesday because of a torn ligament in his right thumb. The 30-year-old will undergo an operation on Friday but England have yet to name a replacement skipper.Robinson said: &quot;This is very disappointing for me as this means I miss England&apos;s last two games in the Six Nations at Twickenham and two games for my club, Sale Sharks. &quot;But I&apos;m looking to be back playing very early in April.&quot;Robinson picked up the injury in the 19-13 defeat to Ireland at Lansdowne Road on Saturday. And coach Andy Robinson said: &quot;I am hugely disappointed for Jason. &quot;As England captain he has been an immense figure during the autumn internationals and the Six Nations, leading by example at all times. I look forward to having him back in the England squad.&quot; The announcement is the latest setback for Robinson&apos;s injury-depleted squad.Among the key figures already missing are Jonny Wilkinson, Mike Tindall, Will Greenwood, Julian White and Phil Vickery - a list which leaves Robinson short on candidates for the now vacant captaincy role. Former England skipper Jeremy Guscott told BBC Radio Five Live his choice would be Matt Dawson, even though he is does not hold a regular starting place.&quot;The obvious choice is Dawson&quot; said Guscott. &quot;Especially given that Harry Ellis did not have his best game at scrum-half on Saturday. &quot;Dawson has the credentials and the experience, even though his winning record at captain is not great. &quot;The other option in Martin Corry, who is the standout forward at the moment. &quot;Unfortunately England cannot rely on leaders on the field at the moment.&quot; England will announce their squad for the 12 March game against Italy on Saturday.</td></tr><tr><th>9</th><td>business</td><td>S Korean consumers spending again</td><td>South Korea looks set to sustain its revival thanks to renewed private consumption, its central bank says.The country&apos;s economy has suffered from an overhang of personal debt after its consumers&apos; credit card spending spree. Card use fell sharply last year, but is now picking up again with a rise in spending of 14.8% year-on-year. &quot;The economy is now heading upward rather than downward,&quot; said central bank governor Park Seung. &quot;The worst seems to have passed.&quot; Mr Park&apos;s statement came as the bank decided to keep interest rates at an all-time low of 3.25%. It had cut rates in November to help revive the economy, but rising inflation - reaching 0.7% month-on-month in January - has stopped it from cutting further. Economic growth in 2004 was about 4.7%, with the central bank predicting 4% growth this year. Other indicators are also suggesting that the country is inching back towards economic health. Exports - traditionally the driver for expansion in Asian economies - grew slower in January than at any time in 17 months. But domestic demand seems to be taking up the slack. Consumer confidence has bounced back from a four-year low in January, and retail sales were up 2.1% in December. Credit card debt is falling, with only one in 13 of the 48 million cards now in default - down from one in eight at the end of 2003. One of its biggest card issuers, LG Card, was rescued from collapse in December, having almost imploded under the weight of its customers&apos; bad debts. The government last year tightened the rules for card lending to keep the card glut under control.</td></tr><tr><th>10</th><td>business</td><td>S Korean lender faces liquidation</td><td>Creditors of South Korea&apos;s top credit card firm have said they will put the company into liquidation if its ex-parent firm fails to back a bail-out.LG Card&apos;s creditors have given LG group until Wednesday to sign up to a $1.1bn rescue package. The firm avoided bankruptcy thanks to a $4.5bn bail-out in January 2004, which gave control to the creditors. LG Group has said any package should reflect the firm&apos;s new ownership, and it will not accept an unfair burden. At least seven million people in South Korea use LG Card&apos;s plastic for purchases.LG Card&apos;s creditors have threatened parent group LG Group with penalties if it fails to respond to their demands.&quot;Creditors would seek strong financial sanctions against LG Group if LG Card is liquidated,&quot; said Yoo Ji-chang, governor of Korean Development Bank (KDB) - one of the card firm&apos;s major creditors. LG Group has said providing further help to the credit card issuer could hurt its corporate credibility and could spark shareholder lawsuits. It says it wants &quot;fair and reasonable guidelines&quot; on splitting the financial burden with the creditors, who now own 99.3% of LG Card. The creditors have asked the government to mediate to avoid any risk to the stability of financial markets, KDB said. Analysts believe a compromise is likely. &quot;LG Group knows the impact on consumer demand and the national economy from a liquidation of LG Card,&quot; said Kim Yungmin, an equity strategist at Dongwon Investment Trust Management.LG Card almost collapsed in 2003 due to an increase in overdue credit card bills after the bursting of a credit bubble. The firm returned to profit in September 2004, but now needs a capital injection to avoid being delisted from the Korea Stock Exchange. The exchange can delist a company if its debt exceeds its assets for two years running. LG card&apos;s creditors fear that such a move would triggered massive debt redemption requests that could bankrupt the firm, which owes about $12.05bn. &quot;Eventually, LG Group will have to participate, but they have been stalling to try to earn better concessions,&quot; said Mr Kim.</td></tr><tr><th>11</th><td>politics</td><td>Candidate resigns over BNP link</td><td>A prospective candidate for the UK Independence Party (UKIP) has resigned after admitting a &quot;brief attachment&quot; to the British National Party(BNP).Nicholas Betts-Green, who had been selected to fight the Suffolk Coastal seat, quit after reports in a newspaper that he attended a BNP meeting. The former teacher confirmed he had attended the meeting but said that was the only contact he had with the group. Mr Betts-Green resigned after being questioned by the party&apos;s leadership. A UKIP spokesman said Mr Betts-Green&apos;s resignation followed disclosures in the East Anglian Daily Times last month about his attendance at a BNP meeting. &quot;He did once attend a BNP meeting. He did not like what he saw and heard and will take no further part of it,&quot; the spokesman added. A meeting of Suffolk Coastal UKIP members is due to be held next week to discuss a replacement. Mr Betts-Green, of Woodbridge, Suffolk, has also resigned as UKIP&apos;s branch chairman.</td></tr><tr><th>12</th><td>sport</td><td>English clubs make Euro history</td><td>All four of England&apos;s Champions League representatives have reached the knockout stages for the first time.Arsenal and Chelsea are seeded as group winners, while runners-up Manchester United and Liverpool are not. Rules stipulate that teams from the same country or group will be kept apart in the draw on 17 December. The favourites are Chelsea and Barcelona, and Real Madrid, the two Milan sides, Juventus and Bayern Munich are among the 16 still in the hat.Steven Gerrard&apos;s last-gasp wonder-strike secured qualification foragainst Olympiakos on Wednesday evening.AC Milan, Bayer Leverkusen, Internazionale, Juventus, Lyon.who had already qualified, fielded a second-string side and went down 3-0 to Fenerbahce.AC Milan, Bayer Leverkusen, Internazionale, Juventus, Monaco.On Tuesday,finished top of their group with a 5-1 win over the Rosenborg after drawing four of their first five matches.Barcelona, Bayern Munich, Porto, Real Madrid, Werder Bremen, who had already qualified lost 2-1 to Porto as Jose Mourinho made an unhappy return to his former club.Barcelona, Bayern Munich, PSV Eindhoven, Real Madrid, Werder Bremen.</td></tr><tr><th>13</th><td>sport</td><td>Hearts of Oak 3-2 Cotonsport</td><td>Hearts of Oak set up an all Ghanaian Confederation Cup final with a 3-2 win over Cameroon&apos;s Cotonsport Garoua in Accra on Sunday.The win for Hearts means they will play Asante Kotoko in the two-leg final, after the Kumasi team qualified from Group A on Saturday. In the other Group B game Cameroon&apos;sbeatof South Africa 3-2 in Douala, neither side could have qualified for the final. Hearts of Oak started the game needing a win to qualify for the final while Cotonsport only needed to avoid defeat to go through. Louis Agyemang scored the first two goals for Hearts either side of half time before Ben Don Bortey scored the third. Hearts looked set for a comfortable win but Cotonsport staged a late fight back scoring twice late on. First of all Boukar Makaji scored in the 89th minute and then 3 minutes into injury time at the end of the game Andre Nzame III was on target. But it was too little too late for the Cameroonians and Hearts held on to win the game and a place in the final. The first leg of the final will be played in Accra on the weekend of 27-28 November and the second leg two weeks later on the 11 December in Kumasi. In the other Group B game Cameroon&apos;s Sable Batie took the lead in the 35th minute through Kemadjou before Santos equalised on the hour mark thanks to Thokozani Xaba . Bernard Ngom put Sable ahead just five minutes later and then Ernest Nfor settled the game on 68 minutes. Ruben Cloete scored the South African sides consolation with just three minutes left on the clock.</td></tr><tr><th>14</th><td>sport</td><td>Funding cut hits Wales Students</td><td>The Wales Students rugby side has become a casualty of the Welsh Rugby Union&apos;s reorganisation at youth level.An amalgamated Under-18 side formed from separate schools and national youth teams plays its first match on Thursday, against Italy at the Gnoll. But that move has seen the WRU decide to end its funding of representative sides such as Wales Students. As a result, traditional international fixtures against England and France in the New Year have been cancelled. The Welsh Students Rugby Football Union feels that it is unable to properly prepare for or stage the matches. The secretary of the Welsh Students Rugby Football Union, Reverend Eldon Phillips, said: &quot;It is a shame that fixtures cannot be maintained this year. &quot;The competition provided by the strong English and French teams has enabled the Welsh Students to test themselves in high quality matches. &quot;The increasing number of young rugby players entering Higher Education look for the biggest challenge, that is representative rugby, but this year that opportunity will be denied them. Players who have played for Wales Students before going on to win full senior representative honours include Robert Jones, Rob Howley, Jon Humphreys, Darren Morris, Martyn Williams and Ceri Sweeney.</td></tr><tr><th>15</th><td>entertainment</td><td>Vera Drake leads UK Oscar hopes</td><td>Mike Leigh&apos;s film Vera Drake will lead British hopes at this year&apos;s Academy Awards after getting three nominations.Imelda Staunton was nominated for best actress for her role in the abortion drama, while Leigh received nods for best director and original screenplay. Kate Winslet was also nominated in the best actress category for her role in Eternal Sunshine of the Spotless Mind. And Clive Owen and Sophie Okonedo both got nominated for supporting roles in Closer and Hotel Rwanda respectively. Owen has already been made bookmakers&apos; favourite for best supporting actor for the role in Closer that has already clinched him a Golden Globe award.And it is the first nomination for actress Okonedo, chosen for her performance in Hotel Rwanda, about the 1994 Rwandan genocide. It is also a debut nomination for Staunton, 49, who told BBC News 24 she had not thought the film would appeal to Academy voters. &quot;It was an extraordinary time making the film and I can&apos;t believe what has happened this morning,&quot; she said. &quot;I hope it just shows Mike up to be the extraordinary filmmaker he is. &quot;We are also dealing with a very difficult subject matter and it is amazing to have it accepted in this way.&quot; Leigh, who had previously received three Oscar nominations for Secrets and Lies and Topsy Turvy, told BBC News 24 the latest success was &quot;amazing&quot;. He said: &quot;We hoped that Imelda Staunton would get a nomination but I never expected to get director and screenplay. It&apos;s just absolutely wonderful.&quot;I think people are aware that it&apos;s about life - and I hope it is the warmth and compassion that really talks to people.&quot; Winslet said she was &quot;ecstatic&quot; about the fourth nomination of her career. &quot;Being nominated means so much to me. To be nominated for a film that was released a while ago, I feel so honoured and overwhelmed,&quot; she said. John Woodward, chief executive of the UK Film Council, said it was &quot;extremely heartening&quot; to see British filmmaking talent recognised on the global stage. &quot;Britain has a hugely talented industry and these nominations show why National Lottery investment in film pays major dividends for our culture and economy.&quot; Among a total of 24 British nominees, composer Andrew Lloyd Webber and lyricist Charles Hart are up for best original song for Learn To Be Lonely, from The Phantom of the Opera movie.Cinematographer John Mathieson, who was nominated for Gladiator in 2001, is also up for The Phantom of the Opera. And Finding Neverland has garnered two more nominations for Brits. Gemma Jackson, who has also worked on Bridget Jones&apos;s Diary and Iris, is up for art direction while costume designer Alexandra Byrne, whose previous films have included Captain Corelli&apos;s Mandolin and Elizabeth, is in the running. The UK has two contenders in the best live action short film category. Wasp was made by ex-children&apos;s TV presenter Andrea Arnold while Little Terrorist is the work of Ashvin Kumar. This year&apos;s awards will be handed out in Hollywood on 27 February.</td></tr><tr><th>16</th><td>entertainment</td><td>Sundance to honour foreign films</td><td>International films will be given the same prominence as US films at next year&apos;s Sundance Film Festival, with movies dominated by the theme of war.The independent film festival will feature two new international cinema competitions, during its 20-30 January season in Utah. Forty-two films will debut at Sundance, including The Liberace of Baghdad by British director Sean McAllister. The prestigious festival was founded by actor Robert Redford in 1981.&quot;We have always had an international component, but from next year they will enter a jury competition,&quot; festival director Geoffrey Gilmore said. &quot;We wanted to give world cinema more emphasis and have now put it on par with the American dramatic and documentary competitions.&quot; Twelve films competing in the new world cinema documentary category focus on countries and people under siege.The Liberace of Baghdad features an Iraqi pianist hiding in a hotel as he waits for a visa, while Finnish film The Three Rooms of Melancholia looks at the war in Chechnya. Shake Hands With The Devil: The Journey of Romeo Dallaire tells of a UN mission to Rwanda during the 1994 genocide, while French-Israeli production Wall looks at Israel&apos;s controversial security wall separating it from the Palestinian territories. The 16 films competing in the new world cinema dramatic category include works from Germany, South Korea, Angola, China, Denmark and Australia.Several Hollywood stars feature in the festival&apos;s American independent drama category, including Keanu Reeves and Benjamin Bratt. Vince Vaughn stars in quirky movie Thumbsucker while 21 Grams actress Naomi Watts plays a budding Hollywood actress in Ellie Parker. The top Grand Jury prize at this year&apos;s festival went to low budget sci-fi thriller Primer, written and directed by Shane Carruth. Morgan Spurlock earned the directing award for Super Size Me, which became an international box office hit.</td></tr><tr><th>17</th><td>entertainment</td><td>Black Sabbath top rock album poll</td><td>Black Sabbath have topped a list of the best British rock albums of all time.The band once fronted by Ozzy Osbourne led a poll of Kerrang! magazine readers with their 1970 self-titled debut. The band have three more efforts on the list, including fifth-placed Paranoid. Osbourne appears more than any other act, with two solo records featured. The top five includes Led Zeppelin, Iron Maiden and Sex Pistols. Queen, Muse, Manic Street Preachers and The Clash complete the top 10. A mix of heavy metal, punk, glam rock and even dance music makes up the list. Motorhead, Judas Priest and Prodigy are included along with newer acts like The Darkness and Lostprophets.Kerrang! editor Ashley Bird said: &quot;It&apos;s amazing to see so many incredible homegrown albums in one list, and without any of the abysmal fashion bands that currently clog up the music scene. &quot;These are the real opinions of proper rock fans.&quot;Formed by four teenage friends in the West Midlands in the late 1960s, Black Sabbath are one of Britain&apos;s most successful heavy rock bands. Their debut was a UK top 10 hit in 1970 and sold more than a million copies in the US. Osbourne said the band&apos;s success in the Kerrang! poll was a triumph for British rock. He said: &quot;Back then you&apos;d hear: &apos;If you go to San Francisco, be sure to wear a flower in your hair&apos;. &quot;We lived in Aston, Birmingham. The only flowers I ever saw were on a gravestone in our local cemetery.&quot; Despite being disliked by many critics, Black Sabbath&apos;s subsequent albums included multi-million sellers but internal rows led to Osbourne leaving in 1979. The band continued without Osbourne, who went on to solo success but also had to battle alcoholism and legal action over his music allegedly inciting teenagers to commit suicide. He was eventually cleared of the charges. Osbourne, who bit off the head of a live bat on stage in 1982, rejoined the band to play the Live Aid charity concert in 1985. After many changes in line-up, the original four members reunited to play live dates in 1997. Black Sabbath have reunited regularly in recent years while Osbourne has gone on to wider fame with his family through MTV documentary series The Osbournes.</td></tr><tr><th>18</th><td>sport</td><td>Campbell rescues Arsenal</td><td>Sol Campbell proved to be an unlikely match-winner to earn Arsenal a hard-fought win at Portsmouth.The England defender lashed home a 25-yard shot for his first goal in 16 months to take Arsenal back into second spot, five points behind Chelsea. But before Campbell scored the best two chances of the game fell to Pompey striker Ricardo Fuller. In the first half he blasted wide when clear, and his control let him down in the second half when well placed. Portsmouth got plenty of bodies behind the ball to deny Arsenal space in the early stages. But their marking was slack at a corner and Patrick Vieira should have done better when the ball fell to him 16 yards out. A mistake by Arjan de Zeeuw let Thierry Henry in behind the Pompey defence on 17 minutes but as he bore down on goal Linvoy Primus got in a saving tackle. With just Fuller as an out-and-out striker, Portsmouth&apos;s shape made life difficult for Arsenal. But a delightful touch by Robin van Persie gave Henry a sight of goal, although the angle was too tight for his shot to trouble Jamie Ashdown.Ashdown caused hearts to flutter on 28 minutes when he missed his punch at a corner and Kolo Toure headed just wide and, as Arsenal began to press, Van Persie blasted over a good opportunity after Henry had set him up. Henry took a quick return pass from Vieira but Ashdown was out quickly to block, and there were some anxious seconds for Pompey as the ball ran loose before Matthew Taylor cleared. After playing second fiddle, Portsmouth should have taken the lead on 34 minutes. Referee Howard Webb played a good advantage to allow Steve Stone to send Gary O&apos;Neil away but, having shrugged off Toure, the Pompey midfielder planted his shot wide from 10 yards. As half-time approached, Henry teased a shot through a ruck of players and inches wide. At the other end, Fuller broke clear but failed to hit the target as Toure closed him down.Fuller was given the best chance of the match so far on 48 minutes when Patrik Berger&apos;s break and slipped pass played him clear. But a poor first touch lost him the opportunity and even when he checked back and went down under Vieira&apos;s challenge, referee Webb was not interested. Fuller paid the price when he gave way on 55 minutes to Aiyegbeni Yakubu, who returned after six weeks out with a knee injury. But it needed alert reflexes and safe handling from Ashdown to cling on to Van Persie&apos;s shot as Henry sniffed for scraps.Portsmouth were growing in confidence and keeper Manuel Almunia had to stand his ground to beat away a powerful shot from Berger. Arsenal were struggling to find their rhythm but took the lead through the unlikely source of Campbell. The England defender needed little invitation as Pompey backed off to stride forward and lash a ferocious shot past Ashdown. Arsenal might have stretched their lead two minutes later when Mathieu Flamini escaped his marker to flash a header wide from Henry&apos;s free-kick. Almunia went full length to grab Berger&apos;s long-range shot, while Ashdown palmed away substitute Dennis Bergkamp&apos;s shot.Ashdown, Griffin, De Zeeuw, Primus, Taylor, Stone, O&apos;Neil, Faye (Berkovic 83), Berger, LuaLua, Fuller (Yakubu 55).Subs not used: Hislop, Quashie, Cisse.Almunia, Lauren, Toure, Campbell, Cole, Pires, Flamini, Vieira, Clichy, Van Persie (Bergkamp 68), Henry.Subs not used: Lehmann, Fabregas, Senderos, Hoyte.Cole.Campbell 75.20,170.H Webb (S Yorkshire).</td></tr><tr><th>19</th><td>politics</td><td>MPs to debate &apos;euthanasia laws&apos;</td><td>MPs are preparing to debate a bill which critics claim would legalise euthanasia &quot;by the back door&quot;.The bill would give legal force to &quot;living wills&quot;, where people say they want medical treatment withheld if they become severely incapacitated. The Mental Capacity Bill has broad support from charities who say it would give better safeguards over treatment. But Christian groups say it could mean doctors withholding food and fluids even if they think it inappropriate.Ministers insist the Mental Capacity Bill - for England and Wales - would not change laws on assisted suicide and contains a presumption in favour of preserving life.The bill would establish a legal presumption that everybody can make decisions about their own treatment unless proved otherwise. It would allow people to give somebody the power of attorney to make decisions on their behalf, which could be challenged by doctors. Critics fear it could allow &quot;killing by omission&quot; through withdrawing treatment. An amendment to the bill - specifically preventing decisions that would bring about death - has been tabled by former Conservative leader Iain Duncan Smith. Ninety one MPs have signed a petition backing the amendment. MPs could vote on it later on Tuesday, during the bill&apos;s report stage debate. The Bill will then go to a third reading and be debated in the Lords, before becoming law.The Christian Medical Fellowship (CMF) and Lawyers&apos; Christian Fellowship (LCF) said the Mental Capacity Bill would allow euthanasia by the &quot;back door&quot;. Peter Saunders of the CMF said it believed advance refusals should be only advisory, not legally binding. &quot;CMF is concerned that patients will make unwise and hasty advance decisions to refuse food and fluids without being properly informed about the diagnosis and the expected course their illness will take,&quot; he said.The LCF&apos;s Andrea Williams said there were &quot;too many loopholes that could be abused by unscrupulous doctors&quot;. Ex-Labour minister Frank Field told BBC Two&apos;s Newsnight programme there was a danger people would feel under pressure to &quot;do away&quot; with themselves so relatives could inherit their assets.Constitutional Affairs Minister David Lammy said laws affecting 750,000 people with dementia needed updating. Mr Lammy told BBC News Labour MPs would not get a free vote as the law was being strengthened, not changed. &quot;We are against euthanasia, we are against assisted suicide but we are in a situation now where people can make living wills and that has the force of the common law,&quot; he said. &quot;Doctors are saying they want more clarity. Patients are saying they want more clarity.&quot; The Making Decisions Alliance, which includes the Alzheimer&apos;s Society, Age Concern, Mencap and the National Autistic Society, said misunderstandings over the bill had to be cleared up. &quot;It will not change the current law on euthanasia and will actually provide a series of better safeguards when decisions are made for people who lack capacity,&quot; the alliance said in a statement. The British Medical Association also backs the bill, saying it just gives incapacitated people the same rights as others. Debate on legalising euthanasia has intensified in the UK because of cases like that of motor neurone patient Diane Pretty. She died two years ago after losing a legal battle to allow her husband to help her commit suicide.</td></tr><tr><th>20</th><td>sport</td><td>Adriano&apos;s Chelsea link rejected</td><td>Adriano&apos;s agent Gilmar Rinaldi has insisted that he has had no contact with Chelsea over the striker.Chelsea were reported to have made inquiries about Inter Milan&apos;s 22-year-old Brazilian star. Rinaldi told BBC Sport from Rio de Janeiro: &quot;I can assure you that Chelsea have had no dealings whatsoever with either me or Adriano. &quot;Parma and Real Madrid are interested but there&apos;s nothing new there. Their interest has been known for some time.&quot; Adriano has scored 14 goals in 20 Serie A appearances this season. And Chelsea boss Jose Mourinho had claimed that he was in Milan talking to Adriano on the day he is alleged to have held a clandestine meeting with Arsenal defender Ashley Cole. Mourinho said he was &quot;just practising my Portuguese with him because I don&apos;t need strikers&quot;. Rinaldi told BBC Sport: &quot;I have to say that nobody from Chelsea or any other London club has contacted me. &quot;If they want to, that&apos;s fine. I can tell them what the situation is. &quot;If Chelsea are interested then they must make an offer.&quot; Inter are reported to have slapped a price tag in the region of Â£40m on the head of Adriano, who joined them just over a year ago from Parma. Real Madrid view him as a natural replacement for compatriot Ronaldo. But Rinaldi said: &quot;I cannot give you a price that Inter would accept for Adriano. That&apos;s something that would have to be negotiated between the interested clubs.&quot;</td></tr><tr><th>21</th><td>sport</td><td>White prepared for battle</td><td>Tough-scrummaging prop Julian White is expecting a resurgent Wales to give him a rough ride in England&apos;s Six Nations opener in Cardiff on Saturday.The Leicester tight-head is in the form of his life, making the England number three shirt his own. But he knows Wales will put his technique under immense scrutiny. &quot;The Welsh scrum is a force to be reckoned with,&quot; he told BBC Sport. &quot;They have made a lot of changes for the better over the last few years.&quot; White is also impressed with the Welsh pack&apos;s strength in depth. &quot;Gethin Jenkins is starting at loose-head for them. He has played a bit at tight-head but I think his favoured position is loose-head and he is very good,&quot; he added. The 31-year-old has made a massive contribution to the England and Leicester cause of late and is arguably the form tight-head prop in the world.He destroyed South Africa&apos;s Os du Randt in the scrum at Twickenham last autumn to give England the platform for an impressive 32-16 victory. Leicester, who signed White from Bristol when the West Country side were relegated from the Zurich Premiership in the summer of 2003, have also been aided by White&apos;s presence this season. The Tigers are sitting pretty at the top of the Premiership table and have also booked their place in the last eight of the Heineken Cup. &quot;I am pleased with my form,&quot; he said. &quot;But my form is helped by the people I play with at Leicester - people like Martin Johnson and Graham Rowntree. &quot;It&apos;s been a good season so far and to be in the starting XV for the first game of the Six Nations is what every player wants. &quot;I am delighted with the way things have gone but we have to get it right this weekend.&quot; White is now one of the more experienced members of the England squad which takes to the field on Saturday. Injuries have taken their toll and coach Andy Robinson has been deprived of Richard Hill, Jonny Wilkinson, Martin Corry, Mike Tindall, Will Greenwood and Stuart Abbott.And with 27 caps and a World Cup winner&apos;s medal to his name, White is now in a position to offer his experience to youngsters such as centres Matthew Tait and Jamie Noon. &quot;I don&apos;t know how much experience a tight-head can give a centre but you are there to give them a pat on the back if things go wrong or to be there if they want to talk in any way,&quot; he added. &quot;When I first came into the squad, people like Jason Leonard and Martin Johnson were the first to come over and talk through things and help out.&quot;It gives you a lot of confidence when people like that speak to you. &quot;I was in awe of a lot of them so to sit down and speak with them and realise you are on the same wavelength is good.&quot; White missed the vast majority of last year&apos;s Six Nations because of a knee injury and is raring for the 2005 event to get going. And that is despite the opening game taking place amid the red-hot atmosphere in Cardiff. &quot;I enjoy the atmosphere. The Millennium Stadium is probably one of the best stadiums in the world,&quot; he said. &quot;To go down there and hear the shouting and the singing - it&apos;s one of my favourite places to play. &quot;This is probably the most even Six Nations for a long time. England, Ireland, France and Wales are all contenders. &quot;On form, Ireland should be favourites but you just don&apos;t know - that&apos;s the great thing about this tournament.&quot;</td></tr><tr><th>22</th><td>entertainment</td><td>Campaigners attack MTV &apos;sleaze&apos;</td><td>MTV has been criticised for &quot;incessant sleaze&quot; by television indecency campaigners in the US.The Parents Television Council (PTC), which monitors violence and sex on TV, said the cable music channel offered the &quot;cheapest form&quot; of programming. The group is at the forefront of a vociferous campaign to clean up American television. But a spokeswoman for MTV said it was &quot;unfair and inaccurate&quot; to single out MTV for criticism.The PTC monitored MTV&apos;s output for 171 hours from 20 March to 27 March 2004, during the channel&apos;s Spring Break coverage. In its report - MTV Smut Peddlers: Targeting Kids with Sex, Drugs and Alcohol - the PTC said it witnessed 3,056 flashes of nudity or sexual situations and 2,881 verbal references to sex. Brent Bozell, PTC president and conservative activist said: &quot;MTV is blatantly selling raunchy sex to kids. &quot;Compared to broadcast television programmes aimed at adults, MTV&apos;s programming contains substantially more sex, foul language and violence - and MTV&apos;s shows are aimed at children as young as 12. &quot;There&apos;s no question that TV influences the attitudes and perceptions of young viewers, and MTV is deliberately marketing its raunch to millions of innocent children.&quot;The watchdog decided to look at MTV&apos;s programmes after Janet Jackson&apos;s infamous &quot;wardrobe malfunction&quot; at last year&apos;s Super Bowl. The breast-baring incident generated 500,000 complaints and CBS - which is owned by the same parent company as MTV - was quick to apologise. MTV spokeswoman Jeannie Kedas said the network follows the same standards as broadcasters and reflects the culture and what its viewers are interested in. &quot;It&apos;s unfair and inaccurate to paint MTV with that brush of irresponsibility,&quot; she said. &quot;We think it&apos;s underestimating young people&apos;s intellect and level of sophistication.&quot; Ms Kedas also highlighted the fact MTV won an award in 2004 for the Fight for Your Rights series that focused on issues such as sexual health and tolerance.</td></tr><tr><th>23</th><td>entertainment</td><td>Douglas set for Indian adventure</td><td>Actor Michael Douglas is to co-produce and star in an adventure film about a diamond robbery set in India.The new picture is expected to be similar to Douglas&apos;s action films of the 1980s, Romancing The Stone and The Jewel Of The Nile. Another Hollywood star is being lined up to co-star, while the rest of the cast will be Indian. Aishwarya Rai, star of Bride and Prejudice, is the &quot;preferred choice&quot; of the Indian studio involved in the film.On a visit to India, the 60-year-old actor said he hoped to start shooting Racing The Monsoon next year. Douglas added that it had been inspired by a Wall Street Journal article about India&apos;s &apos;angadias&apos;, who courier money and diamonds around India.The actor&apos;s own production company, Further Films, is working in partnership with two Indian film-making concerns to bring the picture to the screen. Shailendra Singh, the founder of India&apos;s Percept Films, said there would be &quot;a lot of India&quot; in the movie - and that an Indian train would play a big role. &quot;The train will be a crucial part of the film. The chase and most of the stunts will be on the train,&quot; said Mr Singh. Swashbuckling adventure film Romancing The Stone saw Douglas&apos;s female co-star Kathleen Turner win a Golden Globe award for her performance in 1985.</td></tr><tr><th>24</th><td>sport</td><td>Moya emotional after Davis Cup win</td><td>Carlos Moya described Spain&apos;s Davis Cup victory as the highlight of his career after he beat Andy Roddick to end the USA&apos;s challenge in Seville.Moya made up for missing Spain&apos;s 2000 victory through injury by beating Roddick 6-2 7-6 (7-1) 7-6 (7-5) to give the hosts an unassailable 3-1 lead. &quot;I have woken up so many nights dreaming of this day,&quot; said Moya. &quot;All my energy has been focused on today. &quot;What I have lived today I do not think I will live again.&quot; Spain&apos;s only other Davis Cup title came two years ago in Valencia, when they beat Australia. And Moya, nicknamed Charly, admitted: &quot;The Davis Cup is my dream and I was a bit nervous at the outset. &quot;Some people have said that I am obsessed but I think that it is better this way. It helps me reach my goals if I am obsessed. &quot;It&apos;s really incredible - to get the winning point is really something.&quot; Spanish captain Jordi Arrese said: &quot;Charly played a great game. It was his opportunity and he hasn&apos;t let us down. &quot;He had lost three times to Roddick, and this was his day to beat him. &quot;He had been waiting years to be in this position.&quot; Spain&apos;s victory was also remarkable for the performance of Rafael Nadal, who beat Roddick in the opening singles.Aged 18 years and 185 days, the Mallorcan became the youngest player to win the Davis Cup. &quot;What a great way to finish the year,&quot; said Nadal afterwards. US coach Patrick McEnroe wants Roddick and the rest of his team to play more tennis on clay and hone their skills on the surface. &quot;I think it will help these guys even on slow hard courts to learn how to mix things up a little bit and to play a little bit smarter and tactically better.&quot; &quot;Obviously it&apos;s unrealistic to say that we&apos;re going to just start playing constantly on clay, with the schedule. &quot;But certainly I think we can put the work in at the appropriate time and play a couple more events and play against these guys who are the best on this stuff,&quot; said McEnroe. Roddick was left frustrated after losing both his singles on the slow clay of Seville&apos;s Olympic Stadium. &quot;It&apos;s just tough because I felt like I was in it the whole time against one of the top three clay-courters in the world,&quot; said the American. &quot;I had my chances and just didn&apos;t convert them. The bottom line is they were just better than us this weekend. &quot;They came out, took care of business and they beat us. It&apos;s as simple as that.&quot;</td></tr><tr><th>25</th><td>tech</td><td>Broadband soars in 2004</td><td>If broadband were a jumbo jet, then 2003 would have seen it taxiing down the runway, firing up its engines and preparing for take-off. But this year has seen it soar.In the spring it literally took to the skies as Lufthansa and British Airways trialled it on flights. This perhaps said more about how indispensable people were beginning to perceive the technology, rather than how useful sky-high broadband would actually be. It was flying high and by the autumn, five million Britons had signed up for high-speed net access at home.Such enthusiasm is unlikely to dampen any time soon and experts predict that by the end of next year the numbers will have risen to more than eight million, or more than 30% of homes. The two key factors in whetting people&apos;s appetite were falling prices and a huge marketing push. When operators such as BT and Telewest offered standard 512K broadband for less than Â£20 at the beginning of the year, it was as if an invisible barrier had been breached - broadband had truly gone mass market. A feeding frenzy followed as firms vied for eyeballs in a price war reminiscent of that following the mass market take-up of dial-up. Broadband for less than Â£10 was even touted by some firms, although such a low price raised eyebrows among more established companies questioning how they are able to sustain such business models.For those who became broadbanders in 2004 there was no turning back and the days of waiting for the modem to kick in began to seem as outdated an idea as a jungle without celebrities. The rest of the world was also falling in love with the benefits of fast internet access, to the tune of 100 million connections worldwide by April, prompting research firm Point Topic to declare it one of the fastest growing technologies ever. By September, the number of broadband connections in the UK finally overtook dial-up and in December BT announced that it was making a new broadband connection every 10 seconds.Broadband was being mentioned on the 10 O&apos;clock News and in the tabloids; the Sun even carried a cartoon joke about it. But two of the most significant pieces of news for broadband were items that did not make the headlines. In May, BT quietly announced that it was shaving 70% off the cost of allowing other operators access to its telephone exchanges, so-called local loop unbundling. The vital local loop is the crucial link between telephone exchanges and homes. At the moment BT has a stranglehold on more than 80% of these lines making it the key voice in deciding what ADSL products get into homes. With cheaper local loop unbundling, rivals to BT can offer faster services that will leave the broadband of today looking positively tortoise-like. It will mean the UK will finally catch up with countries such as France and the Netherlands, where homes are routinely enjoying speeds of up to 15Mb (megabits per second). And the major price fall means that, rather than just talk about it, companies are actually starting to get their own equipment into BT&apos;s exchanges. It may not seem that exciting but it is a remarkable transition given that just a few years ago the arguments over local loop unbundling bore more than a passing resemblance to the Northern Ireland peace talks - fraught, bitter and with no end in sight.Another big piece of news for broadband users in 2004 was the extension of BT&apos;s reach, meaning more than 95% of the population could get broadband, regardless of how far away from the exchange they lived.There was a slight caveat for those wanting to upgrade to 1Mbps broadband, they still have to live within six kilometres of a broadband-enabled exchange. For thousands frustrated by their inability to get the technology, the news meant they could finally join in. Broadband is not just about fast access over the telephone and cable operators NTL and Telewest also had a bumper year. The biggest news for them was increased speeds, introducing 2Mb and 3Mb services for users and offering a free upgrade to those on 512K. The cable operators are limited in their reach and it is perhaps testament to how big a deal local loop unbundling could become that even they are considering extending their range via this route. Broadband can seem confusing for consumers, with the huge amount of operators offering so many different products, some with capped bandwidth and different length contracts and set-up fees. It is unlikely to get any less easy to understand in 2005 but remains a plane worth catching. As it gets faster and offers extras such as cheap telephone calls online, the only real thing to remember for the coming year is to enjoy the ride.</td></tr><tr><th>26</th><td>politics</td><td>Howard rebuts asylum criticisms</td><td>Tory leader Michael Howard has gone on the offensive in response to people questioning how a son of immigrants can propose asylum quotas.Mr Howard, whose parents fled the Nazi threat to come to the UK, says the claim would mean no-one from an immigrant family could become premier. His comments come in a BBC documentary called &apos;No More Mr Nasty&apos;. TV presenter Anne Robinson said as home secretary he gave the impression he would &quot;like to kick your cat&quot;. Ms Robinson, a friend of the Tory leader, also revealed that as a Cambridge student Mr Howard was &quot;much loved by women and he was a courteous and kind and rather dashing lover&quot; - although she denied having personal experience. &quot;I wasn&apos;t at Cambridge - and it&apos;s not personal experience - but I know people who were.&quot;Documentary maker Michael Cockerell was given behind-the-scenes access to Mr Howard for his film portrait. The Tory leader was asked about to respond to people who said that if there had there been a quota on immigration and asylum in the 1930s, his parents might not have been allowed into the country.He replies: &quot;What is the inference of that? &quot;That if you reach the view that you need to control immigration in the interests of the country you&apos;re not allowed to put a view forward if you happen to be descended from immigrants? &quot;That seems to me an absolutely extraordinary proposition? It would certainly mean no one from immigrant parents could be prime minister.&quot;Ms Robinson, who presents The Weakest Link tells Cockerell that she despaired at his hardline image when he was home secretary in John Major&apos;s government. &quot;I used to have to sit on my hands because he&apos;d get on television and give a passable impression of someone who&apos;d like to kick your cat or would put your baby in prison if he cried. I mean it was very, very Draconian.&quot; The film shows Mr Howard laughing at Rory Bremner&apos;s impression of him as Dracula, which he calls &quot;good fun&quot;, apart from the serious falsehood of a comment suggesting he wants fewer black people in the UK. The film shows the private side of the Tory leader watching television at home or playing table tennis with his wife, ex-model Sandra. Asked if she enjoys a game of ping pong she confesses: &quot;Yeah, it would be more enjoyable if I could win occasionally too, but otherwise it&apos;s quite fun.&quot;Former Downing Street communications chief Alastair Campbell, now working on Labour&apos;s election campaign, says a &quot;touchy-feely&quot; image does not fit Mr Howard. He says Tony Blair was not worried by his opponents&apos; early performance in their Commons clashes because Mr Howard lacked a &quot;big strategy&quot;, including on issues like Iraq. The Tory leader brands such criticisms as &quot;absolutely rubbish&quot;, arguing that he has been consistent on his support for the war but critical of Mr Blair&apos;s failure to tell the truth on intelligence. Former Tory chancellor Ken Clarke says Mr Howard has a bigger problem changing perceptions of the Tory party than his personal image. Mr Clarke says the party is improving and it is &quot;conceivable&quot; it could win the next election. But he adds: &quot;It has got to change itself a bit and broaden its appeal.&quot;- Michael Howard: No More Mr Nasty is being shown on BBC2 on Saturday 12 February at 2005 GMT.</td></tr><tr><th>27</th><td>politics</td><td>Labour MP praises Tory campaign</td><td>The Conservatives have been &quot;a lot smarter&quot; in the way they have conducted the general election campaign, a Labour backbencher has said.Derek Wyatt said having a five month campaign &quot;turned off voters&quot; and suggested people were already &quot;rather bored of the thing&quot;. He wants a greater campaigning role for Chancellor Gordon Brown. Labour said the economy was at the heart of the campaign and Mr Brown therefore had a prominent role. But Mr Wyatt argued: &quot;By some way, he is currently the figure in all of the polls that people trust and see that has delivered over eight years an economy unmatched anywhere in the world. &quot;So, it would be a tad foolish of the Labour Party if we did not use him as we have done over the past three elections.&quot;Labour&apos;s election chief Alan Milburn denied there was an attempt to sideline Mr Brown after facing criticism for letting the Tories set the agenda. However, Mr Wyatt predicted the campaign would get under way properly once the chancellor delivered his budget. The MP for Sittingbourne and Sheppey said Prime Minister Tony Blair had been &quot;trying very hard&quot; to improve his own standing with the electorate through a &quot;sort of campaign of trust&quot;. But Mr Blair had been &quot;hurt&quot; by the Iraq controversy, he added. A Labour party spokesman played down differences with Mr Wyatt and said Mr Brown already had a prominent campaign role. &quot;This election is a choice between Labour taking Britain forward and the Conservatives taking us back.&quot;</td></tr><tr><th>28</th><td>tech</td><td>Court mulls file-sharing future</td><td>Judges at the US Supreme Court have been hearing evidence for and against file-sharing networks.The court will decide whether producers of file-sharing software can ultimately be held responsible for copyright infringement. They questioned if opening the way for the entertainment industry to sue file-sharers could deter innovation. They also said that file-trading firms had some responsibility for inducing people to piracy.The lawsuit, brought by 28 of the world&apos;s largest entertainment firms, has raged for several years. Legal experts agree that if the Supreme Court finds in favour of the music and movie industry they would be able to sue file-trading firms into bankruptcy. But if the judge rules that Grokster and Morpheus - the file-sharers at the centre of the case - are merely providers of technology that can have legitimate as well as illegitimate uses, then the music and movie industry would be forced to abandon its pursuit of file-sharing providers. Instead, they would have to pursue individuals who use peer-to-peer networks to get their hands on free music and movies. The hi-tech and entertainment industries have been divided on the issue. Intel filed a document with the Supreme Court earlier this month in defence of Grokster and others, despite misgivings about some aspects of the file-sharing community. It summed up the attitude of many tech firms in its submission which states that its products &quot;are essentially tools, that like any other tools, capable of being used by consumers and businesses for unlawful purposes&quot;.Asking firms to second-guess the uses that its technologies would be put to, and to build in ways of preventing illegitimate use, would stifle innovation, it said. The Electronic Frontier Foundation, a civil rights watchdog, is also defending StreamCast Networks, the company behind the Morpheus file-sharing software. The case raises a question of critical importance at the border between copyright and innovation, it said. It cites, as do many, the landmark ruling in 1984 which found that Sony should not be held responsible for the fact that its Betamax video recorder could be used for piracy. Defenders remain optimistic that the judges will rule in favour of the peer-to-peer networks, upholding the precedent set by the Sony Betamax case. A small band of supporters were outside the court as the lawyers entered, wearing &quot;Save Betamax&quot; t-shirts. &quot;The Betamax principles stand as the Magna Carta for the technology industry and are responsible for the explosion in innovation that has occurred in the US over the past 20 years,&quot; said Gary Shapiro, chief executive of the Consumer Electronics Association. Supreme Court Justice Stephen Breyer said that inventions from printing to Apple&apos;s iPod could be used to illegally duplicate copyrighted materials but had, on balance, been beneficial to society. He said that while file-trading software can be used to illegally trade movies and music, conceptually the technology had &quot;some really excellent uses&quot;.Based on Tuesday&apos;s hearing it seems unlikely that the Betamax ruling will be overturned but file-sharing firms might still be held responsible for encouraging or inducing piracy. Grokster&apos;s lawyer argued that the company should be judged by its current behaviour rather than what it did when it first set up. But this argument was dismissed as &quot;ridiculous&quot; by Justice David Souter. CEA boss Mr Shapiro thinks the case is the most important that the Supreme Court will hear this year. &quot;It&apos;s about preserving America&apos;s proud history of technological innovation and protecting the ability of consumers to access and utilise technology,&quot; he said. The case has already been heard by two lower courts and both found in favour of the peer-to-peer networks. They ruled that despite being used to distribute millions of illegal songs, file-sharing could also be used to cheaply distribute software, government documents and promotional copies of music.</td></tr><tr><th>29</th><td>politics</td><td>Tory expert denies defeatism</td><td>The Conservatives&apos; campaign director has denied a report claiming he warned Michael Howard the party could not win the next general election.The Times on Monday said Australian Lynton Crosby told the party leader to focus on trying to increase the Tories&apos; Commons presence by 25 to 30 seats. But Mr Crosby said in a statement: &quot;I have never had any such conversation... and I do not hold that view.&quot; Mr Howard later added there was not &quot;one iota&quot; of truth in the report. The strategist helped Australia&apos;s PM, John Howard, win four elections. Mr Howard appointed Mr Crosby as his elections chief last October. Mr Crosby&apos;s statement said: &quot;The Conservative Party has been making an impact on the issues of lower tax and controlled immigration over the past week.&quot; It added: &quot;The Labour Party will be wanting to do all they can to distract attention away from the issues that really matter to people.&quot;</td></tr><tr><th>30</th><td>politics</td><td>UK &apos;needs true immigration data&apos;</td><td>A former Home Office minister has called for an independent body to be set up to monitor UK immigration.Barbara Roche said an organisation should monitor and publish figures and be independent of government. She said this would counter &quot;so-called independent&quot; groups like Migration Watch, which she described as an anti-immigration body posing as independent. Migration Watch says it is not against all immigration and the government already publishes accurate figures. Sir Andrew Green, chairman of the organisation, says there is no need for an independent body because Office of National Statistics data are accurate. He says he opposes large-scale immigration &quot;both on the grounds of overcrowding and culture&quot;.He said: &quot;For example, over the next 20 years one household in three will be due to immigration. &quot;We are already more overcrowded than India and we are four times more overcrowded than France.&quot; Ms Roche, Labour MP for Hornsey and Wood Green, believes legal migration is something we should welcome. She said her proposals mean &quot;we wouldn&apos;t have so-called independent experts, like Migration Watch, who come into this debate from an anti-immigration point of view.&quot; She went on: &quot;What I would like to see is there being a body which actually looked at the figures, published them, and was independent of government. &quot;I think that would go a long way to allaying some of the fears that are sometimes whipped up during this debate.&quot;</td></tr><tr><th>&vellip;</th><td>&vellip;</td><td>&vellip;</td><td>&vellip;</td></tr></tbody></table></div>"
      ],
      "text/latex": [
       "\\begin{tabular}{r|ccc}\n",
       "\t& topic & heading & body\\\\\n",
       "\t\\hline\n",
       "\t& String & String & String\\\\\n",
       "\t\\hline\n",
       "\t1 & entertainment & Animation charms Japan box office & Oscar-winning director Hayao Miyazaki's latest film has set a new Japanese box office record, with 1.5bn yen (\\$14.3m) in two days, according to reports.Howl's Moving Castle is the follow-up to Miyazaki's Spirited Away, which won best animation at last year's Oscars. It is based on the children's book by English writer Diana Wynne Jones. It has registered the highest opening weekend takings of any Japanese film in the country, according to trade publication Screen Daily.The film is about an 18-year-old girl who is trapped in an old woman's body after being put under a spell by a witch. Its two-day takings represented 1.1 million cinema admissions, Screen Daily said. The film's distributor Toho expects 40 million people to see it in total - almost one third of the country's population - it added. The film won the Golden Osella for outstanding technical contribution at this year's Venice Film Festival. \\\\\n",
       "\t2 & tech & Satellite mapping aids Darfur relief & Aid workers trying to house, feed and clothe millions of homeless refugees in the Sudanese region of Darfur are getting a helping hand from advanced mapping technology.A European consortium of companies and university groups known as Respond is working to provide accurate and up to date maps. The aim is to overcome some of the huge logistical challenges in getting supplies to where they are needed. Respond is using satellite imagery to produce accurate maps that can be used in the field rapidly. \"Respond has produced very detailed maps for example for the road networks, for the rivers and for the villages, to more large-scale maps useful for very general planning purposes,\" said Einar Bjorgo from Unosat, the UN satellite mapping organisation that is part of the Respond consortium.The group uses satellites from Nasa, the European Space Agency and the Disaster Monitoring Constellation. The satellite data is transmitted to ground stations. From there, the information makes its way to Respond organisations that specialise in interpreting such data. \"You have to convert the data into images, then the interpreter has to convert all this into crisis, damage, or situation maps,\" said Stefan Voigt, who works in the remote sensing department of one of those organisations, the German Aerospace Centre.This kind of detailed analysis usually takes a couple of months but Respond gets it done in about 12 hours. \"Our users are usually not so much familiar with reading satellite imagery, reading satellite maps, so it's our task to transfer the data into information that non-technical people can read and understand easily and very, very efficiently,\" said Mr Voigt. Respond supplies maps to aid groups via the web, and on compact disc. But the best map is one you can hold in your hands, especially in remote areas where internet connections and laptops are scarce. \"A map is a working document,\" explains Herbert Hansen of Respond's Belgian partner Keyobs. \"You need to use it, you need to write on it, correct, give feedback and so on, so you need paper to write on. \"We print maps, we laminate the maps, we encapsulate the maps if needed so you can take a shower with the map, it's completely protected.\"Humanitarian groups in Darfur have been making good use of Respond's maps. They have come in especially handy during Sudan's rainy season, when normally dry riverbeds, or wadis, became flooded. \"These wadis had a very small amount of flooding, generally, in terms of depth, but greatly impeded the transport capabilities and capacities of the humanitarian groups on the ground,\" says Stephen Candillon of Respond imaging partner Sertit. Respond's rapid imaging has allowed aid groups to find ways around the wadis, allowing then to mark on their maps which roads were washed out at which times. Aid groups say that combination of satellite technology and on-the-ground observation helped keep relief flowing to those who needed it.Clark Boyd is technology correspondent for The World, a BBC World Service and WGBH-Boston co-production \\\\\n",
       "\t3 & tech & 'Evil twin' fear for wireless net & People using wireless high-speed net (wi-fi) are being warned about fake hotspots, or access points.The latest threat, nicknamed evil twins, pose as real hotspots but are actually unauthorised base stations, say Cranfield University experts. Once logged onto an Evil Twin, sensitive data can be intercepted. Wi-fi is becoming popular as more devices come with wireless capability. London leads the global wi-fi hotspots league, with more than 1,000. The number of hotspots is expected to reach 200,000 by 2008, according to analysts. \"Users need to be wary of using their wi-fi enabled laptops or other portable devices in order to conduct financial transactions or anything that is of a sensitive or personal nature,\" said Professor Brian Collins, head of information systems at Cranfield University.\"Users can also protect themselves by ensuring that their wi-fi device has its security measures activated,\" he added. BT Openzone, which operates a vast proportion of public hotspots in the UK, told the BBC News website that it made every effort to make its wi-fi secure. \"Naturally, people may have security concerns,\" said Chris Clark, chief executive for BT's wireless broadband.\"But wi-fi networks are no more or less vulnerable than any other means of accessing the internet, like broadband or dial-up.\" He said BT Openzone, as well as others, have sophisticated encryption from the start of the login process to the service at a hotspot. \"This means that users' personal information and data, logon usernames and passwords are protected and secure,\" said Mr Clark.In the vast majority of cases, base stations straight out of the box from the manufacturers are automatically set up with the least secure mode possible, said Dr Nobles. Cybercriminals who try to glean personal information using the scam, jam connections to a legitimate base station by sending a stronger signal near to the wireless client. Anyone with the right gear can find a real hotspot and substitute it with an evil twin. \"Cybercriminals don't have to be that clever to carry out such an attack,\" said Dr Phil Nobles, a wireless net and cybercrime expert at Cranfield. \"Because wireless networks are based on radio signals they can be easily detected by unauthorised users tuning into the same frequency.\"Although wi-fi is increasing in popularity as more people want to use high-speed net on the move, there have been fears over how secure it is. Some companies have been reluctant to use them in large numbers because of fears about security. A wireless network that is not protected can provide a backdoor into a company's computer system. Public wi-fi hotspots offered by companies like BT Openzone and The Cloud, are accessible after users sign up and pay for use. But many home and company wi-fi networks are left unprotected and can be \"sniffed out\" and hi-jacked by anyone with the correct equipment. \"BT advises that customers should change all default settings, make sure that their security settings on all equipment are configured correctly,\" said Mr Clark. \"We also advocate the use of personal firewalls to ensure that only authorised users can have access and that data cannot be intercepted.\" Dr Nobles is due to speak about wireless cybercrime at the Science Museum's Dana Centre in London on Thursday. \\\\\n",
       "\t4 & business & US bank in \\$515m SEC settlement & Five Bank of America subsidiaries have agreed to pay a total of \\$515m (Â£277m) to settle an investigation into fraudulent trading share practices.The US Securities and Exchange Commission announced the settlements, the latest in an industry-wide clean-up of US mutual funds. The SEC also said it had brought fraud charges against two ex-senior executives of Columbia Distributor. Columbia Distributor was part of FleetBoston, bought by BOA last year. Three other ex-Columbia executives agreed settlements with the SEC.The SEC has set itself the task of stamping out the mutual funds' use of market-timing, a form of quick-fire, short-term share trading that harms the interests of small investors, with whom mutual funds are particularly popular. In the last two years, it has imposed penalties totalling nearly \\$2bn on 15 funds. The SEC unveiled two separate settlements, one covering BOA's direct subsidiaries, and another for businesses that were part of FleetBoston at the time. In both cases, it said there had been secret deals to engage in market timing in mutual fund shares. The SEC agreed a deal totalling \\$375m with Banc of America Capital Management, BACAP Distributors and Banc of America Securities. It was made up of \\$250m to pay back gains from market timing, and \\$125m in penalties. It is to be paid to the damaged funds and their shareholders. Separately, the SEC said it had reached a \\$140m deal - equally split between penalties and compensation - in its probe into Columbia Management Advisors (CAM) and Columbia Funds Distributor (CFD) and three ex-Columbia executives. These businesses became part of BOA when it snapped up rival bank FleetBoston in a \\$47bn merger last March.The SEC filed civil fraud charges in a Boston Federal court against James Tambone, who it says headed CFD's sales operations, and his alleged second in command Robert Hussey. The SEC is pressing for the highest tier of financial penalties against the pair for \"multiple violations\", repayment of any personal gains, and an injunction to prevent future breaches, a spokeswoman for the SEC's Boston office told the BBC. There was no immediate comment from the men's' lawyers. The SEC's settlement with CAM and CFD included agreements with three other ex-managers, Peter Martin, Erik Gustafson and Joseph Palombo, who paid personal financial penalties of between \\$50-100,000. \\\\\n",
       "\t5 & sport & Ronaldo considering new contract & Manchester United winger Cristiano Ronaldo said he is close to agreeing to a new contract at Old Trafford.The Portugal star, who joined in August 2003 on a five-year-deal, is a regular in the United first-team. \"The United board have already made an offer to renew the contract but I'm trying not to think about it,\" he told the News of the World. \"My agent has spoken with the club and it will be resolved soon. I think we'll reach a good agreement for both sides.\" Ronaldo refused to commit his long-term future to the club.\"Nobody knows what will come tomorrow. I like being here, but who knows,\" he added. \"There aren't many bigger and better clubs than this one. It's my ambition to be at a big club. I'm happy but nobody knows the future.\" \\\\\n",
       "\t6 & business & Arsenal 'may seek full share listing' & Arsenal vice-chairman David Dein has said the club may consider seeking a full listing for its shares on the London Stock Exchange.Speaking at the Soccerex football business forum in Dubai, he said a full listing was \"one of the options\" for funding after the club moves to its new stadium. The club - which is currently listed on the smaller Ofex share exchange - is due to move into its new 60,000-seater Emirates Stadium at Ashburton Grove for the start of the 2006/07 season. Mr Dein also warned the current level of TV coverage of the Premiership may be reaching saturation level, with signs that match attendances have been dropping off in the first few months of this season.When Arsenal moves to its new stadium it will see its proportion of turnover from media earnings drop from 52\\% this season to 34\\% in two years' time. The club is hoping to increase matchday earnings from 29\\% to 40\\% of turnover, and has not ruled out other money-earning means, including a full share listing. \"When the new stadium opens we will go through a thorough financial review,\" Mr Dein said.\"Listing would be one option, but we are flexible and no decisions have been made on that issue yet. \"We want to be in the best financial health - maybe clubs can do it (listing), Manchester United have been a success.\"Mr Dein said that, although television money and coverage had driven the English game forward in the past 10 years, he feared there might now be too many games being shown. Since the formation of the Premier League in season 1992/93, Premiership clubs have seen their income from television soar. \"Television has been the driving force over the past 10 years... but we must constantly improve if we want to remain as the world's leading league competition. \"We must monitor the quality of the product and ensure attendances do not decline, and we must balance that with the quantity of exposure on TV too. \"I think we have practically reached saturation point... sometimes I think less is more.\"The club is funding its move to Ashburton Grove through a number of sources, including debt from banks, from money it already has and will receive in coming years from sponsors, and from the sale of surplus property, including its Highbury Stadium. It is also looking to create new revenue streams from overseas markets, including Asia. \"We have two executives travelling round Japan and China at the moment building relationships with organisations and clubs, and we know our supporters clubs are growing there too, as they are around the world. \"We have got a very good product, so it is very important we go and look at these markets, and make sure we are on the case.\" \\\\\n",
       "\t7 & business & US insurer Marsh cuts 2,500 jobs & Up to 2,500 jobs are to go at US insurance broker Marsh \\& McLennan in a shake up following bigger-than-expected losses.The insurer said the cuts were part of a cost-cutting drive, aimed at saving millions of dollars. Marsh posted a \\$676m (Â£352m) loss for the last three months of 2004, against a \\$375m (Â£195.3m) profit a year before. It blamed an \\$850m payout to settle a price-rigging lawsuit, brought by New York attorney general Elliot Spitzer. Under the settlement announced in January, Marsh took a pre-tax charge of \\$618m in the October-to-December quarter, on top of the \\$232m charge from the previous quarter. \"Clearly 2004 was the most difficult year in MMC's financial history,\" Marsh chief executive Michael Cherkasky said.An ongoing restructuring drive at the group also led to a \\$337m hit in the fourth quarter, the world's biggest insurer said.Analysts expect its latest round of cuts to focus on its brokerage unit, which employs 40,000 staff. The latest layoffs will take the total number of jobs to go at the firm to 5,500 and are expected to lead to annual savings of more than \\$375m. As part of its efforts to cut costs, the company said it was halving its dividend payment to 17 cents a shares from 34 cents, a move which should enable it to save \\$360m. Looking ahead, Mr Cherkasky forecast profitable growth for the year ahead \"with an operating margin in the upper-teens, and with the opportunity for further margin expansion\". Meanwhile, the company also announced it would spin-off its MMC Capital private equity unit, which manages the \\$3bn Trident Funds operation, to a group of employees. Marsh did not say when the move would take place, but said it had signed a letter of intent.The insurer hit the headlines in October last year when it faced accusations of price rigging. New York Attorney General Elliot Spitzer sued the company, accusing it of receiving illegal payments to steer clients to selected firms as well as rigging bids and fixing prices. In January, Marsh agreed to pay \\$850m to settle the suit - a figure in line with the placement fees it collected in 2003 - and agreed to change its business practices. In February, a former senior executive pleaded guilty to criminal charges in a wide-ranging probe of fraud and bid-rigging in the insurance industry. In January, a former senior vice president also pleaded guilty to criminal charges related to the investigation. In an effort to reform its business practises, Marsh said it has already introduced new leadership, new compliance procedures and new ways of dealing with customers. \"As a result, we are ready to put these matters behind us and move ahead in 2005 to restore the trust our clients have placed in us and to rebuild shareholder value,\" Mr Cherkasky said. \\\\\n",
       "\t8 & sport & Robinson out of Six Nations & England captain Jason Robinson will miss the rest of the Six Nations because of injury.Robinson, stand-in captain in the absence of Jonny Wilkinson, had been due to lead England in their final two games against Italy and Scotland. But the Sale full-back pulled out of the squad on Wednesday because of a torn ligament in his right thumb. The 30-year-old will undergo an operation on Friday but England have yet to name a replacement skipper.Robinson said: \"This is very disappointing for me as this means I miss England's last two games in the Six Nations at Twickenham and two games for my club, Sale Sharks. \"But I'm looking to be back playing very early in April.\"Robinson picked up the injury in the 19-13 defeat to Ireland at Lansdowne Road on Saturday. And coach Andy Robinson said: \"I am hugely disappointed for Jason. \"As England captain he has been an immense figure during the autumn internationals and the Six Nations, leading by example at all times. I look forward to having him back in the England squad.\" The announcement is the latest setback for Robinson's injury-depleted squad.Among the key figures already missing are Jonny Wilkinson, Mike Tindall, Will Greenwood, Julian White and Phil Vickery - a list which leaves Robinson short on candidates for the now vacant captaincy role. Former England skipper Jeremy Guscott told BBC Radio Five Live his choice would be Matt Dawson, even though he is does not hold a regular starting place.\"The obvious choice is Dawson\" said Guscott. \"Especially given that Harry Ellis did not have his best game at scrum-half on Saturday. \"Dawson has the credentials and the experience, even though his winning record at captain is not great. \"The other option in Martin Corry, who is the standout forward at the moment. \"Unfortunately England cannot rely on leaders on the field at the moment.\" England will announce their squad for the 12 March game against Italy on Saturday. \\\\\n",
       "\t9 & business & S Korean consumers spending again & South Korea looks set to sustain its revival thanks to renewed private consumption, its central bank says.The country's economy has suffered from an overhang of personal debt after its consumers' credit card spending spree. Card use fell sharply last year, but is now picking up again with a rise in spending of 14.8\\% year-on-year. \"The economy is now heading upward rather than downward,\" said central bank governor Park Seung. \"The worst seems to have passed.\" Mr Park's statement came as the bank decided to keep interest rates at an all-time low of 3.25\\%. It had cut rates in November to help revive the economy, but rising inflation - reaching 0.7\\% month-on-month in January - has stopped it from cutting further. Economic growth in 2004 was about 4.7\\%, with the central bank predicting 4\\% growth this year. Other indicators are also suggesting that the country is inching back towards economic health. Exports - traditionally the driver for expansion in Asian economies - grew slower in January than at any time in 17 months. But domestic demand seems to be taking up the slack. Consumer confidence has bounced back from a four-year low in January, and retail sales were up 2.1\\% in December. Credit card debt is falling, with only one in 13 of the 48 million cards now in default - down from one in eight at the end of 2003. One of its biggest card issuers, LG Card, was rescued from collapse in December, having almost imploded under the weight of its customers' bad debts. The government last year tightened the rules for card lending to keep the card glut under control. \\\\\n",
       "\t10 & business & S Korean lender faces liquidation & Creditors of South Korea's top credit card firm have said they will put the company into liquidation if its ex-parent firm fails to back a bail-out.LG Card's creditors have given LG group until Wednesday to sign up to a \\$1.1bn rescue package. The firm avoided bankruptcy thanks to a \\$4.5bn bail-out in January 2004, which gave control to the creditors. LG Group has said any package should reflect the firm's new ownership, and it will not accept an unfair burden. At least seven million people in South Korea use LG Card's plastic for purchases.LG Card's creditors have threatened parent group LG Group with penalties if it fails to respond to their demands.\"Creditors would seek strong financial sanctions against LG Group if LG Card is liquidated,\" said Yoo Ji-chang, governor of Korean Development Bank (KDB) - one of the card firm's major creditors. LG Group has said providing further help to the credit card issuer could hurt its corporate credibility and could spark shareholder lawsuits. It says it wants \"fair and reasonable guidelines\" on splitting the financial burden with the creditors, who now own 99.3\\% of LG Card. The creditors have asked the government to mediate to avoid any risk to the stability of financial markets, KDB said. Analysts believe a compromise is likely. \"LG Group knows the impact on consumer demand and the national economy from a liquidation of LG Card,\" said Kim Yungmin, an equity strategist at Dongwon Investment Trust Management.LG Card almost collapsed in 2003 due to an increase in overdue credit card bills after the bursting of a credit bubble. The firm returned to profit in September 2004, but now needs a capital injection to avoid being delisted from the Korea Stock Exchange. The exchange can delist a company if its debt exceeds its assets for two years running. LG card's creditors fear that such a move would triggered massive debt redemption requests that could bankrupt the firm, which owes about \\$12.05bn. \"Eventually, LG Group will have to participate, but they have been stalling to try to earn better concessions,\" said Mr Kim. \\\\\n",
       "\t11 & politics & Candidate resigns over BNP link & A prospective candidate for the UK Independence Party (UKIP) has resigned after admitting a \"brief attachment\" to the British National Party(BNP).Nicholas Betts-Green, who had been selected to fight the Suffolk Coastal seat, quit after reports in a newspaper that he attended a BNP meeting. The former teacher confirmed he had attended the meeting but said that was the only contact he had with the group. Mr Betts-Green resigned after being questioned by the party's leadership. A UKIP spokesman said Mr Betts-Green's resignation followed disclosures in the East Anglian Daily Times last month about his attendance at a BNP meeting. \"He did once attend a BNP meeting. He did not like what he saw and heard and will take no further part of it,\" the spokesman added. A meeting of Suffolk Coastal UKIP members is due to be held next week to discuss a replacement. Mr Betts-Green, of Woodbridge, Suffolk, has also resigned as UKIP's branch chairman. \\\\\n",
       "\t12 & sport & English clubs make Euro history & All four of England's Champions League representatives have reached the knockout stages for the first time.Arsenal and Chelsea are seeded as group winners, while runners-up Manchester United and Liverpool are not. Rules stipulate that teams from the same country or group will be kept apart in the draw on 17 December. The favourites are Chelsea and Barcelona, and Real Madrid, the two Milan sides, Juventus and Bayern Munich are among the 16 still in the hat.Steven Gerrard's last-gasp wonder-strike secured qualification foragainst Olympiakos on Wednesday evening.AC Milan, Bayer Leverkusen, Internazionale, Juventus, Lyon.who had already qualified, fielded a second-string side and went down 3-0 to Fenerbahce.AC Milan, Bayer Leverkusen, Internazionale, Juventus, Monaco.On Tuesday,finished top of their group with a 5-1 win over the Rosenborg after drawing four of their first five matches.Barcelona, Bayern Munich, Porto, Real Madrid, Werder Bremen, who had already qualified lost 2-1 to Porto as Jose Mourinho made an unhappy return to his former club.Barcelona, Bayern Munich, PSV Eindhoven, Real Madrid, Werder Bremen. \\\\\n",
       "\t13 & sport & Hearts of Oak 3-2 Cotonsport & Hearts of Oak set up an all Ghanaian Confederation Cup final with a 3-2 win over Cameroon's Cotonsport Garoua in Accra on Sunday.The win for Hearts means they will play Asante Kotoko in the two-leg final, after the Kumasi team qualified from Group A on Saturday. In the other Group B game Cameroon'sbeatof South Africa 3-2 in Douala, neither side could have qualified for the final. Hearts of Oak started the game needing a win to qualify for the final while Cotonsport only needed to avoid defeat to go through. Louis Agyemang scored the first two goals for Hearts either side of half time before Ben Don Bortey scored the third. Hearts looked set for a comfortable win but Cotonsport staged a late fight back scoring twice late on. First of all Boukar Makaji scored in the 89th minute and then 3 minutes into injury time at the end of the game Andre Nzame III was on target. But it was too little too late for the Cameroonians and Hearts held on to win the game and a place in the final. The first leg of the final will be played in Accra on the weekend of 27-28 November and the second leg two weeks later on the 11 December in Kumasi. In the other Group B game Cameroon's Sable Batie took the lead in the 35th minute through Kemadjou before Santos equalised on the hour mark thanks to Thokozani Xaba . Bernard Ngom put Sable ahead just five minutes later and then Ernest Nfor settled the game on 68 minutes. Ruben Cloete scored the South African sides consolation with just three minutes left on the clock. \\\\\n",
       "\t14 & sport & Funding cut hits Wales Students & The Wales Students rugby side has become a casualty of the Welsh Rugby Union's reorganisation at youth level.An amalgamated Under-18 side formed from separate schools and national youth teams plays its first match on Thursday, against Italy at the Gnoll. But that move has seen the WRU decide to end its funding of representative sides such as Wales Students. As a result, traditional international fixtures against England and France in the New Year have been cancelled. The Welsh Students Rugby Football Union feels that it is unable to properly prepare for or stage the matches. The secretary of the Welsh Students Rugby Football Union, Reverend Eldon Phillips, said: \"It is a shame that fixtures cannot be maintained this year. \"The competition provided by the strong English and French teams has enabled the Welsh Students to test themselves in high quality matches. \"The increasing number of young rugby players entering Higher Education look for the biggest challenge, that is representative rugby, but this year that opportunity will be denied them. Players who have played for Wales Students before going on to win full senior representative honours include Robert Jones, Rob Howley, Jon Humphreys, Darren Morris, Martyn Williams and Ceri Sweeney. \\\\\n",
       "\t15 & entertainment & Vera Drake leads UK Oscar hopes & Mike Leigh's film Vera Drake will lead British hopes at this year's Academy Awards after getting three nominations.Imelda Staunton was nominated for best actress for her role in the abortion drama, while Leigh received nods for best director and original screenplay. Kate Winslet was also nominated in the best actress category for her role in Eternal Sunshine of the Spotless Mind. And Clive Owen and Sophie Okonedo both got nominated for supporting roles in Closer and Hotel Rwanda respectively. Owen has already been made bookmakers' favourite for best supporting actor for the role in Closer that has already clinched him a Golden Globe award.And it is the first nomination for actress Okonedo, chosen for her performance in Hotel Rwanda, about the 1994 Rwandan genocide. It is also a debut nomination for Staunton, 49, who told BBC News 24 she had not thought the film would appeal to Academy voters. \"It was an extraordinary time making the film and I can't believe what has happened this morning,\" she said. \"I hope it just shows Mike up to be the extraordinary filmmaker he is. \"We are also dealing with a very difficult subject matter and it is amazing to have it accepted in this way.\" Leigh, who had previously received three Oscar nominations for Secrets and Lies and Topsy Turvy, told BBC News 24 the latest success was \"amazing\". He said: \"We hoped that Imelda Staunton would get a nomination but I never expected to get director and screenplay. It's just absolutely wonderful.\"I think people are aware that it's about life - and I hope it is the warmth and compassion that really talks to people.\" Winslet said she was \"ecstatic\" about the fourth nomination of her career. \"Being nominated means so much to me. To be nominated for a film that was released a while ago, I feel so honoured and overwhelmed,\" she said. John Woodward, chief executive of the UK Film Council, said it was \"extremely heartening\" to see British filmmaking talent recognised on the global stage. \"Britain has a hugely talented industry and these nominations show why National Lottery investment in film pays major dividends for our culture and economy.\" Among a total of 24 British nominees, composer Andrew Lloyd Webber and lyricist Charles Hart are up for best original song for Learn To Be Lonely, from The Phantom of the Opera movie.Cinematographer John Mathieson, who was nominated for Gladiator in 2001, is also up for The Phantom of the Opera. And Finding Neverland has garnered two more nominations for Brits. Gemma Jackson, who has also worked on Bridget Jones's Diary and Iris, is up for art direction while costume designer Alexandra Byrne, whose previous films have included Captain Corelli's Mandolin and Elizabeth, is in the running. The UK has two contenders in the best live action short film category. Wasp was made by ex-children's TV presenter Andrea Arnold while Little Terrorist is the work of Ashvin Kumar. This year's awards will be handed out in Hollywood on 27 February. \\\\\n",
       "\t16 & entertainment & Sundance to honour foreign films & International films will be given the same prominence as US films at next year's Sundance Film Festival, with movies dominated by the theme of war.The independent film festival will feature two new international cinema competitions, during its 20-30 January season in Utah. Forty-two films will debut at Sundance, including The Liberace of Baghdad by British director Sean McAllister. The prestigious festival was founded by actor Robert Redford in 1981.\"We have always had an international component, but from next year they will enter a jury competition,\" festival director Geoffrey Gilmore said. \"We wanted to give world cinema more emphasis and have now put it on par with the American dramatic and documentary competitions.\" Twelve films competing in the new world cinema documentary category focus on countries and people under siege.The Liberace of Baghdad features an Iraqi pianist hiding in a hotel as he waits for a visa, while Finnish film The Three Rooms of Melancholia looks at the war in Chechnya. Shake Hands With The Devil: The Journey of Romeo Dallaire tells of a UN mission to Rwanda during the 1994 genocide, while French-Israeli production Wall looks at Israel's controversial security wall separating it from the Palestinian territories. The 16 films competing in the new world cinema dramatic category include works from Germany, South Korea, Angola, China, Denmark and Australia.Several Hollywood stars feature in the festival's American independent drama category, including Keanu Reeves and Benjamin Bratt. Vince Vaughn stars in quirky movie Thumbsucker while 21 Grams actress Naomi Watts plays a budding Hollywood actress in Ellie Parker. The top Grand Jury prize at this year's festival went to low budget sci-fi thriller Primer, written and directed by Shane Carruth. Morgan Spurlock earned the directing award for Super Size Me, which became an international box office hit. \\\\\n",
       "\t17 & entertainment & Black Sabbath top rock album poll & Black Sabbath have topped a list of the best British rock albums of all time.The band once fronted by Ozzy Osbourne led a poll of Kerrang! magazine readers with their 1970 self-titled debut. The band have three more efforts on the list, including fifth-placed Paranoid. Osbourne appears more than any other act, with two solo records featured. The top five includes Led Zeppelin, Iron Maiden and Sex Pistols. Queen, Muse, Manic Street Preachers and The Clash complete the top 10. A mix of heavy metal, punk, glam rock and even dance music makes up the list. Motorhead, Judas Priest and Prodigy are included along with newer acts like The Darkness and Lostprophets.Kerrang! editor Ashley Bird said: \"It's amazing to see so many incredible homegrown albums in one list, and without any of the abysmal fashion bands that currently clog up the music scene. \"These are the real opinions of proper rock fans.\"Formed by four teenage friends in the West Midlands in the late 1960s, Black Sabbath are one of Britain's most successful heavy rock bands. Their debut was a UK top 10 hit in 1970 and sold more than a million copies in the US. Osbourne said the band's success in the Kerrang! poll was a triumph for British rock. He said: \"Back then you'd hear: 'If you go to San Francisco, be sure to wear a flower in your hair'. \"We lived in Aston, Birmingham. The only flowers I ever saw were on a gravestone in our local cemetery.\" Despite being disliked by many critics, Black Sabbath's subsequent albums included multi-million sellers but internal rows led to Osbourne leaving in 1979. The band continued without Osbourne, who went on to solo success but also had to battle alcoholism and legal action over his music allegedly inciting teenagers to commit suicide. He was eventually cleared of the charges. Osbourne, who bit off the head of a live bat on stage in 1982, rejoined the band to play the Live Aid charity concert in 1985. After many changes in line-up, the original four members reunited to play live dates in 1997. Black Sabbath have reunited regularly in recent years while Osbourne has gone on to wider fame with his family through MTV documentary series The Osbournes. \\\\\n",
       "\t18 & sport & Campbell rescues Arsenal & Sol Campbell proved to be an unlikely match-winner to earn Arsenal a hard-fought win at Portsmouth.The England defender lashed home a 25-yard shot for his first goal in 16 months to take Arsenal back into second spot, five points behind Chelsea. But before Campbell scored the best two chances of the game fell to Pompey striker Ricardo Fuller. In the first half he blasted wide when clear, and his control let him down in the second half when well placed. Portsmouth got plenty of bodies behind the ball to deny Arsenal space in the early stages. But their marking was slack at a corner and Patrick Vieira should have done better when the ball fell to him 16 yards out. A mistake by Arjan de Zeeuw let Thierry Henry in behind the Pompey defence on 17 minutes but as he bore down on goal Linvoy Primus got in a saving tackle. With just Fuller as an out-and-out striker, Portsmouth's shape made life difficult for Arsenal. But a delightful touch by Robin van Persie gave Henry a sight of goal, although the angle was too tight for his shot to trouble Jamie Ashdown.Ashdown caused hearts to flutter on 28 minutes when he missed his punch at a corner and Kolo Toure headed just wide and, as Arsenal began to press, Van Persie blasted over a good opportunity after Henry had set him up. Henry took a quick return pass from Vieira but Ashdown was out quickly to block, and there were some anxious seconds for Pompey as the ball ran loose before Matthew Taylor cleared. After playing second fiddle, Portsmouth should have taken the lead on 34 minutes. Referee Howard Webb played a good advantage to allow Steve Stone to send Gary O'Neil away but, having shrugged off Toure, the Pompey midfielder planted his shot wide from 10 yards. As half-time approached, Henry teased a shot through a ruck of players and inches wide. At the other end, Fuller broke clear but failed to hit the target as Toure closed him down.Fuller was given the best chance of the match so far on 48 minutes when Patrik Berger's break and slipped pass played him clear. But a poor first touch lost him the opportunity and even when he checked back and went down under Vieira's challenge, referee Webb was not interested. Fuller paid the price when he gave way on 55 minutes to Aiyegbeni Yakubu, who returned after six weeks out with a knee injury. But it needed alert reflexes and safe handling from Ashdown to cling on to Van Persie's shot as Henry sniffed for scraps.Portsmouth were growing in confidence and keeper Manuel Almunia had to stand his ground to beat away a powerful shot from Berger. Arsenal were struggling to find their rhythm but took the lead through the unlikely source of Campbell. The England defender needed little invitation as Pompey backed off to stride forward and lash a ferocious shot past Ashdown. Arsenal might have stretched their lead two minutes later when Mathieu Flamini escaped his marker to flash a header wide from Henry's free-kick. Almunia went full length to grab Berger's long-range shot, while Ashdown palmed away substitute Dennis Bergkamp's shot.Ashdown, Griffin, De Zeeuw, Primus, Taylor, Stone, O'Neil, Faye (Berkovic 83), Berger, LuaLua, Fuller (Yakubu 55).Subs not used: Hislop, Quashie, Cisse.Almunia, Lauren, Toure, Campbell, Cole, Pires, Flamini, Vieira, Clichy, Van Persie (Bergkamp 68), Henry.Subs not used: Lehmann, Fabregas, Senderos, Hoyte.Cole.Campbell 75.20,170.H Webb (S Yorkshire). \\\\\n",
       "\t19 & politics & MPs to debate 'euthanasia laws' & MPs are preparing to debate a bill which critics claim would legalise euthanasia \"by the back door\".The bill would give legal force to \"living wills\", where people say they want medical treatment withheld if they become severely incapacitated. The Mental Capacity Bill has broad support from charities who say it would give better safeguards over treatment. But Christian groups say it could mean doctors withholding food and fluids even if they think it inappropriate.Ministers insist the Mental Capacity Bill - for England and Wales - would not change laws on assisted suicide and contains a presumption in favour of preserving life.The bill would establish a legal presumption that everybody can make decisions about their own treatment unless proved otherwise. It would allow people to give somebody the power of attorney to make decisions on their behalf, which could be challenged by doctors. Critics fear it could allow \"killing by omission\" through withdrawing treatment. An amendment to the bill - specifically preventing decisions that would bring about death - has been tabled by former Conservative leader Iain Duncan Smith. Ninety one MPs have signed a petition backing the amendment. MPs could vote on it later on Tuesday, during the bill's report stage debate. The Bill will then go to a third reading and be debated in the Lords, before becoming law.The Christian Medical Fellowship (CMF) and Lawyers' Christian Fellowship (LCF) said the Mental Capacity Bill would allow euthanasia by the \"back door\". Peter Saunders of the CMF said it believed advance refusals should be only advisory, not legally binding. \"CMF is concerned that patients will make unwise and hasty advance decisions to refuse food and fluids without being properly informed about the diagnosis and the expected course their illness will take,\" he said.The LCF's Andrea Williams said there were \"too many loopholes that could be abused by unscrupulous doctors\". Ex-Labour minister Frank Field told BBC Two's Newsnight programme there was a danger people would feel under pressure to \"do away\" with themselves so relatives could inherit their assets.Constitutional Affairs Minister David Lammy said laws affecting 750,000 people with dementia needed updating. Mr Lammy told BBC News Labour MPs would not get a free vote as the law was being strengthened, not changed. \"We are against euthanasia, we are against assisted suicide but we are in a situation now where people can make living wills and that has the force of the common law,\" he said. \"Doctors are saying they want more clarity. Patients are saying they want more clarity.\" The Making Decisions Alliance, which includes the Alzheimer's Society, Age Concern, Mencap and the National Autistic Society, said misunderstandings over the bill had to be cleared up. \"It will not change the current law on euthanasia and will actually provide a series of better safeguards when decisions are made for people who lack capacity,\" the alliance said in a statement. The British Medical Association also backs the bill, saying it just gives incapacitated people the same rights as others. Debate on legalising euthanasia has intensified in the UK because of cases like that of motor neurone patient Diane Pretty. She died two years ago after losing a legal battle to allow her husband to help her commit suicide. \\\\\n",
       "\t20 & sport & Adriano's Chelsea link rejected & Adriano's agent Gilmar Rinaldi has insisted that he has had no contact with Chelsea over the striker.Chelsea were reported to have made inquiries about Inter Milan's 22-year-old Brazilian star. Rinaldi told BBC Sport from Rio de Janeiro: \"I can assure you that Chelsea have had no dealings whatsoever with either me or Adriano. \"Parma and Real Madrid are interested but there's nothing new there. Their interest has been known for some time.\" Adriano has scored 14 goals in 20 Serie A appearances this season. And Chelsea boss Jose Mourinho had claimed that he was in Milan talking to Adriano on the day he is alleged to have held a clandestine meeting with Arsenal defender Ashley Cole. Mourinho said he was \"just practising my Portuguese with him because I don't need strikers\". Rinaldi told BBC Sport: \"I have to say that nobody from Chelsea or any other London club has contacted me. \"If they want to, that's fine. I can tell them what the situation is. \"If Chelsea are interested then they must make an offer.\" Inter are reported to have slapped a price tag in the region of Â£40m on the head of Adriano, who joined them just over a year ago from Parma. Real Madrid view him as a natural replacement for compatriot Ronaldo. But Rinaldi said: \"I cannot give you a price that Inter would accept for Adriano. That's something that would have to be negotiated between the interested clubs.\" \\\\\n",
       "\t21 & sport & White prepared for battle & Tough-scrummaging prop Julian White is expecting a resurgent Wales to give him a rough ride in England's Six Nations opener in Cardiff on Saturday.The Leicester tight-head is in the form of his life, making the England number three shirt his own. But he knows Wales will put his technique under immense scrutiny. \"The Welsh scrum is a force to be reckoned with,\" he told BBC Sport. \"They have made a lot of changes for the better over the last few years.\" White is also impressed with the Welsh pack's strength in depth. \"Gethin Jenkins is starting at loose-head for them. He has played a bit at tight-head but I think his favoured position is loose-head and he is very good,\" he added. The 31-year-old has made a massive contribution to the England and Leicester cause of late and is arguably the form tight-head prop in the world.He destroyed South Africa's Os du Randt in the scrum at Twickenham last autumn to give England the platform for an impressive 32-16 victory. Leicester, who signed White from Bristol when the West Country side were relegated from the Zurich Premiership in the summer of 2003, have also been aided by White's presence this season. The Tigers are sitting pretty at the top of the Premiership table and have also booked their place in the last eight of the Heineken Cup. \"I am pleased with my form,\" he said. \"But my form is helped by the people I play with at Leicester - people like Martin Johnson and Graham Rowntree. \"It's been a good season so far and to be in the starting XV for the first game of the Six Nations is what every player wants. \"I am delighted with the way things have gone but we have to get it right this weekend.\" White is now one of the more experienced members of the England squad which takes to the field on Saturday. Injuries have taken their toll and coach Andy Robinson has been deprived of Richard Hill, Jonny Wilkinson, Martin Corry, Mike Tindall, Will Greenwood and Stuart Abbott.And with 27 caps and a World Cup winner's medal to his name, White is now in a position to offer his experience to youngsters such as centres Matthew Tait and Jamie Noon. \"I don't know how much experience a tight-head can give a centre but you are there to give them a pat on the back if things go wrong or to be there if they want to talk in any way,\" he added. \"When I first came into the squad, people like Jason Leonard and Martin Johnson were the first to come over and talk through things and help out.\"It gives you a lot of confidence when people like that speak to you. \"I was in awe of a lot of them so to sit down and speak with them and realise you are on the same wavelength is good.\" White missed the vast majority of last year's Six Nations because of a knee injury and is raring for the 2005 event to get going. And that is despite the opening game taking place amid the red-hot atmosphere in Cardiff. \"I enjoy the atmosphere. The Millennium Stadium is probably one of the best stadiums in the world,\" he said. \"To go down there and hear the shouting and the singing - it's one of my favourite places to play. \"This is probably the most even Six Nations for a long time. England, Ireland, France and Wales are all contenders. \"On form, Ireland should be favourites but you just don't know - that's the great thing about this tournament.\" \\\\\n",
       "\t22 & entertainment & Campaigners attack MTV 'sleaze' & MTV has been criticised for \"incessant sleaze\" by television indecency campaigners in the US.The Parents Television Council (PTC), which monitors violence and sex on TV, said the cable music channel offered the \"cheapest form\" of programming. The group is at the forefront of a vociferous campaign to clean up American television. But a spokeswoman for MTV said it was \"unfair and inaccurate\" to single out MTV for criticism.The PTC monitored MTV's output for 171 hours from 20 March to 27 March 2004, during the channel's Spring Break coverage. In its report - MTV Smut Peddlers: Targeting Kids with Sex, Drugs and Alcohol - the PTC said it witnessed 3,056 flashes of nudity or sexual situations and 2,881 verbal references to sex. Brent Bozell, PTC president and conservative activist said: \"MTV is blatantly selling raunchy sex to kids. \"Compared to broadcast television programmes aimed at adults, MTV's programming contains substantially more sex, foul language and violence - and MTV's shows are aimed at children as young as 12. \"There's no question that TV influences the attitudes and perceptions of young viewers, and MTV is deliberately marketing its raunch to millions of innocent children.\"The watchdog decided to look at MTV's programmes after Janet Jackson's infamous \"wardrobe malfunction\" at last year's Super Bowl. The breast-baring incident generated 500,000 complaints and CBS - which is owned by the same parent company as MTV - was quick to apologise. MTV spokeswoman Jeannie Kedas said the network follows the same standards as broadcasters and reflects the culture and what its viewers are interested in. \"It's unfair and inaccurate to paint MTV with that brush of irresponsibility,\" she said. \"We think it's underestimating young people's intellect and level of sophistication.\" Ms Kedas also highlighted the fact MTV won an award in 2004 for the Fight for Your Rights series that focused on issues such as sexual health and tolerance. \\\\\n",
       "\t23 & entertainment & Douglas set for Indian adventure & Actor Michael Douglas is to co-produce and star in an adventure film about a diamond robbery set in India.The new picture is expected to be similar to Douglas's action films of the 1980s, Romancing The Stone and The Jewel Of The Nile. Another Hollywood star is being lined up to co-star, while the rest of the cast will be Indian. Aishwarya Rai, star of Bride and Prejudice, is the \"preferred choice\" of the Indian studio involved in the film.On a visit to India, the 60-year-old actor said he hoped to start shooting Racing The Monsoon next year. Douglas added that it had been inspired by a Wall Street Journal article about India's 'angadias', who courier money and diamonds around India.The actor's own production company, Further Films, is working in partnership with two Indian film-making concerns to bring the picture to the screen. Shailendra Singh, the founder of India's Percept Films, said there would be \"a lot of India\" in the movie - and that an Indian train would play a big role. \"The train will be a crucial part of the film. The chase and most of the stunts will be on the train,\" said Mr Singh. Swashbuckling adventure film Romancing The Stone saw Douglas's female co-star Kathleen Turner win a Golden Globe award for her performance in 1985. \\\\\n",
       "\t24 & sport & Moya emotional after Davis Cup win & Carlos Moya described Spain's Davis Cup victory as the highlight of his career after he beat Andy Roddick to end the USA's challenge in Seville.Moya made up for missing Spain's 2000 victory through injury by beating Roddick 6-2 7-6 (7-1) 7-6 (7-5) to give the hosts an unassailable 3-1 lead. \"I have woken up so many nights dreaming of this day,\" said Moya. \"All my energy has been focused on today. \"What I have lived today I do not think I will live again.\" Spain's only other Davis Cup title came two years ago in Valencia, when they beat Australia. And Moya, nicknamed Charly, admitted: \"The Davis Cup is my dream and I was a bit nervous at the outset. \"Some people have said that I am obsessed but I think that it is better this way. It helps me reach my goals if I am obsessed. \"It's really incredible - to get the winning point is really something.\" Spanish captain Jordi Arrese said: \"Charly played a great game. It was his opportunity and he hasn't let us down. \"He had lost three times to Roddick, and this was his day to beat him. \"He had been waiting years to be in this position.\" Spain's victory was also remarkable for the performance of Rafael Nadal, who beat Roddick in the opening singles.Aged 18 years and 185 days, the Mallorcan became the youngest player to win the Davis Cup. \"What a great way to finish the year,\" said Nadal afterwards. US coach Patrick McEnroe wants Roddick and the rest of his team to play more tennis on clay and hone their skills on the surface. \"I think it will help these guys even on slow hard courts to learn how to mix things up a little bit and to play a little bit smarter and tactically better.\" \"Obviously it's unrealistic to say that we're going to just start playing constantly on clay, with the schedule. \"But certainly I think we can put the work in at the appropriate time and play a couple more events and play against these guys who are the best on this stuff,\" said McEnroe. Roddick was left frustrated after losing both his singles on the slow clay of Seville's Olympic Stadium. \"It's just tough because I felt like I was in it the whole time against one of the top three clay-courters in the world,\" said the American. \"I had my chances and just didn't convert them. The bottom line is they were just better than us this weekend. \"They came out, took care of business and they beat us. It's as simple as that.\" \\\\\n",
       "\t25 & tech & Broadband soars in 2004 & If broadband were a jumbo jet, then 2003 would have seen it taxiing down the runway, firing up its engines and preparing for take-off. But this year has seen it soar.In the spring it literally took to the skies as Lufthansa and British Airways trialled it on flights. This perhaps said more about how indispensable people were beginning to perceive the technology, rather than how useful sky-high broadband would actually be. It was flying high and by the autumn, five million Britons had signed up for high-speed net access at home.Such enthusiasm is unlikely to dampen any time soon and experts predict that by the end of next year the numbers will have risen to more than eight million, or more than 30\\% of homes. The two key factors in whetting people's appetite were falling prices and a huge marketing push. When operators such as BT and Telewest offered standard 512K broadband for less than Â£20 at the beginning of the year, it was as if an invisible barrier had been breached - broadband had truly gone mass market. A feeding frenzy followed as firms vied for eyeballs in a price war reminiscent of that following the mass market take-up of dial-up. Broadband for less than Â£10 was even touted by some firms, although such a low price raised eyebrows among more established companies questioning how they are able to sustain such business models.For those who became broadbanders in 2004 there was no turning back and the days of waiting for the modem to kick in began to seem as outdated an idea as a jungle without celebrities. The rest of the world was also falling in love with the benefits of fast internet access, to the tune of 100 million connections worldwide by April, prompting research firm Point Topic to declare it one of the fastest growing technologies ever. By September, the number of broadband connections in the UK finally overtook dial-up and in December BT announced that it was making a new broadband connection every 10 seconds.Broadband was being mentioned on the 10 O'clock News and in the tabloids; the Sun even carried a cartoon joke about it. But two of the most significant pieces of news for broadband were items that did not make the headlines. In May, BT quietly announced that it was shaving 70\\% off the cost of allowing other operators access to its telephone exchanges, so-called local loop unbundling. The vital local loop is the crucial link between telephone exchanges and homes. At the moment BT has a stranglehold on more than 80\\% of these lines making it the key voice in deciding what ADSL products get into homes. With cheaper local loop unbundling, rivals to BT can offer faster services that will leave the broadband of today looking positively tortoise-like. It will mean the UK will finally catch up with countries such as France and the Netherlands, where homes are routinely enjoying speeds of up to 15Mb (megabits per second). And the major price fall means that, rather than just talk about it, companies are actually starting to get their own equipment into BT's exchanges. It may not seem that exciting but it is a remarkable transition given that just a few years ago the arguments over local loop unbundling bore more than a passing resemblance to the Northern Ireland peace talks - fraught, bitter and with no end in sight.Another big piece of news for broadband users in 2004 was the extension of BT's reach, meaning more than 95\\% of the population could get broadband, regardless of how far away from the exchange they lived.There was a slight caveat for those wanting to upgrade to 1Mbps broadband, they still have to live within six kilometres of a broadband-enabled exchange. For thousands frustrated by their inability to get the technology, the news meant they could finally join in. Broadband is not just about fast access over the telephone and cable operators NTL and Telewest also had a bumper year. The biggest news for them was increased speeds, introducing 2Mb and 3Mb services for users and offering a free upgrade to those on 512K. The cable operators are limited in their reach and it is perhaps testament to how big a deal local loop unbundling could become that even they are considering extending their range via this route. Broadband can seem confusing for consumers, with the huge amount of operators offering so many different products, some with capped bandwidth and different length contracts and set-up fees. It is unlikely to get any less easy to understand in 2005 but remains a plane worth catching. As it gets faster and offers extras such as cheap telephone calls online, the only real thing to remember for the coming year is to enjoy the ride. \\\\\n",
       "\t26 & politics & Howard rebuts asylum criticisms & Tory leader Michael Howard has gone on the offensive in response to people questioning how a son of immigrants can propose asylum quotas.Mr Howard, whose parents fled the Nazi threat to come to the UK, says the claim would mean no-one from an immigrant family could become premier. His comments come in a BBC documentary called 'No More Mr Nasty'. TV presenter Anne Robinson said as home secretary he gave the impression he would \"like to kick your cat\". Ms Robinson, a friend of the Tory leader, also revealed that as a Cambridge student Mr Howard was \"much loved by women and he was a courteous and kind and rather dashing lover\" - although she denied having personal experience. \"I wasn't at Cambridge - and it's not personal experience - but I know people who were.\"Documentary maker Michael Cockerell was given behind-the-scenes access to Mr Howard for his film portrait. The Tory leader was asked about to respond to people who said that if there had there been a quota on immigration and asylum in the 1930s, his parents might not have been allowed into the country.He replies: \"What is the inference of that? \"That if you reach the view that you need to control immigration in the interests of the country you're not allowed to put a view forward if you happen to be descended from immigrants? \"That seems to me an absolutely extraordinary proposition? It would certainly mean no one from immigrant parents could be prime minister.\"Ms Robinson, who presents The Weakest Link tells Cockerell that she despaired at his hardline image when he was home secretary in John Major's government. \"I used to have to sit on my hands because he'd get on television and give a passable impression of someone who'd like to kick your cat or would put your baby in prison if he cried. I mean it was very, very Draconian.\" The film shows Mr Howard laughing at Rory Bremner's impression of him as Dracula, which he calls \"good fun\", apart from the serious falsehood of a comment suggesting he wants fewer black people in the UK. The film shows the private side of the Tory leader watching television at home or playing table tennis with his wife, ex-model Sandra. Asked if she enjoys a game of ping pong she confesses: \"Yeah, it would be more enjoyable if I could win occasionally too, but otherwise it's quite fun.\"Former Downing Street communications chief Alastair Campbell, now working on Labour's election campaign, says a \"touchy-feely\" image does not fit Mr Howard. He says Tony Blair was not worried by his opponents' early performance in their Commons clashes because Mr Howard lacked a \"big strategy\", including on issues like Iraq. The Tory leader brands such criticisms as \"absolutely rubbish\", arguing that he has been consistent on his support for the war but critical of Mr Blair's failure to tell the truth on intelligence. Former Tory chancellor Ken Clarke says Mr Howard has a bigger problem changing perceptions of the Tory party than his personal image. Mr Clarke says the party is improving and it is \"conceivable\" it could win the next election. But he adds: \"It has got to change itself a bit and broaden its appeal.\"- Michael Howard: No More Mr Nasty is being shown on BBC2 on Saturday 12 February at 2005 GMT. \\\\\n",
       "\t27 & politics & Labour MP praises Tory campaign & The Conservatives have been \"a lot smarter\" in the way they have conducted the general election campaign, a Labour backbencher has said.Derek Wyatt said having a five month campaign \"turned off voters\" and suggested people were already \"rather bored of the thing\". He wants a greater campaigning role for Chancellor Gordon Brown. Labour said the economy was at the heart of the campaign and Mr Brown therefore had a prominent role. But Mr Wyatt argued: \"By some way, he is currently the figure in all of the polls that people trust and see that has delivered over eight years an economy unmatched anywhere in the world. \"So, it would be a tad foolish of the Labour Party if we did not use him as we have done over the past three elections.\"Labour's election chief Alan Milburn denied there was an attempt to sideline Mr Brown after facing criticism for letting the Tories set the agenda. However, Mr Wyatt predicted the campaign would get under way properly once the chancellor delivered his budget. The MP for Sittingbourne and Sheppey said Prime Minister Tony Blair had been \"trying very hard\" to improve his own standing with the electorate through a \"sort of campaign of trust\". But Mr Blair had been \"hurt\" by the Iraq controversy, he added. A Labour party spokesman played down differences with Mr Wyatt and said Mr Brown already had a prominent campaign role. \"This election is a choice between Labour taking Britain forward and the Conservatives taking us back.\" \\\\\n",
       "\t28 & tech & Court mulls file-sharing future & Judges at the US Supreme Court have been hearing evidence for and against file-sharing networks.The court will decide whether producers of file-sharing software can ultimately be held responsible for copyright infringement. They questioned if opening the way for the entertainment industry to sue file-sharers could deter innovation. They also said that file-trading firms had some responsibility for inducing people to piracy.The lawsuit, brought by 28 of the world's largest entertainment firms, has raged for several years. Legal experts agree that if the Supreme Court finds in favour of the music and movie industry they would be able to sue file-trading firms into bankruptcy. But if the judge rules that Grokster and Morpheus - the file-sharers at the centre of the case - are merely providers of technology that can have legitimate as well as illegitimate uses, then the music and movie industry would be forced to abandon its pursuit of file-sharing providers. Instead, they would have to pursue individuals who use peer-to-peer networks to get their hands on free music and movies. The hi-tech and entertainment industries have been divided on the issue. Intel filed a document with the Supreme Court earlier this month in defence of Grokster and others, despite misgivings about some aspects of the file-sharing community. It summed up the attitude of many tech firms in its submission which states that its products \"are essentially tools, that like any other tools, capable of being used by consumers and businesses for unlawful purposes\".Asking firms to second-guess the uses that its technologies would be put to, and to build in ways of preventing illegitimate use, would stifle innovation, it said. The Electronic Frontier Foundation, a civil rights watchdog, is also defending StreamCast Networks, the company behind the Morpheus file-sharing software. The case raises a question of critical importance at the border between copyright and innovation, it said. It cites, as do many, the landmark ruling in 1984 which found that Sony should not be held responsible for the fact that its Betamax video recorder could be used for piracy. Defenders remain optimistic that the judges will rule in favour of the peer-to-peer networks, upholding the precedent set by the Sony Betamax case. A small band of supporters were outside the court as the lawyers entered, wearing \"Save Betamax\" t-shirts. \"The Betamax principles stand as the Magna Carta for the technology industry and are responsible for the explosion in innovation that has occurred in the US over the past 20 years,\" said Gary Shapiro, chief executive of the Consumer Electronics Association. Supreme Court Justice Stephen Breyer said that inventions from printing to Apple's iPod could be used to illegally duplicate copyrighted materials but had, on balance, been beneficial to society. He said that while file-trading software can be used to illegally trade movies and music, conceptually the technology had \"some really excellent uses\".Based on Tuesday's hearing it seems unlikely that the Betamax ruling will be overturned but file-sharing firms might still be held responsible for encouraging or inducing piracy. Grokster's lawyer argued that the company should be judged by its current behaviour rather than what it did when it first set up. But this argument was dismissed as \"ridiculous\" by Justice David Souter. CEA boss Mr Shapiro thinks the case is the most important that the Supreme Court will hear this year. \"It's about preserving America's proud history of technological innovation and protecting the ability of consumers to access and utilise technology,\" he said. The case has already been heard by two lower courts and both found in favour of the peer-to-peer networks. They ruled that despite being used to distribute millions of illegal songs, file-sharing could also be used to cheaply distribute software, government documents and promotional copies of music. \\\\\n",
       "\t29 & politics & Tory expert denies defeatism & The Conservatives' campaign director has denied a report claiming he warned Michael Howard the party could not win the next general election.The Times on Monday said Australian Lynton Crosby told the party leader to focus on trying to increase the Tories' Commons presence by 25 to 30 seats. But Mr Crosby said in a statement: \"I have never had any such conversation... and I do not hold that view.\" Mr Howard later added there was not \"one iota\" of truth in the report. The strategist helped Australia's PM, John Howard, win four elections. Mr Howard appointed Mr Crosby as his elections chief last October. Mr Crosby's statement said: \"The Conservative Party has been making an impact on the issues of lower tax and controlled immigration over the past week.\" It added: \"The Labour Party will be wanting to do all they can to distract attention away from the issues that really matter to people.\" \\\\\n",
       "\t30 & politics & UK 'needs true immigration data' & A former Home Office minister has called for an independent body to be set up to monitor UK immigration.Barbara Roche said an organisation should monitor and publish figures and be independent of government. She said this would counter \"so-called independent\" groups like Migration Watch, which she described as an anti-immigration body posing as independent. Migration Watch says it is not against all immigration and the government already publishes accurate figures. Sir Andrew Green, chairman of the organisation, says there is no need for an independent body because Office of National Statistics data are accurate. He says he opposes large-scale immigration \"both on the grounds of overcrowding and culture\".He said: \"For example, over the next 20 years one household in three will be due to immigration. \"We are already more overcrowded than India and we are four times more overcrowded than France.\" Ms Roche, Labour MP for Hornsey and Wood Green, believes legal migration is something we should welcome. She said her proposals mean \"we wouldn't have so-called independent experts, like Migration Watch, who come into this debate from an anti-immigration point of view.\" She went on: \"What I would like to see is there being a body which actually looked at the figures, published them, and was independent of government. \"I think that would go a long way to allaying some of the fears that are sometimes whipped up during this debate.\" \\\\\n",
       "\t$\\dots$ & $\\dots$ & $\\dots$ & $\\dots$ \\\\\n",
       "\\end{tabular}\n"
      ],
      "text/plain": [
       "\u001b[1m50×3 DataFrame\u001b[0m\n",
       "\u001b[1m Row \u001b[0m│\u001b[1m topic         \u001b[0m\u001b[1m heading                           \u001b[0m\u001b[1m body                 \u001b[0m ⋯\n",
       "\u001b[1m     \u001b[0m│\u001b[90m String        \u001b[0m\u001b[90m String                            \u001b[0m\u001b[90m String               \u001b[0m ⋯\n",
       "─────┼──────────────────────────────────────────────────────────────────────────\n",
       "   1 │ entertainment  Animation charms Japan box office  Oscar-winning directo ⋯\n",
       "   2 │ tech           Satellite mapping aids Darfur re…  Aid workers trying to\n",
       "   3 │ tech           'Evil twin' fear for wireless net  People using wireless\n",
       "   4 │ business       US bank in $515m SEC settlement    Five Bank of America\n",
       "   5 │ sport          Ronaldo considering new contract   Manchester United win ⋯\n",
       "   6 │ business       Arsenal 'may seek full share lis…  Arsenal vice-chairman\n",
       "   7 │ business       US insurer Marsh cuts 2,500 jobs   Up to 2,500 jobs are\n",
       "   8 │ sport          Robinson out of Six Nations        England captain Jason\n",
       "   9 │ business       S Korean consumers spending again  South Korea looks set ⋯\n",
       "  10 │ business       S Korean lender faces liquidation  Creditors of South Ko\n",
       "  11 │ politics       Candidate resigns over BNP link    A prospective candida\n",
       "  ⋮  │       ⋮                        ⋮                                  ⋮     ⋱\n",
       "  41 │ business       Liberian economy starts to grow    The Liberian economy\n",
       "  42 │ tech           Gizmondo gadget hits the shelves   The Gizmondo combined ⋯\n",
       "  43 │ politics       Howard denies split over ID cards  Michael Howard has de\n",
       "  44 │ business       ECB holds rates amid growth fears  The European Central\n",
       "  45 │ business       Fiat chief takes steering wheel    The chief executive o\n",
       "  46 │ politics       End Bush 'denial' Blair tells EU   Tony Blair is urging  ⋯\n",
       "  47 │ politics       Economy focus for election battle  Britain's economic fu\n",
       "  48 │ tech           Broadband steams ahead in the US   More and more America\n",
       "  49 │ sport          Holmes feted with further honour   Double Olympic champi\n",
       "  50 │ business       European losses hit GM's profits   General Motors (GM) s ⋯\n",
       "\u001b[36m                                                    1 column and 29 rows omitted\u001b[0m"
      ]
     },
     "execution_count": 88,
     "metadata": {},
     "output_type": "execute_result"
    }
   ],
   "source": [
    "test_docs = DataFrames.DataFrame(topic = [topic for topic ∈ pd_test_docs.topic], \n",
    "    heading = [heading for heading ∈ pd_test_docs.heading], \n",
    "    body = [body for body ∈ pd_test_docs.body])"
   ]
  },
  {
   "cell_type": "code",
   "execution_count": 89,
   "metadata": {
    "ExecuteTime": {
     "end_time": "2020-06-20T17:19:14.042605Z",
     "start_time": "2020-06-20T17:19:14.035501Z"
    },
    "slideshow": {
     "slide_type": "fragment"
    }
   },
   "outputs": [
    {
     "data": {
      "text/plain": [
       "((2175, 3), (50, 3))"
      ]
     },
     "execution_count": 89,
     "metadata": {},
     "output_type": "execute_result"
    }
   ],
   "source": [
    "size(train_docs), size(test_docs)"
   ]
  },
  {
   "cell_type": "code",
   "execution_count": 90,
   "metadata": {},
   "outputs": [
    {
     "data": {
      "text/html": [
       "<div class=\"data-frame\"><p>5 rows × 2 columns</p><table class=\"data-frame\"><thead><tr><th></th><th>topic</th><th>nrow</th></tr><tr><th></th><th title=\"String\">String</th><th title=\"Int64\">Int64</th></tr></thead><tbody><tr><th>1</th><td>sport</td><td>12</td></tr><tr><th>2</th><td>business</td><td>11</td></tr><tr><th>3</th><td>entertainment</td><td>9</td></tr><tr><th>4</th><td>tech</td><td>9</td></tr><tr><th>5</th><td>politics</td><td>9</td></tr></tbody></table></div>"
      ],
      "text/latex": [
       "\\begin{tabular}{r|cc}\n",
       "\t& topic & nrow\\\\\n",
       "\t\\hline\n",
       "\t& String & Int64\\\\\n",
       "\t\\hline\n",
       "\t1 & sport & 12 \\\\\n",
       "\t2 & business & 11 \\\\\n",
       "\t3 & entertainment & 9 \\\\\n",
       "\t4 & tech & 9 \\\\\n",
       "\t5 & politics & 9 \\\\\n",
       "\\end{tabular}\n"
      ],
      "text/plain": [
       "\u001b[1m5×2 DataFrame\u001b[0m\n",
       "\u001b[1m Row \u001b[0m│\u001b[1m topic         \u001b[0m\u001b[1m nrow  \u001b[0m\n",
       "\u001b[1m     \u001b[0m│\u001b[90m String        \u001b[0m\u001b[90m Int64 \u001b[0m\n",
       "─────┼──────────────────────\n",
       "   1 │ sport             12\n",
       "   2 │ business          11\n",
       "   3 │ entertainment      9\n",
       "   4 │ tech               9\n",
       "   5 │ politics           9"
      ]
     },
     "execution_count": 90,
     "metadata": {},
     "output_type": "execute_result"
    }
   ],
   "source": [
    "value_counts(df, col) = combine(DataFrames.groupby(df, col), nrow)\n",
    "\n",
    "sort!(value_counts(test_docs, :topic), :nrow, rev=true)"
   ]
  },
  {
   "cell_type": "markdown",
   "metadata": {
    "slideshow": {
     "slide_type": "slide"
    }
   },
   "source": [
    "### Vectorize train & test sets"
   ]
  },
  {
   "cell_type": "code",
   "execution_count": 91,
   "metadata": {
    "ExecuteTime": {
     "end_time": "2020-06-20T17:19:14.533675Z",
     "start_time": "2020-06-20T17:19:14.054889Z"
    },
    "slideshow": {
     "slide_type": "fragment"
    }
   },
   "outputs": [
    {
     "name": "stderr",
     "output_type": "stream",
     "text": [
      "C:\\Users\\Amirreza\\.julia\\conda\\3\\lib\\site-packages\\sklearn\\utils\\deprecation.py:87: FutureWarning: Function get_feature_names is deprecated; get_feature_names is deprecated in 1.0 and will be removed in 1.2. Please use get_feature_names_out instead.\r\n",
      "  warnings.warn(msg, category=FutureWarning)\r\n"
     ]
    },
    {
     "data": {
      "text/plain": [
       "PyObject <2175x2000 sparse matrix of type '<class 'numpy.int64'>'\n",
       "\twith 178701 stored elements in Compressed Sparse Row format>"
      ]
     },
     "execution_count": 91,
     "metadata": {},
     "output_type": "execute_result"
    }
   ],
   "source": [
    "vectorizer = CountVectorizer(max_df=0.2, min_df=3, stop_words=\"english\", max_features=2000)\n",
    "\n",
    "train_dtm = vectorizer.fit_transform(train_docs.body)\n",
    "words_list = vectorizer.get_feature_names()\n",
    "train_dtm"
   ]
  },
  {
   "cell_type": "code",
   "execution_count": 92,
   "metadata": {
    "ExecuteTime": {
     "end_time": "2020-06-20T17:19:14.547234Z",
     "start_time": "2020-06-20T17:19:14.534611Z"
    },
    "scrolled": true,
    "slideshow": {
     "slide_type": "fragment"
    }
   },
   "outputs": [
    {
     "data": {
      "text/plain": [
       "PyObject <50x2000 sparse matrix of type '<class 'numpy.int64'>'\n",
       "\twith 4045 stored elements in Compressed Sparse Row format>"
      ]
     },
     "execution_count": 92,
     "metadata": {},
     "output_type": "execute_result"
    }
   ],
   "source": [
    "test_dtm = vectorizer.transform(test_docs.body)\n",
    "test_dtm"
   ]
  }
 ],
 "metadata": {
  "celltoolbar": "Slideshow",
  "hide_input": false,
  "kernelspec": {
   "display_name": "Julia 1.7.1",
   "language": "julia",
   "name": "julia-1.7"
  },
  "language_info": {
   "file_extension": ".jl",
   "mimetype": "application/julia",
   "name": "julia",
   "version": "1.7.1"
  },
  "name": "_merged",
  "toc": {
   "base_numbering": 1,
   "nav_menu": {},
   "number_sections": true,
   "sideBar": true,
   "skip_h1_title": true,
   "title_cell": "Table of Contents",
   "title_sidebar": "Contents",
   "toc_cell": false,
   "toc_position": {
    "height": "379.503px",
    "left": "24px",
    "right": "1064px",
    "top": "66.3352px",
    "width": "343.575px"
   },
   "toc_section_display": true,
   "toc_window_display": true
  }
 },
 "nbformat": 4,
 "nbformat_minor": 2
}
