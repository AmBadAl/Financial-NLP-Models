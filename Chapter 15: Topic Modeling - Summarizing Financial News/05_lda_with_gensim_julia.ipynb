{
 "cells": [
  {
   "cell_type": "markdown",
   "metadata": {
    "slideshow": {
     "slide_type": "slide"
    }
   },
   "source": [
    "# Topic Modeling: Latent Dirichlet Allocation with gensim"
   ]
  },
  {
   "cell_type": "markdown",
   "metadata": {},
   "source": [
    "Gensim is a specialized NLP library with a fast LDA implementation and many additional features. We will also use it in the next chapter on word vectors (see the notebook lda_with_gensim for details."
   ]
  },
  {
   "cell_type": "markdown",
   "metadata": {
    "slideshow": {
     "slide_type": "slide"
    }
   },
   "source": [
    "## Imports & Settings"
   ]
  },
  {
   "cell_type": "code",
   "execution_count": 1,
   "metadata": {
    "ExecuteTime": {
     "end_time": "2021-04-25T21:52:27.604182Z",
     "start_time": "2021-04-25T21:52:27.602354Z"
    }
   },
   "outputs": [],
   "source": [
    "using Pkg"
   ]
  },
  {
   "cell_type": "code",
   "execution_count": 2,
   "metadata": {},
   "outputs": [],
   "source": [
    "using PyCall\n",
    "using Conda"
   ]
  },
  {
   "cell_type": "code",
   "execution_count": 3,
   "metadata": {
    "scrolled": true
   },
   "outputs": [],
   "source": [
    "#Pkg.add(\"Glob\")\n",
    "#Pkg.add(\"TextAnalysis\")\n",
    "#Pkg.add(\"DataFrames\")\n",
    "#Pkg.add(\"StringEncodings\")\n",
    "#Pkg.add(\"Plots\")\n",
    "#Pkg.add(\"CSV\")\n",
    "#Pkg.add(\"Seaborn\")\n",
    "#Pkg.add(\"ScikitLearn\")"
   ]
  },
  {
   "cell_type": "code",
   "execution_count": 4,
   "metadata": {},
   "outputs": [],
   "source": [
    "using ScikitLearn"
   ]
  },
  {
   "cell_type": "code",
   "execution_count": 5,
   "metadata": {},
   "outputs": [],
   "source": [
    "using ScikitLearn: @sk_import"
   ]
  },
  {
   "cell_type": "code",
   "execution_count": 6,
   "metadata": {},
   "outputs": [
    {
     "name": "stderr",
     "output_type": "stream",
     "text": [
      "┌ Warning: Module model_selection has been ported to Julia - try `import ScikitLearn: CrossValidation` instead\n",
      "└ @ ScikitLearn.Skcore C:\\Users\\Amirreza\\.julia\\packages\\ScikitLearn\\Kn82b\\src\\Skcore.jl:169\n"
     ]
    },
    {
     "data": {
      "text/plain": [
       "PyObject <function train_test_split at 0x00000000790F4430>"
      ]
     },
     "execution_count": 6,
     "metadata": {},
     "output_type": "execute_result"
    }
   ],
   "source": [
    "@sk_import feature_extraction.text: CountVectorizer\n",
    "@sk_import model_selection: train_test_split"
   ]
  },
  {
   "cell_type": "code",
   "execution_count": 7,
   "metadata": {},
   "outputs": [],
   "source": [
    "using Glob\n",
    "using TextAnalysis\n",
    "using DataFrames\n",
    "using StringEncodings\n",
    "using Plots\n",
    "using CSV\n",
    "using Seaborn"
   ]
  },
  {
   "cell_type": "code",
   "execution_count": 8,
   "metadata": {},
   "outputs": [],
   "source": [
    "#Conda.add(\"gensim\")\n",
    "@pyimport gensim"
   ]
  },
  {
   "cell_type": "code",
   "execution_count": 9,
   "metadata": {},
   "outputs": [
    {
     "data": {
      "text/plain": [
       "PyObject <class 'gensim.matutils.Sparse2Corpus'>"
      ]
     },
     "execution_count": 9,
     "metadata": {},
     "output_type": "execute_result"
    }
   ],
   "source": [
    "LdaModel = gensim.models.LdaModel\n",
    "Dictionary = gensim.corpora.Dictionary\n",
    "Sparse2Corpus = gensim.matutils.Sparse2Corpus"
   ]
  },
  {
   "cell_type": "markdown",
   "metadata": {
    "slideshow": {
     "slide_type": "skip"
    }
   },
   "source": [
    "## Load BBC data"
   ]
  },
  {
   "cell_type": "code",
   "execution_count": 10,
   "metadata": {
    "ExecuteTime": {
     "end_time": "2021-04-25T21:52:28.511553Z",
     "start_time": "2021-04-25T21:52:28.497754Z"
    },
    "scrolled": true
   },
   "outputs": [
    {
     "data": {
      "text/plain": [
       "2225-element Vector{String}:\n",
       " \"..\\\\data\\\\bbc\\\\bbc\\\\business\\\\001.txt\"\n",
       " \"..\\\\data\\\\bbc\\\\bbc\\\\business\\\\002.txt\"\n",
       " \"..\\\\data\\\\bbc\\\\bbc\\\\business\\\\003.txt\"\n",
       " \"..\\\\data\\\\bbc\\\\bbc\\\\business\\\\004.txt\"\n",
       " \"..\\\\data\\\\bbc\\\\bbc\\\\business\\\\005.txt\"\n",
       " \"..\\\\data\\\\bbc\\\\bbc\\\\business\\\\006.txt\"\n",
       " \"..\\\\data\\\\bbc\\\\bbc\\\\business\\\\007.txt\"\n",
       " \"..\\\\data\\\\bbc\\\\bbc\\\\business\\\\008.txt\"\n",
       " \"..\\\\data\\\\bbc\\\\bbc\\\\business\\\\009.txt\"\n",
       " \"..\\\\data\\\\bbc\\\\bbc\\\\business\\\\010.txt\"\n",
       " \"..\\\\data\\\\bbc\\\\bbc\\\\business\\\\011.txt\"\n",
       " \"..\\\\data\\\\bbc\\\\bbc\\\\business\\\\012.txt\"\n",
       " \"..\\\\data\\\\bbc\\\\bbc\\\\business\\\\013.txt\"\n",
       " ⋮\n",
       " \"..\\\\data\\\\bbc\\\\bbc\\\\tech\\\\390.txt\"\n",
       " \"..\\\\data\\\\bbc\\\\bbc\\\\tech\\\\391.txt\"\n",
       " \"..\\\\data\\\\bbc\\\\bbc\\\\tech\\\\392.txt\"\n",
       " \"..\\\\data\\\\bbc\\\\bbc\\\\tech\\\\393.txt\"\n",
       " \"..\\\\data\\\\bbc\\\\bbc\\\\tech\\\\394.txt\"\n",
       " \"..\\\\data\\\\bbc\\\\bbc\\\\tech\\\\395.txt\"\n",
       " \"..\\\\data\\\\bbc\\\\bbc\\\\tech\\\\396.txt\"\n",
       " \"..\\\\data\\\\bbc\\\\bbc\\\\tech\\\\397.txt\"\n",
       " \"..\\\\data\\\\bbc\\\\bbc\\\\tech\\\\398.txt\"\n",
       " \"..\\\\data\\\\bbc\\\\bbc\\\\tech\\\\399.txt\"\n",
       " \"..\\\\data\\\\bbc\\\\bbc\\\\tech\\\\400.txt\"\n",
       " \"..\\\\data\\\\bbc\\\\bbc\\\\tech\\\\401.txt\""
      ]
     },
     "execution_count": 10,
     "metadata": {},
     "output_type": "execute_result"
    }
   ],
   "source": [
    "files = Glob.glob(\"../data/bbc/bbc/**/*.txt\")"
   ]
  },
  {
   "cell_type": "code",
   "execution_count": 11,
   "metadata": {
    "ExecuteTime": {
     "end_time": "2021-04-25T21:52:28.577125Z",
     "start_time": "2021-04-25T21:52:28.512861Z"
    },
    "slideshow": {
     "slide_type": "skip"
    }
   },
   "outputs": [],
   "source": [
    "doc_list = Any[]\n",
    "for (i,file) ∈ enumerate(files)\n",
    "    f = open(file,\"r\")\n",
    "    s = StringDecoder(f,\"LATIN1\", \"UTF-8\")\n",
    "    topic = split(file, \"\\\\\")[end-1]\n",
    "    lines = readlines(s)\n",
    "    heading = strip(lines[1])\n",
    "    body = strip(join([strip(line) for line ∈ lines[2:end]]))\n",
    "    push!(doc_list, [uppercasefirst(topic), heading, body])\n",
    "    close(s)\n",
    "    close(f)\n",
    "end"
   ]
  },
  {
   "cell_type": "markdown",
   "metadata": {
    "slideshow": {
     "slide_type": "skip"
    }
   },
   "source": [
    "### Convert to DataFrame"
   ]
  },
  {
   "cell_type": "code",
   "execution_count": 12,
   "metadata": {
    "ExecuteTime": {
     "end_time": "2021-04-25T21:52:28.588113Z",
     "start_time": "2021-04-25T21:52:28.578305Z"
    },
    "scrolled": true,
    "slideshow": {
     "slide_type": "skip"
    }
   },
   "outputs": [
    {
     "data": {
      "text/html": [
       "<table class=\"data-frame\"><thead><tr><th></th><th>topic</th><th>heading</th><th>article</th></tr><tr><th></th><th>String</th><th>String</th><th>String</th></tr></thead><tbody><p>5 rows × 3 columns</p><tr><th>1</th><td>Business</td><td>Ad sales boost Time Warner profit</td><td>Quarterly profits at US media giant TimeWarner jumped 76% to $1.13bn (Â£600m) for the three months to December, from $639m year-earlier.The firm, which is now one of the biggest investors in Google, benefited from sales of high-speed internet connections and higher advert sales. TimeWarner said fourth quarter sales rose 2% to $11.1bn from $10.9bn. Its profits were buoyed by one-off gains which offset a profit dip at Warner Bros, and less users for AOL.Time Warner said on Friday that it now owns 8% of search-engine Google. But its own internet business, AOL, had has mixed fortunes. It lost 464,000 subscribers in the fourth quarter profits were lower than in the preceding three quarters. However, the company said AOL's underlying profit before exceptional items rose 8% on the back of stronger internet advertising revenues. It hopes to increase subscribers by offering the online service free to TimeWarner internet customers and will try to sign up AOL's existing customers for high-speed broadband. TimeWarner also has to restate 2000 and 2003 results following a probe by the US Securities Exchange Commission (SEC), which is close to concluding.Time Warner's fourth quarter profits were slightly better than analysts' expectations. But its film division saw profits slump 27% to $284m, helped by box-office flops Alexander and Catwoman, a sharp contrast to year-earlier, when the third and final film in the Lord of the Rings trilogy boosted results. For the full-year, TimeWarner posted a profit of $3.36bn, up 27% from its 2003 performance, while revenues grew 6.4% to $42.09bn. \"Our financial performance was strong, meeting or exceeding all of our full-year objectives and greatly enhancing our flexibility,\" chairman and chief executive Richard Parsons said. For 2005, TimeWarner is projecting operating earnings growth of around 5%, and also expects higher revenue and wider profit margins.TimeWarner is to restate its accounts as part of efforts to resolve an inquiry into AOL by US market regulators. It has already offered to pay $300m to settle charges, in a deal that is under review by the SEC. The company said it was unable to estimate the amount it needed to set aside for legal reserves, which it previously set at $500m. It intends to adjust the way it accounts for a deal with German music publisher Bertelsmann's purchase of a stake in AOL Europe, which it had reported as advertising revenue. It will now book the sale of its stake in AOL Europe as a loss on the value of that stake.</td></tr><tr><th>2</th><td>Business</td><td>Dollar gains on Greenspan speech</td><td>The dollar has hit its highest level against the euro in almost three months after the Federal Reserve head said the US trade deficit is set to stabilise.And Alan Greenspan highlighted the US government's willingness to curb spending and rising household savings as factors which may help to reduce it. In late trading in New York, the dollar reached $1.2871 against the euro, from $1.2974 on Thursday. Market concerns about the deficit has hit the greenback in recent months. On Friday, Federal Reserve chairman Mr Greenspan's speech in London ahead of the meeting of G7 finance ministers sent the dollar higher after it had earlier tumbled on the back of worse-than-expected US jobs data. \"I think the chairman's taking a much more sanguine view on the current account deficit than he's taken for some time,\" said Robert Sinche, head of currency strategy at Bank of America in New York. \"He's taking a longer-term view, laying out a set of conditions under which the current account deficit can improve this year and next.\"Worries about the deficit concerns about China do, however, remain. China's currency remains pegged to the dollar and the US currency's sharp falls in recent months have therefore made Chinese export prices highly competitive. But calls for a shift in Beijing's policy have fallen on deaf ears, despite recent comments in a major Chinese newspaper that the \"time is ripe\" for a loosening of the peg. The G7 meeting is thought unlikely to produce any meaningful movement in Chinese policy. In the meantime, the US Federal Reserve's decision on 2 February to boost interest rates by a quarter of a point - the sixth such move in as many months - has opened up a differential with European rates. The half-point window, some believe, could be enough to keep US assets looking more attractive, and could help prop up the dollar. The recent falls have partly been the result of big budget deficits, as well as the US's yawning current account gap, both of which need to be funded by the buying of US bonds and assets by foreign firms and governments. The White House will announce its budget on Monday, and many commentators believe the deficit will remain at close to half a trillion dollars.</td></tr><tr><th>3</th><td>Business</td><td>Yukos unit buyer faces loan claim</td><td>The owners of embattled Russian oil giant Yukos are to ask the buyer of its former production unit to pay back a $900m (Â£479m) loan.State-owned Rosneft bought the Yugansk unit for $9.3bn in a sale forced by Russia to part settle a $27.5bn tax claim against Yukos. Yukos' owner Menatep Group says it will ask Rosneft to repay a loan that Yugansk had secured on its assets. Rosneft already faces a similar $540m repayment demand from foreign banks. Legal experts said Rosneft's purchase of Yugansk would include such obligations. \"The pledged assets are with Rosneft, so it will have to pay real money to the creditors to avoid seizure of Yugansk assets,\" said Moscow-based US lawyer Jamie Firestone, who is not connected to the case. Menatep Group's managing director Tim Osborne told the Reuters news agency: \"If they default, we will fight them where the rule of law exists under the international arbitration clauses of the credit.\"Rosneft officials were unavailable for comment. But the company has said it intends to take action against Menatep to recover some of the tax claims and debts owed by Yugansk. Yukos had filed for bankruptcy protection in a US court in an attempt to prevent the forced sale of its main production arm. The sale went ahead in December and Yugansk was sold to a little-known shell company which in turn was bought by Rosneft. Yukos claims its downfall was punishment for the political ambitions of its founder Mikhail Khodorkovsky and has vowed to sue any participant in the sale.</td></tr><tr><th>4</th><td>Business</td><td>High fuel prices hit BA's profits</td><td>British Airways has blamed high fuel prices for a 40% drop in profits.Reporting its results for the three months to 31 December 2004, the airline made a pre-tax profit of Â£75m ($141m) compared with Â£125m a year earlier. Rod Eddington, BA's chief executive, said the results were \"respectable\" in a third quarter when fuel costs rose by Â£106m or 47.3%. BA's profits were still better than market expectation of Â£59m, and it expects a rise in full-year revenues.To help offset the increased price of aviation fuel, BA last year introduced a fuel surcharge for passengers.In October, it increased this from Â£6 to Â£10 one-way for all long-haul flights, while the short-haul surcharge was raised from Â£2.50 to Â£4 a leg. Yet aviation analyst Mike Powell of Dresdner Kleinwort Wasserstein says BA's estimated annual surcharge revenues - Â£160m - will still be way short of its additional fuel costs - a predicted extra Â£250m. Turnover for the quarter was up 4.3% to Â£1.97bn, further benefiting from a rise in cargo revenue. Looking ahead to its full year results to March 2005, BA warned that yields - average revenues per passenger - were expected to decline as it continues to lower prices in the face of competition from low-cost carriers. However, it said sales would be better than previously forecast. \"For the year to March 2005, the total revenue outlook is slightly better than previous guidance with a 3% to 3.5% improvement anticipated,\" BA chairman Martin Broughton said. BA had previously forecast a 2% to 3% rise in full-year revenue.It also reported on Friday that passenger numbers rose 8.1% in January. Aviation analyst Nick Van den Brul of BNP Paribas described BA's latest quarterly results as \"pretty modest\". \"It is quite good on the revenue side and it shows the impact of fuel surcharges and a positive cargo development, however, operating margins down and cost impact of fuel are very strong,\" he said. Since the 11 September 2001 attacks in the United States, BA has cut 13,000 jobs as part of a major cost-cutting drive. \"Our focus remains on reducing controllable costs and debt whilst continuing to invest in our products,\" Mr Eddington said. \"For example, we have taken delivery of six Airbus A321 aircraft and next month we will start further improvements to our Club World flat beds.\" BA's shares closed up four pence at 274.5 pence.</td></tr><tr><th>5</th><td>Business</td><td>Pernod takeover talk lifts Domecq</td><td>Shares in UK drinks and food firm Allied Domecq have risen on speculation that it could be the target of a takeover by France's Pernod Ricard.Reports in the Wall Street Journal and the Financial Times suggested that the French spirits firm is considering a bid, but has yet to contact its target. Allied Domecq shares in London rose 4% by 1200 GMT, while Pernod shares in Paris slipped 1.2%. Pernod said it was seeking acquisitions but refused to comment on specifics.Pernod's last major purchase was a third of US giant Seagram in 2000, the move which propelled it into the global top three of drinks firms. The other two-thirds of Seagram was bought by market leader Diageo. In terms of market value, Pernod - at 7.5bn euros ($9.7bn) - is about 9% smaller than Allied Domecq, which has a capitalisation of Â£5.7bn ($10.7bn; 8.2bn euros). Last year Pernod tried to buy Glenmorangie, one of Scotland's premier whisky firms, but lost out to luxury goods firm LVMH. Pernod is home to brands including Chivas Regal Scotch whisky, Havana Club rum and Jacob's Creek wine. Allied Domecq's big names include Malibu rum, Courvoisier brandy, Stolichnaya vodka and Ballantine's whisky - as well as snack food chains such as Dunkin' Donuts and Baskin-Robbins ice cream. The WSJ said that the two were ripe for consolidation, having each dealt with problematic parts of their portfolio. Pernod has reduced the debt it took on to fund the Seagram purchase to just 1.8bn euros, while Allied has improved the performance of its fast-food chains.</td></tr></tbody></table>"
      ],
      "text/latex": [
       "\\begin{tabular}{r|ccc}\n",
       "\t& topic & heading & article\\\\\n",
       "\t\\hline\n",
       "\t& String & String & String\\\\\n",
       "\t\\hline\n",
       "\t1 & Business & Ad sales boost Time Warner profit & Quarterly profits at US media giant TimeWarner jumped 76\\% to \\$1.13bn (Â£600m) for the three months to December, from \\$639m year-earlier.The firm, which is now one of the biggest investors in Google, benefited from sales of high-speed internet connections and higher advert sales. TimeWarner said fourth quarter sales rose 2\\% to \\$11.1bn from \\$10.9bn. Its profits were buoyed by one-off gains which offset a profit dip at Warner Bros, and less users for AOL.Time Warner said on Friday that it now owns 8\\% of search-engine Google. But its own internet business, AOL, had has mixed fortunes. It lost 464,000 subscribers in the fourth quarter profits were lower than in the preceding three quarters. However, the company said AOL's underlying profit before exceptional items rose 8\\% on the back of stronger internet advertising revenues. It hopes to increase subscribers by offering the online service free to TimeWarner internet customers and will try to sign up AOL's existing customers for high-speed broadband. TimeWarner also has to restate 2000 and 2003 results following a probe by the US Securities Exchange Commission (SEC), which is close to concluding.Time Warner's fourth quarter profits were slightly better than analysts' expectations. But its film division saw profits slump 27\\% to \\$284m, helped by box-office flops Alexander and Catwoman, a sharp contrast to year-earlier, when the third and final film in the Lord of the Rings trilogy boosted results. For the full-year, TimeWarner posted a profit of \\$3.36bn, up 27\\% from its 2003 performance, while revenues grew 6.4\\% to \\$42.09bn. \"Our financial performance was strong, meeting or exceeding all of our full-year objectives and greatly enhancing our flexibility,\" chairman and chief executive Richard Parsons said. For 2005, TimeWarner is projecting operating earnings growth of around 5\\%, and also expects higher revenue and wider profit margins.TimeWarner is to restate its accounts as part of efforts to resolve an inquiry into AOL by US market regulators. It has already offered to pay \\$300m to settle charges, in a deal that is under review by the SEC. The company said it was unable to estimate the amount it needed to set aside for legal reserves, which it previously set at \\$500m. It intends to adjust the way it accounts for a deal with German music publisher Bertelsmann's purchase of a stake in AOL Europe, which it had reported as advertising revenue. It will now book the sale of its stake in AOL Europe as a loss on the value of that stake. \\\\\n",
       "\t2 & Business & Dollar gains on Greenspan speech & The dollar has hit its highest level against the euro in almost three months after the Federal Reserve head said the US trade deficit is set to stabilise.And Alan Greenspan highlighted the US government's willingness to curb spending and rising household savings as factors which may help to reduce it. In late trading in New York, the dollar reached \\$1.2871 against the euro, from \\$1.2974 on Thursday. Market concerns about the deficit has hit the greenback in recent months. On Friday, Federal Reserve chairman Mr Greenspan's speech in London ahead of the meeting of G7 finance ministers sent the dollar higher after it had earlier tumbled on the back of worse-than-expected US jobs data. \"I think the chairman's taking a much more sanguine view on the current account deficit than he's taken for some time,\" said Robert Sinche, head of currency strategy at Bank of America in New York. \"He's taking a longer-term view, laying out a set of conditions under which the current account deficit can improve this year and next.\"Worries about the deficit concerns about China do, however, remain. China's currency remains pegged to the dollar and the US currency's sharp falls in recent months have therefore made Chinese export prices highly competitive. But calls for a shift in Beijing's policy have fallen on deaf ears, despite recent comments in a major Chinese newspaper that the \"time is ripe\" for a loosening of the peg. The G7 meeting is thought unlikely to produce any meaningful movement in Chinese policy. In the meantime, the US Federal Reserve's decision on 2 February to boost interest rates by a quarter of a point - the sixth such move in as many months - has opened up a differential with European rates. The half-point window, some believe, could be enough to keep US assets looking more attractive, and could help prop up the dollar. The recent falls have partly been the result of big budget deficits, as well as the US's yawning current account gap, both of which need to be funded by the buying of US bonds and assets by foreign firms and governments. The White House will announce its budget on Monday, and many commentators believe the deficit will remain at close to half a trillion dollars. \\\\\n",
       "\t3 & Business & Yukos unit buyer faces loan claim & The owners of embattled Russian oil giant Yukos are to ask the buyer of its former production unit to pay back a \\$900m (Â£479m) loan.State-owned Rosneft bought the Yugansk unit for \\$9.3bn in a sale forced by Russia to part settle a \\$27.5bn tax claim against Yukos. Yukos' owner Menatep Group says it will ask Rosneft to repay a loan that Yugansk had secured on its assets. Rosneft already faces a similar \\$540m repayment demand from foreign banks. Legal experts said Rosneft's purchase of Yugansk would include such obligations. \"The pledged assets are with Rosneft, so it will have to pay real money to the creditors to avoid seizure of Yugansk assets,\" said Moscow-based US lawyer Jamie Firestone, who is not connected to the case. Menatep Group's managing director Tim Osborne told the Reuters news agency: \"If they default, we will fight them where the rule of law exists under the international arbitration clauses of the credit.\"Rosneft officials were unavailable for comment. But the company has said it intends to take action against Menatep to recover some of the tax claims and debts owed by Yugansk. Yukos had filed for bankruptcy protection in a US court in an attempt to prevent the forced sale of its main production arm. The sale went ahead in December and Yugansk was sold to a little-known shell company which in turn was bought by Rosneft. Yukos claims its downfall was punishment for the political ambitions of its founder Mikhail Khodorkovsky and has vowed to sue any participant in the sale. \\\\\n",
       "\t4 & Business & High fuel prices hit BA's profits & British Airways has blamed high fuel prices for a 40\\% drop in profits.Reporting its results for the three months to 31 December 2004, the airline made a pre-tax profit of Â£75m (\\$141m) compared with Â£125m a year earlier. Rod Eddington, BA's chief executive, said the results were \"respectable\" in a third quarter when fuel costs rose by Â£106m or 47.3\\%. BA's profits were still better than market expectation of Â£59m, and it expects a rise in full-year revenues.To help offset the increased price of aviation fuel, BA last year introduced a fuel surcharge for passengers.In October, it increased this from Â£6 to Â£10 one-way for all long-haul flights, while the short-haul surcharge was raised from Â£2.50 to Â£4 a leg. Yet aviation analyst Mike Powell of Dresdner Kleinwort Wasserstein says BA's estimated annual surcharge revenues - Â£160m - will still be way short of its additional fuel costs - a predicted extra Â£250m. Turnover for the quarter was up 4.3\\% to Â£1.97bn, further benefiting from a rise in cargo revenue. Looking ahead to its full year results to March 2005, BA warned that yields - average revenues per passenger - were expected to decline as it continues to lower prices in the face of competition from low-cost carriers. However, it said sales would be better than previously forecast. \"For the year to March 2005, the total revenue outlook is slightly better than previous guidance with a 3\\% to 3.5\\% improvement anticipated,\" BA chairman Martin Broughton said. BA had previously forecast a 2\\% to 3\\% rise in full-year revenue.It also reported on Friday that passenger numbers rose 8.1\\% in January. Aviation analyst Nick Van den Brul of BNP Paribas described BA's latest quarterly results as \"pretty modest\". \"It is quite good on the revenue side and it shows the impact of fuel surcharges and a positive cargo development, however, operating margins down and cost impact of fuel are very strong,\" he said. Since the 11 September 2001 attacks in the United States, BA has cut 13,000 jobs as part of a major cost-cutting drive. \"Our focus remains on reducing controllable costs and debt whilst continuing to invest in our products,\" Mr Eddington said. \"For example, we have taken delivery of six Airbus A321 aircraft and next month we will start further improvements to our Club World flat beds.\" BA's shares closed up four pence at 274.5 pence. \\\\\n",
       "\t5 & Business & Pernod takeover talk lifts Domecq & Shares in UK drinks and food firm Allied Domecq have risen on speculation that it could be the target of a takeover by France's Pernod Ricard.Reports in the Wall Street Journal and the Financial Times suggested that the French spirits firm is considering a bid, but has yet to contact its target. Allied Domecq shares in London rose 4\\% by 1200 GMT, while Pernod shares in Paris slipped 1.2\\%. Pernod said it was seeking acquisitions but refused to comment on specifics.Pernod's last major purchase was a third of US giant Seagram in 2000, the move which propelled it into the global top three of drinks firms. The other two-thirds of Seagram was bought by market leader Diageo. In terms of market value, Pernod - at 7.5bn euros (\\$9.7bn) - is about 9\\% smaller than Allied Domecq, which has a capitalisation of Â£5.7bn (\\$10.7bn; 8.2bn euros). Last year Pernod tried to buy Glenmorangie, one of Scotland's premier whisky firms, but lost out to luxury goods firm LVMH. Pernod is home to brands including Chivas Regal Scotch whisky, Havana Club rum and Jacob's Creek wine. Allied Domecq's big names include Malibu rum, Courvoisier brandy, Stolichnaya vodka and Ballantine's whisky - as well as snack food chains such as Dunkin' Donuts and Baskin-Robbins ice cream. The WSJ said that the two were ripe for consolidation, having each dealt with problematic parts of their portfolio. Pernod has reduced the debt it took on to fund the Seagram purchase to just 1.8bn euros, while Allied has improved the performance of its fast-food chains. \\\\\n",
       "\\end{tabular}\n"
      ],
      "text/plain": [
       "5×3 DataFrame. Omitted printing of 1 columns\n",
       "│ Row │ topic    │ heading                           │\n",
       "│     │ \u001b[90mString\u001b[39m   │ \u001b[90mString\u001b[39m                            │\n",
       "├─────┼──────────┼───────────────────────────────────┤\n",
       "│ 1   │ Business │ Ad sales boost Time Warner profit │\n",
       "│ 2   │ Business │ Dollar gains on Greenspan speech  │\n",
       "│ 3   │ Business │ Yukos unit buyer faces loan claim │\n",
       "│ 4   │ Business │ High fuel prices hit BA's profits │\n",
       "│ 5   │ Business │ Pernod takeover talk lifts Domecq │"
      ]
     },
     "execution_count": 12,
     "metadata": {},
     "output_type": "execute_result"
    }
   ],
   "source": [
    "docs = DataFrame(topic = [String(x[1]) for x ∈ doc_list], heading = [String(x[2]) for x ∈ doc_list], article = [String(x[3]) for x ∈ doc_list])\n",
    "first(docs, 5)"
   ]
  },
  {
   "cell_type": "markdown",
   "metadata": {
    "slideshow": {
     "slide_type": "slide"
    }
   },
   "source": [
    "## Create Train & Test Sets"
   ]
  },
  {
   "cell_type": "code",
   "execution_count": 13,
   "metadata": {},
   "outputs": [
    {
     "name": "stderr",
     "output_type": "stream",
     "text": [
      "WARNING: using Pandas.DataFrame in module Main conflicts with an existing identifier.\n"
     ]
    }
   ],
   "source": [
    "#Pkg.add(\"Pandas\")\n",
    "using Pandas"
   ]
  },
  {
   "cell_type": "code",
   "execution_count": 14,
   "metadata": {
    "ExecuteTime": {
     "end_time": "2021-04-25T21:52:28.601178Z",
     "start_time": "2021-04-25T21:52:28.589242Z"
    },
    "scrolled": true,
    "slideshow": {
     "slide_type": "fragment"
    }
   },
   "outputs": [
    {
     "data": {
      "text/plain": [
       "2-element Vector{PyObject}:\n",
       " PyObject               topic  ...                                            article\n",
       "568   Entertainment  ...  Sky has signed a major new deal to broadcast t...\n",
       "1970           Tech  ...  A campaign by Lycos Europe to target spam-rela...\n",
       "526   Entertainment  ...  Dame Muriel Spark is among three British autho...\n",
       "488        Business  ...  Traders at US banking giant Citigroup are faci...\n",
       "1313          Sport  ...  British hurdler Sarah Claxton is confident she...\n",
       "...             ...  ...                                                ...\n",
       "1231       Politics  ...  Tony Blair has told Labour supporters he's \"ba...\n",
       "935        Politics  ...  Jack Straw has attacked the decision by Britai...\n",
       "1783          Sport  ...  Jennifer Capriati has become the third leading...\n",
       "664   Entertainment  ...  A box set featuring 68 unreleased Nirvana trac...\n",
       "1039       Politics  ...  An MP has had more than Â£600 and his passport...\n",
       "\n",
       "[2175 rows x 3 columns]\n",
       " PyObject               topic  ...                                            article\n",
       "574   Entertainment  ...  Oscar-winning director Hayao Miyazaki's latest...\n",
       "2046           Tech  ...  Aid workers trying to house, feed and clothe m...\n",
       "1896           Tech  ...  People using wireless high-speed net (wi-fi) a...\n",
       "121        Business  ...  Five Bank of America subsidiaries have agreed ...\n",
       "1410          Sport  ...  Manchester United winger Cristiano Ronaldo sai...\n",
       "270        Business  ...  Arsenal vice-chairman David Dein has said the ...\n",
       "102        Business  ...  Up to 2,500 jobs are to go at US insurance bro...\n",
       "1654          Sport  ...  England captain Jason Robinson will miss the r...\n",
       "71         Business  ...  South Korea looks set to sustain its revival t...\n",
       "348        Business  ...  Creditors of South Korea's top credit card fir...\n",
       "1040       Politics  ...  A prospective candidate for the UK Independenc...\n",
       "1549          Sport  ...  All four of England's Champions League represe...\n",
       "1531          Sport  ...  Hearts of Oak set up an all Ghanaian Confedera...\n",
       "1674          Sport  ...  The Wales Students rugby side has become a cas...\n",
       "832   Entertainment  ...  Mike Leigh's film Vera Drake will lead British...\n",
       "610   Entertainment  ...  International films will be given the same pro...\n",
       "777   Entertainment  ...  Black Sabbath have topped a list of the best B...\n",
       "1580          Sport  ...  Sol Campbell proved to be an unlikely match-wi...\n",
       "963        Politics  ...  MPs are preparing to debate a bill which criti...\n",
       "1480          Sport  ...  Adriano's agent Gilmar Rinaldi has insisted th...\n",
       "1625          Sport  ...  Tough-scrummaging prop Julian White is expecti...\n",
       "677   Entertainment  ...  MTV has been criticised for \"incessant sleaze\"...\n",
       "839   Entertainment  ...  Actor Michael Douglas is to co-produce and sta...\n",
       "1781          Sport  ...  Carlos Moya described Spain's Davis Cup victor...\n",
       "2087           Tech  ...  If broadband were a jumbo jet, then 2003 would...\n",
       "908        Politics  ...  Tory leader Michael Howard has gone on the off...\n",
       "1310       Politics  ...  The Conservatives have been \"a lot smarter\" in...\n",
       "2193           Tech  ...  Judges at the US Supreme Court have been heari...\n",
       "1107       Politics  ...  The Conservatives' campaign director has denie...\n",
       "920        Politics  ...  A former Home Office minister has called for a...\n",
       "2027           Tech  ...  Visitors to the British Library will be able t...\n",
       "552   Entertainment  ...  Hollywood stars including Spike Lee, Burt Reyn...\n",
       "1599          Sport  ...  France coach Bernard Laporte has made four cha...\n",
       "1832           Tech  ...  The Apple Powerbook 100 has been chosen as the...\n",
       "1864           Tech  ...  T-Mobile has launched its latest \"pocket offic...\n",
       "20         Business  ...  Leisure group Rank could unveil plans to demer...\n",
       "1446          Sport  ...  Republic of Ireland manager Brian Kerr has bee...\n",
       "688   Entertainment  ...  The debut of US television hit Desperate House...\n",
       "542   Entertainment  ...  This third Harry Potter film brought a change ...\n",
       "509        Business  ...  Luxury goods group LVMH has sold its loss-maki...\n",
       "106        Business  ...  The Liberian economy started to grow in 2004, ...\n",
       "2182           Tech  ...  The Gizmondo combined media player, phone and ...\n",
       "1195       Politics  ...  Michael Howard has denied his shadow cabinet w...\n",
       "435        Business  ...  The European Central Bank has left its key int...\n",
       "188        Business  ...  The chief executive of the Fiat conglomerate h...\n",
       "1021       Politics  ...  Tony Blair is urging European leaders to wake ...\n",
       "1289       Politics  ...  Britain's economic future will be at the heart...\n",
       "2085           Tech  ...  More and more Americans are joining the intern...\n",
       "1339          Sport  ...  Double Olympic champion Kelly Holmes has been ...\n",
       "466        Business  ...  General Motors (GM) saw its net profits fall 3...\n",
       "\n",
       "[50 rows x 3 columns]"
      ]
     },
     "execution_count": 14,
     "metadata": {},
     "output_type": "execute_result"
    }
   ],
   "source": [
    "pd_docs = Pandas.DataFrame(docs)\n",
    "pd_train_docs, pd_test_docs = train_test_split(pd_docs,\n",
    "                                         stratify=pd_docs.topic,\n",
    "                                         test_size=50,\n",
    "                                         random_state=42)"
   ]
  },
  {
   "cell_type": "code",
   "execution_count": 15,
   "metadata": {},
   "outputs": [
    {
     "data": {
      "text/html": [
       "<table class=\"data-frame\"><thead><tr><th></th><th>topic</th><th>heading</th><th>article</th></tr><tr><th></th><th>String</th><th>String</th><th>String</th></tr></thead><tbody><p>2,175 rows × 3 columns</p><tr><th>1</th><td>Entertainment</td><td>Sky takes over Oscar night mantle</td><td>Sky has signed a major new deal to broadcast this year's Academy Awards, taking over from three years of live Oscar coverage on the BBC.Sky said it was \"honoured to have won exclusive broadcasting rights\" and promised to cover the event \"in a way no other broadcaster could\". The BBC denied it had lost a bidding war, saying it had \"decided to pass the mantle to another broadcaster\". The ceremony, hosted by newcomer Chris Rock, takes place on 27 February 2005.Sky's coverage will launch with the nominations on 25 January and will include themed programming across Sky channels including Sky News, Sky Travel and the Biography Channel. There will also be a month-long season of Oscar-winning films on Sky Movies in the run up to the event and live uninterrupted coverage on the night. \"We are honoured to have won the live and exclusive broadcasting rights for The Academy Awards,\" said Sky Networks' Sophie Turner Laing. \"Sky is the natural place to see the biggest and most prestigious film event of the year, and will cover the event in a way that no other broadcaster could.\"Sky first scooped Oscar rights from the BBC in 1999, but the BBC won them back in 2001 when Sky was forced to pull out of a bidding war due to financial constraints. \"BBC viewers will of course be able to watch quality coverage of the 2005 Academy Awards on the BBC's bulletins and news programmes,\" a spokesman said. Among the films tipped to do well at this year's Academy Awards are Martin Scorsese's The Aviator, Jean-Pierre Jeunet's A Very Long Engagement and the Ray Charles biopic, Ray.</td></tr><tr><th>2</th><td>Tech</td><td>Freeze on anti-spam campaign</td><td>A campaign by Lycos Europe to target spam-related websites appears to have been put on hold.Earlier this week the company released a screensaver that bombarded the sites with data to try to bump up the running costs of the websites. But the site hosting the screensaver now displays a pink graphic and the words \"Stay tuned\". No one at Lycos was available for comment on latest developments in its controversial anti-spam campaign.Lycos Europe's \"Make love not spam\" campaign was intended as a way for users to fight back against the mountain of junk mail flooding inboxes. People were encouraged to download the screensaver which, when their PC was idle, would then send lots of data to sites that peddle the goods and services mentioned in spam messages. Lycos said the idea was to get the spam sites running at 95% capacity and generate big bandwidth bills for the spammers behind the sites. But the plan has proved controversial.Monitoring firm Netcraft analysed response times for some of the sites targeted by the screensaver and found that a number were completely knocked offline.The downing of the sites could dent Lycos claims that what it is doing does not amount to a distributed denial of service attack. In such attacks thousands of computers bombard sites with data in an attempt to overwhelm them. Laws in many countries do not explicitly outlaw such attacks but many nations are re-drafting computer use laws to make them specific offences. Lycos Europe now appears to have put the plan on hold. The site hosting the screensaver currently shows a holding page, with the words, \"Stay tuned\". The numerical internet address of the site has also changed. This is likely to be in response to spammers who have reportedly redirected traffic from their sites back to the Lycos screensaver site. The campaign has come under fire from some corners of the web. Many discussion groups have said that it set a dangerous precedent and could incite vigilantism. \"Attacking a spammer's website is like poking a grizzly bear sleeping in your back garden with a pointy stick,\" said Graham Cluley, senior technology consultant for Sophos. \"Not only is this screensaver similar in its approach to a potentially illegal distributed denial of service attack, but it also is in danger of turning innocent computer users into vigilantes, who may not be prepared for whatever retaliation the spammers care to dream up.\"</td></tr><tr><th>3</th><td>Entertainment</td><td>Spark heads world Booker list</td><td>Dame Muriel Spark is among three British authors who have made the shortlist for the inaugural international Booker Prize.Doris Lessing and Ian McEwan have also been nominated. McEwan and Margaret Atwood are the only nominees to have previously won the main Booker Prize. The new Â£60,000 award is open to writers of all nationalities who write in English or are widely translated. The prize commends an author for their body of work instead of one book.Gabriel Garcia Marquez, Saul Bellow, Milan Kundera and John Updike also feature on the 18-strong list of world literary figures.But other past winners of the regular Booker Prize, such as Salman Rushdie, JM Coetzee and Kazuo Ishiguro have failed to make the shortlist. The prize, which will be awarded in London in June, will be given once every two years. It will reward an author - who must be living - for \"continued creativity, development and overall contribution to fiction on the world stage\". An author can only win once. The international award was started in response to criticisms that the Booker Prize is only open to British and Commonwealth authors.Margaret Atwood (Canada) Saul Bellow (Canada) Gabriel Garcia Marquez (Colombia) Gunter Grass (Germany) Ismail Kadare (Albania) Milan Kundera (Czech Republic) Stanislaw Lem (Poland) Doris Lessing (UK) Ian McEwan (UK) Naguib Mahfouz (Egypt) Tomas Eloy Martinez (Argentina) Kenzaburo Oe (Japan) Cynthia Ozick (US) Philip Roth (US) Muriel Spark (UK) Antonio Tabucchi (Italy) John Updike (US) Abraham B Yehoshua (Israel)</td></tr><tr><th>4</th><td>Business</td><td>Criminal probe on Citigroup deals</td><td>Traders at US banking giant Citigroup are facing a criminal investigation in Germany over a controversial bond deal.The deal saw the sale of 11bn euros ($14.4bn; Â£7.6bn) of government bonds in a few minutes on 2 August, with 4bn euros-worth then bought back later. The move was widely criticised at the time, and now the German regulator has said it has found evidence of possible market manipulation. Citigroup said it would continue to co-operate fully with the authorities. \"We are disappointed that the BaFin has referred to the prosecutor the question of whether action should be brought against individuals involved,\" Citigroup said. If the traders are found guilty, they could face a five-year jail term or a fine, Reuters reported BaFin as saying. However, under German criminal law, prosecutors cannot pursue Citigroup itself.Germany's financial watchdog BaFin told BBC News it had now transferred the investigation to the public prosecutor. \"I can confirm that BaFin has passed through the case to the public prosecutor,\" a BaFin spokeswoman said. \"It is now a criminal investigation.\" \"We found clues of possible market manipulation,\" the spokeswoman said, which included signs of linked bond trading ahead of the main trades on 2 August. \"Germany's Securities Trading Act says that if BaFin finds such clues, it has to put the case in the hands of the prosecutor.\" Regulatory investigations are still going on in France, the UK and elsewhere. Some Citigroup operations elsewhere in the world came under regulatory criticism in 2004. Its private banking operation in Japan was closed down by regulators in Tokyo after an \"aggressive sales culture\" led the bank to flout anti-money laundering rules.</td></tr><tr><th>5</th><td>Sport</td><td>Claxton hunting first major medal</td><td>British hurdler Sarah Claxton is confident she can win her first major medal at next month's European Indoor Championships in Madrid.The 25-year-old has already smashed the British record over 60m hurdles twice this season, setting a new mark of 7.96 seconds to win the AAAs title. \"I am quite confident,\" said Claxton. \"But I take each race as it comes. \"As long as I keep up my training but not do too much I think there is a chance of a medal.\" Claxton has won the national 60m hurdles title for the past three years but has struggled to translate her domestic success to the international stage. Now, the Scotland-born athlete owns the equal fifth-fastest time in the world this year. And at last week's Birmingham Grand Prix, Claxton left European medal favourite Russian Irina Shevchenko trailing in sixth spot.For the first time, Claxton has only been preparing for a campaign over the hurdles - which could explain her leap in form. In previous seasons, the 25-year-old also contested the long jump but since moving from Colchester to London she has re-focused her attentions. Claxton will see if her new training regime pays dividends at the European Indoors which take place on 5-6 March.</td></tr><tr><th>6</th><td>Business</td><td>FBI agent colludes with analyst</td><td>A former FBI agent and an internet stock picker have been found guilty of using confidential US government information to manipulate stock prices.A New York court ruled that former FBI man Jeffrey Royer, 41, fed damaging information to Anthony Elgindy, 36. Mr Elgindy then drove share prices lower by spreading negative publicity via his newsletter. The Egyptian-born analyst would extort money from his targets in return for stopping the attacks, prosecutors said. \"Under the guise of protecting investors from fraud, Royer and Elgindy used the FBI's crime-fighting tools and resources actually to defraud the public,\" said US Attorney Roslynn Mauskopf.Mr Royer was convicted of racketeering, securities fraud, obstruction of justice and witness tampering. Mr Elgindy was convicted of racketeering, securities fraud and extortion.The charges carry sentences of up to 20 years. When the guilty verdict was announced by the jury foreman, Mr Elgindy dropped his face into his hands and sobbed, the Associated Press news agency reported. He was led weeping from the court room by US marshals, AP said. Defense lawyers contended that Mr Royer had been feeding information to Mr Elgindy and another trader in an attempt to expose corporate fraud. Mr Elgindy's team claimed that he also was fighting against corporate wrongdoing. \"Elgindy's conviction marks the end of his public charade as a crusader against fraud in the market,\" said Ms Mauskopf. One of the more bizarre aspects of the trial focused on the claims that Mr Elgindy may have had foreknowledge of the 11 September terrorist attacks in New York and Washington. Mr Elgindy had been trying to sell stock prior to the attack and had predicted a slump in the market. No charges were brought in relation to these allegations.</td></tr><tr><th>7</th><td>Politics</td><td>'UK will stand firm on EU rebate'</td><td>Britain's Â£3bn EU rebate is not up for renegotiation at next week's European Council summit, Jack Straw said.The foreign secretary told MPs the rebate, secured by Margaret Thatcher in 1984, was \"entirely justified\". New European commission president Jose Manuel Barroso has suggested the cash could be shared out among net contributors to the EU budget. Mr Straw acknowledged some countries in the newly enlarged 25 nation EU still had to \"see the light\" on the rebate.But the foreign secretary told the Commons foreign affairs committee: \"Our position is very clear: it is entirely justified and it is not for negotiation.\" He added that he did not think there would be a political price to pay for the UK's stance - Britain contributed more and received less than other EU states. The two-day European Council summit in Brussels begins on 16 December and is widely expected to mark the beginning of a lengthy negotiating period over the EU's budget for 2007-13. The wrangling could stretch into 2005, even 2006.The UK, France, Germany, Austria, the Netherlands and Sweden want the EU budget to be capped at 1% of member states' combined national incomes - the Commission wants it to be 1.26%. Mr Straw said the EU commission's proposal would mean a 35% hike in the budget. \"I don't know of any national government thinking of increasing its budget by that amount,\" he added. The foreign secretary said he hoped the talks next week could produce a date in 2005 for the beginning of negotiations with Turkey about possible EU membership although that there would be no prospect of a date for joining for some time.</td></tr><tr><th>8</th><td>Politics</td><td>Tories opposing 24-hour drinking</td><td>The Tories say plans to extend pub opening times should be put on hold until binge drinking is under control, despite backing a law change last year.Spokesman David Davis said ministers had failed to make his party aware of concern among senior police that plans would cause more anti-social behaviour. Notts police chief Steve Green said innocent people would suffer. But Culture Secretary Tessa Jowell said a delay would be \"disastrous\" and she accused the Tories of opportunism. The government would go ahead with the changes which would give police more power to tackle excessive drinking, she added. Earlier chief constable Green questioned how his officers would be able to practically apply powers allowing them to shut down problem premises. \"If you look at the Market Square in Nottingham, if a fight takes place which licensed premises do you go and lay the responsibilty at the door of?\" he asked on BBC Radio 4's World at One programme.He warned that if drinking establishments were allowed to open until three or four in the morning the police would have to take officers off day shifts in order to do their job effectively at night. Earlier this year the Royal College of Physicians said it opposed the plan to extend drinking hours when there was already an \"epidemic\" of binge drinking. Minister Richard Caborn said the government was tackling the causes and the symptoms of the problem by allowing more powers to close down problem premises. It is hoped that allowing pubs and clubs to stay open longer will stagger closing times and end the current situation where drinkers spill on to the streets all at once. Earlier Tony Blair defended the plans against criticism from one of his own backbenchers.\"My view of this is very clear: we should have the same flexibility that other countries have and then we should come down really hard on those who abuse that freedom and don't show the responsibility,\" he told MPs. \"The law-abiding majority who want the ability, after going to the cinema or theatre say, to have a drink at the time they want should not be inconvenienced, we shouldn't have to have restrictions that no other city in Europe has, just in order to do something for that tiny minority who abuse alcohol, who go out and fight and cause disturbances. \"To take away that ability for all the population - even the vast majority who are law abiding - is not, in my view, sensible.\" This week a judge claimed easy access to drink was breeding \"urban savages\" and turning town centres into no go areas. Judge Charles Harris QC made his remarks as he sentenced three men for assaults carried out while drunk and high on drugs after a night out.</td></tr><tr><th>9</th><td>Business</td><td>US manufacturing expands</td><td>US industrial production increased in December, according to the latest survey from the Institute for Supply Management (ISM).Its index of national manufacturing activity rose to 58.6 last month from 57.8 in November. A reading above 50 indicates a level of growth. The result for December was slightly better than analysts' expectations and the 19th consecutive expansion. The ISM said the growth was driven by a \"significant\" rise in the new orders. \"This completes a strong year for manufacturing based on the ISM data,\" said chairman of the ISM's survey committee. \"While there is continuing upward pressure on prices, the rate of increase is slowing and definitely trending in the right direction.\"The ISM's index of national manufacturing activity is compiled from monthly responses of purchasing executives at more than 400 industrial companies, ranging from textiles to chemicals to paper, and has now been above 50 since June 2003. Analysts expected December's figure to come in at 58.1. The ISM manufacturing index's main sister survey - the employment index - eased to 52.7 in December from 57.6 in November, while its \"prices paid\" index, measuring the cost to businesses of their inputs, also eased to 72.0 from 74.0. The ISM's \"new orders\" index rose to 67.4 from 61.5.</td></tr><tr><th>10</th><td>Tech</td><td>Slim PlayStation triples sales</td><td>Sony PlayStation 2's slimmer shape has proved popular with UK gamers, with 50,000 sold in its first week on sale.Sales have tripled since launch, outstripping Microsoft's Xbox, said market analysts Chart-Track. The numbers were also boosted by the release of the PS2-only game Grand Theft Auto: San Andreas. The title broke the UK sales record for video games in its first weekend of release. Latest figures suggest it has sold more than 677,000 copies.\"It is obviously very, very encouraging for Sony because Microsoft briefly outsold them last week,\" John Houlihan, editor of Computerandvideogames.com told BBC News. \"And with Halo 2 [for Xbox] out next week, it really is a head-to-head contest between them and Xbox.\"Although Xbox sales over the last week also climbed, PS2 sales were more than double that. The figures mean Sony is reaching the seven million barrier for UK sales of the console. Edinburgh-based developer, Rockstar, which is behind the GTA titles, has seen San Andreas pull in an estimated Â£24m in gross revenues over the weekend. In comparison, blockbuster films like Harry Potter and The Prisoner Of Azkaban took Â£11.5m in its first three days at the UK box office. The Lord of the Rings: The Return of the King took nearly Â£10m over its opening weekend, although games titles are four to five times more expensive than cinema tickets.Gangster-themed GTA San Andreas is the sequel to Grand Theft Auto Vice City which previously held the record for the fastest-selling video game ever. The Xbox game Halo 2, released on 11 November in the UK, is also widely tipped to be one of the best-selling games of the year. The original title won universal acclaim in 2001, and sold more than four million copies.Mr Houlihan added that Sony had done well with the PS2, but it definitely helped that the release of San Andreas coincided with the slimline PS2 hitting the shelves. The run-up to Christmas is a huge battlefield for games consoles and titles. Microsoft's Xbox had been winning the race up until last week in sales. The sales figures also suggest that it may be a largely adult audience driving demand, since GTA San Andreas has an 18 certificate. Sony and Microsoft have both reduced console prices recently and are preparing the way for the launches of their next generation consoles in 2005. \"Both have hit crucial price points at around Â£100 and that really does open up new consoles to new audience, plus the release of two really important games in terms of development are also driving those sales,\" said Mr Houlihan.</td></tr><tr><th>11</th><td>Business</td><td>Asia shares defy post-quake gloom</td><td>Thailand has become the first of the 10 southern Asian nations battered by giant waves at the weekend to cut its economic forecast.Thailand's economy is now expected to grow by 5.7% in 2005, rather than 6% as forecast before tsunamis hit six tourist provinces. The full economic costs of the disaster remain unclear. In part, this is because of its scale, and because delivering aid and recovering the dead remain priorities. But Indonesian, Indian and Hong Kong stock markets reached record highs on Wednesday, suggesting that investors do not fear a major economic impact.The highs showed the gap in outlook between investors in large firms and individuals who have lost their livelihoods.Investors seemed to feel that some of the worst-affected areas - such as Aceh in Indonesia - were so under-developed that the tragedy would little impact on Asia's listed companies, according to analysts. \"Obviously with a lot of loss of life, a lot of time is needed to clean up the mess, bury the people and find the missing. But it's not necessarily a really big thing in the economic sense,\" said ABN Amro chief Asian strategist Eddie Wong. India's Bombay Stock Exchange inched slightly above its previous record close on Wednesday. Expectations of strong corporate earnings in 2005 drove the Indonesian stock exchange in Jakarta to a record high on Wednesday. In Hong Kong, the Hang Seng index may be benefiting in part from the potential for its listed property companies to gain from rebuilding contracts in the tsunami-affected regions of South East Asia. In Sri Lanka, some economists have said that as much as 1% of annual growth may be lost. Sri Lanka's stock market has fallen about 5% since the weekend, but it is still 40% higher than at the start of 2004.Thailand may lose 30bn baht (Â£398m; $768m) in earnings from tourism over the next three months, according to tourism minister Sontaya Kunplome.In the affected provinces, he expects the loss of tourism revenue to be offset by government reconstruction spending. Thailand intends to spend a similar sum - around 30bn baht - on the rebuilding work. \"It will take until the fourth quarter of next year before tourist visitors in Phuket and five other provinces return to their normal level,\" said Naris Chaiyasoot, director general at the ministry's fiscal policy office. In the Maldives the cost of reconstruction could wipe out economic growth, according to a government spokesman. \"Our nation is in peril here,\" said Ahmed Shaheed, the chief government spokesman. He estimated the economic cost of the disaster at hundreds of millions of dollars. The Maldives has gross domestic product of $660m. \"It won't be surprising if the cost exceeds our GDP,\" he said. \"In the last few years, we made great progress in our standard of living - the United Nations recognised this. Now we see this can disappear in a few days, a few minutes.\" Shaheed noted that investment in a single tourist resort - the economic mainstay - could run to $40m. Between 10 and 12 of the 80-odd resorts have been severely damaged, and a similar number have suffered significant damage. However, many experts, including the World Bank, have pointed out that it is still difficult to assess the magnitude of the disaster and its likely economic impact.</td></tr><tr><th>12</th><td>Sport</td><td>Reds sink 10-man Magpies</td><td>Titus Bramble's own goal put Liverpool on the comeback trail as injury-hit Newcastle were well beaten at Anfield.Patrick Kluivert's close-range finish put Newcastle ahead after 31 minutes, but they were pegged back as Bramble headed in Steven Gerrard's corner. Neil Mellor gave Liverpool the lead before half-time from Milan Baros' pass before the Czech added a third after rounding Shay Given on the hour. Newcastle then had Lee Bowyer sent off for two bookable offences. Liverpool brought back Luis Garcia after a hamstring injury, while Newcastle were forced to draft in Kluivert after Craig Bellamy was a late withdrawal with a back injury sustained in the warm-up. And Garcia should have crowned his return with a goal inside the opening minute when he took a pass from Baros but shot wildly over the top from eight yards. Olivier Bernard was only inches away from giving Newcastle the lead after 20 minutes, when he fired just wide from a free-kick 25 yards out. But Souness's side did go ahead 11 minutes later in highly controversial circumstances.Kluivert looked suspiciously offside when Kieron Dyer set Bowyer free, but the Dutchman was then perfectly placed to score from six yards. The lead lasted three minutes, with Liverpool back on terms as Bramble headed Gerrard's corner into his own net under pressure from Sami Hyypia. And Liverpool were ahead after 37 minutes when Baros slid a perfect pass into Mellor's path for the youngster to slip a slide-rule finish into Given's bottom corner. Garcia's finishing was wayward, and he was wasteful again in first-half injury time, shooting tamely at Given after good work by Xabi Alonso. Any hopes of a Newcastle recovery looked to be snuffed out on the hour when a brilliant turn and pass by Harry Kewell set Baros free and he rounded Given to score. Jermaine Jenas then missed a glorious chance to throw Newcastle a lifeline, shooting over from just eight yards out from Shola Ameobi's cross. Then Bowyer, who had already been booked for a foul on Alonso, was deservedly shown the red card by referee Graham Poll for a wild challenge on Liverpool substitute Florent Sinama-Pongolle.Dudek, Finnan, Hyypia, Carragher, Riise, Luis Garcia (Nunez 73), Gerrard, Alonso, Kewell (Traore 85), Baros, Mellor (Sinama Pongolle 75).Subs not used: Hamann, Harrison.Bramble 35 og, Mellor 38, Baros 61.Given, Andrew O'Brien, Elliott, Bramble, Bernard, Bowyer, Dyer (Ambrose 80), Jenas, Milner (N'Zogbia 72), Kluivert (Robert 58), Ameobi.Subs not used: Harper.Bowyer (77).Bowyer, Elliott, Bernard.Kluivert 32.43,856.G Poll (Hertfordshire).</td></tr><tr><th>13</th><td>Politics</td><td>'Best person' for top legal job</td><td>The \"best person for the job\" should be appointed lord chancellor, and not necessarily a lawyer or MP, the courts minister has told MPs.Under reforms, the post of lord chancellor is to be stripped of its judicial functions. \"The lord chancellor...no more needs to be a lawyer than the Secretary of Health needs to be a doctor,\" said courts minister Christopher Leslie. The Constitutional Reform Bill was entering its second reading on Monday. Mr Leslie said: \"The prime minister should be able to appoint the best person for the job whether they sit in the House of Lords or the House of Commons.\" Under the reforms, the Law Lords will also be replaced as the UK's highest legal authority by a Supreme Court and judges will be appointed by an independent panel rather than ministers.In December the Lords rejected a plea by current Lord Chancellor Lord Falconer that the holder of the job should not necessarily be a lawyer or a peer. The peers voted by 229 to 206 to say in law that lord chancellors must also be peers. The debate was carried over from the last Parliamentary session, but with an impending general election time is crucial for the government to get the Bill passed. Mr Leslie said it was irrelevant whether the post was called Secretary of State for Constitutional Affairs or Lord Chancellor. He said: \"What matters most is...whether it is reformed so that the post holder no longer has those conflicting duties. \"It is no longer appropriate for a government minister to have such unfettered discretion in the appointment of judges.\"Shadow attorney general Dominic Grieve criticised the government on its plans to change what he said was an \"exceptional institution,\" providing a \"champion of the independence of the judiciary\". The government had initially proposed to take this institution and \"smash it to pieces,\" Mr Grieve said. Convention should be \"nurtured and celebrated,\" but the government distrusted and disliked it instead. He warned that unless ministers backed down over the lord chancellor remaining a member of the House of Lords, the government would have \"great difficulty\" in getting the Bill through Parliament. Former Cabinet minister Douglas Hogg, whose father and grandfather served as lord chancellor, said the Bill was \"largely unnecessary, bureaucratic and expensive\". But the Tory MP for Sleaford and North Hykeham admitted the lord chancellor's role and office \"cannot be frozen in aspic\".</td></tr><tr><th>14</th><td>Tech</td><td>Sony PSP tipped as a 'must-have'</td><td>Sony's Playstation Portable is the top gadget for 2005, according to a round-up of ultimate gizmos compiled by Stuff Magazine.It beats the iPod into second place in the Top Ten Essentials list which predicts what gadget-lovers are likely to covet this year. Owning all 10 gadgets will set the gadget lover back Â£7,455. That is Â£1,000 cheaper than last year's list due to falling manufacturing costs making gadgets more affordable.Portable gadgets dominate the list, including Sharp's 902 3G mobile phone, the Pentax Optio SV digital camera and Samsung's Yepp YH-999 video jukebox.\"What this year's Essentials shows is that gadgets are now cheaper, sexier and more indispensable than ever. We've got to the point where we can't live our lives without certain technology,\" said Adam Vaughan, editor of Stuff Essentials. The proliferation of gadgets in our homes is inexorably altering the role of the high street in our lives thinks Mr Vaughan. \"Take digital cameras, who would now pay to develop an entire film of photos? Or legitimate downloads, who would travel miles to a record shop when they could download the song in minutes for 70p?\" he asks. Next year will see a new set of technologies capturing the imaginations of gadget lovers, Stuff predicts. The Xbox 2, high-definition TV and MP3 mobiles will be among the list of must-haves that will dominate 2006, it says. The spring launch of the PSP in the UK is eagerly awaited by gaming fans.</td></tr><tr><th>15</th><td>Business</td><td>Green reports shun supply chain</td><td>Nearly 20% more UK top 250 firms produced non-financial reports on social and environment issues than last year.But of the 145 companies reporting, 76% didn't examine their supply chains, says the annual Directions survey. Green groups say putting pressure on supply chains is a major way companies can reduce their environmental impact. The survey is published by corporate social responsibility firm Context and branding firm SalterBaxter.Blake Lee-Harwood, campaigns director at Greenpeace in the UK, said: \"It's fairly meaningless to talk about your company's direction in terms of sustainability without having detailed knowledge of your supply chain. \"It's also important to get some kind of independent assessment of your reporting.\"Less than a quarter of companies (24%) get their corporate social responsibility (CSR) reports independently verified to provide assurances they are accurate and complete, says the survey. To date there are no set standards for non-financial reporting, although the Global Reporting Initiative, an independent pro-sustainability institution, is planning to establish some. The reports surveyed by Directions are published voluntarily. They are usually called corporate social responsibility (CSR) reports, sustainability reports, or social and environmental reports.Peter Knight, director of Context, says 24 UK top 250 companies reported for the first time this year and, in general, the quality of reports has improved. \"The corporate lexicon of homilies, generalities and soft assurances - fluff - is on its way out. There are less pictures of smiling children and butterflies.\" The UK government will soon require all quoted companies to report their social and environmental risks in a chapter in their annual reports, called the Operating and Financial Review. The regulation is not expected until 2005 and the first reports under this scheme will not be published before 2006. The US seems to lag Europe in producing corporate social responsibility reports. The majority of European top 50 companies (44) publish them and only 27 of the US top 50.</td></tr><tr><th>16</th><td>Tech</td><td>US hacker breaks into T-Mobile</td><td>A man is facing charges of hacking into computers at the US arm of mobile phone firm T-Mobile.The Californian man, Nicholas Lee Jacobsen, was arrested in October. Mr Jacobsen tried at least twice to hack T-Mobile's network and took names and social security numbers of 400 customers, said a company spokesman. The arrest came a year after T-Mobile uncovered the unauthorised access. The US Secret Service has been investigating the case. \"T-Mobile has stringent procedures in place where we monitor for suspicious activity so that limited his activities and we were able to take corrective action immediately,\" Peter Dobrow, a T-Mobile spokesperson said. It is thought that Mr Jacobsen's hacking campaign took place over at least seven months during which time he read e-mails and personal computer files, according to court records.Although Mr Jacobsen, 21, managed to get hold of some data, it is thought he failed to get customer credit card numbers which are stored on a separate computer system, said Mr Dobrow. T-Mobile confirmed that the US Secret Service was also looking into whether the hacker accessed photos that T-Mobile subscribers had taken with their camera phones. The Associated Press agency reported that Mr Jacobsen also read personal files on the Secret Service agent who was apparently investigating the case. A Los Angeles grand jury indicted Mr Jacobsen with intentionally accessing a computer system without authorisation and with the unauthorised impairment of a protected computer between March and October 2004. He is currently on bail. T-Mobile is a subsidiary company of Deutsche Telekom and has about 16.3 million subscribers in the US.</td></tr><tr><th>17</th><td>Business</td><td>Economy 'stronger than forecast'</td><td>The UK economy probably grew at a faster rate in the third quarter than the 0.4% reported, according to Bank of England deputy governor Rachel Lomax.Private sector business surveys suggest a stronger economy than official estimates, Ms Lomax said. Other surveys collectively show a rapid slowdown in UK house price growth, she pointed out. This means that despite a strong economic growth, base rates will probably stay on hold at 4.75%. Official data comes from the Office for National Statistics (ONS). Though reliable, ONS data takes longer to publish, so now the BoE is calling for faster delivery of data so it can make more effective policy decisions. \"Recent work by the Bank has shown that private sector surveys add value, even when preliminary ONS estimates are available,\" Ms Lomax said in a speech to the North Wales Business Club.The ONS is due to publish its second estimate of third quarter growth on Friday. \"The MPC judges that overall growth was a little higher in the third quarter than the official data currently indicate,\" Ms Lomax said. The Bank said successful monetary policy depends on having good information. Rachel Lomax cited the late 1980s as an example of a time when weak economic figures were published, but substantially revised upwards years later.\"The statistical fog surrounding the true state of the economy has proved a particularly potent breeding ground for policy errors in the past,\" she said. Improving the quality of national statistics is the single the best way of making sure the Monetary Policy Committee (MPC) makes the right decisions, she said. The Bank of England is working in tandem with the ONS to improve the quality and speed of delivery of data. Her remarks follow criticism from the House of Lords Economic Affairs Committee, which said the MPC had held interest rates too high given that inflation was way below the 2% target.A slowdown in the housing market and this year's surge in oil prices has made economic forecasting all the more tricky, leading to a more uncertain outlook. \"This year rising oil prices and a significant slowdown in the housing market have awoken bad memories of the 1970s and 1980s,\" Ms Lomax said. \"The MPC will be doing well if it can achieve the same stability over the next decade as we have enjoyed over the past 10 years.\" Decisions on interest rates are made after the MPC gathers together the range of indicators available every month. The clearest signals come when all indicators are pointing the same direction, Ms Lomax intimated. \"In economic assessment, there is safety in numbers.\"</td></tr><tr><th>18</th><td>Entertainment</td><td>Double win for Sea Inside</td><td>Spanish movie The Sea Inside has been named best picture and star Javier Bardem best actor at the Bangkok International Film Festival.Based on the true story of a paralysed man's battle to end his life, The Sea Inside was best foreign language film at the 2005 Golden Globe Awards. Annette Bening and Ana Geislerova shared the best actress award at the Bangkok festival. This year's event was scaled down following the Asian tsunami disaster.Falling Down and The Phantom of the Opera director Joel Schumacher won a lifetime achievement award while Hong Kong director Wong Kar-Wai was honoured for promoting Asian cinema. \"It's a great honour, I want to share this honour with my Thai colleagues,\" Wong said. French writer Christophe Barratie and Korean writer Park Chan-Chook shared the best screenplay award for Les Choristes and Old Boy respectively. Now in its third year, the Bangkok International Film Festival is donating profits from ticket sales to the tsunami relief fund.</td></tr><tr><th>19</th><td>Entertainment</td><td>Children vote Shrek 2 best film</td><td>Young UK film fans voted animated Hollywood hit Shrek 2 best film at the children's Bafta awards on Sunday.More than 6,000 children voted in the only category chosen by fans. Harry Potter and the Prisoner of Azkaban, runner-up in the poll, was the choice of the Bafta experts who named it best feature film. BBC One Saturday morning show Dick and Dom In Da Bungalow won two awards - best entertainment and best presenters for Richard McCourt and Dominic Wood.Former Playschool presenter Floella Benjamin was awarded the Special Award for outstanding creative contribution to children's film and television. She first appeared on Playschool 25 years ago and was made an OBE in 2001 for services to broadcasting. South American-themed cartoon Joko! Jakamoko! Toto! won the honour for pre-school animation and its writer Tony Collingwood for original writer. Debbie Isitt won the award for best adapted writer for her work with Jacqueline Wilson's The Illustrated Mum, which won the award for best schools drama.Schools' Factual (primary) - Thinking Skills: Think About It - Hiding PlacesSchools' Factual (secondary) - In Search of the Tartan TurbanPre-School Live Action - BalamoryAnimation - Brush HeadDrama - FeatherboyFactual - Serious Desert Interactive Bafta - King Arthur International category - 8 Simple Rules for Dating my Teenage Daughter</td></tr><tr><th>20</th><td>Sport</td><td>Parry relishes Anfield challenge</td><td>BBC Sport reflects on the future for Liverpool after our exclusive interview with chief executive Rick Parry.Chief executive Parry is the man at the helm as Liverpool reach the most crucial point in their recent history. Parry has to deliver a new 60,000-seat stadium in Stanley Park by 2007 amid claims of costs spiralling above Â£120m. He is also searching for an investment package of a size and stature that will restore Liverpool to their place at European football's top table. But it is a challenge that appears to sit easily with Parry, who has forged a reputation as one of football's most respected administrators since his days at the fledgling Premier League.Liverpool have not won the championship since 1990, a fact that causes deep discomfort inside Anfield as they attempt to muscle in on the top three of Chelsea, Manchester United and Arsenal. Throw in the small matter of warding off every top club in world football as they eye captain Steven Gerrard, and you can see Parry is a man with a lot on his plate. But in the comfort of a conference room deep inside Liverpool's heartbeat - The Kop end - Parry spoke to us with brutal honesty about the crucial months ahead. He only dodged one question - when asked to reveal the name of the mystery investor currently courting Liverpool, a polite smile deflected the inquiry. But to his credit, he met everything else head on in measured tones that underscore the belief that Liverpool still mean business.By business he means becoming title challengers again, and locking the pieces together that will help return the trophy to Liverpool is Parry's mission. Parry has already successfully put one of those planks in place in the form of new manager Rafael Benitez. And his enthusiasm for the Spaniard's personality and methods is an indication of his clear feeling that he has struck gold. Benitez's early work has given Parry renewed optimism about the years ahead. But it remains a massive task at a club with a unique history and expectations. This will not come as news to Parry, a lifelong Liverpool supporter, but his quiet determination suggests he is no mood to be found wanting...Captain Gerrard is central to Liverpool's plans and Parry's insistence that all offers will be refused is a firm statement of intent. As ever, the player will have the final say, and Parry acknowledges that, but he is determined to provide the framework and environment for Liverpool and Gerrard to flourish.In terms of the search for new investment, Hawkpoint were appointed as advisors to flush out interest in March 2004. Thailand Prime Minister Thaksin Shiniwatra came and went, while the most serious statement of intent came from tycoon and lifelong fan Steve Morgan. Morgan had a succession of bids rejected, having come close in the summer only for talks to break down over potential costs for the new stadium. BBC Sport understands Morgan is still ready and willing to invest in Liverpool, and Parry has kept the door ajar despite currently seeking investment elsewhere.Morgan, however, has had no formal contact with Liverpool or their advisors since last December, blaming indecision at board level as he publicly withdrew his Â£70m offer. He was also convinced his interest was being used to lure in others, so any new approach would now have to come from Liverpool. Morgan will certainly not be making another call. So speculation continues about the new benefactor, with trails leading to the Middle East and America, but all met with an understandable veil of secrecy from Anfield.Parry meanwhile sees the new ground as crucial to Liverpool's future, but is refusing to become emotionally attached to the idea. He is determined the ground will only be built on an affordable basis and will not make future Liverpool management hostages to the new stadium. Parry will pull back the moment the figures do not stack up, but there has been a vital new development in North London that has re-shaped Liverpool's thinking.Liverpool have publicly refused to entertain the idea of stadium sponsorship and potential naming rights - but the realism of Arsenal's stunning Â£100m deal for their new Emirates Stadium at Ashburton has changed the landscape. Parry labelled the deal \"an eye-opener\" and admits Liverpool would be missing a trick not to explore the possibilities. He knows some traditionalist Liverpool fans will reel at any attempt to call the new stadium anything other than just 'Anfield', but the maths of modern-day football decree that multi-millions for stadium and team could ease the pain.I would take Â£50m if we had no investment, but if we did, keep him. As for the stadium, if it gets us cash what difference does it make really?Â£50m for Gerrard? I don't care who you are, the Directors would take the money and it is the way it should be. We cannot let that sum of money go, despite Gerrard's quality.Through a cleverly worded statement, the club has effectively forced Gerrard to publicly make the decision for himself, which I think is the right thing to do.Critical time for Liverpool with regards to Gerrard. Ideally we would want to secure his future to the club for the long term. I am hoping he doesn't walk out of the club like Michael Owen did for very little cash.Â£50m realistically would allow Rafa to completely rebuild the squad, however, if we can afford to do this AND keep Gerrard we will be better for it. I would however be happy with Gerrard's transfer for any fee over Â£35m.Parry's statements are clever in that any future Gerrard transfer cannot be construed as a lack of ambition by the club to not try and keep their best players. Upping the ante is another smart move by Parry.I would keep Gerrard. No amount of money could replace his obvious love of the club and determination to succeed.The key is if Gerrard comes out and says that he is happy. Clearly, if he isn't, then we would be foolish not to sell. The worrying thing is who would you buy (or who would come) pending possible non-Champions League football.</td></tr><tr><th>21</th><td>Politics</td><td>Pre-poll clash on tax and spend</td><td>Labour and the Tories have clashed over tax and spending plans as the row over Gordon Brown's Budget turned into a full scale pre-election battle.Tony Blair claimed a Tory government would \"cut\" Â£35bn from public services hitting schools, hospitals and police. Tory chairman Liam Fox accused Labour of \"at best misrepresentation at worst a downright lie\" and said the \"smear\" tactics were a sign of desperation. The Lib Dems accused Mr Brown of ducking the issue of council tax rises.Appearing together at a Labour poster launch, the prime minister hailed his chancellor's \"brilliant\" performance. And he claimed the Tories would cut Â£35bn from public services, which was the equivalent of sacking every doctor and teacher in the UK.The Tories said they would not cut spending but agreed public spending would increase more slowly under their plans - leading to a total of Â£33.5bn less spending than that anticipated by Labour by 2011. But they say not a single doctor, teacher or nurse will be cut. Dr Fox said: \"We have said we will be spending more, year on year over and above inflation. \"And to call that a cut is at best a misrepresentation, at worst a downright lie.\"Tory shadow chancellor Oliver Letwin also predicted Mr Brown would have to raise taxes by Â£10bn or Â£11bn if Labour was re-elected because he was borrowing and spending too much. For the Lib Dems, Vince Cable said the chancellor had failed to deal with the \"looming problems\" of revaluation of council tax bands which he argued would result in \"massive increases\" for some. Mr Brown and Mr Blair staged a show of unity on Thursday morning, the day after the chancellor delivered a record-breaking ninth Budget.Mr Cable said taxation as a share of the economy would go up under all three of the main parties. The chancellor meanwhile insisted his spending plans were \"affordable\". In Wednesday's Budget, Mr Brown doubled the level at which homebuyers pay stamp duty, unveiled a rise in child tax credit and a Â£200 council tax refund for over-65s. Defending the plans, he told Today: \"I will take no risks with the stability of the economy. \"All our spending plans announced yesterday [Wednesday], including what we can do for pensioners, as well as for young families and on stamp duty and inheritance tax, all these are costed and affordable.\" In a further sign, if any were needed, that the election is approaching, the House of Commons authorities have formally told MPs their offices will be \"deep cleaned\" during the three-week poll campaign. Mr Blair has yet to name the day - but it is widely expected to be 5 May.</td></tr><tr><th>22</th><td>Politics</td><td>Escaped prisoner report ordered</td><td>First Minister Jack McConnell has ordered a report on the decision to allow a paranoid schizophrenic knife attacker to go on a visit unguarded.Michael Ferguson, 36, escaped after being allowed out of the high-security Carstairs unit. The SNP's Nicola Sturgeon has demanded to know who was responsible for signing off the leave. The Scottish Executive said ministers would be notified but it would \"not be common practice\" to sign approval. An executive spokesman said the health department and the state hospital itself would work together on preparing the report. Ministerial responsibility for Carstairs rests with Rhona Brankin, the deputy health minister. Ms Brankin said: \"The first minister has called for a review of what has happened, we need to talk to the state hospital and we need to reflect on this.\" Ms Sturgeon has written to Mr McConnell asking for clarification on the move to allow the prisoner out. She said questions must be answered about his escape, if the public is to be reassured about safety. Police are still searching for Ferguson, who failed to return after a trip to East Kilbride on Monday.The Scottish National Party's parliamentary leader argued that under the law, authorisation of Ferguson's leave of absence would have come directly from ministers. She said: \"The Scottish Executive seemed to indicate yesterday that the escape of Mr Ferguson was a matter for Carstairs. \"However, my understanding is that, under the mental health legislation, the decision to grant this patient - and any restricted patient - leave of absence, would have required direct and specific authorisation by Scottish ministers.\" She added: \"I have written to the first minister today asking for confirmation of that fact. I have also asked him to confirm which minister would routinely take decisions of this nature and what information they are based on. \"This is not an attempt to apportion blame, but to ensure a better understanding of the decision making process in such important and sensitive cases.\"Police said Ferguson posed a danger to the public. BBC Scotland political correspondent Glenn Campbell said the first minister had ordered an urgent report into the situation. He said: \"We understand from the executive that in this case no individual minister signed off the approval for Michael Ferguson to be released unescorted from Carstairs. \"The executive concedes that it is up to Scottish ministers, they have a legal responsibility for approving this sort of leave, but they say routinely it is specialised officials that make that decision and simply inform ministers that they have taken it. \"But at that stage presumably ministers can ask hard questions and can ask for reassurances that the patient is not a serious danger to the public or that any risk has been minimised.\" Scottish Conservative leader, David McLetchie, said earlier it was \"almost beyond belief that this has been allowed to happen\".The executive spokeswoman said the recommendation for leave was agreed by a psychiatric advisor \"in conjunction with officials on behalf of ministers\". She said: \"Ministers were told of that, notified of it, but it would not be common practice for them to sign it off. \"They do have statutory responsibility, but the common practice has been that people who work with the patient and have the best knowledge about risk would make that decision.\" Ferguson, who slashed a man in a doctors' surgery in Coatbridge in 1994, had been out to see his fianc&amp;#233;e Annabella Holmes, 47, whom he met when she was a patient at the high security complex in South Lanarkshire. He is described as being 5ft 9ins tall, slim, with blond hair, blue eyes and a fair complexion. Ferguson was wearing a black jacket, grey jeans, black jumper and black shoes when he was last seen. He has multiple fading tattoos on his left hand and a very faded tear tattoo under his left eye. Ms Holmes is not missing but there have been no sightings of Ferguson since Monday. Strathclyde Police asked anyone who spots Ferguson to contact Sergeant Keith McDonald on.</td></tr><tr><th>23</th><td>Politics</td><td>Blair told to double overseas aid</td><td>Tony Blair is being urged to use all his negotiating powers to end poor countries' debt and double aid.Some 45 million children will die needlessly before 2015 and aid budgets are half their 1960 levels, Oxfam says in a report, Paying the Price. The call comes as the prime minister prepares to assume the presidency of the G8 of top industrialised nations. \"As rich countries get richer, they're giving less and less. This scandal must stop,\" Oxfam's Barbara Stocking said.\"The world's poorest children are paying for rich countries' policies in aid and debt with their lives. \"2005 offers the chance for an historic breakthrough, but unless world leaders act now the year will end in shameful failure,\" the charity's director added. The report said: \"For rich countries, providing aid to help to end global poverty is an obligation and a matter of justice, not an act of charity.\" It also points out that in 1970 the G8 of top industrialised nations agreed to spend 0.7% of their incomes on aid. But 34 years later none of the organisations members have reached this target and many have not yet set a timetable, the report says.It argues that the price of not investing in poor countries' sustainable development will be felt across the world. The report said: \"Global poverty threatens our shared prosperity and security. \"Environmental crises and natural disasters, disease and drug trafficking know no national borders. Poverty heightens the likelihood of conflict and unrest. \"New threats to the peace and security of rich nations arise from poverty and gross inequalities. \"Criminal and terrorist networks are more likely to operate where state institutions are weak.\"Both the prime minister and Chancellor Gordon Brown have called for urgent action to fight world poverty. Mr Blair, who has described Africa as a \"scar\" on the world's conscience, has already said tackling world poverty would be one his G8 priorities along with climate change and the Aids epidemic. Mr Brown has also pledged to write off the debt owed to Britain by the world's poor nations. A spokeswoman for the Department for International Development said: \"The government had made a clear commitment to reaching 0.7% of gross national income for overseas development aid by 2013. \"If Britain's proposal for an International Finance Facility were adopted, the objective of 0.7% could be achieved earlier, by 2008-09. \"These additional resources will be used to increase UK bilateral aid to Africa to at least Â£1.25bn a year by 2008 and spend at least Â£1.5bn on HIV/Aids related work over the next three years.\"</td></tr><tr><th>24</th><td>Sport</td><td>O'Driscoll saves Irish blushes</td><td>Two moments of magic from Brian O'Driscoll guided Ireland to a workmanlike victory against Italy.A pair of classic outside breaks from the Ireland captain set up tries for Geordan Murphy and Peter Stringer. Italy led 9-8 early in the second half but Stringer's try gave Ireland a lead they never lost. The hosts cut the gap to 18-12 with 10 minutes left and nearly scored through Ludovico Nitoglia, but Denis Hickie's try ensured an Irish victory. Italy came flying out of the blocks and took the lead through a Luciano Orquera penalty after seven minutes.It could have been better for the hosts but the fly-half missed two kickable penalties and Ireland drew level with a Ronan O'Gara penalty midway through the first half. The Italians were driving at the heart of the Irish defence and, for the first quarter, the Irish pack struggled to secure any ball for their talented backs.When they finally did, just before the half-hour mark, O'Driscoll promptly created a sparkling try for Murphy. The Ireland captain ran a dummy scissors and made a magical outside break before drawing the full-back and putting the diving Murphy in at the corner. O'Gara missed the twice-taken conversion and the visitors found themselves trailing once again. Roland de Marigny took over the kicking duties for Italy from the hapless Orquera, and he landed a penalty either side of the break to edge Italy into a 9-8 lead.The only Ireland player offering a real threat was O'Driscoll, and it was his break that set up the second try for the visitors. Shane Horgan threw an overhead pass as he was about to be forced into touch and Stringer scooted over, with O'Gara landing the tricky conversion. A penalty apiece saw Ireland leading 18-12 as the game entered the final quarter, but they were lucky to survive when Italy launched a series of attacks. Winger Nitoglia dropped the ball as he reached for the line and Italy nearly rumbled over from a driving maul.An O'Gara penalty put Ireland more than a converted try ahead and they made the game safe when Hickie latched onto an inside pass from Murphy and crossed for a converted try. O'Driscoll limped off late on, joining centre partner Gordon D'Arcy on the sidelines, and the final word went to Italy. Prop Martin Castrogiovanni powered over for a try which was fitting reward for an Italian pack which had kept the Irish under pressure throughout.De Marigny; Mi Bergamasco, Canale, Masi, Nitoglia; Orquera, Troncon; Lo Cicero, Ongaro, Castrogiovanni; Dellape, Bortolami; Persico, Ma Bergamasco, Parisse.Perugini, Intoppa, Del Fava, Dal Maso, Griffen, Pozzebon, Robertson.Murphy, Horgan, O'Driscoll, D'Arcy, Hickie, O'Gara, Stringer, Corrigan, Byrne, Hayes, O'Kelly, O'Connell, S Easterby, Leamy, Foley.Sheahan, Horan, O'Callaghan, Miller, G Easterby, Humphreys, Dempsey.P O'Brien (New Zealand)</td></tr><tr><th>25</th><td>Tech</td><td>Broadband challenges TV viewing</td><td>The number of Europeans with broadband has exploded over the past 12 months, with the web eating into TV viewing habits, research suggests.Just over 54 million people are hooked up to the net via broadband, up from 34 million a year ago, according to market analysts Nielsen/NetRatings. The total number of people online in Europe has broken the 100 million mark. The popularity of the net has meant that many are turning away from TV, say analysts Jupiter Research. It found that a quarter of web users said they spent less time watching TV in favour of the netThe report by Nielsen/NetRatings found that the number of people with fast internet access had risen by 60% over the past year.The biggest jump was in Italy, where it rose by 120%. Britain was close behind, with broadband users almost doubling in a year. The growth has been fuelled by lower prices and a wider choice of always-on, fast-net subscription plans. \"Twelve months ago high speed internet users made up just over one third of the audience in Europe; now they are more than 50% and we expect this number to keep growing,\" said Gabrielle Prior, Nielsen/NetRatings analyst. \"As the number of high-speed surfers grows, websites will need to adapt, update and enhance their content to retain their visitors and encourage new ones.\" The total number of Europeans online rose by 12% to 100 million over the past year, the report showed, with the biggest rise in France, Italy, Britain and Germany.The ability to browse web pages at high speed, download files such as music or films and play online games is changing what people do in their spare time.A study by analysts Jupiter Research suggested that broadband was challenging television viewing habits. In homes with broadband, 40% said they were spending less time watching TV. The threat to TV was greatest in countries where broadband was on the up, in particular the UK, France and Spain, said the report. It said TV companies faced a major long-term threat over the next five years, with broadband predicted to grow from 19% to 37% of households by 2009. \"Year-on-year we are continuing to see a seismic shift in where, when and how Europe's population consume media for information and entertainment and this has big implications for TV, newspaper and radio,\" said Jupiter Research analyst Olivier Beauvillian.</td></tr><tr><th>26</th><td>Sport</td><td>Ferrero eyes return to top form</td><td>Former world number one Juan Carlos Ferrero insists he can get back to his best despite a tough start to 2005.The 2003 French Open champion has slipped to 64 in the world after a year of illness and injuries in 2004, but is confident that his form will return. \"I don't know when it is going to happen,\" Ferrero told BBC Sport. \"But I have a lot of confidence in me that I will be the same Juan Carlos as I was before, and very soon. I feel 100% again mentally.\" The 25-year-old Spaniard joins a top field for the ABN AMRO World Tennis Tournament in Rotterdam this week as he looks to add to just two wins in 2005. He opens against Rainer Schuettler and potentially faces fourth seed David Nalbandian in the second round. \"Because I'm no longer seeded it's tougher,\" Ferrero admitted. \"I had to play against Joachim Johansson in the first round last week in Marseille.\"In the past when I was a top seed I would have played a match like that in the quarters or semi-finals. \"This is the big difference but I have to do it to get higher in the rankings.\" Despite this, Ferrero insists he is feeling positive after chicken pox and a rib injury destroyed last season. \"Physically I am 100% since December of last year,\" said Ferrero. \"I was working very hard before the Davis Cup final to prepare and I've felt 100% from then until now. \"The difficult moments were when I knew that I had the chicken pox and that it would take two or three months to recover. \"I had to start from zero again physically because the virus left me at zero per cent. \"When I started to come back I had my rib broken when I fell on court and that was another two months out. Those five months were pretty difficult for me.\"Among the low points of a difficult year for Ferrero was the decision of Spain captain Jordi Arrese to drop him for the Davis Cup final against the USA. \"It was difficult because I had been playing well for the whole year and the coaches told me that I would play,\" said Ferrero. \"But then I had some problems with my hand two days before the Friday matches so they decided to choose Nadal instead. \"It was difficult for me not to be in the Friday matches but I had to understand. \"Inside me I wanted to play but this was the decision of the captain and they had to make it.\"</td></tr><tr><th>27</th><td>Tech</td><td>Europe backs digital TV lifestyle</td><td>How people receive their digital entertainment in the future could change, following the launch of an ambitious European project.In Nice last week, the European Commission announced its Networked &amp; Electronic Media (NEM) initiative. Its broad scope stretches from the way media is created, through each of the stages of its distribution, to its playback. The Commission wants people to be able to locate the content they desire and have it delivered seamlessly, when on the move, at home or at work, no matter who supplies the devices, network, content, or content protection scheme. More than 120 experts were in Nice to share the vision of interconnected future and hear pledges of support from companies such as Nokia, Intel, Philips, Alcatel, France Telecom, Thomson and Telefonica. It might initially appear to be surprising that companies in direct competition are keen to work together. But again and again, speakers stated they could not see incompatible, stand-alone solutions working. A long-term strategy for the evolution and convergence of technologies and services would be required.The European Commission is being pragmatic in its approach. They have identified that many groups have defined the forms of digital media in the areas that NEM encompasses. The NEM approach is to take a serious look at what is available and what is in the pipeline, pick out the best, bring them together and identify where the gaps are. Where it finds holes, it will develop standards to fill them. What is significant is that such a large and powerful organisation has stated its desire for digital formats to be open to all and work on any gadget. This is bound to please, if not surprise, many individuals and user organisations who feel that the wishes of the holder of rights to content are normally considered over and above those of the consumer. Many feel that the most difficult and challenging area for the Commission will be to identify a solution for different Digital Rights Management (DRM) schemes. Currently DRM solutions are incompatible, locking certain types of purchased content, making them unplayable on all platforms. With the potential of having a percentage of every media transaction that takes place globally, the prize for being the supplier of the world's dominant DRM scheme is huge. Although entertainment is an obvious first step, it will encompass the remote provisions of healthcare, energy efficiency and control of the smart home. The 10-year plan brings together the work of many currently running research projects that the EC has been funding for a number of years.Simon Perry is the editor of the Digital Lifestyles website, which covers the impact of technology on media</td></tr><tr><th>28</th><td>Sport</td><td>Liverpool pledge to keep Gerrard</td><td>Liverpool chief executive Rick Parry insists the club will never sell Steven Gerrard amid reports Chelsea will renew their bid to lure him from Anfield.Gerrard reiterated his desire to win trophies with the Reds after his superb Champions League winner on Wednesday. And Parry has moved to scotch claims that Chelsea could launch a Â£35m bid. \"There is no chance of Stevie going in January,\" said Parry. \"That just won't happen. Our intention is that we will never let him go.\" Gerrard scored a spectacular late goal to give Liverpool a 3-1 win over Olympiakos and book their place in the knockout stages. \"Of course he is ambitious but so are we,\" Parry added. \"We firmly believe that if we can satisfy his ambition he will remain a Liverpool player. \"We have an open and straightforward relationship. We both know where we stand and that played a big part in his decision to stay last summer. If he was not so committed to Liverpool he would have gone by now.\" Gerrard had said before Wednesday's game he would consider leaving if the club was knocked out of Europe, with Real Madrid also believed to be monitoring his situation.\"The main point I have made is I want to be in a Liverpool side which challenges for the Champions League and the title all the time,\" he said afterwards. \"I want to be winning things with Liverpool, not somewhere else. \"I am a fan as well and I think what I have said the supporters will agree with. \"We have to build on wins like that, not just settle for a great win and then not progress any further. \"My goal was one of the most important I have ever scored and I hope it turns out to be one of the most important for the club for a long time. \"I know I put a lot of pressure on myself because of what I said, and I felt I needed a big performance, but I am not going to go around telling lies about how I feel.\"Reds manager Rafael Benitez believes Gerrard can win everything he wants to without moving clubs. \"Steven can win all he wants with us and we need him. He has seen that we have a good team and we can do more things in the future,\" said Benitez. \"But if we want to win more games, important games, we need Steven in the team. \"We need his strength, the strong mentality he has and his quality. I think he likes and wants the responsibility of leading this team.\"</td></tr><tr><th>29</th><td>Entertainment</td><td>Bening makes awards breakthrough</td><td>Film actress Annette Bening is up for an Oscar for her starring role in the award-winning film Being Julia.Bening, who was born in Texas in 1958, has gained prominence for a string of key roles. Although an Oscar has so far eluded her, her status as one of Hollywood's favourite actresses remains solid. One of the biggest Oscars buzzes in recent years was for Bening's role as troubled Carolyn Burnham in 1999's American Beauty. But her deliciously neurotic portrayal of surburban life turning sour was overlooked in favour of Hilary Swank's leading role in Boys Don't Cry. After opening her career in the theatre - and gaining a Tony Award nomination in 1986 - Bening had a low-key spell in television. She then made her film debut as a sex-starved wife in 1988's The Great Outdoors, opposite comics Dan Akroyd and John Candy.Following a cameo in Postcards From The Edge, Bening's breakthrough role came in 1990, playing seductive con artist Myra Langtry in The Grifters - a role that won her an Oscar nomination. Despite some rave reviews, Bening did not win the best supporting actress Academy Award.However the high-profile performance enabled Bening to capture roles in a number of big budget Hollywood productions, co-starring with some of Hollywood's greatest players, including Robert De Niro and Harrison Ford. But it was her role opposite Warren Beatty in 1991 gangster flick Bugsy which had the greatest impact. Bening played Virginia Hill, another role which won her high critical acclaim, but the film only picked up two of a staggering 12 Oscar nominations.Bugsy was the start of a very significant liaison for Bening - she married Beatty, with whom she had a child as the couple promoted the film in Europe. The couple now have four children together. A pair of contrasting yet successful performances peppered Bening's career in the mid-1990s. She played Michael Douglas' opposite number in romantic comedy The American President, and as a \"fiery\" Queen Elizabeth I in a contemporary adaptation of Shakespeare's Richard III.Bening was the first choice to play the female lead in American Beauty, director Sam Mendes' film debut which was a critical and commercial success - but the actress had to be content with a Bafta award for her strong performance. But current film Being Julia has made Bening an award-winning actress rather than the perennial nominee, with success at the Golden Globes. The witty tale of revenge and love set in 1930s London sees the eponymous theatrical diva - played by Bening - grow tired of her success and fall for a young American - and could be the role which finally wins her the coveted Academy Award.</td></tr><tr><th>30</th><td>Politics</td><td>Kennedy calls for Iraq exit plans</td><td>Tony Blair should set out a proper exit strategy from Iraq in the wake of next Sunday's elections in the country, Lib Dem leader Charles Kennedy has said.In a speech focusing on issues arising from the re-election of George W Bush, Mr Kennedy said Iraq had become a \"crucible of militant terrorism\". He wants to see a phased withdrawal of UK troops \"as soon as the situation allows\", he said in London. Any exit strategy must \"augment and support\" the democratic process.\"There are some who are of the opinion that the mere presence of British and American troops in Iraq feeds the insurgency,\" he said. \"There is some truth in that, especially after the initial mistakes that were made - the heavy-handedness of operations like Fallujah, and the well-publicised instances of abuse at the hands of coalition forces.\" Mr Kennedy pointed out that the Netherlands, Portugal and the Czech Republic, which all have troops operating in the southern sector of Iraq, have announced their imminent withdrawal \"regardless of the situation on the ground\".He accused Mr Blair's government of \"being less than straightforward\" over its plans. \"Next week the prime minister should make a statement regarding the elections in Iraq,\" Mr Kennedy said during his City of London speech. \"He should set out a proper exit strategy, including the phased withdrawal of British troops, as the security situation allows.\" Mr Kennedy also argued that British troops deployed in Iraq should be replaced with forces from other countries - \"especially Islamic countries\".</td></tr><tr><th>&vellip;</th><td>&vellip;</td><td>&vellip;</td><td>&vellip;</td></tr></tbody></table>"
      ],
      "text/latex": [
       "\\begin{tabular}{r|ccc}\n",
       "\t& topic & heading & article\\\\\n",
       "\t\\hline\n",
       "\t& String & String & String\\\\\n",
       "\t\\hline\n",
       "\t1 & Entertainment & Sky takes over Oscar night mantle & Sky has signed a major new deal to broadcast this year's Academy Awards, taking over from three years of live Oscar coverage on the BBC.Sky said it was \"honoured to have won exclusive broadcasting rights\" and promised to cover the event \"in a way no other broadcaster could\". The BBC denied it had lost a bidding war, saying it had \"decided to pass the mantle to another broadcaster\". The ceremony, hosted by newcomer Chris Rock, takes place on 27 February 2005.Sky's coverage will launch with the nominations on 25 January and will include themed programming across Sky channels including Sky News, Sky Travel and the Biography Channel. There will also be a month-long season of Oscar-winning films on Sky Movies in the run up to the event and live uninterrupted coverage on the night. \"We are honoured to have won the live and exclusive broadcasting rights for The Academy Awards,\" said Sky Networks' Sophie Turner Laing. \"Sky is the natural place to see the biggest and most prestigious film event of the year, and will cover the event in a way that no other broadcaster could.\"Sky first scooped Oscar rights from the BBC in 1999, but the BBC won them back in 2001 when Sky was forced to pull out of a bidding war due to financial constraints. \"BBC viewers will of course be able to watch quality coverage of the 2005 Academy Awards on the BBC's bulletins and news programmes,\" a spokesman said. Among the films tipped to do well at this year's Academy Awards are Martin Scorsese's The Aviator, Jean-Pierre Jeunet's A Very Long Engagement and the Ray Charles biopic, Ray. \\\\\n",
       "\t2 & Tech & Freeze on anti-spam campaign & A campaign by Lycos Europe to target spam-related websites appears to have been put on hold.Earlier this week the company released a screensaver that bombarded the sites with data to try to bump up the running costs of the websites. But the site hosting the screensaver now displays a pink graphic and the words \"Stay tuned\". No one at Lycos was available for comment on latest developments in its controversial anti-spam campaign.Lycos Europe's \"Make love not spam\" campaign was intended as a way for users to fight back against the mountain of junk mail flooding inboxes. People were encouraged to download the screensaver which, when their PC was idle, would then send lots of data to sites that peddle the goods and services mentioned in spam messages. Lycos said the idea was to get the spam sites running at 95\\% capacity and generate big bandwidth bills for the spammers behind the sites. But the plan has proved controversial.Monitoring firm Netcraft analysed response times for some of the sites targeted by the screensaver and found that a number were completely knocked offline.The downing of the sites could dent Lycos claims that what it is doing does not amount to a distributed denial of service attack. In such attacks thousands of computers bombard sites with data in an attempt to overwhelm them. Laws in many countries do not explicitly outlaw such attacks but many nations are re-drafting computer use laws to make them specific offences. Lycos Europe now appears to have put the plan on hold. The site hosting the screensaver currently shows a holding page, with the words, \"Stay tuned\". The numerical internet address of the site has also changed. This is likely to be in response to spammers who have reportedly redirected traffic from their sites back to the Lycos screensaver site. The campaign has come under fire from some corners of the web. Many discussion groups have said that it set a dangerous precedent and could incite vigilantism. \"Attacking a spammer's website is like poking a grizzly bear sleeping in your back garden with a pointy stick,\" said Graham Cluley, senior technology consultant for Sophos. \"Not only is this screensaver similar in its approach to a potentially illegal distributed denial of service attack, but it also is in danger of turning innocent computer users into vigilantes, who may not be prepared for whatever retaliation the spammers care to dream up.\" \\\\\n",
       "\t3 & Entertainment & Spark heads world Booker list & Dame Muriel Spark is among three British authors who have made the shortlist for the inaugural international Booker Prize.Doris Lessing and Ian McEwan have also been nominated. McEwan and Margaret Atwood are the only nominees to have previously won the main Booker Prize. The new Â£60,000 award is open to writers of all nationalities who write in English or are widely translated. The prize commends an author for their body of work instead of one book.Gabriel Garcia Marquez, Saul Bellow, Milan Kundera and John Updike also feature on the 18-strong list of world literary figures.But other past winners of the regular Booker Prize, such as Salman Rushdie, JM Coetzee and Kazuo Ishiguro have failed to make the shortlist. The prize, which will be awarded in London in June, will be given once every two years. It will reward an author - who must be living - for \"continued creativity, development and overall contribution to fiction on the world stage\". An author can only win once. The international award was started in response to criticisms that the Booker Prize is only open to British and Commonwealth authors.Margaret Atwood (Canada) Saul Bellow (Canada) Gabriel Garcia Marquez (Colombia) Gunter Grass (Germany) Ismail Kadare (Albania) Milan Kundera (Czech Republic) Stanislaw Lem (Poland) Doris Lessing (UK) Ian McEwan (UK) Naguib Mahfouz (Egypt) Tomas Eloy Martinez (Argentina) Kenzaburo Oe (Japan) Cynthia Ozick (US) Philip Roth (US) Muriel Spark (UK) Antonio Tabucchi (Italy) John Updike (US) Abraham B Yehoshua (Israel) \\\\\n",
       "\t4 & Business & Criminal probe on Citigroup deals & Traders at US banking giant Citigroup are facing a criminal investigation in Germany over a controversial bond deal.The deal saw the sale of 11bn euros (\\$14.4bn; Â£7.6bn) of government bonds in a few minutes on 2 August, with 4bn euros-worth then bought back later. The move was widely criticised at the time, and now the German regulator has said it has found evidence of possible market manipulation. Citigroup said it would continue to co-operate fully with the authorities. \"We are disappointed that the BaFin has referred to the prosecutor the question of whether action should be brought against individuals involved,\" Citigroup said. If the traders are found guilty, they could face a five-year jail term or a fine, Reuters reported BaFin as saying. However, under German criminal law, prosecutors cannot pursue Citigroup itself.Germany's financial watchdog BaFin told BBC News it had now transferred the investigation to the public prosecutor. \"I can confirm that BaFin has passed through the case to the public prosecutor,\" a BaFin spokeswoman said. \"It is now a criminal investigation.\" \"We found clues of possible market manipulation,\" the spokeswoman said, which included signs of linked bond trading ahead of the main trades on 2 August. \"Germany's Securities Trading Act says that if BaFin finds such clues, it has to put the case in the hands of the prosecutor.\" Regulatory investigations are still going on in France, the UK and elsewhere. Some Citigroup operations elsewhere in the world came under regulatory criticism in 2004. Its private banking operation in Japan was closed down by regulators in Tokyo after an \"aggressive sales culture\" led the bank to flout anti-money laundering rules. \\\\\n",
       "\t5 & Sport & Claxton hunting first major medal & British hurdler Sarah Claxton is confident she can win her first major medal at next month's European Indoor Championships in Madrid.The 25-year-old has already smashed the British record over 60m hurdles twice this season, setting a new mark of 7.96 seconds to win the AAAs title. \"I am quite confident,\" said Claxton. \"But I take each race as it comes. \"As long as I keep up my training but not do too much I think there is a chance of a medal.\" Claxton has won the national 60m hurdles title for the past three years but has struggled to translate her domestic success to the international stage. Now, the Scotland-born athlete owns the equal fifth-fastest time in the world this year. And at last week's Birmingham Grand Prix, Claxton left European medal favourite Russian Irina Shevchenko trailing in sixth spot.For the first time, Claxton has only been preparing for a campaign over the hurdles - which could explain her leap in form. In previous seasons, the 25-year-old also contested the long jump but since moving from Colchester to London she has re-focused her attentions. Claxton will see if her new training regime pays dividends at the European Indoors which take place on 5-6 March. \\\\\n",
       "\t6 & Business & FBI agent colludes with analyst & A former FBI agent and an internet stock picker have been found guilty of using confidential US government information to manipulate stock prices.A New York court ruled that former FBI man Jeffrey Royer, 41, fed damaging information to Anthony Elgindy, 36. Mr Elgindy then drove share prices lower by spreading negative publicity via his newsletter. The Egyptian-born analyst would extort money from his targets in return for stopping the attacks, prosecutors said. \"Under the guise of protecting investors from fraud, Royer and Elgindy used the FBI's crime-fighting tools and resources actually to defraud the public,\" said US Attorney Roslynn Mauskopf.Mr Royer was convicted of racketeering, securities fraud, obstruction of justice and witness tampering. Mr Elgindy was convicted of racketeering, securities fraud and extortion.The charges carry sentences of up to 20 years. When the guilty verdict was announced by the jury foreman, Mr Elgindy dropped his face into his hands and sobbed, the Associated Press news agency reported. He was led weeping from the court room by US marshals, AP said. Defense lawyers contended that Mr Royer had been feeding information to Mr Elgindy and another trader in an attempt to expose corporate fraud. Mr Elgindy's team claimed that he also was fighting against corporate wrongdoing. \"Elgindy's conviction marks the end of his public charade as a crusader against fraud in the market,\" said Ms Mauskopf. One of the more bizarre aspects of the trial focused on the claims that Mr Elgindy may have had foreknowledge of the 11 September terrorist attacks in New York and Washington. Mr Elgindy had been trying to sell stock prior to the attack and had predicted a slump in the market. No charges were brought in relation to these allegations. \\\\\n",
       "\t7 & Politics & 'UK will stand firm on EU rebate' & Britain's Â£3bn EU rebate is not up for renegotiation at next week's European Council summit, Jack Straw said.The foreign secretary told MPs the rebate, secured by Margaret Thatcher in 1984, was \"entirely justified\". New European commission president Jose Manuel Barroso has suggested the cash could be shared out among net contributors to the EU budget. Mr Straw acknowledged some countries in the newly enlarged 25 nation EU still had to \"see the light\" on the rebate.But the foreign secretary told the Commons foreign affairs committee: \"Our position is very clear: it is entirely justified and it is not for negotiation.\" He added that he did not think there would be a political price to pay for the UK's stance - Britain contributed more and received less than other EU states. The two-day European Council summit in Brussels begins on 16 December and is widely expected to mark the beginning of a lengthy negotiating period over the EU's budget for 2007-13. The wrangling could stretch into 2005, even 2006.The UK, France, Germany, Austria, the Netherlands and Sweden want the EU budget to be capped at 1\\% of member states' combined national incomes - the Commission wants it to be 1.26\\%. Mr Straw said the EU commission's proposal would mean a 35\\% hike in the budget. \"I don't know of any national government thinking of increasing its budget by that amount,\" he added. The foreign secretary said he hoped the talks next week could produce a date in 2005 for the beginning of negotiations with Turkey about possible EU membership although that there would be no prospect of a date for joining for some time. \\\\\n",
       "\t8 & Politics & Tories opposing 24-hour drinking & The Tories say plans to extend pub opening times should be put on hold until binge drinking is under control, despite backing a law change last year.Spokesman David Davis said ministers had failed to make his party aware of concern among senior police that plans would cause more anti-social behaviour. Notts police chief Steve Green said innocent people would suffer. But Culture Secretary Tessa Jowell said a delay would be \"disastrous\" and she accused the Tories of opportunism. The government would go ahead with the changes which would give police more power to tackle excessive drinking, she added. Earlier chief constable Green questioned how his officers would be able to practically apply powers allowing them to shut down problem premises. \"If you look at the Market Square in Nottingham, if a fight takes place which licensed premises do you go and lay the responsibilty at the door of?\" he asked on BBC Radio 4's World at One programme.He warned that if drinking establishments were allowed to open until three or four in the morning the police would have to take officers off day shifts in order to do their job effectively at night. Earlier this year the Royal College of Physicians said it opposed the plan to extend drinking hours when there was already an \"epidemic\" of binge drinking. Minister Richard Caborn said the government was tackling the causes and the symptoms of the problem by allowing more powers to close down problem premises. It is hoped that allowing pubs and clubs to stay open longer will stagger closing times and end the current situation where drinkers spill on to the streets all at once. Earlier Tony Blair defended the plans against criticism from one of his own backbenchers.\"My view of this is very clear: we should have the same flexibility that other countries have and then we should come down really hard on those who abuse that freedom and don't show the responsibility,\" he told MPs. \"The law-abiding majority who want the ability, after going to the cinema or theatre say, to have a drink at the time they want should not be inconvenienced, we shouldn't have to have restrictions that no other city in Europe has, just in order to do something for that tiny minority who abuse alcohol, who go out and fight and cause disturbances. \"To take away that ability for all the population - even the vast majority who are law abiding - is not, in my view, sensible.\" This week a judge claimed easy access to drink was breeding \"urban savages\" and turning town centres into no go areas. Judge Charles Harris QC made his remarks as he sentenced three men for assaults carried out while drunk and high on drugs after a night out. \\\\\n",
       "\t9 & Business & US manufacturing expands & US industrial production increased in December, according to the latest survey from the Institute for Supply Management (ISM).Its index of national manufacturing activity rose to 58.6 last month from 57.8 in November. A reading above 50 indicates a level of growth. The result for December was slightly better than analysts' expectations and the 19th consecutive expansion. The ISM said the growth was driven by a \"significant\" rise in the new orders. \"This completes a strong year for manufacturing based on the ISM data,\" said chairman of the ISM's survey committee. \"While there is continuing upward pressure on prices, the rate of increase is slowing and definitely trending in the right direction.\"The ISM's index of national manufacturing activity is compiled from monthly responses of purchasing executives at more than 400 industrial companies, ranging from textiles to chemicals to paper, and has now been above 50 since June 2003. Analysts expected December's figure to come in at 58.1. The ISM manufacturing index's main sister survey - the employment index - eased to 52.7 in December from 57.6 in November, while its \"prices paid\" index, measuring the cost to businesses of their inputs, also eased to 72.0 from 74.0. The ISM's \"new orders\" index rose to 67.4 from 61.5. \\\\\n",
       "\t10 & Tech & Slim PlayStation triples sales & Sony PlayStation 2's slimmer shape has proved popular with UK gamers, with 50,000 sold in its first week on sale.Sales have tripled since launch, outstripping Microsoft's Xbox, said market analysts Chart-Track. The numbers were also boosted by the release of the PS2-only game Grand Theft Auto: San Andreas. The title broke the UK sales record for video games in its first weekend of release. Latest figures suggest it has sold more than 677,000 copies.\"It is obviously very, very encouraging for Sony because Microsoft briefly outsold them last week,\" John Houlihan, editor of Computerandvideogames.com told BBC News. \"And with Halo 2 [for Xbox] out next week, it really is a head-to-head contest between them and Xbox.\"Although Xbox sales over the last week also climbed, PS2 sales were more than double that. The figures mean Sony is reaching the seven million barrier for UK sales of the console. Edinburgh-based developer, Rockstar, which is behind the GTA titles, has seen San Andreas pull in an estimated Â£24m in gross revenues over the weekend. In comparison, blockbuster films like Harry Potter and The Prisoner Of Azkaban took Â£11.5m in its first three days at the UK box office. The Lord of the Rings: The Return of the King took nearly Â£10m over its opening weekend, although games titles are four to five times more expensive than cinema tickets.Gangster-themed GTA San Andreas is the sequel to Grand Theft Auto Vice City which previously held the record for the fastest-selling video game ever. The Xbox game Halo 2, released on 11 November in the UK, is also widely tipped to be one of the best-selling games of the year. The original title won universal acclaim in 2001, and sold more than four million copies.Mr Houlihan added that Sony had done well with the PS2, but it definitely helped that the release of San Andreas coincided with the slimline PS2 hitting the shelves. The run-up to Christmas is a huge battlefield for games consoles and titles. Microsoft's Xbox had been winning the race up until last week in sales. The sales figures also suggest that it may be a largely adult audience driving demand, since GTA San Andreas has an 18 certificate. Sony and Microsoft have both reduced console prices recently and are preparing the way for the launches of their next generation consoles in 2005. \"Both have hit crucial price points at around Â£100 and that really does open up new consoles to new audience, plus the release of two really important games in terms of development are also driving those sales,\" said Mr Houlihan. \\\\\n",
       "\t11 & Business & Asia shares defy post-quake gloom & Thailand has become the first of the 10 southern Asian nations battered by giant waves at the weekend to cut its economic forecast.Thailand's economy is now expected to grow by 5.7\\% in 2005, rather than 6\\% as forecast before tsunamis hit six tourist provinces. The full economic costs of the disaster remain unclear. In part, this is because of its scale, and because delivering aid and recovering the dead remain priorities. But Indonesian, Indian and Hong Kong stock markets reached record highs on Wednesday, suggesting that investors do not fear a major economic impact.The highs showed the gap in outlook between investors in large firms and individuals who have lost their livelihoods.Investors seemed to feel that some of the worst-affected areas - such as Aceh in Indonesia - were so under-developed that the tragedy would little impact on Asia's listed companies, according to analysts. \"Obviously with a lot of loss of life, a lot of time is needed to clean up the mess, bury the people and find the missing. But it's not necessarily a really big thing in the economic sense,\" said ABN Amro chief Asian strategist Eddie Wong. India's Bombay Stock Exchange inched slightly above its previous record close on Wednesday. Expectations of strong corporate earnings in 2005 drove the Indonesian stock exchange in Jakarta to a record high on Wednesday. In Hong Kong, the Hang Seng index may be benefiting in part from the potential for its listed property companies to gain from rebuilding contracts in the tsunami-affected regions of South East Asia. In Sri Lanka, some economists have said that as much as 1\\% of annual growth may be lost. Sri Lanka's stock market has fallen about 5\\% since the weekend, but it is still 40\\% higher than at the start of 2004.Thailand may lose 30bn baht (Â£398m; \\$768m) in earnings from tourism over the next three months, according to tourism minister Sontaya Kunplome.In the affected provinces, he expects the loss of tourism revenue to be offset by government reconstruction spending. Thailand intends to spend a similar sum - around 30bn baht - on the rebuilding work. \"It will take until the fourth quarter of next year before tourist visitors in Phuket and five other provinces return to their normal level,\" said Naris Chaiyasoot, director general at the ministry's fiscal policy office. In the Maldives the cost of reconstruction could wipe out economic growth, according to a government spokesman. \"Our nation is in peril here,\" said Ahmed Shaheed, the chief government spokesman. He estimated the economic cost of the disaster at hundreds of millions of dollars. The Maldives has gross domestic product of \\$660m. \"It won't be surprising if the cost exceeds our GDP,\" he said. \"In the last few years, we made great progress in our standard of living - the United Nations recognised this. Now we see this can disappear in a few days, a few minutes.\" Shaheed noted that investment in a single tourist resort - the economic mainstay - could run to \\$40m. Between 10 and 12 of the 80-odd resorts have been severely damaged, and a similar number have suffered significant damage. However, many experts, including the World Bank, have pointed out that it is still difficult to assess the magnitude of the disaster and its likely economic impact. \\\\\n",
       "\t12 & Sport & Reds sink 10-man Magpies & Titus Bramble's own goal put Liverpool on the comeback trail as injury-hit Newcastle were well beaten at Anfield.Patrick Kluivert's close-range finish put Newcastle ahead after 31 minutes, but they were pegged back as Bramble headed in Steven Gerrard's corner. Neil Mellor gave Liverpool the lead before half-time from Milan Baros' pass before the Czech added a third after rounding Shay Given on the hour. Newcastle then had Lee Bowyer sent off for two bookable offences. Liverpool brought back Luis Garcia after a hamstring injury, while Newcastle were forced to draft in Kluivert after Craig Bellamy was a late withdrawal with a back injury sustained in the warm-up. And Garcia should have crowned his return with a goal inside the opening minute when he took a pass from Baros but shot wildly over the top from eight yards. Olivier Bernard was only inches away from giving Newcastle the lead after 20 minutes, when he fired just wide from a free-kick 25 yards out. But Souness's side did go ahead 11 minutes later in highly controversial circumstances.Kluivert looked suspiciously offside when Kieron Dyer set Bowyer free, but the Dutchman was then perfectly placed to score from six yards. The lead lasted three minutes, with Liverpool back on terms as Bramble headed Gerrard's corner into his own net under pressure from Sami Hyypia. And Liverpool were ahead after 37 minutes when Baros slid a perfect pass into Mellor's path for the youngster to slip a slide-rule finish into Given's bottom corner. Garcia's finishing was wayward, and he was wasteful again in first-half injury time, shooting tamely at Given after good work by Xabi Alonso. Any hopes of a Newcastle recovery looked to be snuffed out on the hour when a brilliant turn and pass by Harry Kewell set Baros free and he rounded Given to score. Jermaine Jenas then missed a glorious chance to throw Newcastle a lifeline, shooting over from just eight yards out from Shola Ameobi's cross. Then Bowyer, who had already been booked for a foul on Alonso, was deservedly shown the red card by referee Graham Poll for a wild challenge on Liverpool substitute Florent Sinama-Pongolle.Dudek, Finnan, Hyypia, Carragher, Riise, Luis Garcia (Nunez 73), Gerrard, Alonso, Kewell (Traore 85), Baros, Mellor (Sinama Pongolle 75).Subs not used: Hamann, Harrison.Bramble 35 og, Mellor 38, Baros 61.Given, Andrew O'Brien, Elliott, Bramble, Bernard, Bowyer, Dyer (Ambrose 80), Jenas, Milner (N'Zogbia 72), Kluivert (Robert 58), Ameobi.Subs not used: Harper.Bowyer (77).Bowyer, Elliott, Bernard.Kluivert 32.43,856.G Poll (Hertfordshire). \\\\\n",
       "\t13 & Politics & 'Best person' for top legal job & The \"best person for the job\" should be appointed lord chancellor, and not necessarily a lawyer or MP, the courts minister has told MPs.Under reforms, the post of lord chancellor is to be stripped of its judicial functions. \"The lord chancellor...no more needs to be a lawyer than the Secretary of Health needs to be a doctor,\" said courts minister Christopher Leslie. The Constitutional Reform Bill was entering its second reading on Monday. Mr Leslie said: \"The prime minister should be able to appoint the best person for the job whether they sit in the House of Lords or the House of Commons.\" Under the reforms, the Law Lords will also be replaced as the UK's highest legal authority by a Supreme Court and judges will be appointed by an independent panel rather than ministers.In December the Lords rejected a plea by current Lord Chancellor Lord Falconer that the holder of the job should not necessarily be a lawyer or a peer. The peers voted by 229 to 206 to say in law that lord chancellors must also be peers. The debate was carried over from the last Parliamentary session, but with an impending general election time is crucial for the government to get the Bill passed. Mr Leslie said it was irrelevant whether the post was called Secretary of State for Constitutional Affairs or Lord Chancellor. He said: \"What matters most is...whether it is reformed so that the post holder no longer has those conflicting duties. \"It is no longer appropriate for a government minister to have such unfettered discretion in the appointment of judges.\"Shadow attorney general Dominic Grieve criticised the government on its plans to change what he said was an \"exceptional institution,\" providing a \"champion of the independence of the judiciary\". The government had initially proposed to take this institution and \"smash it to pieces,\" Mr Grieve said. Convention should be \"nurtured and celebrated,\" but the government distrusted and disliked it instead. He warned that unless ministers backed down over the lord chancellor remaining a member of the House of Lords, the government would have \"great difficulty\" in getting the Bill through Parliament. Former Cabinet minister Douglas Hogg, whose father and grandfather served as lord chancellor, said the Bill was \"largely unnecessary, bureaucratic and expensive\". But the Tory MP for Sleaford and North Hykeham admitted the lord chancellor's role and office \"cannot be frozen in aspic\". \\\\\n",
       "\t14 & Tech & Sony PSP tipped as a 'must-have' & Sony's Playstation Portable is the top gadget for 2005, according to a round-up of ultimate gizmos compiled by Stuff Magazine.It beats the iPod into second place in the Top Ten Essentials list which predicts what gadget-lovers are likely to covet this year. Owning all 10 gadgets will set the gadget lover back Â£7,455. That is Â£1,000 cheaper than last year's list due to falling manufacturing costs making gadgets more affordable.Portable gadgets dominate the list, including Sharp's 902 3G mobile phone, the Pentax Optio SV digital camera and Samsung's Yepp YH-999 video jukebox.\"What this year's Essentials shows is that gadgets are now cheaper, sexier and more indispensable than ever. We've got to the point where we can't live our lives without certain technology,\" said Adam Vaughan, editor of Stuff Essentials. The proliferation of gadgets in our homes is inexorably altering the role of the high street in our lives thinks Mr Vaughan. \"Take digital cameras, who would now pay to develop an entire film of photos? Or legitimate downloads, who would travel miles to a record shop when they could download the song in minutes for 70p?\" he asks. Next year will see a new set of technologies capturing the imaginations of gadget lovers, Stuff predicts. The Xbox 2, high-definition TV and MP3 mobiles will be among the list of must-haves that will dominate 2006, it says. The spring launch of the PSP in the UK is eagerly awaited by gaming fans. \\\\\n",
       "\t15 & Business & Green reports shun supply chain & Nearly 20\\% more UK top 250 firms produced non-financial reports on social and environment issues than last year.But of the 145 companies reporting, 76\\% didn't examine their supply chains, says the annual Directions survey. Green groups say putting pressure on supply chains is a major way companies can reduce their environmental impact. The survey is published by corporate social responsibility firm Context and branding firm SalterBaxter.Blake Lee-Harwood, campaigns director at Greenpeace in the UK, said: \"It's fairly meaningless to talk about your company's direction in terms of sustainability without having detailed knowledge of your supply chain. \"It's also important to get some kind of independent assessment of your reporting.\"Less than a quarter of companies (24\\%) get their corporate social responsibility (CSR) reports independently verified to provide assurances they are accurate and complete, says the survey. To date there are no set standards for non-financial reporting, although the Global Reporting Initiative, an independent pro-sustainability institution, is planning to establish some. The reports surveyed by Directions are published voluntarily. They are usually called corporate social responsibility (CSR) reports, sustainability reports, or social and environmental reports.Peter Knight, director of Context, says 24 UK top 250 companies reported for the first time this year and, in general, the quality of reports has improved. \"The corporate lexicon of homilies, generalities and soft assurances - fluff - is on its way out. There are less pictures of smiling children and butterflies.\" The UK government will soon require all quoted companies to report their social and environmental risks in a chapter in their annual reports, called the Operating and Financial Review. The regulation is not expected until 2005 and the first reports under this scheme will not be published before 2006. The US seems to lag Europe in producing corporate social responsibility reports. The majority of European top 50 companies (44) publish them and only 27 of the US top 50. \\\\\n",
       "\t16 & Tech & US hacker breaks into T-Mobile & A man is facing charges of hacking into computers at the US arm of mobile phone firm T-Mobile.The Californian man, Nicholas Lee Jacobsen, was arrested in October. Mr Jacobsen tried at least twice to hack T-Mobile's network and took names and social security numbers of 400 customers, said a company spokesman. The arrest came a year after T-Mobile uncovered the unauthorised access. The US Secret Service has been investigating the case. \"T-Mobile has stringent procedures in place where we monitor for suspicious activity so that limited his activities and we were able to take corrective action immediately,\" Peter Dobrow, a T-Mobile spokesperson said. It is thought that Mr Jacobsen's hacking campaign took place over at least seven months during which time he read e-mails and personal computer files, according to court records.Although Mr Jacobsen, 21, managed to get hold of some data, it is thought he failed to get customer credit card numbers which are stored on a separate computer system, said Mr Dobrow. T-Mobile confirmed that the US Secret Service was also looking into whether the hacker accessed photos that T-Mobile subscribers had taken with their camera phones. The Associated Press agency reported that Mr Jacobsen also read personal files on the Secret Service agent who was apparently investigating the case. A Los Angeles grand jury indicted Mr Jacobsen with intentionally accessing a computer system without authorisation and with the unauthorised impairment of a protected computer between March and October 2004. He is currently on bail. T-Mobile is a subsidiary company of Deutsche Telekom and has about 16.3 million subscribers in the US. \\\\\n",
       "\t17 & Business & Economy 'stronger than forecast' & The UK economy probably grew at a faster rate in the third quarter than the 0.4\\% reported, according to Bank of England deputy governor Rachel Lomax.Private sector business surveys suggest a stronger economy than official estimates, Ms Lomax said. Other surveys collectively show a rapid slowdown in UK house price growth, she pointed out. This means that despite a strong economic growth, base rates will probably stay on hold at 4.75\\%. Official data comes from the Office for National Statistics (ONS). Though reliable, ONS data takes longer to publish, so now the BoE is calling for faster delivery of data so it can make more effective policy decisions. \"Recent work by the Bank has shown that private sector surveys add value, even when preliminary ONS estimates are available,\" Ms Lomax said in a speech to the North Wales Business Club.The ONS is due to publish its second estimate of third quarter growth on Friday. \"The MPC judges that overall growth was a little higher in the third quarter than the official data currently indicate,\" Ms Lomax said. The Bank said successful monetary policy depends on having good information. Rachel Lomax cited the late 1980s as an example of a time when weak economic figures were published, but substantially revised upwards years later.\"The statistical fog surrounding the true state of the economy has proved a particularly potent breeding ground for policy errors in the past,\" she said. Improving the quality of national statistics is the single the best way of making sure the Monetary Policy Committee (MPC) makes the right decisions, she said. The Bank of England is working in tandem with the ONS to improve the quality and speed of delivery of data. Her remarks follow criticism from the House of Lords Economic Affairs Committee, which said the MPC had held interest rates too high given that inflation was way below the 2\\% target.A slowdown in the housing market and this year's surge in oil prices has made economic forecasting all the more tricky, leading to a more uncertain outlook. \"This year rising oil prices and a significant slowdown in the housing market have awoken bad memories of the 1970s and 1980s,\" Ms Lomax said. \"The MPC will be doing well if it can achieve the same stability over the next decade as we have enjoyed over the past 10 years.\" Decisions on interest rates are made after the MPC gathers together the range of indicators available every month. The clearest signals come when all indicators are pointing the same direction, Ms Lomax intimated. \"In economic assessment, there is safety in numbers.\" \\\\\n",
       "\t18 & Entertainment & Double win for Sea Inside & Spanish movie The Sea Inside has been named best picture and star Javier Bardem best actor at the Bangkok International Film Festival.Based on the true story of a paralysed man's battle to end his life, The Sea Inside was best foreign language film at the 2005 Golden Globe Awards. Annette Bening and Ana Geislerova shared the best actress award at the Bangkok festival. This year's event was scaled down following the Asian tsunami disaster.Falling Down and The Phantom of the Opera director Joel Schumacher won a lifetime achievement award while Hong Kong director Wong Kar-Wai was honoured for promoting Asian cinema. \"It's a great honour, I want to share this honour with my Thai colleagues,\" Wong said. French writer Christophe Barratie and Korean writer Park Chan-Chook shared the best screenplay award for Les Choristes and Old Boy respectively. Now in its third year, the Bangkok International Film Festival is donating profits from ticket sales to the tsunami relief fund. \\\\\n",
       "\t19 & Entertainment & Children vote Shrek 2 best film & Young UK film fans voted animated Hollywood hit Shrek 2 best film at the children's Bafta awards on Sunday.More than 6,000 children voted in the only category chosen by fans. Harry Potter and the Prisoner of Azkaban, runner-up in the poll, was the choice of the Bafta experts who named it best feature film. BBC One Saturday morning show Dick and Dom In Da Bungalow won two awards - best entertainment and best presenters for Richard McCourt and Dominic Wood.Former Playschool presenter Floella Benjamin was awarded the Special Award for outstanding creative contribution to children's film and television. She first appeared on Playschool 25 years ago and was made an OBE in 2001 for services to broadcasting. South American-themed cartoon Joko! Jakamoko! Toto! won the honour for pre-school animation and its writer Tony Collingwood for original writer. Debbie Isitt won the award for best adapted writer for her work with Jacqueline Wilson's The Illustrated Mum, which won the award for best schools drama.Schools' Factual (primary) - Thinking Skills: Think About It - Hiding PlacesSchools' Factual (secondary) - In Search of the Tartan TurbanPre-School Live Action - BalamoryAnimation - Brush HeadDrama - FeatherboyFactual - Serious Desert Interactive Bafta - King Arthur International category - 8 Simple Rules for Dating my Teenage Daughter \\\\\n",
       "\t20 & Sport & Parry relishes Anfield challenge & BBC Sport reflects on the future for Liverpool after our exclusive interview with chief executive Rick Parry.Chief executive Parry is the man at the helm as Liverpool reach the most crucial point in their recent history. Parry has to deliver a new 60,000-seat stadium in Stanley Park by 2007 amid claims of costs spiralling above Â£120m. He is also searching for an investment package of a size and stature that will restore Liverpool to their place at European football's top table. But it is a challenge that appears to sit easily with Parry, who has forged a reputation as one of football's most respected administrators since his days at the fledgling Premier League.Liverpool have not won the championship since 1990, a fact that causes deep discomfort inside Anfield as they attempt to muscle in on the top three of Chelsea, Manchester United and Arsenal. Throw in the small matter of warding off every top club in world football as they eye captain Steven Gerrard, and you can see Parry is a man with a lot on his plate. But in the comfort of a conference room deep inside Liverpool's heartbeat - The Kop end - Parry spoke to us with brutal honesty about the crucial months ahead. He only dodged one question - when asked to reveal the name of the mystery investor currently courting Liverpool, a polite smile deflected the inquiry. But to his credit, he met everything else head on in measured tones that underscore the belief that Liverpool still mean business.By business he means becoming title challengers again, and locking the pieces together that will help return the trophy to Liverpool is Parry's mission. Parry has already successfully put one of those planks in place in the form of new manager Rafael Benitez. And his enthusiasm for the Spaniard's personality and methods is an indication of his clear feeling that he has struck gold. Benitez's early work has given Parry renewed optimism about the years ahead. But it remains a massive task at a club with a unique history and expectations. This will not come as news to Parry, a lifelong Liverpool supporter, but his quiet determination suggests he is no mood to be found wanting...Captain Gerrard is central to Liverpool's plans and Parry's insistence that all offers will be refused is a firm statement of intent. As ever, the player will have the final say, and Parry acknowledges that, but he is determined to provide the framework and environment for Liverpool and Gerrard to flourish.In terms of the search for new investment, Hawkpoint were appointed as advisors to flush out interest in March 2004. Thailand Prime Minister Thaksin Shiniwatra came and went, while the most serious statement of intent came from tycoon and lifelong fan Steve Morgan. Morgan had a succession of bids rejected, having come close in the summer only for talks to break down over potential costs for the new stadium. BBC Sport understands Morgan is still ready and willing to invest in Liverpool, and Parry has kept the door ajar despite currently seeking investment elsewhere.Morgan, however, has had no formal contact with Liverpool or their advisors since last December, blaming indecision at board level as he publicly withdrew his Â£70m offer. He was also convinced his interest was being used to lure in others, so any new approach would now have to come from Liverpool. Morgan will certainly not be making another call. So speculation continues about the new benefactor, with trails leading to the Middle East and America, but all met with an understandable veil of secrecy from Anfield.Parry meanwhile sees the new ground as crucial to Liverpool's future, but is refusing to become emotionally attached to the idea. He is determined the ground will only be built on an affordable basis and will not make future Liverpool management hostages to the new stadium. Parry will pull back the moment the figures do not stack up, but there has been a vital new development in North London that has re-shaped Liverpool's thinking.Liverpool have publicly refused to entertain the idea of stadium sponsorship and potential naming rights - but the realism of Arsenal's stunning Â£100m deal for their new Emirates Stadium at Ashburton has changed the landscape. Parry labelled the deal \"an eye-opener\" and admits Liverpool would be missing a trick not to explore the possibilities. He knows some traditionalist Liverpool fans will reel at any attempt to call the new stadium anything other than just 'Anfield', but the maths of modern-day football decree that multi-millions for stadium and team could ease the pain.I would take Â£50m if we had no investment, but if we did, keep him. As for the stadium, if it gets us cash what difference does it make really?Â£50m for Gerrard? I don't care who you are, the Directors would take the money and it is the way it should be. We cannot let that sum of money go, despite Gerrard's quality.Through a cleverly worded statement, the club has effectively forced Gerrard to publicly make the decision for himself, which I think is the right thing to do.Critical time for Liverpool with regards to Gerrard. Ideally we would want to secure his future to the club for the long term. I am hoping he doesn't walk out of the club like Michael Owen did for very little cash.Â£50m realistically would allow Rafa to completely rebuild the squad, however, if we can afford to do this AND keep Gerrard we will be better for it. I would however be happy with Gerrard's transfer for any fee over Â£35m.Parry's statements are clever in that any future Gerrard transfer cannot be construed as a lack of ambition by the club to not try and keep their best players. Upping the ante is another smart move by Parry.I would keep Gerrard. No amount of money could replace his obvious love of the club and determination to succeed.The key is if Gerrard comes out and says that he is happy. Clearly, if he isn't, then we would be foolish not to sell. The worrying thing is who would you buy (or who would come) pending possible non-Champions League football. \\\\\n",
       "\t21 & Politics & Pre-poll clash on tax and spend & Labour and the Tories have clashed over tax and spending plans as the row over Gordon Brown's Budget turned into a full scale pre-election battle.Tony Blair claimed a Tory government would \"cut\" Â£35bn from public services hitting schools, hospitals and police. Tory chairman Liam Fox accused Labour of \"at best misrepresentation at worst a downright lie\" and said the \"smear\" tactics were a sign of desperation. The Lib Dems accused Mr Brown of ducking the issue of council tax rises.Appearing together at a Labour poster launch, the prime minister hailed his chancellor's \"brilliant\" performance. And he claimed the Tories would cut Â£35bn from public services, which was the equivalent of sacking every doctor and teacher in the UK.The Tories said they would not cut spending but agreed public spending would increase more slowly under their plans - leading to a total of Â£33.5bn less spending than that anticipated by Labour by 2011. But they say not a single doctor, teacher or nurse will be cut. Dr Fox said: \"We have said we will be spending more, year on year over and above inflation. \"And to call that a cut is at best a misrepresentation, at worst a downright lie.\"Tory shadow chancellor Oliver Letwin also predicted Mr Brown would have to raise taxes by Â£10bn or Â£11bn if Labour was re-elected because he was borrowing and spending too much. For the Lib Dems, Vince Cable said the chancellor had failed to deal with the \"looming problems\" of revaluation of council tax bands which he argued would result in \"massive increases\" for some. Mr Brown and Mr Blair staged a show of unity on Thursday morning, the day after the chancellor delivered a record-breaking ninth Budget.Mr Cable said taxation as a share of the economy would go up under all three of the main parties. The chancellor meanwhile insisted his spending plans were \"affordable\". In Wednesday's Budget, Mr Brown doubled the level at which homebuyers pay stamp duty, unveiled a rise in child tax credit and a Â£200 council tax refund for over-65s. Defending the plans, he told Today: \"I will take no risks with the stability of the economy. \"All our spending plans announced yesterday [Wednesday], including what we can do for pensioners, as well as for young families and on stamp duty and inheritance tax, all these are costed and affordable.\" In a further sign, if any were needed, that the election is approaching, the House of Commons authorities have formally told MPs their offices will be \"deep cleaned\" during the three-week poll campaign. Mr Blair has yet to name the day - but it is widely expected to be 5 May. \\\\\n",
       "\t22 & Politics & Escaped prisoner report ordered & First Minister Jack McConnell has ordered a report on the decision to allow a paranoid schizophrenic knife attacker to go on a visit unguarded.Michael Ferguson, 36, escaped after being allowed out of the high-security Carstairs unit. The SNP's Nicola Sturgeon has demanded to know who was responsible for signing off the leave. The Scottish Executive said ministers would be notified but it would \"not be common practice\" to sign approval. An executive spokesman said the health department and the state hospital itself would work together on preparing the report. Ministerial responsibility for Carstairs rests with Rhona Brankin, the deputy health minister. Ms Brankin said: \"The first minister has called for a review of what has happened, we need to talk to the state hospital and we need to reflect on this.\" Ms Sturgeon has written to Mr McConnell asking for clarification on the move to allow the prisoner out. She said questions must be answered about his escape, if the public is to be reassured about safety. Police are still searching for Ferguson, who failed to return after a trip to East Kilbride on Monday.The Scottish National Party's parliamentary leader argued that under the law, authorisation of Ferguson's leave of absence would have come directly from ministers. She said: \"The Scottish Executive seemed to indicate yesterday that the escape of Mr Ferguson was a matter for Carstairs. \"However, my understanding is that, under the mental health legislation, the decision to grant this patient - and any restricted patient - leave of absence, would have required direct and specific authorisation by Scottish ministers.\" She added: \"I have written to the first minister today asking for confirmation of that fact. I have also asked him to confirm which minister would routinely take decisions of this nature and what information they are based on. \"This is not an attempt to apportion blame, but to ensure a better understanding of the decision making process in such important and sensitive cases.\"Police said Ferguson posed a danger to the public. BBC Scotland political correspondent Glenn Campbell said the first minister had ordered an urgent report into the situation. He said: \"We understand from the executive that in this case no individual minister signed off the approval for Michael Ferguson to be released unescorted from Carstairs. \"The executive concedes that it is up to Scottish ministers, they have a legal responsibility for approving this sort of leave, but they say routinely it is specialised officials that make that decision and simply inform ministers that they have taken it. \"But at that stage presumably ministers can ask hard questions and can ask for reassurances that the patient is not a serious danger to the public or that any risk has been minimised.\" Scottish Conservative leader, David McLetchie, said earlier it was \"almost beyond belief that this has been allowed to happen\".The executive spokeswoman said the recommendation for leave was agreed by a psychiatric advisor \"in conjunction with officials on behalf of ministers\". She said: \"Ministers were told of that, notified of it, but it would not be common practice for them to sign it off. \"They do have statutory responsibility, but the common practice has been that people who work with the patient and have the best knowledge about risk would make that decision.\" Ferguson, who slashed a man in a doctors' surgery in Coatbridge in 1994, had been out to see his fianc\\&\\#233;e Annabella Holmes, 47, whom he met when she was a patient at the high security complex in South Lanarkshire. He is described as being 5ft 9ins tall, slim, with blond hair, blue eyes and a fair complexion. Ferguson was wearing a black jacket, grey jeans, black jumper and black shoes when he was last seen. He has multiple fading tattoos on his left hand and a very faded tear tattoo under his left eye. Ms Holmes is not missing but there have been no sightings of Ferguson since Monday. Strathclyde Police asked anyone who spots Ferguson to contact Sergeant Keith McDonald on. \\\\\n",
       "\t23 & Politics & Blair told to double overseas aid & Tony Blair is being urged to use all his negotiating powers to end poor countries' debt and double aid.Some 45 million children will die needlessly before 2015 and aid budgets are half their 1960 levels, Oxfam says in a report, Paying the Price. The call comes as the prime minister prepares to assume the presidency of the G8 of top industrialised nations. \"As rich countries get richer, they're giving less and less. This scandal must stop,\" Oxfam's Barbara Stocking said.\"The world's poorest children are paying for rich countries' policies in aid and debt with their lives. \"2005 offers the chance for an historic breakthrough, but unless world leaders act now the year will end in shameful failure,\" the charity's director added. The report said: \"For rich countries, providing aid to help to end global poverty is an obligation and a matter of justice, not an act of charity.\" It also points out that in 1970 the G8 of top industrialised nations agreed to spend 0.7\\% of their incomes on aid. But 34 years later none of the organisations members have reached this target and many have not yet set a timetable, the report says.It argues that the price of not investing in poor countries' sustainable development will be felt across the world. The report said: \"Global poverty threatens our shared prosperity and security. \"Environmental crises and natural disasters, disease and drug trafficking know no national borders. Poverty heightens the likelihood of conflict and unrest. \"New threats to the peace and security of rich nations arise from poverty and gross inequalities. \"Criminal and terrorist networks are more likely to operate where state institutions are weak.\"Both the prime minister and Chancellor Gordon Brown have called for urgent action to fight world poverty. Mr Blair, who has described Africa as a \"scar\" on the world's conscience, has already said tackling world poverty would be one his G8 priorities along with climate change and the Aids epidemic. Mr Brown has also pledged to write off the debt owed to Britain by the world's poor nations. A spokeswoman for the Department for International Development said: \"The government had made a clear commitment to reaching 0.7\\% of gross national income for overseas development aid by 2013. \"If Britain's proposal for an International Finance Facility were adopted, the objective of 0.7\\% could be achieved earlier, by 2008-09. \"These additional resources will be used to increase UK bilateral aid to Africa to at least Â£1.25bn a year by 2008 and spend at least Â£1.5bn on HIV/Aids related work over the next three years.\" \\\\\n",
       "\t24 & Sport & O'Driscoll saves Irish blushes & Two moments of magic from Brian O'Driscoll guided Ireland to a workmanlike victory against Italy.A pair of classic outside breaks from the Ireland captain set up tries for Geordan Murphy and Peter Stringer. Italy led 9-8 early in the second half but Stringer's try gave Ireland a lead they never lost. The hosts cut the gap to 18-12 with 10 minutes left and nearly scored through Ludovico Nitoglia, but Denis Hickie's try ensured an Irish victory. Italy came flying out of the blocks and took the lead through a Luciano Orquera penalty after seven minutes.It could have been better for the hosts but the fly-half missed two kickable penalties and Ireland drew level with a Ronan O'Gara penalty midway through the first half. The Italians were driving at the heart of the Irish defence and, for the first quarter, the Irish pack struggled to secure any ball for their talented backs.When they finally did, just before the half-hour mark, O'Driscoll promptly created a sparkling try for Murphy. The Ireland captain ran a dummy scissors and made a magical outside break before drawing the full-back and putting the diving Murphy in at the corner. O'Gara missed the twice-taken conversion and the visitors found themselves trailing once again. Roland de Marigny took over the kicking duties for Italy from the hapless Orquera, and he landed a penalty either side of the break to edge Italy into a 9-8 lead.The only Ireland player offering a real threat was O'Driscoll, and it was his break that set up the second try for the visitors. Shane Horgan threw an overhead pass as he was about to be forced into touch and Stringer scooted over, with O'Gara landing the tricky conversion. A penalty apiece saw Ireland leading 18-12 as the game entered the final quarter, but they were lucky to survive when Italy launched a series of attacks. Winger Nitoglia dropped the ball as he reached for the line and Italy nearly rumbled over from a driving maul.An O'Gara penalty put Ireland more than a converted try ahead and they made the game safe when Hickie latched onto an inside pass from Murphy and crossed for a converted try. O'Driscoll limped off late on, joining centre partner Gordon D'Arcy on the sidelines, and the final word went to Italy. Prop Martin Castrogiovanni powered over for a try which was fitting reward for an Italian pack which had kept the Irish under pressure throughout.De Marigny; Mi Bergamasco, Canale, Masi, Nitoglia; Orquera, Troncon; Lo Cicero, Ongaro, Castrogiovanni; Dellape, Bortolami; Persico, Ma Bergamasco, Parisse.Perugini, Intoppa, Del Fava, Dal Maso, Griffen, Pozzebon, Robertson.Murphy, Horgan, O'Driscoll, D'Arcy, Hickie, O'Gara, Stringer, Corrigan, Byrne, Hayes, O'Kelly, O'Connell, S Easterby, Leamy, Foley.Sheahan, Horan, O'Callaghan, Miller, G Easterby, Humphreys, Dempsey.P O'Brien (New Zealand) \\\\\n",
       "\t25 & Tech & Broadband challenges TV viewing & The number of Europeans with broadband has exploded over the past 12 months, with the web eating into TV viewing habits, research suggests.Just over 54 million people are hooked up to the net via broadband, up from 34 million a year ago, according to market analysts Nielsen/NetRatings. The total number of people online in Europe has broken the 100 million mark. The popularity of the net has meant that many are turning away from TV, say analysts Jupiter Research. It found that a quarter of web users said they spent less time watching TV in favour of the netThe report by Nielsen/NetRatings found that the number of people with fast internet access had risen by 60\\% over the past year.The biggest jump was in Italy, where it rose by 120\\%. Britain was close behind, with broadband users almost doubling in a year. The growth has been fuelled by lower prices and a wider choice of always-on, fast-net subscription plans. \"Twelve months ago high speed internet users made up just over one third of the audience in Europe; now they are more than 50\\% and we expect this number to keep growing,\" said Gabrielle Prior, Nielsen/NetRatings analyst. \"As the number of high-speed surfers grows, websites will need to adapt, update and enhance their content to retain their visitors and encourage new ones.\" The total number of Europeans online rose by 12\\% to 100 million over the past year, the report showed, with the biggest rise in France, Italy, Britain and Germany.The ability to browse web pages at high speed, download files such as music or films and play online games is changing what people do in their spare time.A study by analysts Jupiter Research suggested that broadband was challenging television viewing habits. In homes with broadband, 40\\% said they were spending less time watching TV. The threat to TV was greatest in countries where broadband was on the up, in particular the UK, France and Spain, said the report. It said TV companies faced a major long-term threat over the next five years, with broadband predicted to grow from 19\\% to 37\\% of households by 2009. \"Year-on-year we are continuing to see a seismic shift in where, when and how Europe's population consume media for information and entertainment and this has big implications for TV, newspaper and radio,\" said Jupiter Research analyst Olivier Beauvillian. \\\\\n",
       "\t26 & Sport & Ferrero eyes return to top form & Former world number one Juan Carlos Ferrero insists he can get back to his best despite a tough start to 2005.The 2003 French Open champion has slipped to 64 in the world after a year of illness and injuries in 2004, but is confident that his form will return. \"I don't know when it is going to happen,\" Ferrero told BBC Sport. \"But I have a lot of confidence in me that I will be the same Juan Carlos as I was before, and very soon. I feel 100\\% again mentally.\" The 25-year-old Spaniard joins a top field for the ABN AMRO World Tennis Tournament in Rotterdam this week as he looks to add to just two wins in 2005. He opens against Rainer Schuettler and potentially faces fourth seed David Nalbandian in the second round. \"Because I'm no longer seeded it's tougher,\" Ferrero admitted. \"I had to play against Joachim Johansson in the first round last week in Marseille.\"In the past when I was a top seed I would have played a match like that in the quarters or semi-finals. \"This is the big difference but I have to do it to get higher in the rankings.\" Despite this, Ferrero insists he is feeling positive after chicken pox and a rib injury destroyed last season. \"Physically I am 100\\% since December of last year,\" said Ferrero. \"I was working very hard before the Davis Cup final to prepare and I've felt 100\\% from then until now. \"The difficult moments were when I knew that I had the chicken pox and that it would take two or three months to recover. \"I had to start from zero again physically because the virus left me at zero per cent. \"When I started to come back I had my rib broken when I fell on court and that was another two months out. Those five months were pretty difficult for me.\"Among the low points of a difficult year for Ferrero was the decision of Spain captain Jordi Arrese to drop him for the Davis Cup final against the USA. \"It was difficult because I had been playing well for the whole year and the coaches told me that I would play,\" said Ferrero. \"But then I had some problems with my hand two days before the Friday matches so they decided to choose Nadal instead. \"It was difficult for me not to be in the Friday matches but I had to understand. \"Inside me I wanted to play but this was the decision of the captain and they had to make it.\" \\\\\n",
       "\t27 & Tech & Europe backs digital TV lifestyle & How people receive their digital entertainment in the future could change, following the launch of an ambitious European project.In Nice last week, the European Commission announced its Networked \\& Electronic Media (NEM) initiative. Its broad scope stretches from the way media is created, through each of the stages of its distribution, to its playback. The Commission wants people to be able to locate the content they desire and have it delivered seamlessly, when on the move, at home or at work, no matter who supplies the devices, network, content, or content protection scheme. More than 120 experts were in Nice to share the vision of interconnected future and hear pledges of support from companies such as Nokia, Intel, Philips, Alcatel, France Telecom, Thomson and Telefonica. It might initially appear to be surprising that companies in direct competition are keen to work together. But again and again, speakers stated they could not see incompatible, stand-alone solutions working. A long-term strategy for the evolution and convergence of technologies and services would be required.The European Commission is being pragmatic in its approach. They have identified that many groups have defined the forms of digital media in the areas that NEM encompasses. The NEM approach is to take a serious look at what is available and what is in the pipeline, pick out the best, bring them together and identify where the gaps are. Where it finds holes, it will develop standards to fill them. What is significant is that such a large and powerful organisation has stated its desire for digital formats to be open to all and work on any gadget. This is bound to please, if not surprise, many individuals and user organisations who feel that the wishes of the holder of rights to content are normally considered over and above those of the consumer. Many feel that the most difficult and challenging area for the Commission will be to identify a solution for different Digital Rights Management (DRM) schemes. Currently DRM solutions are incompatible, locking certain types of purchased content, making them unplayable on all platforms. With the potential of having a percentage of every media transaction that takes place globally, the prize for being the supplier of the world's dominant DRM scheme is huge. Although entertainment is an obvious first step, it will encompass the remote provisions of healthcare, energy efficiency and control of the smart home. The 10-year plan brings together the work of many currently running research projects that the EC has been funding for a number of years.Simon Perry is the editor of the Digital Lifestyles website, which covers the impact of technology on media \\\\\n",
       "\t28 & Sport & Liverpool pledge to keep Gerrard & Liverpool chief executive Rick Parry insists the club will never sell Steven Gerrard amid reports Chelsea will renew their bid to lure him from Anfield.Gerrard reiterated his desire to win trophies with the Reds after his superb Champions League winner on Wednesday. And Parry has moved to scotch claims that Chelsea could launch a Â£35m bid. \"There is no chance of Stevie going in January,\" said Parry. \"That just won't happen. Our intention is that we will never let him go.\" Gerrard scored a spectacular late goal to give Liverpool a 3-1 win over Olympiakos and book their place in the knockout stages. \"Of course he is ambitious but so are we,\" Parry added. \"We firmly believe that if we can satisfy his ambition he will remain a Liverpool player. \"We have an open and straightforward relationship. We both know where we stand and that played a big part in his decision to stay last summer. If he was not so committed to Liverpool he would have gone by now.\" Gerrard had said before Wednesday's game he would consider leaving if the club was knocked out of Europe, with Real Madrid also believed to be monitoring his situation.\"The main point I have made is I want to be in a Liverpool side which challenges for the Champions League and the title all the time,\" he said afterwards. \"I want to be winning things with Liverpool, not somewhere else. \"I am a fan as well and I think what I have said the supporters will agree with. \"We have to build on wins like that, not just settle for a great win and then not progress any further. \"My goal was one of the most important I have ever scored and I hope it turns out to be one of the most important for the club for a long time. \"I know I put a lot of pressure on myself because of what I said, and I felt I needed a big performance, but I am not going to go around telling lies about how I feel.\"Reds manager Rafael Benitez believes Gerrard can win everything he wants to without moving clubs. \"Steven can win all he wants with us and we need him. He has seen that we have a good team and we can do more things in the future,\" said Benitez. \"But if we want to win more games, important games, we need Steven in the team. \"We need his strength, the strong mentality he has and his quality. I think he likes and wants the responsibility of leading this team.\" \\\\\n",
       "\t29 & Entertainment & Bening makes awards breakthrough & Film actress Annette Bening is up for an Oscar for her starring role in the award-winning film Being Julia.Bening, who was born in Texas in 1958, has gained prominence for a string of key roles. Although an Oscar has so far eluded her, her status as one of Hollywood's favourite actresses remains solid. One of the biggest Oscars buzzes in recent years was for Bening's role as troubled Carolyn Burnham in 1999's American Beauty. But her deliciously neurotic portrayal of surburban life turning sour was overlooked in favour of Hilary Swank's leading role in Boys Don't Cry. After opening her career in the theatre - and gaining a Tony Award nomination in 1986 - Bening had a low-key spell in television. She then made her film debut as a sex-starved wife in 1988's The Great Outdoors, opposite comics Dan Akroyd and John Candy.Following a cameo in Postcards From The Edge, Bening's breakthrough role came in 1990, playing seductive con artist Myra Langtry in The Grifters - a role that won her an Oscar nomination. Despite some rave reviews, Bening did not win the best supporting actress Academy Award.However the high-profile performance enabled Bening to capture roles in a number of big budget Hollywood productions, co-starring with some of Hollywood's greatest players, including Robert De Niro and Harrison Ford. But it was her role opposite Warren Beatty in 1991 gangster flick Bugsy which had the greatest impact. Bening played Virginia Hill, another role which won her high critical acclaim, but the film only picked up two of a staggering 12 Oscar nominations.Bugsy was the start of a very significant liaison for Bening - she married Beatty, with whom she had a child as the couple promoted the film in Europe. The couple now have four children together. A pair of contrasting yet successful performances peppered Bening's career in the mid-1990s. She played Michael Douglas' opposite number in romantic comedy The American President, and as a \"fiery\" Queen Elizabeth I in a contemporary adaptation of Shakespeare's Richard III.Bening was the first choice to play the female lead in American Beauty, director Sam Mendes' film debut which was a critical and commercial success - but the actress had to be content with a Bafta award for her strong performance. But current film Being Julia has made Bening an award-winning actress rather than the perennial nominee, with success at the Golden Globes. The witty tale of revenge and love set in 1930s London sees the eponymous theatrical diva - played by Bening - grow tired of her success and fall for a young American - and could be the role which finally wins her the coveted Academy Award. \\\\\n",
       "\t30 & Politics & Kennedy calls for Iraq exit plans & Tony Blair should set out a proper exit strategy from Iraq in the wake of next Sunday's elections in the country, Lib Dem leader Charles Kennedy has said.In a speech focusing on issues arising from the re-election of George W Bush, Mr Kennedy said Iraq had become a \"crucible of militant terrorism\". He wants to see a phased withdrawal of UK troops \"as soon as the situation allows\", he said in London. Any exit strategy must \"augment and support\" the democratic process.\"There are some who are of the opinion that the mere presence of British and American troops in Iraq feeds the insurgency,\" he said. \"There is some truth in that, especially after the initial mistakes that were made - the heavy-handedness of operations like Fallujah, and the well-publicised instances of abuse at the hands of coalition forces.\" Mr Kennedy pointed out that the Netherlands, Portugal and the Czech Republic, which all have troops operating in the southern sector of Iraq, have announced their imminent withdrawal \"regardless of the situation on the ground\".He accused Mr Blair's government of \"being less than straightforward\" over its plans. \"Next week the prime minister should make a statement regarding the elections in Iraq,\" Mr Kennedy said during his City of London speech. \"He should set out a proper exit strategy, including the phased withdrawal of British troops, as the security situation allows.\" Mr Kennedy also argued that British troops deployed in Iraq should be replaced with forces from other countries - \"especially Islamic countries\". \\\\\n",
       "\t$\\dots$ & $\\dots$ & $\\dots$ & $\\dots$ \\\\\n",
       "\\end{tabular}\n"
      ],
      "text/plain": [
       "2175×3 DataFrame. Omitted printing of 1 columns\n",
       "│ Row  │ topic         │ heading                           │\n",
       "│      │ \u001b[90mString\u001b[39m        │ \u001b[90mString\u001b[39m                            │\n",
       "├──────┼───────────────┼───────────────────────────────────┤\n",
       "│ 1    │ Entertainment │ Sky takes over Oscar night mantle │\n",
       "│ 2    │ Tech          │ Freeze on anti-spam campaign      │\n",
       "│ 3    │ Entertainment │ Spark heads world Booker list     │\n",
       "│ 4    │ Business      │ Criminal probe on Citigroup deals │\n",
       "│ 5    │ Sport         │ Claxton hunting first major medal │\n",
       "│ 6    │ Business      │ FBI agent colludes with analyst   │\n",
       "│ 7    │ Politics      │ 'UK will stand firm on EU rebate' │\n",
       "│ 8    │ Politics      │ Tories opposing 24-hour drinking  │\n",
       "│ 9    │ Business      │ US manufacturing expands          │\n",
       "│ 10   │ Tech          │ Slim PlayStation triples sales    │\n",
       "⋮\n",
       "│ 2165 │ Business      │ Executive trio leave Aer Lingus   │\n",
       "│ 2166 │ Sport         │ Wales coach elated with win       │\n",
       "│ 2167 │ Entertainment │ New York rockers top talent poll  │\n",
       "│ 2168 │ Business      │ Fresh hope after Argentine crisis │\n",
       "│ 2169 │ Politics      │ Straw to attend Auschwitz service │\n",
       "│ 2170 │ Politics      │ Tories unveil quango blitz plans  │\n",
       "│ 2171 │ Politics      │ Labour's core support takes stock │\n",
       "│ 2172 │ Politics      │ Lords wrong on detainees - Straw  │\n",
       "│ 2173 │ Sport         │ Capriati out of Australian Open   │\n",
       "│ 2174 │ Entertainment │ Disputed Nirvana box set on sale  │\n",
       "│ 2175 │ Politics      │ MP attacked by muggers in Kenya   │"
      ]
     },
     "execution_count": 15,
     "metadata": {},
     "output_type": "execute_result"
    }
   ],
   "source": [
    "train_docs = DataFrames.DataFrame(topic = [topic for topic ∈ pd_train_docs.topic], \n",
    "    heading = [heading for heading ∈ pd_train_docs.heading], \n",
    "    article = [article for article ∈ pd_train_docs.article])"
   ]
  },
  {
   "cell_type": "code",
   "execution_count": 16,
   "metadata": {},
   "outputs": [
    {
     "data": {
      "text/html": [
       "<table class=\"data-frame\"><thead><tr><th></th><th>topic</th><th>heading</th><th>article</th></tr><tr><th></th><th>String</th><th>String</th><th>String</th></tr></thead><tbody><p>50 rows × 3 columns</p><tr><th>1</th><td>Entertainment</td><td>Animation charms Japan box office</td><td>Oscar-winning director Hayao Miyazaki's latest film has set a new Japanese box office record, with 1.5bn yen ($14.3m) in two days, according to reports.Howl's Moving Castle is the follow-up to Miyazaki's Spirited Away, which won best animation at last year's Oscars. It is based on the children's book by English writer Diana Wynne Jones. It has registered the highest opening weekend takings of any Japanese film in the country, according to trade publication Screen Daily.The film is about an 18-year-old girl who is trapped in an old woman's body after being put under a spell by a witch. Its two-day takings represented 1.1 million cinema admissions, Screen Daily said. The film's distributor Toho expects 40 million people to see it in total - almost one third of the country's population - it added. The film won the Golden Osella for outstanding technical contribution at this year's Venice Film Festival.</td></tr><tr><th>2</th><td>Tech</td><td>Satellite mapping aids Darfur relief</td><td>Aid workers trying to house, feed and clothe millions of homeless refugees in the Sudanese region of Darfur are getting a helping hand from advanced mapping technology.A European consortium of companies and university groups known as Respond is working to provide accurate and up to date maps. The aim is to overcome some of the huge logistical challenges in getting supplies to where they are needed. Respond is using satellite imagery to produce accurate maps that can be used in the field rapidly. \"Respond has produced very detailed maps for example for the road networks, for the rivers and for the villages, to more large-scale maps useful for very general planning purposes,\" said Einar Bjorgo from Unosat, the UN satellite mapping organisation that is part of the Respond consortium.The group uses satellites from Nasa, the European Space Agency and the Disaster Monitoring Constellation. The satellite data is transmitted to ground stations. From there, the information makes its way to Respond organisations that specialise in interpreting such data. \"You have to convert the data into images, then the interpreter has to convert all this into crisis, damage, or situation maps,\" said Stefan Voigt, who works in the remote sensing department of one of those organisations, the German Aerospace Centre.This kind of detailed analysis usually takes a couple of months but Respond gets it done in about 12 hours. \"Our users are usually not so much familiar with reading satellite imagery, reading satellite maps, so it's our task to transfer the data into information that non-technical people can read and understand easily and very, very efficiently,\" said Mr Voigt. Respond supplies maps to aid groups via the web, and on compact disc. But the best map is one you can hold in your hands, especially in remote areas where internet connections and laptops are scarce. \"A map is a working document,\" explains Herbert Hansen of Respond's Belgian partner Keyobs. \"You need to use it, you need to write on it, correct, give feedback and so on, so you need paper to write on. \"We print maps, we laminate the maps, we encapsulate the maps if needed so you can take a shower with the map, it's completely protected.\"Humanitarian groups in Darfur have been making good use of Respond's maps. They have come in especially handy during Sudan's rainy season, when normally dry riverbeds, or wadis, became flooded. \"These wadis had a very small amount of flooding, generally, in terms of depth, but greatly impeded the transport capabilities and capacities of the humanitarian groups on the ground,\" says Stephen Candillon of Respond imaging partner Sertit. Respond's rapid imaging has allowed aid groups to find ways around the wadis, allowing then to mark on their maps which roads were washed out at which times. Aid groups say that combination of satellite technology and on-the-ground observation helped keep relief flowing to those who needed it.Clark Boyd is technology correspondent for The World, a BBC World Service and WGBH-Boston co-production</td></tr><tr><th>3</th><td>Tech</td><td>'Evil twin' fear for wireless net</td><td>People using wireless high-speed net (wi-fi) are being warned about fake hotspots, or access points.The latest threat, nicknamed evil twins, pose as real hotspots but are actually unauthorised base stations, say Cranfield University experts. Once logged onto an Evil Twin, sensitive data can be intercepted. Wi-fi is becoming popular as more devices come with wireless capability. London leads the global wi-fi hotspots league, with more than 1,000. The number of hotspots is expected to reach 200,000 by 2008, according to analysts. \"Users need to be wary of using their wi-fi enabled laptops or other portable devices in order to conduct financial transactions or anything that is of a sensitive or personal nature,\" said Professor Brian Collins, head of information systems at Cranfield University.\"Users can also protect themselves by ensuring that their wi-fi device has its security measures activated,\" he added. BT Openzone, which operates a vast proportion of public hotspots in the UK, told the BBC News website that it made every effort to make its wi-fi secure. \"Naturally, people may have security concerns,\" said Chris Clark, chief executive for BT's wireless broadband.\"But wi-fi networks are no more or less vulnerable than any other means of accessing the internet, like broadband or dial-up.\" He said BT Openzone, as well as others, have sophisticated encryption from the start of the login process to the service at a hotspot. \"This means that users' personal information and data, logon usernames and passwords are protected and secure,\" said Mr Clark.In the vast majority of cases, base stations straight out of the box from the manufacturers are automatically set up with the least secure mode possible, said Dr Nobles. Cybercriminals who try to glean personal information using the scam, jam connections to a legitimate base station by sending a stronger signal near to the wireless client. Anyone with the right gear can find a real hotspot and substitute it with an evil twin. \"Cybercriminals don't have to be that clever to carry out such an attack,\" said Dr Phil Nobles, a wireless net and cybercrime expert at Cranfield. \"Because wireless networks are based on radio signals they can be easily detected by unauthorised users tuning into the same frequency.\"Although wi-fi is increasing in popularity as more people want to use high-speed net on the move, there have been fears over how secure it is. Some companies have been reluctant to use them in large numbers because of fears about security. A wireless network that is not protected can provide a backdoor into a company's computer system. Public wi-fi hotspots offered by companies like BT Openzone and The Cloud, are accessible after users sign up and pay for use. But many home and company wi-fi networks are left unprotected and can be \"sniffed out\" and hi-jacked by anyone with the correct equipment. \"BT advises that customers should change all default settings, make sure that their security settings on all equipment are configured correctly,\" said Mr Clark. \"We also advocate the use of personal firewalls to ensure that only authorised users can have access and that data cannot be intercepted.\" Dr Nobles is due to speak about wireless cybercrime at the Science Museum's Dana Centre in London on Thursday.</td></tr><tr><th>4</th><td>Business</td><td>US bank in $515m SEC settlement</td><td>Five Bank of America subsidiaries have agreed to pay a total of $515m (Â£277m) to settle an investigation into fraudulent trading share practices.The US Securities and Exchange Commission announced the settlements, the latest in an industry-wide clean-up of US mutual funds. The SEC also said it had brought fraud charges against two ex-senior executives of Columbia Distributor. Columbia Distributor was part of FleetBoston, bought by BOA last year. Three other ex-Columbia executives agreed settlements with the SEC.The SEC has set itself the task of stamping out the mutual funds' use of market-timing, a form of quick-fire, short-term share trading that harms the interests of small investors, with whom mutual funds are particularly popular. In the last two years, it has imposed penalties totalling nearly $2bn on 15 funds. The SEC unveiled two separate settlements, one covering BOA's direct subsidiaries, and another for businesses that were part of FleetBoston at the time. In both cases, it said there had been secret deals to engage in market timing in mutual fund shares. The SEC agreed a deal totalling $375m with Banc of America Capital Management, BACAP Distributors and Banc of America Securities. It was made up of $250m to pay back gains from market timing, and $125m in penalties. It is to be paid to the damaged funds and their shareholders. Separately, the SEC said it had reached a $140m deal - equally split between penalties and compensation - in its probe into Columbia Management Advisors (CAM) and Columbia Funds Distributor (CFD) and three ex-Columbia executives. These businesses became part of BOA when it snapped up rival bank FleetBoston in a $47bn merger last March.The SEC filed civil fraud charges in a Boston Federal court against James Tambone, who it says headed CFD's sales operations, and his alleged second in command Robert Hussey. The SEC is pressing for the highest tier of financial penalties against the pair for \"multiple violations\", repayment of any personal gains, and an injunction to prevent future breaches, a spokeswoman for the SEC's Boston office told the BBC. There was no immediate comment from the men's' lawyers. The SEC's settlement with CAM and CFD included agreements with three other ex-managers, Peter Martin, Erik Gustafson and Joseph Palombo, who paid personal financial penalties of between $50-100,000.</td></tr><tr><th>5</th><td>Sport</td><td>Ronaldo considering new contract</td><td>Manchester United winger Cristiano Ronaldo said he is close to agreeing to a new contract at Old Trafford.The Portugal star, who joined in August 2003 on a five-year-deal, is a regular in the United first-team. \"The United board have already made an offer to renew the contract but I'm trying not to think about it,\" he told the News of the World. \"My agent has spoken with the club and it will be resolved soon. I think we'll reach a good agreement for both sides.\" Ronaldo refused to commit his long-term future to the club.\"Nobody knows what will come tomorrow. I like being here, but who knows,\" he added. \"There aren't many bigger and better clubs than this one. It's my ambition to be at a big club. I'm happy but nobody knows the future.\"</td></tr><tr><th>6</th><td>Business</td><td>Arsenal 'may seek full share listing'</td><td>Arsenal vice-chairman David Dein has said the club may consider seeking a full listing for its shares on the London Stock Exchange.Speaking at the Soccerex football business forum in Dubai, he said a full listing was \"one of the options\" for funding after the club moves to its new stadium. The club - which is currently listed on the smaller Ofex share exchange - is due to move into its new 60,000-seater Emirates Stadium at Ashburton Grove for the start of the 2006/07 season. Mr Dein also warned the current level of TV coverage of the Premiership may be reaching saturation level, with signs that match attendances have been dropping off in the first few months of this season.When Arsenal moves to its new stadium it will see its proportion of turnover from media earnings drop from 52% this season to 34% in two years' time. The club is hoping to increase matchday earnings from 29% to 40% of turnover, and has not ruled out other money-earning means, including a full share listing. \"When the new stadium opens we will go through a thorough financial review,\" Mr Dein said.\"Listing would be one option, but we are flexible and no decisions have been made on that issue yet. \"We want to be in the best financial health - maybe clubs can do it (listing), Manchester United have been a success.\"Mr Dein said that, although television money and coverage had driven the English game forward in the past 10 years, he feared there might now be too many games being shown. Since the formation of the Premier League in season 1992/93, Premiership clubs have seen their income from television soar. \"Television has been the driving force over the past 10 years... but we must constantly improve if we want to remain as the world's leading league competition. \"We must monitor the quality of the product and ensure attendances do not decline, and we must balance that with the quantity of exposure on TV too. \"I think we have practically reached saturation point... sometimes I think less is more.\"The club is funding its move to Ashburton Grove through a number of sources, including debt from banks, from money it already has and will receive in coming years from sponsors, and from the sale of surplus property, including its Highbury Stadium. It is also looking to create new revenue streams from overseas markets, including Asia. \"We have two executives travelling round Japan and China at the moment building relationships with organisations and clubs, and we know our supporters clubs are growing there too, as they are around the world. \"We have got a very good product, so it is very important we go and look at these markets, and make sure we are on the case.\"</td></tr><tr><th>7</th><td>Business</td><td>US insurer Marsh cuts 2,500 jobs</td><td>Up to 2,500 jobs are to go at US insurance broker Marsh &amp; McLennan in a shake up following bigger-than-expected losses.The insurer said the cuts were part of a cost-cutting drive, aimed at saving millions of dollars. Marsh posted a $676m (Â£352m) loss for the last three months of 2004, against a $375m (Â£195.3m) profit a year before. It blamed an $850m payout to settle a price-rigging lawsuit, brought by New York attorney general Elliot Spitzer. Under the settlement announced in January, Marsh took a pre-tax charge of $618m in the October-to-December quarter, on top of the $232m charge from the previous quarter. \"Clearly 2004 was the most difficult year in MMC's financial history,\" Marsh chief executive Michael Cherkasky said.An ongoing restructuring drive at the group also led to a $337m hit in the fourth quarter, the world's biggest insurer said.Analysts expect its latest round of cuts to focus on its brokerage unit, which employs 40,000 staff. The latest layoffs will take the total number of jobs to go at the firm to 5,500 and are expected to lead to annual savings of more than $375m. As part of its efforts to cut costs, the company said it was halving its dividend payment to 17 cents a shares from 34 cents, a move which should enable it to save $360m. Looking ahead, Mr Cherkasky forecast profitable growth for the year ahead \"with an operating margin in the upper-teens, and with the opportunity for further margin expansion\". Meanwhile, the company also announced it would spin-off its MMC Capital private equity unit, which manages the $3bn Trident Funds operation, to a group of employees. Marsh did not say when the move would take place, but said it had signed a letter of intent.The insurer hit the headlines in October last year when it faced accusations of price rigging. New York Attorney General Elliot Spitzer sued the company, accusing it of receiving illegal payments to steer clients to selected firms as well as rigging bids and fixing prices. In January, Marsh agreed to pay $850m to settle the suit - a figure in line with the placement fees it collected in 2003 - and agreed to change its business practices. In February, a former senior executive pleaded guilty to criminal charges in a wide-ranging probe of fraud and bid-rigging in the insurance industry. In January, a former senior vice president also pleaded guilty to criminal charges related to the investigation. In an effort to reform its business practises, Marsh said it has already introduced new leadership, new compliance procedures and new ways of dealing with customers. \"As a result, we are ready to put these matters behind us and move ahead in 2005 to restore the trust our clients have placed in us and to rebuild shareholder value,\" Mr Cherkasky said.</td></tr><tr><th>8</th><td>Sport</td><td>Robinson out of Six Nations</td><td>England captain Jason Robinson will miss the rest of the Six Nations because of injury.Robinson, stand-in captain in the absence of Jonny Wilkinson, had been due to lead England in their final two games against Italy and Scotland. But the Sale full-back pulled out of the squad on Wednesday because of a torn ligament in his right thumb. The 30-year-old will undergo an operation on Friday but England have yet to name a replacement skipper.Robinson said: \"This is very disappointing for me as this means I miss England's last two games in the Six Nations at Twickenham and two games for my club, Sale Sharks. \"But I'm looking to be back playing very early in April.\"Robinson picked up the injury in the 19-13 defeat to Ireland at Lansdowne Road on Saturday. And coach Andy Robinson said: \"I am hugely disappointed for Jason. \"As England captain he has been an immense figure during the autumn internationals and the Six Nations, leading by example at all times. I look forward to having him back in the England squad.\" The announcement is the latest setback for Robinson's injury-depleted squad.Among the key figures already missing are Jonny Wilkinson, Mike Tindall, Will Greenwood, Julian White and Phil Vickery - a list which leaves Robinson short on candidates for the now vacant captaincy role. Former England skipper Jeremy Guscott told BBC Radio Five Live his choice would be Matt Dawson, even though he is does not hold a regular starting place.\"The obvious choice is Dawson\" said Guscott. \"Especially given that Harry Ellis did not have his best game at scrum-half on Saturday. \"Dawson has the credentials and the experience, even though his winning record at captain is not great. \"The other option in Martin Corry, who is the standout forward at the moment. \"Unfortunately England cannot rely on leaders on the field at the moment.\" England will announce their squad for the 12 March game against Italy on Saturday.</td></tr><tr><th>9</th><td>Business</td><td>S Korean consumers spending again</td><td>South Korea looks set to sustain its revival thanks to renewed private consumption, its central bank says.The country's economy has suffered from an overhang of personal debt after its consumers' credit card spending spree. Card use fell sharply last year, but is now picking up again with a rise in spending of 14.8% year-on-year. \"The economy is now heading upward rather than downward,\" said central bank governor Park Seung. \"The worst seems to have passed.\" Mr Park's statement came as the bank decided to keep interest rates at an all-time low of 3.25%. It had cut rates in November to help revive the economy, but rising inflation - reaching 0.7% month-on-month in January - has stopped it from cutting further. Economic growth in 2004 was about 4.7%, with the central bank predicting 4% growth this year. Other indicators are also suggesting that the country is inching back towards economic health. Exports - traditionally the driver for expansion in Asian economies - grew slower in January than at any time in 17 months. But domestic demand seems to be taking up the slack. Consumer confidence has bounced back from a four-year low in January, and retail sales were up 2.1% in December. Credit card debt is falling, with only one in 13 of the 48 million cards now in default - down from one in eight at the end of 2003. One of its biggest card issuers, LG Card, was rescued from collapse in December, having almost imploded under the weight of its customers' bad debts. The government last year tightened the rules for card lending to keep the card glut under control.</td></tr><tr><th>10</th><td>Business</td><td>S Korean lender faces liquidation</td><td>Creditors of South Korea's top credit card firm have said they will put the company into liquidation if its ex-parent firm fails to back a bail-out.LG Card's creditors have given LG group until Wednesday to sign up to a $1.1bn rescue package. The firm avoided bankruptcy thanks to a $4.5bn bail-out in January 2004, which gave control to the creditors. LG Group has said any package should reflect the firm's new ownership, and it will not accept an unfair burden. At least seven million people in South Korea use LG Card's plastic for purchases.LG Card's creditors have threatened parent group LG Group with penalties if it fails to respond to their demands.\"Creditors would seek strong financial sanctions against LG Group if LG Card is liquidated,\" said Yoo Ji-chang, governor of Korean Development Bank (KDB) - one of the card firm's major creditors. LG Group has said providing further help to the credit card issuer could hurt its corporate credibility and could spark shareholder lawsuits. It says it wants \"fair and reasonable guidelines\" on splitting the financial burden with the creditors, who now own 99.3% of LG Card. The creditors have asked the government to mediate to avoid any risk to the stability of financial markets, KDB said. Analysts believe a compromise is likely. \"LG Group knows the impact on consumer demand and the national economy from a liquidation of LG Card,\" said Kim Yungmin, an equity strategist at Dongwon Investment Trust Management.LG Card almost collapsed in 2003 due to an increase in overdue credit card bills after the bursting of a credit bubble. The firm returned to profit in September 2004, but now needs a capital injection to avoid being delisted from the Korea Stock Exchange. The exchange can delist a company if its debt exceeds its assets for two years running. LG card's creditors fear that such a move would triggered massive debt redemption requests that could bankrupt the firm, which owes about $12.05bn. \"Eventually, LG Group will have to participate, but they have been stalling to try to earn better concessions,\" said Mr Kim.</td></tr><tr><th>11</th><td>Politics</td><td>Candidate resigns over BNP link</td><td>A prospective candidate for the UK Independence Party (UKIP) has resigned after admitting a \"brief attachment\" to the British National Party(BNP).Nicholas Betts-Green, who had been selected to fight the Suffolk Coastal seat, quit after reports in a newspaper that he attended a BNP meeting. The former teacher confirmed he had attended the meeting but said that was the only contact he had with the group. Mr Betts-Green resigned after being questioned by the party's leadership. A UKIP spokesman said Mr Betts-Green's resignation followed disclosures in the East Anglian Daily Times last month about his attendance at a BNP meeting. \"He did once attend a BNP meeting. He did not like what he saw and heard and will take no further part of it,\" the spokesman added. A meeting of Suffolk Coastal UKIP members is due to be held next week to discuss a replacement. Mr Betts-Green, of Woodbridge, Suffolk, has also resigned as UKIP's branch chairman.</td></tr><tr><th>12</th><td>Sport</td><td>English clubs make Euro history</td><td>All four of England's Champions League representatives have reached the knockout stages for the first time.Arsenal and Chelsea are seeded as group winners, while runners-up Manchester United and Liverpool are not. Rules stipulate that teams from the same country or group will be kept apart in the draw on 17 December. The favourites are Chelsea and Barcelona, and Real Madrid, the two Milan sides, Juventus and Bayern Munich are among the 16 still in the hat.Steven Gerrard's last-gasp wonder-strike secured qualification foragainst Olympiakos on Wednesday evening.AC Milan, Bayer Leverkusen, Internazionale, Juventus, Lyon.who had already qualified, fielded a second-string side and went down 3-0 to Fenerbahce.AC Milan, Bayer Leverkusen, Internazionale, Juventus, Monaco.On Tuesday,finished top of their group with a 5-1 win over the Rosenborg after drawing four of their first five matches.Barcelona, Bayern Munich, Porto, Real Madrid, Werder Bremen, who had already qualified lost 2-1 to Porto as Jose Mourinho made an unhappy return to his former club.Barcelona, Bayern Munich, PSV Eindhoven, Real Madrid, Werder Bremen.</td></tr><tr><th>13</th><td>Sport</td><td>Hearts of Oak 3-2 Cotonsport</td><td>Hearts of Oak set up an all Ghanaian Confederation Cup final with a 3-2 win over Cameroon's Cotonsport Garoua in Accra on Sunday.The win for Hearts means they will play Asante Kotoko in the two-leg final, after the Kumasi team qualified from Group A on Saturday. In the other Group B game Cameroon'sbeatof South Africa 3-2 in Douala, neither side could have qualified for the final. Hearts of Oak started the game needing a win to qualify for the final while Cotonsport only needed to avoid defeat to go through. Louis Agyemang scored the first two goals for Hearts either side of half time before Ben Don Bortey scored the third. Hearts looked set for a comfortable win but Cotonsport staged a late fight back scoring twice late on. First of all Boukar Makaji scored in the 89th minute and then 3 minutes into injury time at the end of the game Andre Nzame III was on target. But it was too little too late for the Cameroonians and Hearts held on to win the game and a place in the final. The first leg of the final will be played in Accra on the weekend of 27-28 November and the second leg two weeks later on the 11 December in Kumasi. In the other Group B game Cameroon's Sable Batie took the lead in the 35th minute through Kemadjou before Santos equalised on the hour mark thanks to Thokozani Xaba . Bernard Ngom put Sable ahead just five minutes later and then Ernest Nfor settled the game on 68 minutes. Ruben Cloete scored the South African sides consolation with just three minutes left on the clock.</td></tr><tr><th>14</th><td>Sport</td><td>Funding cut hits Wales Students</td><td>The Wales Students rugby side has become a casualty of the Welsh Rugby Union's reorganisation at youth level.An amalgamated Under-18 side formed from separate schools and national youth teams plays its first match on Thursday, against Italy at the Gnoll. But that move has seen the WRU decide to end its funding of representative sides such as Wales Students. As a result, traditional international fixtures against England and France in the New Year have been cancelled. The Welsh Students Rugby Football Union feels that it is unable to properly prepare for or stage the matches. The secretary of the Welsh Students Rugby Football Union, Reverend Eldon Phillips, said: \"It is a shame that fixtures cannot be maintained this year. \"The competition provided by the strong English and French teams has enabled the Welsh Students to test themselves in high quality matches. \"The increasing number of young rugby players entering Higher Education look for the biggest challenge, that is representative rugby, but this year that opportunity will be denied them. Players who have played for Wales Students before going on to win full senior representative honours include Robert Jones, Rob Howley, Jon Humphreys, Darren Morris, Martyn Williams and Ceri Sweeney.</td></tr><tr><th>15</th><td>Entertainment</td><td>Vera Drake leads UK Oscar hopes</td><td>Mike Leigh's film Vera Drake will lead British hopes at this year's Academy Awards after getting three nominations.Imelda Staunton was nominated for best actress for her role in the abortion drama, while Leigh received nods for best director and original screenplay. Kate Winslet was also nominated in the best actress category for her role in Eternal Sunshine of the Spotless Mind. And Clive Owen and Sophie Okonedo both got nominated for supporting roles in Closer and Hotel Rwanda respectively. Owen has already been made bookmakers' favourite for best supporting actor for the role in Closer that has already clinched him a Golden Globe award.And it is the first nomination for actress Okonedo, chosen for her performance in Hotel Rwanda, about the 1994 Rwandan genocide. It is also a debut nomination for Staunton, 49, who told BBC News 24 she had not thought the film would appeal to Academy voters. \"It was an extraordinary time making the film and I can't believe what has happened this morning,\" she said. \"I hope it just shows Mike up to be the extraordinary filmmaker he is. \"We are also dealing with a very difficult subject matter and it is amazing to have it accepted in this way.\" Leigh, who had previously received three Oscar nominations for Secrets and Lies and Topsy Turvy, told BBC News 24 the latest success was \"amazing\". He said: \"We hoped that Imelda Staunton would get a nomination but I never expected to get director and screenplay. It's just absolutely wonderful.\"I think people are aware that it's about life - and I hope it is the warmth and compassion that really talks to people.\" Winslet said she was \"ecstatic\" about the fourth nomination of her career. \"Being nominated means so much to me. To be nominated for a film that was released a while ago, I feel so honoured and overwhelmed,\" she said. John Woodward, chief executive of the UK Film Council, said it was \"extremely heartening\" to see British filmmaking talent recognised on the global stage. \"Britain has a hugely talented industry and these nominations show why National Lottery investment in film pays major dividends for our culture and economy.\" Among a total of 24 British nominees, composer Andrew Lloyd Webber and lyricist Charles Hart are up for best original song for Learn To Be Lonely, from The Phantom of the Opera movie.Cinematographer John Mathieson, who was nominated for Gladiator in 2001, is also up for The Phantom of the Opera. And Finding Neverland has garnered two more nominations for Brits. Gemma Jackson, who has also worked on Bridget Jones's Diary and Iris, is up for art direction while costume designer Alexandra Byrne, whose previous films have included Captain Corelli's Mandolin and Elizabeth, is in the running. The UK has two contenders in the best live action short film category. Wasp was made by ex-children's TV presenter Andrea Arnold while Little Terrorist is the work of Ashvin Kumar. This year's awards will be handed out in Hollywood on 27 February.</td></tr><tr><th>16</th><td>Entertainment</td><td>Sundance to honour foreign films</td><td>International films will be given the same prominence as US films at next year's Sundance Film Festival, with movies dominated by the theme of war.The independent film festival will feature two new international cinema competitions, during its 20-30 January season in Utah. Forty-two films will debut at Sundance, including The Liberace of Baghdad by British director Sean McAllister. The prestigious festival was founded by actor Robert Redford in 1981.\"We have always had an international component, but from next year they will enter a jury competition,\" festival director Geoffrey Gilmore said. \"We wanted to give world cinema more emphasis and have now put it on par with the American dramatic and documentary competitions.\" Twelve films competing in the new world cinema documentary category focus on countries and people under siege.The Liberace of Baghdad features an Iraqi pianist hiding in a hotel as he waits for a visa, while Finnish film The Three Rooms of Melancholia looks at the war in Chechnya. Shake Hands With The Devil: The Journey of Romeo Dallaire tells of a UN mission to Rwanda during the 1994 genocide, while French-Israeli production Wall looks at Israel's controversial security wall separating it from the Palestinian territories. The 16 films competing in the new world cinema dramatic category include works from Germany, South Korea, Angola, China, Denmark and Australia.Several Hollywood stars feature in the festival's American independent drama category, including Keanu Reeves and Benjamin Bratt. Vince Vaughn stars in quirky movie Thumbsucker while 21 Grams actress Naomi Watts plays a budding Hollywood actress in Ellie Parker. The top Grand Jury prize at this year's festival went to low budget sci-fi thriller Primer, written and directed by Shane Carruth. Morgan Spurlock earned the directing award for Super Size Me, which became an international box office hit.</td></tr><tr><th>17</th><td>Entertainment</td><td>Black Sabbath top rock album poll</td><td>Black Sabbath have topped a list of the best British rock albums of all time.The band once fronted by Ozzy Osbourne led a poll of Kerrang! magazine readers with their 1970 self-titled debut. The band have three more efforts on the list, including fifth-placed Paranoid. Osbourne appears more than any other act, with two solo records featured. The top five includes Led Zeppelin, Iron Maiden and Sex Pistols. Queen, Muse, Manic Street Preachers and The Clash complete the top 10. A mix of heavy metal, punk, glam rock and even dance music makes up the list. Motorhead, Judas Priest and Prodigy are included along with newer acts like The Darkness and Lostprophets.Kerrang! editor Ashley Bird said: \"It's amazing to see so many incredible homegrown albums in one list, and without any of the abysmal fashion bands that currently clog up the music scene. \"These are the real opinions of proper rock fans.\"Formed by four teenage friends in the West Midlands in the late 1960s, Black Sabbath are one of Britain's most successful heavy rock bands. Their debut was a UK top 10 hit in 1970 and sold more than a million copies in the US. Osbourne said the band's success in the Kerrang! poll was a triumph for British rock. He said: \"Back then you'd hear: 'If you go to San Francisco, be sure to wear a flower in your hair'. \"We lived in Aston, Birmingham. The only flowers I ever saw were on a gravestone in our local cemetery.\" Despite being disliked by many critics, Black Sabbath's subsequent albums included multi-million sellers but internal rows led to Osbourne leaving in 1979. The band continued without Osbourne, who went on to solo success but also had to battle alcoholism and legal action over his music allegedly inciting teenagers to commit suicide. He was eventually cleared of the charges. Osbourne, who bit off the head of a live bat on stage in 1982, rejoined the band to play the Live Aid charity concert in 1985. After many changes in line-up, the original four members reunited to play live dates in 1997. Black Sabbath have reunited regularly in recent years while Osbourne has gone on to wider fame with his family through MTV documentary series The Osbournes.</td></tr><tr><th>18</th><td>Sport</td><td>Campbell rescues Arsenal</td><td>Sol Campbell proved to be an unlikely match-winner to earn Arsenal a hard-fought win at Portsmouth.The England defender lashed home a 25-yard shot for his first goal in 16 months to take Arsenal back into second spot, five points behind Chelsea. But before Campbell scored the best two chances of the game fell to Pompey striker Ricardo Fuller. In the first half he blasted wide when clear, and his control let him down in the second half when well placed. Portsmouth got plenty of bodies behind the ball to deny Arsenal space in the early stages. But their marking was slack at a corner and Patrick Vieira should have done better when the ball fell to him 16 yards out. A mistake by Arjan de Zeeuw let Thierry Henry in behind the Pompey defence on 17 minutes but as he bore down on goal Linvoy Primus got in a saving tackle. With just Fuller as an out-and-out striker, Portsmouth's shape made life difficult for Arsenal. But a delightful touch by Robin van Persie gave Henry a sight of goal, although the angle was too tight for his shot to trouble Jamie Ashdown.Ashdown caused hearts to flutter on 28 minutes when he missed his punch at a corner and Kolo Toure headed just wide and, as Arsenal began to press, Van Persie blasted over a good opportunity after Henry had set him up. Henry took a quick return pass from Vieira but Ashdown was out quickly to block, and there were some anxious seconds for Pompey as the ball ran loose before Matthew Taylor cleared. After playing second fiddle, Portsmouth should have taken the lead on 34 minutes. Referee Howard Webb played a good advantage to allow Steve Stone to send Gary O'Neil away but, having shrugged off Toure, the Pompey midfielder planted his shot wide from 10 yards. As half-time approached, Henry teased a shot through a ruck of players and inches wide. At the other end, Fuller broke clear but failed to hit the target as Toure closed him down.Fuller was given the best chance of the match so far on 48 minutes when Patrik Berger's break and slipped pass played him clear. But a poor first touch lost him the opportunity and even when he checked back and went down under Vieira's challenge, referee Webb was not interested. Fuller paid the price when he gave way on 55 minutes to Aiyegbeni Yakubu, who returned after six weeks out with a knee injury. But it needed alert reflexes and safe handling from Ashdown to cling on to Van Persie's shot as Henry sniffed for scraps.Portsmouth were growing in confidence and keeper Manuel Almunia had to stand his ground to beat away a powerful shot from Berger. Arsenal were struggling to find their rhythm but took the lead through the unlikely source of Campbell. The England defender needed little invitation as Pompey backed off to stride forward and lash a ferocious shot past Ashdown. Arsenal might have stretched their lead two minutes later when Mathieu Flamini escaped his marker to flash a header wide from Henry's free-kick. Almunia went full length to grab Berger's long-range shot, while Ashdown palmed away substitute Dennis Bergkamp's shot.Ashdown, Griffin, De Zeeuw, Primus, Taylor, Stone, O'Neil, Faye (Berkovic 83), Berger, LuaLua, Fuller (Yakubu 55).Subs not used: Hislop, Quashie, Cisse.Almunia, Lauren, Toure, Campbell, Cole, Pires, Flamini, Vieira, Clichy, Van Persie (Bergkamp 68), Henry.Subs not used: Lehmann, Fabregas, Senderos, Hoyte.Cole.Campbell 75.20,170.H Webb (S Yorkshire).</td></tr><tr><th>19</th><td>Politics</td><td>MPs to debate 'euthanasia laws'</td><td>MPs are preparing to debate a bill which critics claim would legalise euthanasia \"by the back door\".The bill would give legal force to \"living wills\", where people say they want medical treatment withheld if they become severely incapacitated. The Mental Capacity Bill has broad support from charities who say it would give better safeguards over treatment. But Christian groups say it could mean doctors withholding food and fluids even if they think it inappropriate.Ministers insist the Mental Capacity Bill - for England and Wales - would not change laws on assisted suicide and contains a presumption in favour of preserving life.The bill would establish a legal presumption that everybody can make decisions about their own treatment unless proved otherwise. It would allow people to give somebody the power of attorney to make decisions on their behalf, which could be challenged by doctors. Critics fear it could allow \"killing by omission\" through withdrawing treatment. An amendment to the bill - specifically preventing decisions that would bring about death - has been tabled by former Conservative leader Iain Duncan Smith. Ninety one MPs have signed a petition backing the amendment. MPs could vote on it later on Tuesday, during the bill's report stage debate. The Bill will then go to a third reading and be debated in the Lords, before becoming law.The Christian Medical Fellowship (CMF) and Lawyers' Christian Fellowship (LCF) said the Mental Capacity Bill would allow euthanasia by the \"back door\". Peter Saunders of the CMF said it believed advance refusals should be only advisory, not legally binding. \"CMF is concerned that patients will make unwise and hasty advance decisions to refuse food and fluids without being properly informed about the diagnosis and the expected course their illness will take,\" he said.The LCF's Andrea Williams said there were \"too many loopholes that could be abused by unscrupulous doctors\". Ex-Labour minister Frank Field told BBC Two's Newsnight programme there was a danger people would feel under pressure to \"do away\" with themselves so relatives could inherit their assets.Constitutional Affairs Minister David Lammy said laws affecting 750,000 people with dementia needed updating. Mr Lammy told BBC News Labour MPs would not get a free vote as the law was being strengthened, not changed. \"We are against euthanasia, we are against assisted suicide but we are in a situation now where people can make living wills and that has the force of the common law,\" he said. \"Doctors are saying they want more clarity. Patients are saying they want more clarity.\" The Making Decisions Alliance, which includes the Alzheimer's Society, Age Concern, Mencap and the National Autistic Society, said misunderstandings over the bill had to be cleared up. \"It will not change the current law on euthanasia and will actually provide a series of better safeguards when decisions are made for people who lack capacity,\" the alliance said in a statement. The British Medical Association also backs the bill, saying it just gives incapacitated people the same rights as others. Debate on legalising euthanasia has intensified in the UK because of cases like that of motor neurone patient Diane Pretty. She died two years ago after losing a legal battle to allow her husband to help her commit suicide.</td></tr><tr><th>20</th><td>Sport</td><td>Adriano's Chelsea link rejected</td><td>Adriano's agent Gilmar Rinaldi has insisted that he has had no contact with Chelsea over the striker.Chelsea were reported to have made inquiries about Inter Milan's 22-year-old Brazilian star. Rinaldi told BBC Sport from Rio de Janeiro: \"I can assure you that Chelsea have had no dealings whatsoever with either me or Adriano. \"Parma and Real Madrid are interested but there's nothing new there. Their interest has been known for some time.\" Adriano has scored 14 goals in 20 Serie A appearances this season. And Chelsea boss Jose Mourinho had claimed that he was in Milan talking to Adriano on the day he is alleged to have held a clandestine meeting with Arsenal defender Ashley Cole. Mourinho said he was \"just practising my Portuguese with him because I don't need strikers\". Rinaldi told BBC Sport: \"I have to say that nobody from Chelsea or any other London club has contacted me. \"If they want to, that's fine. I can tell them what the situation is. \"If Chelsea are interested then they must make an offer.\" Inter are reported to have slapped a price tag in the region of Â£40m on the head of Adriano, who joined them just over a year ago from Parma. Real Madrid view him as a natural replacement for compatriot Ronaldo. But Rinaldi said: \"I cannot give you a price that Inter would accept for Adriano. That's something that would have to be negotiated between the interested clubs.\"</td></tr><tr><th>21</th><td>Sport</td><td>White prepared for battle</td><td>Tough-scrummaging prop Julian White is expecting a resurgent Wales to give him a rough ride in England's Six Nations opener in Cardiff on Saturday.The Leicester tight-head is in the form of his life, making the England number three shirt his own. But he knows Wales will put his technique under immense scrutiny. \"The Welsh scrum is a force to be reckoned with,\" he told BBC Sport. \"They have made a lot of changes for the better over the last few years.\" White is also impressed with the Welsh pack's strength in depth. \"Gethin Jenkins is starting at loose-head for them. He has played a bit at tight-head but I think his favoured position is loose-head and he is very good,\" he added. The 31-year-old has made a massive contribution to the England and Leicester cause of late and is arguably the form tight-head prop in the world.He destroyed South Africa's Os du Randt in the scrum at Twickenham last autumn to give England the platform for an impressive 32-16 victory. Leicester, who signed White from Bristol when the West Country side were relegated from the Zurich Premiership in the summer of 2003, have also been aided by White's presence this season. The Tigers are sitting pretty at the top of the Premiership table and have also booked their place in the last eight of the Heineken Cup. \"I am pleased with my form,\" he said. \"But my form is helped by the people I play with at Leicester - people like Martin Johnson and Graham Rowntree. \"It's been a good season so far and to be in the starting XV for the first game of the Six Nations is what every player wants. \"I am delighted with the way things have gone but we have to get it right this weekend.\" White is now one of the more experienced members of the England squad which takes to the field on Saturday. Injuries have taken their toll and coach Andy Robinson has been deprived of Richard Hill, Jonny Wilkinson, Martin Corry, Mike Tindall, Will Greenwood and Stuart Abbott.And with 27 caps and a World Cup winner's medal to his name, White is now in a position to offer his experience to youngsters such as centres Matthew Tait and Jamie Noon. \"I don't know how much experience a tight-head can give a centre but you are there to give them a pat on the back if things go wrong or to be there if they want to talk in any way,\" he added. \"When I first came into the squad, people like Jason Leonard and Martin Johnson were the first to come over and talk through things and help out.\"It gives you a lot of confidence when people like that speak to you. \"I was in awe of a lot of them so to sit down and speak with them and realise you are on the same wavelength is good.\" White missed the vast majority of last year's Six Nations because of a knee injury and is raring for the 2005 event to get going. And that is despite the opening game taking place amid the red-hot atmosphere in Cardiff. \"I enjoy the atmosphere. The Millennium Stadium is probably one of the best stadiums in the world,\" he said. \"To go down there and hear the shouting and the singing - it's one of my favourite places to play. \"This is probably the most even Six Nations for a long time. England, Ireland, France and Wales are all contenders. \"On form, Ireland should be favourites but you just don't know - that's the great thing about this tournament.\"</td></tr><tr><th>22</th><td>Entertainment</td><td>Campaigners attack MTV 'sleaze'</td><td>MTV has been criticised for \"incessant sleaze\" by television indecency campaigners in the US.The Parents Television Council (PTC), which monitors violence and sex on TV, said the cable music channel offered the \"cheapest form\" of programming. The group is at the forefront of a vociferous campaign to clean up American television. But a spokeswoman for MTV said it was \"unfair and inaccurate\" to single out MTV for criticism.The PTC monitored MTV's output for 171 hours from 20 March to 27 March 2004, during the channel's Spring Break coverage. In its report - MTV Smut Peddlers: Targeting Kids with Sex, Drugs and Alcohol - the PTC said it witnessed 3,056 flashes of nudity or sexual situations and 2,881 verbal references to sex. Brent Bozell, PTC president and conservative activist said: \"MTV is blatantly selling raunchy sex to kids. \"Compared to broadcast television programmes aimed at adults, MTV's programming contains substantially more sex, foul language and violence - and MTV's shows are aimed at children as young as 12. \"There's no question that TV influences the attitudes and perceptions of young viewers, and MTV is deliberately marketing its raunch to millions of innocent children.\"The watchdog decided to look at MTV's programmes after Janet Jackson's infamous \"wardrobe malfunction\" at last year's Super Bowl. The breast-baring incident generated 500,000 complaints and CBS - which is owned by the same parent company as MTV - was quick to apologise. MTV spokeswoman Jeannie Kedas said the network follows the same standards as broadcasters and reflects the culture and what its viewers are interested in. \"It's unfair and inaccurate to paint MTV with that brush of irresponsibility,\" she said. \"We think it's underestimating young people's intellect and level of sophistication.\" Ms Kedas also highlighted the fact MTV won an award in 2004 for the Fight for Your Rights series that focused on issues such as sexual health and tolerance.</td></tr><tr><th>23</th><td>Entertainment</td><td>Douglas set for Indian adventure</td><td>Actor Michael Douglas is to co-produce and star in an adventure film about a diamond robbery set in India.The new picture is expected to be similar to Douglas's action films of the 1980s, Romancing The Stone and The Jewel Of The Nile. Another Hollywood star is being lined up to co-star, while the rest of the cast will be Indian. Aishwarya Rai, star of Bride and Prejudice, is the \"preferred choice\" of the Indian studio involved in the film.On a visit to India, the 60-year-old actor said he hoped to start shooting Racing The Monsoon next year. Douglas added that it had been inspired by a Wall Street Journal article about India's 'angadias', who courier money and diamonds around India.The actor's own production company, Further Films, is working in partnership with two Indian film-making concerns to bring the picture to the screen. Shailendra Singh, the founder of India's Percept Films, said there would be \"a lot of India\" in the movie - and that an Indian train would play a big role. \"The train will be a crucial part of the film. The chase and most of the stunts will be on the train,\" said Mr Singh. Swashbuckling adventure film Romancing The Stone saw Douglas's female co-star Kathleen Turner win a Golden Globe award for her performance in 1985.</td></tr><tr><th>24</th><td>Sport</td><td>Moya emotional after Davis Cup win</td><td>Carlos Moya described Spain's Davis Cup victory as the highlight of his career after he beat Andy Roddick to end the USA's challenge in Seville.Moya made up for missing Spain's 2000 victory through injury by beating Roddick 6-2 7-6 (7-1) 7-6 (7-5) to give the hosts an unassailable 3-1 lead. \"I have woken up so many nights dreaming of this day,\" said Moya. \"All my energy has been focused on today. \"What I have lived today I do not think I will live again.\" Spain's only other Davis Cup title came two years ago in Valencia, when they beat Australia. And Moya, nicknamed Charly, admitted: \"The Davis Cup is my dream and I was a bit nervous at the outset. \"Some people have said that I am obsessed but I think that it is better this way. It helps me reach my goals if I am obsessed. \"It's really incredible - to get the winning point is really something.\" Spanish captain Jordi Arrese said: \"Charly played a great game. It was his opportunity and he hasn't let us down. \"He had lost three times to Roddick, and this was his day to beat him. \"He had been waiting years to be in this position.\" Spain's victory was also remarkable for the performance of Rafael Nadal, who beat Roddick in the opening singles.Aged 18 years and 185 days, the Mallorcan became the youngest player to win the Davis Cup. \"What a great way to finish the year,\" said Nadal afterwards. US coach Patrick McEnroe wants Roddick and the rest of his team to play more tennis on clay and hone their skills on the surface. \"I think it will help these guys even on slow hard courts to learn how to mix things up a little bit and to play a little bit smarter and tactically better.\" \"Obviously it's unrealistic to say that we're going to just start playing constantly on clay, with the schedule. \"But certainly I think we can put the work in at the appropriate time and play a couple more events and play against these guys who are the best on this stuff,\" said McEnroe. Roddick was left frustrated after losing both his singles on the slow clay of Seville's Olympic Stadium. \"It's just tough because I felt like I was in it the whole time against one of the top three clay-courters in the world,\" said the American. \"I had my chances and just didn't convert them. The bottom line is they were just better than us this weekend. \"They came out, took care of business and they beat us. It's as simple as that.\"</td></tr><tr><th>25</th><td>Tech</td><td>Broadband soars in 2004</td><td>If broadband were a jumbo jet, then 2003 would have seen it taxiing down the runway, firing up its engines and preparing for take-off. But this year has seen it soar.In the spring it literally took to the skies as Lufthansa and British Airways trialled it on flights. This perhaps said more about how indispensable people were beginning to perceive the technology, rather than how useful sky-high broadband would actually be. It was flying high and by the autumn, five million Britons had signed up for high-speed net access at home.Such enthusiasm is unlikely to dampen any time soon and experts predict that by the end of next year the numbers will have risen to more than eight million, or more than 30% of homes. The two key factors in whetting people's appetite were falling prices and a huge marketing push. When operators such as BT and Telewest offered standard 512K broadband for less than Â£20 at the beginning of the year, it was as if an invisible barrier had been breached - broadband had truly gone mass market. A feeding frenzy followed as firms vied for eyeballs in a price war reminiscent of that following the mass market take-up of dial-up. Broadband for less than Â£10 was even touted by some firms, although such a low price raised eyebrows among more established companies questioning how they are able to sustain such business models.For those who became broadbanders in 2004 there was no turning back and the days of waiting for the modem to kick in began to seem as outdated an idea as a jungle without celebrities. The rest of the world was also falling in love with the benefits of fast internet access, to the tune of 100 million connections worldwide by April, prompting research firm Point Topic to declare it one of the fastest growing technologies ever. By September, the number of broadband connections in the UK finally overtook dial-up and in December BT announced that it was making a new broadband connection every 10 seconds.Broadband was being mentioned on the 10 O'clock News and in the tabloids; the Sun even carried a cartoon joke about it. But two of the most significant pieces of news for broadband were items that did not make the headlines. In May, BT quietly announced that it was shaving 70% off the cost of allowing other operators access to its telephone exchanges, so-called local loop unbundling. The vital local loop is the crucial link between telephone exchanges and homes. At the moment BT has a stranglehold on more than 80% of these lines making it the key voice in deciding what ADSL products get into homes. With cheaper local loop unbundling, rivals to BT can offer faster services that will leave the broadband of today looking positively tortoise-like. It will mean the UK will finally catch up with countries such as France and the Netherlands, where homes are routinely enjoying speeds of up to 15Mb (megabits per second). And the major price fall means that, rather than just talk about it, companies are actually starting to get their own equipment into BT's exchanges. It may not seem that exciting but it is a remarkable transition given that just a few years ago the arguments over local loop unbundling bore more than a passing resemblance to the Northern Ireland peace talks - fraught, bitter and with no end in sight.Another big piece of news for broadband users in 2004 was the extension of BT's reach, meaning more than 95% of the population could get broadband, regardless of how far away from the exchange they lived.There was a slight caveat for those wanting to upgrade to 1Mbps broadband, they still have to live within six kilometres of a broadband-enabled exchange. For thousands frustrated by their inability to get the technology, the news meant they could finally join in. Broadband is not just about fast access over the telephone and cable operators NTL and Telewest also had a bumper year. The biggest news for them was increased speeds, introducing 2Mb and 3Mb services for users and offering a free upgrade to those on 512K. The cable operators are limited in their reach and it is perhaps testament to how big a deal local loop unbundling could become that even they are considering extending their range via this route. Broadband can seem confusing for consumers, with the huge amount of operators offering so many different products, some with capped bandwidth and different length contracts and set-up fees. It is unlikely to get any less easy to understand in 2005 but remains a plane worth catching. As it gets faster and offers extras such as cheap telephone calls online, the only real thing to remember for the coming year is to enjoy the ride.</td></tr><tr><th>26</th><td>Politics</td><td>Howard rebuts asylum criticisms</td><td>Tory leader Michael Howard has gone on the offensive in response to people questioning how a son of immigrants can propose asylum quotas.Mr Howard, whose parents fled the Nazi threat to come to the UK, says the claim would mean no-one from an immigrant family could become premier. His comments come in a BBC documentary called 'No More Mr Nasty'. TV presenter Anne Robinson said as home secretary he gave the impression he would \"like to kick your cat\". Ms Robinson, a friend of the Tory leader, also revealed that as a Cambridge student Mr Howard was \"much loved by women and he was a courteous and kind and rather dashing lover\" - although she denied having personal experience. \"I wasn't at Cambridge - and it's not personal experience - but I know people who were.\"Documentary maker Michael Cockerell was given behind-the-scenes access to Mr Howard for his film portrait. The Tory leader was asked about to respond to people who said that if there had there been a quota on immigration and asylum in the 1930s, his parents might not have been allowed into the country.He replies: \"What is the inference of that? \"That if you reach the view that you need to control immigration in the interests of the country you're not allowed to put a view forward if you happen to be descended from immigrants? \"That seems to me an absolutely extraordinary proposition? It would certainly mean no one from immigrant parents could be prime minister.\"Ms Robinson, who presents The Weakest Link tells Cockerell that she despaired at his hardline image when he was home secretary in John Major's government. \"I used to have to sit on my hands because he'd get on television and give a passable impression of someone who'd like to kick your cat or would put your baby in prison if he cried. I mean it was very, very Draconian.\" The film shows Mr Howard laughing at Rory Bremner's impression of him as Dracula, which he calls \"good fun\", apart from the serious falsehood of a comment suggesting he wants fewer black people in the UK. The film shows the private side of the Tory leader watching television at home or playing table tennis with his wife, ex-model Sandra. Asked if she enjoys a game of ping pong she confesses: \"Yeah, it would be more enjoyable if I could win occasionally too, but otherwise it's quite fun.\"Former Downing Street communications chief Alastair Campbell, now working on Labour's election campaign, says a \"touchy-feely\" image does not fit Mr Howard. He says Tony Blair was not worried by his opponents' early performance in their Commons clashes because Mr Howard lacked a \"big strategy\", including on issues like Iraq. The Tory leader brands such criticisms as \"absolutely rubbish\", arguing that he has been consistent on his support for the war but critical of Mr Blair's failure to tell the truth on intelligence. Former Tory chancellor Ken Clarke says Mr Howard has a bigger problem changing perceptions of the Tory party than his personal image. Mr Clarke says the party is improving and it is \"conceivable\" it could win the next election. But he adds: \"It has got to change itself a bit and broaden its appeal.\"- Michael Howard: No More Mr Nasty is being shown on BBC2 on Saturday 12 February at 2005 GMT.</td></tr><tr><th>27</th><td>Politics</td><td>Labour MP praises Tory campaign</td><td>The Conservatives have been \"a lot smarter\" in the way they have conducted the general election campaign, a Labour backbencher has said.Derek Wyatt said having a five month campaign \"turned off voters\" and suggested people were already \"rather bored of the thing\". He wants a greater campaigning role for Chancellor Gordon Brown. Labour said the economy was at the heart of the campaign and Mr Brown therefore had a prominent role. But Mr Wyatt argued: \"By some way, he is currently the figure in all of the polls that people trust and see that has delivered over eight years an economy unmatched anywhere in the world. \"So, it would be a tad foolish of the Labour Party if we did not use him as we have done over the past three elections.\"Labour's election chief Alan Milburn denied there was an attempt to sideline Mr Brown after facing criticism for letting the Tories set the agenda. However, Mr Wyatt predicted the campaign would get under way properly once the chancellor delivered his budget. The MP for Sittingbourne and Sheppey said Prime Minister Tony Blair had been \"trying very hard\" to improve his own standing with the electorate through a \"sort of campaign of trust\". But Mr Blair had been \"hurt\" by the Iraq controversy, he added. A Labour party spokesman played down differences with Mr Wyatt and said Mr Brown already had a prominent campaign role. \"This election is a choice between Labour taking Britain forward and the Conservatives taking us back.\"</td></tr><tr><th>28</th><td>Tech</td><td>Court mulls file-sharing future</td><td>Judges at the US Supreme Court have been hearing evidence for and against file-sharing networks.The court will decide whether producers of file-sharing software can ultimately be held responsible for copyright infringement. They questioned if opening the way for the entertainment industry to sue file-sharers could deter innovation. They also said that file-trading firms had some responsibility for inducing people to piracy.The lawsuit, brought by 28 of the world's largest entertainment firms, has raged for several years. Legal experts agree that if the Supreme Court finds in favour of the music and movie industry they would be able to sue file-trading firms into bankruptcy. But if the judge rules that Grokster and Morpheus - the file-sharers at the centre of the case - are merely providers of technology that can have legitimate as well as illegitimate uses, then the music and movie industry would be forced to abandon its pursuit of file-sharing providers. Instead, they would have to pursue individuals who use peer-to-peer networks to get their hands on free music and movies. The hi-tech and entertainment industries have been divided on the issue. Intel filed a document with the Supreme Court earlier this month in defence of Grokster and others, despite misgivings about some aspects of the file-sharing community. It summed up the attitude of many tech firms in its submission which states that its products \"are essentially tools, that like any other tools, capable of being used by consumers and businesses for unlawful purposes\".Asking firms to second-guess the uses that its technologies would be put to, and to build in ways of preventing illegitimate use, would stifle innovation, it said. The Electronic Frontier Foundation, a civil rights watchdog, is also defending StreamCast Networks, the company behind the Morpheus file-sharing software. The case raises a question of critical importance at the border between copyright and innovation, it said. It cites, as do many, the landmark ruling in 1984 which found that Sony should not be held responsible for the fact that its Betamax video recorder could be used for piracy. Defenders remain optimistic that the judges will rule in favour of the peer-to-peer networks, upholding the precedent set by the Sony Betamax case. A small band of supporters were outside the court as the lawyers entered, wearing \"Save Betamax\" t-shirts. \"The Betamax principles stand as the Magna Carta for the technology industry and are responsible for the explosion in innovation that has occurred in the US over the past 20 years,\" said Gary Shapiro, chief executive of the Consumer Electronics Association. Supreme Court Justice Stephen Breyer said that inventions from printing to Apple's iPod could be used to illegally duplicate copyrighted materials but had, on balance, been beneficial to society. He said that while file-trading software can be used to illegally trade movies and music, conceptually the technology had \"some really excellent uses\".Based on Tuesday's hearing it seems unlikely that the Betamax ruling will be overturned but file-sharing firms might still be held responsible for encouraging or inducing piracy. Grokster's lawyer argued that the company should be judged by its current behaviour rather than what it did when it first set up. But this argument was dismissed as \"ridiculous\" by Justice David Souter. CEA boss Mr Shapiro thinks the case is the most important that the Supreme Court will hear this year. \"It's about preserving America's proud history of technological innovation and protecting the ability of consumers to access and utilise technology,\" he said. The case has already been heard by two lower courts and both found in favour of the peer-to-peer networks. They ruled that despite being used to distribute millions of illegal songs, file-sharing could also be used to cheaply distribute software, government documents and promotional copies of music.</td></tr><tr><th>29</th><td>Politics</td><td>Tory expert denies defeatism</td><td>The Conservatives' campaign director has denied a report claiming he warned Michael Howard the party could not win the next general election.The Times on Monday said Australian Lynton Crosby told the party leader to focus on trying to increase the Tories' Commons presence by 25 to 30 seats. But Mr Crosby said in a statement: \"I have never had any such conversation... and I do not hold that view.\" Mr Howard later added there was not \"one iota\" of truth in the report. The strategist helped Australia's PM, John Howard, win four elections. Mr Howard appointed Mr Crosby as his elections chief last October. Mr Crosby's statement said: \"The Conservative Party has been making an impact on the issues of lower tax and controlled immigration over the past week.\" It added: \"The Labour Party will be wanting to do all they can to distract attention away from the issues that really matter to people.\"</td></tr><tr><th>30</th><td>Politics</td><td>UK 'needs true immigration data'</td><td>A former Home Office minister has called for an independent body to be set up to monitor UK immigration.Barbara Roche said an organisation should monitor and publish figures and be independent of government. She said this would counter \"so-called independent\" groups like Migration Watch, which she described as an anti-immigration body posing as independent. Migration Watch says it is not against all immigration and the government already publishes accurate figures. Sir Andrew Green, chairman of the organisation, says there is no need for an independent body because Office of National Statistics data are accurate. He says he opposes large-scale immigration \"both on the grounds of overcrowding and culture\".He said: \"For example, over the next 20 years one household in three will be due to immigration. \"We are already more overcrowded than India and we are four times more overcrowded than France.\" Ms Roche, Labour MP for Hornsey and Wood Green, believes legal migration is something we should welcome. She said her proposals mean \"we wouldn't have so-called independent experts, like Migration Watch, who come into this debate from an anti-immigration point of view.\" She went on: \"What I would like to see is there being a body which actually looked at the figures, published them, and was independent of government. \"I think that would go a long way to allaying some of the fears that are sometimes whipped up during this debate.\"</td></tr><tr><th>&vellip;</th><td>&vellip;</td><td>&vellip;</td><td>&vellip;</td></tr></tbody></table>"
      ],
      "text/latex": [
       "\\begin{tabular}{r|ccc}\n",
       "\t& topic & heading & article\\\\\n",
       "\t\\hline\n",
       "\t& String & String & String\\\\\n",
       "\t\\hline\n",
       "\t1 & Entertainment & Animation charms Japan box office & Oscar-winning director Hayao Miyazaki's latest film has set a new Japanese box office record, with 1.5bn yen (\\$14.3m) in two days, according to reports.Howl's Moving Castle is the follow-up to Miyazaki's Spirited Away, which won best animation at last year's Oscars. It is based on the children's book by English writer Diana Wynne Jones. It has registered the highest opening weekend takings of any Japanese film in the country, according to trade publication Screen Daily.The film is about an 18-year-old girl who is trapped in an old woman's body after being put under a spell by a witch. Its two-day takings represented 1.1 million cinema admissions, Screen Daily said. The film's distributor Toho expects 40 million people to see it in total - almost one third of the country's population - it added. The film won the Golden Osella for outstanding technical contribution at this year's Venice Film Festival. \\\\\n",
       "\t2 & Tech & Satellite mapping aids Darfur relief & Aid workers trying to house, feed and clothe millions of homeless refugees in the Sudanese region of Darfur are getting a helping hand from advanced mapping technology.A European consortium of companies and university groups known as Respond is working to provide accurate and up to date maps. The aim is to overcome some of the huge logistical challenges in getting supplies to where they are needed. Respond is using satellite imagery to produce accurate maps that can be used in the field rapidly. \"Respond has produced very detailed maps for example for the road networks, for the rivers and for the villages, to more large-scale maps useful for very general planning purposes,\" said Einar Bjorgo from Unosat, the UN satellite mapping organisation that is part of the Respond consortium.The group uses satellites from Nasa, the European Space Agency and the Disaster Monitoring Constellation. The satellite data is transmitted to ground stations. From there, the information makes its way to Respond organisations that specialise in interpreting such data. \"You have to convert the data into images, then the interpreter has to convert all this into crisis, damage, or situation maps,\" said Stefan Voigt, who works in the remote sensing department of one of those organisations, the German Aerospace Centre.This kind of detailed analysis usually takes a couple of months but Respond gets it done in about 12 hours. \"Our users are usually not so much familiar with reading satellite imagery, reading satellite maps, so it's our task to transfer the data into information that non-technical people can read and understand easily and very, very efficiently,\" said Mr Voigt. Respond supplies maps to aid groups via the web, and on compact disc. But the best map is one you can hold in your hands, especially in remote areas where internet connections and laptops are scarce. \"A map is a working document,\" explains Herbert Hansen of Respond's Belgian partner Keyobs. \"You need to use it, you need to write on it, correct, give feedback and so on, so you need paper to write on. \"We print maps, we laminate the maps, we encapsulate the maps if needed so you can take a shower with the map, it's completely protected.\"Humanitarian groups in Darfur have been making good use of Respond's maps. They have come in especially handy during Sudan's rainy season, when normally dry riverbeds, or wadis, became flooded. \"These wadis had a very small amount of flooding, generally, in terms of depth, but greatly impeded the transport capabilities and capacities of the humanitarian groups on the ground,\" says Stephen Candillon of Respond imaging partner Sertit. Respond's rapid imaging has allowed aid groups to find ways around the wadis, allowing then to mark on their maps which roads were washed out at which times. Aid groups say that combination of satellite technology and on-the-ground observation helped keep relief flowing to those who needed it.Clark Boyd is technology correspondent for The World, a BBC World Service and WGBH-Boston co-production \\\\\n",
       "\t3 & Tech & 'Evil twin' fear for wireless net & People using wireless high-speed net (wi-fi) are being warned about fake hotspots, or access points.The latest threat, nicknamed evil twins, pose as real hotspots but are actually unauthorised base stations, say Cranfield University experts. Once logged onto an Evil Twin, sensitive data can be intercepted. Wi-fi is becoming popular as more devices come with wireless capability. London leads the global wi-fi hotspots league, with more than 1,000. The number of hotspots is expected to reach 200,000 by 2008, according to analysts. \"Users need to be wary of using their wi-fi enabled laptops or other portable devices in order to conduct financial transactions or anything that is of a sensitive or personal nature,\" said Professor Brian Collins, head of information systems at Cranfield University.\"Users can also protect themselves by ensuring that their wi-fi device has its security measures activated,\" he added. BT Openzone, which operates a vast proportion of public hotspots in the UK, told the BBC News website that it made every effort to make its wi-fi secure. \"Naturally, people may have security concerns,\" said Chris Clark, chief executive for BT's wireless broadband.\"But wi-fi networks are no more or less vulnerable than any other means of accessing the internet, like broadband or dial-up.\" He said BT Openzone, as well as others, have sophisticated encryption from the start of the login process to the service at a hotspot. \"This means that users' personal information and data, logon usernames and passwords are protected and secure,\" said Mr Clark.In the vast majority of cases, base stations straight out of the box from the manufacturers are automatically set up with the least secure mode possible, said Dr Nobles. Cybercriminals who try to glean personal information using the scam, jam connections to a legitimate base station by sending a stronger signal near to the wireless client. Anyone with the right gear can find a real hotspot and substitute it with an evil twin. \"Cybercriminals don't have to be that clever to carry out such an attack,\" said Dr Phil Nobles, a wireless net and cybercrime expert at Cranfield. \"Because wireless networks are based on radio signals they can be easily detected by unauthorised users tuning into the same frequency.\"Although wi-fi is increasing in popularity as more people want to use high-speed net on the move, there have been fears over how secure it is. Some companies have been reluctant to use them in large numbers because of fears about security. A wireless network that is not protected can provide a backdoor into a company's computer system. Public wi-fi hotspots offered by companies like BT Openzone and The Cloud, are accessible after users sign up and pay for use. But many home and company wi-fi networks are left unprotected and can be \"sniffed out\" and hi-jacked by anyone with the correct equipment. \"BT advises that customers should change all default settings, make sure that their security settings on all equipment are configured correctly,\" said Mr Clark. \"We also advocate the use of personal firewalls to ensure that only authorised users can have access and that data cannot be intercepted.\" Dr Nobles is due to speak about wireless cybercrime at the Science Museum's Dana Centre in London on Thursday. \\\\\n",
       "\t4 & Business & US bank in \\$515m SEC settlement & Five Bank of America subsidiaries have agreed to pay a total of \\$515m (Â£277m) to settle an investigation into fraudulent trading share practices.The US Securities and Exchange Commission announced the settlements, the latest in an industry-wide clean-up of US mutual funds. The SEC also said it had brought fraud charges against two ex-senior executives of Columbia Distributor. Columbia Distributor was part of FleetBoston, bought by BOA last year. Three other ex-Columbia executives agreed settlements with the SEC.The SEC has set itself the task of stamping out the mutual funds' use of market-timing, a form of quick-fire, short-term share trading that harms the interests of small investors, with whom mutual funds are particularly popular. In the last two years, it has imposed penalties totalling nearly \\$2bn on 15 funds. The SEC unveiled two separate settlements, one covering BOA's direct subsidiaries, and another for businesses that were part of FleetBoston at the time. In both cases, it said there had been secret deals to engage in market timing in mutual fund shares. The SEC agreed a deal totalling \\$375m with Banc of America Capital Management, BACAP Distributors and Banc of America Securities. It was made up of \\$250m to pay back gains from market timing, and \\$125m in penalties. It is to be paid to the damaged funds and their shareholders. Separately, the SEC said it had reached a \\$140m deal - equally split between penalties and compensation - in its probe into Columbia Management Advisors (CAM) and Columbia Funds Distributor (CFD) and three ex-Columbia executives. These businesses became part of BOA when it snapped up rival bank FleetBoston in a \\$47bn merger last March.The SEC filed civil fraud charges in a Boston Federal court against James Tambone, who it says headed CFD's sales operations, and his alleged second in command Robert Hussey. The SEC is pressing for the highest tier of financial penalties against the pair for \"multiple violations\", repayment of any personal gains, and an injunction to prevent future breaches, a spokeswoman for the SEC's Boston office told the BBC. There was no immediate comment from the men's' lawyers. The SEC's settlement with CAM and CFD included agreements with three other ex-managers, Peter Martin, Erik Gustafson and Joseph Palombo, who paid personal financial penalties of between \\$50-100,000. \\\\\n",
       "\t5 & Sport & Ronaldo considering new contract & Manchester United winger Cristiano Ronaldo said he is close to agreeing to a new contract at Old Trafford.The Portugal star, who joined in August 2003 on a five-year-deal, is a regular in the United first-team. \"The United board have already made an offer to renew the contract but I'm trying not to think about it,\" he told the News of the World. \"My agent has spoken with the club and it will be resolved soon. I think we'll reach a good agreement for both sides.\" Ronaldo refused to commit his long-term future to the club.\"Nobody knows what will come tomorrow. I like being here, but who knows,\" he added. \"There aren't many bigger and better clubs than this one. It's my ambition to be at a big club. I'm happy but nobody knows the future.\" \\\\\n",
       "\t6 & Business & Arsenal 'may seek full share listing' & Arsenal vice-chairman David Dein has said the club may consider seeking a full listing for its shares on the London Stock Exchange.Speaking at the Soccerex football business forum in Dubai, he said a full listing was \"one of the options\" for funding after the club moves to its new stadium. The club - which is currently listed on the smaller Ofex share exchange - is due to move into its new 60,000-seater Emirates Stadium at Ashburton Grove for the start of the 2006/07 season. Mr Dein also warned the current level of TV coverage of the Premiership may be reaching saturation level, with signs that match attendances have been dropping off in the first few months of this season.When Arsenal moves to its new stadium it will see its proportion of turnover from media earnings drop from 52\\% this season to 34\\% in two years' time. The club is hoping to increase matchday earnings from 29\\% to 40\\% of turnover, and has not ruled out other money-earning means, including a full share listing. \"When the new stadium opens we will go through a thorough financial review,\" Mr Dein said.\"Listing would be one option, but we are flexible and no decisions have been made on that issue yet. \"We want to be in the best financial health - maybe clubs can do it (listing), Manchester United have been a success.\"Mr Dein said that, although television money and coverage had driven the English game forward in the past 10 years, he feared there might now be too many games being shown. Since the formation of the Premier League in season 1992/93, Premiership clubs have seen their income from television soar. \"Television has been the driving force over the past 10 years... but we must constantly improve if we want to remain as the world's leading league competition. \"We must monitor the quality of the product and ensure attendances do not decline, and we must balance that with the quantity of exposure on TV too. \"I think we have practically reached saturation point... sometimes I think less is more.\"The club is funding its move to Ashburton Grove through a number of sources, including debt from banks, from money it already has and will receive in coming years from sponsors, and from the sale of surplus property, including its Highbury Stadium. It is also looking to create new revenue streams from overseas markets, including Asia. \"We have two executives travelling round Japan and China at the moment building relationships with organisations and clubs, and we know our supporters clubs are growing there too, as they are around the world. \"We have got a very good product, so it is very important we go and look at these markets, and make sure we are on the case.\" \\\\\n",
       "\t7 & Business & US insurer Marsh cuts 2,500 jobs & Up to 2,500 jobs are to go at US insurance broker Marsh \\& McLennan in a shake up following bigger-than-expected losses.The insurer said the cuts were part of a cost-cutting drive, aimed at saving millions of dollars. Marsh posted a \\$676m (Â£352m) loss for the last three months of 2004, against a \\$375m (Â£195.3m) profit a year before. It blamed an \\$850m payout to settle a price-rigging lawsuit, brought by New York attorney general Elliot Spitzer. Under the settlement announced in January, Marsh took a pre-tax charge of \\$618m in the October-to-December quarter, on top of the \\$232m charge from the previous quarter. \"Clearly 2004 was the most difficult year in MMC's financial history,\" Marsh chief executive Michael Cherkasky said.An ongoing restructuring drive at the group also led to a \\$337m hit in the fourth quarter, the world's biggest insurer said.Analysts expect its latest round of cuts to focus on its brokerage unit, which employs 40,000 staff. The latest layoffs will take the total number of jobs to go at the firm to 5,500 and are expected to lead to annual savings of more than \\$375m. As part of its efforts to cut costs, the company said it was halving its dividend payment to 17 cents a shares from 34 cents, a move which should enable it to save \\$360m. Looking ahead, Mr Cherkasky forecast profitable growth for the year ahead \"with an operating margin in the upper-teens, and with the opportunity for further margin expansion\". Meanwhile, the company also announced it would spin-off its MMC Capital private equity unit, which manages the \\$3bn Trident Funds operation, to a group of employees. Marsh did not say when the move would take place, but said it had signed a letter of intent.The insurer hit the headlines in October last year when it faced accusations of price rigging. New York Attorney General Elliot Spitzer sued the company, accusing it of receiving illegal payments to steer clients to selected firms as well as rigging bids and fixing prices. In January, Marsh agreed to pay \\$850m to settle the suit - a figure in line with the placement fees it collected in 2003 - and agreed to change its business practices. In February, a former senior executive pleaded guilty to criminal charges in a wide-ranging probe of fraud and bid-rigging in the insurance industry. In January, a former senior vice president also pleaded guilty to criminal charges related to the investigation. In an effort to reform its business practises, Marsh said it has already introduced new leadership, new compliance procedures and new ways of dealing with customers. \"As a result, we are ready to put these matters behind us and move ahead in 2005 to restore the trust our clients have placed in us and to rebuild shareholder value,\" Mr Cherkasky said. \\\\\n",
       "\t8 & Sport & Robinson out of Six Nations & England captain Jason Robinson will miss the rest of the Six Nations because of injury.Robinson, stand-in captain in the absence of Jonny Wilkinson, had been due to lead England in their final two games against Italy and Scotland. But the Sale full-back pulled out of the squad on Wednesday because of a torn ligament in his right thumb. The 30-year-old will undergo an operation on Friday but England have yet to name a replacement skipper.Robinson said: \"This is very disappointing for me as this means I miss England's last two games in the Six Nations at Twickenham and two games for my club, Sale Sharks. \"But I'm looking to be back playing very early in April.\"Robinson picked up the injury in the 19-13 defeat to Ireland at Lansdowne Road on Saturday. And coach Andy Robinson said: \"I am hugely disappointed for Jason. \"As England captain he has been an immense figure during the autumn internationals and the Six Nations, leading by example at all times. I look forward to having him back in the England squad.\" The announcement is the latest setback for Robinson's injury-depleted squad.Among the key figures already missing are Jonny Wilkinson, Mike Tindall, Will Greenwood, Julian White and Phil Vickery - a list which leaves Robinson short on candidates for the now vacant captaincy role. Former England skipper Jeremy Guscott told BBC Radio Five Live his choice would be Matt Dawson, even though he is does not hold a regular starting place.\"The obvious choice is Dawson\" said Guscott. \"Especially given that Harry Ellis did not have his best game at scrum-half on Saturday. \"Dawson has the credentials and the experience, even though his winning record at captain is not great. \"The other option in Martin Corry, who is the standout forward at the moment. \"Unfortunately England cannot rely on leaders on the field at the moment.\" England will announce their squad for the 12 March game against Italy on Saturday. \\\\\n",
       "\t9 & Business & S Korean consumers spending again & South Korea looks set to sustain its revival thanks to renewed private consumption, its central bank says.The country's economy has suffered from an overhang of personal debt after its consumers' credit card spending spree. Card use fell sharply last year, but is now picking up again with a rise in spending of 14.8\\% year-on-year. \"The economy is now heading upward rather than downward,\" said central bank governor Park Seung. \"The worst seems to have passed.\" Mr Park's statement came as the bank decided to keep interest rates at an all-time low of 3.25\\%. It had cut rates in November to help revive the economy, but rising inflation - reaching 0.7\\% month-on-month in January - has stopped it from cutting further. Economic growth in 2004 was about 4.7\\%, with the central bank predicting 4\\% growth this year. Other indicators are also suggesting that the country is inching back towards economic health. Exports - traditionally the driver for expansion in Asian economies - grew slower in January than at any time in 17 months. But domestic demand seems to be taking up the slack. Consumer confidence has bounced back from a four-year low in January, and retail sales were up 2.1\\% in December. Credit card debt is falling, with only one in 13 of the 48 million cards now in default - down from one in eight at the end of 2003. One of its biggest card issuers, LG Card, was rescued from collapse in December, having almost imploded under the weight of its customers' bad debts. The government last year tightened the rules for card lending to keep the card glut under control. \\\\\n",
       "\t10 & Business & S Korean lender faces liquidation & Creditors of South Korea's top credit card firm have said they will put the company into liquidation if its ex-parent firm fails to back a bail-out.LG Card's creditors have given LG group until Wednesday to sign up to a \\$1.1bn rescue package. The firm avoided bankruptcy thanks to a \\$4.5bn bail-out in January 2004, which gave control to the creditors. LG Group has said any package should reflect the firm's new ownership, and it will not accept an unfair burden. At least seven million people in South Korea use LG Card's plastic for purchases.LG Card's creditors have threatened parent group LG Group with penalties if it fails to respond to their demands.\"Creditors would seek strong financial sanctions against LG Group if LG Card is liquidated,\" said Yoo Ji-chang, governor of Korean Development Bank (KDB) - one of the card firm's major creditors. LG Group has said providing further help to the credit card issuer could hurt its corporate credibility and could spark shareholder lawsuits. It says it wants \"fair and reasonable guidelines\" on splitting the financial burden with the creditors, who now own 99.3\\% of LG Card. The creditors have asked the government to mediate to avoid any risk to the stability of financial markets, KDB said. Analysts believe a compromise is likely. \"LG Group knows the impact on consumer demand and the national economy from a liquidation of LG Card,\" said Kim Yungmin, an equity strategist at Dongwon Investment Trust Management.LG Card almost collapsed in 2003 due to an increase in overdue credit card bills after the bursting of a credit bubble. The firm returned to profit in September 2004, but now needs a capital injection to avoid being delisted from the Korea Stock Exchange. The exchange can delist a company if its debt exceeds its assets for two years running. LG card's creditors fear that such a move would triggered massive debt redemption requests that could bankrupt the firm, which owes about \\$12.05bn. \"Eventually, LG Group will have to participate, but they have been stalling to try to earn better concessions,\" said Mr Kim. \\\\\n",
       "\t11 & Politics & Candidate resigns over BNP link & A prospective candidate for the UK Independence Party (UKIP) has resigned after admitting a \"brief attachment\" to the British National Party(BNP).Nicholas Betts-Green, who had been selected to fight the Suffolk Coastal seat, quit after reports in a newspaper that he attended a BNP meeting. The former teacher confirmed he had attended the meeting but said that was the only contact he had with the group. Mr Betts-Green resigned after being questioned by the party's leadership. A UKIP spokesman said Mr Betts-Green's resignation followed disclosures in the East Anglian Daily Times last month about his attendance at a BNP meeting. \"He did once attend a BNP meeting. He did not like what he saw and heard and will take no further part of it,\" the spokesman added. A meeting of Suffolk Coastal UKIP members is due to be held next week to discuss a replacement. Mr Betts-Green, of Woodbridge, Suffolk, has also resigned as UKIP's branch chairman. \\\\\n",
       "\t12 & Sport & English clubs make Euro history & All four of England's Champions League representatives have reached the knockout stages for the first time.Arsenal and Chelsea are seeded as group winners, while runners-up Manchester United and Liverpool are not. Rules stipulate that teams from the same country or group will be kept apart in the draw on 17 December. The favourites are Chelsea and Barcelona, and Real Madrid, the two Milan sides, Juventus and Bayern Munich are among the 16 still in the hat.Steven Gerrard's last-gasp wonder-strike secured qualification foragainst Olympiakos on Wednesday evening.AC Milan, Bayer Leverkusen, Internazionale, Juventus, Lyon.who had already qualified, fielded a second-string side and went down 3-0 to Fenerbahce.AC Milan, Bayer Leverkusen, Internazionale, Juventus, Monaco.On Tuesday,finished top of their group with a 5-1 win over the Rosenborg after drawing four of their first five matches.Barcelona, Bayern Munich, Porto, Real Madrid, Werder Bremen, who had already qualified lost 2-1 to Porto as Jose Mourinho made an unhappy return to his former club.Barcelona, Bayern Munich, PSV Eindhoven, Real Madrid, Werder Bremen. \\\\\n",
       "\t13 & Sport & Hearts of Oak 3-2 Cotonsport & Hearts of Oak set up an all Ghanaian Confederation Cup final with a 3-2 win over Cameroon's Cotonsport Garoua in Accra on Sunday.The win for Hearts means they will play Asante Kotoko in the two-leg final, after the Kumasi team qualified from Group A on Saturday. In the other Group B game Cameroon'sbeatof South Africa 3-2 in Douala, neither side could have qualified for the final. Hearts of Oak started the game needing a win to qualify for the final while Cotonsport only needed to avoid defeat to go through. Louis Agyemang scored the first two goals for Hearts either side of half time before Ben Don Bortey scored the third. Hearts looked set for a comfortable win but Cotonsport staged a late fight back scoring twice late on. First of all Boukar Makaji scored in the 89th minute and then 3 minutes into injury time at the end of the game Andre Nzame III was on target. But it was too little too late for the Cameroonians and Hearts held on to win the game and a place in the final. The first leg of the final will be played in Accra on the weekend of 27-28 November and the second leg two weeks later on the 11 December in Kumasi. In the other Group B game Cameroon's Sable Batie took the lead in the 35th minute through Kemadjou before Santos equalised on the hour mark thanks to Thokozani Xaba . Bernard Ngom put Sable ahead just five minutes later and then Ernest Nfor settled the game on 68 minutes. Ruben Cloete scored the South African sides consolation with just three minutes left on the clock. \\\\\n",
       "\t14 & Sport & Funding cut hits Wales Students & The Wales Students rugby side has become a casualty of the Welsh Rugby Union's reorganisation at youth level.An amalgamated Under-18 side formed from separate schools and national youth teams plays its first match on Thursday, against Italy at the Gnoll. But that move has seen the WRU decide to end its funding of representative sides such as Wales Students. As a result, traditional international fixtures against England and France in the New Year have been cancelled. The Welsh Students Rugby Football Union feels that it is unable to properly prepare for or stage the matches. The secretary of the Welsh Students Rugby Football Union, Reverend Eldon Phillips, said: \"It is a shame that fixtures cannot be maintained this year. \"The competition provided by the strong English and French teams has enabled the Welsh Students to test themselves in high quality matches. \"The increasing number of young rugby players entering Higher Education look for the biggest challenge, that is representative rugby, but this year that opportunity will be denied them. Players who have played for Wales Students before going on to win full senior representative honours include Robert Jones, Rob Howley, Jon Humphreys, Darren Morris, Martyn Williams and Ceri Sweeney. \\\\\n",
       "\t15 & Entertainment & Vera Drake leads UK Oscar hopes & Mike Leigh's film Vera Drake will lead British hopes at this year's Academy Awards after getting three nominations.Imelda Staunton was nominated for best actress for her role in the abortion drama, while Leigh received nods for best director and original screenplay. Kate Winslet was also nominated in the best actress category for her role in Eternal Sunshine of the Spotless Mind. And Clive Owen and Sophie Okonedo both got nominated for supporting roles in Closer and Hotel Rwanda respectively. Owen has already been made bookmakers' favourite for best supporting actor for the role in Closer that has already clinched him a Golden Globe award.And it is the first nomination for actress Okonedo, chosen for her performance in Hotel Rwanda, about the 1994 Rwandan genocide. It is also a debut nomination for Staunton, 49, who told BBC News 24 she had not thought the film would appeal to Academy voters. \"It was an extraordinary time making the film and I can't believe what has happened this morning,\" she said. \"I hope it just shows Mike up to be the extraordinary filmmaker he is. \"We are also dealing with a very difficult subject matter and it is amazing to have it accepted in this way.\" Leigh, who had previously received three Oscar nominations for Secrets and Lies and Topsy Turvy, told BBC News 24 the latest success was \"amazing\". He said: \"We hoped that Imelda Staunton would get a nomination but I never expected to get director and screenplay. It's just absolutely wonderful.\"I think people are aware that it's about life - and I hope it is the warmth and compassion that really talks to people.\" Winslet said she was \"ecstatic\" about the fourth nomination of her career. \"Being nominated means so much to me. To be nominated for a film that was released a while ago, I feel so honoured and overwhelmed,\" she said. John Woodward, chief executive of the UK Film Council, said it was \"extremely heartening\" to see British filmmaking talent recognised on the global stage. \"Britain has a hugely talented industry and these nominations show why National Lottery investment in film pays major dividends for our culture and economy.\" Among a total of 24 British nominees, composer Andrew Lloyd Webber and lyricist Charles Hart are up for best original song for Learn To Be Lonely, from The Phantom of the Opera movie.Cinematographer John Mathieson, who was nominated for Gladiator in 2001, is also up for The Phantom of the Opera. And Finding Neverland has garnered two more nominations for Brits. Gemma Jackson, who has also worked on Bridget Jones's Diary and Iris, is up for art direction while costume designer Alexandra Byrne, whose previous films have included Captain Corelli's Mandolin and Elizabeth, is in the running. The UK has two contenders in the best live action short film category. Wasp was made by ex-children's TV presenter Andrea Arnold while Little Terrorist is the work of Ashvin Kumar. This year's awards will be handed out in Hollywood on 27 February. \\\\\n",
       "\t16 & Entertainment & Sundance to honour foreign films & International films will be given the same prominence as US films at next year's Sundance Film Festival, with movies dominated by the theme of war.The independent film festival will feature two new international cinema competitions, during its 20-30 January season in Utah. Forty-two films will debut at Sundance, including The Liberace of Baghdad by British director Sean McAllister. The prestigious festival was founded by actor Robert Redford in 1981.\"We have always had an international component, but from next year they will enter a jury competition,\" festival director Geoffrey Gilmore said. \"We wanted to give world cinema more emphasis and have now put it on par with the American dramatic and documentary competitions.\" Twelve films competing in the new world cinema documentary category focus on countries and people under siege.The Liberace of Baghdad features an Iraqi pianist hiding in a hotel as he waits for a visa, while Finnish film The Three Rooms of Melancholia looks at the war in Chechnya. Shake Hands With The Devil: The Journey of Romeo Dallaire tells of a UN mission to Rwanda during the 1994 genocide, while French-Israeli production Wall looks at Israel's controversial security wall separating it from the Palestinian territories. The 16 films competing in the new world cinema dramatic category include works from Germany, South Korea, Angola, China, Denmark and Australia.Several Hollywood stars feature in the festival's American independent drama category, including Keanu Reeves and Benjamin Bratt. Vince Vaughn stars in quirky movie Thumbsucker while 21 Grams actress Naomi Watts plays a budding Hollywood actress in Ellie Parker. The top Grand Jury prize at this year's festival went to low budget sci-fi thriller Primer, written and directed by Shane Carruth. Morgan Spurlock earned the directing award for Super Size Me, which became an international box office hit. \\\\\n",
       "\t17 & Entertainment & Black Sabbath top rock album poll & Black Sabbath have topped a list of the best British rock albums of all time.The band once fronted by Ozzy Osbourne led a poll of Kerrang! magazine readers with their 1970 self-titled debut. The band have three more efforts on the list, including fifth-placed Paranoid. Osbourne appears more than any other act, with two solo records featured. The top five includes Led Zeppelin, Iron Maiden and Sex Pistols. Queen, Muse, Manic Street Preachers and The Clash complete the top 10. A mix of heavy metal, punk, glam rock and even dance music makes up the list. Motorhead, Judas Priest and Prodigy are included along with newer acts like The Darkness and Lostprophets.Kerrang! editor Ashley Bird said: \"It's amazing to see so many incredible homegrown albums in one list, and without any of the abysmal fashion bands that currently clog up the music scene. \"These are the real opinions of proper rock fans.\"Formed by four teenage friends in the West Midlands in the late 1960s, Black Sabbath are one of Britain's most successful heavy rock bands. Their debut was a UK top 10 hit in 1970 and sold more than a million copies in the US. Osbourne said the band's success in the Kerrang! poll was a triumph for British rock. He said: \"Back then you'd hear: 'If you go to San Francisco, be sure to wear a flower in your hair'. \"We lived in Aston, Birmingham. The only flowers I ever saw were on a gravestone in our local cemetery.\" Despite being disliked by many critics, Black Sabbath's subsequent albums included multi-million sellers but internal rows led to Osbourne leaving in 1979. The band continued without Osbourne, who went on to solo success but also had to battle alcoholism and legal action over his music allegedly inciting teenagers to commit suicide. He was eventually cleared of the charges. Osbourne, who bit off the head of a live bat on stage in 1982, rejoined the band to play the Live Aid charity concert in 1985. After many changes in line-up, the original four members reunited to play live dates in 1997. Black Sabbath have reunited regularly in recent years while Osbourne has gone on to wider fame with his family through MTV documentary series The Osbournes. \\\\\n",
       "\t18 & Sport & Campbell rescues Arsenal & Sol Campbell proved to be an unlikely match-winner to earn Arsenal a hard-fought win at Portsmouth.The England defender lashed home a 25-yard shot for his first goal in 16 months to take Arsenal back into second spot, five points behind Chelsea. But before Campbell scored the best two chances of the game fell to Pompey striker Ricardo Fuller. In the first half he blasted wide when clear, and his control let him down in the second half when well placed. Portsmouth got plenty of bodies behind the ball to deny Arsenal space in the early stages. But their marking was slack at a corner and Patrick Vieira should have done better when the ball fell to him 16 yards out. A mistake by Arjan de Zeeuw let Thierry Henry in behind the Pompey defence on 17 minutes but as he bore down on goal Linvoy Primus got in a saving tackle. With just Fuller as an out-and-out striker, Portsmouth's shape made life difficult for Arsenal. But a delightful touch by Robin van Persie gave Henry a sight of goal, although the angle was too tight for his shot to trouble Jamie Ashdown.Ashdown caused hearts to flutter on 28 minutes when he missed his punch at a corner and Kolo Toure headed just wide and, as Arsenal began to press, Van Persie blasted over a good opportunity after Henry had set him up. Henry took a quick return pass from Vieira but Ashdown was out quickly to block, and there were some anxious seconds for Pompey as the ball ran loose before Matthew Taylor cleared. After playing second fiddle, Portsmouth should have taken the lead on 34 minutes. Referee Howard Webb played a good advantage to allow Steve Stone to send Gary O'Neil away but, having shrugged off Toure, the Pompey midfielder planted his shot wide from 10 yards. As half-time approached, Henry teased a shot through a ruck of players and inches wide. At the other end, Fuller broke clear but failed to hit the target as Toure closed him down.Fuller was given the best chance of the match so far on 48 minutes when Patrik Berger's break and slipped pass played him clear. But a poor first touch lost him the opportunity and even when he checked back and went down under Vieira's challenge, referee Webb was not interested. Fuller paid the price when he gave way on 55 minutes to Aiyegbeni Yakubu, who returned after six weeks out with a knee injury. But it needed alert reflexes and safe handling from Ashdown to cling on to Van Persie's shot as Henry sniffed for scraps.Portsmouth were growing in confidence and keeper Manuel Almunia had to stand his ground to beat away a powerful shot from Berger. Arsenal were struggling to find their rhythm but took the lead through the unlikely source of Campbell. The England defender needed little invitation as Pompey backed off to stride forward and lash a ferocious shot past Ashdown. Arsenal might have stretched their lead two minutes later when Mathieu Flamini escaped his marker to flash a header wide from Henry's free-kick. Almunia went full length to grab Berger's long-range shot, while Ashdown palmed away substitute Dennis Bergkamp's shot.Ashdown, Griffin, De Zeeuw, Primus, Taylor, Stone, O'Neil, Faye (Berkovic 83), Berger, LuaLua, Fuller (Yakubu 55).Subs not used: Hislop, Quashie, Cisse.Almunia, Lauren, Toure, Campbell, Cole, Pires, Flamini, Vieira, Clichy, Van Persie (Bergkamp 68), Henry.Subs not used: Lehmann, Fabregas, Senderos, Hoyte.Cole.Campbell 75.20,170.H Webb (S Yorkshire). \\\\\n",
       "\t19 & Politics & MPs to debate 'euthanasia laws' & MPs are preparing to debate a bill which critics claim would legalise euthanasia \"by the back door\".The bill would give legal force to \"living wills\", where people say they want medical treatment withheld if they become severely incapacitated. The Mental Capacity Bill has broad support from charities who say it would give better safeguards over treatment. But Christian groups say it could mean doctors withholding food and fluids even if they think it inappropriate.Ministers insist the Mental Capacity Bill - for England and Wales - would not change laws on assisted suicide and contains a presumption in favour of preserving life.The bill would establish a legal presumption that everybody can make decisions about their own treatment unless proved otherwise. It would allow people to give somebody the power of attorney to make decisions on their behalf, which could be challenged by doctors. Critics fear it could allow \"killing by omission\" through withdrawing treatment. An amendment to the bill - specifically preventing decisions that would bring about death - has been tabled by former Conservative leader Iain Duncan Smith. Ninety one MPs have signed a petition backing the amendment. MPs could vote on it later on Tuesday, during the bill's report stage debate. The Bill will then go to a third reading and be debated in the Lords, before becoming law.The Christian Medical Fellowship (CMF) and Lawyers' Christian Fellowship (LCF) said the Mental Capacity Bill would allow euthanasia by the \"back door\". Peter Saunders of the CMF said it believed advance refusals should be only advisory, not legally binding. \"CMF is concerned that patients will make unwise and hasty advance decisions to refuse food and fluids without being properly informed about the diagnosis and the expected course their illness will take,\" he said.The LCF's Andrea Williams said there were \"too many loopholes that could be abused by unscrupulous doctors\". Ex-Labour minister Frank Field told BBC Two's Newsnight programme there was a danger people would feel under pressure to \"do away\" with themselves so relatives could inherit their assets.Constitutional Affairs Minister David Lammy said laws affecting 750,000 people with dementia needed updating. Mr Lammy told BBC News Labour MPs would not get a free vote as the law was being strengthened, not changed. \"We are against euthanasia, we are against assisted suicide but we are in a situation now where people can make living wills and that has the force of the common law,\" he said. \"Doctors are saying they want more clarity. Patients are saying they want more clarity.\" The Making Decisions Alliance, which includes the Alzheimer's Society, Age Concern, Mencap and the National Autistic Society, said misunderstandings over the bill had to be cleared up. \"It will not change the current law on euthanasia and will actually provide a series of better safeguards when decisions are made for people who lack capacity,\" the alliance said in a statement. The British Medical Association also backs the bill, saying it just gives incapacitated people the same rights as others. Debate on legalising euthanasia has intensified in the UK because of cases like that of motor neurone patient Diane Pretty. She died two years ago after losing a legal battle to allow her husband to help her commit suicide. \\\\\n",
       "\t20 & Sport & Adriano's Chelsea link rejected & Adriano's agent Gilmar Rinaldi has insisted that he has had no contact with Chelsea over the striker.Chelsea were reported to have made inquiries about Inter Milan's 22-year-old Brazilian star. Rinaldi told BBC Sport from Rio de Janeiro: \"I can assure you that Chelsea have had no dealings whatsoever with either me or Adriano. \"Parma and Real Madrid are interested but there's nothing new there. Their interest has been known for some time.\" Adriano has scored 14 goals in 20 Serie A appearances this season. And Chelsea boss Jose Mourinho had claimed that he was in Milan talking to Adriano on the day he is alleged to have held a clandestine meeting with Arsenal defender Ashley Cole. Mourinho said he was \"just practising my Portuguese with him because I don't need strikers\". Rinaldi told BBC Sport: \"I have to say that nobody from Chelsea or any other London club has contacted me. \"If they want to, that's fine. I can tell them what the situation is. \"If Chelsea are interested then they must make an offer.\" Inter are reported to have slapped a price tag in the region of Â£40m on the head of Adriano, who joined them just over a year ago from Parma. Real Madrid view him as a natural replacement for compatriot Ronaldo. But Rinaldi said: \"I cannot give you a price that Inter would accept for Adriano. That's something that would have to be negotiated between the interested clubs.\" \\\\\n",
       "\t21 & Sport & White prepared for battle & Tough-scrummaging prop Julian White is expecting a resurgent Wales to give him a rough ride in England's Six Nations opener in Cardiff on Saturday.The Leicester tight-head is in the form of his life, making the England number three shirt his own. But he knows Wales will put his technique under immense scrutiny. \"The Welsh scrum is a force to be reckoned with,\" he told BBC Sport. \"They have made a lot of changes for the better over the last few years.\" White is also impressed with the Welsh pack's strength in depth. \"Gethin Jenkins is starting at loose-head for them. He has played a bit at tight-head but I think his favoured position is loose-head and he is very good,\" he added. The 31-year-old has made a massive contribution to the England and Leicester cause of late and is arguably the form tight-head prop in the world.He destroyed South Africa's Os du Randt in the scrum at Twickenham last autumn to give England the platform for an impressive 32-16 victory. Leicester, who signed White from Bristol when the West Country side were relegated from the Zurich Premiership in the summer of 2003, have also been aided by White's presence this season. The Tigers are sitting pretty at the top of the Premiership table and have also booked their place in the last eight of the Heineken Cup. \"I am pleased with my form,\" he said. \"But my form is helped by the people I play with at Leicester - people like Martin Johnson and Graham Rowntree. \"It's been a good season so far and to be in the starting XV for the first game of the Six Nations is what every player wants. \"I am delighted with the way things have gone but we have to get it right this weekend.\" White is now one of the more experienced members of the England squad which takes to the field on Saturday. Injuries have taken their toll and coach Andy Robinson has been deprived of Richard Hill, Jonny Wilkinson, Martin Corry, Mike Tindall, Will Greenwood and Stuart Abbott.And with 27 caps and a World Cup winner's medal to his name, White is now in a position to offer his experience to youngsters such as centres Matthew Tait and Jamie Noon. \"I don't know how much experience a tight-head can give a centre but you are there to give them a pat on the back if things go wrong or to be there if they want to talk in any way,\" he added. \"When I first came into the squad, people like Jason Leonard and Martin Johnson were the first to come over and talk through things and help out.\"It gives you a lot of confidence when people like that speak to you. \"I was in awe of a lot of them so to sit down and speak with them and realise you are on the same wavelength is good.\" White missed the vast majority of last year's Six Nations because of a knee injury and is raring for the 2005 event to get going. And that is despite the opening game taking place amid the red-hot atmosphere in Cardiff. \"I enjoy the atmosphere. The Millennium Stadium is probably one of the best stadiums in the world,\" he said. \"To go down there and hear the shouting and the singing - it's one of my favourite places to play. \"This is probably the most even Six Nations for a long time. England, Ireland, France and Wales are all contenders. \"On form, Ireland should be favourites but you just don't know - that's the great thing about this tournament.\" \\\\\n",
       "\t22 & Entertainment & Campaigners attack MTV 'sleaze' & MTV has been criticised for \"incessant sleaze\" by television indecency campaigners in the US.The Parents Television Council (PTC), which monitors violence and sex on TV, said the cable music channel offered the \"cheapest form\" of programming. The group is at the forefront of a vociferous campaign to clean up American television. But a spokeswoman for MTV said it was \"unfair and inaccurate\" to single out MTV for criticism.The PTC monitored MTV's output for 171 hours from 20 March to 27 March 2004, during the channel's Spring Break coverage. In its report - MTV Smut Peddlers: Targeting Kids with Sex, Drugs and Alcohol - the PTC said it witnessed 3,056 flashes of nudity or sexual situations and 2,881 verbal references to sex. Brent Bozell, PTC president and conservative activist said: \"MTV is blatantly selling raunchy sex to kids. \"Compared to broadcast television programmes aimed at adults, MTV's programming contains substantially more sex, foul language and violence - and MTV's shows are aimed at children as young as 12. \"There's no question that TV influences the attitudes and perceptions of young viewers, and MTV is deliberately marketing its raunch to millions of innocent children.\"The watchdog decided to look at MTV's programmes after Janet Jackson's infamous \"wardrobe malfunction\" at last year's Super Bowl. The breast-baring incident generated 500,000 complaints and CBS - which is owned by the same parent company as MTV - was quick to apologise. MTV spokeswoman Jeannie Kedas said the network follows the same standards as broadcasters and reflects the culture and what its viewers are interested in. \"It's unfair and inaccurate to paint MTV with that brush of irresponsibility,\" she said. \"We think it's underestimating young people's intellect and level of sophistication.\" Ms Kedas also highlighted the fact MTV won an award in 2004 for the Fight for Your Rights series that focused on issues such as sexual health and tolerance. \\\\\n",
       "\t23 & Entertainment & Douglas set for Indian adventure & Actor Michael Douglas is to co-produce and star in an adventure film about a diamond robbery set in India.The new picture is expected to be similar to Douglas's action films of the 1980s, Romancing The Stone and The Jewel Of The Nile. Another Hollywood star is being lined up to co-star, while the rest of the cast will be Indian. Aishwarya Rai, star of Bride and Prejudice, is the \"preferred choice\" of the Indian studio involved in the film.On a visit to India, the 60-year-old actor said he hoped to start shooting Racing The Monsoon next year. Douglas added that it had been inspired by a Wall Street Journal article about India's 'angadias', who courier money and diamonds around India.The actor's own production company, Further Films, is working in partnership with two Indian film-making concerns to bring the picture to the screen. Shailendra Singh, the founder of India's Percept Films, said there would be \"a lot of India\" in the movie - and that an Indian train would play a big role. \"The train will be a crucial part of the film. The chase and most of the stunts will be on the train,\" said Mr Singh. Swashbuckling adventure film Romancing The Stone saw Douglas's female co-star Kathleen Turner win a Golden Globe award for her performance in 1985. \\\\\n",
       "\t24 & Sport & Moya emotional after Davis Cup win & Carlos Moya described Spain's Davis Cup victory as the highlight of his career after he beat Andy Roddick to end the USA's challenge in Seville.Moya made up for missing Spain's 2000 victory through injury by beating Roddick 6-2 7-6 (7-1) 7-6 (7-5) to give the hosts an unassailable 3-1 lead. \"I have woken up so many nights dreaming of this day,\" said Moya. \"All my energy has been focused on today. \"What I have lived today I do not think I will live again.\" Spain's only other Davis Cup title came two years ago in Valencia, when they beat Australia. And Moya, nicknamed Charly, admitted: \"The Davis Cup is my dream and I was a bit nervous at the outset. \"Some people have said that I am obsessed but I think that it is better this way. It helps me reach my goals if I am obsessed. \"It's really incredible - to get the winning point is really something.\" Spanish captain Jordi Arrese said: \"Charly played a great game. It was his opportunity and he hasn't let us down. \"He had lost three times to Roddick, and this was his day to beat him. \"He had been waiting years to be in this position.\" Spain's victory was also remarkable for the performance of Rafael Nadal, who beat Roddick in the opening singles.Aged 18 years and 185 days, the Mallorcan became the youngest player to win the Davis Cup. \"What a great way to finish the year,\" said Nadal afterwards. US coach Patrick McEnroe wants Roddick and the rest of his team to play more tennis on clay and hone their skills on the surface. \"I think it will help these guys even on slow hard courts to learn how to mix things up a little bit and to play a little bit smarter and tactically better.\" \"Obviously it's unrealistic to say that we're going to just start playing constantly on clay, with the schedule. \"But certainly I think we can put the work in at the appropriate time and play a couple more events and play against these guys who are the best on this stuff,\" said McEnroe. Roddick was left frustrated after losing both his singles on the slow clay of Seville's Olympic Stadium. \"It's just tough because I felt like I was in it the whole time against one of the top three clay-courters in the world,\" said the American. \"I had my chances and just didn't convert them. The bottom line is they were just better than us this weekend. \"They came out, took care of business and they beat us. It's as simple as that.\" \\\\\n",
       "\t25 & Tech & Broadband soars in 2004 & If broadband were a jumbo jet, then 2003 would have seen it taxiing down the runway, firing up its engines and preparing for take-off. But this year has seen it soar.In the spring it literally took to the skies as Lufthansa and British Airways trialled it on flights. This perhaps said more about how indispensable people were beginning to perceive the technology, rather than how useful sky-high broadband would actually be. It was flying high and by the autumn, five million Britons had signed up for high-speed net access at home.Such enthusiasm is unlikely to dampen any time soon and experts predict that by the end of next year the numbers will have risen to more than eight million, or more than 30\\% of homes. The two key factors in whetting people's appetite were falling prices and a huge marketing push. When operators such as BT and Telewest offered standard 512K broadband for less than Â£20 at the beginning of the year, it was as if an invisible barrier had been breached - broadband had truly gone mass market. A feeding frenzy followed as firms vied for eyeballs in a price war reminiscent of that following the mass market take-up of dial-up. Broadband for less than Â£10 was even touted by some firms, although such a low price raised eyebrows among more established companies questioning how they are able to sustain such business models.For those who became broadbanders in 2004 there was no turning back and the days of waiting for the modem to kick in began to seem as outdated an idea as a jungle without celebrities. The rest of the world was also falling in love with the benefits of fast internet access, to the tune of 100 million connections worldwide by April, prompting research firm Point Topic to declare it one of the fastest growing technologies ever. By September, the number of broadband connections in the UK finally overtook dial-up and in December BT announced that it was making a new broadband connection every 10 seconds.Broadband was being mentioned on the 10 O'clock News and in the tabloids; the Sun even carried a cartoon joke about it. But two of the most significant pieces of news for broadband were items that did not make the headlines. In May, BT quietly announced that it was shaving 70\\% off the cost of allowing other operators access to its telephone exchanges, so-called local loop unbundling. The vital local loop is the crucial link between telephone exchanges and homes. At the moment BT has a stranglehold on more than 80\\% of these lines making it the key voice in deciding what ADSL products get into homes. With cheaper local loop unbundling, rivals to BT can offer faster services that will leave the broadband of today looking positively tortoise-like. It will mean the UK will finally catch up with countries such as France and the Netherlands, where homes are routinely enjoying speeds of up to 15Mb (megabits per second). And the major price fall means that, rather than just talk about it, companies are actually starting to get their own equipment into BT's exchanges. It may not seem that exciting but it is a remarkable transition given that just a few years ago the arguments over local loop unbundling bore more than a passing resemblance to the Northern Ireland peace talks - fraught, bitter and with no end in sight.Another big piece of news for broadband users in 2004 was the extension of BT's reach, meaning more than 95\\% of the population could get broadband, regardless of how far away from the exchange they lived.There was a slight caveat for those wanting to upgrade to 1Mbps broadband, they still have to live within six kilometres of a broadband-enabled exchange. For thousands frustrated by their inability to get the technology, the news meant they could finally join in. Broadband is not just about fast access over the telephone and cable operators NTL and Telewest also had a bumper year. The biggest news for them was increased speeds, introducing 2Mb and 3Mb services for users and offering a free upgrade to those on 512K. The cable operators are limited in their reach and it is perhaps testament to how big a deal local loop unbundling could become that even they are considering extending their range via this route. Broadband can seem confusing for consumers, with the huge amount of operators offering so many different products, some with capped bandwidth and different length contracts and set-up fees. It is unlikely to get any less easy to understand in 2005 but remains a plane worth catching. As it gets faster and offers extras such as cheap telephone calls online, the only real thing to remember for the coming year is to enjoy the ride. \\\\\n",
       "\t26 & Politics & Howard rebuts asylum criticisms & Tory leader Michael Howard has gone on the offensive in response to people questioning how a son of immigrants can propose asylum quotas.Mr Howard, whose parents fled the Nazi threat to come to the UK, says the claim would mean no-one from an immigrant family could become premier. His comments come in a BBC documentary called 'No More Mr Nasty'. TV presenter Anne Robinson said as home secretary he gave the impression he would \"like to kick your cat\". Ms Robinson, a friend of the Tory leader, also revealed that as a Cambridge student Mr Howard was \"much loved by women and he was a courteous and kind and rather dashing lover\" - although she denied having personal experience. \"I wasn't at Cambridge - and it's not personal experience - but I know people who were.\"Documentary maker Michael Cockerell was given behind-the-scenes access to Mr Howard for his film portrait. The Tory leader was asked about to respond to people who said that if there had there been a quota on immigration and asylum in the 1930s, his parents might not have been allowed into the country.He replies: \"What is the inference of that? \"That if you reach the view that you need to control immigration in the interests of the country you're not allowed to put a view forward if you happen to be descended from immigrants? \"That seems to me an absolutely extraordinary proposition? It would certainly mean no one from immigrant parents could be prime minister.\"Ms Robinson, who presents The Weakest Link tells Cockerell that she despaired at his hardline image when he was home secretary in John Major's government. \"I used to have to sit on my hands because he'd get on television and give a passable impression of someone who'd like to kick your cat or would put your baby in prison if he cried. I mean it was very, very Draconian.\" The film shows Mr Howard laughing at Rory Bremner's impression of him as Dracula, which he calls \"good fun\", apart from the serious falsehood of a comment suggesting he wants fewer black people in the UK. The film shows the private side of the Tory leader watching television at home or playing table tennis with his wife, ex-model Sandra. Asked if she enjoys a game of ping pong she confesses: \"Yeah, it would be more enjoyable if I could win occasionally too, but otherwise it's quite fun.\"Former Downing Street communications chief Alastair Campbell, now working on Labour's election campaign, says a \"touchy-feely\" image does not fit Mr Howard. He says Tony Blair was not worried by his opponents' early performance in their Commons clashes because Mr Howard lacked a \"big strategy\", including on issues like Iraq. The Tory leader brands such criticisms as \"absolutely rubbish\", arguing that he has been consistent on his support for the war but critical of Mr Blair's failure to tell the truth on intelligence. Former Tory chancellor Ken Clarke says Mr Howard has a bigger problem changing perceptions of the Tory party than his personal image. Mr Clarke says the party is improving and it is \"conceivable\" it could win the next election. But he adds: \"It has got to change itself a bit and broaden its appeal.\"- Michael Howard: No More Mr Nasty is being shown on BBC2 on Saturday 12 February at 2005 GMT. \\\\\n",
       "\t27 & Politics & Labour MP praises Tory campaign & The Conservatives have been \"a lot smarter\" in the way they have conducted the general election campaign, a Labour backbencher has said.Derek Wyatt said having a five month campaign \"turned off voters\" and suggested people were already \"rather bored of the thing\". He wants a greater campaigning role for Chancellor Gordon Brown. Labour said the economy was at the heart of the campaign and Mr Brown therefore had a prominent role. But Mr Wyatt argued: \"By some way, he is currently the figure in all of the polls that people trust and see that has delivered over eight years an economy unmatched anywhere in the world. \"So, it would be a tad foolish of the Labour Party if we did not use him as we have done over the past three elections.\"Labour's election chief Alan Milburn denied there was an attempt to sideline Mr Brown after facing criticism for letting the Tories set the agenda. However, Mr Wyatt predicted the campaign would get under way properly once the chancellor delivered his budget. The MP for Sittingbourne and Sheppey said Prime Minister Tony Blair had been \"trying very hard\" to improve his own standing with the electorate through a \"sort of campaign of trust\". But Mr Blair had been \"hurt\" by the Iraq controversy, he added. A Labour party spokesman played down differences with Mr Wyatt and said Mr Brown already had a prominent campaign role. \"This election is a choice between Labour taking Britain forward and the Conservatives taking us back.\" \\\\\n",
       "\t28 & Tech & Court mulls file-sharing future & Judges at the US Supreme Court have been hearing evidence for and against file-sharing networks.The court will decide whether producers of file-sharing software can ultimately be held responsible for copyright infringement. They questioned if opening the way for the entertainment industry to sue file-sharers could deter innovation. They also said that file-trading firms had some responsibility for inducing people to piracy.The lawsuit, brought by 28 of the world's largest entertainment firms, has raged for several years. Legal experts agree that if the Supreme Court finds in favour of the music and movie industry they would be able to sue file-trading firms into bankruptcy. But if the judge rules that Grokster and Morpheus - the file-sharers at the centre of the case - are merely providers of technology that can have legitimate as well as illegitimate uses, then the music and movie industry would be forced to abandon its pursuit of file-sharing providers. Instead, they would have to pursue individuals who use peer-to-peer networks to get their hands on free music and movies. The hi-tech and entertainment industries have been divided on the issue. Intel filed a document with the Supreme Court earlier this month in defence of Grokster and others, despite misgivings about some aspects of the file-sharing community. It summed up the attitude of many tech firms in its submission which states that its products \"are essentially tools, that like any other tools, capable of being used by consumers and businesses for unlawful purposes\".Asking firms to second-guess the uses that its technologies would be put to, and to build in ways of preventing illegitimate use, would stifle innovation, it said. The Electronic Frontier Foundation, a civil rights watchdog, is also defending StreamCast Networks, the company behind the Morpheus file-sharing software. The case raises a question of critical importance at the border between copyright and innovation, it said. It cites, as do many, the landmark ruling in 1984 which found that Sony should not be held responsible for the fact that its Betamax video recorder could be used for piracy. Defenders remain optimistic that the judges will rule in favour of the peer-to-peer networks, upholding the precedent set by the Sony Betamax case. A small band of supporters were outside the court as the lawyers entered, wearing \"Save Betamax\" t-shirts. \"The Betamax principles stand as the Magna Carta for the technology industry and are responsible for the explosion in innovation that has occurred in the US over the past 20 years,\" said Gary Shapiro, chief executive of the Consumer Electronics Association. Supreme Court Justice Stephen Breyer said that inventions from printing to Apple's iPod could be used to illegally duplicate copyrighted materials but had, on balance, been beneficial to society. He said that while file-trading software can be used to illegally trade movies and music, conceptually the technology had \"some really excellent uses\".Based on Tuesday's hearing it seems unlikely that the Betamax ruling will be overturned but file-sharing firms might still be held responsible for encouraging or inducing piracy. Grokster's lawyer argued that the company should be judged by its current behaviour rather than what it did when it first set up. But this argument was dismissed as \"ridiculous\" by Justice David Souter. CEA boss Mr Shapiro thinks the case is the most important that the Supreme Court will hear this year. \"It's about preserving America's proud history of technological innovation and protecting the ability of consumers to access and utilise technology,\" he said. The case has already been heard by two lower courts and both found in favour of the peer-to-peer networks. They ruled that despite being used to distribute millions of illegal songs, file-sharing could also be used to cheaply distribute software, government documents and promotional copies of music. \\\\\n",
       "\t29 & Politics & Tory expert denies defeatism & The Conservatives' campaign director has denied a report claiming he warned Michael Howard the party could not win the next general election.The Times on Monday said Australian Lynton Crosby told the party leader to focus on trying to increase the Tories' Commons presence by 25 to 30 seats. But Mr Crosby said in a statement: \"I have never had any such conversation... and I do not hold that view.\" Mr Howard later added there was not \"one iota\" of truth in the report. The strategist helped Australia's PM, John Howard, win four elections. Mr Howard appointed Mr Crosby as his elections chief last October. Mr Crosby's statement said: \"The Conservative Party has been making an impact on the issues of lower tax and controlled immigration over the past week.\" It added: \"The Labour Party will be wanting to do all they can to distract attention away from the issues that really matter to people.\" \\\\\n",
       "\t30 & Politics & UK 'needs true immigration data' & A former Home Office minister has called for an independent body to be set up to monitor UK immigration.Barbara Roche said an organisation should monitor and publish figures and be independent of government. She said this would counter \"so-called independent\" groups like Migration Watch, which she described as an anti-immigration body posing as independent. Migration Watch says it is not against all immigration and the government already publishes accurate figures. Sir Andrew Green, chairman of the organisation, says there is no need for an independent body because Office of National Statistics data are accurate. He says he opposes large-scale immigration \"both on the grounds of overcrowding and culture\".He said: \"For example, over the next 20 years one household in three will be due to immigration. \"We are already more overcrowded than India and we are four times more overcrowded than France.\" Ms Roche, Labour MP for Hornsey and Wood Green, believes legal migration is something we should welcome. She said her proposals mean \"we wouldn't have so-called independent experts, like Migration Watch, who come into this debate from an anti-immigration point of view.\" She went on: \"What I would like to see is there being a body which actually looked at the figures, published them, and was independent of government. \"I think that would go a long way to allaying some of the fears that are sometimes whipped up during this debate.\" \\\\\n",
       "\t$\\dots$ & $\\dots$ & $\\dots$ & $\\dots$ \\\\\n",
       "\\end{tabular}\n"
      ],
      "text/plain": [
       "50×3 DataFrame. Omitted printing of 1 columns\n",
       "│ Row │ topic         │ heading                               │\n",
       "│     │ \u001b[90mString\u001b[39m        │ \u001b[90mString\u001b[39m                                │\n",
       "├─────┼───────────────┼───────────────────────────────────────┤\n",
       "│ 1   │ Entertainment │ Animation charms Japan box office     │\n",
       "│ 2   │ Tech          │ Satellite mapping aids Darfur relief  │\n",
       "│ 3   │ Tech          │ 'Evil twin' fear for wireless net     │\n",
       "│ 4   │ Business      │ US bank in $515m SEC settlement       │\n",
       "│ 5   │ Sport         │ Ronaldo considering new contract      │\n",
       "│ 6   │ Business      │ Arsenal 'may seek full share listing' │\n",
       "│ 7   │ Business      │ US insurer Marsh cuts 2,500 jobs      │\n",
       "│ 8   │ Sport         │ Robinson out of Six Nations           │\n",
       "│ 9   │ Business      │ S Korean consumers spending again     │\n",
       "│ 10  │ Business      │ S Korean lender faces liquidation     │\n",
       "⋮\n",
       "│ 40  │ Business      │ Lacroix label bought by US firm       │\n",
       "│ 41  │ Business      │ Liberian economy starts to grow       │\n",
       "│ 42  │ Tech          │ Gizmondo gadget hits the shelves      │\n",
       "│ 43  │ Politics      │ Howard denies split over ID cards     │\n",
       "│ 44  │ Business      │ ECB holds rates amid growth fears     │\n",
       "│ 45  │ Business      │ Fiat chief takes steering wheel       │\n",
       "│ 46  │ Politics      │ End Bush 'denial' Blair tells EU      │\n",
       "│ 47  │ Politics      │ Economy focus for election battle     │\n",
       "│ 48  │ Tech          │ Broadband steams ahead in the US      │\n",
       "│ 49  │ Sport         │ Holmes feted with further honour      │\n",
       "│ 50  │ Business      │ European losses hit GM's profits      │"
      ]
     },
     "execution_count": 16,
     "metadata": {},
     "output_type": "execute_result"
    }
   ],
   "source": [
    "test_docs = DataFrames.DataFrame(topic = [topic for topic ∈ pd_test_docs.topic], \n",
    "    heading = [heading for heading ∈ pd_test_docs.heading], \n",
    "    article = [article for article ∈ pd_test_docs.article])"
   ]
  },
  {
   "cell_type": "code",
   "execution_count": 17,
   "metadata": {},
   "outputs": [
    {
     "data": {
      "text/plain": [
       "((2175, 3), (50, 3))"
      ]
     },
     "execution_count": 17,
     "metadata": {},
     "output_type": "execute_result"
    }
   ],
   "source": [
    "size(train_docs), size(test_docs)"
   ]
  },
  {
   "cell_type": "code",
   "execution_count": 18,
   "metadata": {
    "ExecuteTime": {
     "end_time": "2021-04-25T21:52:28.621570Z",
     "start_time": "2021-04-25T21:52:28.612418Z"
    },
    "slideshow": {
     "slide_type": "fragment"
    }
   },
   "outputs": [
    {
     "data": {
      "text/html": [
       "<table class=\"data-frame\"><thead><tr><th></th><th>topic</th><th>nrow</th></tr><tr><th></th><th>String</th><th>Int64</th></tr></thead><tbody><p>5 rows × 2 columns</p><tr><th>1</th><td>Sport</td><td>12</td></tr><tr><th>2</th><td>Business</td><td>11</td></tr><tr><th>3</th><td>Entertainment</td><td>9</td></tr><tr><th>4</th><td>Tech</td><td>9</td></tr><tr><th>5</th><td>Politics</td><td>9</td></tr></tbody></table>"
      ],
      "text/latex": [
       "\\begin{tabular}{r|cc}\n",
       "\t& topic & nrow\\\\\n",
       "\t\\hline\n",
       "\t& String & Int64\\\\\n",
       "\t\\hline\n",
       "\t1 & Sport & 12 \\\\\n",
       "\t2 & Business & 11 \\\\\n",
       "\t3 & Entertainment & 9 \\\\\n",
       "\t4 & Tech & 9 \\\\\n",
       "\t5 & Politics & 9 \\\\\n",
       "\\end{tabular}\n"
      ],
      "text/plain": [
       "5×2 DataFrame\n",
       "│ Row │ topic         │ nrow  │\n",
       "│     │ \u001b[90mString\u001b[39m        │ \u001b[90mInt64\u001b[39m │\n",
       "├─────┼───────────────┼───────┤\n",
       "│ 1   │ Sport         │ 12    │\n",
       "│ 2   │ Business      │ 11    │\n",
       "│ 3   │ Entertainment │ 9     │\n",
       "│ 4   │ Tech          │ 9     │\n",
       "│ 5   │ Politics      │ 9     │"
      ]
     },
     "execution_count": 18,
     "metadata": {},
     "output_type": "execute_result"
    }
   ],
   "source": [
    "value_counts(df, col) = combine(DataFrames.groupby(df, col), nrow)\n",
    "\n",
    "sort!(value_counts(test_docs, :topic), :nrow, rev=true)"
   ]
  },
  {
   "cell_type": "markdown",
   "metadata": {
    "slideshow": {
     "slide_type": "slide"
    }
   },
   "source": [
    "### Vectorize train & test sets"
   ]
  },
  {
   "cell_type": "code",
   "execution_count": 19,
   "metadata": {
    "ExecuteTime": {
     "end_time": "2021-04-25T21:52:29.032778Z",
     "start_time": "2021-04-25T21:52:28.622630Z"
    },
    "slideshow": {
     "slide_type": "fragment"
    }
   },
   "outputs": [
    {
     "name": "stderr",
     "output_type": "stream",
     "text": [
      "C:\\Users\\Amirreza\\.julia\\conda\\3\\lib\\site-packages\\sklearn\\utils\\deprecation.py:87: FutureWarning: Function get_feature_names is deprecated; get_feature_names is deprecated in 1.0 and will be removed in 1.2. Please use get_feature_names_out instead.\r\n",
      "  warnings.warn(msg, category=FutureWarning)\r\n"
     ]
    },
    {
     "data": {
      "text/plain": [
       "PyObject <2175x2000 sparse matrix of type '<class 'numpy.int64'>'\n",
       "\twith 178701 stored elements in Compressed Sparse Row format>"
      ]
     },
     "execution_count": 19,
     "metadata": {},
     "output_type": "execute_result"
    }
   ],
   "source": [
    "vectorizer = CountVectorizer(max_df=0.2, min_df=3, stop_words=\"english\", max_features=2000)\n",
    "\n",
    "train_dtm = vectorizer.fit_transform(train_docs.article)\n",
    "words_list = vectorizer.get_feature_names()\n",
    "train_dtm"
   ]
  },
  {
   "cell_type": "code",
   "execution_count": 20,
   "metadata": {
    "ExecuteTime": {
     "end_time": "2021-04-25T21:52:29.046231Z",
     "start_time": "2021-04-25T21:52:29.033869Z"
    },
    "scrolled": true,
    "slideshow": {
     "slide_type": "fragment"
    }
   },
   "outputs": [
    {
     "data": {
      "text/plain": [
       "PyObject <50x2000 sparse matrix of type '<class 'numpy.int64'>'\n",
       "\twith 4045 stored elements in Compressed Sparse Row format>"
      ]
     },
     "execution_count": 20,
     "metadata": {},
     "output_type": "execute_result"
    }
   ],
   "source": [
    "test_dtm = vectorizer.transform(test_docs.article)\n",
    "test_dtm"
   ]
  },
  {
   "cell_type": "markdown",
   "metadata": {
    "slideshow": {
     "slide_type": "slide"
    }
   },
   "source": [
    "## LDA with gensim"
   ]
  },
  {
   "cell_type": "markdown",
   "metadata": {
    "slideshow": {
     "slide_type": "fragment"
    }
   },
   "source": [
    "### Using `CountVectorizer` Input"
   ]
  },
  {
   "cell_type": "code",
   "execution_count": 21,
   "metadata": {
    "ExecuteTime": {
     "end_time": "2021-04-25T21:52:29.453031Z",
     "start_time": "2021-04-25T21:52:29.047292Z"
    },
    "scrolled": true,
    "slideshow": {
     "slide_type": "fragment"
    }
   },
   "outputs": [
    {
     "data": {
      "text/plain": [
       "318-element Vector{String15}:\n",
       " \"about\"\n",
       " \"above\"\n",
       " \"across\"\n",
       " \"after\"\n",
       " \"afterwards\"\n",
       " \"again\"\n",
       " \"against\"\n",
       " \"all\"\n",
       " \"almost\"\n",
       " \"alone\"\n",
       " \"along\"\n",
       " \"already\"\n",
       " \"also\"\n",
       " ⋮\n",
       " \"why\"\n",
       " \"will\"\n",
       " \"with\"\n",
       " \"within\"\n",
       " \"without\"\n",
       " \"would\"\n",
       " \"yet\"\n",
       " \"you\"\n",
       " \"your\"\n",
       " \"yours\"\n",
       " \"yourself\"\n",
       " \"yourselves\""
      ]
     },
     "execution_count": 21,
     "metadata": {},
     "output_type": "execute_result"
    }
   ],
   "source": [
    "file = CSV.File(download(\"http://ir.dcs.gla.ac.uk/resources/linguistic_utils/stop_words\"))\n",
    "df = DataFrames.DataFrame(file)\n",
    "rename!(df, [\"stopwords\"])\n",
    "stop_words = df.stopwords"
   ]
  },
  {
   "cell_type": "code",
   "execution_count": 22,
   "metadata": {
    "ExecuteTime": {
     "end_time": "2021-04-25T21:52:29.903869Z",
     "start_time": "2021-04-25T21:52:29.454952Z"
    },
    "slideshow": {
     "slide_type": "fragment"
    }
   },
   "outputs": [
    {
     "data": {
      "text/plain": [
       "PyObject <50x2000 sparse matrix of type '<class 'numpy.int64'>'\n",
       "\twith 4045 stored elements in Compressed Sparse Row format>"
      ]
     },
     "execution_count": 22,
     "metadata": {},
     "output_type": "execute_result"
    }
   ],
   "source": [
    "max_df = 0.2\n",
    "min_df = 3\n",
    "max_features = 2000\n",
    "vectorizer = CountVectorizer(max_df=max_df, min_df=min_df, stop_words=\"english\", max_features=max_features)\n",
    "\n",
    "train_dtm = vectorizer.fit_transform(train_docs.article)\n",
    "test_dtm = vectorizer.transform(test_docs.article)"
   ]
  },
  {
   "cell_type": "markdown",
   "metadata": {},
   "source": [
    "### Convert sklearn DTM to gensim data structures"
   ]
  },
  {
   "cell_type": "markdown",
   "metadata": {},
   "source": [
    "It faciltiates the conversion of DTM produced by sklearn to gensim data structures as follows:"
   ]
  },
  {
   "cell_type": "code",
   "execution_count": 23,
   "metadata": {
    "ExecuteTime": {
     "end_time": "2021-04-25T21:52:29.908984Z",
     "start_time": "2021-04-25T21:52:29.904928Z"
    },
    "slideshow": {
     "slide_type": "slide"
    }
   },
   "outputs": [
    {
     "data": {
      "text/plain": [
       "PyObject <gensim.matutils.Sparse2Corpus object at 0x0000000000E19130>"
      ]
     },
     "execution_count": 23,
     "metadata": {},
     "output_type": "execute_result"
    }
   ],
   "source": [
    "train_corpus = Sparse2Corpus(train_dtm, documents_columns=false)\n",
    "test_corpus = Sparse2Corpus(test_dtm, documents_columns=false)"
   ]
  },
  {
   "cell_type": "code",
   "execution_count": 24,
   "metadata": {},
   "outputs": [],
   "source": [
    "id2word = Dict()\n",
    "words_list = vectorizer.get_feature_names()\n",
    "for i ∈ 0:(length(words_list)-1)\n",
    "    id2word[i] = words_list[i+1]\n",
    "end"
   ]
  },
  {
   "cell_type": "code",
   "execution_count": 25,
   "metadata": {
    "scrolled": true
   },
   "outputs": [
    {
     "data": {
      "text/plain": [
       "Dict{Any, Any} with 2000 entries:\n",
       "  1144 => \"mean\"\n",
       "  1175 => \"minutes\"\n",
       "  1953 => \"wider\"\n",
       "  719  => \"female\"\n",
       "  1546 => \"round\"\n",
       "  1703 => \"staff\"\n",
       "  1956 => \"williams\"\n",
       "  1028 => \"land\"\n",
       "  699  => \"fast\"\n",
       "  831  => \"green\"\n",
       "  1299 => \"parliament\"\n",
       "  1438 => \"putting\"\n",
       "  1074 => \"list\"\n",
       "  319  => \"caused\"\n",
       "  687  => \"failure\"\n",
       "  1812 => \"think\"\n",
       "  1199 => \"mp\"\n",
       "  185  => \"audience\"\n",
       "  823  => \"got\"\n",
       "  1090 => \"lord\"\n",
       "  420  => \"concert\"\n",
       "  1370 => \"possible\"\n",
       "  1437 => \"pushed\"\n",
       "  1662 => \"society\"\n",
       "  1991 => \"xbox\"\n",
       "  ⋮    => ⋮"
      ]
     },
     "execution_count": 25,
     "metadata": {},
     "output_type": "execute_result"
    }
   ],
   "source": [
    "id2word"
   ]
  },
  {
   "cell_type": "markdown",
   "metadata": {
    "slideshow": {
     "slide_type": "slide"
    }
   },
   "source": [
    "### Train Model & Review Results"
   ]
  },
  {
   "cell_type": "code",
   "execution_count": 26,
   "metadata": {
    "ExecuteTime": {
     "end_time": "2021-04-25T21:52:32.023411Z",
     "start_time": "2021-04-25T21:52:29.910170Z"
    }
   },
   "outputs": [],
   "source": [
    "LdaModel(corpus=train_corpus, \n",
    "         num_topics=100, \n",
    "         id2word=nothing, \n",
    "         distributed=false, \n",
    "         chunksize=2000,                   # Number of documents to be used in each training chunk.\n",
    "         passes=1,                         # Number of passes through the corpus during training\n",
    "         update_every=1,                   # Number of docs to be iterated through for each update\n",
    "         alpha=\"symmetric\", \n",
    "         eta=nothing,                         # a-priori belief on word probability\n",
    "         decay=0.5,                        # percentage of previous lambda forgotten when new document is examined\n",
    "         offset=1.0,                       # controls slow down of the first steps the first few iterations.\n",
    "         eval_every=10,                    # estimate log perplexity\n",
    "         iterations=50,                    # Maximum number of iterations through the corpus\n",
    "         gamma_threshold=0.001,            # Minimum change in the value of the gamma parameters to continue iterating\n",
    "         minimum_probability=0.01,         # Topics with a probability lower than this threshold will be filtered out\n",
    "         random_state=nothing, \n",
    "         ns_conf=nothing, \n",
    "         minimum_phi_value=0.01,           # if `per_word_topics` is True, represents lower bound on term probabilities\n",
    "         per_word_topics=false,            #  If True, compute a list of most likely topics for each word with phi values multiplied by word count\n",
    "         callbacks=nothing);"
   ]
  },
  {
   "cell_type": "code",
   "execution_count": 27,
   "metadata": {
    "ExecuteTime": {
     "end_time": "2021-04-25T21:52:32.026437Z",
     "start_time": "2021-04-25T21:52:32.024368Z"
    }
   },
   "outputs": [
    {
     "data": {
      "text/plain": [
       "5-element Vector{String}:\n",
       " \"Topic 1\"\n",
       " \"Topic 2\"\n",
       " \"Topic 3\"\n",
       " \"Topic 4\"\n",
       " \"Topic 5\""
      ]
     },
     "execution_count": 27,
     "metadata": {},
     "output_type": "execute_result"
    }
   ],
   "source": [
    "num_topics = 5\n",
    "topic_labels = [\"Topic \" * string(i) for i ∈ 1:num_topics]"
   ]
  },
  {
   "cell_type": "code",
   "execution_count": 28,
   "metadata": {
    "ExecuteTime": {
     "end_time": "2021-04-25T21:52:33.090786Z",
     "start_time": "2021-04-25T21:52:32.027511Z"
    },
    "slideshow": {
     "slide_type": "fragment"
    }
   },
   "outputs": [
    {
     "data": {
      "text/plain": [
       "PyObject <gensim.models.ldamodel.LdaModel object at 0x0000000092D77D00>"
      ]
     },
     "execution_count": 28,
     "metadata": {},
     "output_type": "execute_result"
    }
   ],
   "source": [
    "lda_gensim = LdaModel(corpus=train_corpus, num_topics=num_topics, id2word=id2word)"
   ]
  },
  {
   "cell_type": "code",
   "execution_count": 29,
   "metadata": {
    "ExecuteTime": {
     "end_time": "2021-04-25T21:52:33.095280Z",
     "start_time": "2021-04-25T21:52:33.091733Z"
    },
    "slideshow": {
     "slide_type": "fragment"
    }
   },
   "outputs": [
    {
     "data": {
      "text/plain": [
       "(0, \"0.008*\\\"election\\\" + 0.008*\\\"party\\\" + 0.008*\\\"labour\\\" + 0.006*\\\"kennedy\\\" + 0.005*\\\"tax\\\" + 0.005*\\\"plans\\\" + 0.004*\\\"services\\\" + 0.004*\\\"says\\\" + 0.004*\\\"women\\\" + 0.004*\\\"bt\\\"\")"
      ]
     },
     "execution_count": 29,
     "metadata": {},
     "output_type": "execute_result"
    }
   ],
   "source": [
    "topics = lda_gensim.print_topics()\n",
    "topics[1]"
   ]
  },
  {
   "cell_type": "markdown",
   "metadata": {
    "slideshow": {
     "slide_type": "slide"
    }
   },
   "source": [
    "### Evaluate Topic Coherence\n",
    "\n",
    "Topic Coherence measures whether the words in a topic tend to co-occur together. \n",
    "\n",
    "- It adds up a score for each distinct pair of top ranked words. \n",
    "- The score is the log of the probability that a document containing at least one instance of the higher-ranked word also contains at least one instance of the lower-ranked word.\n",
    "\n",
    "Large negative values indicate words that don't co-occur often; values closer to zero indicate that words tend to co-occur more often."
   ]
  },
  {
   "cell_type": "code",
   "execution_count": 30,
   "metadata": {
    "ExecuteTime": {
     "end_time": "2021-04-25T21:52:33.165123Z",
     "start_time": "2021-04-25T21:52:33.096559Z"
    },
    "scrolled": true,
    "slideshow": {
     "slide_type": "fragment"
    }
   },
   "outputs": [
    {
     "data": {
      "text/plain": [
       "(Tuple{PyObject, String}[(PyObject 0.0066808234, \"music\"), (PyObject 0.0063066925, \"game\"), (PyObject 0.005950058, \"games\"), (PyObject 0.0054264264, \"won\"), (PyObject 0.0048059043, \"best\"), (PyObject 0.004544934, \"england\"), (PyObject 0.004486955, \"win\"), (PyObject 0.004020938, \"film\"), (PyObject 0.003953632, \"play\"), (PyObject 0.003775652, \"director\"), (PyObject 0.0036320197, \"london\"), (PyObject 0.0035343666, \"la\"), (PyObject 0.0033511913, \"including\"), (PyObject 0.0033464136, \"market\"), (PyObject 0.0033164416, \"players\"), (PyObject 0.003227504, \"british\"), (PyObject 0.003120488, \"10\"), (PyObject 0.0029117016, \"second\"), (PyObject 0.0028897738, \"really\"), (PyObject 0.002787885, \"great\")], -1.8839122512294317)"
      ]
     },
     "execution_count": 30,
     "metadata": {},
     "output_type": "execute_result"
    }
   ],
   "source": [
    "coherence = lda_gensim.top_topics(corpus=train_corpus, coherence=\"u_mass\")\n",
    "coherence[1]"
   ]
  },
  {
   "cell_type": "code",
   "execution_count": 31,
   "metadata": {
    "scrolled": true
   },
   "outputs": [
    {
     "data": {
      "text/plain": [
       "(Any[(\"0.67%\", \"music\"), (\"0.63%\", \"game\"), (\"0.6%\", \"games\"), (\"0.54%\", \"won\"), (\"0.48%\", \"best\"), (\"0.45%\", \"england\"), (\"0.45%\", \"win\"), (\"0.4%\", \"film\"), (\"0.4%\", \"play\"), (\"0.38%\", \"director\"), (\"0.36%\", \"london\"), (\"0.35%\", \"la\"), (\"0.34%\", \"including\"), (\"0.33%\", \"market\"), (\"0.33%\", \"players\"), (\"0.32%\", \"british\"), (\"0.31%\", \"10\"), (\"0.29%\", \"second\"), (\"0.29%\", \"really\"), (\"0.28%\", \"great\")], -1.8839122512294317)"
      ]
     },
     "execution_count": 31,
     "metadata": {},
     "output_type": "execute_result"
    }
   ],
   "source": [
    "coherence_clean = []\n",
    "for row ∈ coherence\n",
    "    pair_list, score = row[1], row[2]\n",
    "    row_i_list = []\n",
    "    for pair_tuple ∈ pair_list\n",
    "        prob = string(round(convert(Float64, pair_tuple[1])*100; digits=2)) * \"%\"\n",
    "        term = pair_tuple[2]\n",
    "        push!(row_i_list, (prob, term))\n",
    "    end\n",
    "    push!(coherence_clean, (row_i_list, score))\n",
    "end\n",
    "\n",
    "coherence_clean[1]"
   ]
  },
  {
   "cell_type": "markdown",
   "metadata": {},
   "source": [
    "Gensim permits topic coherence evaluation that produces the topic coherence and shows the most important words per topic: "
   ]
  },
  {
   "cell_type": "code",
   "execution_count": 32,
   "metadata": {
    "ExecuteTime": {
     "end_time": "2021-04-25T21:52:33.289360Z",
     "start_time": "2021-04-25T21:52:33.166273Z"
    },
    "scrolled": true,
    "slideshow": {
     "slide_type": "slide"
    }
   },
   "outputs": [
    {
     "name": "stdout",
     "output_type": "stream",
     "text": [
      "20×5 DataFrame\n",
      "│ Row │ Topic 1                │ Topic 2                │\n",
      "│     │ \u001b[90mTuple{String, String}\u001b[39m  │ \u001b[90mTuple{String, String}\u001b[39m  │\n",
      "├─────┼────────────────────────┼────────────────────────┤\n",
      "│ 1   │ (\"0.67%\", \"music\")     │ (\"0.65%\", \"best\")      │\n",
      "│ 2   │ (\"0.63%\", \"game\")      │ (\"0.49%\", \"game\")      │\n",
      "│ 3   │ (\"0.6%\", \"games\")      │ (\"0.47%\", \"club\")      │\n",
      "│ 4   │ (\"0.54%\", \"won\")       │ (\"0.46%\", \"think\")     │\n",
      "│ 5   │ (\"0.48%\", \"best\")      │ (\"0.43%\", \"good\")      │\n",
      "│ 6   │ (\"0.45%\", \"england\")   │ (\"0.41%\", \"win\")       │\n",
      "│ 7   │ (\"0.45%\", \"win\")       │ (\"0.4%\", \"rates\")      │\n",
      "│ 8   │ (\"0.4%\", \"film\")       │ (\"0.39%\", \"really\")    │\n",
      "│ 9   │ (\"0.4%\", \"play\")       │ (\"0.36%\", \"match\")     │\n",
      "│ 10  │ (\"0.38%\", \"director\")  │ (\"0.35%\", \"won\")       │\n",
      "│ 11  │ (\"0.36%\", \"london\")    │ (\"0.34%\", \"bank\")      │\n",
      "│ 12  │ (\"0.35%\", \"la\")        │ (\"0.34%\", \"open\")      │\n",
      "│ 13  │ (\"0.34%\", \"including\") │ (\"0.34%\", \"liverpool\") │\n",
      "│ 14  │ (\"0.33%\", \"market\")    │ (\"0.33%\", \"players\")   │\n",
      "│ 15  │ (\"0.33%\", \"players\")   │ (\"0.3%\", \"play\")       │\n",
      "│ 16  │ (\"0.32%\", \"british\")   │ (\"0.3%\", \"didn\")       │\n",
      "│ 17  │ (\"0.31%\", \"10\")        │ (\"0.3%\", \"took\")       │\n",
      "│ 18  │ (\"0.29%\", \"second\")    │ (\"0.3%\", \"got\")        │\n",
      "│ 19  │ (\"0.29%\", \"really\")    │ (\"0.29%\", \"old\")       │\n",
      "│ 20  │ (\"0.28%\", \"great\")     │ (\"0.29%\", \"months\")    │\n",
      "\n",
      "│ Row │ Topic 3                 │ Topic 4                │\n",
      "│     │ \u001b[90mTuple{String, String}\u001b[39m   │ \u001b[90mTuple{String, String}\u001b[39m  │\n",
      "├─────┼─────────────────────────┼────────────────────────┤\n",
      "│ 1   │ (\"0.73%\", \"blair\")      │ (\"0.6%\", \"company\")    │\n",
      "│ 2   │ (\"0.64%\", \"lord\")       │ (\"0.55%\", \"firm\")      │\n",
      "│ 3   │ (\"0.58%\", \"mobile\")     │ (\"0.46%\", \"market\")    │\n",
      "│ 4   │ (\"0.52%\", \"brown\")      │ (\"0.45%\", \"gm\")        │\n",
      "│ 5   │ (\"0.48%\", \"labour\")     │ (\"0.43%\", \"oil\")       │\n",
      "│ 6   │ (\"0.47%\", \"minister\")   │ (\"0.39%\", \"companies\") │\n",
      "│ 7   │ (\"0.45%\", \"technology\") │ (\"0.38%\", \"yukos\")     │\n",
      "│ 8   │ (\"0.43%\", \"use\")        │ (\"0.37%\", \"europe\")    │\n",
      "│ 9   │ (\"0.42%\", \"party\")      │ (\"0.37%\", \"economy\")   │\n",
      "│ 10  │ (\"0.38%\", \"law\")        │ (\"0.37%\", \"2004\")      │\n",
      "│ 11  │ (\"0.38%\", \"users\")      │ (\"0.36%\", \"news\")      │\n",
      "│ 12  │ (\"0.37%\", \"prime\")      │ (\"0.35%\", \"group\")     │\n",
      "│ 13  │ (\"0.36%\", \"home\")       │ (\"0.34%\", \"says\")      │\n",
      "│ 14  │ (\"0.36%\", \"software\")   │ (\"0.33%\", \"fiat\")      │\n",
      "│ 15  │ (\"0.36%\", \"music\")      │ (\"0.33%\", \"film\")      │\n",
      "│ 16  │ (\"0.35%\", \"says\")       │ (\"0.33%\", \"business\")  │\n",
      "│ 17  │ (\"0.34%\", \"secretary\")  │ (\"0.33%\", \"chief\")     │\n",
      "│ 18  │ (\"0.33%\", \"market\")     │ (\"0.33%\", \"president\") │\n",
      "│ 19  │ (\"0.33%\", \"computer\")   │ (\"0.33%\", \"net\")       │\n",
      "│ 20  │ (\"0.33%\", \"data\")       │ (\"0.31%\", \"china\")     │\n",
      "\n",
      "│ Row │ Topic 5               │\n",
      "│     │ \u001b[90mTuple{String, String}\u001b[39m │\n",
      "├─────┼───────────────────────┤\n",
      "│ 1   │ (\"0.83%\", \"election\") │\n",
      "│ 2   │ (\"0.83%\", \"party\")    │\n",
      "│ 3   │ (\"0.76%\", \"labour\")   │\n",
      "│ 4   │ (\"0.55%\", \"kennedy\")  │\n",
      "│ 5   │ (\"0.51%\", \"tax\")      │\n",
      "│ 6   │ (\"0.45%\", \"plans\")    │\n",
      "│ 7   │ (\"0.4%\", \"services\")  │\n",
      "│ 8   │ (\"0.4%\", \"says\")      │\n",
      "│ 9   │ (\"0.39%\", \"women\")    │\n",
      "│ 10  │ (\"0.38%\", \"bt\")       │\n",
      "│ 11  │ (\"0.33%\", \"campaign\") │\n",
      "│ 12  │ (\"0.32%\", \"public\")   │\n",
      "│ 13  │ (\"0.32%\", \"kenteris\") │\n",
      "│ 14  │ (\"0.31%\", \"general\")  │\n",
      "│ 15  │ (\"0.3%\", \"liberal\")   │\n",
      "│ 16  │ (\"0.3%\", \"broadband\") │\n",
      "│ 17  │ (\"0.3%\", \"say\")       │\n",
      "│ 18  │ (\"0.3%\", \"did\")       │\n",
      "│ 19  │ (\"0.29%\", \"want\")     │\n",
      "│ 20  │ (\"0.29%\", \"tories\")   │"
     ]
    }
   ],
   "source": [
    "topic_coherence = []\n",
    "topic_words = DataFrames.DataFrame()\n",
    "\n",
    "for t ∈ 1:length(coherence_clean)\n",
    "    label = topic_labels[t]\n",
    "    push!(topic_coherence, coherence_clean[t][2])\n",
    "    df = DataFrames.DataFrame()\n",
    "    \n",
    "    df[!, label] = [prob_term for prob_term ∈ coherence_clean[t][1]]\n",
    "    topic_words = hcat(topic_words, df)\n",
    "end\n",
    "\n",
    "DataFrames.show(topic_words, allcols=true)"
   ]
  },
  {
   "cell_type": "code",
   "execution_count": 33,
   "metadata": {},
   "outputs": [
    {
     "data": {
      "image/svg+xml": [
       "<?xml version=\"1.0\" encoding=\"utf-8\"?>\n",
       "<svg xmlns=\"http://www.w3.org/2000/svg\" xmlns:xlink=\"http://www.w3.org/1999/xlink\" width=\"600\" height=\"400\" viewBox=\"0 0 2400 1600\">\n",
       "<defs>\n",
       "  <clipPath id=\"clip5600\">\n",
       "    <rect x=\"0\" y=\"0\" width=\"2400\" height=\"1600\"/>\n",
       "  </clipPath>\n",
       "</defs>\n",
       "<path clip-path=\"url(#clip5600)\" d=\"\n",
       "M0 1600 L2400 1600 L2400 0 L0 0  Z\n",
       "  \" fill=\"#ffffff\" fill-rule=\"evenodd\" fill-opacity=\"1\"/>\n",
       "<defs>\n",
       "  <clipPath id=\"clip5601\">\n",
       "    <rect x=\"480\" y=\"0\" width=\"1681\" height=\"1600\"/>\n",
       "  </clipPath>\n",
       "</defs>\n",
       "<path clip-path=\"url(#clip5600)\" d=\"\n",
       "M141.865 1487.47 L2352.76 1487.47 L2352.76 47.2441 L141.865 47.2441  Z\n",
       "  \" fill=\"#ffffff\" fill-rule=\"evenodd\" fill-opacity=\"1\"/>\n",
       "<defs>\n",
       "  <clipPath id=\"clip5602\">\n",
       "    <rect x=\"141\" y=\"47\" width=\"2212\" height=\"1441\"/>\n",
       "  </clipPath>\n",
       "</defs>\n",
       "<polyline clip-path=\"url(#clip5602)\" style=\"stroke:#000000; stroke-width:2; stroke-opacity:0.1; fill:none\" points=\"\n",
       "  427.441,1487.47 427.441,47.2441 \n",
       "  \"/>\n",
       "<polyline clip-path=\"url(#clip5602)\" style=\"stroke:#000000; stroke-width:2; stroke-opacity:0.1; fill:none\" points=\"\n",
       "  837.376,1487.47 837.376,47.2441 \n",
       "  \"/>\n",
       "<polyline clip-path=\"url(#clip5602)\" style=\"stroke:#000000; stroke-width:2; stroke-opacity:0.1; fill:none\" points=\"\n",
       "  1247.31,1487.47 1247.31,47.2441 \n",
       "  \"/>\n",
       "<polyline clip-path=\"url(#clip5602)\" style=\"stroke:#000000; stroke-width:2; stroke-opacity:0.1; fill:none\" points=\"\n",
       "  1657.24,1487.47 1657.24,47.2441 \n",
       "  \"/>\n",
       "<polyline clip-path=\"url(#clip5602)\" style=\"stroke:#000000; stroke-width:2; stroke-opacity:0.1; fill:none\" points=\"\n",
       "  2067.18,1487.47 2067.18,47.2441 \n",
       "  \"/>\n",
       "<polyline clip-path=\"url(#clip5602)\" style=\"stroke:#000000; stroke-width:2; stroke-opacity:0.1; fill:none\" points=\"\n",
       "  141.865,1240.36 2352.76,1240.36 \n",
       "  \"/>\n",
       "<polyline clip-path=\"url(#clip5602)\" style=\"stroke:#000000; stroke-width:2; stroke-opacity:0.1; fill:none\" points=\"\n",
       "  141.865,952.274 2352.76,952.274 \n",
       "  \"/>\n",
       "<polyline clip-path=\"url(#clip5602)\" style=\"stroke:#000000; stroke-width:2; stroke-opacity:0.1; fill:none\" points=\"\n",
       "  141.865,664.184 2352.76,664.184 \n",
       "  \"/>\n",
       "<polyline clip-path=\"url(#clip5602)\" style=\"stroke:#000000; stroke-width:2; stroke-opacity:0.1; fill:none\" points=\"\n",
       "  141.865,376.095 2352.76,376.095 \n",
       "  \"/>\n",
       "<polyline clip-path=\"url(#clip5602)\" style=\"stroke:#000000; stroke-width:2; stroke-opacity:0.1; fill:none\" points=\"\n",
       "  141.865,88.0053 2352.76,88.0053 \n",
       "  \"/>\n",
       "<polyline clip-path=\"url(#clip5600)\" style=\"stroke:#000000; stroke-width:4; stroke-opacity:1; fill:none\" points=\"\n",
       "  141.865,1487.47 2352.76,1487.47 \n",
       "  \"/>\n",
       "<polyline clip-path=\"url(#clip5600)\" style=\"stroke:#000000; stroke-width:4; stroke-opacity:1; fill:none\" points=\"\n",
       "  141.865,1487.47 141.865,47.2441 \n",
       "  \"/>\n",
       "<polyline clip-path=\"url(#clip5600)\" style=\"stroke:#000000; stroke-width:4; stroke-opacity:1; fill:none\" points=\"\n",
       "  427.441,1487.47 427.441,1470.19 \n",
       "  \"/>\n",
       "<polyline clip-path=\"url(#clip5600)\" style=\"stroke:#000000; stroke-width:4; stroke-opacity:1; fill:none\" points=\"\n",
       "  837.376,1487.47 837.376,1470.19 \n",
       "  \"/>\n",
       "<polyline clip-path=\"url(#clip5600)\" style=\"stroke:#000000; stroke-width:4; stroke-opacity:1; fill:none\" points=\"\n",
       "  1247.31,1487.47 1247.31,1470.19 \n",
       "  \"/>\n",
       "<polyline clip-path=\"url(#clip5600)\" style=\"stroke:#000000; stroke-width:4; stroke-opacity:1; fill:none\" points=\"\n",
       "  1657.24,1487.47 1657.24,1470.19 \n",
       "  \"/>\n",
       "<polyline clip-path=\"url(#clip5600)\" style=\"stroke:#000000; stroke-width:4; stroke-opacity:1; fill:none\" points=\"\n",
       "  2067.18,1487.47 2067.18,1470.19 \n",
       "  \"/>\n",
       "<polyline clip-path=\"url(#clip5600)\" style=\"stroke:#000000; stroke-width:4; stroke-opacity:1; fill:none\" points=\"\n",
       "  141.865,1240.36 168.395,1240.36 \n",
       "  \"/>\n",
       "<polyline clip-path=\"url(#clip5600)\" style=\"stroke:#000000; stroke-width:4; stroke-opacity:1; fill:none\" points=\"\n",
       "  141.865,952.274 168.395,952.274 \n",
       "  \"/>\n",
       "<polyline clip-path=\"url(#clip5600)\" style=\"stroke:#000000; stroke-width:4; stroke-opacity:1; fill:none\" points=\"\n",
       "  141.865,664.184 168.395,664.184 \n",
       "  \"/>\n",
       "<polyline clip-path=\"url(#clip5600)\" style=\"stroke:#000000; stroke-width:4; stroke-opacity:1; fill:none\" points=\"\n",
       "  141.865,376.095 168.395,376.095 \n",
       "  \"/>\n",
       "<polyline clip-path=\"url(#clip5600)\" style=\"stroke:#000000; stroke-width:4; stroke-opacity:1; fill:none\" points=\"\n",
       "  141.865,88.0053 168.395,88.0053 \n",
       "  \"/>\n",
       "<g clip-path=\"url(#clip5600)\">\n",
       "<text style=\"fill:#000000; fill-opacity:1; font-family:Arial,Helvetica Neue,Helvetica,sans-serif; font-size:48px; text-anchor:middle;\" transform=\"rotate(0, 427.441, 1541.47)\" x=\"427.441\" y=\"1541.47\">Topic 1</text>\n",
       "</g>\n",
       "<g clip-path=\"url(#clip5600)\">\n",
       "<text style=\"fill:#000000; fill-opacity:1; font-family:Arial,Helvetica Neue,Helvetica,sans-serif; font-size:48px; text-anchor:middle;\" transform=\"rotate(0, 837.376, 1541.47)\" x=\"837.376\" y=\"1541.47\">Topic 2</text>\n",
       "</g>\n",
       "<g clip-path=\"url(#clip5600)\">\n",
       "<text style=\"fill:#000000; fill-opacity:1; font-family:Arial,Helvetica Neue,Helvetica,sans-serif; font-size:48px; text-anchor:middle;\" transform=\"rotate(0, 1247.31, 1541.47)\" x=\"1247.31\" y=\"1541.47\">Topic 3</text>\n",
       "</g>\n",
       "<g clip-path=\"url(#clip5600)\">\n",
       "<text style=\"fill:#000000; fill-opacity:1; font-family:Arial,Helvetica Neue,Helvetica,sans-serif; font-size:48px; text-anchor:middle;\" transform=\"rotate(0, 1657.24, 1541.47)\" x=\"1657.24\" y=\"1541.47\">Topic 4</text>\n",
       "</g>\n",
       "<g clip-path=\"url(#clip5600)\">\n",
       "<text style=\"fill:#000000; fill-opacity:1; font-family:Arial,Helvetica Neue,Helvetica,sans-serif; font-size:48px; text-anchor:middle;\" transform=\"rotate(0, 2067.18, 1541.47)\" x=\"2067.18\" y=\"1541.47\">Topic 5</text>\n",
       "</g>\n",
       "<g clip-path=\"url(#clip5600)\">\n",
       "<text style=\"fill:#000000; fill-opacity:1; font-family:Arial,Helvetica Neue,Helvetica,sans-serif; font-size:48px; text-anchor:end;\" transform=\"rotate(0, 117.865, 1257.86)\" x=\"117.865\" y=\"1257.86\">-4</text>\n",
       "</g>\n",
       "<g clip-path=\"url(#clip5600)\">\n",
       "<text style=\"fill:#000000; fill-opacity:1; font-family:Arial,Helvetica Neue,Helvetica,sans-serif; font-size:48px; text-anchor:end;\" transform=\"rotate(0, 117.865, 969.774)\" x=\"117.865\" y=\"969.774\">-3</text>\n",
       "</g>\n",
       "<g clip-path=\"url(#clip5600)\">\n",
       "<text style=\"fill:#000000; fill-opacity:1; font-family:Arial,Helvetica Neue,Helvetica,sans-serif; font-size:48px; text-anchor:end;\" transform=\"rotate(0, 117.865, 681.684)\" x=\"117.865\" y=\"681.684\">-2</text>\n",
       "</g>\n",
       "<g clip-path=\"url(#clip5600)\">\n",
       "<text style=\"fill:#000000; fill-opacity:1; font-family:Arial,Helvetica Neue,Helvetica,sans-serif; font-size:48px; text-anchor:end;\" transform=\"rotate(0, 117.865, 393.595)\" x=\"117.865\" y=\"393.595\">-1</text>\n",
       "</g>\n",
       "<g clip-path=\"url(#clip5600)\">\n",
       "<text style=\"fill:#000000; fill-opacity:1; font-family:Arial,Helvetica Neue,Helvetica,sans-serif; font-size:48px; text-anchor:end;\" transform=\"rotate(0, 117.865, 105.505)\" x=\"117.865\" y=\"105.505\">0</text>\n",
       "</g>\n",
       "<path clip-path=\"url(#clip5602)\" d=\"\n",
       "M263.468 630.741 L263.468 88.0053 L591.415 88.0053 L591.415 630.741 L263.468 630.741 L263.468 630.741  Z\n",
       "  \" fill=\"#009af9\" fill-rule=\"evenodd\" fill-opacity=\"1\"/>\n",
       "<polyline clip-path=\"url(#clip5602)\" style=\"stroke:#000000; stroke-width:4; stroke-opacity:1; fill:none\" points=\"\n",
       "  263.468,630.741 263.468,88.0053 591.415,88.0053 591.415,630.741 263.468,630.741 \n",
       "  \"/>\n",
       "<path clip-path=\"url(#clip5602)\" d=\"\n",
       "M673.402 723.32 L673.402 88.0053 L1001.35 88.0053 L1001.35 723.32 L673.402 723.32 L673.402 723.32  Z\n",
       "  \" fill=\"#009af9\" fill-rule=\"evenodd\" fill-opacity=\"1\"/>\n",
       "<polyline clip-path=\"url(#clip5602)\" style=\"stroke:#000000; stroke-width:4; stroke-opacity:1; fill:none\" points=\"\n",
       "  673.402,723.32 673.402,88.0053 1001.35,88.0053 1001.35,723.32 673.402,723.32 \n",
       "  \"/>\n",
       "<path clip-path=\"url(#clip5602)\" d=\"\n",
       "M1083.34 910.023 L1083.34 88.0053 L1411.28 88.0053 L1411.28 910.023 L1083.34 910.023 L1083.34 910.023  Z\n",
       "  \" fill=\"#009af9\" fill-rule=\"evenodd\" fill-opacity=\"1\"/>\n",
       "<polyline clip-path=\"url(#clip5602)\" style=\"stroke:#000000; stroke-width:4; stroke-opacity:1; fill:none\" points=\"\n",
       "  1083.34,910.023 1083.34,88.0053 1411.28,88.0053 1411.28,910.023 1083.34,910.023 \n",
       "  \"/>\n",
       "<path clip-path=\"url(#clip5602)\" d=\"\n",
       "M1493.27 1003.69 L1493.27 88.0053 L1821.22 88.0053 L1821.22 1003.69 L1493.27 1003.69 L1493.27 1003.69  Z\n",
       "  \" fill=\"#009af9\" fill-rule=\"evenodd\" fill-opacity=\"1\"/>\n",
       "<polyline clip-path=\"url(#clip5602)\" style=\"stroke:#000000; stroke-width:4; stroke-opacity:1; fill:none\" points=\"\n",
       "  1493.27,1003.69 1493.27,88.0053 1821.22,88.0053 1821.22,1003.69 1493.27,1003.69 \n",
       "  \"/>\n",
       "<path clip-path=\"url(#clip5602)\" d=\"\n",
       "M1903.21 1446.71 L1903.21 88.0053 L2231.15 88.0053 L2231.15 1446.71 L1903.21 1446.71 L1903.21 1446.71  Z\n",
       "  \" fill=\"#009af9\" fill-rule=\"evenodd\" fill-opacity=\"1\"/>\n",
       "<polyline clip-path=\"url(#clip5602)\" style=\"stroke:#000000; stroke-width:4; stroke-opacity:1; fill:none\" points=\"\n",
       "  1903.21,1446.71 1903.21,88.0053 2231.15,88.0053 2231.15,1446.71 1903.21,1446.71 \n",
       "  \"/>\n",
       "<path clip-path=\"url(#clip5600)\" d=\"\n",
       "M1989.93 251.724 L2280.76 251.724 L2280.76 130.764 L1989.93 130.764  Z\n",
       "  \" fill=\"#ffffff\" fill-rule=\"evenodd\" fill-opacity=\"1\"/>\n",
       "<polyline clip-path=\"url(#clip5600)\" style=\"stroke:#000000; stroke-width:4; stroke-opacity:1; fill:none\" points=\"\n",
       "  1989.93,251.724 2280.76,251.724 2280.76,130.764 1989.93,130.764 1989.93,251.724 \n",
       "  \"/>\n",
       "<path clip-path=\"url(#clip5600)\" d=\"\n",
       "M2013.93 215.436 L2157.93 215.436 L2157.93 167.052 L2013.93 167.052 L2013.93 215.436  Z\n",
       "  \" fill=\"#009af9\" fill-rule=\"evenodd\" fill-opacity=\"1\"/>\n",
       "<polyline clip-path=\"url(#clip5600)\" style=\"stroke:#000000; stroke-width:4; stroke-opacity:1; fill:none\" points=\"\n",
       "  2013.93,215.436 2157.93,215.436 2157.93,167.052 2013.93,167.052 2013.93,215.436 \n",
       "  \"/>\n",
       "<g clip-path=\"url(#clip5600)\">\n",
       "<text style=\"fill:#000000; fill-opacity:1; font-family:Arial,Helvetica Neue,Helvetica,sans-serif; font-size:48px; text-anchor:start;\" transform=\"rotate(0, 2181.93, 208.744)\" x=\"2181.93\" y=\"208.744\">y1</text>\n",
       "</g>\n",
       "</svg>\n"
      ]
     },
     "execution_count": 33,
     "metadata": {},
     "output_type": "execute_result"
    }
   ],
   "source": [
    "Plots.bar(topic_labels, topic_coherence)"
   ]
  },
  {
   "cell_type": "markdown",
   "metadata": {
    "slideshow": {
     "slide_type": "slide"
    }
   },
   "source": [
    "### Using `gensim` `Dictionary` "
   ]
  },
  {
   "cell_type": "code",
   "execution_count": 34,
   "metadata": {
    "ExecuteTime": {
     "end_time": "2021-04-25T21:52:35.040648Z",
     "start_time": "2021-04-25T21:52:33.290356Z"
    },
    "scrolled": true,
    "slideshow": {
     "slide_type": "fragment"
    }
   },
   "outputs": [
    {
     "data": {
      "text/plain": [
       "273-element Vector{String}:\n",
       " \"Sky\"\n",
       " \"has\"\n",
       " \"signed\"\n",
       " \"a\"\n",
       " \"major\"\n",
       " \"new\"\n",
       " \"deal\"\n",
       " \"to\"\n",
       " \"broadcast\"\n",
       " \"this\"\n",
       " \"year's\"\n",
       " \"Academy\"\n",
       " \"Awards,\"\n",
       " ⋮\n",
       " \"Jean-Pierre\"\n",
       " \"Jeunet's\"\n",
       " \"A\"\n",
       " \"Very\"\n",
       " \"Long\"\n",
       " \"Engagement\"\n",
       " \"and\"\n",
       " \"the\"\n",
       " \"Ray\"\n",
       " \"Charles\"\n",
       " \"biopic,\"\n",
       " \"Ray.\""
      ]
     },
     "execution_count": 34,
     "metadata": {},
     "output_type": "execute_result"
    }
   ],
   "source": [
    "docs = [[string(s) for s ∈ split(d)] for d ∈ train_docs.article]\n",
    "docs[1]"
   ]
  },
  {
   "cell_type": "code",
   "execution_count": 35,
   "metadata": {
    "scrolled": true
   },
   "outputs": [
    {
     "data": {
      "text/plain": [
       "167-element Vector{String}:\n",
       " \"Sky\"\n",
       " \"signed\"\n",
       " \"a\"\n",
       " \"major\"\n",
       " \"new\"\n",
       " \"deal\"\n",
       " \"broadcast\"\n",
       " \"year's\"\n",
       " \"Academy\"\n",
       " \"Awards,\"\n",
       " \"taking\"\n",
       " \"years\"\n",
       " \"live\"\n",
       " ⋮\n",
       " \"The\"\n",
       " \"Aviator,\"\n",
       " \"Jean-Pierre\"\n",
       " \"Jeunet's\"\n",
       " \"A\"\n",
       " \"Very\"\n",
       " \"Long\"\n",
       " \"Engagement\"\n",
       " \"Ray\"\n",
       " \"Charles\"\n",
       " \"biopic,\"\n",
       " \"Ray.\""
      ]
     },
     "execution_count": 35,
     "metadata": {},
     "output_type": "execute_result"
    }
   ],
   "source": [
    "docs = [[t for t ∈ doc if !(t ∈ stop_words)] for doc ∈ docs]\n",
    "docs[1]"
   ]
  },
  {
   "cell_type": "code",
   "execution_count": 36,
   "metadata": {
    "ExecuteTime": {
     "end_time": "2021-04-25T21:52:35.533850Z",
     "start_time": "2021-04-25T21:52:35.041563Z"
    },
    "slideshow": {
     "slide_type": "fragment"
    }
   },
   "outputs": [],
   "source": [
    "dictionary = Dictionary(docs)\n",
    "dictionary.filter_extremes(no_below=min_df, no_above=max_df, keep_n=max_features)"
   ]
  },
  {
   "cell_type": "code",
   "execution_count": 37,
   "metadata": {
    "ExecuteTime": {
     "end_time": "2021-04-25T21:52:35.665767Z",
     "start_time": "2021-04-25T21:52:35.534747Z"
    },
    "scrolled": true,
    "slideshow": {
     "slide_type": "fragment"
    }
   },
   "outputs": [
    {
     "data": {
      "text/plain": [
       "58-element Vector{Tuple{Int64, Int64}}:\n",
       " (0, 1)\n",
       " (1, 1)\n",
       " (2, 1)\n",
       " (3, 1)\n",
       " (4, 4)\n",
       " (5, 1)\n",
       " (6, 2)\n",
       " (7, 3)\n",
       " (8, 1)\n",
       " (9, 1)\n",
       " (10, 1)\n",
       " (11, 1)\n",
       " (12, 1)\n",
       " ⋮\n",
       " (46, 1)\n",
       " (47, 1)\n",
       " (48, 1)\n",
       " (49, 1)\n",
       " (50, 1)\n",
       " (51, 1)\n",
       " (52, 1)\n",
       " (53, 1)\n",
       " (54, 3)\n",
       " (55, 2)\n",
       " (56, 1)\n",
       " (57, 1)"
      ]
     },
     "execution_count": 37,
     "metadata": {},
     "output_type": "execute_result"
    }
   ],
   "source": [
    "corpus = [dictionary.doc2bow(doc) for doc ∈ docs]\n",
    "corpus[1]"
   ]
  },
  {
   "cell_type": "code",
   "execution_count": 38,
   "metadata": {
    "ExecuteTime": {
     "end_time": "2021-04-25T21:52:35.669154Z",
     "start_time": "2021-04-25T21:52:35.666736Z"
    },
    "slideshow": {
     "slide_type": "fragment"
    }
   },
   "outputs": [
    {
     "name": "stdout",
     "output_type": "stream",
     "text": [
      "Number of unique tokens: 2000 \n",
      "Number of documents: 2175"
     ]
    }
   ],
   "source": [
    "using Printf\n",
    "@printf(\"Number of unique tokens: %d \\n\", length(dictionary))\n",
    "@printf(\"Number of documents: %d\", length(corpus))"
   ]
  },
  {
   "cell_type": "code",
   "execution_count": 39,
   "metadata": {
    "ExecuteTime": {
     "end_time": "2021-04-25T21:52:35.680447Z",
     "start_time": "2021-04-25T21:52:35.670213Z"
    },
    "scrolled": true,
    "slideshow": {
     "slide_type": "slide"
    }
   },
   "outputs": [
    {
     "data": {
      "text/plain": [
       "Dict{Any, Any} with 2000 entries:\n",
       "  1144 => \"looks\"\n",
       "  1175 => \"desire\"\n",
       "  1953 => \"exactly\"\n",
       "  719  => \"travel\"\n",
       "  1546 => \"\\\"At\"\n",
       "  1703 => \"display\"\n",
       "  1956 => \"software.\"\n",
       "  1028 => \"understand\"\n",
       "  699  => \"can't\"\n",
       "  831  => \"Park\"\n",
       "  1299 => \"singer\"\n",
       "  1438 => \"managing\"\n",
       "  1074 => \"offering\"\n",
       "  319  => \"EU\"\n",
       "  687  => \"prime\"\n",
       "  1812 => \"strength\"\n",
       "  1199 => \"agree\"\n",
       "  185  => \"ahead\"\n",
       "  823  => \"sure\"\n",
       "  1090 => \"word\"\n",
       "  420  => \"order\"\n",
       "  1370 => \"handle\"\n",
       "  1437 => \"improving\"\n",
       "  1662 => \"miss\"\n",
       "  1991 => \"food\"\n",
       "  ⋮    => ⋮"
      ]
     },
     "execution_count": 39,
     "metadata": {},
     "output_type": "execute_result"
    }
   ],
   "source": [
    "num_topics = 5\n",
    "chunksize = 500\n",
    "passes = 20\n",
    "iterations = 400\n",
    "eval_every = nothing # Don't evaluate model perplexity, takes too much time.\n",
    "\n",
    "temp = dictionary[1]  # This is only to \"load\" the dictionary.\n",
    "id2word = dictionary.id2token"
   ]
  },
  {
   "cell_type": "code",
   "execution_count": 40,
   "metadata": {
    "ExecuteTime": {
     "end_time": "2021-04-25T21:52:48.081649Z",
     "start_time": "2021-04-25T21:52:35.681435Z"
    },
    "slideshow": {
     "slide_type": "fragment"
    }
   },
   "outputs": [
    {
     "data": {
      "text/plain": [
       "PyObject <gensim.models.ldamodel.LdaModel object at 0x00000000A6B789A0>"
      ]
     },
     "execution_count": 40,
     "metadata": {},
     "output_type": "execute_result"
    }
   ],
   "source": [
    "model = LdaModel(corpus=corpus,\n",
    "                 id2word=id2word,\n",
    "                 chunksize=chunksize,\n",
    "                 alpha=\"auto\",\n",
    "                 eta=\"auto\",\n",
    "                 iterations=iterations,\n",
    "                 num_topics=num_topics,\n",
    "                 passes=passes, \n",
    "                 eval_every=eval_every)"
   ]
  },
  {
   "cell_type": "code",
   "execution_count": 41,
   "metadata": {
    "ExecuteTime": {
     "end_time": "2021-04-25T21:52:48.086261Z",
     "start_time": "2021-04-25T21:52:48.082553Z"
    },
    "slideshow": {
     "slide_type": "slide"
    }
   },
   "outputs": [
    {
     "data": {
      "text/plain": [
       "5-element Vector{Tuple{Int64, String}}:\n",
       " (0, \"0.009*\\\"game\\\" + 0.009*\\\"win\\\" + 0.007*\\\"good\\\" + 0.007*\\\"England\\\" + 0.007*\\\"think\\\" + 0.006*\\\"play\\\" + 0.006*\\\"got\\\" + 0.006*\\\"really\\\" + 0.006*\\\"it's\\\" + 0.005*\\\"going\\\"\")\n",
       " (1, \"0.011*\\\"government\\\" + 0.007*\\\"legal\\\" + 0.007*\\\"Lord\\\" + 0.007*\\\"spokesman\\\" + 0.007*\\\"BBC\\\" + 0.006*\\\"law\\\" + 0.006*\\\"says\\\" + 0.006*\\\"say\\\" + 0.006*\\\"public\\\" + 0.005*\\\"plans\\\"\")\n",
       " (2, \"0.026*\\\"best\\\" + 0.020*\\\"film\\\" + 0.012*\\\"won\\\" + 0.009*\\\"music\\\" + 0.008*\\\"director\\\" + 0.008*\\\"including\\\" + 0.007*\\\"UK\\\" + 0.007*\\\"British\\\" + 0.007*\\\"award\\\" + 0.007*\\\"actor\\\"\")\n",
       " (3, \"0.008*\\\"Labour\\\" + 0.007*\\\"government\\\" + 0.007*\\\"Blair\\\" + 0.005*\\\"election\\\" + 0.005*\\\"tax\\\" + 0.005*\\\"economic\\\" + 0.005*\\\"market\\\" + 0.005*\\\"Brown\\\" + 0.005*\\\"party\\\" + 0.004*\\\"economy\\\"\")\n",
       " (4, \"0.010*\\\"mobile\\\" + 0.010*\\\"technology\\\" + 0.009*\\\"music\\\" + 0.008*\\\"use\\\" + 0.008*\\\"digital\\\" + 0.008*\\\"users\\\" + 0.007*\\\"games\\\" + 0.006*\\\"net\\\" + 0.006*\\\"software\\\" + 0.006*\\\"phone\\\"\")"
      ]
     },
     "execution_count": 41,
     "metadata": {},
     "output_type": "execute_result"
    }
   ],
   "source": [
    "model.show_topics()"
   ]
  },
  {
   "cell_type": "markdown",
   "metadata": {},
   "source": [
    "### Evaluating Topic Assignments on the Test Set"
   ]
  },
  {
   "cell_type": "code",
   "execution_count": 42,
   "metadata": {
    "ExecuteTime": {
     "end_time": "2021-04-25T21:52:48.160381Z",
     "start_time": "2021-04-25T21:52:48.087439Z"
    },
    "scrolled": true,
    "slideshow": {
     "slide_type": "slide"
    }
   },
   "outputs": [
    {
     "data": {
      "text/plain": [
       "101-element Vector{String}:\n",
       " \"Oscar-winning\"\n",
       " \"director\"\n",
       " \"Hayao\"\n",
       " \"Miyazaki's\"\n",
       " \"latest\"\n",
       " \"film\"\n",
       " \"set\"\n",
       " \"a\"\n",
       " \"new\"\n",
       " \"Japanese\"\n",
       " \"box\"\n",
       " \"office\"\n",
       " \"record,\"\n",
       " ⋮\n",
       " \"The\"\n",
       " \"film\"\n",
       " \"won\"\n",
       " \"Golden\"\n",
       " \"Osella\"\n",
       " \"outstanding\"\n",
       " \"technical\"\n",
       " \"contribution\"\n",
       " \"year's\"\n",
       " \"Venice\"\n",
       " \"Film\"\n",
       " \"Festival.\""
      ]
     },
     "execution_count": 42,
     "metadata": {},
     "output_type": "execute_result"
    }
   ],
   "source": [
    "docs_test = [[string(s) for s ∈ split(d)] for d ∈ test_docs.article]\n",
    "docs_test = [[t for t ∈ doc if !(t ∈ stop_words)] for doc ∈ docs_test]\n",
    "docs_test[1]"
   ]
  },
  {
   "cell_type": "code",
   "execution_count": 43,
   "metadata": {
    "scrolled": true
   },
   "outputs": [
    {
     "data": {
      "text/plain": [
       "50-element Vector{Vector{Tuple{Int64, Int64}}}:\n",
       " [(24, 4), (54, 2), (55, 2), (99, 1), (139, 1), (144, 1), (145, 1), (178, 1), (326, 1), (393, 1)  …  (985, 1), (1204, 1), (1252, 1), (1272, 1), (1337, 1), (1386, 1), (1521, 1), (1570, 1), (1881, 2), (1964, 1)]\n",
       " [(7, 1), (48, 1), (77, 1), (80, 1), (86, 3), (93, 6), (98, 1), (124, 2), (131, 2), (132, 1)  …  (1393, 1), (1426, 2), (1496, 1), (1660, 1), (1694, 1), (1725, 1), (1917, 1), (1933, 1), (1934, 1), (1978, 1)]\n",
       " [(7, 1), (10, 1), (26, 1), (64, 1), (77, 1), (79, 1), (86, 2), (99, 1), (115, 1), (129, 1)  …  (1822, 1), (1841, 1), (1865, 1), (1895, 1), (1902, 2), (1937, 1), (1948, 2), (1951, 1), (1969, 1), (1992, 8)]\n",
       " [(15, 1), (21, 2), (26, 2), (78, 1), (99, 1), (131, 1), (186, 1), (187, 1), (188, 1), (205, 1)  …  (1446, 1), (1475, 1), (1574, 1), (1607, 1), (1667, 2), (1669, 1), (1684, 1), (1721, 1), (1892, 1), (1929, 1)]\n",
       " [(72, 1), (77, 1), (160, 1), (180, 1), (258, 2), (306, 1), (326, 1), (395, 1), (450, 1), (557, 3)  …  (1192, 1), (1194, 1), (1325, 1), (1377, 1), (1405, 1), (1515, 1), (1541, 2), (1542, 1), (1731, 1), (1921, 1)]\n",
       " [(26, 2), (29, 4), (41, 1), (45, 2), (57, 1), (85, 1), (139, 1), (142, 1), (157, 2), (179, 1)  …  (1522, 1), (1539, 2), (1540, 2), (1550, 1), (1608, 1), (1634, 1), (1675, 1), (1682, 1), (1720, 1), (1932, 1)]\n",
       " [(1, 1), (17, 1), (26, 1), (46, 1), (79, 2), (91, 1), (96, 1), (99, 2), (114, 2), (185, 2)  …  (1681, 1), (1685, 1), (1690, 2), (1736, 1), (1799, 1), (1817, 2), (1820, 1), (1824, 3), (1834, 1), (1868, 1)]\n",
       " [(7, 1), (13, 1), (87, 1), (99, 1), (149, 1), (152, 1), (160, 1), (230, 1), (231, 1), (232, 1)  …  (1656, 1), (1662, 2), (1699, 3), (1720, 2), (1791, 1), (1796, 1), (1878, 1), (1884, 3), (1907, 1), (1929, 1)]\n",
       " [(12, 2), (17, 1), (49, 1), (56, 1), (131, 1), (186, 4), (189, 1), (203, 1), (215, 1), (221, 1)  …  (1518, 1), (1521, 1), (1527, 1), (1576, 1), (1594, 1), (1651, 1), (1746, 1), (1824, 1), (1900, 1), (1962, 1)]\n",
       " [(12, 1), (26, 3), (33, 1), (57, 1), (79, 2), (91, 4), (129, 1), (131, 1), (149, 1), (203, 1)  …  (1588, 2), (1592, 2), (1681, 1), (1704, 6), (1706, 1), (1716, 1), (1786, 1), (1831, 1), (1904, 1), (1977, 1)]\n",
       " [(47, 2), (90, 1), (135, 1), (138, 1), (183, 1), (222, 1), (326, 1), (333, 2), (429, 1), (469, 1)  …  (1505, 1), (1615, 1), (1661, 2), (1666, 1), (1731, 1), (1742, 1), (1769, 1), (1856, 1), (1961, 1), (1964, 1)]\n",
       " [(32, 1), (163, 1), (296, 1), (311, 1), (321, 1), (355, 1), (557, 1), (607, 1), (624, 1), (864, 1)  …  (1196, 2), (1260, 1), (1466, 1), (1482, 1), (1496, 3), (1513, 1), (1518, 1), (1651, 1), (1793, 1), (1907, 1)]\n",
       " [(38, 1), (90, 1), (161, 1), (163, 5), (185, 1), (211, 3), (244, 1), (246, 1), (261, 1), (264, 1)  …  (1149, 1), (1331, 1), (1394, 1), (1492, 1), (1557, 1), (1576, 1), (1588, 1), (1631, 1), (1704, 3), (1776, 1)]\n",
       " ⋮\n",
       " [(24, 3), (28, 1), (29, 2), (32, 1), (51, 2), (65, 1), (72, 1), (152, 1), (154, 1), (188, 1)  …  (1418, 1), (1420, 1), (1421, 1), (1542, 1), (1626, 1), (1645, 1), (1709, 1), (1762, 1), (1970, 1), (1987, 1)]\n",
       " [(29, 1), (91, 1), (92, 1), (187, 1), (220, 1), (293, 1), (418, 1), (434, 1), (439, 1), (451, 1)  …  (971, 1), (1162, 1), (1263, 1), (1432, 1), (1496, 1), (1670, 1), (1704, 2), (1833, 2), (1846, 1), (1873, 1)]\n",
       " [(29, 1), (38, 1), (52, 1), (86, 1), (116, 1), (161, 2), (189, 1), (203, 2), (220, 1), (226, 1)  …  (1375, 1), (1475, 1), (1485, 1), (1521, 2), (1576, 1), (1590, 1), (1669, 1), (1722, 1), (1834, 1), (1851, 1)]\n",
       " [(20, 1), (29, 2), (58, 2), (65, 1), (71, 1), (77, 1), (83, 1), (86, 1), (101, 2), (107, 1)  …  (1810, 1), (1835, 1), (1847, 2), (1902, 1), (1917, 1), (1926, 1), (1951, 3), (1962, 1), (1969, 1), (1992, 2)]\n",
       " [(5, 1), (7, 1), (16, 1), (22, 3), (47, 2), (77, 1), (82, 1), (90, 1), (94, 1), (96, 1)  …  (1535, 1), (1564, 1), (1595, 1), (1609, 1), (1674, 1), (1687, 1), (1757, 1), (1857, 1), (1995, 1), (1999, 2)]\n",
       " [(32, 1), (83, 2), (85, 1), (86, 1), (104, 1), (175, 1), (177, 1), (199, 1), (221, 1), (224, 1)  …  (1550, 2), (1613, 1), (1686, 1), (1687, 1), (1727, 1), (1746, 1), (1812, 2), (1825, 2), (1853, 1), (1873, 1)]\n",
       " [(1, 1), (27, 1), (33, 1), (56, 3), (57, 1), (58, 1), (79, 2), (85, 1), (87, 1), (91, 1)  …  (1467, 1), (1477, 1), (1488, 1), (1542, 1), (1725, 1), (1736, 1), (1738, 7), (1873, 1), (1880, 1), (1939, 1)]\n",
       " [(22, 1), (44, 1), (46, 1), (54, 1), (58, 2), (66, 1), (97, 1), (104, 1), (115, 1), (135, 1)  …  (1605, 1), (1661, 1), (1662, 1), (1666, 1), (1670, 1), (1834, 1), (1885, 1), (1892, 1), (1897, 1), (1946, 2)]\n",
       " [(7, 1), (62, 1), (73, 1), (90, 1), (146, 1), (150, 1), (151, 1), (155, 1), (188, 1), (189, 1)  …  (1625, 1), (1661, 1), (1769, 1), (1798, 1), (1811, 1), (1834, 1), (1838, 1), (1859, 2), (1860, 2), (1940, 1)]\n",
       " [(56, 1), (71, 1), (86, 1), (124, 1), (166, 1), (171, 1), (283, 1), (308, 1), (315, 1), (324, 1)  …  (1248, 1), (1271, 1), (1321, 1), (1323, 1), (1374, 1), (1388, 1), (1670, 1), (1674, 2), (1684, 1), (1845, 1)]\n",
       " [(7, 1), (49, 1), (54, 2), (99, 1), (138, 2), (143, 1), (152, 1), (163, 1), (166, 2), (171, 1)  …  (1239, 1), (1271, 1), (1518, 1), (1529, 2), (1579, 1), (1595, 1), (1657, 1), (1663, 2), (1664, 1), (1774, 1)]\n",
       " [(1, 1), (58, 1), (79, 1), (83, 1), (154, 1), (156, 1), (171, 1), (201, 1), (212, 1), (218, 1)  …  (1471, 1), (1554, 2), (1591, 1), (1608, 1), (1688, 1), (1714, 1), (1736, 2), (1755, 1), (1774, 2), (1957, 2)]"
      ]
     },
     "execution_count": 43,
     "metadata": {},
     "output_type": "execute_result"
    }
   ],
   "source": [
    "test_dictionary = Dictionary(docs_test)\n",
    "test_dictionary.filter_extremes(no_below=min_df, no_above=max_df, keep_n=max_features)\n",
    "test_corpus = [dictionary.doc2bow(doc) for doc ∈ docs_test]"
   ]
  },
  {
   "cell_type": "code",
   "execution_count": 44,
   "metadata": {
    "ExecuteTime": {
     "end_time": "2021-04-25T21:52:48.195832Z",
     "start_time": "2021-04-25T21:52:48.161468Z"
    },
    "slideshow": {
     "slide_type": "slide"
    }
   },
   "outputs": [
    {
     "data": {
      "text/plain": [
       "(Float32[0.10591908 0.107057214 … 8.44583 3.5942264; 17.25862 17.493263 … 0.13053451 78.4888; … ; 17.269648 0.10703432 … 0.13031085 0.06742364; 0.10590012 0.10700595 … 69.11824 0.06742367], nothing)"
      ]
     },
     "execution_count": 44,
     "metadata": {},
     "output_type": "execute_result"
    }
   ],
   "source": [
    "gamma, _ = model.inference(test_corpus)"
   ]
  },
  {
   "cell_type": "code",
   "execution_count": 45,
   "metadata": {
    "scrolled": true
   },
   "outputs": [
    {
     "data": {
      "text/html": [
       "<table class=\"data-frame\"><thead><tr><th></th><th>Topic 1</th><th>Topic 2</th><th>Topic 3</th><th>Topic 4</th><th>Topic 5</th></tr><tr><th></th><th>Float32</th><th>Float32</th><th>Float32</th><th>Float32</th><th>Float32</th></tr></thead><tbody><p>10 rows × 5 columns</p><tr><th>1</th><td>0.105919</td><td>0.107057</td><td>32.203</td><td>8.44583</td><td>3.59423</td></tr><tr><th>2</th><td>17.2586</td><td>17.4933</td><td>0.0610828</td><td>0.130535</td><td>78.4888</td></tr><tr><th>3</th><td>6.23252</td><td>13.12</td><td>0.0610828</td><td>5.01892</td><td>102.0</td></tr><tr><th>4</th><td>0.105913</td><td>28.909</td><td>0.0610828</td><td>52.3105</td><td>0.0674237</td></tr><tr><th>5</th><td>33.5305</td><td>0.10706</td><td>0.0610828</td><td>4.69594</td><td>0.067424</td></tr><tr><th>6</th><td>48.666</td><td>0.107048</td><td>0.0610828</td><td>49.3254</td><td>20.2817</td></tr><tr><th>7</th><td>1.90543</td><td>21.0416</td><td>0.0610828</td><td>90.3705</td><td>0.0674237</td></tr><tr><th>8</th><td>93.222</td><td>0.107007</td><td>0.0610828</td><td>0.130527</td><td>4.92797</td></tr><tr><th>9</th><td>3.21222</td><td>0.107056</td><td>0.0610828</td><td>71.2722</td><td>4.79261</td></tr><tr><th>10</th><td>0.10594</td><td>14.3459</td><td>0.0610828</td><td>70.8704</td><td>0.0674237</td></tr></tbody></table>"
      ],
      "text/latex": [
       "\\begin{tabular}{r|ccccc}\n",
       "\t& Topic 1 & Topic 2 & Topic 3 & Topic 4 & Topic 5\\\\\n",
       "\t\\hline\n",
       "\t& Float32 & Float32 & Float32 & Float32 & Float32\\\\\n",
       "\t\\hline\n",
       "\t1 & 0.105919 & 0.107057 & 32.203 & 8.44583 & 3.59423 \\\\\n",
       "\t2 & 17.2586 & 17.4933 & 0.0610828 & 0.130535 & 78.4888 \\\\\n",
       "\t3 & 6.23252 & 13.12 & 0.0610828 & 5.01892 & 102.0 \\\\\n",
       "\t4 & 0.105913 & 28.909 & 0.0610828 & 52.3105 & 0.0674237 \\\\\n",
       "\t5 & 33.5305 & 0.10706 & 0.0610828 & 4.69594 & 0.067424 \\\\\n",
       "\t6 & 48.666 & 0.107048 & 0.0610828 & 49.3254 & 20.2817 \\\\\n",
       "\t7 & 1.90543 & 21.0416 & 0.0610828 & 90.3705 & 0.0674237 \\\\\n",
       "\t8 & 93.222 & 0.107007 & 0.0610828 & 0.130527 & 4.92797 \\\\\n",
       "\t9 & 3.21222 & 0.107056 & 0.0610828 & 71.2722 & 4.79261 \\\\\n",
       "\t10 & 0.10594 & 14.3459 & 0.0610828 & 70.8704 & 0.0674237 \\\\\n",
       "\\end{tabular}\n"
      ],
      "text/plain": [
       "10×5 DataFrame\n",
       "│ Row │ Topic 1  │ Topic 2  │ Topic 3   │ Topic 4  │ Topic 5   │\n",
       "│     │ \u001b[90mFloat32\u001b[39m  │ \u001b[90mFloat32\u001b[39m  │ \u001b[90mFloat32\u001b[39m   │ \u001b[90mFloat32\u001b[39m  │ \u001b[90mFloat32\u001b[39m   │\n",
       "├─────┼──────────┼──────────┼───────────┼──────────┼───────────┤\n",
       "│ 1   │ 0.105919 │ 0.107057 │ 32.203    │ 8.44583  │ 3.59423   │\n",
       "│ 2   │ 17.2586  │ 17.4933  │ 0.0610828 │ 0.130535 │ 78.4888   │\n",
       "│ 3   │ 6.23252  │ 13.12    │ 0.0610828 │ 5.01892  │ 102.0     │\n",
       "│ 4   │ 0.105913 │ 28.909   │ 0.0610828 │ 52.3105  │ 0.0674237 │\n",
       "│ 5   │ 33.5305  │ 0.10706  │ 0.0610828 │ 4.69594  │ 0.067424  │\n",
       "│ 6   │ 48.666   │ 0.107048 │ 0.0610828 │ 49.3254  │ 20.2817   │\n",
       "│ 7   │ 1.90543  │ 21.0416  │ 0.0610828 │ 90.3705  │ 0.0674237 │\n",
       "│ 8   │ 93.222   │ 0.107007 │ 0.0610828 │ 0.130527 │ 4.92797   │\n",
       "│ 9   │ 3.21222  │ 0.107056 │ 0.0610828 │ 71.2722  │ 4.79261   │\n",
       "│ 10  │ 0.10594  │ 14.3459  │ 0.0610828 │ 70.8704  │ 0.0674237 │"
      ]
     },
     "execution_count": 45,
     "metadata": {},
     "output_type": "execute_result"
    }
   ],
   "source": [
    "topic_scores = DataFrames.DataFrame(gamma)\n",
    "rename!(topic_scores, topic_labels)\n",
    "first(topic_scores, 10)"
   ]
  },
  {
   "cell_type": "code",
   "execution_count": 46,
   "metadata": {
    "ExecuteTime": {
     "end_time": "2021-04-25T21:52:48.206896Z",
     "start_time": "2021-04-25T21:52:48.196950Z"
    },
    "slideshow": {
     "slide_type": "slide"
    }
   },
   "outputs": [
    {
     "data": {
      "text/html": [
       "<table class=\"data-frame\"><thead><tr><th></th><th>Topic 1</th><th>Topic 2</th><th>Topic 3</th><th>Topic 4</th><th>Topic 5</th></tr><tr><th></th><th>Float32</th><th>Float32</th><th>Float32</th><th>Float32</th><th>Float32</th></tr></thead><tbody><p>5 rows × 5 columns</p><tr><th>1</th><td>0.00238256</td><td>0.00240816</td><td>0.724379</td><td>0.189981</td><td>0.0808489</td></tr><tr><th>2</th><td>0.152149</td><td>0.154218</td><td>0.000538496</td><td>0.00115077</td><td>0.691944</td></tr><tr><th>3</th><td>0.0492952</td><td>0.10377</td><td>0.000483126</td><td>0.0396964</td><td>0.806755</td></tr><tr><th>4</th><td>0.00130029</td><td>0.354912</td><td>0.000749907</td><td>0.64221</td><td>0.000827753</td></tr><tr><th>5</th><td>0.871782</td><td>0.00278354</td><td>0.00158813</td><td>0.122093</td><td>0.001753</td></tr></tbody></table>"
      ],
      "text/latex": [
       "\\begin{tabular}{r|ccccc}\n",
       "\t& Topic 1 & Topic 2 & Topic 3 & Topic 4 & Topic 5\\\\\n",
       "\t\\hline\n",
       "\t& Float32 & Float32 & Float32 & Float32 & Float32\\\\\n",
       "\t\\hline\n",
       "\t1 & 0.00238256 & 0.00240816 & 0.724379 & 0.189981 & 0.0808489 \\\\\n",
       "\t2 & 0.152149 & 0.154218 & 0.000538496 & 0.00115077 & 0.691944 \\\\\n",
       "\t3 & 0.0492952 & 0.10377 & 0.000483126 & 0.0396964 & 0.806755 \\\\\n",
       "\t4 & 0.00130029 & 0.354912 & 0.000749907 & 0.64221 & 0.000827753 \\\\\n",
       "\t5 & 0.871782 & 0.00278354 & 0.00158813 & 0.122093 & 0.001753 \\\\\n",
       "\\end{tabular}\n"
      ],
      "text/plain": [
       "5×5 DataFrame\n",
       "│ Row │ Topic 1    │ Topic 2    │ Topic 3     │ Topic 4    │ Topic 5     │\n",
       "│     │ \u001b[90mFloat32\u001b[39m    │ \u001b[90mFloat32\u001b[39m    │ \u001b[90mFloat32\u001b[39m     │ \u001b[90mFloat32\u001b[39m    │ \u001b[90mFloat32\u001b[39m     │\n",
       "├─────┼────────────┼────────────┼─────────────┼────────────┼─────────────┤\n",
       "│ 1   │ 0.00238256 │ 0.00240816 │ 0.724379    │ 0.189981   │ 0.0808489   │\n",
       "│ 2   │ 0.152149   │ 0.154218   │ 0.000538496 │ 0.00115077 │ 0.691944    │\n",
       "│ 3   │ 0.0492952  │ 0.10377    │ 0.000483126 │ 0.0396964  │ 0.806755    │\n",
       "│ 4   │ 0.00130029 │ 0.354912   │ 0.000749907 │ 0.64221    │ 0.000827753 │\n",
       "│ 5   │ 0.871782   │ 0.00278354 │ 0.00158813  │ 0.122093   │ 0.001753    │"
      ]
     },
     "execution_count": 46,
     "metadata": {},
     "output_type": "execute_result"
    }
   ],
   "source": [
    "topic_probabilities = topic_scores ./ sum.(eachrow(topic_scores))\n",
    "first(topic_probabilities, 5)"
   ]
  },
  {
   "cell_type": "code",
   "execution_count": 47,
   "metadata": {},
   "outputs": [
    {
     "data": {
      "text/html": [
       "<p>DataFrameRow (5 columns)</p><table class=\"data-frame\"><thead><tr><th></th><th>Topic 1</th><th>Topic 2</th><th>Topic 3</th><th>Topic 4</th><th>Topic 5</th></tr><tr><th></th><th>Float32</th><th>Float32</th><th>Float32</th><th>Float32</th><th>Float32</th></tr></thead><tbody><tr><th>2</th><td>0.152149</td><td>0.154218</td><td>0.000538496</td><td>0.00115077</td><td>0.691944</td></tr></tbody></table>"
      ],
      "text/latex": [
       "\\begin{tabular}{r|ccccc}\n",
       "\t& Topic 1 & Topic 2 & Topic 3 & Topic 4 & Topic 5\\\\\n",
       "\t\\hline\n",
       "\t& Float32 & Float32 & Float32 & Float32 & Float32\\\\\n",
       "\t\\hline\n",
       "\t2 & 0.152149 & 0.154218 & 0.000538496 & 0.00115077 & 0.691944 \\\\\n",
       "\\end{tabular}\n"
      ],
      "text/plain": [
       "DataFrameRow\n",
       "│ Row │ Topic 1  │ Topic 2  │ Topic 3     │ Topic 4    │ Topic 5  │\n",
       "│     │ \u001b[90mFloat32\u001b[39m  │ \u001b[90mFloat32\u001b[39m  │ \u001b[90mFloat32\u001b[39m     │ \u001b[90mFloat32\u001b[39m    │ \u001b[90mFloat32\u001b[39m  │\n",
       "├─────┼──────────┼──────────┼─────────────┼────────────┼──────────┤\n",
       "│ 2   │ 0.152149 │ 0.154218 │ 0.000538496 │ 0.00115077 │ 0.691944 │"
      ]
     },
     "execution_count": 47,
     "metadata": {},
     "output_type": "execute_result"
    }
   ],
   "source": [
    "topic_probabilities[2, :]"
   ]
  },
  {
   "cell_type": "code",
   "execution_count": 48,
   "metadata": {
    "ExecuteTime": {
     "end_time": "2021-04-25T21:52:48.213242Z",
     "start_time": "2021-04-25T21:52:48.208264Z"
    },
    "scrolled": true,
    "slideshow": {
     "slide_type": "slide"
    }
   },
   "outputs": [
    {
     "data": {
      "text/plain": [
       "50-element Vector{Any}:\n",
       " (1, \"Topic 3\")\n",
       " (2, \"Topic 5\")\n",
       " (3, \"Topic 5\")\n",
       " (4, \"Topic 4\")\n",
       " (5, \"Topic 1\")\n",
       " (6, \"Topic 4\")\n",
       " (7, \"Topic 4\")\n",
       " (8, \"Topic 1\")\n",
       " (9, \"Topic 4\")\n",
       " (10, \"Topic 4\")\n",
       " (11, \"Topic 4\")\n",
       " (12, \"Topic 1\")\n",
       " (13, \"Topic 1\")\n",
       " ⋮\n",
       " (39, \"Topic 3\")\n",
       " (40, \"Topic 4\")\n",
       " (41, \"Topic 4\")\n",
       " (42, \"Topic 5\")\n",
       " (43, \"Topic 2\")\n",
       " (44, \"Topic 4\")\n",
       " (45, \"Topic 4\")\n",
       " (46, \"Topic 4\")\n",
       " (47, \"Topic 4\")\n",
       " (48, \"Topic 5\")\n",
       " (49, \"Topic 3\")\n",
       " (50, \"Topic 4\")"
      ]
     },
     "execution_count": 48,
     "metadata": {},
     "output_type": "execute_result"
    }
   ],
   "source": [
    "topic_max = []\n",
    "for i ∈ 1:nrow(topic_probabilities)\n",
    "    push!(topic_max, (i, string(findmax(topic_probabilities[i, :])[2])))\n",
    "end\n",
    "\n",
    "topic_max"
   ]
  },
  {
   "cell_type": "code",
   "execution_count": 49,
   "metadata": {
    "scrolled": true
   },
   "outputs": [
    {
     "data": {
      "text/html": [
       "<table class=\"data-frame\"><thead><tr><th></th><th>topic</th><th>predicted</th></tr><tr><th></th><th>String</th><th>String</th></tr></thead><tbody><p>50 rows × 2 columns</p><tr><th>1</th><td>Entertainment</td><td>3</td></tr><tr><th>2</th><td>Tech</td><td>5</td></tr><tr><th>3</th><td>Tech</td><td>5</td></tr><tr><th>4</th><td>Business</td><td>4</td></tr><tr><th>5</th><td>Sport</td><td>1</td></tr><tr><th>6</th><td>Business</td><td>4</td></tr><tr><th>7</th><td>Business</td><td>4</td></tr><tr><th>8</th><td>Sport</td><td>1</td></tr><tr><th>9</th><td>Business</td><td>4</td></tr><tr><th>10</th><td>Business</td><td>4</td></tr><tr><th>11</th><td>Politics</td><td>4</td></tr><tr><th>12</th><td>Sport</td><td>1</td></tr><tr><th>13</th><td>Sport</td><td>1</td></tr><tr><th>14</th><td>Sport</td><td>1</td></tr><tr><th>15</th><td>Entertainment</td><td>3</td></tr><tr><th>16</th><td>Entertainment</td><td>3</td></tr><tr><th>17</th><td>Entertainment</td><td>3</td></tr><tr><th>18</th><td>Sport</td><td>1</td></tr><tr><th>19</th><td>Politics</td><td>2</td></tr><tr><th>20</th><td>Sport</td><td>1</td></tr><tr><th>21</th><td>Sport</td><td>1</td></tr><tr><th>22</th><td>Entertainment</td><td>3</td></tr><tr><th>23</th><td>Entertainment</td><td>3</td></tr><tr><th>24</th><td>Sport</td><td>1</td></tr><tr><th>25</th><td>Tech</td><td>5</td></tr><tr><th>26</th><td>Politics</td><td>2</td></tr><tr><th>27</th><td>Politics</td><td>4</td></tr><tr><th>28</th><td>Tech</td><td>5</td></tr><tr><th>29</th><td>Politics</td><td>4</td></tr><tr><th>30</th><td>Politics</td><td>2</td></tr><tr><th>&vellip;</th><td>&vellip;</td><td>&vellip;</td></tr></tbody></table>"
      ],
      "text/latex": [
       "\\begin{tabular}{r|cc}\n",
       "\t& topic & predicted\\\\\n",
       "\t\\hline\n",
       "\t& String & String\\\\\n",
       "\t\\hline\n",
       "\t1 & Entertainment & 3 \\\\\n",
       "\t2 & Tech & 5 \\\\\n",
       "\t3 & Tech & 5 \\\\\n",
       "\t4 & Business & 4 \\\\\n",
       "\t5 & Sport & 1 \\\\\n",
       "\t6 & Business & 4 \\\\\n",
       "\t7 & Business & 4 \\\\\n",
       "\t8 & Sport & 1 \\\\\n",
       "\t9 & Business & 4 \\\\\n",
       "\t10 & Business & 4 \\\\\n",
       "\t11 & Politics & 4 \\\\\n",
       "\t12 & Sport & 1 \\\\\n",
       "\t13 & Sport & 1 \\\\\n",
       "\t14 & Sport & 1 \\\\\n",
       "\t15 & Entertainment & 3 \\\\\n",
       "\t16 & Entertainment & 3 \\\\\n",
       "\t17 & Entertainment & 3 \\\\\n",
       "\t18 & Sport & 1 \\\\\n",
       "\t19 & Politics & 2 \\\\\n",
       "\t20 & Sport & 1 \\\\\n",
       "\t21 & Sport & 1 \\\\\n",
       "\t22 & Entertainment & 3 \\\\\n",
       "\t23 & Entertainment & 3 \\\\\n",
       "\t24 & Sport & 1 \\\\\n",
       "\t25 & Tech & 5 \\\\\n",
       "\t26 & Politics & 2 \\\\\n",
       "\t27 & Politics & 4 \\\\\n",
       "\t28 & Tech & 5 \\\\\n",
       "\t29 & Politics & 4 \\\\\n",
       "\t30 & Politics & 2 \\\\\n",
       "\t$\\dots$ & $\\dots$ & $\\dots$ \\\\\n",
       "\\end{tabular}\n"
      ],
      "text/plain": [
       "50×2 DataFrame\n",
       "│ Row │ topic         │ predicted │\n",
       "│     │ \u001b[90mString\u001b[39m        │ \u001b[90mString\u001b[39m    │\n",
       "├─────┼───────────────┼───────────┤\n",
       "│ 1   │ Entertainment │ 3         │\n",
       "│ 2   │ Tech          │ 5         │\n",
       "│ 3   │ Tech          │ 5         │\n",
       "│ 4   │ Business      │ 4         │\n",
       "│ 5   │ Sport         │ 1         │\n",
       "│ 6   │ Business      │ 4         │\n",
       "│ 7   │ Business      │ 4         │\n",
       "│ 8   │ Sport         │ 1         │\n",
       "│ 9   │ Business      │ 4         │\n",
       "│ 10  │ Business      │ 4         │\n",
       "⋮\n",
       "│ 40  │ Business      │ 4         │\n",
       "│ 41  │ Business      │ 4         │\n",
       "│ 42  │ Tech          │ 5         │\n",
       "│ 43  │ Politics      │ 2         │\n",
       "│ 44  │ Business      │ 4         │\n",
       "│ 45  │ Business      │ 4         │\n",
       "│ 46  │ Politics      │ 4         │\n",
       "│ 47  │ Politics      │ 4         │\n",
       "│ 48  │ Tech          │ 5         │\n",
       "│ 49  │ Sport         │ 3         │\n",
       "│ 50  │ Business      │ 4         │"
      ]
     },
     "execution_count": 49,
     "metadata": {},
     "output_type": "execute_result"
    }
   ],
   "source": [
    "predicted_test = [string(split(topic[2])[2]) for topic ∈ topic_max]\n",
    "predictions = DataFrames.DataFrame(topic = test_docs.topic, predicted = predicted_test)"
   ]
  },
  {
   "cell_type": "code",
   "execution_count": 50,
   "metadata": {},
   "outputs": [
    {
     "data": {
      "text/html": [
       "<table class=\"data-frame\"><thead><tr><th></th><th>topic</th><th>1</th><th>2</th><th>3</th><th>4</th><th>5</th></tr><tr><th></th><th>String</th><th>Int64</th><th>Int64</th><th>Int64</th><th>Int64</th><th>Int64</th></tr></thead><tbody><p>5 rows × 6 columns</p><tr><th>1</th><td>Entertainment</td><td>0</td><td>0</td><td>8</td><td>1</td><td>0</td></tr><tr><th>2</th><td>Tech</td><td>0</td><td>0</td><td>0</td><td>0</td><td>9</td></tr><tr><th>3</th><td>Business</td><td>0</td><td>0</td><td>0</td><td>11</td><td>0</td></tr><tr><th>4</th><td>Sport</td><td>11</td><td>0</td><td>1</td><td>0</td><td>0</td></tr><tr><th>5</th><td>Politics</td><td>0</td><td>4</td><td>0</td><td>5</td><td>0</td></tr></tbody></table>"
      ],
      "text/latex": [
       "\\begin{tabular}{r|cccccc}\n",
       "\t& topic & 1 & 2 & 3 & 4 & 5\\\\\n",
       "\t\\hline\n",
       "\t& String & Int64 & Int64 & Int64 & Int64 & Int64\\\\\n",
       "\t\\hline\n",
       "\t1 & Entertainment & 0 & 0 & 8 & 1 & 0 \\\\\n",
       "\t2 & Tech & 0 & 0 & 0 & 0 & 9 \\\\\n",
       "\t3 & Business & 0 & 0 & 0 & 11 & 0 \\\\\n",
       "\t4 & Sport & 11 & 0 & 1 & 0 & 0 \\\\\n",
       "\t5 & Politics & 0 & 4 & 0 & 5 & 0 \\\\\n",
       "\\end{tabular}\n"
      ],
      "text/plain": [
       "5×6 DataFrame\n",
       "│ Row │ topic         │ 1     │ 2     │ 3     │ 4     │ 5     │\n",
       "│     │ \u001b[90mString\u001b[39m        │ \u001b[90mInt64\u001b[39m │ \u001b[90mInt64\u001b[39m │ \u001b[90mInt64\u001b[39m │ \u001b[90mInt64\u001b[39m │ \u001b[90mInt64\u001b[39m │\n",
       "├─────┼───────────────┼───────┼───────┼───────┼───────┼───────┤\n",
       "│ 1   │ Entertainment │ 0     │ 0     │ 8     │ 1     │ 0     │\n",
       "│ 2   │ Tech          │ 0     │ 0     │ 0     │ 0     │ 9     │\n",
       "│ 3   │ Business      │ 0     │ 0     │ 0     │ 11    │ 0     │\n",
       "│ 4   │ Sport         │ 11    │ 0     │ 1     │ 0     │ 0     │\n",
       "│ 5   │ Politics      │ 0     │ 4     │ 0     │ 5     │ 0     │"
      ]
     },
     "execution_count": 50,
     "metadata": {},
     "output_type": "execute_result"
    }
   ],
   "source": [
    "filter_topic_pred(predictions, topic, predicted) = filter(row -> (row.topic == topic) & (row.predicted == predicted), predictions)\n",
    "\n",
    "confusion_mtx = DataFrames.DataFrame()\n",
    "confusion_mtx[!, :topic] = unique(predictions.topic)\n",
    "for i ∈ 1:5\n",
    "    confusion_mtx[!, string(i)] = [nrow(filter_topic_pred(predictions, topic, string(i))) for topic ∈ confusion_mtx.topic]\n",
    "end\n",
    "\n",
    "confusion_mtx"
   ]
  },
  {
   "cell_type": "code",
   "execution_count": 51,
   "metadata": {},
   "outputs": [
    {
     "data": {
      "image/png": "[encoded data removed]",
      "text/plain": [
       "Figure(PyObject <Figure size 640x480 with 2 Axes>)"
      ]
     },
     "metadata": {},
     "output_type": "display_data"
    }
   ],
   "source": [
    "series = [convert(Array, confusion_mtx[row, :])[2:end] for row ∈ 1:nrow(confusion_mtx)]\n",
    "Seaborn.heatmap(series, annot=true, cmap=\"Blues\", xticklabels=topic_labels, yticklabels=confusion_mtx.topic);"
   ]
  },
  {
   "cell_type": "markdown",
   "metadata": {},
   "source": [
    "## Resources\n",
    "\n",
    "- pyLDAvis: \n",
    "    - [Talk by the Author](https://speakerdeck.com/bmabey/visualizing-topic-models) and [Paper by (original) Author](http://www.aclweb.org/anthology/W14-3110)\n",
    "    - [Documentation](http://pyldavis.readthedocs.io/en/latest/index.html)\n",
    "- LDA:\n",
    "    - [David Blei Homepage @ Columbia](http://www.cs.columbia.edu/~blei/)\n",
    "    - [Introductory Paper](http://www.cs.columbia.edu/~blei/papers/Blei2012.pdf) and [more technical review paper](http://www.cs.columbia.edu/~blei/papers/BleiLafferty2009.pdf)\n",
    "    - [Blei Lab @ GitHub](https://github.com/Blei-Lab)\n",
    "    \n",
    "- Topic Coherence:\n",
    "    - [Exploring Topic Coherence over many models and many topics](https://www.aclweb.org/anthology/D/D12/D12-1087.pdf)\n",
    "    - [Paper on various Methods](http://www.aclweb.org/anthology/N10-1012)\n",
    "    - [Blog Post - Overview](http://qpleple.com/topic-coherence-to-evaluate-topic-models/)\n"
   ]
  }
 ],
 "metadata": {
  "celltoolbar": "Slideshow",
  "hide_input": false,
  "kernelspec": {
   "display_name": "Julia 1.7.1",
   "language": "julia",
   "name": "julia-1.7"
  },
  "language_info": {
   "file_extension": ".jl",
   "mimetype": "application/julia",
   "name": "julia",
   "version": "1.7.1"
  },
  "name": "_merged",
  "toc": {
   "base_numbering": 1,
   "nav_menu": {},
   "number_sections": true,
   "sideBar": true,
   "skip_h1_title": true,
   "title_cell": "Table of Contents",
   "title_sidebar": "Contents",
   "toc_cell": false,
   "toc_position": {
    "height": "203.153px",
    "left": "69.9915px",
    "right": "1064px",
    "top": "66.3352px",
    "width": "302px"
   },
   "toc_section_display": true,
   "toc_window_display": true
  }
 },
 "nbformat": 4,
 "nbformat_minor": 2
}
