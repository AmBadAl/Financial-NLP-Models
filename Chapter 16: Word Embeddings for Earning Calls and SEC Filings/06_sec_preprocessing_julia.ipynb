{
 "cells": [
  {
   "cell_type": "markdown",
   "metadata": {},
   "source": [
    "# Word vectors from SEC filings using Gensim: Preprocessing"
   ]
  },
  {
   "cell_type": "markdown",
   "metadata": {},
   "source": [
    "In this section, we will learn word and phrase vectors from annual SEC filings using gensim to illustrate the potential value of word embeddings for algorithmic trading. In the following sections, we will combine these vectors as features with price returns to train neural networks to predict equity prices from the content of security filings.\n",
    "\n",
    "In particular, we use a dataset containing over 22,000 10-K annual reports from the period 2013-2016 that are filed by listed companies and contain both financial information and management commentary (see chapter 3 on Alternative Data). For about half of 11K filings for companies that we have stock prices to label the data for predictive modeling"
   ]
  },
  {
   "cell_type": "markdown",
   "metadata": {},
   "source": [
    "## Imports & Settings"
   ]
  },
  {
   "cell_type": "code",
   "execution_count": 33,
   "metadata": {},
   "outputs": [],
   "source": [
    "using Pkg\n",
    "using PyCall\n",
    "using Conda"
   ]
  },
  {
   "cell_type": "code",
   "execution_count": 34,
   "metadata": {},
   "outputs": [],
   "source": [
    "#Pkg.add(\"Glob\")\n",
    "#Pkg.add(\"TextAnalysis\")\n",
    "#Pkg.add(\"DataFrames\")\n",
    "#Pkg.add(\"Plots\")\n",
    "#Pkg.add(\"CSV\")\n",
    "#Pkg.add(\"JSON\")\n",
    "#Pkg.add(\"PlotlyJS\")\n",
    "#Pkg.add(\"StatsBase\")"
   ]
  },
  {
   "cell_type": "code",
   "execution_count": 35,
   "metadata": {},
   "outputs": [],
   "source": [
    "using Glob\n",
    "using TextAnalysis\n",
    "using DataFrames\n",
    "using StatsBase\n",
    "using StringEncodings\n",
    "using PlotlyJS\n",
    "using Printf\n",
    "using CSV"
   ]
  },
  {
   "cell_type": "code",
   "execution_count": 36,
   "metadata": {},
   "outputs": [],
   "source": [
    "#Conda.add(\"gensim\")\n",
    "@pyimport gensim"
   ]
  },
  {
   "cell_type": "code",
   "execution_count": 37,
   "metadata": {},
   "outputs": [
    {
     "data": {
      "text/plain": [
       "PyObject <class 'gensim.models.phrases.FrozenPhrases'>"
      ]
     },
     "execution_count": 37,
     "metadata": {},
     "output_type": "execute_result"
    }
   ],
   "source": [
    "Word2Vec = gensim.models.Word2Vec\n",
    "LineSentence = gensim.models.word2vec.LineSentence\n",
    "Phrases = gensim.models.phrases.Phrases\n",
    "Phraser = gensim.models.phrases.Phraser"
   ]
  },
  {
   "cell_type": "code",
   "execution_count": 39,
   "metadata": {},
   "outputs": [],
   "source": [
    "#Conda.pip_interop(true)"
   ]
  },
  {
   "cell_type": "code",
   "execution_count": 40,
   "metadata": {},
   "outputs": [],
   "source": [
    "#Conda.pip(\"install\", \"https://github.com/explosion/spacy-models/releases/download/en_core_web_sm-3.3.0/en_core_web_sm-3.3.0-py3-none-any.whl\")\n",
    "#Conda.pip(\"install\", \"https://github.com/explosion/spacy-models/releases/download/en_core_web_sm-3.3.0/en_core_web_sm-3.3.0.tar.gz\")"
   ]
  },
  {
   "cell_type": "code",
   "execution_count": 41,
   "metadata": {},
   "outputs": [],
   "source": [
    "#Conda.add(\"spacy\")\n",
    "@pyimport spacy"
   ]
  },
  {
   "cell_type": "code",
   "execution_count": 42,
   "metadata": {
    "ExecuteTime": {
     "end_time": "2020-06-21T16:44:30.133327Z",
     "start_time": "2020-06-21T16:44:30.122236Z"
    }
   },
   "outputs": [
    {
     "data": {
      "text/plain": [
       "format_time (generic function with 1 method)"
      ]
     },
     "execution_count": 42,
     "metadata": {},
     "output_type": "execute_result"
    }
   ],
   "source": [
    "function format_time(t)\n",
    "    m = t ÷ 60\n",
    "    s = t % 60\n",
    "    h = m ÷ 60\n",
    "    m = m % 60\n",
    "    h = length(\"$h\") == 2 ? h : \"0$h\"\n",
    "    m = length(\"$m\") == 2 ? m : \"0$m\"\n",
    "    s = length(\"$s\") == 2 ? s : \"0$s\"\n",
    "    return \"$h:$m:$s\"\n",
    "end"
   ]
  },
  {
   "cell_type": "markdown",
   "metadata": {},
   "source": [
    "## Data Download"
   ]
  },
  {
   "cell_type": "markdown",
   "metadata": {},
   "source": [
    "<div style='direction:rtl; font-family: \"B Nazanin\"; font-size: 20px;'> \n",
    "با توجه به دستورالعمل زیر داده‌ها دانلود و unzip شود.\n",
    "سپس فولدر filings که داده‌ها در آن ذخیره شده‌اند، در فولدر به نام sec-filings در همان فولدر filings قرار داده شود.\n",
    "با توجه به حجم بالای داده‌ها، تنها از بخشی از داده‌ها استفاده شده است.\n",
    "برای اجرای عملیات‌های زیر بر روی کل داده‌ها، نیاز است از یک سیستم با توان پردازشی بالا و از GPU به جای CPU استفاده شود."
   ]
  },
  {
   "cell_type": "markdown",
   "metadata": {},
   "source": [
    "The data can be downloaded from [here](https://drive.google.com/uc?id=0B4NK0q0tDtLFendmeHNsYzNVZ2M&export=download). Unzip and move into the `data` folder in the repository\"s root directory and rename to `filings`."
   ]
  },
  {
   "cell_type": "markdown",
   "metadata": {},
   "source": [
    "### Paths"
   ]
  },
  {
   "cell_type": "markdown",
   "metadata": {},
   "source": [
    "Each filing is a separate text file and a master index contains filing metadata. We extract the most informative sections, namely\n",
    "- Item 1 and 1A: Business and Risk Factors\n",
    "- Item 7 and 7A: Management\"s Discussion and Disclosures about Market Risks\n",
    "\n",
    "The notebook preprocessing shows how to parse and tokenize the text using spaCy, similar to the approach in chapter 14. We do not lemmatize the tokens to preserve nuances of word usage.\n",
    "\n",
    "We use gensim to detect phrases. The Phrases module scores the tokens and the Phraser class transforms the text data accordingly. The notebook shows how to repeat the process to create longer phrases."
   ]
  },
  {
   "cell_type": "code",
   "execution_count": 43,
   "metadata": {
    "ExecuteTime": {
     "end_time": "2020-06-21T16:44:34.329500Z",
     "start_time": "2020-06-21T16:44:34.321563Z"
    }
   },
   "outputs": [
    {
     "data": {
      "text/plain": [
       "\"..\\\\data\\\\sec-filings\\\\sections\""
      ]
     },
     "execution_count": 43,
     "metadata": {},
     "output_type": "execute_result"
    }
   ],
   "source": [
    "sec_path = joinpath(\"..\", \"data\", \"sec-filings\")\n",
    "filing_path = joinpath(sec_path, \"filings\")\n",
    "sections_path = joinpath(sec_path, \"sections\")"
   ]
  },
  {
   "cell_type": "code",
   "execution_count": 44,
   "metadata": {
    "ExecuteTime": {
     "end_time": "2020-06-21T16:44:34.912104Z",
     "start_time": "2020-06-21T16:44:34.903535Z"
    }
   },
   "outputs": [],
   "source": [
    "if !(isdir(sections_path))\n",
    "    mkpath(sections_path)\n",
    "end"
   ]
  },
  {
   "cell_type": "markdown",
   "metadata": {},
   "source": [
    "## Identify Sections"
   ]
  },
  {
   "cell_type": "code",
   "execution_count": 45,
   "metadata": {},
   "outputs": [
    {
     "data": {
      "text/plain": [
       "22631-element Vector{String}:\n",
       " \"..\\\\data\\\\sec-filings\\\\filings\\\\1.txt\"\n",
       " \"..\\\\data\\\\sec-filings\\\\filings\\\\10.txt\"\n",
       " \"..\\\\data\\\\sec-filings\\\\filings\\\\100.txt\"\n",
       " \"..\\\\data\\\\sec-filings\\\\filings\\\\1000.txt\"\n",
       " \"..\\\\data\\\\sec-filings\\\\filings\\\\10000.txt\"\n",
       " \"..\\\\data\\\\sec-filings\\\\filings\\\\10001.txt\"\n",
       " \"..\\\\data\\\\sec-filings\\\\filings\\\\10002.txt\"\n",
       " \"..\\\\data\\\\sec-filings\\\\filings\\\\10003.txt\"\n",
       " \"..\\\\data\\\\sec-filings\\\\filings\\\\10004.txt\"\n",
       " \"..\\\\data\\\\sec-filings\\\\filings\\\\10005.txt\"\n",
       " \"..\\\\data\\\\sec-filings\\\\filings\\\\10006.txt\"\n",
       " \"..\\\\data\\\\sec-filings\\\\filings\\\\10007.txt\"\n",
       " \"..\\\\data\\\\sec-filings\\\\filings\\\\10008.txt\"\n",
       " ⋮\n",
       " \"..\\\\data\\\\sec-filings\\\\filings\\\\9989.txt\"\n",
       " \"..\\\\data\\\\sec-filings\\\\filings\\\\999.txt\"\n",
       " \"..\\\\data\\\\sec-filings\\\\filings\\\\9990.txt\"\n",
       " \"..\\\\data\\\\sec-filings\\\\filings\\\\9991.txt\"\n",
       " \"..\\\\data\\\\sec-filings\\\\filings\\\\9992.txt\"\n",
       " \"..\\\\data\\\\sec-filings\\\\filings\\\\9993.txt\"\n",
       " \"..\\\\data\\\\sec-filings\\\\filings\\\\9994.txt\"\n",
       " \"..\\\\data\\\\sec-filings\\\\filings\\\\9995.txt\"\n",
       " \"..\\\\data\\\\sec-filings\\\\filings\\\\9996.txt\"\n",
       " \"..\\\\data\\\\sec-filings\\\\filings\\\\9997.txt\"\n",
       " \"..\\\\data\\\\sec-filings\\\\filings\\\\9998.txt\"\n",
       " \"..\\\\data\\\\sec-filings\\\\filings\\\\9999.txt\""
      ]
     },
     "execution_count": 45,
     "metadata": {},
     "output_type": "execute_result"
    }
   ],
   "source": [
    "files = Glob.glob(\"../data/sec-filings/filings/*.txt\")"
   ]
  },
  {
   "cell_type": "code",
   "execution_count": 46,
   "metadata": {},
   "outputs": [
    {
     "data": {
      "text/plain": [
       "read_text (generic function with 1 method)"
      ]
     },
     "execution_count": 46,
     "metadata": {},
     "output_type": "execute_result"
    }
   ],
   "source": [
    "function read_text(file)\n",
    "    f = open(file, \"r\")\n",
    "    s = StringDecoder(f, \"LATIN1\", \"UTF-8\")\n",
    "    text = join(readlines(s), \" \")\n",
    "    close(f)\n",
    "    return text\n",
    "end"
   ]
  },
  {
   "cell_type": "code",
   "execution_count": 47,
   "metadata": {
    "ExecuteTime": {
     "end_time": "2020-06-21T02:52:25.427816Z",
     "start_time": "2020-06-21T02:44:04.864855Z"
    }
   },
   "outputs": [],
   "source": [
    "for (i, filing) in enumerate(files[1:5000])\n",
    "    filing_id = splitext(basename(filing))[1]\n",
    "    items = Dict()\n",
    "    for section in split(lowercase(read_text(filing)), \"°\")\n",
    "        if startswith(section, \"item \")\n",
    "            if length(split(section)) > 1\n",
    "                item = replace(replace(replace(split(section)[2], \".\"=>\"\"), \":\"=>\"\"), \",\"=>\"\")\n",
    "                text = join([t for t in split(section)[3:end]], \" \")\n",
    "                if !(item ∈ keys(items)) || length(items[item]) < length(text)\n",
    "                    items[item] = text\n",
    "                end\n",
    "            end\n",
    "        end\n",
    "    end\n",
    "\n",
    "    txt = DataFrame(item=[item[1] for item in items], text=[item[2] for item in items])\n",
    "    CSV.write(joinpath(sections_path, \"$filing_id\" * \".csv\"), txt)\n",
    "end"
   ]
  },
  {
   "cell_type": "markdown",
   "metadata": {},
   "source": [
    "## Parse Sections"
   ]
  },
  {
   "cell_type": "markdown",
   "metadata": {},
   "source": [
    "Select the following sections:"
   ]
  },
  {
   "cell_type": "code",
   "execution_count": 48,
   "metadata": {
    "ExecuteTime": {
     "end_time": "2020-06-21T02:52:25.430613Z",
     "start_time": "2020-06-21T02:52:25.428829Z"
    }
   },
   "outputs": [
    {
     "data": {
      "text/plain": [
       "4-element Vector{String}:\n",
       " \"1\"\n",
       " \"1a\"\n",
       " \"7\"\n",
       " \"7a\""
      ]
     },
     "execution_count": 48,
     "metadata": {},
     "output_type": "execute_result"
    }
   ],
   "source": [
    "sections = [\"1\", \"1a\", \"7\", \"7a\"]"
   ]
  },
  {
   "cell_type": "code",
   "execution_count": 49,
   "metadata": {
    "ExecuteTime": {
     "end_time": "2020-06-21T16:45:03.290044Z",
     "start_time": "2020-06-21T16:45:03.287811Z"
    }
   },
   "outputs": [],
   "source": [
    "clean_path = joinpath(sec_path, \"selected_sections\")\n",
    "if !(isdir(clean_path))\n",
    "    mkpath(clean_path)\n",
    "end"
   ]
  },
  {
   "cell_type": "code",
   "execution_count": 50,
   "metadata": {
    "ExecuteTime": {
     "end_time": "2020-06-21T03:24:54.421552Z",
     "start_time": "2020-06-21T03:24:53.708348Z"
    }
   },
   "outputs": [
    {
     "data": {
      "text/plain": [
       "6000000"
      ]
     },
     "execution_count": 50,
     "metadata": {},
     "output_type": "execute_result"
    }
   ],
   "source": [
    "nlp = spacy.load(\"en_core_web_sm\", disable=[\"ner\"])\n",
    "nlp.max_length = 6000000"
   ]
  },
  {
   "cell_type": "code",
   "execution_count": 51,
   "metadata": {},
   "outputs": [
    {
     "data": {
      "text/plain": [
       "add_clean_token (generic function with 1 method)"
      ]
     },
     "execution_count": 51,
     "metadata": {},
     "output_type": "execute_result"
    }
   ],
   "source": [
    "function add_clean_token(clean_sentence, token)\n",
    "    condition = token.is_stop || token.is_digit || !(token.is_alpha) || token.is_punct || token.is_space\n",
    "    condition = condition || (token.lemma_ == \"-PRON-\") || (token.pos_ ∈ [\"PUNCT\", \"SYM\", \"X\"])\n",
    "    if !(condition)\n",
    "        push!(clean_sentence, lowercase(token.text))\n",
    "    end\n",
    "    return clean_sentence\n",
    "end"
   ]
  },
  {
   "cell_type": "code",
   "execution_count": 52,
   "metadata": {
    "ExecuteTime": {
     "end_time": "2020-06-21T12:05:56.150635Z",
     "start_time": "2020-06-21T03:25:21.267371Z"
    }
   },
   "outputs": [],
   "source": [
    "t = total_tokens = 0\n",
    "\n",
    "sections_files = Glob.glob(\"../data/sec-filings/sections/*.csv\")\n",
    "clean_files = Glob.glob(\"../data/sec-filings/selected_sections/*.csv\")\n",
    "to_do = length(sections_files)\n",
    "done = length(clean_files) + 1\n",
    "\n",
    "for text_file in sections_files[1:100]\n",
    "    file_id = splitext(basename(text_file))[1]\n",
    "    clean_file = joinpath(clean_path, \"$(file_id).csv\")\n",
    "    \n",
    "    items = dropmissing(DataFrame(CSV.File((text_file))))\n",
    "    items = filter(row -> row.item ∈ sections, items)\n",
    "    \n",
    "    clean_doc = []\n",
    "    for row in eachrow(items)\n",
    "        item = row[\"item\"]\n",
    "        text = row[\"text\"]\n",
    "        doc = nlp(text)\n",
    "        for (s, sentence) ∈ enumerate(doc.sents)\n",
    "            clean_sentence = []\n",
    "            if sentence != nothing\n",
    "                for (t, token) ∈ enumerate(sentence)\n",
    "                    clean_sentence = add_clean_token(clean_sentence, token)\n",
    "                end\n",
    "                total_tokens += t\n",
    "                if length(clean_sentence) > 0\n",
    "                    push!(clean_doc, [item, s, join(clean_sentence, \" \")])\n",
    "                end\n",
    "            end\n",
    "        end\n",
    "    end\n",
    "    clean_doc_df = dropmissing(DataFrame(item = [doc[1] for doc ∈ clean_doc], \n",
    "                            sentence = [doc[2] for doc ∈ clean_doc], \n",
    "                            text = [doc[3] for doc ∈ clean_doc]))\n",
    "    CSV.write(clean_file, clean_doc_df)\n",
    "    done += 1\n",
    "end"
   ]
  },
  {
   "cell_type": "markdown",
   "metadata": {},
   "source": [
    "## Create ngrams"
   ]
  },
  {
   "cell_type": "code",
   "execution_count": 53,
   "metadata": {
    "ExecuteTime": {
     "end_time": "2020-06-21T16:45:07.927900Z",
     "start_time": "2020-06-21T16:45:07.918296Z"
    }
   },
   "outputs": [],
   "source": [
    "ngram_path = joinpath(sec_path, \"ngrams\")\n",
    "stats_path = joinpath(sec_path, \"corpus_stats\")\n",
    "\n",
    "for path in [ngram_path, stats_path]\n",
    "    if !(isdir(path))\n",
    "        mkpath(path)\n",
    "    end\n",
    "end"
   ]
  },
  {
   "cell_type": "code",
   "execution_count": 54,
   "metadata": {
    "ExecuteTime": {
     "end_time": "2020-06-21T13:32:42.332829Z",
     "start_time": "2020-06-21T13:32:42.331171Z"
    }
   },
   "outputs": [
    {
     "data": {
      "text/plain": [
       "\"..\\\\data\\\\sec-filings\\\\ngrams\\\\ngrams_1.txt\""
      ]
     },
     "execution_count": 54,
     "metadata": {},
     "output_type": "execute_result"
    }
   ],
   "source": [
    "unigrams = joinpath(ngram_path, \"ngrams_1.txt\")"
   ]
  },
  {
   "cell_type": "code",
   "execution_count": 55,
   "metadata": {},
   "outputs": [
    {
     "data": {
      "text/plain": [
       "value_counts (generic function with 1 method)"
      ]
     },
     "execution_count": 55,
     "metadata": {},
     "output_type": "execute_result"
    }
   ],
   "source": [
    "value_counts(df, col) = combine(groupby(df, col), nrow)"
   ]
  },
  {
   "cell_type": "code",
   "execution_count": 56,
   "metadata": {},
   "outputs": [
    {
     "data": {
      "text/plain": [
       "\"business annual report form k contains forward looking statements future events future results subject safe harbors created securities act amended securities exchange act amended\""
      ]
     },
     "execution_count": 56,
     "metadata": {},
     "output_type": "execute_result"
    }
   ],
   "source": [
    "clean_files = Glob.glob(\"../data/sec-filings/selected_sections/*.csv\")\n",
    "df = DataFrame(CSV.File(clean_files[1]))\n",
    "df.text[1]"
   ]
  },
  {
   "cell_type": "code",
   "execution_count": 57,
   "metadata": {
    "ExecuteTime": {
     "end_time": "2020-06-21T13:32:46.109338Z",
     "start_time": "2020-06-21T13:32:46.104347Z"
    }
   },
   "outputs": [
    {
     "data": {
      "text/plain": [
       "create_unigrams (generic function with 1 method)"
      ]
     },
     "execution_count": 57,
     "metadata": {},
     "output_type": "execute_result"
    }
   ],
   "source": [
    "function create_unigrams(; min_length=3)\n",
    "    texts = []\n",
    "    sentence_counter = Dict()\n",
    "    vocab = Dict()\n",
    "    clean_files = Glob.glob(\"../data/sec-filings/selected_sections/*.csv\")\n",
    "    for (i, f) ∈ enumerate(clean_files)\n",
    "        df = DataFrame(CSV.File(f))\n",
    "        df = filter(row -> row.item ∈ sections, df)\n",
    "        \n",
    "        addcounts!(sentence_counter, Dict(eachrow(value_counts(df, :item))))\n",
    "        for entry ∈ (dropmissing(df, :text)).text\n",
    "            sentence = split(entry)\n",
    "            if length(sentence) >= min_length\n",
    "                addcounts!(vocab, sentence)\n",
    "                push!(texts, join(sentence, \" \"))\n",
    "            end\n",
    "        end\n",
    "    end\n",
    "    sentence_counter = sort(collect(sentence_counter), by=x->x[2], rev=true)\n",
    "    sentence_counter_df = DataFrame(item = [pair[1] for pair ∈ sentence_counter], \n",
    "                                    sentences = [pair[2] for pair ∈ sentence_counter])\n",
    "    CSV.write(joinpath(stats_path, \"selected_sentences.csv\"), sentence_counter_df)\n",
    "\n",
    "    vocab = sort(collect(vocab), by=x->x[2], rev=true)\n",
    "    vocab_df = DataFrame(token = [pair[1] for pair ∈ vocab], \n",
    "                            n = [pair[2] for pair ∈ vocab])\n",
    "    CSV.write(joinpath(stats_path, \"sections_vocab.csv\"), vocab_df)\n",
    "    \n",
    "    open(unigrams, \"w\") do file\n",
    "        write(unigrams, join(texts, \"\\n\"))\n",
    "    end\n",
    "    return [split(l) for l ∈ texts]\n",
    "end"
   ]
  },
  {
   "cell_type": "code",
   "execution_count": 58,
   "metadata": {
    "ExecuteTime": {
     "end_time": "2020-06-21T13:37:06.760726Z",
     "start_time": "2020-06-21T13:32:52.427226Z"
    }
   },
   "outputs": [
    {
     "name": "stdout",
     "output_type": "stream",
     "text": [
      "Reading: 00:00:04\n"
     ]
    }
   ],
   "source": [
    "start = time()\n",
    "\n",
    "texts = create_unigrams()\n",
    "\n",
    "println(\"Reading: $(format_time(floor(Int, time() - start)))\")"
   ]
  },
  {
   "cell_type": "code",
   "execution_count": 59,
   "metadata": {},
   "outputs": [
    {
     "data": {
      "text/plain": [
       "133218-element Vector{Vector{SubString{String}}}:\n",
       " [\"business\", \"annual\", \"report\", \"form\", \"k\", \"contains\", \"forward\", \"looking\", \"statements\", \"future\"  …  \"safe\", \"harbors\", \"created\", \"securities\", \"act\", \"amended\", \"securities\", \"exchange\", \"act\", \"amended\"]\n",
       " [\"statements\", \"statements\", \"historical\", \"fact\", \"statements\", \"deemed\", \"forward\", \"looking\", \"statements\"]\n",
       " [\"statements\", \"contain\", \"words\", \"expects\", \"anticipates\", \"intends\", \"plans\", \"believes\", \"seeks\", \"estimates\", \"wording\", \"indicating\", \"future\", \"results\", \"expectations\"]\n",
       " [\"forward\", \"looking\", \"statements\", \"subject\", \"risks\", \"uncertainties\"]\n",
       " [\"actual\", \"results\", \"differ\", \"materially\", \"results\", \"discussed\", \"forward\", \"looking\", \"statements\"]\n",
       " [\"factors\", \"cause\", \"actual\", \"results\", \"differ\", \"materially\", \"include\", \"limited\", \"discussed\", \"risk\", \"factors\", \"item\", \"report\"]\n",
       " [\"business\", \"financial\", \"condition\", \"results\", \"operations\", \"materially\", \"harmed\", \"factors\"]\n",
       " [\"undertake\", \"obligation\", \"revise\", \"update\", \"forward\", \"looking\", \"statements\", \"reflect\", \"event\", \"circumstance\", \"arises\", \"date\", \"report\"]\n",
       " [\"references\", \"report\", \"sandisk\", \"collectively\", \"refer\", \"sandisk\", \"corporation\", \"delaware\", \"corporation\", \"subsidiaries\"]\n",
       " [\"references\", \"years\", \"annual\", \"periods\", \"references\", \"fiscal\", \"years\", \"consisted\", \"weeks\"]\n",
       " [\"sandisk\", \"corporation\", \"global\", \"leader\", \"flash\", \"memory\", \"storage\", \"solutions\", \"strong\", \"history\", \"innovation\", \"successfully\", \"commercialized\"]\n",
       " [\"flash\", \"storage\", \"technology\", \"allows\", \"digital\", \"information\", \"stored\", \"durable\", \"compact\", \"format\", \"retains\", \"data\", \"power\", \"switched\"]\n",
       " [\"flash\", \"based\", \"products\", \"enable\", \"businesses\", \"consumers\", \"efficiently\", \"effectively\", \"capture\", \"share\", \"preserve\", \"digital\", \"content\"]\n",
       " ⋮\n",
       " [\"asu\", \"effective\", \"annual\", \"interim\", \"goodwill\", \"impairment\", \"tests\", \"performed\", \"company\", \"s\", \"fiscal\", \"year\", \"ending\", \"june\"]\n",
       " [\"adoption\", \"standard\", \"material\", \"impact\", \"company\", \"s\", \"consolidated\", \"financial\", \"statements\"]\n",
       " [\"recent\", \"accounting\", \"pronouncements\", \"april\", \"fasb\", \"issued\", \"asu\", \"presentation\", \"financial\", \"statements\", \"topic\", \"property\", \"plant\", \"equipment\", \"topic\"]\n",
       " [\"asu\", \"amends\", \"requirements\", \"reporting\", \"discontinued\", \"operations\", \"requires\", \"additional\", \"disclosures\", \"discontinued\", \"operations\"]\n",
       " [\"new\", \"guidance\", \"disposals\", \"representing\", \"strategic\", \"shift\", \"operations\", \"major\", \"effect\", \"company\", \"s\", \"operations\", \"financial\", \"results\", \"presented\", \"discontinued\", \"operations\"]\n",
       " [\"new\", \"accounting\", \"guidance\", \"effective\", \"company\", \"s\", \"fiscal\", \"year\", \"ending\", \"july\", \"applied\", \"retrospectively\"]\n",
       " [\"currently\", \"evaluating\", \"potential\", \"impact\", \"adopting\", \"guidance\", \"consolidated\", \"financial\", \"statements\"]\n",
       " [\"fasb\", \"issued\", \"asu\", \"revenue\", \"contracts\", \"customers\"]\n",
       " [\"amended\", \"guidance\", \"enhance\", \"comparability\", \"revenue\", \"recognition\", \"practices\", \"applied\", \"contracts\", \"customers\"]\n",
       " [\"expanded\", \"disclosures\", \"related\", \"nature\", \"timing\", \"uncertainty\", \"revenue\", \"recognized\", \"requirements\", \"amended\", \"guidance\"]\n",
       " [\"guidance\", \"effective\", \"company\", \"s\", \"fiscal\", \"year\", \"ending\", \"july\", \"applied\", \"retrospectively\"]\n",
       " [\"currently\", \"evaluating\", \"potential\", \"impact\", \"adopting\", \"guidance\", \"consolidated\", \"financial\", \"statements\"]"
      ]
     },
     "execution_count": 59,
     "metadata": {},
     "output_type": "execute_result"
    }
   ],
   "source": [
    "texts"
   ]
  },
  {
   "cell_type": "code",
   "execution_count": 60,
   "metadata": {},
   "outputs": [
    {
     "data": {
      "text/plain": [
       "get_articles (generic function with 1 method)"
      ]
     },
     "execution_count": 60,
     "metadata": {},
     "output_type": "execute_result"
    }
   ],
   "source": [
    "function get_articles(article_path)\n",
    "    file = open(article_path, \"r\")\n",
    "    s = StringDecoder(file,\"LATIN1\", \"UTF-8\")\n",
    "    articles = readlines(s)\n",
    "    close(file)\n",
    "    return articles\n",
    "end"
   ]
  },
  {
   "cell_type": "code",
   "execution_count": 61,
   "metadata": {},
   "outputs": [
    {
     "data": {
      "text/plain": [
       "get_ngram_articles (generic function with 1 method)"
      ]
     },
     "execution_count": 61,
     "metadata": {},
     "output_type": "execute_result"
    }
   ],
   "source": [
    "function get_ngram_articles(articles, n)\n",
    "    sentences = Any[]\n",
    "    ngram_counter = Dict()\n",
    "    for article ∈ articles\n",
    "        doc = StringDocument(article)\n",
    "        doc_ngram = ngrams(doc, n)\n",
    "        for (k, v) ∈ doc_ngram\n",
    "            if k ∈ keys(ngram_counter)\n",
    "                ngram_counter[k] += v\n",
    "            else\n",
    "                ngram_counter[k] = v\n",
    "            end\n",
    "        end\n",
    "        sentence = join(keys(doc_ngram), \" \") * \"\\n\"\n",
    "        push!(sentences, sentence)\n",
    "    end\n",
    "    return ngram_counter, sentences\n",
    "end"
   ]
  },
  {
   "cell_type": "code",
   "execution_count": 62,
   "metadata": {
    "ExecuteTime": {
     "end_time": "2020-06-21T13:37:06.775365Z",
     "start_time": "2020-06-21T13:37:06.762138Z"
    }
   },
   "outputs": [
    {
     "data": {
      "text/plain": [
       "create_ngrams (generic function with 2 methods)"
      ]
     },
     "execution_count": 62,
     "metadata": {},
     "output_type": "execute_result"
    }
   ],
   "source": [
    "function create_ngrams(max_length=3)\n",
    "    \"\"\"Using TextAnalysis to create ngrams\"\"\"\n",
    "\n",
    "    n_grams_df = DataFrame()\n",
    "    start = time()\n",
    "    for n ∈ 2:max_length\n",
    "        articles = get_articles(joinpath(ngram_path, \"ngrams_$(n-1).txt\"))\n",
    "        ngram_counter, sentences = get_ngram_articles(articles, n)\n",
    "\n",
    "        s = DataFrame(length = [n for i ∈ 1:length(keys(ngram_counter))], \n",
    "                                phrase = [ngram_word for ngram_word ∈ keys(ngram_counter)], \n",
    "                                count = [ngram_count for ngram_count ∈ values(ngram_counter)])\n",
    "                          \n",
    "        n_grams_df = vcat(n_grams_df, s)\n",
    "\n",
    "        open(joinpath(ngram_path, \"ngrams_$(n).txt\"), \"w\") do file\n",
    "            for sentence ∈ sentences\n",
    "                write(file, sentence)\n",
    "            end\n",
    "        end\n",
    "    end\n",
    "\n",
    "    n_grams_df = sort!(n_grams_df, :count, rev=true)\n",
    "    n_grams_df[!, \"ngram\"] = replace.(n_grams_df[:, \"phrase\"], \" \"=>\"_\")\n",
    "        \n",
    "    CSV.write(joinpath(sec_path, \"ngrams.csv\"), n_grams_df)\n",
    "\n",
    "    println(\"Duration: $(format_time(floor(Int, (time() - start))))\\n\")\n",
    "    println(\"ngrams: $(size(n_grams_df)[1])\\n\")\n",
    "    println(value_counts(n_grams_df, :length))\n",
    "end"
   ]
  },
  {
   "cell_type": "code",
   "execution_count": 63,
   "metadata": {
    "ExecuteTime": {
     "start_time": "2020-06-21T13:33:01.712Z"
    }
   },
   "outputs": [
    {
     "name": "stdout",
     "output_type": "stream",
     "text": [
      "Duration: 00:01:35\n",
      "\n",
      "ngrams: 3616211\n",
      "\n",
      "2×2 DataFrame\n",
      "│ Row │ length │ nrow    │\n",
      "│     │ \u001b[90mInt64\u001b[39m  │ \u001b[90mInt64\u001b[39m   │\n",
      "├─────┼────────┼─────────┤\n",
      "│ 1   │ 2      │ 688350  │\n",
      "│ 2   │ 3      │ 2927861 │\n"
     ]
    }
   ],
   "source": [
    "create_ngrams()"
   ]
  },
  {
   "cell_type": "markdown",
   "metadata": {},
   "source": [
    "## Inspect Corpus"
   ]
  },
  {
   "cell_type": "code",
   "execution_count": 64,
   "metadata": {
    "ExecuteTime": {
     "end_time": "2020-06-21T16:47:22.167784Z",
     "start_time": "2020-06-21T16:45:12.067631Z"
    }
   },
   "outputs": [
    {
     "name": "stdout",
     "output_type": "stream",
     "text": [
      "Number of Sentences:\n",
      "Pair{Any, Any}[\"1a\" => 36403, \"7a\" => 3481, \"7\" => 2619, \"1\" => 1949]\n",
      "\n",
      "Number of Tokens:\n",
      "Pair{Any, Any}[\"1a\" => 587418, \"7a\" => 56941, \"7\" => 41712, \"1\" => 30666]\n"
     ]
    }
   ],
   "source": [
    "nsents, ntokens = Dict(), Dict()\n",
    "\n",
    "clean_files = Glob.glob(\"../data/sec-filings/selected_sections/*.csv\")\n",
    "for f in clean_files\n",
    "    df = DataFrame(CSV.File(f))\n",
    "\n",
    "    for (k, v) ∈ Dict(eachrow(value_counts(df, :item)))\n",
    "        if k ∈ keys(nsents)\n",
    "            nsents[\"$k\"] += v\n",
    "        else\n",
    "            nsents[\"$k\"] = v\n",
    "        end\n",
    "    end\n",
    "\n",
    "    df[\"ntokens\"] = length.(split.(df.text))\n",
    "\n",
    "    for (k, v) ∈ Dict(eachrow(combine(groupby(df, :item), :ntokens => sum)))\n",
    "        if k ∈ keys(ntokens)\n",
    "            ntokens[\"$k\"] += v\n",
    "        else\n",
    "            ntokens[\"$k\"] = v\n",
    "        end\n",
    "    end\n",
    "end\n",
    "\n",
    "ntokens = sort(collect(ntokens), by=x->x[2], rev=true)\n",
    "nsents = sort(collect(nsents), by=x->x[2], rev=true)\n",
    "println(\"Number of Sentences:\")\n",
    "println(nsents)\n",
    "println(\"\\nNumber of Tokens:\")\n",
    "println(ntokens)"
   ]
  },
  {
   "cell_type": "code",
   "execution_count": 65,
   "metadata": {
    "ExecuteTime": {
     "end_time": "2020-06-21T16:47:22.173106Z",
     "start_time": "2020-06-21T16:47:22.168794Z"
    }
   },
   "outputs": [
    {
     "name": "stdout",
     "output_type": "stream",
     "text": [
      "Number of Sentences:\n",
      "4×2 DataFrame\n",
      "│ Row │ Item   │ # Sentences │\n",
      "│     │ \u001b[90mString\u001b[39m │ \u001b[90mInt64\u001b[39m       │\n",
      "├─────┼────────┼─────────────┤\n",
      "│ 1   │ 1a     │ 36403       │\n",
      "│ 2   │ 7a     │ 3481        │\n",
      "│ 3   │ 7      │ 2619        │\n",
      "│ 4   │ 1      │ 1949        │\n",
      "\n",
      "Number of Tokens:\n",
      "4×2 DataFrame\n",
      "│ Row │ Item   │ # Tokens │\n",
      "│     │ \u001b[90mString\u001b[39m │ \u001b[90mInt64\u001b[39m    │\n",
      "├─────┼────────┼──────────┤\n",
      "│ 1   │ 1a     │ 587418   │\n",
      "│ 2   │ 7a     │ 56941    │\n",
      "│ 3   │ 7      │ 41712    │\n",
      "│ 4   │ 1      │ 30666    │\n"
     ]
    }
   ],
   "source": [
    "ntokens_df = DataFrame(Item = [pair[1] for pair ∈ ntokens])\n",
    "ntokens_df[!, \"# Tokens\"] = [pair[2] for pair ∈ ntokens]\n",
    "\n",
    "nsents_df = DataFrame(Item = [pair[1] for pair ∈ nsents])\n",
    "nsents_df[!, \"# Sentences\"] = [pair[2] for pair ∈ nsents]\n",
    "\n",
    "println(\"Number of Sentences:\")\n",
    "println(nsents_df)\n",
    "println(\"\\nNumber of Tokens:\")\n",
    "println(ntokens_df)"
   ]
  },
  {
   "cell_type": "code",
   "execution_count": 109,
   "metadata": {},
   "outputs": [
    {
     "data": {
      "application/vnd.plotly.v1+json": {
       "config": {
        "editable": false,
        "responsive": true,
        "scrollZoom": true,
        "showLink": false,
        "staticPlot": false
       },
       "data": [
        {
         "type": "bar",
         "x": [
          "1a",
          "7a",
          "7",
          "1"
         ],
         "y": [
          36403,
          3481,
          2619,
          1949
         ]
        }
       ],
       "frames": [],
       "layout": {
        "margin": {
         "b": 50,
         "l": 50,
         "r": 50,
         "t": 60
        },
        "template": {
         "data": {
          "bar": [
           {
            "error_x": {
             "color": "#2a3f5f"
            },
            "error_y": {
             "color": "#2a3f5f"
            },
            "marker": {
             "line": {
              "color": "#E5ECF6",
              "width": 0.5
             }
            },
            "type": "bar"
           }
          ],
          "barpolar": [
           {
            "marker": {
             "line": {
              "color": "#E5ECF6",
              "width": 0.5
             }
            },
            "type": "barpolar"
           }
          ],
          "carpet": [
           {
            "aaxis": {
             "endlinecolor": "#2a3f5f",
             "gridcolor": "white",
             "linecolor": "white",
             "minorgridcolor": "white",
             "startlinecolor": "#2a3f5f"
            },
            "baxis": {
             "endlinecolor": "#2a3f5f",
             "gridcolor": "white",
             "linecolor": "white",
             "minorgridcolor": "white",
             "startlinecolor": "#2a3f5f"
            },
            "type": "carpet"
           }
          ],
          "choropleth": [
           {
            "colorbar": {
             "outlinewidth": 0,
             "ticks": ""
            },
            "type": "choropleth"
           }
          ],
          "contour": [
           {
            "colorbar": {
             "outlinewidth": 0,
             "ticks": ""
            },
            "colorscale": [
             [
              0,
              "#0d0887"
             ],
             [
              0.1111111111111111,
              "#46039f"
             ],
             [
              0.2222222222222222,
              "#7201a8"
             ],
             [
              0.3333333333333333,
              "#9c179e"
             ],
             [
              0.4444444444444444,
              "#bd3786"
             ],
             [
              0.5555555555555556,
              "#d8576b"
             ],
             [
              0.6666666666666666,
              "#ed7953"
             ],
             [
              0.7777777777777778,
              "#fb9f3a"
             ],
             [
              0.8888888888888888,
              "#fdca26"
             ],
             [
              1,
              "#f0f921"
             ]
            ],
            "type": "contour"
           }
          ],
          "contourcarpet": [
           {
            "colorbar": {
             "outlinewidth": 0,
             "ticks": ""
            },
            "type": "contourcarpet"
           }
          ],
          "heatmap": [
           {
            "colorbar": {
             "outlinewidth": 0,
             "ticks": ""
            },
            "colorscale": [
             [
              0,
              "#0d0887"
             ],
             [
              0.1111111111111111,
              "#46039f"
             ],
             [
              0.2222222222222222,
              "#7201a8"
             ],
             [
              0.3333333333333333,
              "#9c179e"
             ],
             [
              0.4444444444444444,
              "#bd3786"
             ],
             [
              0.5555555555555556,
              "#d8576b"
             ],
             [
              0.6666666666666666,
              "#ed7953"
             ],
             [
              0.7777777777777778,
              "#fb9f3a"
             ],
             [
              0.8888888888888888,
              "#fdca26"
             ],
             [
              1,
              "#f0f921"
             ]
            ],
            "type": "heatmap"
           }
          ],
          "heatmapgl": [
           {
            "colorbar": {
             "outlinewidth": 0,
             "ticks": ""
            },
            "colorscale": [
             [
              0,
              "#0d0887"
             ],
             [
              0.1111111111111111,
              "#46039f"
             ],
             [
              0.2222222222222222,
              "#7201a8"
             ],
             [
              0.3333333333333333,
              "#9c179e"
             ],
             [
              0.4444444444444444,
              "#bd3786"
             ],
             [
              0.5555555555555556,
              "#d8576b"
             ],
             [
              0.6666666666666666,
              "#ed7953"
             ],
             [
              0.7777777777777778,
              "#fb9f3a"
             ],
             [
              0.8888888888888888,
              "#fdca26"
             ],
             [
              1,
              "#f0f921"
             ]
            ],
            "type": "heatmapgl"
           }
          ],
          "histogram": [
           {
            "marker": {
             "colorbar": {
              "outlinewidth": 0,
              "ticks": ""
             }
            },
            "type": "histogram"
           }
          ],
          "histogram2d": [
           {
            "colorbar": {
             "outlinewidth": 0,
             "ticks": ""
            },
            "colorscale": [
             [
              0,
              "#0d0887"
             ],
             [
              0.1111111111111111,
              "#46039f"
             ],
             [
              0.2222222222222222,
              "#7201a8"
             ],
             [
              0.3333333333333333,
              "#9c179e"
             ],
             [
              0.4444444444444444,
              "#bd3786"
             ],
             [
              0.5555555555555556,
              "#d8576b"
             ],
             [
              0.6666666666666666,
              "#ed7953"
             ],
             [
              0.7777777777777778,
              "#fb9f3a"
             ],
             [
              0.8888888888888888,
              "#fdca26"
             ],
             [
              1,
              "#f0f921"
             ]
            ],
            "type": "histogram2d"
           }
          ],
          "histogram2dcontour": [
           {
            "colorbar": {
             "outlinewidth": 0,
             "ticks": ""
            },
            "colorscale": [
             [
              0,
              "#0d0887"
             ],
             [
              0.1111111111111111,
              "#46039f"
             ],
             [
              0.2222222222222222,
              "#7201a8"
             ],
             [
              0.3333333333333333,
              "#9c179e"
             ],
             [
              0.4444444444444444,
              "#bd3786"
             ],
             [
              0.5555555555555556,
              "#d8576b"
             ],
             [
              0.6666666666666666,
              "#ed7953"
             ],
             [
              0.7777777777777778,
              "#fb9f3a"
             ],
             [
              0.8888888888888888,
              "#fdca26"
             ],
             [
              1,
              "#f0f921"
             ]
            ],
            "type": "histogram2dcontour"
           }
          ],
          "mesh3d": [
           {
            "colorbar": {
             "outlinewidth": 0,
             "ticks": ""
            },
            "type": "mesh3d"
           }
          ],
          "parcoords": [
           {
            "line": {
             "colorbar": {
              "outlinewidth": 0,
              "ticks": ""
             }
            },
            "type": "parcoords"
           }
          ],
          "pie": [
           {
            "automargin": true,
            "type": "pie"
           }
          ],
          "scatter": [
           {
            "marker": {
             "colorbar": {
              "outlinewidth": 0,
              "ticks": ""
             }
            },
            "type": "scatter"
           }
          ],
          "scatter3d": [
           {
            "line": {
             "colorbar": {
              "outlinewidth": 0,
              "ticks": ""
             }
            },
            "marker": {
             "colorbar": {
              "outlinewidth": 0,
              "ticks": ""
             }
            },
            "type": "scatter3d"
           }
          ],
          "scattercarpet": [
           {
            "marker": {
             "colorbar": {
              "outlinewidth": 0,
              "ticks": ""
             }
            },
            "type": "scattercarpet"
           }
          ],
          "scattergeo": [
           {
            "marker": {
             "colorbar": {
              "outlinewidth": 0,
              "ticks": ""
             }
            },
            "type": "scattergeo"
           }
          ],
          "scattergl": [
           {
            "marker": {
             "colorbar": {
              "outlinewidth": 0,
              "ticks": ""
             }
            },
            "type": "scattergl"
           }
          ],
          "scattermapbox": [
           {
            "marker": {
             "colorbar": {
              "outlinewidth": 0,
              "ticks": ""
             }
            },
            "type": "scattermapbox"
           }
          ],
          "scatterpolar": [
           {
            "marker": {
             "colorbar": {
              "outlinewidth": 0,
              "ticks": ""
             }
            },
            "type": "scatterpolar"
           }
          ],
          "scatterpolargl": [
           {
            "marker": {
             "colorbar": {
              "outlinewidth": 0,
              "ticks": ""
             }
            },
            "type": "scatterpolargl"
           }
          ],
          "scatterternary": [
           {
            "marker": {
             "colorbar": {
              "outlinewidth": 0,
              "ticks": ""
             }
            },
            "type": "scatterternary"
           }
          ],
          "surface": [
           {
            "colorbar": {
             "outlinewidth": 0,
             "ticks": ""
            },
            "colorscale": [
             [
              0,
              "#0d0887"
             ],
             [
              0.1111111111111111,
              "#46039f"
             ],
             [
              0.2222222222222222,
              "#7201a8"
             ],
             [
              0.3333333333333333,
              "#9c179e"
             ],
             [
              0.4444444444444444,
              "#bd3786"
             ],
             [
              0.5555555555555556,
              "#d8576b"
             ],
             [
              0.6666666666666666,
              "#ed7953"
             ],
             [
              0.7777777777777778,
              "#fb9f3a"
             ],
             [
              0.8888888888888888,
              "#fdca26"
             ],
             [
              1,
              "#f0f921"
             ]
            ],
            "type": "surface"
           }
          ],
          "table": [
           {
            "cells": {
             "fill": {
              "color": "#EBF0F8"
             },
             "line": {
              "color": "white"
             }
            },
            "header": {
             "fill": {
              "color": "#C8D4E3"
             },
             "line": {
              "color": "white"
             }
            },
            "type": "table"
           }
          ]
         },
         "layout": {
          "annotationdefaults": {
           "arrowcolor": "#2a3f5f",
           "arrowhead": 0,
           "arrowwidth": 1
          },
          "autotypenumbers": "strict",
          "coloraxis": {
           "colorbar": {
            "outlinewidth": 0,
            "ticks": ""
           }
          },
          "colorscale": {
           "diverging": [
            [
             0,
             "#8e0152"
            ],
            [
             0.1,
             "#c51b7d"
            ],
            [
             0.2,
             "#de77ae"
            ],
            [
             0.3,
             "#f1b6da"
            ],
            [
             0.4,
             "#fde0ef"
            ],
            [
             0.5,
             "#f7f7f7"
            ],
            [
             0.6,
             "#e6f5d0"
            ],
            [
             0.7,
             "#b8e186"
            ],
            [
             0.8,
             "#7fbc41"
            ],
            [
             0.9,
             "#4d9221"
            ],
            [
             1,
             "#276419"
            ]
           ],
           "sequential": [
            [
             0,
             "#0d0887"
            ],
            [
             0.1111111111111111,
             "#46039f"
            ],
            [
             0.2222222222222222,
             "#7201a8"
            ],
            [
             0.3333333333333333,
             "#9c179e"
            ],
            [
             0.4444444444444444,
             "#bd3786"
            ],
            [
             0.5555555555555556,
             "#d8576b"
            ],
            [
             0.6666666666666666,
             "#ed7953"
            ],
            [
             0.7777777777777778,
             "#fb9f3a"
            ],
            [
             0.8888888888888888,
             "#fdca26"
            ],
            [
             1,
             "#f0f921"
            ]
           ],
           "sequentialminus": [
            [
             0,
             "#0d0887"
            ],
            [
             0.1111111111111111,
             "#46039f"
            ],
            [
             0.2222222222222222,
             "#7201a8"
            ],
            [
             0.3333333333333333,
             "#9c179e"
            ],
            [
             0.4444444444444444,
             "#bd3786"
            ],
            [
             0.5555555555555556,
             "#d8576b"
            ],
            [
             0.6666666666666666,
             "#ed7953"
            ],
            [
             0.7777777777777778,
             "#fb9f3a"
            ],
            [
             0.8888888888888888,
             "#fdca26"
            ],
            [
             1,
             "#f0f921"
            ]
           ]
          },
          "colorway": [
           "#636efa",
           "#EF553B",
           "#00cc96",
           "#ab63fa",
           "#FFA15A",
           "#19d3f3",
           "#FF6692",
           "#B6E880",
           "#FF97FF",
           "#FECB52"
          ],
          "font": {
           "color": "#2a3f5f"
          },
          "geo": {
           "bgcolor": "white",
           "lakecolor": "white",
           "landcolor": "#E5ECF6",
           "showlakes": true,
           "showland": true,
           "subunitcolor": "white"
          },
          "hoverlabel": {
           "align": "left"
          },
          "hovermode": "closest",
          "mapbox": {
           "style": "light"
          },
          "paper_bgcolor": "white",
          "plot_bgcolor": "#E5ECF6",
          "polar": {
           "angularaxis": {
            "gridcolor": "white",
            "linecolor": "white",
            "ticks": ""
           },
           "bgcolor": "#E5ECF6",
           "radialaxis": {
            "gridcolor": "white",
            "linecolor": "white",
            "ticks": ""
           }
          },
          "scene": {
           "xaxis": {
            "backgroundcolor": "#E5ECF6",
            "gridcolor": "white",
            "gridwidth": 2,
            "linecolor": "white",
            "showbackground": true,
            "ticks": "",
            "zerolinecolor": "white"
           },
           "yaxis": {
            "backgroundcolor": "#E5ECF6",
            "gridcolor": "white",
            "gridwidth": 2,
            "linecolor": "white",
            "showbackground": true,
            "ticks": "",
            "zerolinecolor": "white"
           },
           "zaxis": {
            "backgroundcolor": "#E5ECF6",
            "gridcolor": "white",
            "gridwidth": 2,
            "linecolor": "white",
            "showbackground": true,
            "ticks": "",
            "zerolinecolor": "white"
           }
          },
          "shapedefaults": {
           "line": {
            "color": "#2a3f5f"
           }
          },
          "ternary": {
           "aaxis": {
            "gridcolor": "white",
            "linecolor": "white",
            "ticks": ""
           },
           "baxis": {
            "gridcolor": "white",
            "linecolor": "white",
            "ticks": ""
           },
           "bgcolor": "#E5ECF6",
           "caxis": {
            "gridcolor": "white",
            "linecolor": "white",
            "ticks": ""
           }
          },
          "title": {
           "x": 0.05
          },
          "xaxis": {
           "automargin": true,
           "gridcolor": "white",
           "linecolor": "white",
           "ticks": "",
           "title": {
            "standoff": 15
           },
           "zerolinecolor": "white",
           "zerolinewidth": 2
          },
          "yaxis": {
           "automargin": true,
           "gridcolor": "white",
           "linecolor": "white",
           "ticks": "",
           "title": {
            "standoff": 15
           },
           "zerolinecolor": "white",
           "zerolinewidth": 2
          }
         }
        }
       }
      },
      "text/html": [
       "<div\n",
       "    class=\"webio-mountpoint\"\n",
       "    data-webio-mountpoint=\"7858361640251819641\"\n",
       ">\n",
       "    <script>\n",
       "    (function(){\n",
       "    // Some integrations (namely, IJulia/Jupyter) use an alternate render pathway than\n",
       "    // just putting the html on the page. If WebIO isn't defined, then it's pretty likely\n",
       "    // that we're in one of those situations and the integration just isn't installed\n",
       "    // correctly.\n",
       "    if (typeof window.WebIO === \"undefined\") {\n",
       "        document\n",
       "            .querySelector('[data-webio-mountpoint=\"7858361640251819641\"]')\n",
       "            .innerHTML = (\n",
       "                '<div style=\"padding: 1em; background-color: #f8d6da; border: 1px solid #f5c6cb; font-weight: bold;\">' +\n",
       "                '<p><strong>WebIO not detected.</strong></p>' +\n",
       "                '<p>Please read ' +\n",
       "                '<a href=\"https://juliagizmos.github.io/WebIO.jl/latest/troubleshooting/not-detected/\" target=\"_blank\">the troubleshooting guide</a> ' +\n",
       "                'for more information on how to resolve this issue.</p>' +\n",
       "                '<p><a href=\"https://juliagizmos.github.io/WebIO.jl/latest/troubleshooting/not-detected/\" target=\"_blank\">https://juliagizmos.github.io/WebIO.jl/latest/troubleshooting/not-detected/</a></p>' +\n",
       "                '</div>'\n",
       "            );\n",
       "        return;\n",
       "    }\n",
       "    WebIO.mount(\n",
       "        document.querySelector('[data-webio-mountpoint=\"7858361640251819641\"]'),\n",
       "        {\"props\":{},\"nodeType\":\"Scope\",\"type\":\"node\",\"instanceArgs\":{\"imports\":{\"data\":[{\"name\":\"Plotly\",\"type\":\"js\",\"url\":\"\\/assetserver\\/1d0a2547083b6cf804ecf48cc75ab762e7f10fdd-plotly.min.js\"},{\"name\":null,\"type\":\"js\",\"url\":\"\\/assetserver\\/1c0dafb7088f77e67e5fe80560875f3745bed0f0-plotly_webio.bundle.js\"}],\"type\":\"async_block\"},\"id\":\"17779480578942505062\",\"handlers\":{\"_toImage\":[\"(function (options){return this.Plotly.toImage(this.plotElem,options).then((function (data){return WebIO.setval({\\\"name\\\":\\\"image\\\",\\\"scope\\\":\\\"17779480578942505062\\\",\\\"id\\\":\\\"11646526804259119930\\\",\\\"type\\\":\\\"observable\\\"},data)}))})\"],\"__get_gd_contents\":[\"(function (prop){prop==\\\"data\\\" ? (WebIO.setval({\\\"name\\\":\\\"__gd_contents\\\",\\\"scope\\\":\\\"17779480578942505062\\\",\\\"id\\\":\\\"7271049942678670163\\\",\\\"type\\\":\\\"observable\\\"},this.plotElem.data)) : undefined; return prop==\\\"layout\\\" ? (WebIO.setval({\\\"name\\\":\\\"__gd_contents\\\",\\\"scope\\\":\\\"17779480578942505062\\\",\\\"id\\\":\\\"7271049942678670163\\\",\\\"type\\\":\\\"observable\\\"},this.plotElem.layout)) : undefined})\"],\"_downloadImage\":[\"(function (options){return this.Plotly.downloadImage(this.plotElem,options)})\"],\"_commands\":[\"(function (args){var fn=args.shift(); var elem=this.plotElem; var Plotly=this.Plotly; args.unshift(elem); return Plotly[fn].apply(this,args)})\"]},\"systemjs_options\":null,\"mount_callbacks\":[\"function () {\\n    var handler = ((function (Plotly,PlotlyWebIO){PlotlyWebIO.init(WebIO); var gd=this.dom.querySelector(\\\"#plot-42b38633-519d-4f71-b7bb-a82ee7ed3f97\\\"); this.plotElem=gd; this.Plotly=Plotly; (window.Blink!==undefined) ? (gd.style.width=\\\"100%\\\", gd.style.height=\\\"100vh\\\", gd.style.marginLeft=\\\"0%\\\", gd.style.marginTop=\\\"0vh\\\") : undefined; window.onresize=(function (){return Plotly.Plots.resize(gd)}); Plotly.newPlot(gd,[{\\\"y\\\":[36403,3481,2619,1949],\\\"type\\\":\\\"bar\\\",\\\"x\\\":[\\\"1a\\\",\\\"7a\\\",\\\"7\\\",\\\"1\\\"]}],{\\\"template\\\":{\\\"layout\\\":{\\\"coloraxis\\\":{\\\"colorbar\\\":{\\\"ticks\\\":\\\"\\\",\\\"outlinewidth\\\":0}},\\\"xaxis\\\":{\\\"gridcolor\\\":\\\"white\\\",\\\"zerolinewidth\\\":2,\\\"title\\\":{\\\"standoff\\\":15},\\\"ticks\\\":\\\"\\\",\\\"zerolinecolor\\\":\\\"white\\\",\\\"automargin\\\":true,\\\"linecolor\\\":\\\"white\\\"},\\\"hovermode\\\":\\\"closest\\\",\\\"paper_bgcolor\\\":\\\"white\\\",\\\"geo\\\":{\\\"showlakes\\\":true,\\\"showland\\\":true,\\\"landcolor\\\":\\\"#E5ECF6\\\",\\\"bgcolor\\\":\\\"white\\\",\\\"subunitcolor\\\":\\\"white\\\",\\\"lakecolor\\\":\\\"white\\\"},\\\"colorscale\\\":{\\\"sequential\\\":[[0.0,\\\"#0d0887\\\"],[0.1111111111111111,\\\"#46039f\\\"],[0.2222222222222222,\\\"#7201a8\\\"],[0.3333333333333333,\\\"#9c179e\\\"],[0.4444444444444444,\\\"#bd3786\\\"],[0.5555555555555556,\\\"#d8576b\\\"],[0.6666666666666666,\\\"#ed7953\\\"],[0.7777777777777778,\\\"#fb9f3a\\\"],[0.8888888888888888,\\\"#fdca26\\\"],[1.0,\\\"#f0f921\\\"]],\\\"diverging\\\":[[0,\\\"#8e0152\\\"],[0.1,\\\"#c51b7d\\\"],[0.2,\\\"#de77ae\\\"],[0.3,\\\"#f1b6da\\\"],[0.4,\\\"#fde0ef\\\"],[0.5,\\\"#f7f7f7\\\"],[0.6,\\\"#e6f5d0\\\"],[0.7,\\\"#b8e186\\\"],[0.8,\\\"#7fbc41\\\"],[0.9,\\\"#4d9221\\\"],[1,\\\"#276419\\\"]],\\\"sequentialminus\\\":[[0.0,\\\"#0d0887\\\"],[0.1111111111111111,\\\"#46039f\\\"],[0.2222222222222222,\\\"#7201a8\\\"],[0.3333333333333333,\\\"#9c179e\\\"],[0.4444444444444444,\\\"#bd3786\\\"],[0.5555555555555556,\\\"#d8576b\\\"],[0.6666666666666666,\\\"#ed7953\\\"],[0.7777777777777778,\\\"#fb9f3a\\\"],[0.8888888888888888,\\\"#fdca26\\\"],[1.0,\\\"#f0f921\\\"]]},\\\"yaxis\\\":{\\\"gridcolor\\\":\\\"white\\\",\\\"zerolinewidth\\\":2,\\\"title\\\":{\\\"standoff\\\":15},\\\"ticks\\\":\\\"\\\",\\\"zerolinecolor\\\":\\\"white\\\",\\\"automargin\\\":true,\\\"linecolor\\\":\\\"white\\\"},\\\"shapedefaults\\\":{\\\"line\\\":{\\\"color\\\":\\\"#2a3f5f\\\"}},\\\"hoverlabel\\\":{\\\"align\\\":\\\"left\\\"},\\\"mapbox\\\":{\\\"style\\\":\\\"light\\\"},\\\"polar\\\":{\\\"angularaxis\\\":{\\\"gridcolor\\\":\\\"white\\\",\\\"ticks\\\":\\\"\\\",\\\"linecolor\\\":\\\"white\\\"},\\\"bgcolor\\\":\\\"#E5ECF6\\\",\\\"radialaxis\\\":{\\\"gridcolor\\\":\\\"white\\\",\\\"ticks\\\":\\\"\\\",\\\"linecolor\\\":\\\"white\\\"}},\\\"autotypenumbers\\\":\\\"strict\\\",\\\"font\\\":{\\\"color\\\":\\\"#2a3f5f\\\"},\\\"ternary\\\":{\\\"baxis\\\":{\\\"gridcolor\\\":\\\"white\\\",\\\"ticks\\\":\\\"\\\",\\\"linecolor\\\":\\\"white\\\"},\\\"bgcolor\\\":\\\"#E5ECF6\\\",\\\"caxis\\\":{\\\"gridcolor\\\":\\\"white\\\",\\\"ticks\\\":\\\"\\\",\\\"linecolor\\\":\\\"white\\\"},\\\"aaxis\\\":{\\\"gridcolor\\\":\\\"white\\\",\\\"ticks\\\":\\\"\\\",\\\"linecolor\\\":\\\"white\\\"}},\\\"annotationdefaults\\\":{\\\"arrowhead\\\":0,\\\"arrowwidth\\\":1,\\\"arrowcolor\\\":\\\"#2a3f5f\\\"},\\\"plot_bgcolor\\\":\\\"#E5ECF6\\\",\\\"title\\\":{\\\"x\\\":0.05},\\\"scene\\\":{\\\"xaxis\\\":{\\\"gridcolor\\\":\\\"white\\\",\\\"gridwidth\\\":2,\\\"backgroundcolor\\\":\\\"#E5ECF6\\\",\\\"ticks\\\":\\\"\\\",\\\"showbackground\\\":true,\\\"zerolinecolor\\\":\\\"white\\\",\\\"linecolor\\\":\\\"white\\\"},\\\"zaxis\\\":{\\\"gridcolor\\\":\\\"white\\\",\\\"gridwidth\\\":2,\\\"backgroundcolor\\\":\\\"#E5ECF6\\\",\\\"ticks\\\":\\\"\\\",\\\"showbackground\\\":true,\\\"zerolinecolor\\\":\\\"white\\\",\\\"linecolor\\\":\\\"white\\\"},\\\"yaxis\\\":{\\\"gridcolor\\\":\\\"white\\\",\\\"gridwidth\\\":2,\\\"backgroundcolor\\\":\\\"#E5ECF6\\\",\\\"ticks\\\":\\\"\\\",\\\"showbackground\\\":true,\\\"zerolinecolor\\\":\\\"white\\\",\\\"linecolor\\\":\\\"white\\\"}},\\\"colorway\\\":[\\\"#636efa\\\",\\\"#EF553B\\\",\\\"#00cc96\\\",\\\"#ab63fa\\\",\\\"#FFA15A\\\",\\\"#19d3f3\\\",\\\"#FF6692\\\",\\\"#B6E880\\\",\\\"#FF97FF\\\",\\\"#FECB52\\\"]},\\\"data\\\":{\\\"barpolar\\\":[{\\\"type\\\":\\\"barpolar\\\",\\\"marker\\\":{\\\"line\\\":{\\\"color\\\":\\\"#E5ECF6\\\",\\\"width\\\":0.5}}}],\\\"carpet\\\":[{\\\"aaxis\\\":{\\\"gridcolor\\\":\\\"white\\\",\\\"endlinecolor\\\":\\\"#2a3f5f\\\",\\\"minorgridcolor\\\":\\\"white\\\",\\\"startlinecolor\\\":\\\"#2a3f5f\\\",\\\"linecolor\\\":\\\"white\\\"},\\\"type\\\":\\\"carpet\\\",\\\"baxis\\\":{\\\"gridcolor\\\":\\\"white\\\",\\\"endlinecolor\\\":\\\"#2a3f5f\\\",\\\"minorgridcolor\\\":\\\"white\\\",\\\"startlinecolor\\\":\\\"#2a3f5f\\\",\\\"linecolor\\\":\\\"white\\\"}}],\\\"scatterpolar\\\":[{\\\"type\\\":\\\"scatterpolar\\\",\\\"marker\\\":{\\\"colorbar\\\":{\\\"ticks\\\":\\\"\\\",\\\"outlinewidth\\\":0}}}],\\\"parcoords\\\":[{\\\"line\\\":{\\\"colorbar\\\":{\\\"ticks\\\":\\\"\\\",\\\"outlinewidth\\\":0}},\\\"type\\\":\\\"parcoords\\\"}],\\\"scatter\\\":[{\\\"type\\\":\\\"scatter\\\",\\\"marker\\\":{\\\"colorbar\\\":{\\\"ticks\\\":\\\"\\\",\\\"outlinewidth\\\":0}}}],\\\"histogram2dcontour\\\":[{\\\"colorbar\\\":{\\\"ticks\\\":\\\"\\\",\\\"outlinewidth\\\":0},\\\"type\\\":\\\"histogram2dcontour\\\",\\\"colorscale\\\":[[0.0,\\\"#0d0887\\\"],[0.1111111111111111,\\\"#46039f\\\"],[0.2222222222222222,\\\"#7201a8\\\"],[0.3333333333333333,\\\"#9c179e\\\"],[0.4444444444444444,\\\"#bd3786\\\"],[0.5555555555555556,\\\"#d8576b\\\"],[0.6666666666666666,\\\"#ed7953\\\"],[0.7777777777777778,\\\"#fb9f3a\\\"],[0.8888888888888888,\\\"#fdca26\\\"],[1.0,\\\"#f0f921\\\"]]}],\\\"contour\\\":[{\\\"colorbar\\\":{\\\"ticks\\\":\\\"\\\",\\\"outlinewidth\\\":0},\\\"type\\\":\\\"contour\\\",\\\"colorscale\\\":[[0.0,\\\"#0d0887\\\"],[0.1111111111111111,\\\"#46039f\\\"],[0.2222222222222222,\\\"#7201a8\\\"],[0.3333333333333333,\\\"#9c179e\\\"],[0.4444444444444444,\\\"#bd3786\\\"],[0.5555555555555556,\\\"#d8576b\\\"],[0.6666666666666666,\\\"#ed7953\\\"],[0.7777777777777778,\\\"#fb9f3a\\\"],[0.8888888888888888,\\\"#fdca26\\\"],[1.0,\\\"#f0f921\\\"]]}],\\\"scattercarpet\\\":[{\\\"type\\\":\\\"scattercarpet\\\",\\\"marker\\\":{\\\"colorbar\\\":{\\\"ticks\\\":\\\"\\\",\\\"outlinewidth\\\":0}}}],\\\"mesh3d\\\":[{\\\"colorbar\\\":{\\\"ticks\\\":\\\"\\\",\\\"outlinewidth\\\":0},\\\"type\\\":\\\"mesh3d\\\"}],\\\"surface\\\":[{\\\"colorbar\\\":{\\\"ticks\\\":\\\"\\\",\\\"outlinewidth\\\":0},\\\"type\\\":\\\"surface\\\",\\\"colorscale\\\":[[0.0,\\\"#0d0887\\\"],[0.1111111111111111,\\\"#46039f\\\"],[0.2222222222222222,\\\"#7201a8\\\"],[0.3333333333333333,\\\"#9c179e\\\"],[0.4444444444444444,\\\"#bd3786\\\"],[0.5555555555555556,\\\"#d8576b\\\"],[0.6666666666666666,\\\"#ed7953\\\"],[0.7777777777777778,\\\"#fb9f3a\\\"],[0.8888888888888888,\\\"#fdca26\\\"],[1.0,\\\"#f0f921\\\"]]}],\\\"scattermapbox\\\":[{\\\"type\\\":\\\"scattermapbox\\\",\\\"marker\\\":{\\\"colorbar\\\":{\\\"ticks\\\":\\\"\\\",\\\"outlinewidth\\\":0}}}],\\\"scattergeo\\\":[{\\\"type\\\":\\\"scattergeo\\\",\\\"marker\\\":{\\\"colorbar\\\":{\\\"ticks\\\":\\\"\\\",\\\"outlinewidth\\\":0}}}],\\\"histogram\\\":[{\\\"type\\\":\\\"histogram\\\",\\\"marker\\\":{\\\"colorbar\\\":{\\\"ticks\\\":\\\"\\\",\\\"outlinewidth\\\":0}}}],\\\"pie\\\":[{\\\"type\\\":\\\"pie\\\",\\\"automargin\\\":true}],\\\"choropleth\\\":[{\\\"colorbar\\\":{\\\"ticks\\\":\\\"\\\",\\\"outlinewidth\\\":0},\\\"type\\\":\\\"choropleth\\\"}],\\\"heatmapgl\\\":[{\\\"colorbar\\\":{\\\"ticks\\\":\\\"\\\",\\\"outlinewidth\\\":0},\\\"type\\\":\\\"heatmapgl\\\",\\\"colorscale\\\":[[0.0,\\\"#0d0887\\\"],[0.1111111111111111,\\\"#46039f\\\"],[0.2222222222222222,\\\"#7201a8\\\"],[0.3333333333333333,\\\"#9c179e\\\"],[0.4444444444444444,\\\"#bd3786\\\"],[0.5555555555555556,\\\"#d8576b\\\"],[0.6666666666666666,\\\"#ed7953\\\"],[0.7777777777777778,\\\"#fb9f3a\\\"],[0.8888888888888888,\\\"#fdca26\\\"],[1.0,\\\"#f0f921\\\"]]}],\\\"bar\\\":[{\\\"type\\\":\\\"bar\\\",\\\"error_y\\\":{\\\"color\\\":\\\"#2a3f5f\\\"},\\\"error_x\\\":{\\\"color\\\":\\\"#2a3f5f\\\"},\\\"marker\\\":{\\\"line\\\":{\\\"color\\\":\\\"#E5ECF6\\\",\\\"width\\\":0.5}}}],\\\"heatmap\\\":[{\\\"colorbar\\\":{\\\"ticks\\\":\\\"\\\",\\\"outlinewidth\\\":0},\\\"type\\\":\\\"heatmap\\\",\\\"colorscale\\\":[[0.0,\\\"#0d0887\\\"],[0.1111111111111111,\\\"#46039f\\\"],[0.2222222222222222,\\\"#7201a8\\\"],[0.3333333333333333,\\\"#9c179e\\\"],[0.4444444444444444,\\\"#bd3786\\\"],[0.5555555555555556,\\\"#d8576b\\\"],[0.6666666666666666,\\\"#ed7953\\\"],[0.7777777777777778,\\\"#fb9f3a\\\"],[0.8888888888888888,\\\"#fdca26\\\"],[1.0,\\\"#f0f921\\\"]]}],\\\"contourcarpet\\\":[{\\\"colorbar\\\":{\\\"ticks\\\":\\\"\\\",\\\"outlinewidth\\\":0},\\\"type\\\":\\\"contourcarpet\\\"}],\\\"table\\\":[{\\\"type\\\":\\\"table\\\",\\\"header\\\":{\\\"line\\\":{\\\"color\\\":\\\"white\\\"},\\\"fill\\\":{\\\"color\\\":\\\"#C8D4E3\\\"}},\\\"cells\\\":{\\\"line\\\":{\\\"color\\\":\\\"white\\\"},\\\"fill\\\":{\\\"color\\\":\\\"#EBF0F8\\\"}}}],\\\"scatter3d\\\":[{\\\"line\\\":{\\\"colorbar\\\":{\\\"ticks\\\":\\\"\\\",\\\"outlinewidth\\\":0}},\\\"type\\\":\\\"scatter3d\\\",\\\"marker\\\":{\\\"colorbar\\\":{\\\"ticks\\\":\\\"\\\",\\\"outlinewidth\\\":0}}}],\\\"scattergl\\\":[{\\\"type\\\":\\\"scattergl\\\",\\\"marker\\\":{\\\"colorbar\\\":{\\\"ticks\\\":\\\"\\\",\\\"outlinewidth\\\":0}}}],\\\"histogram2d\\\":[{\\\"colorbar\\\":{\\\"ticks\\\":\\\"\\\",\\\"outlinewidth\\\":0},\\\"type\\\":\\\"histogram2d\\\",\\\"colorscale\\\":[[0.0,\\\"#0d0887\\\"],[0.1111111111111111,\\\"#46039f\\\"],[0.2222222222222222,\\\"#7201a8\\\"],[0.3333333333333333,\\\"#9c179e\\\"],[0.4444444444444444,\\\"#bd3786\\\"],[0.5555555555555556,\\\"#d8576b\\\"],[0.6666666666666666,\\\"#ed7953\\\"],[0.7777777777777778,\\\"#fb9f3a\\\"],[0.8888888888888888,\\\"#fdca26\\\"],[1.0,\\\"#f0f921\\\"]]}],\\\"scatterternary\\\":[{\\\"type\\\":\\\"scatterternary\\\",\\\"marker\\\":{\\\"colorbar\\\":{\\\"ticks\\\":\\\"\\\",\\\"outlinewidth\\\":0}}}],\\\"scatterpolargl\\\":[{\\\"type\\\":\\\"scatterpolargl\\\",\\\"marker\\\":{\\\"colorbar\\\":{\\\"ticks\\\":\\\"\\\",\\\"outlinewidth\\\":0}}}]}},\\\"margin\\\":{\\\"l\\\":50,\\\"b\\\":50,\\\"r\\\":50,\\\"t\\\":60}},{\\\"showLink\\\":false,\\\"editable\\\":false,\\\"responsive\\\":true,\\\"staticPlot\\\":false,\\\"scrollZoom\\\":true}); gd.on(\\\"plotly_hover\\\",(function (data){var filtered_data=WebIO.PlotlyCommands.filterEventData(gd,data,\\\"hover\\\"); return !(filtered_data.isnil) ? (WebIO.setval({\\\"name\\\":\\\"hover\\\",\\\"scope\\\":\\\"17779480578942505062\\\",\\\"id\\\":\\\"10689977219081662211\\\",\\\"type\\\":\\\"observable\\\"},filtered_data.out)) : undefined})); gd.on(\\\"plotly_unhover\\\",(function (){return WebIO.setval({\\\"name\\\":\\\"hover\\\",\\\"scope\\\":\\\"17779480578942505062\\\",\\\"id\\\":\\\"10689977219081662211\\\",\\\"type\\\":\\\"observable\\\"},{})})); gd.on(\\\"plotly_selected\\\",(function (data){var filtered_data=WebIO.PlotlyCommands.filterEventData(gd,data,\\\"selected\\\"); return !(filtered_data.isnil) ? (WebIO.setval({\\\"name\\\":\\\"selected\\\",\\\"scope\\\":\\\"17779480578942505062\\\",\\\"id\\\":\\\"9046088095761491310\\\",\\\"type\\\":\\\"observable\\\"},filtered_data.out)) : undefined})); gd.on(\\\"plotly_deselect\\\",(function (){return WebIO.setval({\\\"name\\\":\\\"selected\\\",\\\"scope\\\":\\\"17779480578942505062\\\",\\\"id\\\":\\\"9046088095761491310\\\",\\\"type\\\":\\\"observable\\\"},{})})); gd.on(\\\"plotly_relayout\\\",(function (data){var filtered_data=WebIO.PlotlyCommands.filterEventData(gd,data,\\\"relayout\\\"); return !(filtered_data.isnil) ? (WebIO.setval({\\\"name\\\":\\\"relayout\\\",\\\"scope\\\":\\\"17779480578942505062\\\",\\\"id\\\":\\\"5151572381712041502\\\",\\\"type\\\":\\\"observable\\\"},filtered_data.out)) : undefined})); return gd.on(\\\"plotly_click\\\",(function (data){var filtered_data=WebIO.PlotlyCommands.filterEventData(gd,data,\\\"click\\\"); return !(filtered_data.isnil) ? (WebIO.setval({\\\"name\\\":\\\"click\\\",\\\"scope\\\":\\\"17779480578942505062\\\",\\\"id\\\":\\\"11457618360635747761\\\",\\\"type\\\":\\\"observable\\\"},filtered_data.out)) : undefined}))}));\\n    (WebIO.importBlock({\\\"data\\\":[{\\\"name\\\":\\\"Plotly\\\",\\\"type\\\":\\\"js\\\",\\\"url\\\":\\\"\\/assetserver\\/1d0a2547083b6cf804ecf48cc75ab762e7f10fdd-plotly.min.js\\\"},{\\\"name\\\":null,\\\"type\\\":\\\"js\\\",\\\"url\\\":\\\"\\/assetserver\\/1c0dafb7088f77e67e5fe80560875f3745bed0f0-plotly_webio.bundle.js\\\"}],\\\"type\\\":\\\"async_block\\\"})).then((imports) => handler.apply(this, imports));\\n}\\n\"],\"observables\":{\"_toImage\":{\"sync\":true,\"id\":\"2939146724779791507\",\"value\":{}},\"hover\":{\"sync\":false,\"id\":\"10689977219081662211\",\"value\":{}},\"selected\":{\"sync\":false,\"id\":\"9046088095761491310\",\"value\":{}},\"__gd_contents\":{\"sync\":false,\"id\":\"7271049942678670163\",\"value\":{}},\"click\":{\"sync\":false,\"id\":\"11457618360635747761\",\"value\":{}},\"image\":{\"sync\":true,\"id\":\"11646526804259119930\",\"value\":\"\"},\"__get_gd_contents\":{\"sync\":true,\"id\":\"16779265660288272608\",\"value\":\"\"},\"_downloadImage\":{\"sync\":true,\"id\":\"160910846332241468\",\"value\":{}},\"relayout\":{\"sync\":false,\"id\":\"5151572381712041502\",\"value\":{}},\"_commands\":{\"sync\":true,\"id\":\"8029858816844380600\",\"value\":[]}}},\"children\":[{\"props\":{\"id\":\"plot-42b38633-519d-4f71-b7bb-a82ee7ed3f97\"},\"nodeType\":\"DOM\",\"type\":\"node\",\"instanceArgs\":{\"namespace\":\"html\",\"tag\":\"div\"},\"children\":[]}]},\n",
       "        window,\n",
       "    );\n",
       "    })()\n",
       "    </script>\n",
       "</div>\n"
      ],
      "text/plain": [
       "data: [\n",
       "  \"bar with fields type, x, and y\"\n",
       "]\n",
       "\n",
       "layout: \"layout with fields margin and template\"\n",
       "\n"
      ]
     },
     "execution_count": 109,
     "metadata": {},
     "output_type": "execute_result"
    }
   ],
   "source": [
    "PlotlyJS.plot(nsents_df[\"# Sentences\"], x=nsents_df.Item, kind=\"bar\")"
   ]
  },
  {
   "cell_type": "code",
   "execution_count": 111,
   "metadata": {},
   "outputs": [
    {
     "data": {
      "application/vnd.plotly.v1+json": {
       "config": {
        "editable": false,
        "responsive": true,
        "scrollZoom": true,
        "showLink": false,
        "staticPlot": false
       },
       "data": [
        {
         "type": "bar",
         "x": [
          "1a",
          "7a",
          "7",
          "1"
         ],
         "y": [
          587418,
          56941,
          41712,
          30666
         ]
        }
       ],
       "frames": [],
       "layout": {
        "margin": {
         "b": 50,
         "l": 50,
         "r": 50,
         "t": 60
        },
        "template": {
         "data": {
          "bar": [
           {
            "error_x": {
             "color": "#2a3f5f"
            },
            "error_y": {
             "color": "#2a3f5f"
            },
            "marker": {
             "line": {
              "color": "#E5ECF6",
              "width": 0.5
             }
            },
            "type": "bar"
           }
          ],
          "barpolar": [
           {
            "marker": {
             "line": {
              "color": "#E5ECF6",
              "width": 0.5
             }
            },
            "type": "barpolar"
           }
          ],
          "carpet": [
           {
            "aaxis": {
             "endlinecolor": "#2a3f5f",
             "gridcolor": "white",
             "linecolor": "white",
             "minorgridcolor": "white",
             "startlinecolor": "#2a3f5f"
            },
            "baxis": {
             "endlinecolor": "#2a3f5f",
             "gridcolor": "white",
             "linecolor": "white",
             "minorgridcolor": "white",
             "startlinecolor": "#2a3f5f"
            },
            "type": "carpet"
           }
          ],
          "choropleth": [
           {
            "colorbar": {
             "outlinewidth": 0,
             "ticks": ""
            },
            "type": "choropleth"
           }
          ],
          "contour": [
           {
            "colorbar": {
             "outlinewidth": 0,
             "ticks": ""
            },
            "colorscale": [
             [
              0,
              "#0d0887"
             ],
             [
              0.1111111111111111,
              "#46039f"
             ],
             [
              0.2222222222222222,
              "#7201a8"
             ],
             [
              0.3333333333333333,
              "#9c179e"
             ],
             [
              0.4444444444444444,
              "#bd3786"
             ],
             [
              0.5555555555555556,
              "#d8576b"
             ],
             [
              0.6666666666666666,
              "#ed7953"
             ],
             [
              0.7777777777777778,
              "#fb9f3a"
             ],
             [
              0.8888888888888888,
              "#fdca26"
             ],
             [
              1,
              "#f0f921"
             ]
            ],
            "type": "contour"
           }
          ],
          "contourcarpet": [
           {
            "colorbar": {
             "outlinewidth": 0,
             "ticks": ""
            },
            "type": "contourcarpet"
           }
          ],
          "heatmap": [
           {
            "colorbar": {
             "outlinewidth": 0,
             "ticks": ""
            },
            "colorscale": [
             [
              0,
              "#0d0887"
             ],
             [
              0.1111111111111111,
              "#46039f"
             ],
             [
              0.2222222222222222,
              "#7201a8"
             ],
             [
              0.3333333333333333,
              "#9c179e"
             ],
             [
              0.4444444444444444,
              "#bd3786"
             ],
             [
              0.5555555555555556,
              "#d8576b"
             ],
             [
              0.6666666666666666,
              "#ed7953"
             ],
             [
              0.7777777777777778,
              "#fb9f3a"
             ],
             [
              0.8888888888888888,
              "#fdca26"
             ],
             [
              1,
              "#f0f921"
             ]
            ],
            "type": "heatmap"
           }
          ],
          "heatmapgl": [
           {
            "colorbar": {
             "outlinewidth": 0,
             "ticks": ""
            },
            "colorscale": [
             [
              0,
              "#0d0887"
             ],
             [
              0.1111111111111111,
              "#46039f"
             ],
             [
              0.2222222222222222,
              "#7201a8"
             ],
             [
              0.3333333333333333,
              "#9c179e"
             ],
             [
              0.4444444444444444,
              "#bd3786"
             ],
             [
              0.5555555555555556,
              "#d8576b"
             ],
             [
              0.6666666666666666,
              "#ed7953"
             ],
             [
              0.7777777777777778,
              "#fb9f3a"
             ],
             [
              0.8888888888888888,
              "#fdca26"
             ],
             [
              1,
              "#f0f921"
             ]
            ],
            "type": "heatmapgl"
           }
          ],
          "histogram": [
           {
            "marker": {
             "colorbar": {
              "outlinewidth": 0,
              "ticks": ""
             }
            },
            "type": "histogram"
           }
          ],
          "histogram2d": [
           {
            "colorbar": {
             "outlinewidth": 0,
             "ticks": ""
            },
            "colorscale": [
             [
              0,
              "#0d0887"
             ],
             [
              0.1111111111111111,
              "#46039f"
             ],
             [
              0.2222222222222222,
              "#7201a8"
             ],
             [
              0.3333333333333333,
              "#9c179e"
             ],
             [
              0.4444444444444444,
              "#bd3786"
             ],
             [
              0.5555555555555556,
              "#d8576b"
             ],
             [
              0.6666666666666666,
              "#ed7953"
             ],
             [
              0.7777777777777778,
              "#fb9f3a"
             ],
             [
              0.8888888888888888,
              "#fdca26"
             ],
             [
              1,
              "#f0f921"
             ]
            ],
            "type": "histogram2d"
           }
          ],
          "histogram2dcontour": [
           {
            "colorbar": {
             "outlinewidth": 0,
             "ticks": ""
            },
            "colorscale": [
             [
              0,
              "#0d0887"
             ],
             [
              0.1111111111111111,
              "#46039f"
             ],
             [
              0.2222222222222222,
              "#7201a8"
             ],
             [
              0.3333333333333333,
              "#9c179e"
             ],
             [
              0.4444444444444444,
              "#bd3786"
             ],
             [
              0.5555555555555556,
              "#d8576b"
             ],
             [
              0.6666666666666666,
              "#ed7953"
             ],
             [
              0.7777777777777778,
              "#fb9f3a"
             ],
             [
              0.8888888888888888,
              "#fdca26"
             ],
             [
              1,
              "#f0f921"
             ]
            ],
            "type": "histogram2dcontour"
           }
          ],
          "mesh3d": [
           {
            "colorbar": {
             "outlinewidth": 0,
             "ticks": ""
            },
            "type": "mesh3d"
           }
          ],
          "parcoords": [
           {
            "line": {
             "colorbar": {
              "outlinewidth": 0,
              "ticks": ""
             }
            },
            "type": "parcoords"
           }
          ],
          "pie": [
           {
            "automargin": true,
            "type": "pie"
           }
          ],
          "scatter": [
           {
            "marker": {
             "colorbar": {
              "outlinewidth": 0,
              "ticks": ""
             }
            },
            "type": "scatter"
           }
          ],
          "scatter3d": [
           {
            "line": {
             "colorbar": {
              "outlinewidth": 0,
              "ticks": ""
             }
            },
            "marker": {
             "colorbar": {
              "outlinewidth": 0,
              "ticks": ""
             }
            },
            "type": "scatter3d"
           }
          ],
          "scattercarpet": [
           {
            "marker": {
             "colorbar": {
              "outlinewidth": 0,
              "ticks": ""
             }
            },
            "type": "scattercarpet"
           }
          ],
          "scattergeo": [
           {
            "marker": {
             "colorbar": {
              "outlinewidth": 0,
              "ticks": ""
             }
            },
            "type": "scattergeo"
           }
          ],
          "scattergl": [
           {
            "marker": {
             "colorbar": {
              "outlinewidth": 0,
              "ticks": ""
             }
            },
            "type": "scattergl"
           }
          ],
          "scattermapbox": [
           {
            "marker": {
             "colorbar": {
              "outlinewidth": 0,
              "ticks": ""
             }
            },
            "type": "scattermapbox"
           }
          ],
          "scatterpolar": [
           {
            "marker": {
             "colorbar": {
              "outlinewidth": 0,
              "ticks": ""
             }
            },
            "type": "scatterpolar"
           }
          ],
          "scatterpolargl": [
           {
            "marker": {
             "colorbar": {
              "outlinewidth": 0,
              "ticks": ""
             }
            },
            "type": "scatterpolargl"
           }
          ],
          "scatterternary": [
           {
            "marker": {
             "colorbar": {
              "outlinewidth": 0,
              "ticks": ""
             }
            },
            "type": "scatterternary"
           }
          ],
          "surface": [
           {
            "colorbar": {
             "outlinewidth": 0,
             "ticks": ""
            },
            "colorscale": [
             [
              0,
              "#0d0887"
             ],
             [
              0.1111111111111111,
              "#46039f"
             ],
             [
              0.2222222222222222,
              "#7201a8"
             ],
             [
              0.3333333333333333,
              "#9c179e"
             ],
             [
              0.4444444444444444,
              "#bd3786"
             ],
             [
              0.5555555555555556,
              "#d8576b"
             ],
             [
              0.6666666666666666,
              "#ed7953"
             ],
             [
              0.7777777777777778,
              "#fb9f3a"
             ],
             [
              0.8888888888888888,
              "#fdca26"
             ],
             [
              1,
              "#f0f921"
             ]
            ],
            "type": "surface"
           }
          ],
          "table": [
           {
            "cells": {
             "fill": {
              "color": "#EBF0F8"
             },
             "line": {
              "color": "white"
             }
            },
            "header": {
             "fill": {
              "color": "#C8D4E3"
             },
             "line": {
              "color": "white"
             }
            },
            "type": "table"
           }
          ]
         },
         "layout": {
          "annotationdefaults": {
           "arrowcolor": "#2a3f5f",
           "arrowhead": 0,
           "arrowwidth": 1
          },
          "autotypenumbers": "strict",
          "coloraxis": {
           "colorbar": {
            "outlinewidth": 0,
            "ticks": ""
           }
          },
          "colorscale": {
           "diverging": [
            [
             0,
             "#8e0152"
            ],
            [
             0.1,
             "#c51b7d"
            ],
            [
             0.2,
             "#de77ae"
            ],
            [
             0.3,
             "#f1b6da"
            ],
            [
             0.4,
             "#fde0ef"
            ],
            [
             0.5,
             "#f7f7f7"
            ],
            [
             0.6,
             "#e6f5d0"
            ],
            [
             0.7,
             "#b8e186"
            ],
            [
             0.8,
             "#7fbc41"
            ],
            [
             0.9,
             "#4d9221"
            ],
            [
             1,
             "#276419"
            ]
           ],
           "sequential": [
            [
             0,
             "#0d0887"
            ],
            [
             0.1111111111111111,
             "#46039f"
            ],
            [
             0.2222222222222222,
             "#7201a8"
            ],
            [
             0.3333333333333333,
             "#9c179e"
            ],
            [
             0.4444444444444444,
             "#bd3786"
            ],
            [
             0.5555555555555556,
             "#d8576b"
            ],
            [
             0.6666666666666666,
             "#ed7953"
            ],
            [
             0.7777777777777778,
             "#fb9f3a"
            ],
            [
             0.8888888888888888,
             "#fdca26"
            ],
            [
             1,
             "#f0f921"
            ]
           ],
           "sequentialminus": [
            [
             0,
             "#0d0887"
            ],
            [
             0.1111111111111111,
             "#46039f"
            ],
            [
             0.2222222222222222,
             "#7201a8"
            ],
            [
             0.3333333333333333,
             "#9c179e"
            ],
            [
             0.4444444444444444,
             "#bd3786"
            ],
            [
             0.5555555555555556,
             "#d8576b"
            ],
            [
             0.6666666666666666,
             "#ed7953"
            ],
            [
             0.7777777777777778,
             "#fb9f3a"
            ],
            [
             0.8888888888888888,
             "#fdca26"
            ],
            [
             1,
             "#f0f921"
            ]
           ]
          },
          "colorway": [
           "#636efa",
           "#EF553B",
           "#00cc96",
           "#ab63fa",
           "#FFA15A",
           "#19d3f3",
           "#FF6692",
           "#B6E880",
           "#FF97FF",
           "#FECB52"
          ],
          "font": {
           "color": "#2a3f5f"
          },
          "geo": {
           "bgcolor": "white",
           "lakecolor": "white",
           "landcolor": "#E5ECF6",
           "showlakes": true,
           "showland": true,
           "subunitcolor": "white"
          },
          "hoverlabel": {
           "align": "left"
          },
          "hovermode": "closest",
          "mapbox": {
           "style": "light"
          },
          "paper_bgcolor": "white",
          "plot_bgcolor": "#E5ECF6",
          "polar": {
           "angularaxis": {
            "gridcolor": "white",
            "linecolor": "white",
            "ticks": ""
           },
           "bgcolor": "#E5ECF6",
           "radialaxis": {
            "gridcolor": "white",
            "linecolor": "white",
            "ticks": ""
           }
          },
          "scene": {
           "xaxis": {
            "backgroundcolor": "#E5ECF6",
            "gridcolor": "white",
            "gridwidth": 2,
            "linecolor": "white",
            "showbackground": true,
            "ticks": "",
            "zerolinecolor": "white"
           },
           "yaxis": {
            "backgroundcolor": "#E5ECF6",
            "gridcolor": "white",
            "gridwidth": 2,
            "linecolor": "white",
            "showbackground": true,
            "ticks": "",
            "zerolinecolor": "white"
           },
           "zaxis": {
            "backgroundcolor": "#E5ECF6",
            "gridcolor": "white",
            "gridwidth": 2,
            "linecolor": "white",
            "showbackground": true,
            "ticks": "",
            "zerolinecolor": "white"
           }
          },
          "shapedefaults": {
           "line": {
            "color": "#2a3f5f"
           }
          },
          "ternary": {
           "aaxis": {
            "gridcolor": "white",
            "linecolor": "white",
            "ticks": ""
           },
           "baxis": {
            "gridcolor": "white",
            "linecolor": "white",
            "ticks": ""
           },
           "bgcolor": "#E5ECF6",
           "caxis": {
            "gridcolor": "white",
            "linecolor": "white",
            "ticks": ""
           }
          },
          "title": {
           "x": 0.05
          },
          "xaxis": {
           "automargin": true,
           "gridcolor": "white",
           "linecolor": "white",
           "ticks": "",
           "title": {
            "standoff": 15
           },
           "zerolinecolor": "white",
           "zerolinewidth": 2
          },
          "yaxis": {
           "automargin": true,
           "gridcolor": "white",
           "linecolor": "white",
           "ticks": "",
           "title": {
            "standoff": 15
           },
           "zerolinecolor": "white",
           "zerolinewidth": 2
          }
         }
        }
       }
      },
      "text/html": [
       "<div\n",
       "    class=\"webio-mountpoint\"\n",
       "    data-webio-mountpoint=\"14385014324953694733\"\n",
       ">\n",
       "    <script>\n",
       "    (function(){\n",
       "    // Some integrations (namely, IJulia/Jupyter) use an alternate render pathway than\n",
       "    // just putting the html on the page. If WebIO isn't defined, then it's pretty likely\n",
       "    // that we're in one of those situations and the integration just isn't installed\n",
       "    // correctly.\n",
       "    if (typeof window.WebIO === \"undefined\") {\n",
       "        document\n",
       "            .querySelector('[data-webio-mountpoint=\"14385014324953694733\"]')\n",
       "            .innerHTML = (\n",
       "                '<div style=\"padding: 1em; background-color: #f8d6da; border: 1px solid #f5c6cb; font-weight: bold;\">' +\n",
       "                '<p><strong>WebIO not detected.</strong></p>' +\n",
       "                '<p>Please read ' +\n",
       "                '<a href=\"https://juliagizmos.github.io/WebIO.jl/latest/troubleshooting/not-detected/\" target=\"_blank\">the troubleshooting guide</a> ' +\n",
       "                'for more information on how to resolve this issue.</p>' +\n",
       "                '<p><a href=\"https://juliagizmos.github.io/WebIO.jl/latest/troubleshooting/not-detected/\" target=\"_blank\">https://juliagizmos.github.io/WebIO.jl/latest/troubleshooting/not-detected/</a></p>' +\n",
       "                '</div>'\n",
       "            );\n",
       "        return;\n",
       "    }\n",
       "    WebIO.mount(\n",
       "        document.querySelector('[data-webio-mountpoint=\"14385014324953694733\"]'),\n",
       "        {\"props\":{},\"nodeType\":\"Scope\",\"type\":\"node\",\"instanceArgs\":{\"imports\":{\"data\":[{\"name\":\"Plotly\",\"type\":\"js\",\"url\":\"\\/assetserver\\/1d0a2547083b6cf804ecf48cc75ab762e7f10fdd-plotly.min.js\"},{\"name\":null,\"type\":\"js\",\"url\":\"\\/assetserver\\/1c0dafb7088f77e67e5fe80560875f3745bed0f0-plotly_webio.bundle.js\"}],\"type\":\"async_block\"},\"id\":\"3845742684310560668\",\"handlers\":{\"_toImage\":[\"(function (options){return this.Plotly.toImage(this.plotElem,options).then((function (data){return WebIO.setval({\\\"name\\\":\\\"image\\\",\\\"scope\\\":\\\"3845742684310560668\\\",\\\"id\\\":\\\"13712329020731053837\\\",\\\"type\\\":\\\"observable\\\"},data)}))})\"],\"__get_gd_contents\":[\"(function (prop){prop==\\\"data\\\" ? (WebIO.setval({\\\"name\\\":\\\"__gd_contents\\\",\\\"scope\\\":\\\"3845742684310560668\\\",\\\"id\\\":\\\"11011720033335207464\\\",\\\"type\\\":\\\"observable\\\"},this.plotElem.data)) : undefined; return prop==\\\"layout\\\" ? (WebIO.setval({\\\"name\\\":\\\"__gd_contents\\\",\\\"scope\\\":\\\"3845742684310560668\\\",\\\"id\\\":\\\"11011720033335207464\\\",\\\"type\\\":\\\"observable\\\"},this.plotElem.layout)) : undefined})\"],\"_downloadImage\":[\"(function (options){return this.Plotly.downloadImage(this.plotElem,options)})\"],\"_commands\":[\"(function (args){var fn=args.shift(); var elem=this.plotElem; var Plotly=this.Plotly; args.unshift(elem); return Plotly[fn].apply(this,args)})\"]},\"systemjs_options\":null,\"mount_callbacks\":[\"function () {\\n    var handler = ((function (Plotly,PlotlyWebIO){PlotlyWebIO.init(WebIO); var gd=this.dom.querySelector(\\\"#plot-f5308bce-406c-449f-9085-20992bba0130\\\"); this.plotElem=gd; this.Plotly=Plotly; (window.Blink!==undefined) ? (gd.style.width=\\\"100%\\\", gd.style.height=\\\"100vh\\\", gd.style.marginLeft=\\\"0%\\\", gd.style.marginTop=\\\"0vh\\\") : undefined; window.onresize=(function (){return Plotly.Plots.resize(gd)}); Plotly.newPlot(gd,[{\\\"y\\\":[587418,56941,41712,30666],\\\"type\\\":\\\"bar\\\",\\\"x\\\":[\\\"1a\\\",\\\"7a\\\",\\\"7\\\",\\\"1\\\"]}],{\\\"template\\\":{\\\"layout\\\":{\\\"coloraxis\\\":{\\\"colorbar\\\":{\\\"ticks\\\":\\\"\\\",\\\"outlinewidth\\\":0}},\\\"xaxis\\\":{\\\"gridcolor\\\":\\\"white\\\",\\\"zerolinewidth\\\":2,\\\"title\\\":{\\\"standoff\\\":15},\\\"ticks\\\":\\\"\\\",\\\"zerolinecolor\\\":\\\"white\\\",\\\"automargin\\\":true,\\\"linecolor\\\":\\\"white\\\"},\\\"hovermode\\\":\\\"closest\\\",\\\"paper_bgcolor\\\":\\\"white\\\",\\\"geo\\\":{\\\"showlakes\\\":true,\\\"showland\\\":true,\\\"landcolor\\\":\\\"#E5ECF6\\\",\\\"bgcolor\\\":\\\"white\\\",\\\"subunitcolor\\\":\\\"white\\\",\\\"lakecolor\\\":\\\"white\\\"},\\\"colorscale\\\":{\\\"sequential\\\":[[0.0,\\\"#0d0887\\\"],[0.1111111111111111,\\\"#46039f\\\"],[0.2222222222222222,\\\"#7201a8\\\"],[0.3333333333333333,\\\"#9c179e\\\"],[0.4444444444444444,\\\"#bd3786\\\"],[0.5555555555555556,\\\"#d8576b\\\"],[0.6666666666666666,\\\"#ed7953\\\"],[0.7777777777777778,\\\"#fb9f3a\\\"],[0.8888888888888888,\\\"#fdca26\\\"],[1.0,\\\"#f0f921\\\"]],\\\"diverging\\\":[[0,\\\"#8e0152\\\"],[0.1,\\\"#c51b7d\\\"],[0.2,\\\"#de77ae\\\"],[0.3,\\\"#f1b6da\\\"],[0.4,\\\"#fde0ef\\\"],[0.5,\\\"#f7f7f7\\\"],[0.6,\\\"#e6f5d0\\\"],[0.7,\\\"#b8e186\\\"],[0.8,\\\"#7fbc41\\\"],[0.9,\\\"#4d9221\\\"],[1,\\\"#276419\\\"]],\\\"sequentialminus\\\":[[0.0,\\\"#0d0887\\\"],[0.1111111111111111,\\\"#46039f\\\"],[0.2222222222222222,\\\"#7201a8\\\"],[0.3333333333333333,\\\"#9c179e\\\"],[0.4444444444444444,\\\"#bd3786\\\"],[0.5555555555555556,\\\"#d8576b\\\"],[0.6666666666666666,\\\"#ed7953\\\"],[0.7777777777777778,\\\"#fb9f3a\\\"],[0.8888888888888888,\\\"#fdca26\\\"],[1.0,\\\"#f0f921\\\"]]},\\\"yaxis\\\":{\\\"gridcolor\\\":\\\"white\\\",\\\"zerolinewidth\\\":2,\\\"title\\\":{\\\"standoff\\\":15},\\\"ticks\\\":\\\"\\\",\\\"zerolinecolor\\\":\\\"white\\\",\\\"automargin\\\":true,\\\"linecolor\\\":\\\"white\\\"},\\\"shapedefaults\\\":{\\\"line\\\":{\\\"color\\\":\\\"#2a3f5f\\\"}},\\\"hoverlabel\\\":{\\\"align\\\":\\\"left\\\"},\\\"mapbox\\\":{\\\"style\\\":\\\"light\\\"},\\\"polar\\\":{\\\"angularaxis\\\":{\\\"gridcolor\\\":\\\"white\\\",\\\"ticks\\\":\\\"\\\",\\\"linecolor\\\":\\\"white\\\"},\\\"bgcolor\\\":\\\"#E5ECF6\\\",\\\"radialaxis\\\":{\\\"gridcolor\\\":\\\"white\\\",\\\"ticks\\\":\\\"\\\",\\\"linecolor\\\":\\\"white\\\"}},\\\"autotypenumbers\\\":\\\"strict\\\",\\\"font\\\":{\\\"color\\\":\\\"#2a3f5f\\\"},\\\"ternary\\\":{\\\"baxis\\\":{\\\"gridcolor\\\":\\\"white\\\",\\\"ticks\\\":\\\"\\\",\\\"linecolor\\\":\\\"white\\\"},\\\"bgcolor\\\":\\\"#E5ECF6\\\",\\\"caxis\\\":{\\\"gridcolor\\\":\\\"white\\\",\\\"ticks\\\":\\\"\\\",\\\"linecolor\\\":\\\"white\\\"},\\\"aaxis\\\":{\\\"gridcolor\\\":\\\"white\\\",\\\"ticks\\\":\\\"\\\",\\\"linecolor\\\":\\\"white\\\"}},\\\"annotationdefaults\\\":{\\\"arrowhead\\\":0,\\\"arrowwidth\\\":1,\\\"arrowcolor\\\":\\\"#2a3f5f\\\"},\\\"plot_bgcolor\\\":\\\"#E5ECF6\\\",\\\"title\\\":{\\\"x\\\":0.05},\\\"scene\\\":{\\\"xaxis\\\":{\\\"gridcolor\\\":\\\"white\\\",\\\"gridwidth\\\":2,\\\"backgroundcolor\\\":\\\"#E5ECF6\\\",\\\"ticks\\\":\\\"\\\",\\\"showbackground\\\":true,\\\"zerolinecolor\\\":\\\"white\\\",\\\"linecolor\\\":\\\"white\\\"},\\\"zaxis\\\":{\\\"gridcolor\\\":\\\"white\\\",\\\"gridwidth\\\":2,\\\"backgroundcolor\\\":\\\"#E5ECF6\\\",\\\"ticks\\\":\\\"\\\",\\\"showbackground\\\":true,\\\"zerolinecolor\\\":\\\"white\\\",\\\"linecolor\\\":\\\"white\\\"},\\\"yaxis\\\":{\\\"gridcolor\\\":\\\"white\\\",\\\"gridwidth\\\":2,\\\"backgroundcolor\\\":\\\"#E5ECF6\\\",\\\"ticks\\\":\\\"\\\",\\\"showbackground\\\":true,\\\"zerolinecolor\\\":\\\"white\\\",\\\"linecolor\\\":\\\"white\\\"}},\\\"colorway\\\":[\\\"#636efa\\\",\\\"#EF553B\\\",\\\"#00cc96\\\",\\\"#ab63fa\\\",\\\"#FFA15A\\\",\\\"#19d3f3\\\",\\\"#FF6692\\\",\\\"#B6E880\\\",\\\"#FF97FF\\\",\\\"#FECB52\\\"]},\\\"data\\\":{\\\"barpolar\\\":[{\\\"type\\\":\\\"barpolar\\\",\\\"marker\\\":{\\\"line\\\":{\\\"color\\\":\\\"#E5ECF6\\\",\\\"width\\\":0.5}}}],\\\"carpet\\\":[{\\\"aaxis\\\":{\\\"gridcolor\\\":\\\"white\\\",\\\"endlinecolor\\\":\\\"#2a3f5f\\\",\\\"minorgridcolor\\\":\\\"white\\\",\\\"startlinecolor\\\":\\\"#2a3f5f\\\",\\\"linecolor\\\":\\\"white\\\"},\\\"type\\\":\\\"carpet\\\",\\\"baxis\\\":{\\\"gridcolor\\\":\\\"white\\\",\\\"endlinecolor\\\":\\\"#2a3f5f\\\",\\\"minorgridcolor\\\":\\\"white\\\",\\\"startlinecolor\\\":\\\"#2a3f5f\\\",\\\"linecolor\\\":\\\"white\\\"}}],\\\"scatterpolar\\\":[{\\\"type\\\":\\\"scatterpolar\\\",\\\"marker\\\":{\\\"colorbar\\\":{\\\"ticks\\\":\\\"\\\",\\\"outlinewidth\\\":0}}}],\\\"parcoords\\\":[{\\\"line\\\":{\\\"colorbar\\\":{\\\"ticks\\\":\\\"\\\",\\\"outlinewidth\\\":0}},\\\"type\\\":\\\"parcoords\\\"}],\\\"scatter\\\":[{\\\"type\\\":\\\"scatter\\\",\\\"marker\\\":{\\\"colorbar\\\":{\\\"ticks\\\":\\\"\\\",\\\"outlinewidth\\\":0}}}],\\\"histogram2dcontour\\\":[{\\\"colorbar\\\":{\\\"ticks\\\":\\\"\\\",\\\"outlinewidth\\\":0},\\\"type\\\":\\\"histogram2dcontour\\\",\\\"colorscale\\\":[[0.0,\\\"#0d0887\\\"],[0.1111111111111111,\\\"#46039f\\\"],[0.2222222222222222,\\\"#7201a8\\\"],[0.3333333333333333,\\\"#9c179e\\\"],[0.4444444444444444,\\\"#bd3786\\\"],[0.5555555555555556,\\\"#d8576b\\\"],[0.6666666666666666,\\\"#ed7953\\\"],[0.7777777777777778,\\\"#fb9f3a\\\"],[0.8888888888888888,\\\"#fdca26\\\"],[1.0,\\\"#f0f921\\\"]]}],\\\"contour\\\":[{\\\"colorbar\\\":{\\\"ticks\\\":\\\"\\\",\\\"outlinewidth\\\":0},\\\"type\\\":\\\"contour\\\",\\\"colorscale\\\":[[0.0,\\\"#0d0887\\\"],[0.1111111111111111,\\\"#46039f\\\"],[0.2222222222222222,\\\"#7201a8\\\"],[0.3333333333333333,\\\"#9c179e\\\"],[0.4444444444444444,\\\"#bd3786\\\"],[0.5555555555555556,\\\"#d8576b\\\"],[0.6666666666666666,\\\"#ed7953\\\"],[0.7777777777777778,\\\"#fb9f3a\\\"],[0.8888888888888888,\\\"#fdca26\\\"],[1.0,\\\"#f0f921\\\"]]}],\\\"scattercarpet\\\":[{\\\"type\\\":\\\"scattercarpet\\\",\\\"marker\\\":{\\\"colorbar\\\":{\\\"ticks\\\":\\\"\\\",\\\"outlinewidth\\\":0}}}],\\\"mesh3d\\\":[{\\\"colorbar\\\":{\\\"ticks\\\":\\\"\\\",\\\"outlinewidth\\\":0},\\\"type\\\":\\\"mesh3d\\\"}],\\\"surface\\\":[{\\\"colorbar\\\":{\\\"ticks\\\":\\\"\\\",\\\"outlinewidth\\\":0},\\\"type\\\":\\\"surface\\\",\\\"colorscale\\\":[[0.0,\\\"#0d0887\\\"],[0.1111111111111111,\\\"#46039f\\\"],[0.2222222222222222,\\\"#7201a8\\\"],[0.3333333333333333,\\\"#9c179e\\\"],[0.4444444444444444,\\\"#bd3786\\\"],[0.5555555555555556,\\\"#d8576b\\\"],[0.6666666666666666,\\\"#ed7953\\\"],[0.7777777777777778,\\\"#fb9f3a\\\"],[0.8888888888888888,\\\"#fdca26\\\"],[1.0,\\\"#f0f921\\\"]]}],\\\"scattermapbox\\\":[{\\\"type\\\":\\\"scattermapbox\\\",\\\"marker\\\":{\\\"colorbar\\\":{\\\"ticks\\\":\\\"\\\",\\\"outlinewidth\\\":0}}}],\\\"scattergeo\\\":[{\\\"type\\\":\\\"scattergeo\\\",\\\"marker\\\":{\\\"colorbar\\\":{\\\"ticks\\\":\\\"\\\",\\\"outlinewidth\\\":0}}}],\\\"histogram\\\":[{\\\"type\\\":\\\"histogram\\\",\\\"marker\\\":{\\\"colorbar\\\":{\\\"ticks\\\":\\\"\\\",\\\"outlinewidth\\\":0}}}],\\\"pie\\\":[{\\\"type\\\":\\\"pie\\\",\\\"automargin\\\":true}],\\\"choropleth\\\":[{\\\"colorbar\\\":{\\\"ticks\\\":\\\"\\\",\\\"outlinewidth\\\":0},\\\"type\\\":\\\"choropleth\\\"}],\\\"heatmapgl\\\":[{\\\"colorbar\\\":{\\\"ticks\\\":\\\"\\\",\\\"outlinewidth\\\":0},\\\"type\\\":\\\"heatmapgl\\\",\\\"colorscale\\\":[[0.0,\\\"#0d0887\\\"],[0.1111111111111111,\\\"#46039f\\\"],[0.2222222222222222,\\\"#7201a8\\\"],[0.3333333333333333,\\\"#9c179e\\\"],[0.4444444444444444,\\\"#bd3786\\\"],[0.5555555555555556,\\\"#d8576b\\\"],[0.6666666666666666,\\\"#ed7953\\\"],[0.7777777777777778,\\\"#fb9f3a\\\"],[0.8888888888888888,\\\"#fdca26\\\"],[1.0,\\\"#f0f921\\\"]]}],\\\"bar\\\":[{\\\"type\\\":\\\"bar\\\",\\\"error_y\\\":{\\\"color\\\":\\\"#2a3f5f\\\"},\\\"error_x\\\":{\\\"color\\\":\\\"#2a3f5f\\\"},\\\"marker\\\":{\\\"line\\\":{\\\"color\\\":\\\"#E5ECF6\\\",\\\"width\\\":0.5}}}],\\\"heatmap\\\":[{\\\"colorbar\\\":{\\\"ticks\\\":\\\"\\\",\\\"outlinewidth\\\":0},\\\"type\\\":\\\"heatmap\\\",\\\"colorscale\\\":[[0.0,\\\"#0d0887\\\"],[0.1111111111111111,\\\"#46039f\\\"],[0.2222222222222222,\\\"#7201a8\\\"],[0.3333333333333333,\\\"#9c179e\\\"],[0.4444444444444444,\\\"#bd3786\\\"],[0.5555555555555556,\\\"#d8576b\\\"],[0.6666666666666666,\\\"#ed7953\\\"],[0.7777777777777778,\\\"#fb9f3a\\\"],[0.8888888888888888,\\\"#fdca26\\\"],[1.0,\\\"#f0f921\\\"]]}],\\\"contourcarpet\\\":[{\\\"colorbar\\\":{\\\"ticks\\\":\\\"\\\",\\\"outlinewidth\\\":0},\\\"type\\\":\\\"contourcarpet\\\"}],\\\"table\\\":[{\\\"type\\\":\\\"table\\\",\\\"header\\\":{\\\"line\\\":{\\\"color\\\":\\\"white\\\"},\\\"fill\\\":{\\\"color\\\":\\\"#C8D4E3\\\"}},\\\"cells\\\":{\\\"line\\\":{\\\"color\\\":\\\"white\\\"},\\\"fill\\\":{\\\"color\\\":\\\"#EBF0F8\\\"}}}],\\\"scatter3d\\\":[{\\\"line\\\":{\\\"colorbar\\\":{\\\"ticks\\\":\\\"\\\",\\\"outlinewidth\\\":0}},\\\"type\\\":\\\"scatter3d\\\",\\\"marker\\\":{\\\"colorbar\\\":{\\\"ticks\\\":\\\"\\\",\\\"outlinewidth\\\":0}}}],\\\"scattergl\\\":[{\\\"type\\\":\\\"scattergl\\\",\\\"marker\\\":{\\\"colorbar\\\":{\\\"ticks\\\":\\\"\\\",\\\"outlinewidth\\\":0}}}],\\\"histogram2d\\\":[{\\\"colorbar\\\":{\\\"ticks\\\":\\\"\\\",\\\"outlinewidth\\\":0},\\\"type\\\":\\\"histogram2d\\\",\\\"colorscale\\\":[[0.0,\\\"#0d0887\\\"],[0.1111111111111111,\\\"#46039f\\\"],[0.2222222222222222,\\\"#7201a8\\\"],[0.3333333333333333,\\\"#9c179e\\\"],[0.4444444444444444,\\\"#bd3786\\\"],[0.5555555555555556,\\\"#d8576b\\\"],[0.6666666666666666,\\\"#ed7953\\\"],[0.7777777777777778,\\\"#fb9f3a\\\"],[0.8888888888888888,\\\"#fdca26\\\"],[1.0,\\\"#f0f921\\\"]]}],\\\"scatterternary\\\":[{\\\"type\\\":\\\"scatterternary\\\",\\\"marker\\\":{\\\"colorbar\\\":{\\\"ticks\\\":\\\"\\\",\\\"outlinewidth\\\":0}}}],\\\"scatterpolargl\\\":[{\\\"type\\\":\\\"scatterpolargl\\\",\\\"marker\\\":{\\\"colorbar\\\":{\\\"ticks\\\":\\\"\\\",\\\"outlinewidth\\\":0}}}]}},\\\"margin\\\":{\\\"l\\\":50,\\\"b\\\":50,\\\"r\\\":50,\\\"t\\\":60}},{\\\"showLink\\\":false,\\\"editable\\\":false,\\\"responsive\\\":true,\\\"staticPlot\\\":false,\\\"scrollZoom\\\":true}); gd.on(\\\"plotly_hover\\\",(function (data){var filtered_data=WebIO.PlotlyCommands.filterEventData(gd,data,\\\"hover\\\"); return !(filtered_data.isnil) ? (WebIO.setval({\\\"name\\\":\\\"hover\\\",\\\"scope\\\":\\\"3845742684310560668\\\",\\\"id\\\":\\\"7558769988797508050\\\",\\\"type\\\":\\\"observable\\\"},filtered_data.out)) : undefined})); gd.on(\\\"plotly_unhover\\\",(function (){return WebIO.setval({\\\"name\\\":\\\"hover\\\",\\\"scope\\\":\\\"3845742684310560668\\\",\\\"id\\\":\\\"7558769988797508050\\\",\\\"type\\\":\\\"observable\\\"},{})})); gd.on(\\\"plotly_selected\\\",(function (data){var filtered_data=WebIO.PlotlyCommands.filterEventData(gd,data,\\\"selected\\\"); return !(filtered_data.isnil) ? (WebIO.setval({\\\"name\\\":\\\"selected\\\",\\\"scope\\\":\\\"3845742684310560668\\\",\\\"id\\\":\\\"7404664180585901093\\\",\\\"type\\\":\\\"observable\\\"},filtered_data.out)) : undefined})); gd.on(\\\"plotly_deselect\\\",(function (){return WebIO.setval({\\\"name\\\":\\\"selected\\\",\\\"scope\\\":\\\"3845742684310560668\\\",\\\"id\\\":\\\"7404664180585901093\\\",\\\"type\\\":\\\"observable\\\"},{})})); gd.on(\\\"plotly_relayout\\\",(function (data){var filtered_data=WebIO.PlotlyCommands.filterEventData(gd,data,\\\"relayout\\\"); return !(filtered_data.isnil) ? (WebIO.setval({\\\"name\\\":\\\"relayout\\\",\\\"scope\\\":\\\"3845742684310560668\\\",\\\"id\\\":\\\"11028834198117478264\\\",\\\"type\\\":\\\"observable\\\"},filtered_data.out)) : undefined})); return gd.on(\\\"plotly_click\\\",(function (data){var filtered_data=WebIO.PlotlyCommands.filterEventData(gd,data,\\\"click\\\"); return !(filtered_data.isnil) ? (WebIO.setval({\\\"name\\\":\\\"click\\\",\\\"scope\\\":\\\"3845742684310560668\\\",\\\"id\\\":\\\"4817173825681649568\\\",\\\"type\\\":\\\"observable\\\"},filtered_data.out)) : undefined}))}));\\n    (WebIO.importBlock({\\\"data\\\":[{\\\"name\\\":\\\"Plotly\\\",\\\"type\\\":\\\"js\\\",\\\"url\\\":\\\"\\/assetserver\\/1d0a2547083b6cf804ecf48cc75ab762e7f10fdd-plotly.min.js\\\"},{\\\"name\\\":null,\\\"type\\\":\\\"js\\\",\\\"url\\\":\\\"\\/assetserver\\/1c0dafb7088f77e67e5fe80560875f3745bed0f0-plotly_webio.bundle.js\\\"}],\\\"type\\\":\\\"async_block\\\"})).then((imports) => handler.apply(this, imports));\\n}\\n\"],\"observables\":{\"_toImage\":{\"sync\":true,\"id\":\"13873215426960000652\",\"value\":{}},\"hover\":{\"sync\":false,\"id\":\"7558769988797508050\",\"value\":{}},\"selected\":{\"sync\":false,\"id\":\"7404664180585901093\",\"value\":{}},\"__gd_contents\":{\"sync\":false,\"id\":\"11011720033335207464\",\"value\":{}},\"click\":{\"sync\":false,\"id\":\"4817173825681649568\",\"value\":{}},\"image\":{\"sync\":true,\"id\":\"13712329020731053837\",\"value\":\"\"},\"__get_gd_contents\":{\"sync\":true,\"id\":\"6951795267394856756\",\"value\":\"\"},\"_downloadImage\":{\"sync\":true,\"id\":\"5028712522865150518\",\"value\":{}},\"relayout\":{\"sync\":false,\"id\":\"11028834198117478264\",\"value\":{}},\"_commands\":{\"sync\":true,\"id\":\"11545769630959271199\",\"value\":[]}}},\"children\":[{\"props\":{\"id\":\"plot-f5308bce-406c-449f-9085-20992bba0130\"},\"nodeType\":\"DOM\",\"type\":\"node\",\"instanceArgs\":{\"namespace\":\"html\",\"tag\":\"div\"},\"children\":[]}]},\n",
       "        window,\n",
       "    );\n",
       "    })()\n",
       "    </script>\n",
       "</div>\n"
      ],
      "text/plain": [
       "data: [\n",
       "  \"bar with fields type, x, and y\"\n",
       "]\n",
       "\n",
       "layout: \"layout with fields margin and template\"\n",
       "\n"
      ]
     },
     "execution_count": 111,
     "metadata": {},
     "output_type": "execute_result"
    }
   ],
   "source": [
    "PlotlyJS.plot(ntokens_df[\"# Tokens\"], x=ntokens_df.Item, kind=\"bar\")"
   ]
  },
  {
   "cell_type": "code",
   "execution_count": 67,
   "metadata": {
    "ExecuteTime": {
     "end_time": "2020-06-21T16:47:22.542194Z",
     "start_time": "2020-06-21T16:47:22.489506Z"
    }
   },
   "outputs": [
    {
     "data": {
      "text/html": [
       "<table class=\"data-frame\"><thead><tr><th></th><th>length</th><th>phrase</th><th>count</th><th>ngram</th></tr><tr><th></th><th>Int64</th><th>String</th><th>Int64</th><th>String</th></tr></thead><tbody><p>3,616,211 rows × 4 columns</p><tr><th>1</th><td>2</td><td>company s</td><td>4302</td><td>company_s</td></tr><tr><th>2</th><td>2</td><td>year ended</td><td>4172</td><td>year_ended</td></tr><tr><th>3</th><td>2</td><td>ended december</td><td>3905</td><td>ended_december</td></tr><tr><th>4</th><td>2</td><td>results operations</td><td>3756</td><td>results_operations</td></tr><tr><th>5</th><td>2</td><td>common stock</td><td>3546</td><td>common_stock</td></tr><tr><th>6</th><td>2</td><td>table contents</td><td>3490</td><td>table_contents</td></tr><tr><th>7</th><td>2</td><td>financial condition</td><td>3128</td><td>financial_condition</td></tr><tr><th>8</th><td>2</td><td>fair value</td><td>2824</td><td>fair_value</td></tr><tr><th>9</th><td>2</td><td>financial statements</td><td>2729</td><td>financial_statements</td></tr><tr><th>10</th><td>2</td><td>million million</td><td>2605</td><td>million_million</td></tr><tr><th>11</th><td>2</td><td>fiscal year</td><td>2243</td><td>fiscal_year</td></tr><tr><th>12</th><td>2</td><td>united states</td><td>2154</td><td>united_states</td></tr><tr><th>13</th><td>2</td><td>adversely affect</td><td>1937</td><td>adversely_affect</td></tr><tr><th>14</th><td>2</td><td>approximately million</td><td>1873</td><td>approximately_million</td></tr><tr><th>15</th><td>2</td><td>real estate</td><td>1847</td><td>real_estate</td></tr><tr><th>16</th><td>2</td><td>consolidated financial</td><td>1834</td><td>consolidated_financial</td></tr><tr><th>17</th><td>2</td><td>interest rate</td><td>1788</td><td>interest_rate</td></tr><tr><th>18</th><td>2</td><td>cash flows</td><td>1747</td><td>cash_flows</td></tr><tr><th>19</th><td>2</td><td>adverse effect</td><td>1665</td><td>adverse_effect</td></tr><tr><th>20</th><td>2</td><td>condition results</td><td>1662</td><td>condition_results</td></tr><tr><th>21</th><td>2</td><td>long term</td><td>1594</td><td>long_term</td></tr><tr><th>22</th><td>2</td><td>net sales</td><td>1529</td><td>net_sales</td></tr><tr><th>23</th><td>2</td><td>operating results</td><td>1505</td><td>operating_results</td></tr><tr><th>24</th><td>2</td><td>interest rates</td><td>1499</td><td>interest_rates</td></tr><tr><th>25</th><td>2</td><td>material adverse</td><td>1468</td><td>material_adverse</td></tr><tr><th>26</th><td>2</td><td>research development</td><td>1455</td><td>research_development</td></tr><tr><th>27</th><td>2</td><td>intellectual property</td><td>1393</td><td>intellectual_property</td></tr><tr><th>28</th><td>2</td><td>income tax</td><td>1362</td><td>income_tax</td></tr><tr><th>29</th><td>2</td><td>net income</td><td>1300</td><td>net_income</td></tr><tr><th>30</th><td>2</td><td>years ended</td><td>1181</td><td>years_ended</td></tr><tr><th>&vellip;</th><td>&vellip;</td><td>&vellip;</td><td>&vellip;</td><td>&vellip;</td></tr></tbody></table>"
      ],
      "text/latex": [
       "\\begin{tabular}{r|cccc}\n",
       "\t& length & phrase & count & ngram\\\\\n",
       "\t\\hline\n",
       "\t& Int64 & String & Int64 & String\\\\\n",
       "\t\\hline\n",
       "\t1 & 2 & company s & 4302 & company\\_s \\\\\n",
       "\t2 & 2 & year ended & 4172 & year\\_ended \\\\\n",
       "\t3 & 2 & ended december & 3905 & ended\\_december \\\\\n",
       "\t4 & 2 & results operations & 3756 & results\\_operations \\\\\n",
       "\t5 & 2 & common stock & 3546 & common\\_stock \\\\\n",
       "\t6 & 2 & table contents & 3490 & table\\_contents \\\\\n",
       "\t7 & 2 & financial condition & 3128 & financial\\_condition \\\\\n",
       "\t8 & 2 & fair value & 2824 & fair\\_value \\\\\n",
       "\t9 & 2 & financial statements & 2729 & financial\\_statements \\\\\n",
       "\t10 & 2 & million million & 2605 & million\\_million \\\\\n",
       "\t11 & 2 & fiscal year & 2243 & fiscal\\_year \\\\\n",
       "\t12 & 2 & united states & 2154 & united\\_states \\\\\n",
       "\t13 & 2 & adversely affect & 1937 & adversely\\_affect \\\\\n",
       "\t14 & 2 & approximately million & 1873 & approximately\\_million \\\\\n",
       "\t15 & 2 & real estate & 1847 & real\\_estate \\\\\n",
       "\t16 & 2 & consolidated financial & 1834 & consolidated\\_financial \\\\\n",
       "\t17 & 2 & interest rate & 1788 & interest\\_rate \\\\\n",
       "\t18 & 2 & cash flows & 1747 & cash\\_flows \\\\\n",
       "\t19 & 2 & adverse effect & 1665 & adverse\\_effect \\\\\n",
       "\t20 & 2 & condition results & 1662 & condition\\_results \\\\\n",
       "\t21 & 2 & long term & 1594 & long\\_term \\\\\n",
       "\t22 & 2 & net sales & 1529 & net\\_sales \\\\\n",
       "\t23 & 2 & operating results & 1505 & operating\\_results \\\\\n",
       "\t24 & 2 & interest rates & 1499 & interest\\_rates \\\\\n",
       "\t25 & 2 & material adverse & 1468 & material\\_adverse \\\\\n",
       "\t26 & 2 & research development & 1455 & research\\_development \\\\\n",
       "\t27 & 2 & intellectual property & 1393 & intellectual\\_property \\\\\n",
       "\t28 & 2 & income tax & 1362 & income\\_tax \\\\\n",
       "\t29 & 2 & net income & 1300 & net\\_income \\\\\n",
       "\t30 & 2 & years ended & 1181 & years\\_ended \\\\\n",
       "\t$\\dots$ & $\\dots$ & $\\dots$ & $\\dots$ & $\\dots$ \\\\\n",
       "\\end{tabular}\n"
      ],
      "text/plain": [
       "3616211×4 DataFrame. Omitted printing of 1 columns\n",
       "│ Row     │ length │ phrase                                 │ count │\n",
       "│         │ \u001b[90mInt64\u001b[39m  │ \u001b[90mString\u001b[39m                                 │ \u001b[90mInt64\u001b[39m │\n",
       "├─────────┼────────┼────────────────────────────────────────┼───────┤\n",
       "│ 1       │ 2      │ company s                              │ 4302  │\n",
       "│ 2       │ 2      │ year ended                             │ 4172  │\n",
       "│ 3       │ 2      │ ended december                         │ 3905  │\n",
       "│ 4       │ 2      │ results operations                     │ 3756  │\n",
       "│ 5       │ 2      │ common stock                           │ 3546  │\n",
       "│ 6       │ 2      │ table contents                         │ 3490  │\n",
       "│ 7       │ 2      │ financial condition                    │ 3128  │\n",
       "│ 8       │ 2      │ fair value                             │ 2824  │\n",
       "│ 9       │ 2      │ financial statements                   │ 2729  │\n",
       "│ 10      │ 2      │ million million                        │ 2605  │\n",
       "⋮\n",
       "│ 3616201 │ 3      │ reimbursement accordance asc           │ 1     │\n",
       "│ 3616202 │ 3      │ bebe property proprietary              │ 1     │\n",
       "│ 3616203 │ 3      │ time occur possible                    │ 1     │\n",
       "│ 3616204 │ 3      │ expected fiscal terms                  │ 1     │\n",
       "│ 3616205 │ 3      │ strategic partnerships scope           │ 1     │\n",
       "│ 3616206 │ 3      │ future limited manufacturing           │ 1     │\n",
       "│ 3616207 │ 3      │ prices lower index                     │ 1     │\n",
       "│ 3616208 │ 3      │ law intend vigorously                  │ 1     │\n",
       "│ 3616209 │ 3      │ regulations technological environments │ 1     │\n",
       "│ 3616210 │ 3      │ plus credits expenses                  │ 1     │\n",
       "│ 3616211 │ 3      │ radiography x ray                      │ 1     │"
      ]
     },
     "execution_count": 67,
     "metadata": {},
     "output_type": "execute_result"
    }
   ],
   "source": [
    "ngrams_df = DataFrame(CSV.File(joinpath(sec_path, \"ngrams.csv\")))"
   ]
  },
  {
   "cell_type": "code",
   "execution_count": 68,
   "metadata": {
    "ExecuteTime": {
     "end_time": "2020-06-21T16:47:22.544028Z",
     "start_time": "2020-06-21T16:45:19.516Z"
    }
   },
   "outputs": [
    {
     "data": {
      "text/html": [
       "<table class=\"data-frame\"><thead><tr><th></th><th>length</th><th>phrase</th><th>count</th><th>ngram</th></tr><tr><th></th><th>Int64</th><th>String</th><th>Int64</th><th>String</th></tr></thead><tbody><p>5 rows × 4 columns</p><tr><th>1</th><td>2</td><td>company s</td><td>4302</td><td>company_s</td></tr><tr><th>2</th><td>2</td><td>year ended</td><td>4172</td><td>year_ended</td></tr><tr><th>3</th><td>2</td><td>ended december</td><td>3905</td><td>ended_december</td></tr><tr><th>4</th><td>2</td><td>results operations</td><td>3756</td><td>results_operations</td></tr><tr><th>5</th><td>2</td><td>common stock</td><td>3546</td><td>common_stock</td></tr></tbody></table>"
      ],
      "text/latex": [
       "\\begin{tabular}{r|cccc}\n",
       "\t& length & phrase & count & ngram\\\\\n",
       "\t\\hline\n",
       "\t& Int64 & String & Int64 & String\\\\\n",
       "\t\\hline\n",
       "\t1 & 2 & company s & 4302 & company\\_s \\\\\n",
       "\t2 & 2 & year ended & 4172 & year\\_ended \\\\\n",
       "\t3 & 2 & ended december & 3905 & ended\\_december \\\\\n",
       "\t4 & 2 & results operations & 3756 & results\\_operations \\\\\n",
       "\t5 & 2 & common stock & 3546 & common\\_stock \\\\\n",
       "\\end{tabular}\n"
      ],
      "text/plain": [
       "5×4 DataFrame\n",
       "│ Row │ length │ phrase             │ count │ ngram              │\n",
       "│     │ \u001b[90mInt64\u001b[39m  │ \u001b[90mString\u001b[39m             │ \u001b[90mInt64\u001b[39m │ \u001b[90mString\u001b[39m             │\n",
       "├─────┼────────┼────────────────────┼───────┼────────────────────┤\n",
       "│ 1   │ 2      │ company s          │ 4302  │ company_s          │\n",
       "│ 2   │ 2      │ year ended         │ 4172  │ year_ended         │\n",
       "│ 3   │ 2      │ ended december     │ 3905  │ ended_december     │\n",
       "│ 4   │ 2      │ results operations │ 3756  │ results_operations │\n",
       "│ 5   │ 2      │ common stock       │ 3546  │ common_stock       │"
      ]
     },
     "execution_count": 68,
     "metadata": {},
     "output_type": "execute_result"
    }
   ],
   "source": [
    "first(ngrams_df, 5)"
   ]
  },
  {
   "cell_type": "code",
   "execution_count": 69,
   "metadata": {
    "ExecuteTime": {
     "end_time": "2020-06-21T16:47:22.544559Z",
     "start_time": "2020-06-21T16:45:20.162Z"
    }
   },
   "outputs": [
    {
     "name": "stdout",
     "output_type": "stream",
     "text": [
      "Summary Stats:\n",
      "Length:         3616211\n",
      "Missing Count:  0\n",
      "Mean:           1.583679\n",
      "Minimum:        1.000000\n",
      "1st Quartile:   1.000000\n",
      "Median:         1.000000\n",
      "3rd Quartile:   1.000000\n",
      "Maximum:        4302.000000\n",
      "Type:           Int64\n"
     ]
    }
   ],
   "source": [
    "describe(ngrams_df.count)"
   ]
  },
  {
   "cell_type": "code",
   "execution_count": 70,
   "metadata": {
    "ExecuteTime": {
     "end_time": "2020-06-21T16:47:22.545201Z",
     "start_time": "2020-06-21T16:45:23.624Z"
    }
   },
   "outputs": [
    {
     "data": {
      "text/html": [
       "<table class=\"data-frame\"><thead><tr><th></th><th>length</th><th>phrase</th><th>count</th><th>ngram</th></tr><tr><th></th><th>Int64</th><th>String</th><th>Int64</th><th>String</th></tr></thead><tbody><p>7 rows × 4 columns</p><tr><th>1</th><td>2</td><td>company s</td><td>4302</td><td>company_s</td></tr><tr><th>2</th><td>2</td><td>year ended</td><td>4172</td><td>year_ended</td></tr><tr><th>3</th><td>2</td><td>ended december</td><td>3905</td><td>ended_december</td></tr><tr><th>4</th><td>2</td><td>results operations</td><td>3756</td><td>results_operations</td></tr><tr><th>5</th><td>2</td><td>common stock</td><td>3546</td><td>common_stock</td></tr><tr><th>6</th><td>2</td><td>table contents</td><td>3490</td><td>table_contents</td></tr><tr><th>7</th><td>2</td><td>financial condition</td><td>3128</td><td>financial_condition</td></tr></tbody></table>"
      ],
      "text/latex": [
       "\\begin{tabular}{r|cccc}\n",
       "\t& length & phrase & count & ngram\\\\\n",
       "\t\\hline\n",
       "\t& Int64 & String & Int64 & String\\\\\n",
       "\t\\hline\n",
       "\t1 & 2 & company s & 4302 & company\\_s \\\\\n",
       "\t2 & 2 & year ended & 4172 & year\\_ended \\\\\n",
       "\t3 & 2 & ended december & 3905 & ended\\_december \\\\\n",
       "\t4 & 2 & results operations & 3756 & results\\_operations \\\\\n",
       "\t5 & 2 & common stock & 3546 & common\\_stock \\\\\n",
       "\t6 & 2 & table contents & 3490 & table\\_contents \\\\\n",
       "\t7 & 2 & financial condition & 3128 & financial\\_condition \\\\\n",
       "\\end{tabular}\n"
      ],
      "text/plain": [
       "7×4 DataFrame\n",
       "│ Row │ length │ phrase              │ count │ ngram               │\n",
       "│     │ \u001b[90mInt64\u001b[39m  │ \u001b[90mString\u001b[39m              │ \u001b[90mInt64\u001b[39m │ \u001b[90mString\u001b[39m              │\n",
       "├─────┼────────┼─────────────────────┼───────┼─────────────────────┤\n",
       "│ 1   │ 2      │ company s           │ 4302  │ company_s           │\n",
       "│ 2   │ 2      │ year ended          │ 4172  │ year_ended          │\n",
       "│ 3   │ 2      │ ended december      │ 3905  │ ended_december      │\n",
       "│ 4   │ 2      │ results operations  │ 3756  │ results_operations  │\n",
       "│ 5   │ 2      │ common stock        │ 3546  │ common_stock        │\n",
       "│ 6   │ 2      │ table contents      │ 3490  │ table_contents      │\n",
       "│ 7   │ 2      │ financial condition │ 3128  │ financial_condition │"
      ]
     },
     "execution_count": 70,
     "metadata": {},
     "output_type": "execute_result"
    }
   ],
   "source": [
    "threshold = 0.7 * maximum(ngrams_df.count)\n",
    "first(sort(filter(row -> row.count > threshold, ngrams_df), [\"length\", \"count\"], rev=true), 10)"
   ]
  },
  {
   "cell_type": "code",
   "execution_count": 71,
   "metadata": {
    "ExecuteTime": {
     "end_time": "2020-06-21T16:48:08.840933Z",
     "start_time": "2020-06-21T16:48:08.755568Z"
    }
   },
   "outputs": [
    {
     "data": {
      "text/html": [
       "<table class=\"data-frame\"><thead><tr><th></th><th>token</th><th>n</th></tr><tr><th></th><th>String31</th><th>Int64</th></tr></thead><tbody><p>26,044 rows × 2 columns</p><tr><th>1</th><td>million</td><td>20454</td></tr><tr><th>2</th><td>company</td><td>17253</td></tr><tr><th>3</th><td>financial</td><td>12897</td></tr><tr><th>4</th><td>business</td><td>12891</td></tr><tr><th>5</th><td>products</td><td>12514</td></tr><tr><th>6</th><td>s</td><td>10890</td></tr><tr><th>7</th><td>operations</td><td>10596</td></tr><tr><th>8</th><td>year</td><td>10304</td></tr><tr><th>9</th><td>december</td><td>10222</td></tr><tr><th>10</th><td>net</td><td>10131</td></tr><tr><th>11</th><td>sales</td><td>9407</td></tr><tr><th>12</th><td>interest</td><td>9289</td></tr><tr><th>13</th><td>income</td><td>8897</td></tr><tr><th>14</th><td>market</td><td>8860</td></tr><tr><th>15</th><td>cash</td><td>8716</td></tr><tr><th>16</th><td>results</td><td>8069</td></tr><tr><th>17</th><td>operating</td><td>7982</td></tr><tr><th>18</th><td>including</td><td>7909</td></tr><tr><th>19</th><td>stock</td><td>7642</td></tr><tr><th>20</th><td>capital</td><td>7586</td></tr><tr><th>21</th><td>product</td><td>7536</td></tr><tr><th>22</th><td>assets</td><td>7420</td></tr><tr><th>23</th><td>costs</td><td>7295</td></tr><tr><th>24</th><td>tax</td><td>7189</td></tr><tr><th>25</th><td>future</td><td>7153</td></tr><tr><th>26</th><td>new</td><td>7111</td></tr><tr><th>27</th><td>based</td><td>6782</td></tr><tr><th>28</th><td>value</td><td>6714</td></tr><tr><th>29</th><td>fiscal</td><td>6691</td></tr><tr><th>30</th><td>related</td><td>6539</td></tr><tr><th>&vellip;</th><td>&vellip;</td><td>&vellip;</td></tr></tbody></table>"
      ],
      "text/latex": [
       "\\begin{tabular}{r|cc}\n",
       "\t& token & n\\\\\n",
       "\t\\hline\n",
       "\t& String31 & Int64\\\\\n",
       "\t\\hline\n",
       "\t1 & million & 20454 \\\\\n",
       "\t2 & company & 17253 \\\\\n",
       "\t3 & financial & 12897 \\\\\n",
       "\t4 & business & 12891 \\\\\n",
       "\t5 & products & 12514 \\\\\n",
       "\t6 & s & 10890 \\\\\n",
       "\t7 & operations & 10596 \\\\\n",
       "\t8 & year & 10304 \\\\\n",
       "\t9 & december & 10222 \\\\\n",
       "\t10 & net & 10131 \\\\\n",
       "\t11 & sales & 9407 \\\\\n",
       "\t12 & interest & 9289 \\\\\n",
       "\t13 & income & 8897 \\\\\n",
       "\t14 & market & 8860 \\\\\n",
       "\t15 & cash & 8716 \\\\\n",
       "\t16 & results & 8069 \\\\\n",
       "\t17 & operating & 7982 \\\\\n",
       "\t18 & including & 7909 \\\\\n",
       "\t19 & stock & 7642 \\\\\n",
       "\t20 & capital & 7586 \\\\\n",
       "\t21 & product & 7536 \\\\\n",
       "\t22 & assets & 7420 \\\\\n",
       "\t23 & costs & 7295 \\\\\n",
       "\t24 & tax & 7189 \\\\\n",
       "\t25 & future & 7153 \\\\\n",
       "\t26 & new & 7111 \\\\\n",
       "\t27 & based & 6782 \\\\\n",
       "\t28 & value & 6714 \\\\\n",
       "\t29 & fiscal & 6691 \\\\\n",
       "\t30 & related & 6539 \\\\\n",
       "\t$\\dots$ & $\\dots$ & $\\dots$ \\\\\n",
       "\\end{tabular}\n"
      ],
      "text/plain": [
       "26044×2 DataFrame\n",
       "│ Row   │ token           │ n     │\n",
       "│       │ \u001b[90mString31\u001b[39m        │ \u001b[90mInt64\u001b[39m │\n",
       "├───────┼─────────────────┼───────┤\n",
       "│ 1     │ million         │ 20454 │\n",
       "│ 2     │ company         │ 17253 │\n",
       "│ 3     │ financial       │ 12897 │\n",
       "│ 4     │ business        │ 12891 │\n",
       "│ 5     │ products        │ 12514 │\n",
       "│ 6     │ s               │ 10890 │\n",
       "│ 7     │ operations      │ 10596 │\n",
       "│ 8     │ year            │ 10304 │\n",
       "│ 9     │ december        │ 10222 │\n",
       "│ 10    │ net             │ 10131 │\n",
       "⋮\n",
       "│ 26034 │ fedexfield      │ 1     │\n",
       "│ 26035 │ forties         │ 1     │\n",
       "│ 26036 │ athermal        │ 1     │\n",
       "│ 26037 │ hamster         │ 1     │\n",
       "│ 26038 │ differentiators │ 1     │\n",
       "│ 26039 │ sabl            │ 1     │\n",
       "│ 26040 │ endoplasmic     │ 1     │\n",
       "│ 26041 │ xviii           │ 1     │\n",
       "│ 26042 │ smuggled        │ 1     │\n",
       "│ 26043 │ unenclosed      │ 1     │\n",
       "│ 26044 │ polyvinyl       │ 1     │"
      ]
     },
     "execution_count": 71,
     "metadata": {},
     "output_type": "execute_result"
    }
   ],
   "source": [
    "vocab = dropmissing(DataFrame(CSV.File(joinpath(stats_path, \"sections_vocab.csv\"))))"
   ]
  },
  {
   "cell_type": "code",
   "execution_count": 72,
   "metadata": {
    "ExecuteTime": {
     "end_time": "2020-06-21T16:48:29.793631Z",
     "start_time": "2020-06-21T16:48:29.762029Z"
    }
   },
   "outputs": [
    {
     "name": "stdout",
     "output_type": "stream",
     "text": [
      "Summary Stats:\n",
      "Length:         26044\n",
      "Missing Count:  0\n",
      "Mean:           83.708647\n",
      "Minimum:        1.000000\n",
      "1st Quartile:   1.000000\n",
      "Median:         4.000000\n",
      "3rd Quartile:   21.000000\n",
      "Maximum:        20454.000000\n",
      "Type:           Int64\n"
     ]
    }
   ],
   "source": [
    "describe(vocab.n)"
   ]
  },
  {
   "cell_type": "code",
   "execution_count": 79,
   "metadata": {
    "ExecuteTime": {
     "end_time": "2020-06-21T16:49:31.376347Z",
     "start_time": "2020-06-21T16:48:40.664233Z"
    }
   },
   "outputs": [
    {
     "data": {
      "text/plain": [
       "26045-element Vector{Pair{Any, Any}}:\n",
       "             \"million\" => 34435\n",
       "             \"company\" => 28594\n",
       "           \"financial\" => 24424\n",
       "            \"business\" => 22824\n",
       "            \"products\" => 22240\n",
       "                   \"s\" => 20488\n",
       "          \"operations\" => 17778\n",
       "                 \"net\" => 16563\n",
       "               \"sales\" => 16511\n",
       "              \"market\" => 16322\n",
       "                \"year\" => 16086\n",
       "            \"interest\" => 15951\n",
       "                \"cash\" => 15713\n",
       "                       ⋮\n",
       "              \"fibrin\" => 1\n",
       " \"undercapitalization\" => 1\n",
       "         \"witnessview\" => 1\n",
       "                \"told\" => 1\n",
       "        \"constriction\" => 1\n",
       "          \"tactically\" => 1\n",
       "     \"tachyarrhythmia\" => 1\n",
       "            \"kalbitor\" => 1\n",
       "           \"jelectric\" => 1\n",
       "             \"tapered\" => 1\n",
       "               \"crowe\" => 1\n",
       "     \"differentiators\" => 1"
      ]
     },
     "execution_count": 79,
     "metadata": {},
     "output_type": "execute_result"
    }
   ],
   "source": [
    "tokens = Dict()\n",
    "open(joinpath(ngram_path, \"ngrams_2.txt\"), \"r\") do file\n",
    "    for l in readlines(file)\n",
    "        addcounts!(tokens, split(l))\n",
    "    end\n",
    "end\n",
    "tokens = sort(collect(tokens), by=x->x[2], rev=true)"
   ]
  },
  {
   "cell_type": "code",
   "execution_count": 82,
   "metadata": {
    "ExecuteTime": {
     "end_time": "2020-06-21T16:49:31.539973Z",
     "start_time": "2020-06-21T16:49:31.377290Z"
    }
   },
   "outputs": [
    {
     "data": {
      "text/html": [
       "<table class=\"data-frame\"><thead><tr><th></th><th>token</th><th>count</th></tr><tr><th></th><th>SubStri…</th><th>Int64</th></tr></thead><tbody><p>26,045 rows × 2 columns</p><tr><th>1</th><td>million</td><td>34435</td></tr><tr><th>2</th><td>company</td><td>28594</td></tr><tr><th>3</th><td>financial</td><td>24424</td></tr><tr><th>4</th><td>business</td><td>22824</td></tr><tr><th>5</th><td>products</td><td>22240</td></tr><tr><th>6</th><td>s</td><td>20488</td></tr><tr><th>7</th><td>operations</td><td>17778</td></tr><tr><th>8</th><td>net</td><td>16563</td></tr><tr><th>9</th><td>sales</td><td>16511</td></tr><tr><th>10</th><td>market</td><td>16322</td></tr><tr><th>11</th><td>year</td><td>16086</td></tr><tr><th>12</th><td>interest</td><td>15951</td></tr><tr><th>13</th><td>cash</td><td>15713</td></tr><tr><th>14</th><td>including</td><td>15671</td></tr><tr><th>15</th><td>december</td><td>14955</td></tr><tr><th>16</th><td>income</td><td>14709</td></tr><tr><th>17</th><td>results</td><td>14642</td></tr><tr><th>18</th><td>operating</td><td>14235</td></tr><tr><th>19</th><td>capital</td><td>13841</td></tr><tr><th>20</th><td>product</td><td>13756</td></tr><tr><th>21</th><td>new</td><td>13347</td></tr><tr><th>22</th><td>costs</td><td>13282</td></tr><tr><th>23</th><td>assets</td><td>12953</td></tr><tr><th>24</th><td>tax</td><td>12951</td></tr><tr><th>25</th><td>stock</td><td>12892</td></tr><tr><th>26</th><td>future</td><td>12800</td></tr><tr><th>27</th><td>related</td><td>12687</td></tr><tr><th>28</th><td>based</td><td>12461</td></tr><tr><th>29</th><td>certain</td><td>12119</td></tr><tr><th>30</th><td>value</td><td>11873</td></tr><tr><th>&vellip;</th><td>&vellip;</td><td>&vellip;</td></tr></tbody></table>"
      ],
      "text/latex": [
       "\\begin{tabular}{r|cc}\n",
       "\t& token & count\\\\\n",
       "\t\\hline\n",
       "\t& SubStri… & Int64\\\\\n",
       "\t\\hline\n",
       "\t1 & million & 34435 \\\\\n",
       "\t2 & company & 28594 \\\\\n",
       "\t3 & financial & 24424 \\\\\n",
       "\t4 & business & 22824 \\\\\n",
       "\t5 & products & 22240 \\\\\n",
       "\t6 & s & 20488 \\\\\n",
       "\t7 & operations & 17778 \\\\\n",
       "\t8 & net & 16563 \\\\\n",
       "\t9 & sales & 16511 \\\\\n",
       "\t10 & market & 16322 \\\\\n",
       "\t11 & year & 16086 \\\\\n",
       "\t12 & interest & 15951 \\\\\n",
       "\t13 & cash & 15713 \\\\\n",
       "\t14 & including & 15671 \\\\\n",
       "\t15 & december & 14955 \\\\\n",
       "\t16 & income & 14709 \\\\\n",
       "\t17 & results & 14642 \\\\\n",
       "\t18 & operating & 14235 \\\\\n",
       "\t19 & capital & 13841 \\\\\n",
       "\t20 & product & 13756 \\\\\n",
       "\t21 & new & 13347 \\\\\n",
       "\t22 & costs & 13282 \\\\\n",
       "\t23 & assets & 12953 \\\\\n",
       "\t24 & tax & 12951 \\\\\n",
       "\t25 & stock & 12892 \\\\\n",
       "\t26 & future & 12800 \\\\\n",
       "\t27 & related & 12687 \\\\\n",
       "\t28 & based & 12461 \\\\\n",
       "\t29 & certain & 12119 \\\\\n",
       "\t30 & value & 11873 \\\\\n",
       "\t$\\dots$ & $\\dots$ & $\\dots$ \\\\\n",
       "\\end{tabular}\n"
      ],
      "text/plain": [
       "26045×2 DataFrame\n",
       "│ Row   │ token               │ count │\n",
       "│       │ \u001b[90mSubString{String}\u001b[39m   │ \u001b[90mInt64\u001b[39m │\n",
       "├───────┼─────────────────────┼───────┤\n",
       "│ 1     │ million             │ 34435 │\n",
       "│ 2     │ company             │ 28594 │\n",
       "│ 3     │ financial           │ 24424 │\n",
       "│ 4     │ business            │ 22824 │\n",
       "│ 5     │ products            │ 22240 │\n",
       "│ 6     │ s                   │ 20488 │\n",
       "│ 7     │ operations          │ 17778 │\n",
       "│ 8     │ net                 │ 16563 │\n",
       "│ 9     │ sales               │ 16511 │\n",
       "│ 10    │ market              │ 16322 │\n",
       "⋮\n",
       "│ 26035 │ undercapitalization │ 1     │\n",
       "│ 26036 │ witnessview         │ 1     │\n",
       "│ 26037 │ told                │ 1     │\n",
       "│ 26038 │ constriction        │ 1     │\n",
       "│ 26039 │ tactically          │ 1     │\n",
       "│ 26040 │ tachyarrhythmia     │ 1     │\n",
       "│ 26041 │ kalbitor            │ 1     │\n",
       "│ 26042 │ jelectric           │ 1     │\n",
       "│ 26043 │ tapered             │ 1     │\n",
       "│ 26044 │ crowe               │ 1     │\n",
       "│ 26045 │ differentiators     │ 1     │"
      ]
     },
     "execution_count": 82,
     "metadata": {},
     "output_type": "execute_result"
    }
   ],
   "source": [
    "tokens = DataFrame(token = [pair[1] for pair ∈ tokens], count = [pair[2] for pair ∈ tokens])"
   ]
  },
  {
   "cell_type": "code",
   "execution_count": 83,
   "metadata": {
    "ExecuteTime": {
     "end_time": "2020-06-21T16:49:31.576141Z",
     "start_time": "2020-06-21T16:49:31.565627Z"
    }
   },
   "outputs": [
    {
     "data": {
      "text/html": [
       "<table class=\"data-frame\"><thead><tr><th></th><th>token</th><th>count</th></tr><tr><th></th><th>SubStri…</th><th>Int64</th></tr></thead><tbody><p>5 rows × 2 columns</p><tr><th>1</th><td>million</td><td>34435</td></tr><tr><th>2</th><td>company</td><td>28594</td></tr><tr><th>3</th><td>financial</td><td>24424</td></tr><tr><th>4</th><td>business</td><td>22824</td></tr><tr><th>5</th><td>products</td><td>22240</td></tr></tbody></table>"
      ],
      "text/latex": [
       "\\begin{tabular}{r|cc}\n",
       "\t& token & count\\\\\n",
       "\t\\hline\n",
       "\t& SubStri… & Int64\\\\\n",
       "\t\\hline\n",
       "\t1 & million & 34435 \\\\\n",
       "\t2 & company & 28594 \\\\\n",
       "\t3 & financial & 24424 \\\\\n",
       "\t4 & business & 22824 \\\\\n",
       "\t5 & products & 22240 \\\\\n",
       "\\end{tabular}\n"
      ],
      "text/plain": [
       "5×2 DataFrame\n",
       "│ Row │ token     │ count │\n",
       "│     │ \u001b[90mSubStrin…\u001b[39m │ \u001b[90mInt64\u001b[39m │\n",
       "├─────┼───────────┼───────┤\n",
       "│ 1   │ million   │ 34435 │\n",
       "│ 2   │ company   │ 28594 │\n",
       "│ 3   │ financial │ 24424 │\n",
       "│ 4   │ business  │ 22824 │\n",
       "│ 5   │ products  │ 22240 │"
      ]
     },
     "execution_count": 83,
     "metadata": {},
     "output_type": "execute_result"
    }
   ],
   "source": [
    "first(tokens, 5)"
   ]
  },
  {
   "cell_type": "code",
   "execution_count": 84,
   "metadata": {
    "ExecuteTime": {
     "end_time": "2020-06-21T16:49:31.713773Z",
     "start_time": "2020-06-21T16:49:31.576981Z"
    }
   },
   "outputs": [
    {
     "data": {
      "text/html": [
       "<table class=\"data-frame\"><thead><tr><th></th><th>variable</th><th>mean</th><th>min</th><th>median</th><th>max</th><th>nunique</th><th>nmissing</th><th>eltype</th></tr><tr><th></th><th>Symbol</th><th>Float64</th><th>Nothing</th><th>Nothing</th><th>Nothing</th><th>Nothing</th><th>Nothing</th><th>DataType</th></tr></thead><tbody><p>1 rows × 8 columns</p><tr><th>1</th><td>count</td><td>NaN</td><td></td><td></td><td></td><td></td><td></td><td>Int64</td></tr></tbody></table>"
      ],
      "text/latex": [
       "\\begin{tabular}{r|cccccccc}\n",
       "\t& variable & mean & min & median & max & nunique & nmissing & eltype\\\\\n",
       "\t\\hline\n",
       "\t& Symbol & Float64 & Nothing & Nothing & Nothing & Nothing & Nothing & DataType\\\\\n",
       "\t\\hline\n",
       "\t1 & count & NaN &  &  &  &  &  & Int64 \\\\\n",
       "\\end{tabular}\n"
      ],
      "text/plain": [
       "1×8 DataFrame. Omitted printing of 1 columns\n",
       "│ Row │ variable │ mean    │ min     │ median  │ max     │ nunique │ nmissing │\n",
       "│     │ \u001b[90mSymbol\u001b[39m   │ \u001b[90mFloat64\u001b[39m │ \u001b[90mNothing\u001b[39m │ \u001b[90mNothing\u001b[39m │ \u001b[90mNothing\u001b[39m │ \u001b[90mNothing\u001b[39m │ \u001b[90mNothing\u001b[39m  │\n",
       "├─────┼──────────┼─────────┼─────────┼─────────┼─────────┼─────────┼──────────┤\n",
       "│ 1   │ count    │ NaN     │         │         │         │         │          │"
      ]
     },
     "execution_count": 84,
     "metadata": {},
     "output_type": "execute_result"
    }
   ],
   "source": [
    "describe(select(filter(row -> contains(row.token, \"_\"), tokens), :count))"
   ]
  },
  {
   "cell_type": "code",
   "execution_count": 85,
   "metadata": {
    "ExecuteTime": {
     "end_time": "2020-06-21T16:49:31.814099Z",
     "start_time": "2020-06-21T16:49:31.714671Z"
    }
   },
   "outputs": [
    {
     "data": {
      "text/plain": [
       "\"..\\\\data\\\\sec-filings\\\\ngram_examples.csv\""
      ]
     },
     "execution_count": 85,
     "metadata": {},
     "output_type": "execute_result"
    }
   ],
   "source": [
    "CSV.write(joinpath(sec_path, \"ngram_examples.csv\"), first(filter(row -> contains(row.token, \"_\"), tokens), 20))"
   ]
  },
  {
   "cell_type": "code",
   "execution_count": 86,
   "metadata": {
    "ExecuteTime": {
     "end_time": "2020-06-21T16:49:31.906003Z",
     "start_time": "2020-06-21T16:49:31.815020Z"
    }
   },
   "outputs": [
    {
     "data": {
      "text/html": [
       "<table class=\"data-frame\"><thead><tr><th></th><th>token</th><th>count</th></tr><tr><th></th><th>SubStri…</th><th>Int64</th></tr></thead><tbody><p>0 rows × 2 columns</p></tbody></table>"
      ],
      "text/latex": [
       "\\begin{tabular}{r|cc}\n",
       "\t& token & count\\\\\n",
       "\t\\hline\n",
       "\t& SubStri… & Int64\\\\\n",
       "\t\\hline\n",
       "\\end{tabular}\n"
      ],
      "text/plain": [
       "0×2 DataFrame\n"
      ]
     },
     "execution_count": 86,
     "metadata": {},
     "output_type": "execute_result"
    }
   ],
   "source": [
    "first(filter(row -> contains(row.token, \"_\"), tokens), 20)"
   ]
  },
  {
   "cell_type": "markdown",
   "metadata": {},
   "source": [
    "<div style='direction:rtl; font-family: \"B Nazanin\"; font-size: 20px;'> \n",
    "فایلی که ینسن در ادامه استفاده کرده است\n",
    "فایل assets.h5\n",
    "، در گیت هاب خود او نیز موجود نبود. \n",
    "بنابراین کدهای بخش بعدی، کامنت شده‌اند."
   ]
  },
  {
   "cell_type": "markdown",
   "metadata": {},
   "source": [
    "## Get returns"
   ]
  },
  {
   "cell_type": "code",
   "execution_count": null,
   "metadata": {
    "ExecuteTime": {
     "end_time": "2020-06-21T16:49:43.419751Z",
     "start_time": "2020-06-21T16:49:43.410341Z"
    }
   },
   "outputs": [],
   "source": [
    "#DATA_FOLDER = joinpath(\"..\", \"data\")"
   ]
  },
  {
   "cell_type": "code",
   "execution_count": null,
   "metadata": {
    "ExecuteTime": {
     "end_time": "2020-06-21T16:49:46.315225Z",
     "start_time": "2020-06-21T16:49:43.586015Z"
    }
   },
   "outputs": [],
   "source": [
    "\"\"\"\n",
    "with pd.HDFStore(DATA_FOLDER / \"assets.h5\") as store:\n",
    "    prices = store[\"quandl/wiki/prices\"].adj_close\n",
    "\"\"\""
   ]
  },
  {
   "cell_type": "code",
   "execution_count": null,
   "metadata": {
    "ExecuteTime": {
     "end_time": "2020-06-21T16:49:46.366663Z",
     "start_time": "2020-06-21T16:49:46.316232Z"
    }
   },
   "outputs": [],
   "source": [
    "\"\"\"\n",
    "sec = pd.read_csv(joinpath(sec_path, \"filing_index.csv\")).rename(columns=str.lower)\n",
    "sec.date_filed = pd.to_datetime(sec.date_filed)\n",
    "\"\"\""
   ]
  },
  {
   "cell_type": "code",
   "execution_count": null,
   "metadata": {
    "ExecuteTime": {
     "end_time": "2020-06-21T16:49:46.741667Z",
     "start_time": "2020-06-21T16:49:46.721940Z"
    }
   },
   "outputs": [
    {
     "name": "stdout",
     "output_type": "stream",
     "text": [
      "<class 'pandas.core.frame.DataFrame'>\n",
      "RangeIndex: 22631 entries, 0 to 22630\n",
      "Data columns (total 11 columns):\n",
      " #   Column        Non-Null Count  Dtype         \n",
      "---  ------        --------------  -----         \n",
      " 0   cik           22631 non-null  int64         \n",
      " 1   company_name  22631 non-null  object        \n",
      " 2   form_type     22631 non-null  object        \n",
      " 3   date_filed    22631 non-null  datetime64[ns]\n",
      " 4   edgar_link    22631 non-null  object        \n",
      " 5   quarter       22631 non-null  int64         \n",
      " 6   ticker        22631 non-null  object        \n",
      " 7   sic           22461 non-null  object        \n",
      " 8   exchange      20619 non-null  object        \n",
      " 9   hits          22555 non-null  object        \n",
      " 10  year          22631 non-null  int64         \n",
      "dtypes: datetime64[ns](1), int64(3), object(7)\n",
      "memory usage: 1.9+ MB\n"
     ]
    }
   ],
   "source": [
    "#sec.info()"
   ]
  },
  {
   "cell_type": "code",
   "execution_count": null,
   "metadata": {
    "ExecuteTime": {
     "end_time": "2020-06-21T16:49:49.396776Z",
     "start_time": "2020-06-21T16:49:49.390774Z"
    }
   },
   "outputs": [],
   "source": [
    "#idx = pd.IndexSlice"
   ]
  },
  {
   "cell_type": "code",
   "execution_count": null,
   "metadata": {
    "ExecuteTime": {
     "end_time": "2020-06-21T16:49:51.423980Z",
     "start_time": "2020-06-21T16:49:50.352212Z"
    }
   },
   "outputs": [],
   "source": [
    "\"\"\"\n",
    "first = sec.date_filed.min() + relativedelta(months=-1)\n",
    "last = sec.date_filed.max() + relativedelta(months=1)\n",
    "prices = (prices\n",
    "          .loc[idx[first:last, :]]\n",
    "          .unstack().resample(\"D\")\n",
    "          .ffill()\n",
    "          .dropna(how=\"all\", axis=1)\n",
    "          .filter(sec.ticker.unique()))\n",
    "\"\"\""
   ]
  },
  {
   "cell_type": "code",
   "execution_count": null,
   "metadata": {
    "ExecuteTime": {
     "end_time": "2020-06-21T16:49:53.694685Z",
     "start_time": "2020-06-21T16:49:51.425034Z"
    }
   },
   "outputs": [],
   "source": [
    "\"\"\"\n",
    "sec = sec.loc[sec.ticker.isin(prices.columns), [\"ticker\", \"date_filed\"]]\n",
    "\n",
    "price_data = []\n",
    "for ticker, date in sec.values.tolist():\n",
    "    target = date + relativedelta(months=1)\n",
    "    s = prices.loc[date: target, ticker]\n",
    "    price_data.append(s.iloc[-1] / s.iloc[0] - 1)\n",
    "\n",
    "df = pd.DataFrame(price_data,\n",
    "                  columns=[\"returns\"],\n",
    "                  index=sec.index)\n",
    "\"\"\""
   ]
  },
  {
   "cell_type": "code",
   "execution_count": null,
   "metadata": {
    "ExecuteTime": {
     "end_time": "2020-06-21T16:49:53.700732Z",
     "start_time": "2020-06-21T16:49:53.695697Z"
    }
   },
   "outputs": [
    {
     "data": {
      "text/plain": [
       "count    11101.000000\n",
       "mean         0.022839\n",
       "std          0.126137\n",
       "min         -0.555556\n",
       "25%         -0.032213\n",
       "50%          0.017349\n",
       "75%          0.067330\n",
       "max          1.928826\n",
       "Name: returns, dtype: float64"
      ]
     },
     "execution_count": 34,
     "metadata": {},
     "output_type": "execute_result"
    }
   ],
   "source": [
    "#df.returns.describe()       "
   ]
  },
  {
   "cell_type": "code",
   "execution_count": null,
   "metadata": {
    "ExecuteTime": {
     "end_time": "2020-06-21T16:49:53.718447Z",
     "start_time": "2020-06-21T16:49:53.701618Z"
    }
   },
   "outputs": [
    {
     "name": "stdout",
     "output_type": "stream",
     "text": [
      "<class 'pandas.core.frame.DataFrame'>\n",
      "Int64Index: 11375 entries, 0 to 22629\n",
      "Data columns (total 3 columns):\n",
      " #   Column      Non-Null Count  Dtype         \n",
      "---  ------      --------------  -----         \n",
      " 0   ticker      11375 non-null  object        \n",
      " 1   date_filed  11375 non-null  datetime64[ns]\n",
      " 2   returns     11101 non-null  float64       \n",
      "dtypes: datetime64[ns](1), float64(1), object(1)\n",
      "memory usage: 355.5+ KB\n"
     ]
    }
   ],
   "source": [
    "#sec[\"returns\"] = price_data\n",
    "#sec.info()"
   ]
  },
  {
   "cell_type": "code",
   "execution_count": null,
   "metadata": {
    "ExecuteTime": {
     "end_time": "2020-06-21T16:49:58.385354Z",
     "start_time": "2020-06-21T16:49:58.326570Z"
    }
   },
   "outputs": [],
   "source": [
    "#sec.dropna().to_csv(sec_path / \"sec_returns.csv\", index=False)"
   ]
  }
 ],
 "metadata": {
  "kernelspec": {
   "display_name": "Julia 1.7.1",
   "language": "julia",
   "name": "julia-1.7"
  },
  "language_info": {
   "file_extension": ".jl",
   "mimetype": "application/julia",
   "name": "julia",
   "version": "1.7.1"
  },
  "toc": {
   "base_numbering": 1,
   "nav_menu": {},
   "number_sections": true,
   "sideBar": true,
   "skip_h1_title": true,
   "title_cell": "Table of Contents",
   "title_sidebar": "Contents",
   "toc_cell": false,
   "toc_position": {},
   "toc_section_display": true,
   "toc_window_display": true
  }
 },
 "nbformat": 4,
 "nbformat_minor": 4
}
