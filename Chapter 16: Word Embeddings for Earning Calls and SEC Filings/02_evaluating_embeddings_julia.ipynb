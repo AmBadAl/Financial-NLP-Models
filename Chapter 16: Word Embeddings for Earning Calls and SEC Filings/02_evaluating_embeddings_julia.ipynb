{
 "cells": [
  {
   "cell_type": "markdown",
   "metadata": {},
   "source": [
    "# How to evaluate embeddings using linear algebra and analogies "
   ]
  },
  {
   "cell_type": "markdown",
   "metadata": {},
   "source": [
    "The dimensions of the word and phrase vectors do not have an explicit meaning. However, the embeddings encode similar usage as proximity in the latent space in a way that carries over to semantic relationships. This results in the interesting properties that analogies can be expressed by adding and subtracting word vectors.\n",
    "\n",
    "Just as words can be used in different contexts, they can be related to other words in different ways, and these relationships correspond to different directions in the latent space. Accordingly, there are several types of analogies that the embeddings should reflect if the training data permits.\n",
    "\n",
    "The word2vec authors provide a list of several thousand relationships spanning aspects of geography, grammar and syntax, and family relationships to evaluate the quality of embedding vectors (see directory [analogies](data/analogies))."
   ]
  },
  {
   "cell_type": "markdown",
   "metadata": {},
   "source": [
    "## Data"
   ]
  },
  {
   "cell_type": "markdown",
   "metadata": {},
   "source": [
    "<div style='direction:rtl; font-family: \"B Nazanin\"; font-size: 20px;'> \n",
    "در این نوت بوک نیاز است تا از داده‌های موجود در فایل analogies-en.txt که در فولدر data موجود در همین فولدر است، استفاده شود."
   ]
  },
  {
   "cell_type": "markdown",
   "metadata": {
    "slideshow": {
     "slide_type": "fragment"
    }
   },
   "source": [
    "## Imports"
   ]
  },
  {
   "cell_type": "code",
   "execution_count": 1,
   "metadata": {
    "ExecuteTime": {
     "end_time": "2020-06-21T02:02:00.366112Z",
     "start_time": "2020-06-21T02:01:59.675597Z"
    },
    "slideshow": {
     "slide_type": "fragment"
    }
   },
   "outputs": [],
   "source": [
    "using Pkg"
   ]
  },
  {
   "cell_type": "code",
   "execution_count": 2,
   "metadata": {},
   "outputs": [],
   "source": [
    "#Pkg.add(\"DataFrames\")\n",
    "#Pkg.add(\"Plots\")"
   ]
  },
  {
   "cell_type": "code",
   "execution_count": 3,
   "metadata": {},
   "outputs": [],
   "source": [
    "using DataFrames\n",
    "using Plots"
   ]
  },
  {
   "cell_type": "markdown",
   "metadata": {
    "slideshow": {
     "slide_type": ""
    }
   },
   "source": [
    "### Settings"
   ]
  },
  {
   "cell_type": "code",
   "execution_count": 4,
   "metadata": {
    "ExecuteTime": {
     "end_time": "2020-06-21T02:02:00.382459Z",
     "start_time": "2020-06-21T02:02:00.378877Z"
    }
   },
   "outputs": [
    {
     "data": {
      "text/plain": [
       "\"data\\\\analogies-en.txt\""
      ]
     },
     "execution_count": 4,
     "metadata": {},
     "output_type": "execute_result"
    }
   ],
   "source": [
    "analogy_path = joinpath(\"data\", \"analogies-en.txt\")"
   ]
  },
  {
   "cell_type": "markdown",
   "metadata": {
    "slideshow": {
     "slide_type": "slide"
    }
   },
   "source": [
    "## Evaluation: Analogies"
   ]
  },
  {
   "cell_type": "code",
   "execution_count": 5,
   "metadata": {},
   "outputs": [],
   "source": [
    "f = open(analogy_path, \"r\")\n",
    "s = read(f, String)\n",
    "close(f)"
   ]
  },
  {
   "cell_type": "code",
   "execution_count": 6,
   "metadata": {},
   "outputs": [
    {
     "data": {
      "text/plain": [
       "25407-element Vector{SubString{String}}:\n",
       " \": capital-common-countries  \"\n",
       " \"athens greece baghdad iraq\"\n",
       " \"athens greece bangkok thailand\"\n",
       " \"athens greece beijing china\"\n",
       " \"athens greece berlin germany\"\n",
       " \"athens greece bern switzerland\"\n",
       " \"athens greece cairo egypt\"\n",
       " \"athens greece canberra australia\"\n",
       " \"athens greece hanoi vietnam\"\n",
       " \"athens greece havana cuba\"\n",
       " \"athens greece helsinki finland\"\n",
       " \"athens greece islamabad pakistan\"\n",
       " \"athens greece kabul afghanistan\"\n",
       " ⋮\n",
       " \"write writes shuffle shuffles\"\n",
       " \"write writes sing sings\"\n",
       " \"write writes sit sits\"\n",
       " \"write writes slow slows\"\n",
       " \"write writes speak speaks\"\n",
       " \"write writes swim swims\"\n",
       " \"write writes talk talks\"\n",
       " \"write writes think thinks\"\n",
       " \"write writes vanish vanishes\"\n",
       " \"write writes walk walks\"\n",
       " \"write writes work works\"\n",
       " \"\""
      ]
     },
     "execution_count": 6,
     "metadata": {},
     "output_type": "execute_result"
    }
   ],
   "source": [
    "lines = split(s, \"\\n\")"
   ]
  },
  {
   "cell_type": "code",
   "execution_count": 7,
   "metadata": {},
   "outputs": [],
   "source": [
    "analogies = Any[]\n",
    "category = \"\"\n",
    "\n",
    "for line ∈ lines\n",
    "    if startswith(line, \":\")\n",
    "        category = line\n",
    "    else\n",
    "        if (line != \"\")\n",
    "            push!(analogies, append!([category], split(line, \" \")))\n",
    "        end\n",
    "    end\n",
    "end"
   ]
  },
  {
   "cell_type": "code",
   "execution_count": 8,
   "metadata": {
    "scrolled": true
   },
   "outputs": [
    {
     "data": {
      "text/plain": [
       "25392-element Vector{Any}:\n",
       " SubString{String}[\": capital-common-countries  \", \"athens\", \"greece\", \"baghdad\", \"iraq\"]\n",
       " SubString{String}[\": capital-common-countries  \", \"athens\", \"greece\", \"bangkok\", \"thailand\"]\n",
       " SubString{String}[\": capital-common-countries  \", \"athens\", \"greece\", \"beijing\", \"china\"]\n",
       " SubString{String}[\": capital-common-countries  \", \"athens\", \"greece\", \"berlin\", \"germany\"]\n",
       " SubString{String}[\": capital-common-countries  \", \"athens\", \"greece\", \"bern\", \"switzerland\"]\n",
       " SubString{String}[\": capital-common-countries  \", \"athens\", \"greece\", \"cairo\", \"egypt\"]\n",
       " SubString{String}[\": capital-common-countries  \", \"athens\", \"greece\", \"canberra\", \"australia\"]\n",
       " SubString{String}[\": capital-common-countries  \", \"athens\", \"greece\", \"hanoi\", \"vietnam\"]\n",
       " SubString{String}[\": capital-common-countries  \", \"athens\", \"greece\", \"havana\", \"cuba\"]\n",
       " SubString{String}[\": capital-common-countries  \", \"athens\", \"greece\", \"helsinki\", \"finland\"]\n",
       " SubString{String}[\": capital-common-countries  \", \"athens\", \"greece\", \"islamabad\", \"pakistan\"]\n",
       " SubString{String}[\": capital-common-countries  \", \"athens\", \"greece\", \"kabul\", \"afghanistan\"]\n",
       " SubString{String}[\": capital-common-countries  \", \"athens\", \"greece\", \"london\", \"england\"]\n",
       " ⋮\n",
       " SubString{String}[\": gram9-plural-verbs  \", \"write\", \"writes\", \"see\", \"sees\"]\n",
       " SubString{String}[\": gram9-plural-verbs  \", \"write\", \"writes\", \"shuffle\", \"shuffles\"]\n",
       " SubString{String}[\": gram9-plural-verbs  \", \"write\", \"writes\", \"sing\", \"sings\"]\n",
       " SubString{String}[\": gram9-plural-verbs  \", \"write\", \"writes\", \"sit\", \"sits\"]\n",
       " SubString{String}[\": gram9-plural-verbs  \", \"write\", \"writes\", \"slow\", \"slows\"]\n",
       " SubString{String}[\": gram9-plural-verbs  \", \"write\", \"writes\", \"speak\", \"speaks\"]\n",
       " SubString{String}[\": gram9-plural-verbs  \", \"write\", \"writes\", \"swim\", \"swims\"]\n",
       " SubString{String}[\": gram9-plural-verbs  \", \"write\", \"writes\", \"talk\", \"talks\"]\n",
       " SubString{String}[\": gram9-plural-verbs  \", \"write\", \"writes\", \"think\", \"thinks\"]\n",
       " SubString{String}[\": gram9-plural-verbs  \", \"write\", \"writes\", \"vanish\", \"vanishes\"]\n",
       " SubString{String}[\": gram9-plural-verbs  \", \"write\", \"writes\", \"walk\", \"walks\"]\n",
       " SubString{String}[\": gram9-plural-verbs  \", \"write\", \"writes\", \"work\", \"works\"]"
      ]
     },
     "execution_count": 8,
     "metadata": {},
     "output_type": "execute_result"
    }
   ],
   "source": [
    "analogies"
   ]
  },
  {
   "cell_type": "code",
   "execution_count": 9,
   "metadata": {},
   "outputs": [
    {
     "data": {
      "text/html": [
       "<table class=\"data-frame\"><thead><tr><th></th><th>category</th><th>a</th><th>b</th><th>c</th><th>d</th></tr><tr><th></th><th>String</th><th>String</th><th>String</th><th>String</th><th>String</th></tr></thead><tbody><p>5 rows × 5 columns</p><tr><th>1</th><td>: capital-common-countries  </td><td>athens</td><td>greece</td><td>baghdad</td><td>iraq</td></tr><tr><th>2</th><td>: capital-common-countries  </td><td>athens</td><td>greece</td><td>bangkok</td><td>thailand</td></tr><tr><th>3</th><td>: capital-common-countries  </td><td>athens</td><td>greece</td><td>beijing</td><td>china</td></tr><tr><th>4</th><td>: capital-common-countries  </td><td>athens</td><td>greece</td><td>berlin</td><td>germany</td></tr><tr><th>5</th><td>: capital-common-countries  </td><td>athens</td><td>greece</td><td>bern</td><td>switzerland</td></tr></tbody></table>"
      ],
      "text/latex": [
       "\\begin{tabular}{r|ccccc}\n",
       "\t& category & a & b & c & d\\\\\n",
       "\t\\hline\n",
       "\t& String & String & String & String & String\\\\\n",
       "\t\\hline\n",
       "\t1 & : capital-common-countries   & athens & greece & baghdad & iraq \\\\\n",
       "\t2 & : capital-common-countries   & athens & greece & bangkok & thailand \\\\\n",
       "\t3 & : capital-common-countries   & athens & greece & beijing & china \\\\\n",
       "\t4 & : capital-common-countries   & athens & greece & berlin & germany \\\\\n",
       "\t5 & : capital-common-countries   & athens & greece & bern & switzerland \\\\\n",
       "\\end{tabular}\n"
      ],
      "text/plain": [
       "5×5 DataFrame\n",
       "│ Row │ category                     │ a      │ b      │ c       │ d           │\n",
       "│     │ \u001b[90mString\u001b[39m                       │ \u001b[90mString\u001b[39m │ \u001b[90mString\u001b[39m │ \u001b[90mString\u001b[39m  │ \u001b[90mString\u001b[39m      │\n",
       "├─────┼──────────────────────────────┼────────┼────────┼─────────┼─────────────┤\n",
       "│ 1   │ : capital-common-countries   │ athens │ greece │ baghdad │ iraq        │\n",
       "│ 2   │ : capital-common-countries   │ athens │ greece │ bangkok │ thailand    │\n",
       "│ 3   │ : capital-common-countries   │ athens │ greece │ beijing │ china       │\n",
       "│ 4   │ : capital-common-countries   │ athens │ greece │ berlin  │ germany     │\n",
       "│ 5   │ : capital-common-countries   │ athens │ greece │ bern    │ switzerland │"
      ]
     },
     "execution_count": 9,
     "metadata": {},
     "output_type": "execute_result"
    }
   ],
   "source": [
    "df = DataFrame(category = [String(x[1]) for x ∈ analogies], \n",
    "                a = [String(x[2]) for x ∈ analogies], \n",
    "                b = [String(x[3]) for x ∈ analogies], \n",
    "                c = [String(x[4]) for x ∈ analogies], \n",
    "                d = [String(x[5]) for x ∈ analogies])\n",
    "first(df, 5)"
   ]
  },
  {
   "cell_type": "code",
   "execution_count": 10,
   "metadata": {},
   "outputs": [
    {
     "data": {
      "text/plain": [
       "value_counts (generic function with 1 method)"
      ]
     },
     "execution_count": 10,
     "metadata": {},
     "output_type": "execute_result"
    }
   ],
   "source": [
    "value_counts(df, col) = combine(groupby(df, col), nrow)"
   ]
  },
  {
   "cell_type": "code",
   "execution_count": 11,
   "metadata": {},
   "outputs": [
    {
     "data": {
      "text/html": [
       "<table class=\"data-frame\"><thead><tr><th></th><th>category</th><th>nrow</th><th>a</th><th>b</th><th>c</th><th>d</th></tr><tr><th></th><th>String</th><th>Int64</th><th>String</th><th>String</th><th>String</th><th>String</th></tr></thead><tbody><p>14 rows × 6 columns</p><tr><th>1</th><td>: capital-world  </td><td>8556</td><td>abuja</td><td>nigeria</td><td>accra</td><td>ghana</td></tr><tr><th>2</th><td>: city-in-state  </td><td>4242</td><td>chicago</td><td>illinois</td><td>houston</td><td>texas</td></tr><tr><th>3</th><td>: gram6-nationality-adjective  </td><td>1640</td><td>albania</td><td>albanian</td><td>argentina</td><td>argentinean</td></tr><tr><th>4</th><td>: gram7-past-tense  </td><td>1560</td><td>dancing</td><td>danced</td><td>decreasing</td><td>decreased</td></tr><tr><th>5</th><td>: gram3-comparative  </td><td>1332</td><td>bad</td><td>worse</td><td>big</td><td>bigger</td></tr><tr><th>6</th><td>: gram8-plural  </td><td>1332</td><td>banana</td><td>bananas</td><td>bird</td><td>birds</td></tr><tr><th>7</th><td>: gram4-superlative  </td><td>1122</td><td>bad</td><td>worst</td><td>big</td><td>biggest</td></tr><tr><th>8</th><td>: gram5-present-participle  </td><td>1056</td><td>code</td><td>coding</td><td>dance</td><td>dancing</td></tr><tr><th>9</th><td>: gram1-adjective-to-adverb  </td><td>992</td><td>amazing</td><td>amazingly</td><td>apparent</td><td>apparently</td></tr><tr><th>10</th><td>: gram9-plural-verbs  </td><td>870</td><td>decrease</td><td>decreases</td><td>describe</td><td>describes</td></tr><tr><th>11</th><td>: currency  </td><td>866</td><td>algeria</td><td>dinar</td><td>angola</td><td>kwanza</td></tr><tr><th>12</th><td>: gram2-opposite  </td><td>812</td><td>acceptable</td><td>unacceptable</td><td>aware</td><td>unaware</td></tr><tr><th>13</th><td>: capital-common-countries  </td><td>506</td><td>athens</td><td>greece</td><td>baghdad</td><td>iraq</td></tr><tr><th>14</th><td>: family  </td><td>506</td><td>boy</td><td>girl</td><td>brother</td><td>sister</td></tr></tbody></table>"
      ],
      "text/latex": [
       "\\begin{tabular}{r|cccccc}\n",
       "\t& category & nrow & a & b & c & d\\\\\n",
       "\t\\hline\n",
       "\t& String & Int64 & String & String & String & String\\\\\n",
       "\t\\hline\n",
       "\t1 & : capital-world   & 8556 & abuja & nigeria & accra & ghana \\\\\n",
       "\t2 & : city-in-state   & 4242 & chicago & illinois & houston & texas \\\\\n",
       "\t3 & : gram6-nationality-adjective   & 1640 & albania & albanian & argentina & argentinean \\\\\n",
       "\t4 & : gram7-past-tense   & 1560 & dancing & danced & decreasing & decreased \\\\\n",
       "\t5 & : gram3-comparative   & 1332 & bad & worse & big & bigger \\\\\n",
       "\t6 & : gram8-plural   & 1332 & banana & bananas & bird & birds \\\\\n",
       "\t7 & : gram4-superlative   & 1122 & bad & worst & big & biggest \\\\\n",
       "\t8 & : gram5-present-participle   & 1056 & code & coding & dance & dancing \\\\\n",
       "\t9 & : gram1-adjective-to-adverb   & 992 & amazing & amazingly & apparent & apparently \\\\\n",
       "\t10 & : gram9-plural-verbs   & 870 & decrease & decreases & describe & describes \\\\\n",
       "\t11 & : currency   & 866 & algeria & dinar & angola & kwanza \\\\\n",
       "\t12 & : gram2-opposite   & 812 & acceptable & unacceptable & aware & unaware \\\\\n",
       "\t13 & : capital-common-countries   & 506 & athens & greece & baghdad & iraq \\\\\n",
       "\t14 & : family   & 506 & boy & girl & brother & sister \\\\\n",
       "\\end{tabular}\n"
      ],
      "text/plain": [
       "14×6 DataFrame. Omitted printing of 2 columns\n",
       "│ Row │ category                        │ nrow  │ a          │ b            │\n",
       "│     │ \u001b[90mString\u001b[39m                          │ \u001b[90mInt64\u001b[39m │ \u001b[90mString\u001b[39m     │ \u001b[90mString\u001b[39m       │\n",
       "├─────┼─────────────────────────────────┼───────┼────────────┼──────────────┤\n",
       "│ 1   │ : capital-world                 │ 8556  │ abuja      │ nigeria      │\n",
       "│ 2   │ : city-in-state                 │ 4242  │ chicago    │ illinois     │\n",
       "│ 3   │ : gram6-nationality-adjective   │ 1640  │ albania    │ albanian     │\n",
       "│ 4   │ : gram7-past-tense              │ 1560  │ dancing    │ danced       │\n",
       "│ 5   │ : gram3-comparative             │ 1332  │ bad        │ worse        │\n",
       "│ 6   │ : gram8-plural                  │ 1332  │ banana     │ bananas      │\n",
       "│ 7   │ : gram4-superlative             │ 1122  │ bad        │ worst        │\n",
       "│ 8   │ : gram5-present-participle      │ 1056  │ code       │ coding       │\n",
       "│ 9   │ : gram1-adjective-to-adverb     │ 992   │ amazing    │ amazingly    │\n",
       "│ 10  │ : gram9-plural-verbs            │ 870   │ decrease   │ decreases    │\n",
       "│ 11  │ : currency                      │ 866   │ algeria    │ dinar        │\n",
       "│ 12  │ : gram2-opposite                │ 812   │ acceptable │ unacceptable │\n",
       "│ 13  │ : capital-common-countries      │ 506   │ athens     │ greece       │\n",
       "│ 14  │ : family                        │ 506   │ boy        │ girl         │"
      ]
     },
     "execution_count": 11,
     "metadata": {},
     "output_type": "execute_result"
    }
   ],
   "source": [
    "analogy_cnt = sort(value_counts(df, :category), :nrow, rev=true)\n",
    "analogy_example = combine(first, groupby(df, :category))\n",
    "innerjoin(analogy_cnt, analogy_example, on=:category)"
   ]
  },
  {
   "cell_type": "code",
   "execution_count": 12,
   "metadata": {},
   "outputs": [
    {
     "data": {
      "image/svg+xml": "<?xml version=\"1.0\" encoding=\"utf-8\"?>\n<svg xmlns=\"http://www.w3.org/2000/svg\" xmlns:xlink=\"http://www.w3.org/1999/xlink\" width=\"900\" height=\"400\" viewBox=\"0 0 3600 1600\">\n<defs>\n  <clipPath id=\"clip1300\">\n    <rect x=\"0\" y=\"0\" width=\"3600\" height=\"1600\"/>\n  </clipPath>\n</defs>\n<path clip-path=\"url(#clip1300)\" d=\"\nM0 1600 L3600 1600 L3600 0 L0 0  Z\n  \" fill=\"#ffffff\" fill-rule=\"evenodd\" fill-opacity=\"1\"/>\n<defs>\n  <clipPath id=\"clip1301\">\n    <rect x=\"720\" y=\"0\" width=\"2521\" height=\"1600\"/>\n  </clipPath>\n</defs>\n<path clip-path=\"url(#clip1300)\" d=\"\nM801.638 1487.47 L3552.76 1487.47 L3552.76 121.675 L801.638 121.675  Z\n  \" fill=\"#ffffff\" fill-rule=\"evenodd\" fill-opacity=\"1\"/>\n<defs>\n  <clipPath id=\"clip1302\">\n    <rect x=\"801\" y=\"121\" width=\"2752\" height=\"1367\"/>\n  </clipPath>\n</defs>\n<polyline clip-path=\"url(#clip1302)\" style=\"stroke:#000000; stroke-width:2; stroke-opacity:0.1; fill:none\" points=\"\n  879.499,1487.47 879.499,121.675 \n  \"/>\n<polyline clip-path=\"url(#clip1302)\" style=\"stroke:#000000; stroke-width:2; stroke-opacity:0.1; fill:none\" points=\"\n  1486.18,1487.47 1486.18,121.675 \n  \"/>\n<polyline clip-path=\"url(#clip1302)\" style=\"stroke:#000000; stroke-width:2; stroke-opacity:0.1; fill:none\" points=\"\n  2092.87,1487.47 2092.87,121.675 \n  \"/>\n<polyline clip-path=\"url(#clip1302)\" style=\"stroke:#000000; stroke-width:2; stroke-opacity:0.1; fill:none\" points=\"\n  2699.55,1487.47 2699.55,121.675 \n  \"/>\n<polyline clip-path=\"url(#clip1302)\" style=\"stroke:#000000; stroke-width:2; stroke-opacity:0.1; fill:none\" points=\"\n  3306.24,1487.47 3306.24,121.675 \n  \"/>\n<polyline clip-path=\"url(#clip1302)\" style=\"stroke:#000000; stroke-width:2; stroke-opacity:0.1; fill:none\" points=\"\n  801.638,1377.12 3552.76,1377.12 \n  \"/>\n<polyline clip-path=\"url(#clip1302)\" style=\"stroke:#000000; stroke-width:2; stroke-opacity:0.1; fill:none\" points=\"\n  801.638,1289.04 3552.76,1289.04 \n  \"/>\n<polyline clip-path=\"url(#clip1302)\" style=\"stroke:#000000; stroke-width:2; stroke-opacity:0.1; fill:none\" points=\"\n  801.638,1200.95 3552.76,1200.95 \n  \"/>\n<polyline clip-path=\"url(#clip1302)\" style=\"stroke:#000000; stroke-width:2; stroke-opacity:0.1; fill:none\" points=\"\n  801.638,1112.87 3552.76,1112.87 \n  \"/>\n<polyline clip-path=\"url(#clip1302)\" style=\"stroke:#000000; stroke-width:2; stroke-opacity:0.1; fill:none\" points=\"\n  801.638,1024.78 3552.76,1024.78 \n  \"/>\n<polyline clip-path=\"url(#clip1302)\" style=\"stroke:#000000; stroke-width:2; stroke-opacity:0.1; fill:none\" points=\"\n  801.638,936.701 3552.76,936.701 \n  \"/>\n<polyline clip-path=\"url(#clip1302)\" style=\"stroke:#000000; stroke-width:2; stroke-opacity:0.1; fill:none\" points=\"\n  801.638,848.617 3552.76,848.617 \n  \"/>\n<polyline clip-path=\"url(#clip1302)\" style=\"stroke:#000000; stroke-width:2; stroke-opacity:0.1; fill:none\" points=\"\n  801.638,760.533 3552.76,760.533 \n  \"/>\n<polyline clip-path=\"url(#clip1302)\" style=\"stroke:#000000; stroke-width:2; stroke-opacity:0.1; fill:none\" points=\"\n  801.638,672.449 3552.76,672.449 \n  \"/>\n<polyline clip-path=\"url(#clip1302)\" style=\"stroke:#000000; stroke-width:2; stroke-opacity:0.1; fill:none\" points=\"\n  801.638,584.365 3552.76,584.365 \n  \"/>\n<polyline clip-path=\"url(#clip1302)\" style=\"stroke:#000000; stroke-width:2; stroke-opacity:0.1; fill:none\" points=\"\n  801.638,496.282 3552.76,496.282 \n  \"/>\n<polyline clip-path=\"url(#clip1302)\" style=\"stroke:#000000; stroke-width:2; stroke-opacity:0.1; fill:none\" points=\"\n  801.638,408.198 3552.76,408.198 \n  \"/>\n<polyline clip-path=\"url(#clip1302)\" style=\"stroke:#000000; stroke-width:2; stroke-opacity:0.1; fill:none\" points=\"\n  801.638,320.114 3552.76,320.114 \n  \"/>\n<polyline clip-path=\"url(#clip1302)\" style=\"stroke:#000000; stroke-width:2; stroke-opacity:0.1; fill:none\" points=\"\n  801.638,232.03 3552.76,232.03 \n  \"/>\n<polyline clip-path=\"url(#clip1300)\" style=\"stroke:#000000; stroke-width:4; stroke-opacity:1; fill:none\" points=\"\n  801.638,1487.47 3552.76,1487.47 \n  \"/>\n<polyline clip-path=\"url(#clip1300)\" style=\"stroke:#000000; stroke-width:4; stroke-opacity:1; fill:none\" points=\"\n  801.638,1487.47 801.638,121.675 \n  \"/>\n<polyline clip-path=\"url(#clip1300)\" style=\"stroke:#000000; stroke-width:4; stroke-opacity:1; fill:none\" points=\"\n  879.499,1487.47 879.499,1471.09 \n  \"/>\n<polyline clip-path=\"url(#clip1300)\" style=\"stroke:#000000; stroke-width:4; stroke-opacity:1; fill:none\" points=\"\n  1486.18,1487.47 1486.18,1471.09 \n  \"/>\n<polyline clip-path=\"url(#clip1300)\" style=\"stroke:#000000; stroke-width:4; stroke-opacity:1; fill:none\" points=\"\n  2092.87,1487.47 2092.87,1471.09 \n  \"/>\n<polyline clip-path=\"url(#clip1300)\" style=\"stroke:#000000; stroke-width:4; stroke-opacity:1; fill:none\" points=\"\n  2699.55,1487.47 2699.55,1471.09 \n  \"/>\n<polyline clip-path=\"url(#clip1300)\" style=\"stroke:#000000; stroke-width:4; stroke-opacity:1; fill:none\" points=\"\n  3306.24,1487.47 3306.24,1471.09 \n  \"/>\n<polyline clip-path=\"url(#clip1300)\" style=\"stroke:#000000; stroke-width:4; stroke-opacity:1; fill:none\" points=\"\n  801.638,1377.12 834.651,1377.12 \n  \"/>\n<polyline clip-path=\"url(#clip1300)\" style=\"stroke:#000000; stroke-width:4; stroke-opacity:1; fill:none\" points=\"\n  801.638,1289.04 834.651,1289.04 \n  \"/>\n<polyline clip-path=\"url(#clip1300)\" style=\"stroke:#000000; stroke-width:4; stroke-opacity:1; fill:none\" points=\"\n  801.638,1200.95 834.651,1200.95 \n  \"/>\n<polyline clip-path=\"url(#clip1300)\" style=\"stroke:#000000; stroke-width:4; stroke-opacity:1; fill:none\" points=\"\n  801.638,1112.87 834.651,1112.87 \n  \"/>\n<polyline clip-path=\"url(#clip1300)\" style=\"stroke:#000000; stroke-width:4; stroke-opacity:1; fill:none\" points=\"\n  801.638,1024.78 834.651,1024.78 \n  \"/>\n<polyline clip-path=\"url(#clip1300)\" style=\"stroke:#000000; stroke-width:4; stroke-opacity:1; fill:none\" points=\"\n  801.638,936.701 834.651,936.701 \n  \"/>\n<polyline clip-path=\"url(#clip1300)\" style=\"stroke:#000000; stroke-width:4; stroke-opacity:1; fill:none\" points=\"\n  801.638,848.617 834.651,848.617 \n  \"/>\n<polyline clip-path=\"url(#clip1300)\" style=\"stroke:#000000; stroke-width:4; stroke-opacity:1; fill:none\" points=\"\n  801.638,760.533 834.651,760.533 \n  \"/>\n<polyline clip-path=\"url(#clip1300)\" style=\"stroke:#000000; stroke-width:4; stroke-opacity:1; fill:none\" points=\"\n  801.638,672.449 834.651,672.449 \n  \"/>\n<polyline clip-path=\"url(#clip1300)\" style=\"stroke:#000000; stroke-width:4; stroke-opacity:1; fill:none\" points=\"\n  801.638,584.365 834.651,584.365 \n  \"/>\n<polyline clip-path=\"url(#clip1300)\" style=\"stroke:#000000; stroke-width:4; stroke-opacity:1; fill:none\" points=\"\n  801.638,496.282 834.651,496.282 \n  \"/>\n<polyline clip-path=\"url(#clip1300)\" style=\"stroke:#000000; stroke-width:4; stroke-opacity:1; fill:none\" points=\"\n  801.638,408.198 834.651,408.198 \n  \"/>\n<polyline clip-path=\"url(#clip1300)\" style=\"stroke:#000000; stroke-width:4; stroke-opacity:1; fill:none\" points=\"\n  801.638,320.114 834.651,320.114 \n  \"/>\n<polyline clip-path=\"url(#clip1300)\" style=\"stroke:#000000; stroke-width:4; stroke-opacity:1; fill:none\" points=\"\n  801.638,232.03 834.651,232.03 \n  \"/>\n<g clip-path=\"url(#clip1300)\">\n<text style=\"fill:#000000; fill-opacity:1; font-family:Arial,Helvetica Neue,Helvetica,sans-serif; font-size:48px; text-anchor:middle;\" transform=\"rotate(0, 879.499, 1547.47)\" x=\"879.499\" y=\"1547.47\">0</text>\n</g>\n<g clip-path=\"url(#clip1300)\">\n<text style=\"fill:#000000; fill-opacity:1; font-family:Arial,Helvetica Neue,Helvetica,sans-serif; font-size:48px; text-anchor:middle;\" transform=\"rotate(0, 1486.18, 1547.47)\" x=\"1486.18\" y=\"1547.47\">2000</text>\n</g>\n<g clip-path=\"url(#clip1300)\">\n<text style=\"fill:#000000; fill-opacity:1; font-family:Arial,Helvetica Neue,Helvetica,sans-serif; font-size:48px; text-anchor:middle;\" transform=\"rotate(0, 2092.87, 1547.47)\" x=\"2092.87\" y=\"1547.47\">4000</text>\n</g>\n<g clip-path=\"url(#clip1300)\">\n<text style=\"fill:#000000; fill-opacity:1; font-family:Arial,Helvetica Neue,Helvetica,sans-serif; font-size:48px; text-anchor:middle;\" transform=\"rotate(0, 2699.55, 1547.47)\" x=\"2699.55\" y=\"1547.47\">6000</text>\n</g>\n<g clip-path=\"url(#clip1300)\">\n<text style=\"fill:#000000; fill-opacity:1; font-family:Arial,Helvetica Neue,Helvetica,sans-serif; font-size:48px; text-anchor:middle;\" transform=\"rotate(0, 3306.24, 1547.47)\" x=\"3306.24\" y=\"1547.47\">8000</text>\n</g>\n<g clip-path=\"url(#clip1300)\">\n<text style=\"fill:#000000; fill-opacity:1; font-family:Arial,Helvetica Neue,Helvetica,sans-serif; font-size:48px; text-anchor:end;\" transform=\"rotate(0, 765.638, 1394.62)\" x=\"765.638\" y=\"1394.62\">: capital-world  </text>\n</g>\n<g clip-path=\"url(#clip1300)\">\n<text style=\"fill:#000000; fill-opacity:1; font-family:Arial,Helvetica Neue,Helvetica,sans-serif; font-size:48px; text-anchor:end;\" transform=\"rotate(0, 765.638, 1306.54)\" x=\"765.638\" y=\"1306.54\">: city-in-state  </text>\n</g>\n<g clip-path=\"url(#clip1300)\">\n<text style=\"fill:#000000; fill-opacity:1; font-family:Arial,Helvetica Neue,Helvetica,sans-serif; font-size:48px; text-anchor:end;\" transform=\"rotate(0, 765.638, 1218.45)\" x=\"765.638\" y=\"1218.45\">: gram6-nationality-adjective  </text>\n</g>\n<g clip-path=\"url(#clip1300)\">\n<text style=\"fill:#000000; fill-opacity:1; font-family:Arial,Helvetica Neue,Helvetica,sans-serif; font-size:48px; text-anchor:end;\" transform=\"rotate(0, 765.638, 1130.37)\" x=\"765.638\" y=\"1130.37\">: gram7-past-tense  </text>\n</g>\n<g clip-path=\"url(#clip1300)\">\n<text style=\"fill:#000000; fill-opacity:1; font-family:Arial,Helvetica Neue,Helvetica,sans-serif; font-size:48px; text-anchor:end;\" transform=\"rotate(0, 765.638, 1042.28)\" x=\"765.638\" y=\"1042.28\">: gram3-comparative  </text>\n</g>\n<g clip-path=\"url(#clip1300)\">\n<text style=\"fill:#000000; fill-opacity:1; font-family:Arial,Helvetica Neue,Helvetica,sans-serif; font-size:48px; text-anchor:end;\" transform=\"rotate(0, 765.638, 954.201)\" x=\"765.638\" y=\"954.201\">: gram8-plural  </text>\n</g>\n<g clip-path=\"url(#clip1300)\">\n<text style=\"fill:#000000; fill-opacity:1; font-family:Arial,Helvetica Neue,Helvetica,sans-serif; font-size:48px; text-anchor:end;\" transform=\"rotate(0, 765.638, 866.117)\" x=\"765.638\" y=\"866.117\">: gram4-superlative  </text>\n</g>\n<g clip-path=\"url(#clip1300)\">\n<text style=\"fill:#000000; fill-opacity:1; font-family:Arial,Helvetica Neue,Helvetica,sans-serif; font-size:48px; text-anchor:end;\" transform=\"rotate(0, 765.638, 778.033)\" x=\"765.638\" y=\"778.033\">: gram5-present-participle  </text>\n</g>\n<g clip-path=\"url(#clip1300)\">\n<text style=\"fill:#000000; fill-opacity:1; font-family:Arial,Helvetica Neue,Helvetica,sans-serif; font-size:48px; text-anchor:end;\" transform=\"rotate(0, 765.638, 689.949)\" x=\"765.638\" y=\"689.949\">: gram1-adjective-to-adverb  </text>\n</g>\n<g clip-path=\"url(#clip1300)\">\n<text style=\"fill:#000000; fill-opacity:1; font-family:Arial,Helvetica Neue,Helvetica,sans-serif; font-size:48px; text-anchor:end;\" transform=\"rotate(0, 765.638, 601.865)\" x=\"765.638\" y=\"601.865\">: gram9-plural-verbs  </text>\n</g>\n<g clip-path=\"url(#clip1300)\">\n<text style=\"fill:#000000; fill-opacity:1; font-family:Arial,Helvetica Neue,Helvetica,sans-serif; font-size:48px; text-anchor:end;\" transform=\"rotate(0, 765.638, 513.782)\" x=\"765.638\" y=\"513.782\">: currency  </text>\n</g>\n<g clip-path=\"url(#clip1300)\">\n<text style=\"fill:#000000; fill-opacity:1; font-family:Arial,Helvetica Neue,Helvetica,sans-serif; font-size:48px; text-anchor:end;\" transform=\"rotate(0, 765.638, 425.698)\" x=\"765.638\" y=\"425.698\">: gram2-opposite  </text>\n</g>\n<g clip-path=\"url(#clip1300)\">\n<text style=\"fill:#000000; fill-opacity:1; font-family:Arial,Helvetica Neue,Helvetica,sans-serif; font-size:48px; text-anchor:end;\" transform=\"rotate(0, 765.638, 337.614)\" x=\"765.638\" y=\"337.614\">: capital-common-countries  </text>\n</g>\n<g clip-path=\"url(#clip1300)\">\n<text style=\"fill:#000000; fill-opacity:1; font-family:Arial,Helvetica Neue,Helvetica,sans-serif; font-size:48px; text-anchor:end;\" transform=\"rotate(0, 765.638, 249.53)\" x=\"765.638\" y=\"249.53\">: family  </text>\n</g>\n<g clip-path=\"url(#clip1300)\">\n<text style=\"fill:#000000; fill-opacity:1; font-family:Arial,Helvetica Neue,Helvetica,sans-serif; font-size:82px; text-anchor:middle;\" transform=\"rotate(0, 2177.2, 72)\" x=\"2177.2\" y=\"72\"># Analogies by Category</text>\n</g>\n<g clip-path=\"url(#clip1300)\">\n<text style=\"fill:#000000; fill-opacity:1; font-family:Arial,Helvetica Neue,Helvetica,sans-serif; font-size:66px; text-anchor:middle;\" transform=\"rotate(-90, 65.2861, 804.575)\" x=\"65.2861\" y=\"804.575\">category</text>\n</g>\n<path clip-path=\"url(#clip1302)\" d=\"\nM3474.89 1412.35 L879.499 1412.35 L879.499 1341.89 L3474.89 1341.89 L3474.89 1412.35 L3474.89 1412.35  Z\n  \" fill=\"#009af9\" fill-rule=\"evenodd\" fill-opacity=\"1\"/>\n<polyline clip-path=\"url(#clip1302)\" style=\"stroke:#000000; stroke-width:4; stroke-opacity:1; fill:none\" points=\"\n  3474.89,1412.35 879.499,1412.35 879.499,1341.89 3474.89,1341.89 3474.89,1412.35 \n  \"/>\n<path clip-path=\"url(#clip1302)\" d=\"\nM2166.28 1324.27 L879.499 1324.27 L879.499 1253.8 L2166.28 1253.8 L2166.28 1324.27 L2166.28 1324.27  Z\n  \" fill=\"#009af9\" fill-rule=\"evenodd\" fill-opacity=\"1\"/>\n<polyline clip-path=\"url(#clip1302)\" style=\"stroke:#000000; stroke-width:4; stroke-opacity:1; fill:none\" points=\"\n  2166.28,1324.27 879.499,1324.27 879.499,1253.8 2166.28,1253.8 2166.28,1324.27 \n  \"/>\n<path clip-path=\"url(#clip1302)\" d=\"\nM1376.98 1236.19 L879.499 1236.19 L879.499 1165.72 L1376.98 1165.72 L1376.98 1236.19 L1376.98 1236.19  Z\n  \" fill=\"#009af9\" fill-rule=\"evenodd\" fill-opacity=\"1\"/>\n<polyline clip-path=\"url(#clip1302)\" style=\"stroke:#000000; stroke-width:4; stroke-opacity:1; fill:none\" points=\"\n  1376.98,1236.19 879.499,1236.19 879.499,1165.72 1376.98,1165.72 1376.98,1236.19 \n  \"/>\n<path clip-path=\"url(#clip1302)\" d=\"\nM1352.71 1148.1 L879.499 1148.1 L879.499 1077.63 L1352.71 1077.63 L1352.71 1148.1 L1352.71 1148.1  Z\n  \" fill=\"#009af9\" fill-rule=\"evenodd\" fill-opacity=\"1\"/>\n<polyline clip-path=\"url(#clip1302)\" style=\"stroke:#000000; stroke-width:4; stroke-opacity:1; fill:none\" points=\"\n  1352.71,1148.1 879.499,1148.1 879.499,1077.63 1352.71,1077.63 1352.71,1148.1 \n  \"/>\n<path clip-path=\"url(#clip1302)\" d=\"\nM1283.55 1060.02 L879.499 1060.02 L879.499 989.551 L1283.55 989.551 L1283.55 1060.02 L1283.55 1060.02  Z\n  \" fill=\"#009af9\" fill-rule=\"evenodd\" fill-opacity=\"1\"/>\n<polyline clip-path=\"url(#clip1302)\" style=\"stroke:#000000; stroke-width:4; stroke-opacity:1; fill:none\" points=\"\n  1283.55,1060.02 879.499,1060.02 879.499,989.551 1283.55,989.551 1283.55,1060.02 \n  \"/>\n<path clip-path=\"url(#clip1302)\" d=\"\nM1283.55 971.934 L879.499 971.934 L879.499 901.467 L1283.55 901.467 L1283.55 971.934 L1283.55 971.934  Z\n  \" fill=\"#009af9\" fill-rule=\"evenodd\" fill-opacity=\"1\"/>\n<polyline clip-path=\"url(#clip1302)\" style=\"stroke:#000000; stroke-width:4; stroke-opacity:1; fill:none\" points=\"\n  1283.55,971.934 879.499,971.934 879.499,901.467 1283.55,901.467 1283.55,971.934 \n  \"/>\n<path clip-path=\"url(#clip1302)\" d=\"\nM1219.85 883.85 L879.499 883.85 L879.499 813.383 L1219.85 813.383 L1219.85 883.85 L1219.85 883.85  Z\n  \" fill=\"#009af9\" fill-rule=\"evenodd\" fill-opacity=\"1\"/>\n<polyline clip-path=\"url(#clip1302)\" style=\"stroke:#000000; stroke-width:4; stroke-opacity:1; fill:none\" points=\"\n  1219.85,883.85 879.499,883.85 879.499,813.383 1219.85,813.383 1219.85,883.85 \n  \"/>\n<path clip-path=\"url(#clip1302)\" d=\"\nM1199.83 795.767 L879.499 795.767 L879.499 725.299 L1199.83 725.299 L1199.83 795.767 L1199.83 795.767  Z\n  \" fill=\"#009af9\" fill-rule=\"evenodd\" fill-opacity=\"1\"/>\n<polyline clip-path=\"url(#clip1302)\" style=\"stroke:#000000; stroke-width:4; stroke-opacity:1; fill:none\" points=\"\n  1199.83,795.767 879.499,795.767 879.499,725.299 1199.83,725.299 1199.83,795.767 \n  \"/>\n<path clip-path=\"url(#clip1302)\" d=\"\nM1180.41 707.683 L879.499 707.683 L879.499 637.216 L1180.41 637.216 L1180.41 707.683 L1180.41 707.683  Z\n  \" fill=\"#009af9\" fill-rule=\"evenodd\" fill-opacity=\"1\"/>\n<polyline clip-path=\"url(#clip1302)\" style=\"stroke:#000000; stroke-width:4; stroke-opacity:1; fill:none\" points=\"\n  1180.41,707.683 879.499,707.683 879.499,637.216 1180.41,637.216 1180.41,707.683 \n  \"/>\n<path clip-path=\"url(#clip1302)\" d=\"\nM1143.41 619.599 L879.499 619.599 L879.499 549.132 L1143.41 549.132 L1143.41 619.599 L1143.41 619.599  Z\n  \" fill=\"#009af9\" fill-rule=\"evenodd\" fill-opacity=\"1\"/>\n<polyline clip-path=\"url(#clip1302)\" style=\"stroke:#000000; stroke-width:4; stroke-opacity:1; fill:none\" points=\"\n  1143.41,619.599 879.499,619.599 879.499,549.132 1143.41,549.132 1143.41,619.599 \n  \"/>\n<path clip-path=\"url(#clip1302)\" d=\"\nM1142.19 531.515 L879.499 531.515 L879.499 461.048 L1142.19 461.048 L1142.19 531.515 L1142.19 531.515  Z\n  \" fill=\"#009af9\" fill-rule=\"evenodd\" fill-opacity=\"1\"/>\n<polyline clip-path=\"url(#clip1302)\" style=\"stroke:#000000; stroke-width:4; stroke-opacity:1; fill:none\" points=\"\n  1142.19,531.515 879.499,531.515 879.499,461.048 1142.19,461.048 1142.19,531.515 \n  \"/>\n<path clip-path=\"url(#clip1302)\" d=\"\nM1125.81 443.431 L879.499 443.431 L879.499 372.964 L1125.81 372.964 L1125.81 443.431 L1125.81 443.431  Z\n  \" fill=\"#009af9\" fill-rule=\"evenodd\" fill-opacity=\"1\"/>\n<polyline clip-path=\"url(#clip1302)\" style=\"stroke:#000000; stroke-width:4; stroke-opacity:1; fill:none\" points=\"\n  1125.81,443.431 879.499,443.431 879.499,372.964 1125.81,372.964 1125.81,443.431 \n  \"/>\n<path clip-path=\"url(#clip1302)\" d=\"\nM1032.99 355.347 L879.499 355.347 L879.499 284.88 L1032.99 284.88 L1032.99 355.347 L1032.99 355.347  Z\n  \" fill=\"#009af9\" fill-rule=\"evenodd\" fill-opacity=\"1\"/>\n<polyline clip-path=\"url(#clip1302)\" style=\"stroke:#000000; stroke-width:4; stroke-opacity:1; fill:none\" points=\"\n  1032.99,355.347 879.499,355.347 879.499,284.88 1032.99,284.88 1032.99,355.347 \n  \"/>\n<path clip-path=\"url(#clip1302)\" d=\"\nM1032.99 267.264 L879.499 267.264 L879.499 196.797 L1032.99 196.797 L1032.99 267.264 L1032.99 267.264  Z\n  \" fill=\"#009af9\" fill-rule=\"evenodd\" fill-opacity=\"1\"/>\n<polyline clip-path=\"url(#clip1302)\" style=\"stroke:#000000; stroke-width:4; stroke-opacity:1; fill:none\" points=\"\n  1032.99,267.264 879.499,267.264 879.499,196.797 1032.99,196.797 1032.99,267.264 \n  \"/>\n<path clip-path=\"url(#clip1300)\" d=\"\nM3033.93 398.155 L3444.76 398.155 L3444.76 277.195 L3033.93 277.195  Z\n  \" fill=\"#ffffff\" fill-rule=\"evenodd\" fill-opacity=\"1\"/>\n<polyline clip-path=\"url(#clip1300)\" style=\"stroke:#000000; stroke-width:4; stroke-opacity:1; fill:none\" points=\"\n  3033.93,398.155 3444.76,398.155 3444.76,277.195 3033.93,277.195 3033.93,398.155 \n  \"/>\n<path clip-path=\"url(#clip1300)\" d=\"\nM3069.93 361.867 L3285.93 361.867 L3285.93 313.483 L3069.93 313.483 L3069.93 361.867  Z\n  \" fill=\"#009af9\" fill-rule=\"evenodd\" fill-opacity=\"1\"/>\n<polyline clip-path=\"url(#clip1300)\" style=\"stroke:#000000; stroke-width:4; stroke-opacity:1; fill:none\" points=\"\n  3069.93,361.867 3285.93,361.867 3285.93,313.483 3069.93,313.483 3069.93,361.867 \n  \"/>\n<g clip-path=\"url(#clip1300)\">\n<text style=\"fill:#000000; fill-opacity:1; font-family:Arial,Helvetica Neue,Helvetica,sans-serif; font-size:48px; text-anchor:start;\" transform=\"rotate(0, 3321.93, 355.175)\" x=\"3321.93\" y=\"355.175\">y1</text>\n</g>\n</svg>\n"
     },
     "execution_count": 12,
     "metadata": {},
     "output_type": "execute_result"
    }
   ],
   "source": [
    "bar(analogy_cnt[:category], analogy_cnt[:nrow], orientation=:horizontal)\n",
    "plot!(size=(900, 400))\n",
    "ylabel!(\"category\")\n",
    "title!(\"# Analogies by Category\")"
   ]
  }
 ],
 "metadata": {
  "celltoolbar": "Slideshow",
  "kernelspec": {
   "display_name": "Julia 1.7.1",
   "language": "julia",
   "name": "julia-1.7"
  },
  "language_info": {
   "file_extension": ".jl",
   "mimetype": "application/julia",
   "name": "julia",
   "version": "1.7.1"
  },
  "toc": {
   "base_numbering": 1,
   "nav_menu": {},
   "number_sections": true,
   "sideBar": true,
   "skip_h1_title": true,
   "title_cell": "Table of Contents",
   "title_sidebar": "Contents",
   "toc_cell": false,
   "toc_position": {
    "height": "47px",
    "left": "38px",
    "right": "1340px",
    "top": "66.5px",
    "width": "362px"
   },
   "toc_section_display": true,
   "toc_window_display": true
  }
 },
 "nbformat": 4,
 "nbformat_minor": 4
}
