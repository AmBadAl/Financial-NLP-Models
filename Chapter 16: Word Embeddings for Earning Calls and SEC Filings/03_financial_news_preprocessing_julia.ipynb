{
 "cells": [
  {
   "cell_type": "markdown",
   "metadata": {},
   "source": [
    "# Financial News - Preprocessing for word2vec"
   ]
  },
  {
   "cell_type": "markdown",
   "metadata": {},
   "source": [
    "See notebook [lda_financial_news](../15_topic_modeling/07_financial_news/lda_financial_news.ipynb) for download instructions."
   ]
  },
  {
   "cell_type": "markdown",
   "metadata": {},
   "source": [
    "## Data"
   ]
  },
  {
   "cell_type": "markdown",
   "metadata": {},
   "source": [
    "<div style='direction:rtl; font-family: \"B Nazanin\"; font-size: 20px;'> \n",
    "دستورالعمل دانلود داده‌ها در سلول زیر قرار داده شده است. \n",
    "توجه شود که به دلیل حجم بالای داده و زمان طولانی پردازش آن، صرفا از بخشی از داده برای انجام عملیات گفته شده استفاده کردیم\n",
    "اما در صورت نیاز می‌توان از سیستمی با توان پردازشی بالا و استفاده از GPU به جای CPU در زمان مناسبی از کل داده‌ها استفاده کنیم."
   ]
  },
  {
   "cell_type": "markdown",
   "metadata": {},
   "source": [
    "The data is avaialble from [Kaggle](https://www.kaggle.com/jeet2016/us-financial-news-articles). \n",
    "\n",
    "Download and unzip into data directory in repository root folder, then rename the enclosing folder to `us-financial-news` and the subfolders so you get the following directory structure:\n",
    "```\n",
    "data\n",
    "  |-us-financial-news\n",
    "     |-2018_01\n",
    "     |-2018_02\n",
    "     |-2018_03\n",
    "     |-2018_04\n",
    "     |-2018_05\n",
    "```"
   ]
  },
  {
   "cell_type": "markdown",
   "metadata": {
    "slideshow": {
     "slide_type": "slide"
    }
   },
   "source": [
    "## Imports"
   ]
  },
  {
   "cell_type": "code",
   "execution_count": 1,
   "metadata": {},
   "outputs": [],
   "source": [
    "using Pkg"
   ]
  },
  {
   "cell_type": "code",
   "execution_count": 2,
   "metadata": {},
   "outputs": [],
   "source": [
    "using PyCall\n",
    "using Conda"
   ]
  },
  {
   "cell_type": "code",
   "execution_count": 3,
   "metadata": {},
   "outputs": [],
   "source": [
    "#Pkg.add(\"Glob\")\n",
    "#Pkg.add(\"TextAnalysis\")\n",
    "#Pkg.add(\"DataFrames\")\n",
    "#Pkg.add(\"Plots\")\n",
    "#Pkg.add(\"CSV\")\n",
    "#Pkg.add(\"Seaborn\")\n",
    "#Pkg.add(\"ScikitLearn\")\n",
    "#Pkg.add(\"Embeddings\")\n",
    "#Pkg.add(\"JSON\")\n",
    "#Pkg.add(\"StatsBase\")\n",
    "#Pkg.add(\"StringEncodings\")"
   ]
  },
  {
   "cell_type": "code",
   "execution_count": 4,
   "metadata": {},
   "outputs": [],
   "source": [
    "using Glob\n",
    "using Pipe\n",
    "using DataFrames\n",
    "using TextAnalysis\n",
    "using Plots\n",
    "using CSV\n",
    "using JSON\n",
    "using StatsBase\n",
    "using StringEncodings"
   ]
  },
  {
   "cell_type": "markdown",
   "metadata": {
    "slideshow": {
     "slide_type": "slide"
    }
   },
   "source": [
    "### Settings"
   ]
  },
  {
   "cell_type": "code",
   "execution_count": 5,
   "metadata": {},
   "outputs": [],
   "source": [
    "#Conda.pip_interop(true)"
   ]
  },
  {
   "cell_type": "code",
   "execution_count": 6,
   "metadata": {},
   "outputs": [],
   "source": [
    "#Conda.pip(\"install\", \"https://github.com/explosion/spacy-models/releases/download/en_core_web_sm-3.3.0/en_core_web_sm-3.3.0-py3-none-any.whl\")\n",
    "#Conda.pip(\"install\", \"https://github.com/explosion/spacy-models/releases/download/en_core_web_sm-3.3.0/en_core_web_sm-3.3.0.tar.gz\")"
   ]
  },
  {
   "cell_type": "code",
   "execution_count": 7,
   "metadata": {},
   "outputs": [],
   "source": [
    "#Conda.add(\"spacy\")\n",
    "@pyimport spacy"
   ]
  },
  {
   "cell_type": "code",
   "execution_count": 8,
   "metadata": {
    "ExecuteTime": {
     "end_time": "2020-06-21T02:46:36.748705Z",
     "start_time": "2020-06-21T02:46:36.732050Z"
    },
    "slideshow": {
     "slide_type": "fragment"
    }
   },
   "outputs": [
    {
     "data": {
      "text/plain": [
       "format_time (generic function with 1 method)"
      ]
     },
     "execution_count": 8,
     "metadata": {},
     "output_type": "execute_result"
    }
   ],
   "source": [
    "function format_time(t)\n",
    "    m = t ÷ 60\n",
    "    s = t % 60\n",
    "    h = m ÷ 60\n",
    "    m = m % 60\n",
    "    h = length(\"$h\") == 2 ? h : \"0$h\"\n",
    "    m = length(\"$m\") == 2 ? m : \"0$m\"\n",
    "    s = length(\"$s\") == 2 ? s : \"0$s\"\n",
    "    return \"$h:$m:$s\"\n",
    "end"
   ]
  },
  {
   "cell_type": "code",
   "execution_count": 9,
   "metadata": {
    "ExecuteTime": {
     "end_time": "2020-06-21T02:46:36.937497Z",
     "start_time": "2020-06-21T02:46:36.750140Z"
    }
   },
   "outputs": [
    {
     "data": {
      "text/plain": [
       "Set{String15} with 319 elements:\n",
       "  \"cry\"\n",
       "  \"whoever\"\n",
       "  \"anything\"\n",
       "  \"everywhere\"\n",
       "  \"give\"\n",
       "  \"during\"\n",
       "  \"whose\"\n",
       "  \"sometimes\"\n",
       "  \"thick\"\n",
       "  \"those\"\n",
       "  \"rather\"\n",
       "  \"and\"\n",
       "  \"wherever\"\n",
       "  \"these\"\n",
       "  \"latterly\"\n",
       "  \"least\"\n",
       "  \"us\"\n",
       "  \"either\"\n",
       "  \"several\"\n",
       "  \"they\"\n",
       "  \"often\"\n",
       "  \"whenever\"\n",
       "  \"above\"\n",
       "  \"eight\"\n",
       "  \"such\"\n",
       "  ⋮ "
      ]
     },
     "execution_count": 9,
     "metadata": {},
     "output_type": "execute_result"
    }
   ],
   "source": [
    "file = CSV.File(download(\"http://ir.dcs.gla.ac.uk/resources/linguistic_utils/stop_words\"))\n",
    "df = DataFrames.DataFrame(file)\n",
    "rename!(df, [\"stopwords\"])\n",
    "stop_words = Set(push!(df.stopwords, \"a\"))"
   ]
  },
  {
   "cell_type": "markdown",
   "metadata": {},
   "source": [
    "### Paths"
   ]
  },
  {
   "cell_type": "code",
   "execution_count": 10,
   "metadata": {
    "ExecuteTime": {
     "end_time": "2020-06-21T02:46:36.961172Z",
     "start_time": "2020-06-21T02:46:36.946701Z"
    }
   },
   "outputs": [
    {
     "data": {
      "text/plain": [
       "\"..\\\\data\\\\us-financial-news\""
      ]
     },
     "execution_count": 10,
     "metadata": {},
     "output_type": "execute_result"
    }
   ],
   "source": [
    "fin_news_path = joinpath(\"..\", \"data\", \"us-financial-news\")"
   ]
  },
  {
   "cell_type": "code",
   "execution_count": 11,
   "metadata": {
    "ExecuteTime": {
     "end_time": "2020-06-21T02:46:36.942125Z",
     "start_time": "2020-06-21T02:46:36.938723Z"
    }
   },
   "outputs": [],
   "source": [
    "results_path = joinpath(\"results\", \"financial_news\")\n",
    "if !(isdir(results_path))\n",
    "    mkpath(results_path)\n",
    "end"
   ]
  },
  {
   "cell_type": "code",
   "execution_count": 12,
   "metadata": {},
   "outputs": [
    {
     "data": {
      "text/plain": [
       "\"results\\\\financial_news\\\\articles_clean.txt\""
      ]
     },
     "execution_count": 12,
     "metadata": {},
     "output_type": "execute_result"
    }
   ],
   "source": [
    "article_path = joinpath(results_path, \"articles.txt\")\n",
    "clean_article_path = joinpath(results_path, \"articles_clean.txt\")"
   ]
  },
  {
   "cell_type": "markdown",
   "metadata": {},
   "source": [
    "## Load Data"
   ]
  },
  {
   "cell_type": "code",
   "execution_count": 13,
   "metadata": {
    "ExecuteTime": {
     "end_time": "2020-06-21T02:46:36.973821Z",
     "start_time": "2020-06-21T02:46:36.969980Z"
    }
   },
   "outputs": [
    {
     "data": {
      "text/plain": [
       "11-element Vector{String}:\n",
       " \"Press Releases - CNBC\"\n",
       " \"Reuters: Company News\"\n",
       " \"Reuters: World News\"\n",
       " \"Reuters: Business News\"\n",
       " \"Reuters: Financial Services and Real Estate\"\n",
       " \"Top News and Analysis (pro)\"\n",
       " \"Reuters: Top News\"\n",
       " \"The Wall Street Journal &amp; B\" ⋯ 42 bytes ⋯ \"omic News, World News and Video\"\n",
       " \"Business &amp; Financial News, U.S &amp; International Breaking News | Reuters\"\n",
       " \"Reuters: Money News\"\n",
       " \"Reuters: Technology News\""
      ]
     },
     "execution_count": 13,
     "metadata": {},
     "output_type": "execute_result"
    }
   ],
   "source": [
    "section_titles = [\"Press Releases - CNBC\",\n",
    "                  \"Reuters: Company News\",\n",
    "                  \"Reuters: World News\",\n",
    "                  \"Reuters: Business News\",\n",
    "                  \"Reuters: Financial Services and Real Estate\",\n",
    "                  \"Top News and Analysis (pro)\",\n",
    "                  \"Reuters: Top News\",\n",
    "                  \"The Wall Street Journal &amp; Breaking News, Business, Financial and Economic News, World News and Video\",\n",
    "                  \"Business &amp; Financial News, U.S &amp; International Breaking News | Reuters\",\n",
    "                  \"Reuters: Money News\", \"Reuters: Technology News\"]"
   ]
  },
  {
   "cell_type": "code",
   "execution_count": 14,
   "metadata": {},
   "outputs": [
    {
     "data": {
      "text/plain": [
       "306242-element Vector{String}:\n",
       " \"..\\\\data\\\\us-financial-news\\\\2018_01\\\\blogs_0000001.json\"\n",
       " \"..\\\\data\\\\us-financial-news\\\\2018_01\\\\blogs_0000002.json\"\n",
       " \"..\\\\data\\\\us-financial-news\\\\2018_01\\\\blogs_0000010.json\"\n",
       " \"..\\\\data\\\\us-financial-news\\\\2018_01\\\\blogs_0000048.json\"\n",
       " \"..\\\\data\\\\us-financial-news\\\\2018_01\\\\blogs_0000083.json\"\n",
       " \"..\\\\data\\\\us-financial-news\\\\2018_01\\\\blogs_0000101.json\"\n",
       " \"..\\\\data\\\\us-financial-news\\\\2018_01\\\\blogs_0000102.json\"\n",
       " \"..\\\\data\\\\us-financial-news\\\\2018_01\\\\blogs_0000103.json\"\n",
       " \"..\\\\data\\\\us-financial-news\\\\2018_01\\\\blogs_0000104.json\"\n",
       " \"..\\\\data\\\\us-financial-news\\\\2018_01\\\\blogs_0000105.json\"\n",
       " \"..\\\\data\\\\us-financial-news\\\\2018_01\\\\blogs_0000415.json\"\n",
       " \"..\\\\data\\\\us-financial-news\\\\2018_01\\\\blogs_0000416.json\"\n",
       " \"..\\\\data\\\\us-financial-news\\\\2018_01\\\\blogs_0000417.json\"\n",
       " ⋮\n",
       " \"..\\\\data\\\\us-financial-news\\\\2018_05\\\\news_0063127.json\"\n",
       " \"..\\\\data\\\\us-financial-news\\\\2018_05\\\\news_0063128.json\"\n",
       " \"..\\\\data\\\\us-financial-news\\\\2018_05\\\\news_0063129.json\"\n",
       " \"..\\\\data\\\\us-financial-news\\\\2018_05\\\\news_0063130.json\"\n",
       " \"..\\\\data\\\\us-financial-news\\\\2018_05\\\\news_0063132.json\"\n",
       " \"..\\\\data\\\\us-financial-news\\\\2018_05\\\\news_0063133.json\"\n",
       " \"..\\\\data\\\\us-financial-news\\\\2018_05\\\\news_0063134.json\"\n",
       " \"..\\\\data\\\\us-financial-news\\\\2018_05\\\\news_0063135.json\"\n",
       " \"..\\\\data\\\\us-financial-news\\\\2018_05\\\\news_0063136.json\"\n",
       " \"..\\\\data\\\\us-financial-news\\\\2018_05\\\\news_0063138.json\"\n",
       " \"..\\\\data\\\\us-financial-news\\\\2018_05\\\\news_0063139.json\"\n",
       " \"..\\\\data\\\\us-financial-news\\\\2018_05\\\\news_0063140.json\""
      ]
     },
     "execution_count": 14,
     "metadata": {},
     "output_type": "execute_result"
    }
   ],
   "source": [
    "files = Glob.glob(\"../data/us-financial-news/**/*.json\")"
   ]
  },
  {
   "cell_type": "code",
   "execution_count": 15,
   "metadata": {
    "ExecuteTime": {
     "end_time": "2020-06-21T02:49:00.283007Z",
     "start_time": "2020-06-21T02:46:36.980900Z"
    }
   },
   "outputs": [],
   "source": [
    "articles = Any[]\n",
    "counter = Dict()\n",
    "for f ∈ files[1:10000]\n",
    "    article = JSON.parsefile(f)\n",
    "    if article[\"thread\"][\"section_title\"] ∈ section_titles\n",
    "        text = [String(s) for s ∈ split(lowercase(article[\"text\"]))]\n",
    "        addcounts!(counter, text)\n",
    "        push!(articles, join([t for t ∈ text if !(t ∈ stop_words)], \" \"))\n",
    "    end\n",
    "end"
   ]
  },
  {
   "cell_type": "code",
   "execution_count": 16,
   "metadata": {
    "ExecuteTime": {
     "end_time": "2020-06-21T02:49:01.517103Z",
     "start_time": "2020-06-21T02:49:00.290315Z"
    }
   },
   "outputs": [
    {
     "data": {
      "text/plain": [
       "10597227"
      ]
     },
     "execution_count": 16,
     "metadata": {},
     "output_type": "execute_result"
    }
   ],
   "source": [
    "open(article_path, \"w\") do file\n",
    "    write(file, join(articles, \"\\n\"))\n",
    "end"
   ]
  },
  {
   "cell_type": "markdown",
   "metadata": {
    "slideshow": {
     "slide_type": "slide"
    }
   },
   "source": [
    "## Clean Financial News Articles"
   ]
  },
  {
   "cell_type": "code",
   "execution_count": 17,
   "metadata": {
    "ExecuteTime": {
     "end_time": "2020-06-21T02:49:04.372584Z",
     "start_time": "2020-06-21T02:49:01.523389Z"
    }
   },
   "outputs": [
    {
     "data": {
      "text/plain": [
       "5185"
      ]
     },
     "execution_count": 17,
     "metadata": {},
     "output_type": "execute_result"
    }
   ],
   "source": [
    "open(article_path, \"r\") do file\n",
    "    s = StringDecoder(file,\"LATIN1\", \"UTF-8\")\n",
    "    articles = readlines(file)\n",
    "end\n",
    "length(articles)"
   ]
  },
  {
   "cell_type": "markdown",
   "metadata": {},
   "source": [
    "### Sentence Boundary Detection"
   ]
  },
  {
   "cell_type": "code",
   "execution_count": 18,
   "metadata": {
    "ExecuteTime": {
     "end_time": "2020-06-21T02:49:04.379501Z",
     "start_time": "2020-06-21T02:49:04.374311Z"
    }
   },
   "outputs": [
    {
     "data": {
      "text/plain": [
       "clean_doc (generic function with 1 method)"
      ]
     },
     "execution_count": 18,
     "metadata": {},
     "output_type": "execute_result"
    }
   ],
   "source": [
    "function clean_doc(d)\n",
    "    doc = Any[]\n",
    "    for sent ∈ d.sents\n",
    "        s = [lowercase(t.text) for t ∈ sent if !(t.is_digit || !(t.is_alpha) || t.is_punct || t.is_space)]\n",
    "        if length(s) > 5 || length(sent) < 100\n",
    "            push!(doc, join(s, \" \"))\n",
    "        end\n",
    "    end\n",
    "    return doc\n",
    "end"
   ]
  },
  {
   "cell_type": "code",
   "execution_count": 19,
   "metadata": {
    "ExecuteTime": {
     "end_time": "2020-06-21T02:49:04.718175Z",
     "start_time": "2020-06-21T02:49:04.383194Z"
    }
   },
   "outputs": [
    {
     "data": {
      "text/plain": [
       "PyObject <spacy.lang.en.English object at 0x0000000070134C10>"
      ]
     },
     "execution_count": 19,
     "metadata": {},
     "output_type": "execute_result"
    }
   ],
   "source": [
    "nlp = spacy.load(\"en_core_web_sm\")"
   ]
  },
  {
   "cell_type": "code",
   "execution_count": 20,
   "metadata": {
    "ExecuteTime": {
     "end_time": "2020-06-21T02:58:54.132054Z",
     "start_time": "2020-06-21T02:49:04.719495Z"
    }
   },
   "outputs": [],
   "source": [
    "clean_articles = Any[]\n",
    "for article ∈ articles\n",
    "    clean_articles = vcat(clean_articles, clean_doc(nlp(article)))\n",
    "end"
   ]
  },
  {
   "cell_type": "code",
   "execution_count": 21,
   "metadata": {
    "ExecuteTime": {
     "end_time": "2020-06-21T02:58:55.038684Z",
     "start_time": "2020-06-21T02:58:54.134275Z"
    }
   },
   "outputs": [
    {
     "data": {
      "text/plain": [
       "9501445"
      ]
     },
     "execution_count": 21,
     "metadata": {},
     "output_type": "execute_result"
    }
   ],
   "source": [
    "open(clean_article_path, \"w\") do file\n",
    "    write(file, join(clean_articles, \"\\n\"))\n",
    "end"
   ]
  },
  {
   "cell_type": "markdown",
   "metadata": {},
   "source": [
    "### Corpus Stats"
   ]
  },
  {
   "cell_type": "code",
   "execution_count": 22,
   "metadata": {
    "ExecuteTime": {
     "end_time": "2020-06-21T02:58:55.043613Z",
     "start_time": "2020-06-21T02:58:55.039660Z"
    }
   },
   "outputs": [
    {
     "data": {
      "text/plain": [
       "87024"
      ]
     },
     "execution_count": 22,
     "metadata": {},
     "output_type": "execute_result"
    }
   ],
   "source": [
    "length(clean_articles)"
   ]
  },
  {
   "cell_type": "code",
   "execution_count": 23,
   "metadata": {
    "ExecuteTime": {
     "end_time": "2020-06-21T02:59:05.320049Z",
     "start_time": "2020-06-21T02:58:55.044890Z"
    }
   },
   "outputs": [],
   "source": [
    "vocab = Dict()\n",
    "sent_length = Any[]\n",
    "for sentence ∈ clean_articles\n",
    "    tokens = split(lowercase(sentence))\n",
    "    push!(sent_length, length(tokens))\n",
    "    addcounts!(vocab, tokens)\n",
    "end"
   ]
  },
  {
   "cell_type": "code",
   "execution_count": 24,
   "metadata": {
    "ExecuteTime": {
     "end_time": "2020-06-21T02:59:05.323307Z",
     "start_time": "2020-06-21T02:59:05.320947Z"
    }
   },
   "outputs": [
    {
     "data": {
      "text/plain": [
       "87024"
      ]
     },
     "execution_count": 24,
     "metadata": {},
     "output_type": "execute_result"
    }
   ],
   "source": [
    "length(sent_length)"
   ]
  },
  {
   "cell_type": "code",
   "execution_count": 25,
   "metadata": {
    "ExecuteTime": {
     "end_time": "2020-06-21T02:59:05.819285Z",
     "start_time": "2020-06-21T02:59:05.324574Z"
    }
   },
   "outputs": [
    {
     "data": {
      "text/html": [
       "<table class=\"data-frame\"><thead><tr><th></th><th>sent_length</th></tr><tr><th></th><th>Any</th></tr></thead><tbody><p>10 rows × 1 columns</p><tr><th>1</th><td>12</td></tr><tr><th>2</th><td>11</td></tr><tr><th>3</th><td>18</td></tr><tr><th>4</th><td>17</td></tr><tr><th>5</th><td>10</td></tr><tr><th>6</th><td>9</td></tr><tr><th>7</th><td>8</td></tr><tr><th>8</th><td>10</td></tr><tr><th>9</th><td>9</td></tr><tr><th>10</th><td>6</td></tr></tbody></table>"
      ],
      "text/latex": [
       "\\begin{tabular}{r|c}\n",
       "\t& sent\\_length\\\\\n",
       "\t\\hline\n",
       "\t& Any\\\\\n",
       "\t\\hline\n",
       "\t1 & 12 \\\\\n",
       "\t2 & 11 \\\\\n",
       "\t3 & 18 \\\\\n",
       "\t4 & 17 \\\\\n",
       "\t5 & 10 \\\\\n",
       "\t6 & 9 \\\\\n",
       "\t7 & 8 \\\\\n",
       "\t8 & 10 \\\\\n",
       "\t9 & 9 \\\\\n",
       "\t10 & 6 \\\\\n",
       "\\end{tabular}\n"
      ],
      "text/plain": [
       "10×1 DataFrame\n",
       "│ Row │ sent_length │\n",
       "│     │ \u001b[90mAny\u001b[39m         │\n",
       "├─────┼─────────────┤\n",
       "│ 1   │ 12          │\n",
       "│ 2   │ 11          │\n",
       "│ 3   │ 18          │\n",
       "│ 4   │ 17          │\n",
       "│ 5   │ 10          │\n",
       "│ 6   │ 9           │\n",
       "│ 7   │ 8           │\n",
       "│ 8   │ 10          │\n",
       "│ 9   │ 9           │\n",
       "│ 10  │ 6           │"
      ]
     },
     "execution_count": 25,
     "metadata": {},
     "output_type": "execute_result"
    }
   ],
   "source": [
    "first(DataFrame(sent_length=sent_length), 10)"
   ]
  },
  {
   "cell_type": "code",
   "execution_count": 26,
   "metadata": {},
   "outputs": [],
   "source": [
    "tokens = Any[]\n",
    "counts = Any[]\n",
    "for (token, count) ∈ vocab\n",
    "    if !(lowercase(token) ∈ stop_words)\n",
    "        push!(tokens, token)\n",
    "        push!(counts, count)\n",
    "    end\n",
    "end"
   ]
  },
  {
   "cell_type": "code",
   "execution_count": 27,
   "metadata": {},
   "outputs": [
    {
     "data": {
      "text/html": [
       "<table class=\"data-frame\"><thead><tr><th></th><th>token</th><th>count</th></tr><tr><th></th><th>Any</th><th>Any</th></tr></thead><tbody><p>43,046 rows × 2 columns</p><tr><th>1</th><td>said</td><td>13165</td></tr><tr><th>2</th><td>company</td><td>8745</td></tr><tr><th>3</th><td>year</td><td>6498</td></tr><tr><th>4</th><td>percent</td><td>6450</td></tr><tr><th>5</th><td>reuters</td><td>5852</td></tr><tr><th>6</th><td>new</td><td>5761</td></tr><tr><th>7</th><td>president</td><td>3799</td></tr><tr><th>8</th><td>market</td><td>3585</td></tr><tr><th>9</th><td>million</td><td>3553</td></tr><tr><th>10</th><td>business</td><td>3468</td></tr><tr><th>11</th><td>financial</td><td>3428</td></tr><tr><th>12</th><td>trump</td><td>3195</td></tr><tr><th>13</th><td>january</td><td>3038</td></tr><tr><th>14</th><td>statements</td><td>2917</td></tr><tr><th>15</th><td>forward</td><td>2853</td></tr><tr><th>16</th><td>time</td><td>2804</td></tr><tr><th>17</th><td>billion</td><td>2712</td></tr><tr><th>18</th><td>including</td><td>2637</td></tr><tr><th>19</th><td>source</td><td>2566</td></tr><tr><th>20</th><td>looking</td><td>2535</td></tr><tr><th>21</th><td>years</td><td>2508</td></tr><tr><th>22</th><td>jan</td><td>2421</td></tr><tr><th>23</th><td>people</td><td>2398</td></tr><tr><th>24</th><td>services</td><td>2293</td></tr><tr><th>25</th><td>information</td><td>2283</td></tr><tr><th>26</th><td>government</td><td>2229</td></tr><tr><th>27</th><td>ago</td><td>2224</td></tr><tr><th>28</th><td>group</td><td>2223</td></tr><tr><th>29</th><td>tax</td><td>2219</td></tr><tr><th>30</th><td>growth</td><td>2202</td></tr><tr><th>&vellip;</th><td>&vellip;</td><td>&vellip;</td></tr></tbody></table>"
      ],
      "text/latex": [
       "\\begin{tabular}{r|cc}\n",
       "\t& token & count\\\\\n",
       "\t\\hline\n",
       "\t& Any & Any\\\\\n",
       "\t\\hline\n",
       "\t1 & said & 13165 \\\\\n",
       "\t2 & company & 8745 \\\\\n",
       "\t3 & year & 6498 \\\\\n",
       "\t4 & percent & 6450 \\\\\n",
       "\t5 & reuters & 5852 \\\\\n",
       "\t6 & new & 5761 \\\\\n",
       "\t7 & president & 3799 \\\\\n",
       "\t8 & market & 3585 \\\\\n",
       "\t9 & million & 3553 \\\\\n",
       "\t10 & business & 3468 \\\\\n",
       "\t11 & financial & 3428 \\\\\n",
       "\t12 & trump & 3195 \\\\\n",
       "\t13 & january & 3038 \\\\\n",
       "\t14 & statements & 2917 \\\\\n",
       "\t15 & forward & 2853 \\\\\n",
       "\t16 & time & 2804 \\\\\n",
       "\t17 & billion & 2712 \\\\\n",
       "\t18 & including & 2637 \\\\\n",
       "\t19 & source & 2566 \\\\\n",
       "\t20 & looking & 2535 \\\\\n",
       "\t21 & years & 2508 \\\\\n",
       "\t22 & jan & 2421 \\\\\n",
       "\t23 & people & 2398 \\\\\n",
       "\t24 & services & 2293 \\\\\n",
       "\t25 & information & 2283 \\\\\n",
       "\t26 & government & 2229 \\\\\n",
       "\t27 & ago & 2224 \\\\\n",
       "\t28 & group & 2223 \\\\\n",
       "\t29 & tax & 2219 \\\\\n",
       "\t30 & growth & 2202 \\\\\n",
       "\t$\\dots$ & $\\dots$ & $\\dots$ \\\\\n",
       "\\end{tabular}\n"
      ],
      "text/plain": [
       "43046×2 DataFrame\n",
       "│ Row   │ token           │ count │\n",
       "│       │ \u001b[90mAny\u001b[39m             │ \u001b[90mAny\u001b[39m   │\n",
       "├───────┼─────────────────┼───────┤\n",
       "│ 1     │ said            │ 13165 │\n",
       "│ 2     │ company         │ 8745  │\n",
       "│ 3     │ year            │ 6498  │\n",
       "│ 4     │ percent         │ 6450  │\n",
       "│ 5     │ reuters         │ 5852  │\n",
       "│ 6     │ new             │ 5761  │\n",
       "│ 7     │ president       │ 3799  │\n",
       "│ 8     │ market          │ 3585  │\n",
       "│ 9     │ million         │ 3553  │\n",
       "│ 10    │ business        │ 3468  │\n",
       "⋮\n",
       "│ 43036 │ differentiators │ 1     │\n",
       "│ 43037 │ elapsed         │ 1     │\n",
       "│ 43038 │ plural          │ 1     │\n",
       "│ 43039 │ thaxton         │ 1     │\n",
       "│ 43040 │ lounges         │ 1     │\n",
       "│ 43041 │ kayaking        │ 1     │\n",
       "│ 43042 │ towel           │ 1     │\n",
       "│ 43043 │ leathern        │ 1     │\n",
       "│ 43044 │ devotes         │ 1     │\n",
       "│ 43045 │ munitions       │ 1     │\n",
       "│ 43046 │ duberstein      │ 1     │"
      ]
     },
     "execution_count": 27,
     "metadata": {},
     "output_type": "execute_result"
    }
   ],
   "source": [
    "most_common = sort!(DataFrame(token=tokens, count=counts), :count, rev=true)"
   ]
  },
  {
   "cell_type": "code",
   "execution_count": 28,
   "metadata": {
    "ExecuteTime": {
     "end_time": "2020-06-21T02:59:06.404028Z",
     "start_time": "2020-06-21T02:59:06.118008Z"
    }
   },
   "outputs": [
    {
     "data": {
      "image/svg+xml": "<?xml version=\"1.0\" encoding=\"utf-8\"?>\n<svg xmlns=\"http://www.w3.org/2000/svg\" xmlns:xlink=\"http://www.w3.org/1999/xlink\" width=\"900\" height=\"400\" viewBox=\"0 0 3600 1600\">\n<defs>\n  <clipPath id=\"clip5500\">\n    <rect x=\"0\" y=\"0\" width=\"3600\" height=\"1600\"/>\n  </clipPath>\n</defs>\n<path clip-path=\"url(#clip5500)\" d=\"\nM0 1600 L3600 1600 L3600 0 L0 0  Z\n  \" fill=\"#ffffff\" fill-rule=\"evenodd\" fill-opacity=\"1\"/>\n<defs>\n  <clipPath id=\"clip5501\">\n    <rect x=\"720\" y=\"0\" width=\"2521\" height=\"1600\"/>\n  </clipPath>\n</defs>\n<path clip-path=\"url(#clip5500)\" d=\"\nM386.918 1425.62 L3552.76 1425.62 L3552.76 121.675 L386.918 121.675  Z\n  \" fill=\"#ffffff\" fill-rule=\"evenodd\" fill-opacity=\"1\"/>\n<defs>\n  <clipPath id=\"clip5502\">\n    <rect x=\"386\" y=\"121\" width=\"3167\" height=\"1305\"/>\n  </clipPath>\n</defs>\n<polyline clip-path=\"url(#clip5502)\" style=\"stroke:#000000; stroke-width:2; stroke-opacity:0.1; fill:none\" points=\"\n  476.517,1425.62 476.517,121.675 \n  \"/>\n<polyline clip-path=\"url(#clip5502)\" style=\"stroke:#000000; stroke-width:2; stroke-opacity:0.1; fill:none\" points=\"\n  930.241,1425.62 930.241,121.675 \n  \"/>\n<polyline clip-path=\"url(#clip5502)\" style=\"stroke:#000000; stroke-width:2; stroke-opacity:0.1; fill:none\" points=\"\n  1383.97,1425.62 1383.97,121.675 \n  \"/>\n<polyline clip-path=\"url(#clip5502)\" style=\"stroke:#000000; stroke-width:2; stroke-opacity:0.1; fill:none\" points=\"\n  1837.69,1425.62 1837.69,121.675 \n  \"/>\n<polyline clip-path=\"url(#clip5502)\" style=\"stroke:#000000; stroke-width:2; stroke-opacity:0.1; fill:none\" points=\"\n  2291.41,1425.62 2291.41,121.675 \n  \"/>\n<polyline clip-path=\"url(#clip5502)\" style=\"stroke:#000000; stroke-width:2; stroke-opacity:0.1; fill:none\" points=\"\n  2745.14,1425.62 2745.14,121.675 \n  \"/>\n<polyline clip-path=\"url(#clip5502)\" style=\"stroke:#000000; stroke-width:2; stroke-opacity:0.1; fill:none\" points=\"\n  2745.14,1425.62 2745.14,121.675 \n  \"/>\n<polyline clip-path=\"url(#clip5502)\" style=\"stroke:#000000; stroke-width:2; stroke-opacity:0.1; fill:none\" points=\"\n  386.918,1335.18 3552.76,1335.18 \n  \"/>\n<polyline clip-path=\"url(#clip5502)\" style=\"stroke:#000000; stroke-width:2; stroke-opacity:0.1; fill:none\" points=\"\n  386.918,1241.59 3552.76,1241.59 \n  \"/>\n<polyline clip-path=\"url(#clip5502)\" style=\"stroke:#000000; stroke-width:2; stroke-opacity:0.1; fill:none\" points=\"\n  386.918,1194.8 3552.76,1194.8 \n  \"/>\n<polyline clip-path=\"url(#clip5502)\" style=\"stroke:#000000; stroke-width:2; stroke-opacity:0.1; fill:none\" points=\"\n  386.918,1101.21 3552.76,1101.21 \n  \"/>\n<polyline clip-path=\"url(#clip5502)\" style=\"stroke:#000000; stroke-width:2; stroke-opacity:0.1; fill:none\" points=\"\n  386.918,1007.62 3552.76,1007.62 \n  \"/>\n<polyline clip-path=\"url(#clip5502)\" style=\"stroke:#000000; stroke-width:2; stroke-opacity:0.1; fill:none\" points=\"\n  386.918,914.031 3552.76,914.031 \n  \"/>\n<polyline clip-path=\"url(#clip5502)\" style=\"stroke:#000000; stroke-width:2; stroke-opacity:0.1; fill:none\" points=\"\n  386.918,867.236 3552.76,867.236 \n  \"/>\n<polyline clip-path=\"url(#clip5502)\" style=\"stroke:#000000; stroke-width:2; stroke-opacity:0.1; fill:none\" points=\"\n  386.918,773.647 3552.76,773.647 \n  \"/>\n<polyline clip-path=\"url(#clip5502)\" style=\"stroke:#000000; stroke-width:2; stroke-opacity:0.1; fill:none\" points=\"\n  386.918,680.058 3552.76,680.058 \n  \"/>\n<polyline clip-path=\"url(#clip5502)\" style=\"stroke:#000000; stroke-width:2; stroke-opacity:0.1; fill:none\" points=\"\n  386.918,633.263 3552.76,633.263 \n  \"/>\n<polyline clip-path=\"url(#clip5502)\" style=\"stroke:#000000; stroke-width:2; stroke-opacity:0.1; fill:none\" points=\"\n  386.918,539.674 3552.76,539.674 \n  \"/>\n<polyline clip-path=\"url(#clip5502)\" style=\"stroke:#000000; stroke-width:2; stroke-opacity:0.1; fill:none\" points=\"\n  386.918,446.085 3552.76,446.085 \n  \"/>\n<polyline clip-path=\"url(#clip5502)\" style=\"stroke:#000000; stroke-width:2; stroke-opacity:0.1; fill:none\" points=\"\n  386.918,352.496 3552.76,352.496 \n  \"/>\n<polyline clip-path=\"url(#clip5502)\" style=\"stroke:#000000; stroke-width:2; stroke-opacity:0.1; fill:none\" points=\"\n  386.918,305.701 3552.76,305.701 \n  \"/>\n<polyline clip-path=\"url(#clip5502)\" style=\"stroke:#000000; stroke-width:2; stroke-opacity:0.1; fill:none\" points=\"\n  386.918,212.112 3552.76,212.112 \n  \"/>\n<polyline clip-path=\"url(#clip5500)\" style=\"stroke:#000000; stroke-width:4; stroke-opacity:1; fill:none\" points=\"\n  386.918,1425.62 3552.76,1425.62 \n  \"/>\n<polyline clip-path=\"url(#clip5500)\" style=\"stroke:#000000; stroke-width:4; stroke-opacity:1; fill:none\" points=\"\n  386.918,1425.62 386.918,121.675 \n  \"/>\n<polyline clip-path=\"url(#clip5500)\" style=\"stroke:#000000; stroke-width:4; stroke-opacity:1; fill:none\" points=\"\n  476.517,1425.62 476.517,1409.97 \n  \"/>\n<polyline clip-path=\"url(#clip5500)\" style=\"stroke:#000000; stroke-width:4; stroke-opacity:1; fill:none\" points=\"\n  930.241,1425.62 930.241,1409.97 \n  \"/>\n<polyline clip-path=\"url(#clip5500)\" style=\"stroke:#000000; stroke-width:4; stroke-opacity:1; fill:none\" points=\"\n  1383.97,1425.62 1383.97,1409.97 \n  \"/>\n<polyline clip-path=\"url(#clip5500)\" style=\"stroke:#000000; stroke-width:4; stroke-opacity:1; fill:none\" points=\"\n  1837.69,1425.62 1837.69,1409.97 \n  \"/>\n<polyline clip-path=\"url(#clip5500)\" style=\"stroke:#000000; stroke-width:4; stroke-opacity:1; fill:none\" points=\"\n  2291.41,1425.62 2291.41,1409.97 \n  \"/>\n<polyline clip-path=\"url(#clip5500)\" style=\"stroke:#000000; stroke-width:4; stroke-opacity:1; fill:none\" points=\"\n  2745.14,1425.62 2745.14,1409.97 \n  \"/>\n<polyline clip-path=\"url(#clip5500)\" style=\"stroke:#000000; stroke-width:4; stroke-opacity:1; fill:none\" points=\"\n  2745.14,1425.62 2745.14,1409.97 \n  \"/>\n<polyline clip-path=\"url(#clip5500)\" style=\"stroke:#000000; stroke-width:4; stroke-opacity:1; fill:none\" points=\"\n  386.918,1335.18 424.908,1335.18 \n  \"/>\n<polyline clip-path=\"url(#clip5500)\" style=\"stroke:#000000; stroke-width:4; stroke-opacity:1; fill:none\" points=\"\n  386.918,1241.59 424.908,1241.59 \n  \"/>\n<polyline clip-path=\"url(#clip5500)\" style=\"stroke:#000000; stroke-width:4; stroke-opacity:1; fill:none\" points=\"\n  386.918,1194.8 424.908,1194.8 \n  \"/>\n<polyline clip-path=\"url(#clip5500)\" style=\"stroke:#000000; stroke-width:4; stroke-opacity:1; fill:none\" points=\"\n  386.918,1101.21 424.908,1101.21 \n  \"/>\n<polyline clip-path=\"url(#clip5500)\" style=\"stroke:#000000; stroke-width:4; stroke-opacity:1; fill:none\" points=\"\n  386.918,1007.62 424.908,1007.62 \n  \"/>\n<polyline clip-path=\"url(#clip5500)\" style=\"stroke:#000000; stroke-width:4; stroke-opacity:1; fill:none\" points=\"\n  386.918,914.031 424.908,914.031 \n  \"/>\n<polyline clip-path=\"url(#clip5500)\" style=\"stroke:#000000; stroke-width:4; stroke-opacity:1; fill:none\" points=\"\n  386.918,867.236 424.908,867.236 \n  \"/>\n<polyline clip-path=\"url(#clip5500)\" style=\"stroke:#000000; stroke-width:4; stroke-opacity:1; fill:none\" points=\"\n  386.918,773.647 424.908,773.647 \n  \"/>\n<polyline clip-path=\"url(#clip5500)\" style=\"stroke:#000000; stroke-width:4; stroke-opacity:1; fill:none\" points=\"\n  386.918,680.058 424.908,680.058 \n  \"/>\n<polyline clip-path=\"url(#clip5500)\" style=\"stroke:#000000; stroke-width:4; stroke-opacity:1; fill:none\" points=\"\n  386.918,633.263 424.908,633.263 \n  \"/>\n<polyline clip-path=\"url(#clip5500)\" style=\"stroke:#000000; stroke-width:4; stroke-opacity:1; fill:none\" points=\"\n  386.918,539.674 424.908,539.674 \n  \"/>\n<polyline clip-path=\"url(#clip5500)\" style=\"stroke:#000000; stroke-width:4; stroke-opacity:1; fill:none\" points=\"\n  386.918,446.085 424.908,446.085 \n  \"/>\n<polyline clip-path=\"url(#clip5500)\" style=\"stroke:#000000; stroke-width:4; stroke-opacity:1; fill:none\" points=\"\n  386.918,352.496 424.908,352.496 \n  \"/>\n<polyline clip-path=\"url(#clip5500)\" style=\"stroke:#000000; stroke-width:4; stroke-opacity:1; fill:none\" points=\"\n  386.918,305.701 424.908,305.701 \n  \"/>\n<polyline clip-path=\"url(#clip5500)\" style=\"stroke:#000000; stroke-width:4; stroke-opacity:1; fill:none\" points=\"\n  386.918,212.112 424.908,212.112 \n  \"/>\n<g clip-path=\"url(#clip5500)\">\n<text style=\"fill:#000000; fill-opacity:1; font-family:Arial,Helvetica Neue,Helvetica,sans-serif; font-size:48px; text-anchor:middle;\" transform=\"rotate(0, 476.517, 1485.62)\" x=\"476.517\" y=\"1485.62\">0</text>\n</g>\n<g clip-path=\"url(#clip5500)\">\n<text style=\"fill:#000000; fill-opacity:1; font-family:Arial,Helvetica Neue,Helvetica,sans-serif; font-size:48px; text-anchor:middle;\" transform=\"rotate(0, 930.241, 1485.62)\" x=\"930.241\" y=\"1485.62\">2000</text>\n</g>\n<g clip-path=\"url(#clip5500)\">\n<text style=\"fill:#000000; fill-opacity:1; font-family:Arial,Helvetica Neue,Helvetica,sans-serif; font-size:48px; text-anchor:middle;\" transform=\"rotate(0, 1383.97, 1485.62)\" x=\"1383.97\" y=\"1485.62\">4000</text>\n</g>\n<g clip-path=\"url(#clip5500)\">\n<text style=\"fill:#000000; fill-opacity:1; font-family:Arial,Helvetica Neue,Helvetica,sans-serif; font-size:48px; text-anchor:middle;\" transform=\"rotate(0, 1837.69, 1485.62)\" x=\"1837.69\" y=\"1485.62\">6000</text>\n</g>\n<g clip-path=\"url(#clip5500)\">\n<text style=\"fill:#000000; fill-opacity:1; font-family:Arial,Helvetica Neue,Helvetica,sans-serif; font-size:48px; text-anchor:middle;\" transform=\"rotate(0, 2291.41, 1485.62)\" x=\"2291.41\" y=\"1485.62\">8000</text>\n</g>\n<g clip-path=\"url(#clip5500)\">\n<text style=\"fill:#000000; fill-opacity:1; font-family:Arial,Helvetica Neue,Helvetica,sans-serif; font-size:48px; text-anchor:middle;\" transform=\"rotate(0, 2745.14, 1485.62)\" x=\"2745.14\" y=\"1485.62\">10000</text>\n</g>\n<g clip-path=\"url(#clip5500)\">\n<text style=\"fill:#000000; fill-opacity:1; font-family:Arial,Helvetica Neue,Helvetica,sans-serif; font-size:48px; text-anchor:middle;\" transform=\"rotate(0, 2745.14, 1485.62)\" x=\"2745.14\" y=\"1485.62\">10000</text>\n</g>\n<g clip-path=\"url(#clip5500)\">\n<text style=\"fill:#000000; fill-opacity:1; font-family:Arial,Helvetica Neue,Helvetica,sans-serif; font-size:48px; text-anchor:end;\" transform=\"rotate(0, 350.918, 1352.68)\" x=\"350.918\" y=\"1352.68\">said</text>\n</g>\n<g clip-path=\"url(#clip5500)\">\n<text style=\"fill:#000000; fill-opacity:1; font-family:Arial,Helvetica Neue,Helvetica,sans-serif; font-size:48px; text-anchor:end;\" transform=\"rotate(0, 350.918, 1259.09)\" x=\"350.918\" y=\"1259.09\">year</text>\n</g>\n<g clip-path=\"url(#clip5500)\">\n<text style=\"fill:#000000; fill-opacity:1; font-family:Arial,Helvetica Neue,Helvetica,sans-serif; font-size:48px; text-anchor:end;\" transform=\"rotate(0, 350.918, 1212.3)\" x=\"350.918\" y=\"1212.3\">percent</text>\n</g>\n<g clip-path=\"url(#clip5500)\">\n<text style=\"fill:#000000; fill-opacity:1; font-family:Arial,Helvetica Neue,Helvetica,sans-serif; font-size:48px; text-anchor:end;\" transform=\"rotate(0, 350.918, 1118.71)\" x=\"350.918\" y=\"1118.71\">new</text>\n</g>\n<g clip-path=\"url(#clip5500)\">\n<text style=\"fill:#000000; fill-opacity:1; font-family:Arial,Helvetica Neue,Helvetica,sans-serif; font-size:48px; text-anchor:end;\" transform=\"rotate(0, 350.918, 1025.12)\" x=\"350.918\" y=\"1025.12\">market</text>\n</g>\n<g clip-path=\"url(#clip5500)\">\n<text style=\"fill:#000000; fill-opacity:1; font-family:Arial,Helvetica Neue,Helvetica,sans-serif; font-size:48px; text-anchor:end;\" transform=\"rotate(0, 350.918, 931.531)\" x=\"350.918\" y=\"931.531\">business</text>\n</g>\n<g clip-path=\"url(#clip5500)\">\n<text style=\"fill:#000000; fill-opacity:1; font-family:Arial,Helvetica Neue,Helvetica,sans-serif; font-size:48px; text-anchor:end;\" transform=\"rotate(0, 350.918, 884.736)\" x=\"350.918\" y=\"884.736\">financial</text>\n</g>\n<g clip-path=\"url(#clip5500)\">\n<text style=\"fill:#000000; fill-opacity:1; font-family:Arial,Helvetica Neue,Helvetica,sans-serif; font-size:48px; text-anchor:end;\" transform=\"rotate(0, 350.918, 791.147)\" x=\"350.918\" y=\"791.147\">january</text>\n</g>\n<g clip-path=\"url(#clip5500)\">\n<text style=\"fill:#000000; fill-opacity:1; font-family:Arial,Helvetica Neue,Helvetica,sans-serif; font-size:48px; text-anchor:end;\" transform=\"rotate(0, 350.918, 697.558)\" x=\"350.918\" y=\"697.558\">forward</text>\n</g>\n<g clip-path=\"url(#clip5500)\">\n<text style=\"fill:#000000; fill-opacity:1; font-family:Arial,Helvetica Neue,Helvetica,sans-serif; font-size:48px; text-anchor:end;\" transform=\"rotate(0, 350.918, 650.763)\" x=\"350.918\" y=\"650.763\">time</text>\n</g>\n<g clip-path=\"url(#clip5500)\">\n<text style=\"fill:#000000; fill-opacity:1; font-family:Arial,Helvetica Neue,Helvetica,sans-serif; font-size:48px; text-anchor:end;\" transform=\"rotate(0, 350.918, 557.174)\" x=\"350.918\" y=\"557.174\">including</text>\n</g>\n<g clip-path=\"url(#clip5500)\">\n<text style=\"fill:#000000; fill-opacity:1; font-family:Arial,Helvetica Neue,Helvetica,sans-serif; font-size:48px; text-anchor:end;\" transform=\"rotate(0, 350.918, 463.585)\" x=\"350.918\" y=\"463.585\">looking</text>\n</g>\n<g clip-path=\"url(#clip5500)\">\n<text style=\"fill:#000000; fill-opacity:1; font-family:Arial,Helvetica Neue,Helvetica,sans-serif; font-size:48px; text-anchor:end;\" transform=\"rotate(0, 350.918, 369.996)\" x=\"350.918\" y=\"369.996\">jan</text>\n</g>\n<g clip-path=\"url(#clip5500)\">\n<text style=\"fill:#000000; fill-opacity:1; font-family:Arial,Helvetica Neue,Helvetica,sans-serif; font-size:48px; text-anchor:end;\" transform=\"rotate(0, 350.918, 323.201)\" x=\"350.918\" y=\"323.201\">people</text>\n</g>\n<g clip-path=\"url(#clip5500)\">\n<text style=\"fill:#000000; fill-opacity:1; font-family:Arial,Helvetica Neue,Helvetica,sans-serif; font-size:48px; text-anchor:end;\" transform=\"rotate(0, 350.918, 229.612)\" x=\"350.918\" y=\"229.612\">information</text>\n</g>\n<g clip-path=\"url(#clip5500)\">\n<text style=\"fill:#000000; fill-opacity:1; font-family:Arial,Helvetica Neue,Helvetica,sans-serif; font-size:82px; text-anchor:middle;\" transform=\"rotate(0, 1969.84, 72)\" x=\"1969.84\" y=\"72\"># Most Common Tokens</text>\n</g>\n<g clip-path=\"url(#clip5500)\">\n<text style=\"fill:#000000; fill-opacity:1; font-family:Arial,Helvetica Neue,Helvetica,sans-serif; font-size:66px; text-anchor:middle;\" transform=\"rotate(0, 1969.84, 1571.48)\" x=\"1969.84\" y=\"1571.48\">count</text>\n</g>\n<g clip-path=\"url(#clip5500)\">\n<text style=\"fill:#000000; fill-opacity:1; font-family:Arial,Helvetica Neue,Helvetica,sans-serif; font-size:66px; text-anchor:middle;\" transform=\"rotate(-90, 65.2861, 773.647)\" x=\"65.2861\" y=\"773.647\">token</text>\n</g>\n<path clip-path=\"url(#clip5502)\" d=\"\nM3463.16 1353.9 L476.517 1353.9 L476.517 1316.46 L3463.16 1316.46 L3463.16 1353.9 L3463.16 1353.9  Z\n  \" fill=\"#009af9\" fill-rule=\"evenodd\" fill-opacity=\"1\"/>\n<polyline clip-path=\"url(#clip5502)\" style=\"stroke:#000000; stroke-width:4; stroke-opacity:1; fill:none\" points=\"\n  3463.16,1353.9 476.517,1353.9 476.517,1316.46 3463.16,1316.46 3463.16,1353.9 \n  \"/>\n<path clip-path=\"url(#clip5502)\" d=\"\nM2460.43 1307.1 L476.517 1307.1 L476.517 1269.67 L2460.43 1269.67 L2460.43 1307.1 L2460.43 1307.1  Z\n  \" fill=\"#009af9\" fill-rule=\"evenodd\" fill-opacity=\"1\"/>\n<polyline clip-path=\"url(#clip5502)\" style=\"stroke:#000000; stroke-width:4; stroke-opacity:1; fill:none\" points=\"\n  2460.43,1307.1 476.517,1307.1 476.517,1269.67 2460.43,1269.67 2460.43,1307.1 \n  \"/>\n<path clip-path=\"url(#clip5502)\" d=\"\nM1950.67 1260.31 L476.517 1260.31 L476.517 1222.87 L1950.67 1222.87 L1950.67 1260.31 L1950.67 1260.31  Z\n  \" fill=\"#009af9\" fill-rule=\"evenodd\" fill-opacity=\"1\"/>\n<polyline clip-path=\"url(#clip5502)\" style=\"stroke:#000000; stroke-width:4; stroke-opacity:1; fill:none\" points=\"\n  1950.67,1260.31 476.517,1260.31 476.517,1222.87 1950.67,1222.87 1950.67,1260.31 \n  \"/>\n<path clip-path=\"url(#clip5502)\" d=\"\nM1939.78 1213.52 L476.517 1213.52 L476.517 1176.08 L1939.78 1176.08 L1939.78 1213.52 L1939.78 1213.52  Z\n  \" fill=\"#009af9\" fill-rule=\"evenodd\" fill-opacity=\"1\"/>\n<polyline clip-path=\"url(#clip5502)\" style=\"stroke:#000000; stroke-width:4; stroke-opacity:1; fill:none\" points=\"\n  1939.78,1213.52 476.517,1213.52 476.517,1176.08 1939.78,1176.08 1939.78,1213.52 \n  \"/>\n<path clip-path=\"url(#clip5502)\" d=\"\nM1804.11 1166.72 L476.517 1166.72 L476.517 1129.29 L1804.11 1129.29 L1804.11 1166.72 L1804.11 1166.72  Z\n  \" fill=\"#009af9\" fill-rule=\"evenodd\" fill-opacity=\"1\"/>\n<polyline clip-path=\"url(#clip5502)\" style=\"stroke:#000000; stroke-width:4; stroke-opacity:1; fill:none\" points=\"\n  1804.11,1166.72 476.517,1166.72 476.517,1129.29 1804.11,1129.29 1804.11,1166.72 \n  \"/>\n<path clip-path=\"url(#clip5502)\" d=\"\nM1783.47 1119.93 L476.517 1119.93 L476.517 1082.49 L1783.47 1082.49 L1783.47 1119.93 L1783.47 1119.93  Z\n  \" fill=\"#009af9\" fill-rule=\"evenodd\" fill-opacity=\"1\"/>\n<polyline clip-path=\"url(#clip5502)\" style=\"stroke:#000000; stroke-width:4; stroke-opacity:1; fill:none\" points=\"\n  1783.47,1119.93 476.517,1119.93 476.517,1082.49 1783.47,1082.49 1783.47,1119.93 \n  \"/>\n<path clip-path=\"url(#clip5502)\" d=\"\nM1338.37 1073.13 L476.517 1073.13 L476.517 1035.7 L1338.37 1035.7 L1338.37 1073.13 L1338.37 1073.13  Z\n  \" fill=\"#009af9\" fill-rule=\"evenodd\" fill-opacity=\"1\"/>\n<polyline clip-path=\"url(#clip5502)\" style=\"stroke:#000000; stroke-width:4; stroke-opacity:1; fill:none\" points=\"\n  1338.37,1073.13 476.517,1073.13 476.517,1035.7 1338.37,1035.7 1338.37,1073.13 \n  \"/>\n<path clip-path=\"url(#clip5502)\" d=\"\nM1289.82 1026.34 L476.517 1026.34 L476.517 988.902 L1289.82 988.902 L1289.82 1026.34 L1289.82 1026.34  Z\n  \" fill=\"#009af9\" fill-rule=\"evenodd\" fill-opacity=\"1\"/>\n<polyline clip-path=\"url(#clip5502)\" style=\"stroke:#000000; stroke-width:4; stroke-opacity:1; fill:none\" points=\"\n  1289.82,1026.34 476.517,1026.34 476.517,988.902 1289.82,988.902 1289.82,1026.34 \n  \"/>\n<path clip-path=\"url(#clip5502)\" d=\"\nM1282.56 979.543 L476.517 979.543 L476.517 942.107 L1282.56 942.107 L1282.56 979.543 L1282.56 979.543  Z\n  \" fill=\"#009af9\" fill-rule=\"evenodd\" fill-opacity=\"1\"/>\n<polyline clip-path=\"url(#clip5502)\" style=\"stroke:#000000; stroke-width:4; stroke-opacity:1; fill:none\" points=\"\n  1282.56,979.543 476.517,979.543 476.517,942.107 1282.56,942.107 1282.56,979.543 \n  \"/>\n<path clip-path=\"url(#clip5502)\" d=\"\nM1263.27 932.748 L476.517 932.748 L476.517 895.313 L1263.27 895.313 L1263.27 932.748 L1263.27 932.748  Z\n  \" fill=\"#009af9\" fill-rule=\"evenodd\" fill-opacity=\"1\"/>\n<polyline clip-path=\"url(#clip5502)\" style=\"stroke:#000000; stroke-width:4; stroke-opacity:1; fill:none\" points=\"\n  1263.27,932.748 476.517,932.748 476.517,895.313 1263.27,895.313 1263.27,932.748 \n  \"/>\n<path clip-path=\"url(#clip5502)\" d=\"\nM1254.2 885.954 L476.517 885.954 L476.517 848.518 L1254.2 848.518 L1254.2 885.954 L1254.2 885.954  Z\n  \" fill=\"#009af9\" fill-rule=\"evenodd\" fill-opacity=\"1\"/>\n<polyline clip-path=\"url(#clip5502)\" style=\"stroke:#000000; stroke-width:4; stroke-opacity:1; fill:none\" points=\"\n  1254.2,885.954 476.517,885.954 476.517,848.518 1254.2,848.518 1254.2,885.954 \n  \"/>\n<path clip-path=\"url(#clip5502)\" d=\"\nM1201.34 839.159 L476.517 839.159 L476.517 801.724 L1201.34 801.724 L1201.34 839.159 L1201.34 839.159  Z\n  \" fill=\"#009af9\" fill-rule=\"evenodd\" fill-opacity=\"1\"/>\n<polyline clip-path=\"url(#clip5502)\" style=\"stroke:#000000; stroke-width:4; stroke-opacity:1; fill:none\" points=\"\n  1201.34,839.159 476.517,839.159 476.517,801.724 1201.34,801.724 1201.34,839.159 \n  \"/>\n<path clip-path=\"url(#clip5502)\" d=\"\nM1165.72 792.365 L476.517 792.365 L476.517 754.929 L1165.72 754.929 L1165.72 792.365 L1165.72 792.365  Z\n  \" fill=\"#009af9\" fill-rule=\"evenodd\" fill-opacity=\"1\"/>\n<polyline clip-path=\"url(#clip5502)\" style=\"stroke:#000000; stroke-width:4; stroke-opacity:1; fill:none\" points=\"\n  1165.72,792.365 476.517,792.365 476.517,754.929 1165.72,754.929 1165.72,792.365 \n  \"/>\n<path clip-path=\"url(#clip5502)\" d=\"\nM1138.27 745.57 L476.517 745.57 L476.517 708.134 L1138.27 708.134 L1138.27 745.57 L1138.27 745.57  Z\n  \" fill=\"#009af9\" fill-rule=\"evenodd\" fill-opacity=\"1\"/>\n<polyline clip-path=\"url(#clip5502)\" style=\"stroke:#000000; stroke-width:4; stroke-opacity:1; fill:none\" points=\"\n  1138.27,745.57 476.517,745.57 476.517,708.134 1138.27,708.134 1138.27,745.57 \n  \"/>\n<path clip-path=\"url(#clip5502)\" d=\"\nM1123.75 698.776 L476.517 698.776 L476.517 661.34 L1123.75 661.34 L1123.75 698.776 L1123.75 698.776  Z\n  \" fill=\"#009af9\" fill-rule=\"evenodd\" fill-opacity=\"1\"/>\n<polyline clip-path=\"url(#clip5502)\" style=\"stroke:#000000; stroke-width:4; stroke-opacity:1; fill:none\" points=\"\n  1123.75,698.776 476.517,698.776 476.517,661.34 1123.75,661.34 1123.75,698.776 \n  \"/>\n<path clip-path=\"url(#clip5502)\" d=\"\nM1112.64 651.981 L476.517 651.981 L476.517 614.545 L1112.64 614.545 L1112.64 651.981 L1112.64 651.981  Z\n  \" fill=\"#009af9\" fill-rule=\"evenodd\" fill-opacity=\"1\"/>\n<polyline clip-path=\"url(#clip5502)\" style=\"stroke:#000000; stroke-width:4; stroke-opacity:1; fill:none\" points=\"\n  1112.64,651.981 476.517,651.981 476.517,614.545 1112.64,614.545 1112.64,651.981 \n  \"/>\n<path clip-path=\"url(#clip5502)\" d=\"\nM1091.77 605.186 L476.517 605.186 L476.517 567.751 L1091.77 567.751 L1091.77 605.186 L1091.77 605.186  Z\n  \" fill=\"#009af9\" fill-rule=\"evenodd\" fill-opacity=\"1\"/>\n<polyline clip-path=\"url(#clip5502)\" style=\"stroke:#000000; stroke-width:4; stroke-opacity:1; fill:none\" points=\"\n  1091.77,605.186 476.517,605.186 476.517,567.751 1091.77,567.751 1091.77,605.186 \n  \"/>\n<path clip-path=\"url(#clip5502)\" d=\"\nM1074.75 558.392 L476.517 558.392 L476.517 520.956 L1074.75 520.956 L1074.75 558.392 L1074.75 558.392  Z\n  \" fill=\"#009af9\" fill-rule=\"evenodd\" fill-opacity=\"1\"/>\n<polyline clip-path=\"url(#clip5502)\" style=\"stroke:#000000; stroke-width:4; stroke-opacity:1; fill:none\" points=\"\n  1074.75,558.392 476.517,558.392 476.517,520.956 1074.75,520.956 1074.75,558.392 \n  \"/>\n<path clip-path=\"url(#clip5502)\" d=\"\nM1058.64 511.597 L476.517 511.597 L476.517 474.162 L1058.64 474.162 L1058.64 511.597 L1058.64 511.597  Z\n  \" fill=\"#009af9\" fill-rule=\"evenodd\" fill-opacity=\"1\"/>\n<polyline clip-path=\"url(#clip5502)\" style=\"stroke:#000000; stroke-width:4; stroke-opacity:1; fill:none\" points=\"\n  1058.64,511.597 476.517,511.597 476.517,474.162 1058.64,474.162 1058.64,511.597 \n  \"/>\n<path clip-path=\"url(#clip5502)\" d=\"\nM1051.61 464.803 L476.517 464.803 L476.517 427.367 L1051.61 427.367 L1051.61 464.803 L1051.61 464.803  Z\n  \" fill=\"#009af9\" fill-rule=\"evenodd\" fill-opacity=\"1\"/>\n<polyline clip-path=\"url(#clip5502)\" style=\"stroke:#000000; stroke-width:4; stroke-opacity:1; fill:none\" points=\"\n  1051.61,464.803 476.517,464.803 476.517,427.367 1051.61,427.367 1051.61,464.803 \n  \"/>\n<path clip-path=\"url(#clip5502)\" d=\"\nM1045.49 418.008 L476.517 418.008 L476.517 380.573 L1045.49 380.573 L1045.49 418.008 L1045.49 418.008  Z\n  \" fill=\"#009af9\" fill-rule=\"evenodd\" fill-opacity=\"1\"/>\n<polyline clip-path=\"url(#clip5502)\" style=\"stroke:#000000; stroke-width:4; stroke-opacity:1; fill:none\" points=\"\n  1045.49,418.008 476.517,418.008 476.517,380.573 1045.49,380.573 1045.49,418.008 \n  \"/>\n<path clip-path=\"url(#clip5502)\" d=\"\nM1025.75 371.214 L476.517 371.214 L476.517 333.778 L1025.75 333.778 L1025.75 371.214 L1025.75 371.214  Z\n  \" fill=\"#009af9\" fill-rule=\"evenodd\" fill-opacity=\"1\"/>\n<polyline clip-path=\"url(#clip5502)\" style=\"stroke:#000000; stroke-width:4; stroke-opacity:1; fill:none\" points=\"\n  1025.75,371.214 476.517,371.214 476.517,333.778 1025.75,333.778 1025.75,371.214 \n  \"/>\n<path clip-path=\"url(#clip5502)\" d=\"\nM1020.53 324.419 L476.517 324.419 L476.517 286.983 L1020.53 286.983 L1020.53 324.419 L1020.53 324.419  Z\n  \" fill=\"#009af9\" fill-rule=\"evenodd\" fill-opacity=\"1\"/>\n<polyline clip-path=\"url(#clip5502)\" style=\"stroke:#000000; stroke-width:4; stroke-opacity:1; fill:none\" points=\"\n  1020.53,324.419 476.517,324.419 476.517,286.983 1020.53,286.983 1020.53,324.419 \n  \"/>\n<path clip-path=\"url(#clip5502)\" d=\"\nM996.712 277.625 L476.517 277.625 L476.517 240.189 L996.712 240.189 L996.712 277.625 L996.712 277.625  Z\n  \" fill=\"#009af9\" fill-rule=\"evenodd\" fill-opacity=\"1\"/>\n<polyline clip-path=\"url(#clip5502)\" style=\"stroke:#000000; stroke-width:4; stroke-opacity:1; fill:none\" points=\"\n  996.712,277.625 476.517,277.625 476.517,240.189 996.712,240.189 996.712,277.625 \n  \"/>\n<path clip-path=\"url(#clip5502)\" d=\"\nM994.443 230.83 L476.517 230.83 L476.517 193.394 L994.443 193.394 L994.443 230.83 L994.443 230.83  Z\n  \" fill=\"#009af9\" fill-rule=\"evenodd\" fill-opacity=\"1\"/>\n<polyline clip-path=\"url(#clip5502)\" style=\"stroke:#000000; stroke-width:4; stroke-opacity:1; fill:none\" points=\"\n  994.443,230.83 476.517,230.83 476.517,193.394 994.443,193.394 994.443,230.83 \n  \"/>\n<path clip-path=\"url(#clip5500)\" d=\"\nM3033.93 398.155 L3444.76 398.155 L3444.76 277.195 L3033.93 277.195  Z\n  \" fill=\"#ffffff\" fill-rule=\"evenodd\" fill-opacity=\"1\"/>\n<polyline clip-path=\"url(#clip5500)\" style=\"stroke:#000000; stroke-width:4; stroke-opacity:1; fill:none\" points=\"\n  3033.93,398.155 3444.76,398.155 3444.76,277.195 3033.93,277.195 3033.93,398.155 \n  \"/>\n<path clip-path=\"url(#clip5500)\" d=\"\nM3069.93 361.867 L3285.93 361.867 L3285.93 313.483 L3069.93 313.483 L3069.93 361.867  Z\n  \" fill=\"#009af9\" fill-rule=\"evenodd\" fill-opacity=\"1\"/>\n<polyline clip-path=\"url(#clip5500)\" style=\"stroke:#000000; stroke-width:4; stroke-opacity:1; fill:none\" points=\"\n  3069.93,361.867 3285.93,361.867 3285.93,313.483 3069.93,313.483 3069.93,361.867 \n  \"/>\n<g clip-path=\"url(#clip5500)\">\n<text style=\"fill:#000000; fill-opacity:1; font-family:Arial,Helvetica Neue,Helvetica,sans-serif; font-size:48px; text-anchor:start;\" transform=\"rotate(0, 3321.93, 355.175)\" x=\"3321.93\" y=\"355.175\">y1</text>\n</g>\n</svg>\n"
     },
     "execution_count": 28,
     "metadata": {},
     "output_type": "execute_result"
    }
   ],
   "source": [
    "bar(first(most_common[:token], 25), first(most_common[:count], 25), orientation=:horizontal)\n",
    "plot!(size=(900, 400))\n",
    "ylabel!(\"token\")\n",
    "xlabel!(\"count\")\n",
    "Plots.title!(\"# Most Common Tokens\")"
   ]
  },
  {
   "cell_type": "markdown",
   "metadata": {
    "slideshow": {
     "slide_type": "slide"
    }
   },
   "source": [
    "### Inspect Result"
   ]
  },
  {
   "cell_type": "code",
   "execution_count": 29,
   "metadata": {
    "ExecuteTime": {
     "end_time": "2020-06-21T02:59:06.408322Z",
     "start_time": "2020-06-21T02:59:06.405265Z"
    },
    "slideshow": {
     "slide_type": "fragment"
    }
   },
   "outputs": [
    {
     "data": {
      "text/plain": [
       "3-element Vector{Any}:\n",
       " \"hours ago emerging markets soared percent todd gordon says rally wo stop\"\n",
       " \"big rally emerging markets tracked emerging market etf eem weak dollar\"\n",
       " \"given gordon sees inverse relat\" ⋯ 65 bytes ⋯ \"es currency continue help group\""
      ]
     },
     "execution_count": 29,
     "metadata": {},
     "output_type": "execute_result"
    }
   ],
   "source": [
    "clean_articles[1:3]"
   ]
  },
  {
   "cell_type": "markdown",
   "metadata": {
    "slideshow": {
     "slide_type": "slide"
    }
   },
   "source": [
    "## Create n-grams"
   ]
  },
  {
   "cell_type": "code",
   "execution_count": 30,
   "metadata": {
    "ExecuteTime": {
     "end_time": "2020-06-21T02:59:06.417761Z",
     "start_time": "2020-06-21T02:59:06.410047Z"
    }
   },
   "outputs": [
    {
     "data": {
      "text/plain": [
       "3"
      ]
     },
     "execution_count": 30,
     "metadata": {},
     "output_type": "execute_result"
    }
   ],
   "source": [
    "max_length = 3"
   ]
  },
  {
   "cell_type": "code",
   "execution_count": 31,
   "metadata": {
    "ExecuteTime": {
     "end_time": "2020-06-21T03:08:37.112665Z",
     "start_time": "2020-06-21T02:59:06.418792Z"
    },
    "slideshow": {
     "slide_type": "fragment"
    }
   },
   "outputs": [
    {
     "data": {
      "text/plain": [
       "get_clean_articles (generic function with 1 method)"
      ]
     },
     "execution_count": 31,
     "metadata": {},
     "output_type": "execute_result"
    }
   ],
   "source": [
    "function get_clean_articles(clean_article_path)\n",
    "    file = open(clean_article_path, \"r\")\n",
    "    s = StringDecoder(file,\"LATIN1\", \"UTF-8\")\n",
    "    articles = readlines(s)\n",
    "    close(file)\n",
    "    return articles\n",
    "end"
   ]
  },
  {
   "cell_type": "code",
   "execution_count": 32,
   "metadata": {},
   "outputs": [
    {
     "data": {
      "text/plain": [
       "get_ngram_articles (generic function with 1 method)"
      ]
     },
     "execution_count": 32,
     "metadata": {},
     "output_type": "execute_result"
    }
   ],
   "source": [
    "function get_ngram_articles(articles, n)\n",
    "    sentences = Any[]\n",
    "    ngram_counter = Dict()\n",
    "    for article ∈ articles\n",
    "        doc = StringDocument(article)\n",
    "        doc_ngram = ngrams(doc, n)\n",
    "        for (k, v) ∈ doc_ngram\n",
    "            if k ∈ keys(ngram_counter)\n",
    "                ngram_counter[k] += v\n",
    "            else\n",
    "                ngram_counter[k] = v\n",
    "            end\n",
    "        end\n",
    "        sentence = join(keys(doc_ngram), \" \") * \"\\n\"\n",
    "        push!(sentences, sentence)\n",
    "    end\n",
    "    return ngram_counter, sentences\n",
    "end"
   ]
  },
  {
   "cell_type": "code",
   "execution_count": 33,
   "metadata": {},
   "outputs": [],
   "source": [
    "data_path = joinpath(\"data\", \"fin_news\", \"data\")\n",
    "if !(isdir(data_path))\n",
    "    mkpath(data_path)\n",
    "end"
   ]
  },
  {
   "cell_type": "code",
   "execution_count": 34,
   "metadata": {},
   "outputs": [
    {
     "data": {
      "text/plain": [
       "value_counts (generic function with 1 method)"
      ]
     },
     "execution_count": 34,
     "metadata": {},
     "output_type": "execute_result"
    }
   ],
   "source": [
    "value_counts(df, col) = combine(groupby(df, col), nrow)"
   ]
  },
  {
   "cell_type": "code",
   "execution_count": 35,
   "metadata": {},
   "outputs": [
    {
     "name": "stdout",
     "output_type": "stream",
     "text": [
      "Duration: 00:01:07\n",
      "\n",
      "ngrams: 2282853\n",
      "\n",
      "2×2 DataFrame\n",
      "│ Row │ length │ nrow    │\n",
      "│     │ \u001b[90mInt64\u001b[39m  │ \u001b[90mInt64\u001b[39m   │\n",
      "├─────┼────────┼─────────┤\n",
      "│ 1   │ 2      │ 590148  │\n",
      "│ 2   │ 3      │ 1692705 │\n"
     ]
    }
   ],
   "source": [
    "n_grams_df = DataFrame()\n",
    "start = time()\n",
    "articles = get_clean_articles(clean_article_path)\n",
    "\n",
    "for n ∈ 2 : max_length\n",
    "    if n > 2\n",
    "        articles = get_clean_articles(joinpath(results_path, \"articles_$(n-1)_grams.txt\"))\n",
    "    end\n",
    "\n",
    "    ngram_counter, sentences = get_ngram_articles(articles, n)\n",
    "\n",
    "    s = DataFrame(length = [n for i ∈ 1:length(keys(ngram_counter))], \n",
    "                            phrase = [ngram_word for ngram_word ∈ keys(ngram_counter)], \n",
    "                            count = [ngram_count for ngram_count ∈ values(ngram_counter)])\n",
    "    \n",
    "    n_grams_df = vcat(n_grams_df, s)\n",
    "\n",
    "    open(joinpath(results_path, \"articles_$(n)_grams.txt\"), \"w\") do file\n",
    "        for sentence ∈ sentences\n",
    "            write(file, sentence)\n",
    "        end\n",
    "    end\n",
    "\n",
    "    open(joinpath(data_path, \"articles_$(n)_grams.txt\"), \"w\") do file\n",
    "        for sentence ∈ sentences\n",
    "            write(file, sentence)\n",
    "        end\n",
    "    end\n",
    "end\n",
    "\n",
    "n_grams_df = sort!(n_grams_df, :count, rev=true)\n",
    "n_grams_df[!, \"ngram\"] = replace.(n_grams_df[:, \"phrase\"], \" \"=>\"_\")\n",
    "\n",
    "\n",
    "println(\"Duration: $(format_time(floor(Int, (time() - start))))\\n\")\n",
    "println(\"ngrams: $(size(n_grams_df)[1])\\n\")\n",
    "println(value_counts(n_grams_df, :length))\n"
   ]
  },
  {
   "cell_type": "code",
   "execution_count": 36,
   "metadata": {},
   "outputs": [
    {
     "data": {
      "text/html": [
       "<table class=\"data-frame\"><thead><tr><th></th><th>length</th><th>phrase</th><th>count</th><th>ngram</th></tr><tr><th></th><th>Int64</th><th>String</th><th>Int64</th><th>String</th></tr></thead><tbody><p>2,282,853 rows × 4 columns</p><tr><th>1</th><td>2</td><td>forward looking</td><td>2155</td><td>forward_looking</td></tr><tr><th>2</th><td>2</td><td>looking statements</td><td>1912</td><td>looking_statements</td></tr><tr><th>3</th><td>2</td><td>united states</td><td>1470</td><td>united_states</td></tr><tr><th>4</th><td>2</td><td>min read</td><td>1402</td><td>min_read</td></tr><tr><th>5</th><td>2</td><td>new york</td><td>1312</td><td>new_york</td></tr><tr><th>6</th><td>2</td><td>reuters staff</td><td>1255</td><td>reuters_staff</td></tr><tr><th>7</th><td>2</td><td>minutes ago</td><td>982</td><td>minutes_ago</td></tr><tr><th>8</th><td>2</td><td>updated minutes</td><td>980</td><td>updated_minutes</td></tr><tr><th>9</th><td>2</td><td>jan reuters</td><td>943</td><td>jan_reuters</td></tr><tr><th>10</th><td>2</td><td>staff min</td><td>916</td><td>staff_min</td></tr><tr><th>11</th><td>2</td><td>fourth quarter</td><td>905</td><td>fourth_quarter</td></tr><tr><th>12</th><td>2</td><td>vice president</td><td>899</td><td>vice_president</td></tr><tr><th>13</th><td>2</td><td>pm updated</td><td>879</td><td>pm_updated</td></tr><tr><th>14</th><td>2</td><td>january pm</td><td>871</td><td>january_pm</td></tr><tr><th>15</th><td>3</td><td>minutes ago updated</td><td>790</td><td>minutes_ago_updated</td></tr><tr><th>16</th><td>3</td><td>ago updated minutes</td><td>790</td><td>ago_updated_minutes</td></tr><tr><th>17</th><td>3</td><td>min min read</td><td>765</td><td>min_min_read</td></tr><tr><th>18</th><td>2</td><td>donald trump</td><td>743</td><td>donald_trump</td></tr><tr><th>19</th><td>3</td><td>staff min min</td><td>743</td><td>staff_min_min</td></tr><tr><th>20</th><td>2</td><td>chief executive</td><td>700</td><td>chief_executive</td></tr><tr><th>21</th><td>2</td><td>president donald</td><td>656</td><td>president_donald</td></tr><tr><th>22</th><td>2</td><td>press release</td><td>639</td><td>press_release</td></tr><tr><th>23</th><td>2</td><td>file photo</td><td>632</td><td>file_photo</td></tr><tr><th>24</th><td>2</td><td>real estate</td><td>623</td><td>real_estate</td></tr><tr><th>25</th><td>2</td><td>source text</td><td>587</td><td>source_text</td></tr><tr><th>26</th><td>2</td><td>white house</td><td>571</td><td>white_house</td></tr><tr><th>27</th><td>2</td><td>hours ago</td><td>570</td><td>hours_ago</td></tr><tr><th>28</th><td>2</td><td>company coverage</td><td>552</td><td>company_coverage</td></tr><tr><th>29</th><td>2</td><td>risks uncertainties</td><td>546</td><td>risks_uncertainties</td></tr><tr><th>30</th><td>2</td><td>north korea</td><td>527</td><td>north_korea</td></tr><tr><th>&vellip;</th><td>&vellip;</td><td>&vellip;</td><td>&vellip;</td><td>&vellip;</td></tr></tbody></table>"
      ],
      "text/latex": [
       "\\begin{tabular}{r|cccc}\n",
       "\t& length & phrase & count & ngram\\\\\n",
       "\t\\hline\n",
       "\t& Int64 & String & Int64 & String\\\\\n",
       "\t\\hline\n",
       "\t1 & 2 & forward looking & 2155 & forward\\_looking \\\\\n",
       "\t2 & 2 & looking statements & 1912 & looking\\_statements \\\\\n",
       "\t3 & 2 & united states & 1470 & united\\_states \\\\\n",
       "\t4 & 2 & min read & 1402 & min\\_read \\\\\n",
       "\t5 & 2 & new york & 1312 & new\\_york \\\\\n",
       "\t6 & 2 & reuters staff & 1255 & reuters\\_staff \\\\\n",
       "\t7 & 2 & minutes ago & 982 & minutes\\_ago \\\\\n",
       "\t8 & 2 & updated minutes & 980 & updated\\_minutes \\\\\n",
       "\t9 & 2 & jan reuters & 943 & jan\\_reuters \\\\\n",
       "\t10 & 2 & staff min & 916 & staff\\_min \\\\\n",
       "\t11 & 2 & fourth quarter & 905 & fourth\\_quarter \\\\\n",
       "\t12 & 2 & vice president & 899 & vice\\_president \\\\\n",
       "\t13 & 2 & pm updated & 879 & pm\\_updated \\\\\n",
       "\t14 & 2 & january pm & 871 & january\\_pm \\\\\n",
       "\t15 & 3 & minutes ago updated & 790 & minutes\\_ago\\_updated \\\\\n",
       "\t16 & 3 & ago updated minutes & 790 & ago\\_updated\\_minutes \\\\\n",
       "\t17 & 3 & min min read & 765 & min\\_min\\_read \\\\\n",
       "\t18 & 2 & donald trump & 743 & donald\\_trump \\\\\n",
       "\t19 & 3 & staff min min & 743 & staff\\_min\\_min \\\\\n",
       "\t20 & 2 & chief executive & 700 & chief\\_executive \\\\\n",
       "\t21 & 2 & president donald & 656 & president\\_donald \\\\\n",
       "\t22 & 2 & press release & 639 & press\\_release \\\\\n",
       "\t23 & 2 & file photo & 632 & file\\_photo \\\\\n",
       "\t24 & 2 & real estate & 623 & real\\_estate \\\\\n",
       "\t25 & 2 & source text & 587 & source\\_text \\\\\n",
       "\t26 & 2 & white house & 571 & white\\_house \\\\\n",
       "\t27 & 2 & hours ago & 570 & hours\\_ago \\\\\n",
       "\t28 & 2 & company coverage & 552 & company\\_coverage \\\\\n",
       "\t29 & 2 & risks uncertainties & 546 & risks\\_uncertainties \\\\\n",
       "\t30 & 2 & north korea & 527 & north\\_korea \\\\\n",
       "\t$\\dots$ & $\\dots$ & $\\dots$ & $\\dots$ & $\\dots$ \\\\\n",
       "\\end{tabular}\n"
      ],
      "text/plain": [
       "2282853×4 DataFrame. Omitted printing of 1 columns\n",
       "│ Row     │ length │ phrase                          │ count │\n",
       "│         │ \u001b[90mInt64\u001b[39m  │ \u001b[90mString\u001b[39m                          │ \u001b[90mInt64\u001b[39m │\n",
       "├─────────┼────────┼─────────────────────────────────┼───────┤\n",
       "│ 1       │ 2      │ forward looking                 │ 2155  │\n",
       "│ 2       │ 2      │ looking statements              │ 1912  │\n",
       "│ 3       │ 2      │ united states                   │ 1470  │\n",
       "│ 4       │ 2      │ min read                        │ 1402  │\n",
       "│ 5       │ 2      │ new york                        │ 1312  │\n",
       "│ 6       │ 2      │ reuters staff                   │ 1255  │\n",
       "│ 7       │ 2      │ minutes ago                     │ 982   │\n",
       "│ 8       │ 2      │ updated minutes                 │ 980   │\n",
       "│ 9       │ 2      │ jan reuters                     │ 943   │\n",
       "│ 10      │ 2      │ staff min                       │ 916   │\n",
       "⋮\n",
       "│ 2282843 │ 3      │ available investors directly    │ 1     │\n",
       "│ 2282844 │ 3      │ francisco year western          │ 1     │\n",
       "│ 2282845 │ 3      │ years service group             │ 1     │\n",
       "│ 2282846 │ 3      │ helps regulators blockchain     │ 1     │\n",
       "│ 2282847 │ 3      │ mobiles computers one           │ 1     │\n",
       "│ 2282848 │ 3      │ minnesota rhode island          │ 1     │\n",
       "│ 2282849 │ 3      │ products leading provider       │ 1     │\n",
       "│ 2282850 │ 3      │ creativity david litigation     │ 1     │\n",
       "│ 2282851 │ 3      │ pediatric orthopedics advancing │ 1     │\n",
       "│ 2282852 │ 3      │ wolfson said said               │ 1     │\n",
       "│ 2282853 │ 3      │ people wealthier founders       │ 1     │"
      ]
     },
     "execution_count": 36,
     "metadata": {},
     "output_type": "execute_result"
    }
   ],
   "source": [
    "n_grams_df"
   ]
  },
  {
   "cell_type": "code",
   "execution_count": 37,
   "metadata": {},
   "outputs": [
    {
     "data": {
      "text/html": [
       "<table class=\"data-frame\"><thead><tr><th></th><th>length</th><th>phrase</th><th>count</th><th>ngram</th></tr><tr><th></th><th>Int64</th><th>String</th><th>Int64</th><th>String</th></tr></thead><tbody><p>20 rows × 4 columns</p><tr><th>1</th><td>2</td><td>forward looking</td><td>2155</td><td>forward_looking</td></tr><tr><th>2</th><td>2</td><td>looking statements</td><td>1912</td><td>looking_statements</td></tr><tr><th>3</th><td>2</td><td>united states</td><td>1470</td><td>united_states</td></tr><tr><th>4</th><td>2</td><td>min read</td><td>1402</td><td>min_read</td></tr><tr><th>5</th><td>2</td><td>new york</td><td>1312</td><td>new_york</td></tr><tr><th>6</th><td>2</td><td>reuters staff</td><td>1255</td><td>reuters_staff</td></tr><tr><th>7</th><td>2</td><td>minutes ago</td><td>982</td><td>minutes_ago</td></tr><tr><th>8</th><td>2</td><td>updated minutes</td><td>980</td><td>updated_minutes</td></tr><tr><th>9</th><td>2</td><td>jan reuters</td><td>943</td><td>jan_reuters</td></tr><tr><th>10</th><td>2</td><td>staff min</td><td>916</td><td>staff_min</td></tr><tr><th>11</th><td>3</td><td>minutes ago updated</td><td>790</td><td>minutes_ago_updated</td></tr><tr><th>12</th><td>3</td><td>ago updated minutes</td><td>790</td><td>ago_updated_minutes</td></tr><tr><th>13</th><td>3</td><td>min min read</td><td>765</td><td>min_min_read</td></tr><tr><th>14</th><td>3</td><td>staff min min</td><td>743</td><td>staff_min_min</td></tr><tr><th>15</th><td>3</td><td>updated minutes january</td><td>499</td><td>updated_minutes_january</td></tr><tr><th>16</th><td>3</td><td>minutes january pm</td><td>498</td><td>minutes_january_pm</td></tr><tr><th>17</th><td>3</td><td>min read reuters</td><td>419</td><td>min_read_reuters</td></tr><tr><th>18</th><td>3</td><td>pm updated reuters</td><td>409</td><td>pm_updated_reuters</td></tr><tr><th>19</th><td>3</td><td>updated reuters staff</td><td>402</td><td>updated_reuters_staff</td></tr><tr><th>20</th><td>3</td><td>read reuters staff</td><td>388</td><td>read_reuters_staff</td></tr></tbody></table>"
      ],
      "text/latex": [
       "\\begin{tabular}{r|cccc}\n",
       "\t& length & phrase & count & ngram\\\\\n",
       "\t\\hline\n",
       "\t& Int64 & String & Int64 & String\\\\\n",
       "\t\\hline\n",
       "\t1 & 2 & forward looking & 2155 & forward\\_looking \\\\\n",
       "\t2 & 2 & looking statements & 1912 & looking\\_statements \\\\\n",
       "\t3 & 2 & united states & 1470 & united\\_states \\\\\n",
       "\t4 & 2 & min read & 1402 & min\\_read \\\\\n",
       "\t5 & 2 & new york & 1312 & new\\_york \\\\\n",
       "\t6 & 2 & reuters staff & 1255 & reuters\\_staff \\\\\n",
       "\t7 & 2 & minutes ago & 982 & minutes\\_ago \\\\\n",
       "\t8 & 2 & updated minutes & 980 & updated\\_minutes \\\\\n",
       "\t9 & 2 & jan reuters & 943 & jan\\_reuters \\\\\n",
       "\t10 & 2 & staff min & 916 & staff\\_min \\\\\n",
       "\t11 & 3 & minutes ago updated & 790 & minutes\\_ago\\_updated \\\\\n",
       "\t12 & 3 & ago updated minutes & 790 & ago\\_updated\\_minutes \\\\\n",
       "\t13 & 3 & min min read & 765 & min\\_min\\_read \\\\\n",
       "\t14 & 3 & staff min min & 743 & staff\\_min\\_min \\\\\n",
       "\t15 & 3 & updated minutes january & 499 & updated\\_minutes\\_january \\\\\n",
       "\t16 & 3 & minutes january pm & 498 & minutes\\_january\\_pm \\\\\n",
       "\t17 & 3 & min read reuters & 419 & min\\_read\\_reuters \\\\\n",
       "\t18 & 3 & pm updated reuters & 409 & pm\\_updated\\_reuters \\\\\n",
       "\t19 & 3 & updated reuters staff & 402 & updated\\_reuters\\_staff \\\\\n",
       "\t20 & 3 & read reuters staff & 388 & read\\_reuters\\_staff \\\\\n",
       "\\end{tabular}\n"
      ],
      "text/plain": [
       "20×4 DataFrame\n",
       "│ Row │ length │ phrase                  │ count │ ngram                   │\n",
       "│     │ \u001b[90mInt64\u001b[39m  │ \u001b[90mString\u001b[39m                  │ \u001b[90mInt64\u001b[39m │ \u001b[90mString\u001b[39m                  │\n",
       "├─────┼────────┼─────────────────────────┼───────┼─────────────────────────┤\n",
       "│ 1   │ 2      │ forward looking         │ 2155  │ forward_looking         │\n",
       "│ 2   │ 2      │ looking statements      │ 1912  │ looking_statements      │\n",
       "│ 3   │ 2      │ united states           │ 1470  │ united_states           │\n",
       "│ 4   │ 2      │ min read                │ 1402  │ min_read                │\n",
       "│ 5   │ 2      │ new york                │ 1312  │ new_york                │\n",
       "│ 6   │ 2      │ reuters staff           │ 1255  │ reuters_staff           │\n",
       "│ 7   │ 2      │ minutes ago             │ 982   │ minutes_ago             │\n",
       "│ 8   │ 2      │ updated minutes         │ 980   │ updated_minutes         │\n",
       "│ 9   │ 2      │ jan reuters             │ 943   │ jan_reuters             │\n",
       "│ 10  │ 2      │ staff min               │ 916   │ staff_min               │\n",
       "│ 11  │ 3      │ minutes ago updated     │ 790   │ minutes_ago_updated     │\n",
       "│ 12  │ 3      │ ago updated minutes     │ 790   │ ago_updated_minutes     │\n",
       "│ 13  │ 3      │ min min read            │ 765   │ min_min_read            │\n",
       "│ 14  │ 3      │ staff min min           │ 743   │ staff_min_min           │\n",
       "│ 15  │ 3      │ updated minutes january │ 499   │ updated_minutes_january │\n",
       "│ 16  │ 3      │ minutes january pm      │ 498   │ minutes_january_pm      │\n",
       "│ 17  │ 3      │ min read reuters        │ 419   │ min_read_reuters        │\n",
       "│ 18  │ 3      │ pm updated reuters      │ 409   │ pm_updated_reuters      │\n",
       "│ 19  │ 3      │ updated reuters staff   │ 402   │ updated_reuters_staff   │\n",
       "│ 20  │ 3      │ read reuters staff      │ 388   │ read_reuters_staff      │"
      ]
     },
     "execution_count": 37,
     "metadata": {},
     "output_type": "execute_result"
    }
   ],
   "source": [
    "@pipe n_grams_df |>\n",
    "    groupby(_, :length) |>\n",
    "    combine(_) do sdf\n",
    "        sorted = sort(sdf, :count, rev=true)\n",
    "        first(sorted, 10)\n",
    "    end"
   ]
  }
 ],
 "metadata": {
  "celltoolbar": "Slideshow",
  "kernelspec": {
   "display_name": "Julia 1.7.1",
   "language": "julia",
   "name": "julia-1.7"
  },
  "language_info": {
   "file_extension": ".jl",
   "mimetype": "application/julia",
   "name": "julia",
   "version": "1.7.1"
  },
  "toc": {
   "base_numbering": 1,
   "nav_menu": {},
   "number_sections": true,
   "sideBar": true,
   "skip_h1_title": true,
   "title_cell": "Table of Contents",
   "title_sidebar": "Contents",
   "toc_cell": false,
   "toc_position": {
    "height": "47px",
    "left": "1227px",
    "top": "40px",
    "width": "212px"
   },
   "toc_section_display": true,
   "toc_window_display": true
  },
  "vscode": {
   "interpreter": {
    "hash": "737c959b7de13ca6de61c14329204bbb39ba036435861a41dd181d542af43690"
   }
  }
 },
 "nbformat": 4,
 "nbformat_minor": 4
}
