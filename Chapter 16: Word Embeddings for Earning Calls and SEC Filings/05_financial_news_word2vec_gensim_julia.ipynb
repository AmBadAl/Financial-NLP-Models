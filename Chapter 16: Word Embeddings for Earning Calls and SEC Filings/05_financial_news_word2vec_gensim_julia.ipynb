{
 "cells": [
  {
   "cell_type": "markdown",
   "metadata": {},
   "source": [
    "# How to train your own word vector embeddings using Gensim"
   ]
  },
  {
   "cell_type": "markdown",
   "metadata": {},
   "source": [
    "Many tasks require embeddings or domain-specific vocabulary that pre-trained models based on a generic corpus may not represent well or at all. Standard word2vec models are not able to assign vectors to out-of-vocabulary words and instead use a default vector that reduces their predictive value.\n",
    "\n",
    "E.g., when working with industry-specific documents, the vocabulary or its usage may change over time as new technologies or products emerge. As a result, the embeddings need to evolve as well. In addition, corporate earnings releases use nuanced language not fully reflected in Glove vectors pre-trained on Wikipedia articles.\n",
    "\n",
    "In this notebook we illustrate the more performant gensim adaptation of the code provided by the word2vec authors. "
   ]
  },
  {
   "cell_type": "markdown",
   "metadata": {},
   "source": [
    "To illustrate the word2vec network architecture, we use the Financial News data that we first introduced in chapter 14 on Topic Modeling. "
   ]
  },
  {
   "cell_type": "markdown",
   "metadata": {},
   "source": [
    "## Data"
   ]
  },
  {
   "cell_type": "markdown",
   "metadata": {},
   "source": [
    "<div style='direction:rtl; font-family: \"B Nazanin\"; font-size: 20px;'> \n",
    "در این بخش از داده‌های پیش‌پردازش شده در نوت بوک شماره ۳ (03_financial_news_preprocessing_julia.ipynb) استفاده شده است.\n",
    "بنابراین لازم است که ابتدا آن نوت بوک اجرا شود."
   ]
  },
  {
   "cell_type": "markdown",
   "metadata": {
    "slideshow": {
     "slide_type": "fragment"
    }
   },
   "source": [
    "## Imports"
   ]
  },
  {
   "cell_type": "code",
   "execution_count": 47,
   "metadata": {},
   "outputs": [],
   "source": [
    "using Pkg"
   ]
  },
  {
   "cell_type": "code",
   "execution_count": 48,
   "metadata": {},
   "outputs": [],
   "source": [
    "using PyCall\n",
    "using Conda"
   ]
  },
  {
   "cell_type": "code",
   "execution_count": 49,
   "metadata": {},
   "outputs": [],
   "source": [
    "#Pkg.add(\"Glob\")\n",
    "#Pkg.add(\"TextAnalysis\")\n",
    "#Pkg.add(\"DataFrames\")\n",
    "#Pkg.add(\"Plots\")\n",
    "#Pkg.add(\"CSV\")\n",
    "#Pkg.add(\"JSON\")\n",
    "#Pkg.add(\"StatsBase\")"
   ]
  },
  {
   "cell_type": "code",
   "execution_count": 50,
   "metadata": {},
   "outputs": [],
   "source": [
    "using Glob\n",
    "using DataFrames\n",
    "using Plots\n",
    "using Printf\n",
    "using CSV\n",
    "using StatsBase"
   ]
  },
  {
   "cell_type": "code",
   "execution_count": 51,
   "metadata": {},
   "outputs": [],
   "source": [
    "#Conda.add(\"gensim\")\n",
    "@pyimport gensim"
   ]
  },
  {
   "cell_type": "code",
   "execution_count": 52,
   "metadata": {},
   "outputs": [
    {
     "data": {
      "text/plain": [
       "PyObject <class 'gensim.models.word2vec.LineSentence'>"
      ]
     },
     "execution_count": 52,
     "metadata": {},
     "output_type": "execute_result"
    }
   ],
   "source": [
    "Word2Vec = gensim.models.Word2Vec\n",
    "KeyedVectors = gensim.models.KeyedVectors\n",
    "LineSentence = gensim.models.word2vec.LineSentence"
   ]
  },
  {
   "cell_type": "code",
   "execution_count": 53,
   "metadata": {},
   "outputs": [],
   "source": [
    "using ScikitLearn\n",
    "using ScikitLearn: @sk_import"
   ]
  },
  {
   "cell_type": "code",
   "execution_count": 54,
   "metadata": {},
   "outputs": [
    {
     "data": {
      "text/plain": [
       "PyObject <class 'sklearn.decomposition._incremental_pca.IncrementalPCA'>"
      ]
     },
     "execution_count": 54,
     "metadata": {},
     "output_type": "execute_result"
    },
    {
     "name": "stderr",
     "output_type": "stream",
     "text": [
      "WARNING: redefinition of constant IncrementalPCA. This may fail, cause incorrect answers, or produce other errors.\n"
     ]
    }
   ],
   "source": [
    "@sk_import decomposition: IncrementalPCA"
   ]
  },
  {
   "cell_type": "markdown",
   "metadata": {},
   "source": [
    "### Paths"
   ]
  },
  {
   "cell_type": "code",
   "execution_count": 55,
   "metadata": {
    "ExecuteTime": {
     "end_time": "2020-03-12T16:24:47.020587Z",
     "start_time": "2020-03-12T16:24:47.007883Z"
    }
   },
   "outputs": [
    {
     "data": {
      "text/plain": [
       "\"data\\\\analogies-en.txt\""
      ]
     },
     "execution_count": 55,
     "metadata": {},
     "output_type": "execute_result"
    }
   ],
   "source": [
    "news_path = joinpath(\"data\", \"fin_news\")\n",
    "data_path = joinpath(news_path, \"data\")\n",
    "analogy_path = joinpath(\"data\", \"analogies-en.txt\")"
   ]
  },
  {
   "cell_type": "code",
   "execution_count": 56,
   "metadata": {
    "ExecuteTime": {
     "end_time": "2020-03-12T16:24:47.029145Z",
     "start_time": "2020-03-12T16:24:47.021590Z"
    }
   },
   "outputs": [
    {
     "data": {
      "text/plain": [
       "format_time (generic function with 1 method)"
      ]
     },
     "execution_count": 56,
     "metadata": {},
     "output_type": "execute_result"
    }
   ],
   "source": [
    "function format_time(t)\n",
    "    m = t ÷ 60\n",
    "    s = t % 60\n",
    "    h = m ÷ 60\n",
    "    m = m % 60\n",
    "    h = length(\"$h\") == 2 ? h : \"0$h\"\n",
    "    m = length(\"$m\") == 2 ? m : \"0$m\"\n",
    "    s = length(\"$s\") == 2 ? s : \"0$s\"\n",
    "    return \"$h:$m:$s\"\n",
    "end"
   ]
  },
  {
   "cell_type": "markdown",
   "metadata": {
    "slideshow": {
     "slide_type": "slide"
    }
   },
   "source": [
    "## Model Configuration"
   ]
  },
  {
   "cell_type": "code",
   "execution_count": 57,
   "metadata": {
    "ExecuteTime": {
     "end_time": "2020-03-12T16:24:47.037026Z",
     "start_time": "2020-03-12T16:24:47.030190Z"
    },
    "slideshow": {
     "slide_type": "fragment"
    }
   },
   "outputs": [],
   "source": [
    "gensim_path = joinpath(news_path, \"gensim\")\n",
    "if !(isdir(gensim_path))\n",
    "    mkpath(gensim_path)\n",
    "end"
   ]
  },
  {
   "cell_type": "code",
   "execution_count": 58,
   "metadata": {
    "ExecuteTime": {
     "end_time": "2020-03-12T16:24:47.044855Z",
     "start_time": "2020-03-12T16:24:47.037826Z"
    },
    "slideshow": {
     "slide_type": "fragment"
    }
   },
   "outputs": [
    {
     "data": {
      "text/plain": [
       "1"
      ]
     },
     "execution_count": 58,
     "metadata": {},
     "output_type": "execute_result"
    }
   ],
   "source": [
    "NGRAMS = 3           # Longest ngram in text\n",
    "MIN_FREQ = 100\n",
    "WINDOW_SIZE = 5\n",
    "EMBEDDING_SIZE = 300\n",
    "NEGATIVE_SAMPLES = 20\n",
    "EPOCHS = 1"
   ]
  },
  {
   "cell_type": "code",
   "execution_count": 59,
   "metadata": {
    "ExecuteTime": {
     "end_time": "2020-03-12T16:24:47.057906Z",
     "start_time": "2020-03-12T16:24:47.045654Z"
    }
   },
   "outputs": [
    {
     "data": {
      "text/plain": [
       "\"articles_3_grams.txt\""
      ]
     },
     "execution_count": 59,
     "metadata": {},
     "output_type": "execute_result"
    }
   ],
   "source": [
    "FILE_NAME = \"articles_$(NGRAMS)_grams.txt\""
   ]
  },
  {
   "cell_type": "markdown",
   "metadata": {
    "slideshow": {
     "slide_type": "slide"
    }
   },
   "source": [
    "## Sentence Generator"
   ]
  },
  {
   "cell_type": "code",
   "execution_count": 60,
   "metadata": {
    "ExecuteTime": {
     "end_time": "2020-03-12T16:24:47.065931Z",
     "start_time": "2020-03-12T16:24:47.059226Z"
    },
    "slideshow": {
     "slide_type": "fragment"
    }
   },
   "outputs": [
    {
     "data": {
      "text/plain": [
       "PyObject <gensim.models.word2vec.LineSentence object at 0x0000000083D7DF10>"
      ]
     },
     "execution_count": 60,
     "metadata": {},
     "output_type": "execute_result"
    }
   ],
   "source": [
    "sentence_path = joinpath(data_path, FILE_NAME)\n",
    "sentences = LineSentence(sentence_path)"
   ]
  },
  {
   "cell_type": "markdown",
   "metadata": {
    "slideshow": {
     "slide_type": "slide"
    }
   },
   "source": [
    "## Train word2vec Model"
   ]
  },
  {
   "cell_type": "code",
   "execution_count": 61,
   "metadata": {
    "ExecuteTime": {
     "end_time": "2020-03-12T16:27:06.683093Z",
     "start_time": "2020-03-12T16:24:47.067180Z"
    },
    "slideshow": {
     "slide_type": "fragment"
    }
   },
   "outputs": [
    {
     "name": "stdout",
     "output_type": "stream",
     "text": [
      "Duration: 00:01:21\n"
     ]
    }
   ],
   "source": [
    "start_time = time()\n",
    "model = Word2Vec(sentences, \n",
    "                 sg=1, # set to 1 for skipgram; CBOW otherwise\n",
    "                 vector_size=EMBEDDING_SIZE, \n",
    "                 window=WINDOW_SIZE,\n",
    "                 min_count=MIN_FREQ, \n",
    "                 negative=NEGATIVE_SAMPLES, \n",
    "                 workers=8,\n",
    "                 epochs=EPOCHS, \n",
    "                 alpha=0.05)\n",
    "\n",
    "# persist model\n",
    "model.save(joinpath(gensim_path, \"word2vec.model\"))\n",
    "\n",
    "# persist word vectors\n",
    "model.wv.save(joinpath(gensim_path, \"word_vectors.bin\"))\n",
    "\n",
    "end_time = time()\n",
    "println(\"Duration: \", format_time(floor(Int64, end_time - start_time)))"
   ]
  },
  {
   "cell_type": "markdown",
   "metadata": {
    "slideshow": {
     "slide_type": "fragment"
    }
   },
   "source": [
    "## Evaluate results"
   ]
  },
  {
   "cell_type": "code",
   "execution_count": 62,
   "metadata": {
    "ExecuteTime": {
     "end_time": "2020-03-12T17:11:47.165473Z",
     "start_time": "2020-03-12T17:11:47.162569Z"
    }
   },
   "outputs": [
    {
     "data": {
      "text/plain": [
       "Dict{String, String} with 15 entries:\n",
       "  \"capital-common-countries\"    => \"Capitals\"\n",
       "  \"gram5-present-participle\"    => \"Pres. Part.\"\n",
       "  \"family\"                      => \"Famliy\"\n",
       "  \"gram7-past-tense\"            => \"Past Tense\"\n",
       "  \"gram8-plural\"                => \"Plural\"\n",
       "  \"gram2-opposite\"              => \"Opposite\"\n",
       "  \"total\"                       => \"Total\"\n",
       "  \"city-in-state\"               => \"City-State\"\n",
       "  \"gram3-comparative\"           => \"Comparative\"\n",
       "  \"gram1-adjective-to-adverb\"   => \"Adj-Adverb\"\n",
       "  \"gram4-superlative\"           => \"Superlative\"\n",
       "  \"gram6-nationality-adjective\" => \"Nationality\"\n",
       "  \"currency\"                    => \"Currency\"\n",
       "  \"capital-world\"               => \"Capitals RoW\"\n",
       "  \"gram9-plural-verbs\"          => \"Plural Verbs\""
      ]
     },
     "execution_count": 62,
     "metadata": {},
     "output_type": "execute_result"
    }
   ],
   "source": [
    "cat_dict = Dict(\"capital-common-countries\" => \"Capitals\",\n",
    "            \"capital-world\" => \"Capitals RoW\",\n",
    "            \"city-in-state\" => \"City-State\",\n",
    "            \"currency\" => \"Currency\",\n",
    "            \"family\" => \"Famliy\",\n",
    "            \"gram1-adjective-to-adverb\" => \"Adj-Adverb\",\n",
    "            \"gram2-opposite\" => \"Opposite\",\n",
    "            \"gram3-comparative\" => \"Comparative\",\n",
    "            \"gram4-superlative\" => \"Superlative\",\n",
    "            \"gram5-present-participle\" => \"Pres. Part.\",\n",
    "            \"gram6-nationality-adjective\" => \"Nationality\",\n",
    "            \"gram7-past-tense\" => \"Past Tense\",\n",
    "            \"gram8-plural\" => \"Plural\",\n",
    "            \"gram9-plural-verbs\" => \"Plural Verbs\",\n",
    "            \"total\" => \"Total\")"
   ]
  },
  {
   "cell_type": "code",
   "execution_count": 63,
   "metadata": {
    "ExecuteTime": {
     "end_time": "2020-03-12T16:27:06.690869Z",
     "start_time": "2020-03-12T16:27:06.685277Z"
    },
    "slideshow": {
     "slide_type": "fragment"
    }
   },
   "outputs": [
    {
     "data": {
      "text/plain": [
       "accuracy_by_category (generic function with 1 method)"
      ]
     },
     "execution_count": 63,
     "metadata": {},
     "output_type": "execute_result"
    }
   ],
   "source": [
    "function accuracy_by_category(acc; detail=true)\n",
    "    results = [[c[\"section\"], length(c[\"correct\"]), length(c[\"incorrect\"])] for c ∈ acc]\n",
    "    results = DataFrame(category=[result[1] for result in results], \n",
    "                        correct=[result[2] for result ∈ results], \n",
    "                        incorrect=[result[3] for result ∈ results])\n",
    "            \n",
    "    results[!, \"average\"] = results.correct./sum.(eachrow(results[:, [\"correct\", \"incorrect\"]]))\n",
    "    if detail\n",
    "        println(sort(results, :average, rev=true))\n",
    "    end\n",
    "    return convert(Array, filter(:category => ==(\"Total accuracy\"), results))[2:end]\n",
    "end"
   ]
  },
  {
   "cell_type": "code",
   "execution_count": 64,
   "metadata": {
    "ExecuteTime": {
     "end_time": "2020-03-12T17:12:43.211614Z",
     "start_time": "2020-03-12T17:12:25.218075Z"
    }
   },
   "outputs": [
    {
     "data": {
      "text/plain": [
       "15-element Vector{Dict{Any, Any}}:\n",
       " Dict(\"incorrect\" => [(\"BAGHDAD\", \"IRAQ\", \"BANGKOK\", \"THAILAND\"), (\"BAGHDAD\", \"IRAQ\", \"BEIJING\", \"CHINA\"), (\"BAGHDAD\", \"IRAQ\", \"CAIRO\", \"EGYPT\"), (\"BAGHDAD\", \"IRAQ\", \"HAVANA\", \"CUBA\"), (\"BAGHDAD\", \"IRAQ\", \"ISLAMABAD\", \"PAKISTAN\"), (\"BAGHDAD\", \"IRAQ\", \"KABUL\", \"AFGHANISTAN\"), (\"BAGHDAD\", \"IRAQ\", \"LONDON\", \"ENGLAND\"), (\"BAGHDAD\", \"IRAQ\", \"MADRID\", \"SPAIN\"), (\"BAGHDAD\", \"IRAQ\", \"MOSCOW\", \"RUSSIA\"), (\"BAGHDAD\", \"IRAQ\", \"OTTAWA\", \"CANADA\")  …  (\"TOKYO\", \"JAPAN\", \"BERLIN\", \"GERMANY\"), (\"TOKYO\", \"JAPAN\", \"CAIRO\", \"EGYPT\"), (\"TOKYO\", \"JAPAN\", \"KABUL\", \"AFGHANISTAN\"), (\"TOKYO\", \"JAPAN\", \"LONDON\", \"ENGLAND\"), (\"TOKYO\", \"JAPAN\", \"MADRID\", \"SPAIN\"), (\"TOKYO\", \"JAPAN\", \"MOSCOW\", \"RUSSIA\"), (\"TOKYO\", \"JAPAN\", \"OTTAWA\", \"CANADA\"), (\"TOKYO\", \"JAPAN\", \"PARIS\", \"FRANCE\"), (\"TOKYO\", \"JAPAN\", \"ROME\", \"ITALY\"), (\"TOKYO\", \"JAPAN\", \"TEHRAN\", \"IRAN\")], \"correct\" => [(\"BAGHDAD\", \"IRAQ\", \"BERLIN\", \"GERMANY\"), (\"BAGHDAD\", \"IRAQ\", \"OSLO\", \"NORWAY\"), (\"BANGKOK\", \"THAILAND\", \"BERLIN\", \"GERMANY\"), (\"BANGKOK\", \"THAILAND\", \"HAVANA\", \"CUBA\"), (\"BANGKOK\", \"THAILAND\", \"ISLAMABAD\", \"PAKISTAN\"), (\"BANGKOK\", \"THAILAND\", \"OSLO\", \"NORWAY\"), (\"BEIJING\", \"CHINA\", \"BERLIN\", \"GERMANY\"), (\"BEIJING\", \"CHINA\", \"HAVANA\", \"CUBA\"), (\"BEIJING\", \"CHINA\", \"ROME\", \"ITALY\"), (\"BERLIN\", \"GERMANY\", \"BEIJING\", \"CHINA\")  …  (\"PARIS\", \"FRANCE\", \"OSLO\", \"NORWAY\"), (\"ROME\", \"ITALY\", \"BEIJING\", \"CHINA\"), (\"ROME\", \"ITALY\", \"BERLIN\", \"GERMANY\"), (\"ROME\", \"ITALY\", \"HAVANA\", \"CUBA\"), (\"ROME\", \"ITALY\", \"OSLO\", \"NORWAY\"), (\"TEHRAN\", \"IRAN\", \"OSLO\", \"NORWAY\"), (\"TOKYO\", \"JAPAN\", \"BEIJING\", \"CHINA\"), (\"TOKYO\", \"JAPAN\", \"HAVANA\", \"CUBA\"), (\"TOKYO\", \"JAPAN\", \"ISLAMABAD\", \"PAKISTAN\"), (\"TOKYO\", \"JAPAN\", \"OSLO\", \"NORWAY\")], \"section\" => \"capital-common-countries\")\n",
       " Dict(\"incorrect\" => [(\"ANKARA\", \"TURKEY\", \"BEIRUT\", \"LEBANON\"), (\"ANKARA\", \"TURKEY\", \"BRUSSELS\", \"BELGIUM\"), (\"ANKARA\", \"TURKEY\", \"DAMASCUS\", \"SYRIA\"), (\"ANKARA\", \"TURKEY\", \"DUBLIN\", \"IRELAND\"), (\"ANKARA\", \"TURKEY\", \"JAKARTA\", \"INDONESIA\"), (\"ANKARA\", \"TURKEY\", \"LIMA\", \"PERU\"), (\"ANKARA\", \"TURKEY\", \"MANILA\", \"PHILIPPINES\"), (\"ANKARA\", \"TURKEY\", \"WARSAW\", \"POLAND\"), (\"BEIRUT\", \"LEBANON\", \"ANKARA\", \"TURKEY\"), (\"BEIRUT\", \"LEBANON\", \"BRUSSELS\", \"BELGIUM\")  …  (\"MANILA\", \"PHILIPPINES\", \"LIMA\", \"PERU\"), (\"WARSAW\", \"POLAND\", \"ANKARA\", \"TURKEY\"), (\"WARSAW\", \"POLAND\", \"BEIRUT\", \"LEBANON\"), (\"WARSAW\", \"POLAND\", \"BRUSSELS\", \"BELGIUM\"), (\"WARSAW\", \"POLAND\", \"CARACAS\", \"VENEZUELA\"), (\"WARSAW\", \"POLAND\", \"DAMASCUS\", \"SYRIA\"), (\"WARSAW\", \"POLAND\", \"DUBLIN\", \"IRELAND\"), (\"WARSAW\", \"POLAND\", \"JAKARTA\", \"INDONESIA\"), (\"WARSAW\", \"POLAND\", \"KHARTOUM\", \"SUDAN\"), (\"WARSAW\", \"POLAND\", \"MANILA\", \"PHILIPPINES\")], \"correct\" => [(\"ANKARA\", \"TURKEY\", \"CARACAS\", \"VENEZUELA\"), (\"ANKARA\", \"TURKEY\", \"HARARE\", \"ZIMBABWE\"), (\"ANKARA\", \"TURKEY\", \"KHARTOUM\", \"SUDAN\"), (\"BEIRUT\", \"LEBANON\", \"HARARE\", \"ZIMBABWE\"), (\"BEIRUT\", \"LEBANON\", \"KHARTOUM\", \"SUDAN\"), (\"BEIRUT\", \"LEBANON\", \"LIMA\", \"PERU\"), (\"BEIRUT\", \"LEBANON\", \"MANILA\", \"PHILIPPINES\"), (\"BRUSSELS\", \"BELGIUM\", \"HARARE\", \"ZIMBABWE\"), (\"CARACAS\", \"VENEZUELA\", \"HARARE\", \"ZIMBABWE\"), (\"CARACAS\", \"VENEZUELA\", \"KHARTOUM\", \"SUDAN\")  …  (\"KHARTOUM\", \"SUDAN\", \"LIMA\", \"PERU\"), (\"LIMA\", \"PERU\", \"CARACAS\", \"VENEZUELA\"), (\"LIMA\", \"PERU\", \"HARARE\", \"ZIMBABWE\"), (\"MANILA\", \"PHILIPPINES\", \"BEIRUT\", \"LEBANON\"), (\"MANILA\", \"PHILIPPINES\", \"HARARE\", \"ZIMBABWE\"), (\"MANILA\", \"PHILIPPINES\", \"JAKARTA\", \"INDONESIA\"), (\"MANILA\", \"PHILIPPINES\", \"KHARTOUM\", \"SUDAN\"), (\"MANILA\", \"PHILIPPINES\", \"WARSAW\", \"POLAND\"), (\"WARSAW\", \"POLAND\", \"HARARE\", \"ZIMBABWE\"), (\"WARSAW\", \"POLAND\", \"LIMA\", \"PERU\")], \"section\" => \"capital-world\")\n",
       " Dict(\"incorrect\" => [(\"CHICAGO\", \"ILLINOIS\", \"HOUSTON\", \"TEXAS\"), (\"CHICAGO\", \"ILLINOIS\", \"PHILADELPHIA\", \"PENNSYLVANIA\"), (\"CHICAGO\", \"ILLINOIS\", \"PHOENIX\", \"ARIZONA\"), (\"CHICAGO\", \"ILLINOIS\", \"DALLAS\", \"TEXAS\"), (\"CHICAGO\", \"ILLINOIS\", \"AUSTIN\", \"TEXAS\"), (\"CHICAGO\", \"ILLINOIS\", \"DETROIT\", \"MICHIGAN\"), (\"CHICAGO\", \"ILLINOIS\", \"BOSTON\", \"MASSACHUSETTS\"), (\"CHICAGO\", \"ILLINOIS\", \"SEATTLE\", \"WASHINGTON\"), (\"CHICAGO\", \"ILLINOIS\", \"DENVER\", \"COLORADO\"), (\"CHICAGO\", \"ILLINOIS\", \"NASHVILLE\", \"TENNESSEE\")  …  (\"MADISON\", \"WISCONSIN\", \"DETROIT\", \"MICHIGAN\"), (\"MADISON\", \"WISCONSIN\", \"BOSTON\", \"MASSACHUSETTS\"), (\"MADISON\", \"WISCONSIN\", \"SEATTLE\", \"WASHINGTON\"), (\"MADISON\", \"WISCONSIN\", \"DENVER\", \"COLORADO\"), (\"MADISON\", \"WISCONSIN\", \"NASHVILLE\", \"TENNESSEE\"), (\"MADISON\", \"WISCONSIN\", \"ATLANTA\", \"GEORGIA\"), (\"MADISON\", \"WISCONSIN\", \"CLEVELAND\", \"OHIO\"), (\"MADISON\", \"WISCONSIN\", \"PITTSBURGH\", \"PENNSYLVANIA\"), (\"MADISON\", \"WISCONSIN\", \"CINCINNATI\", \"OHIO\"), (\"MADISON\", \"WISCONSIN\", \"HENDERSON\", \"NEVADA\")], \"correct\" => [(\"CHICAGO\", \"ILLINOIS\", \"INDIANAPOLIS\", \"INDIANA\"), (\"CHICAGO\", \"ILLINOIS\", \"MILWAUKEE\", \"WISCONSIN\"), (\"CHICAGO\", \"ILLINOIS\", \"PORTLAND\", \"OREGON\"), (\"CHICAGO\", \"ILLINOIS\", \"ATLANTA\", \"GEORGIA\"), (\"CHICAGO\", \"ILLINOIS\", \"OMAHA\", \"NEBRASKA\"), (\"HOUSTON\", \"TEXAS\", \"PHOENIX\", \"ARIZONA\"), (\"HOUSTON\", \"TEXAS\", \"INDIANAPOLIS\", \"INDIANA\"), (\"HOUSTON\", \"TEXAS\", \"NASHVILLE\", \"TENNESSEE\"), (\"HOUSTON\", \"TEXAS\", \"PORTLAND\", \"OREGON\"), (\"HOUSTON\", \"TEXAS\", \"OMAHA\", \"NEBRASKA\")  …  (\"ORLANDO\", \"FLORIDA\", \"PORTLAND\", \"OREGON\"), (\"ORLANDO\", \"FLORIDA\", \"ATLANTA\", \"GEORGIA\"), (\"ORLANDO\", \"FLORIDA\", \"OMAHA\", \"NEBRASKA\"), (\"MADISON\", \"WISCONSIN\", \"PHOENIX\", \"ARIZONA\"), (\"MADISON\", \"WISCONSIN\", \"PORTLAND\", \"OREGON\"), (\"MADISON\", \"WISCONSIN\", \"OMAHA\", \"NEBRASKA\"), (\"MADISON\", \"WISCONSIN\", \"MIAMI\", \"FLORIDA\"), (\"MADISON\", \"WISCONSIN\", \"MINNEAPOLIS\", \"MINNESOTA\"), (\"MADISON\", \"WISCONSIN\", \"TAMPA\", \"FLORIDA\"), (\"MADISON\", \"WISCONSIN\", \"ORLANDO\", \"FLORIDA\")], \"section\" => \"city-in-state\")\n",
       " Dict(\"incorrect\" => [(\"ARGENTINA\", \"PESO\", \"BRAZIL\", \"REAL\"), (\"ARGENTINA\", \"PESO\", \"CANADA\", \"DOLLAR\"), (\"ARGENTINA\", \"PESO\", \"EUROPE\", \"EURO\"), (\"ARGENTINA\", \"PESO\", \"INDIA\", \"RUPEE\"), (\"ARGENTINA\", \"PESO\", \"JAPAN\", \"YEN\"), (\"ARGENTINA\", \"PESO\", \"KOREA\", \"WON\"), (\"ARGENTINA\", \"PESO\", \"USA\", \"DOLLAR\"), (\"BRAZIL\", \"REAL\", \"ARGENTINA\", \"PESO\"), (\"BRAZIL\", \"REAL\", \"CANADA\", \"DOLLAR\"), (\"BRAZIL\", \"REAL\", \"EUROPE\", \"EURO\")  …  (\"MEXICO\", \"PESO\", \"INDIA\", \"RUPEE\"), (\"MEXICO\", \"PESO\", \"JAPAN\", \"YEN\"), (\"MEXICO\", \"PESO\", \"KOREA\", \"WON\"), (\"MEXICO\", \"PESO\", \"USA\", \"DOLLAR\"), (\"USA\", \"DOLLAR\", \"ARGENTINA\", \"PESO\"), (\"USA\", \"DOLLAR\", \"BRAZIL\", \"REAL\"), (\"USA\", \"DOLLAR\", \"EUROPE\", \"EURO\"), (\"USA\", \"DOLLAR\", \"JAPAN\", \"YEN\"), (\"USA\", \"DOLLAR\", \"KOREA\", \"WON\"), (\"USA\", \"DOLLAR\", \"MEXICO\", \"PESO\")], \"correct\" => [(\"INDIA\", \"RUPEE\", \"MEXICO\", \"PESO\"), (\"USA\", \"DOLLAR\", \"INDIA\", \"RUPEE\")], \"section\" => \"currency\")\n",
       " Dict(\"incorrect\" => [(\"BROTHER\", \"SISTER\", \"FATHER\", \"MOTHER\"), (\"BROTHER\", \"SISTER\", \"HE\", \"SHE\"), (\"BROTHER\", \"SISTER\", \"HUSBAND\", \"WIFE\"), (\"BROTHER\", \"SISTER\", \"KING\", \"QUEEN\"), (\"BROTHER\", \"SISTER\", \"MAN\", \"WOMAN\"), (\"BROTHER\", \"SISTER\", \"SON\", \"DAUGHTER\"), (\"FATHER\", \"MOTHER\", \"BROTHER\", \"SISTER\"), (\"FATHER\", \"MOTHER\", \"HE\", \"SHE\"), (\"FATHER\", \"MOTHER\", \"HUSBAND\", \"WIFE\"), (\"FATHER\", \"MOTHER\", \"KING\", \"QUEEN\")  …  (\"MAN\", \"WOMAN\", \"HE\", \"SHE\"), (\"MAN\", \"WOMAN\", \"HUSBAND\", \"WIFE\"), (\"MAN\", \"WOMAN\", \"KING\", \"QUEEN\"), (\"MAN\", \"WOMAN\", \"SON\", \"DAUGHTER\"), (\"SON\", \"DAUGHTER\", \"BROTHER\", \"SISTER\"), (\"SON\", \"DAUGHTER\", \"FATHER\", \"MOTHER\"), (\"SON\", \"DAUGHTER\", \"HE\", \"SHE\"), (\"SON\", \"DAUGHTER\", \"HUSBAND\", \"WIFE\"), (\"SON\", \"DAUGHTER\", \"KING\", \"QUEEN\"), (\"SON\", \"DAUGHTER\", \"MAN\", \"WOMAN\")], \"correct\" => [(\"HE\", \"SHE\", \"FATHER\", \"MOTHER\"), (\"HUSBAND\", \"WIFE\", \"FATHER\", \"MOTHER\"), (\"MAN\", \"WOMAN\", \"FATHER\", \"MOTHER\")], \"section\" => \"family\")\n",
       " Dict(\"incorrect\" => [(\"APPARENT\", \"APPARENTLY\", \"COMPLETE\", \"COMPLETELY\"), (\"APPARENT\", \"APPARENTLY\", \"EFFICIENT\", \"EFFICIENTLY\"), (\"APPARENT\", \"APPARENTLY\", \"IMMEDIATE\", \"IMMEDIATELY\"), (\"APPARENT\", \"APPARENTLY\", \"OBVIOUS\", \"OBVIOUSLY\"), (\"APPARENT\", \"APPARENTLY\", \"POSSIBLE\", \"POSSIBLY\"), (\"APPARENT\", \"APPARENTLY\", \"QUICK\", \"QUICKLY\"), (\"APPARENT\", \"APPARENTLY\", \"RAPID\", \"RAPIDLY\"), (\"APPARENT\", \"APPARENTLY\", \"RARE\", \"RARELY\"), (\"APPARENT\", \"APPARENTLY\", \"SAFE\", \"SAFELY\"), (\"APPARENT\", \"APPARENTLY\", \"SERIOUS\", \"SERIOUSLY\")  …  (\"USUAL\", \"USUALLY\", \"OBVIOUS\", \"OBVIOUSLY\"), (\"USUAL\", \"USUALLY\", \"POSSIBLE\", \"POSSIBLY\"), (\"USUAL\", \"USUALLY\", \"QUICK\", \"QUICKLY\"), (\"USUAL\", \"USUALLY\", \"RAPID\", \"RAPIDLY\"), (\"USUAL\", \"USUALLY\", \"RARE\", \"RARELY\"), (\"USUAL\", \"USUALLY\", \"SAFE\", \"SAFELY\"), (\"USUAL\", \"USUALLY\", \"SERIOUS\", \"SERIOUSLY\"), (\"USUAL\", \"USUALLY\", \"SLOW\", \"SLOWLY\"), (\"USUAL\", \"USUALLY\", \"SUDDEN\", \"SUDDENLY\"), (\"USUAL\", \"USUALLY\", \"TYPICAL\", \"TYPICALLY\")], \"correct\" => [(\"QUICK\", \"QUICKLY\", \"SLOW\", \"SLOWLY\")], \"section\" => \"gram1-adjective-to-adverb\")\n",
       " Dict(\"incorrect\" => [(\"ACCEPTABLE\", \"UNACCEPTABLE\", \"CERTAIN\", \"UNCERTAIN\"), (\"ACCEPTABLE\", \"UNACCEPTABLE\", \"CLEAR\", \"UNCLEAR\"), (\"ACCEPTABLE\", \"UNACCEPTABLE\", \"COMFORTABLE\", \"UNCOMFORTABLE\"), (\"ACCEPTABLE\", \"UNACCEPTABLE\", \"KNOWN\", \"UNKNOWN\"), (\"ACCEPTABLE\", \"UNACCEPTABLE\", \"LIKELY\", \"UNLIKELY\"), (\"ACCEPTABLE\", \"UNACCEPTABLE\", \"POSSIBLE\", \"IMPOSSIBLE\"), (\"CERTAIN\", \"UNCERTAIN\", \"ACCEPTABLE\", \"UNACCEPTABLE\"), (\"CERTAIN\", \"UNCERTAIN\", \"CLEAR\", \"UNCLEAR\"), (\"CERTAIN\", \"UNCERTAIN\", \"COMFORTABLE\", \"UNCOMFORTABLE\"), (\"CERTAIN\", \"UNCERTAIN\", \"KNOWN\", \"UNKNOWN\")  …  (\"LIKELY\", \"UNLIKELY\", \"ACCEPTABLE\", \"UNACCEPTABLE\"), (\"LIKELY\", \"UNLIKELY\", \"CERTAIN\", \"UNCERTAIN\"), (\"LIKELY\", \"UNLIKELY\", \"CLEAR\", \"UNCLEAR\"), (\"LIKELY\", \"UNLIKELY\", \"KNOWN\", \"UNKNOWN\"), (\"LIKELY\", \"UNLIKELY\", \"POSSIBLE\", \"IMPOSSIBLE\"), (\"POSSIBLE\", \"IMPOSSIBLE\", \"ACCEPTABLE\", \"UNACCEPTABLE\"), (\"POSSIBLE\", \"IMPOSSIBLE\", \"CERTAIN\", \"UNCERTAIN\"), (\"POSSIBLE\", \"IMPOSSIBLE\", \"CLEAR\", \"UNCLEAR\"), (\"POSSIBLE\", \"IMPOSSIBLE\", \"COMFORTABLE\", \"UNCOMFORTABLE\"), (\"POSSIBLE\", \"IMPOSSIBLE\", \"LIKELY\", \"UNLIKELY\")], \"correct\" => [(\"CLEAR\", \"UNCLEAR\", \"KNOWN\", \"UNKNOWN\"), (\"COMFORTABLE\", \"UNCOMFORTABLE\", \"KNOWN\", \"UNKNOWN\"), (\"LIKELY\", \"UNLIKELY\", \"COMFORTABLE\", \"UNCOMFORTABLE\"), (\"POSSIBLE\", \"IMPOSSIBLE\", \"KNOWN\", \"UNKNOWN\")], \"section\" => \"gram2-opposite\")\n",
       " Dict(\"incorrect\" => [(\"BAD\", \"WORSE\", \"BIG\", \"BIGGER\"), (\"BAD\", \"WORSE\", \"CHEAP\", \"CHEAPER\"), (\"BAD\", \"WORSE\", \"DEEP\", \"DEEPER\"), (\"BAD\", \"WORSE\", \"EASY\", \"EASIER\"), (\"BAD\", \"WORSE\", \"FAST\", \"FASTER\"), (\"BAD\", \"WORSE\", \"GOOD\", \"BETTER\"), (\"BAD\", \"WORSE\", \"GREAT\", \"GREATER\"), (\"BAD\", \"WORSE\", \"HARD\", \"HARDER\"), (\"BAD\", \"WORSE\", \"HIGH\", \"HIGHER\"), (\"BAD\", \"WORSE\", \"LARGE\", \"LARGER\")  …  (\"YOUNG\", \"YOUNGER\", \"OLD\", \"OLDER\"), (\"YOUNG\", \"YOUNGER\", \"SAFE\", \"SAFER\"), (\"YOUNG\", \"YOUNGER\", \"SHORT\", \"SHORTER\"), (\"YOUNG\", \"YOUNGER\", \"SLOW\", \"SLOWER\"), (\"YOUNG\", \"YOUNGER\", \"SMALL\", \"SMALLER\"), (\"YOUNG\", \"YOUNGER\", \"STRONG\", \"STRONGER\"), (\"YOUNG\", \"YOUNGER\", \"TIGHT\", \"TIGHTER\"), (\"YOUNG\", \"YOUNGER\", \"TOUGH\", \"TOUGHER\"), (\"YOUNG\", \"YOUNGER\", \"WEAK\", \"WEAKER\"), (\"YOUNG\", \"YOUNGER\", \"WIDE\", \"WIDER\")], \"correct\" => [(\"FAST\", \"FASTER\", \"SLOW\", \"SLOWER\"), (\"LONG\", \"LONGER\", \"TIGHT\", \"TIGHTER\"), (\"LOW\", \"LOWER\", \"HIGH\", \"HIGHER\")], \"section\" => \"gram3-comparative\")\n",
       " Dict(\"incorrect\" => [(\"BAD\", \"WORST\", \"BIG\", \"BIGGEST\"), (\"BAD\", \"WORST\", \"FAST\", \"FASTEST\"), (\"BAD\", \"WORST\", \"GOOD\", \"BEST\"), (\"BAD\", \"WORST\", \"GREAT\", \"GREATEST\"), (\"BAD\", \"WORST\", \"HIGH\", \"HIGHEST\"), (\"BAD\", \"WORST\", \"LARGE\", \"LARGEST\"), (\"BAD\", \"WORST\", \"LONG\", \"LONGEST\"), (\"BAD\", \"WORST\", \"LOW\", \"LOWEST\"), (\"BAD\", \"WORST\", \"OLD\", \"OLDEST\"), (\"BAD\", \"WORST\", \"SMALL\", \"SMALLEST\")  …  (\"YOUNG\", \"YOUNGEST\", \"GOOD\", \"BEST\"), (\"YOUNG\", \"YOUNGEST\", \"GREAT\", \"GREATEST\"), (\"YOUNG\", \"YOUNGEST\", \"HIGH\", \"HIGHEST\"), (\"YOUNG\", \"YOUNGEST\", \"LARGE\", \"LARGEST\"), (\"YOUNG\", \"YOUNGEST\", \"LONG\", \"LONGEST\"), (\"YOUNG\", \"YOUNGEST\", \"LOW\", \"LOWEST\"), (\"YOUNG\", \"YOUNGEST\", \"OLD\", \"OLDEST\"), (\"YOUNG\", \"YOUNGEST\", \"SMALL\", \"SMALLEST\"), (\"YOUNG\", \"YOUNGEST\", \"STRONG\", \"STRONGEST\"), (\"YOUNG\", \"YOUNGEST\", \"WEAK\", \"WEAKEST\")], \"correct\" => [(\"BIG\", \"BIGGEST\", \"LARGE\", \"LARGEST\"), (\"LARGE\", \"LARGEST\", \"WEAK\", \"WEAKEST\"), (\"SMALL\", \"SMALLEST\", \"WEAK\", \"WEAKEST\"), (\"STRONG\", \"STRONGEST\", \"HIGH\", \"HIGHEST\"), (\"WEAK\", \"WEAKEST\", \"SMALL\", \"SMALLEST\")], \"section\" => \"gram4-superlative\")\n",
       " Dict(\"incorrect\" => [(\"CODE\", \"CODING\", \"DISCOVER\", \"DISCOVERING\"), (\"CODE\", \"CODING\", \"ENHANCE\", \"ENHANCING\"), (\"CODE\", \"CODING\", \"FLY\", \"FLYING\"), (\"CODE\", \"CODING\", \"GENERATE\", \"GENERATING\"), (\"CODE\", \"CODING\", \"GO\", \"GOING\"), (\"CODE\", \"CODING\", \"IMPLEMENT\", \"IMPLEMENTING\"), (\"CODE\", \"CODING\", \"INCREASE\", \"INCREASING\"), (\"CODE\", \"CODING\", \"JUMP\", \"JUMPING\"), (\"CODE\", \"CODING\", \"LOOK\", \"LOOKING\"), (\"CODE\", \"CODING\", \"MOVE\", \"MOVING\")  …  (\"WRITE\", \"WRITING\", \"MOVE\", \"MOVING\"), (\"WRITE\", \"WRITING\", \"PLAY\", \"PLAYING\"), (\"WRITE\", \"WRITING\", \"PREDICT\", \"PREDICTING\"), (\"WRITE\", \"WRITING\", \"READ\", \"READING\"), (\"WRITE\", \"WRITING\", \"RUN\", \"RUNNING\"), (\"WRITE\", \"WRITING\", \"SAY\", \"SAYING\"), (\"WRITE\", \"WRITING\", \"SEE\", \"SEEING\"), (\"WRITE\", \"WRITING\", \"SIT\", \"SITTING\"), (\"WRITE\", \"WRITING\", \"SLOW\", \"SLOWING\"), (\"WRITE\", \"WRITING\", \"THINK\", \"THINKING\")], \"correct\" => [(\"INCREASE\", \"INCREASING\", \"FLY\", \"FLYING\"), (\"INCREASE\", \"INCREASING\", \"IMPLEMENT\", \"IMPLEMENTING\"), (\"MOVE\", \"MOVING\", \"IMPLEMENT\", \"IMPLEMENTING\"), (\"SEE\", \"SEEING\", \"IMPLEMENT\", \"IMPLEMENTING\"), (\"SLOW\", \"SLOWING\", \"IMPLEMENT\", \"IMPLEMENTING\")], \"section\" => \"gram5-present-participle\")\n",
       " Dict(\"incorrect\" => [(\"AUSTRALIA\", \"AUSTRALIAN\", \"AUSTRIA\", \"AUSTRIAN\"), (\"AUSTRALIA\", \"AUSTRALIAN\", \"BRAZIL\", \"BRAZILIAN\"), (\"AUSTRALIA\", \"AUSTRALIAN\", \"CHINA\", \"CHINESE\"), (\"AUSTRALIA\", \"AUSTRALIAN\", \"DENMARK\", \"DANISH\"), (\"AUSTRALIA\", \"AUSTRALIAN\", \"EGYPT\", \"EGYPTIAN\"), (\"AUSTRALIA\", \"AUSTRALIAN\", \"ENGLAND\", \"ENGLISH\"), (\"AUSTRALIA\", \"AUSTRALIAN\", \"FRANCE\", \"FRENCH\"), (\"AUSTRALIA\", \"AUSTRALIAN\", \"GERMANY\", \"GERMAN\"), (\"AUSTRALIA\", \"AUSTRALIAN\", \"INDIA\", \"INDIAN\"), (\"AUSTRALIA\", \"AUSTRALIAN\", \"IRELAND\", \"IRISH\")  …  (\"THAILAND\", \"THAI\", \"ITALY\", \"ITALIAN\"), (\"THAILAND\", \"THAI\", \"JAPAN\", \"JAPANESE\"), (\"THAILAND\", \"THAI\", \"KOREA\", \"KOREAN\"), (\"THAILAND\", \"THAI\", \"MEXICO\", \"MEXICAN\"), (\"THAILAND\", \"THAI\", \"NETHERLANDS\", \"DUTCH\"), (\"THAILAND\", \"THAI\", \"NORWAY\", \"NORWEGIAN\"), (\"THAILAND\", \"THAI\", \"POLAND\", \"POLISH\"), (\"THAILAND\", \"THAI\", \"RUSSIA\", \"RUSSIAN\"), (\"THAILAND\", \"THAI\", \"SPAIN\", \"SPANISH\"), (\"THAILAND\", \"THAI\", \"SWITZERLAND\", \"SWISS\")], \"correct\" => [(\"AUSTRALIA\", \"AUSTRALIAN\", \"CAMBODIA\", \"CAMBODIAN\"), (\"AUSTRALIA\", \"AUSTRALIAN\", \"ITALY\", \"ITALIAN\"), (\"AUSTRALIA\", \"AUSTRALIAN\", \"THAILAND\", \"THAI\"), (\"AUSTRIA\", \"AUSTRIAN\", \"AUSTRALIA\", \"AUSTRALIAN\"), (\"AUSTRIA\", \"AUSTRIAN\", \"CAMBODIA\", \"CAMBODIAN\"), (\"AUSTRIA\", \"AUSTRIAN\", \"THAILAND\", \"THAI\"), (\"BRAZIL\", \"BRAZILIAN\", \"THAILAND\", \"THAI\"), (\"CAMBODIA\", \"CAMBODIAN\", \"THAILAND\", \"THAI\"), (\"CHINA\", \"CHINESE\", \"FRANCE\", \"FRENCH\"), (\"EGYPT\", \"EGYPTIAN\", \"THAILAND\", \"THAI\")  …  (\"RUSSIA\", \"RUSSIAN\", \"THAILAND\", \"THAI\"), (\"SPAIN\", \"SPANISH\", \"CAMBODIA\", \"CAMBODIAN\"), (\"SPAIN\", \"SPANISH\", \"EGYPT\", \"EGYPTIAN\"), (\"SPAIN\", \"SPANISH\", \"ITALY\", \"ITALIAN\"), (\"SPAIN\", \"SPANISH\", \"THAILAND\", \"THAI\"), (\"SWITZERLAND\", \"SWISS\", \"CAMBODIA\", \"CAMBODIAN\"), (\"SWITZERLAND\", \"SWISS\", \"EGYPT\", \"EGYPTIAN\"), (\"SWITZERLAND\", \"SWISS\", \"ITALY\", \"ITALIAN\"), (\"SWITZERLAND\", \"SWISS\", \"THAILAND\", \"THAI\"), (\"THAILAND\", \"THAI\", \"CHINA\", \"CHINESE\")], \"section\" => \"gram6-nationality-adjective\")\n",
       " Dict(\"incorrect\" => [(\"DESCRIBING\", \"DESCRIBED\", \"ENHANCING\", \"ENHANCED\"), (\"DESCRIBING\", \"DESCRIBED\", \"FALLING\", \"FELL\"), (\"DESCRIBING\", \"DESCRIBED\", \"GENERATING\", \"GENERATED\"), (\"DESCRIBING\", \"DESCRIBED\", \"GOING\", \"WENT\"), (\"DESCRIBING\", \"DESCRIBED\", \"HITTING\", \"HIT\"), (\"DESCRIBING\", \"DESCRIBED\", \"IMPLEMENTING\", \"IMPLEMENTED\"), (\"DESCRIBING\", \"DESCRIBED\", \"INCREASING\", \"INCREASED\"), (\"DESCRIBING\", \"DESCRIBED\", \"JUMPING\", \"JUMPED\"), (\"DESCRIBING\", \"DESCRIBED\", \"LOOKING\", \"LOOKED\"), (\"DESCRIBING\", \"DESCRIBED\", \"MOVING\", \"MOVED\")  …  (\"WRITING\", \"WROTE\", \"RUNNING\", \"RAN\"), (\"WRITING\", \"WROTE\", \"SAYING\", \"SAID\"), (\"WRITING\", \"WROTE\", \"SEEING\", \"SAW\"), (\"WRITING\", \"WROTE\", \"SELLING\", \"SOLD\"), (\"WRITING\", \"WROTE\", \"SITTING\", \"SAT\"), (\"WRITING\", \"WROTE\", \"SLOWING\", \"SLOWED\"), (\"WRITING\", \"WROTE\", \"SPENDING\", \"SPENT\"), (\"WRITING\", \"WROTE\", \"STRIKING\", \"STRUCK\"), (\"WRITING\", \"WROTE\", \"TAKING\", \"TOOK\"), (\"WRITING\", \"WROTE\", \"THINKING\", \"THOUGHT\")], \"correct\" => Any[], \"section\" => \"gram7-past-tense\")\n",
       " Dict(\"incorrect\" => [(\"BUILDING\", \"BUILDINGS\", \"CAR\", \"CARS\"), (\"BUILDING\", \"BUILDINGS\", \"CHILD\", \"CHILDREN\"), (\"BUILDING\", \"BUILDINGS\", \"COMPUTER\", \"COMPUTERS\"), (\"BUILDING\", \"BUILDINGS\", \"DOG\", \"DOGS\"), (\"BUILDING\", \"BUILDINGS\", \"DOLLAR\", \"DOLLARS\"), (\"BUILDING\", \"BUILDINGS\", \"EYE\", \"EYES\"), (\"BUILDING\", \"BUILDINGS\", \"HAND\", \"HANDS\"), (\"BUILDING\", \"BUILDINGS\", \"MACHINE\", \"MACHINES\"), (\"BUILDING\", \"BUILDINGS\", \"MAN\", \"MEN\"), (\"BUILDING\", \"BUILDINGS\", \"ROAD\", \"ROADS\")  …  (\"WOMAN\", \"WOMEN\", \"CAR\", \"CARS\"), (\"WOMAN\", \"WOMEN\", \"CHILD\", \"CHILDREN\"), (\"WOMAN\", \"WOMEN\", \"COMPUTER\", \"COMPUTERS\"), (\"WOMAN\", \"WOMEN\", \"DOG\", \"DOGS\"), (\"WOMAN\", \"WOMEN\", \"DOLLAR\", \"DOLLARS\"), (\"WOMAN\", \"WOMEN\", \"EYE\", \"EYES\"), (\"WOMAN\", \"WOMEN\", \"HAND\", \"HANDS\"), (\"WOMAN\", \"WOMEN\", \"MACHINE\", \"MACHINES\"), (\"WOMAN\", \"WOMEN\", \"MAN\", \"MEN\"), (\"WOMAN\", \"WOMEN\", \"ROAD\", \"ROADS\")], \"correct\" => Any[], \"section\" => \"gram8-plural\")\n",
       " Dict(\"incorrect\" => [(\"ENHANCE\", \"ENHANCES\", \"ESTIMATE\", \"ESTIMATES\"), (\"ENHANCE\", \"ENHANCES\", \"GENERATE\", \"GENERATES\"), (\"ENHANCE\", \"ENHANCES\", \"GO\", \"GOES\"), (\"ENHANCE\", \"ENHANCES\", \"INCREASE\", \"INCREASES\"), (\"ENHANCE\", \"ENHANCES\", \"PLAY\", \"PLAYS\"), (\"ENHANCE\", \"ENHANCES\", \"PREDICT\", \"PREDICTS\"), (\"ENHANCE\", \"ENHANCES\", \"PROVIDE\", \"PROVIDES\"), (\"ENHANCE\", \"ENHANCES\", \"SAY\", \"SAYS\"), (\"ENHANCE\", \"ENHANCES\", \"SEE\", \"SEES\"), (\"ENHANCE\", \"ENHANCES\", \"SIT\", \"SITS\")  …  (\"WRITE\", \"WRITES\", \"PREDICT\", \"PREDICTS\"), (\"WRITE\", \"WRITES\", \"PROVIDE\", \"PROVIDES\"), (\"WRITE\", \"WRITES\", \"SAY\", \"SAYS\"), (\"WRITE\", \"WRITES\", \"SEE\", \"SEES\"), (\"WRITE\", \"WRITES\", \"SIT\", \"SITS\"), (\"WRITE\", \"WRITES\", \"SPEAK\", \"SPEAKS\"), (\"WRITE\", \"WRITES\", \"TALK\", \"TALKS\"), (\"WRITE\", \"WRITES\", \"THINK\", \"THINKS\"), (\"WRITE\", \"WRITES\", \"WALK\", \"WALKS\"), (\"WRITE\", \"WRITES\", \"WORK\", \"WORKS\")], \"correct\" => [(\"PREDICT\", \"PREDICTS\", \"THINK\", \"THINKS\"), (\"SIT\", \"SITS\", \"WALK\", \"WALKS\"), (\"TALK\", \"TALKS\", \"WALK\", \"WALKS\")], \"section\" => \"gram9-plural-verbs\")\n",
       " Dict(\"incorrect\" => [(\"BAGHDAD\", \"IRAQ\", \"BANGKOK\", \"THAILAND\"), (\"BAGHDAD\", \"IRAQ\", \"BEIJING\", \"CHINA\"), (\"BAGHDAD\", \"IRAQ\", \"CAIRO\", \"EGYPT\"), (\"BAGHDAD\", \"IRAQ\", \"HAVANA\", \"CUBA\"), (\"BAGHDAD\", \"IRAQ\", \"ISLAMABAD\", \"PAKISTAN\"), (\"BAGHDAD\", \"IRAQ\", \"KABUL\", \"AFGHANISTAN\"), (\"BAGHDAD\", \"IRAQ\", \"LONDON\", \"ENGLAND\"), (\"BAGHDAD\", \"IRAQ\", \"MADRID\", \"SPAIN\"), (\"BAGHDAD\", \"IRAQ\", \"MOSCOW\", \"RUSSIA\"), (\"BAGHDAD\", \"IRAQ\", \"OTTAWA\", \"CANADA\")  …  (\"WRITE\", \"WRITES\", \"PREDICT\", \"PREDICTS\"), (\"WRITE\", \"WRITES\", \"PROVIDE\", \"PROVIDES\"), (\"WRITE\", \"WRITES\", \"SAY\", \"SAYS\"), (\"WRITE\", \"WRITES\", \"SEE\", \"SEES\"), (\"WRITE\", \"WRITES\", \"SIT\", \"SITS\"), (\"WRITE\", \"WRITES\", \"SPEAK\", \"SPEAKS\"), (\"WRITE\", \"WRITES\", \"TALK\", \"TALKS\"), (\"WRITE\", \"WRITES\", \"THINK\", \"THINKS\"), (\"WRITE\", \"WRITES\", \"WALK\", \"WALKS\"), (\"WRITE\", \"WRITES\", \"WORK\", \"WORKS\")], \"correct\" => [(\"BAGHDAD\", \"IRAQ\", \"BERLIN\", \"GERMANY\"), (\"BAGHDAD\", \"IRAQ\", \"OSLO\", \"NORWAY\"), (\"BANGKOK\", \"THAILAND\", \"BERLIN\", \"GERMANY\"), (\"BANGKOK\", \"THAILAND\", \"HAVANA\", \"CUBA\"), (\"BANGKOK\", \"THAILAND\", \"ISLAMABAD\", \"PAKISTAN\"), (\"BANGKOK\", \"THAILAND\", \"OSLO\", \"NORWAY\"), (\"BEIJING\", \"CHINA\", \"BERLIN\", \"GERMANY\"), (\"BEIJING\", \"CHINA\", \"HAVANA\", \"CUBA\"), (\"BEIJING\", \"CHINA\", \"ROME\", \"ITALY\"), (\"BERLIN\", \"GERMANY\", \"BEIJING\", \"CHINA\")  …  (\"SPAIN\", \"SPANISH\", \"ITALY\", \"ITALIAN\"), (\"SPAIN\", \"SPANISH\", \"THAILAND\", \"THAI\"), (\"SWITZERLAND\", \"SWISS\", \"CAMBODIA\", \"CAMBODIAN\"), (\"SWITZERLAND\", \"SWISS\", \"EGYPT\", \"EGYPTIAN\"), (\"SWITZERLAND\", \"SWISS\", \"ITALY\", \"ITALIAN\"), (\"SWITZERLAND\", \"SWISS\", \"THAILAND\", \"THAI\"), (\"THAILAND\", \"THAI\", \"CHINA\", \"CHINESE\"), (\"PREDICT\", \"PREDICTS\", \"THINK\", \"THINKS\"), (\"SIT\", \"SITS\", \"WALK\", \"WALKS\"), (\"TALK\", \"TALKS\", \"WALK\", \"WALKS\")], \"section\" => \"Total accuracy\")"
      ]
     },
     "execution_count": 64,
     "metadata": {},
     "output_type": "execute_result"
    }
   ],
   "source": [
    "# gensim computes accuracy based on source text files\n",
    "detailed_accuracy = model.wv.evaluate_word_analogies(normpath(analogy_path), case_insensitive=true)[2]"
   ]
  },
  {
   "cell_type": "code",
   "execution_count": 65,
   "metadata": {
    "ExecuteTime": {
     "end_time": "2020-03-12T17:12:43.248617Z",
     "start_time": "2020-03-12T17:12:43.212843Z"
    }
   },
   "outputs": [
    {
     "name": "stdout",
     "output_type": "stream",
     "text": [
      "15×4 DataFrame\n",
      "│ Row │ category                    │ correct │ incorrect │ average    │\n",
      "│     │ \u001b[90mString\u001b[39m                      │ \u001b[90mInt64\u001b[39m   │ \u001b[90mInt64\u001b[39m     │ \u001b[90mFloat64\u001b[39m    │\n",
      "├─────┼─────────────────────────────┼─────────┼───────────┼────────────┤\n",
      "│ 1   │ capital-world               │ 36      │ 96        │ 0.272727   │\n",
      "│ 2   │ city-in-state               │ 128     │ 454       │ 0.219931   │\n",
      "│ 3   │ capital-common-countries    │ 58      │ 214       │ 0.213235   │\n",
      "│ 4   │ gram6-nationality-adjective │ 57      │ 495       │ 0.103261   │\n",
      "│ 5   │ gram2-opposite              │ 4       │ 38        │ 0.0952381  │\n",
      "│ 6   │ Total accuracy              │ 305     │ 3803      │ 0.0742454  │\n",
      "│ 7   │ family                      │ 3       │ 39        │ 0.0714286  │\n",
      "│ 8   │ currency                    │ 2       │ 66        │ 0.0294118  │\n",
      "│ 9   │ gram4-superlative           │ 5       │ 177       │ 0.0274725  │\n",
      "│ 10  │ gram5-present-participle    │ 5       │ 415       │ 0.0119048  │\n",
      "│ 11  │ gram9-plural-verbs          │ 3       │ 269       │ 0.0110294  │\n",
      "│ 12  │ gram3-comparative           │ 3       │ 549       │ 0.00543478 │\n",
      "│ 13  │ gram1-adjective-to-adverb   │ 1       │ 209       │ 0.0047619  │\n",
      "│ 14  │ gram7-past-tense            │ 0       │ 650       │ 0.0        │\n",
      "│ 15  │ gram8-plural                │ 0       │ 132       │ 0.0        │\n",
      "\n",
      "Base Accuracy: Correct 305 | Wrong 3803 | Avg 0.07424537487828627\n"
     ]
    }
   ],
   "source": [
    "# get accuracy per category\n",
    "summary = accuracy_by_category(detailed_accuracy)\n",
    "println(\"\\nBase Accuracy: Correct $(summary[1]) | Wrong $(summary[2]) | Avg $(summary[3])\")"
   ]
  },
  {
   "cell_type": "code",
   "execution_count": 66,
   "metadata": {
    "ExecuteTime": {
     "end_time": "2020-03-12T16:27:23.477525Z",
     "start_time": "2020-03-12T16:27:23.448875Z"
    },
    "slideshow": {
     "slide_type": "slide"
    }
   },
   "outputs": [
    {
     "data": {
      "text/html": [
       "<table class=\"data-frame\"><thead><tr><th></th><th>token</th><th>similarity</th></tr><tr><th></th><th>String</th><th>Float64</th></tr></thead><tbody><p>20 rows × 2 columns</p><tr><th>1</th><td>larry</td><td>0.373267</td></tr><tr><th>2</th><td>abdullah</td><td>0.364988</td></tr><tr><th>3</th><td>governors</td><td>0.336094</td></tr><tr><th>4</th><td>northeastern</td><td>0.325525</td></tr><tr><th>5</th><td>montana</td><td>0.32498</td></tr><tr><th>6</th><td>colorado</td><td>0.310465</td></tr><tr><th>7</th><td>buddhist</td><td>0.308163</td></tr><tr><th>8</th><td>entrance</td><td>0.307145</td></tr><tr><th>9</th><td>salman</td><td>0.306679</td></tr><tr><th>10</th><td>dad</td><td>0.304086</td></tr><tr><th>11</th><td>bin</td><td>0.30351</td></tr><tr><th>12</th><td>gulf</td><td>0.302332</td></tr><tr><th>13</th><td>counties</td><td>0.299592</td></tr><tr><th>14</th><td>village</td><td>0.299215</td></tr><tr><th>15</th><td>somalia</td><td>0.298179</td></tr><tr><th>16</th><td>ap</td><td>0.297912</td></tr><tr><th>17</th><td>sons</td><td>0.297561</td></tr><tr><th>18</th><td>gathered</td><td>0.296571</td></tr><tr><th>19</th><td>r</td><td>0.296563</td></tr><tr><th>20</th><td>riyadh</td><td>0.295253</td></tr></tbody></table>"
      ],
      "text/latex": [
       "\\begin{tabular}{r|cc}\n",
       "\t& token & similarity\\\\\n",
       "\t\\hline\n",
       "\t& String & Float64\\\\\n",
       "\t\\hline\n",
       "\t1 & larry & 0.373267 \\\\\n",
       "\t2 & abdullah & 0.364988 \\\\\n",
       "\t3 & governors & 0.336094 \\\\\n",
       "\t4 & northeastern & 0.325525 \\\\\n",
       "\t5 & montana & 0.32498 \\\\\n",
       "\t6 & colorado & 0.310465 \\\\\n",
       "\t7 & buddhist & 0.308163 \\\\\n",
       "\t8 & entrance & 0.307145 \\\\\n",
       "\t9 & salman & 0.306679 \\\\\n",
       "\t10 & dad & 0.304086 \\\\\n",
       "\t11 & bin & 0.30351 \\\\\n",
       "\t12 & gulf & 0.302332 \\\\\n",
       "\t13 & counties & 0.299592 \\\\\n",
       "\t14 & village & 0.299215 \\\\\n",
       "\t15 & somalia & 0.298179 \\\\\n",
       "\t16 & ap & 0.297912 \\\\\n",
       "\t17 & sons & 0.297561 \\\\\n",
       "\t18 & gathered & 0.296571 \\\\\n",
       "\t19 & r & 0.296563 \\\\\n",
       "\t20 & riyadh & 0.295253 \\\\\n",
       "\\end{tabular}\n"
      ],
      "text/plain": [
       "20×2 DataFrame\n",
       "│ Row │ token        │ similarity │\n",
       "│     │ \u001b[90mString\u001b[39m       │ \u001b[90mFloat64\u001b[39m    │\n",
       "├─────┼──────────────┼────────────┤\n",
       "│ 1   │ larry        │ 0.373267   │\n",
       "│ 2   │ abdullah     │ 0.364988   │\n",
       "│ 3   │ governors    │ 0.336094   │\n",
       "│ 4   │ northeastern │ 0.325525   │\n",
       "│ 5   │ montana      │ 0.32498    │\n",
       "│ 6   │ colorado     │ 0.310465   │\n",
       "│ 7   │ buddhist     │ 0.308163   │\n",
       "│ 8   │ entrance     │ 0.307145   │\n",
       "│ 9   │ salman       │ 0.306679   │\n",
       "│ 10  │ dad          │ 0.304086   │\n",
       "│ 11  │ bin          │ 0.30351    │\n",
       "│ 12  │ gulf         │ 0.302332   │\n",
       "│ 13  │ counties     │ 0.299592   │\n",
       "│ 14  │ village      │ 0.299215   │\n",
       "│ 15  │ somalia      │ 0.298179   │\n",
       "│ 16  │ ap           │ 0.297912   │\n",
       "│ 17  │ sons         │ 0.297561   │\n",
       "│ 18  │ gathered     │ 0.296571   │\n",
       "│ 19  │ r            │ 0.296563   │\n",
       "│ 20  │ riyadh       │ 0.295253   │"
      ]
     },
     "execution_count": 66,
     "metadata": {},
     "output_type": "execute_result"
    }
   ],
   "source": [
    "most_sim = model.wv.most_similar(positive=[\"woman\", \"king\"], negative=[\"man\"], topn=20)\n",
    "most_sim_df = DataFrame(token=[pair[1] for pair ∈ most_sim], \n",
    "                        similarity=[pair[2] for pair ∈ most_sim])"
   ]
  },
  {
   "cell_type": "code",
   "execution_count": 67,
   "metadata": {
    "ExecuteTime": {
     "end_time": "2020-03-12T16:27:29.792404Z",
     "start_time": "2020-03-12T16:27:23.478917Z"
    }
   },
   "outputs": [
    {
     "data": {
      "text/plain": [
       "43285-element Vector{Pair{Any, Any}}:\n",
       "         \"said\" => 62486\n",
       "      \"company\" => 42908\n",
       "         \"year\" => 31432\n",
       "      \"percent\" => 31189\n",
       "          \"new\" => 30009\n",
       "      \"reuters\" => 29705\n",
       "    \"president\" => 19066\n",
       "       \"market\" => 18433\n",
       "    \"financial\" => 18110\n",
       "     \"business\" => 18043\n",
       "      \"million\" => 17564\n",
       "        \"trump\" => 15805\n",
       "    \"including\" => 14762\n",
       "                ⋮\n",
       "       \"donato\" => 1\n",
       " \"unassumingly\" => 1\n",
       "     \"grieving\" => 1\n",
       "    \"hindrance\" => 1\n",
       "   \"culbertson\" => 1\n",
       "       \"sahara\" => 1\n",
       "  \"calibrating\" => 1\n",
       "    \"socialism\" => 1\n",
       "   \"shortlived\" => 1\n",
       "    \"biovitrum\" => 1\n",
       "    \"punctured\" => 1\n",
       "       \"paltry\" => 1"
      ]
     },
     "execution_count": 67,
     "metadata": {},
     "output_type": "execute_result"
    }
   ],
   "source": [
    "counter = Dict()\n",
    "open(sentence_path, \"r\") do file\n",
    "    for line ∈ readlines(file)\n",
    "        addcounts!(counter, split(line))\n",
    "    end\n",
    "end\n",
    "counter = sort(collect(counter), by=x->x[2], rev=true)"
   ]
  },
  {
   "cell_type": "code",
   "execution_count": 68,
   "metadata": {
    "ExecuteTime": {
     "end_time": "2020-03-12T16:27:29.982268Z",
     "start_time": "2020-03-12T16:27:29.793274Z"
    }
   },
   "outputs": [
    {
     "data": {
      "text/html": [
       "<table class=\"data-frame\"><thead><tr><th></th><th>token</th><th>count</th><th>p</th></tr><tr><th></th><th>SubStri…</th><th>Int64</th><th>Float64</th></tr></thead><tbody><p>7,436 rows × 3 columns</p><tr><th>1</th><td>said</td><td>62486</td><td>0.000252494</td></tr><tr><th>2</th><td>company</td><td>42908</td><td>0.000243899</td></tr><tr><th>3</th><td>year</td><td>31432</td><td>0.000236783</td></tr><tr><th>4</th><td>percent</td><td>31189</td><td>0.000236605</td></tr><tr><th>5</th><td>new</td><td>30009</td><td>0.000235723</td></tr><tr><th>6</th><td>reuters</td><td>29705</td><td>0.000235491</td></tr><tr><th>7</th><td>president</td><td>19066</td><td>0.000225352</td></tr><tr><th>8</th><td>market</td><td>18433</td><td>0.00022458</td></tr><tr><th>9</th><td>financial</td><td>18110</td><td>0.000224176</td></tr><tr><th>10</th><td>business</td><td>18043</td><td>0.000224091</td></tr><tr><th>11</th><td>million</td><td>17564</td><td>0.000223476</td></tr><tr><th>12</th><td>trump</td><td>15805</td><td>0.000221063</td></tr><tr><th>13</th><td>including</td><td>14762</td><td>0.000219502</td></tr><tr><th>14</th><td>statements</td><td>13948</td><td>0.000218205</td></tr><tr><th>15</th><td>time</td><td>13882</td><td>0.000218097</td></tr><tr><th>16</th><td>billion</td><td>13472</td><td>0.000217411</td></tr><tr><th>17</th><td>inc</td><td>13117</td><td>0.0002168</td></tr><tr><th>18</th><td>source</td><td>12882</td><td>0.000216387</td></tr><tr><th>19</th><td>jan</td><td>12427</td><td>0.000215565</td></tr><tr><th>20</th><td>ago</td><td>12349</td><td>0.000215421</td></tr><tr><th>21</th><td>years</td><td>12057</td><td>0.000214874</td></tr><tr><th>22</th><td>people</td><td>12001</td><td>0.000214767</td></tr><tr><th>23</th><td>services</td><td>11745</td><td>0.000214274</td></tr><tr><th>24</th><td>tax</td><td>11696</td><td>0.000214179</td></tr><tr><th>25</th><td>government</td><td>11633</td><td>0.000214055</td></tr><tr><th>26</th><td>forward</td><td>11629</td><td>0.000214047</td></tr><tr><th>27</th><td>looking</td><td>11485</td><td>0.000213762</td></tr><tr><th>28</th><td>growth</td><td>11342</td><td>0.000213476</td></tr><tr><th>29</th><td>group</td><td>11194</td><td>0.000213176</td></tr><tr><th>30</th><td>companies</td><td>11108</td><td>0.000212999</td></tr><tr><th>&vellip;</th><td>&vellip;</td><td>&vellip;</td><td>&vellip;</td></tr></tbody></table>"
      ],
      "text/latex": [
       "\\begin{tabular}{r|ccc}\n",
       "\t& token & count & p\\\\\n",
       "\t\\hline\n",
       "\t& SubStri… & Int64 & Float64\\\\\n",
       "\t\\hline\n",
       "\t1 & said & 62486 & 0.000252494 \\\\\n",
       "\t2 & company & 42908 & 0.000243899 \\\\\n",
       "\t3 & year & 31432 & 0.000236783 \\\\\n",
       "\t4 & percent & 31189 & 0.000236605 \\\\\n",
       "\t5 & new & 30009 & 0.000235723 \\\\\n",
       "\t6 & reuters & 29705 & 0.000235491 \\\\\n",
       "\t7 & president & 19066 & 0.000225352 \\\\\n",
       "\t8 & market & 18433 & 0.00022458 \\\\\n",
       "\t9 & financial & 18110 & 0.000224176 \\\\\n",
       "\t10 & business & 18043 & 0.000224091 \\\\\n",
       "\t11 & million & 17564 & 0.000223476 \\\\\n",
       "\t12 & trump & 15805 & 0.000221063 \\\\\n",
       "\t13 & including & 14762 & 0.000219502 \\\\\n",
       "\t14 & statements & 13948 & 0.000218205 \\\\\n",
       "\t15 & time & 13882 & 0.000218097 \\\\\n",
       "\t16 & billion & 13472 & 0.000217411 \\\\\n",
       "\t17 & inc & 13117 & 0.0002168 \\\\\n",
       "\t18 & source & 12882 & 0.000216387 \\\\\n",
       "\t19 & jan & 12427 & 0.000215565 \\\\\n",
       "\t20 & ago & 12349 & 0.000215421 \\\\\n",
       "\t21 & years & 12057 & 0.000214874 \\\\\n",
       "\t22 & people & 12001 & 0.000214767 \\\\\n",
       "\t23 & services & 11745 & 0.000214274 \\\\\n",
       "\t24 & tax & 11696 & 0.000214179 \\\\\n",
       "\t25 & government & 11633 & 0.000214055 \\\\\n",
       "\t26 & forward & 11629 & 0.000214047 \\\\\n",
       "\t27 & looking & 11485 & 0.000213762 \\\\\n",
       "\t28 & growth & 11342 & 0.000213476 \\\\\n",
       "\t29 & group & 11194 & 0.000213176 \\\\\n",
       "\t30 & companies & 11108 & 0.000212999 \\\\\n",
       "\t$\\dots$ & $\\dots$ & $\\dots$ & $\\dots$ \\\\\n",
       "\\end{tabular}\n"
      ],
      "text/plain": [
       "7436×3 DataFrame\n",
       "│ Row  │ token     │ count │ p           │\n",
       "│      │ \u001b[90mSubStrin…\u001b[39m │ \u001b[90mInt64\u001b[39m │ \u001b[90mFloat64\u001b[39m     │\n",
       "├──────┼───────────┼───────┼─────────────┤\n",
       "│ 1    │ said      │ 62486 │ 0.000252494 │\n",
       "│ 2    │ company   │ 42908 │ 0.000243899 │\n",
       "│ 3    │ year      │ 31432 │ 0.000236783 │\n",
       "│ 4    │ percent   │ 31189 │ 0.000236605 │\n",
       "│ 5    │ new       │ 30009 │ 0.000235723 │\n",
       "│ 6    │ reuters   │ 29705 │ 0.000235491 │\n",
       "│ 7    │ president │ 19066 │ 0.000225352 │\n",
       "│ 8    │ market    │ 18433 │ 0.00022458  │\n",
       "│ 9    │ financial │ 18110 │ 0.000224176 │\n",
       "│ 10   │ business  │ 18043 │ 0.000224091 │\n",
       "⋮\n",
       "│ 7426 │ existence │ 101   │ 0.000105526 │\n",
       "│ 7427 │ cst       │ 101   │ 0.000105526 │\n",
       "│ 7428 │ aon       │ 101   │ 0.000105526 │\n",
       "│ 7429 │ graff     │ 101   │ 0.000105526 │\n",
       "│ 7430 │ liquids   │ 101   │ 0.000105526 │\n",
       "│ 7431 │ dax       │ 101   │ 0.000105526 │\n",
       "│ 7432 │ dairy     │ 101   │ 0.000105526 │\n",
       "│ 7433 │ baseline  │ 101   │ 0.000105526 │\n",
       "│ 7434 │ issuers   │ 101   │ 0.000105526 │\n",
       "│ 7435 │ occupy    │ 101   │ 0.000105526 │\n",
       "│ 7436 │ variable  │ 101   │ 0.000105526 │"
      ]
     },
     "execution_count": 68,
     "metadata": {},
     "output_type": "execute_result"
    }
   ],
   "source": [
    "most_common = DataFrame(token = [pair[1] for pair in counter], count=[pair[2] for pair in counter])\n",
    "most_common = filter(row -> row.count > MIN_FREQ, most_common)\n",
    "most_common[!, \"p\"] = log.(most_common[\"count\"])./sum(log.(most_common[\"count\"]))\n",
    "most_common"
   ]
  },
  {
   "cell_type": "code",
   "execution_count": 69,
   "metadata": {
    "ExecuteTime": {
     "end_time": "2020-03-12T16:27:30.015517Z",
     "start_time": "2020-03-12T16:27:29.983135Z"
    },
    "slideshow": {
     "slide_type": "slide"
    }
   },
   "outputs": [
    {
     "data": {
      "text/html": [
       "<table class=\"data-frame\"><thead><tr><th></th><th>token</th><th>1</th><th>2</th><th>3</th><th>4</th><th>5</th></tr><tr><th></th><th>String</th><th>String</th><th>String</th><th>String</th><th>String</th><th>String</th></tr></thead><tbody><p>10 rows × 11 columns (omitted printing of 5 columns)</p><tr><th>1</th><td>pennsylvania</td><td>connecticut</td><td>counties</td><td>pittsburgh</td><td>eaton</td><td>birmingham</td></tr><tr><th>2</th><td>table</td><td>inflows</td><td>shy</td><td>restricting</td><td>reconciliation</td><td>unaudited</td></tr><tr><th>3</th><td>dropped</td><td>dipped</td><td>kuwait</td><td>sub</td><td>fallen</td><td>lowest</td></tr><tr><th>4</th><td>platforms</td><td>livexlive</td><td>telehealth</td><td>deluxe</td><td>platform</td><td>maven</td></tr><tr><th>5</th><td>sri</td><td>rupee</td><td>exporters</td><td>aditya</td><td>dealers</td><td>caroline</td></tr><tr><th>6</th><td>shutting</td><td>halted</td><td>threw</td><td>arriving</td><td>cynthia</td><td>rcom</td></tr><tr><th>7</th><td>smallest</td><td>echo</td><td>weakest</td><td>climbing</td><td>mini</td><td>tumbled</td></tr><tr><th>8</th><td>banks</td><td>dealers</td><td>bank</td><td>sri</td><td>syndicated</td><td>merchants</td></tr><tr><th>9</th><td>traction</td><td>federation</td><td>sangoma</td><td>kindred</td><td>innate</td><td>inter</td></tr><tr><th>10</th><td>stands</td><td>entrance</td><td>flag</td><td>praise</td><td>elysee</td><td>duterte</td></tr></tbody></table>"
      ],
      "text/latex": [
       "\\begin{tabular}{r|ccccccc}\n",
       "\t& token & 1 & 2 & 3 & 4 & 5 & \\\\\n",
       "\t\\hline\n",
       "\t& String & String & String & String & String & String & \\\\\n",
       "\t\\hline\n",
       "\t1 & pennsylvania & connecticut & counties & pittsburgh & eaton & birmingham & $\\dots$ \\\\\n",
       "\t2 & table & inflows & shy & restricting & reconciliation & unaudited & $\\dots$ \\\\\n",
       "\t3 & dropped & dipped & kuwait & sub & fallen & lowest & $\\dots$ \\\\\n",
       "\t4 & platforms & livexlive & telehealth & deluxe & platform & maven & $\\dots$ \\\\\n",
       "\t5 & sri & rupee & exporters & aditya & dealers & caroline & $\\dots$ \\\\\n",
       "\t6 & shutting & halted & threw & arriving & cynthia & rcom & $\\dots$ \\\\\n",
       "\t7 & smallest & echo & weakest & climbing & mini & tumbled & $\\dots$ \\\\\n",
       "\t8 & banks & dealers & bank & sri & syndicated & merchants & $\\dots$ \\\\\n",
       "\t9 & traction & federation & sangoma & kindred & innate & inter & $\\dots$ \\\\\n",
       "\t10 & stands & entrance & flag & praise & elysee & duterte & $\\dots$ \\\\\n",
       "\\end{tabular}\n"
      ],
      "text/plain": [
       "10×11 DataFrame. Omitted printing of 6 columns\n",
       "│ Row │ token        │ 1           │ 2          │ 3           │ 4              │\n",
       "│     │ \u001b[90mString\u001b[39m       │ \u001b[90mString\u001b[39m      │ \u001b[90mString\u001b[39m     │ \u001b[90mString\u001b[39m      │ \u001b[90mString\u001b[39m         │\n",
       "├─────┼──────────────┼─────────────┼────────────┼─────────────┼────────────────┤\n",
       "│ 1   │ pennsylvania │ connecticut │ counties   │ pittsburgh  │ eaton          │\n",
       "│ 2   │ table        │ inflows     │ shy        │ restricting │ reconciliation │\n",
       "│ 3   │ dropped      │ dipped      │ kuwait     │ sub         │ fallen         │\n",
       "│ 4   │ platforms    │ livexlive   │ telehealth │ deluxe      │ platform       │\n",
       "│ 5   │ sri          │ rupee       │ exporters  │ aditya      │ dealers        │\n",
       "│ 6   │ shutting     │ halted      │ threw      │ arriving    │ cynthia        │\n",
       "│ 7   │ smallest     │ echo        │ weakest    │ climbing    │ mini           │\n",
       "│ 8   │ banks        │ dealers     │ bank       │ sri         │ syndicated     │\n",
       "│ 9   │ traction     │ federation  │ sangoma    │ kindred     │ innate         │\n",
       "│ 10  │ stands       │ entrance    │ flag       │ praise      │ elysee         │"
      ]
     },
     "execution_count": 69,
     "metadata": {},
     "output_type": "execute_result"
    }
   ],
   "source": [
    "similars = DataFrame()\n",
    "for token in StatsBase.sample(most_common.token, Weights(most_common.p), 10)\n",
    "    similars[token] = [s[1] for s ∈ model.wv.most_similar(token)]\n",
    "end\n",
    "DataFrame([[names(similars)]; collect.(eachrow(similars))], [:token; Symbol.(axes(similars, 1))])"
   ]
  },
  {
   "cell_type": "markdown",
   "metadata": {},
   "source": [
    "## Continue Training"
   ]
  },
  {
   "cell_type": "code",
   "execution_count": 70,
   "metadata": {
    "ExecuteTime": {
     "end_time": "2020-03-12T16:49:01.454008Z",
     "start_time": "2020-03-12T16:27:30.016577Z"
    },
    "slideshow": {
     "slide_type": "fragment"
    }
   },
   "outputs": [
    {
     "name": "stdout",
     "output_type": "stream",
     "text": [
      "1 | Duration: 00:01:41 | Accuracy: 0.11368062317429406 \n",
      "2 | Duration: 00:01:09 | Accuracy: 0.10954235637779941 \n",
      "3 | Duration: 00:01:08 | Accuracy: 0.12512171372930866 \n",
      "4 | Duration: 00:01:20 | Accuracy: 0.11952288218111003 \n",
      "5 | Duration: 00:01:55 | Accuracy: 0.13193768257059396 \n",
      "6 | Duration: 00:01:59 | Accuracy: 0.14216163583252192 \n",
      "7 | Duration: 00:01:33 | Accuracy: 0.1414313534566699 \n",
      "8 | Duration: 00:01:28 | Accuracy: 0.1360759493670886 \n",
      "9 | Duration: 00:01:32 | Accuracy: 0.13096397273612465 \n"
     ]
    }
   ],
   "source": [
    "accuracies = [summary]\n",
    "best_accuracy = summary[end]\n",
    "for i ∈ 1:9\n",
    "    start = time()\n",
    "    model.train(sentences, epochs=1, total_examples=model.corpus_count)\n",
    "    detailed_accuracy = model.wv.evaluate_word_analogies(analogy_path)[2]\n",
    "    push!(accuracies, accuracy_by_category(detailed_accuracy; detail=false))\n",
    "    \n",
    "    println(\"$(i) | Duration: $(format_time(floor(Int, time() - start))) | Accuracy: $(accuracies[end][end]) \")\n",
    "    \n",
    "    if accuracies[end][end] > best_accuracy\n",
    "        model.save(joinpath(gensim_path, \"word2vec_$(i).model\"))\n",
    "        model.wv.save(joinpath(gensim_path, \"word_vectors_$(i).bin\"))\n",
    "        best_accuracy = accuracies[end][end]\n",
    "    end\n",
    "    \n",
    "    accuracy_df = DataFrame(correct = [accuracy[1] for accuracy in accuracies],\n",
    "                            wrong = [accuracy[2] for accuracy ∈ accuracies], \n",
    "                            average = [accuracy[3] for accuracy ∈ accuracies])\n",
    "    CSV.write(joinpath(gensim_path, \"accuracies.csv\"), accuracy_df)\n",
    "end\n",
    "model.wv.save(joinpath(gensim_path, \"word_vectors_final.bin\"))"
   ]
  },
  {
   "cell_type": "markdown",
   "metadata": {},
   "source": [
    "## Evaluate Best Model"
   ]
  },
  {
   "cell_type": "code",
   "execution_count": 71,
   "metadata": {
    "ExecuteTime": {
     "end_time": "2020-03-12T16:57:42.040316Z",
     "start_time": "2020-03-12T16:57:41.820149Z"
    }
   },
   "outputs": [],
   "source": [
    "accuracies_df = DataFrame(correct = [accuracy[1] for accuracy ∈ accuracies], \n",
    "                            wrong = [accuracy[2] for accuracy ∈ accuracies], \n",
    "                            average = [accuracy[3] for accuracy ∈ accuracies])\n",
    "\n",
    "#pd.DataFrame(accuracies, columns=[\"correct\", \"wrong\", \"average\"], index=list(range(1, len(accuracies) + 1))).average.plot();"
   ]
  },
  {
   "cell_type": "code",
   "execution_count": 72,
   "metadata": {
    "ExecuteTime": {
     "end_time": "2020-03-12T17:00:32.232913Z",
     "start_time": "2020-03-12T17:00:31.937349Z"
    }
   },
   "outputs": [
    {
     "data": {
      "text/plain": [
       "PyObject <gensim.models.word2vec.Word2Vec object at 0x000000008427D700>"
      ]
     },
     "execution_count": 72,
     "metadata": {},
     "output_type": "execute_result"
    }
   ],
   "source": [
    "best_model = Word2Vec.load(normpath(joinpath(gensim_path, \"word2vec_8.model\")))"
   ]
  },
  {
   "cell_type": "code",
   "execution_count": 73,
   "metadata": {
    "ExecuteTime": {
     "end_time": "2020-03-12T17:02:13.767834Z",
     "start_time": "2020-03-12T17:01:56.365584Z"
    }
   },
   "outputs": [
    {
     "data": {
      "text/plain": [
       "15-element Vector{Dict{Any, Any}}:\n",
       " Dict(\"incorrect\" => [(\"BAGHDAD\", \"IRAQ\", \"BANGKOK\", \"THAILAND\"), (\"BAGHDAD\", \"IRAQ\", \"CAIRO\", \"EGYPT\"), (\"BAGHDAD\", \"IRAQ\", \"ISLAMABAD\", \"PAKISTAN\"), (\"BAGHDAD\", \"IRAQ\", \"KABUL\", \"AFGHANISTAN\"), (\"BAGHDAD\", \"IRAQ\", \"LONDON\", \"ENGLAND\"), (\"BAGHDAD\", \"IRAQ\", \"MADRID\", \"SPAIN\"), (\"BAGHDAD\", \"IRAQ\", \"MOSCOW\", \"RUSSIA\"), (\"BAGHDAD\", \"IRAQ\", \"OTTAWA\", \"CANADA\"), (\"BAGHDAD\", \"IRAQ\", \"PARIS\", \"FRANCE\"), (\"BAGHDAD\", \"IRAQ\", \"ROME\", \"ITALY\")  …  (\"TOKYO\", \"JAPAN\", \"BAGHDAD\", \"IRAQ\"), (\"TOKYO\", \"JAPAN\", \"BANGKOK\", \"THAILAND\"), (\"TOKYO\", \"JAPAN\", \"ISLAMABAD\", \"PAKISTAN\"), (\"TOKYO\", \"JAPAN\", \"KABUL\", \"AFGHANISTAN\"), (\"TOKYO\", \"JAPAN\", \"LONDON\", \"ENGLAND\"), (\"TOKYO\", \"JAPAN\", \"MADRID\", \"SPAIN\"), (\"TOKYO\", \"JAPAN\", \"OTTAWA\", \"CANADA\"), (\"TOKYO\", \"JAPAN\", \"PARIS\", \"FRANCE\"), (\"TOKYO\", \"JAPAN\", \"ROME\", \"ITALY\"), (\"TOKYO\", \"JAPAN\", \"TEHRAN\", \"IRAN\")], \"correct\" => [(\"BAGHDAD\", \"IRAQ\", \"BEIJING\", \"CHINA\"), (\"BAGHDAD\", \"IRAQ\", \"BERLIN\", \"GERMANY\"), (\"BAGHDAD\", \"IRAQ\", \"HAVANA\", \"CUBA\"), (\"BAGHDAD\", \"IRAQ\", \"OSLO\", \"NORWAY\"), (\"BANGKOK\", \"THAILAND\", \"BEIJING\", \"CHINA\"), (\"BANGKOK\", \"THAILAND\", \"HAVANA\", \"CUBA\"), (\"BANGKOK\", \"THAILAND\", \"ISLAMABAD\", \"PAKISTAN\"), (\"BANGKOK\", \"THAILAND\", \"MOSCOW\", \"RUSSIA\"), (\"BANGKOK\", \"THAILAND\", \"OSLO\", \"NORWAY\"), (\"BANGKOK\", \"THAILAND\", \"PARIS\", \"FRANCE\")  …  (\"ROME\", \"ITALY\", \"TOKYO\", \"JAPAN\"), (\"TEHRAN\", \"IRAN\", \"BEIJING\", \"CHINA\"), (\"TEHRAN\", \"IRAN\", \"HAVANA\", \"CUBA\"), (\"TEHRAN\", \"IRAN\", \"OSLO\", \"NORWAY\"), (\"TOKYO\", \"JAPAN\", \"BEIJING\", \"CHINA\"), (\"TOKYO\", \"JAPAN\", \"BERLIN\", \"GERMANY\"), (\"TOKYO\", \"JAPAN\", \"CAIRO\", \"EGYPT\"), (\"TOKYO\", \"JAPAN\", \"HAVANA\", \"CUBA\"), (\"TOKYO\", \"JAPAN\", \"MOSCOW\", \"RUSSIA\"), (\"TOKYO\", \"JAPAN\", \"OSLO\", \"NORWAY\")], \"section\" => \"capital-common-countries\")\n",
       " Dict(\"incorrect\" => [(\"ANKARA\", \"TURKEY\", \"BEIRUT\", \"LEBANON\"), (\"ANKARA\", \"TURKEY\", \"BRUSSELS\", \"BELGIUM\"), (\"ANKARA\", \"TURKEY\", \"DAMASCUS\", \"SYRIA\"), (\"ANKARA\", \"TURKEY\", \"DUBLIN\", \"IRELAND\"), (\"ANKARA\", \"TURKEY\", \"JAKARTA\", \"INDONESIA\"), (\"BEIRUT\", \"LEBANON\", \"BRUSSELS\", \"BELGIUM\"), (\"BEIRUT\", \"LEBANON\", \"DUBLIN\", \"IRELAND\"), (\"BEIRUT\", \"LEBANON\", \"LIMA\", \"PERU\"), (\"BRUSSELS\", \"BELGIUM\", \"BEIRUT\", \"LEBANON\"), (\"BRUSSELS\", \"BELGIUM\", \"CARACAS\", \"VENEZUELA\")  …  (\"MANILA\", \"PHILIPPINES\", \"CARACAS\", \"VENEZUELA\"), (\"MANILA\", \"PHILIPPINES\", \"DAMASCUS\", \"SYRIA\"), (\"MANILA\", \"PHILIPPINES\", \"DUBLIN\", \"IRELAND\"), (\"MANILA\", \"PHILIPPINES\", \"WARSAW\", \"POLAND\"), (\"WARSAW\", \"POLAND\", \"BEIRUT\", \"LEBANON\"), (\"WARSAW\", \"POLAND\", \"BRUSSELS\", \"BELGIUM\"), (\"WARSAW\", \"POLAND\", \"CARACAS\", \"VENEZUELA\"), (\"WARSAW\", \"POLAND\", \"DUBLIN\", \"IRELAND\"), (\"WARSAW\", \"POLAND\", \"JAKARTA\", \"INDONESIA\"), (\"WARSAW\", \"POLAND\", \"LIMA\", \"PERU\")], \"correct\" => [(\"ANKARA\", \"TURKEY\", \"CARACAS\", \"VENEZUELA\"), (\"ANKARA\", \"TURKEY\", \"HARARE\", \"ZIMBABWE\"), (\"ANKARA\", \"TURKEY\", \"KHARTOUM\", \"SUDAN\"), (\"ANKARA\", \"TURKEY\", \"LIMA\", \"PERU\"), (\"ANKARA\", \"TURKEY\", \"MANILA\", \"PHILIPPINES\"), (\"ANKARA\", \"TURKEY\", \"WARSAW\", \"POLAND\"), (\"BEIRUT\", \"LEBANON\", \"ANKARA\", \"TURKEY\"), (\"BEIRUT\", \"LEBANON\", \"CARACAS\", \"VENEZUELA\"), (\"BEIRUT\", \"LEBANON\", \"DAMASCUS\", \"SYRIA\"), (\"BEIRUT\", \"LEBANON\", \"HARARE\", \"ZIMBABWE\")  …  (\"MANILA\", \"PHILIPPINES\", \"ANKARA\", \"TURKEY\"), (\"MANILA\", \"PHILIPPINES\", \"HARARE\", \"ZIMBABWE\"), (\"MANILA\", \"PHILIPPINES\", \"JAKARTA\", \"INDONESIA\"), (\"MANILA\", \"PHILIPPINES\", \"KHARTOUM\", \"SUDAN\"), (\"MANILA\", \"PHILIPPINES\", \"LIMA\", \"PERU\"), (\"WARSAW\", \"POLAND\", \"ANKARA\", \"TURKEY\"), (\"WARSAW\", \"POLAND\", \"DAMASCUS\", \"SYRIA\"), (\"WARSAW\", \"POLAND\", \"HARARE\", \"ZIMBABWE\"), (\"WARSAW\", \"POLAND\", \"KHARTOUM\", \"SUDAN\"), (\"WARSAW\", \"POLAND\", \"MANILA\", \"PHILIPPINES\")], \"section\" => \"capital-world\")\n",
       " Dict(\"incorrect\" => [(\"CHICAGO\", \"ILLINOIS\", \"HOUSTON\", \"TEXAS\"), (\"CHICAGO\", \"ILLINOIS\", \"DALLAS\", \"TEXAS\"), (\"CHICAGO\", \"ILLINOIS\", \"INDIANAPOLIS\", \"INDIANA\"), (\"CHICAGO\", \"ILLINOIS\", \"BOSTON\", \"MASSACHUSETTS\"), (\"CHICAGO\", \"ILLINOIS\", \"SEATTLE\", \"WASHINGTON\"), (\"CHICAGO\", \"ILLINOIS\", \"MILWAUKEE\", \"WISCONSIN\"), (\"CHICAGO\", \"ILLINOIS\", \"CLEVELAND\", \"OHIO\"), (\"CHICAGO\", \"ILLINOIS\", \"MINNEAPOLIS\", \"MINNESOTA\"), (\"CHICAGO\", \"ILLINOIS\", \"PITTSBURGH\", \"PENNSYLVANIA\"), (\"CHICAGO\", \"ILLINOIS\", \"CINCINNATI\", \"OHIO\")  …  (\"ORLANDO\", \"FLORIDA\", \"HENDERSON\", \"NEVADA\"), (\"ORLANDO\", \"FLORIDA\", \"MADISON\", \"WISCONSIN\"), (\"MADISON\", \"WISCONSIN\", \"CHICAGO\", \"ILLINOIS\"), (\"MADISON\", \"WISCONSIN\", \"DALLAS\", \"TEXAS\"), (\"MADISON\", \"WISCONSIN\", \"INDIANAPOLIS\", \"INDIANA\"), (\"MADISON\", \"WISCONSIN\", \"SEATTLE\", \"WASHINGTON\"), (\"MADISON\", \"WISCONSIN\", \"ATLANTA\", \"GEORGIA\"), (\"MADISON\", \"WISCONSIN\", \"CLEVELAND\", \"OHIO\"), (\"MADISON\", \"WISCONSIN\", \"TAMPA\", \"FLORIDA\"), (\"MADISON\", \"WISCONSIN\", \"HENDERSON\", \"NEVADA\")], \"correct\" => [(\"CHICAGO\", \"ILLINOIS\", \"PHILADELPHIA\", \"PENNSYLVANIA\"), (\"CHICAGO\", \"ILLINOIS\", \"PHOENIX\", \"ARIZONA\"), (\"CHICAGO\", \"ILLINOIS\", \"AUSTIN\", \"TEXAS\"), (\"CHICAGO\", \"ILLINOIS\", \"DETROIT\", \"MICHIGAN\"), (\"CHICAGO\", \"ILLINOIS\", \"DENVER\", \"COLORADO\"), (\"CHICAGO\", \"ILLINOIS\", \"NASHVILLE\", \"TENNESSEE\"), (\"CHICAGO\", \"ILLINOIS\", \"PORTLAND\", \"OREGON\"), (\"CHICAGO\", \"ILLINOIS\", \"ATLANTA\", \"GEORGIA\"), (\"CHICAGO\", \"ILLINOIS\", \"OMAHA\", \"NEBRASKA\"), (\"CHICAGO\", \"ILLINOIS\", \"MIAMI\", \"FLORIDA\")  …  (\"MADISON\", \"WISCONSIN\", \"BOSTON\", \"MASSACHUSETTS\"), (\"MADISON\", \"WISCONSIN\", \"DENVER\", \"COLORADO\"), (\"MADISON\", \"WISCONSIN\", \"NASHVILLE\", \"TENNESSEE\"), (\"MADISON\", \"WISCONSIN\", \"PORTLAND\", \"OREGON\"), (\"MADISON\", \"WISCONSIN\", \"OMAHA\", \"NEBRASKA\"), (\"MADISON\", \"WISCONSIN\", \"MIAMI\", \"FLORIDA\"), (\"MADISON\", \"WISCONSIN\", \"MINNEAPOLIS\", \"MINNESOTA\"), (\"MADISON\", \"WISCONSIN\", \"PITTSBURGH\", \"PENNSYLVANIA\"), (\"MADISON\", \"WISCONSIN\", \"CINCINNATI\", \"OHIO\"), (\"MADISON\", \"WISCONSIN\", \"ORLANDO\", \"FLORIDA\")], \"section\" => \"city-in-state\")\n",
       " Dict(\"incorrect\" => [(\"ARGENTINA\", \"PESO\", \"BRAZIL\", \"REAL\"), (\"ARGENTINA\", \"PESO\", \"CANADA\", \"DOLLAR\"), (\"ARGENTINA\", \"PESO\", \"EUROPE\", \"EURO\"), (\"ARGENTINA\", \"PESO\", \"JAPAN\", \"YEN\"), (\"ARGENTINA\", \"PESO\", \"KOREA\", \"WON\"), (\"ARGENTINA\", \"PESO\", \"USA\", \"DOLLAR\"), (\"BRAZIL\", \"REAL\", \"ARGENTINA\", \"PESO\"), (\"BRAZIL\", \"REAL\", \"CANADA\", \"DOLLAR\"), (\"BRAZIL\", \"REAL\", \"EUROPE\", \"EURO\"), (\"BRAZIL\", \"REAL\", \"INDIA\", \"RUPEE\")  …  (\"MEXICO\", \"PESO\", \"INDIA\", \"RUPEE\"), (\"MEXICO\", \"PESO\", \"JAPAN\", \"YEN\"), (\"MEXICO\", \"PESO\", \"KOREA\", \"WON\"), (\"MEXICO\", \"PESO\", \"USA\", \"DOLLAR\"), (\"USA\", \"DOLLAR\", \"ARGENTINA\", \"PESO\"), (\"USA\", \"DOLLAR\", \"BRAZIL\", \"REAL\"), (\"USA\", \"DOLLAR\", \"EUROPE\", \"EURO\"), (\"USA\", \"DOLLAR\", \"JAPAN\", \"YEN\"), (\"USA\", \"DOLLAR\", \"KOREA\", \"WON\"), (\"USA\", \"DOLLAR\", \"MEXICO\", \"PESO\")], \"correct\" => [(\"ARGENTINA\", \"PESO\", \"INDIA\", \"RUPEE\"), (\"CANADA\", \"DOLLAR\", \"JAPAN\", \"YEN\"), (\"INDIA\", \"RUPEE\", \"ARGENTINA\", \"PESO\"), (\"INDIA\", \"RUPEE\", \"MEXICO\", \"PESO\"), (\"USA\", \"DOLLAR\", \"INDIA\", \"RUPEE\")], \"section\" => \"currency\")\n",
       " Dict(\"incorrect\" => [(\"BROTHER\", \"SISTER\", \"FATHER\", \"MOTHER\"), (\"BROTHER\", \"SISTER\", \"HE\", \"SHE\"), (\"BROTHER\", \"SISTER\", \"HUSBAND\", \"WIFE\"), (\"BROTHER\", \"SISTER\", \"KING\", \"QUEEN\"), (\"BROTHER\", \"SISTER\", \"MAN\", \"WOMAN\"), (\"BROTHER\", \"SISTER\", \"SON\", \"DAUGHTER\"), (\"FATHER\", \"MOTHER\", \"BROTHER\", \"SISTER\"), (\"FATHER\", \"MOTHER\", \"HE\", \"SHE\"), (\"FATHER\", \"MOTHER\", \"HUSBAND\", \"WIFE\"), (\"FATHER\", \"MOTHER\", \"KING\", \"QUEEN\")  …  (\"MAN\", \"WOMAN\", \"FATHER\", \"MOTHER\"), (\"MAN\", \"WOMAN\", \"HE\", \"SHE\"), (\"MAN\", \"WOMAN\", \"HUSBAND\", \"WIFE\"), (\"MAN\", \"WOMAN\", \"KING\", \"QUEEN\"), (\"MAN\", \"WOMAN\", \"SON\", \"DAUGHTER\"), (\"SON\", \"DAUGHTER\", \"BROTHER\", \"SISTER\"), (\"SON\", \"DAUGHTER\", \"FATHER\", \"MOTHER\"), (\"SON\", \"DAUGHTER\", \"HE\", \"SHE\"), (\"SON\", \"DAUGHTER\", \"HUSBAND\", \"WIFE\"), (\"SON\", \"DAUGHTER\", \"MAN\", \"WOMAN\")], \"correct\" => [(\"FATHER\", \"MOTHER\", \"SON\", \"DAUGHTER\"), (\"SON\", \"DAUGHTER\", \"KING\", \"QUEEN\")], \"section\" => \"family\")\n",
       " Dict(\"incorrect\" => [(\"APPARENT\", \"APPARENTLY\", \"COMPLETE\", \"COMPLETELY\"), (\"APPARENT\", \"APPARENTLY\", \"EFFICIENT\", \"EFFICIENTLY\"), (\"APPARENT\", \"APPARENTLY\", \"IMMEDIATE\", \"IMMEDIATELY\"), (\"APPARENT\", \"APPARENTLY\", \"OBVIOUS\", \"OBVIOUSLY\"), (\"APPARENT\", \"APPARENTLY\", \"POSSIBLE\", \"POSSIBLY\"), (\"APPARENT\", \"APPARENTLY\", \"QUICK\", \"QUICKLY\"), (\"APPARENT\", \"APPARENTLY\", \"RAPID\", \"RAPIDLY\"), (\"APPARENT\", \"APPARENTLY\", \"RARE\", \"RARELY\"), (\"APPARENT\", \"APPARENTLY\", \"SAFE\", \"SAFELY\"), (\"APPARENT\", \"APPARENTLY\", \"SERIOUS\", \"SERIOUSLY\")  …  (\"USUAL\", \"USUALLY\", \"IMMEDIATE\", \"IMMEDIATELY\"), (\"USUAL\", \"USUALLY\", \"OBVIOUS\", \"OBVIOUSLY\"), (\"USUAL\", \"USUALLY\", \"POSSIBLE\", \"POSSIBLY\"), (\"USUAL\", \"USUALLY\", \"QUICK\", \"QUICKLY\"), (\"USUAL\", \"USUALLY\", \"RAPID\", \"RAPIDLY\"), (\"USUAL\", \"USUALLY\", \"RARE\", \"RARELY\"), (\"USUAL\", \"USUALLY\", \"SAFE\", \"SAFELY\"), (\"USUAL\", \"USUALLY\", \"SERIOUS\", \"SERIOUSLY\"), (\"USUAL\", \"USUALLY\", \"SUDDEN\", \"SUDDENLY\"), (\"USUAL\", \"USUALLY\", \"TYPICAL\", \"TYPICALLY\")], \"correct\" => [(\"USUAL\", \"USUALLY\", \"SLOW\", \"SLOWLY\")], \"section\" => \"gram1-adjective-to-adverb\")\n",
       " Dict(\"incorrect\" => [(\"ACCEPTABLE\", \"UNACCEPTABLE\", \"CERTAIN\", \"UNCERTAIN\"), (\"ACCEPTABLE\", \"UNACCEPTABLE\", \"CLEAR\", \"UNCLEAR\"), (\"ACCEPTABLE\", \"UNACCEPTABLE\", \"COMFORTABLE\", \"UNCOMFORTABLE\"), (\"ACCEPTABLE\", \"UNACCEPTABLE\", \"KNOWN\", \"UNKNOWN\"), (\"ACCEPTABLE\", \"UNACCEPTABLE\", \"LIKELY\", \"UNLIKELY\"), (\"ACCEPTABLE\", \"UNACCEPTABLE\", \"POSSIBLE\", \"IMPOSSIBLE\"), (\"CERTAIN\", \"UNCERTAIN\", \"ACCEPTABLE\", \"UNACCEPTABLE\"), (\"CERTAIN\", \"UNCERTAIN\", \"CLEAR\", \"UNCLEAR\"), (\"CERTAIN\", \"UNCERTAIN\", \"COMFORTABLE\", \"UNCOMFORTABLE\"), (\"CERTAIN\", \"UNCERTAIN\", \"KNOWN\", \"UNKNOWN\")  …  (\"LIKELY\", \"UNLIKELY\", \"CERTAIN\", \"UNCERTAIN\"), (\"LIKELY\", \"UNLIKELY\", \"CLEAR\", \"UNCLEAR\"), (\"LIKELY\", \"UNLIKELY\", \"COMFORTABLE\", \"UNCOMFORTABLE\"), (\"LIKELY\", \"UNLIKELY\", \"KNOWN\", \"UNKNOWN\"), (\"LIKELY\", \"UNLIKELY\", \"POSSIBLE\", \"IMPOSSIBLE\"), (\"POSSIBLE\", \"IMPOSSIBLE\", \"ACCEPTABLE\", \"UNACCEPTABLE\"), (\"POSSIBLE\", \"IMPOSSIBLE\", \"CERTAIN\", \"UNCERTAIN\"), (\"POSSIBLE\", \"IMPOSSIBLE\", \"CLEAR\", \"UNCLEAR\"), (\"POSSIBLE\", \"IMPOSSIBLE\", \"COMFORTABLE\", \"UNCOMFORTABLE\"), (\"POSSIBLE\", \"IMPOSSIBLE\", \"LIKELY\", \"UNLIKELY\")], \"correct\" => [(\"CLEAR\", \"UNCLEAR\", \"KNOWN\", \"UNKNOWN\"), (\"COMFORTABLE\", \"UNCOMFORTABLE\", \"KNOWN\", \"UNKNOWN\"), (\"POSSIBLE\", \"IMPOSSIBLE\", \"KNOWN\", \"UNKNOWN\")], \"section\" => \"gram2-opposite\")\n",
       " Dict(\"incorrect\" => [(\"BAD\", \"WORSE\", \"BIG\", \"BIGGER\"), (\"BAD\", \"WORSE\", \"CHEAP\", \"CHEAPER\"), (\"BAD\", \"WORSE\", \"DEEP\", \"DEEPER\"), (\"BAD\", \"WORSE\", \"EASY\", \"EASIER\"), (\"BAD\", \"WORSE\", \"FAST\", \"FASTER\"), (\"BAD\", \"WORSE\", \"GOOD\", \"BETTER\"), (\"BAD\", \"WORSE\", \"GREAT\", \"GREATER\"), (\"BAD\", \"WORSE\", \"HARD\", \"HARDER\"), (\"BAD\", \"WORSE\", \"HIGH\", \"HIGHER\"), (\"BAD\", \"WORSE\", \"LARGE\", \"LARGER\")  …  (\"YOUNG\", \"YOUNGER\", \"OLD\", \"OLDER\"), (\"YOUNG\", \"YOUNGER\", \"SAFE\", \"SAFER\"), (\"YOUNG\", \"YOUNGER\", \"SHORT\", \"SHORTER\"), (\"YOUNG\", \"YOUNGER\", \"SLOW\", \"SLOWER\"), (\"YOUNG\", \"YOUNGER\", \"SMALL\", \"SMALLER\"), (\"YOUNG\", \"YOUNGER\", \"STRONG\", \"STRONGER\"), (\"YOUNG\", \"YOUNGER\", \"TIGHT\", \"TIGHTER\"), (\"YOUNG\", \"YOUNGER\", \"TOUGH\", \"TOUGHER\"), (\"YOUNG\", \"YOUNGER\", \"WEAK\", \"WEAKER\"), (\"YOUNG\", \"YOUNGER\", \"WIDE\", \"WIDER\")], \"correct\" => [(\"OLD\", \"OLDER\", \"EASY\", \"EASIER\")], \"section\" => \"gram3-comparative\")\n",
       " Dict(\"incorrect\" => [(\"BAD\", \"WORST\", \"BIG\", \"BIGGEST\"), (\"BAD\", \"WORST\", \"FAST\", \"FASTEST\"), (\"BAD\", \"WORST\", \"GOOD\", \"BEST\"), (\"BAD\", \"WORST\", \"GREAT\", \"GREATEST\"), (\"BAD\", \"WORST\", \"HIGH\", \"HIGHEST\"), (\"BAD\", \"WORST\", \"LARGE\", \"LARGEST\"), (\"BAD\", \"WORST\", \"LONG\", \"LONGEST\"), (\"BAD\", \"WORST\", \"LOW\", \"LOWEST\"), (\"BAD\", \"WORST\", \"OLD\", \"OLDEST\"), (\"BAD\", \"WORST\", \"SMALL\", \"SMALLEST\")  …  (\"YOUNG\", \"YOUNGEST\", \"GOOD\", \"BEST\"), (\"YOUNG\", \"YOUNGEST\", \"GREAT\", \"GREATEST\"), (\"YOUNG\", \"YOUNGEST\", \"HIGH\", \"HIGHEST\"), (\"YOUNG\", \"YOUNGEST\", \"LARGE\", \"LARGEST\"), (\"YOUNG\", \"YOUNGEST\", \"LONG\", \"LONGEST\"), (\"YOUNG\", \"YOUNGEST\", \"LOW\", \"LOWEST\"), (\"YOUNG\", \"YOUNGEST\", \"OLD\", \"OLDEST\"), (\"YOUNG\", \"YOUNGEST\", \"SMALL\", \"SMALLEST\"), (\"YOUNG\", \"YOUNGEST\", \"STRONG\", \"STRONGEST\"), (\"YOUNG\", \"YOUNGEST\", \"WEAK\", \"WEAKEST\")], \"correct\" => Any[], \"section\" => \"gram4-superlative\")\n",
       " Dict(\"incorrect\" => [(\"CODE\", \"CODING\", \"DISCOVER\", \"DISCOVERING\"), (\"CODE\", \"CODING\", \"ENHANCE\", \"ENHANCING\"), (\"CODE\", \"CODING\", \"FLY\", \"FLYING\"), (\"CODE\", \"CODING\", \"GENERATE\", \"GENERATING\"), (\"CODE\", \"CODING\", \"GO\", \"GOING\"), (\"CODE\", \"CODING\", \"IMPLEMENT\", \"IMPLEMENTING\"), (\"CODE\", \"CODING\", \"INCREASE\", \"INCREASING\"), (\"CODE\", \"CODING\", \"JUMP\", \"JUMPING\"), (\"CODE\", \"CODING\", \"LOOK\", \"LOOKING\"), (\"CODE\", \"CODING\", \"MOVE\", \"MOVING\")  …  (\"WRITE\", \"WRITING\", \"MOVE\", \"MOVING\"), (\"WRITE\", \"WRITING\", \"PLAY\", \"PLAYING\"), (\"WRITE\", \"WRITING\", \"PREDICT\", \"PREDICTING\"), (\"WRITE\", \"WRITING\", \"READ\", \"READING\"), (\"WRITE\", \"WRITING\", \"RUN\", \"RUNNING\"), (\"WRITE\", \"WRITING\", \"SAY\", \"SAYING\"), (\"WRITE\", \"WRITING\", \"SEE\", \"SEEING\"), (\"WRITE\", \"WRITING\", \"SIT\", \"SITTING\"), (\"WRITE\", \"WRITING\", \"SLOW\", \"SLOWING\"), (\"WRITE\", \"WRITING\", \"THINK\", \"THINKING\")], \"correct\" => [(\"INCREASE\", \"INCREASING\", \"IMPLEMENT\", \"IMPLEMENTING\"), (\"MOVE\", \"MOVING\", \"IMPLEMENT\", \"IMPLEMENTING\"), (\"PREDICT\", \"PREDICTING\", \"SLOW\", \"SLOWING\"), (\"SEE\", \"SEEING\", \"JUMP\", \"JUMPING\")], \"section\" => \"gram5-present-participle\")\n",
       " Dict(\"incorrect\" => [(\"AUSTRALIA\", \"AUSTRALIAN\", \"AUSTRIA\", \"AUSTRIAN\"), (\"AUSTRALIA\", \"AUSTRALIAN\", \"CAMBODIA\", \"CAMBODIAN\"), (\"AUSTRALIA\", \"AUSTRALIAN\", \"DENMARK\", \"DANISH\"), (\"AUSTRALIA\", \"AUSTRALIAN\", \"EGYPT\", \"EGYPTIAN\"), (\"AUSTRALIA\", \"AUSTRALIAN\", \"ENGLAND\", \"ENGLISH\"), (\"AUSTRALIA\", \"AUSTRALIAN\", \"FRANCE\", \"FRENCH\"), (\"AUSTRALIA\", \"AUSTRALIAN\", \"GERMANY\", \"GERMAN\"), (\"AUSTRALIA\", \"AUSTRALIAN\", \"IRELAND\", \"IRISH\"), (\"AUSTRALIA\", \"AUSTRALIAN\", \"ISRAEL\", \"ISRAELI\"), (\"AUSTRALIA\", \"AUSTRALIAN\", \"ITALY\", \"ITALIAN\")  …  (\"THAILAND\", \"THAI\", \"ITALY\", \"ITALIAN\"), (\"THAILAND\", \"THAI\", \"JAPAN\", \"JAPANESE\"), (\"THAILAND\", \"THAI\", \"KOREA\", \"KOREAN\"), (\"THAILAND\", \"THAI\", \"MEXICO\", \"MEXICAN\"), (\"THAILAND\", \"THAI\", \"NETHERLANDS\", \"DUTCH\"), (\"THAILAND\", \"THAI\", \"NORWAY\", \"NORWEGIAN\"), (\"THAILAND\", \"THAI\", \"POLAND\", \"POLISH\"), (\"THAILAND\", \"THAI\", \"RUSSIA\", \"RUSSIAN\"), (\"THAILAND\", \"THAI\", \"SPAIN\", \"SPANISH\"), (\"THAILAND\", \"THAI\", \"SWITZERLAND\", \"SWISS\")], \"correct\" => [(\"AUSTRALIA\", \"AUSTRALIAN\", \"BRAZIL\", \"BRAZILIAN\"), (\"AUSTRALIA\", \"AUSTRALIAN\", \"CHINA\", \"CHINESE\"), (\"AUSTRALIA\", \"AUSTRALIAN\", \"INDIA\", \"INDIAN\"), (\"AUSTRALIA\", \"AUSTRALIAN\", \"MEXICO\", \"MEXICAN\"), (\"AUSTRALIA\", \"AUSTRALIAN\", \"THAILAND\", \"THAI\"), (\"AUSTRIA\", \"AUSTRIAN\", \"CAMBODIA\", \"CAMBODIAN\"), (\"AUSTRIA\", \"AUSTRIAN\", \"CHINA\", \"CHINESE\"), (\"BRAZIL\", \"BRAZILIAN\", \"CAMBODIA\", \"CAMBODIAN\"), (\"BRAZIL\", \"BRAZILIAN\", \"CHINA\", \"CHINESE\"), (\"BRAZIL\", \"BRAZILIAN\", \"POLAND\", \"POLISH\")  …  (\"SPAIN\", \"SPANISH\", \"CAMBODIA\", \"CAMBODIAN\"), (\"SPAIN\", \"SPANISH\", \"GERMANY\", \"GERMAN\"), (\"SPAIN\", \"SPANISH\", \"RUSSIA\", \"RUSSIAN\"), (\"SWITZERLAND\", \"SWISS\", \"AUSTRALIA\", \"AUSTRALIAN\"), (\"SWITZERLAND\", \"SWISS\", \"CAMBODIA\", \"CAMBODIAN\"), (\"SWITZERLAND\", \"SWISS\", \"CHINA\", \"CHINESE\"), (\"SWITZERLAND\", \"SWISS\", \"ISRAEL\", \"ISRAELI\"), (\"SWITZERLAND\", \"SWISS\", \"RUSSIA\", \"RUSSIAN\"), (\"THAILAND\", \"THAI\", \"CAMBODIA\", \"CAMBODIAN\"), (\"THAILAND\", \"THAI\", \"CHINA\", \"CHINESE\")], \"section\" => \"gram6-nationality-adjective\")\n",
       " Dict(\"incorrect\" => [(\"DESCRIBING\", \"DESCRIBED\", \"ENHANCING\", \"ENHANCED\"), (\"DESCRIBING\", \"DESCRIBED\", \"FALLING\", \"FELL\"), (\"DESCRIBING\", \"DESCRIBED\", \"GENERATING\", \"GENERATED\"), (\"DESCRIBING\", \"DESCRIBED\", \"GOING\", \"WENT\"), (\"DESCRIBING\", \"DESCRIBED\", \"HITTING\", \"HIT\"), (\"DESCRIBING\", \"DESCRIBED\", \"IMPLEMENTING\", \"IMPLEMENTED\"), (\"DESCRIBING\", \"DESCRIBED\", \"INCREASING\", \"INCREASED\"), (\"DESCRIBING\", \"DESCRIBED\", \"JUMPING\", \"JUMPED\"), (\"DESCRIBING\", \"DESCRIBED\", \"LOOKING\", \"LOOKED\"), (\"DESCRIBING\", \"DESCRIBED\", \"MOVING\", \"MOVED\")  …  (\"WRITING\", \"WROTE\", \"RUNNING\", \"RAN\"), (\"WRITING\", \"WROTE\", \"SAYING\", \"SAID\"), (\"WRITING\", \"WROTE\", \"SEEING\", \"SAW\"), (\"WRITING\", \"WROTE\", \"SELLING\", \"SOLD\"), (\"WRITING\", \"WROTE\", \"SITTING\", \"SAT\"), (\"WRITING\", \"WROTE\", \"SLOWING\", \"SLOWED\"), (\"WRITING\", \"WROTE\", \"SPENDING\", \"SPENT\"), (\"WRITING\", \"WROTE\", \"STRIKING\", \"STRUCK\"), (\"WRITING\", \"WROTE\", \"TAKING\", \"TOOK\"), (\"WRITING\", \"WROTE\", \"THINKING\", \"THOUGHT\")], \"correct\" => [(\"ENHANCING\", \"ENHANCED\", \"FALLING\", \"FELL\"), (\"PLAYING\", \"PLAYED\", \"ENHANCING\", \"ENHANCED\"), (\"PREDICTING\", \"PREDICTED\", \"HITTING\", \"HIT\"), (\"RUNNING\", \"RAN\", \"SELLING\", \"SOLD\"), (\"SELLING\", \"SOLD\", \"FALLING\", \"FELL\"), (\"SPENDING\", \"SPENT\", \"GENERATING\", \"GENERATED\")], \"section\" => \"gram7-past-tense\")\n",
       " Dict(\"incorrect\" => [(\"BUILDING\", \"BUILDINGS\", \"CAR\", \"CARS\"), (\"BUILDING\", \"BUILDINGS\", \"CHILD\", \"CHILDREN\"), (\"BUILDING\", \"BUILDINGS\", \"COMPUTER\", \"COMPUTERS\"), (\"BUILDING\", \"BUILDINGS\", \"DOG\", \"DOGS\"), (\"BUILDING\", \"BUILDINGS\", \"DOLLAR\", \"DOLLARS\"), (\"BUILDING\", \"BUILDINGS\", \"EYE\", \"EYES\"), (\"BUILDING\", \"BUILDINGS\", \"HAND\", \"HANDS\"), (\"BUILDING\", \"BUILDINGS\", \"MACHINE\", \"MACHINES\"), (\"BUILDING\", \"BUILDINGS\", \"MAN\", \"MEN\"), (\"BUILDING\", \"BUILDINGS\", \"ROAD\", \"ROADS\")  …  (\"WOMAN\", \"WOMEN\", \"CAR\", \"CARS\"), (\"WOMAN\", \"WOMEN\", \"CHILD\", \"CHILDREN\"), (\"WOMAN\", \"WOMEN\", \"COMPUTER\", \"COMPUTERS\"), (\"WOMAN\", \"WOMEN\", \"DOG\", \"DOGS\"), (\"WOMAN\", \"WOMEN\", \"DOLLAR\", \"DOLLARS\"), (\"WOMAN\", \"WOMEN\", \"EYE\", \"EYES\"), (\"WOMAN\", \"WOMEN\", \"HAND\", \"HANDS\"), (\"WOMAN\", \"WOMEN\", \"MACHINE\", \"MACHINES\"), (\"WOMAN\", \"WOMEN\", \"MAN\", \"MEN\"), (\"WOMAN\", \"WOMEN\", \"ROAD\", \"ROADS\")], \"correct\" => Any[], \"section\" => \"gram8-plural\")\n",
       " Dict(\"incorrect\" => [(\"ENHANCE\", \"ENHANCES\", \"ESTIMATE\", \"ESTIMATES\"), (\"ENHANCE\", \"ENHANCES\", \"GENERATE\", \"GENERATES\"), (\"ENHANCE\", \"ENHANCES\", \"GO\", \"GOES\"), (\"ENHANCE\", \"ENHANCES\", \"INCREASE\", \"INCREASES\"), (\"ENHANCE\", \"ENHANCES\", \"PLAY\", \"PLAYS\"), (\"ENHANCE\", \"ENHANCES\", \"PREDICT\", \"PREDICTS\"), (\"ENHANCE\", \"ENHANCES\", \"SAY\", \"SAYS\"), (\"ENHANCE\", \"ENHANCES\", \"SEE\", \"SEES\"), (\"ENHANCE\", \"ENHANCES\", \"SIT\", \"SITS\"), (\"ENHANCE\", \"ENHANCES\", \"SPEAK\", \"SPEAKS\")  …  (\"WRITE\", \"WRITES\", \"PREDICT\", \"PREDICTS\"), (\"WRITE\", \"WRITES\", \"PROVIDE\", \"PROVIDES\"), (\"WRITE\", \"WRITES\", \"SAY\", \"SAYS\"), (\"WRITE\", \"WRITES\", \"SEE\", \"SEES\"), (\"WRITE\", \"WRITES\", \"SIT\", \"SITS\"), (\"WRITE\", \"WRITES\", \"SPEAK\", \"SPEAKS\"), (\"WRITE\", \"WRITES\", \"TALK\", \"TALKS\"), (\"WRITE\", \"WRITES\", \"THINK\", \"THINKS\"), (\"WRITE\", \"WRITES\", \"WALK\", \"WALKS\"), (\"WRITE\", \"WRITES\", \"WORK\", \"WORKS\")], \"correct\" => [(\"ENHANCE\", \"ENHANCES\", \"PROVIDE\", \"PROVIDES\")], \"section\" => \"gram9-plural-verbs\")\n",
       " Dict(\"incorrect\" => [(\"BAGHDAD\", \"IRAQ\", \"BANGKOK\", \"THAILAND\"), (\"BAGHDAD\", \"IRAQ\", \"CAIRO\", \"EGYPT\"), (\"BAGHDAD\", \"IRAQ\", \"ISLAMABAD\", \"PAKISTAN\"), (\"BAGHDAD\", \"IRAQ\", \"KABUL\", \"AFGHANISTAN\"), (\"BAGHDAD\", \"IRAQ\", \"LONDON\", \"ENGLAND\"), (\"BAGHDAD\", \"IRAQ\", \"MADRID\", \"SPAIN\"), (\"BAGHDAD\", \"IRAQ\", \"MOSCOW\", \"RUSSIA\"), (\"BAGHDAD\", \"IRAQ\", \"OTTAWA\", \"CANADA\"), (\"BAGHDAD\", \"IRAQ\", \"PARIS\", \"FRANCE\"), (\"BAGHDAD\", \"IRAQ\", \"ROME\", \"ITALY\")  …  (\"WRITE\", \"WRITES\", \"PREDICT\", \"PREDICTS\"), (\"WRITE\", \"WRITES\", \"PROVIDE\", \"PROVIDES\"), (\"WRITE\", \"WRITES\", \"SAY\", \"SAYS\"), (\"WRITE\", \"WRITES\", \"SEE\", \"SEES\"), (\"WRITE\", \"WRITES\", \"SIT\", \"SITS\"), (\"WRITE\", \"WRITES\", \"SPEAK\", \"SPEAKS\"), (\"WRITE\", \"WRITES\", \"TALK\", \"TALKS\"), (\"WRITE\", \"WRITES\", \"THINK\", \"THINKS\"), (\"WRITE\", \"WRITES\", \"WALK\", \"WALKS\"), (\"WRITE\", \"WRITES\", \"WORK\", \"WORKS\")], \"correct\" => [(\"BAGHDAD\", \"IRAQ\", \"BEIJING\", \"CHINA\"), (\"BAGHDAD\", \"IRAQ\", \"BERLIN\", \"GERMANY\"), (\"BAGHDAD\", \"IRAQ\", \"HAVANA\", \"CUBA\"), (\"BAGHDAD\", \"IRAQ\", \"OSLO\", \"NORWAY\"), (\"BANGKOK\", \"THAILAND\", \"BEIJING\", \"CHINA\"), (\"BANGKOK\", \"THAILAND\", \"HAVANA\", \"CUBA\"), (\"BANGKOK\", \"THAILAND\", \"ISLAMABAD\", \"PAKISTAN\"), (\"BANGKOK\", \"THAILAND\", \"MOSCOW\", \"RUSSIA\"), (\"BANGKOK\", \"THAILAND\", \"OSLO\", \"NORWAY\"), (\"BANGKOK\", \"THAILAND\", \"PARIS\", \"FRANCE\")  …  (\"SWITZERLAND\", \"SWISS\", \"RUSSIA\", \"RUSSIAN\"), (\"THAILAND\", \"THAI\", \"CAMBODIA\", \"CAMBODIAN\"), (\"THAILAND\", \"THAI\", \"CHINA\", \"CHINESE\"), (\"ENHANCING\", \"ENHANCED\", \"FALLING\", \"FELL\"), (\"PLAYING\", \"PLAYED\", \"ENHANCING\", \"ENHANCED\"), (\"PREDICTING\", \"PREDICTED\", \"HITTING\", \"HIT\"), (\"RUNNING\", \"RAN\", \"SELLING\", \"SOLD\"), (\"SELLING\", \"SOLD\", \"FALLING\", \"FELL\"), (\"SPENDING\", \"SPENT\", \"GENERATING\", \"GENERATED\"), (\"ENHANCE\", \"ENHANCES\", \"PROVIDE\", \"PROVIDES\")], \"section\" => \"Total accuracy\")"
      ]
     },
     "execution_count": 73,
     "metadata": {},
     "output_type": "execute_result"
    }
   ],
   "source": [
    "# gensim computes accuracy based on source text files\n",
    "detailed_accuracy = best_model.wv.evaluate_word_analogies(normpath(analogy_path), case_insensitive=true)[2]"
   ]
  },
  {
   "cell_type": "code",
   "execution_count": 74,
   "metadata": {
    "ExecuteTime": {
     "end_time": "2020-03-12T17:02:13.790580Z",
     "start_time": "2020-03-12T17:02:13.770221Z"
    }
   },
   "outputs": [
    {
     "name": "stdout",
     "output_type": "stream",
     "text": [
      "15×4 DataFrame\n",
      "│ Row │ category                    │ correct │ incorrect │ average    │\n",
      "│     │ \u001b[90mString\u001b[39m                      │ \u001b[90mInt64\u001b[39m   │ \u001b[90mInt64\u001b[39m     │ \u001b[90mFloat64\u001b[39m    │\n",
      "├─────┼─────────────────────────────┼─────────┼───────────┼────────────┤\n",
      "│ 1   │ capital-world               │ 74      │ 58        │ 0.560606   │\n",
      "│ 2   │ city-in-state               │ 275     │ 307       │ 0.472509   │\n",
      "│ 3   │ capital-common-countries    │ 100     │ 172       │ 0.367647   │\n",
      "│ 4   │ gram6-nationality-adjective │ 87      │ 465       │ 0.157609   │\n",
      "│ 5   │ Total accuracy              │ 559     │ 3549      │ 0.136076   │\n",
      "│ 6   │ currency                    │ 5       │ 63        │ 0.0735294  │\n",
      "│ 7   │ gram2-opposite              │ 3       │ 39        │ 0.0714286  │\n",
      "│ 8   │ family                      │ 2       │ 40        │ 0.047619   │\n",
      "│ 9   │ gram5-present-participle    │ 4       │ 416       │ 0.00952381 │\n",
      "│ 10  │ gram7-past-tense            │ 6       │ 644       │ 0.00923077 │\n",
      "│ 11  │ gram1-adjective-to-adverb   │ 1       │ 209       │ 0.0047619  │\n",
      "│ 12  │ gram9-plural-verbs          │ 1       │ 271       │ 0.00367647 │\n",
      "│ 13  │ gram3-comparative           │ 1       │ 551       │ 0.00181159 │\n",
      "│ 14  │ gram4-superlative           │ 0       │ 182       │ 0.0        │\n",
      "│ 15  │ gram8-plural                │ 0       │ 132       │ 0.0        │\n",
      "\n",
      "Base Accuracy: Correct 559 | Wrong 3549 | Avg 0.1360759493670886\n"
     ]
    }
   ],
   "source": [
    "# get accuracy per category\n",
    "summary = accuracy_by_category(detailed_accuracy)\n",
    "println(\"\\nBase Accuracy: Correct $(summary[1]) | Wrong $(summary[2]) | Avg $(summary[3])\")"
   ]
  },
  {
   "cell_type": "code",
   "execution_count": 75,
   "metadata": {
    "ExecuteTime": {
     "end_time": "2020-03-12T17:25:41.119465Z",
     "start_time": "2020-03-12T17:25:41.091975Z"
    }
   },
   "outputs": [
    {
     "name": "stdout",
     "output_type": "stream",
     "text": [
      "14×4 DataFrame\n",
      "│ Row │ Category     │ Correct │ Incorrect │ Average    │\n",
      "│     │ \u001b[90mString\u001b[39m       │ \u001b[90mInt64\u001b[39m   │ \u001b[90mInt64\u001b[39m     │ \u001b[90mFloat64\u001b[39m    │\n",
      "├─────┼──────────────┼─────────┼───────────┼────────────┤\n",
      "│ 1   │ Capitals     │ 100     │ 172       │ 0.367647   │\n",
      "│ 2   │ Capitals RoW │ 74      │ 58        │ 0.560606   │\n",
      "│ 3   │ City-State   │ 275     │ 307       │ 0.472509   │\n",
      "│ 4   │ Currency     │ 5       │ 63        │ 0.0735294  │\n",
      "│ 5   │ Famliy       │ 2       │ 40        │ 0.047619   │\n",
      "│ 6   │ Adj-Adverb   │ 1       │ 209       │ 0.0047619  │\n",
      "│ 7   │ Opposite     │ 3       │ 39        │ 0.0714286  │\n",
      "│ 8   │ Comparative  │ 1       │ 551       │ 0.00181159 │\n",
      "│ 9   │ Superlative  │ 0       │ 182       │ 0.0        │\n",
      "│ 10  │ Pres. Part.  │ 4       │ 416       │ 0.00952381 │\n",
      "│ 11  │ Nationality  │ 87      │ 465       │ 0.157609   │\n",
      "│ 12  │ Past Tense   │ 6       │ 644       │ 0.00923077 │\n",
      "│ 13  │ Plural       │ 0       │ 132       │ 0.0        │\n",
      "│ 14  │ Plural Verbs │ 1       │ 271       │ 0.00367647 │\n",
      "\n",
      " Total: 1×4 DataFrame\n",
      "│ Row │ Category       │ Correct │ Incorrect │ Average  │\n",
      "│     │ String         │ Int64   │ Int64     │ Float64  │\n",
      "├─────┼────────────────┼─────────┼───────────┼──────────┤\n",
      "│ 1   │ Total accuracy │ 559     │ 3549      │ 0.136076 │\n"
     ]
    }
   ],
   "source": [
    "results = [[c[\"section\"], length(c[\"correct\"]), length(c[\"incorrect\"])] for c ∈ detailed_accuracy]\n",
    "\n",
    "results = DataFrame(category = [result[1] for result ∈ results],\n",
    "                    correct = [result[2] for result ∈ results], \n",
    "                    incorrect = [result[3] for result ∈ results])\n",
    "\n",
    "for item ∈ keys(cat_dict)\n",
    "    replace!(results[!, \"category\"], item => cat_dict[item])\n",
    "end\n",
    "\n",
    "results[!, \"average\"] = results.correct./sum.(eachrow(results[:, [\"correct\", \"incorrect\"]]))\n",
    "rename!(results, uppercasefirst.(names(results)))\n",
    "total = filter(row -> row.Category == \"Total accuracy\", results)\n",
    "results = filter(row -> row.Category != \"Total accuracy\", results)\n",
    "println(results)\n",
    "println(\"\\n Total: $(total)\")"
   ]
  },
  {
   "cell_type": "code",
   "execution_count": 76,
   "metadata": {
    "ExecuteTime": {
     "end_time": "2020-03-12T17:02:13.816133Z",
     "start_time": "2020-03-12T17:02:13.792634Z"
    },
    "slideshow": {
     "slide_type": "slide"
    }
   },
   "outputs": [
    {
     "data": {
      "text/html": [
       "<table class=\"data-frame\"><thead><tr><th></th><th>token</th><th>similarity</th></tr><tr><th></th><th>String</th><th>Float64</th></tr></thead><tbody><p>20 rows × 2 columns</p><tr><th>1</th><td>explained</td><td>0.265076</td></tr><tr><th>2</th><td>shore</td><td>0.264277</td></tr><tr><th>3</th><td>larry</td><td>0.257435</td></tr><tr><th>4</th><td>northeastern</td><td>0.249419</td></tr><tr><th>5</th><td>multifamily</td><td>0.246019</td></tr><tr><th>6</th><td>stonestreet</td><td>0.244861</td></tr><tr><th>7</th><td>gulf</td><td>0.242987</td></tr><tr><th>8</th><td>youngest</td><td>0.240385</td></tr><tr><th>9</th><td>relieved</td><td>0.236642</td></tr><tr><th>10</th><td>das</td><td>0.234685</td></tr><tr><th>11</th><td>village</td><td>0.234456</td></tr><tr><th>12</th><td>embrace</td><td>0.230961</td></tr><tr><th>13</th><td>properties</td><td>0.229803</td></tr><tr><th>14</th><td>ytd</td><td>0.229727</td></tr><tr><th>15</th><td>billion</td><td>0.228756</td></tr><tr><th>16</th><td>riyadh</td><td>0.22737</td></tr><tr><th>17</th><td>catherine</td><td>0.22617</td></tr><tr><th>18</th><td>salman</td><td>0.225493</td></tr><tr><th>19</th><td>northern</td><td>0.224148</td></tr><tr><th>20</th><td>stories</td><td>0.224049</td></tr></tbody></table>"
      ],
      "text/latex": [
       "\\begin{tabular}{r|cc}\n",
       "\t& token & similarity\\\\\n",
       "\t\\hline\n",
       "\t& String & Float64\\\\\n",
       "\t\\hline\n",
       "\t1 & explained & 0.265076 \\\\\n",
       "\t2 & shore & 0.264277 \\\\\n",
       "\t3 & larry & 0.257435 \\\\\n",
       "\t4 & northeastern & 0.249419 \\\\\n",
       "\t5 & multifamily & 0.246019 \\\\\n",
       "\t6 & stonestreet & 0.244861 \\\\\n",
       "\t7 & gulf & 0.242987 \\\\\n",
       "\t8 & youngest & 0.240385 \\\\\n",
       "\t9 & relieved & 0.236642 \\\\\n",
       "\t10 & das & 0.234685 \\\\\n",
       "\t11 & village & 0.234456 \\\\\n",
       "\t12 & embrace & 0.230961 \\\\\n",
       "\t13 & properties & 0.229803 \\\\\n",
       "\t14 & ytd & 0.229727 \\\\\n",
       "\t15 & billion & 0.228756 \\\\\n",
       "\t16 & riyadh & 0.22737 \\\\\n",
       "\t17 & catherine & 0.22617 \\\\\n",
       "\t18 & salman & 0.225493 \\\\\n",
       "\t19 & northern & 0.224148 \\\\\n",
       "\t20 & stories & 0.224049 \\\\\n",
       "\\end{tabular}\n"
      ],
      "text/plain": [
       "20×2 DataFrame\n",
       "│ Row │ token        │ similarity │\n",
       "│     │ \u001b[90mString\u001b[39m       │ \u001b[90mFloat64\u001b[39m    │\n",
       "├─────┼──────────────┼────────────┤\n",
       "│ 1   │ explained    │ 0.265076   │\n",
       "│ 2   │ shore        │ 0.264277   │\n",
       "│ 3   │ larry        │ 0.257435   │\n",
       "│ 4   │ northeastern │ 0.249419   │\n",
       "│ 5   │ multifamily  │ 0.246019   │\n",
       "│ 6   │ stonestreet  │ 0.244861   │\n",
       "│ 7   │ gulf         │ 0.242987   │\n",
       "│ 8   │ youngest     │ 0.240385   │\n",
       "│ 9   │ relieved     │ 0.236642   │\n",
       "│ 10  │ das          │ 0.234685   │\n",
       "│ 11  │ village      │ 0.234456   │\n",
       "│ 12  │ embrace      │ 0.230961   │\n",
       "│ 13  │ properties   │ 0.229803   │\n",
       "│ 14  │ ytd          │ 0.229727   │\n",
       "│ 15  │ billion      │ 0.228756   │\n",
       "│ 16  │ riyadh       │ 0.22737    │\n",
       "│ 17  │ catherine    │ 0.22617    │\n",
       "│ 18  │ salman       │ 0.225493   │\n",
       "│ 19  │ northern     │ 0.224148   │\n",
       "│ 20  │ stories      │ 0.224049   │"
      ]
     },
     "execution_count": 76,
     "metadata": {},
     "output_type": "execute_result"
    }
   ],
   "source": [
    "most_sim = best_model.wv.most_similar(positive=[\"woman\", \"king\"], negative=[\"man\"], topn=20)\n",
    "most_sim_df = DataFrame(token=[pair[1] for pair ∈ most_sim], \n",
    "                        similarity=[pair[2] for pair ∈ most_sim])"
   ]
  },
  {
   "cell_type": "code",
   "execution_count": 86,
   "metadata": {
    "ExecuteTime": {
     "end_time": "2020-03-12T17:30:26.704078Z",
     "start_time": "2020-03-12T17:30:25.758666Z"
    }
   },
   "outputs": [
    {
     "data": {
      "image/svg+xml": "<?xml version=\"1.0\" encoding=\"utf-8\"?>\n<svg xmlns=\"http://www.w3.org/2000/svg\" xmlns:xlink=\"http://www.w3.org/1999/xlink\" width=\"900\" height=\"400\" viewBox=\"0 0 3600 1600\">\n<defs>\n  <clipPath id=\"clip2900\">\n    <rect x=\"0\" y=\"0\" width=\"3600\" height=\"1600\"/>\n  </clipPath>\n</defs>\n<path clip-path=\"url(#clip2900)\" d=\"\nM0 1600 L3600 1600 L3600 0 L0 0  Z\n  \" fill=\"#ffffff\" fill-rule=\"evenodd\" fill-opacity=\"1\"/>\n<defs>\n  <clipPath id=\"clip2901\">\n    <rect x=\"720\" y=\"0\" width=\"2521\" height=\"1600\"/>\n  </clipPath>\n</defs>\n<path clip-path=\"url(#clip2900)\" d=\"\nM225.766 1498.65 L3552.76 1498.65 L3552.76 102.114 L225.766 102.114  Z\n  \" fill=\"#ffffff\" fill-rule=\"evenodd\" fill-opacity=\"1\"/>\n<defs>\n  <clipPath id=\"clip2902\">\n    <rect x=\"225\" y=\"102\" width=\"3328\" height=\"1398\"/>\n  </clipPath>\n</defs>\n<polyline clip-path=\"url(#clip2902)\" style=\"stroke:#000000; stroke-width:2; stroke-opacity:0.1; fill:none\" points=\"\n  416.483,1498.65 416.483,102.114 \n  \"/>\n<polyline clip-path=\"url(#clip2902)\" style=\"stroke:#000000; stroke-width:2; stroke-opacity:0.1; fill:none\" points=\"\n  941.907,1498.65 941.907,102.114 \n  \"/>\n<polyline clip-path=\"url(#clip2902)\" style=\"stroke:#000000; stroke-width:2; stroke-opacity:0.1; fill:none\" points=\"\n  1467.33,1498.65 1467.33,102.114 \n  \"/>\n<polyline clip-path=\"url(#clip2902)\" style=\"stroke:#000000; stroke-width:2; stroke-opacity:0.1; fill:none\" points=\"\n  1992.75,1498.65 1992.75,102.114 \n  \"/>\n<polyline clip-path=\"url(#clip2902)\" style=\"stroke:#000000; stroke-width:2; stroke-opacity:0.1; fill:none\" points=\"\n  2518.18,1498.65 2518.18,102.114 \n  \"/>\n<polyline clip-path=\"url(#clip2902)\" style=\"stroke:#000000; stroke-width:2; stroke-opacity:0.1; fill:none\" points=\"\n  3043.6,1498.65 3043.6,102.114 \n  \"/>\n<polyline clip-path=\"url(#clip2902)\" style=\"stroke:#000000; stroke-width:2; stroke-opacity:0.1; fill:none\" points=\"\n  225.766,1459.13 3552.76,1459.13 \n  \"/>\n<polyline clip-path=\"url(#clip2902)\" style=\"stroke:#000000; stroke-width:2; stroke-opacity:0.1; fill:none\" points=\"\n  225.766,1219.58 3552.76,1219.58 \n  \"/>\n<polyline clip-path=\"url(#clip2902)\" style=\"stroke:#000000; stroke-width:2; stroke-opacity:0.1; fill:none\" points=\"\n  225.766,980.041 3552.76,980.041 \n  \"/>\n<polyline clip-path=\"url(#clip2902)\" style=\"stroke:#000000; stroke-width:2; stroke-opacity:0.1; fill:none\" points=\"\n  225.766,740.497 3552.76,740.497 \n  \"/>\n<polyline clip-path=\"url(#clip2902)\" style=\"stroke:#000000; stroke-width:2; stroke-opacity:0.1; fill:none\" points=\"\n  225.766,500.954 3552.76,500.954 \n  \"/>\n<polyline clip-path=\"url(#clip2902)\" style=\"stroke:#000000; stroke-width:2; stroke-opacity:0.1; fill:none\" points=\"\n  225.766,261.411 3552.76,261.411 \n  \"/>\n<polyline clip-path=\"url(#clip2900)\" style=\"stroke:#000000; stroke-width:4; stroke-opacity:1; fill:none\" points=\"\n  225.766,1498.65 3552.76,1498.65 \n  \"/>\n<polyline clip-path=\"url(#clip2900)\" style=\"stroke:#000000; stroke-width:4; stroke-opacity:1; fill:none\" points=\"\n  225.766,1498.65 225.766,102.114 \n  \"/>\n<polyline clip-path=\"url(#clip2900)\" style=\"stroke:#000000; stroke-width:4; stroke-opacity:1; fill:none\" points=\"\n  416.483,1498.65 416.483,1481.89 \n  \"/>\n<polyline clip-path=\"url(#clip2900)\" style=\"stroke:#000000; stroke-width:4; stroke-opacity:1; fill:none\" points=\"\n  941.907,1498.65 941.907,1481.89 \n  \"/>\n<polyline clip-path=\"url(#clip2900)\" style=\"stroke:#000000; stroke-width:4; stroke-opacity:1; fill:none\" points=\"\n  1467.33,1498.65 1467.33,1481.89 \n  \"/>\n<polyline clip-path=\"url(#clip2900)\" style=\"stroke:#000000; stroke-width:4; stroke-opacity:1; fill:none\" points=\"\n  1992.75,1498.65 1992.75,1481.89 \n  \"/>\n<polyline clip-path=\"url(#clip2900)\" style=\"stroke:#000000; stroke-width:4; stroke-opacity:1; fill:none\" points=\"\n  2518.18,1498.65 2518.18,1481.89 \n  \"/>\n<polyline clip-path=\"url(#clip2900)\" style=\"stroke:#000000; stroke-width:4; stroke-opacity:1; fill:none\" points=\"\n  3043.6,1498.65 3043.6,1481.89 \n  \"/>\n<polyline clip-path=\"url(#clip2900)\" style=\"stroke:#000000; stroke-width:4; stroke-opacity:1; fill:none\" points=\"\n  225.766,1459.13 265.69,1459.13 \n  \"/>\n<polyline clip-path=\"url(#clip2900)\" style=\"stroke:#000000; stroke-width:4; stroke-opacity:1; fill:none\" points=\"\n  225.766,1219.58 265.69,1219.58 \n  \"/>\n<polyline clip-path=\"url(#clip2900)\" style=\"stroke:#000000; stroke-width:4; stroke-opacity:1; fill:none\" points=\"\n  225.766,980.041 265.69,980.041 \n  \"/>\n<polyline clip-path=\"url(#clip2900)\" style=\"stroke:#000000; stroke-width:4; stroke-opacity:1; fill:none\" points=\"\n  225.766,740.497 265.69,740.497 \n  \"/>\n<polyline clip-path=\"url(#clip2900)\" style=\"stroke:#000000; stroke-width:4; stroke-opacity:1; fill:none\" points=\"\n  225.766,500.954 265.69,500.954 \n  \"/>\n<polyline clip-path=\"url(#clip2900)\" style=\"stroke:#000000; stroke-width:4; stroke-opacity:1; fill:none\" points=\"\n  225.766,261.411 265.69,261.411 \n  \"/>\n<g clip-path=\"url(#clip2900)\">\n<text style=\"fill:#000000; fill-opacity:1; font-family:Arial,Helvetica Neue,Helvetica,sans-serif; font-size:48px; text-anchor:middle;\" transform=\"rotate(0, 416.483, 1558.65)\" x=\"416.483\" y=\"1558.65\">0.0</text>\n</g>\n<g clip-path=\"url(#clip2900)\">\n<text style=\"fill:#000000; fill-opacity:1; font-family:Arial,Helvetica Neue,Helvetica,sans-serif; font-size:48px; text-anchor:middle;\" transform=\"rotate(0, 941.907, 1558.65)\" x=\"941.907\" y=\"1558.65\">0.1</text>\n</g>\n<g clip-path=\"url(#clip2900)\">\n<text style=\"fill:#000000; fill-opacity:1; font-family:Arial,Helvetica Neue,Helvetica,sans-serif; font-size:48px; text-anchor:middle;\" transform=\"rotate(0, 1467.33, 1558.65)\" x=\"1467.33\" y=\"1558.65\">0.2</text>\n</g>\n<g clip-path=\"url(#clip2900)\">\n<text style=\"fill:#000000; fill-opacity:1; font-family:Arial,Helvetica Neue,Helvetica,sans-serif; font-size:48px; text-anchor:middle;\" transform=\"rotate(0, 1992.75, 1558.65)\" x=\"1992.75\" y=\"1558.65\">0.3</text>\n</g>\n<g clip-path=\"url(#clip2900)\">\n<text style=\"fill:#000000; fill-opacity:1; font-family:Arial,Helvetica Neue,Helvetica,sans-serif; font-size:48px; text-anchor:middle;\" transform=\"rotate(0, 2518.18, 1558.65)\" x=\"2518.18\" y=\"1558.65\">0.4</text>\n</g>\n<g clip-path=\"url(#clip2900)\">\n<text style=\"fill:#000000; fill-opacity:1; font-family:Arial,Helvetica Neue,Helvetica,sans-serif; font-size:48px; text-anchor:middle;\" transform=\"rotate(0, 3043.6, 1558.65)\" x=\"3043.6\" y=\"1558.65\">0.5</text>\n</g>\n<g clip-path=\"url(#clip2900)\">\n<text style=\"fill:#000000; fill-opacity:1; font-family:Arial,Helvetica Neue,Helvetica,sans-serif; font-size:48px; text-anchor:end;\" transform=\"rotate(0, 189.766, 1476.63)\" x=\"189.766\" y=\"1476.63\">0</text>\n</g>\n<g clip-path=\"url(#clip2900)\">\n<text style=\"fill:#000000; fill-opacity:1; font-family:Arial,Helvetica Neue,Helvetica,sans-serif; font-size:48px; text-anchor:end;\" transform=\"rotate(0, 189.766, 1237.08)\" x=\"189.766\" y=\"1237.08\">50</text>\n</g>\n<g clip-path=\"url(#clip2900)\">\n<text style=\"fill:#000000; fill-opacity:1; font-family:Arial,Helvetica Neue,Helvetica,sans-serif; font-size:48px; text-anchor:end;\" transform=\"rotate(0, 189.766, 997.541)\" x=\"189.766\" y=\"997.541\">100</text>\n</g>\n<g clip-path=\"url(#clip2900)\">\n<text style=\"fill:#000000; fill-opacity:1; font-family:Arial,Helvetica Neue,Helvetica,sans-serif; font-size:48px; text-anchor:end;\" transform=\"rotate(0, 189.766, 757.997)\" x=\"189.766\" y=\"757.997\">150</text>\n</g>\n<g clip-path=\"url(#clip2900)\">\n<text style=\"fill:#000000; fill-opacity:1; font-family:Arial,Helvetica Neue,Helvetica,sans-serif; font-size:48px; text-anchor:end;\" transform=\"rotate(0, 189.766, 518.454)\" x=\"189.766\" y=\"518.454\">200</text>\n</g>\n<g clip-path=\"url(#clip2900)\">\n<text style=\"fill:#000000; fill-opacity:1; font-family:Arial,Helvetica Neue,Helvetica,sans-serif; font-size:48px; text-anchor:end;\" transform=\"rotate(0, 189.766, 278.911)\" x=\"189.766\" y=\"278.911\">250</text>\n</g>\n<g clip-path=\"url(#clip2900)\">\n<text style=\"fill:#000000; fill-opacity:1; font-family:Arial,Helvetica Neue,Helvetica,sans-serif; font-size:82px; text-anchor:middle;\" transform=\"rotate(0, 1889.26, 72)\" x=\"1889.26\" y=\"72\"># Analogies Accuracy</text>\n</g>\n<g clip-path=\"url(#clip2900)\">\n<text style=\"fill:#000000; fill-opacity:1; font-family:Arial,Helvetica Neue,Helvetica,sans-serif; font-size:66px; text-anchor:middle;\" transform=\"rotate(-90, 61.9168, 800.383)\" x=\"61.9168\" y=\"800.383\">category</text>\n</g>\n<path clip-path=\"url(#clip2902)\" d=\"\nM2340.46 980.041 L2340.46 1459.13 L2355.91 1459.13 L2355.91 980.041 L2340.46 980.041 L2340.46 980.041  Z\n  \" fill=\"#009af9\" fill-rule=\"evenodd\" fill-opacity=\"1\"/>\n<polyline clip-path=\"url(#clip2902)\" style=\"stroke:#000000; stroke-width:4; stroke-opacity:1; fill:none\" points=\"\n  2340.46,980.041 2340.46,1459.13 2355.91,1459.13 2355.91,980.041 2340.46,980.041 \n  \"/>\n<path clip-path=\"url(#clip2902)\" d=\"\nM3354.31 1104.6 L3354.31 1459.13 L3369.77 1459.13 L3369.77 1104.6 L3354.31 1104.6 L3354.31 1104.6  Z\n  \" fill=\"#009af9\" fill-rule=\"evenodd\" fill-opacity=\"1\"/>\n<polyline clip-path=\"url(#clip2902)\" style=\"stroke:#000000; stroke-width:4; stroke-opacity:1; fill:none\" points=\"\n  3354.31,1104.6 3354.31,1459.13 3369.77,1459.13 3369.77,1104.6 3354.31,1104.6 \n  \"/>\n<path clip-path=\"url(#clip2902)\" d=\"\nM2891.43 141.639 L2891.43 1459.13 L2906.88 1459.13 L2906.88 141.639 L2891.43 141.639 L2891.43 141.639  Z\n  \" fill=\"#009af9\" fill-rule=\"evenodd\" fill-opacity=\"1\"/>\n<polyline clip-path=\"url(#clip2902)\" style=\"stroke:#000000; stroke-width:4; stroke-opacity:1; fill:none\" points=\"\n  2891.43,141.639 2891.43,1459.13 2906.88,1459.13 2906.88,141.639 2891.43,141.639 \n  \"/>\n<path clip-path=\"url(#clip2902)\" d=\"\nM795.097 1435.17 L795.097 1459.13 L810.551 1459.13 L810.551 1435.17 L795.097 1435.17 L795.097 1435.17  Z\n  \" fill=\"#009af9\" fill-rule=\"evenodd\" fill-opacity=\"1\"/>\n<polyline clip-path=\"url(#clip2902)\" style=\"stroke:#000000; stroke-width:4; stroke-opacity:1; fill:none\" points=\"\n  795.097,1435.17 795.097,1459.13 810.551,1459.13 810.551,1435.17 795.097,1435.17 \n  \"/>\n<path clip-path=\"url(#clip2902)\" d=\"\nM658.958 1449.55 L658.958 1459.13 L674.412 1459.13 L674.412 1449.55 L658.958 1449.55 L658.958 1449.55  Z\n  \" fill=\"#009af9\" fill-rule=\"evenodd\" fill-opacity=\"1\"/>\n<polyline clip-path=\"url(#clip2902)\" style=\"stroke:#000000; stroke-width:4; stroke-opacity:1; fill:none\" points=\"\n  658.958,1449.55 658.958,1459.13 674.412,1459.13 674.412,1449.55 658.958,1449.55 \n  \"/>\n<path clip-path=\"url(#clip2902)\" d=\"\nM433.776 1454.34 L433.776 1459.13 L449.23 1459.13 L449.23 1454.34 L433.776 1454.34 L433.776 1454.34  Z\n  \" fill=\"#009af9\" fill-rule=\"evenodd\" fill-opacity=\"1\"/>\n<polyline clip-path=\"url(#clip2902)\" style=\"stroke:#000000; stroke-width:4; stroke-opacity:1; fill:none\" points=\"\n  433.776,1454.34 433.776,1459.13 449.23,1459.13 449.23,1454.34 433.776,1454.34 \n  \"/>\n<path clip-path=\"url(#clip2902)\" d=\"\nM784.059 1444.76 L784.059 1459.13 L799.512 1459.13 L799.512 1444.76 L784.059 1444.76 L784.059 1444.76  Z\n  \" fill=\"#009af9\" fill-rule=\"evenodd\" fill-opacity=\"1\"/>\n<polyline clip-path=\"url(#clip2902)\" style=\"stroke:#000000; stroke-width:4; stroke-opacity:1; fill:none\" points=\"\n  784.059,1444.76 784.059,1459.13 799.512,1459.13 799.512,1444.76 784.059,1444.76 \n  \"/>\n<path clip-path=\"url(#clip2902)\" d=\"\nM418.275 1454.34 L418.275 1459.13 L433.728 1459.13 L433.728 1454.34 L418.275 1454.34 L418.275 1454.34  Z\n  \" fill=\"#009af9\" fill-rule=\"evenodd\" fill-opacity=\"1\"/>\n<polyline clip-path=\"url(#clip2902)\" style=\"stroke:#000000; stroke-width:4; stroke-opacity:1; fill:none\" points=\"\n  418.275,1454.34 418.275,1459.13 433.728,1459.13 433.728,1454.34 418.275,1454.34 \n  \"/>\n<path clip-path=\"url(#clip2902)\" d=\"\nM408.756 1459.13 L408.756 1459.13 L424.21 1459.13 L424.21 1459.13 L408.756 1459.13 L408.756 1459.13  Z\n  \" fill=\"#009af9\" fill-rule=\"evenodd\" fill-opacity=\"1\"/>\n<polyline clip-path=\"url(#clip2902)\" style=\"stroke:#000000; stroke-width:4; stroke-opacity:1; fill:none\" points=\"\n  408.756,1459.13 408.756,1459.13 424.21,1459.13 408.756,1459.13 \n  \"/>\n<path clip-path=\"url(#clip2902)\" d=\"\nM458.797 1439.96 L458.797 1459.13 L474.25 1459.13 L474.25 1439.96 L458.797 1439.96 L458.797 1439.96  Z\n  \" fill=\"#009af9\" fill-rule=\"evenodd\" fill-opacity=\"1\"/>\n<polyline clip-path=\"url(#clip2902)\" style=\"stroke:#000000; stroke-width:4; stroke-opacity:1; fill:none\" points=\"\n  458.797,1439.96 458.797,1459.13 474.25,1459.13 474.25,1439.96 458.797,1439.96 \n  \"/>\n<path clip-path=\"url(#clip2902)\" d=\"\nM1236.87 1042.32 L1236.87 1459.13 L1252.32 1459.13 L1252.32 1042.32 L1236.87 1042.32 L1236.87 1042.32  Z\n  \" fill=\"#009af9\" fill-rule=\"evenodd\" fill-opacity=\"1\"/>\n<polyline clip-path=\"url(#clip2902)\" style=\"stroke:#000000; stroke-width:4; stroke-opacity:1; fill:none\" points=\"\n  1236.87,1042.32 1236.87,1459.13 1252.32,1459.13 1252.32,1042.32 1236.87,1042.32 \n  \"/>\n<path clip-path=\"url(#clip2902)\" d=\"\nM457.257 1430.38 L457.257 1459.13 L472.711 1459.13 L472.711 1430.38 L457.257 1430.38 L457.257 1430.38  Z\n  \" fill=\"#009af9\" fill-rule=\"evenodd\" fill-opacity=\"1\"/>\n<polyline clip-path=\"url(#clip2902)\" style=\"stroke:#000000; stroke-width:4; stroke-opacity:1; fill:none\" points=\"\n  457.257,1430.38 457.257,1459.13 472.711,1459.13 472.711,1430.38 457.257,1430.38 \n  \"/>\n<path clip-path=\"url(#clip2902)\" d=\"\nM408.756 1459.13 L408.756 1459.13 L424.21 1459.13 L424.21 1459.13 L408.756 1459.13 L408.756 1459.13  Z\n  \" fill=\"#009af9\" fill-rule=\"evenodd\" fill-opacity=\"1\"/>\n<polyline clip-path=\"url(#clip2902)\" style=\"stroke:#000000; stroke-width:4; stroke-opacity:1; fill:none\" points=\"\n  408.756,1459.13 408.756,1459.13 424.21,1459.13 408.756,1459.13 \n  \"/>\n<path clip-path=\"url(#clip2902)\" d=\"\nM428.073 1454.34 L428.073 1459.13 L443.527 1459.13 L443.527 1454.34 L428.073 1454.34 L428.073 1454.34  Z\n  \" fill=\"#009af9\" fill-rule=\"evenodd\" fill-opacity=\"1\"/>\n<polyline clip-path=\"url(#clip2902)\" style=\"stroke:#000000; stroke-width:4; stroke-opacity:1; fill:none\" points=\"\n  428.073,1454.34 428.073,1459.13 443.527,1459.13 443.527,1454.34 428.073,1454.34 \n  \"/>\n<path clip-path=\"url(#clip2900)\" d=\"\nM3033.93 378.594 L3444.76 378.594 L3444.76 257.634 L3033.93 257.634  Z\n  \" fill=\"#ffffff\" fill-rule=\"evenodd\" fill-opacity=\"1\"/>\n<polyline clip-path=\"url(#clip2900)\" style=\"stroke:#000000; stroke-width:4; stroke-opacity:1; fill:none\" points=\"\n  3033.93,378.594 3444.76,378.594 3444.76,257.634 3033.93,257.634 3033.93,378.594 \n  \"/>\n<path clip-path=\"url(#clip2900)\" d=\"\nM3069.93 342.306 L3285.93 342.306 L3285.93 293.922 L3069.93 293.922 L3069.93 342.306  Z\n  \" fill=\"#009af9\" fill-rule=\"evenodd\" fill-opacity=\"1\"/>\n<polyline clip-path=\"url(#clip2900)\" style=\"stroke:#000000; stroke-width:4; stroke-opacity:1; fill:none\" points=\"\n  3069.93,342.306 3285.93,342.306 3285.93,293.922 3069.93,293.922 3069.93,342.306 \n  \"/>\n<g clip-path=\"url(#clip2900)\">\n<text style=\"fill:#000000; fill-opacity:1; font-family:Arial,Helvetica Neue,Helvetica,sans-serif; font-size:48px; text-anchor:start;\" transform=\"rotate(0, 3321.93, 335.614)\" x=\"3321.93\" y=\"335.614\">y1</text>\n</g>\n</svg>\n"
     },
     "execution_count": 86,
     "metadata": {},
     "output_type": "execute_result"
    }
   ],
   "source": [
    "bar(results[:Average], results[\"Correct\"])\n",
    "plot!(size=(900, 400))\n",
    "ylabel!(\"Correct\")\n",
    "title!(\"# Analogies Accuracy\")"
   ]
  },
  {
   "cell_type": "code",
   "execution_count": 87,
   "metadata": {},
   "outputs": [
    {
     "data": {
      "image/svg+xml": "<?xml version=\"1.0\" encoding=\"utf-8\"?>\n<svg xmlns=\"http://www.w3.org/2000/svg\" xmlns:xlink=\"http://www.w3.org/1999/xlink\" width=\"900\" height=\"400\" viewBox=\"0 0 3600 1600\">\n<defs>\n  <clipPath id=\"clip3300\">\n    <rect x=\"0\" y=\"0\" width=\"3600\" height=\"1600\"/>\n  </clipPath>\n</defs>\n<path clip-path=\"url(#clip3300)\" d=\"\nM0 1600 L3600 1600 L3600 0 L0 0  Z\n  \" fill=\"#ffffff\" fill-rule=\"evenodd\" fill-opacity=\"1\"/>\n<defs>\n  <clipPath id=\"clip3301\">\n    <rect x=\"720\" y=\"0\" width=\"2521\" height=\"1600\"/>\n  </clipPath>\n</defs>\n<path clip-path=\"url(#clip3300)\" d=\"\nM225.766 1498.65 L3552.76 1498.65 L3552.76 102.114 L225.766 102.114  Z\n  \" fill=\"#ffffff\" fill-rule=\"evenodd\" fill-opacity=\"1\"/>\n<defs>\n  <clipPath id=\"clip3302\">\n    <rect x=\"225\" y=\"102\" width=\"3328\" height=\"1398\"/>\n  </clipPath>\n</defs>\n<polyline clip-path=\"url(#clip3302)\" style=\"stroke:#000000; stroke-width:2; stroke-opacity:0.1; fill:none\" points=\"\n  416.483,1498.65 416.483,102.114 \n  \"/>\n<polyline clip-path=\"url(#clip3302)\" style=\"stroke:#000000; stroke-width:2; stroke-opacity:0.1; fill:none\" points=\"\n  941.907,1498.65 941.907,102.114 \n  \"/>\n<polyline clip-path=\"url(#clip3302)\" style=\"stroke:#000000; stroke-width:2; stroke-opacity:0.1; fill:none\" points=\"\n  1467.33,1498.65 1467.33,102.114 \n  \"/>\n<polyline clip-path=\"url(#clip3302)\" style=\"stroke:#000000; stroke-width:2; stroke-opacity:0.1; fill:none\" points=\"\n  1992.75,1498.65 1992.75,102.114 \n  \"/>\n<polyline clip-path=\"url(#clip3302)\" style=\"stroke:#000000; stroke-width:2; stroke-opacity:0.1; fill:none\" points=\"\n  2518.18,1498.65 2518.18,102.114 \n  \"/>\n<polyline clip-path=\"url(#clip3302)\" style=\"stroke:#000000; stroke-width:2; stroke-opacity:0.1; fill:none\" points=\"\n  3043.6,1498.65 3043.6,102.114 \n  \"/>\n<polyline clip-path=\"url(#clip3302)\" style=\"stroke:#000000; stroke-width:2; stroke-opacity:0.1; fill:none\" points=\"\n  225.766,1459.13 3552.76,1459.13 \n  \"/>\n<polyline clip-path=\"url(#clip3302)\" style=\"stroke:#000000; stroke-width:2; stroke-opacity:0.1; fill:none\" points=\"\n  225.766,1254.55 3552.76,1254.55 \n  \"/>\n<polyline clip-path=\"url(#clip3302)\" style=\"stroke:#000000; stroke-width:2; stroke-opacity:0.1; fill:none\" points=\"\n  225.766,1049.97 3552.76,1049.97 \n  \"/>\n<polyline clip-path=\"url(#clip3302)\" style=\"stroke:#000000; stroke-width:2; stroke-opacity:0.1; fill:none\" points=\"\n  225.766,845.391 3552.76,845.391 \n  \"/>\n<polyline clip-path=\"url(#clip3302)\" style=\"stroke:#000000; stroke-width:2; stroke-opacity:0.1; fill:none\" points=\"\n  225.766,640.812 3552.76,640.812 \n  \"/>\n<polyline clip-path=\"url(#clip3302)\" style=\"stroke:#000000; stroke-width:2; stroke-opacity:0.1; fill:none\" points=\"\n  225.766,436.233 3552.76,436.233 \n  \"/>\n<polyline clip-path=\"url(#clip3302)\" style=\"stroke:#000000; stroke-width:2; stroke-opacity:0.1; fill:none\" points=\"\n  225.766,231.654 3552.76,231.654 \n  \"/>\n<polyline clip-path=\"url(#clip3300)\" style=\"stroke:#000000; stroke-width:4; stroke-opacity:1; fill:none\" points=\"\n  225.766,1498.65 3552.76,1498.65 \n  \"/>\n<polyline clip-path=\"url(#clip3300)\" style=\"stroke:#000000; stroke-width:4; stroke-opacity:1; fill:none\" points=\"\n  225.766,1498.65 225.766,102.114 \n  \"/>\n<polyline clip-path=\"url(#clip3300)\" style=\"stroke:#000000; stroke-width:4; stroke-opacity:1; fill:none\" points=\"\n  416.483,1498.65 416.483,1481.89 \n  \"/>\n<polyline clip-path=\"url(#clip3300)\" style=\"stroke:#000000; stroke-width:4; stroke-opacity:1; fill:none\" points=\"\n  941.907,1498.65 941.907,1481.89 \n  \"/>\n<polyline clip-path=\"url(#clip3300)\" style=\"stroke:#000000; stroke-width:4; stroke-opacity:1; fill:none\" points=\"\n  1467.33,1498.65 1467.33,1481.89 \n  \"/>\n<polyline clip-path=\"url(#clip3300)\" style=\"stroke:#000000; stroke-width:4; stroke-opacity:1; fill:none\" points=\"\n  1992.75,1498.65 1992.75,1481.89 \n  \"/>\n<polyline clip-path=\"url(#clip3300)\" style=\"stroke:#000000; stroke-width:4; stroke-opacity:1; fill:none\" points=\"\n  2518.18,1498.65 2518.18,1481.89 \n  \"/>\n<polyline clip-path=\"url(#clip3300)\" style=\"stroke:#000000; stroke-width:4; stroke-opacity:1; fill:none\" points=\"\n  3043.6,1498.65 3043.6,1481.89 \n  \"/>\n<polyline clip-path=\"url(#clip3300)\" style=\"stroke:#000000; stroke-width:4; stroke-opacity:1; fill:none\" points=\"\n  225.766,1459.13 265.69,1459.13 \n  \"/>\n<polyline clip-path=\"url(#clip3300)\" style=\"stroke:#000000; stroke-width:4; stroke-opacity:1; fill:none\" points=\"\n  225.766,1254.55 265.69,1254.55 \n  \"/>\n<polyline clip-path=\"url(#clip3300)\" style=\"stroke:#000000; stroke-width:4; stroke-opacity:1; fill:none\" points=\"\n  225.766,1049.97 265.69,1049.97 \n  \"/>\n<polyline clip-path=\"url(#clip3300)\" style=\"stroke:#000000; stroke-width:4; stroke-opacity:1; fill:none\" points=\"\n  225.766,845.391 265.69,845.391 \n  \"/>\n<polyline clip-path=\"url(#clip3300)\" style=\"stroke:#000000; stroke-width:4; stroke-opacity:1; fill:none\" points=\"\n  225.766,640.812 265.69,640.812 \n  \"/>\n<polyline clip-path=\"url(#clip3300)\" style=\"stroke:#000000; stroke-width:4; stroke-opacity:1; fill:none\" points=\"\n  225.766,436.233 265.69,436.233 \n  \"/>\n<polyline clip-path=\"url(#clip3300)\" style=\"stroke:#000000; stroke-width:4; stroke-opacity:1; fill:none\" points=\"\n  225.766,231.654 265.69,231.654 \n  \"/>\n<g clip-path=\"url(#clip3300)\">\n<text style=\"fill:#000000; fill-opacity:1; font-family:Arial,Helvetica Neue,Helvetica,sans-serif; font-size:48px; text-anchor:middle;\" transform=\"rotate(0, 416.483, 1558.65)\" x=\"416.483\" y=\"1558.65\">0.0</text>\n</g>\n<g clip-path=\"url(#clip3300)\">\n<text style=\"fill:#000000; fill-opacity:1; font-family:Arial,Helvetica Neue,Helvetica,sans-serif; font-size:48px; text-anchor:middle;\" transform=\"rotate(0, 941.907, 1558.65)\" x=\"941.907\" y=\"1558.65\">0.1</text>\n</g>\n<g clip-path=\"url(#clip3300)\">\n<text style=\"fill:#000000; fill-opacity:1; font-family:Arial,Helvetica Neue,Helvetica,sans-serif; font-size:48px; text-anchor:middle;\" transform=\"rotate(0, 1467.33, 1558.65)\" x=\"1467.33\" y=\"1558.65\">0.2</text>\n</g>\n<g clip-path=\"url(#clip3300)\">\n<text style=\"fill:#000000; fill-opacity:1; font-family:Arial,Helvetica Neue,Helvetica,sans-serif; font-size:48px; text-anchor:middle;\" transform=\"rotate(0, 1992.75, 1558.65)\" x=\"1992.75\" y=\"1558.65\">0.3</text>\n</g>\n<g clip-path=\"url(#clip3300)\">\n<text style=\"fill:#000000; fill-opacity:1; font-family:Arial,Helvetica Neue,Helvetica,sans-serif; font-size:48px; text-anchor:middle;\" transform=\"rotate(0, 2518.18, 1558.65)\" x=\"2518.18\" y=\"1558.65\">0.4</text>\n</g>\n<g clip-path=\"url(#clip3300)\">\n<text style=\"fill:#000000; fill-opacity:1; font-family:Arial,Helvetica Neue,Helvetica,sans-serif; font-size:48px; text-anchor:middle;\" transform=\"rotate(0, 3043.6, 1558.65)\" x=\"3043.6\" y=\"1558.65\">0.5</text>\n</g>\n<g clip-path=\"url(#clip3300)\">\n<text style=\"fill:#000000; fill-opacity:1; font-family:Arial,Helvetica Neue,Helvetica,sans-serif; font-size:48px; text-anchor:end;\" transform=\"rotate(0, 189.766, 1476.63)\" x=\"189.766\" y=\"1476.63\">0</text>\n</g>\n<g clip-path=\"url(#clip3300)\">\n<text style=\"fill:#000000; fill-opacity:1; font-family:Arial,Helvetica Neue,Helvetica,sans-serif; font-size:48px; text-anchor:end;\" transform=\"rotate(0, 189.766, 1272.05)\" x=\"189.766\" y=\"1272.05\">100</text>\n</g>\n<g clip-path=\"url(#clip3300)\">\n<text style=\"fill:#000000; fill-opacity:1; font-family:Arial,Helvetica Neue,Helvetica,sans-serif; font-size:48px; text-anchor:end;\" transform=\"rotate(0, 189.766, 1067.47)\" x=\"189.766\" y=\"1067.47\">200</text>\n</g>\n<g clip-path=\"url(#clip3300)\">\n<text style=\"fill:#000000; fill-opacity:1; font-family:Arial,Helvetica Neue,Helvetica,sans-serif; font-size:48px; text-anchor:end;\" transform=\"rotate(0, 189.766, 862.891)\" x=\"189.766\" y=\"862.891\">300</text>\n</g>\n<g clip-path=\"url(#clip3300)\">\n<text style=\"fill:#000000; fill-opacity:1; font-family:Arial,Helvetica Neue,Helvetica,sans-serif; font-size:48px; text-anchor:end;\" transform=\"rotate(0, 189.766, 658.312)\" x=\"189.766\" y=\"658.312\">400</text>\n</g>\n<g clip-path=\"url(#clip3300)\">\n<text style=\"fill:#000000; fill-opacity:1; font-family:Arial,Helvetica Neue,Helvetica,sans-serif; font-size:48px; text-anchor:end;\" transform=\"rotate(0, 189.766, 453.733)\" x=\"189.766\" y=\"453.733\">500</text>\n</g>\n<g clip-path=\"url(#clip3300)\">\n<text style=\"fill:#000000; fill-opacity:1; font-family:Arial,Helvetica Neue,Helvetica,sans-serif; font-size:48px; text-anchor:end;\" transform=\"rotate(0, 189.766, 249.154)\" x=\"189.766\" y=\"249.154\">600</text>\n</g>\n<g clip-path=\"url(#clip3300)\">\n<text style=\"fill:#000000; fill-opacity:1; font-family:Arial,Helvetica Neue,Helvetica,sans-serif; font-size:82px; text-anchor:middle;\" transform=\"rotate(0, 1889.26, 72)\" x=\"1889.26\" y=\"72\"># Analogies Accuracy</text>\n</g>\n<g clip-path=\"url(#clip3300)\">\n<text style=\"fill:#000000; fill-opacity:1; font-family:Arial,Helvetica Neue,Helvetica,sans-serif; font-size:66px; text-anchor:middle;\" transform=\"rotate(-90, 61.9168, 800.383)\" x=\"61.9168\" y=\"800.383\">Incorrect</text>\n</g>\n<path clip-path=\"url(#clip3302)\" d=\"\nM2340.46 1107.25 L2340.46 1459.13 L2355.91 1459.13 L2355.91 1107.25 L2340.46 1107.25 L2340.46 1107.25  Z\n  \" fill=\"#009af9\" fill-rule=\"evenodd\" fill-opacity=\"1\"/>\n<polyline clip-path=\"url(#clip3302)\" style=\"stroke:#000000; stroke-width:4; stroke-opacity:1; fill:none\" points=\"\n  2340.46,1107.25 2340.46,1459.13 2355.91,1459.13 2355.91,1107.25 2340.46,1107.25 \n  \"/>\n<path clip-path=\"url(#clip3302)\" d=\"\nM3354.31 1340.47 L3354.31 1459.13 L3369.77 1459.13 L3369.77 1340.47 L3354.31 1340.47 L3354.31 1340.47  Z\n  \" fill=\"#009af9\" fill-rule=\"evenodd\" fill-opacity=\"1\"/>\n<polyline clip-path=\"url(#clip3302)\" style=\"stroke:#000000; stroke-width:4; stroke-opacity:1; fill:none\" points=\"\n  3354.31,1340.47 3354.31,1459.13 3369.77,1459.13 3369.77,1340.47 3354.31,1340.47 \n  \"/>\n<path clip-path=\"url(#clip3302)\" d=\"\nM2891.43 831.07 L2891.43 1459.13 L2906.88 1459.13 L2906.88 831.07 L2891.43 831.07 L2891.43 831.07  Z\n  \" fill=\"#009af9\" fill-rule=\"evenodd\" fill-opacity=\"1\"/>\n<polyline clip-path=\"url(#clip3302)\" style=\"stroke:#000000; stroke-width:4; stroke-opacity:1; fill:none\" points=\"\n  2891.43,831.07 2891.43,1459.13 2906.88,1459.13 2906.88,831.07 2891.43,831.07 \n  \"/>\n<path clip-path=\"url(#clip3302)\" d=\"\nM795.097 1330.24 L795.097 1459.13 L810.551 1459.13 L810.551 1330.24 L795.097 1330.24 L795.097 1330.24  Z\n  \" fill=\"#009af9\" fill-rule=\"evenodd\" fill-opacity=\"1\"/>\n<polyline clip-path=\"url(#clip3302)\" style=\"stroke:#000000; stroke-width:4; stroke-opacity:1; fill:none\" points=\"\n  795.097,1330.24 795.097,1459.13 810.551,1459.13 810.551,1330.24 795.097,1330.24 \n  \"/>\n<path clip-path=\"url(#clip3302)\" d=\"\nM658.958 1377.3 L658.958 1459.13 L674.412 1459.13 L674.412 1377.3 L658.958 1377.3 L658.958 1377.3  Z\n  \" fill=\"#009af9\" fill-rule=\"evenodd\" fill-opacity=\"1\"/>\n<polyline clip-path=\"url(#clip3302)\" style=\"stroke:#000000; stroke-width:4; stroke-opacity:1; fill:none\" points=\"\n  658.958,1377.3 658.958,1459.13 674.412,1459.13 674.412,1377.3 658.958,1377.3 \n  \"/>\n<path clip-path=\"url(#clip3302)\" d=\"\nM433.776 1031.56 L433.776 1459.13 L449.23 1459.13 L449.23 1031.56 L433.776 1031.56 L433.776 1031.56  Z\n  \" fill=\"#009af9\" fill-rule=\"evenodd\" fill-opacity=\"1\"/>\n<polyline clip-path=\"url(#clip3302)\" style=\"stroke:#000000; stroke-width:4; stroke-opacity:1; fill:none\" points=\"\n  433.776,1031.56 433.776,1459.13 449.23,1459.13 449.23,1031.56 433.776,1031.56 \n  \"/>\n<path clip-path=\"url(#clip3302)\" d=\"\nM784.059 1379.34 L784.059 1459.13 L799.512 1459.13 L799.512 1379.34 L784.059 1379.34 L784.059 1379.34  Z\n  \" fill=\"#009af9\" fill-rule=\"evenodd\" fill-opacity=\"1\"/>\n<polyline clip-path=\"url(#clip3302)\" style=\"stroke:#000000; stroke-width:4; stroke-opacity:1; fill:none\" points=\"\n  784.059,1379.34 784.059,1459.13 799.512,1459.13 799.512,1379.34 784.059,1379.34 \n  \"/>\n<path clip-path=\"url(#clip3302)\" d=\"\nM418.275 331.897 L418.275 1459.13 L433.728 1459.13 L433.728 331.897 L418.275 331.897 L418.275 331.897  Z\n  \" fill=\"#009af9\" fill-rule=\"evenodd\" fill-opacity=\"1\"/>\n<polyline clip-path=\"url(#clip3302)\" style=\"stroke:#000000; stroke-width:4; stroke-opacity:1; fill:none\" points=\"\n  418.275,331.897 418.275,1459.13 433.728,1459.13 433.728,331.897 418.275,331.897 \n  \"/>\n<path clip-path=\"url(#clip3302)\" d=\"\nM408.756 1086.79 L408.756 1459.13 L424.21 1459.13 L424.21 1086.79 L408.756 1086.79 L408.756 1086.79  Z\n  \" fill=\"#009af9\" fill-rule=\"evenodd\" fill-opacity=\"1\"/>\n<polyline clip-path=\"url(#clip3302)\" style=\"stroke:#000000; stroke-width:4; stroke-opacity:1; fill:none\" points=\"\n  408.756,1086.79 408.756,1459.13 424.21,1459.13 424.21,1086.79 408.756,1086.79 \n  \"/>\n<path clip-path=\"url(#clip3302)\" d=\"\nM458.797 608.079 L458.797 1459.13 L474.25 1459.13 L474.25 608.079 L458.797 608.079 L458.797 608.079  Z\n  \" fill=\"#009af9\" fill-rule=\"evenodd\" fill-opacity=\"1\"/>\n<polyline clip-path=\"url(#clip3302)\" style=\"stroke:#000000; stroke-width:4; stroke-opacity:1; fill:none\" points=\"\n  458.797,608.079 458.797,1459.13 474.25,1459.13 474.25,608.079 458.797,608.079 \n  \"/>\n<path clip-path=\"url(#clip3302)\" d=\"\nM1236.87 507.835 L1236.87 1459.13 L1252.32 1459.13 L1252.32 507.835 L1236.87 507.835 L1236.87 507.835  Z\n  \" fill=\"#009af9\" fill-rule=\"evenodd\" fill-opacity=\"1\"/>\n<polyline clip-path=\"url(#clip3302)\" style=\"stroke:#000000; stroke-width:4; stroke-opacity:1; fill:none\" points=\"\n  1236.87,507.835 1236.87,1459.13 1252.32,1459.13 1252.32,507.835 1236.87,507.835 \n  \"/>\n<path clip-path=\"url(#clip3302)\" d=\"\nM457.257 141.639 L457.257 1459.13 L472.711 1459.13 L472.711 141.639 L457.257 141.639 L457.257 141.639  Z\n  \" fill=\"#009af9\" fill-rule=\"evenodd\" fill-opacity=\"1\"/>\n<polyline clip-path=\"url(#clip3302)\" style=\"stroke:#000000; stroke-width:4; stroke-opacity:1; fill:none\" points=\"\n  457.257,141.639 457.257,1459.13 472.711,1459.13 472.711,141.639 457.257,141.639 \n  \"/>\n<path clip-path=\"url(#clip3302)\" d=\"\nM408.756 1189.08 L408.756 1459.13 L424.21 1459.13 L424.21 1189.08 L408.756 1189.08 L408.756 1189.08  Z\n  \" fill=\"#009af9\" fill-rule=\"evenodd\" fill-opacity=\"1\"/>\n<polyline clip-path=\"url(#clip3302)\" style=\"stroke:#000000; stroke-width:4; stroke-opacity:1; fill:none\" points=\"\n  408.756,1189.08 408.756,1459.13 424.21,1459.13 424.21,1189.08 408.756,1189.08 \n  \"/>\n<path clip-path=\"url(#clip3302)\" d=\"\nM428.073 904.719 L428.073 1459.13 L443.527 1459.13 L443.527 904.719 L428.073 904.719 L428.073 904.719  Z\n  \" fill=\"#009af9\" fill-rule=\"evenodd\" fill-opacity=\"1\"/>\n<polyline clip-path=\"url(#clip3302)\" style=\"stroke:#000000; stroke-width:4; stroke-opacity:1; fill:none\" points=\"\n  428.073,904.719 428.073,1459.13 443.527,1459.13 443.527,904.719 428.073,904.719 \n  \"/>\n<path clip-path=\"url(#clip3300)\" d=\"\nM3033.93 378.594 L3444.76 378.594 L3444.76 257.634 L3033.93 257.634  Z\n  \" fill=\"#ffffff\" fill-rule=\"evenodd\" fill-opacity=\"1\"/>\n<polyline clip-path=\"url(#clip3300)\" style=\"stroke:#000000; stroke-width:4; stroke-opacity:1; fill:none\" points=\"\n  3033.93,378.594 3444.76,378.594 3444.76,257.634 3033.93,257.634 3033.93,378.594 \n  \"/>\n<path clip-path=\"url(#clip3300)\" d=\"\nM3069.93 342.306 L3285.93 342.306 L3285.93 293.922 L3069.93 293.922 L3069.93 342.306  Z\n  \" fill=\"#009af9\" fill-rule=\"evenodd\" fill-opacity=\"1\"/>\n<polyline clip-path=\"url(#clip3300)\" style=\"stroke:#000000; stroke-width:4; stroke-opacity:1; fill:none\" points=\"\n  3069.93,342.306 3285.93,342.306 3285.93,293.922 3069.93,293.922 3069.93,342.306 \n  \"/>\n<g clip-path=\"url(#clip3300)\">\n<text style=\"fill:#000000; fill-opacity:1; font-family:Arial,Helvetica Neue,Helvetica,sans-serif; font-size:48px; text-anchor:start;\" transform=\"rotate(0, 3321.93, 335.614)\" x=\"3321.93\" y=\"335.614\">y1</text>\n</g>\n</svg>\n"
     },
     "execution_count": 87,
     "metadata": {},
     "output_type": "execute_result"
    }
   ],
   "source": [
    "bar(results[:Average], results[\"Incorrect\"])\n",
    "plot!(size=(900, 400))\n",
    "ylabel!(\"Incorrect\")\n",
    "title!(\"# Analogies Accuracy\")"
   ]
  },
  {
   "cell_type": "code",
   "execution_count": 78,
   "metadata": {
    "ExecuteTime": {
     "end_time": "2020-03-12T16:27:29.792404Z",
     "start_time": "2020-03-12T16:27:23.478917Z"
    }
   },
   "outputs": [
    {
     "data": {
      "text/plain": [
       "43285-element Vector{Pair{Any, Any}}:\n",
       "         \"said\" => 62486\n",
       "      \"company\" => 42908\n",
       "         \"year\" => 31432\n",
       "      \"percent\" => 31189\n",
       "          \"new\" => 30009\n",
       "      \"reuters\" => 29705\n",
       "    \"president\" => 19066\n",
       "       \"market\" => 18433\n",
       "    \"financial\" => 18110\n",
       "     \"business\" => 18043\n",
       "      \"million\" => 17564\n",
       "        \"trump\" => 15805\n",
       "    \"including\" => 14762\n",
       "                ⋮\n",
       "       \"donato\" => 1\n",
       " \"unassumingly\" => 1\n",
       "     \"grieving\" => 1\n",
       "    \"hindrance\" => 1\n",
       "   \"culbertson\" => 1\n",
       "       \"sahara\" => 1\n",
       "  \"calibrating\" => 1\n",
       "    \"socialism\" => 1\n",
       "   \"shortlived\" => 1\n",
       "    \"biovitrum\" => 1\n",
       "    \"punctured\" => 1\n",
       "       \"paltry\" => 1"
      ]
     },
     "execution_count": 78,
     "metadata": {},
     "output_type": "execute_result"
    }
   ],
   "source": [
    "counter = Dict()\n",
    "open(sentence_path, \"r\") do file\n",
    "    for line ∈ readlines(file)\n",
    "        addcounts!(counter, split(line))\n",
    "    end\n",
    "end\n",
    "counter = sort(collect(counter), by=x->x[2], rev=true)"
   ]
  },
  {
   "cell_type": "code",
   "execution_count": 79,
   "metadata": {
    "ExecuteTime": {
     "end_time": "2020-03-12T16:27:29.982268Z",
     "start_time": "2020-03-12T16:27:29.793274Z"
    }
   },
   "outputs": [
    {
     "data": {
      "text/html": [
       "<table class=\"data-frame\"><thead><tr><th></th><th>token</th><th>count</th><th>p</th></tr><tr><th></th><th>SubStri…</th><th>Int64</th><th>Float64</th></tr></thead><tbody><p>7,436 rows × 3 columns</p><tr><th>1</th><td>said</td><td>62486</td><td>0.000252494</td></tr><tr><th>2</th><td>company</td><td>42908</td><td>0.000243899</td></tr><tr><th>3</th><td>year</td><td>31432</td><td>0.000236783</td></tr><tr><th>4</th><td>percent</td><td>31189</td><td>0.000236605</td></tr><tr><th>5</th><td>new</td><td>30009</td><td>0.000235723</td></tr><tr><th>6</th><td>reuters</td><td>29705</td><td>0.000235491</td></tr><tr><th>7</th><td>president</td><td>19066</td><td>0.000225352</td></tr><tr><th>8</th><td>market</td><td>18433</td><td>0.00022458</td></tr><tr><th>9</th><td>financial</td><td>18110</td><td>0.000224176</td></tr><tr><th>10</th><td>business</td><td>18043</td><td>0.000224091</td></tr><tr><th>11</th><td>million</td><td>17564</td><td>0.000223476</td></tr><tr><th>12</th><td>trump</td><td>15805</td><td>0.000221063</td></tr><tr><th>13</th><td>including</td><td>14762</td><td>0.000219502</td></tr><tr><th>14</th><td>statements</td><td>13948</td><td>0.000218205</td></tr><tr><th>15</th><td>time</td><td>13882</td><td>0.000218097</td></tr><tr><th>16</th><td>billion</td><td>13472</td><td>0.000217411</td></tr><tr><th>17</th><td>inc</td><td>13117</td><td>0.0002168</td></tr><tr><th>18</th><td>source</td><td>12882</td><td>0.000216387</td></tr><tr><th>19</th><td>jan</td><td>12427</td><td>0.000215565</td></tr><tr><th>20</th><td>ago</td><td>12349</td><td>0.000215421</td></tr><tr><th>21</th><td>years</td><td>12057</td><td>0.000214874</td></tr><tr><th>22</th><td>people</td><td>12001</td><td>0.000214767</td></tr><tr><th>23</th><td>services</td><td>11745</td><td>0.000214274</td></tr><tr><th>24</th><td>tax</td><td>11696</td><td>0.000214179</td></tr><tr><th>25</th><td>government</td><td>11633</td><td>0.000214055</td></tr><tr><th>26</th><td>forward</td><td>11629</td><td>0.000214047</td></tr><tr><th>27</th><td>looking</td><td>11485</td><td>0.000213762</td></tr><tr><th>28</th><td>growth</td><td>11342</td><td>0.000213476</td></tr><tr><th>29</th><td>group</td><td>11194</td><td>0.000213176</td></tr><tr><th>30</th><td>companies</td><td>11108</td><td>0.000212999</td></tr><tr><th>&vellip;</th><td>&vellip;</td><td>&vellip;</td><td>&vellip;</td></tr></tbody></table>"
      ],
      "text/latex": [
       "\\begin{tabular}{r|ccc}\n",
       "\t& token & count & p\\\\\n",
       "\t\\hline\n",
       "\t& SubStri… & Int64 & Float64\\\\\n",
       "\t\\hline\n",
       "\t1 & said & 62486 & 0.000252494 \\\\\n",
       "\t2 & company & 42908 & 0.000243899 \\\\\n",
       "\t3 & year & 31432 & 0.000236783 \\\\\n",
       "\t4 & percent & 31189 & 0.000236605 \\\\\n",
       "\t5 & new & 30009 & 0.000235723 \\\\\n",
       "\t6 & reuters & 29705 & 0.000235491 \\\\\n",
       "\t7 & president & 19066 & 0.000225352 \\\\\n",
       "\t8 & market & 18433 & 0.00022458 \\\\\n",
       "\t9 & financial & 18110 & 0.000224176 \\\\\n",
       "\t10 & business & 18043 & 0.000224091 \\\\\n",
       "\t11 & million & 17564 & 0.000223476 \\\\\n",
       "\t12 & trump & 15805 & 0.000221063 \\\\\n",
       "\t13 & including & 14762 & 0.000219502 \\\\\n",
       "\t14 & statements & 13948 & 0.000218205 \\\\\n",
       "\t15 & time & 13882 & 0.000218097 \\\\\n",
       "\t16 & billion & 13472 & 0.000217411 \\\\\n",
       "\t17 & inc & 13117 & 0.0002168 \\\\\n",
       "\t18 & source & 12882 & 0.000216387 \\\\\n",
       "\t19 & jan & 12427 & 0.000215565 \\\\\n",
       "\t20 & ago & 12349 & 0.000215421 \\\\\n",
       "\t21 & years & 12057 & 0.000214874 \\\\\n",
       "\t22 & people & 12001 & 0.000214767 \\\\\n",
       "\t23 & services & 11745 & 0.000214274 \\\\\n",
       "\t24 & tax & 11696 & 0.000214179 \\\\\n",
       "\t25 & government & 11633 & 0.000214055 \\\\\n",
       "\t26 & forward & 11629 & 0.000214047 \\\\\n",
       "\t27 & looking & 11485 & 0.000213762 \\\\\n",
       "\t28 & growth & 11342 & 0.000213476 \\\\\n",
       "\t29 & group & 11194 & 0.000213176 \\\\\n",
       "\t30 & companies & 11108 & 0.000212999 \\\\\n",
       "\t$\\dots$ & $\\dots$ & $\\dots$ & $\\dots$ \\\\\n",
       "\\end{tabular}\n"
      ],
      "text/plain": [
       "7436×3 DataFrame\n",
       "│ Row  │ token     │ count │ p           │\n",
       "│      │ \u001b[90mSubStrin…\u001b[39m │ \u001b[90mInt64\u001b[39m │ \u001b[90mFloat64\u001b[39m     │\n",
       "├──────┼───────────┼───────┼─────────────┤\n",
       "│ 1    │ said      │ 62486 │ 0.000252494 │\n",
       "│ 2    │ company   │ 42908 │ 0.000243899 │\n",
       "│ 3    │ year      │ 31432 │ 0.000236783 │\n",
       "│ 4    │ percent   │ 31189 │ 0.000236605 │\n",
       "│ 5    │ new       │ 30009 │ 0.000235723 │\n",
       "│ 6    │ reuters   │ 29705 │ 0.000235491 │\n",
       "│ 7    │ president │ 19066 │ 0.000225352 │\n",
       "│ 8    │ market    │ 18433 │ 0.00022458  │\n",
       "│ 9    │ financial │ 18110 │ 0.000224176 │\n",
       "│ 10   │ business  │ 18043 │ 0.000224091 │\n",
       "⋮\n",
       "│ 7426 │ existence │ 101   │ 0.000105526 │\n",
       "│ 7427 │ cst       │ 101   │ 0.000105526 │\n",
       "│ 7428 │ aon       │ 101   │ 0.000105526 │\n",
       "│ 7429 │ graff     │ 101   │ 0.000105526 │\n",
       "│ 7430 │ liquids   │ 101   │ 0.000105526 │\n",
       "│ 7431 │ dax       │ 101   │ 0.000105526 │\n",
       "│ 7432 │ dairy     │ 101   │ 0.000105526 │\n",
       "│ 7433 │ baseline  │ 101   │ 0.000105526 │\n",
       "│ 7434 │ issuers   │ 101   │ 0.000105526 │\n",
       "│ 7435 │ occupy    │ 101   │ 0.000105526 │\n",
       "│ 7436 │ variable  │ 101   │ 0.000105526 │"
      ]
     },
     "execution_count": 79,
     "metadata": {},
     "output_type": "execute_result"
    }
   ],
   "source": [
    "most_common = DataFrame(token = [pair[1] for pair in counter], count=[pair[2] for pair in counter])\n",
    "most_common = filter(row -> row.count > MIN_FREQ, most_common)\n",
    "most_common[!, \"p\"] = log.(most_common[\"count\"])./sum(log.(most_common[\"count\"]))\n",
    "most_common"
   ]
  },
  {
   "cell_type": "code",
   "execution_count": 80,
   "metadata": {
    "ExecuteTime": {
     "end_time": "2020-03-12T17:06:47.230838Z",
     "start_time": "2020-03-12T17:06:47.199066Z"
    },
    "slideshow": {
     "slide_type": "slide"
    }
   },
   "outputs": [
    {
     "data": {
      "text/html": [
       "<table class=\"data-frame\"><thead><tr><th></th><th>token</th><th>1</th><th>2</th><th>3</th><th>4</th><th>5</th><th>6</th></tr><tr><th></th><th>String</th><th>String</th><th>String</th><th>String</th><th>String</th><th>String</th><th>String</th></tr></thead><tbody><p>10 rows × 11 columns (omitted printing of 4 columns)</p><tr><th>1</th><td>greater</td><td>risk</td><td>long</td><td>china</td><td>compared</td><td>increase</td><td>placebo</td></tr><tr><th>2</th><td>tm</td><td>actinium</td><td>innovative</td><td>tumors</td><td>clinical</td><td>technologies</td><td>treat</td></tr><tr><th>3</th><td>jessica</td><td>henning</td><td>sandra</td><td>gloystein</td><td>shounak</td><td>contact</td><td>shankar</td></tr><tr><th>4</th><td>cos</td><td>kushner</td><td>cooperating</td><td>disclosure</td><td>visas</td><td>journal</td><td>jared</td></tr><tr><th>5</th><td>lawyer</td><td>court</td><td>atilla</td><td>orsted</td><td>constitutional</td><td>vu</td><td>comment</td></tr><tr><th>6</th><td>matters</td><td>historical</td><td>materially</td><td>litigation</td><td>actual</td><td>herein</td><td>differ</td></tr><tr><th>7</th><td>emma</td><td>rican</td><td>martin</td><td>costa</td><td>heather</td><td>edward</td><td>pilots</td></tr><tr><th>8</th><td>frequent</td><td>supermarkets</td><td>extreme</td><td>wildfires</td><td>warming</td><td>flake</td><td>trigger</td></tr><tr><th>9</th><td>realty</td><td>trust</td><td>properties</td><td>estate</td><td>reit</td><td>nyse</td><td>real</td></tr><tr><th>10</th><td>serving</td><td>vice</td><td>chairman</td><td>mr</td><td>served</td><td>management</td><td>worked</td></tr></tbody></table>"
      ],
      "text/latex": [
       "\\begin{tabular}{r|cccccccc}\n",
       "\t& token & 1 & 2 & 3 & 4 & 5 & 6 & \\\\\n",
       "\t\\hline\n",
       "\t& String & String & String & String & String & String & String & \\\\\n",
       "\t\\hline\n",
       "\t1 & greater & risk & long & china & compared & increase & placebo & $\\dots$ \\\\\n",
       "\t2 & tm & actinium & innovative & tumors & clinical & technologies & treat & $\\dots$ \\\\\n",
       "\t3 & jessica & henning & sandra & gloystein & shounak & contact & shankar & $\\dots$ \\\\\n",
       "\t4 & cos & kushner & cooperating & disclosure & visas & journal & jared & $\\dots$ \\\\\n",
       "\t5 & lawyer & court & atilla & orsted & constitutional & vu & comment & $\\dots$ \\\\\n",
       "\t6 & matters & historical & materially & litigation & actual & herein & differ & $\\dots$ \\\\\n",
       "\t7 & emma & rican & martin & costa & heather & edward & pilots & $\\dots$ \\\\\n",
       "\t8 & frequent & supermarkets & extreme & wildfires & warming & flake & trigger & $\\dots$ \\\\\n",
       "\t9 & realty & trust & properties & estate & reit & nyse & real & $\\dots$ \\\\\n",
       "\t10 & serving & vice & chairman & mr & served & management & worked & $\\dots$ \\\\\n",
       "\\end{tabular}\n"
      ],
      "text/plain": [
       "10×11 DataFrame. Omitted printing of 6 columns\n",
       "│ Row │ token    │ 1            │ 2           │ 3          │ 4              │\n",
       "│     │ \u001b[90mString\u001b[39m   │ \u001b[90mString\u001b[39m       │ \u001b[90mString\u001b[39m      │ \u001b[90mString\u001b[39m     │ \u001b[90mString\u001b[39m         │\n",
       "├─────┼──────────┼──────────────┼─────────────┼────────────┼────────────────┤\n",
       "│ 1   │ greater  │ risk         │ long        │ china      │ compared       │\n",
       "│ 2   │ tm       │ actinium     │ innovative  │ tumors     │ clinical       │\n",
       "│ 3   │ jessica  │ henning      │ sandra      │ gloystein  │ shounak        │\n",
       "│ 4   │ cos      │ kushner      │ cooperating │ disclosure │ visas          │\n",
       "│ 5   │ lawyer   │ court        │ atilla      │ orsted     │ constitutional │\n",
       "│ 6   │ matters  │ historical   │ materially  │ litigation │ actual         │\n",
       "│ 7   │ emma     │ rican        │ martin      │ costa      │ heather        │\n",
       "│ 8   │ frequent │ supermarkets │ extreme     │ wildfires  │ warming        │\n",
       "│ 9   │ realty   │ trust        │ properties  │ estate     │ reit           │\n",
       "│ 10  │ serving  │ vice         │ chairman    │ mr         │ served         │"
      ]
     },
     "execution_count": 80,
     "metadata": {},
     "output_type": "execute_result"
    }
   ],
   "source": [
    "similars = DataFrame()\n",
    "for token in StatsBase.sample(most_common.token, Weights(most_common.p), 10)\n",
    "    similars[token] = [s[1] for s ∈ model.wv.most_similar(token)]\n",
    "end\n",
    "similars_T = DataFrame([[names(similars)]; collect.(eachrow(similars))], [:token; Symbol.(axes(similars, 1))])"
   ]
  },
  {
   "cell_type": "code",
   "execution_count": 82,
   "metadata": {
    "ExecuteTime": {
     "end_time": "2020-03-12T19:15:01.024387Z",
     "start_time": "2020-03-12T19:15:01.019332Z"
    }
   },
   "outputs": [
    {
     "data": {
      "text/plain": [
       "\"figures/most_similar.csv\""
      ]
     },
     "execution_count": 82,
     "metadata": {},
     "output_type": "execute_result"
    }
   ],
   "source": [
    "mkdir(\"figures\")\n",
    "CSV.write(\"figures/most_similar.csv\", similars_T[1:5, 1:5])"
   ]
  },
  {
   "cell_type": "markdown",
   "metadata": {},
   "source": [
    "## Resources\n",
    "\n",
    "- [Distributed representations of words and phrases and their compositionality](http://papers.nips.cc/paper/5021-distributed-representations-of-words-and-phrases-and-their-compositionality.pdf)\n",
    "- [Efficient estimation of word representations in vector space](https://arxiv.org/pdf/1301.3781.pdf?)\n",
    "- [Sebastian Ruder\"s Blog](http://ruder.io/word-embeddings-1/)"
   ]
  }
 ],
 "metadata": {
  "celltoolbar": "Slideshow",
  "kernelspec": {
   "display_name": "Julia 1.7.1",
   "language": "julia",
   "name": "julia-1.7"
  },
  "language_info": {
   "file_extension": ".jl",
   "mimetype": "application/julia",
   "name": "julia",
   "version": "1.7.1"
  },
  "toc": {
   "base_numbering": 1,
   "nav_menu": {},
   "number_sections": true,
   "sideBar": true,
   "skip_h1_title": true,
   "title_cell": "Table of Contents",
   "title_sidebar": "Contents",
   "toc_cell": false,
   "toc_position": {
    "height": "47px",
    "left": "38px",
    "right": "1340px",
    "top": "66.5px",
    "width": "362px"
   },
   "toc_section_display": true,
   "toc_window_display": true
  }
 },
 "nbformat": 4,
 "nbformat_minor": 4
}
